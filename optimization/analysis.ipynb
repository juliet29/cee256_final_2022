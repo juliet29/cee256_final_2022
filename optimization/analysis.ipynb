{
 "cells": [
  {
   "cell_type": "code",
   "execution_count": 1,
   "metadata": {},
   "outputs": [],
   "source": [
    "# analysis notebook \n",
    "\n",
    "# see opt_fun.py for how these are calculated \n",
    "# see the individual files for the data "
   ]
  },
  {
   "cell_type": "code",
   "execution_count": 2,
   "metadata": {},
   "outputs": [],
   "source": [
    "import pandas as pd\n",
    "import os\n",
    "import plotly.graph_objects as go\n",
    "import plotly.express as px\n",
    "from plotly.subplots import make_subplots\n",
    "from datetime import datetime\n",
    "from IPython.display import display\n",
    "import numpy as np"
   ]
  },
  {
   "cell_type": "code",
   "execution_count": 3,
   "metadata": {},
   "outputs": [],
   "source": [
    "from analysis_fun import *"
   ]
  },
  {
   "cell_type": "code",
   "execution_count": 4,
   "metadata": {},
   "outputs": [],
   "source": [
    "import chart_studio\n",
    "import chart_studio.plotly as py \n",
    "import chart_studio.tools as tls\n",
    "\n",
    "username = \"jnwagwu\"\n",
    "api_key = \"119wNvkoTSGwHIxORQ85\"\n",
    "\n",
    "chart_studio.tools.set_credentials_file(username=username, api_key=api_key)"
   ]
  },
  {
   "cell_type": "markdown",
   "metadata": {},
   "source": [
    "# Import Data"
   ]
  },
  {
   "cell_type": "code",
   "execution_count": 5,
   "metadata": {},
   "outputs": [],
   "source": [
    "def get_sub_dirs(path):\n",
    "    sub_dirs = [d for d in os.listdir(path) if os.path.isdir(os.path.join(path, d))]\n",
    "    return sub_dirs\n",
    "\n",
    "root_path = os.getcwd()\n",
    "opt_models_path= os.path.join(root_path,\"opt_models\")"
   ]
  },
  {
   "cell_type": "code",
   "execution_count": 6,
   "metadata": {},
   "outputs": [
    {
     "data": {
      "text/plain": [
       "['light_0',\n",
       " 'floor_2',\n",
       " 'roof_2',\n",
       " 'test_01',\n",
       " 'shgc_b1',\n",
       " 'window_u',\n",
       " 'wall_b1',\n",
       " 'floor_b1',\n",
       " 'daylight_0',\n",
       " 'roof_b1',\n",
       " 'equip_0',\n",
       " 'clgsetp_0',\n",
       " 'roof_0',\n",
       " 'htgsetp_0']"
      ]
     },
     "execution_count": 6,
     "metadata": {},
     "output_type": "execute_result"
    }
   ],
   "source": [
    "get_sub_dirs(opt_models_path)"
   ]
  },
  {
   "cell_type": "code",
   "execution_count": 7,
   "metadata": {},
   "outputs": [
    {
     "name": "stdout",
     "output_type": "stream",
     "text": [
      "10\n"
     ]
    }
   ],
   "source": [
    "group_models = {\n",
    "    \"SHGC_and_True_Exteriors\": [\"shgc_b1\", \"roof_b1\", \"wall_b1\", \"floor_b1\"],\n",
    "    \"Exteriors\": [\"wall_b1\", \"floor_2\", \"roof_0\"],\n",
    "    \"Exteriors and Windows\": [\"wall_b1\", \"floor_2\", \"roof_0\", \"window_u\", \"shgc_b1\"],\n",
    "    \"Windows\": [\"window_u\", \"shgc_b1\"],\n",
    "    \"Electric Interior Gains\": [\"light_0\", \"equip_0\"],\n",
    "    \"Setpoints\": [\"clgsetp_0\", \"htgsetp_0\"],\n",
    "    \"Daylight\": [\"daylight_0\"]\n",
    "\n",
    "}\n",
    "\n",
    "group_models[\"All\"] = group_models[\"Exteriors and Windows\"] + group_models[\"Electric Interior Gains\"] + group_models[\"Setpoints\"] + group_models[\"Daylight\"]\n",
    "print(len(group_models[\"All\"]))\n"
   ]
  },
  {
   "cell_type": "code",
   "execution_count": 8,
   "metadata": {},
   "outputs": [],
   "source": [
    "# labels \n",
    "labels = {\n",
    "    \"Wall R [ft2-ºF-hr/Btu]\" : \"wall\",\n",
    "    \"Floor R [ft2-ºF-hr/Btu]\": \"floor\",\n",
    "    \"Roof R [ft2-ºF-hr/Btu]\": \"roof\",\n",
    "    \"Window SHGC\": \"shgc\",\n",
    "    \"Window U-Factor [Btu/ft2-F-hr]\": \"window\",\n",
    "    \"Light Power Density [W/ft2]\": \"light\",\n",
    "    \"Equip. Power Density [W/ft2]\": \"equip\",\n",
    "    \"Heating Setp. [ºF]\": \"htgsetp\",\n",
    "    \"Cooling Setp. [ºF]\": \"clgsetp\",\n",
    "    \"Daylight Controls\": \"daylight\"\n",
    "\n",
    "}\n",
    "\n",
    "labels_no_units = {\n",
    "    \"Wall R\" : \"wall\",\n",
    "    \"Floor R\": \"floor\",\n",
    "    \"Roof R\": \"roof\",\n",
    "    \"Window SHGC\": \"shgc\",\n",
    "    \"Window U-Factor\": \"window\",\n",
    "    \"Light Power Density\": \"light\",\n",
    "    \"Equip. Power Density \": \"equip\",\n",
    "    \"Heating Setp.\": \"htgsetp\",\n",
    "    \"Cooling Setp.\": \"clgsetp\",\n",
    "    \"Daylight Controls\": \"daylight\"\n",
    "\n",
    "}\n",
    "\n",
    "labels_rev = {v: k for k,v in labels.items()}\n",
    "labels_nounits_rev = {v: k for k,v in labels_no_units.items()}\n",
    "# labels_rev"
   ]
  },
  {
   "cell_type": "code",
   "execution_count": 9,
   "metadata": {},
   "outputs": [],
   "source": [
    "# assign units \n",
    "groups  = {\n",
    "    \"r_val\": [\"wall\", \"floor\", \"roof\"],\n",
    "    \"u_val\": [\"window\"],\n",
    "    \"efficiency\": [\"light\", \"equip\"],\n",
    "    \"setp\": [\"setp\"],\n",
    "    \"none\": [\"shgc\", \"daylight\"]\n",
    "}\n",
    "\n",
    "units = {\n",
    "    \"u_val\": \"W/m2-K\",\n",
    "    \"r_val\": \"m2-K/W\",\n",
    "    \"efficiency\": \"W/m2\",\n",
    "    \"setp\": \"C\",\n",
    "    \"none\": \"\"\n",
    "}\n",
    "\n",
    "# https://betterhomesbc.ca/products/what-is-r-or-rsi-value/#:~:text=The%20R%2DValue%20is%20an,transfer%20through%20the%20insulating%20material.\n",
    "\n",
    "r_val_si_to_imperial_factor = 5.678 # multiply the si r value by this number\n",
    "\n",
    "def u_val_si_to_imperial(u_val):\n",
    "    return u_val * (1/ r_val_si_to_imperial_factor )\n",
    "\n",
    "def r_val_si_to_imperial(r_val):\n",
    "    return r_val * r_val_si_to_imperial_factor \n",
    "\n",
    "def celcius_to_f(temp):\n",
    "    return temp * (9/5) + 32\n",
    "\n",
    "def w_m2_to_w_ft2(energy):\n",
    "    return energy * (1/10.76)\n",
    "\n",
    "units_imperial = {\n",
    "    \"u_val\": (\"Btu/ft2-F-hr\", u_val_si_to_imperial ),\n",
    "    \"r_val\": (\"ft2-F-hr/Btu\", r_val_si_to_imperial ),\n",
    "    \"efficiency\": (\"W/ft2\", w_m2_to_w_ft2),\n",
    "    \"setp\": (\"F\", celcius_to_f),\n",
    "    \"none\": (\"\", lambda a: a),\n",
    "}\n",
    "keys = list(group_models[\"All\"])\n",
    "key_units = {}\n",
    "for key in keys:\n",
    "    # assign key to group \n",
    "    for k, v in groups.items():\n",
    "        for string in v:\n",
    "            if string in key:\n",
    "                key_units[key] = (units[k], units_imperial[k])\n",
    "# key_units"
   ]
  },
  {
   "cell_type": "code",
   "execution_count": 11,
   "metadata": {},
   "outputs": [],
   "source": [
    "def get_group_csv(group_model):\n",
    "    units_data = key_units[group_model]\n",
    "    conversion_function = units_data[1][1]\n",
    "    # print(units)\n",
    "    group_model_path = os.path.join(opt_models_path, group_model )\n",
    "    csv_path = os.path.join(group_model_path, \"data.csv\")\n",
    "    df = pd.read_csv(csv_path, index_col=\"Unnamed: 0\")\n",
    "\n",
    "    # add imperial values \n",
    "    df[\"imperial_vals\"] = conversion_function(df[\"vals\"])\n",
    "    df[\"imperial_vals_units\"] = units_data[1][0]\n",
    "    \n",
    "    return df"
   ]
  },
  {
   "cell_type": "code",
   "execution_count": 12,
   "metadata": {},
   "outputs": [],
   "source": [
    "def get_group(group_of_interest, example=False):\n",
    "    group_data = {model: get_group_csv(model) for model in group_models[group_of_interest]}\n",
    "    \n",
    "    group_keys = list(group_data.keys())\n",
    "    # print(group_keys)\n",
    "    if example:\n",
    "        first_data = list(group_data.keys())[0]\n",
    "        display(group_data[first_data])\n",
    "\n",
    "    \n",
    "    # simple group keys\n",
    "    simple_gk = [k.split(\"_\")[0] for k in group_keys]\n",
    "\n",
    "    # get labels \n",
    "    group_labels = {real_key: labels_rev[group_key] for group_key, real_key in zip(simple_gk, group_keys) }\n",
    "    group_labels_no_units = {real_key: labels_nounits_rev[group_key] for group_key, real_key in zip(simple_gk, group_keys) }\n",
    "    \n",
    "\n",
    "        \n",
    "    return group_keys, group_data, group_of_interest, group_labels, group_labels_no_units\n",
    "\n",
    "    # envelope "
   ]
  },
  {
   "cell_type": "code",
   "execution_count": 42,
   "metadata": {},
   "outputs": [
    {
     "data": {
      "text/html": [
       "<div>\n",
       "<style scoped>\n",
       "    .dataframe tbody tr th:only-of-type {\n",
       "        vertical-align: middle;\n",
       "    }\n",
       "\n",
       "    .dataframe tbody tr th {\n",
       "        vertical-align: top;\n",
       "    }\n",
       "\n",
       "    .dataframe thead th {\n",
       "        text-align: right;\n",
       "    }\n",
       "</style>\n",
       "<table border=\"1\" class=\"dataframe\">\n",
       "  <thead>\n",
       "    <tr style=\"text-align: right;\">\n",
       "      <th></th>\n",
       "      <th>elect</th>\n",
       "      <th>hot</th>\n",
       "      <th>chill</th>\n",
       "      <th>elect_c</th>\n",
       "      <th>hot_c</th>\n",
       "      <th>chill_c</th>\n",
       "      <th>total</th>\n",
       "      <th>total_c</th>\n",
       "      <th>vals</th>\n",
       "      <th>perc_change</th>\n",
       "      <th>imperial_vals</th>\n",
       "      <th>imperial_vals_units</th>\n",
       "    </tr>\n",
       "  </thead>\n",
       "  <tbody>\n",
       "    <tr>\n",
       "      <th>-98.0</th>\n",
       "      <td>109233.580993</td>\n",
       "      <td>80590.329074</td>\n",
       "      <td>58812.485168</td>\n",
       "      <td>18935.52</td>\n",
       "      <td>10999.42</td>\n",
       "      <td>7023.68</td>\n",
       "      <td>248636.395235</td>\n",
       "      <td>36958.62</td>\n",
       "      <td>0.264792</td>\n",
       "      <td>-98.0</td>\n",
       "      <td>0.024609</td>\n",
       "      <td>W/ft2</td>\n",
       "    </tr>\n",
       "    <tr>\n",
       "      <th>-75.0</th>\n",
       "      <td>116969.246724</td>\n",
       "      <td>77959.012279</td>\n",
       "      <td>59926.025840</td>\n",
       "      <td>20413.87</td>\n",
       "      <td>10640.29</td>\n",
       "      <td>7156.66</td>\n",
       "      <td>254854.284843</td>\n",
       "      <td>38210.82</td>\n",
       "      <td>3.309902</td>\n",
       "      <td>-75.0</td>\n",
       "      <td>0.307612</td>\n",
       "      <td>W/ft2</td>\n",
       "    </tr>\n",
       "    <tr>\n",
       "      <th>-50.0</th>\n",
       "      <td>125420.944070</td>\n",
       "      <td>75351.870120</td>\n",
       "      <td>61293.319251</td>\n",
       "      <td>22031.85</td>\n",
       "      <td>10284.45</td>\n",
       "      <td>7319.95</td>\n",
       "      <td>262066.133441</td>\n",
       "      <td>39636.25</td>\n",
       "      <td>6.619805</td>\n",
       "      <td>-50.0</td>\n",
       "      <td>0.615224</td>\n",
       "      <td>W/ft2</td>\n",
       "    </tr>\n",
       "    <tr>\n",
       "      <th>-25.0</th>\n",
       "      <td>133905.128470</td>\n",
       "      <td>73366.896826</td>\n",
       "      <td>63111.157208</td>\n",
       "      <td>23678.89</td>\n",
       "      <td>10013.53</td>\n",
       "      <td>7537.05</td>\n",
       "      <td>270383.182504</td>\n",
       "      <td>41229.47</td>\n",
       "      <td>9.929707</td>\n",
       "      <td>-25.0</td>\n",
       "      <td>0.922835</td>\n",
       "      <td>W/ft2</td>\n",
       "    </tr>\n",
       "    <tr>\n",
       "      <th>-10.0</th>\n",
       "      <td>139028.051363</td>\n",
       "      <td>72322.248594</td>\n",
       "      <td>64383.078779</td>\n",
       "      <td>24667.23</td>\n",
       "      <td>9870.95</td>\n",
       "      <td>7688.95</td>\n",
       "      <td>275733.378736</td>\n",
       "      <td>42227.13</td>\n",
       "      <td>11.915649</td>\n",
       "      <td>-10.0</td>\n",
       "      <td>1.107402</td>\n",
       "      <td>W/ft2</td>\n",
       "    </tr>\n",
       "    <tr>\n",
       "      <th>-5.0</th>\n",
       "      <td>140739.082088</td>\n",
       "      <td>71989.089240</td>\n",
       "      <td>64821.405640</td>\n",
       "      <td>24997.92</td>\n",
       "      <td>9825.48</td>\n",
       "      <td>7741.29</td>\n",
       "      <td>277549.576968</td>\n",
       "      <td>42564.69</td>\n",
       "      <td>12.577629</td>\n",
       "      <td>-5.0</td>\n",
       "      <td>1.168925</td>\n",
       "      <td>W/ft2</td>\n",
       "    </tr>\n",
       "    <tr>\n",
       "      <th>-2.5</th>\n",
       "      <td>141595.866928</td>\n",
       "      <td>71824.769536</td>\n",
       "      <td>65045.047025</td>\n",
       "      <td>25163.59</td>\n",
       "      <td>9803.05</td>\n",
       "      <td>7768.00</td>\n",
       "      <td>278465.683490</td>\n",
       "      <td>42734.64</td>\n",
       "      <td>12.908620</td>\n",
       "      <td>-2.5</td>\n",
       "      <td>1.199686</td>\n",
       "      <td>W/ft2</td>\n",
       "    </tr>\n",
       "    <tr>\n",
       "      <th>-1.0</th>\n",
       "      <td>142110.160798</td>\n",
       "      <td>71727.320912</td>\n",
       "      <td>65179.554247</td>\n",
       "      <td>25262.65</td>\n",
       "      <td>9789.75</td>\n",
       "      <td>7784.07</td>\n",
       "      <td>279017.035958</td>\n",
       "      <td>42836.47</td>\n",
       "      <td>13.107214</td>\n",
       "      <td>-1.0</td>\n",
       "      <td>1.218143</td>\n",
       "      <td>W/ft2</td>\n",
       "    </tr>\n",
       "    <tr>\n",
       "      <th>0.0</th>\n",
       "      <td>142453.408250</td>\n",
       "      <td>71662.765076</td>\n",
       "      <td>65269.397110</td>\n",
       "      <td>25328.67</td>\n",
       "      <td>9780.94</td>\n",
       "      <td>7794.79</td>\n",
       "      <td>279385.570436</td>\n",
       "      <td>42904.40</td>\n",
       "      <td>13.239610</td>\n",
       "      <td>0.0</td>\n",
       "      <td>1.230447</td>\n",
       "      <td>W/ft2</td>\n",
       "    </tr>\n",
       "  </tbody>\n",
       "</table>\n",
       "</div>"
      ],
      "text/plain": [
       "               elect           hot         chill   elect_c     hot_c  chill_c  \\\n",
       "-98.0  109233.580993  80590.329074  58812.485168  18935.52  10999.42  7023.68   \n",
       "-75.0  116969.246724  77959.012279  59926.025840  20413.87  10640.29  7156.66   \n",
       "-50.0  125420.944070  75351.870120  61293.319251  22031.85  10284.45  7319.95   \n",
       "-25.0  133905.128470  73366.896826  63111.157208  23678.89  10013.53  7537.05   \n",
       "-10.0  139028.051363  72322.248594  64383.078779  24667.23   9870.95  7688.95   \n",
       "-5.0   140739.082088  71989.089240  64821.405640  24997.92   9825.48  7741.29   \n",
       "-2.5   141595.866928  71824.769536  65045.047025  25163.59   9803.05  7768.00   \n",
       "-1.0   142110.160798  71727.320912  65179.554247  25262.65   9789.75  7784.07   \n",
       " 0.0   142453.408250  71662.765076  65269.397110  25328.67   9780.94  7794.79   \n",
       "\n",
       "               total   total_c       vals  perc_change  imperial_vals  \\\n",
       "-98.0  248636.395235  36958.62   0.264792        -98.0       0.024609   \n",
       "-75.0  254854.284843  38210.82   3.309902        -75.0       0.307612   \n",
       "-50.0  262066.133441  39636.25   6.619805        -50.0       0.615224   \n",
       "-25.0  270383.182504  41229.47   9.929707        -25.0       0.922835   \n",
       "-10.0  275733.378736  42227.13  11.915649        -10.0       1.107402   \n",
       "-5.0   277549.576968  42564.69  12.577629         -5.0       1.168925   \n",
       "-2.5   278465.683490  42734.64  12.908620         -2.5       1.199686   \n",
       "-1.0   279017.035958  42836.47  13.107214         -1.0       1.218143   \n",
       " 0.0   279385.570436  42904.40  13.239610          0.0       1.230447   \n",
       "\n",
       "      imperial_vals_units  \n",
       "-98.0               W/ft2  \n",
       "-75.0               W/ft2  \n",
       "-50.0               W/ft2  \n",
       "-25.0               W/ft2  \n",
       "-10.0               W/ft2  \n",
       "-5.0                W/ft2  \n",
       "-2.5                W/ft2  \n",
       "-1.0                W/ft2  \n",
       " 0.0                W/ft2  "
      ]
     },
     "execution_count": 42,
     "metadata": {},
     "output_type": "execute_result"
    }
   ],
   "source": [
    "df = get_group_csv(\"light_0\")\n",
    "df"
   ]
  },
  {
   "cell_type": "code",
   "execution_count": 49,
   "metadata": {},
   "outputs": [
    {
     "data": {
      "text/plain": [
       "array([248636.39523507, 254854.28484349, 262066.13344083, 270383.18250382,\n",
       "       275733.3787363 , 277549.5769678 , 278465.68348967, 279017.03595783,\n",
       "       279385.57043564])"
      ]
     },
     "execution_count": 49,
     "metadata": {},
     "output_type": "execute_result"
    }
   ],
   "source": [
    "x = np.array(df[\"imperial_vals\"])\n",
    "y = np.array(df[\"total\"])\n",
    "y"
   ]
  },
  {
   "cell_type": "code",
   "execution_count": 50,
   "metadata": {},
   "outputs": [
    {
     "name": "stdout",
     "output_type": "stream",
     "text": [
      "25894.091137955704 247138.87354276015\n"
     ]
    }
   ],
   "source": [
    "A = np.vstack([x, np.ones(len(x))]).T\n",
    "m, c = np.linalg.lstsq(A, y, rcond=None)[0]\n",
    "print(m, c)"
   ]
  },
  {
   "cell_type": "code",
   "execution_count": 55,
   "metadata": {},
   "outputs": [
    {
     "data": {
      "text/plain": [
       "-20853.296792177658"
      ]
     },
     "execution_count": 55,
     "metadata": {},
     "output_type": "execute_result"
    }
   ],
   "source": [
    "feasible_opt = m*0.44 + c\n",
    "baseline = df.loc[0][\"total\"]\n",
    "savings = feasible_opt - baseline\n",
    "savings"
   ]
  },
  {
   "cell_type": "code",
   "execution_count": 56,
   "metadata": {},
   "outputs": [],
   "source": [
    "def calc_feasible_savings(df, feasible_val):\n",
    "    # energy \n",
    "    x = np.array(df[\"imperial_vals\"])\n",
    "    y = np.array(df[\"total\"])\n",
    "    A = np.vstack([x, np.ones(len(x))]).T\n",
    "    m, c = np.linalg.lstsq(A, y, rcond=None)[0]\n",
    "    feasible_opt = m*0.44 + c\n",
    "    baseline = df.loc[0][\"total\"]\n",
    "    e_savings = feasible_opt - baseline\n",
    "\n",
    "    # cost \n",
    "    x = np.array(df[\"imperial_vals\"])\n",
    "    y = np.array(df[\"total_c\"])\n",
    "    A = np.vstack([x, np.ones(len(x))]).T\n",
    "    m, c = np.linalg.lstsq(A, y, rcond=None)[0]\n",
    "    feasible_opt = m*0.44 + c\n",
    "    baseline = df.loc[0][\"total_c\"]\n",
    "    cost_savings = feasible_opt - baseline\n",
    "\n",
    "    return (e_savings, cost_savings)\n",
    "    \n",
    "    "
   ]
  },
  {
   "cell_type": "markdown",
   "metadata": {},
   "source": [
    "# Exterior Surfaces"
   ]
  },
  {
   "cell_type": "code",
   "execution_count": 13,
   "metadata": {},
   "outputs": [],
   "source": [
    "def saveImagePlotly(fig, fig_name):\n",
    "    fig_name_png = fig_name + \".png\"\n",
    "    # fig_path = os.path.join(root, \"figs_final_pres_03_07\", fig_name_png )\n",
    "    final_paper_path = \"/Users/julietnwagwuume-ezeoke/My Drive/CEE256_BuildSys/final_256/Deliverables/PaperFigs\"\n",
    "    fig_path = os.path.join(final_paper_path, fig_name_png)\n",
    "    fig.write_image(fig_path, width=1200, format=\"png\", engine=\"kaleido\",\n",
    "                    scale=2)"
   ]
  },
  {
   "cell_type": "code",
   "execution_count": 14,
   "metadata": {},
   "outputs": [],
   "source": [
    "es_data = get_group(\"Exteriors\", False)"
   ]
  },
  {
   "cell_type": "code",
   "execution_count": 15,
   "metadata": {},
   "outputs": [
    {
     "data": {
      "application/vnd.plotly.v1+json": {
       "config": {
        "plotlyServerURL": "https://plotly.com"
       },
       "data": [
        {
         "legendgroup": "Groups",
         "line": {
          "color": "rgb(229, 134, 6)"
         },
         "marker": {
          "size": 12.001
         },
         "mode": "lines+markers",
         "name": "Wall R [ft2-ºF-hr/Btu]",
         "showlegend": true,
         "type": "scatter",
         "x": [
          0.39985915492957913,
          9.996478873239438,
          14.994718309859156,
          19.992957746478876,
          24.991197183098596,
          29.98943661971831,
          39.58605633802817
         ],
         "xaxis": "x",
         "y": [
          264164.7075135103,
          210654.37765318173,
          207662.9322519344,
          206078.20165233428,
          205096.6951134768,
          204427.25351333577,
          203598.0202134073
         ],
         "yaxis": "y"
        },
        {
         "legendgroup": "Groups",
         "line": {
          "color": "rgb(93, 105, 177)"
         },
         "marker": {
          "size": 10.001999999999999
         },
         "mode": "lines+markers",
         "name": "Floor R [ft2-ºF-hr/Btu]",
         "showlegend": true,
         "type": "scatter",
         "x": [
          0.39985915492957913,
          9.996478873239438,
          14.994718309859156,
          19.992957746478876,
          24.991197183098596,
          29.98943661971831,
          39.58605633802817
         ],
         "xaxis": "x",
         "y": [
          278552.58424539823,
          284846.5159202912,
          283855.623765887,
          283870.9421938833,
          282509.8048389799,
          282762.3009306469,
          283072.37155308045
         ],
         "yaxis": "y"
        },
        {
         "legendgroup": "Groups",
         "line": {
          "color": "rgb(82, 188, 163)"
         },
         "marker": {
          "size": 8.003
         },
         "mode": "lines+markers",
         "name": "Roof R [ft2-ºF-hr/Btu]",
         "showlegend": true,
         "type": "scatter",
         "x": [
          0.39985915492957913,
          9.996478873239438,
          14.994718309859156,
          19.992957746478876,
          24.991197183098596,
          29.98943661971831,
          39.58605633802817
         ],
         "xaxis": "x",
         "y": [
          387450.0603126405,
          289872.5542517984,
          285293.6449222886,
          282922.3499036124,
          281474.0221101811,
          280471.5742470848,
          279275.28913562733
         ],
         "yaxis": "y"
        },
        {
         "legendgroup": "Groups",
         "line": {
          "color": "rgb(229, 134, 6)"
         },
         "marker": {
          "size": 12.001
         },
         "mode": "lines+markers",
         "name": "wall_b1",
         "showlegend": false,
         "type": "scatter",
         "x": [
          -98,
          -50,
          -25,
          0,
          25,
          50,
          98
         ],
         "xaxis": "x2",
         "y": [
          264164.7075135103,
          210654.37765318173,
          207662.9322519344,
          206078.20165233428,
          205096.6951134768,
          204427.25351333577,
          203598.0202134073
         ],
         "yaxis": "y2"
        },
        {
         "legendgroup": "Groups",
         "line": {
          "color": "rgb(93, 105, 177)"
         },
         "marker": {
          "size": 10.001999999999999
         },
         "mode": "lines+markers",
         "name": "floor_2",
         "showlegend": false,
         "type": "scatter",
         "x": [
          -98,
          -50,
          -25,
          0,
          25,
          50,
          98
         ],
         "xaxis": "x2",
         "y": [
          278552.58424539823,
          284846.5159202912,
          283855.623765887,
          283870.9421938833,
          282509.8048389799,
          282762.3009306469,
          283072.37155308045
         ],
         "yaxis": "y2"
        },
        {
         "legendgroup": "Groups",
         "line": {
          "color": "rgb(82, 188, 163)"
         },
         "marker": {
          "size": 8.003
         },
         "mode": "lines+markers",
         "name": "roof_0",
         "showlegend": false,
         "type": "scatter",
         "x": [
          -98,
          -50,
          -25,
          0,
          25,
          50,
          98
         ],
         "xaxis": "x2",
         "y": [
          387450.0603126405,
          289872.5542517984,
          285293.6449222886,
          282922.3499036124,
          281474.0221101811,
          280471.5742470848,
          279275.28913562733
         ],
         "yaxis": "y2"
        },
        {
         "legendgroup": "Groups",
         "line": {
          "color": "rgb(229, 134, 6)"
         },
         "marker": {
          "size": 12.001
         },
         "mode": "lines+markers",
         "name": "wall_b1",
         "showlegend": false,
         "type": "scatter",
         "x": [
          0,
          0,
          0,
          0,
          131.61000000000422,
          220.56000000000495,
          331.45000000000437
         ],
         "xaxis": "x3",
         "y": [
          0,
          0,
          0,
          0,
          981.5065388574731,
          1650.9481389985012,
          2480.1814389269857
         ],
         "yaxis": "y3"
        },
        {
         "legendgroup": "Groups",
         "line": {
          "color": "rgb(93, 105, 177)"
         },
         "marker": {
          "size": 10.001999999999999
         },
         "mode": "lines+markers",
         "name": "floor_2",
         "showlegend": false,
         "type": "scatter",
         "x": [
          698.0999999999985,
          0,
          4.5899999999965075,
          0,
          177.86999999999534,
          143.38999999999942,
          101.23999999999069
         ],
         "xaxis": "x3",
         "y": [
          5318.357948485063,
          0,
          15.31842799630249,
          0,
          1361.1373549033888,
          1108.6412632364081,
          798.5706408028491
         ],
         "yaxis": "y3"
        },
        {
         "legendgroup": "Groups",
         "line": {
          "color": "rgb(82, 188, 163)"
         },
         "marker": {
          "size": 8.003
         },
         "mode": "lines+markers",
         "name": "roof_0",
         "showlegend": false,
         "type": "scatter",
         "x": [
          0,
          0,
          0,
          0,
          197.8599999999933,
          334.16999999999825,
          496.77999999999156
         ],
         "xaxis": "x3",
         "y": [
          0,
          0,
          0,
          0,
          1448.3277934312937,
          2450.7756565276068,
          3647.0607679850655
         ],
         "yaxis": "y3"
        },
        {
         "legendgroup": "Groups",
         "line": {
          "color": "rgb(229, 134, 6)"
         },
         "marker": {
          "size": 12.001
         },
         "mode": "lines+markers",
         "name": "wall_b1",
         "showlegend": false,
         "type": "scatter",
         "x": [
          0.39985915492957913,
          9.996478873239438,
          14.994718309859156,
          19.992957746478876,
          24.991197183098596,
          29.98943661971831,
          39.58605633802817
         ],
         "xaxis": "x4",
         "y": [
          0,
          0,
          0,
          0,
          981.5065388574731,
          1650.9481389985012,
          2480.1814389269857
         ],
         "yaxis": "y4"
        },
        {
         "legendgroup": "Groups",
         "line": {
          "color": "rgb(93, 105, 177)"
         },
         "marker": {
          "size": 10.001999999999999
         },
         "mode": "lines+markers",
         "name": "floor_2",
         "showlegend": false,
         "type": "scatter",
         "x": [
          0.39985915492957913,
          9.996478873239438,
          14.994718309859156,
          19.992957746478876,
          24.991197183098596,
          29.98943661971831,
          39.58605633802817
         ],
         "xaxis": "x4",
         "y": [
          5318.357948485063,
          0,
          15.31842799630249,
          0,
          1361.1373549033888,
          1108.6412632364081,
          798.5706408028491
         ],
         "yaxis": "y4"
        },
        {
         "legendgroup": "Groups",
         "line": {
          "color": "rgb(82, 188, 163)"
         },
         "marker": {
          "size": 8.003
         },
         "mode": "lines+markers",
         "name": "roof_0",
         "showlegend": false,
         "type": "scatter",
         "x": [
          0.39985915492957913,
          9.996478873239438,
          14.994718309859156,
          19.992957746478876,
          24.991197183098596,
          29.98943661971831,
          39.58605633802817
         ],
         "xaxis": "x4",
         "y": [
          0,
          0,
          0,
          0,
          1448.3277934312937,
          2450.7756565276068,
          3647.0607679850655
         ],
         "yaxis": "y4"
        }
       ],
       "layout": {
        "annotations": [
         {
          "font": {
           "size": 16
          },
          "showarrow": false,
          "text": "Energy Consumption vs Adjusted Values",
          "x": 0.225,
          "xanchor": "center",
          "xref": "paper",
          "y": 1,
          "yanchor": "bottom",
          "yref": "paper"
         },
         {
          "font": {
           "size": 16
          },
          "showarrow": false,
          "text": "Energy Consumption vs Percent Change",
          "x": 0.775,
          "xanchor": "center",
          "xref": "paper",
          "y": 1,
          "yanchor": "bottom",
          "yref": "paper"
         },
         {
          "font": {
           "size": 16
          },
          "showarrow": false,
          "text": "Energy Savings vs Cost Savings",
          "x": 0.225,
          "xanchor": "center",
          "xref": "paper",
          "y": 0.375,
          "yanchor": "bottom",
          "yref": "paper"
         },
         {
          "font": {
           "size": 16
          },
          "showarrow": false,
          "text": "Energy Savings vs Adjusted Values",
          "x": 0.775,
          "xanchor": "center",
          "xref": "paper",
          "y": 0.375,
          "yanchor": "bottom",
          "yref": "paper"
         }
        ],
        "template": {
         "data": {
          "bar": [
           {
            "error_x": {
             "color": "#2a3f5f"
            },
            "error_y": {
             "color": "#2a3f5f"
            },
            "marker": {
             "line": {
              "color": "#E5ECF6",
              "width": 0.5
             },
             "pattern": {
              "fillmode": "overlay",
              "size": 10,
              "solidity": 0.2
             }
            },
            "type": "bar"
           }
          ],
          "barpolar": [
           {
            "marker": {
             "line": {
              "color": "#E5ECF6",
              "width": 0.5
             },
             "pattern": {
              "fillmode": "overlay",
              "size": 10,
              "solidity": 0.2
             }
            },
            "type": "barpolar"
           }
          ],
          "carpet": [
           {
            "aaxis": {
             "endlinecolor": "#2a3f5f",
             "gridcolor": "white",
             "linecolor": "white",
             "minorgridcolor": "white",
             "startlinecolor": "#2a3f5f"
            },
            "baxis": {
             "endlinecolor": "#2a3f5f",
             "gridcolor": "white",
             "linecolor": "white",
             "minorgridcolor": "white",
             "startlinecolor": "#2a3f5f"
            },
            "type": "carpet"
           }
          ],
          "choropleth": [
           {
            "colorbar": {
             "outlinewidth": 0,
             "ticks": ""
            },
            "type": "choropleth"
           }
          ],
          "contour": [
           {
            "colorbar": {
             "outlinewidth": 0,
             "ticks": ""
            },
            "colorscale": [
             [
              0,
              "#0d0887"
             ],
             [
              0.1111111111111111,
              "#46039f"
             ],
             [
              0.2222222222222222,
              "#7201a8"
             ],
             [
              0.3333333333333333,
              "#9c179e"
             ],
             [
              0.4444444444444444,
              "#bd3786"
             ],
             [
              0.5555555555555556,
              "#d8576b"
             ],
             [
              0.6666666666666666,
              "#ed7953"
             ],
             [
              0.7777777777777778,
              "#fb9f3a"
             ],
             [
              0.8888888888888888,
              "#fdca26"
             ],
             [
              1,
              "#f0f921"
             ]
            ],
            "type": "contour"
           }
          ],
          "contourcarpet": [
           {
            "colorbar": {
             "outlinewidth": 0,
             "ticks": ""
            },
            "type": "contourcarpet"
           }
          ],
          "heatmap": [
           {
            "colorbar": {
             "outlinewidth": 0,
             "ticks": ""
            },
            "colorscale": [
             [
              0,
              "#0d0887"
             ],
             [
              0.1111111111111111,
              "#46039f"
             ],
             [
              0.2222222222222222,
              "#7201a8"
             ],
             [
              0.3333333333333333,
              "#9c179e"
             ],
             [
              0.4444444444444444,
              "#bd3786"
             ],
             [
              0.5555555555555556,
              "#d8576b"
             ],
             [
              0.6666666666666666,
              "#ed7953"
             ],
             [
              0.7777777777777778,
              "#fb9f3a"
             ],
             [
              0.8888888888888888,
              "#fdca26"
             ],
             [
              1,
              "#f0f921"
             ]
            ],
            "type": "heatmap"
           }
          ],
          "heatmapgl": [
           {
            "colorbar": {
             "outlinewidth": 0,
             "ticks": ""
            },
            "colorscale": [
             [
              0,
              "#0d0887"
             ],
             [
              0.1111111111111111,
              "#46039f"
             ],
             [
              0.2222222222222222,
              "#7201a8"
             ],
             [
              0.3333333333333333,
              "#9c179e"
             ],
             [
              0.4444444444444444,
              "#bd3786"
             ],
             [
              0.5555555555555556,
              "#d8576b"
             ],
             [
              0.6666666666666666,
              "#ed7953"
             ],
             [
              0.7777777777777778,
              "#fb9f3a"
             ],
             [
              0.8888888888888888,
              "#fdca26"
             ],
             [
              1,
              "#f0f921"
             ]
            ],
            "type": "heatmapgl"
           }
          ],
          "histogram": [
           {
            "marker": {
             "pattern": {
              "fillmode": "overlay",
              "size": 10,
              "solidity": 0.2
             }
            },
            "type": "histogram"
           }
          ],
          "histogram2d": [
           {
            "colorbar": {
             "outlinewidth": 0,
             "ticks": ""
            },
            "colorscale": [
             [
              0,
              "#0d0887"
             ],
             [
              0.1111111111111111,
              "#46039f"
             ],
             [
              0.2222222222222222,
              "#7201a8"
             ],
             [
              0.3333333333333333,
              "#9c179e"
             ],
             [
              0.4444444444444444,
              "#bd3786"
             ],
             [
              0.5555555555555556,
              "#d8576b"
             ],
             [
              0.6666666666666666,
              "#ed7953"
             ],
             [
              0.7777777777777778,
              "#fb9f3a"
             ],
             [
              0.8888888888888888,
              "#fdca26"
             ],
             [
              1,
              "#f0f921"
             ]
            ],
            "type": "histogram2d"
           }
          ],
          "histogram2dcontour": [
           {
            "colorbar": {
             "outlinewidth": 0,
             "ticks": ""
            },
            "colorscale": [
             [
              0,
              "#0d0887"
             ],
             [
              0.1111111111111111,
              "#46039f"
             ],
             [
              0.2222222222222222,
              "#7201a8"
             ],
             [
              0.3333333333333333,
              "#9c179e"
             ],
             [
              0.4444444444444444,
              "#bd3786"
             ],
             [
              0.5555555555555556,
              "#d8576b"
             ],
             [
              0.6666666666666666,
              "#ed7953"
             ],
             [
              0.7777777777777778,
              "#fb9f3a"
             ],
             [
              0.8888888888888888,
              "#fdca26"
             ],
             [
              1,
              "#f0f921"
             ]
            ],
            "type": "histogram2dcontour"
           }
          ],
          "mesh3d": [
           {
            "colorbar": {
             "outlinewidth": 0,
             "ticks": ""
            },
            "type": "mesh3d"
           }
          ],
          "parcoords": [
           {
            "line": {
             "colorbar": {
              "outlinewidth": 0,
              "ticks": ""
             }
            },
            "type": "parcoords"
           }
          ],
          "pie": [
           {
            "automargin": true,
            "type": "pie"
           }
          ],
          "scatter": [
           {
            "marker": {
             "colorbar": {
              "outlinewidth": 0,
              "ticks": ""
             }
            },
            "type": "scatter"
           }
          ],
          "scatter3d": [
           {
            "line": {
             "colorbar": {
              "outlinewidth": 0,
              "ticks": ""
             }
            },
            "marker": {
             "colorbar": {
              "outlinewidth": 0,
              "ticks": ""
             }
            },
            "type": "scatter3d"
           }
          ],
          "scattercarpet": [
           {
            "marker": {
             "colorbar": {
              "outlinewidth": 0,
              "ticks": ""
             }
            },
            "type": "scattercarpet"
           }
          ],
          "scattergeo": [
           {
            "marker": {
             "colorbar": {
              "outlinewidth": 0,
              "ticks": ""
             }
            },
            "type": "scattergeo"
           }
          ],
          "scattergl": [
           {
            "marker": {
             "colorbar": {
              "outlinewidth": 0,
              "ticks": ""
             }
            },
            "type": "scattergl"
           }
          ],
          "scattermapbox": [
           {
            "marker": {
             "colorbar": {
              "outlinewidth": 0,
              "ticks": ""
             }
            },
            "type": "scattermapbox"
           }
          ],
          "scatterpolar": [
           {
            "marker": {
             "colorbar": {
              "outlinewidth": 0,
              "ticks": ""
             }
            },
            "type": "scatterpolar"
           }
          ],
          "scatterpolargl": [
           {
            "marker": {
             "colorbar": {
              "outlinewidth": 0,
              "ticks": ""
             }
            },
            "type": "scatterpolargl"
           }
          ],
          "scatterternary": [
           {
            "marker": {
             "colorbar": {
              "outlinewidth": 0,
              "ticks": ""
             }
            },
            "type": "scatterternary"
           }
          ],
          "surface": [
           {
            "colorbar": {
             "outlinewidth": 0,
             "ticks": ""
            },
            "colorscale": [
             [
              0,
              "#0d0887"
             ],
             [
              0.1111111111111111,
              "#46039f"
             ],
             [
              0.2222222222222222,
              "#7201a8"
             ],
             [
              0.3333333333333333,
              "#9c179e"
             ],
             [
              0.4444444444444444,
              "#bd3786"
             ],
             [
              0.5555555555555556,
              "#d8576b"
             ],
             [
              0.6666666666666666,
              "#ed7953"
             ],
             [
              0.7777777777777778,
              "#fb9f3a"
             ],
             [
              0.8888888888888888,
              "#fdca26"
             ],
             [
              1,
              "#f0f921"
             ]
            ],
            "type": "surface"
           }
          ],
          "table": [
           {
            "cells": {
             "fill": {
              "color": "#EBF0F8"
             },
             "line": {
              "color": "white"
             }
            },
            "header": {
             "fill": {
              "color": "#C8D4E3"
             },
             "line": {
              "color": "white"
             }
            },
            "type": "table"
           }
          ]
         },
         "layout": {
          "annotationdefaults": {
           "arrowcolor": "#2a3f5f",
           "arrowhead": 0,
           "arrowwidth": 1
          },
          "autotypenumbers": "strict",
          "coloraxis": {
           "colorbar": {
            "outlinewidth": 0,
            "ticks": ""
           }
          },
          "colorscale": {
           "diverging": [
            [
             0,
             "#8e0152"
            ],
            [
             0.1,
             "#c51b7d"
            ],
            [
             0.2,
             "#de77ae"
            ],
            [
             0.3,
             "#f1b6da"
            ],
            [
             0.4,
             "#fde0ef"
            ],
            [
             0.5,
             "#f7f7f7"
            ],
            [
             0.6,
             "#e6f5d0"
            ],
            [
             0.7,
             "#b8e186"
            ],
            [
             0.8,
             "#7fbc41"
            ],
            [
             0.9,
             "#4d9221"
            ],
            [
             1,
             "#276419"
            ]
           ],
           "sequential": [
            [
             0,
             "#0d0887"
            ],
            [
             0.1111111111111111,
             "#46039f"
            ],
            [
             0.2222222222222222,
             "#7201a8"
            ],
            [
             0.3333333333333333,
             "#9c179e"
            ],
            [
             0.4444444444444444,
             "#bd3786"
            ],
            [
             0.5555555555555556,
             "#d8576b"
            ],
            [
             0.6666666666666666,
             "#ed7953"
            ],
            [
             0.7777777777777778,
             "#fb9f3a"
            ],
            [
             0.8888888888888888,
             "#fdca26"
            ],
            [
             1,
             "#f0f921"
            ]
           ],
           "sequentialminus": [
            [
             0,
             "#0d0887"
            ],
            [
             0.1111111111111111,
             "#46039f"
            ],
            [
             0.2222222222222222,
             "#7201a8"
            ],
            [
             0.3333333333333333,
             "#9c179e"
            ],
            [
             0.4444444444444444,
             "#bd3786"
            ],
            [
             0.5555555555555556,
             "#d8576b"
            ],
            [
             0.6666666666666666,
             "#ed7953"
            ],
            [
             0.7777777777777778,
             "#fb9f3a"
            ],
            [
             0.8888888888888888,
             "#fdca26"
            ],
            [
             1,
             "#f0f921"
            ]
           ]
          },
          "colorway": [
           "#636efa",
           "#EF553B",
           "#00cc96",
           "#ab63fa",
           "#FFA15A",
           "#19d3f3",
           "#FF6692",
           "#B6E880",
           "#FF97FF",
           "#FECB52"
          ],
          "font": {
           "color": "#2a3f5f"
          },
          "geo": {
           "bgcolor": "white",
           "lakecolor": "white",
           "landcolor": "#E5ECF6",
           "showlakes": true,
           "showland": true,
           "subunitcolor": "white"
          },
          "hoverlabel": {
           "align": "left"
          },
          "hovermode": "closest",
          "mapbox": {
           "style": "light"
          },
          "paper_bgcolor": "white",
          "plot_bgcolor": "#E5ECF6",
          "polar": {
           "angularaxis": {
            "gridcolor": "white",
            "linecolor": "white",
            "ticks": ""
           },
           "bgcolor": "#E5ECF6",
           "radialaxis": {
            "gridcolor": "white",
            "linecolor": "white",
            "ticks": ""
           }
          },
          "scene": {
           "xaxis": {
            "backgroundcolor": "#E5ECF6",
            "gridcolor": "white",
            "gridwidth": 2,
            "linecolor": "white",
            "showbackground": true,
            "ticks": "",
            "zerolinecolor": "white"
           },
           "yaxis": {
            "backgroundcolor": "#E5ECF6",
            "gridcolor": "white",
            "gridwidth": 2,
            "linecolor": "white",
            "showbackground": true,
            "ticks": "",
            "zerolinecolor": "white"
           },
           "zaxis": {
            "backgroundcolor": "#E5ECF6",
            "gridcolor": "white",
            "gridwidth": 2,
            "linecolor": "white",
            "showbackground": true,
            "ticks": "",
            "zerolinecolor": "white"
           }
          },
          "shapedefaults": {
           "line": {
            "color": "#2a3f5f"
           }
          },
          "ternary": {
           "aaxis": {
            "gridcolor": "white",
            "linecolor": "white",
            "ticks": ""
           },
           "baxis": {
            "gridcolor": "white",
            "linecolor": "white",
            "ticks": ""
           },
           "bgcolor": "#E5ECF6",
           "caxis": {
            "gridcolor": "white",
            "linecolor": "white",
            "ticks": ""
           }
          },
          "title": {
           "x": 0.05
          },
          "xaxis": {
           "automargin": true,
           "gridcolor": "white",
           "linecolor": "white",
           "ticks": "",
           "title": {
            "standoff": 15
           },
           "zerolinecolor": "white",
           "zerolinewidth": 2
          },
          "yaxis": {
           "automargin": true,
           "gridcolor": "white",
           "linecolor": "white",
           "ticks": "",
           "title": {
            "standoff": 15
           },
           "zerolinecolor": "white",
           "zerolinewidth": 2
          }
         }
        },
        "title": {
         "text": "Comparisons for Exteriors"
        },
        "xaxis": {
         "anchor": "y",
         "domain": [
          0,
          0.45
         ],
         "title": {
          "text": "Adjusted Values"
         }
        },
        "xaxis2": {
         "anchor": "y2",
         "domain": [
          0.55,
          1
         ],
         "title": {
          "text": "Percent Change from Original [%]"
         }
        },
        "xaxis3": {
         "anchor": "y3",
         "domain": [
          0,
          0.45
         ],
         "title": {
          "text": "Cost Savings [$]"
         }
        },
        "xaxis4": {
         "anchor": "y4",
         "domain": [
          0.55,
          1
         ],
         "title": {
          "text": "Adjusted Values"
         }
        },
        "yaxis": {
         "anchor": "x",
         "domain": [
          0.625,
          1
         ],
         "title": {
          "text": "Energy [kWh]"
         }
        },
        "yaxis2": {
         "anchor": "x2",
         "domain": [
          0.625,
          1
         ]
        },
        "yaxis3": {
         "anchor": "x3",
         "domain": [
          0,
          0.375
         ],
         "title": {
          "text": "Energy Savings [kWh]"
         }
        },
        "yaxis4": {
         "anchor": "x4",
         "domain": [
          0,
          0.375
         ]
        }
       }
      }
     },
     "metadata": {},
     "output_type": "display_data"
    },
    {
     "name": "stdout",
     "output_type": "stream",
     "text": [
      "Link  https://plotly.com/~jnwagwu/161/\n"
     ]
    }
   ],
   "source": [
    "fig = four_compare(es_data[0], es_data[1], es_data[2], es_data[3])\n",
    "saveImagePlotly(fig, \"test\")"
   ]
  },
  {
   "cell_type": "code",
   "execution_count": 16,
   "metadata": {},
   "outputs": [
    {
     "data": {
      "application/vnd.plotly.v1+json": {
       "config": {
        "plotlyServerURL": "https://plotly.com"
       },
       "data": [
        {
         "type": "bar",
         "x": [
          "wall_b1",
          "floor_2",
          "roof_0"
         ],
         "y": [
          -0.733514851730494,
          0.3851411093272883,
          -0.722348967307798
         ]
        }
       ],
       "layout": {
        "template": {
         "data": {
          "bar": [
           {
            "error_x": {
             "color": "#2a3f5f"
            },
            "error_y": {
             "color": "#2a3f5f"
            },
            "marker": {
             "line": {
              "color": "#E5ECF6",
              "width": 0.5
             },
             "pattern": {
              "fillmode": "overlay",
              "size": 10,
              "solidity": 0.2
             }
            },
            "type": "bar"
           }
          ],
          "barpolar": [
           {
            "marker": {
             "line": {
              "color": "#E5ECF6",
              "width": 0.5
             },
             "pattern": {
              "fillmode": "overlay",
              "size": 10,
              "solidity": 0.2
             }
            },
            "type": "barpolar"
           }
          ],
          "carpet": [
           {
            "aaxis": {
             "endlinecolor": "#2a3f5f",
             "gridcolor": "white",
             "linecolor": "white",
             "minorgridcolor": "white",
             "startlinecolor": "#2a3f5f"
            },
            "baxis": {
             "endlinecolor": "#2a3f5f",
             "gridcolor": "white",
             "linecolor": "white",
             "minorgridcolor": "white",
             "startlinecolor": "#2a3f5f"
            },
            "type": "carpet"
           }
          ],
          "choropleth": [
           {
            "colorbar": {
             "outlinewidth": 0,
             "ticks": ""
            },
            "type": "choropleth"
           }
          ],
          "contour": [
           {
            "colorbar": {
             "outlinewidth": 0,
             "ticks": ""
            },
            "colorscale": [
             [
              0,
              "#0d0887"
             ],
             [
              0.1111111111111111,
              "#46039f"
             ],
             [
              0.2222222222222222,
              "#7201a8"
             ],
             [
              0.3333333333333333,
              "#9c179e"
             ],
             [
              0.4444444444444444,
              "#bd3786"
             ],
             [
              0.5555555555555556,
              "#d8576b"
             ],
             [
              0.6666666666666666,
              "#ed7953"
             ],
             [
              0.7777777777777778,
              "#fb9f3a"
             ],
             [
              0.8888888888888888,
              "#fdca26"
             ],
             [
              1,
              "#f0f921"
             ]
            ],
            "type": "contour"
           }
          ],
          "contourcarpet": [
           {
            "colorbar": {
             "outlinewidth": 0,
             "ticks": ""
            },
            "type": "contourcarpet"
           }
          ],
          "heatmap": [
           {
            "colorbar": {
             "outlinewidth": 0,
             "ticks": ""
            },
            "colorscale": [
             [
              0,
              "#0d0887"
             ],
             [
              0.1111111111111111,
              "#46039f"
             ],
             [
              0.2222222222222222,
              "#7201a8"
             ],
             [
              0.3333333333333333,
              "#9c179e"
             ],
             [
              0.4444444444444444,
              "#bd3786"
             ],
             [
              0.5555555555555556,
              "#d8576b"
             ],
             [
              0.6666666666666666,
              "#ed7953"
             ],
             [
              0.7777777777777778,
              "#fb9f3a"
             ],
             [
              0.8888888888888888,
              "#fdca26"
             ],
             [
              1,
              "#f0f921"
             ]
            ],
            "type": "heatmap"
           }
          ],
          "heatmapgl": [
           {
            "colorbar": {
             "outlinewidth": 0,
             "ticks": ""
            },
            "colorscale": [
             [
              0,
              "#0d0887"
             ],
             [
              0.1111111111111111,
              "#46039f"
             ],
             [
              0.2222222222222222,
              "#7201a8"
             ],
             [
              0.3333333333333333,
              "#9c179e"
             ],
             [
              0.4444444444444444,
              "#bd3786"
             ],
             [
              0.5555555555555556,
              "#d8576b"
             ],
             [
              0.6666666666666666,
              "#ed7953"
             ],
             [
              0.7777777777777778,
              "#fb9f3a"
             ],
             [
              0.8888888888888888,
              "#fdca26"
             ],
             [
              1,
              "#f0f921"
             ]
            ],
            "type": "heatmapgl"
           }
          ],
          "histogram": [
           {
            "marker": {
             "pattern": {
              "fillmode": "overlay",
              "size": 10,
              "solidity": 0.2
             }
            },
            "type": "histogram"
           }
          ],
          "histogram2d": [
           {
            "colorbar": {
             "outlinewidth": 0,
             "ticks": ""
            },
            "colorscale": [
             [
              0,
              "#0d0887"
             ],
             [
              0.1111111111111111,
              "#46039f"
             ],
             [
              0.2222222222222222,
              "#7201a8"
             ],
             [
              0.3333333333333333,
              "#9c179e"
             ],
             [
              0.4444444444444444,
              "#bd3786"
             ],
             [
              0.5555555555555556,
              "#d8576b"
             ],
             [
              0.6666666666666666,
              "#ed7953"
             ],
             [
              0.7777777777777778,
              "#fb9f3a"
             ],
             [
              0.8888888888888888,
              "#fdca26"
             ],
             [
              1,
              "#f0f921"
             ]
            ],
            "type": "histogram2d"
           }
          ],
          "histogram2dcontour": [
           {
            "colorbar": {
             "outlinewidth": 0,
             "ticks": ""
            },
            "colorscale": [
             [
              0,
              "#0d0887"
             ],
             [
              0.1111111111111111,
              "#46039f"
             ],
             [
              0.2222222222222222,
              "#7201a8"
             ],
             [
              0.3333333333333333,
              "#9c179e"
             ],
             [
              0.4444444444444444,
              "#bd3786"
             ],
             [
              0.5555555555555556,
              "#d8576b"
             ],
             [
              0.6666666666666666,
              "#ed7953"
             ],
             [
              0.7777777777777778,
              "#fb9f3a"
             ],
             [
              0.8888888888888888,
              "#fdca26"
             ],
             [
              1,
              "#f0f921"
             ]
            ],
            "type": "histogram2dcontour"
           }
          ],
          "mesh3d": [
           {
            "colorbar": {
             "outlinewidth": 0,
             "ticks": ""
            },
            "type": "mesh3d"
           }
          ],
          "parcoords": [
           {
            "line": {
             "colorbar": {
              "outlinewidth": 0,
              "ticks": ""
             }
            },
            "type": "parcoords"
           }
          ],
          "pie": [
           {
            "automargin": true,
            "type": "pie"
           }
          ],
          "scatter": [
           {
            "marker": {
             "colorbar": {
              "outlinewidth": 0,
              "ticks": ""
             }
            },
            "type": "scatter"
           }
          ],
          "scatter3d": [
           {
            "line": {
             "colorbar": {
              "outlinewidth": 0,
              "ticks": ""
             }
            },
            "marker": {
             "colorbar": {
              "outlinewidth": 0,
              "ticks": ""
             }
            },
            "type": "scatter3d"
           }
          ],
          "scattercarpet": [
           {
            "marker": {
             "colorbar": {
              "outlinewidth": 0,
              "ticks": ""
             }
            },
            "type": "scattercarpet"
           }
          ],
          "scattergeo": [
           {
            "marker": {
             "colorbar": {
              "outlinewidth": 0,
              "ticks": ""
             }
            },
            "type": "scattergeo"
           }
          ],
          "scattergl": [
           {
            "marker": {
             "colorbar": {
              "outlinewidth": 0,
              "ticks": ""
             }
            },
            "type": "scattergl"
           }
          ],
          "scattermapbox": [
           {
            "marker": {
             "colorbar": {
              "outlinewidth": 0,
              "ticks": ""
             }
            },
            "type": "scattermapbox"
           }
          ],
          "scatterpolar": [
           {
            "marker": {
             "colorbar": {
              "outlinewidth": 0,
              "ticks": ""
             }
            },
            "type": "scatterpolar"
           }
          ],
          "scatterpolargl": [
           {
            "marker": {
             "colorbar": {
              "outlinewidth": 0,
              "ticks": ""
             }
            },
            "type": "scatterpolargl"
           }
          ],
          "scatterternary": [
           {
            "marker": {
             "colorbar": {
              "outlinewidth": 0,
              "ticks": ""
             }
            },
            "type": "scatterternary"
           }
          ],
          "surface": [
           {
            "colorbar": {
             "outlinewidth": 0,
             "ticks": ""
            },
            "colorscale": [
             [
              0,
              "#0d0887"
             ],
             [
              0.1111111111111111,
              "#46039f"
             ],
             [
              0.2222222222222222,
              "#7201a8"
             ],
             [
              0.3333333333333333,
              "#9c179e"
             ],
             [
              0.4444444444444444,
              "#bd3786"
             ],
             [
              0.5555555555555556,
              "#d8576b"
             ],
             [
              0.6666666666666666,
              "#ed7953"
             ],
             [
              0.7777777777777778,
              "#fb9f3a"
             ],
             [
              0.8888888888888888,
              "#fdca26"
             ],
             [
              1,
              "#f0f921"
             ]
            ],
            "type": "surface"
           }
          ],
          "table": [
           {
            "cells": {
             "fill": {
              "color": "#EBF0F8"
             },
             "line": {
              "color": "white"
             }
            },
            "header": {
             "fill": {
              "color": "#C8D4E3"
             },
             "line": {
              "color": "white"
             }
            },
            "type": "table"
           }
          ]
         },
         "layout": {
          "annotationdefaults": {
           "arrowcolor": "#2a3f5f",
           "arrowhead": 0,
           "arrowwidth": 1
          },
          "autotypenumbers": "strict",
          "coloraxis": {
           "colorbar": {
            "outlinewidth": 0,
            "ticks": ""
           }
          },
          "colorscale": {
           "diverging": [
            [
             0,
             "#8e0152"
            ],
            [
             0.1,
             "#c51b7d"
            ],
            [
             0.2,
             "#de77ae"
            ],
            [
             0.3,
             "#f1b6da"
            ],
            [
             0.4,
             "#fde0ef"
            ],
            [
             0.5,
             "#f7f7f7"
            ],
            [
             0.6,
             "#e6f5d0"
            ],
            [
             0.7,
             "#b8e186"
            ],
            [
             0.8,
             "#7fbc41"
            ],
            [
             0.9,
             "#4d9221"
            ],
            [
             1,
             "#276419"
            ]
           ],
           "sequential": [
            [
             0,
             "#0d0887"
            ],
            [
             0.1111111111111111,
             "#46039f"
            ],
            [
             0.2222222222222222,
             "#7201a8"
            ],
            [
             0.3333333333333333,
             "#9c179e"
            ],
            [
             0.4444444444444444,
             "#bd3786"
            ],
            [
             0.5555555555555556,
             "#d8576b"
            ],
            [
             0.6666666666666666,
             "#ed7953"
            ],
            [
             0.7777777777777778,
             "#fb9f3a"
            ],
            [
             0.8888888888888888,
             "#fdca26"
            ],
            [
             1,
             "#f0f921"
            ]
           ],
           "sequentialminus": [
            [
             0,
             "#0d0887"
            ],
            [
             0.1111111111111111,
             "#46039f"
            ],
            [
             0.2222222222222222,
             "#7201a8"
            ],
            [
             0.3333333333333333,
             "#9c179e"
            ],
            [
             0.4444444444444444,
             "#bd3786"
            ],
            [
             0.5555555555555556,
             "#d8576b"
            ],
            [
             0.6666666666666666,
             "#ed7953"
            ],
            [
             0.7777777777777778,
             "#fb9f3a"
            ],
            [
             0.8888888888888888,
             "#fdca26"
            ],
            [
             1,
             "#f0f921"
            ]
           ]
          },
          "colorway": [
           "#636efa",
           "#EF553B",
           "#00cc96",
           "#ab63fa",
           "#FFA15A",
           "#19d3f3",
           "#FF6692",
           "#B6E880",
           "#FF97FF",
           "#FECB52"
          ],
          "font": {
           "color": "#2a3f5f"
          },
          "geo": {
           "bgcolor": "white",
           "lakecolor": "white",
           "landcolor": "#E5ECF6",
           "showlakes": true,
           "showland": true,
           "subunitcolor": "white"
          },
          "hoverlabel": {
           "align": "left"
          },
          "hovermode": "closest",
          "mapbox": {
           "style": "light"
          },
          "paper_bgcolor": "white",
          "plot_bgcolor": "#E5ECF6",
          "polar": {
           "angularaxis": {
            "gridcolor": "white",
            "linecolor": "white",
            "ticks": ""
           },
           "bgcolor": "#E5ECF6",
           "radialaxis": {
            "gridcolor": "white",
            "linecolor": "white",
            "ticks": ""
           }
          },
          "scene": {
           "xaxis": {
            "backgroundcolor": "#E5ECF6",
            "gridcolor": "white",
            "gridwidth": 2,
            "linecolor": "white",
            "showbackground": true,
            "ticks": "",
            "zerolinecolor": "white"
           },
           "yaxis": {
            "backgroundcolor": "#E5ECF6",
            "gridcolor": "white",
            "gridwidth": 2,
            "linecolor": "white",
            "showbackground": true,
            "ticks": "",
            "zerolinecolor": "white"
           },
           "zaxis": {
            "backgroundcolor": "#E5ECF6",
            "gridcolor": "white",
            "gridwidth": 2,
            "linecolor": "white",
            "showbackground": true,
            "ticks": "",
            "zerolinecolor": "white"
           }
          },
          "shapedefaults": {
           "line": {
            "color": "#2a3f5f"
           }
          },
          "ternary": {
           "aaxis": {
            "gridcolor": "white",
            "linecolor": "white",
            "ticks": ""
           },
           "baxis": {
            "gridcolor": "white",
            "linecolor": "white",
            "ticks": ""
           },
           "bgcolor": "#E5ECF6",
           "caxis": {
            "gridcolor": "white",
            "linecolor": "white",
            "ticks": ""
           }
          },
          "title": {
           "x": 0.05
          },
          "xaxis": {
           "automargin": true,
           "gridcolor": "white",
           "linecolor": "white",
           "ticks": "",
           "title": {
            "standoff": 15
           },
           "zerolinecolor": "white",
           "zerolinewidth": 2
          },
          "yaxis": {
           "automargin": true,
           "gridcolor": "white",
           "linecolor": "white",
           "ticks": "",
           "title": {
            "standoff": 15
           },
           "zerolinecolor": "white",
           "zerolinewidth": 2
          }
         }
        },
        "title": {
         "text": "Correlation between Value and Energy Use"
        },
        "xaxis": {
         "title": {
          "text": "Groups"
         }
        },
        "yaxis": {
         "title": {
          "text": "Correlation"
         }
        }
       }
      }
     },
     "metadata": {},
     "output_type": "display_data"
    }
   ],
   "source": [
    "correlations(es_data[1], es_data[2])"
   ]
  },
  {
   "cell_type": "markdown",
   "metadata": {},
   "source": [
    "# SHGC + True Exteriors"
   ]
  },
  {
   "cell_type": "code",
   "execution_count": 17,
   "metadata": {},
   "outputs": [],
   "source": [
    "# shgc = get_group(\"SHGC_and_True_Exteriors\", False)\n",
    "# data = shgc\n",
    "# four_compare(data[0], data[1], data[2], data[3])\n",
    "# correlations(data[1], data[2])\n"
   ]
  },
  {
   "cell_type": "markdown",
   "metadata": {},
   "source": [
    "# Ext Surfaces + SHGC + U Window"
   ]
  },
  {
   "cell_type": "code",
   "execution_count": 18,
   "metadata": {},
   "outputs": [
    {
     "data": {
      "application/vnd.plotly.v1+json": {
       "config": {
        "plotlyServerURL": "https://plotly.com"
       },
       "data": [
        {
         "legendgroup": "Groups",
         "line": {
          "color": "rgb(229, 134, 6)"
         },
         "marker": {
          "size": 12.001
         },
         "mode": "lines+markers",
         "name": "Wall R [ft2-ºF-hr/Btu]",
         "showlegend": true,
         "type": "scatter",
         "x": [
          0.39985915492957913,
          9.996478873239438,
          14.994718309859156,
          19.992957746478876,
          24.991197183098596,
          29.98943661971831,
          39.58605633802817
         ],
         "xaxis": "x",
         "y": [
          264164.7075135103,
          210654.37765318173,
          207662.9322519344,
          206078.20165233428,
          205096.6951134768,
          204427.25351333577,
          203598.0202134073
         ],
         "yaxis": "y"
        },
        {
         "legendgroup": "Groups",
         "line": {
          "color": "rgb(93, 105, 177)"
         },
         "marker": {
          "size": 10.001999999999999
         },
         "mode": "lines+markers",
         "name": "Floor R [ft2-ºF-hr/Btu]",
         "showlegend": true,
         "type": "scatter",
         "x": [
          0.39985915492957913,
          9.996478873239438,
          14.994718309859156,
          19.992957746478876,
          24.991197183098596,
          29.98943661971831,
          39.58605633802817
         ],
         "xaxis": "x",
         "y": [
          278552.58424539823,
          284846.5159202912,
          283855.623765887,
          283870.9421938833,
          282509.8048389799,
          282762.3009306469,
          283072.37155308045
         ],
         "yaxis": "y"
        },
        {
         "legendgroup": "Groups",
         "line": {
          "color": "rgb(82, 188, 163)"
         },
         "marker": {
          "size": 8.003
         },
         "mode": "lines+markers",
         "name": "Roof R [ft2-ºF-hr/Btu]",
         "showlegend": true,
         "type": "scatter",
         "x": [
          0.39985915492957913,
          9.996478873239438,
          14.994718309859156,
          19.992957746478876,
          24.991197183098596,
          29.98943661971831,
          39.58605633802817
         ],
         "xaxis": "x",
         "y": [
          387450.0603126405,
          289872.5542517984,
          285293.6449222886,
          282922.3499036124,
          281474.0221101811,
          280471.5742470848,
          279275.28913562733
         ],
         "yaxis": "y"
        },
        {
         "legendgroup": "Groups",
         "line": {
          "color": "rgb(153, 201, 69)"
         },
         "marker": {
          "size": 6.004
         },
         "mode": "lines+markers",
         "name": "Window U-Factor [Btu/ft2-F-hr]",
         "showlegend": true,
         "type": "scatter",
         "x": [
          0.004226840436773511,
          0.1056710109193378,
          0.15850651637900667,
          0.2113420218386756,
          0.2641775272983445,
          0.31701303275801335,
          0.41845720324057767
         ],
         "xaxis": "x",
         "y": [
          271144.51505382074,
          275423.2509392697,
          277464.4853625179,
          279385.5704356383,
          281179.4498469197,
          282839.0622709057,
          285878.4664700822
         ],
         "yaxis": "y"
        },
        {
         "legendgroup": "Groups",
         "line": {
          "color": "rgb(204, 97, 176)"
         },
         "marker": {
          "size": 4.004999999999999
         },
         "mode": "lines+markers",
         "name": "Window SHGC",
         "showlegend": true,
         "type": "scatter",
         "x": [
          0.0061999999999999,
          0.155,
          0.2324999999999999,
          0.31,
          0.3875,
          0.4649999999999999,
          0.6138
         ],
         "xaxis": "x",
         "y": [
          198218.2426320747,
          200527.7921991349,
          201766.59285814397,
          203112.2120721182,
          204573.69239821145,
          206122.71218388685,
          209151.4758953536
         ],
         "yaxis": "y"
        },
        {
         "legendgroup": "Groups",
         "line": {
          "color": "rgb(229, 134, 6)"
         },
         "marker": {
          "size": 12.001
         },
         "mode": "lines+markers",
         "name": "wall_b1",
         "showlegend": false,
         "type": "scatter",
         "x": [
          -98,
          -50,
          -25,
          0,
          25,
          50,
          98
         ],
         "xaxis": "x2",
         "y": [
          264164.7075135103,
          210654.37765318173,
          207662.9322519344,
          206078.20165233428,
          205096.6951134768,
          204427.25351333577,
          203598.0202134073
         ],
         "yaxis": "y2"
        },
        {
         "legendgroup": "Groups",
         "line": {
          "color": "rgb(93, 105, 177)"
         },
         "marker": {
          "size": 10.001999999999999
         },
         "mode": "lines+markers",
         "name": "floor_2",
         "showlegend": false,
         "type": "scatter",
         "x": [
          -98,
          -50,
          -25,
          0,
          25,
          50,
          98
         ],
         "xaxis": "x2",
         "y": [
          278552.58424539823,
          284846.5159202912,
          283855.623765887,
          283870.9421938833,
          282509.8048389799,
          282762.3009306469,
          283072.37155308045
         ],
         "yaxis": "y2"
        },
        {
         "legendgroup": "Groups",
         "line": {
          "color": "rgb(82, 188, 163)"
         },
         "marker": {
          "size": 8.003
         },
         "mode": "lines+markers",
         "name": "roof_0",
         "showlegend": false,
         "type": "scatter",
         "x": [
          -98,
          -50,
          -25,
          0,
          25,
          50,
          98
         ],
         "xaxis": "x2",
         "y": [
          387450.0603126405,
          289872.5542517984,
          285293.6449222886,
          282922.3499036124,
          281474.0221101811,
          280471.5742470848,
          279275.28913562733
         ],
         "yaxis": "y2"
        },
        {
         "legendgroup": "Groups",
         "line": {
          "color": "rgb(153, 201, 69)"
         },
         "marker": {
          "size": 6.004
         },
         "mode": "lines+markers",
         "name": "window_u",
         "showlegend": false,
         "type": "scatter",
         "x": [
          -98,
          -50,
          -25,
          0,
          25,
          50,
          98
         ],
         "xaxis": "x2",
         "y": [
          271144.51505382074,
          275423.2509392697,
          277464.4853625179,
          279385.5704356383,
          281179.4498469197,
          282839.0622709057,
          285878.4664700822
         ],
         "yaxis": "y2"
        },
        {
         "legendgroup": "Groups",
         "line": {
          "color": "rgb(204, 97, 176)"
         },
         "marker": {
          "size": 4.004999999999999
         },
         "mode": "lines+markers",
         "name": "shgc_b1",
         "showlegend": false,
         "type": "scatter",
         "x": [
          -98,
          -50,
          -25,
          0,
          25,
          50,
          98
         ],
         "xaxis": "x2",
         "y": [
          198218.2426320747,
          200527.7921991349,
          201766.59285814397,
          203112.2120721182,
          204573.69239821145,
          206122.71218388685,
          209151.4758953536
         ],
         "yaxis": "y2"
        },
        {
         "legendgroup": "Groups",
         "line": {
          "color": "rgb(229, 134, 6)"
         },
         "marker": {
          "size": 12.001
         },
         "mode": "lines+markers",
         "name": "wall_b1",
         "showlegend": false,
         "type": "scatter",
         "x": [
          0,
          0,
          0,
          0,
          131.61000000000422,
          220.56000000000495,
          331.45000000000437
         ],
         "xaxis": "x3",
         "y": [
          0,
          0,
          0,
          0,
          981.5065388574731,
          1650.9481389985012,
          2480.1814389269857
         ],
         "yaxis": "y3"
        },
        {
         "legendgroup": "Groups",
         "line": {
          "color": "rgb(93, 105, 177)"
         },
         "marker": {
          "size": 10.001999999999999
         },
         "mode": "lines+markers",
         "name": "floor_2",
         "showlegend": false,
         "type": "scatter",
         "x": [
          698.0999999999985,
          0,
          4.5899999999965075,
          0,
          177.86999999999534,
          143.38999999999942,
          101.23999999999069
         ],
         "xaxis": "x3",
         "y": [
          5318.357948485063,
          0,
          15.31842799630249,
          0,
          1361.1373549033888,
          1108.6412632364081,
          798.5706408028491
         ],
         "yaxis": "y3"
        },
        {
         "legendgroup": "Groups",
         "line": {
          "color": "rgb(82, 188, 163)"
         },
         "marker": {
          "size": 8.003
         },
         "mode": "lines+markers",
         "name": "roof_0",
         "showlegend": false,
         "type": "scatter",
         "x": [
          0,
          0,
          0,
          0,
          197.8599999999933,
          334.16999999999825,
          496.77999999999156
         ],
         "xaxis": "x3",
         "y": [
          0,
          0,
          0,
          0,
          1448.3277934312937,
          2450.7756565276068,
          3647.0607679850655
         ],
         "yaxis": "y3"
        },
        {
         "legendgroup": "Groups",
         "line": {
          "color": "rgb(153, 201, 69)"
         },
         "marker": {
          "size": 6.004
         },
         "mode": "lines+markers",
         "name": "window_u",
         "showlegend": false,
         "type": "scatter",
         "x": [
          1101.479999999996,
          530.2900000000009,
          257.2099999999991,
          0,
          0,
          0,
          0
         ],
         "xaxis": "x3",
         "y": [
          8241.055381817569,
          3962.319496368582,
          1921.0850731204264,
          0,
          0,
          0,
          0
         ],
         "yaxis": "y3"
        },
        {
         "legendgroup": "Groups",
         "line": {
          "color": "rgb(204, 97, 176)"
         },
         "marker": {
          "size": 4.004999999999999
         },
         "mode": "lines+markers",
         "name": "shgc_b1",
         "showlegend": false,
         "type": "scatter",
         "x": [
          634.1800000000003,
          333.7599999999984,
          172.34999999999854,
          0,
          0,
          0,
          0
         ],
         "xaxis": "x3",
         "y": [
          4893.969440043496,
          2584.4198729832715,
          1345.6192139742197,
          0,
          0,
          0,
          0
         ],
         "yaxis": "y3"
        },
        {
         "legendgroup": "Groups",
         "line": {
          "color": "rgb(229, 134, 6)"
         },
         "marker": {
          "size": 12.001
         },
         "mode": "lines+markers",
         "name": "wall_b1",
         "showlegend": false,
         "type": "scatter",
         "x": [
          0.39985915492957913,
          9.996478873239438,
          14.994718309859156,
          19.992957746478876,
          24.991197183098596,
          29.98943661971831,
          39.58605633802817
         ],
         "xaxis": "x4",
         "y": [
          0,
          0,
          0,
          0,
          981.5065388574731,
          1650.9481389985012,
          2480.1814389269857
         ],
         "yaxis": "y4"
        },
        {
         "legendgroup": "Groups",
         "line": {
          "color": "rgb(93, 105, 177)"
         },
         "marker": {
          "size": 10.001999999999999
         },
         "mode": "lines+markers",
         "name": "floor_2",
         "showlegend": false,
         "type": "scatter",
         "x": [
          0.39985915492957913,
          9.996478873239438,
          14.994718309859156,
          19.992957746478876,
          24.991197183098596,
          29.98943661971831,
          39.58605633802817
         ],
         "xaxis": "x4",
         "y": [
          5318.357948485063,
          0,
          15.31842799630249,
          0,
          1361.1373549033888,
          1108.6412632364081,
          798.5706408028491
         ],
         "yaxis": "y4"
        },
        {
         "legendgroup": "Groups",
         "line": {
          "color": "rgb(82, 188, 163)"
         },
         "marker": {
          "size": 8.003
         },
         "mode": "lines+markers",
         "name": "roof_0",
         "showlegend": false,
         "type": "scatter",
         "x": [
          0.39985915492957913,
          9.996478873239438,
          14.994718309859156,
          19.992957746478876,
          24.991197183098596,
          29.98943661971831,
          39.58605633802817
         ],
         "xaxis": "x4",
         "y": [
          0,
          0,
          0,
          0,
          1448.3277934312937,
          2450.7756565276068,
          3647.0607679850655
         ],
         "yaxis": "y4"
        },
        {
         "legendgroup": "Groups",
         "line": {
          "color": "rgb(153, 201, 69)"
         },
         "marker": {
          "size": 6.004
         },
         "mode": "lines+markers",
         "name": "window_u",
         "showlegend": false,
         "type": "scatter",
         "x": [
          0.004226840436773511,
          0.1056710109193378,
          0.15850651637900667,
          0.2113420218386756,
          0.2641775272983445,
          0.31701303275801335,
          0.41845720324057767
         ],
         "xaxis": "x4",
         "y": [
          8241.055381817569,
          3962.319496368582,
          1921.0850731204264,
          0,
          0,
          0,
          0
         ],
         "yaxis": "y4"
        },
        {
         "legendgroup": "Groups",
         "line": {
          "color": "rgb(204, 97, 176)"
         },
         "marker": {
          "size": 4.004999999999999
         },
         "mode": "lines+markers",
         "name": "shgc_b1",
         "showlegend": false,
         "type": "scatter",
         "x": [
          0.0061999999999999,
          0.155,
          0.2324999999999999,
          0.31,
          0.3875,
          0.4649999999999999,
          0.6138
         ],
         "xaxis": "x4",
         "y": [
          4893.969440043496,
          2584.4198729832715,
          1345.6192139742197,
          0,
          0,
          0,
          0
         ],
         "yaxis": "y4"
        }
       ],
       "layout": {
        "annotations": [
         {
          "font": {
           "size": 16
          },
          "showarrow": false,
          "text": "Energy Consumption vs Adjusted Values",
          "x": 0.225,
          "xanchor": "center",
          "xref": "paper",
          "y": 1,
          "yanchor": "bottom",
          "yref": "paper"
         },
         {
          "font": {
           "size": 16
          },
          "showarrow": false,
          "text": "Energy Consumption vs Percent Change",
          "x": 0.775,
          "xanchor": "center",
          "xref": "paper",
          "y": 1,
          "yanchor": "bottom",
          "yref": "paper"
         },
         {
          "font": {
           "size": 16
          },
          "showarrow": false,
          "text": "Energy Savings vs Cost Savings",
          "x": 0.225,
          "xanchor": "center",
          "xref": "paper",
          "y": 0.375,
          "yanchor": "bottom",
          "yref": "paper"
         },
         {
          "font": {
           "size": 16
          },
          "showarrow": false,
          "text": "Energy Savings vs Adjusted Values",
          "x": 0.775,
          "xanchor": "center",
          "xref": "paper",
          "y": 0.375,
          "yanchor": "bottom",
          "yref": "paper"
         }
        ],
        "template": {
         "data": {
          "bar": [
           {
            "error_x": {
             "color": "#2a3f5f"
            },
            "error_y": {
             "color": "#2a3f5f"
            },
            "marker": {
             "line": {
              "color": "#E5ECF6",
              "width": 0.5
             },
             "pattern": {
              "fillmode": "overlay",
              "size": 10,
              "solidity": 0.2
             }
            },
            "type": "bar"
           }
          ],
          "barpolar": [
           {
            "marker": {
             "line": {
              "color": "#E5ECF6",
              "width": 0.5
             },
             "pattern": {
              "fillmode": "overlay",
              "size": 10,
              "solidity": 0.2
             }
            },
            "type": "barpolar"
           }
          ],
          "carpet": [
           {
            "aaxis": {
             "endlinecolor": "#2a3f5f",
             "gridcolor": "white",
             "linecolor": "white",
             "minorgridcolor": "white",
             "startlinecolor": "#2a3f5f"
            },
            "baxis": {
             "endlinecolor": "#2a3f5f",
             "gridcolor": "white",
             "linecolor": "white",
             "minorgridcolor": "white",
             "startlinecolor": "#2a3f5f"
            },
            "type": "carpet"
           }
          ],
          "choropleth": [
           {
            "colorbar": {
             "outlinewidth": 0,
             "ticks": ""
            },
            "type": "choropleth"
           }
          ],
          "contour": [
           {
            "colorbar": {
             "outlinewidth": 0,
             "ticks": ""
            },
            "colorscale": [
             [
              0,
              "#0d0887"
             ],
             [
              0.1111111111111111,
              "#46039f"
             ],
             [
              0.2222222222222222,
              "#7201a8"
             ],
             [
              0.3333333333333333,
              "#9c179e"
             ],
             [
              0.4444444444444444,
              "#bd3786"
             ],
             [
              0.5555555555555556,
              "#d8576b"
             ],
             [
              0.6666666666666666,
              "#ed7953"
             ],
             [
              0.7777777777777778,
              "#fb9f3a"
             ],
             [
              0.8888888888888888,
              "#fdca26"
             ],
             [
              1,
              "#f0f921"
             ]
            ],
            "type": "contour"
           }
          ],
          "contourcarpet": [
           {
            "colorbar": {
             "outlinewidth": 0,
             "ticks": ""
            },
            "type": "contourcarpet"
           }
          ],
          "heatmap": [
           {
            "colorbar": {
             "outlinewidth": 0,
             "ticks": ""
            },
            "colorscale": [
             [
              0,
              "#0d0887"
             ],
             [
              0.1111111111111111,
              "#46039f"
             ],
             [
              0.2222222222222222,
              "#7201a8"
             ],
             [
              0.3333333333333333,
              "#9c179e"
             ],
             [
              0.4444444444444444,
              "#bd3786"
             ],
             [
              0.5555555555555556,
              "#d8576b"
             ],
             [
              0.6666666666666666,
              "#ed7953"
             ],
             [
              0.7777777777777778,
              "#fb9f3a"
             ],
             [
              0.8888888888888888,
              "#fdca26"
             ],
             [
              1,
              "#f0f921"
             ]
            ],
            "type": "heatmap"
           }
          ],
          "heatmapgl": [
           {
            "colorbar": {
             "outlinewidth": 0,
             "ticks": ""
            },
            "colorscale": [
             [
              0,
              "#0d0887"
             ],
             [
              0.1111111111111111,
              "#46039f"
             ],
             [
              0.2222222222222222,
              "#7201a8"
             ],
             [
              0.3333333333333333,
              "#9c179e"
             ],
             [
              0.4444444444444444,
              "#bd3786"
             ],
             [
              0.5555555555555556,
              "#d8576b"
             ],
             [
              0.6666666666666666,
              "#ed7953"
             ],
             [
              0.7777777777777778,
              "#fb9f3a"
             ],
             [
              0.8888888888888888,
              "#fdca26"
             ],
             [
              1,
              "#f0f921"
             ]
            ],
            "type": "heatmapgl"
           }
          ],
          "histogram": [
           {
            "marker": {
             "pattern": {
              "fillmode": "overlay",
              "size": 10,
              "solidity": 0.2
             }
            },
            "type": "histogram"
           }
          ],
          "histogram2d": [
           {
            "colorbar": {
             "outlinewidth": 0,
             "ticks": ""
            },
            "colorscale": [
             [
              0,
              "#0d0887"
             ],
             [
              0.1111111111111111,
              "#46039f"
             ],
             [
              0.2222222222222222,
              "#7201a8"
             ],
             [
              0.3333333333333333,
              "#9c179e"
             ],
             [
              0.4444444444444444,
              "#bd3786"
             ],
             [
              0.5555555555555556,
              "#d8576b"
             ],
             [
              0.6666666666666666,
              "#ed7953"
             ],
             [
              0.7777777777777778,
              "#fb9f3a"
             ],
             [
              0.8888888888888888,
              "#fdca26"
             ],
             [
              1,
              "#f0f921"
             ]
            ],
            "type": "histogram2d"
           }
          ],
          "histogram2dcontour": [
           {
            "colorbar": {
             "outlinewidth": 0,
             "ticks": ""
            },
            "colorscale": [
             [
              0,
              "#0d0887"
             ],
             [
              0.1111111111111111,
              "#46039f"
             ],
             [
              0.2222222222222222,
              "#7201a8"
             ],
             [
              0.3333333333333333,
              "#9c179e"
             ],
             [
              0.4444444444444444,
              "#bd3786"
             ],
             [
              0.5555555555555556,
              "#d8576b"
             ],
             [
              0.6666666666666666,
              "#ed7953"
             ],
             [
              0.7777777777777778,
              "#fb9f3a"
             ],
             [
              0.8888888888888888,
              "#fdca26"
             ],
             [
              1,
              "#f0f921"
             ]
            ],
            "type": "histogram2dcontour"
           }
          ],
          "mesh3d": [
           {
            "colorbar": {
             "outlinewidth": 0,
             "ticks": ""
            },
            "type": "mesh3d"
           }
          ],
          "parcoords": [
           {
            "line": {
             "colorbar": {
              "outlinewidth": 0,
              "ticks": ""
             }
            },
            "type": "parcoords"
           }
          ],
          "pie": [
           {
            "automargin": true,
            "type": "pie"
           }
          ],
          "scatter": [
           {
            "marker": {
             "colorbar": {
              "outlinewidth": 0,
              "ticks": ""
             }
            },
            "type": "scatter"
           }
          ],
          "scatter3d": [
           {
            "line": {
             "colorbar": {
              "outlinewidth": 0,
              "ticks": ""
             }
            },
            "marker": {
             "colorbar": {
              "outlinewidth": 0,
              "ticks": ""
             }
            },
            "type": "scatter3d"
           }
          ],
          "scattercarpet": [
           {
            "marker": {
             "colorbar": {
              "outlinewidth": 0,
              "ticks": ""
             }
            },
            "type": "scattercarpet"
           }
          ],
          "scattergeo": [
           {
            "marker": {
             "colorbar": {
              "outlinewidth": 0,
              "ticks": ""
             }
            },
            "type": "scattergeo"
           }
          ],
          "scattergl": [
           {
            "marker": {
             "colorbar": {
              "outlinewidth": 0,
              "ticks": ""
             }
            },
            "type": "scattergl"
           }
          ],
          "scattermapbox": [
           {
            "marker": {
             "colorbar": {
              "outlinewidth": 0,
              "ticks": ""
             }
            },
            "type": "scattermapbox"
           }
          ],
          "scatterpolar": [
           {
            "marker": {
             "colorbar": {
              "outlinewidth": 0,
              "ticks": ""
             }
            },
            "type": "scatterpolar"
           }
          ],
          "scatterpolargl": [
           {
            "marker": {
             "colorbar": {
              "outlinewidth": 0,
              "ticks": ""
             }
            },
            "type": "scatterpolargl"
           }
          ],
          "scatterternary": [
           {
            "marker": {
             "colorbar": {
              "outlinewidth": 0,
              "ticks": ""
             }
            },
            "type": "scatterternary"
           }
          ],
          "surface": [
           {
            "colorbar": {
             "outlinewidth": 0,
             "ticks": ""
            },
            "colorscale": [
             [
              0,
              "#0d0887"
             ],
             [
              0.1111111111111111,
              "#46039f"
             ],
             [
              0.2222222222222222,
              "#7201a8"
             ],
             [
              0.3333333333333333,
              "#9c179e"
             ],
             [
              0.4444444444444444,
              "#bd3786"
             ],
             [
              0.5555555555555556,
              "#d8576b"
             ],
             [
              0.6666666666666666,
              "#ed7953"
             ],
             [
              0.7777777777777778,
              "#fb9f3a"
             ],
             [
              0.8888888888888888,
              "#fdca26"
             ],
             [
              1,
              "#f0f921"
             ]
            ],
            "type": "surface"
           }
          ],
          "table": [
           {
            "cells": {
             "fill": {
              "color": "#EBF0F8"
             },
             "line": {
              "color": "white"
             }
            },
            "header": {
             "fill": {
              "color": "#C8D4E3"
             },
             "line": {
              "color": "white"
             }
            },
            "type": "table"
           }
          ]
         },
         "layout": {
          "annotationdefaults": {
           "arrowcolor": "#2a3f5f",
           "arrowhead": 0,
           "arrowwidth": 1
          },
          "autotypenumbers": "strict",
          "coloraxis": {
           "colorbar": {
            "outlinewidth": 0,
            "ticks": ""
           }
          },
          "colorscale": {
           "diverging": [
            [
             0,
             "#8e0152"
            ],
            [
             0.1,
             "#c51b7d"
            ],
            [
             0.2,
             "#de77ae"
            ],
            [
             0.3,
             "#f1b6da"
            ],
            [
             0.4,
             "#fde0ef"
            ],
            [
             0.5,
             "#f7f7f7"
            ],
            [
             0.6,
             "#e6f5d0"
            ],
            [
             0.7,
             "#b8e186"
            ],
            [
             0.8,
             "#7fbc41"
            ],
            [
             0.9,
             "#4d9221"
            ],
            [
             1,
             "#276419"
            ]
           ],
           "sequential": [
            [
             0,
             "#0d0887"
            ],
            [
             0.1111111111111111,
             "#46039f"
            ],
            [
             0.2222222222222222,
             "#7201a8"
            ],
            [
             0.3333333333333333,
             "#9c179e"
            ],
            [
             0.4444444444444444,
             "#bd3786"
            ],
            [
             0.5555555555555556,
             "#d8576b"
            ],
            [
             0.6666666666666666,
             "#ed7953"
            ],
            [
             0.7777777777777778,
             "#fb9f3a"
            ],
            [
             0.8888888888888888,
             "#fdca26"
            ],
            [
             1,
             "#f0f921"
            ]
           ],
           "sequentialminus": [
            [
             0,
             "#0d0887"
            ],
            [
             0.1111111111111111,
             "#46039f"
            ],
            [
             0.2222222222222222,
             "#7201a8"
            ],
            [
             0.3333333333333333,
             "#9c179e"
            ],
            [
             0.4444444444444444,
             "#bd3786"
            ],
            [
             0.5555555555555556,
             "#d8576b"
            ],
            [
             0.6666666666666666,
             "#ed7953"
            ],
            [
             0.7777777777777778,
             "#fb9f3a"
            ],
            [
             0.8888888888888888,
             "#fdca26"
            ],
            [
             1,
             "#f0f921"
            ]
           ]
          },
          "colorway": [
           "#636efa",
           "#EF553B",
           "#00cc96",
           "#ab63fa",
           "#FFA15A",
           "#19d3f3",
           "#FF6692",
           "#B6E880",
           "#FF97FF",
           "#FECB52"
          ],
          "font": {
           "color": "#2a3f5f"
          },
          "geo": {
           "bgcolor": "white",
           "lakecolor": "white",
           "landcolor": "#E5ECF6",
           "showlakes": true,
           "showland": true,
           "subunitcolor": "white"
          },
          "hoverlabel": {
           "align": "left"
          },
          "hovermode": "closest",
          "mapbox": {
           "style": "light"
          },
          "paper_bgcolor": "white",
          "plot_bgcolor": "#E5ECF6",
          "polar": {
           "angularaxis": {
            "gridcolor": "white",
            "linecolor": "white",
            "ticks": ""
           },
           "bgcolor": "#E5ECF6",
           "radialaxis": {
            "gridcolor": "white",
            "linecolor": "white",
            "ticks": ""
           }
          },
          "scene": {
           "xaxis": {
            "backgroundcolor": "#E5ECF6",
            "gridcolor": "white",
            "gridwidth": 2,
            "linecolor": "white",
            "showbackground": true,
            "ticks": "",
            "zerolinecolor": "white"
           },
           "yaxis": {
            "backgroundcolor": "#E5ECF6",
            "gridcolor": "white",
            "gridwidth": 2,
            "linecolor": "white",
            "showbackground": true,
            "ticks": "",
            "zerolinecolor": "white"
           },
           "zaxis": {
            "backgroundcolor": "#E5ECF6",
            "gridcolor": "white",
            "gridwidth": 2,
            "linecolor": "white",
            "showbackground": true,
            "ticks": "",
            "zerolinecolor": "white"
           }
          },
          "shapedefaults": {
           "line": {
            "color": "#2a3f5f"
           }
          },
          "ternary": {
           "aaxis": {
            "gridcolor": "white",
            "linecolor": "white",
            "ticks": ""
           },
           "baxis": {
            "gridcolor": "white",
            "linecolor": "white",
            "ticks": ""
           },
           "bgcolor": "#E5ECF6",
           "caxis": {
            "gridcolor": "white",
            "linecolor": "white",
            "ticks": ""
           }
          },
          "title": {
           "x": 0.05
          },
          "xaxis": {
           "automargin": true,
           "gridcolor": "white",
           "linecolor": "white",
           "ticks": "",
           "title": {
            "standoff": 15
           },
           "zerolinecolor": "white",
           "zerolinewidth": 2
          },
          "yaxis": {
           "automargin": true,
           "gridcolor": "white",
           "linecolor": "white",
           "ticks": "",
           "title": {
            "standoff": 15
           },
           "zerolinecolor": "white",
           "zerolinewidth": 2
          }
         }
        },
        "title": {
         "text": "Comparisons for Exteriors and Windows"
        },
        "xaxis": {
         "anchor": "y",
         "domain": [
          0,
          0.45
         ],
         "title": {
          "text": "Adjusted Values"
         }
        },
        "xaxis2": {
         "anchor": "y2",
         "domain": [
          0.55,
          1
         ],
         "title": {
          "text": "Percent Change from Original [%]"
         }
        },
        "xaxis3": {
         "anchor": "y3",
         "domain": [
          0,
          0.45
         ],
         "title": {
          "text": "Cost Savings [$]"
         }
        },
        "xaxis4": {
         "anchor": "y4",
         "domain": [
          0.55,
          1
         ],
         "title": {
          "text": "Adjusted Values"
         }
        },
        "yaxis": {
         "anchor": "x",
         "domain": [
          0.625,
          1
         ],
         "title": {
          "text": "Energy [kWh]"
         }
        },
        "yaxis2": {
         "anchor": "x2",
         "domain": [
          0.625,
          1
         ]
        },
        "yaxis3": {
         "anchor": "x3",
         "domain": [
          0,
          0.375
         ],
         "title": {
          "text": "Energy Savings [kWh]"
         }
        },
        "yaxis4": {
         "anchor": "x4",
         "domain": [
          0,
          0.375
         ]
        }
       }
      }
     },
     "metadata": {},
     "output_type": "display_data"
    },
    {
     "name": "stdout",
     "output_type": "stream",
     "text": [
      "Link  https://plotly.com/~jnwagwu/163/\n"
     ]
    },
    {
     "data": {
      "application/vnd.plotly.v1+json": {
       "config": {
        "plotlyServerURL": "https://plotly.com"
       },
       "data": [
        {
         "type": "bar",
         "x": [
          "wall_b1",
          "floor_2",
          "roof_0",
          "window_u",
          "shgc_b1"
         ],
         "y": [
          -0.733514851730494,
          0.3851411093272883,
          -0.722348967307798,
          0.9970116750112445,
          0.9978215637948973
         ]
        }
       ],
       "layout": {
        "template": {
         "data": {
          "bar": [
           {
            "error_x": {
             "color": "#2a3f5f"
            },
            "error_y": {
             "color": "#2a3f5f"
            },
            "marker": {
             "line": {
              "color": "#E5ECF6",
              "width": 0.5
             },
             "pattern": {
              "fillmode": "overlay",
              "size": 10,
              "solidity": 0.2
             }
            },
            "type": "bar"
           }
          ],
          "barpolar": [
           {
            "marker": {
             "line": {
              "color": "#E5ECF6",
              "width": 0.5
             },
             "pattern": {
              "fillmode": "overlay",
              "size": 10,
              "solidity": 0.2
             }
            },
            "type": "barpolar"
           }
          ],
          "carpet": [
           {
            "aaxis": {
             "endlinecolor": "#2a3f5f",
             "gridcolor": "white",
             "linecolor": "white",
             "minorgridcolor": "white",
             "startlinecolor": "#2a3f5f"
            },
            "baxis": {
             "endlinecolor": "#2a3f5f",
             "gridcolor": "white",
             "linecolor": "white",
             "minorgridcolor": "white",
             "startlinecolor": "#2a3f5f"
            },
            "type": "carpet"
           }
          ],
          "choropleth": [
           {
            "colorbar": {
             "outlinewidth": 0,
             "ticks": ""
            },
            "type": "choropleth"
           }
          ],
          "contour": [
           {
            "colorbar": {
             "outlinewidth": 0,
             "ticks": ""
            },
            "colorscale": [
             [
              0,
              "#0d0887"
             ],
             [
              0.1111111111111111,
              "#46039f"
             ],
             [
              0.2222222222222222,
              "#7201a8"
             ],
             [
              0.3333333333333333,
              "#9c179e"
             ],
             [
              0.4444444444444444,
              "#bd3786"
             ],
             [
              0.5555555555555556,
              "#d8576b"
             ],
             [
              0.6666666666666666,
              "#ed7953"
             ],
             [
              0.7777777777777778,
              "#fb9f3a"
             ],
             [
              0.8888888888888888,
              "#fdca26"
             ],
             [
              1,
              "#f0f921"
             ]
            ],
            "type": "contour"
           }
          ],
          "contourcarpet": [
           {
            "colorbar": {
             "outlinewidth": 0,
             "ticks": ""
            },
            "type": "contourcarpet"
           }
          ],
          "heatmap": [
           {
            "colorbar": {
             "outlinewidth": 0,
             "ticks": ""
            },
            "colorscale": [
             [
              0,
              "#0d0887"
             ],
             [
              0.1111111111111111,
              "#46039f"
             ],
             [
              0.2222222222222222,
              "#7201a8"
             ],
             [
              0.3333333333333333,
              "#9c179e"
             ],
             [
              0.4444444444444444,
              "#bd3786"
             ],
             [
              0.5555555555555556,
              "#d8576b"
             ],
             [
              0.6666666666666666,
              "#ed7953"
             ],
             [
              0.7777777777777778,
              "#fb9f3a"
             ],
             [
              0.8888888888888888,
              "#fdca26"
             ],
             [
              1,
              "#f0f921"
             ]
            ],
            "type": "heatmap"
           }
          ],
          "heatmapgl": [
           {
            "colorbar": {
             "outlinewidth": 0,
             "ticks": ""
            },
            "colorscale": [
             [
              0,
              "#0d0887"
             ],
             [
              0.1111111111111111,
              "#46039f"
             ],
             [
              0.2222222222222222,
              "#7201a8"
             ],
             [
              0.3333333333333333,
              "#9c179e"
             ],
             [
              0.4444444444444444,
              "#bd3786"
             ],
             [
              0.5555555555555556,
              "#d8576b"
             ],
             [
              0.6666666666666666,
              "#ed7953"
             ],
             [
              0.7777777777777778,
              "#fb9f3a"
             ],
             [
              0.8888888888888888,
              "#fdca26"
             ],
             [
              1,
              "#f0f921"
             ]
            ],
            "type": "heatmapgl"
           }
          ],
          "histogram": [
           {
            "marker": {
             "pattern": {
              "fillmode": "overlay",
              "size": 10,
              "solidity": 0.2
             }
            },
            "type": "histogram"
           }
          ],
          "histogram2d": [
           {
            "colorbar": {
             "outlinewidth": 0,
             "ticks": ""
            },
            "colorscale": [
             [
              0,
              "#0d0887"
             ],
             [
              0.1111111111111111,
              "#46039f"
             ],
             [
              0.2222222222222222,
              "#7201a8"
             ],
             [
              0.3333333333333333,
              "#9c179e"
             ],
             [
              0.4444444444444444,
              "#bd3786"
             ],
             [
              0.5555555555555556,
              "#d8576b"
             ],
             [
              0.6666666666666666,
              "#ed7953"
             ],
             [
              0.7777777777777778,
              "#fb9f3a"
             ],
             [
              0.8888888888888888,
              "#fdca26"
             ],
             [
              1,
              "#f0f921"
             ]
            ],
            "type": "histogram2d"
           }
          ],
          "histogram2dcontour": [
           {
            "colorbar": {
             "outlinewidth": 0,
             "ticks": ""
            },
            "colorscale": [
             [
              0,
              "#0d0887"
             ],
             [
              0.1111111111111111,
              "#46039f"
             ],
             [
              0.2222222222222222,
              "#7201a8"
             ],
             [
              0.3333333333333333,
              "#9c179e"
             ],
             [
              0.4444444444444444,
              "#bd3786"
             ],
             [
              0.5555555555555556,
              "#d8576b"
             ],
             [
              0.6666666666666666,
              "#ed7953"
             ],
             [
              0.7777777777777778,
              "#fb9f3a"
             ],
             [
              0.8888888888888888,
              "#fdca26"
             ],
             [
              1,
              "#f0f921"
             ]
            ],
            "type": "histogram2dcontour"
           }
          ],
          "mesh3d": [
           {
            "colorbar": {
             "outlinewidth": 0,
             "ticks": ""
            },
            "type": "mesh3d"
           }
          ],
          "parcoords": [
           {
            "line": {
             "colorbar": {
              "outlinewidth": 0,
              "ticks": ""
             }
            },
            "type": "parcoords"
           }
          ],
          "pie": [
           {
            "automargin": true,
            "type": "pie"
           }
          ],
          "scatter": [
           {
            "marker": {
             "colorbar": {
              "outlinewidth": 0,
              "ticks": ""
             }
            },
            "type": "scatter"
           }
          ],
          "scatter3d": [
           {
            "line": {
             "colorbar": {
              "outlinewidth": 0,
              "ticks": ""
             }
            },
            "marker": {
             "colorbar": {
              "outlinewidth": 0,
              "ticks": ""
             }
            },
            "type": "scatter3d"
           }
          ],
          "scattercarpet": [
           {
            "marker": {
             "colorbar": {
              "outlinewidth": 0,
              "ticks": ""
             }
            },
            "type": "scattercarpet"
           }
          ],
          "scattergeo": [
           {
            "marker": {
             "colorbar": {
              "outlinewidth": 0,
              "ticks": ""
             }
            },
            "type": "scattergeo"
           }
          ],
          "scattergl": [
           {
            "marker": {
             "colorbar": {
              "outlinewidth": 0,
              "ticks": ""
             }
            },
            "type": "scattergl"
           }
          ],
          "scattermapbox": [
           {
            "marker": {
             "colorbar": {
              "outlinewidth": 0,
              "ticks": ""
             }
            },
            "type": "scattermapbox"
           }
          ],
          "scatterpolar": [
           {
            "marker": {
             "colorbar": {
              "outlinewidth": 0,
              "ticks": ""
             }
            },
            "type": "scatterpolar"
           }
          ],
          "scatterpolargl": [
           {
            "marker": {
             "colorbar": {
              "outlinewidth": 0,
              "ticks": ""
             }
            },
            "type": "scatterpolargl"
           }
          ],
          "scatterternary": [
           {
            "marker": {
             "colorbar": {
              "outlinewidth": 0,
              "ticks": ""
             }
            },
            "type": "scatterternary"
           }
          ],
          "surface": [
           {
            "colorbar": {
             "outlinewidth": 0,
             "ticks": ""
            },
            "colorscale": [
             [
              0,
              "#0d0887"
             ],
             [
              0.1111111111111111,
              "#46039f"
             ],
             [
              0.2222222222222222,
              "#7201a8"
             ],
             [
              0.3333333333333333,
              "#9c179e"
             ],
             [
              0.4444444444444444,
              "#bd3786"
             ],
             [
              0.5555555555555556,
              "#d8576b"
             ],
             [
              0.6666666666666666,
              "#ed7953"
             ],
             [
              0.7777777777777778,
              "#fb9f3a"
             ],
             [
              0.8888888888888888,
              "#fdca26"
             ],
             [
              1,
              "#f0f921"
             ]
            ],
            "type": "surface"
           }
          ],
          "table": [
           {
            "cells": {
             "fill": {
              "color": "#EBF0F8"
             },
             "line": {
              "color": "white"
             }
            },
            "header": {
             "fill": {
              "color": "#C8D4E3"
             },
             "line": {
              "color": "white"
             }
            },
            "type": "table"
           }
          ]
         },
         "layout": {
          "annotationdefaults": {
           "arrowcolor": "#2a3f5f",
           "arrowhead": 0,
           "arrowwidth": 1
          },
          "autotypenumbers": "strict",
          "coloraxis": {
           "colorbar": {
            "outlinewidth": 0,
            "ticks": ""
           }
          },
          "colorscale": {
           "diverging": [
            [
             0,
             "#8e0152"
            ],
            [
             0.1,
             "#c51b7d"
            ],
            [
             0.2,
             "#de77ae"
            ],
            [
             0.3,
             "#f1b6da"
            ],
            [
             0.4,
             "#fde0ef"
            ],
            [
             0.5,
             "#f7f7f7"
            ],
            [
             0.6,
             "#e6f5d0"
            ],
            [
             0.7,
             "#b8e186"
            ],
            [
             0.8,
             "#7fbc41"
            ],
            [
             0.9,
             "#4d9221"
            ],
            [
             1,
             "#276419"
            ]
           ],
           "sequential": [
            [
             0,
             "#0d0887"
            ],
            [
             0.1111111111111111,
             "#46039f"
            ],
            [
             0.2222222222222222,
             "#7201a8"
            ],
            [
             0.3333333333333333,
             "#9c179e"
            ],
            [
             0.4444444444444444,
             "#bd3786"
            ],
            [
             0.5555555555555556,
             "#d8576b"
            ],
            [
             0.6666666666666666,
             "#ed7953"
            ],
            [
             0.7777777777777778,
             "#fb9f3a"
            ],
            [
             0.8888888888888888,
             "#fdca26"
            ],
            [
             1,
             "#f0f921"
            ]
           ],
           "sequentialminus": [
            [
             0,
             "#0d0887"
            ],
            [
             0.1111111111111111,
             "#46039f"
            ],
            [
             0.2222222222222222,
             "#7201a8"
            ],
            [
             0.3333333333333333,
             "#9c179e"
            ],
            [
             0.4444444444444444,
             "#bd3786"
            ],
            [
             0.5555555555555556,
             "#d8576b"
            ],
            [
             0.6666666666666666,
             "#ed7953"
            ],
            [
             0.7777777777777778,
             "#fb9f3a"
            ],
            [
             0.8888888888888888,
             "#fdca26"
            ],
            [
             1,
             "#f0f921"
            ]
           ]
          },
          "colorway": [
           "#636efa",
           "#EF553B",
           "#00cc96",
           "#ab63fa",
           "#FFA15A",
           "#19d3f3",
           "#FF6692",
           "#B6E880",
           "#FF97FF",
           "#FECB52"
          ],
          "font": {
           "color": "#2a3f5f"
          },
          "geo": {
           "bgcolor": "white",
           "lakecolor": "white",
           "landcolor": "#E5ECF6",
           "showlakes": true,
           "showland": true,
           "subunitcolor": "white"
          },
          "hoverlabel": {
           "align": "left"
          },
          "hovermode": "closest",
          "mapbox": {
           "style": "light"
          },
          "paper_bgcolor": "white",
          "plot_bgcolor": "#E5ECF6",
          "polar": {
           "angularaxis": {
            "gridcolor": "white",
            "linecolor": "white",
            "ticks": ""
           },
           "bgcolor": "#E5ECF6",
           "radialaxis": {
            "gridcolor": "white",
            "linecolor": "white",
            "ticks": ""
           }
          },
          "scene": {
           "xaxis": {
            "backgroundcolor": "#E5ECF6",
            "gridcolor": "white",
            "gridwidth": 2,
            "linecolor": "white",
            "showbackground": true,
            "ticks": "",
            "zerolinecolor": "white"
           },
           "yaxis": {
            "backgroundcolor": "#E5ECF6",
            "gridcolor": "white",
            "gridwidth": 2,
            "linecolor": "white",
            "showbackground": true,
            "ticks": "",
            "zerolinecolor": "white"
           },
           "zaxis": {
            "backgroundcolor": "#E5ECF6",
            "gridcolor": "white",
            "gridwidth": 2,
            "linecolor": "white",
            "showbackground": true,
            "ticks": "",
            "zerolinecolor": "white"
           }
          },
          "shapedefaults": {
           "line": {
            "color": "#2a3f5f"
           }
          },
          "ternary": {
           "aaxis": {
            "gridcolor": "white",
            "linecolor": "white",
            "ticks": ""
           },
           "baxis": {
            "gridcolor": "white",
            "linecolor": "white",
            "ticks": ""
           },
           "bgcolor": "#E5ECF6",
           "caxis": {
            "gridcolor": "white",
            "linecolor": "white",
            "ticks": ""
           }
          },
          "title": {
           "x": 0.05
          },
          "xaxis": {
           "automargin": true,
           "gridcolor": "white",
           "linecolor": "white",
           "ticks": "",
           "title": {
            "standoff": 15
           },
           "zerolinecolor": "white",
           "zerolinewidth": 2
          },
          "yaxis": {
           "automargin": true,
           "gridcolor": "white",
           "linecolor": "white",
           "ticks": "",
           "title": {
            "standoff": 15
           },
           "zerolinecolor": "white",
           "zerolinewidth": 2
          }
         }
        },
        "title": {
         "text": "Correlation between Value and Energy Use"
        },
        "xaxis": {
         "title": {
          "text": "Groups"
         }
        },
        "yaxis": {
         "title": {
          "text": "Correlation"
         }
        }
       }
      }
     },
     "metadata": {},
     "output_type": "display_data"
    }
   ],
   "source": [
    "data = get_group(\"Exteriors and Windows\", False)\n",
    "four_compare(data[0], data[1], data[2], data[3])\n",
    "correlations(data[1], data[2])"
   ]
  },
  {
   "cell_type": "markdown",
   "metadata": {},
   "source": [
    "# Lighting, Equip"
   ]
  },
  {
   "cell_type": "code",
   "execution_count": 19,
   "metadata": {},
   "outputs": [
    {
     "data": {
      "application/vnd.plotly.v1+json": {
       "config": {
        "plotlyServerURL": "https://plotly.com"
       },
       "data": [
        {
         "legendgroup": "Groups",
         "line": {
          "color": "rgb(229, 134, 6)"
         },
         "marker": {
          "size": 16.001
         },
         "mode": "lines+markers",
         "name": "Light Power Density [W/ft2]",
         "showlegend": true,
         "type": "scatter",
         "x": [
          0.024608940172031572,
          0.307611752150395,
          0.6152235043007901,
          0.9228352564511852,
          1.1074023077414221,
          1.1689246581715012,
          1.1996858333865406,
          1.2181425385155642,
          1.2304470086015802
         ],
         "xaxis": "x",
         "y": [
          248636.39523506915,
          254854.2848434877,
          262066.1334408329,
          270383.18250382,
          275733.3787363006,
          277549.5769678012,
          278465.6834896733,
          279017.0359578296,
          279385.5704356383
         ],
         "yaxis": "y"
        },
        {
         "legendgroup": "Groups",
         "line": {
          "color": "rgb(93, 105, 177)"
         },
         "marker": {
          "size": 14.001999999999999
         },
         "mode": "lines+markers",
         "name": "Equip. Power Density [W/ft2]",
         "showlegend": true,
         "type": "scatter",
         "x": [
          0.03717472118959095,
          0.46468401486988853,
          0.9293680297397771,
          1.3940520446096656,
          1.6728624535315986,
          1.7657992565055765,
          1.8122676579925652,
          1.8401486988847586,
          1.8587360594795541
         ],
         "xaxis": "x",
         "y": [
          224057.50738412864,
          234214.4531521108,
          246571.05634670836,
          261522.8745234703,
          271924.69385219767,
          275599.7615923967,
          277479.1806196801,
          278620.70307889377,
          279385.5704356383
         ],
         "yaxis": "y"
        },
        {
         "legendgroup": "Groups",
         "line": {
          "color": "rgb(229, 134, 6)"
         },
         "marker": {
          "size": 16.001
         },
         "mode": "lines+markers",
         "name": "light_0",
         "showlegend": false,
         "type": "scatter",
         "x": [
          -98,
          -75,
          -50,
          -25,
          -10,
          -5,
          -2.5,
          -1,
          0
         ],
         "xaxis": "x2",
         "y": [
          248636.39523506915,
          254854.2848434877,
          262066.1334408329,
          270383.18250382,
          275733.3787363006,
          277549.5769678012,
          278465.6834896733,
          279017.0359578296,
          279385.5704356383
         ],
         "yaxis": "y2"
        },
        {
         "legendgroup": "Groups",
         "line": {
          "color": "rgb(93, 105, 177)"
         },
         "marker": {
          "size": 14.001999999999999
         },
         "mode": "lines+markers",
         "name": "equip_0",
         "showlegend": false,
         "type": "scatter",
         "x": [
          -98,
          -75,
          -50,
          -25,
          -10,
          -5,
          -2.5,
          -1,
          0
         ],
         "xaxis": "x2",
         "y": [
          224057.50738412864,
          234214.4531521108,
          246571.05634670836,
          261522.8745234703,
          271924.69385219767,
          275599.7615923967,
          277479.1806196801,
          278620.70307889377,
          279385.5704356383
         ],
         "yaxis": "y2"
        },
        {
         "legendgroup": "Groups",
         "line": {
          "color": "rgb(229, 134, 6)"
         },
         "marker": {
          "size": 16.001
         },
         "mode": "lines+markers",
         "name": "light_0",
         "showlegend": false,
         "type": "scatter",
         "x": [
          5945.779999999999,
          4693.580000000002,
          3268.1500000000015,
          1674.9300000000003,
          677.2700000000041,
          339.7099999999991,
          169.76000000000204,
          67.93000000000029,
          0
         ],
         "xaxis": "x3",
         "y": [
          30749.175200569152,
          24531.285592150613,
          17319.436994805408,
          9002.387931818317,
          3652.19169933768,
          1835.9934678371064,
          919.8869459650014,
          368.53447780868737,
          0
         ],
         "yaxis": "y3"
        },
        {
         "legendgroup": "Groups",
         "line": {
          "color": "rgb(93, 105, 177)"
         },
         "marker": {
          "size": 14.001999999999999
         },
         "mode": "lines+markers",
         "name": "equip_0",
         "showlegend": false,
         "type": "scatter",
         "x": [
          11057.04,
          8858.330000000002,
          6284.510000000002,
          3344.3700000000026,
          1378.5999999999985,
          696.7099999999991,
          349.9599999999991,
          139.86000000000786,
          0
         ],
         "xaxis": "x3",
         "y": [
          55328.06305150967,
          45171.11728352751,
          32814.51408892995,
          17862.695912168012,
          7460.876583440637,
          3785.808843241597,
          1906.3898159582168,
          764.8673567445367,
          0
         ],
         "yaxis": "y3"
        },
        {
         "legendgroup": "Groups",
         "line": {
          "color": "rgb(229, 134, 6)"
         },
         "marker": {
          "size": 16.001
         },
         "mode": "lines+markers",
         "name": "light_0",
         "showlegend": false,
         "type": "scatter",
         "x": [
          0.024608940172031572,
          0.307611752150395,
          0.6152235043007901,
          0.9228352564511852,
          1.1074023077414221,
          1.1689246581715012,
          1.1996858333865406,
          1.2181425385155642,
          1.2304470086015802
         ],
         "xaxis": "x4",
         "y": [
          30749.175200569152,
          24531.285592150613,
          17319.436994805408,
          9002.387931818317,
          3652.19169933768,
          1835.9934678371064,
          919.8869459650014,
          368.53447780868737,
          0
         ],
         "yaxis": "y4"
        },
        {
         "legendgroup": "Groups",
         "line": {
          "color": "rgb(93, 105, 177)"
         },
         "marker": {
          "size": 14.001999999999999
         },
         "mode": "lines+markers",
         "name": "equip_0",
         "showlegend": false,
         "type": "scatter",
         "x": [
          0.03717472118959095,
          0.46468401486988853,
          0.9293680297397771,
          1.3940520446096656,
          1.6728624535315986,
          1.7657992565055765,
          1.8122676579925652,
          1.8401486988847586,
          1.8587360594795541
         ],
         "xaxis": "x4",
         "y": [
          55328.06305150967,
          45171.11728352751,
          32814.51408892995,
          17862.695912168012,
          7460.876583440637,
          3785.808843241597,
          1906.3898159582168,
          764.8673567445367,
          0
         ],
         "yaxis": "y4"
        }
       ],
       "layout": {
        "annotations": [
         {
          "font": {
           "size": 16
          },
          "showarrow": false,
          "text": "Energy Consumption vs Adjusted Values",
          "x": 0.225,
          "xanchor": "center",
          "xref": "paper",
          "y": 1,
          "yanchor": "bottom",
          "yref": "paper"
         },
         {
          "font": {
           "size": 16
          },
          "showarrow": false,
          "text": "Energy Consumption vs Percent Change",
          "x": 0.775,
          "xanchor": "center",
          "xref": "paper",
          "y": 1,
          "yanchor": "bottom",
          "yref": "paper"
         },
         {
          "font": {
           "size": 16
          },
          "showarrow": false,
          "text": "Energy Savings vs Cost Savings",
          "x": 0.225,
          "xanchor": "center",
          "xref": "paper",
          "y": 0.375,
          "yanchor": "bottom",
          "yref": "paper"
         },
         {
          "font": {
           "size": 16
          },
          "showarrow": false,
          "text": "Energy Savings vs Adjusted Values",
          "x": 0.775,
          "xanchor": "center",
          "xref": "paper",
          "y": 0.375,
          "yanchor": "bottom",
          "yref": "paper"
         }
        ],
        "template": {
         "data": {
          "bar": [
           {
            "error_x": {
             "color": "#2a3f5f"
            },
            "error_y": {
             "color": "#2a3f5f"
            },
            "marker": {
             "line": {
              "color": "#E5ECF6",
              "width": 0.5
             },
             "pattern": {
              "fillmode": "overlay",
              "size": 10,
              "solidity": 0.2
             }
            },
            "type": "bar"
           }
          ],
          "barpolar": [
           {
            "marker": {
             "line": {
              "color": "#E5ECF6",
              "width": 0.5
             },
             "pattern": {
              "fillmode": "overlay",
              "size": 10,
              "solidity": 0.2
             }
            },
            "type": "barpolar"
           }
          ],
          "carpet": [
           {
            "aaxis": {
             "endlinecolor": "#2a3f5f",
             "gridcolor": "white",
             "linecolor": "white",
             "minorgridcolor": "white",
             "startlinecolor": "#2a3f5f"
            },
            "baxis": {
             "endlinecolor": "#2a3f5f",
             "gridcolor": "white",
             "linecolor": "white",
             "minorgridcolor": "white",
             "startlinecolor": "#2a3f5f"
            },
            "type": "carpet"
           }
          ],
          "choropleth": [
           {
            "colorbar": {
             "outlinewidth": 0,
             "ticks": ""
            },
            "type": "choropleth"
           }
          ],
          "contour": [
           {
            "colorbar": {
             "outlinewidth": 0,
             "ticks": ""
            },
            "colorscale": [
             [
              0,
              "#0d0887"
             ],
             [
              0.1111111111111111,
              "#46039f"
             ],
             [
              0.2222222222222222,
              "#7201a8"
             ],
             [
              0.3333333333333333,
              "#9c179e"
             ],
             [
              0.4444444444444444,
              "#bd3786"
             ],
             [
              0.5555555555555556,
              "#d8576b"
             ],
             [
              0.6666666666666666,
              "#ed7953"
             ],
             [
              0.7777777777777778,
              "#fb9f3a"
             ],
             [
              0.8888888888888888,
              "#fdca26"
             ],
             [
              1,
              "#f0f921"
             ]
            ],
            "type": "contour"
           }
          ],
          "contourcarpet": [
           {
            "colorbar": {
             "outlinewidth": 0,
             "ticks": ""
            },
            "type": "contourcarpet"
           }
          ],
          "heatmap": [
           {
            "colorbar": {
             "outlinewidth": 0,
             "ticks": ""
            },
            "colorscale": [
             [
              0,
              "#0d0887"
             ],
             [
              0.1111111111111111,
              "#46039f"
             ],
             [
              0.2222222222222222,
              "#7201a8"
             ],
             [
              0.3333333333333333,
              "#9c179e"
             ],
             [
              0.4444444444444444,
              "#bd3786"
             ],
             [
              0.5555555555555556,
              "#d8576b"
             ],
             [
              0.6666666666666666,
              "#ed7953"
             ],
             [
              0.7777777777777778,
              "#fb9f3a"
             ],
             [
              0.8888888888888888,
              "#fdca26"
             ],
             [
              1,
              "#f0f921"
             ]
            ],
            "type": "heatmap"
           }
          ],
          "heatmapgl": [
           {
            "colorbar": {
             "outlinewidth": 0,
             "ticks": ""
            },
            "colorscale": [
             [
              0,
              "#0d0887"
             ],
             [
              0.1111111111111111,
              "#46039f"
             ],
             [
              0.2222222222222222,
              "#7201a8"
             ],
             [
              0.3333333333333333,
              "#9c179e"
             ],
             [
              0.4444444444444444,
              "#bd3786"
             ],
             [
              0.5555555555555556,
              "#d8576b"
             ],
             [
              0.6666666666666666,
              "#ed7953"
             ],
             [
              0.7777777777777778,
              "#fb9f3a"
             ],
             [
              0.8888888888888888,
              "#fdca26"
             ],
             [
              1,
              "#f0f921"
             ]
            ],
            "type": "heatmapgl"
           }
          ],
          "histogram": [
           {
            "marker": {
             "pattern": {
              "fillmode": "overlay",
              "size": 10,
              "solidity": 0.2
             }
            },
            "type": "histogram"
           }
          ],
          "histogram2d": [
           {
            "colorbar": {
             "outlinewidth": 0,
             "ticks": ""
            },
            "colorscale": [
             [
              0,
              "#0d0887"
             ],
             [
              0.1111111111111111,
              "#46039f"
             ],
             [
              0.2222222222222222,
              "#7201a8"
             ],
             [
              0.3333333333333333,
              "#9c179e"
             ],
             [
              0.4444444444444444,
              "#bd3786"
             ],
             [
              0.5555555555555556,
              "#d8576b"
             ],
             [
              0.6666666666666666,
              "#ed7953"
             ],
             [
              0.7777777777777778,
              "#fb9f3a"
             ],
             [
              0.8888888888888888,
              "#fdca26"
             ],
             [
              1,
              "#f0f921"
             ]
            ],
            "type": "histogram2d"
           }
          ],
          "histogram2dcontour": [
           {
            "colorbar": {
             "outlinewidth": 0,
             "ticks": ""
            },
            "colorscale": [
             [
              0,
              "#0d0887"
             ],
             [
              0.1111111111111111,
              "#46039f"
             ],
             [
              0.2222222222222222,
              "#7201a8"
             ],
             [
              0.3333333333333333,
              "#9c179e"
             ],
             [
              0.4444444444444444,
              "#bd3786"
             ],
             [
              0.5555555555555556,
              "#d8576b"
             ],
             [
              0.6666666666666666,
              "#ed7953"
             ],
             [
              0.7777777777777778,
              "#fb9f3a"
             ],
             [
              0.8888888888888888,
              "#fdca26"
             ],
             [
              1,
              "#f0f921"
             ]
            ],
            "type": "histogram2dcontour"
           }
          ],
          "mesh3d": [
           {
            "colorbar": {
             "outlinewidth": 0,
             "ticks": ""
            },
            "type": "mesh3d"
           }
          ],
          "parcoords": [
           {
            "line": {
             "colorbar": {
              "outlinewidth": 0,
              "ticks": ""
             }
            },
            "type": "parcoords"
           }
          ],
          "pie": [
           {
            "automargin": true,
            "type": "pie"
           }
          ],
          "scatter": [
           {
            "marker": {
             "colorbar": {
              "outlinewidth": 0,
              "ticks": ""
             }
            },
            "type": "scatter"
           }
          ],
          "scatter3d": [
           {
            "line": {
             "colorbar": {
              "outlinewidth": 0,
              "ticks": ""
             }
            },
            "marker": {
             "colorbar": {
              "outlinewidth": 0,
              "ticks": ""
             }
            },
            "type": "scatter3d"
           }
          ],
          "scattercarpet": [
           {
            "marker": {
             "colorbar": {
              "outlinewidth": 0,
              "ticks": ""
             }
            },
            "type": "scattercarpet"
           }
          ],
          "scattergeo": [
           {
            "marker": {
             "colorbar": {
              "outlinewidth": 0,
              "ticks": ""
             }
            },
            "type": "scattergeo"
           }
          ],
          "scattergl": [
           {
            "marker": {
             "colorbar": {
              "outlinewidth": 0,
              "ticks": ""
             }
            },
            "type": "scattergl"
           }
          ],
          "scattermapbox": [
           {
            "marker": {
             "colorbar": {
              "outlinewidth": 0,
              "ticks": ""
             }
            },
            "type": "scattermapbox"
           }
          ],
          "scatterpolar": [
           {
            "marker": {
             "colorbar": {
              "outlinewidth": 0,
              "ticks": ""
             }
            },
            "type": "scatterpolar"
           }
          ],
          "scatterpolargl": [
           {
            "marker": {
             "colorbar": {
              "outlinewidth": 0,
              "ticks": ""
             }
            },
            "type": "scatterpolargl"
           }
          ],
          "scatterternary": [
           {
            "marker": {
             "colorbar": {
              "outlinewidth": 0,
              "ticks": ""
             }
            },
            "type": "scatterternary"
           }
          ],
          "surface": [
           {
            "colorbar": {
             "outlinewidth": 0,
             "ticks": ""
            },
            "colorscale": [
             [
              0,
              "#0d0887"
             ],
             [
              0.1111111111111111,
              "#46039f"
             ],
             [
              0.2222222222222222,
              "#7201a8"
             ],
             [
              0.3333333333333333,
              "#9c179e"
             ],
             [
              0.4444444444444444,
              "#bd3786"
             ],
             [
              0.5555555555555556,
              "#d8576b"
             ],
             [
              0.6666666666666666,
              "#ed7953"
             ],
             [
              0.7777777777777778,
              "#fb9f3a"
             ],
             [
              0.8888888888888888,
              "#fdca26"
             ],
             [
              1,
              "#f0f921"
             ]
            ],
            "type": "surface"
           }
          ],
          "table": [
           {
            "cells": {
             "fill": {
              "color": "#EBF0F8"
             },
             "line": {
              "color": "white"
             }
            },
            "header": {
             "fill": {
              "color": "#C8D4E3"
             },
             "line": {
              "color": "white"
             }
            },
            "type": "table"
           }
          ]
         },
         "layout": {
          "annotationdefaults": {
           "arrowcolor": "#2a3f5f",
           "arrowhead": 0,
           "arrowwidth": 1
          },
          "autotypenumbers": "strict",
          "coloraxis": {
           "colorbar": {
            "outlinewidth": 0,
            "ticks": ""
           }
          },
          "colorscale": {
           "diverging": [
            [
             0,
             "#8e0152"
            ],
            [
             0.1,
             "#c51b7d"
            ],
            [
             0.2,
             "#de77ae"
            ],
            [
             0.3,
             "#f1b6da"
            ],
            [
             0.4,
             "#fde0ef"
            ],
            [
             0.5,
             "#f7f7f7"
            ],
            [
             0.6,
             "#e6f5d0"
            ],
            [
             0.7,
             "#b8e186"
            ],
            [
             0.8,
             "#7fbc41"
            ],
            [
             0.9,
             "#4d9221"
            ],
            [
             1,
             "#276419"
            ]
           ],
           "sequential": [
            [
             0,
             "#0d0887"
            ],
            [
             0.1111111111111111,
             "#46039f"
            ],
            [
             0.2222222222222222,
             "#7201a8"
            ],
            [
             0.3333333333333333,
             "#9c179e"
            ],
            [
             0.4444444444444444,
             "#bd3786"
            ],
            [
             0.5555555555555556,
             "#d8576b"
            ],
            [
             0.6666666666666666,
             "#ed7953"
            ],
            [
             0.7777777777777778,
             "#fb9f3a"
            ],
            [
             0.8888888888888888,
             "#fdca26"
            ],
            [
             1,
             "#f0f921"
            ]
           ],
           "sequentialminus": [
            [
             0,
             "#0d0887"
            ],
            [
             0.1111111111111111,
             "#46039f"
            ],
            [
             0.2222222222222222,
             "#7201a8"
            ],
            [
             0.3333333333333333,
             "#9c179e"
            ],
            [
             0.4444444444444444,
             "#bd3786"
            ],
            [
             0.5555555555555556,
             "#d8576b"
            ],
            [
             0.6666666666666666,
             "#ed7953"
            ],
            [
             0.7777777777777778,
             "#fb9f3a"
            ],
            [
             0.8888888888888888,
             "#fdca26"
            ],
            [
             1,
             "#f0f921"
            ]
           ]
          },
          "colorway": [
           "#636efa",
           "#EF553B",
           "#00cc96",
           "#ab63fa",
           "#FFA15A",
           "#19d3f3",
           "#FF6692",
           "#B6E880",
           "#FF97FF",
           "#FECB52"
          ],
          "font": {
           "color": "#2a3f5f"
          },
          "geo": {
           "bgcolor": "white",
           "lakecolor": "white",
           "landcolor": "#E5ECF6",
           "showlakes": true,
           "showland": true,
           "subunitcolor": "white"
          },
          "hoverlabel": {
           "align": "left"
          },
          "hovermode": "closest",
          "mapbox": {
           "style": "light"
          },
          "paper_bgcolor": "white",
          "plot_bgcolor": "#E5ECF6",
          "polar": {
           "angularaxis": {
            "gridcolor": "white",
            "linecolor": "white",
            "ticks": ""
           },
           "bgcolor": "#E5ECF6",
           "radialaxis": {
            "gridcolor": "white",
            "linecolor": "white",
            "ticks": ""
           }
          },
          "scene": {
           "xaxis": {
            "backgroundcolor": "#E5ECF6",
            "gridcolor": "white",
            "gridwidth": 2,
            "linecolor": "white",
            "showbackground": true,
            "ticks": "",
            "zerolinecolor": "white"
           },
           "yaxis": {
            "backgroundcolor": "#E5ECF6",
            "gridcolor": "white",
            "gridwidth": 2,
            "linecolor": "white",
            "showbackground": true,
            "ticks": "",
            "zerolinecolor": "white"
           },
           "zaxis": {
            "backgroundcolor": "#E5ECF6",
            "gridcolor": "white",
            "gridwidth": 2,
            "linecolor": "white",
            "showbackground": true,
            "ticks": "",
            "zerolinecolor": "white"
           }
          },
          "shapedefaults": {
           "line": {
            "color": "#2a3f5f"
           }
          },
          "ternary": {
           "aaxis": {
            "gridcolor": "white",
            "linecolor": "white",
            "ticks": ""
           },
           "baxis": {
            "gridcolor": "white",
            "linecolor": "white",
            "ticks": ""
           },
           "bgcolor": "#E5ECF6",
           "caxis": {
            "gridcolor": "white",
            "linecolor": "white",
            "ticks": ""
           }
          },
          "title": {
           "x": 0.05
          },
          "xaxis": {
           "automargin": true,
           "gridcolor": "white",
           "linecolor": "white",
           "ticks": "",
           "title": {
            "standoff": 15
           },
           "zerolinecolor": "white",
           "zerolinewidth": 2
          },
          "yaxis": {
           "automargin": true,
           "gridcolor": "white",
           "linecolor": "white",
           "ticks": "",
           "title": {
            "standoff": 15
           },
           "zerolinecolor": "white",
           "zerolinewidth": 2
          }
         }
        },
        "title": {
         "text": "Comparisons for Electric Interior Gains"
        },
        "xaxis": {
         "anchor": "y",
         "domain": [
          0,
          0.45
         ],
         "title": {
          "text": "Adjusted Values"
         }
        },
        "xaxis2": {
         "anchor": "y2",
         "domain": [
          0.55,
          1
         ],
         "title": {
          "text": "Percent Change from Original [%]"
         }
        },
        "xaxis3": {
         "anchor": "y3",
         "domain": [
          0,
          0.45
         ],
         "title": {
          "text": "Cost Savings [$]"
         }
        },
        "xaxis4": {
         "anchor": "y4",
         "domain": [
          0.55,
          1
         ],
         "title": {
          "text": "Adjusted Values"
         }
        },
        "yaxis": {
         "anchor": "x",
         "domain": [
          0.625,
          1
         ],
         "title": {
          "text": "Energy [kWh]"
         }
        },
        "yaxis2": {
         "anchor": "x2",
         "domain": [
          0.625,
          1
         ]
        },
        "yaxis3": {
         "anchor": "x3",
         "domain": [
          0,
          0.375
         ],
         "title": {
          "text": "Energy Savings [kWh]"
         }
        },
        "yaxis4": {
         "anchor": "x4",
         "domain": [
          0,
          0.375
         ]
        }
       }
      }
     },
     "metadata": {},
     "output_type": "display_data"
    },
    {
     "name": "stdout",
     "output_type": "stream",
     "text": [
      "Link  https://plotly.com/~jnwagwu/165/\n"
     ]
    },
    {
     "data": {
      "application/vnd.plotly.v1+json": {
       "config": {
        "plotlyServerURL": "https://plotly.com"
       },
       "data": [
        {
         "type": "bar",
         "x": [
          "light_0",
          "equip_0"
         ],
         "y": [
          0.9987978513005042,
          0.99685044217826
         ]
        }
       ],
       "layout": {
        "template": {
         "data": {
          "bar": [
           {
            "error_x": {
             "color": "#2a3f5f"
            },
            "error_y": {
             "color": "#2a3f5f"
            },
            "marker": {
             "line": {
              "color": "#E5ECF6",
              "width": 0.5
             },
             "pattern": {
              "fillmode": "overlay",
              "size": 10,
              "solidity": 0.2
             }
            },
            "type": "bar"
           }
          ],
          "barpolar": [
           {
            "marker": {
             "line": {
              "color": "#E5ECF6",
              "width": 0.5
             },
             "pattern": {
              "fillmode": "overlay",
              "size": 10,
              "solidity": 0.2
             }
            },
            "type": "barpolar"
           }
          ],
          "carpet": [
           {
            "aaxis": {
             "endlinecolor": "#2a3f5f",
             "gridcolor": "white",
             "linecolor": "white",
             "minorgridcolor": "white",
             "startlinecolor": "#2a3f5f"
            },
            "baxis": {
             "endlinecolor": "#2a3f5f",
             "gridcolor": "white",
             "linecolor": "white",
             "minorgridcolor": "white",
             "startlinecolor": "#2a3f5f"
            },
            "type": "carpet"
           }
          ],
          "choropleth": [
           {
            "colorbar": {
             "outlinewidth": 0,
             "ticks": ""
            },
            "type": "choropleth"
           }
          ],
          "contour": [
           {
            "colorbar": {
             "outlinewidth": 0,
             "ticks": ""
            },
            "colorscale": [
             [
              0,
              "#0d0887"
             ],
             [
              0.1111111111111111,
              "#46039f"
             ],
             [
              0.2222222222222222,
              "#7201a8"
             ],
             [
              0.3333333333333333,
              "#9c179e"
             ],
             [
              0.4444444444444444,
              "#bd3786"
             ],
             [
              0.5555555555555556,
              "#d8576b"
             ],
             [
              0.6666666666666666,
              "#ed7953"
             ],
             [
              0.7777777777777778,
              "#fb9f3a"
             ],
             [
              0.8888888888888888,
              "#fdca26"
             ],
             [
              1,
              "#f0f921"
             ]
            ],
            "type": "contour"
           }
          ],
          "contourcarpet": [
           {
            "colorbar": {
             "outlinewidth": 0,
             "ticks": ""
            },
            "type": "contourcarpet"
           }
          ],
          "heatmap": [
           {
            "colorbar": {
             "outlinewidth": 0,
             "ticks": ""
            },
            "colorscale": [
             [
              0,
              "#0d0887"
             ],
             [
              0.1111111111111111,
              "#46039f"
             ],
             [
              0.2222222222222222,
              "#7201a8"
             ],
             [
              0.3333333333333333,
              "#9c179e"
             ],
             [
              0.4444444444444444,
              "#bd3786"
             ],
             [
              0.5555555555555556,
              "#d8576b"
             ],
             [
              0.6666666666666666,
              "#ed7953"
             ],
             [
              0.7777777777777778,
              "#fb9f3a"
             ],
             [
              0.8888888888888888,
              "#fdca26"
             ],
             [
              1,
              "#f0f921"
             ]
            ],
            "type": "heatmap"
           }
          ],
          "heatmapgl": [
           {
            "colorbar": {
             "outlinewidth": 0,
             "ticks": ""
            },
            "colorscale": [
             [
              0,
              "#0d0887"
             ],
             [
              0.1111111111111111,
              "#46039f"
             ],
             [
              0.2222222222222222,
              "#7201a8"
             ],
             [
              0.3333333333333333,
              "#9c179e"
             ],
             [
              0.4444444444444444,
              "#bd3786"
             ],
             [
              0.5555555555555556,
              "#d8576b"
             ],
             [
              0.6666666666666666,
              "#ed7953"
             ],
             [
              0.7777777777777778,
              "#fb9f3a"
             ],
             [
              0.8888888888888888,
              "#fdca26"
             ],
             [
              1,
              "#f0f921"
             ]
            ],
            "type": "heatmapgl"
           }
          ],
          "histogram": [
           {
            "marker": {
             "pattern": {
              "fillmode": "overlay",
              "size": 10,
              "solidity": 0.2
             }
            },
            "type": "histogram"
           }
          ],
          "histogram2d": [
           {
            "colorbar": {
             "outlinewidth": 0,
             "ticks": ""
            },
            "colorscale": [
             [
              0,
              "#0d0887"
             ],
             [
              0.1111111111111111,
              "#46039f"
             ],
             [
              0.2222222222222222,
              "#7201a8"
             ],
             [
              0.3333333333333333,
              "#9c179e"
             ],
             [
              0.4444444444444444,
              "#bd3786"
             ],
             [
              0.5555555555555556,
              "#d8576b"
             ],
             [
              0.6666666666666666,
              "#ed7953"
             ],
             [
              0.7777777777777778,
              "#fb9f3a"
             ],
             [
              0.8888888888888888,
              "#fdca26"
             ],
             [
              1,
              "#f0f921"
             ]
            ],
            "type": "histogram2d"
           }
          ],
          "histogram2dcontour": [
           {
            "colorbar": {
             "outlinewidth": 0,
             "ticks": ""
            },
            "colorscale": [
             [
              0,
              "#0d0887"
             ],
             [
              0.1111111111111111,
              "#46039f"
             ],
             [
              0.2222222222222222,
              "#7201a8"
             ],
             [
              0.3333333333333333,
              "#9c179e"
             ],
             [
              0.4444444444444444,
              "#bd3786"
             ],
             [
              0.5555555555555556,
              "#d8576b"
             ],
             [
              0.6666666666666666,
              "#ed7953"
             ],
             [
              0.7777777777777778,
              "#fb9f3a"
             ],
             [
              0.8888888888888888,
              "#fdca26"
             ],
             [
              1,
              "#f0f921"
             ]
            ],
            "type": "histogram2dcontour"
           }
          ],
          "mesh3d": [
           {
            "colorbar": {
             "outlinewidth": 0,
             "ticks": ""
            },
            "type": "mesh3d"
           }
          ],
          "parcoords": [
           {
            "line": {
             "colorbar": {
              "outlinewidth": 0,
              "ticks": ""
             }
            },
            "type": "parcoords"
           }
          ],
          "pie": [
           {
            "automargin": true,
            "type": "pie"
           }
          ],
          "scatter": [
           {
            "marker": {
             "colorbar": {
              "outlinewidth": 0,
              "ticks": ""
             }
            },
            "type": "scatter"
           }
          ],
          "scatter3d": [
           {
            "line": {
             "colorbar": {
              "outlinewidth": 0,
              "ticks": ""
             }
            },
            "marker": {
             "colorbar": {
              "outlinewidth": 0,
              "ticks": ""
             }
            },
            "type": "scatter3d"
           }
          ],
          "scattercarpet": [
           {
            "marker": {
             "colorbar": {
              "outlinewidth": 0,
              "ticks": ""
             }
            },
            "type": "scattercarpet"
           }
          ],
          "scattergeo": [
           {
            "marker": {
             "colorbar": {
              "outlinewidth": 0,
              "ticks": ""
             }
            },
            "type": "scattergeo"
           }
          ],
          "scattergl": [
           {
            "marker": {
             "colorbar": {
              "outlinewidth": 0,
              "ticks": ""
             }
            },
            "type": "scattergl"
           }
          ],
          "scattermapbox": [
           {
            "marker": {
             "colorbar": {
              "outlinewidth": 0,
              "ticks": ""
             }
            },
            "type": "scattermapbox"
           }
          ],
          "scatterpolar": [
           {
            "marker": {
             "colorbar": {
              "outlinewidth": 0,
              "ticks": ""
             }
            },
            "type": "scatterpolar"
           }
          ],
          "scatterpolargl": [
           {
            "marker": {
             "colorbar": {
              "outlinewidth": 0,
              "ticks": ""
             }
            },
            "type": "scatterpolargl"
           }
          ],
          "scatterternary": [
           {
            "marker": {
             "colorbar": {
              "outlinewidth": 0,
              "ticks": ""
             }
            },
            "type": "scatterternary"
           }
          ],
          "surface": [
           {
            "colorbar": {
             "outlinewidth": 0,
             "ticks": ""
            },
            "colorscale": [
             [
              0,
              "#0d0887"
             ],
             [
              0.1111111111111111,
              "#46039f"
             ],
             [
              0.2222222222222222,
              "#7201a8"
             ],
             [
              0.3333333333333333,
              "#9c179e"
             ],
             [
              0.4444444444444444,
              "#bd3786"
             ],
             [
              0.5555555555555556,
              "#d8576b"
             ],
             [
              0.6666666666666666,
              "#ed7953"
             ],
             [
              0.7777777777777778,
              "#fb9f3a"
             ],
             [
              0.8888888888888888,
              "#fdca26"
             ],
             [
              1,
              "#f0f921"
             ]
            ],
            "type": "surface"
           }
          ],
          "table": [
           {
            "cells": {
             "fill": {
              "color": "#EBF0F8"
             },
             "line": {
              "color": "white"
             }
            },
            "header": {
             "fill": {
              "color": "#C8D4E3"
             },
             "line": {
              "color": "white"
             }
            },
            "type": "table"
           }
          ]
         },
         "layout": {
          "annotationdefaults": {
           "arrowcolor": "#2a3f5f",
           "arrowhead": 0,
           "arrowwidth": 1
          },
          "autotypenumbers": "strict",
          "coloraxis": {
           "colorbar": {
            "outlinewidth": 0,
            "ticks": ""
           }
          },
          "colorscale": {
           "diverging": [
            [
             0,
             "#8e0152"
            ],
            [
             0.1,
             "#c51b7d"
            ],
            [
             0.2,
             "#de77ae"
            ],
            [
             0.3,
             "#f1b6da"
            ],
            [
             0.4,
             "#fde0ef"
            ],
            [
             0.5,
             "#f7f7f7"
            ],
            [
             0.6,
             "#e6f5d0"
            ],
            [
             0.7,
             "#b8e186"
            ],
            [
             0.8,
             "#7fbc41"
            ],
            [
             0.9,
             "#4d9221"
            ],
            [
             1,
             "#276419"
            ]
           ],
           "sequential": [
            [
             0,
             "#0d0887"
            ],
            [
             0.1111111111111111,
             "#46039f"
            ],
            [
             0.2222222222222222,
             "#7201a8"
            ],
            [
             0.3333333333333333,
             "#9c179e"
            ],
            [
             0.4444444444444444,
             "#bd3786"
            ],
            [
             0.5555555555555556,
             "#d8576b"
            ],
            [
             0.6666666666666666,
             "#ed7953"
            ],
            [
             0.7777777777777778,
             "#fb9f3a"
            ],
            [
             0.8888888888888888,
             "#fdca26"
            ],
            [
             1,
             "#f0f921"
            ]
           ],
           "sequentialminus": [
            [
             0,
             "#0d0887"
            ],
            [
             0.1111111111111111,
             "#46039f"
            ],
            [
             0.2222222222222222,
             "#7201a8"
            ],
            [
             0.3333333333333333,
             "#9c179e"
            ],
            [
             0.4444444444444444,
             "#bd3786"
            ],
            [
             0.5555555555555556,
             "#d8576b"
            ],
            [
             0.6666666666666666,
             "#ed7953"
            ],
            [
             0.7777777777777778,
             "#fb9f3a"
            ],
            [
             0.8888888888888888,
             "#fdca26"
            ],
            [
             1,
             "#f0f921"
            ]
           ]
          },
          "colorway": [
           "#636efa",
           "#EF553B",
           "#00cc96",
           "#ab63fa",
           "#FFA15A",
           "#19d3f3",
           "#FF6692",
           "#B6E880",
           "#FF97FF",
           "#FECB52"
          ],
          "font": {
           "color": "#2a3f5f"
          },
          "geo": {
           "bgcolor": "white",
           "lakecolor": "white",
           "landcolor": "#E5ECF6",
           "showlakes": true,
           "showland": true,
           "subunitcolor": "white"
          },
          "hoverlabel": {
           "align": "left"
          },
          "hovermode": "closest",
          "mapbox": {
           "style": "light"
          },
          "paper_bgcolor": "white",
          "plot_bgcolor": "#E5ECF6",
          "polar": {
           "angularaxis": {
            "gridcolor": "white",
            "linecolor": "white",
            "ticks": ""
           },
           "bgcolor": "#E5ECF6",
           "radialaxis": {
            "gridcolor": "white",
            "linecolor": "white",
            "ticks": ""
           }
          },
          "scene": {
           "xaxis": {
            "backgroundcolor": "#E5ECF6",
            "gridcolor": "white",
            "gridwidth": 2,
            "linecolor": "white",
            "showbackground": true,
            "ticks": "",
            "zerolinecolor": "white"
           },
           "yaxis": {
            "backgroundcolor": "#E5ECF6",
            "gridcolor": "white",
            "gridwidth": 2,
            "linecolor": "white",
            "showbackground": true,
            "ticks": "",
            "zerolinecolor": "white"
           },
           "zaxis": {
            "backgroundcolor": "#E5ECF6",
            "gridcolor": "white",
            "gridwidth": 2,
            "linecolor": "white",
            "showbackground": true,
            "ticks": "",
            "zerolinecolor": "white"
           }
          },
          "shapedefaults": {
           "line": {
            "color": "#2a3f5f"
           }
          },
          "ternary": {
           "aaxis": {
            "gridcolor": "white",
            "linecolor": "white",
            "ticks": ""
           },
           "baxis": {
            "gridcolor": "white",
            "linecolor": "white",
            "ticks": ""
           },
           "bgcolor": "#E5ECF6",
           "caxis": {
            "gridcolor": "white",
            "linecolor": "white",
            "ticks": ""
           }
          },
          "title": {
           "x": 0.05
          },
          "xaxis": {
           "automargin": true,
           "gridcolor": "white",
           "linecolor": "white",
           "ticks": "",
           "title": {
            "standoff": 15
           },
           "zerolinecolor": "white",
           "zerolinewidth": 2
          },
          "yaxis": {
           "automargin": true,
           "gridcolor": "white",
           "linecolor": "white",
           "ticks": "",
           "title": {
            "standoff": 15
           },
           "zerolinecolor": "white",
           "zerolinewidth": 2
          }
         }
        },
        "title": {
         "text": "Correlation between Value and Energy Use"
        },
        "xaxis": {
         "title": {
          "text": "Groups"
         }
        },
        "yaxis": {
         "title": {
          "text": "Correlation"
         }
        }
       }
      }
     },
     "metadata": {},
     "output_type": "display_data"
    }
   ],
   "source": [
    "data = get_group(\"Electric Interior Gains\", False)\n",
    "four_compare(data[0], data[1], data[2], data[3])\n",
    "correlations(data[1], data[2])"
   ]
  },
  {
   "cell_type": "markdown",
   "metadata": {},
   "source": [
    "# Setpoints"
   ]
  },
  {
   "cell_type": "code",
   "execution_count": 20,
   "metadata": {},
   "outputs": [
    {
     "data": {
      "application/vnd.plotly.v1+json": {
       "config": {
        "plotlyServerURL": "https://plotly.com"
       },
       "data": [
        {
         "legendgroup": "Groups",
         "line": {
          "color": "rgb(229, 134, 6)"
         },
         "marker": {
          "size": 16.001
         },
         "mode": "lines+markers",
         "name": "Cooling Setp. [ºF]",
         "showlegend": true,
         "type": "scatter",
         "x": [
          85.66666666666676,
          86.20333333333342,
          87.00833333333344,
          88.35000000000011,
          91.03333333333345,
          99.08333333333346,
          112.50000000000016,
          138.2600000000002,
          125.91666666666683
         ],
         "xaxis": "x",
         "y": [
          279385.5704356383,
          278083.91175732214,
          276320.3895925395,
          273918.8476320789,
          270591.9567831179,
          268516.4491122514,
          268516.44095292187,
          268516.44095292187,
          268516.44095292187
         ],
         "yaxis": "y"
        },
        {
         "legendgroup": "Groups",
         "line": {
          "color": "rgb(93, 105, 177)"
         },
         "marker": {
          "size": 14.001999999999999
         },
         "mode": "lines+markers",
         "name": "Heating Setp. [ºF]",
         "showlegend": true,
         "type": "scatter",
         "x": [
          32.692,
          40.65000000000002,
          49.30000000000004,
          57.95000000000006,
          63.14000000000007,
          64.87000000000008,
          65.73500000000007,
          66.25400000000008,
          66.60000000000008
         ],
         "xaxis": "x",
         "y": [
          240511.0265692853,
          240512.42565150812,
          240920.587803102,
          246202.88351184584,
          259664.66728995845,
          268187.372165272,
          273455.8165433415,
          276936.428302146,
          279385.5704356383
         ],
         "yaxis": "y"
        },
        {
         "legendgroup": "Groups",
         "line": {
          "color": "rgb(229, 134, 6)"
         },
         "marker": {
          "size": 16.001
         },
         "mode": "lines+markers",
         "name": "clgsetp_0",
         "showlegend": false,
         "type": "scatter",
         "x": [
          0,
          1,
          2.5,
          5,
          10,
          25,
          50,
          98,
          75
         ],
         "xaxis": "x2",
         "y": [
          279385.5704356383,
          278083.91175732214,
          276320.3895925395,
          273918.8476320789,
          270591.9567831179,
          268516.4491122514,
          268516.44095292187,
          268516.44095292187,
          268516.44095292187
         ],
         "yaxis": "y2"
        },
        {
         "legendgroup": "Groups",
         "line": {
          "color": "rgb(93, 105, 177)"
         },
         "marker": {
          "size": 14.001999999999999
         },
         "mode": "lines+markers",
         "name": "htgsetp_0",
         "showlegend": false,
         "type": "scatter",
         "x": [
          -98,
          -75,
          -50,
          -25,
          -10,
          -5,
          -2.5,
          -1,
          0
         ],
         "xaxis": "x2",
         "y": [
          240511.0265692853,
          240512.42565150812,
          240920.587803102,
          246202.88351184584,
          259664.66728995845,
          268187.372165272,
          273455.8165433415,
          276936.428302146,
          279385.5704356383
         ],
         "yaxis": "y2"
        },
        {
         "legendgroup": "Groups",
         "line": {
          "color": "rgb(229, 134, 6)"
         },
         "marker": {
          "size": 16.001
         },
         "mode": "lines+markers",
         "name": "clgsetp_0",
         "showlegend": false,
         "type": "scatter",
         "x": [
          0,
          191.5699999999997,
          454.02999999999884,
          799.310000000005,
          1269.8800000000047,
          1555.7099999999991,
          1555.7099999999991,
          1555.7099999999991,
          1555.7099999999991
         ],
         "xaxis": "x3",
         "y": [
          0,
          1301.658678316162,
          3065.1808430987876,
          5466.722803559387,
          8793.613652520406,
          10869.121323386906,
          10869.129482716438,
          10869.129482716438,
          10869.129482716438
         ],
         "yaxis": "y3"
        },
        {
         "legendgroup": "Groups",
         "line": {
          "color": "rgb(93, 105, 177)"
         },
         "marker": {
          "size": 14.001999999999999
         },
         "mode": "lines+markers",
         "name": "htgsetp_0",
         "showlegend": false,
         "type": "scatter",
         "x": [
          5311.669999999998,
          5311.480000000003,
          5255.75,
          4533.989999999998,
          2694.739999999998,
          1530.3300000000017,
          810.3499999999985,
          334.68999999999505,
          0
         ],
         "xaxis": "x3",
         "y": [
          38874.54386635299,
          38873.144784130185,
          38464.982632536296,
          33182.68692379247,
          19720.903145679855,
          11198.198270366294,
          5929.753892296809,
          2449.142133492278,
          0
         ],
         "yaxis": "y3"
        },
        {
         "legendgroup": "Groups",
         "line": {
          "color": "rgb(229, 134, 6)"
         },
         "marker": {
          "size": 16.001
         },
         "mode": "lines+markers",
         "name": "clgsetp_0",
         "showlegend": false,
         "type": "scatter",
         "x": [
          85.66666666666676,
          86.20333333333342,
          87.00833333333344,
          88.35000000000011,
          91.03333333333345,
          99.08333333333346,
          112.50000000000016,
          138.2600000000002,
          125.91666666666683
         ],
         "xaxis": "x4",
         "y": [
          0,
          1301.658678316162,
          3065.1808430987876,
          5466.722803559387,
          8793.613652520406,
          10869.121323386906,
          10869.129482716438,
          10869.129482716438,
          10869.129482716438
         ],
         "yaxis": "y4"
        },
        {
         "legendgroup": "Groups",
         "line": {
          "color": "rgb(93, 105, 177)"
         },
         "marker": {
          "size": 14.001999999999999
         },
         "mode": "lines+markers",
         "name": "htgsetp_0",
         "showlegend": false,
         "type": "scatter",
         "x": [
          32.692,
          40.65000000000002,
          49.30000000000004,
          57.95000000000006,
          63.14000000000007,
          64.87000000000008,
          65.73500000000007,
          66.25400000000008,
          66.60000000000008
         ],
         "xaxis": "x4",
         "y": [
          38874.54386635299,
          38873.144784130185,
          38464.982632536296,
          33182.68692379247,
          19720.903145679855,
          11198.198270366294,
          5929.753892296809,
          2449.142133492278,
          0
         ],
         "yaxis": "y4"
        }
       ],
       "layout": {
        "annotations": [
         {
          "font": {
           "size": 16
          },
          "showarrow": false,
          "text": "Energy Consumption vs Adjusted Values",
          "x": 0.225,
          "xanchor": "center",
          "xref": "paper",
          "y": 1,
          "yanchor": "bottom",
          "yref": "paper"
         },
         {
          "font": {
           "size": 16
          },
          "showarrow": false,
          "text": "Energy Consumption vs Percent Change",
          "x": 0.775,
          "xanchor": "center",
          "xref": "paper",
          "y": 1,
          "yanchor": "bottom",
          "yref": "paper"
         },
         {
          "font": {
           "size": 16
          },
          "showarrow": false,
          "text": "Energy Savings vs Cost Savings",
          "x": 0.225,
          "xanchor": "center",
          "xref": "paper",
          "y": 0.375,
          "yanchor": "bottom",
          "yref": "paper"
         },
         {
          "font": {
           "size": 16
          },
          "showarrow": false,
          "text": "Energy Savings vs Adjusted Values",
          "x": 0.775,
          "xanchor": "center",
          "xref": "paper",
          "y": 0.375,
          "yanchor": "bottom",
          "yref": "paper"
         }
        ],
        "template": {
         "data": {
          "bar": [
           {
            "error_x": {
             "color": "#2a3f5f"
            },
            "error_y": {
             "color": "#2a3f5f"
            },
            "marker": {
             "line": {
              "color": "#E5ECF6",
              "width": 0.5
             },
             "pattern": {
              "fillmode": "overlay",
              "size": 10,
              "solidity": 0.2
             }
            },
            "type": "bar"
           }
          ],
          "barpolar": [
           {
            "marker": {
             "line": {
              "color": "#E5ECF6",
              "width": 0.5
             },
             "pattern": {
              "fillmode": "overlay",
              "size": 10,
              "solidity": 0.2
             }
            },
            "type": "barpolar"
           }
          ],
          "carpet": [
           {
            "aaxis": {
             "endlinecolor": "#2a3f5f",
             "gridcolor": "white",
             "linecolor": "white",
             "minorgridcolor": "white",
             "startlinecolor": "#2a3f5f"
            },
            "baxis": {
             "endlinecolor": "#2a3f5f",
             "gridcolor": "white",
             "linecolor": "white",
             "minorgridcolor": "white",
             "startlinecolor": "#2a3f5f"
            },
            "type": "carpet"
           }
          ],
          "choropleth": [
           {
            "colorbar": {
             "outlinewidth": 0,
             "ticks": ""
            },
            "type": "choropleth"
           }
          ],
          "contour": [
           {
            "colorbar": {
             "outlinewidth": 0,
             "ticks": ""
            },
            "colorscale": [
             [
              0,
              "#0d0887"
             ],
             [
              0.1111111111111111,
              "#46039f"
             ],
             [
              0.2222222222222222,
              "#7201a8"
             ],
             [
              0.3333333333333333,
              "#9c179e"
             ],
             [
              0.4444444444444444,
              "#bd3786"
             ],
             [
              0.5555555555555556,
              "#d8576b"
             ],
             [
              0.6666666666666666,
              "#ed7953"
             ],
             [
              0.7777777777777778,
              "#fb9f3a"
             ],
             [
              0.8888888888888888,
              "#fdca26"
             ],
             [
              1,
              "#f0f921"
             ]
            ],
            "type": "contour"
           }
          ],
          "contourcarpet": [
           {
            "colorbar": {
             "outlinewidth": 0,
             "ticks": ""
            },
            "type": "contourcarpet"
           }
          ],
          "heatmap": [
           {
            "colorbar": {
             "outlinewidth": 0,
             "ticks": ""
            },
            "colorscale": [
             [
              0,
              "#0d0887"
             ],
             [
              0.1111111111111111,
              "#46039f"
             ],
             [
              0.2222222222222222,
              "#7201a8"
             ],
             [
              0.3333333333333333,
              "#9c179e"
             ],
             [
              0.4444444444444444,
              "#bd3786"
             ],
             [
              0.5555555555555556,
              "#d8576b"
             ],
             [
              0.6666666666666666,
              "#ed7953"
             ],
             [
              0.7777777777777778,
              "#fb9f3a"
             ],
             [
              0.8888888888888888,
              "#fdca26"
             ],
             [
              1,
              "#f0f921"
             ]
            ],
            "type": "heatmap"
           }
          ],
          "heatmapgl": [
           {
            "colorbar": {
             "outlinewidth": 0,
             "ticks": ""
            },
            "colorscale": [
             [
              0,
              "#0d0887"
             ],
             [
              0.1111111111111111,
              "#46039f"
             ],
             [
              0.2222222222222222,
              "#7201a8"
             ],
             [
              0.3333333333333333,
              "#9c179e"
             ],
             [
              0.4444444444444444,
              "#bd3786"
             ],
             [
              0.5555555555555556,
              "#d8576b"
             ],
             [
              0.6666666666666666,
              "#ed7953"
             ],
             [
              0.7777777777777778,
              "#fb9f3a"
             ],
             [
              0.8888888888888888,
              "#fdca26"
             ],
             [
              1,
              "#f0f921"
             ]
            ],
            "type": "heatmapgl"
           }
          ],
          "histogram": [
           {
            "marker": {
             "pattern": {
              "fillmode": "overlay",
              "size": 10,
              "solidity": 0.2
             }
            },
            "type": "histogram"
           }
          ],
          "histogram2d": [
           {
            "colorbar": {
             "outlinewidth": 0,
             "ticks": ""
            },
            "colorscale": [
             [
              0,
              "#0d0887"
             ],
             [
              0.1111111111111111,
              "#46039f"
             ],
             [
              0.2222222222222222,
              "#7201a8"
             ],
             [
              0.3333333333333333,
              "#9c179e"
             ],
             [
              0.4444444444444444,
              "#bd3786"
             ],
             [
              0.5555555555555556,
              "#d8576b"
             ],
             [
              0.6666666666666666,
              "#ed7953"
             ],
             [
              0.7777777777777778,
              "#fb9f3a"
             ],
             [
              0.8888888888888888,
              "#fdca26"
             ],
             [
              1,
              "#f0f921"
             ]
            ],
            "type": "histogram2d"
           }
          ],
          "histogram2dcontour": [
           {
            "colorbar": {
             "outlinewidth": 0,
             "ticks": ""
            },
            "colorscale": [
             [
              0,
              "#0d0887"
             ],
             [
              0.1111111111111111,
              "#46039f"
             ],
             [
              0.2222222222222222,
              "#7201a8"
             ],
             [
              0.3333333333333333,
              "#9c179e"
             ],
             [
              0.4444444444444444,
              "#bd3786"
             ],
             [
              0.5555555555555556,
              "#d8576b"
             ],
             [
              0.6666666666666666,
              "#ed7953"
             ],
             [
              0.7777777777777778,
              "#fb9f3a"
             ],
             [
              0.8888888888888888,
              "#fdca26"
             ],
             [
              1,
              "#f0f921"
             ]
            ],
            "type": "histogram2dcontour"
           }
          ],
          "mesh3d": [
           {
            "colorbar": {
             "outlinewidth": 0,
             "ticks": ""
            },
            "type": "mesh3d"
           }
          ],
          "parcoords": [
           {
            "line": {
             "colorbar": {
              "outlinewidth": 0,
              "ticks": ""
             }
            },
            "type": "parcoords"
           }
          ],
          "pie": [
           {
            "automargin": true,
            "type": "pie"
           }
          ],
          "scatter": [
           {
            "marker": {
             "colorbar": {
              "outlinewidth": 0,
              "ticks": ""
             }
            },
            "type": "scatter"
           }
          ],
          "scatter3d": [
           {
            "line": {
             "colorbar": {
              "outlinewidth": 0,
              "ticks": ""
             }
            },
            "marker": {
             "colorbar": {
              "outlinewidth": 0,
              "ticks": ""
             }
            },
            "type": "scatter3d"
           }
          ],
          "scattercarpet": [
           {
            "marker": {
             "colorbar": {
              "outlinewidth": 0,
              "ticks": ""
             }
            },
            "type": "scattercarpet"
           }
          ],
          "scattergeo": [
           {
            "marker": {
             "colorbar": {
              "outlinewidth": 0,
              "ticks": ""
             }
            },
            "type": "scattergeo"
           }
          ],
          "scattergl": [
           {
            "marker": {
             "colorbar": {
              "outlinewidth": 0,
              "ticks": ""
             }
            },
            "type": "scattergl"
           }
          ],
          "scattermapbox": [
           {
            "marker": {
             "colorbar": {
              "outlinewidth": 0,
              "ticks": ""
             }
            },
            "type": "scattermapbox"
           }
          ],
          "scatterpolar": [
           {
            "marker": {
             "colorbar": {
              "outlinewidth": 0,
              "ticks": ""
             }
            },
            "type": "scatterpolar"
           }
          ],
          "scatterpolargl": [
           {
            "marker": {
             "colorbar": {
              "outlinewidth": 0,
              "ticks": ""
             }
            },
            "type": "scatterpolargl"
           }
          ],
          "scatterternary": [
           {
            "marker": {
             "colorbar": {
              "outlinewidth": 0,
              "ticks": ""
             }
            },
            "type": "scatterternary"
           }
          ],
          "surface": [
           {
            "colorbar": {
             "outlinewidth": 0,
             "ticks": ""
            },
            "colorscale": [
             [
              0,
              "#0d0887"
             ],
             [
              0.1111111111111111,
              "#46039f"
             ],
             [
              0.2222222222222222,
              "#7201a8"
             ],
             [
              0.3333333333333333,
              "#9c179e"
             ],
             [
              0.4444444444444444,
              "#bd3786"
             ],
             [
              0.5555555555555556,
              "#d8576b"
             ],
             [
              0.6666666666666666,
              "#ed7953"
             ],
             [
              0.7777777777777778,
              "#fb9f3a"
             ],
             [
              0.8888888888888888,
              "#fdca26"
             ],
             [
              1,
              "#f0f921"
             ]
            ],
            "type": "surface"
           }
          ],
          "table": [
           {
            "cells": {
             "fill": {
              "color": "#EBF0F8"
             },
             "line": {
              "color": "white"
             }
            },
            "header": {
             "fill": {
              "color": "#C8D4E3"
             },
             "line": {
              "color": "white"
             }
            },
            "type": "table"
           }
          ]
         },
         "layout": {
          "annotationdefaults": {
           "arrowcolor": "#2a3f5f",
           "arrowhead": 0,
           "arrowwidth": 1
          },
          "autotypenumbers": "strict",
          "coloraxis": {
           "colorbar": {
            "outlinewidth": 0,
            "ticks": ""
           }
          },
          "colorscale": {
           "diverging": [
            [
             0,
             "#8e0152"
            ],
            [
             0.1,
             "#c51b7d"
            ],
            [
             0.2,
             "#de77ae"
            ],
            [
             0.3,
             "#f1b6da"
            ],
            [
             0.4,
             "#fde0ef"
            ],
            [
             0.5,
             "#f7f7f7"
            ],
            [
             0.6,
             "#e6f5d0"
            ],
            [
             0.7,
             "#b8e186"
            ],
            [
             0.8,
             "#7fbc41"
            ],
            [
             0.9,
             "#4d9221"
            ],
            [
             1,
             "#276419"
            ]
           ],
           "sequential": [
            [
             0,
             "#0d0887"
            ],
            [
             0.1111111111111111,
             "#46039f"
            ],
            [
             0.2222222222222222,
             "#7201a8"
            ],
            [
             0.3333333333333333,
             "#9c179e"
            ],
            [
             0.4444444444444444,
             "#bd3786"
            ],
            [
             0.5555555555555556,
             "#d8576b"
            ],
            [
             0.6666666666666666,
             "#ed7953"
            ],
            [
             0.7777777777777778,
             "#fb9f3a"
            ],
            [
             0.8888888888888888,
             "#fdca26"
            ],
            [
             1,
             "#f0f921"
            ]
           ],
           "sequentialminus": [
            [
             0,
             "#0d0887"
            ],
            [
             0.1111111111111111,
             "#46039f"
            ],
            [
             0.2222222222222222,
             "#7201a8"
            ],
            [
             0.3333333333333333,
             "#9c179e"
            ],
            [
             0.4444444444444444,
             "#bd3786"
            ],
            [
             0.5555555555555556,
             "#d8576b"
            ],
            [
             0.6666666666666666,
             "#ed7953"
            ],
            [
             0.7777777777777778,
             "#fb9f3a"
            ],
            [
             0.8888888888888888,
             "#fdca26"
            ],
            [
             1,
             "#f0f921"
            ]
           ]
          },
          "colorway": [
           "#636efa",
           "#EF553B",
           "#00cc96",
           "#ab63fa",
           "#FFA15A",
           "#19d3f3",
           "#FF6692",
           "#B6E880",
           "#FF97FF",
           "#FECB52"
          ],
          "font": {
           "color": "#2a3f5f"
          },
          "geo": {
           "bgcolor": "white",
           "lakecolor": "white",
           "landcolor": "#E5ECF6",
           "showlakes": true,
           "showland": true,
           "subunitcolor": "white"
          },
          "hoverlabel": {
           "align": "left"
          },
          "hovermode": "closest",
          "mapbox": {
           "style": "light"
          },
          "paper_bgcolor": "white",
          "plot_bgcolor": "#E5ECF6",
          "polar": {
           "angularaxis": {
            "gridcolor": "white",
            "linecolor": "white",
            "ticks": ""
           },
           "bgcolor": "#E5ECF6",
           "radialaxis": {
            "gridcolor": "white",
            "linecolor": "white",
            "ticks": ""
           }
          },
          "scene": {
           "xaxis": {
            "backgroundcolor": "#E5ECF6",
            "gridcolor": "white",
            "gridwidth": 2,
            "linecolor": "white",
            "showbackground": true,
            "ticks": "",
            "zerolinecolor": "white"
           },
           "yaxis": {
            "backgroundcolor": "#E5ECF6",
            "gridcolor": "white",
            "gridwidth": 2,
            "linecolor": "white",
            "showbackground": true,
            "ticks": "",
            "zerolinecolor": "white"
           },
           "zaxis": {
            "backgroundcolor": "#E5ECF6",
            "gridcolor": "white",
            "gridwidth": 2,
            "linecolor": "white",
            "showbackground": true,
            "ticks": "",
            "zerolinecolor": "white"
           }
          },
          "shapedefaults": {
           "line": {
            "color": "#2a3f5f"
           }
          },
          "ternary": {
           "aaxis": {
            "gridcolor": "white",
            "linecolor": "white",
            "ticks": ""
           },
           "baxis": {
            "gridcolor": "white",
            "linecolor": "white",
            "ticks": ""
           },
           "bgcolor": "#E5ECF6",
           "caxis": {
            "gridcolor": "white",
            "linecolor": "white",
            "ticks": ""
           }
          },
          "title": {
           "x": 0.05
          },
          "xaxis": {
           "automargin": true,
           "gridcolor": "white",
           "linecolor": "white",
           "ticks": "",
           "title": {
            "standoff": 15
           },
           "zerolinecolor": "white",
           "zerolinewidth": 2
          },
          "yaxis": {
           "automargin": true,
           "gridcolor": "white",
           "linecolor": "white",
           "ticks": "",
           "title": {
            "standoff": 15
           },
           "zerolinecolor": "white",
           "zerolinewidth": 2
          }
         }
        },
        "title": {
         "text": "Comparisons for Setpoints"
        },
        "xaxis": {
         "anchor": "y",
         "domain": [
          0,
          0.45
         ],
         "title": {
          "text": "Adjusted Values"
         }
        },
        "xaxis2": {
         "anchor": "y2",
         "domain": [
          0.55,
          1
         ],
         "title": {
          "text": "Percent Change from Original [%]"
         }
        },
        "xaxis3": {
         "anchor": "y3",
         "domain": [
          0,
          0.45
         ],
         "title": {
          "text": "Cost Savings [$]"
         }
        },
        "xaxis4": {
         "anchor": "y4",
         "domain": [
          0.55,
          1
         ],
         "title": {
          "text": "Adjusted Values"
         }
        },
        "yaxis": {
         "anchor": "x",
         "domain": [
          0.625,
          1
         ],
         "title": {
          "text": "Energy [kWh]"
         }
        },
        "yaxis2": {
         "anchor": "x2",
         "domain": [
          0.625,
          1
         ]
        },
        "yaxis3": {
         "anchor": "x3",
         "domain": [
          0,
          0.375
         ],
         "title": {
          "text": "Energy Savings [kWh]"
         }
        },
        "yaxis4": {
         "anchor": "x4",
         "domain": [
          0,
          0.375
         ]
        }
       }
      }
     },
     "metadata": {},
     "output_type": "display_data"
    },
    {
     "name": "stdout",
     "output_type": "stream",
     "text": [
      "Link  https://plotly.com/~jnwagwu/104/\n"
     ]
    },
    {
     "data": {
      "application/vnd.plotly.v1+json": {
       "config": {
        "plotlyServerURL": "https://plotly.com"
       },
       "data": [
        {
         "type": "bar",
         "x": [
          "clgsetp_0",
          "htgsetp_0"
         ],
         "y": [
          -0.74793488974862,
          0.8614175875705008
         ]
        }
       ],
       "layout": {
        "template": {
         "data": {
          "bar": [
           {
            "error_x": {
             "color": "#2a3f5f"
            },
            "error_y": {
             "color": "#2a3f5f"
            },
            "marker": {
             "line": {
              "color": "#E5ECF6",
              "width": 0.5
             },
             "pattern": {
              "fillmode": "overlay",
              "size": 10,
              "solidity": 0.2
             }
            },
            "type": "bar"
           }
          ],
          "barpolar": [
           {
            "marker": {
             "line": {
              "color": "#E5ECF6",
              "width": 0.5
             },
             "pattern": {
              "fillmode": "overlay",
              "size": 10,
              "solidity": 0.2
             }
            },
            "type": "barpolar"
           }
          ],
          "carpet": [
           {
            "aaxis": {
             "endlinecolor": "#2a3f5f",
             "gridcolor": "white",
             "linecolor": "white",
             "minorgridcolor": "white",
             "startlinecolor": "#2a3f5f"
            },
            "baxis": {
             "endlinecolor": "#2a3f5f",
             "gridcolor": "white",
             "linecolor": "white",
             "minorgridcolor": "white",
             "startlinecolor": "#2a3f5f"
            },
            "type": "carpet"
           }
          ],
          "choropleth": [
           {
            "colorbar": {
             "outlinewidth": 0,
             "ticks": ""
            },
            "type": "choropleth"
           }
          ],
          "contour": [
           {
            "colorbar": {
             "outlinewidth": 0,
             "ticks": ""
            },
            "colorscale": [
             [
              0,
              "#0d0887"
             ],
             [
              0.1111111111111111,
              "#46039f"
             ],
             [
              0.2222222222222222,
              "#7201a8"
             ],
             [
              0.3333333333333333,
              "#9c179e"
             ],
             [
              0.4444444444444444,
              "#bd3786"
             ],
             [
              0.5555555555555556,
              "#d8576b"
             ],
             [
              0.6666666666666666,
              "#ed7953"
             ],
             [
              0.7777777777777778,
              "#fb9f3a"
             ],
             [
              0.8888888888888888,
              "#fdca26"
             ],
             [
              1,
              "#f0f921"
             ]
            ],
            "type": "contour"
           }
          ],
          "contourcarpet": [
           {
            "colorbar": {
             "outlinewidth": 0,
             "ticks": ""
            },
            "type": "contourcarpet"
           }
          ],
          "heatmap": [
           {
            "colorbar": {
             "outlinewidth": 0,
             "ticks": ""
            },
            "colorscale": [
             [
              0,
              "#0d0887"
             ],
             [
              0.1111111111111111,
              "#46039f"
             ],
             [
              0.2222222222222222,
              "#7201a8"
             ],
             [
              0.3333333333333333,
              "#9c179e"
             ],
             [
              0.4444444444444444,
              "#bd3786"
             ],
             [
              0.5555555555555556,
              "#d8576b"
             ],
             [
              0.6666666666666666,
              "#ed7953"
             ],
             [
              0.7777777777777778,
              "#fb9f3a"
             ],
             [
              0.8888888888888888,
              "#fdca26"
             ],
             [
              1,
              "#f0f921"
             ]
            ],
            "type": "heatmap"
           }
          ],
          "heatmapgl": [
           {
            "colorbar": {
             "outlinewidth": 0,
             "ticks": ""
            },
            "colorscale": [
             [
              0,
              "#0d0887"
             ],
             [
              0.1111111111111111,
              "#46039f"
             ],
             [
              0.2222222222222222,
              "#7201a8"
             ],
             [
              0.3333333333333333,
              "#9c179e"
             ],
             [
              0.4444444444444444,
              "#bd3786"
             ],
             [
              0.5555555555555556,
              "#d8576b"
             ],
             [
              0.6666666666666666,
              "#ed7953"
             ],
             [
              0.7777777777777778,
              "#fb9f3a"
             ],
             [
              0.8888888888888888,
              "#fdca26"
             ],
             [
              1,
              "#f0f921"
             ]
            ],
            "type": "heatmapgl"
           }
          ],
          "histogram": [
           {
            "marker": {
             "pattern": {
              "fillmode": "overlay",
              "size": 10,
              "solidity": 0.2
             }
            },
            "type": "histogram"
           }
          ],
          "histogram2d": [
           {
            "colorbar": {
             "outlinewidth": 0,
             "ticks": ""
            },
            "colorscale": [
             [
              0,
              "#0d0887"
             ],
             [
              0.1111111111111111,
              "#46039f"
             ],
             [
              0.2222222222222222,
              "#7201a8"
             ],
             [
              0.3333333333333333,
              "#9c179e"
             ],
             [
              0.4444444444444444,
              "#bd3786"
             ],
             [
              0.5555555555555556,
              "#d8576b"
             ],
             [
              0.6666666666666666,
              "#ed7953"
             ],
             [
              0.7777777777777778,
              "#fb9f3a"
             ],
             [
              0.8888888888888888,
              "#fdca26"
             ],
             [
              1,
              "#f0f921"
             ]
            ],
            "type": "histogram2d"
           }
          ],
          "histogram2dcontour": [
           {
            "colorbar": {
             "outlinewidth": 0,
             "ticks": ""
            },
            "colorscale": [
             [
              0,
              "#0d0887"
             ],
             [
              0.1111111111111111,
              "#46039f"
             ],
             [
              0.2222222222222222,
              "#7201a8"
             ],
             [
              0.3333333333333333,
              "#9c179e"
             ],
             [
              0.4444444444444444,
              "#bd3786"
             ],
             [
              0.5555555555555556,
              "#d8576b"
             ],
             [
              0.6666666666666666,
              "#ed7953"
             ],
             [
              0.7777777777777778,
              "#fb9f3a"
             ],
             [
              0.8888888888888888,
              "#fdca26"
             ],
             [
              1,
              "#f0f921"
             ]
            ],
            "type": "histogram2dcontour"
           }
          ],
          "mesh3d": [
           {
            "colorbar": {
             "outlinewidth": 0,
             "ticks": ""
            },
            "type": "mesh3d"
           }
          ],
          "parcoords": [
           {
            "line": {
             "colorbar": {
              "outlinewidth": 0,
              "ticks": ""
             }
            },
            "type": "parcoords"
           }
          ],
          "pie": [
           {
            "automargin": true,
            "type": "pie"
           }
          ],
          "scatter": [
           {
            "marker": {
             "colorbar": {
              "outlinewidth": 0,
              "ticks": ""
             }
            },
            "type": "scatter"
           }
          ],
          "scatter3d": [
           {
            "line": {
             "colorbar": {
              "outlinewidth": 0,
              "ticks": ""
             }
            },
            "marker": {
             "colorbar": {
              "outlinewidth": 0,
              "ticks": ""
             }
            },
            "type": "scatter3d"
           }
          ],
          "scattercarpet": [
           {
            "marker": {
             "colorbar": {
              "outlinewidth": 0,
              "ticks": ""
             }
            },
            "type": "scattercarpet"
           }
          ],
          "scattergeo": [
           {
            "marker": {
             "colorbar": {
              "outlinewidth": 0,
              "ticks": ""
             }
            },
            "type": "scattergeo"
           }
          ],
          "scattergl": [
           {
            "marker": {
             "colorbar": {
              "outlinewidth": 0,
              "ticks": ""
             }
            },
            "type": "scattergl"
           }
          ],
          "scattermapbox": [
           {
            "marker": {
             "colorbar": {
              "outlinewidth": 0,
              "ticks": ""
             }
            },
            "type": "scattermapbox"
           }
          ],
          "scatterpolar": [
           {
            "marker": {
             "colorbar": {
              "outlinewidth": 0,
              "ticks": ""
             }
            },
            "type": "scatterpolar"
           }
          ],
          "scatterpolargl": [
           {
            "marker": {
             "colorbar": {
              "outlinewidth": 0,
              "ticks": ""
             }
            },
            "type": "scatterpolargl"
           }
          ],
          "scatterternary": [
           {
            "marker": {
             "colorbar": {
              "outlinewidth": 0,
              "ticks": ""
             }
            },
            "type": "scatterternary"
           }
          ],
          "surface": [
           {
            "colorbar": {
             "outlinewidth": 0,
             "ticks": ""
            },
            "colorscale": [
             [
              0,
              "#0d0887"
             ],
             [
              0.1111111111111111,
              "#46039f"
             ],
             [
              0.2222222222222222,
              "#7201a8"
             ],
             [
              0.3333333333333333,
              "#9c179e"
             ],
             [
              0.4444444444444444,
              "#bd3786"
             ],
             [
              0.5555555555555556,
              "#d8576b"
             ],
             [
              0.6666666666666666,
              "#ed7953"
             ],
             [
              0.7777777777777778,
              "#fb9f3a"
             ],
             [
              0.8888888888888888,
              "#fdca26"
             ],
             [
              1,
              "#f0f921"
             ]
            ],
            "type": "surface"
           }
          ],
          "table": [
           {
            "cells": {
             "fill": {
              "color": "#EBF0F8"
             },
             "line": {
              "color": "white"
             }
            },
            "header": {
             "fill": {
              "color": "#C8D4E3"
             },
             "line": {
              "color": "white"
             }
            },
            "type": "table"
           }
          ]
         },
         "layout": {
          "annotationdefaults": {
           "arrowcolor": "#2a3f5f",
           "arrowhead": 0,
           "arrowwidth": 1
          },
          "autotypenumbers": "strict",
          "coloraxis": {
           "colorbar": {
            "outlinewidth": 0,
            "ticks": ""
           }
          },
          "colorscale": {
           "diverging": [
            [
             0,
             "#8e0152"
            ],
            [
             0.1,
             "#c51b7d"
            ],
            [
             0.2,
             "#de77ae"
            ],
            [
             0.3,
             "#f1b6da"
            ],
            [
             0.4,
             "#fde0ef"
            ],
            [
             0.5,
             "#f7f7f7"
            ],
            [
             0.6,
             "#e6f5d0"
            ],
            [
             0.7,
             "#b8e186"
            ],
            [
             0.8,
             "#7fbc41"
            ],
            [
             0.9,
             "#4d9221"
            ],
            [
             1,
             "#276419"
            ]
           ],
           "sequential": [
            [
             0,
             "#0d0887"
            ],
            [
             0.1111111111111111,
             "#46039f"
            ],
            [
             0.2222222222222222,
             "#7201a8"
            ],
            [
             0.3333333333333333,
             "#9c179e"
            ],
            [
             0.4444444444444444,
             "#bd3786"
            ],
            [
             0.5555555555555556,
             "#d8576b"
            ],
            [
             0.6666666666666666,
             "#ed7953"
            ],
            [
             0.7777777777777778,
             "#fb9f3a"
            ],
            [
             0.8888888888888888,
             "#fdca26"
            ],
            [
             1,
             "#f0f921"
            ]
           ],
           "sequentialminus": [
            [
             0,
             "#0d0887"
            ],
            [
             0.1111111111111111,
             "#46039f"
            ],
            [
             0.2222222222222222,
             "#7201a8"
            ],
            [
             0.3333333333333333,
             "#9c179e"
            ],
            [
             0.4444444444444444,
             "#bd3786"
            ],
            [
             0.5555555555555556,
             "#d8576b"
            ],
            [
             0.6666666666666666,
             "#ed7953"
            ],
            [
             0.7777777777777778,
             "#fb9f3a"
            ],
            [
             0.8888888888888888,
             "#fdca26"
            ],
            [
             1,
             "#f0f921"
            ]
           ]
          },
          "colorway": [
           "#636efa",
           "#EF553B",
           "#00cc96",
           "#ab63fa",
           "#FFA15A",
           "#19d3f3",
           "#FF6692",
           "#B6E880",
           "#FF97FF",
           "#FECB52"
          ],
          "font": {
           "color": "#2a3f5f"
          },
          "geo": {
           "bgcolor": "white",
           "lakecolor": "white",
           "landcolor": "#E5ECF6",
           "showlakes": true,
           "showland": true,
           "subunitcolor": "white"
          },
          "hoverlabel": {
           "align": "left"
          },
          "hovermode": "closest",
          "mapbox": {
           "style": "light"
          },
          "paper_bgcolor": "white",
          "plot_bgcolor": "#E5ECF6",
          "polar": {
           "angularaxis": {
            "gridcolor": "white",
            "linecolor": "white",
            "ticks": ""
           },
           "bgcolor": "#E5ECF6",
           "radialaxis": {
            "gridcolor": "white",
            "linecolor": "white",
            "ticks": ""
           }
          },
          "scene": {
           "xaxis": {
            "backgroundcolor": "#E5ECF6",
            "gridcolor": "white",
            "gridwidth": 2,
            "linecolor": "white",
            "showbackground": true,
            "ticks": "",
            "zerolinecolor": "white"
           },
           "yaxis": {
            "backgroundcolor": "#E5ECF6",
            "gridcolor": "white",
            "gridwidth": 2,
            "linecolor": "white",
            "showbackground": true,
            "ticks": "",
            "zerolinecolor": "white"
           },
           "zaxis": {
            "backgroundcolor": "#E5ECF6",
            "gridcolor": "white",
            "gridwidth": 2,
            "linecolor": "white",
            "showbackground": true,
            "ticks": "",
            "zerolinecolor": "white"
           }
          },
          "shapedefaults": {
           "line": {
            "color": "#2a3f5f"
           }
          },
          "ternary": {
           "aaxis": {
            "gridcolor": "white",
            "linecolor": "white",
            "ticks": ""
           },
           "baxis": {
            "gridcolor": "white",
            "linecolor": "white",
            "ticks": ""
           },
           "bgcolor": "#E5ECF6",
           "caxis": {
            "gridcolor": "white",
            "linecolor": "white",
            "ticks": ""
           }
          },
          "title": {
           "x": 0.05
          },
          "xaxis": {
           "automargin": true,
           "gridcolor": "white",
           "linecolor": "white",
           "ticks": "",
           "title": {
            "standoff": 15
           },
           "zerolinecolor": "white",
           "zerolinewidth": 2
          },
          "yaxis": {
           "automargin": true,
           "gridcolor": "white",
           "linecolor": "white",
           "ticks": "",
           "title": {
            "standoff": 15
           },
           "zerolinecolor": "white",
           "zerolinewidth": 2
          }
         }
        },
        "title": {
         "text": "Correlation between Value and Energy Use"
        },
        "xaxis": {
         "title": {
          "text": "Groups"
         }
        },
        "yaxis": {
         "title": {
          "text": "Correlation"
         }
        }
       }
      }
     },
     "metadata": {},
     "output_type": "display_data"
    }
   ],
   "source": [
    "data = get_group(\"Setpoints\", False)\n",
    "four_compare(data[0], data[1], data[2], data[3])\n",
    "correlations(data[1], data[2])"
   ]
  },
  {
   "cell_type": "markdown",
   "metadata": {},
   "source": [
    "# Daylight Controls"
   ]
  },
  {
   "cell_type": "code",
   "execution_count": 21,
   "metadata": {},
   "outputs": [
    {
     "data": {
      "application/vnd.plotly.v1+json": {
       "config": {
        "plotlyServerURL": "https://plotly.com"
       },
       "data": [
        {
         "legendgroup": "Groups",
         "line": {
          "color": "rgb(229, 134, 6)"
         },
         "marker": {
          "size": 2.001
         },
         "mode": "lines+markers",
         "name": "Daylight Controls",
         "showlegend": true,
         "type": "scatter",
         "x": [
          0,
          1
         ],
         "xaxis": "x",
         "y": [
          279385.5704356383,
          273685.1572907263
         ],
         "yaxis": "y"
        },
        {
         "legendgroup": "Groups",
         "line": {
          "color": "rgb(229, 134, 6)"
         },
         "marker": {
          "size": 2.001
         },
         "mode": "lines+markers",
         "name": "daylight_0",
         "showlegend": false,
         "type": "scatter",
         "x": [
          0,
          1
         ],
         "xaxis": "x2",
         "y": [
          279385.5704356383,
          273685.1572907263
         ],
         "yaxis": "y2"
        },
        {
         "legendgroup": "Groups",
         "line": {
          "color": "rgb(229, 134, 6)"
         },
         "marker": {
          "size": 2.001
         },
         "mode": "lines+markers",
         "name": "daylight_0",
         "showlegend": false,
         "type": "scatter",
         "x": [
          0,
          1058.2099999999991
         ],
         "xaxis": "x3",
         "y": [
          0,
          5700.413144911989
         ],
         "yaxis": "y3"
        },
        {
         "legendgroup": "Groups",
         "line": {
          "color": "rgb(229, 134, 6)"
         },
         "marker": {
          "size": 2.001
         },
         "mode": "lines+markers",
         "name": "daylight_0",
         "showlegend": false,
         "type": "scatter",
         "x": [
          0,
          1
         ],
         "xaxis": "x4",
         "y": [
          0,
          5700.413144911989
         ],
         "yaxis": "y4"
        }
       ],
       "layout": {
        "annotations": [
         {
          "font": {
           "size": 16
          },
          "showarrow": false,
          "text": "Energy Consumption vs Adjusted Values",
          "x": 0.225,
          "xanchor": "center",
          "xref": "paper",
          "y": 1,
          "yanchor": "bottom",
          "yref": "paper"
         },
         {
          "font": {
           "size": 16
          },
          "showarrow": false,
          "text": "Energy Consumption vs Percent Change",
          "x": 0.775,
          "xanchor": "center",
          "xref": "paper",
          "y": 1,
          "yanchor": "bottom",
          "yref": "paper"
         },
         {
          "font": {
           "size": 16
          },
          "showarrow": false,
          "text": "Energy Savings vs Cost Savings",
          "x": 0.225,
          "xanchor": "center",
          "xref": "paper",
          "y": 0.375,
          "yanchor": "bottom",
          "yref": "paper"
         },
         {
          "font": {
           "size": 16
          },
          "showarrow": false,
          "text": "Energy Savings vs Adjusted Values",
          "x": 0.775,
          "xanchor": "center",
          "xref": "paper",
          "y": 0.375,
          "yanchor": "bottom",
          "yref": "paper"
         }
        ],
        "template": {
         "data": {
          "bar": [
           {
            "error_x": {
             "color": "#2a3f5f"
            },
            "error_y": {
             "color": "#2a3f5f"
            },
            "marker": {
             "line": {
              "color": "#E5ECF6",
              "width": 0.5
             },
             "pattern": {
              "fillmode": "overlay",
              "size": 10,
              "solidity": 0.2
             }
            },
            "type": "bar"
           }
          ],
          "barpolar": [
           {
            "marker": {
             "line": {
              "color": "#E5ECF6",
              "width": 0.5
             },
             "pattern": {
              "fillmode": "overlay",
              "size": 10,
              "solidity": 0.2
             }
            },
            "type": "barpolar"
           }
          ],
          "carpet": [
           {
            "aaxis": {
             "endlinecolor": "#2a3f5f",
             "gridcolor": "white",
             "linecolor": "white",
             "minorgridcolor": "white",
             "startlinecolor": "#2a3f5f"
            },
            "baxis": {
             "endlinecolor": "#2a3f5f",
             "gridcolor": "white",
             "linecolor": "white",
             "minorgridcolor": "white",
             "startlinecolor": "#2a3f5f"
            },
            "type": "carpet"
           }
          ],
          "choropleth": [
           {
            "colorbar": {
             "outlinewidth": 0,
             "ticks": ""
            },
            "type": "choropleth"
           }
          ],
          "contour": [
           {
            "colorbar": {
             "outlinewidth": 0,
             "ticks": ""
            },
            "colorscale": [
             [
              0,
              "#0d0887"
             ],
             [
              0.1111111111111111,
              "#46039f"
             ],
             [
              0.2222222222222222,
              "#7201a8"
             ],
             [
              0.3333333333333333,
              "#9c179e"
             ],
             [
              0.4444444444444444,
              "#bd3786"
             ],
             [
              0.5555555555555556,
              "#d8576b"
             ],
             [
              0.6666666666666666,
              "#ed7953"
             ],
             [
              0.7777777777777778,
              "#fb9f3a"
             ],
             [
              0.8888888888888888,
              "#fdca26"
             ],
             [
              1,
              "#f0f921"
             ]
            ],
            "type": "contour"
           }
          ],
          "contourcarpet": [
           {
            "colorbar": {
             "outlinewidth": 0,
             "ticks": ""
            },
            "type": "contourcarpet"
           }
          ],
          "heatmap": [
           {
            "colorbar": {
             "outlinewidth": 0,
             "ticks": ""
            },
            "colorscale": [
             [
              0,
              "#0d0887"
             ],
             [
              0.1111111111111111,
              "#46039f"
             ],
             [
              0.2222222222222222,
              "#7201a8"
             ],
             [
              0.3333333333333333,
              "#9c179e"
             ],
             [
              0.4444444444444444,
              "#bd3786"
             ],
             [
              0.5555555555555556,
              "#d8576b"
             ],
             [
              0.6666666666666666,
              "#ed7953"
             ],
             [
              0.7777777777777778,
              "#fb9f3a"
             ],
             [
              0.8888888888888888,
              "#fdca26"
             ],
             [
              1,
              "#f0f921"
             ]
            ],
            "type": "heatmap"
           }
          ],
          "heatmapgl": [
           {
            "colorbar": {
             "outlinewidth": 0,
             "ticks": ""
            },
            "colorscale": [
             [
              0,
              "#0d0887"
             ],
             [
              0.1111111111111111,
              "#46039f"
             ],
             [
              0.2222222222222222,
              "#7201a8"
             ],
             [
              0.3333333333333333,
              "#9c179e"
             ],
             [
              0.4444444444444444,
              "#bd3786"
             ],
             [
              0.5555555555555556,
              "#d8576b"
             ],
             [
              0.6666666666666666,
              "#ed7953"
             ],
             [
              0.7777777777777778,
              "#fb9f3a"
             ],
             [
              0.8888888888888888,
              "#fdca26"
             ],
             [
              1,
              "#f0f921"
             ]
            ],
            "type": "heatmapgl"
           }
          ],
          "histogram": [
           {
            "marker": {
             "pattern": {
              "fillmode": "overlay",
              "size": 10,
              "solidity": 0.2
             }
            },
            "type": "histogram"
           }
          ],
          "histogram2d": [
           {
            "colorbar": {
             "outlinewidth": 0,
             "ticks": ""
            },
            "colorscale": [
             [
              0,
              "#0d0887"
             ],
             [
              0.1111111111111111,
              "#46039f"
             ],
             [
              0.2222222222222222,
              "#7201a8"
             ],
             [
              0.3333333333333333,
              "#9c179e"
             ],
             [
              0.4444444444444444,
              "#bd3786"
             ],
             [
              0.5555555555555556,
              "#d8576b"
             ],
             [
              0.6666666666666666,
              "#ed7953"
             ],
             [
              0.7777777777777778,
              "#fb9f3a"
             ],
             [
              0.8888888888888888,
              "#fdca26"
             ],
             [
              1,
              "#f0f921"
             ]
            ],
            "type": "histogram2d"
           }
          ],
          "histogram2dcontour": [
           {
            "colorbar": {
             "outlinewidth": 0,
             "ticks": ""
            },
            "colorscale": [
             [
              0,
              "#0d0887"
             ],
             [
              0.1111111111111111,
              "#46039f"
             ],
             [
              0.2222222222222222,
              "#7201a8"
             ],
             [
              0.3333333333333333,
              "#9c179e"
             ],
             [
              0.4444444444444444,
              "#bd3786"
             ],
             [
              0.5555555555555556,
              "#d8576b"
             ],
             [
              0.6666666666666666,
              "#ed7953"
             ],
             [
              0.7777777777777778,
              "#fb9f3a"
             ],
             [
              0.8888888888888888,
              "#fdca26"
             ],
             [
              1,
              "#f0f921"
             ]
            ],
            "type": "histogram2dcontour"
           }
          ],
          "mesh3d": [
           {
            "colorbar": {
             "outlinewidth": 0,
             "ticks": ""
            },
            "type": "mesh3d"
           }
          ],
          "parcoords": [
           {
            "line": {
             "colorbar": {
              "outlinewidth": 0,
              "ticks": ""
             }
            },
            "type": "parcoords"
           }
          ],
          "pie": [
           {
            "automargin": true,
            "type": "pie"
           }
          ],
          "scatter": [
           {
            "marker": {
             "colorbar": {
              "outlinewidth": 0,
              "ticks": ""
             }
            },
            "type": "scatter"
           }
          ],
          "scatter3d": [
           {
            "line": {
             "colorbar": {
              "outlinewidth": 0,
              "ticks": ""
             }
            },
            "marker": {
             "colorbar": {
              "outlinewidth": 0,
              "ticks": ""
             }
            },
            "type": "scatter3d"
           }
          ],
          "scattercarpet": [
           {
            "marker": {
             "colorbar": {
              "outlinewidth": 0,
              "ticks": ""
             }
            },
            "type": "scattercarpet"
           }
          ],
          "scattergeo": [
           {
            "marker": {
             "colorbar": {
              "outlinewidth": 0,
              "ticks": ""
             }
            },
            "type": "scattergeo"
           }
          ],
          "scattergl": [
           {
            "marker": {
             "colorbar": {
              "outlinewidth": 0,
              "ticks": ""
             }
            },
            "type": "scattergl"
           }
          ],
          "scattermapbox": [
           {
            "marker": {
             "colorbar": {
              "outlinewidth": 0,
              "ticks": ""
             }
            },
            "type": "scattermapbox"
           }
          ],
          "scatterpolar": [
           {
            "marker": {
             "colorbar": {
              "outlinewidth": 0,
              "ticks": ""
             }
            },
            "type": "scatterpolar"
           }
          ],
          "scatterpolargl": [
           {
            "marker": {
             "colorbar": {
              "outlinewidth": 0,
              "ticks": ""
             }
            },
            "type": "scatterpolargl"
           }
          ],
          "scatterternary": [
           {
            "marker": {
             "colorbar": {
              "outlinewidth": 0,
              "ticks": ""
             }
            },
            "type": "scatterternary"
           }
          ],
          "surface": [
           {
            "colorbar": {
             "outlinewidth": 0,
             "ticks": ""
            },
            "colorscale": [
             [
              0,
              "#0d0887"
             ],
             [
              0.1111111111111111,
              "#46039f"
             ],
             [
              0.2222222222222222,
              "#7201a8"
             ],
             [
              0.3333333333333333,
              "#9c179e"
             ],
             [
              0.4444444444444444,
              "#bd3786"
             ],
             [
              0.5555555555555556,
              "#d8576b"
             ],
             [
              0.6666666666666666,
              "#ed7953"
             ],
             [
              0.7777777777777778,
              "#fb9f3a"
             ],
             [
              0.8888888888888888,
              "#fdca26"
             ],
             [
              1,
              "#f0f921"
             ]
            ],
            "type": "surface"
           }
          ],
          "table": [
           {
            "cells": {
             "fill": {
              "color": "#EBF0F8"
             },
             "line": {
              "color": "white"
             }
            },
            "header": {
             "fill": {
              "color": "#C8D4E3"
             },
             "line": {
              "color": "white"
             }
            },
            "type": "table"
           }
          ]
         },
         "layout": {
          "annotationdefaults": {
           "arrowcolor": "#2a3f5f",
           "arrowhead": 0,
           "arrowwidth": 1
          },
          "autotypenumbers": "strict",
          "coloraxis": {
           "colorbar": {
            "outlinewidth": 0,
            "ticks": ""
           }
          },
          "colorscale": {
           "diverging": [
            [
             0,
             "#8e0152"
            ],
            [
             0.1,
             "#c51b7d"
            ],
            [
             0.2,
             "#de77ae"
            ],
            [
             0.3,
             "#f1b6da"
            ],
            [
             0.4,
             "#fde0ef"
            ],
            [
             0.5,
             "#f7f7f7"
            ],
            [
             0.6,
             "#e6f5d0"
            ],
            [
             0.7,
             "#b8e186"
            ],
            [
             0.8,
             "#7fbc41"
            ],
            [
             0.9,
             "#4d9221"
            ],
            [
             1,
             "#276419"
            ]
           ],
           "sequential": [
            [
             0,
             "#0d0887"
            ],
            [
             0.1111111111111111,
             "#46039f"
            ],
            [
             0.2222222222222222,
             "#7201a8"
            ],
            [
             0.3333333333333333,
             "#9c179e"
            ],
            [
             0.4444444444444444,
             "#bd3786"
            ],
            [
             0.5555555555555556,
             "#d8576b"
            ],
            [
             0.6666666666666666,
             "#ed7953"
            ],
            [
             0.7777777777777778,
             "#fb9f3a"
            ],
            [
             0.8888888888888888,
             "#fdca26"
            ],
            [
             1,
             "#f0f921"
            ]
           ],
           "sequentialminus": [
            [
             0,
             "#0d0887"
            ],
            [
             0.1111111111111111,
             "#46039f"
            ],
            [
             0.2222222222222222,
             "#7201a8"
            ],
            [
             0.3333333333333333,
             "#9c179e"
            ],
            [
             0.4444444444444444,
             "#bd3786"
            ],
            [
             0.5555555555555556,
             "#d8576b"
            ],
            [
             0.6666666666666666,
             "#ed7953"
            ],
            [
             0.7777777777777778,
             "#fb9f3a"
            ],
            [
             0.8888888888888888,
             "#fdca26"
            ],
            [
             1,
             "#f0f921"
            ]
           ]
          },
          "colorway": [
           "#636efa",
           "#EF553B",
           "#00cc96",
           "#ab63fa",
           "#FFA15A",
           "#19d3f3",
           "#FF6692",
           "#B6E880",
           "#FF97FF",
           "#FECB52"
          ],
          "font": {
           "color": "#2a3f5f"
          },
          "geo": {
           "bgcolor": "white",
           "lakecolor": "white",
           "landcolor": "#E5ECF6",
           "showlakes": true,
           "showland": true,
           "subunitcolor": "white"
          },
          "hoverlabel": {
           "align": "left"
          },
          "hovermode": "closest",
          "mapbox": {
           "style": "light"
          },
          "paper_bgcolor": "white",
          "plot_bgcolor": "#E5ECF6",
          "polar": {
           "angularaxis": {
            "gridcolor": "white",
            "linecolor": "white",
            "ticks": ""
           },
           "bgcolor": "#E5ECF6",
           "radialaxis": {
            "gridcolor": "white",
            "linecolor": "white",
            "ticks": ""
           }
          },
          "scene": {
           "xaxis": {
            "backgroundcolor": "#E5ECF6",
            "gridcolor": "white",
            "gridwidth": 2,
            "linecolor": "white",
            "showbackground": true,
            "ticks": "",
            "zerolinecolor": "white"
           },
           "yaxis": {
            "backgroundcolor": "#E5ECF6",
            "gridcolor": "white",
            "gridwidth": 2,
            "linecolor": "white",
            "showbackground": true,
            "ticks": "",
            "zerolinecolor": "white"
           },
           "zaxis": {
            "backgroundcolor": "#E5ECF6",
            "gridcolor": "white",
            "gridwidth": 2,
            "linecolor": "white",
            "showbackground": true,
            "ticks": "",
            "zerolinecolor": "white"
           }
          },
          "shapedefaults": {
           "line": {
            "color": "#2a3f5f"
           }
          },
          "ternary": {
           "aaxis": {
            "gridcolor": "white",
            "linecolor": "white",
            "ticks": ""
           },
           "baxis": {
            "gridcolor": "white",
            "linecolor": "white",
            "ticks": ""
           },
           "bgcolor": "#E5ECF6",
           "caxis": {
            "gridcolor": "white",
            "linecolor": "white",
            "ticks": ""
           }
          },
          "title": {
           "x": 0.05
          },
          "xaxis": {
           "automargin": true,
           "gridcolor": "white",
           "linecolor": "white",
           "ticks": "",
           "title": {
            "standoff": 15
           },
           "zerolinecolor": "white",
           "zerolinewidth": 2
          },
          "yaxis": {
           "automargin": true,
           "gridcolor": "white",
           "linecolor": "white",
           "ticks": "",
           "title": {
            "standoff": 15
           },
           "zerolinecolor": "white",
           "zerolinewidth": 2
          }
         }
        },
        "title": {
         "text": "Comparisons for Daylight"
        },
        "xaxis": {
         "anchor": "y",
         "domain": [
          0,
          0.45
         ],
         "title": {
          "text": "Adjusted Values"
         }
        },
        "xaxis2": {
         "anchor": "y2",
         "domain": [
          0.55,
          1
         ],
         "title": {
          "text": "Percent Change from Original [%]"
         }
        },
        "xaxis3": {
         "anchor": "y3",
         "domain": [
          0,
          0.45
         ],
         "title": {
          "text": "Cost Savings [$]"
         }
        },
        "xaxis4": {
         "anchor": "y4",
         "domain": [
          0.55,
          1
         ],
         "title": {
          "text": "Adjusted Values"
         }
        },
        "yaxis": {
         "anchor": "x",
         "domain": [
          0.625,
          1
         ],
         "title": {
          "text": "Energy [kWh]"
         }
        },
        "yaxis2": {
         "anchor": "x2",
         "domain": [
          0.625,
          1
         ]
        },
        "yaxis3": {
         "anchor": "x3",
         "domain": [
          0,
          0.375
         ],
         "title": {
          "text": "Energy Savings [kWh]"
         }
        },
        "yaxis4": {
         "anchor": "x4",
         "domain": [
          0,
          0.375
         ]
        }
       }
      }
     },
     "metadata": {},
     "output_type": "display_data"
    },
    {
     "name": "stdout",
     "output_type": "stream",
     "text": [
      "Link  https://plotly.com/~jnwagwu/108/\n"
     ]
    },
    {
     "data": {
      "application/vnd.plotly.v1+json": {
       "config": {
        "plotlyServerURL": "https://plotly.com"
       },
       "data": [
        {
         "legendgroup": "Groups",
         "line": {
          "color": "rgb(229, 134, 6)"
         },
         "marker": {
          "size": 2.001
         },
         "mode": "lines+markers",
         "name": "Daylight Controls",
         "showlegend": true,
         "type": "scatter",
         "x": [
          0,
          1
         ],
         "xaxis": "x",
         "y": [
          279385.5704356383,
          273685.1572907263
         ],
         "yaxis": "y"
        },
        {
         "legendgroup": "Groups",
         "line": {
          "color": "rgb(229, 134, 6)"
         },
         "marker": {
          "size": 2.001
         },
         "mode": "lines+markers",
         "name": "daylight_0",
         "showlegend": false,
         "type": "scatter",
         "x": [
          0,
          1
         ],
         "xaxis": "x2",
         "y": [
          279385.5704356383,
          273685.1572907263
         ],
         "yaxis": "y2"
        },
        {
         "legendgroup": "Groups",
         "line": {
          "color": "rgb(229, 134, 6)"
         },
         "marker": {
          "size": 2.001
         },
         "mode": "lines+markers",
         "name": "daylight_0",
         "showlegend": false,
         "type": "scatter",
         "x": [
          0,
          1058.2099999999991
         ],
         "xaxis": "x3",
         "y": [
          0,
          5700.413144911989
         ],
         "yaxis": "y3"
        },
        {
         "legendgroup": "Groups",
         "line": {
          "color": "rgb(229, 134, 6)"
         },
         "marker": {
          "size": 2.001
         },
         "mode": "lines+markers",
         "name": "daylight_0",
         "showlegend": false,
         "type": "scatter",
         "x": [
          0,
          1
         ],
         "xaxis": "x4",
         "y": [
          0,
          5700.413144911989
         ],
         "yaxis": "y4"
        }
       ],
       "layout": {
        "annotations": [
         {
          "font": {
           "size": 16
          },
          "showarrow": false,
          "text": "Energy Consumption vs Adjusted Values",
          "x": 0.225,
          "xanchor": "center",
          "xref": "paper",
          "y": 1,
          "yanchor": "bottom",
          "yref": "paper"
         },
         {
          "font": {
           "size": 16
          },
          "showarrow": false,
          "text": "Energy Consumption vs Percent Change",
          "x": 0.775,
          "xanchor": "center",
          "xref": "paper",
          "y": 1,
          "yanchor": "bottom",
          "yref": "paper"
         },
         {
          "font": {
           "size": 16
          },
          "showarrow": false,
          "text": "Energy Savings vs Cost Savings",
          "x": 0.225,
          "xanchor": "center",
          "xref": "paper",
          "y": 0.375,
          "yanchor": "bottom",
          "yref": "paper"
         },
         {
          "font": {
           "size": 16
          },
          "showarrow": false,
          "text": "Energy Savings vs Adjusted Values",
          "x": 0.775,
          "xanchor": "center",
          "xref": "paper",
          "y": 0.375,
          "yanchor": "bottom",
          "yref": "paper"
         }
        ],
        "template": {
         "data": {
          "bar": [
           {
            "error_x": {
             "color": "#2a3f5f"
            },
            "error_y": {
             "color": "#2a3f5f"
            },
            "marker": {
             "line": {
              "color": "#E5ECF6",
              "width": 0.5
             },
             "pattern": {
              "fillmode": "overlay",
              "size": 10,
              "solidity": 0.2
             }
            },
            "type": "bar"
           }
          ],
          "barpolar": [
           {
            "marker": {
             "line": {
              "color": "#E5ECF6",
              "width": 0.5
             },
             "pattern": {
              "fillmode": "overlay",
              "size": 10,
              "solidity": 0.2
             }
            },
            "type": "barpolar"
           }
          ],
          "carpet": [
           {
            "aaxis": {
             "endlinecolor": "#2a3f5f",
             "gridcolor": "white",
             "linecolor": "white",
             "minorgridcolor": "white",
             "startlinecolor": "#2a3f5f"
            },
            "baxis": {
             "endlinecolor": "#2a3f5f",
             "gridcolor": "white",
             "linecolor": "white",
             "minorgridcolor": "white",
             "startlinecolor": "#2a3f5f"
            },
            "type": "carpet"
           }
          ],
          "choropleth": [
           {
            "colorbar": {
             "outlinewidth": 0,
             "ticks": ""
            },
            "type": "choropleth"
           }
          ],
          "contour": [
           {
            "colorbar": {
             "outlinewidth": 0,
             "ticks": ""
            },
            "colorscale": [
             [
              0,
              "#0d0887"
             ],
             [
              0.1111111111111111,
              "#46039f"
             ],
             [
              0.2222222222222222,
              "#7201a8"
             ],
             [
              0.3333333333333333,
              "#9c179e"
             ],
             [
              0.4444444444444444,
              "#bd3786"
             ],
             [
              0.5555555555555556,
              "#d8576b"
             ],
             [
              0.6666666666666666,
              "#ed7953"
             ],
             [
              0.7777777777777778,
              "#fb9f3a"
             ],
             [
              0.8888888888888888,
              "#fdca26"
             ],
             [
              1,
              "#f0f921"
             ]
            ],
            "type": "contour"
           }
          ],
          "contourcarpet": [
           {
            "colorbar": {
             "outlinewidth": 0,
             "ticks": ""
            },
            "type": "contourcarpet"
           }
          ],
          "heatmap": [
           {
            "colorbar": {
             "outlinewidth": 0,
             "ticks": ""
            },
            "colorscale": [
             [
              0,
              "#0d0887"
             ],
             [
              0.1111111111111111,
              "#46039f"
             ],
             [
              0.2222222222222222,
              "#7201a8"
             ],
             [
              0.3333333333333333,
              "#9c179e"
             ],
             [
              0.4444444444444444,
              "#bd3786"
             ],
             [
              0.5555555555555556,
              "#d8576b"
             ],
             [
              0.6666666666666666,
              "#ed7953"
             ],
             [
              0.7777777777777778,
              "#fb9f3a"
             ],
             [
              0.8888888888888888,
              "#fdca26"
             ],
             [
              1,
              "#f0f921"
             ]
            ],
            "type": "heatmap"
           }
          ],
          "heatmapgl": [
           {
            "colorbar": {
             "outlinewidth": 0,
             "ticks": ""
            },
            "colorscale": [
             [
              0,
              "#0d0887"
             ],
             [
              0.1111111111111111,
              "#46039f"
             ],
             [
              0.2222222222222222,
              "#7201a8"
             ],
             [
              0.3333333333333333,
              "#9c179e"
             ],
             [
              0.4444444444444444,
              "#bd3786"
             ],
             [
              0.5555555555555556,
              "#d8576b"
             ],
             [
              0.6666666666666666,
              "#ed7953"
             ],
             [
              0.7777777777777778,
              "#fb9f3a"
             ],
             [
              0.8888888888888888,
              "#fdca26"
             ],
             [
              1,
              "#f0f921"
             ]
            ],
            "type": "heatmapgl"
           }
          ],
          "histogram": [
           {
            "marker": {
             "pattern": {
              "fillmode": "overlay",
              "size": 10,
              "solidity": 0.2
             }
            },
            "type": "histogram"
           }
          ],
          "histogram2d": [
           {
            "colorbar": {
             "outlinewidth": 0,
             "ticks": ""
            },
            "colorscale": [
             [
              0,
              "#0d0887"
             ],
             [
              0.1111111111111111,
              "#46039f"
             ],
             [
              0.2222222222222222,
              "#7201a8"
             ],
             [
              0.3333333333333333,
              "#9c179e"
             ],
             [
              0.4444444444444444,
              "#bd3786"
             ],
             [
              0.5555555555555556,
              "#d8576b"
             ],
             [
              0.6666666666666666,
              "#ed7953"
             ],
             [
              0.7777777777777778,
              "#fb9f3a"
             ],
             [
              0.8888888888888888,
              "#fdca26"
             ],
             [
              1,
              "#f0f921"
             ]
            ],
            "type": "histogram2d"
           }
          ],
          "histogram2dcontour": [
           {
            "colorbar": {
             "outlinewidth": 0,
             "ticks": ""
            },
            "colorscale": [
             [
              0,
              "#0d0887"
             ],
             [
              0.1111111111111111,
              "#46039f"
             ],
             [
              0.2222222222222222,
              "#7201a8"
             ],
             [
              0.3333333333333333,
              "#9c179e"
             ],
             [
              0.4444444444444444,
              "#bd3786"
             ],
             [
              0.5555555555555556,
              "#d8576b"
             ],
             [
              0.6666666666666666,
              "#ed7953"
             ],
             [
              0.7777777777777778,
              "#fb9f3a"
             ],
             [
              0.8888888888888888,
              "#fdca26"
             ],
             [
              1,
              "#f0f921"
             ]
            ],
            "type": "histogram2dcontour"
           }
          ],
          "mesh3d": [
           {
            "colorbar": {
             "outlinewidth": 0,
             "ticks": ""
            },
            "type": "mesh3d"
           }
          ],
          "parcoords": [
           {
            "line": {
             "colorbar": {
              "outlinewidth": 0,
              "ticks": ""
             }
            },
            "type": "parcoords"
           }
          ],
          "pie": [
           {
            "automargin": true,
            "type": "pie"
           }
          ],
          "scatter": [
           {
            "marker": {
             "colorbar": {
              "outlinewidth": 0,
              "ticks": ""
             }
            },
            "type": "scatter"
           }
          ],
          "scatter3d": [
           {
            "line": {
             "colorbar": {
              "outlinewidth": 0,
              "ticks": ""
             }
            },
            "marker": {
             "colorbar": {
              "outlinewidth": 0,
              "ticks": ""
             }
            },
            "type": "scatter3d"
           }
          ],
          "scattercarpet": [
           {
            "marker": {
             "colorbar": {
              "outlinewidth": 0,
              "ticks": ""
             }
            },
            "type": "scattercarpet"
           }
          ],
          "scattergeo": [
           {
            "marker": {
             "colorbar": {
              "outlinewidth": 0,
              "ticks": ""
             }
            },
            "type": "scattergeo"
           }
          ],
          "scattergl": [
           {
            "marker": {
             "colorbar": {
              "outlinewidth": 0,
              "ticks": ""
             }
            },
            "type": "scattergl"
           }
          ],
          "scattermapbox": [
           {
            "marker": {
             "colorbar": {
              "outlinewidth": 0,
              "ticks": ""
             }
            },
            "type": "scattermapbox"
           }
          ],
          "scatterpolar": [
           {
            "marker": {
             "colorbar": {
              "outlinewidth": 0,
              "ticks": ""
             }
            },
            "type": "scatterpolar"
           }
          ],
          "scatterpolargl": [
           {
            "marker": {
             "colorbar": {
              "outlinewidth": 0,
              "ticks": ""
             }
            },
            "type": "scatterpolargl"
           }
          ],
          "scatterternary": [
           {
            "marker": {
             "colorbar": {
              "outlinewidth": 0,
              "ticks": ""
             }
            },
            "type": "scatterternary"
           }
          ],
          "surface": [
           {
            "colorbar": {
             "outlinewidth": 0,
             "ticks": ""
            },
            "colorscale": [
             [
              0,
              "#0d0887"
             ],
             [
              0.1111111111111111,
              "#46039f"
             ],
             [
              0.2222222222222222,
              "#7201a8"
             ],
             [
              0.3333333333333333,
              "#9c179e"
             ],
             [
              0.4444444444444444,
              "#bd3786"
             ],
             [
              0.5555555555555556,
              "#d8576b"
             ],
             [
              0.6666666666666666,
              "#ed7953"
             ],
             [
              0.7777777777777778,
              "#fb9f3a"
             ],
             [
              0.8888888888888888,
              "#fdca26"
             ],
             [
              1,
              "#f0f921"
             ]
            ],
            "type": "surface"
           }
          ],
          "table": [
           {
            "cells": {
             "fill": {
              "color": "#EBF0F8"
             },
             "line": {
              "color": "white"
             }
            },
            "header": {
             "fill": {
              "color": "#C8D4E3"
             },
             "line": {
              "color": "white"
             }
            },
            "type": "table"
           }
          ]
         },
         "layout": {
          "annotationdefaults": {
           "arrowcolor": "#2a3f5f",
           "arrowhead": 0,
           "arrowwidth": 1
          },
          "autotypenumbers": "strict",
          "coloraxis": {
           "colorbar": {
            "outlinewidth": 0,
            "ticks": ""
           }
          },
          "colorscale": {
           "diverging": [
            [
             0,
             "#8e0152"
            ],
            [
             0.1,
             "#c51b7d"
            ],
            [
             0.2,
             "#de77ae"
            ],
            [
             0.3,
             "#f1b6da"
            ],
            [
             0.4,
             "#fde0ef"
            ],
            [
             0.5,
             "#f7f7f7"
            ],
            [
             0.6,
             "#e6f5d0"
            ],
            [
             0.7,
             "#b8e186"
            ],
            [
             0.8,
             "#7fbc41"
            ],
            [
             0.9,
             "#4d9221"
            ],
            [
             1,
             "#276419"
            ]
           ],
           "sequential": [
            [
             0,
             "#0d0887"
            ],
            [
             0.1111111111111111,
             "#46039f"
            ],
            [
             0.2222222222222222,
             "#7201a8"
            ],
            [
             0.3333333333333333,
             "#9c179e"
            ],
            [
             0.4444444444444444,
             "#bd3786"
            ],
            [
             0.5555555555555556,
             "#d8576b"
            ],
            [
             0.6666666666666666,
             "#ed7953"
            ],
            [
             0.7777777777777778,
             "#fb9f3a"
            ],
            [
             0.8888888888888888,
             "#fdca26"
            ],
            [
             1,
             "#f0f921"
            ]
           ],
           "sequentialminus": [
            [
             0,
             "#0d0887"
            ],
            [
             0.1111111111111111,
             "#46039f"
            ],
            [
             0.2222222222222222,
             "#7201a8"
            ],
            [
             0.3333333333333333,
             "#9c179e"
            ],
            [
             0.4444444444444444,
             "#bd3786"
            ],
            [
             0.5555555555555556,
             "#d8576b"
            ],
            [
             0.6666666666666666,
             "#ed7953"
            ],
            [
             0.7777777777777778,
             "#fb9f3a"
            ],
            [
             0.8888888888888888,
             "#fdca26"
            ],
            [
             1,
             "#f0f921"
            ]
           ]
          },
          "colorway": [
           "#636efa",
           "#EF553B",
           "#00cc96",
           "#ab63fa",
           "#FFA15A",
           "#19d3f3",
           "#FF6692",
           "#B6E880",
           "#FF97FF",
           "#FECB52"
          ],
          "font": {
           "color": "#2a3f5f"
          },
          "geo": {
           "bgcolor": "white",
           "lakecolor": "white",
           "landcolor": "#E5ECF6",
           "showlakes": true,
           "showland": true,
           "subunitcolor": "white"
          },
          "hoverlabel": {
           "align": "left"
          },
          "hovermode": "closest",
          "mapbox": {
           "style": "light"
          },
          "paper_bgcolor": "white",
          "plot_bgcolor": "#E5ECF6",
          "polar": {
           "angularaxis": {
            "gridcolor": "white",
            "linecolor": "white",
            "ticks": ""
           },
           "bgcolor": "#E5ECF6",
           "radialaxis": {
            "gridcolor": "white",
            "linecolor": "white",
            "ticks": ""
           }
          },
          "scene": {
           "xaxis": {
            "backgroundcolor": "#E5ECF6",
            "gridcolor": "white",
            "gridwidth": 2,
            "linecolor": "white",
            "showbackground": true,
            "ticks": "",
            "zerolinecolor": "white"
           },
           "yaxis": {
            "backgroundcolor": "#E5ECF6",
            "gridcolor": "white",
            "gridwidth": 2,
            "linecolor": "white",
            "showbackground": true,
            "ticks": "",
            "zerolinecolor": "white"
           },
           "zaxis": {
            "backgroundcolor": "#E5ECF6",
            "gridcolor": "white",
            "gridwidth": 2,
            "linecolor": "white",
            "showbackground": true,
            "ticks": "",
            "zerolinecolor": "white"
           }
          },
          "shapedefaults": {
           "line": {
            "color": "#2a3f5f"
           }
          },
          "ternary": {
           "aaxis": {
            "gridcolor": "white",
            "linecolor": "white",
            "ticks": ""
           },
           "baxis": {
            "gridcolor": "white",
            "linecolor": "white",
            "ticks": ""
           },
           "bgcolor": "#E5ECF6",
           "caxis": {
            "gridcolor": "white",
            "linecolor": "white",
            "ticks": ""
           }
          },
          "title": {
           "x": 0.05
          },
          "xaxis": {
           "automargin": true,
           "gridcolor": "white",
           "linecolor": "white",
           "ticks": "",
           "title": {
            "standoff": 15
           },
           "zerolinecolor": "white",
           "zerolinewidth": 2
          },
          "yaxis": {
           "automargin": true,
           "gridcolor": "white",
           "linecolor": "white",
           "ticks": "",
           "title": {
            "standoff": 15
           },
           "zerolinecolor": "white",
           "zerolinewidth": 2
          }
         }
        },
        "title": {
         "text": "Comparisons for Daylight"
        },
        "xaxis": {
         "anchor": "y",
         "domain": [
          0,
          0.45
         ],
         "title": {
          "text": "Adjusted Values"
         }
        },
        "xaxis2": {
         "anchor": "y2",
         "domain": [
          0.55,
          1
         ],
         "title": {
          "text": "Percent Change from Original [%]"
         }
        },
        "xaxis3": {
         "anchor": "y3",
         "domain": [
          0,
          0.45
         ],
         "title": {
          "text": "Cost Savings [$]"
         }
        },
        "xaxis4": {
         "anchor": "y4",
         "domain": [
          0.55,
          1
         ],
         "title": {
          "text": "Adjusted Values"
         }
        },
        "yaxis": {
         "anchor": "x",
         "domain": [
          0.625,
          1
         ],
         "title": {
          "text": "Energy [kWh]"
         }
        },
        "yaxis2": {
         "anchor": "x2",
         "domain": [
          0.625,
          1
         ]
        },
        "yaxis3": {
         "anchor": "x3",
         "domain": [
          0,
          0.375
         ],
         "title": {
          "text": "Energy Savings [kWh]"
         }
        },
        "yaxis4": {
         "anchor": "x4",
         "domain": [
          0,
          0.375
         ]
        }
       }
      }
     },
     "metadata": {},
     "output_type": "display_data"
    }
   ],
   "source": [
    "data = get_group(\"Daylight\", False)\n",
    "four_compare(data[0], data[1], data[2], data[3])\n",
    "# correlations(data[1], data[2])"
   ]
  },
  {
   "cell_type": "markdown",
   "metadata": {},
   "source": [
    "# All"
   ]
  },
  {
   "cell_type": "code",
   "execution_count": 22,
   "metadata": {},
   "outputs": [
    {
     "data": {
      "application/vnd.plotly.v1+json": {
       "config": {
        "plotlyServerURL": "https://plotly.com"
       },
       "data": [
        {
         "legendgroup": "Groups",
         "line": {
          "color": "rgb(229, 134, 6)"
         },
         "marker": {
          "size": 12.001
         },
         "mode": "lines+markers",
         "name": "Wall R [ft2-ºF-hr/Btu]",
         "showlegend": true,
         "type": "scatter",
         "x": [
          0.39985915492957913,
          9.996478873239438,
          14.994718309859156,
          19.992957746478876,
          24.991197183098596,
          29.98943661971831,
          39.58605633802817
         ],
         "xaxis": "x",
         "y": [
          264164.7075135103,
          210654.37765318173,
          207662.9322519344,
          206078.20165233428,
          205096.6951134768,
          204427.25351333577,
          203598.0202134073
         ],
         "yaxis": "y"
        },
        {
         "legendgroup": "Groups",
         "line": {
          "color": "rgb(93, 105, 177)"
         },
         "marker": {
          "size": 10.001999999999999
         },
         "mode": "lines+markers",
         "name": "Floor R [ft2-ºF-hr/Btu]",
         "showlegend": true,
         "type": "scatter",
         "x": [
          0.39985915492957913,
          9.996478873239438,
          14.994718309859156,
          19.992957746478876,
          24.991197183098596,
          29.98943661971831,
          39.58605633802817
         ],
         "xaxis": "x",
         "y": [
          278552.58424539823,
          284846.5159202912,
          283855.623765887,
          283870.9421938833,
          282509.8048389799,
          282762.3009306469,
          283072.37155308045
         ],
         "yaxis": "y"
        },
        {
         "legendgroup": "Groups",
         "line": {
          "color": "rgb(82, 188, 163)"
         },
         "marker": {
          "size": 8.003
         },
         "mode": "lines+markers",
         "name": "Roof R [ft2-ºF-hr/Btu]",
         "showlegend": true,
         "type": "scatter",
         "x": [
          0.39985915492957913,
          9.996478873239438,
          14.994718309859156,
          19.992957746478876,
          24.991197183098596,
          29.98943661971831,
          39.58605633802817
         ],
         "xaxis": "x",
         "y": [
          387450.0603126405,
          289872.5542517984,
          285293.6449222886,
          282922.3499036124,
          281474.0221101811,
          280471.5742470848,
          279275.28913562733
         ],
         "yaxis": "y"
        },
        {
         "legendgroup": "Groups",
         "line": {
          "color": "rgb(153, 201, 69)"
         },
         "marker": {
          "size": 6.004
         },
         "mode": "lines+markers",
         "name": "Window U-Factor [Btu/ft2-F-hr]",
         "showlegend": true,
         "type": "scatter",
         "x": [
          0.004226840436773511,
          0.1056710109193378,
          0.15850651637900667,
          0.2113420218386756,
          0.2641775272983445,
          0.31701303275801335,
          0.41845720324057767
         ],
         "xaxis": "x",
         "y": [
          271144.51505382074,
          275423.2509392697,
          277464.4853625179,
          279385.5704356383,
          281179.4498469197,
          282839.0622709057,
          285878.4664700822
         ],
         "yaxis": "y"
        },
        {
         "legendgroup": "Groups",
         "line": {
          "color": "rgb(204, 97, 176)"
         },
         "marker": {
          "size": 4.004999999999999
         },
         "mode": "lines+markers",
         "name": "Window SHGC",
         "showlegend": true,
         "type": "scatter",
         "x": [
          0.0061999999999999,
          0.155,
          0.2324999999999999,
          0.31,
          0.3875,
          0.4649999999999999,
          0.6138
         ],
         "xaxis": "x",
         "y": [
          198218.2426320747,
          200527.7921991349,
          201766.59285814397,
          203112.2120721182,
          204573.69239821145,
          206122.71218388685,
          209151.4758953536
         ],
         "yaxis": "y"
        },
        {
         "legendgroup": "Groups",
         "line": {
          "color": "rgb(36, 121, 108)"
         },
         "marker": {
          "size": 6.006
         },
         "mode": "lines+markers",
         "name": "Light Power Density [W/ft2]",
         "showlegend": true,
         "type": "scatter",
         "x": [
          0.024608940172031572,
          0.307611752150395,
          0.6152235043007901,
          0.9228352564511852,
          1.1074023077414221,
          1.1689246581715012,
          1.1996858333865406,
          1.2181425385155642,
          1.2304470086015802
         ],
         "xaxis": "x",
         "y": [
          248636.39523506915,
          254854.2848434877,
          262066.1334408329,
          270383.18250382,
          275733.3787363006,
          277549.5769678012,
          278465.6834896733,
          279017.0359578296,
          279385.5704356383
         ],
         "yaxis": "y"
        },
        {
         "legendgroup": "Groups",
         "line": {
          "color": "rgb(218, 165, 27)"
         },
         "marker": {
          "size": 4.007
         },
         "mode": "lines+markers",
         "name": "Equip. Power Density [W/ft2]",
         "showlegend": true,
         "type": "scatter",
         "x": [
          0.03717472118959095,
          0.46468401486988853,
          0.9293680297397771,
          1.3940520446096656,
          1.6728624535315986,
          1.7657992565055765,
          1.8122676579925652,
          1.8401486988847586,
          1.8587360594795541
         ],
         "xaxis": "x",
         "y": [
          224057.50738412864,
          234214.4531521108,
          246571.05634670836,
          261522.8745234703,
          271924.69385219767,
          275599.7615923967,
          277479.1806196801,
          278620.70307889377,
          279385.5704356383
         ],
         "yaxis": "y"
        },
        {
         "legendgroup": "Groups",
         "line": {
          "color": "rgb(47, 138, 196)"
         },
         "marker": {
          "size": 2.007999999999999
         },
         "mode": "lines+markers",
         "name": "Cooling Setp. [ºF]",
         "showlegend": true,
         "type": "scatter",
         "x": [
          85.66666666666676,
          86.20333333333342,
          87.00833333333344,
          88.35000000000011,
          91.03333333333345,
          99.08333333333346,
          112.50000000000016,
          138.2600000000002,
          125.91666666666683
         ],
         "xaxis": "x",
         "y": [
          279385.5704356383,
          278083.91175732214,
          276320.3895925395,
          273918.8476320789,
          270591.9567831179,
          268516.4491122514,
          268516.44095292187,
          268516.44095292187,
          268516.44095292187
         ],
         "yaxis": "y"
        },
        {
         "legendgroup": "Groups",
         "line": {
          "color": "rgb(118, 78, 159)"
         },
         "marker": {
          "size": 0.009000000000000341
         },
         "mode": "lines+markers",
         "name": "Heating Setp. [ºF]",
         "showlegend": true,
         "type": "scatter",
         "x": [
          32.692,
          40.65000000000002,
          49.30000000000004,
          57.95000000000006,
          63.14000000000007,
          64.87000000000008,
          65.73500000000007,
          66.25400000000008,
          66.60000000000008
         ],
         "xaxis": "x",
         "y": [
          240511.0265692853,
          240512.42565150812,
          240920.587803102,
          246202.88351184584,
          259664.66728995845,
          268187.372165272,
          273455.8165433415,
          276936.428302146,
          279385.5704356383
         ],
         "yaxis": "y"
        },
        {
         "legendgroup": "Groups",
         "line": {
          "color": "rgb(237, 100, 90)"
         },
         "marker": {
          "size": 0
         },
         "mode": "lines+markers",
         "name": "Daylight Controls",
         "showlegend": true,
         "type": "scatter",
         "x": [
          0,
          1
         ],
         "xaxis": "x",
         "y": [
          279385.5704356383,
          273685.1572907263
         ],
         "yaxis": "y"
        },
        {
         "legendgroup": "Groups",
         "line": {
          "color": "rgb(229, 134, 6)"
         },
         "marker": {
          "size": 12.001
         },
         "mode": "lines+markers",
         "name": "wall_b1",
         "showlegend": false,
         "type": "scatter",
         "x": [
          -98,
          -50,
          -25,
          0,
          25,
          50,
          98
         ],
         "xaxis": "x2",
         "y": [
          264164.7075135103,
          210654.37765318173,
          207662.9322519344,
          206078.20165233428,
          205096.6951134768,
          204427.25351333577,
          203598.0202134073
         ],
         "yaxis": "y2"
        },
        {
         "legendgroup": "Groups",
         "line": {
          "color": "rgb(93, 105, 177)"
         },
         "marker": {
          "size": 10.001999999999999
         },
         "mode": "lines+markers",
         "name": "floor_2",
         "showlegend": false,
         "type": "scatter",
         "x": [
          -98,
          -50,
          -25,
          0,
          25,
          50,
          98
         ],
         "xaxis": "x2",
         "y": [
          278552.58424539823,
          284846.5159202912,
          283855.623765887,
          283870.9421938833,
          282509.8048389799,
          282762.3009306469,
          283072.37155308045
         ],
         "yaxis": "y2"
        },
        {
         "legendgroup": "Groups",
         "line": {
          "color": "rgb(82, 188, 163)"
         },
         "marker": {
          "size": 8.003
         },
         "mode": "lines+markers",
         "name": "roof_0",
         "showlegend": false,
         "type": "scatter",
         "x": [
          -98,
          -50,
          -25,
          0,
          25,
          50,
          98
         ],
         "xaxis": "x2",
         "y": [
          387450.0603126405,
          289872.5542517984,
          285293.6449222886,
          282922.3499036124,
          281474.0221101811,
          280471.5742470848,
          279275.28913562733
         ],
         "yaxis": "y2"
        },
        {
         "legendgroup": "Groups",
         "line": {
          "color": "rgb(153, 201, 69)"
         },
         "marker": {
          "size": 6.004
         },
         "mode": "lines+markers",
         "name": "window_u",
         "showlegend": false,
         "type": "scatter",
         "x": [
          -98,
          -50,
          -25,
          0,
          25,
          50,
          98
         ],
         "xaxis": "x2",
         "y": [
          271144.51505382074,
          275423.2509392697,
          277464.4853625179,
          279385.5704356383,
          281179.4498469197,
          282839.0622709057,
          285878.4664700822
         ],
         "yaxis": "y2"
        },
        {
         "legendgroup": "Groups",
         "line": {
          "color": "rgb(204, 97, 176)"
         },
         "marker": {
          "size": 4.004999999999999
         },
         "mode": "lines+markers",
         "name": "shgc_b1",
         "showlegend": false,
         "type": "scatter",
         "x": [
          -98,
          -50,
          -25,
          0,
          25,
          50,
          98
         ],
         "xaxis": "x2",
         "y": [
          198218.2426320747,
          200527.7921991349,
          201766.59285814397,
          203112.2120721182,
          204573.69239821145,
          206122.71218388685,
          209151.4758953536
         ],
         "yaxis": "y2"
        },
        {
         "legendgroup": "Groups",
         "line": {
          "color": "rgb(36, 121, 108)"
         },
         "marker": {
          "size": 6.006
         },
         "mode": "lines+markers",
         "name": "light_0",
         "showlegend": false,
         "type": "scatter",
         "x": [
          -98,
          -75,
          -50,
          -25,
          -10,
          -5,
          -2.5,
          -1,
          0
         ],
         "xaxis": "x2",
         "y": [
          248636.39523506915,
          254854.2848434877,
          262066.1334408329,
          270383.18250382,
          275733.3787363006,
          277549.5769678012,
          278465.6834896733,
          279017.0359578296,
          279385.5704356383
         ],
         "yaxis": "y2"
        },
        {
         "legendgroup": "Groups",
         "line": {
          "color": "rgb(218, 165, 27)"
         },
         "marker": {
          "size": 4.007
         },
         "mode": "lines+markers",
         "name": "equip_0",
         "showlegend": false,
         "type": "scatter",
         "x": [
          -98,
          -75,
          -50,
          -25,
          -10,
          -5,
          -2.5,
          -1,
          0
         ],
         "xaxis": "x2",
         "y": [
          224057.50738412864,
          234214.4531521108,
          246571.05634670836,
          261522.8745234703,
          271924.69385219767,
          275599.7615923967,
          277479.1806196801,
          278620.70307889377,
          279385.5704356383
         ],
         "yaxis": "y2"
        },
        {
         "legendgroup": "Groups",
         "line": {
          "color": "rgb(47, 138, 196)"
         },
         "marker": {
          "size": 2.007999999999999
         },
         "mode": "lines+markers",
         "name": "clgsetp_0",
         "showlegend": false,
         "type": "scatter",
         "x": [
          0,
          1,
          2.5,
          5,
          10,
          25,
          50,
          98,
          75
         ],
         "xaxis": "x2",
         "y": [
          279385.5704356383,
          278083.91175732214,
          276320.3895925395,
          273918.8476320789,
          270591.9567831179,
          268516.4491122514,
          268516.44095292187,
          268516.44095292187,
          268516.44095292187
         ],
         "yaxis": "y2"
        },
        {
         "legendgroup": "Groups",
         "line": {
          "color": "rgb(118, 78, 159)"
         },
         "marker": {
          "size": 0.009000000000000341
         },
         "mode": "lines+markers",
         "name": "htgsetp_0",
         "showlegend": false,
         "type": "scatter",
         "x": [
          -98,
          -75,
          -50,
          -25,
          -10,
          -5,
          -2.5,
          -1,
          0
         ],
         "xaxis": "x2",
         "y": [
          240511.0265692853,
          240512.42565150812,
          240920.587803102,
          246202.88351184584,
          259664.66728995845,
          268187.372165272,
          273455.8165433415,
          276936.428302146,
          279385.5704356383
         ],
         "yaxis": "y2"
        },
        {
         "legendgroup": "Groups",
         "line": {
          "color": "rgb(237, 100, 90)"
         },
         "marker": {
          "size": 0
         },
         "mode": "lines+markers",
         "name": "daylight_0",
         "showlegend": false,
         "type": "scatter",
         "x": [
          0,
          1
         ],
         "xaxis": "x2",
         "y": [
          279385.5704356383,
          273685.1572907263
         ],
         "yaxis": "y2"
        },
        {
         "legendgroup": "Groups",
         "line": {
          "color": "rgb(229, 134, 6)"
         },
         "marker": {
          "size": 12.001
         },
         "mode": "lines+markers",
         "name": "wall_b1",
         "showlegend": false,
         "type": "scatter",
         "x": [
          0,
          0,
          0,
          0,
          131.61000000000422,
          220.56000000000495,
          331.45000000000437
         ],
         "xaxis": "x3",
         "y": [
          0,
          0,
          0,
          0,
          981.5065388574731,
          1650.9481389985012,
          2480.1814389269857
         ],
         "yaxis": "y3"
        },
        {
         "legendgroup": "Groups",
         "line": {
          "color": "rgb(93, 105, 177)"
         },
         "marker": {
          "size": 10.001999999999999
         },
         "mode": "lines+markers",
         "name": "floor_2",
         "showlegend": false,
         "type": "scatter",
         "x": [
          698.0999999999985,
          0,
          4.5899999999965075,
          0,
          177.86999999999534,
          143.38999999999942,
          101.23999999999069
         ],
         "xaxis": "x3",
         "y": [
          5318.357948485063,
          0,
          15.31842799630249,
          0,
          1361.1373549033888,
          1108.6412632364081,
          798.5706408028491
         ],
         "yaxis": "y3"
        },
        {
         "legendgroup": "Groups",
         "line": {
          "color": "rgb(82, 188, 163)"
         },
         "marker": {
          "size": 8.003
         },
         "mode": "lines+markers",
         "name": "roof_0",
         "showlegend": false,
         "type": "scatter",
         "x": [
          0,
          0,
          0,
          0,
          197.8599999999933,
          334.16999999999825,
          496.77999999999156
         ],
         "xaxis": "x3",
         "y": [
          0,
          0,
          0,
          0,
          1448.3277934312937,
          2450.7756565276068,
          3647.0607679850655
         ],
         "yaxis": "y3"
        },
        {
         "legendgroup": "Groups",
         "line": {
          "color": "rgb(153, 201, 69)"
         },
         "marker": {
          "size": 6.004
         },
         "mode": "lines+markers",
         "name": "window_u",
         "showlegend": false,
         "type": "scatter",
         "x": [
          1101.479999999996,
          530.2900000000009,
          257.2099999999991,
          0,
          0,
          0,
          0
         ],
         "xaxis": "x3",
         "y": [
          8241.055381817569,
          3962.319496368582,
          1921.0850731204264,
          0,
          0,
          0,
          0
         ],
         "yaxis": "y3"
        },
        {
         "legendgroup": "Groups",
         "line": {
          "color": "rgb(204, 97, 176)"
         },
         "marker": {
          "size": 4.004999999999999
         },
         "mode": "lines+markers",
         "name": "shgc_b1",
         "showlegend": false,
         "type": "scatter",
         "x": [
          634.1800000000003,
          333.7599999999984,
          172.34999999999854,
          0,
          0,
          0,
          0
         ],
         "xaxis": "x3",
         "y": [
          4893.969440043496,
          2584.4198729832715,
          1345.6192139742197,
          0,
          0,
          0,
          0
         ],
         "yaxis": "y3"
        },
        {
         "legendgroup": "Groups",
         "line": {
          "color": "rgb(36, 121, 108)"
         },
         "marker": {
          "size": 6.006
         },
         "mode": "lines+markers",
         "name": "light_0",
         "showlegend": false,
         "type": "scatter",
         "x": [
          5945.779999999999,
          4693.580000000002,
          3268.1500000000015,
          1674.9300000000003,
          677.2700000000041,
          339.7099999999991,
          169.76000000000204,
          67.93000000000029,
          0
         ],
         "xaxis": "x3",
         "y": [
          30749.175200569152,
          24531.285592150613,
          17319.436994805408,
          9002.387931818317,
          3652.19169933768,
          1835.9934678371064,
          919.8869459650014,
          368.53447780868737,
          0
         ],
         "yaxis": "y3"
        },
        {
         "legendgroup": "Groups",
         "line": {
          "color": "rgb(218, 165, 27)"
         },
         "marker": {
          "size": 4.007
         },
         "mode": "lines+markers",
         "name": "equip_0",
         "showlegend": false,
         "type": "scatter",
         "x": [
          11057.04,
          8858.330000000002,
          6284.510000000002,
          3344.3700000000026,
          1378.5999999999985,
          696.7099999999991,
          349.9599999999991,
          139.86000000000786,
          0
         ],
         "xaxis": "x3",
         "y": [
          55328.06305150967,
          45171.11728352751,
          32814.51408892995,
          17862.695912168012,
          7460.876583440637,
          3785.808843241597,
          1906.3898159582168,
          764.8673567445367,
          0
         ],
         "yaxis": "y3"
        },
        {
         "legendgroup": "Groups",
         "line": {
          "color": "rgb(47, 138, 196)"
         },
         "marker": {
          "size": 2.007999999999999
         },
         "mode": "lines+markers",
         "name": "clgsetp_0",
         "showlegend": false,
         "type": "scatter",
         "x": [
          0,
          191.5699999999997,
          454.02999999999884,
          799.310000000005,
          1269.8800000000047,
          1555.7099999999991,
          1555.7099999999991,
          1555.7099999999991,
          1555.7099999999991
         ],
         "xaxis": "x3",
         "y": [
          0,
          1301.658678316162,
          3065.1808430987876,
          5466.722803559387,
          8793.613652520406,
          10869.121323386906,
          10869.129482716438,
          10869.129482716438,
          10869.129482716438
         ],
         "yaxis": "y3"
        },
        {
         "legendgroup": "Groups",
         "line": {
          "color": "rgb(118, 78, 159)"
         },
         "marker": {
          "size": 0.009000000000000341
         },
         "mode": "lines+markers",
         "name": "htgsetp_0",
         "showlegend": false,
         "type": "scatter",
         "x": [
          5311.669999999998,
          5311.480000000003,
          5255.75,
          4533.989999999998,
          2694.739999999998,
          1530.3300000000017,
          810.3499999999985,
          334.68999999999505,
          0
         ],
         "xaxis": "x3",
         "y": [
          38874.54386635299,
          38873.144784130185,
          38464.982632536296,
          33182.68692379247,
          19720.903145679855,
          11198.198270366294,
          5929.753892296809,
          2449.142133492278,
          0
         ],
         "yaxis": "y3"
        },
        {
         "legendgroup": "Groups",
         "line": {
          "color": "rgb(237, 100, 90)"
         },
         "marker": {
          "size": 0
         },
         "mode": "lines+markers",
         "name": "daylight_0",
         "showlegend": false,
         "type": "scatter",
         "x": [
          0,
          1058.2099999999991
         ],
         "xaxis": "x3",
         "y": [
          0,
          5700.413144911989
         ],
         "yaxis": "y3"
        },
        {
         "legendgroup": "Groups",
         "line": {
          "color": "rgb(229, 134, 6)"
         },
         "marker": {
          "size": 12.001
         },
         "mode": "lines+markers",
         "name": "wall_b1",
         "showlegend": false,
         "type": "scatter",
         "x": [
          0.39985915492957913,
          9.996478873239438,
          14.994718309859156,
          19.992957746478876,
          24.991197183098596,
          29.98943661971831,
          39.58605633802817
         ],
         "xaxis": "x4",
         "y": [
          0,
          0,
          0,
          0,
          981.5065388574731,
          1650.9481389985012,
          2480.1814389269857
         ],
         "yaxis": "y4"
        },
        {
         "legendgroup": "Groups",
         "line": {
          "color": "rgb(93, 105, 177)"
         },
         "marker": {
          "size": 10.001999999999999
         },
         "mode": "lines+markers",
         "name": "floor_2",
         "showlegend": false,
         "type": "scatter",
         "x": [
          0.39985915492957913,
          9.996478873239438,
          14.994718309859156,
          19.992957746478876,
          24.991197183098596,
          29.98943661971831,
          39.58605633802817
         ],
         "xaxis": "x4",
         "y": [
          5318.357948485063,
          0,
          15.31842799630249,
          0,
          1361.1373549033888,
          1108.6412632364081,
          798.5706408028491
         ],
         "yaxis": "y4"
        },
        {
         "legendgroup": "Groups",
         "line": {
          "color": "rgb(82, 188, 163)"
         },
         "marker": {
          "size": 8.003
         },
         "mode": "lines+markers",
         "name": "roof_0",
         "showlegend": false,
         "type": "scatter",
         "x": [
          0.39985915492957913,
          9.996478873239438,
          14.994718309859156,
          19.992957746478876,
          24.991197183098596,
          29.98943661971831,
          39.58605633802817
         ],
         "xaxis": "x4",
         "y": [
          0,
          0,
          0,
          0,
          1448.3277934312937,
          2450.7756565276068,
          3647.0607679850655
         ],
         "yaxis": "y4"
        },
        {
         "legendgroup": "Groups",
         "line": {
          "color": "rgb(153, 201, 69)"
         },
         "marker": {
          "size": 6.004
         },
         "mode": "lines+markers",
         "name": "window_u",
         "showlegend": false,
         "type": "scatter",
         "x": [
          0.004226840436773511,
          0.1056710109193378,
          0.15850651637900667,
          0.2113420218386756,
          0.2641775272983445,
          0.31701303275801335,
          0.41845720324057767
         ],
         "xaxis": "x4",
         "y": [
          8241.055381817569,
          3962.319496368582,
          1921.0850731204264,
          0,
          0,
          0,
          0
         ],
         "yaxis": "y4"
        },
        {
         "legendgroup": "Groups",
         "line": {
          "color": "rgb(204, 97, 176)"
         },
         "marker": {
          "size": 4.004999999999999
         },
         "mode": "lines+markers",
         "name": "shgc_b1",
         "showlegend": false,
         "type": "scatter",
         "x": [
          0.0061999999999999,
          0.155,
          0.2324999999999999,
          0.31,
          0.3875,
          0.4649999999999999,
          0.6138
         ],
         "xaxis": "x4",
         "y": [
          4893.969440043496,
          2584.4198729832715,
          1345.6192139742197,
          0,
          0,
          0,
          0
         ],
         "yaxis": "y4"
        },
        {
         "legendgroup": "Groups",
         "line": {
          "color": "rgb(36, 121, 108)"
         },
         "marker": {
          "size": 6.006
         },
         "mode": "lines+markers",
         "name": "light_0",
         "showlegend": false,
         "type": "scatter",
         "x": [
          0.024608940172031572,
          0.307611752150395,
          0.6152235043007901,
          0.9228352564511852,
          1.1074023077414221,
          1.1689246581715012,
          1.1996858333865406,
          1.2181425385155642,
          1.2304470086015802
         ],
         "xaxis": "x4",
         "y": [
          30749.175200569152,
          24531.285592150613,
          17319.436994805408,
          9002.387931818317,
          3652.19169933768,
          1835.9934678371064,
          919.8869459650014,
          368.53447780868737,
          0
         ],
         "yaxis": "y4"
        },
        {
         "legendgroup": "Groups",
         "line": {
          "color": "rgb(218, 165, 27)"
         },
         "marker": {
          "size": 4.007
         },
         "mode": "lines+markers",
         "name": "equip_0",
         "showlegend": false,
         "type": "scatter",
         "x": [
          0.03717472118959095,
          0.46468401486988853,
          0.9293680297397771,
          1.3940520446096656,
          1.6728624535315986,
          1.7657992565055765,
          1.8122676579925652,
          1.8401486988847586,
          1.8587360594795541
         ],
         "xaxis": "x4",
         "y": [
          55328.06305150967,
          45171.11728352751,
          32814.51408892995,
          17862.695912168012,
          7460.876583440637,
          3785.808843241597,
          1906.3898159582168,
          764.8673567445367,
          0
         ],
         "yaxis": "y4"
        },
        {
         "legendgroup": "Groups",
         "line": {
          "color": "rgb(47, 138, 196)"
         },
         "marker": {
          "size": 2.007999999999999
         },
         "mode": "lines+markers",
         "name": "clgsetp_0",
         "showlegend": false,
         "type": "scatter",
         "x": [
          85.66666666666676,
          86.20333333333342,
          87.00833333333344,
          88.35000000000011,
          91.03333333333345,
          99.08333333333346,
          112.50000000000016,
          138.2600000000002,
          125.91666666666683
         ],
         "xaxis": "x4",
         "y": [
          0,
          1301.658678316162,
          3065.1808430987876,
          5466.722803559387,
          8793.613652520406,
          10869.121323386906,
          10869.129482716438,
          10869.129482716438,
          10869.129482716438
         ],
         "yaxis": "y4"
        },
        {
         "legendgroup": "Groups",
         "line": {
          "color": "rgb(118, 78, 159)"
         },
         "marker": {
          "size": 0.009000000000000341
         },
         "mode": "lines+markers",
         "name": "htgsetp_0",
         "showlegend": false,
         "type": "scatter",
         "x": [
          32.692,
          40.65000000000002,
          49.30000000000004,
          57.95000000000006,
          63.14000000000007,
          64.87000000000008,
          65.73500000000007,
          66.25400000000008,
          66.60000000000008
         ],
         "xaxis": "x4",
         "y": [
          38874.54386635299,
          38873.144784130185,
          38464.982632536296,
          33182.68692379247,
          19720.903145679855,
          11198.198270366294,
          5929.753892296809,
          2449.142133492278,
          0
         ],
         "yaxis": "y4"
        },
        {
         "legendgroup": "Groups",
         "line": {
          "color": "rgb(237, 100, 90)"
         },
         "marker": {
          "size": 0
         },
         "mode": "lines+markers",
         "name": "daylight_0",
         "showlegend": false,
         "type": "scatter",
         "x": [
          0,
          1
         ],
         "xaxis": "x4",
         "y": [
          0,
          5700.413144911989
         ],
         "yaxis": "y4"
        }
       ],
       "layout": {
        "annotations": [
         {
          "font": {
           "size": 16
          },
          "showarrow": false,
          "text": "Energy Consumption vs Adjusted Values",
          "x": 0.225,
          "xanchor": "center",
          "xref": "paper",
          "y": 1,
          "yanchor": "bottom",
          "yref": "paper"
         },
         {
          "font": {
           "size": 16
          },
          "showarrow": false,
          "text": "Energy Consumption vs Percent Change",
          "x": 0.775,
          "xanchor": "center",
          "xref": "paper",
          "y": 1,
          "yanchor": "bottom",
          "yref": "paper"
         },
         {
          "font": {
           "size": 16
          },
          "showarrow": false,
          "text": "Energy Savings vs Cost Savings",
          "x": 0.225,
          "xanchor": "center",
          "xref": "paper",
          "y": 0.375,
          "yanchor": "bottom",
          "yref": "paper"
         },
         {
          "font": {
           "size": 16
          },
          "showarrow": false,
          "text": "Energy Savings vs Adjusted Values",
          "x": 0.775,
          "xanchor": "center",
          "xref": "paper",
          "y": 0.375,
          "yanchor": "bottom",
          "yref": "paper"
         }
        ],
        "template": {
         "data": {
          "bar": [
           {
            "error_x": {
             "color": "#2a3f5f"
            },
            "error_y": {
             "color": "#2a3f5f"
            },
            "marker": {
             "line": {
              "color": "#E5ECF6",
              "width": 0.5
             },
             "pattern": {
              "fillmode": "overlay",
              "size": 10,
              "solidity": 0.2
             }
            },
            "type": "bar"
           }
          ],
          "barpolar": [
           {
            "marker": {
             "line": {
              "color": "#E5ECF6",
              "width": 0.5
             },
             "pattern": {
              "fillmode": "overlay",
              "size": 10,
              "solidity": 0.2
             }
            },
            "type": "barpolar"
           }
          ],
          "carpet": [
           {
            "aaxis": {
             "endlinecolor": "#2a3f5f",
             "gridcolor": "white",
             "linecolor": "white",
             "minorgridcolor": "white",
             "startlinecolor": "#2a3f5f"
            },
            "baxis": {
             "endlinecolor": "#2a3f5f",
             "gridcolor": "white",
             "linecolor": "white",
             "minorgridcolor": "white",
             "startlinecolor": "#2a3f5f"
            },
            "type": "carpet"
           }
          ],
          "choropleth": [
           {
            "colorbar": {
             "outlinewidth": 0,
             "ticks": ""
            },
            "type": "choropleth"
           }
          ],
          "contour": [
           {
            "colorbar": {
             "outlinewidth": 0,
             "ticks": ""
            },
            "colorscale": [
             [
              0,
              "#0d0887"
             ],
             [
              0.1111111111111111,
              "#46039f"
             ],
             [
              0.2222222222222222,
              "#7201a8"
             ],
             [
              0.3333333333333333,
              "#9c179e"
             ],
             [
              0.4444444444444444,
              "#bd3786"
             ],
             [
              0.5555555555555556,
              "#d8576b"
             ],
             [
              0.6666666666666666,
              "#ed7953"
             ],
             [
              0.7777777777777778,
              "#fb9f3a"
             ],
             [
              0.8888888888888888,
              "#fdca26"
             ],
             [
              1,
              "#f0f921"
             ]
            ],
            "type": "contour"
           }
          ],
          "contourcarpet": [
           {
            "colorbar": {
             "outlinewidth": 0,
             "ticks": ""
            },
            "type": "contourcarpet"
           }
          ],
          "heatmap": [
           {
            "colorbar": {
             "outlinewidth": 0,
             "ticks": ""
            },
            "colorscale": [
             [
              0,
              "#0d0887"
             ],
             [
              0.1111111111111111,
              "#46039f"
             ],
             [
              0.2222222222222222,
              "#7201a8"
             ],
             [
              0.3333333333333333,
              "#9c179e"
             ],
             [
              0.4444444444444444,
              "#bd3786"
             ],
             [
              0.5555555555555556,
              "#d8576b"
             ],
             [
              0.6666666666666666,
              "#ed7953"
             ],
             [
              0.7777777777777778,
              "#fb9f3a"
             ],
             [
              0.8888888888888888,
              "#fdca26"
             ],
             [
              1,
              "#f0f921"
             ]
            ],
            "type": "heatmap"
           }
          ],
          "heatmapgl": [
           {
            "colorbar": {
             "outlinewidth": 0,
             "ticks": ""
            },
            "colorscale": [
             [
              0,
              "#0d0887"
             ],
             [
              0.1111111111111111,
              "#46039f"
             ],
             [
              0.2222222222222222,
              "#7201a8"
             ],
             [
              0.3333333333333333,
              "#9c179e"
             ],
             [
              0.4444444444444444,
              "#bd3786"
             ],
             [
              0.5555555555555556,
              "#d8576b"
             ],
             [
              0.6666666666666666,
              "#ed7953"
             ],
             [
              0.7777777777777778,
              "#fb9f3a"
             ],
             [
              0.8888888888888888,
              "#fdca26"
             ],
             [
              1,
              "#f0f921"
             ]
            ],
            "type": "heatmapgl"
           }
          ],
          "histogram": [
           {
            "marker": {
             "pattern": {
              "fillmode": "overlay",
              "size": 10,
              "solidity": 0.2
             }
            },
            "type": "histogram"
           }
          ],
          "histogram2d": [
           {
            "colorbar": {
             "outlinewidth": 0,
             "ticks": ""
            },
            "colorscale": [
             [
              0,
              "#0d0887"
             ],
             [
              0.1111111111111111,
              "#46039f"
             ],
             [
              0.2222222222222222,
              "#7201a8"
             ],
             [
              0.3333333333333333,
              "#9c179e"
             ],
             [
              0.4444444444444444,
              "#bd3786"
             ],
             [
              0.5555555555555556,
              "#d8576b"
             ],
             [
              0.6666666666666666,
              "#ed7953"
             ],
             [
              0.7777777777777778,
              "#fb9f3a"
             ],
             [
              0.8888888888888888,
              "#fdca26"
             ],
             [
              1,
              "#f0f921"
             ]
            ],
            "type": "histogram2d"
           }
          ],
          "histogram2dcontour": [
           {
            "colorbar": {
             "outlinewidth": 0,
             "ticks": ""
            },
            "colorscale": [
             [
              0,
              "#0d0887"
             ],
             [
              0.1111111111111111,
              "#46039f"
             ],
             [
              0.2222222222222222,
              "#7201a8"
             ],
             [
              0.3333333333333333,
              "#9c179e"
             ],
             [
              0.4444444444444444,
              "#bd3786"
             ],
             [
              0.5555555555555556,
              "#d8576b"
             ],
             [
              0.6666666666666666,
              "#ed7953"
             ],
             [
              0.7777777777777778,
              "#fb9f3a"
             ],
             [
              0.8888888888888888,
              "#fdca26"
             ],
             [
              1,
              "#f0f921"
             ]
            ],
            "type": "histogram2dcontour"
           }
          ],
          "mesh3d": [
           {
            "colorbar": {
             "outlinewidth": 0,
             "ticks": ""
            },
            "type": "mesh3d"
           }
          ],
          "parcoords": [
           {
            "line": {
             "colorbar": {
              "outlinewidth": 0,
              "ticks": ""
             }
            },
            "type": "parcoords"
           }
          ],
          "pie": [
           {
            "automargin": true,
            "type": "pie"
           }
          ],
          "scatter": [
           {
            "marker": {
             "colorbar": {
              "outlinewidth": 0,
              "ticks": ""
             }
            },
            "type": "scatter"
           }
          ],
          "scatter3d": [
           {
            "line": {
             "colorbar": {
              "outlinewidth": 0,
              "ticks": ""
             }
            },
            "marker": {
             "colorbar": {
              "outlinewidth": 0,
              "ticks": ""
             }
            },
            "type": "scatter3d"
           }
          ],
          "scattercarpet": [
           {
            "marker": {
             "colorbar": {
              "outlinewidth": 0,
              "ticks": ""
             }
            },
            "type": "scattercarpet"
           }
          ],
          "scattergeo": [
           {
            "marker": {
             "colorbar": {
              "outlinewidth": 0,
              "ticks": ""
             }
            },
            "type": "scattergeo"
           }
          ],
          "scattergl": [
           {
            "marker": {
             "colorbar": {
              "outlinewidth": 0,
              "ticks": ""
             }
            },
            "type": "scattergl"
           }
          ],
          "scattermapbox": [
           {
            "marker": {
             "colorbar": {
              "outlinewidth": 0,
              "ticks": ""
             }
            },
            "type": "scattermapbox"
           }
          ],
          "scatterpolar": [
           {
            "marker": {
             "colorbar": {
              "outlinewidth": 0,
              "ticks": ""
             }
            },
            "type": "scatterpolar"
           }
          ],
          "scatterpolargl": [
           {
            "marker": {
             "colorbar": {
              "outlinewidth": 0,
              "ticks": ""
             }
            },
            "type": "scatterpolargl"
           }
          ],
          "scatterternary": [
           {
            "marker": {
             "colorbar": {
              "outlinewidth": 0,
              "ticks": ""
             }
            },
            "type": "scatterternary"
           }
          ],
          "surface": [
           {
            "colorbar": {
             "outlinewidth": 0,
             "ticks": ""
            },
            "colorscale": [
             [
              0,
              "#0d0887"
             ],
             [
              0.1111111111111111,
              "#46039f"
             ],
             [
              0.2222222222222222,
              "#7201a8"
             ],
             [
              0.3333333333333333,
              "#9c179e"
             ],
             [
              0.4444444444444444,
              "#bd3786"
             ],
             [
              0.5555555555555556,
              "#d8576b"
             ],
             [
              0.6666666666666666,
              "#ed7953"
             ],
             [
              0.7777777777777778,
              "#fb9f3a"
             ],
             [
              0.8888888888888888,
              "#fdca26"
             ],
             [
              1,
              "#f0f921"
             ]
            ],
            "type": "surface"
           }
          ],
          "table": [
           {
            "cells": {
             "fill": {
              "color": "#EBF0F8"
             },
             "line": {
              "color": "white"
             }
            },
            "header": {
             "fill": {
              "color": "#C8D4E3"
             },
             "line": {
              "color": "white"
             }
            },
            "type": "table"
           }
          ]
         },
         "layout": {
          "annotationdefaults": {
           "arrowcolor": "#2a3f5f",
           "arrowhead": 0,
           "arrowwidth": 1
          },
          "autotypenumbers": "strict",
          "coloraxis": {
           "colorbar": {
            "outlinewidth": 0,
            "ticks": ""
           }
          },
          "colorscale": {
           "diverging": [
            [
             0,
             "#8e0152"
            ],
            [
             0.1,
             "#c51b7d"
            ],
            [
             0.2,
             "#de77ae"
            ],
            [
             0.3,
             "#f1b6da"
            ],
            [
             0.4,
             "#fde0ef"
            ],
            [
             0.5,
             "#f7f7f7"
            ],
            [
             0.6,
             "#e6f5d0"
            ],
            [
             0.7,
             "#b8e186"
            ],
            [
             0.8,
             "#7fbc41"
            ],
            [
             0.9,
             "#4d9221"
            ],
            [
             1,
             "#276419"
            ]
           ],
           "sequential": [
            [
             0,
             "#0d0887"
            ],
            [
             0.1111111111111111,
             "#46039f"
            ],
            [
             0.2222222222222222,
             "#7201a8"
            ],
            [
             0.3333333333333333,
             "#9c179e"
            ],
            [
             0.4444444444444444,
             "#bd3786"
            ],
            [
             0.5555555555555556,
             "#d8576b"
            ],
            [
             0.6666666666666666,
             "#ed7953"
            ],
            [
             0.7777777777777778,
             "#fb9f3a"
            ],
            [
             0.8888888888888888,
             "#fdca26"
            ],
            [
             1,
             "#f0f921"
            ]
           ],
           "sequentialminus": [
            [
             0,
             "#0d0887"
            ],
            [
             0.1111111111111111,
             "#46039f"
            ],
            [
             0.2222222222222222,
             "#7201a8"
            ],
            [
             0.3333333333333333,
             "#9c179e"
            ],
            [
             0.4444444444444444,
             "#bd3786"
            ],
            [
             0.5555555555555556,
             "#d8576b"
            ],
            [
             0.6666666666666666,
             "#ed7953"
            ],
            [
             0.7777777777777778,
             "#fb9f3a"
            ],
            [
             0.8888888888888888,
             "#fdca26"
            ],
            [
             1,
             "#f0f921"
            ]
           ]
          },
          "colorway": [
           "#636efa",
           "#EF553B",
           "#00cc96",
           "#ab63fa",
           "#FFA15A",
           "#19d3f3",
           "#FF6692",
           "#B6E880",
           "#FF97FF",
           "#FECB52"
          ],
          "font": {
           "color": "#2a3f5f"
          },
          "geo": {
           "bgcolor": "white",
           "lakecolor": "white",
           "landcolor": "#E5ECF6",
           "showlakes": true,
           "showland": true,
           "subunitcolor": "white"
          },
          "hoverlabel": {
           "align": "left"
          },
          "hovermode": "closest",
          "mapbox": {
           "style": "light"
          },
          "paper_bgcolor": "white",
          "plot_bgcolor": "#E5ECF6",
          "polar": {
           "angularaxis": {
            "gridcolor": "white",
            "linecolor": "white",
            "ticks": ""
           },
           "bgcolor": "#E5ECF6",
           "radialaxis": {
            "gridcolor": "white",
            "linecolor": "white",
            "ticks": ""
           }
          },
          "scene": {
           "xaxis": {
            "backgroundcolor": "#E5ECF6",
            "gridcolor": "white",
            "gridwidth": 2,
            "linecolor": "white",
            "showbackground": true,
            "ticks": "",
            "zerolinecolor": "white"
           },
           "yaxis": {
            "backgroundcolor": "#E5ECF6",
            "gridcolor": "white",
            "gridwidth": 2,
            "linecolor": "white",
            "showbackground": true,
            "ticks": "",
            "zerolinecolor": "white"
           },
           "zaxis": {
            "backgroundcolor": "#E5ECF6",
            "gridcolor": "white",
            "gridwidth": 2,
            "linecolor": "white",
            "showbackground": true,
            "ticks": "",
            "zerolinecolor": "white"
           }
          },
          "shapedefaults": {
           "line": {
            "color": "#2a3f5f"
           }
          },
          "ternary": {
           "aaxis": {
            "gridcolor": "white",
            "linecolor": "white",
            "ticks": ""
           },
           "baxis": {
            "gridcolor": "white",
            "linecolor": "white",
            "ticks": ""
           },
           "bgcolor": "#E5ECF6",
           "caxis": {
            "gridcolor": "white",
            "linecolor": "white",
            "ticks": ""
           }
          },
          "title": {
           "x": 0.05
          },
          "xaxis": {
           "automargin": true,
           "gridcolor": "white",
           "linecolor": "white",
           "ticks": "",
           "title": {
            "standoff": 15
           },
           "zerolinecolor": "white",
           "zerolinewidth": 2
          },
          "yaxis": {
           "automargin": true,
           "gridcolor": "white",
           "linecolor": "white",
           "ticks": "",
           "title": {
            "standoff": 15
           },
           "zerolinecolor": "white",
           "zerolinewidth": 2
          }
         }
        },
        "title": {
         "text": "Comparisons for All"
        },
        "xaxis": {
         "anchor": "y",
         "domain": [
          0,
          0.45
         ],
         "title": {
          "text": "Adjusted Values"
         }
        },
        "xaxis2": {
         "anchor": "y2",
         "domain": [
          0.55,
          1
         ],
         "title": {
          "text": "Percent Change from Original [%]"
         }
        },
        "xaxis3": {
         "anchor": "y3",
         "domain": [
          0,
          0.45
         ],
         "title": {
          "text": "Cost Savings [$]"
         }
        },
        "xaxis4": {
         "anchor": "y4",
         "domain": [
          0.55,
          1
         ],
         "title": {
          "text": "Adjusted Values"
         }
        },
        "yaxis": {
         "anchor": "x",
         "domain": [
          0.625,
          1
         ],
         "title": {
          "text": "Energy [kWh]"
         }
        },
        "yaxis2": {
         "anchor": "x2",
         "domain": [
          0.625,
          1
         ]
        },
        "yaxis3": {
         "anchor": "x3",
         "domain": [
          0,
          0.375
         ],
         "title": {
          "text": "Energy Savings [kWh]"
         }
        },
        "yaxis4": {
         "anchor": "x4",
         "domain": [
          0,
          0.375
         ]
        }
       }
      }
     },
     "metadata": {},
     "output_type": "display_data"
    },
    {
     "name": "stdout",
     "output_type": "stream",
     "text": [
      "Link  https://plotly.com/~jnwagwu/112/\n"
     ]
    },
    {
     "data": {
      "application/vnd.plotly.v1+json": {
       "config": {
        "plotlyServerURL": "https://plotly.com"
       },
       "data": [
        {
         "type": "bar",
         "x": [
          "wall_b1",
          "floor_2",
          "roof_0",
          "window_u",
          "shgc_b1",
          "light_0",
          "equip_0",
          "clgsetp_0",
          "htgsetp_0",
          "daylight_0"
         ],
         "y": [
          -0.733514851730494,
          0.3851411093272883,
          -0.722348967307798,
          0.9970116750112445,
          0.9978215637948973,
          0.9987978513005042,
          0.99685044217826,
          -0.74793488974862,
          0.8614175875705008,
          -1
         ]
        }
       ],
       "layout": {
        "template": {
         "data": {
          "bar": [
           {
            "error_x": {
             "color": "#2a3f5f"
            },
            "error_y": {
             "color": "#2a3f5f"
            },
            "marker": {
             "line": {
              "color": "#E5ECF6",
              "width": 0.5
             },
             "pattern": {
              "fillmode": "overlay",
              "size": 10,
              "solidity": 0.2
             }
            },
            "type": "bar"
           }
          ],
          "barpolar": [
           {
            "marker": {
             "line": {
              "color": "#E5ECF6",
              "width": 0.5
             },
             "pattern": {
              "fillmode": "overlay",
              "size": 10,
              "solidity": 0.2
             }
            },
            "type": "barpolar"
           }
          ],
          "carpet": [
           {
            "aaxis": {
             "endlinecolor": "#2a3f5f",
             "gridcolor": "white",
             "linecolor": "white",
             "minorgridcolor": "white",
             "startlinecolor": "#2a3f5f"
            },
            "baxis": {
             "endlinecolor": "#2a3f5f",
             "gridcolor": "white",
             "linecolor": "white",
             "minorgridcolor": "white",
             "startlinecolor": "#2a3f5f"
            },
            "type": "carpet"
           }
          ],
          "choropleth": [
           {
            "colorbar": {
             "outlinewidth": 0,
             "ticks": ""
            },
            "type": "choropleth"
           }
          ],
          "contour": [
           {
            "colorbar": {
             "outlinewidth": 0,
             "ticks": ""
            },
            "colorscale": [
             [
              0,
              "#0d0887"
             ],
             [
              0.1111111111111111,
              "#46039f"
             ],
             [
              0.2222222222222222,
              "#7201a8"
             ],
             [
              0.3333333333333333,
              "#9c179e"
             ],
             [
              0.4444444444444444,
              "#bd3786"
             ],
             [
              0.5555555555555556,
              "#d8576b"
             ],
             [
              0.6666666666666666,
              "#ed7953"
             ],
             [
              0.7777777777777778,
              "#fb9f3a"
             ],
             [
              0.8888888888888888,
              "#fdca26"
             ],
             [
              1,
              "#f0f921"
             ]
            ],
            "type": "contour"
           }
          ],
          "contourcarpet": [
           {
            "colorbar": {
             "outlinewidth": 0,
             "ticks": ""
            },
            "type": "contourcarpet"
           }
          ],
          "heatmap": [
           {
            "colorbar": {
             "outlinewidth": 0,
             "ticks": ""
            },
            "colorscale": [
             [
              0,
              "#0d0887"
             ],
             [
              0.1111111111111111,
              "#46039f"
             ],
             [
              0.2222222222222222,
              "#7201a8"
             ],
             [
              0.3333333333333333,
              "#9c179e"
             ],
             [
              0.4444444444444444,
              "#bd3786"
             ],
             [
              0.5555555555555556,
              "#d8576b"
             ],
             [
              0.6666666666666666,
              "#ed7953"
             ],
             [
              0.7777777777777778,
              "#fb9f3a"
             ],
             [
              0.8888888888888888,
              "#fdca26"
             ],
             [
              1,
              "#f0f921"
             ]
            ],
            "type": "heatmap"
           }
          ],
          "heatmapgl": [
           {
            "colorbar": {
             "outlinewidth": 0,
             "ticks": ""
            },
            "colorscale": [
             [
              0,
              "#0d0887"
             ],
             [
              0.1111111111111111,
              "#46039f"
             ],
             [
              0.2222222222222222,
              "#7201a8"
             ],
             [
              0.3333333333333333,
              "#9c179e"
             ],
             [
              0.4444444444444444,
              "#bd3786"
             ],
             [
              0.5555555555555556,
              "#d8576b"
             ],
             [
              0.6666666666666666,
              "#ed7953"
             ],
             [
              0.7777777777777778,
              "#fb9f3a"
             ],
             [
              0.8888888888888888,
              "#fdca26"
             ],
             [
              1,
              "#f0f921"
             ]
            ],
            "type": "heatmapgl"
           }
          ],
          "histogram": [
           {
            "marker": {
             "pattern": {
              "fillmode": "overlay",
              "size": 10,
              "solidity": 0.2
             }
            },
            "type": "histogram"
           }
          ],
          "histogram2d": [
           {
            "colorbar": {
             "outlinewidth": 0,
             "ticks": ""
            },
            "colorscale": [
             [
              0,
              "#0d0887"
             ],
             [
              0.1111111111111111,
              "#46039f"
             ],
             [
              0.2222222222222222,
              "#7201a8"
             ],
             [
              0.3333333333333333,
              "#9c179e"
             ],
             [
              0.4444444444444444,
              "#bd3786"
             ],
             [
              0.5555555555555556,
              "#d8576b"
             ],
             [
              0.6666666666666666,
              "#ed7953"
             ],
             [
              0.7777777777777778,
              "#fb9f3a"
             ],
             [
              0.8888888888888888,
              "#fdca26"
             ],
             [
              1,
              "#f0f921"
             ]
            ],
            "type": "histogram2d"
           }
          ],
          "histogram2dcontour": [
           {
            "colorbar": {
             "outlinewidth": 0,
             "ticks": ""
            },
            "colorscale": [
             [
              0,
              "#0d0887"
             ],
             [
              0.1111111111111111,
              "#46039f"
             ],
             [
              0.2222222222222222,
              "#7201a8"
             ],
             [
              0.3333333333333333,
              "#9c179e"
             ],
             [
              0.4444444444444444,
              "#bd3786"
             ],
             [
              0.5555555555555556,
              "#d8576b"
             ],
             [
              0.6666666666666666,
              "#ed7953"
             ],
             [
              0.7777777777777778,
              "#fb9f3a"
             ],
             [
              0.8888888888888888,
              "#fdca26"
             ],
             [
              1,
              "#f0f921"
             ]
            ],
            "type": "histogram2dcontour"
           }
          ],
          "mesh3d": [
           {
            "colorbar": {
             "outlinewidth": 0,
             "ticks": ""
            },
            "type": "mesh3d"
           }
          ],
          "parcoords": [
           {
            "line": {
             "colorbar": {
              "outlinewidth": 0,
              "ticks": ""
             }
            },
            "type": "parcoords"
           }
          ],
          "pie": [
           {
            "automargin": true,
            "type": "pie"
           }
          ],
          "scatter": [
           {
            "marker": {
             "colorbar": {
              "outlinewidth": 0,
              "ticks": ""
             }
            },
            "type": "scatter"
           }
          ],
          "scatter3d": [
           {
            "line": {
             "colorbar": {
              "outlinewidth": 0,
              "ticks": ""
             }
            },
            "marker": {
             "colorbar": {
              "outlinewidth": 0,
              "ticks": ""
             }
            },
            "type": "scatter3d"
           }
          ],
          "scattercarpet": [
           {
            "marker": {
             "colorbar": {
              "outlinewidth": 0,
              "ticks": ""
             }
            },
            "type": "scattercarpet"
           }
          ],
          "scattergeo": [
           {
            "marker": {
             "colorbar": {
              "outlinewidth": 0,
              "ticks": ""
             }
            },
            "type": "scattergeo"
           }
          ],
          "scattergl": [
           {
            "marker": {
             "colorbar": {
              "outlinewidth": 0,
              "ticks": ""
             }
            },
            "type": "scattergl"
           }
          ],
          "scattermapbox": [
           {
            "marker": {
             "colorbar": {
              "outlinewidth": 0,
              "ticks": ""
             }
            },
            "type": "scattermapbox"
           }
          ],
          "scatterpolar": [
           {
            "marker": {
             "colorbar": {
              "outlinewidth": 0,
              "ticks": ""
             }
            },
            "type": "scatterpolar"
           }
          ],
          "scatterpolargl": [
           {
            "marker": {
             "colorbar": {
              "outlinewidth": 0,
              "ticks": ""
             }
            },
            "type": "scatterpolargl"
           }
          ],
          "scatterternary": [
           {
            "marker": {
             "colorbar": {
              "outlinewidth": 0,
              "ticks": ""
             }
            },
            "type": "scatterternary"
           }
          ],
          "surface": [
           {
            "colorbar": {
             "outlinewidth": 0,
             "ticks": ""
            },
            "colorscale": [
             [
              0,
              "#0d0887"
             ],
             [
              0.1111111111111111,
              "#46039f"
             ],
             [
              0.2222222222222222,
              "#7201a8"
             ],
             [
              0.3333333333333333,
              "#9c179e"
             ],
             [
              0.4444444444444444,
              "#bd3786"
             ],
             [
              0.5555555555555556,
              "#d8576b"
             ],
             [
              0.6666666666666666,
              "#ed7953"
             ],
             [
              0.7777777777777778,
              "#fb9f3a"
             ],
             [
              0.8888888888888888,
              "#fdca26"
             ],
             [
              1,
              "#f0f921"
             ]
            ],
            "type": "surface"
           }
          ],
          "table": [
           {
            "cells": {
             "fill": {
              "color": "#EBF0F8"
             },
             "line": {
              "color": "white"
             }
            },
            "header": {
             "fill": {
              "color": "#C8D4E3"
             },
             "line": {
              "color": "white"
             }
            },
            "type": "table"
           }
          ]
         },
         "layout": {
          "annotationdefaults": {
           "arrowcolor": "#2a3f5f",
           "arrowhead": 0,
           "arrowwidth": 1
          },
          "autotypenumbers": "strict",
          "coloraxis": {
           "colorbar": {
            "outlinewidth": 0,
            "ticks": ""
           }
          },
          "colorscale": {
           "diverging": [
            [
             0,
             "#8e0152"
            ],
            [
             0.1,
             "#c51b7d"
            ],
            [
             0.2,
             "#de77ae"
            ],
            [
             0.3,
             "#f1b6da"
            ],
            [
             0.4,
             "#fde0ef"
            ],
            [
             0.5,
             "#f7f7f7"
            ],
            [
             0.6,
             "#e6f5d0"
            ],
            [
             0.7,
             "#b8e186"
            ],
            [
             0.8,
             "#7fbc41"
            ],
            [
             0.9,
             "#4d9221"
            ],
            [
             1,
             "#276419"
            ]
           ],
           "sequential": [
            [
             0,
             "#0d0887"
            ],
            [
             0.1111111111111111,
             "#46039f"
            ],
            [
             0.2222222222222222,
             "#7201a8"
            ],
            [
             0.3333333333333333,
             "#9c179e"
            ],
            [
             0.4444444444444444,
             "#bd3786"
            ],
            [
             0.5555555555555556,
             "#d8576b"
            ],
            [
             0.6666666666666666,
             "#ed7953"
            ],
            [
             0.7777777777777778,
             "#fb9f3a"
            ],
            [
             0.8888888888888888,
             "#fdca26"
            ],
            [
             1,
             "#f0f921"
            ]
           ],
           "sequentialminus": [
            [
             0,
             "#0d0887"
            ],
            [
             0.1111111111111111,
             "#46039f"
            ],
            [
             0.2222222222222222,
             "#7201a8"
            ],
            [
             0.3333333333333333,
             "#9c179e"
            ],
            [
             0.4444444444444444,
             "#bd3786"
            ],
            [
             0.5555555555555556,
             "#d8576b"
            ],
            [
             0.6666666666666666,
             "#ed7953"
            ],
            [
             0.7777777777777778,
             "#fb9f3a"
            ],
            [
             0.8888888888888888,
             "#fdca26"
            ],
            [
             1,
             "#f0f921"
            ]
           ]
          },
          "colorway": [
           "#636efa",
           "#EF553B",
           "#00cc96",
           "#ab63fa",
           "#FFA15A",
           "#19d3f3",
           "#FF6692",
           "#B6E880",
           "#FF97FF",
           "#FECB52"
          ],
          "font": {
           "color": "#2a3f5f"
          },
          "geo": {
           "bgcolor": "white",
           "lakecolor": "white",
           "landcolor": "#E5ECF6",
           "showlakes": true,
           "showland": true,
           "subunitcolor": "white"
          },
          "hoverlabel": {
           "align": "left"
          },
          "hovermode": "closest",
          "mapbox": {
           "style": "light"
          },
          "paper_bgcolor": "white",
          "plot_bgcolor": "#E5ECF6",
          "polar": {
           "angularaxis": {
            "gridcolor": "white",
            "linecolor": "white",
            "ticks": ""
           },
           "bgcolor": "#E5ECF6",
           "radialaxis": {
            "gridcolor": "white",
            "linecolor": "white",
            "ticks": ""
           }
          },
          "scene": {
           "xaxis": {
            "backgroundcolor": "#E5ECF6",
            "gridcolor": "white",
            "gridwidth": 2,
            "linecolor": "white",
            "showbackground": true,
            "ticks": "",
            "zerolinecolor": "white"
           },
           "yaxis": {
            "backgroundcolor": "#E5ECF6",
            "gridcolor": "white",
            "gridwidth": 2,
            "linecolor": "white",
            "showbackground": true,
            "ticks": "",
            "zerolinecolor": "white"
           },
           "zaxis": {
            "backgroundcolor": "#E5ECF6",
            "gridcolor": "white",
            "gridwidth": 2,
            "linecolor": "white",
            "showbackground": true,
            "ticks": "",
            "zerolinecolor": "white"
           }
          },
          "shapedefaults": {
           "line": {
            "color": "#2a3f5f"
           }
          },
          "ternary": {
           "aaxis": {
            "gridcolor": "white",
            "linecolor": "white",
            "ticks": ""
           },
           "baxis": {
            "gridcolor": "white",
            "linecolor": "white",
            "ticks": ""
           },
           "bgcolor": "#E5ECF6",
           "caxis": {
            "gridcolor": "white",
            "linecolor": "white",
            "ticks": ""
           }
          },
          "title": {
           "x": 0.05
          },
          "xaxis": {
           "automargin": true,
           "gridcolor": "white",
           "linecolor": "white",
           "ticks": "",
           "title": {
            "standoff": 15
           },
           "zerolinecolor": "white",
           "zerolinewidth": 2
          },
          "yaxis": {
           "automargin": true,
           "gridcolor": "white",
           "linecolor": "white",
           "ticks": "",
           "title": {
            "standoff": 15
           },
           "zerolinecolor": "white",
           "zerolinewidth": 2
          }
         }
        },
        "title": {
         "text": "Correlation between Value and Energy Use"
        },
        "xaxis": {
         "title": {
          "text": "Groups"
         }
        },
        "yaxis": {
         "title": {
          "text": "Correlation"
         }
        }
       }
      }
     },
     "metadata": {},
     "output_type": "display_data"
    }
   ],
   "source": [
    "data = get_group(\"All\", False)\n",
    "four_compare(data[0], data[1], data[2], data[3])\n",
    "correlations(data[1], data[2])"
   ]
  },
  {
   "cell_type": "code",
   "execution_count": 23,
   "metadata": {},
   "outputs": [],
   "source": [
    "# todo bar graph with best case energy and equip savings for each \n",
    "# show feasible on this graph \n",
    "# graph with best case after feasibilty analysis \n",
    "# combinations "
   ]
  },
  {
   "cell_type": "code",
   "execution_count": 24,
   "metadata": {},
   "outputs": [
    {
     "data": {
      "text/html": [
       "<div>\n",
       "<style scoped>\n",
       "    .dataframe tbody tr th:only-of-type {\n",
       "        vertical-align: middle;\n",
       "    }\n",
       "\n",
       "    .dataframe tbody tr th {\n",
       "        vertical-align: top;\n",
       "    }\n",
       "\n",
       "    .dataframe thead th {\n",
       "        text-align: right;\n",
       "    }\n",
       "</style>\n",
       "<table border=\"1\" class=\"dataframe\">\n",
       "  <thead>\n",
       "    <tr style=\"text-align: right;\">\n",
       "      <th></th>\n",
       "      <th>elect</th>\n",
       "      <th>hot</th>\n",
       "      <th>chill</th>\n",
       "      <th>elect_c</th>\n",
       "      <th>hot_c</th>\n",
       "      <th>chill_c</th>\n",
       "      <th>total</th>\n",
       "      <th>total_c</th>\n",
       "      <th>vals</th>\n",
       "      <th>perc_change</th>\n",
       "      <th>imperial_vals</th>\n",
       "      <th>imperial_vals_units</th>\n",
       "    </tr>\n",
       "  </thead>\n",
       "  <tbody>\n",
       "    <tr>\n",
       "      <th>0.0</th>\n",
       "      <td>142453.408250</td>\n",
       "      <td>71662.765076</td>\n",
       "      <td>65269.397110</td>\n",
       "      <td>25328.67</td>\n",
       "      <td>9780.94</td>\n",
       "      <td>7794.79</td>\n",
       "      <td>279385.570436</td>\n",
       "      <td>42904.40</td>\n",
       "      <td>29.814815</td>\n",
       "      <td>0.0</td>\n",
       "      <td>85.666667</td>\n",
       "      <td>F</td>\n",
       "    </tr>\n",
       "    <tr>\n",
       "      <th>1.0</th>\n",
       "      <td>142294.173883</td>\n",
       "      <td>71564.224684</td>\n",
       "      <td>64225.513191</td>\n",
       "      <td>25275.21</td>\n",
       "      <td>9767.49</td>\n",
       "      <td>7670.13</td>\n",
       "      <td>278083.911757</td>\n",
       "      <td>42712.83</td>\n",
       "      <td>30.112963</td>\n",
       "      <td>1.0</td>\n",
       "      <td>86.203333</td>\n",
       "      <td>F</td>\n",
       "    </tr>\n",
       "    <tr>\n",
       "      <th>2.5</th>\n",
       "      <td>142104.495645</td>\n",
       "      <td>71428.555387</td>\n",
       "      <td>62787.338560</td>\n",
       "      <td>25203.02</td>\n",
       "      <td>9748.97</td>\n",
       "      <td>7498.38</td>\n",
       "      <td>276320.389593</td>\n",
       "      <td>42450.37</td>\n",
       "      <td>30.560185</td>\n",
       "      <td>2.5</td>\n",
       "      <td>87.008333</td>\n",
       "      <td>F</td>\n",
       "    </tr>\n",
       "    <tr>\n",
       "      <th>5.0</th>\n",
       "      <td>141899.559867</td>\n",
       "      <td>71234.462712</td>\n",
       "      <td>60784.825053</td>\n",
       "      <td>25123.38</td>\n",
       "      <td>9722.48</td>\n",
       "      <td>7259.23</td>\n",
       "      <td>273918.847632</td>\n",
       "      <td>42105.09</td>\n",
       "      <td>31.305556</td>\n",
       "      <td>5.0</td>\n",
       "      <td>88.350000</td>\n",
       "      <td>F</td>\n",
       "    </tr>\n",
       "    <tr>\n",
       "      <th>10.0</th>\n",
       "      <td>141737.930000</td>\n",
       "      <td>70957.400071</td>\n",
       "      <td>57896.626712</td>\n",
       "      <td>25035.55</td>\n",
       "      <td>9684.67</td>\n",
       "      <td>6914.30</td>\n",
       "      <td>270591.956783</td>\n",
       "      <td>41634.52</td>\n",
       "      <td>32.796296</td>\n",
       "      <td>10.0</td>\n",
       "      <td>91.033333</td>\n",
       "      <td>F</td>\n",
       "    </tr>\n",
       "    <tr>\n",
       "      <th>25.0</th>\n",
       "      <td>141696.002425</td>\n",
       "      <td>70845.621610</td>\n",
       "      <td>55974.825077</td>\n",
       "      <td>24994.49</td>\n",
       "      <td>9669.41</td>\n",
       "      <td>6684.79</td>\n",
       "      <td>268516.449112</td>\n",
       "      <td>41348.69</td>\n",
       "      <td>37.268519</td>\n",
       "      <td>25.0</td>\n",
       "      <td>99.083333</td>\n",
       "      <td>F</td>\n",
       "    </tr>\n",
       "    <tr>\n",
       "      <th>50.0</th>\n",
       "      <td>141696.002379</td>\n",
       "      <td>70845.621609</td>\n",
       "      <td>55974.816964</td>\n",
       "      <td>24994.49</td>\n",
       "      <td>9669.41</td>\n",
       "      <td>6684.79</td>\n",
       "      <td>268516.440953</td>\n",
       "      <td>41348.69</td>\n",
       "      <td>44.722222</td>\n",
       "      <td>50.0</td>\n",
       "      <td>112.500000</td>\n",
       "      <td>F</td>\n",
       "    </tr>\n",
       "    <tr>\n",
       "      <th>98.0</th>\n",
       "      <td>141696.002379</td>\n",
       "      <td>70845.621609</td>\n",
       "      <td>55974.816964</td>\n",
       "      <td>24994.49</td>\n",
       "      <td>9669.41</td>\n",
       "      <td>6684.79</td>\n",
       "      <td>268516.440953</td>\n",
       "      <td>41348.69</td>\n",
       "      <td>59.033333</td>\n",
       "      <td>98.0</td>\n",
       "      <td>138.260000</td>\n",
       "      <td>F</td>\n",
       "    </tr>\n",
       "    <tr>\n",
       "      <th>75.0</th>\n",
       "      <td>141696.002379</td>\n",
       "      <td>70845.621609</td>\n",
       "      <td>55974.816964</td>\n",
       "      <td>24994.49</td>\n",
       "      <td>9669.41</td>\n",
       "      <td>6684.79</td>\n",
       "      <td>268516.440953</td>\n",
       "      <td>41348.69</td>\n",
       "      <td>52.175926</td>\n",
       "      <td>75.0</td>\n",
       "      <td>125.916667</td>\n",
       "      <td>F</td>\n",
       "    </tr>\n",
       "  </tbody>\n",
       "</table>\n",
       "</div>"
      ],
      "text/plain": [
       "              elect           hot         chill   elect_c    hot_c  chill_c  \\\n",
       "0.0   142453.408250  71662.765076  65269.397110  25328.67  9780.94  7794.79   \n",
       "1.0   142294.173883  71564.224684  64225.513191  25275.21  9767.49  7670.13   \n",
       "2.5   142104.495645  71428.555387  62787.338560  25203.02  9748.97  7498.38   \n",
       "5.0   141899.559867  71234.462712  60784.825053  25123.38  9722.48  7259.23   \n",
       "10.0  141737.930000  70957.400071  57896.626712  25035.55  9684.67  6914.30   \n",
       "25.0  141696.002425  70845.621610  55974.825077  24994.49  9669.41  6684.79   \n",
       "50.0  141696.002379  70845.621609  55974.816964  24994.49  9669.41  6684.79   \n",
       "98.0  141696.002379  70845.621609  55974.816964  24994.49  9669.41  6684.79   \n",
       "75.0  141696.002379  70845.621609  55974.816964  24994.49  9669.41  6684.79   \n",
       "\n",
       "              total   total_c       vals  perc_change  imperial_vals  \\\n",
       "0.0   279385.570436  42904.40  29.814815          0.0      85.666667   \n",
       "1.0   278083.911757  42712.83  30.112963          1.0      86.203333   \n",
       "2.5   276320.389593  42450.37  30.560185          2.5      87.008333   \n",
       "5.0   273918.847632  42105.09  31.305556          5.0      88.350000   \n",
       "10.0  270591.956783  41634.52  32.796296         10.0      91.033333   \n",
       "25.0  268516.449112  41348.69  37.268519         25.0      99.083333   \n",
       "50.0  268516.440953  41348.69  44.722222         50.0     112.500000   \n",
       "98.0  268516.440953  41348.69  59.033333         98.0     138.260000   \n",
       "75.0  268516.440953  41348.69  52.175926         75.0     125.916667   \n",
       "\n",
       "     imperial_vals_units  \n",
       "0.0                    F  \n",
       "1.0                    F  \n",
       "2.5                    F  \n",
       "5.0                    F  \n",
       "10.0                   F  \n",
       "25.0                   F  \n",
       "50.0                   F  \n",
       "98.0                   F  \n",
       "75.0                   F  "
      ]
     },
     "execution_count": 24,
     "metadata": {},
     "output_type": "execute_result"
    }
   ],
   "source": [
    "group_data = data[1]\n",
    "group_data[\"clgsetp_0\"]"
   ]
  },
  {
   "cell_type": "code",
   "execution_count": 25,
   "metadata": {},
   "outputs": [
    {
     "name": "stdout",
     "output_type": "stream",
     "text": [
      "{'wall_b1': (331.45000000000437, 39.58605633802817, 2480.1814389269857), 'floor_2': (698.0999999999985, 0.39985915492957913, 5318.357948485063), 'roof_0': (496.77999999999156, 39.58605633802817, 3647.0607679850655), 'window_u': (1101.479999999996, 0.004226840436773511, 8241.055381817569), 'shgc_b1': (634.1800000000003, 0.0061999999999999, 4893.969440043496), 'light_0': (5945.779999999999, 0.024608940172031572, 30749.175200569152), 'equip_0': (11057.04, 0.03717472118959095, 55328.06305150967), 'clgsetp_0': (1555.7099999999991, 99.08333333333346, 10869.121323386906), 'htgsetp_0': (5311.669999999998, 32.692, 38874.54386635299), 'daylight_0': (1058.2099999999991, 1, 5700.413144911989)}\n"
     ]
    }
   ],
   "source": [
    "\n",
    "max_vals = {}\n",
    "for ix, k in enumerate(group_data.keys()):\n",
    "    x_ = group_data[k][\"total_c\"] - group_data[k].loc[0][\"total_c\"]\n",
    "    z_ = group_data[k][\"total\"] - group_data[k].loc[0][\"total\"]\n",
    "    y_ = list(group_data[k][\"imperial_vals\"])\n",
    "    \n",
    "    # concentrate on possibility of savings\n",
    "    x = [-1*min(val, 0) for val in x_]\n",
    "    z = [-1*min(val, 0) for val in z_]\n",
    "\n",
    "    max_save = max(x)\n",
    "    max_save_ix = x.index(max_save)\n",
    "    max_save_val = y_[max_save_ix]\n",
    "    max_save_energy = z[max_save_ix]\n",
    "    max_vals[k] = (max_save, max_save_val, max_save_energy)\n",
    "print(max_vals)"
   ]
  },
  {
   "cell_type": "markdown",
   "metadata": {},
   "source": [
    "## Line Up"
   ]
  },
  {
   "cell_type": "code",
   "execution_count": 26,
   "metadata": {},
   "outputs": [
    {
     "data": {
      "text/plain": [
       "['Wall R [ft2-ºF-hr/Btu]',\n",
       " 'Floor R [ft2-ºF-hr/Btu]',\n",
       " 'Roof R [ft2-ºF-hr/Btu]',\n",
       " 'Window U-Factor [Btu/ft2-F-hr]',\n",
       " 'Window SHGC',\n",
       " 'Light Power Density [W/ft2]',\n",
       " 'Equip. Power Density [W/ft2]',\n",
       " 'Cooling Setp. [ºF]',\n",
       " 'Heating Setp. [ºF]',\n",
       " 'Daylight Controls']"
      ]
     },
     "execution_count": 26,
     "metadata": {},
     "output_type": "execute_result"
    }
   ],
   "source": [
    "keys = list(data[3].values())\n",
    "keys"
   ]
  },
  {
   "cell_type": "code",
   "execution_count": 27,
   "metadata": {},
   "outputs": [],
   "source": [
    "def saveImagePlotly(fig, fig_name):\n",
    "    fig_name_png = fig_name + \".png\"\n",
    "    # fig_path = os.path.join(root, \"figs_final_pres_03_07\", fig_name_png )\n",
    "    final_paper_path = \"/Users/julietnwagwuume-ezeoke/My Drive/CEE256_BuildSys/final_256/Deliverables/PaperFigs\"\n",
    "    fig_path = os.path.join(final_paper_path, fig_name_png ) # width=1200, height=350, \n",
    "    fig.write_image(fig_path, format=\"png\", engine=\"kaleido\",  scale=2)"
   ]
  },
  {
   "cell_type": "code",
   "execution_count": 28,
   "metadata": {},
   "outputs": [
    {
     "data": {
      "application/vnd.plotly.v1+json": {
       "config": {
        "plotlyServerURL": "https://plotly.com"
       },
       "data": [
        {
         "text": [
          "39.59 ft2-F-hr/Btu",
          "0.4 ft2-F-hr/Btu",
          "39.59 ft2-F-hr/Btu",
          "0.0 Btu/ft2-F-hr",
          "0.01 ",
          "0.02 W/ft2",
          "0.04 W/ft2",
          "99.08 F",
          "32.69 F",
          "1 "
         ],
         "textposition": "auto",
         "type": "bar",
         "x": [
          "Wall R",
          "Floor R",
          "Roof R",
          "Window U-Factor",
          "Window SHGC",
          "Light Power Density",
          "Equip. Power Density ",
          "Cooling Setp.",
          "Heating Setp.",
          "Daylight Controls"
         ],
         "xaxis": "x",
         "y": [
          331.45000000000437,
          698.0999999999985,
          496.77999999999156,
          1101.479999999996,
          634.1800000000003,
          5945.779999999999,
          11057.04,
          1555.7099999999991,
          5311.669999999998,
          1058.2099999999991
         ],
         "yaxis": "y"
        }
       ],
       "layout": {
        "annotations": [
         {
          "font": {
           "size": 16
          },
          "showarrow": false,
          "text": "Maximum Observed Cost Savings for Each Variable",
          "x": 0.5,
          "xanchor": "center",
          "xref": "paper",
          "y": 1,
          "yanchor": "bottom",
          "yref": "paper"
         }
        ],
        "template": {
         "data": {
          "bar": [
           {
            "error_x": {
             "color": "#2a3f5f"
            },
            "error_y": {
             "color": "#2a3f5f"
            },
            "marker": {
             "line": {
              "color": "#E5ECF6",
              "width": 0.5
             },
             "pattern": {
              "fillmode": "overlay",
              "size": 10,
              "solidity": 0.2
             }
            },
            "type": "bar"
           }
          ],
          "barpolar": [
           {
            "marker": {
             "line": {
              "color": "#E5ECF6",
              "width": 0.5
             },
             "pattern": {
              "fillmode": "overlay",
              "size": 10,
              "solidity": 0.2
             }
            },
            "type": "barpolar"
           }
          ],
          "carpet": [
           {
            "aaxis": {
             "endlinecolor": "#2a3f5f",
             "gridcolor": "white",
             "linecolor": "white",
             "minorgridcolor": "white",
             "startlinecolor": "#2a3f5f"
            },
            "baxis": {
             "endlinecolor": "#2a3f5f",
             "gridcolor": "white",
             "linecolor": "white",
             "minorgridcolor": "white",
             "startlinecolor": "#2a3f5f"
            },
            "type": "carpet"
           }
          ],
          "choropleth": [
           {
            "colorbar": {
             "outlinewidth": 0,
             "ticks": ""
            },
            "type": "choropleth"
           }
          ],
          "contour": [
           {
            "colorbar": {
             "outlinewidth": 0,
             "ticks": ""
            },
            "colorscale": [
             [
              0,
              "#0d0887"
             ],
             [
              0.1111111111111111,
              "#46039f"
             ],
             [
              0.2222222222222222,
              "#7201a8"
             ],
             [
              0.3333333333333333,
              "#9c179e"
             ],
             [
              0.4444444444444444,
              "#bd3786"
             ],
             [
              0.5555555555555556,
              "#d8576b"
             ],
             [
              0.6666666666666666,
              "#ed7953"
             ],
             [
              0.7777777777777778,
              "#fb9f3a"
             ],
             [
              0.8888888888888888,
              "#fdca26"
             ],
             [
              1,
              "#f0f921"
             ]
            ],
            "type": "contour"
           }
          ],
          "contourcarpet": [
           {
            "colorbar": {
             "outlinewidth": 0,
             "ticks": ""
            },
            "type": "contourcarpet"
           }
          ],
          "heatmap": [
           {
            "colorbar": {
             "outlinewidth": 0,
             "ticks": ""
            },
            "colorscale": [
             [
              0,
              "#0d0887"
             ],
             [
              0.1111111111111111,
              "#46039f"
             ],
             [
              0.2222222222222222,
              "#7201a8"
             ],
             [
              0.3333333333333333,
              "#9c179e"
             ],
             [
              0.4444444444444444,
              "#bd3786"
             ],
             [
              0.5555555555555556,
              "#d8576b"
             ],
             [
              0.6666666666666666,
              "#ed7953"
             ],
             [
              0.7777777777777778,
              "#fb9f3a"
             ],
             [
              0.8888888888888888,
              "#fdca26"
             ],
             [
              1,
              "#f0f921"
             ]
            ],
            "type": "heatmap"
           }
          ],
          "heatmapgl": [
           {
            "colorbar": {
             "outlinewidth": 0,
             "ticks": ""
            },
            "colorscale": [
             [
              0,
              "#0d0887"
             ],
             [
              0.1111111111111111,
              "#46039f"
             ],
             [
              0.2222222222222222,
              "#7201a8"
             ],
             [
              0.3333333333333333,
              "#9c179e"
             ],
             [
              0.4444444444444444,
              "#bd3786"
             ],
             [
              0.5555555555555556,
              "#d8576b"
             ],
             [
              0.6666666666666666,
              "#ed7953"
             ],
             [
              0.7777777777777778,
              "#fb9f3a"
             ],
             [
              0.8888888888888888,
              "#fdca26"
             ],
             [
              1,
              "#f0f921"
             ]
            ],
            "type": "heatmapgl"
           }
          ],
          "histogram": [
           {
            "marker": {
             "pattern": {
              "fillmode": "overlay",
              "size": 10,
              "solidity": 0.2
             }
            },
            "type": "histogram"
           }
          ],
          "histogram2d": [
           {
            "colorbar": {
             "outlinewidth": 0,
             "ticks": ""
            },
            "colorscale": [
             [
              0,
              "#0d0887"
             ],
             [
              0.1111111111111111,
              "#46039f"
             ],
             [
              0.2222222222222222,
              "#7201a8"
             ],
             [
              0.3333333333333333,
              "#9c179e"
             ],
             [
              0.4444444444444444,
              "#bd3786"
             ],
             [
              0.5555555555555556,
              "#d8576b"
             ],
             [
              0.6666666666666666,
              "#ed7953"
             ],
             [
              0.7777777777777778,
              "#fb9f3a"
             ],
             [
              0.8888888888888888,
              "#fdca26"
             ],
             [
              1,
              "#f0f921"
             ]
            ],
            "type": "histogram2d"
           }
          ],
          "histogram2dcontour": [
           {
            "colorbar": {
             "outlinewidth": 0,
             "ticks": ""
            },
            "colorscale": [
             [
              0,
              "#0d0887"
             ],
             [
              0.1111111111111111,
              "#46039f"
             ],
             [
              0.2222222222222222,
              "#7201a8"
             ],
             [
              0.3333333333333333,
              "#9c179e"
             ],
             [
              0.4444444444444444,
              "#bd3786"
             ],
             [
              0.5555555555555556,
              "#d8576b"
             ],
             [
              0.6666666666666666,
              "#ed7953"
             ],
             [
              0.7777777777777778,
              "#fb9f3a"
             ],
             [
              0.8888888888888888,
              "#fdca26"
             ],
             [
              1,
              "#f0f921"
             ]
            ],
            "type": "histogram2dcontour"
           }
          ],
          "mesh3d": [
           {
            "colorbar": {
             "outlinewidth": 0,
             "ticks": ""
            },
            "type": "mesh3d"
           }
          ],
          "parcoords": [
           {
            "line": {
             "colorbar": {
              "outlinewidth": 0,
              "ticks": ""
             }
            },
            "type": "parcoords"
           }
          ],
          "pie": [
           {
            "automargin": true,
            "type": "pie"
           }
          ],
          "scatter": [
           {
            "marker": {
             "colorbar": {
              "outlinewidth": 0,
              "ticks": ""
             }
            },
            "type": "scatter"
           }
          ],
          "scatter3d": [
           {
            "line": {
             "colorbar": {
              "outlinewidth": 0,
              "ticks": ""
             }
            },
            "marker": {
             "colorbar": {
              "outlinewidth": 0,
              "ticks": ""
             }
            },
            "type": "scatter3d"
           }
          ],
          "scattercarpet": [
           {
            "marker": {
             "colorbar": {
              "outlinewidth": 0,
              "ticks": ""
             }
            },
            "type": "scattercarpet"
           }
          ],
          "scattergeo": [
           {
            "marker": {
             "colorbar": {
              "outlinewidth": 0,
              "ticks": ""
             }
            },
            "type": "scattergeo"
           }
          ],
          "scattergl": [
           {
            "marker": {
             "colorbar": {
              "outlinewidth": 0,
              "ticks": ""
             }
            },
            "type": "scattergl"
           }
          ],
          "scattermapbox": [
           {
            "marker": {
             "colorbar": {
              "outlinewidth": 0,
              "ticks": ""
             }
            },
            "type": "scattermapbox"
           }
          ],
          "scatterpolar": [
           {
            "marker": {
             "colorbar": {
              "outlinewidth": 0,
              "ticks": ""
             }
            },
            "type": "scatterpolar"
           }
          ],
          "scatterpolargl": [
           {
            "marker": {
             "colorbar": {
              "outlinewidth": 0,
              "ticks": ""
             }
            },
            "type": "scatterpolargl"
           }
          ],
          "scatterternary": [
           {
            "marker": {
             "colorbar": {
              "outlinewidth": 0,
              "ticks": ""
             }
            },
            "type": "scatterternary"
           }
          ],
          "surface": [
           {
            "colorbar": {
             "outlinewidth": 0,
             "ticks": ""
            },
            "colorscale": [
             [
              0,
              "#0d0887"
             ],
             [
              0.1111111111111111,
              "#46039f"
             ],
             [
              0.2222222222222222,
              "#7201a8"
             ],
             [
              0.3333333333333333,
              "#9c179e"
             ],
             [
              0.4444444444444444,
              "#bd3786"
             ],
             [
              0.5555555555555556,
              "#d8576b"
             ],
             [
              0.6666666666666666,
              "#ed7953"
             ],
             [
              0.7777777777777778,
              "#fb9f3a"
             ],
             [
              0.8888888888888888,
              "#fdca26"
             ],
             [
              1,
              "#f0f921"
             ]
            ],
            "type": "surface"
           }
          ],
          "table": [
           {
            "cells": {
             "fill": {
              "color": "#EBF0F8"
             },
             "line": {
              "color": "white"
             }
            },
            "header": {
             "fill": {
              "color": "#C8D4E3"
             },
             "line": {
              "color": "white"
             }
            },
            "type": "table"
           }
          ]
         },
         "layout": {
          "annotationdefaults": {
           "arrowcolor": "#2a3f5f",
           "arrowhead": 0,
           "arrowwidth": 1
          },
          "autotypenumbers": "strict",
          "coloraxis": {
           "colorbar": {
            "outlinewidth": 0,
            "ticks": ""
           }
          },
          "colorscale": {
           "diverging": [
            [
             0,
             "#8e0152"
            ],
            [
             0.1,
             "#c51b7d"
            ],
            [
             0.2,
             "#de77ae"
            ],
            [
             0.3,
             "#f1b6da"
            ],
            [
             0.4,
             "#fde0ef"
            ],
            [
             0.5,
             "#f7f7f7"
            ],
            [
             0.6,
             "#e6f5d0"
            ],
            [
             0.7,
             "#b8e186"
            ],
            [
             0.8,
             "#7fbc41"
            ],
            [
             0.9,
             "#4d9221"
            ],
            [
             1,
             "#276419"
            ]
           ],
           "sequential": [
            [
             0,
             "#0d0887"
            ],
            [
             0.1111111111111111,
             "#46039f"
            ],
            [
             0.2222222222222222,
             "#7201a8"
            ],
            [
             0.3333333333333333,
             "#9c179e"
            ],
            [
             0.4444444444444444,
             "#bd3786"
            ],
            [
             0.5555555555555556,
             "#d8576b"
            ],
            [
             0.6666666666666666,
             "#ed7953"
            ],
            [
             0.7777777777777778,
             "#fb9f3a"
            ],
            [
             0.8888888888888888,
             "#fdca26"
            ],
            [
             1,
             "#f0f921"
            ]
           ],
           "sequentialminus": [
            [
             0,
             "#0d0887"
            ],
            [
             0.1111111111111111,
             "#46039f"
            ],
            [
             0.2222222222222222,
             "#7201a8"
            ],
            [
             0.3333333333333333,
             "#9c179e"
            ],
            [
             0.4444444444444444,
             "#bd3786"
            ],
            [
             0.5555555555555556,
             "#d8576b"
            ],
            [
             0.6666666666666666,
             "#ed7953"
            ],
            [
             0.7777777777777778,
             "#fb9f3a"
            ],
            [
             0.8888888888888888,
             "#fdca26"
            ],
            [
             1,
             "#f0f921"
            ]
           ]
          },
          "colorway": [
           "#636efa",
           "#EF553B",
           "#00cc96",
           "#ab63fa",
           "#FFA15A",
           "#19d3f3",
           "#FF6692",
           "#B6E880",
           "#FF97FF",
           "#FECB52"
          ],
          "font": {
           "color": "#2a3f5f"
          },
          "geo": {
           "bgcolor": "white",
           "lakecolor": "white",
           "landcolor": "#E5ECF6",
           "showlakes": true,
           "showland": true,
           "subunitcolor": "white"
          },
          "hoverlabel": {
           "align": "left"
          },
          "hovermode": "closest",
          "mapbox": {
           "style": "light"
          },
          "paper_bgcolor": "white",
          "plot_bgcolor": "#E5ECF6",
          "polar": {
           "angularaxis": {
            "gridcolor": "white",
            "linecolor": "white",
            "ticks": ""
           },
           "bgcolor": "#E5ECF6",
           "radialaxis": {
            "gridcolor": "white",
            "linecolor": "white",
            "ticks": ""
           }
          },
          "scene": {
           "xaxis": {
            "backgroundcolor": "#E5ECF6",
            "gridcolor": "white",
            "gridwidth": 2,
            "linecolor": "white",
            "showbackground": true,
            "ticks": "",
            "zerolinecolor": "white"
           },
           "yaxis": {
            "backgroundcolor": "#E5ECF6",
            "gridcolor": "white",
            "gridwidth": 2,
            "linecolor": "white",
            "showbackground": true,
            "ticks": "",
            "zerolinecolor": "white"
           },
           "zaxis": {
            "backgroundcolor": "#E5ECF6",
            "gridcolor": "white",
            "gridwidth": 2,
            "linecolor": "white",
            "showbackground": true,
            "ticks": "",
            "zerolinecolor": "white"
           }
          },
          "shapedefaults": {
           "line": {
            "color": "#2a3f5f"
           }
          },
          "ternary": {
           "aaxis": {
            "gridcolor": "white",
            "linecolor": "white",
            "ticks": ""
           },
           "baxis": {
            "gridcolor": "white",
            "linecolor": "white",
            "ticks": ""
           },
           "bgcolor": "#E5ECF6",
           "caxis": {
            "gridcolor": "white",
            "linecolor": "white",
            "ticks": ""
           }
          },
          "title": {
           "x": 0.05
          },
          "xaxis": {
           "automargin": true,
           "gridcolor": "white",
           "linecolor": "white",
           "ticks": "",
           "title": {
            "standoff": 15
           },
           "zerolinecolor": "white",
           "zerolinewidth": 2
          },
          "yaxis": {
           "automargin": true,
           "gridcolor": "white",
           "linecolor": "white",
           "ticks": "",
           "title": {
            "standoff": 15
           },
           "zerolinecolor": "white",
           "zerolinewidth": 2
          }
         }
        },
        "xaxis": {
         "anchor": "y",
         "domain": [
          0,
          1
         ]
        },
        "yaxis": {
         "anchor": "x",
         "domain": [
          0,
          1
         ],
         "title": {
          "text": "Annual Cost Savings [$]"
         }
        }
       }
      }
     },
     "metadata": {},
     "output_type": "display_data"
    }
   ],
   "source": [
    "fig = make_subplots(\n",
    "        rows=1, cols=1,\n",
    "        subplot_titles=(\n",
    "            \"Maximum Observed Cost Savings for Each Variable\",\n",
    "            \"Feasible Cost Savings [$]\",\n",
    "            # \"Energy Savings [$]\",\n",
    "            # \"Feasible Energy \"\n",
    "        ))\n",
    "\n",
    "x = list(data[4].values())\n",
    "y = [val[0] for val in max_vals.values()]\n",
    "text = [f\"{np.round(v[1],2)} {key_units[k][1][0]}\" for k,v in max_vals.items()]\n",
    "fig.add_trace(go.Bar(x=x, y=y, text=text, textposition=\"auto\"), row=1, col=1)\n",
    "fig.update_layout(yaxis_title = \"Annual Cost Savings [$]\")\n",
    "fig.show()\n",
    "\n",
    "saveImagePlotly(fig, f\"Cost_Save_Comparisons\")"
   ]
  },
  {
   "cell_type": "code",
   "execution_count": 29,
   "metadata": {},
   "outputs": [
    {
     "data": {
      "application/vnd.plotly.v1+json": {
       "config": {
        "plotlyServerURL": "https://plotly.com"
       },
       "data": [
        {
         "text": [
          "39.59 ft2-F-hr/Btu",
          "0.4 ft2-F-hr/Btu",
          "39.59 ft2-F-hr/Btu",
          "0.0 Btu/ft2-F-hr",
          "0.01 ",
          "0.02 W/ft2",
          "0.04 W/ft2",
          "99.08 F",
          "32.69 F",
          "1 "
         ],
         "textposition": "auto",
         "type": "bar",
         "x": [
          "Wall R",
          "Floor R",
          "Roof R",
          "Window U-Factor",
          "Window SHGC",
          "Light Power Density",
          "Equip. Power Density ",
          "Cooling Setp.",
          "Heating Setp.",
          "Daylight Controls"
         ],
         "xaxis": "x",
         "y": [
          2480.1814389269857,
          5318.357948485063,
          3647.0607679850655,
          8241.055381817569,
          4893.969440043496,
          30749.175200569152,
          55328.06305150967,
          10869.121323386906,
          38874.54386635299,
          5700.413144911989
         ],
         "yaxis": "y"
        }
       ],
       "layout": {
        "annotations": [
         {
          "font": {
           "size": 16
          },
          "showarrow": false,
          "text": "Maximum Observed Energy Savings for Each Variable",
          "x": 0.5,
          "xanchor": "center",
          "xref": "paper",
          "y": 1,
          "yanchor": "bottom",
          "yref": "paper"
         }
        ],
        "template": {
         "data": {
          "bar": [
           {
            "error_x": {
             "color": "#2a3f5f"
            },
            "error_y": {
             "color": "#2a3f5f"
            },
            "marker": {
             "line": {
              "color": "#E5ECF6",
              "width": 0.5
             },
             "pattern": {
              "fillmode": "overlay",
              "size": 10,
              "solidity": 0.2
             }
            },
            "type": "bar"
           }
          ],
          "barpolar": [
           {
            "marker": {
             "line": {
              "color": "#E5ECF6",
              "width": 0.5
             },
             "pattern": {
              "fillmode": "overlay",
              "size": 10,
              "solidity": 0.2
             }
            },
            "type": "barpolar"
           }
          ],
          "carpet": [
           {
            "aaxis": {
             "endlinecolor": "#2a3f5f",
             "gridcolor": "white",
             "linecolor": "white",
             "minorgridcolor": "white",
             "startlinecolor": "#2a3f5f"
            },
            "baxis": {
             "endlinecolor": "#2a3f5f",
             "gridcolor": "white",
             "linecolor": "white",
             "minorgridcolor": "white",
             "startlinecolor": "#2a3f5f"
            },
            "type": "carpet"
           }
          ],
          "choropleth": [
           {
            "colorbar": {
             "outlinewidth": 0,
             "ticks": ""
            },
            "type": "choropleth"
           }
          ],
          "contour": [
           {
            "colorbar": {
             "outlinewidth": 0,
             "ticks": ""
            },
            "colorscale": [
             [
              0,
              "#0d0887"
             ],
             [
              0.1111111111111111,
              "#46039f"
             ],
             [
              0.2222222222222222,
              "#7201a8"
             ],
             [
              0.3333333333333333,
              "#9c179e"
             ],
             [
              0.4444444444444444,
              "#bd3786"
             ],
             [
              0.5555555555555556,
              "#d8576b"
             ],
             [
              0.6666666666666666,
              "#ed7953"
             ],
             [
              0.7777777777777778,
              "#fb9f3a"
             ],
             [
              0.8888888888888888,
              "#fdca26"
             ],
             [
              1,
              "#f0f921"
             ]
            ],
            "type": "contour"
           }
          ],
          "contourcarpet": [
           {
            "colorbar": {
             "outlinewidth": 0,
             "ticks": ""
            },
            "type": "contourcarpet"
           }
          ],
          "heatmap": [
           {
            "colorbar": {
             "outlinewidth": 0,
             "ticks": ""
            },
            "colorscale": [
             [
              0,
              "#0d0887"
             ],
             [
              0.1111111111111111,
              "#46039f"
             ],
             [
              0.2222222222222222,
              "#7201a8"
             ],
             [
              0.3333333333333333,
              "#9c179e"
             ],
             [
              0.4444444444444444,
              "#bd3786"
             ],
             [
              0.5555555555555556,
              "#d8576b"
             ],
             [
              0.6666666666666666,
              "#ed7953"
             ],
             [
              0.7777777777777778,
              "#fb9f3a"
             ],
             [
              0.8888888888888888,
              "#fdca26"
             ],
             [
              1,
              "#f0f921"
             ]
            ],
            "type": "heatmap"
           }
          ],
          "heatmapgl": [
           {
            "colorbar": {
             "outlinewidth": 0,
             "ticks": ""
            },
            "colorscale": [
             [
              0,
              "#0d0887"
             ],
             [
              0.1111111111111111,
              "#46039f"
             ],
             [
              0.2222222222222222,
              "#7201a8"
             ],
             [
              0.3333333333333333,
              "#9c179e"
             ],
             [
              0.4444444444444444,
              "#bd3786"
             ],
             [
              0.5555555555555556,
              "#d8576b"
             ],
             [
              0.6666666666666666,
              "#ed7953"
             ],
             [
              0.7777777777777778,
              "#fb9f3a"
             ],
             [
              0.8888888888888888,
              "#fdca26"
             ],
             [
              1,
              "#f0f921"
             ]
            ],
            "type": "heatmapgl"
           }
          ],
          "histogram": [
           {
            "marker": {
             "pattern": {
              "fillmode": "overlay",
              "size": 10,
              "solidity": 0.2
             }
            },
            "type": "histogram"
           }
          ],
          "histogram2d": [
           {
            "colorbar": {
             "outlinewidth": 0,
             "ticks": ""
            },
            "colorscale": [
             [
              0,
              "#0d0887"
             ],
             [
              0.1111111111111111,
              "#46039f"
             ],
             [
              0.2222222222222222,
              "#7201a8"
             ],
             [
              0.3333333333333333,
              "#9c179e"
             ],
             [
              0.4444444444444444,
              "#bd3786"
             ],
             [
              0.5555555555555556,
              "#d8576b"
             ],
             [
              0.6666666666666666,
              "#ed7953"
             ],
             [
              0.7777777777777778,
              "#fb9f3a"
             ],
             [
              0.8888888888888888,
              "#fdca26"
             ],
             [
              1,
              "#f0f921"
             ]
            ],
            "type": "histogram2d"
           }
          ],
          "histogram2dcontour": [
           {
            "colorbar": {
             "outlinewidth": 0,
             "ticks": ""
            },
            "colorscale": [
             [
              0,
              "#0d0887"
             ],
             [
              0.1111111111111111,
              "#46039f"
             ],
             [
              0.2222222222222222,
              "#7201a8"
             ],
             [
              0.3333333333333333,
              "#9c179e"
             ],
             [
              0.4444444444444444,
              "#bd3786"
             ],
             [
              0.5555555555555556,
              "#d8576b"
             ],
             [
              0.6666666666666666,
              "#ed7953"
             ],
             [
              0.7777777777777778,
              "#fb9f3a"
             ],
             [
              0.8888888888888888,
              "#fdca26"
             ],
             [
              1,
              "#f0f921"
             ]
            ],
            "type": "histogram2dcontour"
           }
          ],
          "mesh3d": [
           {
            "colorbar": {
             "outlinewidth": 0,
             "ticks": ""
            },
            "type": "mesh3d"
           }
          ],
          "parcoords": [
           {
            "line": {
             "colorbar": {
              "outlinewidth": 0,
              "ticks": ""
             }
            },
            "type": "parcoords"
           }
          ],
          "pie": [
           {
            "automargin": true,
            "type": "pie"
           }
          ],
          "scatter": [
           {
            "marker": {
             "colorbar": {
              "outlinewidth": 0,
              "ticks": ""
             }
            },
            "type": "scatter"
           }
          ],
          "scatter3d": [
           {
            "line": {
             "colorbar": {
              "outlinewidth": 0,
              "ticks": ""
             }
            },
            "marker": {
             "colorbar": {
              "outlinewidth": 0,
              "ticks": ""
             }
            },
            "type": "scatter3d"
           }
          ],
          "scattercarpet": [
           {
            "marker": {
             "colorbar": {
              "outlinewidth": 0,
              "ticks": ""
             }
            },
            "type": "scattercarpet"
           }
          ],
          "scattergeo": [
           {
            "marker": {
             "colorbar": {
              "outlinewidth": 0,
              "ticks": ""
             }
            },
            "type": "scattergeo"
           }
          ],
          "scattergl": [
           {
            "marker": {
             "colorbar": {
              "outlinewidth": 0,
              "ticks": ""
             }
            },
            "type": "scattergl"
           }
          ],
          "scattermapbox": [
           {
            "marker": {
             "colorbar": {
              "outlinewidth": 0,
              "ticks": ""
             }
            },
            "type": "scattermapbox"
           }
          ],
          "scatterpolar": [
           {
            "marker": {
             "colorbar": {
              "outlinewidth": 0,
              "ticks": ""
             }
            },
            "type": "scatterpolar"
           }
          ],
          "scatterpolargl": [
           {
            "marker": {
             "colorbar": {
              "outlinewidth": 0,
              "ticks": ""
             }
            },
            "type": "scatterpolargl"
           }
          ],
          "scatterternary": [
           {
            "marker": {
             "colorbar": {
              "outlinewidth": 0,
              "ticks": ""
             }
            },
            "type": "scatterternary"
           }
          ],
          "surface": [
           {
            "colorbar": {
             "outlinewidth": 0,
             "ticks": ""
            },
            "colorscale": [
             [
              0,
              "#0d0887"
             ],
             [
              0.1111111111111111,
              "#46039f"
             ],
             [
              0.2222222222222222,
              "#7201a8"
             ],
             [
              0.3333333333333333,
              "#9c179e"
             ],
             [
              0.4444444444444444,
              "#bd3786"
             ],
             [
              0.5555555555555556,
              "#d8576b"
             ],
             [
              0.6666666666666666,
              "#ed7953"
             ],
             [
              0.7777777777777778,
              "#fb9f3a"
             ],
             [
              0.8888888888888888,
              "#fdca26"
             ],
             [
              1,
              "#f0f921"
             ]
            ],
            "type": "surface"
           }
          ],
          "table": [
           {
            "cells": {
             "fill": {
              "color": "#EBF0F8"
             },
             "line": {
              "color": "white"
             }
            },
            "header": {
             "fill": {
              "color": "#C8D4E3"
             },
             "line": {
              "color": "white"
             }
            },
            "type": "table"
           }
          ]
         },
         "layout": {
          "annotationdefaults": {
           "arrowcolor": "#2a3f5f",
           "arrowhead": 0,
           "arrowwidth": 1
          },
          "autotypenumbers": "strict",
          "coloraxis": {
           "colorbar": {
            "outlinewidth": 0,
            "ticks": ""
           }
          },
          "colorscale": {
           "diverging": [
            [
             0,
             "#8e0152"
            ],
            [
             0.1,
             "#c51b7d"
            ],
            [
             0.2,
             "#de77ae"
            ],
            [
             0.3,
             "#f1b6da"
            ],
            [
             0.4,
             "#fde0ef"
            ],
            [
             0.5,
             "#f7f7f7"
            ],
            [
             0.6,
             "#e6f5d0"
            ],
            [
             0.7,
             "#b8e186"
            ],
            [
             0.8,
             "#7fbc41"
            ],
            [
             0.9,
             "#4d9221"
            ],
            [
             1,
             "#276419"
            ]
           ],
           "sequential": [
            [
             0,
             "#0d0887"
            ],
            [
             0.1111111111111111,
             "#46039f"
            ],
            [
             0.2222222222222222,
             "#7201a8"
            ],
            [
             0.3333333333333333,
             "#9c179e"
            ],
            [
             0.4444444444444444,
             "#bd3786"
            ],
            [
             0.5555555555555556,
             "#d8576b"
            ],
            [
             0.6666666666666666,
             "#ed7953"
            ],
            [
             0.7777777777777778,
             "#fb9f3a"
            ],
            [
             0.8888888888888888,
             "#fdca26"
            ],
            [
             1,
             "#f0f921"
            ]
           ],
           "sequentialminus": [
            [
             0,
             "#0d0887"
            ],
            [
             0.1111111111111111,
             "#46039f"
            ],
            [
             0.2222222222222222,
             "#7201a8"
            ],
            [
             0.3333333333333333,
             "#9c179e"
            ],
            [
             0.4444444444444444,
             "#bd3786"
            ],
            [
             0.5555555555555556,
             "#d8576b"
            ],
            [
             0.6666666666666666,
             "#ed7953"
            ],
            [
             0.7777777777777778,
             "#fb9f3a"
            ],
            [
             0.8888888888888888,
             "#fdca26"
            ],
            [
             1,
             "#f0f921"
            ]
           ]
          },
          "colorway": [
           "#636efa",
           "#EF553B",
           "#00cc96",
           "#ab63fa",
           "#FFA15A",
           "#19d3f3",
           "#FF6692",
           "#B6E880",
           "#FF97FF",
           "#FECB52"
          ],
          "font": {
           "color": "#2a3f5f"
          },
          "geo": {
           "bgcolor": "white",
           "lakecolor": "white",
           "landcolor": "#E5ECF6",
           "showlakes": true,
           "showland": true,
           "subunitcolor": "white"
          },
          "hoverlabel": {
           "align": "left"
          },
          "hovermode": "closest",
          "mapbox": {
           "style": "light"
          },
          "paper_bgcolor": "white",
          "plot_bgcolor": "#E5ECF6",
          "polar": {
           "angularaxis": {
            "gridcolor": "white",
            "linecolor": "white",
            "ticks": ""
           },
           "bgcolor": "#E5ECF6",
           "radialaxis": {
            "gridcolor": "white",
            "linecolor": "white",
            "ticks": ""
           }
          },
          "scene": {
           "xaxis": {
            "backgroundcolor": "#E5ECF6",
            "gridcolor": "white",
            "gridwidth": 2,
            "linecolor": "white",
            "showbackground": true,
            "ticks": "",
            "zerolinecolor": "white"
           },
           "yaxis": {
            "backgroundcolor": "#E5ECF6",
            "gridcolor": "white",
            "gridwidth": 2,
            "linecolor": "white",
            "showbackground": true,
            "ticks": "",
            "zerolinecolor": "white"
           },
           "zaxis": {
            "backgroundcolor": "#E5ECF6",
            "gridcolor": "white",
            "gridwidth": 2,
            "linecolor": "white",
            "showbackground": true,
            "ticks": "",
            "zerolinecolor": "white"
           }
          },
          "shapedefaults": {
           "line": {
            "color": "#2a3f5f"
           }
          },
          "ternary": {
           "aaxis": {
            "gridcolor": "white",
            "linecolor": "white",
            "ticks": ""
           },
           "baxis": {
            "gridcolor": "white",
            "linecolor": "white",
            "ticks": ""
           },
           "bgcolor": "#E5ECF6",
           "caxis": {
            "gridcolor": "white",
            "linecolor": "white",
            "ticks": ""
           }
          },
          "title": {
           "x": 0.05
          },
          "xaxis": {
           "automargin": true,
           "gridcolor": "white",
           "linecolor": "white",
           "ticks": "",
           "title": {
            "standoff": 15
           },
           "zerolinecolor": "white",
           "zerolinewidth": 2
          },
          "yaxis": {
           "automargin": true,
           "gridcolor": "white",
           "linecolor": "white",
           "ticks": "",
           "title": {
            "standoff": 15
           },
           "zerolinecolor": "white",
           "zerolinewidth": 2
          }
         }
        },
        "xaxis": {
         "anchor": "y",
         "domain": [
          0,
          1
         ]
        },
        "yaxis": {
         "anchor": "x",
         "domain": [
          0,
          1
         ],
         "title": {
          "text": "Annual Energy Savings [kWh]"
         }
        }
       }
      }
     },
     "metadata": {},
     "output_type": "display_data"
    }
   ],
   "source": [
    "fig = make_subplots(\n",
    "        rows=1, cols=1,\n",
    "        subplot_titles=(\n",
    "            # \"Cost Savings [$]\",\n",
    "            # \"Feasible Cost\",\n",
    "            \"Maximum Observed Energy Savings for Each Variable\",\n",
    "             \"Maximum Possible Energy Savings for Each Variable\"\n",
    "        ))\n",
    "\n",
    "\n",
    "# y = [val[0] for val in max_vals.values()]\n",
    "y2 = [val[2] for val in max_vals.values()]\n",
    "# fig.add_trace(go.Bar(x=x, y=y, text=text, textposition=\"auto\"), row=1, col=1)\n",
    "fig.add_trace(go.Bar(x=x, y=y2, text=text, textposition=\"auto\"), row=1, col=1)\n",
    "\n",
    "\n",
    "fig.update_layout(yaxis_title = \"Annual Energy Savings [kWh]\")\n",
    "fig.show()\n",
    "\n",
    "saveImagePlotly(fig, f\"Energy_Save_Comparisons\")"
   ]
  },
  {
   "cell_type": "markdown",
   "metadata": {},
   "source": [
    "# Feasibility Analysis "
   ]
  },
  {
   "cell_type": "code",
   "execution_count": null,
   "metadata": {},
   "outputs": [],
   "source": [
    "def calc_feasible_savings(df, feasible_val):\n",
    "    # energy \n",
    "    x = np.array(df[\"imperial_vals\"])\n",
    "    y = np.array(df[\"total\"])\n",
    "    A = np.vstack([x, np.ones(len(x))]).T\n",
    "    m, c = np.linalg.lstsq(A, y, rcond=None)[0]\n",
    "    feasible_opt = m*0.44 + c\n",
    "    baseline = df.loc[0][\"total\"]\n",
    "    e_savings = feasible_opt - baseline\n",
    "\n",
    "    # cost \n",
    "    x = np.array(df[\"imperial_vals\"])\n",
    "    y = np.array(df[\"total_c\"])\n",
    "    A = np.vstack([x, np.ones(len(x))]).T\n",
    "    m, c = np.linalg.lstsq(A, y, rcond=None)[0]\n",
    "    feasible_opt = m*0.44 + c\n",
    "    baseline = df.loc[0][\"total_c\"]\n",
    "    cost_savings = feasible_opt - baseline\n",
    "\n",
    "    return (e_savings, cost_savings)"
   ]
  },
  {
   "cell_type": "code",
   "execution_count": 58,
   "metadata": {},
   "outputs": [
    {
     "data": {
      "text/plain": [
       "dict_keys(['wall_b1', 'floor_2', 'roof_0', 'window_u', 'shgc_b1', 'light_0', 'equip_0', 'clgsetp_0', 'htgsetp_0', 'daylight_0'])"
      ]
     },
     "execution_count": 58,
     "metadata": {},
     "output_type": "execute_result"
    }
   ],
   "source": [
    "group_data.keys()"
   ]
  },
  {
   "cell_type": "code",
   "execution_count": 57,
   "metadata": {},
   "outputs": [
    {
     "data": {
      "text/plain": [
       "{'wall_b1':              elect           hot          chill   elect_c    hot_c   chill_c  \\\n",
       " -98  110303.585613  49711.300809  104149.821091  20396.60  6784.88  12438.09   \n",
       " -50  107453.878982  22565.561191   80634.937480  19910.75  3079.88   9629.82   \n",
       " -25  107250.927219  20865.901685   79546.103348  19872.63  2847.90   9499.79   \n",
       "  0   107143.924137  19959.899623   78974.377892  19852.73  2724.24   9431.51   \n",
       "  25  107077.444179  19398.951814   78620.299120  19839.96  2647.68   9389.23   \n",
       "  50  107031.913910  19018.005027   78377.334576  19832.02  2595.69   9360.21   \n",
       "  98  106975.964947  18548.616444   78073.438823  19821.49  2531.62   9323.92   \n",
       " \n",
       "              total   total_c      vals  perc_change  imperial_vals  \\\n",
       " -98  264164.707514  39619.57  0.070423          -98       0.399859   \n",
       " -50  210654.377653  32620.45  1.760563          -50       9.996479   \n",
       " -25  207662.932252  32220.32  2.640845          -25      14.994718   \n",
       "  0   206078.201652  32008.48  3.521127            0      19.992958   \n",
       "  25  205096.695113  31876.87  4.401408           25      24.991197   \n",
       "  50  204427.253513  31787.92  5.281690           50      29.989437   \n",
       "  98  203598.020213  31677.03  6.971831           98      39.586056   \n",
       " \n",
       "     imperial_vals_units  \n",
       " -98        ft2-F-hr/Btu  \n",
       " -50        ft2-F-hr/Btu  \n",
       " -25        ft2-F-hr/Btu  \n",
       "  0         ft2-F-hr/Btu  \n",
       "  25        ft2-F-hr/Btu  \n",
       "  50        ft2-F-hr/Btu  \n",
       "  98        ft2-F-hr/Btu  ,\n",
       " 'floor_2':              elect           hot         chill   elect_c     hot_c  chill_c  \\\n",
       " -98  142173.475392  73594.084636  62785.024217  25253.01  10044.54  7498.10   \n",
       " -50  143235.728640  68911.550658  72699.236622  25529.92   9405.44  8682.10   \n",
       " -25  143158.638980  68206.107339  72490.877446  25522.78   9309.16  8657.22   \n",
       "  0   143112.369902  68140.365425  72618.206868  25521.14   9300.18  8672.43   \n",
       "  25  143027.563015  67518.485383  71963.756441  25506.30   9215.31  8594.27   \n",
       "  50  143043.750575  67536.944044  72181.606311  25512.25   9217.82  8620.29   \n",
       "  98  143063.420209  67559.514465  72449.436879  25519.33   9220.91  8652.27   \n",
       " \n",
       "              total   total_c      vals  perc_change  imperial_vals  \\\n",
       " -98  278552.584245  42795.65  0.070423          -98       0.399859   \n",
       " -50  284846.515920  43617.46  1.760563          -50       9.996479   \n",
       " -25  283855.623766  43489.16  2.640845          -25      14.994718   \n",
       "  0   283870.942194  43493.75  3.521127            0      19.992958   \n",
       "  25  282509.804839  43315.88  4.401408           25      24.991197   \n",
       "  50  282762.300931  43350.36  5.281690           50      29.989437   \n",
       "  98  283072.371553  43392.51  6.971831           98      39.586056   \n",
       " \n",
       "     imperial_vals_units  \n",
       " -98        ft2-F-hr/Btu  \n",
       " -50        ft2-F-hr/Btu  \n",
       " -25        ft2-F-hr/Btu  \n",
       "  0         ft2-F-hr/Btu  \n",
       "  25        ft2-F-hr/Btu  \n",
       "  50        ft2-F-hr/Btu  \n",
       "  98        ft2-F-hr/Btu  ,\n",
       " 'roof_0':              elect            hot          chill   elect_c     hot_c  \\\n",
       " -98  149129.109930  129375.082655  108945.867727  27080.80  17657.84   \n",
       " -50  142818.173266   77548.716457   69505.664529  25470.26  10584.29   \n",
       " -25  142710.798891   74821.123064   67761.722968  25423.38  10212.01   \n",
       "  0   142665.170471   73389.976370   66867.203063  25401.17  10016.68   \n",
       "  25  142642.308066   72506.861861   66324.852183  25388.61   9896.15   \n",
       "  50  142621.762550   71907.025701   65942.785996  25379.80   9814.28   \n",
       "  98  142606.313079   71167.438626   65501.537431  25370.82   9713.34   \n",
       " \n",
       "       chill_c          total   total_c      vals  perc_change  imperial_vals  \\\n",
       " -98  13010.86  387450.060313  57749.50  0.070423          -98       0.399859   \n",
       " -50   8300.71  289872.554252  44355.26  1.760563          -50       9.996479   \n",
       " -25   8092.44  285293.644922  43727.83  2.640845          -25      14.994718   \n",
       "  0    7985.61  282922.349904  43403.46  3.521127            0      19.992958   \n",
       "  25   7920.84  281474.022110  43205.60  4.401408           25      24.991197   \n",
       "  50   7875.21  280471.574247  43069.29  5.281690           50      29.989437   \n",
       "  98   7822.52  279275.289136  42906.68  6.971831           98      39.586056   \n",
       " \n",
       "     imperial_vals_units  \n",
       " -98        ft2-F-hr/Btu  \n",
       " -50        ft2-F-hr/Btu  \n",
       " -25        ft2-F-hr/Btu  \n",
       "  0         ft2-F-hr/Btu  \n",
       "  25        ft2-F-hr/Btu  \n",
       "  50        ft2-F-hr/Btu  \n",
       "  98        ft2-F-hr/Btu  ,\n",
       " 'window_u':              elect           hot         chill   elect_c     hot_c  chill_c  \\\n",
       " -98  142581.655070  64206.132377  64356.727606  25353.90   8763.22  7685.80   \n",
       " -50  142504.390368  68108.045611  64810.814961  25338.31   9295.77  7740.03   \n",
       " -25  142475.469464  69947.063775  65041.952124  25332.79   9546.77  7767.63   \n",
       "  0   142453.408250  71662.765076  65269.397110  25328.67   9780.94  7794.79   \n",
       "  25  142437.086479  73241.285696  65501.077672  25325.83   9996.39  7822.46   \n",
       "  50  142424.842002  74677.431193  65736.789075  25323.94  10192.40  7850.61   \n",
       "  98  142404.850306  77342.508644  66131.107521  25319.79  10556.14  7897.70   \n",
       " \n",
       "              total   total_c   vals  perc_change  imperial_vals  \\\n",
       " -98  271144.515054  41802.92  0.024          -98       0.004227   \n",
       " -50  275423.250939  42374.11  0.600          -50       0.105671   \n",
       " -25  277464.485363  42647.19  0.900          -25       0.158507   \n",
       "  0   279385.570436  42904.40  1.200            0       0.211342   \n",
       "  25  281179.449847  43144.68  1.500           25       0.264178   \n",
       "  50  282839.062271  43366.95  1.800           50       0.317013   \n",
       "  98  285878.466470  43773.63  2.376           98       0.418457   \n",
       " \n",
       "     imperial_vals_units  \n",
       " -98        Btu/ft2-F-hr  \n",
       " -50        Btu/ft2-F-hr  \n",
       " -25        Btu/ft2-F-hr  \n",
       "  0         Btu/ft2-F-hr  \n",
       "  25        Btu/ft2-F-hr  \n",
       "  50        Btu/ft2-F-hr  \n",
       "  98        Btu/ft2-F-hr  ,\n",
       " 'shgc_b1':              elect           hot         chill   elect_c    hot_c   chill_c  \\\n",
       " -98  105647.672148  22595.456442  69975.114042  19541.68  3083.96   8356.77   \n",
       " -50  106256.024901  20440.626731  73831.140568  19675.70  2789.85   8817.28   \n",
       " -25  106547.849360  19622.222019  75596.521480  19737.98  2678.15   9028.11   \n",
       "  0   106846.171386  18885.798188  77380.242498  19797.82  2577.64   9241.13   \n",
       "  25  107163.446025  18208.321157  79201.925217  19861.30  2485.17   9458.69   \n",
       "  50  107492.045595  17589.037568  81041.629021  19926.09  2400.65   9678.39   \n",
       "  98  108115.149625  16532.790818  84503.535452  20045.90  2256.49  10091.83   \n",
       " \n",
       "              total   total_c    vals  perc_change  imperial_vals  \\\n",
       " -98  198218.242632  30982.41  0.0062          -98         0.0062   \n",
       " -50  200527.792199  31282.83  0.1550          -50         0.1550   \n",
       " -25  201766.592858  31444.24  0.2325          -25         0.2325   \n",
       "  0   203112.212072  31616.59  0.3100            0         0.3100   \n",
       "  25  204573.692398  31805.16  0.3875           25         0.3875   \n",
       "  50  206122.712184  32005.13  0.4650           50         0.4650   \n",
       "  98  209151.475895  32394.22  0.6138           98         0.6138   \n",
       " \n",
       "     imperial_vals_units  \n",
       " -98                      \n",
       " -50                      \n",
       " -25                      \n",
       "  0                       \n",
       "  25                      \n",
       "  50                      \n",
       "  98                      ,\n",
       " 'light_0':                elect           hot         chill   elect_c     hot_c  chill_c  \\\n",
       " -98.0  109233.580993  80590.329074  58812.485168  18935.52  10999.42  7023.68   \n",
       " -75.0  116969.246724  77959.012279  59926.025840  20413.87  10640.29  7156.66   \n",
       " -50.0  125420.944070  75351.870120  61293.319251  22031.85  10284.45  7319.95   \n",
       " -25.0  133905.128470  73366.896826  63111.157208  23678.89  10013.53  7537.05   \n",
       " -10.0  139028.051363  72322.248594  64383.078779  24667.23   9870.95  7688.95   \n",
       " -5.0   140739.082088  71989.089240  64821.405640  24997.92   9825.48  7741.29   \n",
       " -2.5   141595.866928  71824.769536  65045.047025  25163.59   9803.05  7768.00   \n",
       " -1.0   142110.160798  71727.320912  65179.554247  25262.65   9789.75  7784.07   \n",
       "  0.0   142453.408250  71662.765076  65269.397110  25328.67   9780.94  7794.79   \n",
       " \n",
       "                total   total_c       vals  perc_change  imperial_vals  \\\n",
       " -98.0  248636.395235  36958.62   0.264792        -98.0       0.024609   \n",
       " -75.0  254854.284843  38210.82   3.309902        -75.0       0.307612   \n",
       " -50.0  262066.133441  39636.25   6.619805        -50.0       0.615224   \n",
       " -25.0  270383.182504  41229.47   9.929707        -25.0       0.922835   \n",
       " -10.0  275733.378736  42227.13  11.915649        -10.0       1.107402   \n",
       " -5.0   277549.576968  42564.69  12.577629         -5.0       1.168925   \n",
       " -2.5   278465.683490  42734.64  12.908620         -2.5       1.199686   \n",
       " -1.0   279017.035958  42836.47  13.107214         -1.0       1.218143   \n",
       "  0.0   279385.570436  42904.40  13.239610          0.0       1.230447   \n",
       " \n",
       "       imperial_vals_units  \n",
       " -98.0               W/ft2  \n",
       " -75.0               W/ft2  \n",
       " -50.0               W/ft2  \n",
       " -25.0               W/ft2  \n",
       " -10.0               W/ft2  \n",
       " -5.0                W/ft2  \n",
       " -2.5                W/ft2  \n",
       " -1.0                W/ft2  \n",
       "  0.0                W/ft2  ,\n",
       " 'equip_0':                elect            hot         chill   elect_c     hot_c  \\\n",
       " -98.0   46534.391146  121005.707069  56517.409170   8582.23  16515.54   \n",
       " -75.0   68934.887479  107440.068788  57839.496884  12474.56  14664.03   \n",
       " -50.0   93321.815743   93749.505857  59499.734747  16718.68  12795.46   \n",
       " -25.0  117825.466221   81843.003367  61854.404935  21002.67  11170.40   \n",
       " -10.0  132581.872528   75561.188033  63781.633292  23595.66  10313.02   \n",
       " -5.0   137512.817241   73582.246056  64504.698295  24461.30  10042.92   \n",
       " -2.5   139981.887887   72614.966590  64882.326143  24894.97   9910.90   \n",
       " -1.0   141464.422044   72042.344807  65113.936228  25155.56   9832.75   \n",
       "  0.0   142453.408250   71662.765076  65269.397110  25328.67   9780.94   \n",
       " \n",
       "        chill_c          total   total_c  vals  perc_change  imperial_vals  \\\n",
       " -98.0  6749.59  224057.507384  31847.36   0.4        -98.0       0.037175   \n",
       " -75.0  6907.48  234214.453152  34046.07   5.0        -75.0       0.464684   \n",
       " -50.0  7105.75  246571.056347  36619.89  10.0        -50.0       0.929368   \n",
       " -25.0  7386.96  261522.874523  39560.03  15.0        -25.0       1.394052   \n",
       " -10.0  7617.12  271924.693852  41525.80  18.0        -10.0       1.672862   \n",
       " -5.0   7703.47  275599.761592  42207.69  19.0         -5.0       1.765799   \n",
       " -2.5   7748.57  277479.180620  42554.44  19.5         -2.5       1.812268   \n",
       " -1.0   7776.23  278620.703079  42764.54  19.8         -1.0       1.840149   \n",
       "  0.0   7794.79  279385.570436  42904.40  20.0          0.0       1.858736   \n",
       " \n",
       "       imperial_vals_units  \n",
       " -98.0               W/ft2  \n",
       " -75.0               W/ft2  \n",
       " -50.0               W/ft2  \n",
       " -25.0               W/ft2  \n",
       " -10.0               W/ft2  \n",
       " -5.0                W/ft2  \n",
       " -2.5                W/ft2  \n",
       " -1.0                W/ft2  \n",
       "  0.0                W/ft2  ,\n",
       " 'clgsetp_0':               elect           hot         chill   elect_c    hot_c  chill_c  \\\n",
       " 0.0   142453.408250  71662.765076  65269.397110  25328.67  9780.94  7794.79   \n",
       " 1.0   142294.173883  71564.224684  64225.513191  25275.21  9767.49  7670.13   \n",
       " 2.5   142104.495645  71428.555387  62787.338560  25203.02  9748.97  7498.38   \n",
       " 5.0   141899.559867  71234.462712  60784.825053  25123.38  9722.48  7259.23   \n",
       " 10.0  141737.930000  70957.400071  57896.626712  25035.55  9684.67  6914.30   \n",
       " 25.0  141696.002425  70845.621610  55974.825077  24994.49  9669.41  6684.79   \n",
       " 50.0  141696.002379  70845.621609  55974.816964  24994.49  9669.41  6684.79   \n",
       " 98.0  141696.002379  70845.621609  55974.816964  24994.49  9669.41  6684.79   \n",
       " 75.0  141696.002379  70845.621609  55974.816964  24994.49  9669.41  6684.79   \n",
       " \n",
       "               total   total_c       vals  perc_change  imperial_vals  \\\n",
       " 0.0   279385.570436  42904.40  29.814815          0.0      85.666667   \n",
       " 1.0   278083.911757  42712.83  30.112963          1.0      86.203333   \n",
       " 2.5   276320.389593  42450.37  30.560185          2.5      87.008333   \n",
       " 5.0   273918.847632  42105.09  31.305556          5.0      88.350000   \n",
       " 10.0  270591.956783  41634.52  32.796296         10.0      91.033333   \n",
       " 25.0  268516.449112  41348.69  37.268519         25.0      99.083333   \n",
       " 50.0  268516.440953  41348.69  44.722222         50.0     112.500000   \n",
       " 98.0  268516.440953  41348.69  59.033333         98.0     138.260000   \n",
       " 75.0  268516.440953  41348.69  52.175926         75.0     125.916667   \n",
       " \n",
       "      imperial_vals_units  \n",
       " 0.0                    F  \n",
       " 1.0                    F  \n",
       " 2.5                    F  \n",
       " 5.0                    F  \n",
       " 10.0                   F  \n",
       " 25.0                   F  \n",
       " 50.0                   F  \n",
       " 98.0                   F  \n",
       " 75.0                   F  ,\n",
       " 'htgsetp_0':                elect           hot         chill   elect_c    hot_c  chill_c  \\\n",
       " -98.0  142263.928803  33486.174432  64760.923334  25288.28  4570.38  7734.07   \n",
       " -75.0  142263.930788  33487.571551  64760.923312  25288.28  4570.57  7734.07   \n",
       " -50.0  142264.865317  33894.463361  64761.259125  25288.43  4626.11  7734.11   \n",
       " -25.0  142283.338287  39140.244772  64779.300453  25292.06  5342.08  7736.27   \n",
       " -10.0  142344.920321  52409.200209  64910.546759  25304.62  7153.10  7751.94   \n",
       " -5.0   142389.293234  60753.049119  65045.029812  25314.15  8291.92  7768.00   \n",
       " -2.5   142418.590110  65892.602476  65144.623958  25320.76  8993.40  7779.89   \n",
       " -1.0   142438.670621  69281.350664  65216.407017  25325.33  9455.91  7788.47   \n",
       "  0.0   142453.408250  71662.765076  65269.397110  25328.67  9780.94  7794.79   \n",
       " \n",
       "                total   total_c       vals  perc_change  imperial_vals  \\\n",
       " -98.0  240511.026569  37592.73   0.384444        -98.0         32.692   \n",
       " -75.0  240512.425652  37592.92   4.805556        -75.0         40.650   \n",
       " -50.0  240920.587803  37648.65   9.611111        -50.0         49.300   \n",
       " -25.0  246202.883512  38370.41  14.416667        -25.0         57.950   \n",
       " -10.0  259664.667290  40209.66  17.300000        -10.0         63.140   \n",
       " -5.0   268187.372165  41374.07  18.261111         -5.0         64.870   \n",
       " -2.5   273455.816543  42094.05  18.741667         -2.5         65.735   \n",
       " -1.0   276936.428302  42569.71  19.030000         -1.0         66.254   \n",
       "  0.0   279385.570436  42904.40  19.222222          0.0         66.600   \n",
       " \n",
       "       imperial_vals_units  \n",
       " -98.0                   F  \n",
       " -75.0                   F  \n",
       " -50.0                   F  \n",
       " -25.0                   F  \n",
       " -10.0                   F  \n",
       " -5.0                    F  \n",
       " -2.5                    F  \n",
       " -1.0                    F  \n",
       "  0.0                    F  ,\n",
       " 'daylight_0':            elect           hot         chill   elect_c     hot_c  chill_c  \\\n",
       " 0  142453.408250  71662.765076  65269.397110  25328.67   9780.94  7794.79   \n",
       " 1  135873.480345  73795.537441  64016.139505  24129.04  10072.03  7645.12   \n",
       " \n",
       "            total   total_c  vals  perc_change  imperial_vals  \\\n",
       " 0  279385.570436  42904.40     0            0              0   \n",
       " 1  273685.157291  41846.19     1            1              1   \n",
       " \n",
       "   imperial_vals_units  \n",
       " 0                      \n",
       " 1                      }"
      ]
     },
     "execution_count": 57,
     "metadata": {},
     "output_type": "execute_result"
    }
   ],
   "source": [
    "for k, v in zip(group_data.items(), feasible:"
   ]
  },
  {
   "cell_type": "code",
   "execution_count": 30,
   "metadata": {},
   "outputs": [],
   "source": [
    "# feasability analysis \n",
    "\n",
    "# Wall R-Value [units]\n",
    "# Roof R-Value [units] \n",
    "# Floor R-Value [units]\n",
    "# Solar Heat Gain Coefficient (SHGC)\n",
    "# U-Factor [units]\n",
    "# Equipment Watts per Zone Floor Area [units]\n",
    "# Lighting Watts per Zone Floor Area [units]\n",
    "# Cooling Setpoint [units]\n",
    "# Heating Setpoint [units]\n",
    "# Daylight Controls Applied\n",
    "\n"
   ]
  },
  {
   "cell_type": "code",
   "execution_count": 31,
   "metadata": {},
   "outputs": [],
   "source": [
    "# equip power densitt "
   ]
  }
 ],
 "metadata": {
  "interpreter": {
   "hash": "83394fd6528936df3c1aec41a113e1e006dc45c8dc5352109b9d4b356eececd5"
  },
  "kernelspec": {
   "display_name": "Python 3.9.10 ('cee256venv': venv)",
   "language": "python",
   "name": "python3"
  },
  "language_info": {
   "codemirror_mode": {
    "name": "ipython",
    "version": 3
   },
   "file_extension": ".py",
   "mimetype": "text/x-python",
   "name": "python",
   "nbconvert_exporter": "python",
   "pygments_lexer": "ipython3",
   "version": "3.9.10"
  },
  "orig_nbformat": 4
 },
 "nbformat": 4,
 "nbformat_minor": 2
}
