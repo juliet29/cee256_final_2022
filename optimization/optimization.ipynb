{
 "cells": [
  {
   "cell_type": "code",
   "execution_count": 2,
   "metadata": {},
   "outputs": [],
   "source": [
    "# determine percent changes \n",
    "# things to optimize\n",
    "    # R value \n",
    "        # Roof \n",
    "        # Wall\n",
    "        # Floor \n",
    "    # Window\n",
    "        # Shgc \n",
    "        # U-Factor\n",
    "    # Lighting \n",
    "    # Daylight sensors \n",
    "    # Equipment \n",
    "    # Setpoints -> consider pmv as a constraint \n",
    "\n",
    "\n",
    "# calculate energy savings \n",
    "# think about npv / payback period to determine max decent const cost \n"
   ]
  },
  {
   "cell_type": "markdown",
   "metadata": {},
   "source": [
    "# Imports"
   ]
  },
  {
   "cell_type": "code",
   "execution_count": 40,
   "metadata": {},
   "outputs": [],
   "source": [
    "import numpy as np\n",
    "import os\n",
    "from eppy import *\n",
    "from eppy.modeleditor import IDF\n",
    "import pandas as pd\n",
    "from ladybug.sql import SQLiteResult\n",
    "from ladybug import analysisperiod as ap\n",
    "from collections import OrderedDict\n",
    "from eppy.results import fasthtml\n"
   ]
  },
  {
   "cell_type": "code",
   "execution_count": 4,
   "metadata": {},
   "outputs": [],
   "source": [
    "opt_models_dir = \"/Users/julietnwagwuume-ezeoke/Documents/cee256_local/_final_project_local/optimization/opt_models\"\n",
    "\n",
    "\n",
    "# set the idd\n",
    "iddfile = \"/Applications/OpenStudioApplication-1.1.1/EnergyPlus/Energy+.idd\"\n",
    "IDF.setiddname(iddfile)\n",
    "\n",
    "# get the epw\n",
    "epw = \"/Users/julietnwagwuume-ezeoke/Documents/cee256_local/weather_files/CA_PALO-ALTO-AP_724937S_19.epw\""
   ]
  },
  {
   "cell_type": "code",
   "execution_count": 31,
   "metadata": {},
   "outputs": [],
   "source": [
    "root_idf_path = \"/Users/julietnwagwuume-ezeoke/Documents/cee256_local/_final_project_local/calibration/eppy_adjusted_models_2/03_09_test/in2.idf\"\n",
    "root_idf = IDF(root_idf_path, epw)"
   ]
  },
  {
   "cell_type": "markdown",
   "metadata": {},
   "source": [
    "# Optim"
   ]
  },
  {
   "cell_type": "code",
   "execution_count": null,
   "metadata": {},
   "outputs": [],
   "source": [
    "def change_window_shgc(idf0, pc):\n",
    "    window_mat = [s  for s in idf0.idfobjects[\"WindowMaterial:SimpleGlazingSystem\"] if s.Name == \"Thornton Window Material 1\"][0]\n",
    "    # get current value \n",
    "    curr_val = window_mat.Solar_Heat_Gain_Coefficient \n",
    "    print(curr_val)\n",
    "    # calculate new values \n",
    "    new_val = perc_change_val(pc, curr_val)\n",
    "    # adjust the idf \n",
    "    window_mat.Solar_Heat_Gain_Coefficient = new_val\n",
    "    # return the idf\n",
    "    print([s  for s in idf0.idfobjects[\"WindowMaterial:SimpleGlazingSystem\"] if s.Name == \"Thornton Window Material 1\"][0])\n",
    "    return (idf0, new_val)"
   ]
  },
  {
   "cell_type": "code",
   "execution_count": 23,
   "metadata": {},
   "outputs": [
    {
     "data": {
      "text/plain": [
       "'neg_10'"
      ]
     },
     "execution_count": 23,
     "metadata": {},
     "output_type": "execute_result"
    }
   ],
   "source": [
    "pc = -10\n",
    "str_pc = str(pc)\n",
    "if str_pc[0] == \"-\":\n",
    "    str_pc = str_pc.replace(\"-\", \"neg_\")\n",
    "str_pc"
   ]
  },
  {
   "cell_type": "markdown",
   "metadata": {},
   "source": [
    "# Helper Functions"
   ]
  },
  {
   "cell_type": "code",
   "execution_count": 84,
   "metadata": {},
   "outputs": [],
   "source": [
    "def perc_change_val(pc, xo):\n",
    "    \"given percent change pc, and xo, calc x_new, xn\"\n",
    "    xn = (xo*pc)/100 + xo\n",
    "    xn_real = max(0, xn)\n",
    "    return xn_real\n",
    "\n",
    "def perc_change_arr(pc_arr, xo):\n",
    "    \"given array of percent changes pc_arr, and xo, calc x_new_arr, xn_arr\"\n",
    "    xn_arr = [perc_change_val(pc, xo) for pc in pc_arr]\n",
    "    return xn_arr\n",
    "        \n",
    "# generate new idf \n",
    "def new_idfs(opt_group_name, idf_adjust_fx):\n",
    "    # make a group folder\n",
    "    group_folder = os.path.join(opt_models_dir, opt_group_name)\n",
    "    os.makedirs(group_folder)\n",
    "    # keep track of the values changed in the idf \n",
    "    new_vals = {}\n",
    "    for ix, pc in enumerate(pc_arr):\n",
    "        # make a folder for the specific run \n",
    "        # rename negatives \n",
    "        str_pc = str(pc)\n",
    "        if str_pc[0] == \"-\":\n",
    "            str_pc = str_pc.replace(\"-\", \"neg_\")\n",
    "        str_pc\n",
    "        run_folder = os.path.join(group_folder, f\"run_{str_pc}\")\n",
    "        os.makedirs(run_folder)\n",
    "        # make a copy of an og idf\n",
    "        idf0_path = os.path.join(run_folder, \"opt.idf\")\n",
    "        root_idf.save(idf0_path)\n",
    "        # initialize this new idf \n",
    "        idf0 = IDF(idf0_path, epw)\n",
    "\n",
    "        # call function to modify the idf \n",
    "        idf0, new_val = idf_adjust_fx(idf0, pc)\n",
    "        # save the idf here \n",
    "        idf0.save()\n",
    "        # save the new vals\n",
    "        new_vals[pc] = new_val\n",
    "    print(group_folder)\n",
    "    # save to csv in group folder \n",
    "    new_vals_df = pd.DataFrame.from_dict(new_vals, orient=\"index\")\n",
    "    new_vals_df.to_csv(os.path.join(group_folder, \"values.csv\"))\n",
    "    return group_folder\n",
    "\n",
    "\n",
    "def get_sub_dirs(group_path):\n",
    "    sub_dirs = [d for d in os.listdir(group_path) if os.path.isdir(os.path.join(group_path, d))]\n",
    "    return sub_dirs\n",
    "\n",
    "# run idfs \n",
    "def run_idfs(group_path):\n",
    "    print(group_path)\n",
    "    sub_dirs = get_sub_dirs(group_path)\n",
    "    for sub_dir in sub_dirs:\n",
    "        dir = os.path.join(group_path, sub_dir)\n",
    "        print(sub_dir)\n",
    "        idf_path = os.path.join(dir, \"opt.idf\")\n",
    "        idf0 = IDF(idf_path, epw)\n",
    "        idf0.run(output_directory = dir)\n",
    "\n",
    "\n",
    "\n",
    "def extract_data(group_path):\n",
    "    \"can execute after run_idfs to get the data\"\n",
    "    print(group_path)\n",
    "\n",
    "    sub_dirs = get_sub_dirs(group_path)\n",
    "\n",
    "    sub_dir_data = OrderedDict()\n",
    "    for sub_dir in sub_dirs:\n",
    "        dir = os.path.join(group_path, sub_dir)\n",
    "\n",
    "        # energy \n",
    "        sql_path = os.path.join(dir, \"eplusout.sql\")\n",
    "        sqld = SQLiteResult(sql_path)\n",
    "\n",
    "        # costs \n",
    "        html_path = os.path.join(dir, \"eplustbl.htm\")\n",
    "        filehandle = open(html_path, 'r') # get a file handle to the html file\n",
    "        namedtable = fasthtml.tablebyname(filehandle, \"Tariff Summary\")\n",
    "        table_rows = namedtable[1]\n",
    "\n",
    "        data = OrderedDict({\n",
    "            # energy kwh \n",
    "            \"elect\": sqld.data_collections_by_output_name(\"Electricity:Facility\")[-1].total,\n",
    "            \"hot\": sqld.data_collections_by_output_name(\"DistrictHeating:Facility\")[-1].total,\n",
    "            \"chill\": sqld.data_collections_by_output_name(\"DistrictCooling:Facility\")[-1].total,\n",
    "            # costs $\n",
    "            \"elect_c\": [t for t in table_rows if t[0] == 'ELECTRICITY TARIFF'][0][-1],\n",
    "            \"hot_c\": [t for t in table_rows if t[0] == 'DISTRICTHEATING TARIFF'][0][-1],\n",
    "            \"chill_c\": [t for t in table_rows if t[0] == 'DISTRICTCOOLING TARIFF'][0][-1],\n",
    "        })\n",
    "        data[\"total\"] = data[\"elect\"] +  data[\"hot\"] +  data[\"chill\"] \n",
    "        data[\"total_c\"] = data[\"elect_c\"] +  data[\"hot_c\"] +  data[\"chill_c\"] \n",
    "\n",
    "        sub_dir_data[sub_dir] = data\n",
    "    \n",
    "    # dataframe with energy and cost data \n",
    "    df = pd.DataFrame.from_dict(sub_dir_data, orient=\"index\")\n",
    "\n",
    "    # add edited values \n",
    "    vals = pd.read_csv(os.path.join(group_path, \"values.csv\"))\n",
    "    dict_val =  OrderedDict()\n",
    "    for i, val in zip(list(df.index), vals['0']):\n",
    "        dict_val[i] = val\n",
    "    df[\"vals\"] = dict_val.values()\n",
    "\n",
    "    # save as csv \n",
    "    df.to_csv(os.path.join(group_path, \"data.csv\"))\n",
    "    \n",
    "    # add the edited values \n",
    "    return df, vals\n",
    "\n",
    "\n",
    "\n",
    "\n",
    "\n",
    "\n",
    "# extract relevant data \n",
    "# create dictionary of runs and their names \n",
    "# pass to calibration functions like thing \n",
    "# just care about hot water, elect, chilled water, and their tarrifs\n",
    "# inside folder, csv with the data \n",
    "# for a group, csv in group folder + csv in run folder with results -> another csv \n",
    "# all this in an executable \n",
    "\n",
    "\n",
    "\n",
    "# analysis notebook \n",
    "# then can correlate energy use with cost, \n",
    "# as well as tornado diagrams for energy use and cost -> subplots\n",
    "# can compare individual schemes to see which give greatest e savings / cost \n",
    "# can pair schemes to maximize.. \n",
    "\n",
    "\n"
   ]
  },
  {
   "cell_type": "markdown",
   "metadata": {},
   "source": [
    "# Test"
   ]
  },
  {
   "cell_type": "code",
   "execution_count": null,
   "metadata": {},
   "outputs": [],
   "source": [
    "pc_arr = [-10,10]\n",
    "a = new_idfs(\"test_b0\", change_window_shgc)\n",
    "# run_idfs(a)"
   ]
  }
 ],
 "metadata": {
  "interpreter": {
   "hash": "83394fd6528936df3c1aec41a113e1e006dc45c8dc5352109b9d4b356eececd5"
  },
  "kernelspec": {
   "display_name": "Python 3.9.10 ('cee256venv': venv)",
   "language": "python",
   "name": "python3"
  },
  "language_info": {
   "codemirror_mode": {
    "name": "ipython",
    "version": 3
   },
   "file_extension": ".py",
   "mimetype": "text/x-python",
   "name": "python",
   "nbconvert_exporter": "python",
   "pygments_lexer": "ipython3",
   "version": "3.9.10"
  },
  "orig_nbformat": 4
 },
 "nbformat": 4,
 "nbformat_minor": 2
}
