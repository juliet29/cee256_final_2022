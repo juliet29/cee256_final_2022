{
 "cells": [
  {
   "cell_type": "code",
   "execution_count": 2,
   "metadata": {},
   "outputs": [],
   "source": [
    "# determine percent changes \n",
    "# things to optimize\n",
    "    # R value \n",
    "        # Roof \n",
    "        # Wall\n",
    "        # Floor \n",
    "    # Window\n",
    "        # Shgc \n",
    "        # U-Factor\n",
    "    # Lighting \n",
    "    # Daylight sensors \n",
    "    # Equipment \n",
    "    # Setpoints -> consider pmv as a constraint \n",
    "\n",
    "\n",
    "# calculate energy savings \n",
    "# think about npv / payback period to determine max decent const cost \n"
   ]
  },
  {
   "cell_type": "markdown",
   "metadata": {},
   "source": [
    "# Imports"
   ]
  },
  {
   "cell_type": "code",
   "execution_count": 40,
   "metadata": {},
   "outputs": [],
   "source": [
    "import numpy as np\n",
    "import os\n",
    "from eppy import *\n",
    "from eppy.modeleditor import IDF\n",
    "import pandas as pd\n",
    "from ladybug.sql import SQLiteResult\n",
    "from ladybug import analysisperiod as ap\n",
    "from collections import OrderedDict\n",
    "from eppy.results import fasthtml\n"
   ]
  },
  {
   "cell_type": "code",
   "execution_count": 4,
   "metadata": {},
   "outputs": [],
   "source": [
    "opt_models_dir = \"/Users/julietnwagwuume-ezeoke/Documents/cee256_local/_final_project_local/optimization/opt_models\"\n",
    "\n",
    "\n",
    "# set the idd\n",
    "iddfile = \"/Applications/OpenStudioApplication-1.1.1/EnergyPlus/Energy+.idd\"\n",
    "IDF.setiddname(iddfile)\n",
    "\n",
    "# get the epw\n",
    "epw = \"/Users/julietnwagwuume-ezeoke/Documents/cee256_local/weather_files/CA_PALO-ALTO-AP_724937S_19.epw\""
   ]
  },
  {
   "cell_type": "code",
   "execution_count": 31,
   "metadata": {},
   "outputs": [],
   "source": [
    "root_idf_path = \"/Users/julietnwagwuume-ezeoke/Documents/cee256_local/_final_project_local/calibration/eppy_adjusted_models_2/03_09_test/in2.idf\"\n",
    "root_idf = IDF(root_idf_path, epw)"
   ]
  },
  {
   "cell_type": "markdown",
   "metadata": {},
   "source": [
    "# Optim"
   ]
  },
  {
   "cell_type": "code",
   "execution_count": 117,
   "metadata": {},
   "outputs": [],
   "source": [
    "def change_window_shgc(idf0, pc):\n",
    "    window_mat = [s  for s in idf0.idfobjects[\"WindowMaterial:SimpleGlazingSystem\"] if s.Name == \"Thornton Window Material 1\"][0]\n",
    "    # get current value \n",
    "    curr_val = window_mat.Solar_Heat_Gain_Coefficient \n",
    "    print(curr_val)\n",
    "    # calculate new values \n",
    "    new_val = perc_change_val(pc, curr_val)\n",
    "    # adjust the idf \n",
    "    window_mat.Solar_Heat_Gain_Coefficient = new_val\n",
    "    # return the idf\n",
    "    print([s  for s in idf0.idfobjects[\"WindowMaterial:SimpleGlazingSystem\"] if s.Name == \"Thornton Window Material 1\"][0])\n",
    "    return (idf0, new_val)\n",
    "\n",
    "# simple material to vary walls, roof, floor\n",
    "def make_new_const(u_factor, idf0, pc, curr_const):\n",
    "    # convert to r value \n",
    "    r_val = 1/ u_factor \n",
    "    # determine new r value \n",
    "    new_val = perc_change_val(pc, r_val)\n",
    "\n",
    "    #  create new material\n",
    "    wall_mat_obj = idf0.newidfobject(\n",
    "        \"Material:NoMass\",\n",
    "        Name=\"ExperimentalMaterial\",\n",
    "        Roughness=\"Smooth\", # like stucco outside material\n",
    "        Thermal_Resistance=new_val\n",
    "    )\n",
    "    \n",
    "    # assign it to a construction \n",
    "    wall_const_obj = idf0.newidfobject(\n",
    "        \"Construction\",\n",
    "        Name=\"ExperimentalConstruction\",\n",
    "        Outside_Layer=\"ExperimentalMaterial\"\n",
    "    )\n",
    "\n",
    "    # replace all building surfaces with this construction with the exp one \n",
    "    ext_surfaces = [s  for s in idf0.idfobjects[\"BuildingSurface:Detailed\"] if s.Construction_Name == curr_const ]\n",
    "    for s in ext_surfaces:\n",
    "        s.Construction_Name = \"ExperimentalConstruction\"\n",
    "    return(idf0, new_val)\n",
    "\n",
    "\n",
    "\n",
    "def change_wall_r(idf0, pc):\n",
    "    # current value from html of calibrated model, Report: Envelope Summary, U Factor with No Film\n",
    "    u_factor = 0.284 #W / m2-K  \n",
    "    curr_const = \"Thornton Ext Wall\"\n",
    "    idf0, new_val = make_new_const(u_factor, idf0, pc, curr_const)\n",
    "    return (idf0, new_val)\n",
    "\n",
    "def change_roof_r(idf0, pc):\n",
    "    # current value from html of calibrated model\n",
    "    u_factor = 0.283 #W / m2-K  \n",
    "    curr_const = \"ASHRAE 90.1-2010 ExtRoof IEAD ClimateZone 2-8\"\n",
    "    idf0, new_val = make_new_const(u_factor, idf0, pc, curr_const)\n",
    "    return (idf0, new_val)\n",
    "\n",
    "def change_floor_r(idf0, pc):\n",
    "    # current value from html of calibrated model\n",
    "    u_factor = 5.634 #W / m2-K  \n",
    "    curr_const = \"ExtSlabCarpet 4in ClimateZone 1-8\"\n",
    "    idf0, new_val = make_new_const(u_factor, idf0, pc, curr_const)\n",
    "    return (idf0, new_val)\n",
    "\n",
    "\n",
    "# Construction,\n",
    "#     Thornton Ext Wall,        !- Name\n",
    "#     1IN Stucco 1,             !- Outside Layer\n",
    "#     F08 Metal surface,        !- Layer 2\n",
    "#     Wall Insulation [19],     !- Layer 3\n",
    "#     1/4IN wood,               !- Layer 4\n",
    "#     5/8IN gypsum board;       !- Layer 5"
   ]
  },
  {
   "cell_type": "markdown",
   "metadata": {},
   "source": [
    "# Helper Functions"
   ]
  },
  {
   "cell_type": "code",
   "execution_count": 135,
   "metadata": {},
   "outputs": [],
   "source": [
    "def perc_change_val(pc, xo):\n",
    "    \"given percent change pc, and xo, calc x_new, xn\"\n",
    "    xn = (xo*pc)/100 + xo\n",
    "    xn_real = max(0, xn)\n",
    "    return xn_real\n",
    "\n",
    "def perc_change_arr(pc_arr, xo):\n",
    "    \"given array of percent changes pc_arr, and xo, calc x_new_arr, xn_arr\"\n",
    "    xn_arr = [perc_change_val(pc, xo) for pc in pc_arr]\n",
    "    return xn_arr\n",
    "        \n",
    "# generate new idf \n",
    "def new_idfs(opt_group_name, idf_adjust_fx):\n",
    "    # make a group folder\n",
    "    group_folder = os.path.join(opt_models_dir, opt_group_name)\n",
    "    os.makedirs(group_folder)\n",
    "    # keep track of the values changed in the idf \n",
    "    new_vals = {}\n",
    "    for ix, pc in enumerate(pc_arr):\n",
    "        # make a folder for the specific run \n",
    "        # rename negatives \n",
    "        str_pc = str(pc)\n",
    "        if str_pc[0] == \"-\":\n",
    "            str_pc = str_pc.replace(\"-\", \"neg_\")\n",
    "        str_pc\n",
    "        run_folder = os.path.join(group_folder, f\"run_{str_pc}\")\n",
    "        os.makedirs(run_folder)\n",
    "        # make a copy of an og idf\n",
    "        idf0_path = os.path.join(run_folder, \"opt.idf\")\n",
    "        root_idf.save(idf0_path)\n",
    "        # initialize this new idf \n",
    "        idf0 = IDF(idf0_path, epw)\n",
    "\n",
    "        # call function to modify the idf \n",
    "        idf0, new_val =  idf_adjust_fx(idf0, pc)\n",
    "\n",
    "        # save the idf here \n",
    "        idf0.save()\n",
    "        # save the new vals\n",
    "        new_vals[pc] = [new_val, run_folder]\n",
    "\n",
    "    print(group_folder)\n",
    "    # save to csv in group folder \n",
    "    new_vals_df = pd.DataFrame.from_dict(new_vals, orient=\"index\")\n",
    "    new_vals_df.to_csv(os.path.join(group_folder, \"values.csv\"))\n",
    "    return group_folder\n",
    "\n",
    "\n"
   ]
  },
  {
   "cell_type": "markdown",
   "metadata": {},
   "source": [
    "# Test"
   ]
  },
  {
   "cell_type": "code",
   "execution_count": 141,
   "metadata": {},
   "outputs": [
    {
     "name": "stdout",
     "output_type": "stream",
     "text": [
      "/Users/julietnwagwuume-ezeoke/Documents/cee256_local/_final_project_local/optimization/opt_models/test_a17\n"
     ]
    },
    {
     "data": {
      "text/plain": [
       "'/Users/julietnwagwuume-ezeoke/Documents/cee256_local/_final_project_local/optimization/opt_models/test_a17'"
      ]
     },
     "execution_count": 141,
     "metadata": {},
     "output_type": "execute_result"
    }
   ],
   "source": [
    "pc_arr = [-98,98]\n",
    "a = new_idfs(\"test_a17\", change_roof_r)\n",
    "a\n",
    "# run_idfs(a)"
   ]
  },
  {
   "cell_type": "code",
   "execution_count": 145,
   "metadata": {},
   "outputs": [
    {
     "name": "stdout",
     "output_type": "stream",
     "text": [
      "/Users/julietnwagwuume-ezeoke/Documents/cee256_local/_final_project_local/optimization/opt_models/test_a17\n",
      "run_98\n"
     ]
    },
    {
     "name": "stderr",
     "output_type": "stream",
     "text": [
      "Could not find platform independent libraries <prefix>\n",
      "Could not find platform dependent libraries <exec_prefix>\n",
      "Consider setting $PYTHONHOME to <prefix>[:<exec_prefix>]\n",
      "EnergyPlus Completed Successfully.\n"
     ]
    },
    {
     "name": "stdout",
     "output_type": "stream",
     "text": [
      "run_neg_98\n"
     ]
    },
    {
     "name": "stderr",
     "output_type": "stream",
     "text": [
      "Could not find platform independent libraries <prefix>\n",
      "Could not find platform dependent libraries <exec_prefix>\n",
      "Consider setting $PYTHONHOME to <prefix>[:<exec_prefix>]\n",
      "EnergyPlus Completed Successfully.\n"
     ]
    },
    {
     "name": "stdout",
     "output_type": "stream",
     "text": [
      "/Users/julietnwagwuume-ezeoke/Documents/cee256_local/_final_project_local/optimization/opt_models/test_a17\n"
     ]
    }
   ],
   "source": [
    "b = run_idfs(a)\n",
    "b = extract_data(a)\n"
   ]
  },
  {
   "cell_type": "code",
   "execution_count": 146,
   "metadata": {},
   "outputs": [
    {
     "data": {
      "text/html": [
       "<div>\n",
       "<style scoped>\n",
       "    .dataframe tbody tr th:only-of-type {\n",
       "        vertical-align: middle;\n",
       "    }\n",
       "\n",
       "    .dataframe tbody tr th {\n",
       "        vertical-align: top;\n",
       "    }\n",
       "\n",
       "    .dataframe thead th {\n",
       "        text-align: right;\n",
       "    }\n",
       "</style>\n",
       "<table border=\"1\" class=\"dataframe\">\n",
       "  <thead>\n",
       "    <tr style=\"text-align: right;\">\n",
       "      <th></th>\n",
       "      <th>elect</th>\n",
       "      <th>hot</th>\n",
       "      <th>chill</th>\n",
       "      <th>elect_c</th>\n",
       "      <th>hot_c</th>\n",
       "      <th>chill_c</th>\n",
       "      <th>total</th>\n",
       "      <th>total_c</th>\n",
       "      <th>vals</th>\n",
       "      <th>perc_change</th>\n",
       "    </tr>\n",
       "  </thead>\n",
       "  <tbody>\n",
       "    <tr>\n",
       "      <th>-98</th>\n",
       "      <td>111541.030058</td>\n",
       "      <td>51666.220936</td>\n",
       "      <td>110589.353292</td>\n",
       "      <td>20649.96</td>\n",
       "      <td>7051.70</td>\n",
       "      <td>13207.13</td>\n",
       "      <td>273796.604286</td>\n",
       "      <td>40908.79</td>\n",
       "      <td>0.070671</td>\n",
       "      <td>-98</td>\n",
       "    </tr>\n",
       "    <tr>\n",
       "      <th>98</th>\n",
       "      <td>107440.831341</td>\n",
       "      <td>19497.441322</td>\n",
       "      <td>80434.524587</td>\n",
       "      <td>19925.11</td>\n",
       "      <td>2661.12</td>\n",
       "      <td>9605.89</td>\n",
       "      <td>207372.797250</td>\n",
       "      <td>32192.12</td>\n",
       "      <td>6.996466</td>\n",
       "      <td>98</td>\n",
       "    </tr>\n",
       "  </tbody>\n",
       "</table>\n",
       "</div>"
      ],
      "text/plain": [
       "             elect           hot          chill   elect_c    hot_c   chill_c  \\\n",
       "-98  111541.030058  51666.220936  110589.353292  20649.96  7051.70  13207.13   \n",
       " 98  107440.831341  19497.441322   80434.524587  19925.11  2661.12   9605.89   \n",
       "\n",
       "             total   total_c      vals  perc_change  \n",
       "-98  273796.604286  40908.79  0.070671          -98  \n",
       " 98  207372.797250  32192.12  6.996466           98  "
      ]
     },
     "execution_count": 146,
     "metadata": {},
     "output_type": "execute_result"
    }
   ],
   "source": [
    "b[0]"
   ]
  },
  {
   "cell_type": "code",
   "execution_count": null,
   "metadata": {},
   "outputs": [],
   "source": []
  },
  {
   "cell_type": "code",
   "execution_count": 144,
   "metadata": {},
   "outputs": [],
   "source": [
    "def get_sub_dirs(group_path):\n",
    "    sub_dirs = [d for d in os.listdir(group_path) if os.path.isdir(os.path.join(group_path, d))]\n",
    "    return sub_dirs\n",
    "\n",
    "# run idfs \n",
    "def run_idfs(group_path):\n",
    "    print(group_path)\n",
    "    sub_dirs = get_sub_dirs(group_path)\n",
    "    for sub_dir in sub_dirs:\n",
    "        dir = os.path.join(group_path, sub_dir)\n",
    "        print(sub_dir)\n",
    "        idf_path = os.path.join(dir, \"opt.idf\")\n",
    "        idf0 = IDF(idf_path, epw)\n",
    "        idf0.run(output_directory = dir, verbose=\"q\")\n",
    "\n",
    "\n",
    "def extract_data(group_path):\n",
    "    \"can execute after run_idfs to get the data\"\n",
    "    print(group_path)\n",
    "    vals = pd.read_csv(os.path.join(group_path, \"values.csv\"))\n",
    "    \n",
    "    sub_dir_keys = list(vals[\"Unnamed: 0\"])\n",
    "    sub_dirs = list(vals[\"1\"])\n",
    "    \n",
    "\n",
    "    sub_dir_data = OrderedDict()\n",
    "    for dir, key in zip(sub_dirs, sub_dir_keys):\n",
    "        # dir = os.path.join(group_path, sub_dir)\n",
    "\n",
    "        # energy \n",
    "        sql_path = os.path.join(dir, \"eplusout.sql\")\n",
    "        sqld = SQLiteResult(sql_path)\n",
    "\n",
    "        # costs \n",
    "        html_path = os.path.join(dir, \"eplustbl.htm\")\n",
    "        filehandle = open(html_path, 'r') # get a file handle to the html file\n",
    "        namedtable = fasthtml.tablebyname(filehandle, \"Tariff Summary\")\n",
    "        table_rows = namedtable[1]\n",
    "\n",
    "        data = OrderedDict({\n",
    "            # energy kwh \n",
    "            \"elect\": sqld.data_collections_by_output_name(\"Electricity:Facility\")[-1].total,\n",
    "            \"hot\": sqld.data_collections_by_output_name(\"DistrictHeating:Facility\")[-1].total,\n",
    "            \"chill\": sqld.data_collections_by_output_name(\"DistrictCooling:Facility\")[-1].total,\n",
    "            # costs $\n",
    "            \"elect_c\": [t for t in table_rows if t[0] == 'ELECTRICITY TARIFF'][0][-1],\n",
    "            \"hot_c\": [t for t in table_rows if t[0] == 'DISTRICTHEATING TARIFF'][0][-1],\n",
    "            \"chill_c\": [t for t in table_rows if t[0] == 'DISTRICTCOOLING TARIFF'][0][-1],\n",
    "        })\n",
    "        data[\"total\"] = data[\"elect\"] +  data[\"hot\"] +  data[\"chill\"] \n",
    "        data[\"total_c\"] = data[\"elect_c\"] +  data[\"hot_c\"] +  data[\"chill_c\"] \n",
    "\n",
    "        sub_dir_data[key] = data\n",
    "    \n",
    "    # dataframe with energy and cost data \n",
    "    df = pd.DataFrame.from_dict(sub_dir_data, orient=\"index\")\n",
    "\n",
    "\n",
    "\n",
    "    # add edited\n",
    "    dict_val =  OrderedDict()\n",
    "    for i, val, pc in zip(list(df.index), vals['0'], vals[\"Unnamed: 0\"]):\n",
    "        dict_val[i] = [val, pc]\n",
    "    df[\"vals\"] = [v[0] for v in dict_val.values()]\n",
    "    df[\"perc_change\"] = [v[1] for v in dict_val.values()]\n",
    "\n",
    "    # save as csv \n",
    "    df.to_csv(os.path.join(group_path, \"data.csv\"))\n",
    "    \n",
    "    # add the edited values \n",
    "    return df, vals\n"
   ]
  }
 ],
 "metadata": {
  "interpreter": {
   "hash": "83394fd6528936df3c1aec41a113e1e006dc45c8dc5352109b9d4b356eececd5"
  },
  "kernelspec": {
   "display_name": "Python 3.9.10 ('cee256venv': venv)",
   "language": "python",
   "name": "python3"
  },
  "language_info": {
   "codemirror_mode": {
    "name": "ipython",
    "version": 3
   },
   "file_extension": ".py",
   "mimetype": "text/x-python",
   "name": "python",
   "nbconvert_exporter": "python",
   "pygments_lexer": "ipython3",
   "version": "3.9.10"
  },
  "orig_nbformat": 4
 },
 "nbformat": 4,
 "nbformat_minor": 2
}
