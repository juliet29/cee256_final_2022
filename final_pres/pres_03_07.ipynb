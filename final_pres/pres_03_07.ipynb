{
 "cells": [
  {
   "cell_type": "code",
   "execution_count": 1,
   "metadata": {},
   "outputs": [],
   "source": [
    "import os\n",
    "\n",
    "from ladybug.sql import SQLiteResult\n",
    "from ladybug import analysisperiod as ap\n",
    "\n",
    "from eppy import *\n",
    "\n",
    "import plotly.graph_objects as go\n",
    "import plotly.express as px\n",
    "from plotly.subplots import make_subplots\n",
    "\n",
    "import pandas as pd\n",
    "\n",
    "import numpy as np\n",
    "\n",
    "from collections import OrderedDict\n",
    "\n",
    "import datetime as dt\n",
    "\n",
    "from IPython.display import display\n",
    "import kaleido\n",
    "\n"
   ]
  },
  {
   "cell_type": "code",
   "execution_count": 2,
   "metadata": {},
   "outputs": [
    {
     "data": {
      "text/plain": [
       "'/Users/julietnwagwuume-ezeoke/Documents/cee256_local/_final_project_local'"
      ]
     },
     "execution_count": 2,
     "metadata": {},
     "output_type": "execute_result"
    }
   ],
   "source": [
    "root = os.getcwd()\n",
    "root"
   ]
  },
  {
   "cell_type": "markdown",
   "metadata": {},
   "source": [
    "# SQL (Simulation) Analyis"
   ]
  },
  {
   "cell_type": "code",
   "execution_count": 3,
   "metadata": {},
   "outputs": [],
   "source": [
    "def calc_metrics(simulated, measured):\n",
    "    ts = simulated\n",
    "    tm = measured\n",
    "    tm_avg = np.mean(measured)\n",
    "    n = len(tm)\n",
    "    rmse = (100/tm_avg) * np.sqrt( (1/n) * np.sum((ts - tm)**2) )\n",
    "    mbe = (100/tm_avg) * (np.sum(ts - tm)/n)\n",
    "    return np.round(rmse,3), np.round(mbe,3)"
   ]
  },
  {
   "cell_type": "code",
   "execution_count": 4,
   "metadata": {},
   "outputs": [],
   "source": [
    "def monthly_by_hour_from_sql(sql_dir_name):\n",
    "    sqlFile = os.path.join(sql_dir_name, \"eplusout.sql\")\n",
    "    sqld = SQLiteResult(sqlFile)\n",
    "\n",
    "    elect = sqld.data_collections_by_output_name(\"Electricity:Facility\")[-1]\n",
    "    hot = sqld.data_collections_by_output_name(\"DistrictHeating:Facility\")[-1]\n",
    "    chill = sqld.data_collections_by_output_name(\"DistrictCooling:Facility\")[-1]\n",
    "\n",
    "    sim_month_by_hr = OrderedDict({\n",
    "    \"elect\": elect.average_monthly_per_hour(),\n",
    "    \"hot\": hot.average_monthly_per_hour(),\n",
    "    \"chill\": chill.average_monthly_per_hour()\n",
    "    })\n",
    "\n",
    "    sim_monthly= OrderedDict({\n",
    "    \"elect\": elect.total_monthly(),\n",
    "    \"hot\": hot.total_monthly(),\n",
    "    \"chill\": chill.total_monthly(),\n",
    "    })\n",
    "\n",
    "    return sim_month_by_hr, sim_monthly\n"
   ]
  },
  {
   "cell_type": "markdown",
   "metadata": {},
   "source": [
    "# Load and Convert Historical Data"
   ]
  },
  {
   "cell_type": "code",
   "execution_count": 5,
   "metadata": {},
   "outputs": [],
   "source": [
    "# conversion factors\n",
    "tonHr_kwHr = 3.5169 # 1 ton-hr = 3.517 kWh\n",
    "kbtu_kwHr = 1/3.412 # 1 kbtu = 0.29 kwHr\n",
    "\n",
    "# load data \n",
    "historical_data_path = os.path.join(root, \"data/Thornton Utilities 2019.xlsx\")\n",
    "\n",
    "# electricity # kwh \n",
    "hist_elect_hourly = pd.read_excel(historical_data_path, sheet_name=\"Electricity hourly\", usecols=\"A:E\")\n",
    "\n",
    "# chilled water  -> convert ton hours to kWh\n",
    "hist_chw_hourly = pd.read_excel(historical_data_path, sheet_name=\"CHW hourly\", usecols=\"A:E\")\n",
    "hist_chw_hourly[\"kWh\"] = hist_chw_hourly[\"ton-hours\"]*tonHr_kwHr\n",
    "\n",
    "# hot water -> convert kbtu to kWh\n",
    "hist_hw_hourly = pd.read_excel(historical_data_path, sheet_name=\"HW hourly\", usecols=\"A:E\")\n",
    "hist_hw_hourly[\"kWh\"] = hist_hw_hourly[\"kBtu\"]*kbtu_kwHr "
   ]
  },
  {
   "cell_type": "code",
   "execution_count": 6,
   "metadata": {},
   "outputs": [],
   "source": [
    "# month by hour\n",
    "hist_month_by_hr = OrderedDict({\n",
    "    \"elect\" : hist_elect_hourly.groupby([\"Month\", \"Hour\"])[\"kWh\"].mean(),\n",
    "    \"hot\": hist_hw_hourly.groupby([\"Month\", \"Hour\"])[\"kWh\"].mean(),\n",
    "    \"chill\": hist_chw_hourly.groupby([\"Month\", \"Hour\"])[\"kWh\"].mean(),\n",
    "})\n",
    "\n",
    "# monthly \n",
    "hist_monthly = OrderedDict({\n",
    "   \"elect\": hist_elect_hourly.groupby(\"Month\")[\"kWh\"].sum(),\n",
    "   \"hot\":  hist_hw_hourly.groupby(\"Month\")[\"kWh\"].sum(),\n",
    "   \"chill\":  hist_chw_hourly.groupby(\"Month\")[\"kWh\"].sum()\n",
    "})"
   ]
  },
  {
   "cell_type": "markdown",
   "metadata": {},
   "source": [
    "# Function Definition for Simulation Comparison"
   ]
  },
  {
   "cell_type": "markdown",
   "metadata": {},
   "source": [
    "### hourly"
   ]
  },
  {
   "cell_type": "code",
   "execution_count": 103,
   "metadata": {},
   "outputs": [],
   "source": [
    "hours = [dt.datetime(2019, 1, 1, i ).strftime(\"%H:%M\") for i in range(24)]\n",
    "\n",
    "def create_analysis_period(num):\n",
    "    return ap.AnalysisPeriod(st_month=num, end_month=num)\n",
    "\n",
    "def plot_datasets_monthly_by_hour(month_num, month_name):\n",
    "\n",
    "    month = create_analysis_period(month_num)\n",
    "    blueShades = px.colors.qualitative.Vivid[3:3+len(sim_data_hr.keys())]\n",
    "\n",
    "    fig = make_subplots(\n",
    "        rows=1, cols=3,\n",
    "        subplot_titles=(\"Electricity\", \"Hot Water\", \"Chilled Water\"))\n",
    "\n",
    "    # historical/ measured data \n",
    "    for (ix, value) in  enumerate(hist_month_by_hr.values()):\n",
    "        showLegend = True\n",
    "        if ix > 0:\n",
    "            showLegend = False\n",
    "        fig.add_trace(go.Scatter(  \n",
    "            x=hours,\n",
    "            y=value[month.st_month] , \n",
    "            mode='lines',\n",
    "            name=\"Historical\",\n",
    "            legendgroup=\"Months\",\n",
    "            line=dict(color='red'),\n",
    "            showlegend=showLegend),\n",
    "            row=1, col=ix+1)\n",
    "\n",
    "    \n",
    "    # simulated datasets \n",
    "    for (name, dataset), blueShade in zip(sim_data_hr.items(), blueShades):\n",
    "        for (ix, sim), hist in zip(enumerate(dataset.values()),hist_month_by_hr.values()) :\n",
    "            showLegend = True\n",
    "            if ix > 0:\n",
    "                showLegend = False\n",
    "            fig.add_trace(go.Scatter( \n",
    "                x=hours,\n",
    "                y=sim.filter_by_analysis_period(month).values , \n",
    "                mode='lines+markers',\n",
    "                name=name,\n",
    "                legendgroup=\"Months\",\n",
    "                line=dict(color=blueShade),\n",
    "                showlegend=showLegend),\n",
    "                row=1, col=ix+1)\n",
    "\n",
    "    fig.update_layout(title=f\"{month_name} Average Hourly Energy Usage\",\n",
    "        yaxis_title=\"Energy (kWh)\",)\n",
    "   \n",
    "   # calculate metrics \n",
    "    metrics = {}\n",
    "    for name, dataset in sim_data_hr.items():\n",
    "        type_dict = {}\n",
    "        for (k, sim), hist in zip(dataset.items(), hist_month_by_hr.values()):\n",
    "            type_dict[k] = calc_metrics(sim.filter_by_analysis_period(month).values, hist[month.st_month])\n",
    "        metrics[name] = type_dict\n",
    "    metrics = pd.DataFrame(metrics)\n",
    "    display(metrics)\n",
    "\n",
    "    fig.show()\n",
    "\n",
    "    return fig\n",
    "\n"
   ]
  },
  {
   "cell_type": "markdown",
   "metadata": {},
   "source": [
    "### monthly "
   ]
  },
  {
   "cell_type": "code",
   "execution_count": 83,
   "metadata": {},
   "outputs": [],
   "source": [
    "months = [dt.datetime(2019, i+1, 1).strftime(\"%b\") for i in range(12)]\n",
    "\n",
    "def plot_datasets_monthly():\n",
    "    blueShades = px.colors.qualitative.Vivid[:len(sim_data_hr.keys())]\n",
    "\n",
    "    fig = make_subplots(\n",
    "        rows=1, cols=3,\n",
    "        subplot_titles=(\"Electricity\", \"Hot Water\", \"Chilled Water\"))\n",
    "\n",
    "    # historical/ measured data \n",
    "    for (ix, value) in  enumerate(hist_monthly.values()):\n",
    "        showLegend = True\n",
    "        if ix > 0:\n",
    "            showLegend = False\n",
    "        fig.add_trace(go.Scatter(  \n",
    "            x=months,\n",
    "            y=value, \n",
    "            mode='lines',\n",
    "            name=\"Historical\",\n",
    "            legendgroup=\"Months\",\n",
    "            line=dict(color='red'),\n",
    "            showlegend=showLegend),\n",
    "            row=1, col=ix+1)\n",
    "\n",
    "    # simulated datasets \n",
    "    for (name, dataset), blueShade in zip(sim_data_month.items(), blueShades):\n",
    "        for (ix, sim), hist in zip(enumerate(dataset.values()),hist_monthly.values()) :\n",
    "            showLegend = True\n",
    "            if ix > 0:\n",
    "                showLegend = False\n",
    "            fig.add_trace(go.Scatter( \n",
    "                x=months,\n",
    "                y=sim.values , \n",
    "                mode='lines+markers',\n",
    "                name=name,\n",
    "                legendgroup=\"Months\",\n",
    "                line=dict(color=blueShade),\n",
    "                showlegend=showLegend),\n",
    "                row=1, col=ix+1)\n",
    "\n",
    "    fig.update_layout(title=f\"Monthly Total Energy Usage\",\n",
    "        yaxis_title=\"Energy (kWh)\",)\n",
    "   \n",
    "   # calculate metrics \n",
    "    metrics = {}\n",
    "    for name, dataset in sim_data_month.items():\n",
    "        type_dict = {}\n",
    "        for (k, sim), hist in zip(dataset.items(), hist_monthly.values()):\n",
    "            type_dict[k] = calc_metrics(sim.values, hist)\n",
    "        metrics[name] = type_dict\n",
    "\n",
    "    metrics_df = pd.DataFrame(metrics)\n",
    "    display(metrics_df)\n",
    "\n",
    "    fig.show()\n",
    "    return fig, metrics\n",
    "\n",
    "def saveImagePlotly(fig, fig_name):\n",
    "    fig_name_png = fig_name + \".png\"\n",
    "    fig_path = os.path.join(root, \"figs_final_pres_03_07\", fig_name_png )\n",
    "    fig.write_image(fig_path, format=\"png\", engine=\"kaleido\",  width=600, height=350, scale=2)\n",
    "\n",
    "\n",
    "def pretty_metrics(metrics, fig_name):\n",
    "    rmse = {}\n",
    "    mbe = {}\n",
    "    for model in metrics.values():\n",
    "        rmse = {k: v[0] for k,v in model.items() }\n",
    "        mbe = {k: v[1] for k,v in model.items() }\n",
    "        split_metrics = pd.DataFrame([rmse, mbe])\n",
    "        split_metrics.columns = [\"Electricity\", \"Hot Water\", \"Chilled Water\"]\n",
    "        split_metrics[\"Metric\"] = [\"RMSE\", \"MBE\"]\n",
    "        # print(split_metrics)\n",
    "        cols = [list(split_metrics.columns)[i] for i in [3,0,1,2]]\n",
    "    \n",
    "        fig = go.Figure(data=[go.Table(\n",
    "        header=dict(values=cols,\n",
    "                    # fill_color='paleturquoise',\n",
    "                    align='left'),\n",
    "        cells=dict(values=[split_metrics[\"Metric\"], split_metrics[\"Electricity\"], split_metrics[\"Hot Water\"], split_metrics[\"Chilled Water\"]],\n",
    "                #    fill_color='lavender',\n",
    "                   align='left'))\n",
    "        ])\n",
    "\n",
    "        fig.update_layout(\n",
    "        {\"plot_bgcolor\": \"rgba(0, 0, 0, 0)\",\n",
    "        \"paper_bgcolor\":\"rgba(0, 0, 0, 0)\",\n",
    "        }, width=600,\n",
    "        )\n",
    "    saveImagePlotly(fig, fig_name)\n",
    "    fig.show()"
   ]
  },
  {
   "cell_type": "markdown",
   "metadata": {},
   "source": [
    "# Load SQL Files"
   ]
  },
  {
   "cell_type": "code",
   "execution_count": 116,
   "metadata": {},
   "outputs": [],
   "source": [
    "# new_dir_name = os.path.join(adjusted_model_dir, \"03-02_02-Hourly-Meter\")\n",
    "sim_names = {\n",
    "        \"Model 0\": \"final_pres_2_25\",\n",
    "        \"Model 1\": \"final_pres_3_2\",\n",
    "        \"Model 2\": \"final_pres_3_3\",\n",
    "        \"Model 3\": \"final_pres_3_6\"\n",
    "\n",
    "}\n",
    "\n",
    "adjusted_model_dir = os.path.join(root, \"eppy_adjusted_models\")\n",
    "sim_name_paths = {k: os.path.join(adjusted_model_dir, v) for k,v in sim_names.items()}\n",
    "\n",
    "sim_data_hr = OrderedDict()\n",
    "sim_data_month = OrderedDict()\n",
    "\n",
    "for k, v in zip(sim_names.keys(), sim_name_paths.values()):\n",
    "    sim_data_hr[k] = monthly_by_hour_from_sql(v)[0]\n",
    "    sim_data_month[k] = monthly_by_hour_from_sql(v)[1]\n",
    "\n"
   ]
  },
  {
   "cell_type": "markdown",
   "metadata": {},
   "source": [
    "# Comparison of Annual Trends "
   ]
  },
  {
   "cell_type": "code",
   "execution_count": 117,
   "metadata": {},
   "outputs": [
    {
     "data": {
      "text/html": [
       "<div>\n",
       "<style scoped>\n",
       "    .dataframe tbody tr th:only-of-type {\n",
       "        vertical-align: middle;\n",
       "    }\n",
       "\n",
       "    .dataframe tbody tr th {\n",
       "        vertical-align: top;\n",
       "    }\n",
       "\n",
       "    .dataframe thead th {\n",
       "        text-align: right;\n",
       "    }\n",
       "</style>\n",
       "<table border=\"1\" class=\"dataframe\">\n",
       "  <thead>\n",
       "    <tr style=\"text-align: right;\">\n",
       "      <th></th>\n",
       "      <th>Model 0</th>\n",
       "      <th>Model 1</th>\n",
       "      <th>Model 2</th>\n",
       "      <th>Model 3</th>\n",
       "    </tr>\n",
       "  </thead>\n",
       "  <tbody>\n",
       "    <tr>\n",
       "      <th>elect</th>\n",
       "      <td>(25.543, 23.059)</td>\n",
       "      <td>(54.948, -53.987)</td>\n",
       "      <td>(41.964, -40.69)</td>\n",
       "      <td>(34.158, -32.478)</td>\n",
       "    </tr>\n",
       "    <tr>\n",
       "      <th>hot</th>\n",
       "      <td>(90.977, -79.78)</td>\n",
       "      <td>(83.017, -72.608)</td>\n",
       "      <td>(79.961, -69.692)</td>\n",
       "      <td>(84.888, -74.878)</td>\n",
       "    </tr>\n",
       "    <tr>\n",
       "      <th>chill</th>\n",
       "      <td>(166.736, 150.104)</td>\n",
       "      <td>(29.353, 14.816)</td>\n",
       "      <td>(66.133, 47.678)</td>\n",
       "      <td>(68.056, 51.115)</td>\n",
       "    </tr>\n",
       "  </tbody>\n",
       "</table>\n",
       "</div>"
      ],
      "text/plain": [
       "                  Model 0            Model 1            Model 2  \\\n",
       "elect    (25.543, 23.059)  (54.948, -53.987)   (41.964, -40.69)   \n",
       "hot      (90.977, -79.78)  (83.017, -72.608)  (79.961, -69.692)   \n",
       "chill  (166.736, 150.104)   (29.353, 14.816)   (66.133, 47.678)   \n",
       "\n",
       "                 Model 3  \n",
       "elect  (34.158, -32.478)  \n",
       "hot    (84.888, -74.878)  \n",
       "chill   (68.056, 51.115)  "
      ]
     },
     "metadata": {},
     "output_type": "display_data"
    },
    {
     "data": {
      "application/vnd.plotly.v1+json": {
       "config": {
        "plotlyServerURL": "https://plot.ly"
       },
       "data": [
        {
         "legendgroup": "Months",
         "line": {
          "color": "red"
         },
         "mode": "lines",
         "name": "Historical",
         "showlegend": true,
         "type": "scatter",
         "x": [
          "Jan",
          "Feb",
          "Mar",
          "Apr",
          "May",
          "Jun",
          "Jul",
          "Aug",
          "Sep",
          "Oct",
          "Nov",
          "Dec"
         ],
         "xaxis": "x",
         "y": [
          13804.135548988,
          13485.947478456,
          12435.215617035,
          12475.169092449,
          15076.189886713,
          11582.749312731,
          11381.135282711,
          11519.249652601,
          11531.941250453,
          14825.819485343,
          13932.567953833,
          11533.748425710999
         ],
         "yaxis": "y"
        },
        {
         "legendgroup": "Months",
         "line": {
          "color": "red"
         },
         "mode": "lines",
         "name": "Historical",
         "showlegend": false,
         "type": "scatter",
         "x": [
          "Jan",
          "Feb",
          "Mar",
          "Apr",
          "May",
          "Jun",
          "Jul",
          "Aug",
          "Sep",
          "Oct",
          "Nov",
          "Dec"
         ],
         "xaxis": "x2",
         "y": [
          9563.77965172128,
          11205.16886436108,
          10021.888756073346,
          5739.921387760478,
          8015.7717564493705,
          2812.879286768464,
          1998.9934268026086,
          1290.168084198344,
          1966.378451074663,
          4721.300881587632,
          7453.441033456184,
          10536.379511077228
         ],
         "yaxis": "y2"
        },
        {
         "legendgroup": "Months",
         "line": {
          "color": "red"
         },
         "mode": "lines",
         "name": "Historical",
         "showlegend": false,
         "type": "scatter",
         "x": [
          "Jan",
          "Feb",
          "Mar",
          "Apr",
          "May",
          "Jun",
          "Jul",
          "Aug",
          "Sep",
          "Oct",
          "Nov",
          "Dec"
         ],
         "xaxis": "x3",
         "y": [
          1308.771521681986,
          517.9163517552686,
          798.217789308849,
          3495.4945632151275,
          3561.494405341774,
          9626.23899465311,
          9910.249118331416,
          10605.817253261896,
          9655.609547633616,
          5663.642200932546,
          1766.7863219353267,
          365.59828070736137
         ],
         "yaxis": "y3"
        },
        {
         "legendgroup": "Months",
         "line": {
          "color": "rgb(229, 134, 6)"
         },
         "mode": "lines+markers",
         "name": "Model 0",
         "showlegend": true,
         "type": "scatter",
         "x": [
          "Jan",
          "Feb",
          "Mar",
          "Apr",
          "May",
          "Jun",
          "Jul",
          "Aug",
          "Sep",
          "Oct",
          "Nov",
          "Dec"
         ],
         "xaxis": "x",
         "y": [
          15879.95322297969,
          14381.798661805056,
          16252.125543919998,
          15072.302915562044,
          16296.713295370168,
          15832.624199026583,
          15796.64455992681,
          16531.791296205367,
          15632.805191364652,
          16087.025532256659,
          15675.157626986911,
          15559.653587132401
         ],
         "yaxis": "y"
        },
        {
         "legendgroup": "Months",
         "line": {
          "color": "rgb(229, 134, 6)"
         },
         "mode": "lines+markers",
         "name": "Model 0",
         "showlegend": false,
         "type": "scatter",
         "x": [
          "Jan",
          "Feb",
          "Mar",
          "Apr",
          "May",
          "Jun",
          "Jul",
          "Aug",
          "Sep",
          "Oct",
          "Nov",
          "Dec"
         ],
         "xaxis": "x2",
         "y": [
          2300.521919122391,
          2717.5757360733337,
          1664.2990472401846,
          826.1361317453998,
          838.3586224253485,
          380.8956573029047,
          408.61223305883345,
          348.400591982977,
          424.196344950847,
          768.223555411654,
          2048.2583963614275,
          2505.367546506318
         ],
         "yaxis": "y2"
        },
        {
         "legendgroup": "Months",
         "line": {
          "color": "rgb(229, 134, 6)"
         },
         "mode": "lines+markers",
         "name": "Model 0",
         "showlegend": false,
         "type": "scatter",
         "x": [
          "Jan",
          "Feb",
          "Mar",
          "Apr",
          "May",
          "Jun",
          "Jul",
          "Aug",
          "Sep",
          "Oct",
          "Nov",
          "Dec"
         ],
         "xaxis": "x3",
         "y": [
          5422.2459245570435,
          2997.311453465042,
          5895.409630523999,
          10202.48283970646,
          9412.216350990886,
          19441.486388988025,
          20126.81923749391,
          25605.410484290802,
          20565.6013311269,
          12551.417123308172,
          6255.782840308009,
          4772.981582305784
         ],
         "yaxis": "y3"
        },
        {
         "legendgroup": "Months",
         "line": {
          "color": "rgb(93, 105, 177)"
         },
         "mode": "lines+markers",
         "name": "Model 1",
         "showlegend": true,
         "type": "scatter",
         "x": [
          "Jan",
          "Feb",
          "Mar",
          "Apr",
          "May",
          "Jun",
          "Jul",
          "Aug",
          "Sep",
          "Oct",
          "Nov",
          "Dec"
         ],
         "xaxis": "x",
         "y": [
          6065.984230240048,
          5370.215814563833,
          5807.158498728604,
          5872.714186194806,
          6093.367331933187,
          5679.87727205677,
          6164.47565454076,
          6079.55450266561,
          5785.190304694843,
          6112.722395715618,
          5729.444883328669,
          5907.824159086766
         ],
         "yaxis": "y"
        },
        {
         "legendgroup": "Months",
         "line": {
          "color": "rgb(93, 105, 177)"
         },
         "mode": "lines+markers",
         "name": "Model 1",
         "showlegend": false,
         "type": "scatter",
         "x": [
          "Jan",
          "Feb",
          "Mar",
          "Apr",
          "May",
          "Jun",
          "Jul",
          "Aug",
          "Sep",
          "Oct",
          "Nov",
          "Dec"
         ],
         "xaxis": "x2",
         "y": [
          3093.7343140580106,
          3589.9175810649263,
          2259.796350148765,
          1071.968480679274,
          971.8778469972533,
          451.02847782345157,
          494.95113321453874,
          522.1498583377683,
          611.0612471735474,
          1232.1217161387472,
          3040.553084463666,
          3294.443358666726
         ],
         "yaxis": "y2"
        },
        {
         "legendgroup": "Months",
         "line": {
          "color": "rgb(93, 105, 177)"
         },
         "mode": "lines+markers",
         "name": "Model 1",
         "showlegend": false,
         "type": "scatter",
         "x": [
          "Jan",
          "Feb",
          "Mar",
          "Apr",
          "May",
          "Jun",
          "Jul",
          "Aug",
          "Sep",
          "Oct",
          "Nov",
          "Dec"
         ],
         "xaxis": "x3",
         "y": [
          1066.5280183923066,
          269.71630929568005,
          1293.2249641123053,
          4344.001610288424,
          3441.92217924931,
          10862.7610245389,
          11169.699087185018,
          14731.769079597045,
          11012.711171828672,
          5236.630565742637,
          1498.2454661917,
          834.7803023634137
         ],
         "yaxis": "y3"
        },
        {
         "legendgroup": "Months",
         "line": {
          "color": "rgb(82, 188, 163)"
         },
         "mode": "lines+markers",
         "name": "Model 2",
         "showlegend": true,
         "type": "scatter",
         "x": [
          "Jan",
          "Feb",
          "Mar",
          "Apr",
          "May",
          "Jun",
          "Jul",
          "Aug",
          "Sep",
          "Oct",
          "Nov",
          "Dec"
         ],
         "xaxis": "x",
         "y": [
          7827.764967704672,
          6916.640770702316,
          7467.019541353013,
          7578.252128698805,
          7868.174375354041,
          7305.648911931266,
          7959.32978096948,
          7842.933389943997,
          7449.938234466693,
          7891.607583741759,
          7378.525155248788,
          7605.359508296121
         ],
         "yaxis": "y"
        },
        {
         "legendgroup": "Months",
         "line": {
          "color": "rgb(82, 188, 163)"
         },
         "mode": "lines+markers",
         "name": "Model 2",
         "showlegend": false,
         "type": "scatter",
         "x": [
          "Jan",
          "Feb",
          "Mar",
          "Apr",
          "May",
          "Jun",
          "Jul",
          "Aug",
          "Sep",
          "Oct",
          "Nov",
          "Dec"
         ],
         "xaxis": "x2",
         "y": [
          3368.932270421352,
          3910.1581404023705,
          2514.5611516886092,
          1201.948486743494,
          1067.333666817209,
          531.9583487090183,
          582.3562229238621,
          614.0966209971001,
          702.6600017167846,
          1392.921608995476,
          3367.457239420317,
          3575.312336684072
         ],
         "yaxis": "y2"
        },
        {
         "legendgroup": "Months",
         "line": {
          "color": "rgb(82, 188, 163)"
         },
         "mode": "lines+markers",
         "name": "Model 2",
         "showlegend": false,
         "type": "scatter",
         "x": [
          "Jan",
          "Feb",
          "Mar",
          "Apr",
          "May",
          "Jun",
          "Jul",
          "Aug",
          "Sep",
          "Oct",
          "Nov",
          "Dec"
         ],
         "xaxis": "x3",
         "y": [
          1717.925736336768,
          567.789537357986,
          1971.4051977828906,
          5771.189970126347,
          4745.039612407512,
          13276.840799697247,
          14157.666007168067,
          18404.331766328694,
          13792.454437732322,
          6617.700513237948,
          2158.2804934487103,
          1402.9605103652837
         ],
         "yaxis": "y3"
        },
        {
         "legendgroup": "Months",
         "line": {
          "color": "rgb(153, 201, 69)"
         },
         "mode": "lines+markers",
         "name": "Model 3",
         "showlegend": true,
         "type": "scatter",
         "x": [
          "Jan",
          "Feb",
          "Mar",
          "Apr",
          "May",
          "Jun",
          "Jul",
          "Aug",
          "Sep",
          "Oct",
          "Nov",
          "Dec"
         ],
         "xaxis": "x",
         "y": [
          8841.202115263975,
          7807.586915240723,
          8472.949840595933,
          8616.790811310782,
          8942.457271834855,
          8418.348492103949,
          9097.069909901926,
          9017.925297358968,
          8556.0891497601,
          8981.029216930041,
          8352.364685319912,
          8598.519185028385
         ],
         "yaxis": "y"
        },
        {
         "legendgroup": "Months",
         "line": {
          "color": "rgb(153, 201, 69)"
         },
         "mode": "lines+markers",
         "name": "Model 3",
         "showlegend": false,
         "type": "scatter",
         "x": [
          "Jan",
          "Feb",
          "Mar",
          "Apr",
          "May",
          "Jun",
          "Jul",
          "Aug",
          "Sep",
          "Oct",
          "Nov",
          "Dec"
         ],
         "xaxis": "x2",
         "y": [
          2871.0293188482647,
          3303.2554730711236,
          2256.852438808626,
          1013.3566953832382,
          927.4182772678373,
          300.29171456993805,
          290.614191426822,
          302.99776965116985,
          468.6946321247221,
          1177.463104840042,
          2853.6029602452813,
          3157.7206115599856
         ],
         "yaxis": "y2"
        },
        {
         "legendgroup": "Months",
         "line": {
          "color": "rgb(153, 201, 69)"
         },
         "mode": "lines+markers",
         "name": "Model 3",
         "showlegend": false,
         "type": "scatter",
         "x": [
          "Jan",
          "Feb",
          "Mar",
          "Apr",
          "May",
          "Jun",
          "Jul",
          "Aug",
          "Sep",
          "Oct",
          "Nov",
          "Dec"
         ],
         "xaxis": "x3",
         "y": [
          1792.7141054687133,
          637.6669354685713,
          2094.227992087764,
          6094.480698686093,
          5162.42324377246,
          13252.19233818179,
          14775.89511859655,
          18141.879504900015,
          14000.34598480809,
          6820.544753856212,
          2285.288787851519,
          1494.7838351304358
         ],
         "yaxis": "y3"
        }
       ],
       "layout": {
        "annotations": [
         {
          "font": {
           "size": 16
          },
          "showarrow": false,
          "text": "Electricity",
          "x": 0.14444444444444446,
          "xanchor": "center",
          "xref": "paper",
          "y": 1,
          "yanchor": "bottom",
          "yref": "paper"
         },
         {
          "font": {
           "size": 16
          },
          "showarrow": false,
          "text": "Hot Water",
          "x": 0.5,
          "xanchor": "center",
          "xref": "paper",
          "y": 1,
          "yanchor": "bottom",
          "yref": "paper"
         },
         {
          "font": {
           "size": 16
          },
          "showarrow": false,
          "text": "Chilled Water",
          "x": 0.8555555555555556,
          "xanchor": "center",
          "xref": "paper",
          "y": 1,
          "yanchor": "bottom",
          "yref": "paper"
         }
        ],
        "template": {
         "data": {
          "bar": [
           {
            "error_x": {
             "color": "#2a3f5f"
            },
            "error_y": {
             "color": "#2a3f5f"
            },
            "marker": {
             "line": {
              "color": "#E5ECF6",
              "width": 0.5
             },
             "pattern": {
              "fillmode": "overlay",
              "size": 10,
              "solidity": 0.2
             }
            },
            "type": "bar"
           }
          ],
          "barpolar": [
           {
            "marker": {
             "line": {
              "color": "#E5ECF6",
              "width": 0.5
             },
             "pattern": {
              "fillmode": "overlay",
              "size": 10,
              "solidity": 0.2
             }
            },
            "type": "barpolar"
           }
          ],
          "carpet": [
           {
            "aaxis": {
             "endlinecolor": "#2a3f5f",
             "gridcolor": "white",
             "linecolor": "white",
             "minorgridcolor": "white",
             "startlinecolor": "#2a3f5f"
            },
            "baxis": {
             "endlinecolor": "#2a3f5f",
             "gridcolor": "white",
             "linecolor": "white",
             "minorgridcolor": "white",
             "startlinecolor": "#2a3f5f"
            },
            "type": "carpet"
           }
          ],
          "choropleth": [
           {
            "colorbar": {
             "outlinewidth": 0,
             "ticks": ""
            },
            "type": "choropleth"
           }
          ],
          "contour": [
           {
            "colorbar": {
             "outlinewidth": 0,
             "ticks": ""
            },
            "colorscale": [
             [
              0,
              "#0d0887"
             ],
             [
              0.1111111111111111,
              "#46039f"
             ],
             [
              0.2222222222222222,
              "#7201a8"
             ],
             [
              0.3333333333333333,
              "#9c179e"
             ],
             [
              0.4444444444444444,
              "#bd3786"
             ],
             [
              0.5555555555555556,
              "#d8576b"
             ],
             [
              0.6666666666666666,
              "#ed7953"
             ],
             [
              0.7777777777777778,
              "#fb9f3a"
             ],
             [
              0.8888888888888888,
              "#fdca26"
             ],
             [
              1,
              "#f0f921"
             ]
            ],
            "type": "contour"
           }
          ],
          "contourcarpet": [
           {
            "colorbar": {
             "outlinewidth": 0,
             "ticks": ""
            },
            "type": "contourcarpet"
           }
          ],
          "heatmap": [
           {
            "colorbar": {
             "outlinewidth": 0,
             "ticks": ""
            },
            "colorscale": [
             [
              0,
              "#0d0887"
             ],
             [
              0.1111111111111111,
              "#46039f"
             ],
             [
              0.2222222222222222,
              "#7201a8"
             ],
             [
              0.3333333333333333,
              "#9c179e"
             ],
             [
              0.4444444444444444,
              "#bd3786"
             ],
             [
              0.5555555555555556,
              "#d8576b"
             ],
             [
              0.6666666666666666,
              "#ed7953"
             ],
             [
              0.7777777777777778,
              "#fb9f3a"
             ],
             [
              0.8888888888888888,
              "#fdca26"
             ],
             [
              1,
              "#f0f921"
             ]
            ],
            "type": "heatmap"
           }
          ],
          "heatmapgl": [
           {
            "colorbar": {
             "outlinewidth": 0,
             "ticks": ""
            },
            "colorscale": [
             [
              0,
              "#0d0887"
             ],
             [
              0.1111111111111111,
              "#46039f"
             ],
             [
              0.2222222222222222,
              "#7201a8"
             ],
             [
              0.3333333333333333,
              "#9c179e"
             ],
             [
              0.4444444444444444,
              "#bd3786"
             ],
             [
              0.5555555555555556,
              "#d8576b"
             ],
             [
              0.6666666666666666,
              "#ed7953"
             ],
             [
              0.7777777777777778,
              "#fb9f3a"
             ],
             [
              0.8888888888888888,
              "#fdca26"
             ],
             [
              1,
              "#f0f921"
             ]
            ],
            "type": "heatmapgl"
           }
          ],
          "histogram": [
           {
            "marker": {
             "pattern": {
              "fillmode": "overlay",
              "size": 10,
              "solidity": 0.2
             }
            },
            "type": "histogram"
           }
          ],
          "histogram2d": [
           {
            "colorbar": {
             "outlinewidth": 0,
             "ticks": ""
            },
            "colorscale": [
             [
              0,
              "#0d0887"
             ],
             [
              0.1111111111111111,
              "#46039f"
             ],
             [
              0.2222222222222222,
              "#7201a8"
             ],
             [
              0.3333333333333333,
              "#9c179e"
             ],
             [
              0.4444444444444444,
              "#bd3786"
             ],
             [
              0.5555555555555556,
              "#d8576b"
             ],
             [
              0.6666666666666666,
              "#ed7953"
             ],
             [
              0.7777777777777778,
              "#fb9f3a"
             ],
             [
              0.8888888888888888,
              "#fdca26"
             ],
             [
              1,
              "#f0f921"
             ]
            ],
            "type": "histogram2d"
           }
          ],
          "histogram2dcontour": [
           {
            "colorbar": {
             "outlinewidth": 0,
             "ticks": ""
            },
            "colorscale": [
             [
              0,
              "#0d0887"
             ],
             [
              0.1111111111111111,
              "#46039f"
             ],
             [
              0.2222222222222222,
              "#7201a8"
             ],
             [
              0.3333333333333333,
              "#9c179e"
             ],
             [
              0.4444444444444444,
              "#bd3786"
             ],
             [
              0.5555555555555556,
              "#d8576b"
             ],
             [
              0.6666666666666666,
              "#ed7953"
             ],
             [
              0.7777777777777778,
              "#fb9f3a"
             ],
             [
              0.8888888888888888,
              "#fdca26"
             ],
             [
              1,
              "#f0f921"
             ]
            ],
            "type": "histogram2dcontour"
           }
          ],
          "mesh3d": [
           {
            "colorbar": {
             "outlinewidth": 0,
             "ticks": ""
            },
            "type": "mesh3d"
           }
          ],
          "parcoords": [
           {
            "line": {
             "colorbar": {
              "outlinewidth": 0,
              "ticks": ""
             }
            },
            "type": "parcoords"
           }
          ],
          "pie": [
           {
            "automargin": true,
            "type": "pie"
           }
          ],
          "scatter": [
           {
            "marker": {
             "colorbar": {
              "outlinewidth": 0,
              "ticks": ""
             }
            },
            "type": "scatter"
           }
          ],
          "scatter3d": [
           {
            "line": {
             "colorbar": {
              "outlinewidth": 0,
              "ticks": ""
             }
            },
            "marker": {
             "colorbar": {
              "outlinewidth": 0,
              "ticks": ""
             }
            },
            "type": "scatter3d"
           }
          ],
          "scattercarpet": [
           {
            "marker": {
             "colorbar": {
              "outlinewidth": 0,
              "ticks": ""
             }
            },
            "type": "scattercarpet"
           }
          ],
          "scattergeo": [
           {
            "marker": {
             "colorbar": {
              "outlinewidth": 0,
              "ticks": ""
             }
            },
            "type": "scattergeo"
           }
          ],
          "scattergl": [
           {
            "marker": {
             "colorbar": {
              "outlinewidth": 0,
              "ticks": ""
             }
            },
            "type": "scattergl"
           }
          ],
          "scattermapbox": [
           {
            "marker": {
             "colorbar": {
              "outlinewidth": 0,
              "ticks": ""
             }
            },
            "type": "scattermapbox"
           }
          ],
          "scatterpolar": [
           {
            "marker": {
             "colorbar": {
              "outlinewidth": 0,
              "ticks": ""
             }
            },
            "type": "scatterpolar"
           }
          ],
          "scatterpolargl": [
           {
            "marker": {
             "colorbar": {
              "outlinewidth": 0,
              "ticks": ""
             }
            },
            "type": "scatterpolargl"
           }
          ],
          "scatterternary": [
           {
            "marker": {
             "colorbar": {
              "outlinewidth": 0,
              "ticks": ""
             }
            },
            "type": "scatterternary"
           }
          ],
          "surface": [
           {
            "colorbar": {
             "outlinewidth": 0,
             "ticks": ""
            },
            "colorscale": [
             [
              0,
              "#0d0887"
             ],
             [
              0.1111111111111111,
              "#46039f"
             ],
             [
              0.2222222222222222,
              "#7201a8"
             ],
             [
              0.3333333333333333,
              "#9c179e"
             ],
             [
              0.4444444444444444,
              "#bd3786"
             ],
             [
              0.5555555555555556,
              "#d8576b"
             ],
             [
              0.6666666666666666,
              "#ed7953"
             ],
             [
              0.7777777777777778,
              "#fb9f3a"
             ],
             [
              0.8888888888888888,
              "#fdca26"
             ],
             [
              1,
              "#f0f921"
             ]
            ],
            "type": "surface"
           }
          ],
          "table": [
           {
            "cells": {
             "fill": {
              "color": "#EBF0F8"
             },
             "line": {
              "color": "white"
             }
            },
            "header": {
             "fill": {
              "color": "#C8D4E3"
             },
             "line": {
              "color": "white"
             }
            },
            "type": "table"
           }
          ]
         },
         "layout": {
          "annotationdefaults": {
           "arrowcolor": "#2a3f5f",
           "arrowhead": 0,
           "arrowwidth": 1
          },
          "autotypenumbers": "strict",
          "coloraxis": {
           "colorbar": {
            "outlinewidth": 0,
            "ticks": ""
           }
          },
          "colorscale": {
           "diverging": [
            [
             0,
             "#8e0152"
            ],
            [
             0.1,
             "#c51b7d"
            ],
            [
             0.2,
             "#de77ae"
            ],
            [
             0.3,
             "#f1b6da"
            ],
            [
             0.4,
             "#fde0ef"
            ],
            [
             0.5,
             "#f7f7f7"
            ],
            [
             0.6,
             "#e6f5d0"
            ],
            [
             0.7,
             "#b8e186"
            ],
            [
             0.8,
             "#7fbc41"
            ],
            [
             0.9,
             "#4d9221"
            ],
            [
             1,
             "#276419"
            ]
           ],
           "sequential": [
            [
             0,
             "#0d0887"
            ],
            [
             0.1111111111111111,
             "#46039f"
            ],
            [
             0.2222222222222222,
             "#7201a8"
            ],
            [
             0.3333333333333333,
             "#9c179e"
            ],
            [
             0.4444444444444444,
             "#bd3786"
            ],
            [
             0.5555555555555556,
             "#d8576b"
            ],
            [
             0.6666666666666666,
             "#ed7953"
            ],
            [
             0.7777777777777778,
             "#fb9f3a"
            ],
            [
             0.8888888888888888,
             "#fdca26"
            ],
            [
             1,
             "#f0f921"
            ]
           ],
           "sequentialminus": [
            [
             0,
             "#0d0887"
            ],
            [
             0.1111111111111111,
             "#46039f"
            ],
            [
             0.2222222222222222,
             "#7201a8"
            ],
            [
             0.3333333333333333,
             "#9c179e"
            ],
            [
             0.4444444444444444,
             "#bd3786"
            ],
            [
             0.5555555555555556,
             "#d8576b"
            ],
            [
             0.6666666666666666,
             "#ed7953"
            ],
            [
             0.7777777777777778,
             "#fb9f3a"
            ],
            [
             0.8888888888888888,
             "#fdca26"
            ],
            [
             1,
             "#f0f921"
            ]
           ]
          },
          "colorway": [
           "#636efa",
           "#EF553B",
           "#00cc96",
           "#ab63fa",
           "#FFA15A",
           "#19d3f3",
           "#FF6692",
           "#B6E880",
           "#FF97FF",
           "#FECB52"
          ],
          "font": {
           "color": "#2a3f5f"
          },
          "geo": {
           "bgcolor": "white",
           "lakecolor": "white",
           "landcolor": "#E5ECF6",
           "showlakes": true,
           "showland": true,
           "subunitcolor": "white"
          },
          "hoverlabel": {
           "align": "left"
          },
          "hovermode": "closest",
          "mapbox": {
           "style": "light"
          },
          "paper_bgcolor": "white",
          "plot_bgcolor": "#E5ECF6",
          "polar": {
           "angularaxis": {
            "gridcolor": "white",
            "linecolor": "white",
            "ticks": ""
           },
           "bgcolor": "#E5ECF6",
           "radialaxis": {
            "gridcolor": "white",
            "linecolor": "white",
            "ticks": ""
           }
          },
          "scene": {
           "xaxis": {
            "backgroundcolor": "#E5ECF6",
            "gridcolor": "white",
            "gridwidth": 2,
            "linecolor": "white",
            "showbackground": true,
            "ticks": "",
            "zerolinecolor": "white"
           },
           "yaxis": {
            "backgroundcolor": "#E5ECF6",
            "gridcolor": "white",
            "gridwidth": 2,
            "linecolor": "white",
            "showbackground": true,
            "ticks": "",
            "zerolinecolor": "white"
           },
           "zaxis": {
            "backgroundcolor": "#E5ECF6",
            "gridcolor": "white",
            "gridwidth": 2,
            "linecolor": "white",
            "showbackground": true,
            "ticks": "",
            "zerolinecolor": "white"
           }
          },
          "shapedefaults": {
           "line": {
            "color": "#2a3f5f"
           }
          },
          "ternary": {
           "aaxis": {
            "gridcolor": "white",
            "linecolor": "white",
            "ticks": ""
           },
           "baxis": {
            "gridcolor": "white",
            "linecolor": "white",
            "ticks": ""
           },
           "bgcolor": "#E5ECF6",
           "caxis": {
            "gridcolor": "white",
            "linecolor": "white",
            "ticks": ""
           }
          },
          "title": {
           "x": 0.05
          },
          "xaxis": {
           "automargin": true,
           "gridcolor": "white",
           "linecolor": "white",
           "ticks": "",
           "title": {
            "standoff": 15
           },
           "zerolinecolor": "white",
           "zerolinewidth": 2
          },
          "yaxis": {
           "automargin": true,
           "gridcolor": "white",
           "linecolor": "white",
           "ticks": "",
           "title": {
            "standoff": 15
           },
           "zerolinecolor": "white",
           "zerolinewidth": 2
          }
         }
        },
        "title": {
         "text": "Monthly Total Energy Usage"
        },
        "xaxis": {
         "anchor": "y",
         "domain": [
          0,
          0.2888888888888889
         ]
        },
        "xaxis2": {
         "anchor": "y2",
         "domain": [
          0.35555555555555557,
          0.6444444444444445
         ]
        },
        "xaxis3": {
         "anchor": "y3",
         "domain": [
          0.7111111111111111,
          1
         ]
        },
        "yaxis": {
         "anchor": "x",
         "domain": [
          0,
          1
         ],
         "title": {
          "text": "Energy (kWh)"
         }
        },
        "yaxis2": {
         "anchor": "x2",
         "domain": [
          0,
          1
         ]
        },
        "yaxis3": {
         "anchor": "x3",
         "domain": [
          0,
          1
         ]
        }
       }
      }
     },
     "metadata": {},
     "output_type": "display_data"
    },
    {
     "data": {
      "application/vnd.plotly.v1+json": {
       "config": {
        "plotlyServerURL": "https://plot.ly"
       },
       "data": [
        {
         "cells": {
          "align": "left",
          "values": [
           [
            "RMSE",
            "MBE"
           ],
           [
            34.158,
            -32.478
           ],
           [
            84.888,
            -74.878
           ],
           [
            68.056,
            51.115
           ]
          ]
         },
         "header": {
          "align": "left",
          "values": [
           "Metric",
           "Electricity",
           "Hot Water",
           "Chilled Water"
          ]
         },
         "type": "table"
        }
       ],
       "layout": {
        "paper_bgcolor": "rgba(0, 0, 0, 0)",
        "plot_bgcolor": "rgba(0, 0, 0, 0)",
        "template": {
         "data": {
          "bar": [
           {
            "error_x": {
             "color": "#2a3f5f"
            },
            "error_y": {
             "color": "#2a3f5f"
            },
            "marker": {
             "line": {
              "color": "#E5ECF6",
              "width": 0.5
             },
             "pattern": {
              "fillmode": "overlay",
              "size": 10,
              "solidity": 0.2
             }
            },
            "type": "bar"
           }
          ],
          "barpolar": [
           {
            "marker": {
             "line": {
              "color": "#E5ECF6",
              "width": 0.5
             },
             "pattern": {
              "fillmode": "overlay",
              "size": 10,
              "solidity": 0.2
             }
            },
            "type": "barpolar"
           }
          ],
          "carpet": [
           {
            "aaxis": {
             "endlinecolor": "#2a3f5f",
             "gridcolor": "white",
             "linecolor": "white",
             "minorgridcolor": "white",
             "startlinecolor": "#2a3f5f"
            },
            "baxis": {
             "endlinecolor": "#2a3f5f",
             "gridcolor": "white",
             "linecolor": "white",
             "minorgridcolor": "white",
             "startlinecolor": "#2a3f5f"
            },
            "type": "carpet"
           }
          ],
          "choropleth": [
           {
            "colorbar": {
             "outlinewidth": 0,
             "ticks": ""
            },
            "type": "choropleth"
           }
          ],
          "contour": [
           {
            "colorbar": {
             "outlinewidth": 0,
             "ticks": ""
            },
            "colorscale": [
             [
              0,
              "#0d0887"
             ],
             [
              0.1111111111111111,
              "#46039f"
             ],
             [
              0.2222222222222222,
              "#7201a8"
             ],
             [
              0.3333333333333333,
              "#9c179e"
             ],
             [
              0.4444444444444444,
              "#bd3786"
             ],
             [
              0.5555555555555556,
              "#d8576b"
             ],
             [
              0.6666666666666666,
              "#ed7953"
             ],
             [
              0.7777777777777778,
              "#fb9f3a"
             ],
             [
              0.8888888888888888,
              "#fdca26"
             ],
             [
              1,
              "#f0f921"
             ]
            ],
            "type": "contour"
           }
          ],
          "contourcarpet": [
           {
            "colorbar": {
             "outlinewidth": 0,
             "ticks": ""
            },
            "type": "contourcarpet"
           }
          ],
          "heatmap": [
           {
            "colorbar": {
             "outlinewidth": 0,
             "ticks": ""
            },
            "colorscale": [
             [
              0,
              "#0d0887"
             ],
             [
              0.1111111111111111,
              "#46039f"
             ],
             [
              0.2222222222222222,
              "#7201a8"
             ],
             [
              0.3333333333333333,
              "#9c179e"
             ],
             [
              0.4444444444444444,
              "#bd3786"
             ],
             [
              0.5555555555555556,
              "#d8576b"
             ],
             [
              0.6666666666666666,
              "#ed7953"
             ],
             [
              0.7777777777777778,
              "#fb9f3a"
             ],
             [
              0.8888888888888888,
              "#fdca26"
             ],
             [
              1,
              "#f0f921"
             ]
            ],
            "type": "heatmap"
           }
          ],
          "heatmapgl": [
           {
            "colorbar": {
             "outlinewidth": 0,
             "ticks": ""
            },
            "colorscale": [
             [
              0,
              "#0d0887"
             ],
             [
              0.1111111111111111,
              "#46039f"
             ],
             [
              0.2222222222222222,
              "#7201a8"
             ],
             [
              0.3333333333333333,
              "#9c179e"
             ],
             [
              0.4444444444444444,
              "#bd3786"
             ],
             [
              0.5555555555555556,
              "#d8576b"
             ],
             [
              0.6666666666666666,
              "#ed7953"
             ],
             [
              0.7777777777777778,
              "#fb9f3a"
             ],
             [
              0.8888888888888888,
              "#fdca26"
             ],
             [
              1,
              "#f0f921"
             ]
            ],
            "type": "heatmapgl"
           }
          ],
          "histogram": [
           {
            "marker": {
             "pattern": {
              "fillmode": "overlay",
              "size": 10,
              "solidity": 0.2
             }
            },
            "type": "histogram"
           }
          ],
          "histogram2d": [
           {
            "colorbar": {
             "outlinewidth": 0,
             "ticks": ""
            },
            "colorscale": [
             [
              0,
              "#0d0887"
             ],
             [
              0.1111111111111111,
              "#46039f"
             ],
             [
              0.2222222222222222,
              "#7201a8"
             ],
             [
              0.3333333333333333,
              "#9c179e"
             ],
             [
              0.4444444444444444,
              "#bd3786"
             ],
             [
              0.5555555555555556,
              "#d8576b"
             ],
             [
              0.6666666666666666,
              "#ed7953"
             ],
             [
              0.7777777777777778,
              "#fb9f3a"
             ],
             [
              0.8888888888888888,
              "#fdca26"
             ],
             [
              1,
              "#f0f921"
             ]
            ],
            "type": "histogram2d"
           }
          ],
          "histogram2dcontour": [
           {
            "colorbar": {
             "outlinewidth": 0,
             "ticks": ""
            },
            "colorscale": [
             [
              0,
              "#0d0887"
             ],
             [
              0.1111111111111111,
              "#46039f"
             ],
             [
              0.2222222222222222,
              "#7201a8"
             ],
             [
              0.3333333333333333,
              "#9c179e"
             ],
             [
              0.4444444444444444,
              "#bd3786"
             ],
             [
              0.5555555555555556,
              "#d8576b"
             ],
             [
              0.6666666666666666,
              "#ed7953"
             ],
             [
              0.7777777777777778,
              "#fb9f3a"
             ],
             [
              0.8888888888888888,
              "#fdca26"
             ],
             [
              1,
              "#f0f921"
             ]
            ],
            "type": "histogram2dcontour"
           }
          ],
          "mesh3d": [
           {
            "colorbar": {
             "outlinewidth": 0,
             "ticks": ""
            },
            "type": "mesh3d"
           }
          ],
          "parcoords": [
           {
            "line": {
             "colorbar": {
              "outlinewidth": 0,
              "ticks": ""
             }
            },
            "type": "parcoords"
           }
          ],
          "pie": [
           {
            "automargin": true,
            "type": "pie"
           }
          ],
          "scatter": [
           {
            "marker": {
             "colorbar": {
              "outlinewidth": 0,
              "ticks": ""
             }
            },
            "type": "scatter"
           }
          ],
          "scatter3d": [
           {
            "line": {
             "colorbar": {
              "outlinewidth": 0,
              "ticks": ""
             }
            },
            "marker": {
             "colorbar": {
              "outlinewidth": 0,
              "ticks": ""
             }
            },
            "type": "scatter3d"
           }
          ],
          "scattercarpet": [
           {
            "marker": {
             "colorbar": {
              "outlinewidth": 0,
              "ticks": ""
             }
            },
            "type": "scattercarpet"
           }
          ],
          "scattergeo": [
           {
            "marker": {
             "colorbar": {
              "outlinewidth": 0,
              "ticks": ""
             }
            },
            "type": "scattergeo"
           }
          ],
          "scattergl": [
           {
            "marker": {
             "colorbar": {
              "outlinewidth": 0,
              "ticks": ""
             }
            },
            "type": "scattergl"
           }
          ],
          "scattermapbox": [
           {
            "marker": {
             "colorbar": {
              "outlinewidth": 0,
              "ticks": ""
             }
            },
            "type": "scattermapbox"
           }
          ],
          "scatterpolar": [
           {
            "marker": {
             "colorbar": {
              "outlinewidth": 0,
              "ticks": ""
             }
            },
            "type": "scatterpolar"
           }
          ],
          "scatterpolargl": [
           {
            "marker": {
             "colorbar": {
              "outlinewidth": 0,
              "ticks": ""
             }
            },
            "type": "scatterpolargl"
           }
          ],
          "scatterternary": [
           {
            "marker": {
             "colorbar": {
              "outlinewidth": 0,
              "ticks": ""
             }
            },
            "type": "scatterternary"
           }
          ],
          "surface": [
           {
            "colorbar": {
             "outlinewidth": 0,
             "ticks": ""
            },
            "colorscale": [
             [
              0,
              "#0d0887"
             ],
             [
              0.1111111111111111,
              "#46039f"
             ],
             [
              0.2222222222222222,
              "#7201a8"
             ],
             [
              0.3333333333333333,
              "#9c179e"
             ],
             [
              0.4444444444444444,
              "#bd3786"
             ],
             [
              0.5555555555555556,
              "#d8576b"
             ],
             [
              0.6666666666666666,
              "#ed7953"
             ],
             [
              0.7777777777777778,
              "#fb9f3a"
             ],
             [
              0.8888888888888888,
              "#fdca26"
             ],
             [
              1,
              "#f0f921"
             ]
            ],
            "type": "surface"
           }
          ],
          "table": [
           {
            "cells": {
             "fill": {
              "color": "#EBF0F8"
             },
             "line": {
              "color": "white"
             }
            },
            "header": {
             "fill": {
              "color": "#C8D4E3"
             },
             "line": {
              "color": "white"
             }
            },
            "type": "table"
           }
          ]
         },
         "layout": {
          "annotationdefaults": {
           "arrowcolor": "#2a3f5f",
           "arrowhead": 0,
           "arrowwidth": 1
          },
          "autotypenumbers": "strict",
          "coloraxis": {
           "colorbar": {
            "outlinewidth": 0,
            "ticks": ""
           }
          },
          "colorscale": {
           "diverging": [
            [
             0,
             "#8e0152"
            ],
            [
             0.1,
             "#c51b7d"
            ],
            [
             0.2,
             "#de77ae"
            ],
            [
             0.3,
             "#f1b6da"
            ],
            [
             0.4,
             "#fde0ef"
            ],
            [
             0.5,
             "#f7f7f7"
            ],
            [
             0.6,
             "#e6f5d0"
            ],
            [
             0.7,
             "#b8e186"
            ],
            [
             0.8,
             "#7fbc41"
            ],
            [
             0.9,
             "#4d9221"
            ],
            [
             1,
             "#276419"
            ]
           ],
           "sequential": [
            [
             0,
             "#0d0887"
            ],
            [
             0.1111111111111111,
             "#46039f"
            ],
            [
             0.2222222222222222,
             "#7201a8"
            ],
            [
             0.3333333333333333,
             "#9c179e"
            ],
            [
             0.4444444444444444,
             "#bd3786"
            ],
            [
             0.5555555555555556,
             "#d8576b"
            ],
            [
             0.6666666666666666,
             "#ed7953"
            ],
            [
             0.7777777777777778,
             "#fb9f3a"
            ],
            [
             0.8888888888888888,
             "#fdca26"
            ],
            [
             1,
             "#f0f921"
            ]
           ],
           "sequentialminus": [
            [
             0,
             "#0d0887"
            ],
            [
             0.1111111111111111,
             "#46039f"
            ],
            [
             0.2222222222222222,
             "#7201a8"
            ],
            [
             0.3333333333333333,
             "#9c179e"
            ],
            [
             0.4444444444444444,
             "#bd3786"
            ],
            [
             0.5555555555555556,
             "#d8576b"
            ],
            [
             0.6666666666666666,
             "#ed7953"
            ],
            [
             0.7777777777777778,
             "#fb9f3a"
            ],
            [
             0.8888888888888888,
             "#fdca26"
            ],
            [
             1,
             "#f0f921"
            ]
           ]
          },
          "colorway": [
           "#636efa",
           "#EF553B",
           "#00cc96",
           "#ab63fa",
           "#FFA15A",
           "#19d3f3",
           "#FF6692",
           "#B6E880",
           "#FF97FF",
           "#FECB52"
          ],
          "font": {
           "color": "#2a3f5f"
          },
          "geo": {
           "bgcolor": "white",
           "lakecolor": "white",
           "landcolor": "#E5ECF6",
           "showlakes": true,
           "showland": true,
           "subunitcolor": "white"
          },
          "hoverlabel": {
           "align": "left"
          },
          "hovermode": "closest",
          "mapbox": {
           "style": "light"
          },
          "paper_bgcolor": "white",
          "plot_bgcolor": "#E5ECF6",
          "polar": {
           "angularaxis": {
            "gridcolor": "white",
            "linecolor": "white",
            "ticks": ""
           },
           "bgcolor": "#E5ECF6",
           "radialaxis": {
            "gridcolor": "white",
            "linecolor": "white",
            "ticks": ""
           }
          },
          "scene": {
           "xaxis": {
            "backgroundcolor": "#E5ECF6",
            "gridcolor": "white",
            "gridwidth": 2,
            "linecolor": "white",
            "showbackground": true,
            "ticks": "",
            "zerolinecolor": "white"
           },
           "yaxis": {
            "backgroundcolor": "#E5ECF6",
            "gridcolor": "white",
            "gridwidth": 2,
            "linecolor": "white",
            "showbackground": true,
            "ticks": "",
            "zerolinecolor": "white"
           },
           "zaxis": {
            "backgroundcolor": "#E5ECF6",
            "gridcolor": "white",
            "gridwidth": 2,
            "linecolor": "white",
            "showbackground": true,
            "ticks": "",
            "zerolinecolor": "white"
           }
          },
          "shapedefaults": {
           "line": {
            "color": "#2a3f5f"
           }
          },
          "ternary": {
           "aaxis": {
            "gridcolor": "white",
            "linecolor": "white",
            "ticks": ""
           },
           "baxis": {
            "gridcolor": "white",
            "linecolor": "white",
            "ticks": ""
           },
           "bgcolor": "#E5ECF6",
           "caxis": {
            "gridcolor": "white",
            "linecolor": "white",
            "ticks": ""
           }
          },
          "title": {
           "x": 0.05
          },
          "xaxis": {
           "automargin": true,
           "gridcolor": "white",
           "linecolor": "white",
           "ticks": "",
           "title": {
            "standoff": 15
           },
           "zerolinecolor": "white",
           "zerolinewidth": 2
          },
          "yaxis": {
           "automargin": true,
           "gridcolor": "white",
           "linecolor": "white",
           "ticks": "",
           "title": {
            "standoff": 15
           },
           "zerolinecolor": "white",
           "zerolinewidth": 2
          }
         }
        },
        "width": 600
       }
      }
     },
     "metadata": {},
     "output_type": "display_data"
    }
   ],
   "source": [
    "fig, metrics = plot_datasets_monthly()\n",
    "model_num = 3\n",
    "saveImagePlotly(fig, f\"model{model_num}_monthly_e\")\n",
    "\n",
    "pretty_metrics(metrics, f\"model{model_num}_metrics\" )"
   ]
  },
  {
   "cell_type": "markdown",
   "metadata": {},
   "source": [
    "# Comparison of Hourly Trends"
   ]
  },
  {
   "cell_type": "code",
   "execution_count": 118,
   "metadata": {},
   "outputs": [],
   "source": [
    "# fig = plot_datasets_monthly_by_hour(1, \"Jan\")\n",
    "# saveImagePlotly(fig, f\"model3_hourly_e_jan\")\n",
    "# fig = plot_datasets_monthly_by_hour(6, \"June\")\n",
    "# saveImagePlotly(fig, f\"model3_hourly_e_june\")"
   ]
  }
 ],
 "metadata": {
  "interpreter": {
   "hash": "83394fd6528936df3c1aec41a113e1e006dc45c8dc5352109b9d4b356eececd5"
  },
  "kernelspec": {
   "display_name": "Python 3.9.10 ('cee256venv': venv)",
   "language": "python",
   "name": "python3"
  },
  "language_info": {
   "codemirror_mode": {
    "name": "ipython",
    "version": 3
   },
   "file_extension": ".py",
   "mimetype": "text/x-python",
   "name": "python",
   "nbconvert_exporter": "python",
   "pygments_lexer": "ipython3",
   "version": "3.9.10"
  },
  "orig_nbformat": 4
 },
 "nbformat": 4,
 "nbformat_minor": 2
}
