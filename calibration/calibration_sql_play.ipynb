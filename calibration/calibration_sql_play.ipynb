{
 "cells": [
  {
   "cell_type": "code",
   "execution_count": 21,
   "metadata": {},
   "outputs": [],
   "source": [
    "import os\n",
    "\n",
    "from ladybug.sql import SQLiteResult\n",
    "\n",
    "from eppy import *\n",
    "from eppy.modeleditor import IDF\n",
    "from eppy.results import readhtml\n",
    "from eppy.results import fasthtml\n",
    "\n",
    "\n",
    "import pickle\n",
    "\n",
    "import plotly.graph_objects as go\n",
    "import plotly.express as px\n",
    "\n",
    "import pandas as pd\n",
    "\n",
    "import pprint\n",
    "\n",
    "import numpy as np\n",
    "\n",
    "\n",
    "from ladybug import analysisperiod as ap\n",
    "\n",
    "import datetime as dt\n",
    "import json\n",
    "from plotly.subplots import make_subplots\n",
    "from collections import OrderedDict\n"
   ]
  },
  {
   "cell_type": "code",
   "execution_count": 3,
   "metadata": {},
   "outputs": [
    {
     "data": {
      "text/plain": [
       "'/Users/julietnwagwuume-ezeoke/My Drive/CEE256_BuildSys/final_256/Data/Calibration/group_models/Final_project_3-6-2022_EH6'"
      ]
     },
     "execution_count": 3,
     "metadata": {},
     "output_type": "execute_result"
    }
   ],
   "source": [
    "root = os.getcwd()\n",
    "shared_drive_root = \"/Users/julietnwagwuume-ezeoke/My Drive/CEE256_BuildSys/final_256/Data/Calibration/group_models\"\n",
    "model_dir = os.path.join(shared_drive_root, \"Final_project_3-6-2022_EH6\")\n",
    "model_dir\n"
   ]
  },
  {
   "cell_type": "markdown",
   "metadata": {},
   "source": [
    "# Adjust IDF"
   ]
  },
  {
   "cell_type": "code",
   "execution_count": 4,
   "metadata": {},
   "outputs": [],
   "source": [
    "# # make a new dir for the output\n",
    "adjusted_model_dir = os.path.join(root, \"eppy_adjusted_models_2\")\n",
    "## NEED TO CHANGE THE LAST STRING TO CREATE NEW FOLDER!!!\n",
    "new_dir_name = os.path.join(adjusted_model_dir, \"final_pres_03_06_new_vars_3\")\n"
   ]
  },
  {
   "cell_type": "code",
   "execution_count": 4,
   "metadata": {},
   "outputs": [
    {
     "name": "stdout",
     "output_type": "stream",
     "text": [
      "[]\n"
     ]
    }
   ],
   "source": [
    "# set the idd\n",
    "iddfile = \"/Applications/OpenStudioApplication-1.1.1/EnergyPlus/Energy+.idd\"\n",
    "IDF.setiddname(iddfile)\n",
    "\n",
    "# get the idf \n",
    "idfPath = os.path.join(model_dir, \"in.idf\")\n",
    "epw = \"/Users/julietnwagwuume-ezeoke/Documents/cee256_local/weather_files/CA_PALO-ALTO-AP_724937S_19.epw\"\n",
    "idf0 = IDF(idfPath, epw)\n",
    "\n",
    "intVarsPath = os.path.join(root, \"intVars\")\n",
    "with open(intVarsPath, \"rb\") as f:\n",
    "    intVars = pickle.load(f)\n",
    "intVars\n",
    "\n",
    "# update the outputs with interesting variables \n",
    "currVars = [var.Variable_Name for var in idf0.idfobjects[\"Output:Variable\"]]\n",
    "for var in intVars:\n",
    "    if var not in currVars:\n",
    "        newObj = idf0.newidfobject(\"Output:Variable\", Key_Value='', Variable_Name=var)\n",
    "\n",
    "# change all reporting frequency\n",
    "allVars = [var for var in idf0.idfobjects[\"Output:Variable\"]]\n",
    "for var in allVars:\n",
    "    var.Reporting_Frequency = \"Hourly\"\n",
    "\n",
    "allVars = [var for var in idf0.idfobjects[\"Output:Meter\"]]\n",
    "for var in allVars:\n",
    "    var.Reporting_Frequency = \"Monthly\"\n",
    "\n",
    "# change the run period\n",
    "runPeriod = idf0.idfobjects[\"RunPeriod\"][0]\n",
    "runPeriod.Begin_Month = 1 \n",
    "runPeriod.Begin_Day_of_Month = 1\n",
    "runPeriod.End_Month = 12\n",
    "runPeriod.End_Day_of_Month = 31\n",
    "\n",
    "# remove extraneous electricity:facility terms \n",
    "# for some reason openstudio adds three of them which confuses\n",
    "# the program that reads sql\n",
    "extra_elect = [var for var in idf0.idfobjects[\"Output:Meter:MeterFileOnly\"]]\n",
    "extra_elect\n",
    "\n",
    "\n",
    "for e in extra_elect:\n",
    "  idf0.removeidfobject(e)\n",
    "check = [var for var in idf0.idfobjects[\"Output:Meter:MeterFileOnly\"]]\n",
    "# should see a blank array showing these were removed\n",
    "print(check)\n",
    "\n"
   ]
  },
  {
   "cell_type": "code",
   "execution_count": 10,
   "metadata": {},
   "outputs": [],
   "source": [
    "# os.makedirs(new_dir_name)\n",
    "\n",
    "# # save the updated idf there\n",
    "# idf0.save(os.path.join(new_dir_name, \"in2.idf\"))\n",
    "\n",
    "# # run the idf \n",
    "# idf0.run(output_directory=new_dir_name)"
   ]
  },
  {
   "cell_type": "markdown",
   "metadata": {},
   "source": [
    "# Simulation Analyis"
   ]
  },
  {
   "cell_type": "markdown",
   "metadata": {},
   "source": [
    "## Load html "
   ]
  },
  {
   "cell_type": "code",
   "execution_count": 12,
   "metadata": {},
   "outputs": [
    {
     "name": "stdout",
     "output_type": "stream",
     "text": [
      "['Tariff Summary',\n",
      " [['',\n",
      "   'Selected',\n",
      "   'Qualified',\n",
      "   'Meter',\n",
      "   'Buy or Sell',\n",
      "   'Group',\n",
      "   'Annual Cost ($)'],\n",
      "  ['ELECTRICITY TARIFF',\n",
      "   'Yes',\n",
      "   'Yes',\n",
      "   'ELECTRICITYPURCHASED:FACILITY',\n",
      "   'Buy',\n",
      "   '(none)',\n",
      "   19107.05],\n",
      "  ['GAS TARIFF', 'Yes', 'Yes', 'NATURALGAS:FACILITY', 'Buy', '(none)', 0.0],\n",
      "  ['WATER TARIFF', 'No', 'Yes', 'WATER:FACILITY', 'Buy', '(none)', 0.0],\n",
      "  ['DISTRICTHEATING TARIFF',\n",
      "   'Yes',\n",
      "   'Yes',\n",
      "   'DISTRICTHEATING:FACILITY',\n",
      "   'Buy',\n",
      "   '(none)',\n",
      "   2580.64],\n",
      "  ['DISTRICTCOOLING TARIFF',\n",
      "   'Yes',\n",
      "   'Yes',\n",
      "   'DISTRICTCOOLING:FACILITY',\n",
      "   'Buy',\n",
      "   '(none)',\n",
      "   10333.85]]]\n"
     ]
    }
   ],
   "source": [
    "html_path = os.path.join(new_dir_name, \"eplustbl.htm\")\n",
    "filehandle = open(html_path, 'r') # get a file handle to the html file\n",
    "namedtable = fasthtml.tablebyname(filehandle, \"Tariff Summary\")\n",
    "pp = pprint.PrettyPrinter()\n",
    "pp.pprint(namedtable)\n"
   ]
  },
  {
   "cell_type": "code",
   "execution_count": 22,
   "metadata": {},
   "outputs": [
    {
     "data": {
      "text/plain": [
       "OrderedDict([('elect', 19107.05),\n",
       "             ('hot', 2580.64),\n",
       "             ('chill', 10333.85),\n",
       "             ('total', 32021.54)])"
      ]
     },
     "execution_count": 22,
     "metadata": {},
     "output_type": "execute_result"
    }
   ],
   "source": [
    "table_rows = namedtable[1]\n",
    "\n",
    "costs = OrderedDict({\n",
    "    \"elect\": [t for t in table_rows if t[0] == 'ELECTRICITY TARIFF'][0][-1],\n",
    "    \"hot\": [t for t in table_rows if t[0] == 'DISTRICTHEATING TARIFF'][0][-1],\n",
    "    \"chill\": [t for t in table_rows if t[0] == 'DISTRICTCOOLING TARIFF'][0][-1],\n",
    "})\n",
    "costs[\"total\"] = costs[\"elect\"] +  costs[\"hot\"] +  costs[\"chill\"] \n",
    "costs"
   ]
  },
  {
   "cell_type": "code",
   "execution_count": null,
   "metadata": {},
   "outputs": [],
   "source": [
    "namedtable = fasthtml.tablebyname(filehandle, \"Tariff Summary\")\n",
    "pp = pprint.PrettyPrinter()\n",
    "pp.pprint(namedtable)"
   ]
  },
  {
   "cell_type": "markdown",
   "metadata": {},
   "source": [
    "## Load SQL File"
   ]
  },
  {
   "cell_type": "code",
   "execution_count": 5,
   "metadata": {},
   "outputs": [
    {
     "data": {
      "text/plain": [
       "{'Zone People Total Heating Rate': {'name': 'Zone People Total Heating Rate',\n",
       "  'units': 'W',\n",
       "  'data_type': Power},\n",
       " 'Zone Windows Total Heat Gain Energy': {'name': 'Zone Windows Total Heat Gain Energy',\n",
       "  'units': 'kWh',\n",
       "  'data_type': Energy},\n",
       " 'Surface Window Heat Gain Energy': {'name': 'Surface Window Heat Gain Energy',\n",
       "  'units': 'kWh',\n",
       "  'data_type': Energy},\n",
       " 'Heating Coil Heating Energy': {'name': 'Heating Coil Heating Energy',\n",
       "  'units': 'kWh',\n",
       "  'data_type': Energy},\n",
       " 'Zone Air Terminal Outdoor Air Volume Flow Rate': {'name': 'Zone Air Terminal Outdoor Air Volume Flow Rate',\n",
       "  'units': 'm3/s',\n",
       "  'data_type': Volume Flow Rate},\n",
       " 'DistrictHeating:Facility': {'name': 'DistrictHeating:Facility',\n",
       "  'units': 'kWh',\n",
       "  'data_type': Energy},\n",
       " 'Electricity:Facility': {'name': 'Electricity:Facility',\n",
       "  'units': 'kWh',\n",
       "  'data_type': Energy},\n",
       " 'Zone Operative Temperature': {'name': 'Zone Operative Temperature',\n",
       "  'units': 'C',\n",
       "  'data_type': Temperature},\n",
       " 'District Heating Hot Water Rate': {'name': 'District Heating Hot Water Rate',\n",
       "  'units': 'W',\n",
       "  'data_type': Power},\n",
       " 'Zone Infiltration Total Heat Gain Energy': {'name': 'Zone Infiltration Total Heat Gain Energy',\n",
       "  'units': 'kWh',\n",
       "  'data_type': Energy},\n",
       " 'Heating Coil Heating Rate': {'name': 'Heating Coil Heating Rate',\n",
       "  'units': 'W',\n",
       "  'data_type': Power},\n",
       " 'Zone Windows Total Heat Loss Energy': {'name': 'Zone Windows Total Heat Loss Energy',\n",
       "  'units': 'kWh',\n",
       "  'data_type': Energy},\n",
       " 'DistrictCooling:Facility': {'name': 'DistrictCooling:Facility',\n",
       "  'units': 'kWh',\n",
       "  'data_type': Energy},\n",
       " 'Surface Window Heat Loss Energy': {'name': 'Surface Window Heat Loss Energy',\n",
       "  'units': 'kWh',\n",
       "  'data_type': Energy},\n",
       " 'District Cooling Chilled Water Energy': {'name': 'District Cooling Chilled Water Energy',\n",
       "  'units': 'kWh',\n",
       "  'data_type': Energy},\n",
       " 'District Heating Hot Water Energy': {'name': 'District Heating Hot Water Energy',\n",
       "  'units': 'kWh',\n",
       "  'data_type': Energy},\n",
       " 'Zone Air Temperature': {'name': 'Zone Air Temperature',\n",
       "  'units': 'C',\n",
       "  'data_type': Temperature},\n",
       " 'Zone Air Heat Balance Surface Convection Rate': {'name': 'Zone Air Heat Balance Surface Convection Rate',\n",
       "  'units': 'W',\n",
       "  'data_type': Power},\n",
       " 'Surface Heat Storage Energy': {'name': 'Surface Heat Storage Energy',\n",
       "  'units': 'kWh',\n",
       "  'data_type': Energy},\n",
       " 'Zone Air Relative Humidity': {'name': 'Zone Air Relative Humidity',\n",
       "  'units': '%',\n",
       "  'data_type': Fraction},\n",
       " 'Zone People Total Heating Energy': {'name': 'Zone People Total Heating Energy',\n",
       "  'units': 'kWh',\n",
       "  'data_type': Energy},\n",
       " 'Zone Electric Equipment Total Heating Rate': {'name': 'Zone Electric Equipment Total Heating Rate',\n",
       "  'units': 'W',\n",
       "  'data_type': Power},\n",
       " 'Zone Air Terminal VAV Damper Position': {'name': 'Zone Air Terminal VAV Damper Position',\n",
       "  'units': 'fraction',\n",
       "  'data_type': Fraction},\n",
       " 'Zone Total Internal Total Heating Rate': {'name': 'Zone Total Internal Total Heating Rate',\n",
       "  'units': 'W',\n",
       "  'data_type': Power},\n",
       " 'Zone Windows Total Transmitted Solar Radiation Energy': {'name': 'Zone Windows Total Transmitted Solar Radiation Energy',\n",
       "  'units': 'kWh',\n",
       "  'data_type': Energy},\n",
       " 'Site Outdoor Air Drybulb Temperature': {'name': 'Site Outdoor Air Drybulb Temperature',\n",
       "  'units': 'C',\n",
       "  'data_type': Temperature},\n",
       " 'Zone Lights Total Heating Rate': {'name': 'Zone Lights Total Heating Rate',\n",
       "  'units': 'W',\n",
       "  'data_type': Power},\n",
       " 'Zone Mean Air Temperature': {'name': 'Zone Mean Air Temperature',\n",
       "  'units': 'C',\n",
       "  'data_type': Temperature},\n",
       " 'District Cooling Chilled Water Rate': {'name': 'District Cooling Chilled Water Rate',\n",
       "  'units': 'W',\n",
       "  'data_type': Power},\n",
       " 'Surface Window Heat Gain Rate': {'name': 'Surface Window Heat Gain Rate',\n",
       "  'units': 'W',\n",
       "  'data_type': Power},\n",
       " 'Surface Average Face Conduction Heat Transfer Energy': {'name': 'Surface Average Face Conduction Heat Transfer Energy',\n",
       "  'units': 'kWh',\n",
       "  'data_type': Energy},\n",
       " 'Zone Mean Radiant Temperature': {'name': 'Zone Mean Radiant Temperature',\n",
       "  'units': 'C',\n",
       "  'data_type': Temperature},\n",
       " 'Zone Air Terminal Minimum Air Flow Fraction': {'name': 'Zone Air Terminal Minimum Air Flow Fraction',\n",
       "  'units': 'fraction',\n",
       "  'data_type': Fraction}}"
      ]
     },
     "execution_count": 5,
     "metadata": {},
     "output_type": "execute_result"
    }
   ],
   "source": [
    "# access the sql file \n",
    "sqlFile = os.path.join(new_dir_name, \"eplusout.sql\")\n",
    "sqld = SQLiteResult(sqlFile)\n",
    "sql_outputs_info_0 = sqld.available_outputs_info\n",
    "sql_outputs_info = {item[\"output_name\"]: {\"name\": item[\"output_name\"], \"units\": item[\"units\"], \"data_type\": item[\"data_type\"]} for item in sql_outputs_info_0 }\n",
    "sql_outputs_info\n"
   ]
  },
  {
   "cell_type": "code",
   "execution_count": 9,
   "metadata": {},
   "outputs": [
    {
     "data": {
      "text/plain": [
       "18907.775536645266"
      ]
     },
     "execution_count": 9,
     "metadata": {},
     "output_type": "execute_result"
    }
   ],
   "source": [
    "heating_collection = sqld.data_collections_by_output_name(\"DistrictHeating:Facility\")[-1]\n",
    "heating_collection.total"
   ]
  },
  {
   "cell_type": "code",
   "execution_count": null,
   "metadata": {},
   "outputs": [],
   "source": []
  },
  {
   "cell_type": "code",
   "execution_count": null,
   "metadata": {},
   "outputs": [],
   "source": [
    "hours = [dt.datetime(2019, 1, 1, i ).strftime(\"%H:%M\") for i in range(24)]\n"
   ]
  },
  {
   "cell_type": "code",
   "execution_count": null,
   "metadata": {},
   "outputs": [],
   "source": [
    "def month_by_hour_zonal_plot(data_name, month_num):\n",
    "    zone_data = sqld.data_collections_by_output_name_run_period(data_name, 7)\n",
    "    zonal_data  = {ix: value.average_monthly_per_hour() for ix, value in enumerate(zone_data)}\n",
    "\n",
    "    month = ap.AnalysisPeriod(st_month=month_num, end_month=month_num)\n",
    "\n",
    "    data_type = sql_outputs_info[data_name][\"data_type\"]\n",
    "    units = sql_outputs_info[data_name][\"units\"]\n",
    "\n",
    "    fig = go.Figure()\n",
    "\n",
    "    for k, v in zonal_data.items():\n",
    "            fig.add_trace(\n",
    "                go.Scatter(x=hours, y=v.filter_by_analysis_period(month).values, mode='lines+markers', marker_size=25-5*(k+1), name=f\"Zone {k+1}\")\n",
    "            )\n",
    "\n",
    "    fig.update_layout(\n",
    "        title=f\"{data_name} Month #{month_num}\",\n",
    "        xaxis_title=\"Hours\",\n",
    "        yaxis_title=f\"{data_type} [{units}]\",\n",
    "    )\n",
    "    fig.show()"
   ]
  },
  {
   "cell_type": "code",
   "execution_count": null,
   "metadata": {},
   "outputs": [],
   "source": [
    "sql_outputs_info\n"
   ]
  },
  {
   "cell_type": "markdown",
   "metadata": {},
   "source": [
    "## Plots"
   ]
  },
  {
   "cell_type": "code",
   "execution_count": null,
   "metadata": {},
   "outputs": [
    {
     "data": {
      "application/vnd.plotly.v1+json": {
       "config": {
        "plotlyServerURL": "https://plot.ly"
       },
       "data": [
        {
         "marker": {
          "size": 20
         },
         "mode": "lines+markers",
         "name": "Zone 1",
         "type": "scatter",
         "x": [
          "00:00",
          "01:00",
          "02:00",
          "03:00",
          "04:00",
          "05:00",
          "06:00",
          "07:00",
          "08:00",
          "09:00",
          "10:00",
          "11:00",
          "12:00",
          "13:00",
          "14:00",
          "15:00",
          "16:00",
          "17:00",
          "18:00",
          "19:00",
          "20:00",
          "21:00",
          "22:00",
          "23:00"
         ],
         "y": [
          0,
          0,
          0,
          0,
          0,
          0,
          0,
          0,
          0,
          0,
          0,
          0,
          0,
          0,
          0,
          0,
          0,
          0,
          0,
          0,
          0,
          0,
          0,
          0
         ]
        },
        {
         "marker": {
          "size": 15
         },
         "mode": "lines+markers",
         "name": "Zone 2",
         "type": "scatter",
         "x": [
          "00:00",
          "01:00",
          "02:00",
          "03:00",
          "04:00",
          "05:00",
          "06:00",
          "07:00",
          "08:00",
          "09:00",
          "10:00",
          "11:00",
          "12:00",
          "13:00",
          "14:00",
          "15:00",
          "16:00",
          "17:00",
          "18:00",
          "19:00",
          "20:00",
          "21:00",
          "22:00",
          "23:00"
         ],
         "y": [
          0,
          0,
          0,
          0,
          0,
          0,
          0,
          0,
          0,
          0,
          0,
          0,
          0,
          0,
          0,
          0,
          0,
          0,
          0,
          0,
          0,
          0,
          0,
          0
         ]
        },
        {
         "marker": {
          "size": 10
         },
         "mode": "lines+markers",
         "name": "Zone 3",
         "type": "scatter",
         "x": [
          "00:00",
          "01:00",
          "02:00",
          "03:00",
          "04:00",
          "05:00",
          "06:00",
          "07:00",
          "08:00",
          "09:00",
          "10:00",
          "11:00",
          "12:00",
          "13:00",
          "14:00",
          "15:00",
          "16:00",
          "17:00",
          "18:00",
          "19:00",
          "20:00",
          "21:00",
          "22:00",
          "23:00"
         ],
         "y": [
          0,
          0,
          0,
          0,
          0,
          0.40247808140299035,
          0.8021037282742433,
          1.0014431366076992,
          1.4030249621562756,
          1.7842378064097824,
          2.064058392775211,
          2.1773519416984572,
          2.188971012710468,
          2.076891403073005,
          1.8356486009313706,
          1.4897023079892995,
          1.1009066170399258,
          0.8936505405929324,
          0.6453207034424019,
          0,
          0,
          0,
          0,
          0
         ]
        },
        {
         "marker": {
          "size": 5
         },
         "mode": "lines+markers",
         "name": "Zone 4",
         "type": "scatter",
         "x": [
          "00:00",
          "01:00",
          "02:00",
          "03:00",
          "04:00",
          "05:00",
          "06:00",
          "07:00",
          "08:00",
          "09:00",
          "10:00",
          "11:00",
          "12:00",
          "13:00",
          "14:00",
          "15:00",
          "16:00",
          "17:00",
          "18:00",
          "19:00",
          "20:00",
          "21:00",
          "22:00",
          "23:00"
         ],
         "y": [
          0,
          0,
          0,
          0,
          0,
          0.40247808140299035,
          0.8021037282742433,
          1.001443136607699,
          1.4030249621562756,
          1.7842378064097824,
          2.064058392775211,
          2.1773519416984572,
          2.188971012710468,
          2.0768914030730046,
          1.8356486009313706,
          1.4897023079892993,
          1.1009066170399258,
          0.8936505405929324,
          0.6453207034424019,
          0,
          0,
          0,
          0,
          0
         ]
        }
       ],
       "layout": {
        "template": {
         "data": {
          "bar": [
           {
            "error_x": {
             "color": "#2a3f5f"
            },
            "error_y": {
             "color": "#2a3f5f"
            },
            "marker": {
             "line": {
              "color": "#E5ECF6",
              "width": 0.5
             },
             "pattern": {
              "fillmode": "overlay",
              "size": 10,
              "solidity": 0.2
             }
            },
            "type": "bar"
           }
          ],
          "barpolar": [
           {
            "marker": {
             "line": {
              "color": "#E5ECF6",
              "width": 0.5
             },
             "pattern": {
              "fillmode": "overlay",
              "size": 10,
              "solidity": 0.2
             }
            },
            "type": "barpolar"
           }
          ],
          "carpet": [
           {
            "aaxis": {
             "endlinecolor": "#2a3f5f",
             "gridcolor": "white",
             "linecolor": "white",
             "minorgridcolor": "white",
             "startlinecolor": "#2a3f5f"
            },
            "baxis": {
             "endlinecolor": "#2a3f5f",
             "gridcolor": "white",
             "linecolor": "white",
             "minorgridcolor": "white",
             "startlinecolor": "#2a3f5f"
            },
            "type": "carpet"
           }
          ],
          "choropleth": [
           {
            "colorbar": {
             "outlinewidth": 0,
             "ticks": ""
            },
            "type": "choropleth"
           }
          ],
          "contour": [
           {
            "colorbar": {
             "outlinewidth": 0,
             "ticks": ""
            },
            "colorscale": [
             [
              0,
              "#0d0887"
             ],
             [
              0.1111111111111111,
              "#46039f"
             ],
             [
              0.2222222222222222,
              "#7201a8"
             ],
             [
              0.3333333333333333,
              "#9c179e"
             ],
             [
              0.4444444444444444,
              "#bd3786"
             ],
             [
              0.5555555555555556,
              "#d8576b"
             ],
             [
              0.6666666666666666,
              "#ed7953"
             ],
             [
              0.7777777777777778,
              "#fb9f3a"
             ],
             [
              0.8888888888888888,
              "#fdca26"
             ],
             [
              1,
              "#f0f921"
             ]
            ],
            "type": "contour"
           }
          ],
          "contourcarpet": [
           {
            "colorbar": {
             "outlinewidth": 0,
             "ticks": ""
            },
            "type": "contourcarpet"
           }
          ],
          "heatmap": [
           {
            "colorbar": {
             "outlinewidth": 0,
             "ticks": ""
            },
            "colorscale": [
             [
              0,
              "#0d0887"
             ],
             [
              0.1111111111111111,
              "#46039f"
             ],
             [
              0.2222222222222222,
              "#7201a8"
             ],
             [
              0.3333333333333333,
              "#9c179e"
             ],
             [
              0.4444444444444444,
              "#bd3786"
             ],
             [
              0.5555555555555556,
              "#d8576b"
             ],
             [
              0.6666666666666666,
              "#ed7953"
             ],
             [
              0.7777777777777778,
              "#fb9f3a"
             ],
             [
              0.8888888888888888,
              "#fdca26"
             ],
             [
              1,
              "#f0f921"
             ]
            ],
            "type": "heatmap"
           }
          ],
          "heatmapgl": [
           {
            "colorbar": {
             "outlinewidth": 0,
             "ticks": ""
            },
            "colorscale": [
             [
              0,
              "#0d0887"
             ],
             [
              0.1111111111111111,
              "#46039f"
             ],
             [
              0.2222222222222222,
              "#7201a8"
             ],
             [
              0.3333333333333333,
              "#9c179e"
             ],
             [
              0.4444444444444444,
              "#bd3786"
             ],
             [
              0.5555555555555556,
              "#d8576b"
             ],
             [
              0.6666666666666666,
              "#ed7953"
             ],
             [
              0.7777777777777778,
              "#fb9f3a"
             ],
             [
              0.8888888888888888,
              "#fdca26"
             ],
             [
              1,
              "#f0f921"
             ]
            ],
            "type": "heatmapgl"
           }
          ],
          "histogram": [
           {
            "marker": {
             "pattern": {
              "fillmode": "overlay",
              "size": 10,
              "solidity": 0.2
             }
            },
            "type": "histogram"
           }
          ],
          "histogram2d": [
           {
            "colorbar": {
             "outlinewidth": 0,
             "ticks": ""
            },
            "colorscale": [
             [
              0,
              "#0d0887"
             ],
             [
              0.1111111111111111,
              "#46039f"
             ],
             [
              0.2222222222222222,
              "#7201a8"
             ],
             [
              0.3333333333333333,
              "#9c179e"
             ],
             [
              0.4444444444444444,
              "#bd3786"
             ],
             [
              0.5555555555555556,
              "#d8576b"
             ],
             [
              0.6666666666666666,
              "#ed7953"
             ],
             [
              0.7777777777777778,
              "#fb9f3a"
             ],
             [
              0.8888888888888888,
              "#fdca26"
             ],
             [
              1,
              "#f0f921"
             ]
            ],
            "type": "histogram2d"
           }
          ],
          "histogram2dcontour": [
           {
            "colorbar": {
             "outlinewidth": 0,
             "ticks": ""
            },
            "colorscale": [
             [
              0,
              "#0d0887"
             ],
             [
              0.1111111111111111,
              "#46039f"
             ],
             [
              0.2222222222222222,
              "#7201a8"
             ],
             [
              0.3333333333333333,
              "#9c179e"
             ],
             [
              0.4444444444444444,
              "#bd3786"
             ],
             [
              0.5555555555555556,
              "#d8576b"
             ],
             [
              0.6666666666666666,
              "#ed7953"
             ],
             [
              0.7777777777777778,
              "#fb9f3a"
             ],
             [
              0.8888888888888888,
              "#fdca26"
             ],
             [
              1,
              "#f0f921"
             ]
            ],
            "type": "histogram2dcontour"
           }
          ],
          "mesh3d": [
           {
            "colorbar": {
             "outlinewidth": 0,
             "ticks": ""
            },
            "type": "mesh3d"
           }
          ],
          "parcoords": [
           {
            "line": {
             "colorbar": {
              "outlinewidth": 0,
              "ticks": ""
             }
            },
            "type": "parcoords"
           }
          ],
          "pie": [
           {
            "automargin": true,
            "type": "pie"
           }
          ],
          "scatter": [
           {
            "marker": {
             "colorbar": {
              "outlinewidth": 0,
              "ticks": ""
             }
            },
            "type": "scatter"
           }
          ],
          "scatter3d": [
           {
            "line": {
             "colorbar": {
              "outlinewidth": 0,
              "ticks": ""
             }
            },
            "marker": {
             "colorbar": {
              "outlinewidth": 0,
              "ticks": ""
             }
            },
            "type": "scatter3d"
           }
          ],
          "scattercarpet": [
           {
            "marker": {
             "colorbar": {
              "outlinewidth": 0,
              "ticks": ""
             }
            },
            "type": "scattercarpet"
           }
          ],
          "scattergeo": [
           {
            "marker": {
             "colorbar": {
              "outlinewidth": 0,
              "ticks": ""
             }
            },
            "type": "scattergeo"
           }
          ],
          "scattergl": [
           {
            "marker": {
             "colorbar": {
              "outlinewidth": 0,
              "ticks": ""
             }
            },
            "type": "scattergl"
           }
          ],
          "scattermapbox": [
           {
            "marker": {
             "colorbar": {
              "outlinewidth": 0,
              "ticks": ""
             }
            },
            "type": "scattermapbox"
           }
          ],
          "scatterpolar": [
           {
            "marker": {
             "colorbar": {
              "outlinewidth": 0,
              "ticks": ""
             }
            },
            "type": "scatterpolar"
           }
          ],
          "scatterpolargl": [
           {
            "marker": {
             "colorbar": {
              "outlinewidth": 0,
              "ticks": ""
             }
            },
            "type": "scatterpolargl"
           }
          ],
          "scatterternary": [
           {
            "marker": {
             "colorbar": {
              "outlinewidth": 0,
              "ticks": ""
             }
            },
            "type": "scatterternary"
           }
          ],
          "surface": [
           {
            "colorbar": {
             "outlinewidth": 0,
             "ticks": ""
            },
            "colorscale": [
             [
              0,
              "#0d0887"
             ],
             [
              0.1111111111111111,
              "#46039f"
             ],
             [
              0.2222222222222222,
              "#7201a8"
             ],
             [
              0.3333333333333333,
              "#9c179e"
             ],
             [
              0.4444444444444444,
              "#bd3786"
             ],
             [
              0.5555555555555556,
              "#d8576b"
             ],
             [
              0.6666666666666666,
              "#ed7953"
             ],
             [
              0.7777777777777778,
              "#fb9f3a"
             ],
             [
              0.8888888888888888,
              "#fdca26"
             ],
             [
              1,
              "#f0f921"
             ]
            ],
            "type": "surface"
           }
          ],
          "table": [
           {
            "cells": {
             "fill": {
              "color": "#EBF0F8"
             },
             "line": {
              "color": "white"
             }
            },
            "header": {
             "fill": {
              "color": "#C8D4E3"
             },
             "line": {
              "color": "white"
             }
            },
            "type": "table"
           }
          ]
         },
         "layout": {
          "annotationdefaults": {
           "arrowcolor": "#2a3f5f",
           "arrowhead": 0,
           "arrowwidth": 1
          },
          "autotypenumbers": "strict",
          "coloraxis": {
           "colorbar": {
            "outlinewidth": 0,
            "ticks": ""
           }
          },
          "colorscale": {
           "diverging": [
            [
             0,
             "#8e0152"
            ],
            [
             0.1,
             "#c51b7d"
            ],
            [
             0.2,
             "#de77ae"
            ],
            [
             0.3,
             "#f1b6da"
            ],
            [
             0.4,
             "#fde0ef"
            ],
            [
             0.5,
             "#f7f7f7"
            ],
            [
             0.6,
             "#e6f5d0"
            ],
            [
             0.7,
             "#b8e186"
            ],
            [
             0.8,
             "#7fbc41"
            ],
            [
             0.9,
             "#4d9221"
            ],
            [
             1,
             "#276419"
            ]
           ],
           "sequential": [
            [
             0,
             "#0d0887"
            ],
            [
             0.1111111111111111,
             "#46039f"
            ],
            [
             0.2222222222222222,
             "#7201a8"
            ],
            [
             0.3333333333333333,
             "#9c179e"
            ],
            [
             0.4444444444444444,
             "#bd3786"
            ],
            [
             0.5555555555555556,
             "#d8576b"
            ],
            [
             0.6666666666666666,
             "#ed7953"
            ],
            [
             0.7777777777777778,
             "#fb9f3a"
            ],
            [
             0.8888888888888888,
             "#fdca26"
            ],
            [
             1,
             "#f0f921"
            ]
           ],
           "sequentialminus": [
            [
             0,
             "#0d0887"
            ],
            [
             0.1111111111111111,
             "#46039f"
            ],
            [
             0.2222222222222222,
             "#7201a8"
            ],
            [
             0.3333333333333333,
             "#9c179e"
            ],
            [
             0.4444444444444444,
             "#bd3786"
            ],
            [
             0.5555555555555556,
             "#d8576b"
            ],
            [
             0.6666666666666666,
             "#ed7953"
            ],
            [
             0.7777777777777778,
             "#fb9f3a"
            ],
            [
             0.8888888888888888,
             "#fdca26"
            ],
            [
             1,
             "#f0f921"
            ]
           ]
          },
          "colorway": [
           "#636efa",
           "#EF553B",
           "#00cc96",
           "#ab63fa",
           "#FFA15A",
           "#19d3f3",
           "#FF6692",
           "#B6E880",
           "#FF97FF",
           "#FECB52"
          ],
          "font": {
           "color": "#2a3f5f"
          },
          "geo": {
           "bgcolor": "white",
           "lakecolor": "white",
           "landcolor": "#E5ECF6",
           "showlakes": true,
           "showland": true,
           "subunitcolor": "white"
          },
          "hoverlabel": {
           "align": "left"
          },
          "hovermode": "closest",
          "mapbox": {
           "style": "light"
          },
          "paper_bgcolor": "white",
          "plot_bgcolor": "#E5ECF6",
          "polar": {
           "angularaxis": {
            "gridcolor": "white",
            "linecolor": "white",
            "ticks": ""
           },
           "bgcolor": "#E5ECF6",
           "radialaxis": {
            "gridcolor": "white",
            "linecolor": "white",
            "ticks": ""
           }
          },
          "scene": {
           "xaxis": {
            "backgroundcolor": "#E5ECF6",
            "gridcolor": "white",
            "gridwidth": 2,
            "linecolor": "white",
            "showbackground": true,
            "ticks": "",
            "zerolinecolor": "white"
           },
           "yaxis": {
            "backgroundcolor": "#E5ECF6",
            "gridcolor": "white",
            "gridwidth": 2,
            "linecolor": "white",
            "showbackground": true,
            "ticks": "",
            "zerolinecolor": "white"
           },
           "zaxis": {
            "backgroundcolor": "#E5ECF6",
            "gridcolor": "white",
            "gridwidth": 2,
            "linecolor": "white",
            "showbackground": true,
            "ticks": "",
            "zerolinecolor": "white"
           }
          },
          "shapedefaults": {
           "line": {
            "color": "#2a3f5f"
           }
          },
          "ternary": {
           "aaxis": {
            "gridcolor": "white",
            "linecolor": "white",
            "ticks": ""
           },
           "baxis": {
            "gridcolor": "white",
            "linecolor": "white",
            "ticks": ""
           },
           "bgcolor": "#E5ECF6",
           "caxis": {
            "gridcolor": "white",
            "linecolor": "white",
            "ticks": ""
           }
          },
          "title": {
           "x": 0.05
          },
          "xaxis": {
           "automargin": true,
           "gridcolor": "white",
           "linecolor": "white",
           "ticks": "",
           "title": {
            "standoff": 15
           },
           "zerolinecolor": "white",
           "zerolinewidth": 2
          },
          "yaxis": {
           "automargin": true,
           "gridcolor": "white",
           "linecolor": "white",
           "ticks": "",
           "title": {
            "standoff": 15
           },
           "zerolinecolor": "white",
           "zerolinewidth": 2
          }
         }
        },
        "title": {
         "text": "Zone Windows Total Transmitted Solar Radiation Energy Month #8"
        },
        "xaxis": {
         "title": {
          "text": "Hours"
         }
        },
        "yaxis": {
         "title": {
          "text": "Energy [kWh]"
         }
        }
       }
      }
     },
     "metadata": {},
     "output_type": "display_data"
    }
   ],
   "source": [
    "month_by_hour_zonal_plot(\"Zone Windows Total Transmitted Solar Radiation Energy\", 8)\n",
    "# zone 3 and 4 are the top "
   ]
  },
  {
   "cell_type": "code",
   "execution_count": null,
   "metadata": {},
   "outputs": [
    {
     "data": {
      "application/vnd.plotly.v1+json": {
       "config": {
        "plotlyServerURL": "https://plot.ly"
       },
       "data": [
        {
         "marker": {
          "size": 20
         },
         "mode": "lines+markers",
         "name": "Zone 1",
         "type": "scatter",
         "x": [
          "00:00",
          "01:00",
          "02:00",
          "03:00",
          "04:00",
          "05:00",
          "06:00",
          "07:00",
          "08:00",
          "09:00",
          "10:00",
          "11:00",
          "12:00",
          "13:00",
          "14:00",
          "15:00",
          "16:00",
          "17:00",
          "18:00",
          "19:00",
          "20:00",
          "21:00",
          "22:00",
          "23:00"
         ],
         "y": [
          0.2141461523519999,
          0.2141461523519999,
          0.2141461523519999,
          0.2141461523519999,
          0.2141461523519999,
          0.2141461523519999,
          0.2141461523519999,
          0.2141461523519999,
          0.40260210073703095,
          0.412721560267909,
          0.40463038572930554,
          0.3974421063795887,
          0.3447030902276766,
          0.38666529329354465,
          0.36748130778811483,
          0.3655073955647526,
          0.36564926980139884,
          0.34431884165287424,
          0.2638113009039933,
          0.25276412299644674,
          0.2141461523519999,
          0.2141461523519999,
          0.2141461523519999,
          0.2141461523519999
         ]
        },
        {
         "marker": {
          "size": 15
         },
         "mode": "lines+markers",
         "name": "Zone 2",
         "type": "scatter",
         "x": [
          "00:00",
          "01:00",
          "02:00",
          "03:00",
          "04:00",
          "05:00",
          "06:00",
          "07:00",
          "08:00",
          "09:00",
          "10:00",
          "11:00",
          "12:00",
          "13:00",
          "14:00",
          "15:00",
          "16:00",
          "17:00",
          "18:00",
          "19:00",
          "20:00",
          "21:00",
          "22:00",
          "23:00"
         ],
         "y": [
          0.21414615235199988,
          0.21414615235199988,
          0.21414615235199988,
          0.21414615235199988,
          0.21414615235199988,
          0.21414615235199988,
          0.21414615235199988,
          0.21414615235199988,
          0.3819803313441691,
          0.3938303770953953,
          0.38599932099949513,
          0.38307477402924744,
          0.3296806885113601,
          0.3773351759224519,
          0.36233318524445424,
          0.3611884330621246,
          0.36234207784677974,
          0.34145448327606126,
          0.26222627530549014,
          0.2522495884012657,
          0.21414615235199988,
          0.21414615235199988,
          0.21414615235199988,
          0.21414615235199988
         ]
        },
        {
         "marker": {
          "size": 10
         },
         "mode": "lines+markers",
         "name": "Zone 3",
         "type": "scatter",
         "x": [
          "00:00",
          "01:00",
          "02:00",
          "03:00",
          "04:00",
          "05:00",
          "06:00",
          "07:00",
          "08:00",
          "09:00",
          "10:00",
          "11:00",
          "12:00",
          "13:00",
          "14:00",
          "15:00",
          "16:00",
          "17:00",
          "18:00",
          "19:00",
          "20:00",
          "21:00",
          "22:00",
          "23:00"
         ],
         "y": [
          0.21414615235199988,
          0.21414615235199988,
          0.21414615235199988,
          0.21414615235199988,
          0.21414615235199988,
          0.21414615235199988,
          0.21414615235199988,
          0.21414615235199988,
          0.28854214325279626,
          0.3292328238643384,
          0.343821712001119,
          0.35283846444667094,
          0.4175003515971117,
          0.3689773858344935,
          0.347905085603912,
          0.3500074920764479,
          0.34835108090180983,
          0.3667961288310428,
          0.3581572351035433,
          0.3348380958881139,
          0.2548056293550249,
          0.24413267292334215,
          0.21414615235199988,
          0.21414615235199988
         ]
        },
        {
         "marker": {
          "size": 5
         },
         "mode": "lines+markers",
         "name": "Zone 4",
         "type": "scatter",
         "x": [
          "00:00",
          "01:00",
          "02:00",
          "03:00",
          "04:00",
          "05:00",
          "06:00",
          "07:00",
          "08:00",
          "09:00",
          "10:00",
          "11:00",
          "12:00",
          "13:00",
          "14:00",
          "15:00",
          "16:00",
          "17:00",
          "18:00",
          "19:00",
          "20:00",
          "21:00",
          "22:00",
          "23:00"
         ],
         "y": [
          0.21414615235199988,
          0.21414615235199988,
          0.21414615235199988,
          0.21414615235199988,
          0.21414615235199988,
          0.21414615235199988,
          0.21414615235199985,
          0.21414615235199988,
          0.19934889679009563,
          0.19761718825364405,
          0.21441125484140675,
          0.23050084878766,
          0.28468695834892316,
          0.2553960700955242,
          0.25565855803425086,
          0.25859045752043214,
          0.258256436611759,
          0.27308850012909575,
          0.27599454108652793,
          0.25176022387219577,
          0.21703630843353813,
          0.2151082714072562,
          0.21414615235199988,
          0.21414615235199988
         ]
        }
       ],
       "layout": {
        "template": {
         "data": {
          "bar": [
           {
            "error_x": {
             "color": "#2a3f5f"
            },
            "error_y": {
             "color": "#2a3f5f"
            },
            "marker": {
             "line": {
              "color": "#E5ECF6",
              "width": 0.5
             },
             "pattern": {
              "fillmode": "overlay",
              "size": 10,
              "solidity": 0.2
             }
            },
            "type": "bar"
           }
          ],
          "barpolar": [
           {
            "marker": {
             "line": {
              "color": "#E5ECF6",
              "width": 0.5
             },
             "pattern": {
              "fillmode": "overlay",
              "size": 10,
              "solidity": 0.2
             }
            },
            "type": "barpolar"
           }
          ],
          "carpet": [
           {
            "aaxis": {
             "endlinecolor": "#2a3f5f",
             "gridcolor": "white",
             "linecolor": "white",
             "minorgridcolor": "white",
             "startlinecolor": "#2a3f5f"
            },
            "baxis": {
             "endlinecolor": "#2a3f5f",
             "gridcolor": "white",
             "linecolor": "white",
             "minorgridcolor": "white",
             "startlinecolor": "#2a3f5f"
            },
            "type": "carpet"
           }
          ],
          "choropleth": [
           {
            "colorbar": {
             "outlinewidth": 0,
             "ticks": ""
            },
            "type": "choropleth"
           }
          ],
          "contour": [
           {
            "colorbar": {
             "outlinewidth": 0,
             "ticks": ""
            },
            "colorscale": [
             [
              0,
              "#0d0887"
             ],
             [
              0.1111111111111111,
              "#46039f"
             ],
             [
              0.2222222222222222,
              "#7201a8"
             ],
             [
              0.3333333333333333,
              "#9c179e"
             ],
             [
              0.4444444444444444,
              "#bd3786"
             ],
             [
              0.5555555555555556,
              "#d8576b"
             ],
             [
              0.6666666666666666,
              "#ed7953"
             ],
             [
              0.7777777777777778,
              "#fb9f3a"
             ],
             [
              0.8888888888888888,
              "#fdca26"
             ],
             [
              1,
              "#f0f921"
             ]
            ],
            "type": "contour"
           }
          ],
          "contourcarpet": [
           {
            "colorbar": {
             "outlinewidth": 0,
             "ticks": ""
            },
            "type": "contourcarpet"
           }
          ],
          "heatmap": [
           {
            "colorbar": {
             "outlinewidth": 0,
             "ticks": ""
            },
            "colorscale": [
             [
              0,
              "#0d0887"
             ],
             [
              0.1111111111111111,
              "#46039f"
             ],
             [
              0.2222222222222222,
              "#7201a8"
             ],
             [
              0.3333333333333333,
              "#9c179e"
             ],
             [
              0.4444444444444444,
              "#bd3786"
             ],
             [
              0.5555555555555556,
              "#d8576b"
             ],
             [
              0.6666666666666666,
              "#ed7953"
             ],
             [
              0.7777777777777778,
              "#fb9f3a"
             ],
             [
              0.8888888888888888,
              "#fdca26"
             ],
             [
              1,
              "#f0f921"
             ]
            ],
            "type": "heatmap"
           }
          ],
          "heatmapgl": [
           {
            "colorbar": {
             "outlinewidth": 0,
             "ticks": ""
            },
            "colorscale": [
             [
              0,
              "#0d0887"
             ],
             [
              0.1111111111111111,
              "#46039f"
             ],
             [
              0.2222222222222222,
              "#7201a8"
             ],
             [
              0.3333333333333333,
              "#9c179e"
             ],
             [
              0.4444444444444444,
              "#bd3786"
             ],
             [
              0.5555555555555556,
              "#d8576b"
             ],
             [
              0.6666666666666666,
              "#ed7953"
             ],
             [
              0.7777777777777778,
              "#fb9f3a"
             ],
             [
              0.8888888888888888,
              "#fdca26"
             ],
             [
              1,
              "#f0f921"
             ]
            ],
            "type": "heatmapgl"
           }
          ],
          "histogram": [
           {
            "marker": {
             "pattern": {
              "fillmode": "overlay",
              "size": 10,
              "solidity": 0.2
             }
            },
            "type": "histogram"
           }
          ],
          "histogram2d": [
           {
            "colorbar": {
             "outlinewidth": 0,
             "ticks": ""
            },
            "colorscale": [
             [
              0,
              "#0d0887"
             ],
             [
              0.1111111111111111,
              "#46039f"
             ],
             [
              0.2222222222222222,
              "#7201a8"
             ],
             [
              0.3333333333333333,
              "#9c179e"
             ],
             [
              0.4444444444444444,
              "#bd3786"
             ],
             [
              0.5555555555555556,
              "#d8576b"
             ],
             [
              0.6666666666666666,
              "#ed7953"
             ],
             [
              0.7777777777777778,
              "#fb9f3a"
             ],
             [
              0.8888888888888888,
              "#fdca26"
             ],
             [
              1,
              "#f0f921"
             ]
            ],
            "type": "histogram2d"
           }
          ],
          "histogram2dcontour": [
           {
            "colorbar": {
             "outlinewidth": 0,
             "ticks": ""
            },
            "colorscale": [
             [
              0,
              "#0d0887"
             ],
             [
              0.1111111111111111,
              "#46039f"
             ],
             [
              0.2222222222222222,
              "#7201a8"
             ],
             [
              0.3333333333333333,
              "#9c179e"
             ],
             [
              0.4444444444444444,
              "#bd3786"
             ],
             [
              0.5555555555555556,
              "#d8576b"
             ],
             [
              0.6666666666666666,
              "#ed7953"
             ],
             [
              0.7777777777777778,
              "#fb9f3a"
             ],
             [
              0.8888888888888888,
              "#fdca26"
             ],
             [
              1,
              "#f0f921"
             ]
            ],
            "type": "histogram2dcontour"
           }
          ],
          "mesh3d": [
           {
            "colorbar": {
             "outlinewidth": 0,
             "ticks": ""
            },
            "type": "mesh3d"
           }
          ],
          "parcoords": [
           {
            "line": {
             "colorbar": {
              "outlinewidth": 0,
              "ticks": ""
             }
            },
            "type": "parcoords"
           }
          ],
          "pie": [
           {
            "automargin": true,
            "type": "pie"
           }
          ],
          "scatter": [
           {
            "marker": {
             "colorbar": {
              "outlinewidth": 0,
              "ticks": ""
             }
            },
            "type": "scatter"
           }
          ],
          "scatter3d": [
           {
            "line": {
             "colorbar": {
              "outlinewidth": 0,
              "ticks": ""
             }
            },
            "marker": {
             "colorbar": {
              "outlinewidth": 0,
              "ticks": ""
             }
            },
            "type": "scatter3d"
           }
          ],
          "scattercarpet": [
           {
            "marker": {
             "colorbar": {
              "outlinewidth": 0,
              "ticks": ""
             }
            },
            "type": "scattercarpet"
           }
          ],
          "scattergeo": [
           {
            "marker": {
             "colorbar": {
              "outlinewidth": 0,
              "ticks": ""
             }
            },
            "type": "scattergeo"
           }
          ],
          "scattergl": [
           {
            "marker": {
             "colorbar": {
              "outlinewidth": 0,
              "ticks": ""
             }
            },
            "type": "scattergl"
           }
          ],
          "scattermapbox": [
           {
            "marker": {
             "colorbar": {
              "outlinewidth": 0,
              "ticks": ""
             }
            },
            "type": "scattermapbox"
           }
          ],
          "scatterpolar": [
           {
            "marker": {
             "colorbar": {
              "outlinewidth": 0,
              "ticks": ""
             }
            },
            "type": "scatterpolar"
           }
          ],
          "scatterpolargl": [
           {
            "marker": {
             "colorbar": {
              "outlinewidth": 0,
              "ticks": ""
             }
            },
            "type": "scatterpolargl"
           }
          ],
          "scatterternary": [
           {
            "marker": {
             "colorbar": {
              "outlinewidth": 0,
              "ticks": ""
             }
            },
            "type": "scatterternary"
           }
          ],
          "surface": [
           {
            "colorbar": {
             "outlinewidth": 0,
             "ticks": ""
            },
            "colorscale": [
             [
              0,
              "#0d0887"
             ],
             [
              0.1111111111111111,
              "#46039f"
             ],
             [
              0.2222222222222222,
              "#7201a8"
             ],
             [
              0.3333333333333333,
              "#9c179e"
             ],
             [
              0.4444444444444444,
              "#bd3786"
             ],
             [
              0.5555555555555556,
              "#d8576b"
             ],
             [
              0.6666666666666666,
              "#ed7953"
             ],
             [
              0.7777777777777778,
              "#fb9f3a"
             ],
             [
              0.8888888888888888,
              "#fdca26"
             ],
             [
              1,
              "#f0f921"
             ]
            ],
            "type": "surface"
           }
          ],
          "table": [
           {
            "cells": {
             "fill": {
              "color": "#EBF0F8"
             },
             "line": {
              "color": "white"
             }
            },
            "header": {
             "fill": {
              "color": "#C8D4E3"
             },
             "line": {
              "color": "white"
             }
            },
            "type": "table"
           }
          ]
         },
         "layout": {
          "annotationdefaults": {
           "arrowcolor": "#2a3f5f",
           "arrowhead": 0,
           "arrowwidth": 1
          },
          "autotypenumbers": "strict",
          "coloraxis": {
           "colorbar": {
            "outlinewidth": 0,
            "ticks": ""
           }
          },
          "colorscale": {
           "diverging": [
            [
             0,
             "#8e0152"
            ],
            [
             0.1,
             "#c51b7d"
            ],
            [
             0.2,
             "#de77ae"
            ],
            [
             0.3,
             "#f1b6da"
            ],
            [
             0.4,
             "#fde0ef"
            ],
            [
             0.5,
             "#f7f7f7"
            ],
            [
             0.6,
             "#e6f5d0"
            ],
            [
             0.7,
             "#b8e186"
            ],
            [
             0.8,
             "#7fbc41"
            ],
            [
             0.9,
             "#4d9221"
            ],
            [
             1,
             "#276419"
            ]
           ],
           "sequential": [
            [
             0,
             "#0d0887"
            ],
            [
             0.1111111111111111,
             "#46039f"
            ],
            [
             0.2222222222222222,
             "#7201a8"
            ],
            [
             0.3333333333333333,
             "#9c179e"
            ],
            [
             0.4444444444444444,
             "#bd3786"
            ],
            [
             0.5555555555555556,
             "#d8576b"
            ],
            [
             0.6666666666666666,
             "#ed7953"
            ],
            [
             0.7777777777777778,
             "#fb9f3a"
            ],
            [
             0.8888888888888888,
             "#fdca26"
            ],
            [
             1,
             "#f0f921"
            ]
           ],
           "sequentialminus": [
            [
             0,
             "#0d0887"
            ],
            [
             0.1111111111111111,
             "#46039f"
            ],
            [
             0.2222222222222222,
             "#7201a8"
            ],
            [
             0.3333333333333333,
             "#9c179e"
            ],
            [
             0.4444444444444444,
             "#bd3786"
            ],
            [
             0.5555555555555556,
             "#d8576b"
            ],
            [
             0.6666666666666666,
             "#ed7953"
            ],
            [
             0.7777777777777778,
             "#fb9f3a"
            ],
            [
             0.8888888888888888,
             "#fdca26"
            ],
            [
             1,
             "#f0f921"
            ]
           ]
          },
          "colorway": [
           "#636efa",
           "#EF553B",
           "#00cc96",
           "#ab63fa",
           "#FFA15A",
           "#19d3f3",
           "#FF6692",
           "#B6E880",
           "#FF97FF",
           "#FECB52"
          ],
          "font": {
           "color": "#2a3f5f"
          },
          "geo": {
           "bgcolor": "white",
           "lakecolor": "white",
           "landcolor": "#E5ECF6",
           "showlakes": true,
           "showland": true,
           "subunitcolor": "white"
          },
          "hoverlabel": {
           "align": "left"
          },
          "hovermode": "closest",
          "mapbox": {
           "style": "light"
          },
          "paper_bgcolor": "white",
          "plot_bgcolor": "#E5ECF6",
          "polar": {
           "angularaxis": {
            "gridcolor": "white",
            "linecolor": "white",
            "ticks": ""
           },
           "bgcolor": "#E5ECF6",
           "radialaxis": {
            "gridcolor": "white",
            "linecolor": "white",
            "ticks": ""
           }
          },
          "scene": {
           "xaxis": {
            "backgroundcolor": "#E5ECF6",
            "gridcolor": "white",
            "gridwidth": 2,
            "linecolor": "white",
            "showbackground": true,
            "ticks": "",
            "zerolinecolor": "white"
           },
           "yaxis": {
            "backgroundcolor": "#E5ECF6",
            "gridcolor": "white",
            "gridwidth": 2,
            "linecolor": "white",
            "showbackground": true,
            "ticks": "",
            "zerolinecolor": "white"
           },
           "zaxis": {
            "backgroundcolor": "#E5ECF6",
            "gridcolor": "white",
            "gridwidth": 2,
            "linecolor": "white",
            "showbackground": true,
            "ticks": "",
            "zerolinecolor": "white"
           }
          },
          "shapedefaults": {
           "line": {
            "color": "#2a3f5f"
           }
          },
          "ternary": {
           "aaxis": {
            "gridcolor": "white",
            "linecolor": "white",
            "ticks": ""
           },
           "baxis": {
            "gridcolor": "white",
            "linecolor": "white",
            "ticks": ""
           },
           "bgcolor": "#E5ECF6",
           "caxis": {
            "gridcolor": "white",
            "linecolor": "white",
            "ticks": ""
           }
          },
          "title": {
           "x": 0.05
          },
          "xaxis": {
           "automargin": true,
           "gridcolor": "white",
           "linecolor": "white",
           "ticks": "",
           "title": {
            "standoff": 15
           },
           "zerolinecolor": "white",
           "zerolinewidth": 2
          },
          "yaxis": {
           "automargin": true,
           "gridcolor": "white",
           "linecolor": "white",
           "ticks": "",
           "title": {
            "standoff": 15
           },
           "zerolinecolor": "white",
           "zerolinewidth": 2
          }
         }
        },
        "title": {
         "text": "Zone Air Terminal Outdoor Air Volume Flow Rate Month #8"
        },
        "xaxis": {
         "title": {
          "text": "Hours"
         }
        },
        "yaxis": {
         "title": {
          "text": "Volume Flow Rate [m3/s]"
         }
        }
       }
      }
     },
     "metadata": {},
     "output_type": "display_data"
    }
   ],
   "source": [
    "month_by_hour_zonal_plot(\"Zone Air Terminal Outdoor Air Volume Flow Rate\", 8)"
   ]
  },
  {
   "cell_type": "code",
   "execution_count": null,
   "metadata": {},
   "outputs": [
    {
     "data": {
      "application/vnd.plotly.v1+json": {
       "config": {
        "plotlyServerURL": "https://plot.ly"
       },
       "data": [
        {
         "mode": "lines+markers",
         "name": "Zone 1",
         "type": "scatter",
         "x": [
          "00:00",
          "01:00",
          "02:00",
          "03:00",
          "04:00",
          "05:00",
          "06:00",
          "07:00",
          "08:00",
          "09:00",
          "10:00",
          "11:00",
          "12:00",
          "13:00",
          "14:00",
          "15:00",
          "16:00",
          "17:00",
          "18:00",
          "19:00",
          "20:00",
          "21:00",
          "22:00",
          "23:00"
         ],
         "y": [
          0.035230292496010195,
          0.027615096062968764,
          0.025715396360796686,
          0.02434499134810691,
          0.023038225420116614,
          0.031289047994025154,
          0.03440520774217037,
          0.08575918337759789,
          0.11164387199788559,
          0.16807920087165482,
          0.23532700432250275,
          0.2848478281068715,
          0.33134631718925095,
          0.33763246944448316,
          0.3197953169905789,
          0.28222644551471476,
          0.2155054905055523,
          0.13416065881059047,
          0.10513282908741511,
          0.050057357231736134,
          0.049302601776937516,
          0.0457038442078973,
          0.0744467383379801,
          0.048747148135852125
         ]
        },
        {
         "mode": "lines+markers",
         "name": "Zone 2",
         "type": "scatter",
         "x": [
          "00:00",
          "01:00",
          "02:00",
          "03:00",
          "04:00",
          "05:00",
          "06:00",
          "07:00",
          "08:00",
          "09:00",
          "10:00",
          "11:00",
          "12:00",
          "13:00",
          "14:00",
          "15:00",
          "16:00",
          "17:00",
          "18:00",
          "19:00",
          "20:00",
          "21:00",
          "22:00",
          "23:00"
         ],
         "y": [
          0.004003814901246887,
          0.004675622045774064,
          0.005336812533587891,
          0.0042934435883413445,
          0.00316638069428505,
          0.0037393282968498035,
          0.00531729457134651,
          0.02962867343106294,
          0.053997150927825324,
          0.11320382157603874,
          0.18445741802722765,
          0.23503565733813356,
          0.2823640474702299,
          0.2869814995448439,
          0.2637519989368213,
          0.22517116561643866,
          0.1601556620854039,
          0.08999277946549768,
          0.06585409375311572,
          0.023384617316919896,
          0.01860065274690721,
          0.014654292052340355,
          0.020338460665417456,
          0.005249640427433846
         ]
        },
        {
         "mode": "lines+markers",
         "name": "Zone 3",
         "type": "scatter",
         "x": [
          "00:00",
          "01:00",
          "02:00",
          "03:00",
          "04:00",
          "05:00",
          "06:00",
          "07:00",
          "08:00",
          "09:00",
          "10:00",
          "11:00",
          "12:00",
          "13:00",
          "14:00",
          "15:00",
          "16:00",
          "17:00",
          "18:00",
          "19:00",
          "20:00",
          "21:00",
          "22:00",
          "23:00"
         ],
         "y": [
          0.09284886144315457,
          0.0882044264300373,
          0.07600690809836987,
          0.06438417171679549,
          0.05207382069652596,
          0.05830000762559268,
          0.023335777934099824,
          0.03570811346566191,
          0.0370457509649811,
          0.05432486001428909,
          0.0735068345730598,
          0.08426520548392442,
          0.09561275381980157,
          0.09443620508249104,
          0.09237253120645884,
          0.08836539060728812,
          0.07485868448734903,
          0.05641221820671579,
          0.06984088507300251,
          0.05533963502428734,
          0.05785113614595867,
          0.05790601712465812,
          0.08734288101150896,
          0.09350882901431978
         ]
        },
        {
         "mode": "lines+markers",
         "name": "Zone 4",
         "type": "scatter",
         "x": [
          "00:00",
          "01:00",
          "02:00",
          "03:00",
          "04:00",
          "05:00",
          "06:00",
          "07:00",
          "08:00",
          "09:00",
          "10:00",
          "11:00",
          "12:00",
          "13:00",
          "14:00",
          "15:00",
          "16:00",
          "17:00",
          "18:00",
          "19:00",
          "20:00",
          "21:00",
          "22:00",
          "23:00"
         ],
         "y": [
          0.09672434151582986,
          0.09242070017442136,
          0.08030275018784308,
          0.06854604573832805,
          0.05637621409473578,
          0.06314571334386444,
          0.02421117635212195,
          0.03749566405965505,
          0.03900470401698651,
          0.05629123563585408,
          0.0754534533272219,
          0.08618601613462257,
          0.09634963285427967,
          0.09533623258329839,
          0.09344992630852615,
          0.08975589501755449,
          0.07609030671638656,
          0.05721004272358387,
          0.06980178923314727,
          0.05503730025272059,
          0.057863982294078936,
          0.05844360609666707,
          0.08947249538386541,
          0.096879807755455
         ]
        }
       ],
       "layout": {
        "template": {
         "data": {
          "bar": [
           {
            "error_x": {
             "color": "#2a3f5f"
            },
            "error_y": {
             "color": "#2a3f5f"
            },
            "marker": {
             "line": {
              "color": "#E5ECF6",
              "width": 0.5
             },
             "pattern": {
              "fillmode": "overlay",
              "size": 10,
              "solidity": 0.2
             }
            },
            "type": "bar"
           }
          ],
          "barpolar": [
           {
            "marker": {
             "line": {
              "color": "#E5ECF6",
              "width": 0.5
             },
             "pattern": {
              "fillmode": "overlay",
              "size": 10,
              "solidity": 0.2
             }
            },
            "type": "barpolar"
           }
          ],
          "carpet": [
           {
            "aaxis": {
             "endlinecolor": "#2a3f5f",
             "gridcolor": "white",
             "linecolor": "white",
             "minorgridcolor": "white",
             "startlinecolor": "#2a3f5f"
            },
            "baxis": {
             "endlinecolor": "#2a3f5f",
             "gridcolor": "white",
             "linecolor": "white",
             "minorgridcolor": "white",
             "startlinecolor": "#2a3f5f"
            },
            "type": "carpet"
           }
          ],
          "choropleth": [
           {
            "colorbar": {
             "outlinewidth": 0,
             "ticks": ""
            },
            "type": "choropleth"
           }
          ],
          "contour": [
           {
            "colorbar": {
             "outlinewidth": 0,
             "ticks": ""
            },
            "colorscale": [
             [
              0,
              "#0d0887"
             ],
             [
              0.1111111111111111,
              "#46039f"
             ],
             [
              0.2222222222222222,
              "#7201a8"
             ],
             [
              0.3333333333333333,
              "#9c179e"
             ],
             [
              0.4444444444444444,
              "#bd3786"
             ],
             [
              0.5555555555555556,
              "#d8576b"
             ],
             [
              0.6666666666666666,
              "#ed7953"
             ],
             [
              0.7777777777777778,
              "#fb9f3a"
             ],
             [
              0.8888888888888888,
              "#fdca26"
             ],
             [
              1,
              "#f0f921"
             ]
            ],
            "type": "contour"
           }
          ],
          "contourcarpet": [
           {
            "colorbar": {
             "outlinewidth": 0,
             "ticks": ""
            },
            "type": "contourcarpet"
           }
          ],
          "heatmap": [
           {
            "colorbar": {
             "outlinewidth": 0,
             "ticks": ""
            },
            "colorscale": [
             [
              0,
              "#0d0887"
             ],
             [
              0.1111111111111111,
              "#46039f"
             ],
             [
              0.2222222222222222,
              "#7201a8"
             ],
             [
              0.3333333333333333,
              "#9c179e"
             ],
             [
              0.4444444444444444,
              "#bd3786"
             ],
             [
              0.5555555555555556,
              "#d8576b"
             ],
             [
              0.6666666666666666,
              "#ed7953"
             ],
             [
              0.7777777777777778,
              "#fb9f3a"
             ],
             [
              0.8888888888888888,
              "#fdca26"
             ],
             [
              1,
              "#f0f921"
             ]
            ],
            "type": "heatmap"
           }
          ],
          "heatmapgl": [
           {
            "colorbar": {
             "outlinewidth": 0,
             "ticks": ""
            },
            "colorscale": [
             [
              0,
              "#0d0887"
             ],
             [
              0.1111111111111111,
              "#46039f"
             ],
             [
              0.2222222222222222,
              "#7201a8"
             ],
             [
              0.3333333333333333,
              "#9c179e"
             ],
             [
              0.4444444444444444,
              "#bd3786"
             ],
             [
              0.5555555555555556,
              "#d8576b"
             ],
             [
              0.6666666666666666,
              "#ed7953"
             ],
             [
              0.7777777777777778,
              "#fb9f3a"
             ],
             [
              0.8888888888888888,
              "#fdca26"
             ],
             [
              1,
              "#f0f921"
             ]
            ],
            "type": "heatmapgl"
           }
          ],
          "histogram": [
           {
            "marker": {
             "pattern": {
              "fillmode": "overlay",
              "size": 10,
              "solidity": 0.2
             }
            },
            "type": "histogram"
           }
          ],
          "histogram2d": [
           {
            "colorbar": {
             "outlinewidth": 0,
             "ticks": ""
            },
            "colorscale": [
             [
              0,
              "#0d0887"
             ],
             [
              0.1111111111111111,
              "#46039f"
             ],
             [
              0.2222222222222222,
              "#7201a8"
             ],
             [
              0.3333333333333333,
              "#9c179e"
             ],
             [
              0.4444444444444444,
              "#bd3786"
             ],
             [
              0.5555555555555556,
              "#d8576b"
             ],
             [
              0.6666666666666666,
              "#ed7953"
             ],
             [
              0.7777777777777778,
              "#fb9f3a"
             ],
             [
              0.8888888888888888,
              "#fdca26"
             ],
             [
              1,
              "#f0f921"
             ]
            ],
            "type": "histogram2d"
           }
          ],
          "histogram2dcontour": [
           {
            "colorbar": {
             "outlinewidth": 0,
             "ticks": ""
            },
            "colorscale": [
             [
              0,
              "#0d0887"
             ],
             [
              0.1111111111111111,
              "#46039f"
             ],
             [
              0.2222222222222222,
              "#7201a8"
             ],
             [
              0.3333333333333333,
              "#9c179e"
             ],
             [
              0.4444444444444444,
              "#bd3786"
             ],
             [
              0.5555555555555556,
              "#d8576b"
             ],
             [
              0.6666666666666666,
              "#ed7953"
             ],
             [
              0.7777777777777778,
              "#fb9f3a"
             ],
             [
              0.8888888888888888,
              "#fdca26"
             ],
             [
              1,
              "#f0f921"
             ]
            ],
            "type": "histogram2dcontour"
           }
          ],
          "mesh3d": [
           {
            "colorbar": {
             "outlinewidth": 0,
             "ticks": ""
            },
            "type": "mesh3d"
           }
          ],
          "parcoords": [
           {
            "line": {
             "colorbar": {
              "outlinewidth": 0,
              "ticks": ""
             }
            },
            "type": "parcoords"
           }
          ],
          "pie": [
           {
            "automargin": true,
            "type": "pie"
           }
          ],
          "scatter": [
           {
            "marker": {
             "colorbar": {
              "outlinewidth": 0,
              "ticks": ""
             }
            },
            "type": "scatter"
           }
          ],
          "scatter3d": [
           {
            "line": {
             "colorbar": {
              "outlinewidth": 0,
              "ticks": ""
             }
            },
            "marker": {
             "colorbar": {
              "outlinewidth": 0,
              "ticks": ""
             }
            },
            "type": "scatter3d"
           }
          ],
          "scattercarpet": [
           {
            "marker": {
             "colorbar": {
              "outlinewidth": 0,
              "ticks": ""
             }
            },
            "type": "scattercarpet"
           }
          ],
          "scattergeo": [
           {
            "marker": {
             "colorbar": {
              "outlinewidth": 0,
              "ticks": ""
             }
            },
            "type": "scattergeo"
           }
          ],
          "scattergl": [
           {
            "marker": {
             "colorbar": {
              "outlinewidth": 0,
              "ticks": ""
             }
            },
            "type": "scattergl"
           }
          ],
          "scattermapbox": [
           {
            "marker": {
             "colorbar": {
              "outlinewidth": 0,
              "ticks": ""
             }
            },
            "type": "scattermapbox"
           }
          ],
          "scatterpolar": [
           {
            "marker": {
             "colorbar": {
              "outlinewidth": 0,
              "ticks": ""
             }
            },
            "type": "scatterpolar"
           }
          ],
          "scatterpolargl": [
           {
            "marker": {
             "colorbar": {
              "outlinewidth": 0,
              "ticks": ""
             }
            },
            "type": "scatterpolargl"
           }
          ],
          "scatterternary": [
           {
            "marker": {
             "colorbar": {
              "outlinewidth": 0,
              "ticks": ""
             }
            },
            "type": "scatterternary"
           }
          ],
          "surface": [
           {
            "colorbar": {
             "outlinewidth": 0,
             "ticks": ""
            },
            "colorscale": [
             [
              0,
              "#0d0887"
             ],
             [
              0.1111111111111111,
              "#46039f"
             ],
             [
              0.2222222222222222,
              "#7201a8"
             ],
             [
              0.3333333333333333,
              "#9c179e"
             ],
             [
              0.4444444444444444,
              "#bd3786"
             ],
             [
              0.5555555555555556,
              "#d8576b"
             ],
             [
              0.6666666666666666,
              "#ed7953"
             ],
             [
              0.7777777777777778,
              "#fb9f3a"
             ],
             [
              0.8888888888888888,
              "#fdca26"
             ],
             [
              1,
              "#f0f921"
             ]
            ],
            "type": "surface"
           }
          ],
          "table": [
           {
            "cells": {
             "fill": {
              "color": "#EBF0F8"
             },
             "line": {
              "color": "white"
             }
            },
            "header": {
             "fill": {
              "color": "#C8D4E3"
             },
             "line": {
              "color": "white"
             }
            },
            "type": "table"
           }
          ]
         },
         "layout": {
          "annotationdefaults": {
           "arrowcolor": "#2a3f5f",
           "arrowhead": 0,
           "arrowwidth": 1
          },
          "autotypenumbers": "strict",
          "coloraxis": {
           "colorbar": {
            "outlinewidth": 0,
            "ticks": ""
           }
          },
          "colorscale": {
           "diverging": [
            [
             0,
             "#8e0152"
            ],
            [
             0.1,
             "#c51b7d"
            ],
            [
             0.2,
             "#de77ae"
            ],
            [
             0.3,
             "#f1b6da"
            ],
            [
             0.4,
             "#fde0ef"
            ],
            [
             0.5,
             "#f7f7f7"
            ],
            [
             0.6,
             "#e6f5d0"
            ],
            [
             0.7,
             "#b8e186"
            ],
            [
             0.8,
             "#7fbc41"
            ],
            [
             0.9,
             "#4d9221"
            ],
            [
             1,
             "#276419"
            ]
           ],
           "sequential": [
            [
             0,
             "#0d0887"
            ],
            [
             0.1111111111111111,
             "#46039f"
            ],
            [
             0.2222222222222222,
             "#7201a8"
            ],
            [
             0.3333333333333333,
             "#9c179e"
            ],
            [
             0.4444444444444444,
             "#bd3786"
            ],
            [
             0.5555555555555556,
             "#d8576b"
            ],
            [
             0.6666666666666666,
             "#ed7953"
            ],
            [
             0.7777777777777778,
             "#fb9f3a"
            ],
            [
             0.8888888888888888,
             "#fdca26"
            ],
            [
             1,
             "#f0f921"
            ]
           ],
           "sequentialminus": [
            [
             0,
             "#0d0887"
            ],
            [
             0.1111111111111111,
             "#46039f"
            ],
            [
             0.2222222222222222,
             "#7201a8"
            ],
            [
             0.3333333333333333,
             "#9c179e"
            ],
            [
             0.4444444444444444,
             "#bd3786"
            ],
            [
             0.5555555555555556,
             "#d8576b"
            ],
            [
             0.6666666666666666,
             "#ed7953"
            ],
            [
             0.7777777777777778,
             "#fb9f3a"
            ],
            [
             0.8888888888888888,
             "#fdca26"
            ],
            [
             1,
             "#f0f921"
            ]
           ]
          },
          "colorway": [
           "#636efa",
           "#EF553B",
           "#00cc96",
           "#ab63fa",
           "#FFA15A",
           "#19d3f3",
           "#FF6692",
           "#B6E880",
           "#FF97FF",
           "#FECB52"
          ],
          "font": {
           "color": "#2a3f5f"
          },
          "geo": {
           "bgcolor": "white",
           "lakecolor": "white",
           "landcolor": "#E5ECF6",
           "showlakes": true,
           "showland": true,
           "subunitcolor": "white"
          },
          "hoverlabel": {
           "align": "left"
          },
          "hovermode": "closest",
          "mapbox": {
           "style": "light"
          },
          "paper_bgcolor": "white",
          "plot_bgcolor": "#E5ECF6",
          "polar": {
           "angularaxis": {
            "gridcolor": "white",
            "linecolor": "white",
            "ticks": ""
           },
           "bgcolor": "#E5ECF6",
           "radialaxis": {
            "gridcolor": "white",
            "linecolor": "white",
            "ticks": ""
           }
          },
          "scene": {
           "xaxis": {
            "backgroundcolor": "#E5ECF6",
            "gridcolor": "white",
            "gridwidth": 2,
            "linecolor": "white",
            "showbackground": true,
            "ticks": "",
            "zerolinecolor": "white"
           },
           "yaxis": {
            "backgroundcolor": "#E5ECF6",
            "gridcolor": "white",
            "gridwidth": 2,
            "linecolor": "white",
            "showbackground": true,
            "ticks": "",
            "zerolinecolor": "white"
           },
           "zaxis": {
            "backgroundcolor": "#E5ECF6",
            "gridcolor": "white",
            "gridwidth": 2,
            "linecolor": "white",
            "showbackground": true,
            "ticks": "",
            "zerolinecolor": "white"
           }
          },
          "shapedefaults": {
           "line": {
            "color": "#2a3f5f"
           }
          },
          "ternary": {
           "aaxis": {
            "gridcolor": "white",
            "linecolor": "white",
            "ticks": ""
           },
           "baxis": {
            "gridcolor": "white",
            "linecolor": "white",
            "ticks": ""
           },
           "bgcolor": "#E5ECF6",
           "caxis": {
            "gridcolor": "white",
            "linecolor": "white",
            "ticks": ""
           }
          },
          "title": {
           "x": 0.05
          },
          "xaxis": {
           "automargin": true,
           "gridcolor": "white",
           "linecolor": "white",
           "ticks": "",
           "title": {
            "standoff": 15
           },
           "zerolinecolor": "white",
           "zerolinewidth": 2
          },
          "yaxis": {
           "automargin": true,
           "gridcolor": "white",
           "linecolor": "white",
           "ticks": "",
           "title": {
            "standoff": 15
           },
           "zerolinecolor": "white",
           "zerolinewidth": 2
          }
         }
        },
        "title": {
         "text": "Zone Infiltration Total Heat Gain Energy Month #8"
        },
        "xaxis": {
         "title": {
          "text": "Hours"
         }
        },
        "yaxis": {
         "title": {
          "text": "Energy [kWh]"
         }
        }
       }
      }
     },
     "metadata": {},
     "output_type": "display_data"
    }
   ],
   "source": [
    "month_by_hour_zonal_plot(\"Zone Infiltration Total Heat Gain Energy\", 8)"
   ]
  },
  {
   "cell_type": "code",
   "execution_count": null,
   "metadata": {},
   "outputs": [
    {
     "data": {
      "application/vnd.plotly.v1+json": {
       "config": {
        "plotlyServerURL": "https://plot.ly"
       },
       "data": [
        {
         "mode": "lines+markers",
         "name": "Zone 1",
         "type": "scatter",
         "x": [
          "00:00",
          "01:00",
          "02:00",
          "03:00",
          "04:00",
          "05:00",
          "06:00",
          "07:00",
          "08:00",
          "09:00",
          "10:00",
          "11:00",
          "12:00",
          "13:00",
          "14:00",
          "15:00",
          "16:00",
          "17:00",
          "18:00",
          "19:00",
          "20:00",
          "21:00",
          "22:00",
          "23:00"
         ],
         "y": [
          167.8874999999999,
          167.8874999999999,
          167.8874999999999,
          167.8874999999999,
          167.8874999999999,
          287.0334677419354,
          314.11209677419345,
          790.695967741936,
          2437.0766129032263,
          2437.0766129032263,
          2437.0766129032263,
          2437.0766129032263,
          2437.0766129032263,
          2437.0766129032263,
          2247.5262096774195,
          2247.5262096774195,
          2247.5262096774195,
          1716.7850806451618,
          1240.2012096774195,
          1240.2012096774195,
          763.6173387096779,
          763.6173387096779,
          287.0334677419354,
          167.8874999999999
         ]
        },
        {
         "mode": "lines+markers",
         "name": "Zone 2",
         "type": "scatter",
         "x": [
          "00:00",
          "01:00",
          "02:00",
          "03:00",
          "04:00",
          "05:00",
          "06:00",
          "07:00",
          "08:00",
          "09:00",
          "10:00",
          "11:00",
          "12:00",
          "13:00",
          "14:00",
          "15:00",
          "16:00",
          "17:00",
          "18:00",
          "19:00",
          "20:00",
          "21:00",
          "22:00",
          "23:00"
         ],
         "y": [
          121.00000000000001,
          121.00000000000001,
          121.00000000000001,
          121.00000000000001,
          121.00000000000001,
          206.87096774193552,
          226.38709677419357,
          569.8709677419356,
          1756.451612903226,
          1756.451612903226,
          1756.451612903226,
          1756.451612903226,
          1756.451612903226,
          1756.451612903226,
          1619.8387096774195,
          1619.8387096774195,
          1619.8387096774195,
          1237.3225806451615,
          893.8387096774195,
          893.8387096774195,
          550.3548387096776,
          550.3548387096776,
          206.87096774193552,
          121.00000000000001
         ]
        },
        {
         "mode": "lines+markers",
         "name": "Zone 3",
         "type": "scatter",
         "x": [
          "00:00",
          "01:00",
          "02:00",
          "03:00",
          "04:00",
          "05:00",
          "06:00",
          "07:00",
          "08:00",
          "09:00",
          "10:00",
          "11:00",
          "12:00",
          "13:00",
          "14:00",
          "15:00",
          "16:00",
          "17:00",
          "18:00",
          "19:00",
          "20:00",
          "21:00",
          "22:00",
          "23:00"
         ],
         "y": [
          186.03750000000045,
          186.03750000000045,
          186.03750000000045,
          186.03750000000045,
          186.03750000000045,
          318.0641129032266,
          348.0701612903234,
          876.1766129032284,
          2700.544354838719,
          2700.544354838719,
          2700.544354838719,
          2700.544354838719,
          2700.544354838719,
          2700.544354838719,
          2490.502016129041,
          2490.502016129041,
          2490.502016129041,
          1902.3834677419418,
          1374.277016129037,
          1374.277016129037,
          846.1705645161315,
          846.1705645161315,
          318.0641129032266,
          186.03750000000045
         ]
        },
        {
         "mode": "lines+markers",
         "name": "Zone 4",
         "type": "scatter",
         "x": [
          "00:00",
          "01:00",
          "02:00",
          "03:00",
          "04:00",
          "05:00",
          "06:00",
          "07:00",
          "08:00",
          "09:00",
          "10:00",
          "11:00",
          "12:00",
          "13:00",
          "14:00",
          "15:00",
          "16:00",
          "17:00",
          "18:00",
          "19:00",
          "20:00",
          "21:00",
          "22:00",
          "23:00"
         ],
         "y": [
          186.03750000000045,
          186.03750000000045,
          186.03750000000045,
          186.03750000000045,
          186.03750000000045,
          318.0641129032266,
          348.0701612903234,
          876.1766129032279,
          2700.544354838716,
          2700.544354838716,
          2700.544354838716,
          2700.544354838716,
          2700.544354838716,
          2700.544354838716,
          2490.502016129039,
          2490.502016129039,
          2490.502016129039,
          1902.3834677419416,
          1374.2770161290362,
          1374.2770161290362,
          846.1705645161311,
          846.1705645161311,
          318.0641129032266,
          186.03750000000045
         ]
        }
       ],
       "layout": {
        "template": {
         "data": {
          "bar": [
           {
            "error_x": {
             "color": "#2a3f5f"
            },
            "error_y": {
             "color": "#2a3f5f"
            },
            "marker": {
             "line": {
              "color": "#E5ECF6",
              "width": 0.5
             },
             "pattern": {
              "fillmode": "overlay",
              "size": 10,
              "solidity": 0.2
             }
            },
            "type": "bar"
           }
          ],
          "barpolar": [
           {
            "marker": {
             "line": {
              "color": "#E5ECF6",
              "width": 0.5
             },
             "pattern": {
              "fillmode": "overlay",
              "size": 10,
              "solidity": 0.2
             }
            },
            "type": "barpolar"
           }
          ],
          "carpet": [
           {
            "aaxis": {
             "endlinecolor": "#2a3f5f",
             "gridcolor": "white",
             "linecolor": "white",
             "minorgridcolor": "white",
             "startlinecolor": "#2a3f5f"
            },
            "baxis": {
             "endlinecolor": "#2a3f5f",
             "gridcolor": "white",
             "linecolor": "white",
             "minorgridcolor": "white",
             "startlinecolor": "#2a3f5f"
            },
            "type": "carpet"
           }
          ],
          "choropleth": [
           {
            "colorbar": {
             "outlinewidth": 0,
             "ticks": ""
            },
            "type": "choropleth"
           }
          ],
          "contour": [
           {
            "colorbar": {
             "outlinewidth": 0,
             "ticks": ""
            },
            "colorscale": [
             [
              0,
              "#0d0887"
             ],
             [
              0.1111111111111111,
              "#46039f"
             ],
             [
              0.2222222222222222,
              "#7201a8"
             ],
             [
              0.3333333333333333,
              "#9c179e"
             ],
             [
              0.4444444444444444,
              "#bd3786"
             ],
             [
              0.5555555555555556,
              "#d8576b"
             ],
             [
              0.6666666666666666,
              "#ed7953"
             ],
             [
              0.7777777777777778,
              "#fb9f3a"
             ],
             [
              0.8888888888888888,
              "#fdca26"
             ],
             [
              1,
              "#f0f921"
             ]
            ],
            "type": "contour"
           }
          ],
          "contourcarpet": [
           {
            "colorbar": {
             "outlinewidth": 0,
             "ticks": ""
            },
            "type": "contourcarpet"
           }
          ],
          "heatmap": [
           {
            "colorbar": {
             "outlinewidth": 0,
             "ticks": ""
            },
            "colorscale": [
             [
              0,
              "#0d0887"
             ],
             [
              0.1111111111111111,
              "#46039f"
             ],
             [
              0.2222222222222222,
              "#7201a8"
             ],
             [
              0.3333333333333333,
              "#9c179e"
             ],
             [
              0.4444444444444444,
              "#bd3786"
             ],
             [
              0.5555555555555556,
              "#d8576b"
             ],
             [
              0.6666666666666666,
              "#ed7953"
             ],
             [
              0.7777777777777778,
              "#fb9f3a"
             ],
             [
              0.8888888888888888,
              "#fdca26"
             ],
             [
              1,
              "#f0f921"
             ]
            ],
            "type": "heatmap"
           }
          ],
          "heatmapgl": [
           {
            "colorbar": {
             "outlinewidth": 0,
             "ticks": ""
            },
            "colorscale": [
             [
              0,
              "#0d0887"
             ],
             [
              0.1111111111111111,
              "#46039f"
             ],
             [
              0.2222222222222222,
              "#7201a8"
             ],
             [
              0.3333333333333333,
              "#9c179e"
             ],
             [
              0.4444444444444444,
              "#bd3786"
             ],
             [
              0.5555555555555556,
              "#d8576b"
             ],
             [
              0.6666666666666666,
              "#ed7953"
             ],
             [
              0.7777777777777778,
              "#fb9f3a"
             ],
             [
              0.8888888888888888,
              "#fdca26"
             ],
             [
              1,
              "#f0f921"
             ]
            ],
            "type": "heatmapgl"
           }
          ],
          "histogram": [
           {
            "marker": {
             "pattern": {
              "fillmode": "overlay",
              "size": 10,
              "solidity": 0.2
             }
            },
            "type": "histogram"
           }
          ],
          "histogram2d": [
           {
            "colorbar": {
             "outlinewidth": 0,
             "ticks": ""
            },
            "colorscale": [
             [
              0,
              "#0d0887"
             ],
             [
              0.1111111111111111,
              "#46039f"
             ],
             [
              0.2222222222222222,
              "#7201a8"
             ],
             [
              0.3333333333333333,
              "#9c179e"
             ],
             [
              0.4444444444444444,
              "#bd3786"
             ],
             [
              0.5555555555555556,
              "#d8576b"
             ],
             [
              0.6666666666666666,
              "#ed7953"
             ],
             [
              0.7777777777777778,
              "#fb9f3a"
             ],
             [
              0.8888888888888888,
              "#fdca26"
             ],
             [
              1,
              "#f0f921"
             ]
            ],
            "type": "histogram2d"
           }
          ],
          "histogram2dcontour": [
           {
            "colorbar": {
             "outlinewidth": 0,
             "ticks": ""
            },
            "colorscale": [
             [
              0,
              "#0d0887"
             ],
             [
              0.1111111111111111,
              "#46039f"
             ],
             [
              0.2222222222222222,
              "#7201a8"
             ],
             [
              0.3333333333333333,
              "#9c179e"
             ],
             [
              0.4444444444444444,
              "#bd3786"
             ],
             [
              0.5555555555555556,
              "#d8576b"
             ],
             [
              0.6666666666666666,
              "#ed7953"
             ],
             [
              0.7777777777777778,
              "#fb9f3a"
             ],
             [
              0.8888888888888888,
              "#fdca26"
             ],
             [
              1,
              "#f0f921"
             ]
            ],
            "type": "histogram2dcontour"
           }
          ],
          "mesh3d": [
           {
            "colorbar": {
             "outlinewidth": 0,
             "ticks": ""
            },
            "type": "mesh3d"
           }
          ],
          "parcoords": [
           {
            "line": {
             "colorbar": {
              "outlinewidth": 0,
              "ticks": ""
             }
            },
            "type": "parcoords"
           }
          ],
          "pie": [
           {
            "automargin": true,
            "type": "pie"
           }
          ],
          "scatter": [
           {
            "marker": {
             "colorbar": {
              "outlinewidth": 0,
              "ticks": ""
             }
            },
            "type": "scatter"
           }
          ],
          "scatter3d": [
           {
            "line": {
             "colorbar": {
              "outlinewidth": 0,
              "ticks": ""
             }
            },
            "marker": {
             "colorbar": {
              "outlinewidth": 0,
              "ticks": ""
             }
            },
            "type": "scatter3d"
           }
          ],
          "scattercarpet": [
           {
            "marker": {
             "colorbar": {
              "outlinewidth": 0,
              "ticks": ""
             }
            },
            "type": "scattercarpet"
           }
          ],
          "scattergeo": [
           {
            "marker": {
             "colorbar": {
              "outlinewidth": 0,
              "ticks": ""
             }
            },
            "type": "scattergeo"
           }
          ],
          "scattergl": [
           {
            "marker": {
             "colorbar": {
              "outlinewidth": 0,
              "ticks": ""
             }
            },
            "type": "scattergl"
           }
          ],
          "scattermapbox": [
           {
            "marker": {
             "colorbar": {
              "outlinewidth": 0,
              "ticks": ""
             }
            },
            "type": "scattermapbox"
           }
          ],
          "scatterpolar": [
           {
            "marker": {
             "colorbar": {
              "outlinewidth": 0,
              "ticks": ""
             }
            },
            "type": "scatterpolar"
           }
          ],
          "scatterpolargl": [
           {
            "marker": {
             "colorbar": {
              "outlinewidth": 0,
              "ticks": ""
             }
            },
            "type": "scatterpolargl"
           }
          ],
          "scatterternary": [
           {
            "marker": {
             "colorbar": {
              "outlinewidth": 0,
              "ticks": ""
             }
            },
            "type": "scatterternary"
           }
          ],
          "surface": [
           {
            "colorbar": {
             "outlinewidth": 0,
             "ticks": ""
            },
            "colorscale": [
             [
              0,
              "#0d0887"
             ],
             [
              0.1111111111111111,
              "#46039f"
             ],
             [
              0.2222222222222222,
              "#7201a8"
             ],
             [
              0.3333333333333333,
              "#9c179e"
             ],
             [
              0.4444444444444444,
              "#bd3786"
             ],
             [
              0.5555555555555556,
              "#d8576b"
             ],
             [
              0.6666666666666666,
              "#ed7953"
             ],
             [
              0.7777777777777778,
              "#fb9f3a"
             ],
             [
              0.8888888888888888,
              "#fdca26"
             ],
             [
              1,
              "#f0f921"
             ]
            ],
            "type": "surface"
           }
          ],
          "table": [
           {
            "cells": {
             "fill": {
              "color": "#EBF0F8"
             },
             "line": {
              "color": "white"
             }
            },
            "header": {
             "fill": {
              "color": "#C8D4E3"
             },
             "line": {
              "color": "white"
             }
            },
            "type": "table"
           }
          ]
         },
         "layout": {
          "annotationdefaults": {
           "arrowcolor": "#2a3f5f",
           "arrowhead": 0,
           "arrowwidth": 1
          },
          "autotypenumbers": "strict",
          "coloraxis": {
           "colorbar": {
            "outlinewidth": 0,
            "ticks": ""
           }
          },
          "colorscale": {
           "diverging": [
            [
             0,
             "#8e0152"
            ],
            [
             0.1,
             "#c51b7d"
            ],
            [
             0.2,
             "#de77ae"
            ],
            [
             0.3,
             "#f1b6da"
            ],
            [
             0.4,
             "#fde0ef"
            ],
            [
             0.5,
             "#f7f7f7"
            ],
            [
             0.6,
             "#e6f5d0"
            ],
            [
             0.7,
             "#b8e186"
            ],
            [
             0.8,
             "#7fbc41"
            ],
            [
             0.9,
             "#4d9221"
            ],
            [
             1,
             "#276419"
            ]
           ],
           "sequential": [
            [
             0,
             "#0d0887"
            ],
            [
             0.1111111111111111,
             "#46039f"
            ],
            [
             0.2222222222222222,
             "#7201a8"
            ],
            [
             0.3333333333333333,
             "#9c179e"
            ],
            [
             0.4444444444444444,
             "#bd3786"
            ],
            [
             0.5555555555555556,
             "#d8576b"
            ],
            [
             0.6666666666666666,
             "#ed7953"
            ],
            [
             0.7777777777777778,
             "#fb9f3a"
            ],
            [
             0.8888888888888888,
             "#fdca26"
            ],
            [
             1,
             "#f0f921"
            ]
           ],
           "sequentialminus": [
            [
             0,
             "#0d0887"
            ],
            [
             0.1111111111111111,
             "#46039f"
            ],
            [
             0.2222222222222222,
             "#7201a8"
            ],
            [
             0.3333333333333333,
             "#9c179e"
            ],
            [
             0.4444444444444444,
             "#bd3786"
            ],
            [
             0.5555555555555556,
             "#d8576b"
            ],
            [
             0.6666666666666666,
             "#ed7953"
            ],
            [
             0.7777777777777778,
             "#fb9f3a"
            ],
            [
             0.8888888888888888,
             "#fdca26"
            ],
            [
             1,
             "#f0f921"
            ]
           ]
          },
          "colorway": [
           "#636efa",
           "#EF553B",
           "#00cc96",
           "#ab63fa",
           "#FFA15A",
           "#19d3f3",
           "#FF6692",
           "#B6E880",
           "#FF97FF",
           "#FECB52"
          ],
          "font": {
           "color": "#2a3f5f"
          },
          "geo": {
           "bgcolor": "white",
           "lakecolor": "white",
           "landcolor": "#E5ECF6",
           "showlakes": true,
           "showland": true,
           "subunitcolor": "white"
          },
          "hoverlabel": {
           "align": "left"
          },
          "hovermode": "closest",
          "mapbox": {
           "style": "light"
          },
          "paper_bgcolor": "white",
          "plot_bgcolor": "#E5ECF6",
          "polar": {
           "angularaxis": {
            "gridcolor": "white",
            "linecolor": "white",
            "ticks": ""
           },
           "bgcolor": "#E5ECF6",
           "radialaxis": {
            "gridcolor": "white",
            "linecolor": "white",
            "ticks": ""
           }
          },
          "scene": {
           "xaxis": {
            "backgroundcolor": "#E5ECF6",
            "gridcolor": "white",
            "gridwidth": 2,
            "linecolor": "white",
            "showbackground": true,
            "ticks": "",
            "zerolinecolor": "white"
           },
           "yaxis": {
            "backgroundcolor": "#E5ECF6",
            "gridcolor": "white",
            "gridwidth": 2,
            "linecolor": "white",
            "showbackground": true,
            "ticks": "",
            "zerolinecolor": "white"
           },
           "zaxis": {
            "backgroundcolor": "#E5ECF6",
            "gridcolor": "white",
            "gridwidth": 2,
            "linecolor": "white",
            "showbackground": true,
            "ticks": "",
            "zerolinecolor": "white"
           }
          },
          "shapedefaults": {
           "line": {
            "color": "#2a3f5f"
           }
          },
          "ternary": {
           "aaxis": {
            "gridcolor": "white",
            "linecolor": "white",
            "ticks": ""
           },
           "baxis": {
            "gridcolor": "white",
            "linecolor": "white",
            "ticks": ""
           },
           "bgcolor": "#E5ECF6",
           "caxis": {
            "gridcolor": "white",
            "linecolor": "white",
            "ticks": ""
           }
          },
          "title": {
           "x": 0.05
          },
          "xaxis": {
           "automargin": true,
           "gridcolor": "white",
           "linecolor": "white",
           "ticks": "",
           "title": {
            "standoff": 15
           },
           "zerolinecolor": "white",
           "zerolinewidth": 2
          },
          "yaxis": {
           "automargin": true,
           "gridcolor": "white",
           "linecolor": "white",
           "ticks": "",
           "title": {
            "standoff": 15
           },
           "zerolinecolor": "white",
           "zerolinewidth": 2
          }
         }
        },
        "title": {
         "text": "Zone Lights Total Heating Rate Month #8"
        },
        "xaxis": {
         "title": {
          "text": "Hours"
         }
        },
        "yaxis": {
         "title": {
          "text": "Power [W]"
         }
        }
       }
      }
     },
     "metadata": {},
     "output_type": "display_data"
    }
   ],
   "source": [
    "\n",
    "month_by_hour_zonal_plot(\"Zone Lights Total Heating Rate\", 8)"
   ]
  },
  {
   "cell_type": "code",
   "execution_count": null,
   "metadata": {},
   "outputs": [
    {
     "data": {
      "application/vnd.plotly.v1+json": {
       "config": {
        "plotlyServerURL": "https://plot.ly"
       },
       "data": [
        {
         "mode": "lines+markers",
         "name": "Zone 1",
         "type": "scatter",
         "x": [
          "00:00",
          "01:00",
          "02:00",
          "03:00",
          "04:00",
          "05:00",
          "06:00",
          "07:00",
          "08:00",
          "09:00",
          "10:00",
          "11:00",
          "12:00",
          "13:00",
          "14:00",
          "15:00",
          "16:00",
          "17:00",
          "18:00",
          "19:00",
          "20:00",
          "21:00",
          "22:00",
          "23:00"
         ],
         "y": [
          0,
          0,
          0,
          0,
          0,
          0,
          8.264281598411607,
          104.9118072762057,
          314.72961703092665,
          615.7361000954546,
          890.9811507237491,
          1055.2695079203563,
          1076.1572157596931,
          958.6609389263351,
          722.3710410382874,
          425.30953728901864,
          171.46251291971186,
          40.49730954468411,
          1.3623862033939018,
          0,
          0,
          0,
          0,
          0
         ]
        },
        {
         "mode": "lines+markers",
         "name": "Zone 2",
         "type": "scatter",
         "x": [
          "00:00",
          "01:00",
          "02:00",
          "03:00",
          "04:00",
          "05:00",
          "06:00",
          "07:00",
          "08:00",
          "09:00",
          "10:00",
          "11:00",
          "12:00",
          "13:00",
          "14:00",
          "15:00",
          "16:00",
          "17:00",
          "18:00",
          "19:00",
          "20:00",
          "21:00",
          "22:00",
          "23:00"
         ],
         "y": [
          0,
          0,
          0,
          0,
          0,
          216.1977101795461,
          517.4338621406584,
          689.9145375710793,
          1224.4323174865585,
          1629.4929794782436,
          1896.5703240880464,
          2001.8785052558471,
          2073.5958648991555,
          2069.420218824272,
          1919.0272425343783,
          1564.2915509183701,
          1011.7186084051049,
          698.1077981133218,
          412.86111007177635,
          0,
          0,
          0,
          0,
          0
         ]
        },
        {
         "mode": "lines+markers",
         "name": "Zone 3",
         "type": "scatter",
         "x": [
          "00:00",
          "01:00",
          "02:00",
          "03:00",
          "04:00",
          "05:00",
          "06:00",
          "07:00",
          "08:00",
          "09:00",
          "10:00",
          "11:00",
          "12:00",
          "13:00",
          "14:00",
          "15:00",
          "16:00",
          "17:00",
          "18:00",
          "19:00",
          "20:00",
          "21:00",
          "22:00",
          "23:00"
         ],
         "y": [
          0,
          0,
          0,
          0,
          0,
          274.5594351708554,
          636.4447059391525,
          834.4457094107889,
          1396.3254258371321,
          1796.290251405374,
          2049.727602364471,
          2146.03905764612,
          2210.295003845757,
          2201.023716916599,
          2050.0490700694477,
          1694.7104467614204,
          1138.178705105544,
          819.9604687737042,
          488.0351023500256,
          0,
          0,
          0,
          0,
          0
         ]
        },
        {
         "mode": "lines+markers",
         "name": "Zone 4",
         "type": "scatter",
         "x": [
          "00:00",
          "01:00",
          "02:00",
          "03:00",
          "04:00",
          "05:00",
          "06:00",
          "07:00",
          "08:00",
          "09:00",
          "10:00",
          "11:00",
          "12:00",
          "13:00",
          "14:00",
          "15:00",
          "16:00",
          "17:00",
          "18:00",
          "19:00",
          "20:00",
          "21:00",
          "22:00",
          "23:00"
         ],
         "y": [
          0,
          0,
          0,
          0,
          0,
          0,
          18.104133763430582,
          125.46589850034822,
          340.03658218387574,
          640.0114030986997,
          913.0386764049516,
          1075.7974639886943,
          1095.4458074124295,
          977.1668394642171,
          740.9757772438427,
          443.77363789808675,
          188.9705075130112,
          53.996907674641186,
          2.7352194183122176,
          0,
          0,
          0,
          0,
          0
         ]
        }
       ],
       "layout": {
        "template": {
         "data": {
          "bar": [
           {
            "error_x": {
             "color": "#2a3f5f"
            },
            "error_y": {
             "color": "#2a3f5f"
            },
            "marker": {
             "line": {
              "color": "#E5ECF6",
              "width": 0.5
             },
             "pattern": {
              "fillmode": "overlay",
              "size": 10,
              "solidity": 0.2
             }
            },
            "type": "bar"
           }
          ],
          "barpolar": [
           {
            "marker": {
             "line": {
              "color": "#E5ECF6",
              "width": 0.5
             },
             "pattern": {
              "fillmode": "overlay",
              "size": 10,
              "solidity": 0.2
             }
            },
            "type": "barpolar"
           }
          ],
          "carpet": [
           {
            "aaxis": {
             "endlinecolor": "#2a3f5f",
             "gridcolor": "white",
             "linecolor": "white",
             "minorgridcolor": "white",
             "startlinecolor": "#2a3f5f"
            },
            "baxis": {
             "endlinecolor": "#2a3f5f",
             "gridcolor": "white",
             "linecolor": "white",
             "minorgridcolor": "white",
             "startlinecolor": "#2a3f5f"
            },
            "type": "carpet"
           }
          ],
          "choropleth": [
           {
            "colorbar": {
             "outlinewidth": 0,
             "ticks": ""
            },
            "type": "choropleth"
           }
          ],
          "contour": [
           {
            "colorbar": {
             "outlinewidth": 0,
             "ticks": ""
            },
            "colorscale": [
             [
              0,
              "#0d0887"
             ],
             [
              0.1111111111111111,
              "#46039f"
             ],
             [
              0.2222222222222222,
              "#7201a8"
             ],
             [
              0.3333333333333333,
              "#9c179e"
             ],
             [
              0.4444444444444444,
              "#bd3786"
             ],
             [
              0.5555555555555556,
              "#d8576b"
             ],
             [
              0.6666666666666666,
              "#ed7953"
             ],
             [
              0.7777777777777778,
              "#fb9f3a"
             ],
             [
              0.8888888888888888,
              "#fdca26"
             ],
             [
              1,
              "#f0f921"
             ]
            ],
            "type": "contour"
           }
          ],
          "contourcarpet": [
           {
            "colorbar": {
             "outlinewidth": 0,
             "ticks": ""
            },
            "type": "contourcarpet"
           }
          ],
          "heatmap": [
           {
            "colorbar": {
             "outlinewidth": 0,
             "ticks": ""
            },
            "colorscale": [
             [
              0,
              "#0d0887"
             ],
             [
              0.1111111111111111,
              "#46039f"
             ],
             [
              0.2222222222222222,
              "#7201a8"
             ],
             [
              0.3333333333333333,
              "#9c179e"
             ],
             [
              0.4444444444444444,
              "#bd3786"
             ],
             [
              0.5555555555555556,
              "#d8576b"
             ],
             [
              0.6666666666666666,
              "#ed7953"
             ],
             [
              0.7777777777777778,
              "#fb9f3a"
             ],
             [
              0.8888888888888888,
              "#fdca26"
             ],
             [
              1,
              "#f0f921"
             ]
            ],
            "type": "heatmap"
           }
          ],
          "heatmapgl": [
           {
            "colorbar": {
             "outlinewidth": 0,
             "ticks": ""
            },
            "colorscale": [
             [
              0,
              "#0d0887"
             ],
             [
              0.1111111111111111,
              "#46039f"
             ],
             [
              0.2222222222222222,
              "#7201a8"
             ],
             [
              0.3333333333333333,
              "#9c179e"
             ],
             [
              0.4444444444444444,
              "#bd3786"
             ],
             [
              0.5555555555555556,
              "#d8576b"
             ],
             [
              0.6666666666666666,
              "#ed7953"
             ],
             [
              0.7777777777777778,
              "#fb9f3a"
             ],
             [
              0.8888888888888888,
              "#fdca26"
             ],
             [
              1,
              "#f0f921"
             ]
            ],
            "type": "heatmapgl"
           }
          ],
          "histogram": [
           {
            "marker": {
             "pattern": {
              "fillmode": "overlay",
              "size": 10,
              "solidity": 0.2
             }
            },
            "type": "histogram"
           }
          ],
          "histogram2d": [
           {
            "colorbar": {
             "outlinewidth": 0,
             "ticks": ""
            },
            "colorscale": [
             [
              0,
              "#0d0887"
             ],
             [
              0.1111111111111111,
              "#46039f"
             ],
             [
              0.2222222222222222,
              "#7201a8"
             ],
             [
              0.3333333333333333,
              "#9c179e"
             ],
             [
              0.4444444444444444,
              "#bd3786"
             ],
             [
              0.5555555555555556,
              "#d8576b"
             ],
             [
              0.6666666666666666,
              "#ed7953"
             ],
             [
              0.7777777777777778,
              "#fb9f3a"
             ],
             [
              0.8888888888888888,
              "#fdca26"
             ],
             [
              1,
              "#f0f921"
             ]
            ],
            "type": "histogram2d"
           }
          ],
          "histogram2dcontour": [
           {
            "colorbar": {
             "outlinewidth": 0,
             "ticks": ""
            },
            "colorscale": [
             [
              0,
              "#0d0887"
             ],
             [
              0.1111111111111111,
              "#46039f"
             ],
             [
              0.2222222222222222,
              "#7201a8"
             ],
             [
              0.3333333333333333,
              "#9c179e"
             ],
             [
              0.4444444444444444,
              "#bd3786"
             ],
             [
              0.5555555555555556,
              "#d8576b"
             ],
             [
              0.6666666666666666,
              "#ed7953"
             ],
             [
              0.7777777777777778,
              "#fb9f3a"
             ],
             [
              0.8888888888888888,
              "#fdca26"
             ],
             [
              1,
              "#f0f921"
             ]
            ],
            "type": "histogram2dcontour"
           }
          ],
          "mesh3d": [
           {
            "colorbar": {
             "outlinewidth": 0,
             "ticks": ""
            },
            "type": "mesh3d"
           }
          ],
          "parcoords": [
           {
            "line": {
             "colorbar": {
              "outlinewidth": 0,
              "ticks": ""
             }
            },
            "type": "parcoords"
           }
          ],
          "pie": [
           {
            "automargin": true,
            "type": "pie"
           }
          ],
          "scatter": [
           {
            "marker": {
             "colorbar": {
              "outlinewidth": 0,
              "ticks": ""
             }
            },
            "type": "scatter"
           }
          ],
          "scatter3d": [
           {
            "line": {
             "colorbar": {
              "outlinewidth": 0,
              "ticks": ""
             }
            },
            "marker": {
             "colorbar": {
              "outlinewidth": 0,
              "ticks": ""
             }
            },
            "type": "scatter3d"
           }
          ],
          "scattercarpet": [
           {
            "marker": {
             "colorbar": {
              "outlinewidth": 0,
              "ticks": ""
             }
            },
            "type": "scattercarpet"
           }
          ],
          "scattergeo": [
           {
            "marker": {
             "colorbar": {
              "outlinewidth": 0,
              "ticks": ""
             }
            },
            "type": "scattergeo"
           }
          ],
          "scattergl": [
           {
            "marker": {
             "colorbar": {
              "outlinewidth": 0,
              "ticks": ""
             }
            },
            "type": "scattergl"
           }
          ],
          "scattermapbox": [
           {
            "marker": {
             "colorbar": {
              "outlinewidth": 0,
              "ticks": ""
             }
            },
            "type": "scattermapbox"
           }
          ],
          "scatterpolar": [
           {
            "marker": {
             "colorbar": {
              "outlinewidth": 0,
              "ticks": ""
             }
            },
            "type": "scatterpolar"
           }
          ],
          "scatterpolargl": [
           {
            "marker": {
             "colorbar": {
              "outlinewidth": 0,
              "ticks": ""
             }
            },
            "type": "scatterpolargl"
           }
          ],
          "scatterternary": [
           {
            "marker": {
             "colorbar": {
              "outlinewidth": 0,
              "ticks": ""
             }
            },
            "type": "scatterternary"
           }
          ],
          "surface": [
           {
            "colorbar": {
             "outlinewidth": 0,
             "ticks": ""
            },
            "colorscale": [
             [
              0,
              "#0d0887"
             ],
             [
              0.1111111111111111,
              "#46039f"
             ],
             [
              0.2222222222222222,
              "#7201a8"
             ],
             [
              0.3333333333333333,
              "#9c179e"
             ],
             [
              0.4444444444444444,
              "#bd3786"
             ],
             [
              0.5555555555555556,
              "#d8576b"
             ],
             [
              0.6666666666666666,
              "#ed7953"
             ],
             [
              0.7777777777777778,
              "#fb9f3a"
             ],
             [
              0.8888888888888888,
              "#fdca26"
             ],
             [
              1,
              "#f0f921"
             ]
            ],
            "type": "surface"
           }
          ],
          "table": [
           {
            "cells": {
             "fill": {
              "color": "#EBF0F8"
             },
             "line": {
              "color": "white"
             }
            },
            "header": {
             "fill": {
              "color": "#C8D4E3"
             },
             "line": {
              "color": "white"
             }
            },
            "type": "table"
           }
          ]
         },
         "layout": {
          "annotationdefaults": {
           "arrowcolor": "#2a3f5f",
           "arrowhead": 0,
           "arrowwidth": 1
          },
          "autotypenumbers": "strict",
          "coloraxis": {
           "colorbar": {
            "outlinewidth": 0,
            "ticks": ""
           }
          },
          "colorscale": {
           "diverging": [
            [
             0,
             "#8e0152"
            ],
            [
             0.1,
             "#c51b7d"
            ],
            [
             0.2,
             "#de77ae"
            ],
            [
             0.3,
             "#f1b6da"
            ],
            [
             0.4,
             "#fde0ef"
            ],
            [
             0.5,
             "#f7f7f7"
            ],
            [
             0.6,
             "#e6f5d0"
            ],
            [
             0.7,
             "#b8e186"
            ],
            [
             0.8,
             "#7fbc41"
            ],
            [
             0.9,
             "#4d9221"
            ],
            [
             1,
             "#276419"
            ]
           ],
           "sequential": [
            [
             0,
             "#0d0887"
            ],
            [
             0.1111111111111111,
             "#46039f"
            ],
            [
             0.2222222222222222,
             "#7201a8"
            ],
            [
             0.3333333333333333,
             "#9c179e"
            ],
            [
             0.4444444444444444,
             "#bd3786"
            ],
            [
             0.5555555555555556,
             "#d8576b"
            ],
            [
             0.6666666666666666,
             "#ed7953"
            ],
            [
             0.7777777777777778,
             "#fb9f3a"
            ],
            [
             0.8888888888888888,
             "#fdca26"
            ],
            [
             1,
             "#f0f921"
            ]
           ],
           "sequentialminus": [
            [
             0,
             "#0d0887"
            ],
            [
             0.1111111111111111,
             "#46039f"
            ],
            [
             0.2222222222222222,
             "#7201a8"
            ],
            [
             0.3333333333333333,
             "#9c179e"
            ],
            [
             0.4444444444444444,
             "#bd3786"
            ],
            [
             0.5555555555555556,
             "#d8576b"
            ],
            [
             0.6666666666666666,
             "#ed7953"
            ],
            [
             0.7777777777777778,
             "#fb9f3a"
            ],
            [
             0.8888888888888888,
             "#fdca26"
            ],
            [
             1,
             "#f0f921"
            ]
           ]
          },
          "colorway": [
           "#636efa",
           "#EF553B",
           "#00cc96",
           "#ab63fa",
           "#FFA15A",
           "#19d3f3",
           "#FF6692",
           "#B6E880",
           "#FF97FF",
           "#FECB52"
          ],
          "font": {
           "color": "#2a3f5f"
          },
          "geo": {
           "bgcolor": "white",
           "lakecolor": "white",
           "landcolor": "#E5ECF6",
           "showlakes": true,
           "showland": true,
           "subunitcolor": "white"
          },
          "hoverlabel": {
           "align": "left"
          },
          "hovermode": "closest",
          "mapbox": {
           "style": "light"
          },
          "paper_bgcolor": "white",
          "plot_bgcolor": "#E5ECF6",
          "polar": {
           "angularaxis": {
            "gridcolor": "white",
            "linecolor": "white",
            "ticks": ""
           },
           "bgcolor": "#E5ECF6",
           "radialaxis": {
            "gridcolor": "white",
            "linecolor": "white",
            "ticks": ""
           }
          },
          "scene": {
           "xaxis": {
            "backgroundcolor": "#E5ECF6",
            "gridcolor": "white",
            "gridwidth": 2,
            "linecolor": "white",
            "showbackground": true,
            "ticks": "",
            "zerolinecolor": "white"
           },
           "yaxis": {
            "backgroundcolor": "#E5ECF6",
            "gridcolor": "white",
            "gridwidth": 2,
            "linecolor": "white",
            "showbackground": true,
            "ticks": "",
            "zerolinecolor": "white"
           },
           "zaxis": {
            "backgroundcolor": "#E5ECF6",
            "gridcolor": "white",
            "gridwidth": 2,
            "linecolor": "white",
            "showbackground": true,
            "ticks": "",
            "zerolinecolor": "white"
           }
          },
          "shapedefaults": {
           "line": {
            "color": "#2a3f5f"
           }
          },
          "ternary": {
           "aaxis": {
            "gridcolor": "white",
            "linecolor": "white",
            "ticks": ""
           },
           "baxis": {
            "gridcolor": "white",
            "linecolor": "white",
            "ticks": ""
           },
           "bgcolor": "#E5ECF6",
           "caxis": {
            "gridcolor": "white",
            "linecolor": "white",
            "ticks": ""
           }
          },
          "title": {
           "x": 0.05
          },
          "xaxis": {
           "automargin": true,
           "gridcolor": "white",
           "linecolor": "white",
           "ticks": "",
           "title": {
            "standoff": 15
           },
           "zerolinecolor": "white",
           "zerolinewidth": 2
          },
          "yaxis": {
           "automargin": true,
           "gridcolor": "white",
           "linecolor": "white",
           "ticks": "",
           "title": {
            "standoff": 15
           },
           "zerolinecolor": "white",
           "zerolinewidth": 2
          }
         }
        },
        "title": {
         "text": "Surface Window Heat Gain Rate Month #8"
        },
        "xaxis": {
         "title": {
          "text": "Hours"
         }
        },
        "yaxis": {
         "title": {
          "text": "Power [W]"
         }
        }
       }
      }
     },
     "metadata": {},
     "output_type": "display_data"
    }
   ],
   "source": [
    "\n",
    "month_by_hour_zonal_plot(\"Surface Window Heat Gain Rate\", 8)"
   ]
  },
  {
   "cell_type": "code",
   "execution_count": null,
   "metadata": {},
   "outputs": [
    {
     "data": {
      "application/vnd.plotly.v1+json": {
       "config": {
        "plotlyServerURL": "https://plot.ly"
       },
       "data": [
        {
         "marker": {
          "size": 20
         },
         "mode": "lines+markers",
         "name": "Zone 1",
         "type": "scatter",
         "x": [
          "00:00",
          "01:00",
          "02:00",
          "03:00",
          "04:00",
          "05:00",
          "06:00",
          "07:00",
          "08:00",
          "09:00",
          "10:00",
          "11:00",
          "12:00",
          "13:00",
          "14:00",
          "15:00",
          "16:00",
          "17:00",
          "18:00",
          "19:00",
          "20:00",
          "21:00",
          "22:00",
          "23:00"
         ],
         "y": [
          0.22242647058823545,
          0.22242647058823545,
          0.22242647058823545,
          0.22242647058823545,
          0.22242647058823545,
          0.22242647058823545,
          0.22242647058823545,
          0.22242647058823545,
          0.22242647058823545,
          0.22242647058823545,
          0.22242647058823545,
          0.22242647058823545,
          0.22242647058823545,
          0.22242647058823545,
          0.2224264705882354,
          0.22242647058823545,
          0.22242647058823545,
          0.22242647058823545,
          0.22242647058823545,
          0.22242647058823545,
          0.22242647058823545,
          0.22242647058823545,
          0.22242647058823545,
          0.22242647058823545
         ]
        },
        {
         "marker": {
          "size": 15
         },
         "mode": "lines+markers",
         "name": "Zone 2",
         "type": "scatter",
         "x": [
          "00:00",
          "01:00",
          "02:00",
          "03:00",
          "04:00",
          "05:00",
          "06:00",
          "07:00",
          "08:00",
          "09:00",
          "10:00",
          "11:00",
          "12:00",
          "13:00",
          "14:00",
          "15:00",
          "16:00",
          "17:00",
          "18:00",
          "19:00",
          "20:00",
          "21:00",
          "22:00",
          "23:00"
         ],
         "y": [
          0.2224264705882353,
          0.2224264705882353,
          0.2224264705882353,
          0.2224264705882353,
          0.2224264705882353,
          0.2224264705882353,
          0.2224264705882353,
          0.2224264705882353,
          0.2224264705882353,
          0.2224264705882353,
          0.2224264705882353,
          0.2224264705882353,
          0.2224264705882353,
          0.2224264705882353,
          0.2224264705882353,
          0.2224264705882353,
          0.2224264705882353,
          0.2224264705882353,
          0.2224264705882353,
          0.2224264705882353,
          0.2224264705882353,
          0.2224264705882353,
          0.2224264705882353,
          0.2224264705882353
         ]
        },
        {
         "marker": {
          "size": 10
         },
         "mode": "lines+markers",
         "name": "Zone 3",
         "type": "scatter",
         "x": [
          "00:00",
          "01:00",
          "02:00",
          "03:00",
          "04:00",
          "05:00",
          "06:00",
          "07:00",
          "08:00",
          "09:00",
          "10:00",
          "11:00",
          "12:00",
          "13:00",
          "14:00",
          "15:00",
          "16:00",
          "17:00",
          "18:00",
          "19:00",
          "20:00",
          "21:00",
          "22:00",
          "23:00"
         ],
         "y": [
          0.2160714285714285,
          0.2160714285714285,
          0.2160714285714285,
          0.2160714285714285,
          0.2160714285714285,
          0.2160714285714285,
          0.2160714285714285,
          0.2160714285714285,
          0.2160714285714285,
          0.2160714285714285,
          0.2160714285714285,
          0.2160714285714285,
          0.2160714285714285,
          0.2160714285714285,
          0.2160714285714285,
          0.2160714285714285,
          0.2160714285714285,
          0.2160714285714285,
          0.2160714285714285,
          0.2160714285714285,
          0.2160714285714285,
          0.2160714285714285,
          0.2160714285714285,
          0.2160714285714285
         ]
        },
        {
         "marker": {
          "size": 5
         },
         "mode": "lines+markers",
         "name": "Zone 4",
         "type": "scatter",
         "x": [
          "00:00",
          "01:00",
          "02:00",
          "03:00",
          "04:00",
          "05:00",
          "06:00",
          "07:00",
          "08:00",
          "09:00",
          "10:00",
          "11:00",
          "12:00",
          "13:00",
          "14:00",
          "15:00",
          "16:00",
          "17:00",
          "18:00",
          "19:00",
          "20:00",
          "21:00",
          "22:00",
          "23:00"
         ],
         "y": [
          0.2775229357798164,
          0.2775229357798164,
          0.2775229357798164,
          0.2775229357798164,
          0.2775229357798164,
          0.2775229357798164,
          0.2775229357798164,
          0.2775229357798164,
          0.2775229357798164,
          0.2775229357798164,
          0.2775229357798164,
          0.2775229357798164,
          0.2775229357798164,
          0.2775229357798164,
          0.2775229357798164,
          0.2775229357798164,
          0.2775229357798164,
          0.2775229357798164,
          0.2775229357798164,
          0.2775229357798164,
          0.2775229357798164,
          0.2775229357798164,
          0.2775229357798164,
          0.2775229357798164
         ]
        }
       ],
       "layout": {
        "template": {
         "data": {
          "bar": [
           {
            "error_x": {
             "color": "#2a3f5f"
            },
            "error_y": {
             "color": "#2a3f5f"
            },
            "marker": {
             "line": {
              "color": "#E5ECF6",
              "width": 0.5
             },
             "pattern": {
              "fillmode": "overlay",
              "size": 10,
              "solidity": 0.2
             }
            },
            "type": "bar"
           }
          ],
          "barpolar": [
           {
            "marker": {
             "line": {
              "color": "#E5ECF6",
              "width": 0.5
             },
             "pattern": {
              "fillmode": "overlay",
              "size": 10,
              "solidity": 0.2
             }
            },
            "type": "barpolar"
           }
          ],
          "carpet": [
           {
            "aaxis": {
             "endlinecolor": "#2a3f5f",
             "gridcolor": "white",
             "linecolor": "white",
             "minorgridcolor": "white",
             "startlinecolor": "#2a3f5f"
            },
            "baxis": {
             "endlinecolor": "#2a3f5f",
             "gridcolor": "white",
             "linecolor": "white",
             "minorgridcolor": "white",
             "startlinecolor": "#2a3f5f"
            },
            "type": "carpet"
           }
          ],
          "choropleth": [
           {
            "colorbar": {
             "outlinewidth": 0,
             "ticks": ""
            },
            "type": "choropleth"
           }
          ],
          "contour": [
           {
            "colorbar": {
             "outlinewidth": 0,
             "ticks": ""
            },
            "colorscale": [
             [
              0,
              "#0d0887"
             ],
             [
              0.1111111111111111,
              "#46039f"
             ],
             [
              0.2222222222222222,
              "#7201a8"
             ],
             [
              0.3333333333333333,
              "#9c179e"
             ],
             [
              0.4444444444444444,
              "#bd3786"
             ],
             [
              0.5555555555555556,
              "#d8576b"
             ],
             [
              0.6666666666666666,
              "#ed7953"
             ],
             [
              0.7777777777777778,
              "#fb9f3a"
             ],
             [
              0.8888888888888888,
              "#fdca26"
             ],
             [
              1,
              "#f0f921"
             ]
            ],
            "type": "contour"
           }
          ],
          "contourcarpet": [
           {
            "colorbar": {
             "outlinewidth": 0,
             "ticks": ""
            },
            "type": "contourcarpet"
           }
          ],
          "heatmap": [
           {
            "colorbar": {
             "outlinewidth": 0,
             "ticks": ""
            },
            "colorscale": [
             [
              0,
              "#0d0887"
             ],
             [
              0.1111111111111111,
              "#46039f"
             ],
             [
              0.2222222222222222,
              "#7201a8"
             ],
             [
              0.3333333333333333,
              "#9c179e"
             ],
             [
              0.4444444444444444,
              "#bd3786"
             ],
             [
              0.5555555555555556,
              "#d8576b"
             ],
             [
              0.6666666666666666,
              "#ed7953"
             ],
             [
              0.7777777777777778,
              "#fb9f3a"
             ],
             [
              0.8888888888888888,
              "#fdca26"
             ],
             [
              1,
              "#f0f921"
             ]
            ],
            "type": "heatmap"
           }
          ],
          "heatmapgl": [
           {
            "colorbar": {
             "outlinewidth": 0,
             "ticks": ""
            },
            "colorscale": [
             [
              0,
              "#0d0887"
             ],
             [
              0.1111111111111111,
              "#46039f"
             ],
             [
              0.2222222222222222,
              "#7201a8"
             ],
             [
              0.3333333333333333,
              "#9c179e"
             ],
             [
              0.4444444444444444,
              "#bd3786"
             ],
             [
              0.5555555555555556,
              "#d8576b"
             ],
             [
              0.6666666666666666,
              "#ed7953"
             ],
             [
              0.7777777777777778,
              "#fb9f3a"
             ],
             [
              0.8888888888888888,
              "#fdca26"
             ],
             [
              1,
              "#f0f921"
             ]
            ],
            "type": "heatmapgl"
           }
          ],
          "histogram": [
           {
            "marker": {
             "pattern": {
              "fillmode": "overlay",
              "size": 10,
              "solidity": 0.2
             }
            },
            "type": "histogram"
           }
          ],
          "histogram2d": [
           {
            "colorbar": {
             "outlinewidth": 0,
             "ticks": ""
            },
            "colorscale": [
             [
              0,
              "#0d0887"
             ],
             [
              0.1111111111111111,
              "#46039f"
             ],
             [
              0.2222222222222222,
              "#7201a8"
             ],
             [
              0.3333333333333333,
              "#9c179e"
             ],
             [
              0.4444444444444444,
              "#bd3786"
             ],
             [
              0.5555555555555556,
              "#d8576b"
             ],
             [
              0.6666666666666666,
              "#ed7953"
             ],
             [
              0.7777777777777778,
              "#fb9f3a"
             ],
             [
              0.8888888888888888,
              "#fdca26"
             ],
             [
              1,
              "#f0f921"
             ]
            ],
            "type": "histogram2d"
           }
          ],
          "histogram2dcontour": [
           {
            "colorbar": {
             "outlinewidth": 0,
             "ticks": ""
            },
            "colorscale": [
             [
              0,
              "#0d0887"
             ],
             [
              0.1111111111111111,
              "#46039f"
             ],
             [
              0.2222222222222222,
              "#7201a8"
             ],
             [
              0.3333333333333333,
              "#9c179e"
             ],
             [
              0.4444444444444444,
              "#bd3786"
             ],
             [
              0.5555555555555556,
              "#d8576b"
             ],
             [
              0.6666666666666666,
              "#ed7953"
             ],
             [
              0.7777777777777778,
              "#fb9f3a"
             ],
             [
              0.8888888888888888,
              "#fdca26"
             ],
             [
              1,
              "#f0f921"
             ]
            ],
            "type": "histogram2dcontour"
           }
          ],
          "mesh3d": [
           {
            "colorbar": {
             "outlinewidth": 0,
             "ticks": ""
            },
            "type": "mesh3d"
           }
          ],
          "parcoords": [
           {
            "line": {
             "colorbar": {
              "outlinewidth": 0,
              "ticks": ""
             }
            },
            "type": "parcoords"
           }
          ],
          "pie": [
           {
            "automargin": true,
            "type": "pie"
           }
          ],
          "scatter": [
           {
            "marker": {
             "colorbar": {
              "outlinewidth": 0,
              "ticks": ""
             }
            },
            "type": "scatter"
           }
          ],
          "scatter3d": [
           {
            "line": {
             "colorbar": {
              "outlinewidth": 0,
              "ticks": ""
             }
            },
            "marker": {
             "colorbar": {
              "outlinewidth": 0,
              "ticks": ""
             }
            },
            "type": "scatter3d"
           }
          ],
          "scattercarpet": [
           {
            "marker": {
             "colorbar": {
              "outlinewidth": 0,
              "ticks": ""
             }
            },
            "type": "scattercarpet"
           }
          ],
          "scattergeo": [
           {
            "marker": {
             "colorbar": {
              "outlinewidth": 0,
              "ticks": ""
             }
            },
            "type": "scattergeo"
           }
          ],
          "scattergl": [
           {
            "marker": {
             "colorbar": {
              "outlinewidth": 0,
              "ticks": ""
             }
            },
            "type": "scattergl"
           }
          ],
          "scattermapbox": [
           {
            "marker": {
             "colorbar": {
              "outlinewidth": 0,
              "ticks": ""
             }
            },
            "type": "scattermapbox"
           }
          ],
          "scatterpolar": [
           {
            "marker": {
             "colorbar": {
              "outlinewidth": 0,
              "ticks": ""
             }
            },
            "type": "scatterpolar"
           }
          ],
          "scatterpolargl": [
           {
            "marker": {
             "colorbar": {
              "outlinewidth": 0,
              "ticks": ""
             }
            },
            "type": "scatterpolargl"
           }
          ],
          "scatterternary": [
           {
            "marker": {
             "colorbar": {
              "outlinewidth": 0,
              "ticks": ""
             }
            },
            "type": "scatterternary"
           }
          ],
          "surface": [
           {
            "colorbar": {
             "outlinewidth": 0,
             "ticks": ""
            },
            "colorscale": [
             [
              0,
              "#0d0887"
             ],
             [
              0.1111111111111111,
              "#46039f"
             ],
             [
              0.2222222222222222,
              "#7201a8"
             ],
             [
              0.3333333333333333,
              "#9c179e"
             ],
             [
              0.4444444444444444,
              "#bd3786"
             ],
             [
              0.5555555555555556,
              "#d8576b"
             ],
             [
              0.6666666666666666,
              "#ed7953"
             ],
             [
              0.7777777777777778,
              "#fb9f3a"
             ],
             [
              0.8888888888888888,
              "#fdca26"
             ],
             [
              1,
              "#f0f921"
             ]
            ],
            "type": "surface"
           }
          ],
          "table": [
           {
            "cells": {
             "fill": {
              "color": "#EBF0F8"
             },
             "line": {
              "color": "white"
             }
            },
            "header": {
             "fill": {
              "color": "#C8D4E3"
             },
             "line": {
              "color": "white"
             }
            },
            "type": "table"
           }
          ]
         },
         "layout": {
          "annotationdefaults": {
           "arrowcolor": "#2a3f5f",
           "arrowhead": 0,
           "arrowwidth": 1
          },
          "autotypenumbers": "strict",
          "coloraxis": {
           "colorbar": {
            "outlinewidth": 0,
            "ticks": ""
           }
          },
          "colorscale": {
           "diverging": [
            [
             0,
             "#8e0152"
            ],
            [
             0.1,
             "#c51b7d"
            ],
            [
             0.2,
             "#de77ae"
            ],
            [
             0.3,
             "#f1b6da"
            ],
            [
             0.4,
             "#fde0ef"
            ],
            [
             0.5,
             "#f7f7f7"
            ],
            [
             0.6,
             "#e6f5d0"
            ],
            [
             0.7,
             "#b8e186"
            ],
            [
             0.8,
             "#7fbc41"
            ],
            [
             0.9,
             "#4d9221"
            ],
            [
             1,
             "#276419"
            ]
           ],
           "sequential": [
            [
             0,
             "#0d0887"
            ],
            [
             0.1111111111111111,
             "#46039f"
            ],
            [
             0.2222222222222222,
             "#7201a8"
            ],
            [
             0.3333333333333333,
             "#9c179e"
            ],
            [
             0.4444444444444444,
             "#bd3786"
            ],
            [
             0.5555555555555556,
             "#d8576b"
            ],
            [
             0.6666666666666666,
             "#ed7953"
            ],
            [
             0.7777777777777778,
             "#fb9f3a"
            ],
            [
             0.8888888888888888,
             "#fdca26"
            ],
            [
             1,
             "#f0f921"
            ]
           ],
           "sequentialminus": [
            [
             0,
             "#0d0887"
            ],
            [
             0.1111111111111111,
             "#46039f"
            ],
            [
             0.2222222222222222,
             "#7201a8"
            ],
            [
             0.3333333333333333,
             "#9c179e"
            ],
            [
             0.4444444444444444,
             "#bd3786"
            ],
            [
             0.5555555555555556,
             "#d8576b"
            ],
            [
             0.6666666666666666,
             "#ed7953"
            ],
            [
             0.7777777777777778,
             "#fb9f3a"
            ],
            [
             0.8888888888888888,
             "#fdca26"
            ],
            [
             1,
             "#f0f921"
            ]
           ]
          },
          "colorway": [
           "#636efa",
           "#EF553B",
           "#00cc96",
           "#ab63fa",
           "#FFA15A",
           "#19d3f3",
           "#FF6692",
           "#B6E880",
           "#FF97FF",
           "#FECB52"
          ],
          "font": {
           "color": "#2a3f5f"
          },
          "geo": {
           "bgcolor": "white",
           "lakecolor": "white",
           "landcolor": "#E5ECF6",
           "showlakes": true,
           "showland": true,
           "subunitcolor": "white"
          },
          "hoverlabel": {
           "align": "left"
          },
          "hovermode": "closest",
          "mapbox": {
           "style": "light"
          },
          "paper_bgcolor": "white",
          "plot_bgcolor": "#E5ECF6",
          "polar": {
           "angularaxis": {
            "gridcolor": "white",
            "linecolor": "white",
            "ticks": ""
           },
           "bgcolor": "#E5ECF6",
           "radialaxis": {
            "gridcolor": "white",
            "linecolor": "white",
            "ticks": ""
           }
          },
          "scene": {
           "xaxis": {
            "backgroundcolor": "#E5ECF6",
            "gridcolor": "white",
            "gridwidth": 2,
            "linecolor": "white",
            "showbackground": true,
            "ticks": "",
            "zerolinecolor": "white"
           },
           "yaxis": {
            "backgroundcolor": "#E5ECF6",
            "gridcolor": "white",
            "gridwidth": 2,
            "linecolor": "white",
            "showbackground": true,
            "ticks": "",
            "zerolinecolor": "white"
           },
           "zaxis": {
            "backgroundcolor": "#E5ECF6",
            "gridcolor": "white",
            "gridwidth": 2,
            "linecolor": "white",
            "showbackground": true,
            "ticks": "",
            "zerolinecolor": "white"
           }
          },
          "shapedefaults": {
           "line": {
            "color": "#2a3f5f"
           }
          },
          "ternary": {
           "aaxis": {
            "gridcolor": "white",
            "linecolor": "white",
            "ticks": ""
           },
           "baxis": {
            "gridcolor": "white",
            "linecolor": "white",
            "ticks": ""
           },
           "bgcolor": "#E5ECF6",
           "caxis": {
            "gridcolor": "white",
            "linecolor": "white",
            "ticks": ""
           }
          },
          "title": {
           "x": 0.05
          },
          "xaxis": {
           "automargin": true,
           "gridcolor": "white",
           "linecolor": "white",
           "ticks": "",
           "title": {
            "standoff": 15
           },
           "zerolinecolor": "white",
           "zerolinewidth": 2
          },
          "yaxis": {
           "automargin": true,
           "gridcolor": "white",
           "linecolor": "white",
           "ticks": "",
           "title": {
            "standoff": 15
           },
           "zerolinecolor": "white",
           "zerolinewidth": 2
          }
         }
        },
        "title": {
         "text": "Zone Air Terminal Minimum Air Flow Fraction Month #8"
        },
        "xaxis": {
         "title": {
          "text": "Hours"
         }
        },
        "yaxis": {
         "title": {
          "text": "Fraction [fraction]"
         }
        }
       }
      }
     },
     "metadata": {},
     "output_type": "display_data"
    }
   ],
   "source": [
    "month_by_hour_zonal_plot(\"Zone Air Terminal Minimum Air Flow Fraction\", 8)"
   ]
  },
  {
   "cell_type": "code",
   "execution_count": null,
   "metadata": {},
   "outputs": [
    {
     "data": {
      "application/vnd.plotly.v1+json": {
       "config": {
        "plotlyServerURL": "https://plot.ly"
       },
       "data": [
        {
         "marker": {
          "size": 20
         },
         "mode": "lines+markers",
         "name": "Zone 1",
         "type": "scatter",
         "x": [
          "00:00",
          "01:00",
          "02:00",
          "03:00",
          "04:00",
          "05:00",
          "06:00",
          "07:00",
          "08:00",
          "09:00",
          "10:00",
          "11:00",
          "12:00",
          "13:00",
          "14:00",
          "15:00",
          "16:00",
          "17:00",
          "18:00",
          "19:00",
          "20:00",
          "21:00",
          "22:00",
          "23:00"
         ],
         "y": [
          718.1935483870959,
          718.1935483870959,
          718.1935483870959,
          718.1935483870959,
          718.1935483870959,
          718.1935483870959,
          749.4193548387087,
          749.4193548387087,
          1467.6129032258057,
          1467.6129032258057,
          1467.6129032258057,
          1467.6129032258057,
          1330.2193548387083,
          1467.6129032258057,
          1420.7741935483862,
          1420.7741935483862,
          1420.7741935483862,
          1267.7677419354827,
          992.9806451612893,
          992.9806451612893,
          855.5870967741932,
          855.5870967741932,
          718.1935483870959,
          718.1935483870959
         ]
        },
        {
         "marker": {
          "size": 15
         },
         "mode": "lines+markers",
         "name": "Zone 2",
         "type": "scatter",
         "x": [
          "00:00",
          "01:00",
          "02:00",
          "03:00",
          "04:00",
          "05:00",
          "06:00",
          "07:00",
          "08:00",
          "09:00",
          "10:00",
          "11:00",
          "12:00",
          "13:00",
          "14:00",
          "15:00",
          "16:00",
          "17:00",
          "18:00",
          "19:00",
          "20:00",
          "21:00",
          "22:00",
          "23:00"
         ],
         "y": [
          2581.008064516133,
          2581.008064516133,
          2581.008064516133,
          2581.008064516133,
          2581.008064516133,
          2581.008064516133,
          2693.2258064516172,
          2693.2258064516172,
          5274.23387096775,
          5274.23387096775,
          5274.23387096775,
          5274.23387096775,
          4780.47580645162,
          5274.23387096775,
          5105.907258064523,
          5105.907258064523,
          5105.907258064523,
          4556.040322580653,
          3568.52419354839,
          3568.52419354839,
          3074.7661290322617,
          3074.7661290322617,
          2581.008064516133,
          2581.008064516133
         ]
        },
        {
         "marker": {
          "size": 10
         },
         "mode": "lines+markers",
         "name": "Zone 3",
         "type": "scatter",
         "x": [
          "00:00",
          "01:00",
          "02:00",
          "03:00",
          "04:00",
          "05:00",
          "06:00",
          "07:00",
          "08:00",
          "09:00",
          "10:00",
          "11:00",
          "12:00",
          "13:00",
          "14:00",
          "15:00",
          "16:00",
          "17:00",
          "18:00",
          "19:00",
          "20:00",
          "21:00",
          "22:00",
          "23:00"
         ],
         "y": [
          415.2056451612908,
          415.2056451612908,
          415.2056451612908,
          415.2056451612908,
          415.2056451612908,
          415.2056451612908,
          433.25806451612954,
          433.25806451612954,
          848.46370967742,
          848.46370967742,
          848.46370967742,
          848.46370967742,
          769.0330645161299,
          848.46370967742,
          821.3850806451619,
          821.3850806451619,
          821.3850806451619,
          732.9282258064526,
          574.0669354838715,
          574.0669354838715,
          494.63629032258075,
          494.63629032258075,
          415.2056451612908,
          415.2056451612908
         ]
        },
        {
         "marker": {
          "size": 5
         },
         "mode": "lines+markers",
         "name": "Zone 4",
         "type": "scatter",
         "x": [
          "00:00",
          "01:00",
          "02:00",
          "03:00",
          "04:00",
          "05:00",
          "06:00",
          "07:00",
          "08:00",
          "09:00",
          "10:00",
          "11:00",
          "12:00",
          "13:00",
          "14:00",
          "15:00",
          "16:00",
          "17:00",
          "18:00",
          "19:00",
          "20:00",
          "21:00",
          "22:00",
          "23:00"
         ],
         "y": [
          415.20564516129053,
          415.20564516129053,
          415.20564516129053,
          415.20564516129053,
          415.20564516129053,
          415.20564516129053,
          433.2580645161293,
          433.2580645161293,
          848.4637096774198,
          848.4637096774198,
          848.4637096774198,
          848.4637096774198,
          769.0330645161295,
          848.4637096774198,
          821.3850806451618,
          821.3850806451618,
          821.3850806451618,
          732.928225806452,
          574.0669354838715,
          574.0669354838715,
          494.63629032258063,
          494.63629032258063,
          415.20564516129053,
          415.20564516129053
         ]
        }
       ],
       "layout": {
        "template": {
         "data": {
          "bar": [
           {
            "error_x": {
             "color": "#2a3f5f"
            },
            "error_y": {
             "color": "#2a3f5f"
            },
            "marker": {
             "line": {
              "color": "#E5ECF6",
              "width": 0.5
             },
             "pattern": {
              "fillmode": "overlay",
              "size": 10,
              "solidity": 0.2
             }
            },
            "type": "bar"
           }
          ],
          "barpolar": [
           {
            "marker": {
             "line": {
              "color": "#E5ECF6",
              "width": 0.5
             },
             "pattern": {
              "fillmode": "overlay",
              "size": 10,
              "solidity": 0.2
             }
            },
            "type": "barpolar"
           }
          ],
          "carpet": [
           {
            "aaxis": {
             "endlinecolor": "#2a3f5f",
             "gridcolor": "white",
             "linecolor": "white",
             "minorgridcolor": "white",
             "startlinecolor": "#2a3f5f"
            },
            "baxis": {
             "endlinecolor": "#2a3f5f",
             "gridcolor": "white",
             "linecolor": "white",
             "minorgridcolor": "white",
             "startlinecolor": "#2a3f5f"
            },
            "type": "carpet"
           }
          ],
          "choropleth": [
           {
            "colorbar": {
             "outlinewidth": 0,
             "ticks": ""
            },
            "type": "choropleth"
           }
          ],
          "contour": [
           {
            "colorbar": {
             "outlinewidth": 0,
             "ticks": ""
            },
            "colorscale": [
             [
              0,
              "#0d0887"
             ],
             [
              0.1111111111111111,
              "#46039f"
             ],
             [
              0.2222222222222222,
              "#7201a8"
             ],
             [
              0.3333333333333333,
              "#9c179e"
             ],
             [
              0.4444444444444444,
              "#bd3786"
             ],
             [
              0.5555555555555556,
              "#d8576b"
             ],
             [
              0.6666666666666666,
              "#ed7953"
             ],
             [
              0.7777777777777778,
              "#fb9f3a"
             ],
             [
              0.8888888888888888,
              "#fdca26"
             ],
             [
              1,
              "#f0f921"
             ]
            ],
            "type": "contour"
           }
          ],
          "contourcarpet": [
           {
            "colorbar": {
             "outlinewidth": 0,
             "ticks": ""
            },
            "type": "contourcarpet"
           }
          ],
          "heatmap": [
           {
            "colorbar": {
             "outlinewidth": 0,
             "ticks": ""
            },
            "colorscale": [
             [
              0,
              "#0d0887"
             ],
             [
              0.1111111111111111,
              "#46039f"
             ],
             [
              0.2222222222222222,
              "#7201a8"
             ],
             [
              0.3333333333333333,
              "#9c179e"
             ],
             [
              0.4444444444444444,
              "#bd3786"
             ],
             [
              0.5555555555555556,
              "#d8576b"
             ],
             [
              0.6666666666666666,
              "#ed7953"
             ],
             [
              0.7777777777777778,
              "#fb9f3a"
             ],
             [
              0.8888888888888888,
              "#fdca26"
             ],
             [
              1,
              "#f0f921"
             ]
            ],
            "type": "heatmap"
           }
          ],
          "heatmapgl": [
           {
            "colorbar": {
             "outlinewidth": 0,
             "ticks": ""
            },
            "colorscale": [
             [
              0,
              "#0d0887"
             ],
             [
              0.1111111111111111,
              "#46039f"
             ],
             [
              0.2222222222222222,
              "#7201a8"
             ],
             [
              0.3333333333333333,
              "#9c179e"
             ],
             [
              0.4444444444444444,
              "#bd3786"
             ],
             [
              0.5555555555555556,
              "#d8576b"
             ],
             [
              0.6666666666666666,
              "#ed7953"
             ],
             [
              0.7777777777777778,
              "#fb9f3a"
             ],
             [
              0.8888888888888888,
              "#fdca26"
             ],
             [
              1,
              "#f0f921"
             ]
            ],
            "type": "heatmapgl"
           }
          ],
          "histogram": [
           {
            "marker": {
             "pattern": {
              "fillmode": "overlay",
              "size": 10,
              "solidity": 0.2
             }
            },
            "type": "histogram"
           }
          ],
          "histogram2d": [
           {
            "colorbar": {
             "outlinewidth": 0,
             "ticks": ""
            },
            "colorscale": [
             [
              0,
              "#0d0887"
             ],
             [
              0.1111111111111111,
              "#46039f"
             ],
             [
              0.2222222222222222,
              "#7201a8"
             ],
             [
              0.3333333333333333,
              "#9c179e"
             ],
             [
              0.4444444444444444,
              "#bd3786"
             ],
             [
              0.5555555555555556,
              "#d8576b"
             ],
             [
              0.6666666666666666,
              "#ed7953"
             ],
             [
              0.7777777777777778,
              "#fb9f3a"
             ],
             [
              0.8888888888888888,
              "#fdca26"
             ],
             [
              1,
              "#f0f921"
             ]
            ],
            "type": "histogram2d"
           }
          ],
          "histogram2dcontour": [
           {
            "colorbar": {
             "outlinewidth": 0,
             "ticks": ""
            },
            "colorscale": [
             [
              0,
              "#0d0887"
             ],
             [
              0.1111111111111111,
              "#46039f"
             ],
             [
              0.2222222222222222,
              "#7201a8"
             ],
             [
              0.3333333333333333,
              "#9c179e"
             ],
             [
              0.4444444444444444,
              "#bd3786"
             ],
             [
              0.5555555555555556,
              "#d8576b"
             ],
             [
              0.6666666666666666,
              "#ed7953"
             ],
             [
              0.7777777777777778,
              "#fb9f3a"
             ],
             [
              0.8888888888888888,
              "#fdca26"
             ],
             [
              1,
              "#f0f921"
             ]
            ],
            "type": "histogram2dcontour"
           }
          ],
          "mesh3d": [
           {
            "colorbar": {
             "outlinewidth": 0,
             "ticks": ""
            },
            "type": "mesh3d"
           }
          ],
          "parcoords": [
           {
            "line": {
             "colorbar": {
              "outlinewidth": 0,
              "ticks": ""
             }
            },
            "type": "parcoords"
           }
          ],
          "pie": [
           {
            "automargin": true,
            "type": "pie"
           }
          ],
          "scatter": [
           {
            "marker": {
             "colorbar": {
              "outlinewidth": 0,
              "ticks": ""
             }
            },
            "type": "scatter"
           }
          ],
          "scatter3d": [
           {
            "line": {
             "colorbar": {
              "outlinewidth": 0,
              "ticks": ""
             }
            },
            "marker": {
             "colorbar": {
              "outlinewidth": 0,
              "ticks": ""
             }
            },
            "type": "scatter3d"
           }
          ],
          "scattercarpet": [
           {
            "marker": {
             "colorbar": {
              "outlinewidth": 0,
              "ticks": ""
             }
            },
            "type": "scattercarpet"
           }
          ],
          "scattergeo": [
           {
            "marker": {
             "colorbar": {
              "outlinewidth": 0,
              "ticks": ""
             }
            },
            "type": "scattergeo"
           }
          ],
          "scattergl": [
           {
            "marker": {
             "colorbar": {
              "outlinewidth": 0,
              "ticks": ""
             }
            },
            "type": "scattergl"
           }
          ],
          "scattermapbox": [
           {
            "marker": {
             "colorbar": {
              "outlinewidth": 0,
              "ticks": ""
             }
            },
            "type": "scattermapbox"
           }
          ],
          "scatterpolar": [
           {
            "marker": {
             "colorbar": {
              "outlinewidth": 0,
              "ticks": ""
             }
            },
            "type": "scatterpolar"
           }
          ],
          "scatterpolargl": [
           {
            "marker": {
             "colorbar": {
              "outlinewidth": 0,
              "ticks": ""
             }
            },
            "type": "scatterpolargl"
           }
          ],
          "scatterternary": [
           {
            "marker": {
             "colorbar": {
              "outlinewidth": 0,
              "ticks": ""
             }
            },
            "type": "scatterternary"
           }
          ],
          "surface": [
           {
            "colorbar": {
             "outlinewidth": 0,
             "ticks": ""
            },
            "colorscale": [
             [
              0,
              "#0d0887"
             ],
             [
              0.1111111111111111,
              "#46039f"
             ],
             [
              0.2222222222222222,
              "#7201a8"
             ],
             [
              0.3333333333333333,
              "#9c179e"
             ],
             [
              0.4444444444444444,
              "#bd3786"
             ],
             [
              0.5555555555555556,
              "#d8576b"
             ],
             [
              0.6666666666666666,
              "#ed7953"
             ],
             [
              0.7777777777777778,
              "#fb9f3a"
             ],
             [
              0.8888888888888888,
              "#fdca26"
             ],
             [
              1,
              "#f0f921"
             ]
            ],
            "type": "surface"
           }
          ],
          "table": [
           {
            "cells": {
             "fill": {
              "color": "#EBF0F8"
             },
             "line": {
              "color": "white"
             }
            },
            "header": {
             "fill": {
              "color": "#C8D4E3"
             },
             "line": {
              "color": "white"
             }
            },
            "type": "table"
           }
          ]
         },
         "layout": {
          "annotationdefaults": {
           "arrowcolor": "#2a3f5f",
           "arrowhead": 0,
           "arrowwidth": 1
          },
          "autotypenumbers": "strict",
          "coloraxis": {
           "colorbar": {
            "outlinewidth": 0,
            "ticks": ""
           }
          },
          "colorscale": {
           "diverging": [
            [
             0,
             "#8e0152"
            ],
            [
             0.1,
             "#c51b7d"
            ],
            [
             0.2,
             "#de77ae"
            ],
            [
             0.3,
             "#f1b6da"
            ],
            [
             0.4,
             "#fde0ef"
            ],
            [
             0.5,
             "#f7f7f7"
            ],
            [
             0.6,
             "#e6f5d0"
            ],
            [
             0.7,
             "#b8e186"
            ],
            [
             0.8,
             "#7fbc41"
            ],
            [
             0.9,
             "#4d9221"
            ],
            [
             1,
             "#276419"
            ]
           ],
           "sequential": [
            [
             0,
             "#0d0887"
            ],
            [
             0.1111111111111111,
             "#46039f"
            ],
            [
             0.2222222222222222,
             "#7201a8"
            ],
            [
             0.3333333333333333,
             "#9c179e"
            ],
            [
             0.4444444444444444,
             "#bd3786"
            ],
            [
             0.5555555555555556,
             "#d8576b"
            ],
            [
             0.6666666666666666,
             "#ed7953"
            ],
            [
             0.7777777777777778,
             "#fb9f3a"
            ],
            [
             0.8888888888888888,
             "#fdca26"
            ],
            [
             1,
             "#f0f921"
            ]
           ],
           "sequentialminus": [
            [
             0,
             "#0d0887"
            ],
            [
             0.1111111111111111,
             "#46039f"
            ],
            [
             0.2222222222222222,
             "#7201a8"
            ],
            [
             0.3333333333333333,
             "#9c179e"
            ],
            [
             0.4444444444444444,
             "#bd3786"
            ],
            [
             0.5555555555555556,
             "#d8576b"
            ],
            [
             0.6666666666666666,
             "#ed7953"
            ],
            [
             0.7777777777777778,
             "#fb9f3a"
            ],
            [
             0.8888888888888888,
             "#fdca26"
            ],
            [
             1,
             "#f0f921"
            ]
           ]
          },
          "colorway": [
           "#636efa",
           "#EF553B",
           "#00cc96",
           "#ab63fa",
           "#FFA15A",
           "#19d3f3",
           "#FF6692",
           "#B6E880",
           "#FF97FF",
           "#FECB52"
          ],
          "font": {
           "color": "#2a3f5f"
          },
          "geo": {
           "bgcolor": "white",
           "lakecolor": "white",
           "landcolor": "#E5ECF6",
           "showlakes": true,
           "showland": true,
           "subunitcolor": "white"
          },
          "hoverlabel": {
           "align": "left"
          },
          "hovermode": "closest",
          "mapbox": {
           "style": "light"
          },
          "paper_bgcolor": "white",
          "plot_bgcolor": "#E5ECF6",
          "polar": {
           "angularaxis": {
            "gridcolor": "white",
            "linecolor": "white",
            "ticks": ""
           },
           "bgcolor": "#E5ECF6",
           "radialaxis": {
            "gridcolor": "white",
            "linecolor": "white",
            "ticks": ""
           }
          },
          "scene": {
           "xaxis": {
            "backgroundcolor": "#E5ECF6",
            "gridcolor": "white",
            "gridwidth": 2,
            "linecolor": "white",
            "showbackground": true,
            "ticks": "",
            "zerolinecolor": "white"
           },
           "yaxis": {
            "backgroundcolor": "#E5ECF6",
            "gridcolor": "white",
            "gridwidth": 2,
            "linecolor": "white",
            "showbackground": true,
            "ticks": "",
            "zerolinecolor": "white"
           },
           "zaxis": {
            "backgroundcolor": "#E5ECF6",
            "gridcolor": "white",
            "gridwidth": 2,
            "linecolor": "white",
            "showbackground": true,
            "ticks": "",
            "zerolinecolor": "white"
           }
          },
          "shapedefaults": {
           "line": {
            "color": "#2a3f5f"
           }
          },
          "ternary": {
           "aaxis": {
            "gridcolor": "white",
            "linecolor": "white",
            "ticks": ""
           },
           "baxis": {
            "gridcolor": "white",
            "linecolor": "white",
            "ticks": ""
           },
           "bgcolor": "#E5ECF6",
           "caxis": {
            "gridcolor": "white",
            "linecolor": "white",
            "ticks": ""
           }
          },
          "title": {
           "x": 0.05
          },
          "xaxis": {
           "automargin": true,
           "gridcolor": "white",
           "linecolor": "white",
           "ticks": "",
           "title": {
            "standoff": 15
           },
           "zerolinecolor": "white",
           "zerolinewidth": 2
          },
          "yaxis": {
           "automargin": true,
           "gridcolor": "white",
           "linecolor": "white",
           "ticks": "",
           "title": {
            "standoff": 15
           },
           "zerolinecolor": "white",
           "zerolinewidth": 2
          }
         }
        },
        "title": {
         "text": "Zone Electric Equipment Total Heating Rate Month #8"
        },
        "xaxis": {
         "title": {
          "text": "Hours"
         }
        },
        "yaxis": {
         "title": {
          "text": "Power [W]"
         }
        }
       }
      }
     },
     "metadata": {},
     "output_type": "display_data"
    }
   ],
   "source": [
    "month_by_hour_zonal_plot(\"Zone Electric Equipment Total Heating Rate\", 8)"
   ]
  },
  {
   "cell_type": "code",
   "execution_count": null,
   "metadata": {},
   "outputs": [
    {
     "data": {
      "application/vnd.plotly.v1+json": {
       "config": {
        "plotlyServerURL": "https://plot.ly"
       },
       "data": [
        {
         "marker": {
          "size": 20
         },
         "mode": "lines+markers",
         "name": "Zone 1",
         "type": "scatter",
         "x": [
          "00:00",
          "01:00",
          "02:00",
          "03:00",
          "04:00",
          "05:00",
          "06:00",
          "07:00",
          "08:00",
          "09:00",
          "10:00",
          "11:00",
          "12:00",
          "13:00",
          "14:00",
          "15:00",
          "16:00",
          "17:00",
          "18:00",
          "19:00",
          "20:00",
          "21:00",
          "22:00",
          "23:00"
         ],
         "y": [
          0,
          0,
          0,
          0,
          0,
          0,
          150.17661290322587,
          272.54274193548395,
          1301.5306451612898,
          1301.5306451612898,
          1301.5306451612898,
          1301.5306451612898,
          750.883064516129,
          1301.5306451612898,
          1190.288709677419,
          1190.288709677419,
          1190.288709677419,
          856.5629032258062,
          489.46451612903246,
          489.46451612903246,
          122.36612903225812,
          122.36612903225812,
          61.18306451612906,
          61.18306451612906
         ]
        },
        {
         "marker": {
          "size": 15
         },
         "mode": "lines+markers",
         "name": "Zone 2",
         "type": "scatter",
         "x": [
          "00:00",
          "01:00",
          "02:00",
          "03:00",
          "04:00",
          "05:00",
          "06:00",
          "07:00",
          "08:00",
          "09:00",
          "10:00",
          "11:00",
          "12:00",
          "13:00",
          "14:00",
          "15:00",
          "16:00",
          "17:00",
          "18:00",
          "19:00",
          "20:00",
          "21:00",
          "22:00",
          "23:00"
         ],
         "y": [
          0,
          0,
          0,
          0,
          0,
          0,
          158.0806451612903,
          286.8870967741935,
          1370.0322580645159,
          1370.0322580645159,
          1370.0322580645159,
          1370.0322580645159,
          790.4032258064515,
          1370.0322580645159,
          1252.9354838709676,
          1252.9354838709676,
          1252.9354838709676,
          901.6451612903224,
          515.2258064516128,
          515.2258064516128,
          128.8064516129032,
          128.8064516129032,
          64.4032258064516,
          64.4032258064516
         ]
        },
        {
         "marker": {
          "size": 10
         },
         "mode": "lines+markers",
         "name": "Zone 3",
         "type": "scatter",
         "x": [
          "00:00",
          "01:00",
          "02:00",
          "03:00",
          "04:00",
          "05:00",
          "06:00",
          "07:00",
          "08:00",
          "09:00",
          "10:00",
          "11:00",
          "12:00",
          "13:00",
          "14:00",
          "15:00",
          "16:00",
          "17:00",
          "18:00",
          "19:00",
          "20:00",
          "21:00",
          "22:00",
          "23:00"
         ],
         "y": [
          0,
          0,
          0,
          0,
          0,
          0,
          1580.8064516129032,
          2868.8709677419356,
          13700.322580645161,
          13700.322580645161,
          13700.322580645161,
          13700.322580645161,
          7904.032258064516,
          13700.322580645161,
          12529.354838709678,
          12529.354838709678,
          12529.354838709678,
          9016.451612903225,
          5152.258064516129,
          5152.258064516129,
          1288.0645161290322,
          1288.0645161290322,
          644.0322580645161,
          644.0322580645161
         ]
        },
        {
         "marker": {
          "size": 5
         },
         "mode": "lines+markers",
         "name": "Zone 4",
         "type": "scatter",
         "x": [
          "00:00",
          "01:00",
          "02:00",
          "03:00",
          "04:00",
          "05:00",
          "06:00",
          "07:00",
          "08:00",
          "09:00",
          "10:00",
          "11:00",
          "12:00",
          "13:00",
          "14:00",
          "15:00",
          "16:00",
          "17:00",
          "18:00",
          "19:00",
          "20:00",
          "21:00",
          "22:00",
          "23:00"
         ],
         "y": [
          0,
          0,
          0,
          0,
          0,
          0,
          1580.806451612903,
          2868.870967741935,
          13700.322580645157,
          13700.322580645157,
          13700.322580645157,
          13700.322580645157,
          7904.032258064514,
          13700.322580645157,
          12529.354838709674,
          12529.354838709674,
          12529.354838709674,
          9016.451612903222,
          5152.258064516128,
          5152.258064516128,
          1288.064516129032,
          1288.064516129032,
          644.032258064516,
          644.032258064516
         ]
        }
       ],
       "layout": {
        "template": {
         "data": {
          "bar": [
           {
            "error_x": {
             "color": "#2a3f5f"
            },
            "error_y": {
             "color": "#2a3f5f"
            },
            "marker": {
             "line": {
              "color": "#E5ECF6",
              "width": 0.5
             },
             "pattern": {
              "fillmode": "overlay",
              "size": 10,
              "solidity": 0.2
             }
            },
            "type": "bar"
           }
          ],
          "barpolar": [
           {
            "marker": {
             "line": {
              "color": "#E5ECF6",
              "width": 0.5
             },
             "pattern": {
              "fillmode": "overlay",
              "size": 10,
              "solidity": 0.2
             }
            },
            "type": "barpolar"
           }
          ],
          "carpet": [
           {
            "aaxis": {
             "endlinecolor": "#2a3f5f",
             "gridcolor": "white",
             "linecolor": "white",
             "minorgridcolor": "white",
             "startlinecolor": "#2a3f5f"
            },
            "baxis": {
             "endlinecolor": "#2a3f5f",
             "gridcolor": "white",
             "linecolor": "white",
             "minorgridcolor": "white",
             "startlinecolor": "#2a3f5f"
            },
            "type": "carpet"
           }
          ],
          "choropleth": [
           {
            "colorbar": {
             "outlinewidth": 0,
             "ticks": ""
            },
            "type": "choropleth"
           }
          ],
          "contour": [
           {
            "colorbar": {
             "outlinewidth": 0,
             "ticks": ""
            },
            "colorscale": [
             [
              0,
              "#0d0887"
             ],
             [
              0.1111111111111111,
              "#46039f"
             ],
             [
              0.2222222222222222,
              "#7201a8"
             ],
             [
              0.3333333333333333,
              "#9c179e"
             ],
             [
              0.4444444444444444,
              "#bd3786"
             ],
             [
              0.5555555555555556,
              "#d8576b"
             ],
             [
              0.6666666666666666,
              "#ed7953"
             ],
             [
              0.7777777777777778,
              "#fb9f3a"
             ],
             [
              0.8888888888888888,
              "#fdca26"
             ],
             [
              1,
              "#f0f921"
             ]
            ],
            "type": "contour"
           }
          ],
          "contourcarpet": [
           {
            "colorbar": {
             "outlinewidth": 0,
             "ticks": ""
            },
            "type": "contourcarpet"
           }
          ],
          "heatmap": [
           {
            "colorbar": {
             "outlinewidth": 0,
             "ticks": ""
            },
            "colorscale": [
             [
              0,
              "#0d0887"
             ],
             [
              0.1111111111111111,
              "#46039f"
             ],
             [
              0.2222222222222222,
              "#7201a8"
             ],
             [
              0.3333333333333333,
              "#9c179e"
             ],
             [
              0.4444444444444444,
              "#bd3786"
             ],
             [
              0.5555555555555556,
              "#d8576b"
             ],
             [
              0.6666666666666666,
              "#ed7953"
             ],
             [
              0.7777777777777778,
              "#fb9f3a"
             ],
             [
              0.8888888888888888,
              "#fdca26"
             ],
             [
              1,
              "#f0f921"
             ]
            ],
            "type": "heatmap"
           }
          ],
          "heatmapgl": [
           {
            "colorbar": {
             "outlinewidth": 0,
             "ticks": ""
            },
            "colorscale": [
             [
              0,
              "#0d0887"
             ],
             [
              0.1111111111111111,
              "#46039f"
             ],
             [
              0.2222222222222222,
              "#7201a8"
             ],
             [
              0.3333333333333333,
              "#9c179e"
             ],
             [
              0.4444444444444444,
              "#bd3786"
             ],
             [
              0.5555555555555556,
              "#d8576b"
             ],
             [
              0.6666666666666666,
              "#ed7953"
             ],
             [
              0.7777777777777778,
              "#fb9f3a"
             ],
             [
              0.8888888888888888,
              "#fdca26"
             ],
             [
              1,
              "#f0f921"
             ]
            ],
            "type": "heatmapgl"
           }
          ],
          "histogram": [
           {
            "marker": {
             "pattern": {
              "fillmode": "overlay",
              "size": 10,
              "solidity": 0.2
             }
            },
            "type": "histogram"
           }
          ],
          "histogram2d": [
           {
            "colorbar": {
             "outlinewidth": 0,
             "ticks": ""
            },
            "colorscale": [
             [
              0,
              "#0d0887"
             ],
             [
              0.1111111111111111,
              "#46039f"
             ],
             [
              0.2222222222222222,
              "#7201a8"
             ],
             [
              0.3333333333333333,
              "#9c179e"
             ],
             [
              0.4444444444444444,
              "#bd3786"
             ],
             [
              0.5555555555555556,
              "#d8576b"
             ],
             [
              0.6666666666666666,
              "#ed7953"
             ],
             [
              0.7777777777777778,
              "#fb9f3a"
             ],
             [
              0.8888888888888888,
              "#fdca26"
             ],
             [
              1,
              "#f0f921"
             ]
            ],
            "type": "histogram2d"
           }
          ],
          "histogram2dcontour": [
           {
            "colorbar": {
             "outlinewidth": 0,
             "ticks": ""
            },
            "colorscale": [
             [
              0,
              "#0d0887"
             ],
             [
              0.1111111111111111,
              "#46039f"
             ],
             [
              0.2222222222222222,
              "#7201a8"
             ],
             [
              0.3333333333333333,
              "#9c179e"
             ],
             [
              0.4444444444444444,
              "#bd3786"
             ],
             [
              0.5555555555555556,
              "#d8576b"
             ],
             [
              0.6666666666666666,
              "#ed7953"
             ],
             [
              0.7777777777777778,
              "#fb9f3a"
             ],
             [
              0.8888888888888888,
              "#fdca26"
             ],
             [
              1,
              "#f0f921"
             ]
            ],
            "type": "histogram2dcontour"
           }
          ],
          "mesh3d": [
           {
            "colorbar": {
             "outlinewidth": 0,
             "ticks": ""
            },
            "type": "mesh3d"
           }
          ],
          "parcoords": [
           {
            "line": {
             "colorbar": {
              "outlinewidth": 0,
              "ticks": ""
             }
            },
            "type": "parcoords"
           }
          ],
          "pie": [
           {
            "automargin": true,
            "type": "pie"
           }
          ],
          "scatter": [
           {
            "marker": {
             "colorbar": {
              "outlinewidth": 0,
              "ticks": ""
             }
            },
            "type": "scatter"
           }
          ],
          "scatter3d": [
           {
            "line": {
             "colorbar": {
              "outlinewidth": 0,
              "ticks": ""
             }
            },
            "marker": {
             "colorbar": {
              "outlinewidth": 0,
              "ticks": ""
             }
            },
            "type": "scatter3d"
           }
          ],
          "scattercarpet": [
           {
            "marker": {
             "colorbar": {
              "outlinewidth": 0,
              "ticks": ""
             }
            },
            "type": "scattercarpet"
           }
          ],
          "scattergeo": [
           {
            "marker": {
             "colorbar": {
              "outlinewidth": 0,
              "ticks": ""
             }
            },
            "type": "scattergeo"
           }
          ],
          "scattergl": [
           {
            "marker": {
             "colorbar": {
              "outlinewidth": 0,
              "ticks": ""
             }
            },
            "type": "scattergl"
           }
          ],
          "scattermapbox": [
           {
            "marker": {
             "colorbar": {
              "outlinewidth": 0,
              "ticks": ""
             }
            },
            "type": "scattermapbox"
           }
          ],
          "scatterpolar": [
           {
            "marker": {
             "colorbar": {
              "outlinewidth": 0,
              "ticks": ""
             }
            },
            "type": "scatterpolar"
           }
          ],
          "scatterpolargl": [
           {
            "marker": {
             "colorbar": {
              "outlinewidth": 0,
              "ticks": ""
             }
            },
            "type": "scatterpolargl"
           }
          ],
          "scatterternary": [
           {
            "marker": {
             "colorbar": {
              "outlinewidth": 0,
              "ticks": ""
             }
            },
            "type": "scatterternary"
           }
          ],
          "surface": [
           {
            "colorbar": {
             "outlinewidth": 0,
             "ticks": ""
            },
            "colorscale": [
             [
              0,
              "#0d0887"
             ],
             [
              0.1111111111111111,
              "#46039f"
             ],
             [
              0.2222222222222222,
              "#7201a8"
             ],
             [
              0.3333333333333333,
              "#9c179e"
             ],
             [
              0.4444444444444444,
              "#bd3786"
             ],
             [
              0.5555555555555556,
              "#d8576b"
             ],
             [
              0.6666666666666666,
              "#ed7953"
             ],
             [
              0.7777777777777778,
              "#fb9f3a"
             ],
             [
              0.8888888888888888,
              "#fdca26"
             ],
             [
              1,
              "#f0f921"
             ]
            ],
            "type": "surface"
           }
          ],
          "table": [
           {
            "cells": {
             "fill": {
              "color": "#EBF0F8"
             },
             "line": {
              "color": "white"
             }
            },
            "header": {
             "fill": {
              "color": "#C8D4E3"
             },
             "line": {
              "color": "white"
             }
            },
            "type": "table"
           }
          ]
         },
         "layout": {
          "annotationdefaults": {
           "arrowcolor": "#2a3f5f",
           "arrowhead": 0,
           "arrowwidth": 1
          },
          "autotypenumbers": "strict",
          "coloraxis": {
           "colorbar": {
            "outlinewidth": 0,
            "ticks": ""
           }
          },
          "colorscale": {
           "diverging": [
            [
             0,
             "#8e0152"
            ],
            [
             0.1,
             "#c51b7d"
            ],
            [
             0.2,
             "#de77ae"
            ],
            [
             0.3,
             "#f1b6da"
            ],
            [
             0.4,
             "#fde0ef"
            ],
            [
             0.5,
             "#f7f7f7"
            ],
            [
             0.6,
             "#e6f5d0"
            ],
            [
             0.7,
             "#b8e186"
            ],
            [
             0.8,
             "#7fbc41"
            ],
            [
             0.9,
             "#4d9221"
            ],
            [
             1,
             "#276419"
            ]
           ],
           "sequential": [
            [
             0,
             "#0d0887"
            ],
            [
             0.1111111111111111,
             "#46039f"
            ],
            [
             0.2222222222222222,
             "#7201a8"
            ],
            [
             0.3333333333333333,
             "#9c179e"
            ],
            [
             0.4444444444444444,
             "#bd3786"
            ],
            [
             0.5555555555555556,
             "#d8576b"
            ],
            [
             0.6666666666666666,
             "#ed7953"
            ],
            [
             0.7777777777777778,
             "#fb9f3a"
            ],
            [
             0.8888888888888888,
             "#fdca26"
            ],
            [
             1,
             "#f0f921"
            ]
           ],
           "sequentialminus": [
            [
             0,
             "#0d0887"
            ],
            [
             0.1111111111111111,
             "#46039f"
            ],
            [
             0.2222222222222222,
             "#7201a8"
            ],
            [
             0.3333333333333333,
             "#9c179e"
            ],
            [
             0.4444444444444444,
             "#bd3786"
            ],
            [
             0.5555555555555556,
             "#d8576b"
            ],
            [
             0.6666666666666666,
             "#ed7953"
            ],
            [
             0.7777777777777778,
             "#fb9f3a"
            ],
            [
             0.8888888888888888,
             "#fdca26"
            ],
            [
             1,
             "#f0f921"
            ]
           ]
          },
          "colorway": [
           "#636efa",
           "#EF553B",
           "#00cc96",
           "#ab63fa",
           "#FFA15A",
           "#19d3f3",
           "#FF6692",
           "#B6E880",
           "#FF97FF",
           "#FECB52"
          ],
          "font": {
           "color": "#2a3f5f"
          },
          "geo": {
           "bgcolor": "white",
           "lakecolor": "white",
           "landcolor": "#E5ECF6",
           "showlakes": true,
           "showland": true,
           "subunitcolor": "white"
          },
          "hoverlabel": {
           "align": "left"
          },
          "hovermode": "closest",
          "mapbox": {
           "style": "light"
          },
          "paper_bgcolor": "white",
          "plot_bgcolor": "#E5ECF6",
          "polar": {
           "angularaxis": {
            "gridcolor": "white",
            "linecolor": "white",
            "ticks": ""
           },
           "bgcolor": "#E5ECF6",
           "radialaxis": {
            "gridcolor": "white",
            "linecolor": "white",
            "ticks": ""
           }
          },
          "scene": {
           "xaxis": {
            "backgroundcolor": "#E5ECF6",
            "gridcolor": "white",
            "gridwidth": 2,
            "linecolor": "white",
            "showbackground": true,
            "ticks": "",
            "zerolinecolor": "white"
           },
           "yaxis": {
            "backgroundcolor": "#E5ECF6",
            "gridcolor": "white",
            "gridwidth": 2,
            "linecolor": "white",
            "showbackground": true,
            "ticks": "",
            "zerolinecolor": "white"
           },
           "zaxis": {
            "backgroundcolor": "#E5ECF6",
            "gridcolor": "white",
            "gridwidth": 2,
            "linecolor": "white",
            "showbackground": true,
            "ticks": "",
            "zerolinecolor": "white"
           }
          },
          "shapedefaults": {
           "line": {
            "color": "#2a3f5f"
           }
          },
          "ternary": {
           "aaxis": {
            "gridcolor": "white",
            "linecolor": "white",
            "ticks": ""
           },
           "baxis": {
            "gridcolor": "white",
            "linecolor": "white",
            "ticks": ""
           },
           "bgcolor": "#E5ECF6",
           "caxis": {
            "gridcolor": "white",
            "linecolor": "white",
            "ticks": ""
           }
          },
          "title": {
           "x": 0.05
          },
          "xaxis": {
           "automargin": true,
           "gridcolor": "white",
           "linecolor": "white",
           "ticks": "",
           "title": {
            "standoff": 15
           },
           "zerolinecolor": "white",
           "zerolinewidth": 2
          },
          "yaxis": {
           "automargin": true,
           "gridcolor": "white",
           "linecolor": "white",
           "ticks": "",
           "title": {
            "standoff": 15
           },
           "zerolinecolor": "white",
           "zerolinewidth": 2
          }
         }
        },
        "title": {
         "text": "Zone People Total Heating Rate Month #8"
        },
        "xaxis": {
         "title": {
          "text": "Hours"
         }
        },
        "yaxis": {
         "title": {
          "text": "Power [W]"
         }
        }
       }
      }
     },
     "metadata": {},
     "output_type": "display_data"
    }
   ],
   "source": [
    "month_by_hour_zonal_plot(\"Zone People Total Heating Rate\", 8)"
   ]
  },
  {
   "cell_type": "code",
   "execution_count": null,
   "metadata": {},
   "outputs": [
    {
     "data": {
      "application/vnd.plotly.v1+json": {
       "config": {
        "plotlyServerURL": "https://plot.ly"
       },
       "data": [
        {
         "marker": {
          "size": 20
         },
         "mode": "lines+markers",
         "name": "Zone 1",
         "type": "scatter",
         "x": [
          "00:00",
          "01:00",
          "02:00",
          "03:00",
          "04:00",
          "05:00",
          "06:00",
          "07:00",
          "08:00",
          "09:00",
          "10:00",
          "11:00",
          "12:00",
          "13:00",
          "14:00",
          "15:00",
          "16:00",
          "17:00",
          "18:00",
          "19:00",
          "20:00",
          "21:00",
          "22:00",
          "23:00"
         ],
         "y": [
          75.04614861835486,
          136.77317567173193,
          200.85886095456104,
          254.40954154583062,
          320.4924517587759,
          365.76790900363386,
          4037.1437978531803,
          2350.685008643645,
          78.64357450530525,
          28.12643568981976,
          11.993531577554442,
          1.0853333302575257,
          0,
          0,
          48.557957889381726,
          118.85702535496608,
          154.16101162669665,
          364.39134336300566,
          0,
          0,
          273.9089777530949,
          595.3969152054511,
          36.93260719861221,
          45.39240498523304
         ]
        },
        {
         "marker": {
          "size": 15
         },
         "mode": "lines+markers",
         "name": "Zone 2",
         "type": "scatter",
         "x": [
          "00:00",
          "01:00",
          "02:00",
          "03:00",
          "04:00",
          "05:00",
          "06:00",
          "07:00",
          "08:00",
          "09:00",
          "10:00",
          "11:00",
          "12:00",
          "13:00",
          "14:00",
          "15:00",
          "16:00",
          "17:00",
          "18:00",
          "19:00",
          "20:00",
          "21:00",
          "22:00",
          "23:00"
         ],
         "y": [
          109.69389791481028,
          198.33475617683877,
          267.08809158774886,
          356.2438876178259,
          452.3749287554182,
          507.295077140609,
          4244.791320818676,
          2881.7088226740393,
          128.22200489519474,
          42.54488852325949,
          26.355887027439973,
          11.657435684671723,
          3.212014523919836,
          1.0663917220603112,
          74.87714068027678,
          154.13456329712162,
          185.67303719409492,
          393.0820586063589,
          0,
          0,
          369.60764452003207,
          810.1211653108237,
          47.35776259989676,
          65.22285365212495
         ]
        },
        {
         "marker": {
          "size": 10
         },
         "mode": "lines+markers",
         "name": "Zone 3",
         "type": "scatter",
         "x": [
          "00:00",
          "01:00",
          "02:00",
          "03:00",
          "04:00",
          "05:00",
          "06:00",
          "07:00",
          "08:00",
          "09:00",
          "10:00",
          "11:00",
          "12:00",
          "13:00",
          "14:00",
          "15:00",
          "16:00",
          "17:00",
          "18:00",
          "19:00",
          "20:00",
          "21:00",
          "22:00",
          "23:00"
         ],
         "y": [
          2974.388211875631,
          3383.7249687207527,
          3801.5001943328807,
          4192.268302806835,
          4565.571614300292,
          4825.84722493717,
          3555.12759199154,
          3071.858885983095,
          869.365652629576,
          673.4891349475386,
          548.732875885352,
          440.08966314746465,
          353.4874298871674,
          328.16194420608906,
          373.213929062452,
          374.7336119791528,
          411.075843831721,
          504.28037579052085,
          712.3614681606665,
          816.7732738074669,
          886.3941137032336,
          1035.3551825084073,
          1834.6207862086133,
          2390.962664654037
         ]
        },
        {
         "marker": {
          "size": 5
         },
         "mode": "lines+markers",
         "name": "Zone 4",
         "type": "scatter",
         "x": [
          "00:00",
          "01:00",
          "02:00",
          "03:00",
          "04:00",
          "05:00",
          "06:00",
          "07:00",
          "08:00",
          "09:00",
          "10:00",
          "11:00",
          "12:00",
          "13:00",
          "14:00",
          "15:00",
          "16:00",
          "17:00",
          "18:00",
          "19:00",
          "20:00",
          "21:00",
          "22:00",
          "23:00"
         ],
         "y": [
          361.8159482141067,
          578.0311018050552,
          777.1066455450323,
          1048.693181666645,
          1327.103013296933,
          1580.250651237029,
          6281.867670033401,
          5786.72420281472,
          3016.7244031020437,
          1657.7091837543112,
          783.7934503615762,
          360.7910262638161,
          213.47436354623096,
          165.43828162890318,
          307.2662164188743,
          315.5043080061551,
          341.0130120914186,
          440.6102499893078,
          232.24561906427758,
          438.6871585792319,
          1229.0822644999387,
          1542.1728230716978,
          238.46247616430182,
          325.7984752966408
         ]
        }
       ],
       "layout": {
        "template": {
         "data": {
          "bar": [
           {
            "error_x": {
             "color": "#2a3f5f"
            },
            "error_y": {
             "color": "#2a3f5f"
            },
            "marker": {
             "line": {
              "color": "#E5ECF6",
              "width": 0.5
             },
             "pattern": {
              "fillmode": "overlay",
              "size": 10,
              "solidity": 0.2
             }
            },
            "type": "bar"
           }
          ],
          "barpolar": [
           {
            "marker": {
             "line": {
              "color": "#E5ECF6",
              "width": 0.5
             },
             "pattern": {
              "fillmode": "overlay",
              "size": 10,
              "solidity": 0.2
             }
            },
            "type": "barpolar"
           }
          ],
          "carpet": [
           {
            "aaxis": {
             "endlinecolor": "#2a3f5f",
             "gridcolor": "white",
             "linecolor": "white",
             "minorgridcolor": "white",
             "startlinecolor": "#2a3f5f"
            },
            "baxis": {
             "endlinecolor": "#2a3f5f",
             "gridcolor": "white",
             "linecolor": "white",
             "minorgridcolor": "white",
             "startlinecolor": "#2a3f5f"
            },
            "type": "carpet"
           }
          ],
          "choropleth": [
           {
            "colorbar": {
             "outlinewidth": 0,
             "ticks": ""
            },
            "type": "choropleth"
           }
          ],
          "contour": [
           {
            "colorbar": {
             "outlinewidth": 0,
             "ticks": ""
            },
            "colorscale": [
             [
              0,
              "#0d0887"
             ],
             [
              0.1111111111111111,
              "#46039f"
             ],
             [
              0.2222222222222222,
              "#7201a8"
             ],
             [
              0.3333333333333333,
              "#9c179e"
             ],
             [
              0.4444444444444444,
              "#bd3786"
             ],
             [
              0.5555555555555556,
              "#d8576b"
             ],
             [
              0.6666666666666666,
              "#ed7953"
             ],
             [
              0.7777777777777778,
              "#fb9f3a"
             ],
             [
              0.8888888888888888,
              "#fdca26"
             ],
             [
              1,
              "#f0f921"
             ]
            ],
            "type": "contour"
           }
          ],
          "contourcarpet": [
           {
            "colorbar": {
             "outlinewidth": 0,
             "ticks": ""
            },
            "type": "contourcarpet"
           }
          ],
          "heatmap": [
           {
            "colorbar": {
             "outlinewidth": 0,
             "ticks": ""
            },
            "colorscale": [
             [
              0,
              "#0d0887"
             ],
             [
              0.1111111111111111,
              "#46039f"
             ],
             [
              0.2222222222222222,
              "#7201a8"
             ],
             [
              0.3333333333333333,
              "#9c179e"
             ],
             [
              0.4444444444444444,
              "#bd3786"
             ],
             [
              0.5555555555555556,
              "#d8576b"
             ],
             [
              0.6666666666666666,
              "#ed7953"
             ],
             [
              0.7777777777777778,
              "#fb9f3a"
             ],
             [
              0.8888888888888888,
              "#fdca26"
             ],
             [
              1,
              "#f0f921"
             ]
            ],
            "type": "heatmap"
           }
          ],
          "heatmapgl": [
           {
            "colorbar": {
             "outlinewidth": 0,
             "ticks": ""
            },
            "colorscale": [
             [
              0,
              "#0d0887"
             ],
             [
              0.1111111111111111,
              "#46039f"
             ],
             [
              0.2222222222222222,
              "#7201a8"
             ],
             [
              0.3333333333333333,
              "#9c179e"
             ],
             [
              0.4444444444444444,
              "#bd3786"
             ],
             [
              0.5555555555555556,
              "#d8576b"
             ],
             [
              0.6666666666666666,
              "#ed7953"
             ],
             [
              0.7777777777777778,
              "#fb9f3a"
             ],
             [
              0.8888888888888888,
              "#fdca26"
             ],
             [
              1,
              "#f0f921"
             ]
            ],
            "type": "heatmapgl"
           }
          ],
          "histogram": [
           {
            "marker": {
             "pattern": {
              "fillmode": "overlay",
              "size": 10,
              "solidity": 0.2
             }
            },
            "type": "histogram"
           }
          ],
          "histogram2d": [
           {
            "colorbar": {
             "outlinewidth": 0,
             "ticks": ""
            },
            "colorscale": [
             [
              0,
              "#0d0887"
             ],
             [
              0.1111111111111111,
              "#46039f"
             ],
             [
              0.2222222222222222,
              "#7201a8"
             ],
             [
              0.3333333333333333,
              "#9c179e"
             ],
             [
              0.4444444444444444,
              "#bd3786"
             ],
             [
              0.5555555555555556,
              "#d8576b"
             ],
             [
              0.6666666666666666,
              "#ed7953"
             ],
             [
              0.7777777777777778,
              "#fb9f3a"
             ],
             [
              0.8888888888888888,
              "#fdca26"
             ],
             [
              1,
              "#f0f921"
             ]
            ],
            "type": "histogram2d"
           }
          ],
          "histogram2dcontour": [
           {
            "colorbar": {
             "outlinewidth": 0,
             "ticks": ""
            },
            "colorscale": [
             [
              0,
              "#0d0887"
             ],
             [
              0.1111111111111111,
              "#46039f"
             ],
             [
              0.2222222222222222,
              "#7201a8"
             ],
             [
              0.3333333333333333,
              "#9c179e"
             ],
             [
              0.4444444444444444,
              "#bd3786"
             ],
             [
              0.5555555555555556,
              "#d8576b"
             ],
             [
              0.6666666666666666,
              "#ed7953"
             ],
             [
              0.7777777777777778,
              "#fb9f3a"
             ],
             [
              0.8888888888888888,
              "#fdca26"
             ],
             [
              1,
              "#f0f921"
             ]
            ],
            "type": "histogram2dcontour"
           }
          ],
          "mesh3d": [
           {
            "colorbar": {
             "outlinewidth": 0,
             "ticks": ""
            },
            "type": "mesh3d"
           }
          ],
          "parcoords": [
           {
            "line": {
             "colorbar": {
              "outlinewidth": 0,
              "ticks": ""
             }
            },
            "type": "parcoords"
           }
          ],
          "pie": [
           {
            "automargin": true,
            "type": "pie"
           }
          ],
          "scatter": [
           {
            "marker": {
             "colorbar": {
              "outlinewidth": 0,
              "ticks": ""
             }
            },
            "type": "scatter"
           }
          ],
          "scatter3d": [
           {
            "line": {
             "colorbar": {
              "outlinewidth": 0,
              "ticks": ""
             }
            },
            "marker": {
             "colorbar": {
              "outlinewidth": 0,
              "ticks": ""
             }
            },
            "type": "scatter3d"
           }
          ],
          "scattercarpet": [
           {
            "marker": {
             "colorbar": {
              "outlinewidth": 0,
              "ticks": ""
             }
            },
            "type": "scattercarpet"
           }
          ],
          "scattergeo": [
           {
            "marker": {
             "colorbar": {
              "outlinewidth": 0,
              "ticks": ""
             }
            },
            "type": "scattergeo"
           }
          ],
          "scattergl": [
           {
            "marker": {
             "colorbar": {
              "outlinewidth": 0,
              "ticks": ""
             }
            },
            "type": "scattergl"
           }
          ],
          "scattermapbox": [
           {
            "marker": {
             "colorbar": {
              "outlinewidth": 0,
              "ticks": ""
             }
            },
            "type": "scattermapbox"
           }
          ],
          "scatterpolar": [
           {
            "marker": {
             "colorbar": {
              "outlinewidth": 0,
              "ticks": ""
             }
            },
            "type": "scatterpolar"
           }
          ],
          "scatterpolargl": [
           {
            "marker": {
             "colorbar": {
              "outlinewidth": 0,
              "ticks": ""
             }
            },
            "type": "scatterpolargl"
           }
          ],
          "scatterternary": [
           {
            "marker": {
             "colorbar": {
              "outlinewidth": 0,
              "ticks": ""
             }
            },
            "type": "scatterternary"
           }
          ],
          "surface": [
           {
            "colorbar": {
             "outlinewidth": 0,
             "ticks": ""
            },
            "colorscale": [
             [
              0,
              "#0d0887"
             ],
             [
              0.1111111111111111,
              "#46039f"
             ],
             [
              0.2222222222222222,
              "#7201a8"
             ],
             [
              0.3333333333333333,
              "#9c179e"
             ],
             [
              0.4444444444444444,
              "#bd3786"
             ],
             [
              0.5555555555555556,
              "#d8576b"
             ],
             [
              0.6666666666666666,
              "#ed7953"
             ],
             [
              0.7777777777777778,
              "#fb9f3a"
             ],
             [
              0.8888888888888888,
              "#fdca26"
             ],
             [
              1,
              "#f0f921"
             ]
            ],
            "type": "surface"
           }
          ],
          "table": [
           {
            "cells": {
             "fill": {
              "color": "#EBF0F8"
             },
             "line": {
              "color": "white"
             }
            },
            "header": {
             "fill": {
              "color": "#C8D4E3"
             },
             "line": {
              "color": "white"
             }
            },
            "type": "table"
           }
          ]
         },
         "layout": {
          "annotationdefaults": {
           "arrowcolor": "#2a3f5f",
           "arrowhead": 0,
           "arrowwidth": 1
          },
          "autotypenumbers": "strict",
          "coloraxis": {
           "colorbar": {
            "outlinewidth": 0,
            "ticks": ""
           }
          },
          "colorscale": {
           "diverging": [
            [
             0,
             "#8e0152"
            ],
            [
             0.1,
             "#c51b7d"
            ],
            [
             0.2,
             "#de77ae"
            ],
            [
             0.3,
             "#f1b6da"
            ],
            [
             0.4,
             "#fde0ef"
            ],
            [
             0.5,
             "#f7f7f7"
            ],
            [
             0.6,
             "#e6f5d0"
            ],
            [
             0.7,
             "#b8e186"
            ],
            [
             0.8,
             "#7fbc41"
            ],
            [
             0.9,
             "#4d9221"
            ],
            [
             1,
             "#276419"
            ]
           ],
           "sequential": [
            [
             0,
             "#0d0887"
            ],
            [
             0.1111111111111111,
             "#46039f"
            ],
            [
             0.2222222222222222,
             "#7201a8"
            ],
            [
             0.3333333333333333,
             "#9c179e"
            ],
            [
             0.4444444444444444,
             "#bd3786"
            ],
            [
             0.5555555555555556,
             "#d8576b"
            ],
            [
             0.6666666666666666,
             "#ed7953"
            ],
            [
             0.7777777777777778,
             "#fb9f3a"
            ],
            [
             0.8888888888888888,
             "#fdca26"
            ],
            [
             1,
             "#f0f921"
            ]
           ],
           "sequentialminus": [
            [
             0,
             "#0d0887"
            ],
            [
             0.1111111111111111,
             "#46039f"
            ],
            [
             0.2222222222222222,
             "#7201a8"
            ],
            [
             0.3333333333333333,
             "#9c179e"
            ],
            [
             0.4444444444444444,
             "#bd3786"
            ],
            [
             0.5555555555555556,
             "#d8576b"
            ],
            [
             0.6666666666666666,
             "#ed7953"
            ],
            [
             0.7777777777777778,
             "#fb9f3a"
            ],
            [
             0.8888888888888888,
             "#fdca26"
            ],
            [
             1,
             "#f0f921"
            ]
           ]
          },
          "colorway": [
           "#636efa",
           "#EF553B",
           "#00cc96",
           "#ab63fa",
           "#FFA15A",
           "#19d3f3",
           "#FF6692",
           "#B6E880",
           "#FF97FF",
           "#FECB52"
          ],
          "font": {
           "color": "#2a3f5f"
          },
          "geo": {
           "bgcolor": "white",
           "lakecolor": "white",
           "landcolor": "#E5ECF6",
           "showlakes": true,
           "showland": true,
           "subunitcolor": "white"
          },
          "hoverlabel": {
           "align": "left"
          },
          "hovermode": "closest",
          "mapbox": {
           "style": "light"
          },
          "paper_bgcolor": "white",
          "plot_bgcolor": "#E5ECF6",
          "polar": {
           "angularaxis": {
            "gridcolor": "white",
            "linecolor": "white",
            "ticks": ""
           },
           "bgcolor": "#E5ECF6",
           "radialaxis": {
            "gridcolor": "white",
            "linecolor": "white",
            "ticks": ""
           }
          },
          "scene": {
           "xaxis": {
            "backgroundcolor": "#E5ECF6",
            "gridcolor": "white",
            "gridwidth": 2,
            "linecolor": "white",
            "showbackground": true,
            "ticks": "",
            "zerolinecolor": "white"
           },
           "yaxis": {
            "backgroundcolor": "#E5ECF6",
            "gridcolor": "white",
            "gridwidth": 2,
            "linecolor": "white",
            "showbackground": true,
            "ticks": "",
            "zerolinecolor": "white"
           },
           "zaxis": {
            "backgroundcolor": "#E5ECF6",
            "gridcolor": "white",
            "gridwidth": 2,
            "linecolor": "white",
            "showbackground": true,
            "ticks": "",
            "zerolinecolor": "white"
           }
          },
          "shapedefaults": {
           "line": {
            "color": "#2a3f5f"
           }
          },
          "ternary": {
           "aaxis": {
            "gridcolor": "white",
            "linecolor": "white",
            "ticks": ""
           },
           "baxis": {
            "gridcolor": "white",
            "linecolor": "white",
            "ticks": ""
           },
           "bgcolor": "#E5ECF6",
           "caxis": {
            "gridcolor": "white",
            "linecolor": "white",
            "ticks": ""
           }
          },
          "title": {
           "x": 0.05
          },
          "xaxis": {
           "automargin": true,
           "gridcolor": "white",
           "linecolor": "white",
           "ticks": "",
           "title": {
            "standoff": 15
           },
           "zerolinecolor": "white",
           "zerolinewidth": 2
          },
          "yaxis": {
           "automargin": true,
           "gridcolor": "white",
           "linecolor": "white",
           "ticks": "",
           "title": {
            "standoff": 15
           },
           "zerolinecolor": "white",
           "zerolinewidth": 2
          }
         }
        },
        "title": {
         "text": "Heating Coil Heating Rate Month #1"
        },
        "xaxis": {
         "title": {
          "text": "Hours"
         }
        },
        "yaxis": {
         "title": {
          "text": "Power [W]"
         }
        }
       }
      }
     },
     "metadata": {},
     "output_type": "display_data"
    }
   ],
   "source": [
    "month_by_hour_zonal_plot(\"Heating Coil Heating Rate\", 1)"
   ]
  },
  {
   "cell_type": "code",
   "execution_count": null,
   "metadata": {},
   "outputs": [
    {
     "data": {
      "application/vnd.plotly.v1+json": {
       "config": {
        "plotlyServerURL": "https://plot.ly"
       },
       "data": [
        {
         "marker": {
          "size": 20
         },
         "mode": "lines+markers",
         "name": "Zone 1",
         "type": "scatter",
         "x": [
          "00:00",
          "01:00",
          "02:00",
          "03:00",
          "04:00",
          "05:00",
          "06:00",
          "07:00",
          "08:00",
          "09:00",
          "10:00",
          "11:00",
          "12:00",
          "13:00",
          "14:00",
          "15:00",
          "16:00",
          "17:00",
          "18:00",
          "19:00",
          "20:00",
          "21:00",
          "22:00",
          "23:00"
         ],
         "y": [
          0,
          0,
          0,
          0,
          0,
          0,
          2377.1142658128897,
          365.10748318062986,
          0,
          0,
          0,
          0,
          0,
          0,
          0,
          4.626774721697433,
          29.560858195343275,
          275.789912012484,
          0,
          0,
          0,
          0,
          0,
          0
         ]
        },
        {
         "marker": {
          "size": 15
         },
         "mode": "lines+markers",
         "name": "Zone 2",
         "type": "scatter",
         "x": [
          "00:00",
          "01:00",
          "02:00",
          "03:00",
          "04:00",
          "05:00",
          "06:00",
          "07:00",
          "08:00",
          "09:00",
          "10:00",
          "11:00",
          "12:00",
          "13:00",
          "14:00",
          "15:00",
          "16:00",
          "17:00",
          "18:00",
          "19:00",
          "20:00",
          "21:00",
          "22:00",
          "23:00"
         ],
         "y": [
          0,
          0,
          0,
          0,
          0,
          0,
          2608.957337481961,
          581.0104459328707,
          0,
          0,
          0,
          0,
          0,
          0,
          0,
          18.410433027753964,
          42.24657129702563,
          275.05094409355615,
          0,
          0,
          0,
          0,
          0,
          0
         ]
        },
        {
         "marker": {
          "size": 10
         },
         "mode": "lines+markers",
         "name": "Zone 3",
         "type": "scatter",
         "x": [
          "00:00",
          "01:00",
          "02:00",
          "03:00",
          "04:00",
          "05:00",
          "06:00",
          "07:00",
          "08:00",
          "09:00",
          "10:00",
          "11:00",
          "12:00",
          "13:00",
          "14:00",
          "15:00",
          "16:00",
          "17:00",
          "18:00",
          "19:00",
          "20:00",
          "21:00",
          "22:00",
          "23:00"
         ],
         "y": [
          0,
          10.67550858600878,
          62.032956600853886,
          131.72080327901202,
          231.37876870410722,
          250.81382654946012,
          87.75828824488606,
          59.51163809724048,
          17.03538436771358,
          0,
          0,
          0,
          0,
          0,
          0,
          0,
          0,
          0,
          0,
          0,
          0,
          0,
          0,
          6.700336549864672
         ]
        },
        {
         "marker": {
          "size": 5
         },
         "mode": "lines+markers",
         "name": "Zone 4",
         "type": "scatter",
         "x": [
          "00:00",
          "01:00",
          "02:00",
          "03:00",
          "04:00",
          "05:00",
          "06:00",
          "07:00",
          "08:00",
          "09:00",
          "10:00",
          "11:00",
          "12:00",
          "13:00",
          "14:00",
          "15:00",
          "16:00",
          "17:00",
          "18:00",
          "19:00",
          "20:00",
          "21:00",
          "22:00",
          "23:00"
         ],
         "y": [
          0,
          0,
          0,
          0,
          0,
          0,
          1775.8126904110818,
          607.2873755496403,
          0,
          0,
          0,
          0,
          0,
          0,
          0,
          0,
          0,
          0,
          0,
          0,
          0,
          0,
          0,
          0
         ]
        }
       ],
       "layout": {
        "template": {
         "data": {
          "bar": [
           {
            "error_x": {
             "color": "#2a3f5f"
            },
            "error_y": {
             "color": "#2a3f5f"
            },
            "marker": {
             "line": {
              "color": "#E5ECF6",
              "width": 0.5
             },
             "pattern": {
              "fillmode": "overlay",
              "size": 10,
              "solidity": 0.2
             }
            },
            "type": "bar"
           }
          ],
          "barpolar": [
           {
            "marker": {
             "line": {
              "color": "#E5ECF6",
              "width": 0.5
             },
             "pattern": {
              "fillmode": "overlay",
              "size": 10,
              "solidity": 0.2
             }
            },
            "type": "barpolar"
           }
          ],
          "carpet": [
           {
            "aaxis": {
             "endlinecolor": "#2a3f5f",
             "gridcolor": "white",
             "linecolor": "white",
             "minorgridcolor": "white",
             "startlinecolor": "#2a3f5f"
            },
            "baxis": {
             "endlinecolor": "#2a3f5f",
             "gridcolor": "white",
             "linecolor": "white",
             "minorgridcolor": "white",
             "startlinecolor": "#2a3f5f"
            },
            "type": "carpet"
           }
          ],
          "choropleth": [
           {
            "colorbar": {
             "outlinewidth": 0,
             "ticks": ""
            },
            "type": "choropleth"
           }
          ],
          "contour": [
           {
            "colorbar": {
             "outlinewidth": 0,
             "ticks": ""
            },
            "colorscale": [
             [
              0,
              "#0d0887"
             ],
             [
              0.1111111111111111,
              "#46039f"
             ],
             [
              0.2222222222222222,
              "#7201a8"
             ],
             [
              0.3333333333333333,
              "#9c179e"
             ],
             [
              0.4444444444444444,
              "#bd3786"
             ],
             [
              0.5555555555555556,
              "#d8576b"
             ],
             [
              0.6666666666666666,
              "#ed7953"
             ],
             [
              0.7777777777777778,
              "#fb9f3a"
             ],
             [
              0.8888888888888888,
              "#fdca26"
             ],
             [
              1,
              "#f0f921"
             ]
            ],
            "type": "contour"
           }
          ],
          "contourcarpet": [
           {
            "colorbar": {
             "outlinewidth": 0,
             "ticks": ""
            },
            "type": "contourcarpet"
           }
          ],
          "heatmap": [
           {
            "colorbar": {
             "outlinewidth": 0,
             "ticks": ""
            },
            "colorscale": [
             [
              0,
              "#0d0887"
             ],
             [
              0.1111111111111111,
              "#46039f"
             ],
             [
              0.2222222222222222,
              "#7201a8"
             ],
             [
              0.3333333333333333,
              "#9c179e"
             ],
             [
              0.4444444444444444,
              "#bd3786"
             ],
             [
              0.5555555555555556,
              "#d8576b"
             ],
             [
              0.6666666666666666,
              "#ed7953"
             ],
             [
              0.7777777777777778,
              "#fb9f3a"
             ],
             [
              0.8888888888888888,
              "#fdca26"
             ],
             [
              1,
              "#f0f921"
             ]
            ],
            "type": "heatmap"
           }
          ],
          "heatmapgl": [
           {
            "colorbar": {
             "outlinewidth": 0,
             "ticks": ""
            },
            "colorscale": [
             [
              0,
              "#0d0887"
             ],
             [
              0.1111111111111111,
              "#46039f"
             ],
             [
              0.2222222222222222,
              "#7201a8"
             ],
             [
              0.3333333333333333,
              "#9c179e"
             ],
             [
              0.4444444444444444,
              "#bd3786"
             ],
             [
              0.5555555555555556,
              "#d8576b"
             ],
             [
              0.6666666666666666,
              "#ed7953"
             ],
             [
              0.7777777777777778,
              "#fb9f3a"
             ],
             [
              0.8888888888888888,
              "#fdca26"
             ],
             [
              1,
              "#f0f921"
             ]
            ],
            "type": "heatmapgl"
           }
          ],
          "histogram": [
           {
            "marker": {
             "pattern": {
              "fillmode": "overlay",
              "size": 10,
              "solidity": 0.2
             }
            },
            "type": "histogram"
           }
          ],
          "histogram2d": [
           {
            "colorbar": {
             "outlinewidth": 0,
             "ticks": ""
            },
            "colorscale": [
             [
              0,
              "#0d0887"
             ],
             [
              0.1111111111111111,
              "#46039f"
             ],
             [
              0.2222222222222222,
              "#7201a8"
             ],
             [
              0.3333333333333333,
              "#9c179e"
             ],
             [
              0.4444444444444444,
              "#bd3786"
             ],
             [
              0.5555555555555556,
              "#d8576b"
             ],
             [
              0.6666666666666666,
              "#ed7953"
             ],
             [
              0.7777777777777778,
              "#fb9f3a"
             ],
             [
              0.8888888888888888,
              "#fdca26"
             ],
             [
              1,
              "#f0f921"
             ]
            ],
            "type": "histogram2d"
           }
          ],
          "histogram2dcontour": [
           {
            "colorbar": {
             "outlinewidth": 0,
             "ticks": ""
            },
            "colorscale": [
             [
              0,
              "#0d0887"
             ],
             [
              0.1111111111111111,
              "#46039f"
             ],
             [
              0.2222222222222222,
              "#7201a8"
             ],
             [
              0.3333333333333333,
              "#9c179e"
             ],
             [
              0.4444444444444444,
              "#bd3786"
             ],
             [
              0.5555555555555556,
              "#d8576b"
             ],
             [
              0.6666666666666666,
              "#ed7953"
             ],
             [
              0.7777777777777778,
              "#fb9f3a"
             ],
             [
              0.8888888888888888,
              "#fdca26"
             ],
             [
              1,
              "#f0f921"
             ]
            ],
            "type": "histogram2dcontour"
           }
          ],
          "mesh3d": [
           {
            "colorbar": {
             "outlinewidth": 0,
             "ticks": ""
            },
            "type": "mesh3d"
           }
          ],
          "parcoords": [
           {
            "line": {
             "colorbar": {
              "outlinewidth": 0,
              "ticks": ""
             }
            },
            "type": "parcoords"
           }
          ],
          "pie": [
           {
            "automargin": true,
            "type": "pie"
           }
          ],
          "scatter": [
           {
            "marker": {
             "colorbar": {
              "outlinewidth": 0,
              "ticks": ""
             }
            },
            "type": "scatter"
           }
          ],
          "scatter3d": [
           {
            "line": {
             "colorbar": {
              "outlinewidth": 0,
              "ticks": ""
             }
            },
            "marker": {
             "colorbar": {
              "outlinewidth": 0,
              "ticks": ""
             }
            },
            "type": "scatter3d"
           }
          ],
          "scattercarpet": [
           {
            "marker": {
             "colorbar": {
              "outlinewidth": 0,
              "ticks": ""
             }
            },
            "type": "scattercarpet"
           }
          ],
          "scattergeo": [
           {
            "marker": {
             "colorbar": {
              "outlinewidth": 0,
              "ticks": ""
             }
            },
            "type": "scattergeo"
           }
          ],
          "scattergl": [
           {
            "marker": {
             "colorbar": {
              "outlinewidth": 0,
              "ticks": ""
             }
            },
            "type": "scattergl"
           }
          ],
          "scattermapbox": [
           {
            "marker": {
             "colorbar": {
              "outlinewidth": 0,
              "ticks": ""
             }
            },
            "type": "scattermapbox"
           }
          ],
          "scatterpolar": [
           {
            "marker": {
             "colorbar": {
              "outlinewidth": 0,
              "ticks": ""
             }
            },
            "type": "scatterpolar"
           }
          ],
          "scatterpolargl": [
           {
            "marker": {
             "colorbar": {
              "outlinewidth": 0,
              "ticks": ""
             }
            },
            "type": "scatterpolargl"
           }
          ],
          "scatterternary": [
           {
            "marker": {
             "colorbar": {
              "outlinewidth": 0,
              "ticks": ""
             }
            },
            "type": "scatterternary"
           }
          ],
          "surface": [
           {
            "colorbar": {
             "outlinewidth": 0,
             "ticks": ""
            },
            "colorscale": [
             [
              0,
              "#0d0887"
             ],
             [
              0.1111111111111111,
              "#46039f"
             ],
             [
              0.2222222222222222,
              "#7201a8"
             ],
             [
              0.3333333333333333,
              "#9c179e"
             ],
             [
              0.4444444444444444,
              "#bd3786"
             ],
             [
              0.5555555555555556,
              "#d8576b"
             ],
             [
              0.6666666666666666,
              "#ed7953"
             ],
             [
              0.7777777777777778,
              "#fb9f3a"
             ],
             [
              0.8888888888888888,
              "#fdca26"
             ],
             [
              1,
              "#f0f921"
             ]
            ],
            "type": "surface"
           }
          ],
          "table": [
           {
            "cells": {
             "fill": {
              "color": "#EBF0F8"
             },
             "line": {
              "color": "white"
             }
            },
            "header": {
             "fill": {
              "color": "#C8D4E3"
             },
             "line": {
              "color": "white"
             }
            },
            "type": "table"
           }
          ]
         },
         "layout": {
          "annotationdefaults": {
           "arrowcolor": "#2a3f5f",
           "arrowhead": 0,
           "arrowwidth": 1
          },
          "autotypenumbers": "strict",
          "coloraxis": {
           "colorbar": {
            "outlinewidth": 0,
            "ticks": ""
           }
          },
          "colorscale": {
           "diverging": [
            [
             0,
             "#8e0152"
            ],
            [
             0.1,
             "#c51b7d"
            ],
            [
             0.2,
             "#de77ae"
            ],
            [
             0.3,
             "#f1b6da"
            ],
            [
             0.4,
             "#fde0ef"
            ],
            [
             0.5,
             "#f7f7f7"
            ],
            [
             0.6,
             "#e6f5d0"
            ],
            [
             0.7,
             "#b8e186"
            ],
            [
             0.8,
             "#7fbc41"
            ],
            [
             0.9,
             "#4d9221"
            ],
            [
             1,
             "#276419"
            ]
           ],
           "sequential": [
            [
             0,
             "#0d0887"
            ],
            [
             0.1111111111111111,
             "#46039f"
            ],
            [
             0.2222222222222222,
             "#7201a8"
            ],
            [
             0.3333333333333333,
             "#9c179e"
            ],
            [
             0.4444444444444444,
             "#bd3786"
            ],
            [
             0.5555555555555556,
             "#d8576b"
            ],
            [
             0.6666666666666666,
             "#ed7953"
            ],
            [
             0.7777777777777778,
             "#fb9f3a"
            ],
            [
             0.8888888888888888,
             "#fdca26"
            ],
            [
             1,
             "#f0f921"
            ]
           ],
           "sequentialminus": [
            [
             0,
             "#0d0887"
            ],
            [
             0.1111111111111111,
             "#46039f"
            ],
            [
             0.2222222222222222,
             "#7201a8"
            ],
            [
             0.3333333333333333,
             "#9c179e"
            ],
            [
             0.4444444444444444,
             "#bd3786"
            ],
            [
             0.5555555555555556,
             "#d8576b"
            ],
            [
             0.6666666666666666,
             "#ed7953"
            ],
            [
             0.7777777777777778,
             "#fb9f3a"
            ],
            [
             0.8888888888888888,
             "#fdca26"
            ],
            [
             1,
             "#f0f921"
            ]
           ]
          },
          "colorway": [
           "#636efa",
           "#EF553B",
           "#00cc96",
           "#ab63fa",
           "#FFA15A",
           "#19d3f3",
           "#FF6692",
           "#B6E880",
           "#FF97FF",
           "#FECB52"
          ],
          "font": {
           "color": "#2a3f5f"
          },
          "geo": {
           "bgcolor": "white",
           "lakecolor": "white",
           "landcolor": "#E5ECF6",
           "showlakes": true,
           "showland": true,
           "subunitcolor": "white"
          },
          "hoverlabel": {
           "align": "left"
          },
          "hovermode": "closest",
          "mapbox": {
           "style": "light"
          },
          "paper_bgcolor": "white",
          "plot_bgcolor": "#E5ECF6",
          "polar": {
           "angularaxis": {
            "gridcolor": "white",
            "linecolor": "white",
            "ticks": ""
           },
           "bgcolor": "#E5ECF6",
           "radialaxis": {
            "gridcolor": "white",
            "linecolor": "white",
            "ticks": ""
           }
          },
          "scene": {
           "xaxis": {
            "backgroundcolor": "#E5ECF6",
            "gridcolor": "white",
            "gridwidth": 2,
            "linecolor": "white",
            "showbackground": true,
            "ticks": "",
            "zerolinecolor": "white"
           },
           "yaxis": {
            "backgroundcolor": "#E5ECF6",
            "gridcolor": "white",
            "gridwidth": 2,
            "linecolor": "white",
            "showbackground": true,
            "ticks": "",
            "zerolinecolor": "white"
           },
           "zaxis": {
            "backgroundcolor": "#E5ECF6",
            "gridcolor": "white",
            "gridwidth": 2,
            "linecolor": "white",
            "showbackground": true,
            "ticks": "",
            "zerolinecolor": "white"
           }
          },
          "shapedefaults": {
           "line": {
            "color": "#2a3f5f"
           }
          },
          "ternary": {
           "aaxis": {
            "gridcolor": "white",
            "linecolor": "white",
            "ticks": ""
           },
           "baxis": {
            "gridcolor": "white",
            "linecolor": "white",
            "ticks": ""
           },
           "bgcolor": "#E5ECF6",
           "caxis": {
            "gridcolor": "white",
            "linecolor": "white",
            "ticks": ""
           }
          },
          "title": {
           "x": 0.05
          },
          "xaxis": {
           "automargin": true,
           "gridcolor": "white",
           "linecolor": "white",
           "ticks": "",
           "title": {
            "standoff": 15
           },
           "zerolinecolor": "white",
           "zerolinewidth": 2
          },
          "yaxis": {
           "automargin": true,
           "gridcolor": "white",
           "linecolor": "white",
           "ticks": "",
           "title": {
            "standoff": 15
           },
           "zerolinecolor": "white",
           "zerolinewidth": 2
          }
         }
        },
        "title": {
         "text": "Heating Coil Heating Rate Month #8"
        },
        "xaxis": {
         "title": {
          "text": "Hours"
         }
        },
        "yaxis": {
         "title": {
          "text": "Power [W]"
         }
        }
       }
      }
     },
     "metadata": {},
     "output_type": "display_data"
    }
   ],
   "source": [
    "month_by_hour_zonal_plot(\"Heating Coil Heating Rate\", 8)"
   ]
  },
  {
   "cell_type": "code",
   "execution_count": null,
   "metadata": {},
   "outputs": [
    {
     "data": {
      "application/vnd.plotly.v1+json": {
       "config": {
        "plotlyServerURL": "https://plot.ly"
       },
       "data": [
        {
         "mode": "lines+markers",
         "name": "Zone 1",
         "type": "scatter",
         "x": [
          "00:00",
          "01:00",
          "02:00",
          "03:00",
          "04:00",
          "05:00",
          "06:00",
          "07:00",
          "08:00",
          "09:00",
          "10:00",
          "11:00",
          "12:00",
          "13:00",
          "14:00",
          "15:00",
          "16:00",
          "17:00",
          "18:00",
          "19:00",
          "20:00",
          "21:00",
          "22:00",
          "23:00"
         ],
         "y": [
          16.95411627578571,
          16.70492705286494,
          16.53389079361701,
          16.390066580679623,
          16.274831413103946,
          16.253536374759765,
          19.443127808574147,
          20.3414358812104,
          22.59496903397357,
          22.836954476953196,
          22.914762745894766,
          22.977308349301424,
          23.039666134280573,
          23.06404725726075,
          22.765219975742227,
          22.71507283812903,
          22.715358164511375,
          22.710310685773358,
          22.235418414031933,
          21.9147497902475,
          20.32873112642668,
          19.921676915586797,
          18.359189033861004,
          17.551539349837633
         ]
        },
        {
         "mode": "lines+markers",
         "name": "Zone 2",
         "type": "scatter",
         "x": [
          "00:00",
          "01:00",
          "02:00",
          "03:00",
          "04:00",
          "05:00",
          "06:00",
          "07:00",
          "08:00",
          "09:00",
          "10:00",
          "11:00",
          "12:00",
          "13:00",
          "14:00",
          "15:00",
          "16:00",
          "17:00",
          "18:00",
          "19:00",
          "20:00",
          "21:00",
          "22:00",
          "23:00"
         ],
         "y": [
          16.71177318466384,
          16.46753217670699,
          16.287869332194344,
          16.152939910709627,
          16.04708114140564,
          16.023522413788477,
          19.195836666304835,
          20.264996170005627,
          22.509954325405154,
          22.761463966930986,
          22.833907530498333,
          22.893744562866438,
          22.954803454937522,
          22.993047353276367,
          22.69951445178965,
          22.659666245245333,
          22.66060470473346,
          22.656557056619693,
          22.066188076569976,
          21.691762406623557,
          20.15723184172762,
          19.84262525520806,
          18.17052809037253,
          17.317522068011662
         ]
        },
        {
         "mode": "lines+markers",
         "name": "Zone 3",
         "type": "scatter",
         "x": [
          "00:00",
          "01:00",
          "02:00",
          "03:00",
          "04:00",
          "05:00",
          "06:00",
          "07:00",
          "08:00",
          "09:00",
          "10:00",
          "11:00",
          "12:00",
          "13:00",
          "14:00",
          "15:00",
          "16:00",
          "17:00",
          "18:00",
          "19:00",
          "20:00",
          "21:00",
          "22:00",
          "23:00"
         ],
         "y": [
          21.02870879747476,
          21.02287863434996,
          21.01688833573183,
          21.011280473849023,
          21.00282322892917,
          20.988114145349865,
          20.993467700671196,
          20.992337860930807,
          22.266828035316426,
          23.096797222975084,
          23.712350217855576,
          24.06210347408567,
          24.154383833854943,
          24.267510928110156,
          24.17886221465501,
          24.144971822024154,
          24.12967154804438,
          24.054696028957366,
          23.636752183932412,
          23.38198376484993,
          22.632452192153877,
          22.272156138754223,
          21.34352847961377,
          21.06712860287737
         ]
        },
        {
         "mode": "lines+markers",
         "name": "Zone 4",
         "type": "scatter",
         "x": [
          "00:00",
          "01:00",
          "02:00",
          "03:00",
          "04:00",
          "05:00",
          "06:00",
          "07:00",
          "08:00",
          "09:00",
          "10:00",
          "11:00",
          "12:00",
          "13:00",
          "14:00",
          "15:00",
          "16:00",
          "17:00",
          "18:00",
          "19:00",
          "20:00",
          "21:00",
          "22:00",
          "23:00"
         ],
         "y": [
          16.863622866143185,
          16.578279873924053,
          16.31372044574312,
          16.111733949668228,
          15.945029594912413,
          15.85044866973185,
          18.525415563446803,
          19.613684415260092,
          20.27849972270449,
          20.42684988944895,
          20.623702903545365,
          20.96368529256445,
          21.14752917873277,
          21.688667625993098,
          21.9922890437446,
          22.16441371820919,
          22.215825795039557,
          21.72885863233078,
          20.673152721165902,
          20.241602120253212,
          19.949389068344026,
          19.87729495293165,
          18.203017204094156,
          17.39039797680816
         ]
        }
       ],
       "layout": {
        "template": {
         "data": {
          "bar": [
           {
            "error_x": {
             "color": "#2a3f5f"
            },
            "error_y": {
             "color": "#2a3f5f"
            },
            "marker": {
             "line": {
              "color": "#E5ECF6",
              "width": 0.5
             },
             "pattern": {
              "fillmode": "overlay",
              "size": 10,
              "solidity": 0.2
             }
            },
            "type": "bar"
           }
          ],
          "barpolar": [
           {
            "marker": {
             "line": {
              "color": "#E5ECF6",
              "width": 0.5
             },
             "pattern": {
              "fillmode": "overlay",
              "size": 10,
              "solidity": 0.2
             }
            },
            "type": "barpolar"
           }
          ],
          "carpet": [
           {
            "aaxis": {
             "endlinecolor": "#2a3f5f",
             "gridcolor": "white",
             "linecolor": "white",
             "minorgridcolor": "white",
             "startlinecolor": "#2a3f5f"
            },
            "baxis": {
             "endlinecolor": "#2a3f5f",
             "gridcolor": "white",
             "linecolor": "white",
             "minorgridcolor": "white",
             "startlinecolor": "#2a3f5f"
            },
            "type": "carpet"
           }
          ],
          "choropleth": [
           {
            "colorbar": {
             "outlinewidth": 0,
             "ticks": ""
            },
            "type": "choropleth"
           }
          ],
          "contour": [
           {
            "colorbar": {
             "outlinewidth": 0,
             "ticks": ""
            },
            "colorscale": [
             [
              0,
              "#0d0887"
             ],
             [
              0.1111111111111111,
              "#46039f"
             ],
             [
              0.2222222222222222,
              "#7201a8"
             ],
             [
              0.3333333333333333,
              "#9c179e"
             ],
             [
              0.4444444444444444,
              "#bd3786"
             ],
             [
              0.5555555555555556,
              "#d8576b"
             ],
             [
              0.6666666666666666,
              "#ed7953"
             ],
             [
              0.7777777777777778,
              "#fb9f3a"
             ],
             [
              0.8888888888888888,
              "#fdca26"
             ],
             [
              1,
              "#f0f921"
             ]
            ],
            "type": "contour"
           }
          ],
          "contourcarpet": [
           {
            "colorbar": {
             "outlinewidth": 0,
             "ticks": ""
            },
            "type": "contourcarpet"
           }
          ],
          "heatmap": [
           {
            "colorbar": {
             "outlinewidth": 0,
             "ticks": ""
            },
            "colorscale": [
             [
              0,
              "#0d0887"
             ],
             [
              0.1111111111111111,
              "#46039f"
             ],
             [
              0.2222222222222222,
              "#7201a8"
             ],
             [
              0.3333333333333333,
              "#9c179e"
             ],
             [
              0.4444444444444444,
              "#bd3786"
             ],
             [
              0.5555555555555556,
              "#d8576b"
             ],
             [
              0.6666666666666666,
              "#ed7953"
             ],
             [
              0.7777777777777778,
              "#fb9f3a"
             ],
             [
              0.8888888888888888,
              "#fdca26"
             ],
             [
              1,
              "#f0f921"
             ]
            ],
            "type": "heatmap"
           }
          ],
          "heatmapgl": [
           {
            "colorbar": {
             "outlinewidth": 0,
             "ticks": ""
            },
            "colorscale": [
             [
              0,
              "#0d0887"
             ],
             [
              0.1111111111111111,
              "#46039f"
             ],
             [
              0.2222222222222222,
              "#7201a8"
             ],
             [
              0.3333333333333333,
              "#9c179e"
             ],
             [
              0.4444444444444444,
              "#bd3786"
             ],
             [
              0.5555555555555556,
              "#d8576b"
             ],
             [
              0.6666666666666666,
              "#ed7953"
             ],
             [
              0.7777777777777778,
              "#fb9f3a"
             ],
             [
              0.8888888888888888,
              "#fdca26"
             ],
             [
              1,
              "#f0f921"
             ]
            ],
            "type": "heatmapgl"
           }
          ],
          "histogram": [
           {
            "marker": {
             "pattern": {
              "fillmode": "overlay",
              "size": 10,
              "solidity": 0.2
             }
            },
            "type": "histogram"
           }
          ],
          "histogram2d": [
           {
            "colorbar": {
             "outlinewidth": 0,
             "ticks": ""
            },
            "colorscale": [
             [
              0,
              "#0d0887"
             ],
             [
              0.1111111111111111,
              "#46039f"
             ],
             [
              0.2222222222222222,
              "#7201a8"
             ],
             [
              0.3333333333333333,
              "#9c179e"
             ],
             [
              0.4444444444444444,
              "#bd3786"
             ],
             [
              0.5555555555555556,
              "#d8576b"
             ],
             [
              0.6666666666666666,
              "#ed7953"
             ],
             [
              0.7777777777777778,
              "#fb9f3a"
             ],
             [
              0.8888888888888888,
              "#fdca26"
             ],
             [
              1,
              "#f0f921"
             ]
            ],
            "type": "histogram2d"
           }
          ],
          "histogram2dcontour": [
           {
            "colorbar": {
             "outlinewidth": 0,
             "ticks": ""
            },
            "colorscale": [
             [
              0,
              "#0d0887"
             ],
             [
              0.1111111111111111,
              "#46039f"
             ],
             [
              0.2222222222222222,
              "#7201a8"
             ],
             [
              0.3333333333333333,
              "#9c179e"
             ],
             [
              0.4444444444444444,
              "#bd3786"
             ],
             [
              0.5555555555555556,
              "#d8576b"
             ],
             [
              0.6666666666666666,
              "#ed7953"
             ],
             [
              0.7777777777777778,
              "#fb9f3a"
             ],
             [
              0.8888888888888888,
              "#fdca26"
             ],
             [
              1,
              "#f0f921"
             ]
            ],
            "type": "histogram2dcontour"
           }
          ],
          "mesh3d": [
           {
            "colorbar": {
             "outlinewidth": 0,
             "ticks": ""
            },
            "type": "mesh3d"
           }
          ],
          "parcoords": [
           {
            "line": {
             "colorbar": {
              "outlinewidth": 0,
              "ticks": ""
             }
            },
            "type": "parcoords"
           }
          ],
          "pie": [
           {
            "automargin": true,
            "type": "pie"
           }
          ],
          "scatter": [
           {
            "marker": {
             "colorbar": {
              "outlinewidth": 0,
              "ticks": ""
             }
            },
            "type": "scatter"
           }
          ],
          "scatter3d": [
           {
            "line": {
             "colorbar": {
              "outlinewidth": 0,
              "ticks": ""
             }
            },
            "marker": {
             "colorbar": {
              "outlinewidth": 0,
              "ticks": ""
             }
            },
            "type": "scatter3d"
           }
          ],
          "scattercarpet": [
           {
            "marker": {
             "colorbar": {
              "outlinewidth": 0,
              "ticks": ""
             }
            },
            "type": "scattercarpet"
           }
          ],
          "scattergeo": [
           {
            "marker": {
             "colorbar": {
              "outlinewidth": 0,
              "ticks": ""
             }
            },
            "type": "scattergeo"
           }
          ],
          "scattergl": [
           {
            "marker": {
             "colorbar": {
              "outlinewidth": 0,
              "ticks": ""
             }
            },
            "type": "scattergl"
           }
          ],
          "scattermapbox": [
           {
            "marker": {
             "colorbar": {
              "outlinewidth": 0,
              "ticks": ""
             }
            },
            "type": "scattermapbox"
           }
          ],
          "scatterpolar": [
           {
            "marker": {
             "colorbar": {
              "outlinewidth": 0,
              "ticks": ""
             }
            },
            "type": "scatterpolar"
           }
          ],
          "scatterpolargl": [
           {
            "marker": {
             "colorbar": {
              "outlinewidth": 0,
              "ticks": ""
             }
            },
            "type": "scatterpolargl"
           }
          ],
          "scatterternary": [
           {
            "marker": {
             "colorbar": {
              "outlinewidth": 0,
              "ticks": ""
             }
            },
            "type": "scatterternary"
           }
          ],
          "surface": [
           {
            "colorbar": {
             "outlinewidth": 0,
             "ticks": ""
            },
            "colorscale": [
             [
              0,
              "#0d0887"
             ],
             [
              0.1111111111111111,
              "#46039f"
             ],
             [
              0.2222222222222222,
              "#7201a8"
             ],
             [
              0.3333333333333333,
              "#9c179e"
             ],
             [
              0.4444444444444444,
              "#bd3786"
             ],
             [
              0.5555555555555556,
              "#d8576b"
             ],
             [
              0.6666666666666666,
              "#ed7953"
             ],
             [
              0.7777777777777778,
              "#fb9f3a"
             ],
             [
              0.8888888888888888,
              "#fdca26"
             ],
             [
              1,
              "#f0f921"
             ]
            ],
            "type": "surface"
           }
          ],
          "table": [
           {
            "cells": {
             "fill": {
              "color": "#EBF0F8"
             },
             "line": {
              "color": "white"
             }
            },
            "header": {
             "fill": {
              "color": "#C8D4E3"
             },
             "line": {
              "color": "white"
             }
            },
            "type": "table"
           }
          ]
         },
         "layout": {
          "annotationdefaults": {
           "arrowcolor": "#2a3f5f",
           "arrowhead": 0,
           "arrowwidth": 1
          },
          "autotypenumbers": "strict",
          "coloraxis": {
           "colorbar": {
            "outlinewidth": 0,
            "ticks": ""
           }
          },
          "colorscale": {
           "diverging": [
            [
             0,
             "#8e0152"
            ],
            [
             0.1,
             "#c51b7d"
            ],
            [
             0.2,
             "#de77ae"
            ],
            [
             0.3,
             "#f1b6da"
            ],
            [
             0.4,
             "#fde0ef"
            ],
            [
             0.5,
             "#f7f7f7"
            ],
            [
             0.6,
             "#e6f5d0"
            ],
            [
             0.7,
             "#b8e186"
            ],
            [
             0.8,
             "#7fbc41"
            ],
            [
             0.9,
             "#4d9221"
            ],
            [
             1,
             "#276419"
            ]
           ],
           "sequential": [
            [
             0,
             "#0d0887"
            ],
            [
             0.1111111111111111,
             "#46039f"
            ],
            [
             0.2222222222222222,
             "#7201a8"
            ],
            [
             0.3333333333333333,
             "#9c179e"
            ],
            [
             0.4444444444444444,
             "#bd3786"
            ],
            [
             0.5555555555555556,
             "#d8576b"
            ],
            [
             0.6666666666666666,
             "#ed7953"
            ],
            [
             0.7777777777777778,
             "#fb9f3a"
            ],
            [
             0.8888888888888888,
             "#fdca26"
            ],
            [
             1,
             "#f0f921"
            ]
           ],
           "sequentialminus": [
            [
             0,
             "#0d0887"
            ],
            [
             0.1111111111111111,
             "#46039f"
            ],
            [
             0.2222222222222222,
             "#7201a8"
            ],
            [
             0.3333333333333333,
             "#9c179e"
            ],
            [
             0.4444444444444444,
             "#bd3786"
            ],
            [
             0.5555555555555556,
             "#d8576b"
            ],
            [
             0.6666666666666666,
             "#ed7953"
            ],
            [
             0.7777777777777778,
             "#fb9f3a"
            ],
            [
             0.8888888888888888,
             "#fdca26"
            ],
            [
             1,
             "#f0f921"
            ]
           ]
          },
          "colorway": [
           "#636efa",
           "#EF553B",
           "#00cc96",
           "#ab63fa",
           "#FFA15A",
           "#19d3f3",
           "#FF6692",
           "#B6E880",
           "#FF97FF",
           "#FECB52"
          ],
          "font": {
           "color": "#2a3f5f"
          },
          "geo": {
           "bgcolor": "white",
           "lakecolor": "white",
           "landcolor": "#E5ECF6",
           "showlakes": true,
           "showland": true,
           "subunitcolor": "white"
          },
          "hoverlabel": {
           "align": "left"
          },
          "hovermode": "closest",
          "mapbox": {
           "style": "light"
          },
          "paper_bgcolor": "white",
          "plot_bgcolor": "#E5ECF6",
          "polar": {
           "angularaxis": {
            "gridcolor": "white",
            "linecolor": "white",
            "ticks": ""
           },
           "bgcolor": "#E5ECF6",
           "radialaxis": {
            "gridcolor": "white",
            "linecolor": "white",
            "ticks": ""
           }
          },
          "scene": {
           "xaxis": {
            "backgroundcolor": "#E5ECF6",
            "gridcolor": "white",
            "gridwidth": 2,
            "linecolor": "white",
            "showbackground": true,
            "ticks": "",
            "zerolinecolor": "white"
           },
           "yaxis": {
            "backgroundcolor": "#E5ECF6",
            "gridcolor": "white",
            "gridwidth": 2,
            "linecolor": "white",
            "showbackground": true,
            "ticks": "",
            "zerolinecolor": "white"
           },
           "zaxis": {
            "backgroundcolor": "#E5ECF6",
            "gridcolor": "white",
            "gridwidth": 2,
            "linecolor": "white",
            "showbackground": true,
            "ticks": "",
            "zerolinecolor": "white"
           }
          },
          "shapedefaults": {
           "line": {
            "color": "#2a3f5f"
           }
          },
          "ternary": {
           "aaxis": {
            "gridcolor": "white",
            "linecolor": "white",
            "ticks": ""
           },
           "baxis": {
            "gridcolor": "white",
            "linecolor": "white",
            "ticks": ""
           },
           "bgcolor": "#E5ECF6",
           "caxis": {
            "gridcolor": "white",
            "linecolor": "white",
            "ticks": ""
           }
          },
          "title": {
           "x": 0.05
          },
          "xaxis": {
           "automargin": true,
           "gridcolor": "white",
           "linecolor": "white",
           "ticks": "",
           "title": {
            "standoff": 15
           },
           "zerolinecolor": "white",
           "zerolinewidth": 2
          },
          "yaxis": {
           "automargin": true,
           "gridcolor": "white",
           "linecolor": "white",
           "ticks": "",
           "title": {
            "standoff": 15
           },
           "zerolinecolor": "white",
           "zerolinewidth": 2
          }
         }
        },
        "title": {
         "text": "Zone Mean Air Temperature Month #1"
        },
        "xaxis": {
         "title": {
          "text": "Hours"
         }
        },
        "yaxis": {
         "title": {
          "text": "Temperature [C]"
         }
        }
       }
      }
     },
     "metadata": {},
     "output_type": "display_data"
    }
   ],
   "source": [
    "month_by_hour_zonal_plot(\"Zone Mean Air Temperature\", 1)"
   ]
  },
  {
   "cell_type": "code",
   "execution_count": null,
   "metadata": {},
   "outputs": [
    {
     "data": {
      "application/vnd.plotly.v1+json": {
       "config": {
        "plotlyServerURL": "https://plot.ly"
       },
       "data": [
        {
         "mode": "lines+markers",
         "name": "Zone 1",
         "type": "scatter",
         "x": [
          "00:00",
          "01:00",
          "02:00",
          "03:00",
          "04:00",
          "05:00",
          "06:00",
          "07:00",
          "08:00",
          "09:00",
          "10:00",
          "11:00",
          "12:00",
          "13:00",
          "14:00",
          "15:00",
          "16:00",
          "17:00",
          "18:00",
          "19:00",
          "20:00",
          "21:00",
          "22:00",
          "23:00"
         ],
         "y": [
          18.528614657009562,
          18.278571738249617,
          18.118103233605574,
          17.98597897883851,
          17.870318261080726,
          17.87810864177113,
          20.316229629430783,
          20.592503178764236,
          22.980268924049163,
          23.194614901783805,
          23.232703661237785,
          23.259504276699424,
          23.282968161114088,
          23.304157965438716,
          23.00616619796481,
          22.91576359160289,
          22.897083113249995,
          22.825873655466633,
          22.572640465536658,
          22.44389605606064,
          21.11522801493582,
          20.53247051428091,
          19.54499341521992,
          19.000643068552762
         ]
        },
        {
         "mode": "lines+markers",
         "name": "Zone 2",
         "type": "scatter",
         "x": [
          "00:00",
          "01:00",
          "02:00",
          "03:00",
          "04:00",
          "05:00",
          "06:00",
          "07:00",
          "08:00",
          "09:00",
          "10:00",
          "11:00",
          "12:00",
          "13:00",
          "14:00",
          "15:00",
          "16:00",
          "17:00",
          "18:00",
          "19:00",
          "20:00",
          "21:00",
          "22:00",
          "23:00"
         ],
         "y": [
          18.423165305470345,
          18.157525559925315,
          17.984911175160082,
          17.842818582795527,
          17.718612214101324,
          17.719157541642762,
          20.26343231443223,
          20.537768589457,
          22.8989584500721,
          23.113607694553924,
          23.183281766868948,
          23.217267626453882,
          23.246510678936506,
          23.266938544423468,
          22.95145819231802,
          22.868710850366895,
          22.865303424839592,
          22.810465365229952,
          22.57309959797975,
          22.450504871237605,
          21.116530059322514,
          20.50956359244547,
          19.48715043965164,
          18.915181321769463
         ]
        },
        {
         "mode": "lines+markers",
         "name": "Zone 3",
         "type": "scatter",
         "x": [
          "00:00",
          "01:00",
          "02:00",
          "03:00",
          "04:00",
          "05:00",
          "06:00",
          "07:00",
          "08:00",
          "09:00",
          "10:00",
          "11:00",
          "12:00",
          "13:00",
          "14:00",
          "15:00",
          "16:00",
          "17:00",
          "18:00",
          "19:00",
          "20:00",
          "21:00",
          "22:00",
          "23:00"
         ],
         "y": [
          22.623162013151486,
          22.29053001708915,
          22.003412257285056,
          21.745119258627792,
          21.51940491796913,
          21.449092054585847,
          21.92408572038294,
          22.448593866287798,
          24.166206125079995,
          24.40119380068932,
          24.477204964149912,
          24.55049811762641,
          24.61190846470724,
          24.655381081890287,
          24.702663197857905,
          24.74648380733452,
          24.753757589228893,
          24.70078217444345,
          24.649712947168368,
          24.497389875455113,
          24.383704255988988,
          24.286119335741216,
          23.49267003128995,
          22.963497526357127
         ]
        },
        {
         "mode": "lines+markers",
         "name": "Zone 4",
         "type": "scatter",
         "x": [
          "00:00",
          "01:00",
          "02:00",
          "03:00",
          "04:00",
          "05:00",
          "06:00",
          "07:00",
          "08:00",
          "09:00",
          "10:00",
          "11:00",
          "12:00",
          "13:00",
          "14:00",
          "15:00",
          "16:00",
          "17:00",
          "18:00",
          "19:00",
          "20:00",
          "21:00",
          "22:00",
          "23:00"
         ],
         "y": [
          20.85585818036289,
          20.48114238581843,
          20.126053070389453,
          19.78312310178562,
          19.449283945453047,
          19.30642660748955,
          20.635453265030424,
          20.75372376583687,
          22.256707662588223,
          23.031605738208913,
          23.315972053276134,
          23.48980620941447,
          23.615007530685002,
          23.68111072352905,
          23.640626212874203,
          23.675959787390394,
          23.68961054018218,
          23.5918043957402,
          23.502394815014284,
          23.342929536264798,
          22.92189344978007,
          22.58690773253996,
          21.7849820043673,
          21.243275148682056
         ]
        }
       ],
       "layout": {
        "template": {
         "data": {
          "bar": [
           {
            "error_x": {
             "color": "#2a3f5f"
            },
            "error_y": {
             "color": "#2a3f5f"
            },
            "marker": {
             "line": {
              "color": "#E5ECF6",
              "width": 0.5
             },
             "pattern": {
              "fillmode": "overlay",
              "size": 10,
              "solidity": 0.2
             }
            },
            "type": "bar"
           }
          ],
          "barpolar": [
           {
            "marker": {
             "line": {
              "color": "#E5ECF6",
              "width": 0.5
             },
             "pattern": {
              "fillmode": "overlay",
              "size": 10,
              "solidity": 0.2
             }
            },
            "type": "barpolar"
           }
          ],
          "carpet": [
           {
            "aaxis": {
             "endlinecolor": "#2a3f5f",
             "gridcolor": "white",
             "linecolor": "white",
             "minorgridcolor": "white",
             "startlinecolor": "#2a3f5f"
            },
            "baxis": {
             "endlinecolor": "#2a3f5f",
             "gridcolor": "white",
             "linecolor": "white",
             "minorgridcolor": "white",
             "startlinecolor": "#2a3f5f"
            },
            "type": "carpet"
           }
          ],
          "choropleth": [
           {
            "colorbar": {
             "outlinewidth": 0,
             "ticks": ""
            },
            "type": "choropleth"
           }
          ],
          "contour": [
           {
            "colorbar": {
             "outlinewidth": 0,
             "ticks": ""
            },
            "colorscale": [
             [
              0,
              "#0d0887"
             ],
             [
              0.1111111111111111,
              "#46039f"
             ],
             [
              0.2222222222222222,
              "#7201a8"
             ],
             [
              0.3333333333333333,
              "#9c179e"
             ],
             [
              0.4444444444444444,
              "#bd3786"
             ],
             [
              0.5555555555555556,
              "#d8576b"
             ],
             [
              0.6666666666666666,
              "#ed7953"
             ],
             [
              0.7777777777777778,
              "#fb9f3a"
             ],
             [
              0.8888888888888888,
              "#fdca26"
             ],
             [
              1,
              "#f0f921"
             ]
            ],
            "type": "contour"
           }
          ],
          "contourcarpet": [
           {
            "colorbar": {
             "outlinewidth": 0,
             "ticks": ""
            },
            "type": "contourcarpet"
           }
          ],
          "heatmap": [
           {
            "colorbar": {
             "outlinewidth": 0,
             "ticks": ""
            },
            "colorscale": [
             [
              0,
              "#0d0887"
             ],
             [
              0.1111111111111111,
              "#46039f"
             ],
             [
              0.2222222222222222,
              "#7201a8"
             ],
             [
              0.3333333333333333,
              "#9c179e"
             ],
             [
              0.4444444444444444,
              "#bd3786"
             ],
             [
              0.5555555555555556,
              "#d8576b"
             ],
             [
              0.6666666666666666,
              "#ed7953"
             ],
             [
              0.7777777777777778,
              "#fb9f3a"
             ],
             [
              0.8888888888888888,
              "#fdca26"
             ],
             [
              1,
              "#f0f921"
             ]
            ],
            "type": "heatmap"
           }
          ],
          "heatmapgl": [
           {
            "colorbar": {
             "outlinewidth": 0,
             "ticks": ""
            },
            "colorscale": [
             [
              0,
              "#0d0887"
             ],
             [
              0.1111111111111111,
              "#46039f"
             ],
             [
              0.2222222222222222,
              "#7201a8"
             ],
             [
              0.3333333333333333,
              "#9c179e"
             ],
             [
              0.4444444444444444,
              "#bd3786"
             ],
             [
              0.5555555555555556,
              "#d8576b"
             ],
             [
              0.6666666666666666,
              "#ed7953"
             ],
             [
              0.7777777777777778,
              "#fb9f3a"
             ],
             [
              0.8888888888888888,
              "#fdca26"
             ],
             [
              1,
              "#f0f921"
             ]
            ],
            "type": "heatmapgl"
           }
          ],
          "histogram": [
           {
            "marker": {
             "pattern": {
              "fillmode": "overlay",
              "size": 10,
              "solidity": 0.2
             }
            },
            "type": "histogram"
           }
          ],
          "histogram2d": [
           {
            "colorbar": {
             "outlinewidth": 0,
             "ticks": ""
            },
            "colorscale": [
             [
              0,
              "#0d0887"
             ],
             [
              0.1111111111111111,
              "#46039f"
             ],
             [
              0.2222222222222222,
              "#7201a8"
             ],
             [
              0.3333333333333333,
              "#9c179e"
             ],
             [
              0.4444444444444444,
              "#bd3786"
             ],
             [
              0.5555555555555556,
              "#d8576b"
             ],
             [
              0.6666666666666666,
              "#ed7953"
             ],
             [
              0.7777777777777778,
              "#fb9f3a"
             ],
             [
              0.8888888888888888,
              "#fdca26"
             ],
             [
              1,
              "#f0f921"
             ]
            ],
            "type": "histogram2d"
           }
          ],
          "histogram2dcontour": [
           {
            "colorbar": {
             "outlinewidth": 0,
             "ticks": ""
            },
            "colorscale": [
             [
              0,
              "#0d0887"
             ],
             [
              0.1111111111111111,
              "#46039f"
             ],
             [
              0.2222222222222222,
              "#7201a8"
             ],
             [
              0.3333333333333333,
              "#9c179e"
             ],
             [
              0.4444444444444444,
              "#bd3786"
             ],
             [
              0.5555555555555556,
              "#d8576b"
             ],
             [
              0.6666666666666666,
              "#ed7953"
             ],
             [
              0.7777777777777778,
              "#fb9f3a"
             ],
             [
              0.8888888888888888,
              "#fdca26"
             ],
             [
              1,
              "#f0f921"
             ]
            ],
            "type": "histogram2dcontour"
           }
          ],
          "mesh3d": [
           {
            "colorbar": {
             "outlinewidth": 0,
             "ticks": ""
            },
            "type": "mesh3d"
           }
          ],
          "parcoords": [
           {
            "line": {
             "colorbar": {
              "outlinewidth": 0,
              "ticks": ""
             }
            },
            "type": "parcoords"
           }
          ],
          "pie": [
           {
            "automargin": true,
            "type": "pie"
           }
          ],
          "scatter": [
           {
            "marker": {
             "colorbar": {
              "outlinewidth": 0,
              "ticks": ""
             }
            },
            "type": "scatter"
           }
          ],
          "scatter3d": [
           {
            "line": {
             "colorbar": {
              "outlinewidth": 0,
              "ticks": ""
             }
            },
            "marker": {
             "colorbar": {
              "outlinewidth": 0,
              "ticks": ""
             }
            },
            "type": "scatter3d"
           }
          ],
          "scattercarpet": [
           {
            "marker": {
             "colorbar": {
              "outlinewidth": 0,
              "ticks": ""
             }
            },
            "type": "scattercarpet"
           }
          ],
          "scattergeo": [
           {
            "marker": {
             "colorbar": {
              "outlinewidth": 0,
              "ticks": ""
             }
            },
            "type": "scattergeo"
           }
          ],
          "scattergl": [
           {
            "marker": {
             "colorbar": {
              "outlinewidth": 0,
              "ticks": ""
             }
            },
            "type": "scattergl"
           }
          ],
          "scattermapbox": [
           {
            "marker": {
             "colorbar": {
              "outlinewidth": 0,
              "ticks": ""
             }
            },
            "type": "scattermapbox"
           }
          ],
          "scatterpolar": [
           {
            "marker": {
             "colorbar": {
              "outlinewidth": 0,
              "ticks": ""
             }
            },
            "type": "scatterpolar"
           }
          ],
          "scatterpolargl": [
           {
            "marker": {
             "colorbar": {
              "outlinewidth": 0,
              "ticks": ""
             }
            },
            "type": "scatterpolargl"
           }
          ],
          "scatterternary": [
           {
            "marker": {
             "colorbar": {
              "outlinewidth": 0,
              "ticks": ""
             }
            },
            "type": "scatterternary"
           }
          ],
          "surface": [
           {
            "colorbar": {
             "outlinewidth": 0,
             "ticks": ""
            },
            "colorscale": [
             [
              0,
              "#0d0887"
             ],
             [
              0.1111111111111111,
              "#46039f"
             ],
             [
              0.2222222222222222,
              "#7201a8"
             ],
             [
              0.3333333333333333,
              "#9c179e"
             ],
             [
              0.4444444444444444,
              "#bd3786"
             ],
             [
              0.5555555555555556,
              "#d8576b"
             ],
             [
              0.6666666666666666,
              "#ed7953"
             ],
             [
              0.7777777777777778,
              "#fb9f3a"
             ],
             [
              0.8888888888888888,
              "#fdca26"
             ],
             [
              1,
              "#f0f921"
             ]
            ],
            "type": "surface"
           }
          ],
          "table": [
           {
            "cells": {
             "fill": {
              "color": "#EBF0F8"
             },
             "line": {
              "color": "white"
             }
            },
            "header": {
             "fill": {
              "color": "#C8D4E3"
             },
             "line": {
              "color": "white"
             }
            },
            "type": "table"
           }
          ]
         },
         "layout": {
          "annotationdefaults": {
           "arrowcolor": "#2a3f5f",
           "arrowhead": 0,
           "arrowwidth": 1
          },
          "autotypenumbers": "strict",
          "coloraxis": {
           "colorbar": {
            "outlinewidth": 0,
            "ticks": ""
           }
          },
          "colorscale": {
           "diverging": [
            [
             0,
             "#8e0152"
            ],
            [
             0.1,
             "#c51b7d"
            ],
            [
             0.2,
             "#de77ae"
            ],
            [
             0.3,
             "#f1b6da"
            ],
            [
             0.4,
             "#fde0ef"
            ],
            [
             0.5,
             "#f7f7f7"
            ],
            [
             0.6,
             "#e6f5d0"
            ],
            [
             0.7,
             "#b8e186"
            ],
            [
             0.8,
             "#7fbc41"
            ],
            [
             0.9,
             "#4d9221"
            ],
            [
             1,
             "#276419"
            ]
           ],
           "sequential": [
            [
             0,
             "#0d0887"
            ],
            [
             0.1111111111111111,
             "#46039f"
            ],
            [
             0.2222222222222222,
             "#7201a8"
            ],
            [
             0.3333333333333333,
             "#9c179e"
            ],
            [
             0.4444444444444444,
             "#bd3786"
            ],
            [
             0.5555555555555556,
             "#d8576b"
            ],
            [
             0.6666666666666666,
             "#ed7953"
            ],
            [
             0.7777777777777778,
             "#fb9f3a"
            ],
            [
             0.8888888888888888,
             "#fdca26"
            ],
            [
             1,
             "#f0f921"
            ]
           ],
           "sequentialminus": [
            [
             0,
             "#0d0887"
            ],
            [
             0.1111111111111111,
             "#46039f"
            ],
            [
             0.2222222222222222,
             "#7201a8"
            ],
            [
             0.3333333333333333,
             "#9c179e"
            ],
            [
             0.4444444444444444,
             "#bd3786"
            ],
            [
             0.5555555555555556,
             "#d8576b"
            ],
            [
             0.6666666666666666,
             "#ed7953"
            ],
            [
             0.7777777777777778,
             "#fb9f3a"
            ],
            [
             0.8888888888888888,
             "#fdca26"
            ],
            [
             1,
             "#f0f921"
            ]
           ]
          },
          "colorway": [
           "#636efa",
           "#EF553B",
           "#00cc96",
           "#ab63fa",
           "#FFA15A",
           "#19d3f3",
           "#FF6692",
           "#B6E880",
           "#FF97FF",
           "#FECB52"
          ],
          "font": {
           "color": "#2a3f5f"
          },
          "geo": {
           "bgcolor": "white",
           "lakecolor": "white",
           "landcolor": "#E5ECF6",
           "showlakes": true,
           "showland": true,
           "subunitcolor": "white"
          },
          "hoverlabel": {
           "align": "left"
          },
          "hovermode": "closest",
          "mapbox": {
           "style": "light"
          },
          "paper_bgcolor": "white",
          "plot_bgcolor": "#E5ECF6",
          "polar": {
           "angularaxis": {
            "gridcolor": "white",
            "linecolor": "white",
            "ticks": ""
           },
           "bgcolor": "#E5ECF6",
           "radialaxis": {
            "gridcolor": "white",
            "linecolor": "white",
            "ticks": ""
           }
          },
          "scene": {
           "xaxis": {
            "backgroundcolor": "#E5ECF6",
            "gridcolor": "white",
            "gridwidth": 2,
            "linecolor": "white",
            "showbackground": true,
            "ticks": "",
            "zerolinecolor": "white"
           },
           "yaxis": {
            "backgroundcolor": "#E5ECF6",
            "gridcolor": "white",
            "gridwidth": 2,
            "linecolor": "white",
            "showbackground": true,
            "ticks": "",
            "zerolinecolor": "white"
           },
           "zaxis": {
            "backgroundcolor": "#E5ECF6",
            "gridcolor": "white",
            "gridwidth": 2,
            "linecolor": "white",
            "showbackground": true,
            "ticks": "",
            "zerolinecolor": "white"
           }
          },
          "shapedefaults": {
           "line": {
            "color": "#2a3f5f"
           }
          },
          "ternary": {
           "aaxis": {
            "gridcolor": "white",
            "linecolor": "white",
            "ticks": ""
           },
           "baxis": {
            "gridcolor": "white",
            "linecolor": "white",
            "ticks": ""
           },
           "bgcolor": "#E5ECF6",
           "caxis": {
            "gridcolor": "white",
            "linecolor": "white",
            "ticks": ""
           }
          },
          "title": {
           "x": 0.05
          },
          "xaxis": {
           "automargin": true,
           "gridcolor": "white",
           "linecolor": "white",
           "ticks": "",
           "title": {
            "standoff": 15
           },
           "zerolinecolor": "white",
           "zerolinewidth": 2
          },
          "yaxis": {
           "automargin": true,
           "gridcolor": "white",
           "linecolor": "white",
           "ticks": "",
           "title": {
            "standoff": 15
           },
           "zerolinecolor": "white",
           "zerolinewidth": 2
          }
         }
        },
        "title": {
         "text": "Zone Mean Air Temperature Month #8"
        },
        "xaxis": {
         "title": {
          "text": "Hours"
         }
        },
        "yaxis": {
         "title": {
          "text": "Temperature [C]"
         }
        }
       }
      }
     },
     "metadata": {},
     "output_type": "display_data"
    }
   ],
   "source": [
    "month_by_hour_zonal_plot(\"Zone Mean Air Temperature\", 8)"
   ]
  },
  {
   "cell_type": "code",
   "execution_count": null,
   "metadata": {},
   "outputs": [
    {
     "data": {
      "application/vnd.plotly.v1+json": {
       "config": {
        "plotlyServerURL": "https://plot.ly"
       },
       "data": [
        {
         "marker": {
          "size": 20
         },
         "mode": "lines+markers",
         "name": "Zone 1",
         "type": "scatter",
         "x": [
          "00:00",
          "01:00",
          "02:00",
          "03:00",
          "04:00",
          "05:00",
          "06:00",
          "07:00",
          "08:00",
          "09:00",
          "10:00",
          "11:00",
          "12:00",
          "13:00",
          "14:00",
          "15:00",
          "16:00",
          "17:00",
          "18:00",
          "19:00",
          "20:00",
          "21:00",
          "22:00",
          "23:00"
         ],
         "y": [
          0.22242647058823545,
          0.22242647058823545,
          0.22242647058823545,
          0.22242647058823545,
          0.22242647058823545,
          0.22242647058823545,
          0.22242647058823536,
          0.22242647058823545,
          0.3460388875206709,
          0.42994847306972234,
          0.4842071856393376,
          0.5218254168710336,
          0.33673101728541927,
          0.5634802297785328,
          0.5762565904216197,
          0.5847609052454737,
          0.5882956150427118,
          0.40768480325362455,
          0.2275981931105457,
          0.22272543842856002,
          0.22242647058823545,
          0.22242647058823545,
          0.22242647058823542,
          0.22242647058823545
         ]
        },
        {
         "marker": {
          "size": 15
         },
         "mode": "lines+markers",
         "name": "Zone 2",
         "type": "scatter",
         "x": [
          "00:00",
          "01:00",
          "02:00",
          "03:00",
          "04:00",
          "05:00",
          "06:00",
          "07:00",
          "08:00",
          "09:00",
          "10:00",
          "11:00",
          "12:00",
          "13:00",
          "14:00",
          "15:00",
          "16:00",
          "17:00",
          "18:00",
          "19:00",
          "20:00",
          "21:00",
          "22:00",
          "23:00"
         ],
         "y": [
          0.2224264705882353,
          0.2224264705882353,
          0.2224264705882353,
          0.2224264705882353,
          0.2224264705882353,
          0.2224264705882353,
          0.22242647058823528,
          0.2224264705882353,
          0.3186042758111634,
          0.40126079942014714,
          0.4557531551052488,
          0.49449427038424143,
          0.3097921865915105,
          0.5358639559877295,
          0.5520015513836039,
          0.5620183044149204,
          0.567909399641665,
          0.39011594806532973,
          0.22416975703759878,
          0.2224264705882353,
          0.22242647058823528,
          0.2224264705882353,
          0.2224264705882353,
          0.2224264705882353
         ]
        },
        {
         "marker": {
          "size": 10
         },
         "mode": "lines+markers",
         "name": "Zone 3",
         "type": "scatter",
         "x": [
          "00:00",
          "01:00",
          "02:00",
          "03:00",
          "04:00",
          "05:00",
          "06:00",
          "07:00",
          "08:00",
          "09:00",
          "10:00",
          "11:00",
          "12:00",
          "13:00",
          "14:00",
          "15:00",
          "16:00",
          "17:00",
          "18:00",
          "19:00",
          "20:00",
          "21:00",
          "22:00",
          "23:00"
         ],
         "y": [
          0.2160714285714285,
          0.2160714285714285,
          0.2160714285714285,
          0.2160714285714285,
          0.2160714285714285,
          0.2160714285714285,
          0.2160714285714285,
          0.2160714285714285,
          0.2160714285714285,
          0.21623505791083233,
          0.22821250791632783,
          0.2652291032972698,
          0.2621981390402576,
          0.3424078916819331,
          0.3668051277345658,
          0.37770255156683247,
          0.3761838557160477,
          0.28728683567570207,
          0.21910255038226825,
          0.21638083031185643,
          0.2160714285714285,
          0.2160714285714285,
          0.2160714285714285,
          0.2160714285714285
         ]
        },
        {
         "marker": {
          "size": 5
         },
         "mode": "lines+markers",
         "name": "Zone 4",
         "type": "scatter",
         "x": [
          "00:00",
          "01:00",
          "02:00",
          "03:00",
          "04:00",
          "05:00",
          "06:00",
          "07:00",
          "08:00",
          "09:00",
          "10:00",
          "11:00",
          "12:00",
          "13:00",
          "14:00",
          "15:00",
          "16:00",
          "17:00",
          "18:00",
          "19:00",
          "20:00",
          "21:00",
          "22:00",
          "23:00"
         ],
         "y": [
          0.2775229357798164,
          0.2775229357798164,
          0.2775229357798164,
          0.2775229357798164,
          0.2775229357798164,
          0.2775229357798164,
          0.2775229357798164,
          0.2775229357798164,
          0.2775229357798164,
          0.2775229357798164,
          0.2775229357798164,
          0.2775229357798164,
          0.2775229357798164,
          0.2775229357798164,
          0.27953021250532134,
          0.28520525576845257,
          0.2882896719797223,
          0.2775229357798164,
          0.2775229357798164,
          0.2775229357798164,
          0.2775229357798164,
          0.2775229357798164,
          0.2775229357798164,
          0.2775229357798164
         ]
        }
       ],
       "layout": {
        "template": {
         "data": {
          "bar": [
           {
            "error_x": {
             "color": "#2a3f5f"
            },
            "error_y": {
             "color": "#2a3f5f"
            },
            "marker": {
             "line": {
              "color": "#E5ECF6",
              "width": 0.5
             },
             "pattern": {
              "fillmode": "overlay",
              "size": 10,
              "solidity": 0.2
             }
            },
            "type": "bar"
           }
          ],
          "barpolar": [
           {
            "marker": {
             "line": {
              "color": "#E5ECF6",
              "width": 0.5
             },
             "pattern": {
              "fillmode": "overlay",
              "size": 10,
              "solidity": 0.2
             }
            },
            "type": "barpolar"
           }
          ],
          "carpet": [
           {
            "aaxis": {
             "endlinecolor": "#2a3f5f",
             "gridcolor": "white",
             "linecolor": "white",
             "minorgridcolor": "white",
             "startlinecolor": "#2a3f5f"
            },
            "baxis": {
             "endlinecolor": "#2a3f5f",
             "gridcolor": "white",
             "linecolor": "white",
             "minorgridcolor": "white",
             "startlinecolor": "#2a3f5f"
            },
            "type": "carpet"
           }
          ],
          "choropleth": [
           {
            "colorbar": {
             "outlinewidth": 0,
             "ticks": ""
            },
            "type": "choropleth"
           }
          ],
          "contour": [
           {
            "colorbar": {
             "outlinewidth": 0,
             "ticks": ""
            },
            "colorscale": [
             [
              0,
              "#0d0887"
             ],
             [
              0.1111111111111111,
              "#46039f"
             ],
             [
              0.2222222222222222,
              "#7201a8"
             ],
             [
              0.3333333333333333,
              "#9c179e"
             ],
             [
              0.4444444444444444,
              "#bd3786"
             ],
             [
              0.5555555555555556,
              "#d8576b"
             ],
             [
              0.6666666666666666,
              "#ed7953"
             ],
             [
              0.7777777777777778,
              "#fb9f3a"
             ],
             [
              0.8888888888888888,
              "#fdca26"
             ],
             [
              1,
              "#f0f921"
             ]
            ],
            "type": "contour"
           }
          ],
          "contourcarpet": [
           {
            "colorbar": {
             "outlinewidth": 0,
             "ticks": ""
            },
            "type": "contourcarpet"
           }
          ],
          "heatmap": [
           {
            "colorbar": {
             "outlinewidth": 0,
             "ticks": ""
            },
            "colorscale": [
             [
              0,
              "#0d0887"
             ],
             [
              0.1111111111111111,
              "#46039f"
             ],
             [
              0.2222222222222222,
              "#7201a8"
             ],
             [
              0.3333333333333333,
              "#9c179e"
             ],
             [
              0.4444444444444444,
              "#bd3786"
             ],
             [
              0.5555555555555556,
              "#d8576b"
             ],
             [
              0.6666666666666666,
              "#ed7953"
             ],
             [
              0.7777777777777778,
              "#fb9f3a"
             ],
             [
              0.8888888888888888,
              "#fdca26"
             ],
             [
              1,
              "#f0f921"
             ]
            ],
            "type": "heatmap"
           }
          ],
          "heatmapgl": [
           {
            "colorbar": {
             "outlinewidth": 0,
             "ticks": ""
            },
            "colorscale": [
             [
              0,
              "#0d0887"
             ],
             [
              0.1111111111111111,
              "#46039f"
             ],
             [
              0.2222222222222222,
              "#7201a8"
             ],
             [
              0.3333333333333333,
              "#9c179e"
             ],
             [
              0.4444444444444444,
              "#bd3786"
             ],
             [
              0.5555555555555556,
              "#d8576b"
             ],
             [
              0.6666666666666666,
              "#ed7953"
             ],
             [
              0.7777777777777778,
              "#fb9f3a"
             ],
             [
              0.8888888888888888,
              "#fdca26"
             ],
             [
              1,
              "#f0f921"
             ]
            ],
            "type": "heatmapgl"
           }
          ],
          "histogram": [
           {
            "marker": {
             "pattern": {
              "fillmode": "overlay",
              "size": 10,
              "solidity": 0.2
             }
            },
            "type": "histogram"
           }
          ],
          "histogram2d": [
           {
            "colorbar": {
             "outlinewidth": 0,
             "ticks": ""
            },
            "colorscale": [
             [
              0,
              "#0d0887"
             ],
             [
              0.1111111111111111,
              "#46039f"
             ],
             [
              0.2222222222222222,
              "#7201a8"
             ],
             [
              0.3333333333333333,
              "#9c179e"
             ],
             [
              0.4444444444444444,
              "#bd3786"
             ],
             [
              0.5555555555555556,
              "#d8576b"
             ],
             [
              0.6666666666666666,
              "#ed7953"
             ],
             [
              0.7777777777777778,
              "#fb9f3a"
             ],
             [
              0.8888888888888888,
              "#fdca26"
             ],
             [
              1,
              "#f0f921"
             ]
            ],
            "type": "histogram2d"
           }
          ],
          "histogram2dcontour": [
           {
            "colorbar": {
             "outlinewidth": 0,
             "ticks": ""
            },
            "colorscale": [
             [
              0,
              "#0d0887"
             ],
             [
              0.1111111111111111,
              "#46039f"
             ],
             [
              0.2222222222222222,
              "#7201a8"
             ],
             [
              0.3333333333333333,
              "#9c179e"
             ],
             [
              0.4444444444444444,
              "#bd3786"
             ],
             [
              0.5555555555555556,
              "#d8576b"
             ],
             [
              0.6666666666666666,
              "#ed7953"
             ],
             [
              0.7777777777777778,
              "#fb9f3a"
             ],
             [
              0.8888888888888888,
              "#fdca26"
             ],
             [
              1,
              "#f0f921"
             ]
            ],
            "type": "histogram2dcontour"
           }
          ],
          "mesh3d": [
           {
            "colorbar": {
             "outlinewidth": 0,
             "ticks": ""
            },
            "type": "mesh3d"
           }
          ],
          "parcoords": [
           {
            "line": {
             "colorbar": {
              "outlinewidth": 0,
              "ticks": ""
             }
            },
            "type": "parcoords"
           }
          ],
          "pie": [
           {
            "automargin": true,
            "type": "pie"
           }
          ],
          "scatter": [
           {
            "marker": {
             "colorbar": {
              "outlinewidth": 0,
              "ticks": ""
             }
            },
            "type": "scatter"
           }
          ],
          "scatter3d": [
           {
            "line": {
             "colorbar": {
              "outlinewidth": 0,
              "ticks": ""
             }
            },
            "marker": {
             "colorbar": {
              "outlinewidth": 0,
              "ticks": ""
             }
            },
            "type": "scatter3d"
           }
          ],
          "scattercarpet": [
           {
            "marker": {
             "colorbar": {
              "outlinewidth": 0,
              "ticks": ""
             }
            },
            "type": "scattercarpet"
           }
          ],
          "scattergeo": [
           {
            "marker": {
             "colorbar": {
              "outlinewidth": 0,
              "ticks": ""
             }
            },
            "type": "scattergeo"
           }
          ],
          "scattergl": [
           {
            "marker": {
             "colorbar": {
              "outlinewidth": 0,
              "ticks": ""
             }
            },
            "type": "scattergl"
           }
          ],
          "scattermapbox": [
           {
            "marker": {
             "colorbar": {
              "outlinewidth": 0,
              "ticks": ""
             }
            },
            "type": "scattermapbox"
           }
          ],
          "scatterpolar": [
           {
            "marker": {
             "colorbar": {
              "outlinewidth": 0,
              "ticks": ""
             }
            },
            "type": "scatterpolar"
           }
          ],
          "scatterpolargl": [
           {
            "marker": {
             "colorbar": {
              "outlinewidth": 0,
              "ticks": ""
             }
            },
            "type": "scatterpolargl"
           }
          ],
          "scatterternary": [
           {
            "marker": {
             "colorbar": {
              "outlinewidth": 0,
              "ticks": ""
             }
            },
            "type": "scatterternary"
           }
          ],
          "surface": [
           {
            "colorbar": {
             "outlinewidth": 0,
             "ticks": ""
            },
            "colorscale": [
             [
              0,
              "#0d0887"
             ],
             [
              0.1111111111111111,
              "#46039f"
             ],
             [
              0.2222222222222222,
              "#7201a8"
             ],
             [
              0.3333333333333333,
              "#9c179e"
             ],
             [
              0.4444444444444444,
              "#bd3786"
             ],
             [
              0.5555555555555556,
              "#d8576b"
             ],
             [
              0.6666666666666666,
              "#ed7953"
             ],
             [
              0.7777777777777778,
              "#fb9f3a"
             ],
             [
              0.8888888888888888,
              "#fdca26"
             ],
             [
              1,
              "#f0f921"
             ]
            ],
            "type": "surface"
           }
          ],
          "table": [
           {
            "cells": {
             "fill": {
              "color": "#EBF0F8"
             },
             "line": {
              "color": "white"
             }
            },
            "header": {
             "fill": {
              "color": "#C8D4E3"
             },
             "line": {
              "color": "white"
             }
            },
            "type": "table"
           }
          ]
         },
         "layout": {
          "annotationdefaults": {
           "arrowcolor": "#2a3f5f",
           "arrowhead": 0,
           "arrowwidth": 1
          },
          "autotypenumbers": "strict",
          "coloraxis": {
           "colorbar": {
            "outlinewidth": 0,
            "ticks": ""
           }
          },
          "colorscale": {
           "diverging": [
            [
             0,
             "#8e0152"
            ],
            [
             0.1,
             "#c51b7d"
            ],
            [
             0.2,
             "#de77ae"
            ],
            [
             0.3,
             "#f1b6da"
            ],
            [
             0.4,
             "#fde0ef"
            ],
            [
             0.5,
             "#f7f7f7"
            ],
            [
             0.6,
             "#e6f5d0"
            ],
            [
             0.7,
             "#b8e186"
            ],
            [
             0.8,
             "#7fbc41"
            ],
            [
             0.9,
             "#4d9221"
            ],
            [
             1,
             "#276419"
            ]
           ],
           "sequential": [
            [
             0,
             "#0d0887"
            ],
            [
             0.1111111111111111,
             "#46039f"
            ],
            [
             0.2222222222222222,
             "#7201a8"
            ],
            [
             0.3333333333333333,
             "#9c179e"
            ],
            [
             0.4444444444444444,
             "#bd3786"
            ],
            [
             0.5555555555555556,
             "#d8576b"
            ],
            [
             0.6666666666666666,
             "#ed7953"
            ],
            [
             0.7777777777777778,
             "#fb9f3a"
            ],
            [
             0.8888888888888888,
             "#fdca26"
            ],
            [
             1,
             "#f0f921"
            ]
           ],
           "sequentialminus": [
            [
             0,
             "#0d0887"
            ],
            [
             0.1111111111111111,
             "#46039f"
            ],
            [
             0.2222222222222222,
             "#7201a8"
            ],
            [
             0.3333333333333333,
             "#9c179e"
            ],
            [
             0.4444444444444444,
             "#bd3786"
            ],
            [
             0.5555555555555556,
             "#d8576b"
            ],
            [
             0.6666666666666666,
             "#ed7953"
            ],
            [
             0.7777777777777778,
             "#fb9f3a"
            ],
            [
             0.8888888888888888,
             "#fdca26"
            ],
            [
             1,
             "#f0f921"
            ]
           ]
          },
          "colorway": [
           "#636efa",
           "#EF553B",
           "#00cc96",
           "#ab63fa",
           "#FFA15A",
           "#19d3f3",
           "#FF6692",
           "#B6E880",
           "#FF97FF",
           "#FECB52"
          ],
          "font": {
           "color": "#2a3f5f"
          },
          "geo": {
           "bgcolor": "white",
           "lakecolor": "white",
           "landcolor": "#E5ECF6",
           "showlakes": true,
           "showland": true,
           "subunitcolor": "white"
          },
          "hoverlabel": {
           "align": "left"
          },
          "hovermode": "closest",
          "mapbox": {
           "style": "light"
          },
          "paper_bgcolor": "white",
          "plot_bgcolor": "#E5ECF6",
          "polar": {
           "angularaxis": {
            "gridcolor": "white",
            "linecolor": "white",
            "ticks": ""
           },
           "bgcolor": "#E5ECF6",
           "radialaxis": {
            "gridcolor": "white",
            "linecolor": "white",
            "ticks": ""
           }
          },
          "scene": {
           "xaxis": {
            "backgroundcolor": "#E5ECF6",
            "gridcolor": "white",
            "gridwidth": 2,
            "linecolor": "white",
            "showbackground": true,
            "ticks": "",
            "zerolinecolor": "white"
           },
           "yaxis": {
            "backgroundcolor": "#E5ECF6",
            "gridcolor": "white",
            "gridwidth": 2,
            "linecolor": "white",
            "showbackground": true,
            "ticks": "",
            "zerolinecolor": "white"
           },
           "zaxis": {
            "backgroundcolor": "#E5ECF6",
            "gridcolor": "white",
            "gridwidth": 2,
            "linecolor": "white",
            "showbackground": true,
            "ticks": "",
            "zerolinecolor": "white"
           }
          },
          "shapedefaults": {
           "line": {
            "color": "#2a3f5f"
           }
          },
          "ternary": {
           "aaxis": {
            "gridcolor": "white",
            "linecolor": "white",
            "ticks": ""
           },
           "baxis": {
            "gridcolor": "white",
            "linecolor": "white",
            "ticks": ""
           },
           "bgcolor": "#E5ECF6",
           "caxis": {
            "gridcolor": "white",
            "linecolor": "white",
            "ticks": ""
           }
          },
          "title": {
           "x": 0.05
          },
          "xaxis": {
           "automargin": true,
           "gridcolor": "white",
           "linecolor": "white",
           "ticks": "",
           "title": {
            "standoff": 15
           },
           "zerolinecolor": "white",
           "zerolinewidth": 2
          },
          "yaxis": {
           "automargin": true,
           "gridcolor": "white",
           "linecolor": "white",
           "ticks": "",
           "title": {
            "standoff": 15
           },
           "zerolinecolor": "white",
           "zerolinewidth": 2
          }
         }
        },
        "title": {
         "text": "Zone Air Terminal VAV Damper Position Month #1"
        },
        "xaxis": {
         "title": {
          "text": "Hours"
         }
        },
        "yaxis": {
         "title": {
          "text": "Fraction [fraction]"
         }
        }
       }
      }
     },
     "metadata": {},
     "output_type": "display_data"
    }
   ],
   "source": [
    "month_by_hour_zonal_plot(\"Zone Air Terminal VAV Damper Position\", 1)"
   ]
  },
  {
   "cell_type": "code",
   "execution_count": null,
   "metadata": {},
   "outputs": [
    {
     "data": {
      "application/vnd.plotly.v1+json": {
       "config": {
        "plotlyServerURL": "https://plot.ly"
       },
       "data": [
        {
         "marker": {
          "size": 20
         },
         "mode": "lines+markers",
         "name": "Zone 1",
         "type": "scatter",
         "x": [
          "00:00",
          "01:00",
          "02:00",
          "03:00",
          "04:00",
          "05:00",
          "06:00",
          "07:00",
          "08:00",
          "09:00",
          "10:00",
          "11:00",
          "12:00",
          "13:00",
          "14:00",
          "15:00",
          "16:00",
          "17:00",
          "18:00",
          "19:00",
          "20:00",
          "21:00",
          "22:00",
          "23:00"
         ],
         "y": [
          0.22242647058823545,
          0.22242647058823545,
          0.22242647058823545,
          0.22242647058823545,
          0.22242647058823545,
          0.22242647058823545,
          0.22242647058823545,
          0.22242647058823545,
          0.468196757680663,
          0.5371933536301852,
          0.5791023817787206,
          0.6175217807826173,
          0.4127164448033749,
          0.6367455893601385,
          0.6421979248501266,
          0.6524847908105305,
          0.6521723760223936,
          0.4704850194054444,
          0.274839494009062,
          0.262537669493202,
          0.22242647058823545,
          0.22242647058823545,
          0.22242647058823545,
          0.22242647058823545
         ]
        },
        {
         "marker": {
          "size": 15
         },
         "mode": "lines+markers",
         "name": "Zone 2",
         "type": "scatter",
         "x": [
          "00:00",
          "01:00",
          "02:00",
          "03:00",
          "04:00",
          "05:00",
          "06:00",
          "07:00",
          "08:00",
          "09:00",
          "10:00",
          "11:00",
          "12:00",
          "13:00",
          "14:00",
          "15:00",
          "16:00",
          "17:00",
          "18:00",
          "19:00",
          "20:00",
          "21:00",
          "22:00",
          "23:00"
         ],
         "y": [
          0.2224264705882353,
          0.2224264705882353,
          0.2224264705882353,
          0.2224264705882353,
          0.2224264705882353,
          0.2224264705882353,
          0.2224264705882353,
          0.2224264705882353,
          0.44392433502388645,
          0.512154855459493,
          0.5533738577276485,
          0.5962150690615418,
          0.3947632880240359,
          0.6224208036580379,
          0.6330267721511922,
          0.6446993977964368,
          0.6461896926974476,
          0.4664156086749515,
          0.2731934055419179,
          0.262003239559511,
          0.2224264705882353,
          0.2224264705882353,
          0.2224264705882353,
          0.2224264705882353
         ]
        },
        {
         "marker": {
          "size": 10
         },
         "mode": "lines+markers",
         "name": "Zone 3",
         "type": "scatter",
         "x": [
          "00:00",
          "01:00",
          "02:00",
          "03:00",
          "04:00",
          "05:00",
          "06:00",
          "07:00",
          "08:00",
          "09:00",
          "10:00",
          "11:00",
          "12:00",
          "13:00",
          "14:00",
          "15:00",
          "16:00",
          "17:00",
          "18:00",
          "19:00",
          "20:00",
          "21:00",
          "22:00",
          "23:00"
         ],
         "y": [
          0.2160714285714285,
          0.2160714285714285,
          0.2160714285714285,
          0.2160714285714285,
          0.2160714285714285,
          0.2160714285714285,
          0.2160714285714285,
          0.2160714285714285,
          0.32479178829522387,
          0.41093955257873255,
          0.4683305907708897,
          0.5190960230876425,
          0.48598117403664565,
          0.5739024064178514,
          0.580199468952874,
          0.5950392340423748,
          0.590690066166842,
          0.4875734973643464,
          0.36271397365227187,
          0.3378484503413309,
          0.2570964536980529,
          0.24632754228897166,
          0.2160714285714285,
          0.2160714285714285
         ]
        },
        {
         "marker": {
          "size": 5
         },
         "mode": "lines+markers",
         "name": "Zone 4",
         "type": "scatter",
         "x": [
          "00:00",
          "01:00",
          "02:00",
          "03:00",
          "04:00",
          "05:00",
          "06:00",
          "07:00",
          "08:00",
          "09:00",
          "10:00",
          "11:00",
          "12:00",
          "13:00",
          "14:00",
          "15:00",
          "16:00",
          "17:00",
          "18:00",
          "19:00",
          "20:00",
          "21:00",
          "22:00",
          "23:00"
         ],
         "y": [
          0.2775229357798164,
          0.2775229357798164,
          0.2775229357798164,
          0.2775229357798164,
          0.2775229357798164,
          0.2775229357798164,
          0.2775229357798164,
          0.2775229357798164,
          0.2813700506033458,
          0.31079633308402993,
          0.3713742579071847,
          0.43517428698032784,
          0.4269128320239613,
          0.5128185406568698,
          0.5442856306672763,
          0.5630175453336148,
          0.5605715144390134,
          0.4629729271298122,
          0.35906385838468113,
          0.3262689321017963,
          0.2812684366529396,
          0.27876979500120247,
          0.2775229357798164,
          0.2775229357798164
         ]
        }
       ],
       "layout": {
        "template": {
         "data": {
          "bar": [
           {
            "error_x": {
             "color": "#2a3f5f"
            },
            "error_y": {
             "color": "#2a3f5f"
            },
            "marker": {
             "line": {
              "color": "#E5ECF6",
              "width": 0.5
             },
             "pattern": {
              "fillmode": "overlay",
              "size": 10,
              "solidity": 0.2
             }
            },
            "type": "bar"
           }
          ],
          "barpolar": [
           {
            "marker": {
             "line": {
              "color": "#E5ECF6",
              "width": 0.5
             },
             "pattern": {
              "fillmode": "overlay",
              "size": 10,
              "solidity": 0.2
             }
            },
            "type": "barpolar"
           }
          ],
          "carpet": [
           {
            "aaxis": {
             "endlinecolor": "#2a3f5f",
             "gridcolor": "white",
             "linecolor": "white",
             "minorgridcolor": "white",
             "startlinecolor": "#2a3f5f"
            },
            "baxis": {
             "endlinecolor": "#2a3f5f",
             "gridcolor": "white",
             "linecolor": "white",
             "minorgridcolor": "white",
             "startlinecolor": "#2a3f5f"
            },
            "type": "carpet"
           }
          ],
          "choropleth": [
           {
            "colorbar": {
             "outlinewidth": 0,
             "ticks": ""
            },
            "type": "choropleth"
           }
          ],
          "contour": [
           {
            "colorbar": {
             "outlinewidth": 0,
             "ticks": ""
            },
            "colorscale": [
             [
              0,
              "#0d0887"
             ],
             [
              0.1111111111111111,
              "#46039f"
             ],
             [
              0.2222222222222222,
              "#7201a8"
             ],
             [
              0.3333333333333333,
              "#9c179e"
             ],
             [
              0.4444444444444444,
              "#bd3786"
             ],
             [
              0.5555555555555556,
              "#d8576b"
             ],
             [
              0.6666666666666666,
              "#ed7953"
             ],
             [
              0.7777777777777778,
              "#fb9f3a"
             ],
             [
              0.8888888888888888,
              "#fdca26"
             ],
             [
              1,
              "#f0f921"
             ]
            ],
            "type": "contour"
           }
          ],
          "contourcarpet": [
           {
            "colorbar": {
             "outlinewidth": 0,
             "ticks": ""
            },
            "type": "contourcarpet"
           }
          ],
          "heatmap": [
           {
            "colorbar": {
             "outlinewidth": 0,
             "ticks": ""
            },
            "colorscale": [
             [
              0,
              "#0d0887"
             ],
             [
              0.1111111111111111,
              "#46039f"
             ],
             [
              0.2222222222222222,
              "#7201a8"
             ],
             [
              0.3333333333333333,
              "#9c179e"
             ],
             [
              0.4444444444444444,
              "#bd3786"
             ],
             [
              0.5555555555555556,
              "#d8576b"
             ],
             [
              0.6666666666666666,
              "#ed7953"
             ],
             [
              0.7777777777777778,
              "#fb9f3a"
             ],
             [
              0.8888888888888888,
              "#fdca26"
             ],
             [
              1,
              "#f0f921"
             ]
            ],
            "type": "heatmap"
           }
          ],
          "heatmapgl": [
           {
            "colorbar": {
             "outlinewidth": 0,
             "ticks": ""
            },
            "colorscale": [
             [
              0,
              "#0d0887"
             ],
             [
              0.1111111111111111,
              "#46039f"
             ],
             [
              0.2222222222222222,
              "#7201a8"
             ],
             [
              0.3333333333333333,
              "#9c179e"
             ],
             [
              0.4444444444444444,
              "#bd3786"
             ],
             [
              0.5555555555555556,
              "#d8576b"
             ],
             [
              0.6666666666666666,
              "#ed7953"
             ],
             [
              0.7777777777777778,
              "#fb9f3a"
             ],
             [
              0.8888888888888888,
              "#fdca26"
             ],
             [
              1,
              "#f0f921"
             ]
            ],
            "type": "heatmapgl"
           }
          ],
          "histogram": [
           {
            "marker": {
             "pattern": {
              "fillmode": "overlay",
              "size": 10,
              "solidity": 0.2
             }
            },
            "type": "histogram"
           }
          ],
          "histogram2d": [
           {
            "colorbar": {
             "outlinewidth": 0,
             "ticks": ""
            },
            "colorscale": [
             [
              0,
              "#0d0887"
             ],
             [
              0.1111111111111111,
              "#46039f"
             ],
             [
              0.2222222222222222,
              "#7201a8"
             ],
             [
              0.3333333333333333,
              "#9c179e"
             ],
             [
              0.4444444444444444,
              "#bd3786"
             ],
             [
              0.5555555555555556,
              "#d8576b"
             ],
             [
              0.6666666666666666,
              "#ed7953"
             ],
             [
              0.7777777777777778,
              "#fb9f3a"
             ],
             [
              0.8888888888888888,
              "#fdca26"
             ],
             [
              1,
              "#f0f921"
             ]
            ],
            "type": "histogram2d"
           }
          ],
          "histogram2dcontour": [
           {
            "colorbar": {
             "outlinewidth": 0,
             "ticks": ""
            },
            "colorscale": [
             [
              0,
              "#0d0887"
             ],
             [
              0.1111111111111111,
              "#46039f"
             ],
             [
              0.2222222222222222,
              "#7201a8"
             ],
             [
              0.3333333333333333,
              "#9c179e"
             ],
             [
              0.4444444444444444,
              "#bd3786"
             ],
             [
              0.5555555555555556,
              "#d8576b"
             ],
             [
              0.6666666666666666,
              "#ed7953"
             ],
             [
              0.7777777777777778,
              "#fb9f3a"
             ],
             [
              0.8888888888888888,
              "#fdca26"
             ],
             [
              1,
              "#f0f921"
             ]
            ],
            "type": "histogram2dcontour"
           }
          ],
          "mesh3d": [
           {
            "colorbar": {
             "outlinewidth": 0,
             "ticks": ""
            },
            "type": "mesh3d"
           }
          ],
          "parcoords": [
           {
            "line": {
             "colorbar": {
              "outlinewidth": 0,
              "ticks": ""
             }
            },
            "type": "parcoords"
           }
          ],
          "pie": [
           {
            "automargin": true,
            "type": "pie"
           }
          ],
          "scatter": [
           {
            "marker": {
             "colorbar": {
              "outlinewidth": 0,
              "ticks": ""
             }
            },
            "type": "scatter"
           }
          ],
          "scatter3d": [
           {
            "line": {
             "colorbar": {
              "outlinewidth": 0,
              "ticks": ""
             }
            },
            "marker": {
             "colorbar": {
              "outlinewidth": 0,
              "ticks": ""
             }
            },
            "type": "scatter3d"
           }
          ],
          "scattercarpet": [
           {
            "marker": {
             "colorbar": {
              "outlinewidth": 0,
              "ticks": ""
             }
            },
            "type": "scattercarpet"
           }
          ],
          "scattergeo": [
           {
            "marker": {
             "colorbar": {
              "outlinewidth": 0,
              "ticks": ""
             }
            },
            "type": "scattergeo"
           }
          ],
          "scattergl": [
           {
            "marker": {
             "colorbar": {
              "outlinewidth": 0,
              "ticks": ""
             }
            },
            "type": "scattergl"
           }
          ],
          "scattermapbox": [
           {
            "marker": {
             "colorbar": {
              "outlinewidth": 0,
              "ticks": ""
             }
            },
            "type": "scattermapbox"
           }
          ],
          "scatterpolar": [
           {
            "marker": {
             "colorbar": {
              "outlinewidth": 0,
              "ticks": ""
             }
            },
            "type": "scatterpolar"
           }
          ],
          "scatterpolargl": [
           {
            "marker": {
             "colorbar": {
              "outlinewidth": 0,
              "ticks": ""
             }
            },
            "type": "scatterpolargl"
           }
          ],
          "scatterternary": [
           {
            "marker": {
             "colorbar": {
              "outlinewidth": 0,
              "ticks": ""
             }
            },
            "type": "scatterternary"
           }
          ],
          "surface": [
           {
            "colorbar": {
             "outlinewidth": 0,
             "ticks": ""
            },
            "colorscale": [
             [
              0,
              "#0d0887"
             ],
             [
              0.1111111111111111,
              "#46039f"
             ],
             [
              0.2222222222222222,
              "#7201a8"
             ],
             [
              0.3333333333333333,
              "#9c179e"
             ],
             [
              0.4444444444444444,
              "#bd3786"
             ],
             [
              0.5555555555555556,
              "#d8576b"
             ],
             [
              0.6666666666666666,
              "#ed7953"
             ],
             [
              0.7777777777777778,
              "#fb9f3a"
             ],
             [
              0.8888888888888888,
              "#fdca26"
             ],
             [
              1,
              "#f0f921"
             ]
            ],
            "type": "surface"
           }
          ],
          "table": [
           {
            "cells": {
             "fill": {
              "color": "#EBF0F8"
             },
             "line": {
              "color": "white"
             }
            },
            "header": {
             "fill": {
              "color": "#C8D4E3"
             },
             "line": {
              "color": "white"
             }
            },
            "type": "table"
           }
          ]
         },
         "layout": {
          "annotationdefaults": {
           "arrowcolor": "#2a3f5f",
           "arrowhead": 0,
           "arrowwidth": 1
          },
          "autotypenumbers": "strict",
          "coloraxis": {
           "colorbar": {
            "outlinewidth": 0,
            "ticks": ""
           }
          },
          "colorscale": {
           "diverging": [
            [
             0,
             "#8e0152"
            ],
            [
             0.1,
             "#c51b7d"
            ],
            [
             0.2,
             "#de77ae"
            ],
            [
             0.3,
             "#f1b6da"
            ],
            [
             0.4,
             "#fde0ef"
            ],
            [
             0.5,
             "#f7f7f7"
            ],
            [
             0.6,
             "#e6f5d0"
            ],
            [
             0.7,
             "#b8e186"
            ],
            [
             0.8,
             "#7fbc41"
            ],
            [
             0.9,
             "#4d9221"
            ],
            [
             1,
             "#276419"
            ]
           ],
           "sequential": [
            [
             0,
             "#0d0887"
            ],
            [
             0.1111111111111111,
             "#46039f"
            ],
            [
             0.2222222222222222,
             "#7201a8"
            ],
            [
             0.3333333333333333,
             "#9c179e"
            ],
            [
             0.4444444444444444,
             "#bd3786"
            ],
            [
             0.5555555555555556,
             "#d8576b"
            ],
            [
             0.6666666666666666,
             "#ed7953"
            ],
            [
             0.7777777777777778,
             "#fb9f3a"
            ],
            [
             0.8888888888888888,
             "#fdca26"
            ],
            [
             1,
             "#f0f921"
            ]
           ],
           "sequentialminus": [
            [
             0,
             "#0d0887"
            ],
            [
             0.1111111111111111,
             "#46039f"
            ],
            [
             0.2222222222222222,
             "#7201a8"
            ],
            [
             0.3333333333333333,
             "#9c179e"
            ],
            [
             0.4444444444444444,
             "#bd3786"
            ],
            [
             0.5555555555555556,
             "#d8576b"
            ],
            [
             0.6666666666666666,
             "#ed7953"
            ],
            [
             0.7777777777777778,
             "#fb9f3a"
            ],
            [
             0.8888888888888888,
             "#fdca26"
            ],
            [
             1,
             "#f0f921"
            ]
           ]
          },
          "colorway": [
           "#636efa",
           "#EF553B",
           "#00cc96",
           "#ab63fa",
           "#FFA15A",
           "#19d3f3",
           "#FF6692",
           "#B6E880",
           "#FF97FF",
           "#FECB52"
          ],
          "font": {
           "color": "#2a3f5f"
          },
          "geo": {
           "bgcolor": "white",
           "lakecolor": "white",
           "landcolor": "#E5ECF6",
           "showlakes": true,
           "showland": true,
           "subunitcolor": "white"
          },
          "hoverlabel": {
           "align": "left"
          },
          "hovermode": "closest",
          "mapbox": {
           "style": "light"
          },
          "paper_bgcolor": "white",
          "plot_bgcolor": "#E5ECF6",
          "polar": {
           "angularaxis": {
            "gridcolor": "white",
            "linecolor": "white",
            "ticks": ""
           },
           "bgcolor": "#E5ECF6",
           "radialaxis": {
            "gridcolor": "white",
            "linecolor": "white",
            "ticks": ""
           }
          },
          "scene": {
           "xaxis": {
            "backgroundcolor": "#E5ECF6",
            "gridcolor": "white",
            "gridwidth": 2,
            "linecolor": "white",
            "showbackground": true,
            "ticks": "",
            "zerolinecolor": "white"
           },
           "yaxis": {
            "backgroundcolor": "#E5ECF6",
            "gridcolor": "white",
            "gridwidth": 2,
            "linecolor": "white",
            "showbackground": true,
            "ticks": "",
            "zerolinecolor": "white"
           },
           "zaxis": {
            "backgroundcolor": "#E5ECF6",
            "gridcolor": "white",
            "gridwidth": 2,
            "linecolor": "white",
            "showbackground": true,
            "ticks": "",
            "zerolinecolor": "white"
           }
          },
          "shapedefaults": {
           "line": {
            "color": "#2a3f5f"
           }
          },
          "ternary": {
           "aaxis": {
            "gridcolor": "white",
            "linecolor": "white",
            "ticks": ""
           },
           "baxis": {
            "gridcolor": "white",
            "linecolor": "white",
            "ticks": ""
           },
           "bgcolor": "#E5ECF6",
           "caxis": {
            "gridcolor": "white",
            "linecolor": "white",
            "ticks": ""
           }
          },
          "title": {
           "x": 0.05
          },
          "xaxis": {
           "automargin": true,
           "gridcolor": "white",
           "linecolor": "white",
           "ticks": "",
           "title": {
            "standoff": 15
           },
           "zerolinecolor": "white",
           "zerolinewidth": 2
          },
          "yaxis": {
           "automargin": true,
           "gridcolor": "white",
           "linecolor": "white",
           "ticks": "",
           "title": {
            "standoff": 15
           },
           "zerolinecolor": "white",
           "zerolinewidth": 2
          }
         }
        },
        "title": {
         "text": "Zone Air Terminal VAV Damper Position Month #8"
        },
        "xaxis": {
         "title": {
          "text": "Hours"
         }
        },
        "yaxis": {
         "title": {
          "text": "Fraction [fraction]"
         }
        }
       }
      }
     },
     "metadata": {},
     "output_type": "display_data"
    }
   ],
   "source": [
    "month_by_hour_zonal_plot(\"Zone Air Terminal VAV Damper Position\", 8)"
   ]
  },
  {
   "cell_type": "code",
   "execution_count": null,
   "metadata": {},
   "outputs": [
    {
     "data": {
      "application/vnd.plotly.v1+json": {
       "config": {
        "plotlyServerURL": "https://plot.ly"
       },
       "data": [
        {
         "marker": {
          "size": 20
         },
         "mode": "lines+markers",
         "name": "Zone 1",
         "type": "scatter",
         "x": [
          "00:00",
          "01:00",
          "02:00",
          "03:00",
          "04:00",
          "05:00",
          "06:00",
          "07:00",
          "08:00",
          "09:00",
          "10:00",
          "11:00",
          "12:00",
          "13:00",
          "14:00",
          "15:00",
          "16:00",
          "17:00",
          "18:00",
          "19:00",
          "20:00",
          "21:00",
          "22:00",
          "23:00"
         ],
         "y": [
          1425.2356139585722,
          1408.3999911273631,
          1384.4813548154232,
          1379.7741631922033,
          1372.933139731759,
          1291.6960916871828,
          -1593.4367917413767,
          -1893.6866913234448,
          -3661.7245333171336,
          -3022.4214788105146,
          -2550.0839002742828,
          -2214.3320411084437,
          -2255.474643256628,
          -1890.2265531951853,
          -1394.6594278674036,
          -1274.7055191181125,
          -1241.7455677773055,
          -1413.9258886532564,
          -1311.9147811106648,
          -1253.921466299389,
          -85.46515497281777,
          -73.39266449188072,
          818.5522674475641,
          1175.6709527274786
         ]
        },
        {
         "marker": {
          "size": 15
         },
         "mode": "lines+markers",
         "name": "Zone 2",
         "type": "scatter",
         "x": [
          "00:00",
          "01:00",
          "02:00",
          "03:00",
          "04:00",
          "05:00",
          "06:00",
          "07:00",
          "08:00",
          "09:00",
          "10:00",
          "11:00",
          "12:00",
          "13:00",
          "14:00",
          "15:00",
          "16:00",
          "17:00",
          "18:00",
          "19:00",
          "20:00",
          "21:00",
          "22:00",
          "23:00"
         ],
         "y": [
          1311.541152259738,
          1269.6926080447092,
          1238.2899508145056,
          1203.5388312192172,
          1168.9127548191982,
          1075.7315821228751,
          -1882.0741855966914,
          -2418.4509776786545,
          -4194.715889684526,
          -3507.7581057320867,
          -3004.501477091477,
          -2635.8607090548894,
          -2658.053081971412,
          -2280.4739459335465,
          -1760.3276865455728,
          -1627.6900777959884,
          -1559.5975841889394,
          -1703.3467782239443,
          -1451.2838000084844,
          -1355.6910364410874,
          -209.4432053726302,
          -306.763371234414,
          709.7311527909851,
          1075.7191379262179
         ]
        },
        {
         "marker": {
          "size": 10
         },
         "mode": "lines+markers",
         "name": "Zone 3",
         "type": "scatter",
         "x": [
          "00:00",
          "01:00",
          "02:00",
          "03:00",
          "04:00",
          "05:00",
          "06:00",
          "07:00",
          "08:00",
          "09:00",
          "10:00",
          "11:00",
          "12:00",
          "13:00",
          "14:00",
          "15:00",
          "16:00",
          "17:00",
          "18:00",
          "19:00",
          "20:00",
          "21:00",
          "22:00",
          "23:00"
         ],
         "y": [
          -1038.9847327208572,
          -1359.7160005507842,
          -1655.6515094434014,
          -1923.4645234357781,
          -2175.1807231670573,
          -2404.7949574820814,
          -2627.3267338595006,
          -2685.771968444806,
          -4178.245529905131,
          -4482.704583634577,
          -4269.456060317881,
          -3709.6136484954573,
          -3005.3305178665464,
          -2588.76149416469,
          -2100.954201854609,
          -1902.720778186905,
          -1925.8246136790247,
          -2073.5751254991224,
          -1728.0991098454604,
          -1687.715305838265,
          -1142.3332550823957,
          -1098.1275978021474,
          -547.0199085389108,
          -668.8067653195026
         ]
        },
        {
         "marker": {
          "size": 5
         },
         "mode": "lines+markers",
         "name": "Zone 4",
         "type": "scatter",
         "x": [
          "00:00",
          "01:00",
          "02:00",
          "03:00",
          "04:00",
          "05:00",
          "06:00",
          "07:00",
          "08:00",
          "09:00",
          "10:00",
          "11:00",
          "12:00",
          "13:00",
          "14:00",
          "15:00",
          "16:00",
          "17:00",
          "18:00",
          "19:00",
          "20:00",
          "21:00",
          "22:00",
          "23:00"
         ],
         "y": [
          1525.7774962398264,
          1315.4299821209115,
          1136.5544976792585,
          917.7559513443834,
          701.1685534657366,
          430.2257735788252,
          -3058.8140623367885,
          -4037.163260184002,
          -4193.601364579945,
          -3360.989880047738,
          -2649.60889064066,
          -2235.9891957234886,
          -1751.7777621210014,
          -1897.3616370428533,
          -1809.7622592046305,
          -1707.9362672316174,
          -1668.3285990235458,
          -1185.9731935943591,
          -296.59253484172956,
          -172.62071606896154,
          -193.0549480248123,
          -396.2776899261249,
          1124.8555910539758,
          1571.673408297952
         ]
        }
       ],
       "layout": {
        "template": {
         "data": {
          "bar": [
           {
            "error_x": {
             "color": "#2a3f5f"
            },
            "error_y": {
             "color": "#2a3f5f"
            },
            "marker": {
             "line": {
              "color": "#E5ECF6",
              "width": 0.5
             },
             "pattern": {
              "fillmode": "overlay",
              "size": 10,
              "solidity": 0.2
             }
            },
            "type": "bar"
           }
          ],
          "barpolar": [
           {
            "marker": {
             "line": {
              "color": "#E5ECF6",
              "width": 0.5
             },
             "pattern": {
              "fillmode": "overlay",
              "size": 10,
              "solidity": 0.2
             }
            },
            "type": "barpolar"
           }
          ],
          "carpet": [
           {
            "aaxis": {
             "endlinecolor": "#2a3f5f",
             "gridcolor": "white",
             "linecolor": "white",
             "minorgridcolor": "white",
             "startlinecolor": "#2a3f5f"
            },
            "baxis": {
             "endlinecolor": "#2a3f5f",
             "gridcolor": "white",
             "linecolor": "white",
             "minorgridcolor": "white",
             "startlinecolor": "#2a3f5f"
            },
            "type": "carpet"
           }
          ],
          "choropleth": [
           {
            "colorbar": {
             "outlinewidth": 0,
             "ticks": ""
            },
            "type": "choropleth"
           }
          ],
          "contour": [
           {
            "colorbar": {
             "outlinewidth": 0,
             "ticks": ""
            },
            "colorscale": [
             [
              0,
              "#0d0887"
             ],
             [
              0.1111111111111111,
              "#46039f"
             ],
             [
              0.2222222222222222,
              "#7201a8"
             ],
             [
              0.3333333333333333,
              "#9c179e"
             ],
             [
              0.4444444444444444,
              "#bd3786"
             ],
             [
              0.5555555555555556,
              "#d8576b"
             ],
             [
              0.6666666666666666,
              "#ed7953"
             ],
             [
              0.7777777777777778,
              "#fb9f3a"
             ],
             [
              0.8888888888888888,
              "#fdca26"
             ],
             [
              1,
              "#f0f921"
             ]
            ],
            "type": "contour"
           }
          ],
          "contourcarpet": [
           {
            "colorbar": {
             "outlinewidth": 0,
             "ticks": ""
            },
            "type": "contourcarpet"
           }
          ],
          "heatmap": [
           {
            "colorbar": {
             "outlinewidth": 0,
             "ticks": ""
            },
            "colorscale": [
             [
              0,
              "#0d0887"
             ],
             [
              0.1111111111111111,
              "#46039f"
             ],
             [
              0.2222222222222222,
              "#7201a8"
             ],
             [
              0.3333333333333333,
              "#9c179e"
             ],
             [
              0.4444444444444444,
              "#bd3786"
             ],
             [
              0.5555555555555556,
              "#d8576b"
             ],
             [
              0.6666666666666666,
              "#ed7953"
             ],
             [
              0.7777777777777778,
              "#fb9f3a"
             ],
             [
              0.8888888888888888,
              "#fdca26"
             ],
             [
              1,
              "#f0f921"
             ]
            ],
            "type": "heatmap"
           }
          ],
          "heatmapgl": [
           {
            "colorbar": {
             "outlinewidth": 0,
             "ticks": ""
            },
            "colorscale": [
             [
              0,
              "#0d0887"
             ],
             [
              0.1111111111111111,
              "#46039f"
             ],
             [
              0.2222222222222222,
              "#7201a8"
             ],
             [
              0.3333333333333333,
              "#9c179e"
             ],
             [
              0.4444444444444444,
              "#bd3786"
             ],
             [
              0.5555555555555556,
              "#d8576b"
             ],
             [
              0.6666666666666666,
              "#ed7953"
             ],
             [
              0.7777777777777778,
              "#fb9f3a"
             ],
             [
              0.8888888888888888,
              "#fdca26"
             ],
             [
              1,
              "#f0f921"
             ]
            ],
            "type": "heatmapgl"
           }
          ],
          "histogram": [
           {
            "marker": {
             "pattern": {
              "fillmode": "overlay",
              "size": 10,
              "solidity": 0.2
             }
            },
            "type": "histogram"
           }
          ],
          "histogram2d": [
           {
            "colorbar": {
             "outlinewidth": 0,
             "ticks": ""
            },
            "colorscale": [
             [
              0,
              "#0d0887"
             ],
             [
              0.1111111111111111,
              "#46039f"
             ],
             [
              0.2222222222222222,
              "#7201a8"
             ],
             [
              0.3333333333333333,
              "#9c179e"
             ],
             [
              0.4444444444444444,
              "#bd3786"
             ],
             [
              0.5555555555555556,
              "#d8576b"
             ],
             [
              0.6666666666666666,
              "#ed7953"
             ],
             [
              0.7777777777777778,
              "#fb9f3a"
             ],
             [
              0.8888888888888888,
              "#fdca26"
             ],
             [
              1,
              "#f0f921"
             ]
            ],
            "type": "histogram2d"
           }
          ],
          "histogram2dcontour": [
           {
            "colorbar": {
             "outlinewidth": 0,
             "ticks": ""
            },
            "colorscale": [
             [
              0,
              "#0d0887"
             ],
             [
              0.1111111111111111,
              "#46039f"
             ],
             [
              0.2222222222222222,
              "#7201a8"
             ],
             [
              0.3333333333333333,
              "#9c179e"
             ],
             [
              0.4444444444444444,
              "#bd3786"
             ],
             [
              0.5555555555555556,
              "#d8576b"
             ],
             [
              0.6666666666666666,
              "#ed7953"
             ],
             [
              0.7777777777777778,
              "#fb9f3a"
             ],
             [
              0.8888888888888888,
              "#fdca26"
             ],
             [
              1,
              "#f0f921"
             ]
            ],
            "type": "histogram2dcontour"
           }
          ],
          "mesh3d": [
           {
            "colorbar": {
             "outlinewidth": 0,
             "ticks": ""
            },
            "type": "mesh3d"
           }
          ],
          "parcoords": [
           {
            "line": {
             "colorbar": {
              "outlinewidth": 0,
              "ticks": ""
             }
            },
            "type": "parcoords"
           }
          ],
          "pie": [
           {
            "automargin": true,
            "type": "pie"
           }
          ],
          "scatter": [
           {
            "marker": {
             "colorbar": {
              "outlinewidth": 0,
              "ticks": ""
             }
            },
            "type": "scatter"
           }
          ],
          "scatter3d": [
           {
            "line": {
             "colorbar": {
              "outlinewidth": 0,
              "ticks": ""
             }
            },
            "marker": {
             "colorbar": {
              "outlinewidth": 0,
              "ticks": ""
             }
            },
            "type": "scatter3d"
           }
          ],
          "scattercarpet": [
           {
            "marker": {
             "colorbar": {
              "outlinewidth": 0,
              "ticks": ""
             }
            },
            "type": "scattercarpet"
           }
          ],
          "scattergeo": [
           {
            "marker": {
             "colorbar": {
              "outlinewidth": 0,
              "ticks": ""
             }
            },
            "type": "scattergeo"
           }
          ],
          "scattergl": [
           {
            "marker": {
             "colorbar": {
              "outlinewidth": 0,
              "ticks": ""
             }
            },
            "type": "scattergl"
           }
          ],
          "scattermapbox": [
           {
            "marker": {
             "colorbar": {
              "outlinewidth": 0,
              "ticks": ""
             }
            },
            "type": "scattermapbox"
           }
          ],
          "scatterpolar": [
           {
            "marker": {
             "colorbar": {
              "outlinewidth": 0,
              "ticks": ""
             }
            },
            "type": "scatterpolar"
           }
          ],
          "scatterpolargl": [
           {
            "marker": {
             "colorbar": {
              "outlinewidth": 0,
              "ticks": ""
             }
            },
            "type": "scatterpolargl"
           }
          ],
          "scatterternary": [
           {
            "marker": {
             "colorbar": {
              "outlinewidth": 0,
              "ticks": ""
             }
            },
            "type": "scatterternary"
           }
          ],
          "surface": [
           {
            "colorbar": {
             "outlinewidth": 0,
             "ticks": ""
            },
            "colorscale": [
             [
              0,
              "#0d0887"
             ],
             [
              0.1111111111111111,
              "#46039f"
             ],
             [
              0.2222222222222222,
              "#7201a8"
             ],
             [
              0.3333333333333333,
              "#9c179e"
             ],
             [
              0.4444444444444444,
              "#bd3786"
             ],
             [
              0.5555555555555556,
              "#d8576b"
             ],
             [
              0.6666666666666666,
              "#ed7953"
             ],
             [
              0.7777777777777778,
              "#fb9f3a"
             ],
             [
              0.8888888888888888,
              "#fdca26"
             ],
             [
              1,
              "#f0f921"
             ]
            ],
            "type": "surface"
           }
          ],
          "table": [
           {
            "cells": {
             "fill": {
              "color": "#EBF0F8"
             },
             "line": {
              "color": "white"
             }
            },
            "header": {
             "fill": {
              "color": "#C8D4E3"
             },
             "line": {
              "color": "white"
             }
            },
            "type": "table"
           }
          ]
         },
         "layout": {
          "annotationdefaults": {
           "arrowcolor": "#2a3f5f",
           "arrowhead": 0,
           "arrowwidth": 1
          },
          "autotypenumbers": "strict",
          "coloraxis": {
           "colorbar": {
            "outlinewidth": 0,
            "ticks": ""
           }
          },
          "colorscale": {
           "diverging": [
            [
             0,
             "#8e0152"
            ],
            [
             0.1,
             "#c51b7d"
            ],
            [
             0.2,
             "#de77ae"
            ],
            [
             0.3,
             "#f1b6da"
            ],
            [
             0.4,
             "#fde0ef"
            ],
            [
             0.5,
             "#f7f7f7"
            ],
            [
             0.6,
             "#e6f5d0"
            ],
            [
             0.7,
             "#b8e186"
            ],
            [
             0.8,
             "#7fbc41"
            ],
            [
             0.9,
             "#4d9221"
            ],
            [
             1,
             "#276419"
            ]
           ],
           "sequential": [
            [
             0,
             "#0d0887"
            ],
            [
             0.1111111111111111,
             "#46039f"
            ],
            [
             0.2222222222222222,
             "#7201a8"
            ],
            [
             0.3333333333333333,
             "#9c179e"
            ],
            [
             0.4444444444444444,
             "#bd3786"
            ],
            [
             0.5555555555555556,
             "#d8576b"
            ],
            [
             0.6666666666666666,
             "#ed7953"
            ],
            [
             0.7777777777777778,
             "#fb9f3a"
            ],
            [
             0.8888888888888888,
             "#fdca26"
            ],
            [
             1,
             "#f0f921"
            ]
           ],
           "sequentialminus": [
            [
             0,
             "#0d0887"
            ],
            [
             0.1111111111111111,
             "#46039f"
            ],
            [
             0.2222222222222222,
             "#7201a8"
            ],
            [
             0.3333333333333333,
             "#9c179e"
            ],
            [
             0.4444444444444444,
             "#bd3786"
            ],
            [
             0.5555555555555556,
             "#d8576b"
            ],
            [
             0.6666666666666666,
             "#ed7953"
            ],
            [
             0.7777777777777778,
             "#fb9f3a"
            ],
            [
             0.8888888888888888,
             "#fdca26"
            ],
            [
             1,
             "#f0f921"
            ]
           ]
          },
          "colorway": [
           "#636efa",
           "#EF553B",
           "#00cc96",
           "#ab63fa",
           "#FFA15A",
           "#19d3f3",
           "#FF6692",
           "#B6E880",
           "#FF97FF",
           "#FECB52"
          ],
          "font": {
           "color": "#2a3f5f"
          },
          "geo": {
           "bgcolor": "white",
           "lakecolor": "white",
           "landcolor": "#E5ECF6",
           "showlakes": true,
           "showland": true,
           "subunitcolor": "white"
          },
          "hoverlabel": {
           "align": "left"
          },
          "hovermode": "closest",
          "mapbox": {
           "style": "light"
          },
          "paper_bgcolor": "white",
          "plot_bgcolor": "#E5ECF6",
          "polar": {
           "angularaxis": {
            "gridcolor": "white",
            "linecolor": "white",
            "ticks": ""
           },
           "bgcolor": "#E5ECF6",
           "radialaxis": {
            "gridcolor": "white",
            "linecolor": "white",
            "ticks": ""
           }
          },
          "scene": {
           "xaxis": {
            "backgroundcolor": "#E5ECF6",
            "gridcolor": "white",
            "gridwidth": 2,
            "linecolor": "white",
            "showbackground": true,
            "ticks": "",
            "zerolinecolor": "white"
           },
           "yaxis": {
            "backgroundcolor": "#E5ECF6",
            "gridcolor": "white",
            "gridwidth": 2,
            "linecolor": "white",
            "showbackground": true,
            "ticks": "",
            "zerolinecolor": "white"
           },
           "zaxis": {
            "backgroundcolor": "#E5ECF6",
            "gridcolor": "white",
            "gridwidth": 2,
            "linecolor": "white",
            "showbackground": true,
            "ticks": "",
            "zerolinecolor": "white"
           }
          },
          "shapedefaults": {
           "line": {
            "color": "#2a3f5f"
           }
          },
          "ternary": {
           "aaxis": {
            "gridcolor": "white",
            "linecolor": "white",
            "ticks": ""
           },
           "baxis": {
            "gridcolor": "white",
            "linecolor": "white",
            "ticks": ""
           },
           "bgcolor": "#E5ECF6",
           "caxis": {
            "gridcolor": "white",
            "linecolor": "white",
            "ticks": ""
           }
          },
          "title": {
           "x": 0.05
          },
          "xaxis": {
           "automargin": true,
           "gridcolor": "white",
           "linecolor": "white",
           "ticks": "",
           "title": {
            "standoff": 15
           },
           "zerolinecolor": "white",
           "zerolinewidth": 2
          },
          "yaxis": {
           "automargin": true,
           "gridcolor": "white",
           "linecolor": "white",
           "ticks": "",
           "title": {
            "standoff": 15
           },
           "zerolinecolor": "white",
           "zerolinewidth": 2
          }
         }
        },
        "title": {
         "text": "Zone Air Heat Balance Surface Convection Rate Month #1"
        },
        "xaxis": {
         "title": {
          "text": "Hours"
         }
        },
        "yaxis": {
         "title": {
          "text": "Power [W]"
         }
        }
       }
      }
     },
     "metadata": {},
     "output_type": "display_data"
    }
   ],
   "source": [
    "month_by_hour_zonal_plot(\"Zone Air Heat Balance Surface Convection Rate\", 1)"
   ]
  },
  {
   "cell_type": "code",
   "execution_count": null,
   "metadata": {},
   "outputs": [
    {
     "data": {
      "application/vnd.plotly.v1+json": {
       "config": {
        "plotlyServerURL": "https://plot.ly"
       },
       "data": [
        {
         "marker": {
          "size": 20
         },
         "mode": "lines+markers",
         "name": "Zone 1",
         "type": "scatter",
         "x": [
          "00:00",
          "01:00",
          "02:00",
          "03:00",
          "04:00",
          "05:00",
          "06:00",
          "07:00",
          "08:00",
          "09:00",
          "10:00",
          "11:00",
          "12:00",
          "13:00",
          "14:00",
          "15:00",
          "16:00",
          "17:00",
          "18:00",
          "19:00",
          "20:00",
          "21:00",
          "22:00",
          "23:00"
         ],
         "y": [
          604.8536290322588,
          604.8536290322588,
          604.8536290322588,
          604.8536290322588,
          604.8536290322588,
          742.8814516129045,
          2362.1346774193553,
          4260.858870967745,
          17575.250000000004,
          17575.250000000004,
          17575.250000000004,
          17575.250000000004,
          11432.450806451621,
          17575.250000000004,
          16448.779032258066,
          16448.779032258066,
          16448.779032258066,
          12157.670161290327,
          7399.637903225814,
          7399.637903225814,
          2724.646774193552,
          2724.646774193552,
          1416.1879032258075,
          1278.1600806451625
         ]
        },
        {
         "marker": {
          "size": 15
         },
         "mode": "lines+markers",
         "name": "Zone 2",
         "type": "scatter",
         "x": [
          "00:00",
          "01:00",
          "02:00",
          "03:00",
          "04:00",
          "05:00",
          "06:00",
          "07:00",
          "08:00",
          "09:00",
          "10:00",
          "11:00",
          "12:00",
          "13:00",
          "14:00",
          "15:00",
          "16:00",
          "17:00",
          "18:00",
          "19:00",
          "20:00",
          "21:00",
          "22:00",
          "23:00"
         ],
         "y": [
          604.8536290322587,
          604.8536290322587,
          604.8536290322587,
          604.8536290322587,
          604.8536290322587,
          742.8814516129044,
          2362.1346774193553,
          4260.858870967743,
          17575.25,
          17575.25,
          17575.25,
          17575.25,
          11432.45080645162,
          17575.25,
          16448.779032258062,
          16448.779032258062,
          16448.779032258062,
          12157.670161290318,
          7399.6379032258055,
          7399.6379032258055,
          2724.6467741935517,
          2724.6467741935517,
          1416.1879032258075,
          1278.1600806451615
         ]
        },
        {
         "marker": {
          "size": 10
         },
         "mode": "lines+markers",
         "name": "Zone 3",
         "type": "scatter",
         "x": [
          "00:00",
          "01:00",
          "02:00",
          "03:00",
          "04:00",
          "05:00",
          "06:00",
          "07:00",
          "08:00",
          "09:00",
          "10:00",
          "11:00",
          "12:00",
          "13:00",
          "14:00",
          "15:00",
          "16:00",
          "17:00",
          "18:00",
          "19:00",
          "20:00",
          "21:00",
          "22:00",
          "23:00"
         ],
         "y": [
          2724.4516129032295,
          2724.4516129032295,
          2724.4516129032295,
          2724.4516129032295,
          2724.4516129032295,
          2814.2258064516163,
          3077.6935483871002,
          3571.451612903229,
          8548.064516129038,
          8548.064516129038,
          8548.064516129038,
          8548.064516129038,
          7425.8870967742,
          8548.064516129038,
          8210.435483870973,
          8210.435483870973,
          8210.435483870973,
          6898.951612903232,
          5103.467741935487,
          5103.467741935487,
          3824.1854838709705,
          3824.1854838709705,
          2881.5564516129066,
          2791.7822580645193
         ]
        },
        {
         "marker": {
          "size": 5
         },
         "mode": "lines+markers",
         "name": "Zone 4",
         "type": "scatter",
         "x": [
          "00:00",
          "01:00",
          "02:00",
          "03:00",
          "04:00",
          "05:00",
          "06:00",
          "07:00",
          "08:00",
          "09:00",
          "10:00",
          "11:00",
          "12:00",
          "13:00",
          "14:00",
          "15:00",
          "16:00",
          "17:00",
          "18:00",
          "19:00",
          "20:00",
          "21:00",
          "22:00",
          "23:00"
         ],
         "y": [
          892.3262096774189,
          892.3262096774189,
          892.3262096774189,
          892.3262096774189,
          892.3262096774189,
          1016.887903225806,
          1213.708064516128,
          1839.8830645161281,
          5299.5560483870995,
          5299.556048387099,
          5299.556048387099,
          5299.5560483870995,
          4580.240322580644,
          5299.556048387099,
          5021.4512096774215,
          5021.451209677421,
          5021.451209677421,
          3981.6806451612892,
          2812.3717741935498,
          2812.3717741935498,
          1786.7016129032256,
          1786.7016129032256,
          1080.852016129032,
          956.290322580645
         ]
        }
       ],
       "layout": {
        "template": {
         "data": {
          "bar": [
           {
            "error_x": {
             "color": "#2a3f5f"
            },
            "error_y": {
             "color": "#2a3f5f"
            },
            "marker": {
             "line": {
              "color": "#E5ECF6",
              "width": 0.5
             },
             "pattern": {
              "fillmode": "overlay",
              "size": 10,
              "solidity": 0.2
             }
            },
            "type": "bar"
           }
          ],
          "barpolar": [
           {
            "marker": {
             "line": {
              "color": "#E5ECF6",
              "width": 0.5
             },
             "pattern": {
              "fillmode": "overlay",
              "size": 10,
              "solidity": 0.2
             }
            },
            "type": "barpolar"
           }
          ],
          "carpet": [
           {
            "aaxis": {
             "endlinecolor": "#2a3f5f",
             "gridcolor": "white",
             "linecolor": "white",
             "minorgridcolor": "white",
             "startlinecolor": "#2a3f5f"
            },
            "baxis": {
             "endlinecolor": "#2a3f5f",
             "gridcolor": "white",
             "linecolor": "white",
             "minorgridcolor": "white",
             "startlinecolor": "#2a3f5f"
            },
            "type": "carpet"
           }
          ],
          "choropleth": [
           {
            "colorbar": {
             "outlinewidth": 0,
             "ticks": ""
            },
            "type": "choropleth"
           }
          ],
          "contour": [
           {
            "colorbar": {
             "outlinewidth": 0,
             "ticks": ""
            },
            "colorscale": [
             [
              0,
              "#0d0887"
             ],
             [
              0.1111111111111111,
              "#46039f"
             ],
             [
              0.2222222222222222,
              "#7201a8"
             ],
             [
              0.3333333333333333,
              "#9c179e"
             ],
             [
              0.4444444444444444,
              "#bd3786"
             ],
             [
              0.5555555555555556,
              "#d8576b"
             ],
             [
              0.6666666666666666,
              "#ed7953"
             ],
             [
              0.7777777777777778,
              "#fb9f3a"
             ],
             [
              0.8888888888888888,
              "#fdca26"
             ],
             [
              1,
              "#f0f921"
             ]
            ],
            "type": "contour"
           }
          ],
          "contourcarpet": [
           {
            "colorbar": {
             "outlinewidth": 0,
             "ticks": ""
            },
            "type": "contourcarpet"
           }
          ],
          "heatmap": [
           {
            "colorbar": {
             "outlinewidth": 0,
             "ticks": ""
            },
            "colorscale": [
             [
              0,
              "#0d0887"
             ],
             [
              0.1111111111111111,
              "#46039f"
             ],
             [
              0.2222222222222222,
              "#7201a8"
             ],
             [
              0.3333333333333333,
              "#9c179e"
             ],
             [
              0.4444444444444444,
              "#bd3786"
             ],
             [
              0.5555555555555556,
              "#d8576b"
             ],
             [
              0.6666666666666666,
              "#ed7953"
             ],
             [
              0.7777777777777778,
              "#fb9f3a"
             ],
             [
              0.8888888888888888,
              "#fdca26"
             ],
             [
              1,
              "#f0f921"
             ]
            ],
            "type": "heatmap"
           }
          ],
          "heatmapgl": [
           {
            "colorbar": {
             "outlinewidth": 0,
             "ticks": ""
            },
            "colorscale": [
             [
              0,
              "#0d0887"
             ],
             [
              0.1111111111111111,
              "#46039f"
             ],
             [
              0.2222222222222222,
              "#7201a8"
             ],
             [
              0.3333333333333333,
              "#9c179e"
             ],
             [
              0.4444444444444444,
              "#bd3786"
             ],
             [
              0.5555555555555556,
              "#d8576b"
             ],
             [
              0.6666666666666666,
              "#ed7953"
             ],
             [
              0.7777777777777778,
              "#fb9f3a"
             ],
             [
              0.8888888888888888,
              "#fdca26"
             ],
             [
              1,
              "#f0f921"
             ]
            ],
            "type": "heatmapgl"
           }
          ],
          "histogram": [
           {
            "marker": {
             "pattern": {
              "fillmode": "overlay",
              "size": 10,
              "solidity": 0.2
             }
            },
            "type": "histogram"
           }
          ],
          "histogram2d": [
           {
            "colorbar": {
             "outlinewidth": 0,
             "ticks": ""
            },
            "colorscale": [
             [
              0,
              "#0d0887"
             ],
             [
              0.1111111111111111,
              "#46039f"
             ],
             [
              0.2222222222222222,
              "#7201a8"
             ],
             [
              0.3333333333333333,
              "#9c179e"
             ],
             [
              0.4444444444444444,
              "#bd3786"
             ],
             [
              0.5555555555555556,
              "#d8576b"
             ],
             [
              0.6666666666666666,
              "#ed7953"
             ],
             [
              0.7777777777777778,
              "#fb9f3a"
             ],
             [
              0.8888888888888888,
              "#fdca26"
             ],
             [
              1,
              "#f0f921"
             ]
            ],
            "type": "histogram2d"
           }
          ],
          "histogram2dcontour": [
           {
            "colorbar": {
             "outlinewidth": 0,
             "ticks": ""
            },
            "colorscale": [
             [
              0,
              "#0d0887"
             ],
             [
              0.1111111111111111,
              "#46039f"
             ],
             [
              0.2222222222222222,
              "#7201a8"
             ],
             [
              0.3333333333333333,
              "#9c179e"
             ],
             [
              0.4444444444444444,
              "#bd3786"
             ],
             [
              0.5555555555555556,
              "#d8576b"
             ],
             [
              0.6666666666666666,
              "#ed7953"
             ],
             [
              0.7777777777777778,
              "#fb9f3a"
             ],
             [
              0.8888888888888888,
              "#fdca26"
             ],
             [
              1,
              "#f0f921"
             ]
            ],
            "type": "histogram2dcontour"
           }
          ],
          "mesh3d": [
           {
            "colorbar": {
             "outlinewidth": 0,
             "ticks": ""
            },
            "type": "mesh3d"
           }
          ],
          "parcoords": [
           {
            "line": {
             "colorbar": {
              "outlinewidth": 0,
              "ticks": ""
             }
            },
            "type": "parcoords"
           }
          ],
          "pie": [
           {
            "automargin": true,
            "type": "pie"
           }
          ],
          "scatter": [
           {
            "marker": {
             "colorbar": {
              "outlinewidth": 0,
              "ticks": ""
             }
            },
            "type": "scatter"
           }
          ],
          "scatter3d": [
           {
            "line": {
             "colorbar": {
              "outlinewidth": 0,
              "ticks": ""
             }
            },
            "marker": {
             "colorbar": {
              "outlinewidth": 0,
              "ticks": ""
             }
            },
            "type": "scatter3d"
           }
          ],
          "scattercarpet": [
           {
            "marker": {
             "colorbar": {
              "outlinewidth": 0,
              "ticks": ""
             }
            },
            "type": "scattercarpet"
           }
          ],
          "scattergeo": [
           {
            "marker": {
             "colorbar": {
              "outlinewidth": 0,
              "ticks": ""
             }
            },
            "type": "scattergeo"
           }
          ],
          "scattergl": [
           {
            "marker": {
             "colorbar": {
              "outlinewidth": 0,
              "ticks": ""
             }
            },
            "type": "scattergl"
           }
          ],
          "scattermapbox": [
           {
            "marker": {
             "colorbar": {
              "outlinewidth": 0,
              "ticks": ""
             }
            },
            "type": "scattermapbox"
           }
          ],
          "scatterpolar": [
           {
            "marker": {
             "colorbar": {
              "outlinewidth": 0,
              "ticks": ""
             }
            },
            "type": "scatterpolar"
           }
          ],
          "scatterpolargl": [
           {
            "marker": {
             "colorbar": {
              "outlinewidth": 0,
              "ticks": ""
             }
            },
            "type": "scatterpolargl"
           }
          ],
          "scatterternary": [
           {
            "marker": {
             "colorbar": {
              "outlinewidth": 0,
              "ticks": ""
             }
            },
            "type": "scatterternary"
           }
          ],
          "surface": [
           {
            "colorbar": {
             "outlinewidth": 0,
             "ticks": ""
            },
            "colorscale": [
             [
              0,
              "#0d0887"
             ],
             [
              0.1111111111111111,
              "#46039f"
             ],
             [
              0.2222222222222222,
              "#7201a8"
             ],
             [
              0.3333333333333333,
              "#9c179e"
             ],
             [
              0.4444444444444444,
              "#bd3786"
             ],
             [
              0.5555555555555556,
              "#d8576b"
             ],
             [
              0.6666666666666666,
              "#ed7953"
             ],
             [
              0.7777777777777778,
              "#fb9f3a"
             ],
             [
              0.8888888888888888,
              "#fdca26"
             ],
             [
              1,
              "#f0f921"
             ]
            ],
            "type": "surface"
           }
          ],
          "table": [
           {
            "cells": {
             "fill": {
              "color": "#EBF0F8"
             },
             "line": {
              "color": "white"
             }
            },
            "header": {
             "fill": {
              "color": "#C8D4E3"
             },
             "line": {
              "color": "white"
             }
            },
            "type": "table"
           }
          ]
         },
         "layout": {
          "annotationdefaults": {
           "arrowcolor": "#2a3f5f",
           "arrowhead": 0,
           "arrowwidth": 1
          },
          "autotypenumbers": "strict",
          "coloraxis": {
           "colorbar": {
            "outlinewidth": 0,
            "ticks": ""
           }
          },
          "colorscale": {
           "diverging": [
            [
             0,
             "#8e0152"
            ],
            [
             0.1,
             "#c51b7d"
            ],
            [
             0.2,
             "#de77ae"
            ],
            [
             0.3,
             "#f1b6da"
            ],
            [
             0.4,
             "#fde0ef"
            ],
            [
             0.5,
             "#f7f7f7"
            ],
            [
             0.6,
             "#e6f5d0"
            ],
            [
             0.7,
             "#b8e186"
            ],
            [
             0.8,
             "#7fbc41"
            ],
            [
             0.9,
             "#4d9221"
            ],
            [
             1,
             "#276419"
            ]
           ],
           "sequential": [
            [
             0,
             "#0d0887"
            ],
            [
             0.1111111111111111,
             "#46039f"
            ],
            [
             0.2222222222222222,
             "#7201a8"
            ],
            [
             0.3333333333333333,
             "#9c179e"
            ],
            [
             0.4444444444444444,
             "#bd3786"
            ],
            [
             0.5555555555555556,
             "#d8576b"
            ],
            [
             0.6666666666666666,
             "#ed7953"
            ],
            [
             0.7777777777777778,
             "#fb9f3a"
            ],
            [
             0.8888888888888888,
             "#fdca26"
            ],
            [
             1,
             "#f0f921"
            ]
           ],
           "sequentialminus": [
            [
             0,
             "#0d0887"
            ],
            [
             0.1111111111111111,
             "#46039f"
            ],
            [
             0.2222222222222222,
             "#7201a8"
            ],
            [
             0.3333333333333333,
             "#9c179e"
            ],
            [
             0.4444444444444444,
             "#bd3786"
            ],
            [
             0.5555555555555556,
             "#d8576b"
            ],
            [
             0.6666666666666666,
             "#ed7953"
            ],
            [
             0.7777777777777778,
             "#fb9f3a"
            ],
            [
             0.8888888888888888,
             "#fdca26"
            ],
            [
             1,
             "#f0f921"
            ]
           ]
          },
          "colorway": [
           "#636efa",
           "#EF553B",
           "#00cc96",
           "#ab63fa",
           "#FFA15A",
           "#19d3f3",
           "#FF6692",
           "#B6E880",
           "#FF97FF",
           "#FECB52"
          ],
          "font": {
           "color": "#2a3f5f"
          },
          "geo": {
           "bgcolor": "white",
           "lakecolor": "white",
           "landcolor": "#E5ECF6",
           "showlakes": true,
           "showland": true,
           "subunitcolor": "white"
          },
          "hoverlabel": {
           "align": "left"
          },
          "hovermode": "closest",
          "mapbox": {
           "style": "light"
          },
          "paper_bgcolor": "white",
          "plot_bgcolor": "#E5ECF6",
          "polar": {
           "angularaxis": {
            "gridcolor": "white",
            "linecolor": "white",
            "ticks": ""
           },
           "bgcolor": "#E5ECF6",
           "radialaxis": {
            "gridcolor": "white",
            "linecolor": "white",
            "ticks": ""
           }
          },
          "scene": {
           "xaxis": {
            "backgroundcolor": "#E5ECF6",
            "gridcolor": "white",
            "gridwidth": 2,
            "linecolor": "white",
            "showbackground": true,
            "ticks": "",
            "zerolinecolor": "white"
           },
           "yaxis": {
            "backgroundcolor": "#E5ECF6",
            "gridcolor": "white",
            "gridwidth": 2,
            "linecolor": "white",
            "showbackground": true,
            "ticks": "",
            "zerolinecolor": "white"
           },
           "zaxis": {
            "backgroundcolor": "#E5ECF6",
            "gridcolor": "white",
            "gridwidth": 2,
            "linecolor": "white",
            "showbackground": true,
            "ticks": "",
            "zerolinecolor": "white"
           }
          },
          "shapedefaults": {
           "line": {
            "color": "#2a3f5f"
           }
          },
          "ternary": {
           "aaxis": {
            "gridcolor": "white",
            "linecolor": "white",
            "ticks": ""
           },
           "baxis": {
            "gridcolor": "white",
            "linecolor": "white",
            "ticks": ""
           },
           "bgcolor": "#E5ECF6",
           "caxis": {
            "gridcolor": "white",
            "linecolor": "white",
            "ticks": ""
           }
          },
          "title": {
           "x": 0.05
          },
          "xaxis": {
           "automargin": true,
           "gridcolor": "white",
           "linecolor": "white",
           "ticks": "",
           "title": {
            "standoff": 15
           },
           "zerolinecolor": "white",
           "zerolinewidth": 2
          },
          "yaxis": {
           "automargin": true,
           "gridcolor": "white",
           "linecolor": "white",
           "ticks": "",
           "title": {
            "standoff": 15
           },
           "zerolinecolor": "white",
           "zerolinewidth": 2
          }
         }
        },
        "title": {
         "text": "Zone Total Internal Total Heating Rate Month #1"
        },
        "xaxis": {
         "title": {
          "text": "Hours"
         }
        },
        "yaxis": {
         "title": {
          "text": "Power [W]"
         }
        }
       }
      }
     },
     "metadata": {},
     "output_type": "display_data"
    }
   ],
   "source": [
    "month_by_hour_zonal_plot(\"Zone Total Internal Total Heating Rate\", 1)"
   ]
  },
  {
   "cell_type": "markdown",
   "metadata": {},
   "source": [
    "# HVAC Sizing "
   ]
  },
  {
   "cell_type": "code",
   "execution_count": null,
   "metadata": {},
   "outputs": [
    {
     "data": {
      "text/html": [
       "<div>\n",
       "<style scoped>\n",
       "    .dataframe tbody tr th:only-of-type {\n",
       "        vertical-align: middle;\n",
       "    }\n",
       "\n",
       "    .dataframe tbody tr th {\n",
       "        vertical-align: top;\n",
       "    }\n",
       "\n",
       "    .dataframe thead th {\n",
       "        text-align: right;\n",
       "    }\n",
       "</style>\n",
       "<table border=\"1\" class=\"dataframe\">\n",
       "  <thead>\n",
       "    <tr style=\"text-align: right;\">\n",
       "      <th></th>\n",
       "      <th>Time</th>\n",
       "      <th>VAV WITH PFP BOXES AND REHEAT:DesPer 1:Des Heat Mass Flow [kg/s]</th>\n",
       "      <th>VAV WITH PFP BOXES AND REHEAT:DesPer 1:Des Heat Cap [W]</th>\n",
       "      <th>VAV WITH PFP BOXES AND REHEAT:DesPer 1:Des Cool Mass Flow [kg/s]</th>\n",
       "      <th>VAV WITH PFP BOXES AND REHEAT:DesPer 1:Des Sens Cool Cap [W]</th>\n",
       "      <th>VAV WITH PFP BOXES AND REHEAT:DesPer 1:Des Tot Cool Cap [W]</th>\n",
       "      <th>VAV WITH PFP BOXES AND REHEAT:DesPer 2:Des Heat Mass Flow [kg/s]</th>\n",
       "      <th>VAV WITH PFP BOXES AND REHEAT:DesPer 2:Des Heat Cap [W]</th>\n",
       "      <th>VAV WITH PFP BOXES AND REHEAT:DesPer 2:Des Cool Mass Flow [kg/s]</th>\n",
       "      <th>VAV WITH PFP BOXES AND REHEAT:DesPer 2:Des Sens Cool Cap [W]</th>\n",
       "      <th>...</th>\n",
       "      <th>VAV WITH PFP BOXES AND REHEAT:DesPer 5:Des Heat Mass Flow [kg/s]</th>\n",
       "      <th>VAV WITH PFP BOXES AND REHEAT:DesPer 5:Des Heat Cap [W]</th>\n",
       "      <th>VAV WITH PFP BOXES AND REHEAT:DesPer 5:Des Cool Mass Flow [kg/s]</th>\n",
       "      <th>VAV WITH PFP BOXES AND REHEAT:DesPer 5:Des Sens Cool Cap [W]</th>\n",
       "      <th>VAV WITH PFP BOXES AND REHEAT:DesPer 5:Des Tot Cool Cap [W]</th>\n",
       "      <th>VAV WITH PFP BOXES AND REHEAT:DesPer 6:Des Heat Mass Flow [kg/s]</th>\n",
       "      <th>VAV WITH PFP BOXES AND REHEAT:DesPer 6:Des Heat Cap [W]</th>\n",
       "      <th>VAV WITH PFP BOXES AND REHEAT:DesPer 6:Des Cool Mass Flow [kg/s]</th>\n",
       "      <th>VAV WITH PFP BOXES AND REHEAT:DesPer 6:Des Sens Cool Cap [W]</th>\n",
       "      <th>VAV WITH PFP BOXES AND REHEAT:DesPer 6:Des Tot Cool Cap [W]</th>\n",
       "    </tr>\n",
       "  </thead>\n",
       "  <tbody>\n",
       "    <tr>\n",
       "      <th>0</th>\n",
       "      <td>00:15:00</td>\n",
       "      <td>1.355793</td>\n",
       "      <td>0.000000</td>\n",
       "      <td>2.153525</td>\n",
       "      <td>32110.34</td>\n",
       "      <td>30568.65</td>\n",
       "      <td>1.355793</td>\n",
       "      <td>0.0</td>\n",
       "      <td>1.577374</td>\n",
       "      <td>8778.733</td>\n",
       "      <td>...</td>\n",
       "      <td>2.184809</td>\n",
       "      <td>33589.99</td>\n",
       "      <td>1.355793</td>\n",
       "      <td>0.0</td>\n",
       "      <td>0.0</td>\n",
       "      <td>1.651020</td>\n",
       "      <td>7465.688</td>\n",
       "      <td>1.355793</td>\n",
       "      <td>0.0</td>\n",
       "      <td>0.0</td>\n",
       "    </tr>\n",
       "    <tr>\n",
       "      <th>1</th>\n",
       "      <td>00:30:00</td>\n",
       "      <td>1.355793</td>\n",
       "      <td>0.000000</td>\n",
       "      <td>2.155340</td>\n",
       "      <td>31913.24</td>\n",
       "      <td>30365.99</td>\n",
       "      <td>1.355793</td>\n",
       "      <td>0.0</td>\n",
       "      <td>1.581152</td>\n",
       "      <td>8635.312</td>\n",
       "      <td>...</td>\n",
       "      <td>2.184812</td>\n",
       "      <td>33590.03</td>\n",
       "      <td>1.355793</td>\n",
       "      <td>0.0</td>\n",
       "      <td>0.0</td>\n",
       "      <td>1.651023</td>\n",
       "      <td>7465.700</td>\n",
       "      <td>1.355793</td>\n",
       "      <td>0.0</td>\n",
       "      <td>0.0</td>\n",
       "    </tr>\n",
       "    <tr>\n",
       "      <th>2</th>\n",
       "      <td>00:45:00</td>\n",
       "      <td>1.355793</td>\n",
       "      <td>0.000000</td>\n",
       "      <td>2.156101</td>\n",
       "      <td>31700.26</td>\n",
       "      <td>30148.21</td>\n",
       "      <td>1.355793</td>\n",
       "      <td>0.0</td>\n",
       "      <td>1.583847</td>\n",
       "      <td>8485.307</td>\n",
       "      <td>...</td>\n",
       "      <td>2.184815</td>\n",
       "      <td>33590.08</td>\n",
       "      <td>1.355793</td>\n",
       "      <td>0.0</td>\n",
       "      <td>0.0</td>\n",
       "      <td>1.651025</td>\n",
       "      <td>7465.711</td>\n",
       "      <td>1.355793</td>\n",
       "      <td>0.0</td>\n",
       "      <td>0.0</td>\n",
       "    </tr>\n",
       "    <tr>\n",
       "      <th>3</th>\n",
       "      <td>01:00:00</td>\n",
       "      <td>1.355793</td>\n",
       "      <td>0.000000</td>\n",
       "      <td>2.156069</td>\n",
       "      <td>31475.55</td>\n",
       "      <td>29919.27</td>\n",
       "      <td>1.355793</td>\n",
       "      <td>0.0</td>\n",
       "      <td>1.585727</td>\n",
       "      <td>8330.458</td>\n",
       "      <td>...</td>\n",
       "      <td>2.184817</td>\n",
       "      <td>33590.12</td>\n",
       "      <td>1.355793</td>\n",
       "      <td>0.0</td>\n",
       "      <td>0.0</td>\n",
       "      <td>1.651027</td>\n",
       "      <td>7465.720</td>\n",
       "      <td>1.355793</td>\n",
       "      <td>0.0</td>\n",
       "      <td>0.0</td>\n",
       "    </tr>\n",
       "    <tr>\n",
       "      <th>4</th>\n",
       "      <td>01:15:00</td>\n",
       "      <td>1.355793</td>\n",
       "      <td>0.000000</td>\n",
       "      <td>2.157015</td>\n",
       "      <td>31339.82</td>\n",
       "      <td>29780.00</td>\n",
       "      <td>1.355793</td>\n",
       "      <td>0.0</td>\n",
       "      <td>1.587755</td>\n",
       "      <td>8231.028</td>\n",
       "      <td>...</td>\n",
       "      <td>2.184825</td>\n",
       "      <td>33590.24</td>\n",
       "      <td>1.355793</td>\n",
       "      <td>0.0</td>\n",
       "      <td>0.0</td>\n",
       "      <td>1.651037</td>\n",
       "      <td>7465.762</td>\n",
       "      <td>1.355793</td>\n",
       "      <td>0.0</td>\n",
       "      <td>0.0</td>\n",
       "    </tr>\n",
       "    <tr>\n",
       "      <th>...</th>\n",
       "      <td>...</td>\n",
       "      <td>...</td>\n",
       "      <td>...</td>\n",
       "      <td>...</td>\n",
       "      <td>...</td>\n",
       "      <td>...</td>\n",
       "      <td>...</td>\n",
       "      <td>...</td>\n",
       "      <td>...</td>\n",
       "      <td>...</td>\n",
       "      <td>...</td>\n",
       "      <td>...</td>\n",
       "      <td>...</td>\n",
       "      <td>...</td>\n",
       "      <td>...</td>\n",
       "      <td>...</td>\n",
       "      <td>...</td>\n",
       "      <td>...</td>\n",
       "      <td>...</td>\n",
       "      <td>...</td>\n",
       "      <td>...</td>\n",
       "    </tr>\n",
       "    <tr>\n",
       "      <th>93</th>\n",
       "      <td>23:30:00</td>\n",
       "      <td>1.355793</td>\n",
       "      <td>0.000000</td>\n",
       "      <td>2.132789</td>\n",
       "      <td>32540.55</td>\n",
       "      <td>31027.76</td>\n",
       "      <td>1.355793</td>\n",
       "      <td>0.0</td>\n",
       "      <td>1.551874</td>\n",
       "      <td>9174.813</td>\n",
       "      <td>...</td>\n",
       "      <td>2.184786</td>\n",
       "      <td>33589.64</td>\n",
       "      <td>1.355793</td>\n",
       "      <td>0.0</td>\n",
       "      <td>0.0</td>\n",
       "      <td>1.650993</td>\n",
       "      <td>7465.565</td>\n",
       "      <td>1.355793</td>\n",
       "      <td>0.0</td>\n",
       "      <td>0.0</td>\n",
       "    </tr>\n",
       "    <tr>\n",
       "      <th>94</th>\n",
       "      <td>23:45:00</td>\n",
       "      <td>1.355793</td>\n",
       "      <td>0.000000</td>\n",
       "      <td>2.143349</td>\n",
       "      <td>32441.58</td>\n",
       "      <td>30916.38</td>\n",
       "      <td>1.355793</td>\n",
       "      <td>0.0</td>\n",
       "      <td>1.563860</td>\n",
       "      <td>9055.919</td>\n",
       "      <td>...</td>\n",
       "      <td>2.184796</td>\n",
       "      <td>33589.79</td>\n",
       "      <td>1.355793</td>\n",
       "      <td>0.0</td>\n",
       "      <td>0.0</td>\n",
       "      <td>1.651005</td>\n",
       "      <td>7465.621</td>\n",
       "      <td>1.355793</td>\n",
       "      <td>0.0</td>\n",
       "      <td>0.0</td>\n",
       "    </tr>\n",
       "    <tr>\n",
       "      <th>95</th>\n",
       "      <td>24:00:00</td>\n",
       "      <td>1.355793</td>\n",
       "      <td>0.000000</td>\n",
       "      <td>2.150234</td>\n",
       "      <td>32284.90</td>\n",
       "      <td>30749.81</td>\n",
       "      <td>1.355793</td>\n",
       "      <td>0.0</td>\n",
       "      <td>1.572080</td>\n",
       "      <td>8912.767</td>\n",
       "      <td>...</td>\n",
       "      <td>2.184805</td>\n",
       "      <td>33589.93</td>\n",
       "      <td>1.355793</td>\n",
       "      <td>0.0</td>\n",
       "      <td>0.0</td>\n",
       "      <td>1.651017</td>\n",
       "      <td>7465.673</td>\n",
       "      <td>1.355793</td>\n",
       "      <td>0.0</td>\n",
       "      <td>0.0</td>\n",
       "    </tr>\n",
       "    <tr>\n",
       "      <th>96</th>\n",
       "      <td>Coinc Peak</td>\n",
       "      <td>2.184923</td>\n",
       "      <td>4.983134</td>\n",
       "      <td>33591.740000</td>\n",
       "      <td>71710.19</td>\n",
       "      <td>NaN</td>\n",
       "      <td>NaN</td>\n",
       "      <td>NaN</td>\n",
       "      <td>NaN</td>\n",
       "      <td>NaN</td>\n",
       "      <td>...</td>\n",
       "      <td>NaN</td>\n",
       "      <td>NaN</td>\n",
       "      <td>NaN</td>\n",
       "      <td>NaN</td>\n",
       "      <td>NaN</td>\n",
       "      <td>NaN</td>\n",
       "      <td>NaN</td>\n",
       "      <td>NaN</td>\n",
       "      <td>NaN</td>\n",
       "      <td>NaN</td>\n",
       "    </tr>\n",
       "    <tr>\n",
       "      <th>97</th>\n",
       "      <td>NonCoinc Peak</td>\n",
       "      <td>2.184923</td>\n",
       "      <td>4.983134</td>\n",
       "      <td>33591.740000</td>\n",
       "      <td>71710.19</td>\n",
       "      <td>NaN</td>\n",
       "      <td>NaN</td>\n",
       "      <td>NaN</td>\n",
       "      <td>NaN</td>\n",
       "      <td>NaN</td>\n",
       "      <td>...</td>\n",
       "      <td>NaN</td>\n",
       "      <td>NaN</td>\n",
       "      <td>NaN</td>\n",
       "      <td>NaN</td>\n",
       "      <td>NaN</td>\n",
       "      <td>NaN</td>\n",
       "      <td>NaN</td>\n",
       "      <td>NaN</td>\n",
       "      <td>NaN</td>\n",
       "      <td>NaN</td>\n",
       "    </tr>\n",
       "  </tbody>\n",
       "</table>\n",
       "<p>98 rows × 31 columns</p>\n",
       "</div>"
      ],
      "text/plain": [
       "             Time  \\\n",
       "0        00:15:00   \n",
       "1        00:30:00   \n",
       "2        00:45:00   \n",
       "3        01:00:00   \n",
       "4        01:15:00   \n",
       "..            ...   \n",
       "93       23:30:00   \n",
       "94       23:45:00   \n",
       "95       24:00:00   \n",
       "96  Coinc Peak      \n",
       "97  NonCoinc Peak   \n",
       "\n",
       "    VAV WITH PFP BOXES AND REHEAT:DesPer 1:Des Heat Mass Flow [kg/s]  \\\n",
       "0                                            1.355793                  \n",
       "1                                            1.355793                  \n",
       "2                                            1.355793                  \n",
       "3                                            1.355793                  \n",
       "4                                            1.355793                  \n",
       "..                                                ...                  \n",
       "93                                           1.355793                  \n",
       "94                                           1.355793                  \n",
       "95                                           1.355793                  \n",
       "96                                           2.184923                  \n",
       "97                                           2.184923                  \n",
       "\n",
       "    VAV WITH PFP BOXES AND REHEAT:DesPer 1:Des Heat Cap [W]  \\\n",
       "0                                            0.000000         \n",
       "1                                            0.000000         \n",
       "2                                            0.000000         \n",
       "3                                            0.000000         \n",
       "4                                            0.000000         \n",
       "..                                                ...         \n",
       "93                                           0.000000         \n",
       "94                                           0.000000         \n",
       "95                                           0.000000         \n",
       "96                                           4.983134         \n",
       "97                                           4.983134         \n",
       "\n",
       "    VAV WITH PFP BOXES AND REHEAT:DesPer 1:Des Cool Mass Flow [kg/s]  \\\n",
       "0                                            2.153525                  \n",
       "1                                            2.155340                  \n",
       "2                                            2.156101                  \n",
       "3                                            2.156069                  \n",
       "4                                            2.157015                  \n",
       "..                                                ...                  \n",
       "93                                           2.132789                  \n",
       "94                                           2.143349                  \n",
       "95                                           2.150234                  \n",
       "96                                       33591.740000                  \n",
       "97                                       33591.740000                  \n",
       "\n",
       "    VAV WITH PFP BOXES AND REHEAT:DesPer 1:Des Sens Cool Cap [W]  \\\n",
       "0                                            32110.34              \n",
       "1                                            31913.24              \n",
       "2                                            31700.26              \n",
       "3                                            31475.55              \n",
       "4                                            31339.82              \n",
       "..                                                ...              \n",
       "93                                           32540.55              \n",
       "94                                           32441.58              \n",
       "95                                           32284.90              \n",
       "96                                           71710.19              \n",
       "97                                           71710.19              \n",
       "\n",
       "    VAV WITH PFP BOXES AND REHEAT:DesPer 1:Des Tot Cool Cap [W]  \\\n",
       "0                                            30568.65             \n",
       "1                                            30365.99             \n",
       "2                                            30148.21             \n",
       "3                                            29919.27             \n",
       "4                                            29780.00             \n",
       "..                                                ...             \n",
       "93                                           31027.76             \n",
       "94                                           30916.38             \n",
       "95                                           30749.81             \n",
       "96                                                NaN             \n",
       "97                                                NaN             \n",
       "\n",
       "    VAV WITH PFP BOXES AND REHEAT:DesPer 2:Des Heat Mass Flow [kg/s]  \\\n",
       "0                                            1.355793                  \n",
       "1                                            1.355793                  \n",
       "2                                            1.355793                  \n",
       "3                                            1.355793                  \n",
       "4                                            1.355793                  \n",
       "..                                                ...                  \n",
       "93                                           1.355793                  \n",
       "94                                           1.355793                  \n",
       "95                                           1.355793                  \n",
       "96                                                NaN                  \n",
       "97                                                NaN                  \n",
       "\n",
       "    VAV WITH PFP BOXES AND REHEAT:DesPer 2:Des Heat Cap [W]  \\\n",
       "0                                                 0.0         \n",
       "1                                                 0.0         \n",
       "2                                                 0.0         \n",
       "3                                                 0.0         \n",
       "4                                                 0.0         \n",
       "..                                                ...         \n",
       "93                                                0.0         \n",
       "94                                                0.0         \n",
       "95                                                0.0         \n",
       "96                                                NaN         \n",
       "97                                                NaN         \n",
       "\n",
       "    VAV WITH PFP BOXES AND REHEAT:DesPer 2:Des Cool Mass Flow [kg/s]  \\\n",
       "0                                            1.577374                  \n",
       "1                                            1.581152                  \n",
       "2                                            1.583847                  \n",
       "3                                            1.585727                  \n",
       "4                                            1.587755                  \n",
       "..                                                ...                  \n",
       "93                                           1.551874                  \n",
       "94                                           1.563860                  \n",
       "95                                           1.572080                  \n",
       "96                                                NaN                  \n",
       "97                                                NaN                  \n",
       "\n",
       "    VAV WITH PFP BOXES AND REHEAT:DesPer 2:Des Sens Cool Cap [W]  ...  \\\n",
       "0                                            8778.733             ...   \n",
       "1                                            8635.312             ...   \n",
       "2                                            8485.307             ...   \n",
       "3                                            8330.458             ...   \n",
       "4                                            8231.028             ...   \n",
       "..                                                ...             ...   \n",
       "93                                           9174.813             ...   \n",
       "94                                           9055.919             ...   \n",
       "95                                           8912.767             ...   \n",
       "96                                                NaN             ...   \n",
       "97                                                NaN             ...   \n",
       "\n",
       "    VAV WITH PFP BOXES AND REHEAT:DesPer 5:Des Heat Mass Flow [kg/s]  \\\n",
       "0                                            2.184809                  \n",
       "1                                            2.184812                  \n",
       "2                                            2.184815                  \n",
       "3                                            2.184817                  \n",
       "4                                            2.184825                  \n",
       "..                                                ...                  \n",
       "93                                           2.184786                  \n",
       "94                                           2.184796                  \n",
       "95                                           2.184805                  \n",
       "96                                                NaN                  \n",
       "97                                                NaN                  \n",
       "\n",
       "    VAV WITH PFP BOXES AND REHEAT:DesPer 5:Des Heat Cap [W]  \\\n",
       "0                                            33589.99         \n",
       "1                                            33590.03         \n",
       "2                                            33590.08         \n",
       "3                                            33590.12         \n",
       "4                                            33590.24         \n",
       "..                                                ...         \n",
       "93                                           33589.64         \n",
       "94                                           33589.79         \n",
       "95                                           33589.93         \n",
       "96                                                NaN         \n",
       "97                                                NaN         \n",
       "\n",
       "    VAV WITH PFP BOXES AND REHEAT:DesPer 5:Des Cool Mass Flow [kg/s]  \\\n",
       "0                                            1.355793                  \n",
       "1                                            1.355793                  \n",
       "2                                            1.355793                  \n",
       "3                                            1.355793                  \n",
       "4                                            1.355793                  \n",
       "..                                                ...                  \n",
       "93                                           1.355793                  \n",
       "94                                           1.355793                  \n",
       "95                                           1.355793                  \n",
       "96                                                NaN                  \n",
       "97                                                NaN                  \n",
       "\n",
       "    VAV WITH PFP BOXES AND REHEAT:DesPer 5:Des Sens Cool Cap [W]  \\\n",
       "0                                                 0.0              \n",
       "1                                                 0.0              \n",
       "2                                                 0.0              \n",
       "3                                                 0.0              \n",
       "4                                                 0.0              \n",
       "..                                                ...              \n",
       "93                                                0.0              \n",
       "94                                                0.0              \n",
       "95                                                0.0              \n",
       "96                                                NaN              \n",
       "97                                                NaN              \n",
       "\n",
       "    VAV WITH PFP BOXES AND REHEAT:DesPer 5:Des Tot Cool Cap [W]  \\\n",
       "0                                                 0.0             \n",
       "1                                                 0.0             \n",
       "2                                                 0.0             \n",
       "3                                                 0.0             \n",
       "4                                                 0.0             \n",
       "..                                                ...             \n",
       "93                                                0.0             \n",
       "94                                                0.0             \n",
       "95                                                0.0             \n",
       "96                                                NaN             \n",
       "97                                                NaN             \n",
       "\n",
       "    VAV WITH PFP BOXES AND REHEAT:DesPer 6:Des Heat Mass Flow [kg/s]  \\\n",
       "0                                            1.651020                  \n",
       "1                                            1.651023                  \n",
       "2                                            1.651025                  \n",
       "3                                            1.651027                  \n",
       "4                                            1.651037                  \n",
       "..                                                ...                  \n",
       "93                                           1.650993                  \n",
       "94                                           1.651005                  \n",
       "95                                           1.651017                  \n",
       "96                                                NaN                  \n",
       "97                                                NaN                  \n",
       "\n",
       "    VAV WITH PFP BOXES AND REHEAT:DesPer 6:Des Heat Cap [W]  \\\n",
       "0                                            7465.688         \n",
       "1                                            7465.700         \n",
       "2                                            7465.711         \n",
       "3                                            7465.720         \n",
       "4                                            7465.762         \n",
       "..                                                ...         \n",
       "93                                           7465.565         \n",
       "94                                           7465.621         \n",
       "95                                           7465.673         \n",
       "96                                                NaN         \n",
       "97                                                NaN         \n",
       "\n",
       "    VAV WITH PFP BOXES AND REHEAT:DesPer 6:Des Cool Mass Flow [kg/s]  \\\n",
       "0                                            1.355793                  \n",
       "1                                            1.355793                  \n",
       "2                                            1.355793                  \n",
       "3                                            1.355793                  \n",
       "4                                            1.355793                  \n",
       "..                                                ...                  \n",
       "93                                           1.355793                  \n",
       "94                                           1.355793                  \n",
       "95                                           1.355793                  \n",
       "96                                                NaN                  \n",
       "97                                                NaN                  \n",
       "\n",
       "    VAV WITH PFP BOXES AND REHEAT:DesPer 6:Des Sens Cool Cap [W]  \\\n",
       "0                                                 0.0              \n",
       "1                                                 0.0              \n",
       "2                                                 0.0              \n",
       "3                                                 0.0              \n",
       "4                                                 0.0              \n",
       "..                                                ...              \n",
       "93                                                0.0              \n",
       "94                                                0.0              \n",
       "95                                                0.0              \n",
       "96                                                NaN              \n",
       "97                                                NaN              \n",
       "\n",
       "    VAV WITH PFP BOXES AND REHEAT:DesPer 6:Des Tot Cool Cap [W]  \n",
       "0                                                 0.0            \n",
       "1                                                 0.0            \n",
       "2                                                 0.0            \n",
       "3                                                 0.0            \n",
       "4                                                 0.0            \n",
       "..                                                ...            \n",
       "93                                                0.0            \n",
       "94                                                0.0            \n",
       "95                                                0.0            \n",
       "96                                                NaN            \n",
       "97                                                NaN            \n",
       "\n",
       "[98 rows x 31 columns]"
      ]
     },
     "execution_count": 184,
     "metadata": {},
     "output_type": "execute_result"
    }
   ],
   "source": [
    "hvacFile = os.path.join(new_dir_name, \"eplusssz.csv\")\n",
    "hvac_sizing = pd.read_csv(hvacFile)\n",
    "hvac_sizing"
   ]
  },
  {
   "cell_type": "code",
   "execution_count": null,
   "metadata": {},
   "outputs": [
    {
     "data": {
      "text/plain": [
       "Index(['Time',\n",
       "       'VAV WITH PFP BOXES AND REHEAT:DesPer 1:Des Heat Mass Flow [kg/s]',\n",
       "       'VAV WITH PFP BOXES AND REHEAT:DesPer 1:Des Heat Cap [W]',\n",
       "       'VAV WITH PFP BOXES AND REHEAT:DesPer 1:Des Cool Mass Flow [kg/s]',\n",
       "       'VAV WITH PFP BOXES AND REHEAT:DesPer 1:Des Sens Cool Cap [W]',\n",
       "       'VAV WITH PFP BOXES AND REHEAT:DesPer 1:Des Tot Cool Cap [W]',\n",
       "       'VAV WITH PFP BOXES AND REHEAT:DesPer 2:Des Heat Mass Flow [kg/s]',\n",
       "       'VAV WITH PFP BOXES AND REHEAT:DesPer 2:Des Heat Cap [W]',\n",
       "       'VAV WITH PFP BOXES AND REHEAT:DesPer 2:Des Cool Mass Flow [kg/s]',\n",
       "       'VAV WITH PFP BOXES AND REHEAT:DesPer 2:Des Sens Cool Cap [W]',\n",
       "       'VAV WITH PFP BOXES AND REHEAT:DesPer 2:Des Tot Cool Cap [W]',\n",
       "       'VAV WITH PFP BOXES AND REHEAT:DesPer 3:Des Heat Mass Flow [kg/s]',\n",
       "       'VAV WITH PFP BOXES AND REHEAT:DesPer 3:Des Heat Cap [W]',\n",
       "       'VAV WITH PFP BOXES AND REHEAT:DesPer 3:Des Cool Mass Flow [kg/s]',\n",
       "       'VAV WITH PFP BOXES AND REHEAT:DesPer 3:Des Sens Cool Cap [W]',\n",
       "       'VAV WITH PFP BOXES AND REHEAT:DesPer 3:Des Tot Cool Cap [W]',\n",
       "       'VAV WITH PFP BOXES AND REHEAT:DesPer 4:Des Heat Mass Flow [kg/s]',\n",
       "       'VAV WITH PFP BOXES AND REHEAT:DesPer 4:Des Heat Cap [W]',\n",
       "       'VAV WITH PFP BOXES AND REHEAT:DesPer 4:Des Cool Mass Flow [kg/s]',\n",
       "       'VAV WITH PFP BOXES AND REHEAT:DesPer 4:Des Sens Cool Cap [W]',\n",
       "       'VAV WITH PFP BOXES AND REHEAT:DesPer 4:Des Tot Cool Cap [W]',\n",
       "       'VAV WITH PFP BOXES AND REHEAT:DesPer 5:Des Heat Mass Flow [kg/s]',\n",
       "       'VAV WITH PFP BOXES AND REHEAT:DesPer 5:Des Heat Cap [W]',\n",
       "       'VAV WITH PFP BOXES AND REHEAT:DesPer 5:Des Cool Mass Flow [kg/s]',\n",
       "       'VAV WITH PFP BOXES AND REHEAT:DesPer 5:Des Sens Cool Cap [W]',\n",
       "       'VAV WITH PFP BOXES AND REHEAT:DesPer 5:Des Tot Cool Cap [W]',\n",
       "       'VAV WITH PFP BOXES AND REHEAT:DesPer 6:Des Heat Mass Flow [kg/s]',\n",
       "       'VAV WITH PFP BOXES AND REHEAT:DesPer 6:Des Heat Cap [W]',\n",
       "       'VAV WITH PFP BOXES AND REHEAT:DesPer 6:Des Cool Mass Flow [kg/s]',\n",
       "       'VAV WITH PFP BOXES AND REHEAT:DesPer 6:Des Sens Cool Cap [W]',\n",
       "       'VAV WITH PFP BOXES AND REHEAT:DesPer 6:Des Tot Cool Cap [W]'],\n",
       "      dtype='object')"
      ]
     },
     "execution_count": 185,
     "metadata": {},
     "output_type": "execute_result"
    }
   ],
   "source": [
    "hvac_sizing.columns"
   ]
  },
  {
   "cell_type": "code",
   "execution_count": null,
   "metadata": {},
   "outputs": [
    {
     "data": {
      "application/vnd.plotly.v1+json": {
       "config": {
        "plotlyServerURL": "https://plot.ly"
       },
       "data": [
        {
         "mode": "lines+markers",
         "name": "Cooling Period 1",
         "type": "scatter",
         "x": [
          "00:15:00",
          "00:30:00",
          "00:45:00",
          "01:00:00",
          "01:15:00",
          "01:30:00",
          "01:45:00",
          "02:00:00",
          "02:15:00",
          "02:30:00",
          "02:45:00",
          "03:00:00",
          "03:15:00",
          "03:30:00",
          "03:45:00",
          "04:00:00",
          "04:15:00",
          "04:30:00",
          "04:45:00",
          "05:00:00",
          "05:15:00",
          "05:30:00",
          "05:45:00",
          "06:00:00",
          "06:15:00",
          "06:30:00",
          "06:45:00",
          "07:00:00",
          "07:15:00",
          "07:30:00",
          "07:45:00",
          "08:00:00",
          "08:15:00",
          "08:30:00",
          "08:45:00",
          "09:00:00",
          "09:15:00",
          "09:30:00",
          "09:45:00",
          "10:00:00",
          "10:15:00",
          "10:30:00",
          "10:45:00",
          "11:00:00",
          "11:15:00",
          "11:30:00",
          "11:45:00",
          "12:00:00",
          "12:15:00",
          "12:30:00",
          "12:45:00",
          "13:00:00",
          "13:15:00",
          "13:30:00",
          "13:45:00",
          "14:00:00",
          "14:15:00",
          "14:30:00",
          "14:45:00",
          "15:00:00",
          "15:15:00",
          "15:30:00",
          "15:45:00",
          "16:00:00",
          "16:15:00",
          "16:30:00",
          "16:45:00",
          "17:00:00",
          "17:15:00",
          "17:30:00",
          "17:45:00",
          "18:00:00",
          "18:15:00",
          "18:30:00",
          "18:45:00",
          "19:00:00",
          "19:15:00",
          "19:30:00",
          "19:45:00",
          "20:00:00",
          "20:15:00",
          "20:30:00",
          "20:45:00",
          "21:00:00",
          "21:15:00",
          "21:30:00",
          "21:45:00",
          "22:00:00",
          "22:15:00",
          "22:30:00",
          "22:45:00",
          "23:00:00",
          "23:15:00",
          "23:30:00",
          "23:45:00",
          "24:00:00",
          "Coinc Peak   ",
          "NonCoinc Peak"
         ],
         "y": [
          30568.65,
          30365.99,
          30148.21,
          29919.27,
          29780,
          29636.77,
          29490.87,
          29343.43,
          29231.41,
          29117.36,
          29001.93,
          28885.46,
          28766.39,
          28644.99,
          28521.61,
          28396.52,
          28310.12,
          28224.35,
          28139.39,
          28055.44,
          28130.35,
          28212.98,
          28303.74,
          28402.62,
          34878.87,
          42739.51,
          55365.44,
          68093.59,
          65751.52,
          66708.95,
          67830.89,
          69034.22,
          70447.5,
          71896.81,
          73377.3,
          74886.94,
          76254.7,
          77642.17,
          79047.85,
          80470.29,
          81744.55,
          83032.64,
          84333.6,
          85646.56,
          86555.29,
          87467.68,
          88381.99,
          89296.89,
          90051.71,
          90809.97,
          91570.91,
          92333.93,
          92848.12,
          93360.4,
          93870.08,
          94376.64,
          94459.28,
          94531.8,
          94593.68,
          94644.32,
          94182.37,
          93706.36,
          93215.21,
          92708.64,
          92027.25,
          91337.6,
          90639.62,
          89933.26,
          89052.03,
          88162.64,
          87265.02,
          86359.43,
          85027.3,
          83683.34,
          82327.95,
          80961.36,
          79927.66,
          78897.71,
          77872,
          76851.16,
          75996.37,
          75143.72,
          74293.36,
          73445.81,
          72598.16,
          71750.84,
          70903.97,
          70057.93,
          53753.1,
          39876.08,
          32875.82,
          28953.08,
          31032.42,
          31027.76,
          30916.38,
          30749.81,
          null,
          null
         ]
        },
        {
         "mode": "lines+markers",
         "name": "Cooling Period 2",
         "type": "scatter",
         "x": [
          "00:15:00",
          "00:30:00",
          "00:45:00",
          "01:00:00",
          "01:15:00",
          "01:30:00",
          "01:45:00",
          "02:00:00",
          "02:15:00",
          "02:30:00",
          "02:45:00",
          "03:00:00",
          "03:15:00",
          "03:30:00",
          "03:45:00",
          "04:00:00",
          "04:15:00",
          "04:30:00",
          "04:45:00",
          "05:00:00",
          "05:15:00",
          "05:30:00",
          "05:45:00",
          "06:00:00",
          "06:15:00",
          "06:30:00",
          "06:45:00",
          "07:00:00",
          "07:15:00",
          "07:30:00",
          "07:45:00",
          "08:00:00",
          "08:15:00",
          "08:30:00",
          "08:45:00",
          "09:00:00",
          "09:15:00",
          "09:30:00",
          "09:45:00",
          "10:00:00",
          "10:15:00",
          "10:30:00",
          "10:45:00",
          "11:00:00",
          "11:15:00",
          "11:30:00",
          "11:45:00",
          "12:00:00",
          "12:15:00",
          "12:30:00",
          "12:45:00",
          "13:00:00",
          "13:15:00",
          "13:30:00",
          "13:45:00",
          "14:00:00",
          "14:15:00",
          "14:30:00",
          "14:45:00",
          "15:00:00",
          "15:15:00",
          "15:30:00",
          "15:45:00",
          "16:00:00",
          "16:15:00",
          "16:30:00",
          "16:45:00",
          "17:00:00",
          "17:15:00",
          "17:30:00",
          "17:45:00",
          "18:00:00",
          "18:15:00",
          "18:30:00",
          "18:45:00",
          "19:00:00",
          "19:15:00",
          "19:30:00",
          "19:45:00",
          "20:00:00",
          "20:15:00",
          "20:30:00",
          "20:45:00",
          "21:00:00",
          "21:15:00",
          "21:30:00",
          "21:45:00",
          "22:00:00",
          "22:15:00",
          "22:30:00",
          "22:45:00",
          "23:00:00",
          "23:15:00",
          "23:30:00",
          "23:45:00",
          "24:00:00",
          "Coinc Peak   ",
          "NonCoinc Peak"
         ],
         "y": [
          27333.02,
          27229.34,
          26876.14,
          26391.93,
          26082.36,
          25766.66,
          25446.56,
          25123.53,
          24882.39,
          24638.59,
          24392.84,
          24145.72,
          23896.41,
          23645.29,
          23392.69,
          23138.85,
          22969.25,
          22799.79,
          22630.65,
          22462.05,
          22631.64,
          22806.03,
          22985.65,
          23170.39,
          29848.66,
          37692.88,
          52844.28,
          68596.09,
          68495.65,
          70132.79,
          71129.38,
          72180.9,
          73418.39,
          74691.66,
          75996.98,
          77332.1,
          78545.58,
          79778.45,
          81029.29,
          82297,
          83437.39,
          84591.84,
          85759.01,
          86937.78,
          87762.98,
          88590.44,
          89418.49,
          90245.68,
          90932.54,
          91622.22,
          92314.85,
          93009.5,
          93485.03,
          93957.26,
          94424.97,
          94887.52,
          94977.56,
          95057.07,
          95125.07,
          95180.8,
          94783.83,
          94370.57,
          93940.36,
          93492.59,
          92889.21,
          92276.1,
          91653.18,
          91020.34,
          90231.66,
          89432.89,
          88624.18,
          87805.66,
          86609.55,
          85398.7,
          84173.26,
          82933.36,
          81984.37,
          81038.84,
          80097.25,
          79160.49,
          78368.44,
          77578.03,
          76789.58,
          76003.51,
          75216.53,
          74428.82,
          73640.83,
          72852.72,
          54780.01,
          37725.32,
          29730.52,
          26484.14,
          27312.13,
          27444.51,
          27461.31,
          27409.44,
          null,
          null
         ]
        },
        {
         "mode": "lines+markers",
         "name": "Cooling Period 3",
         "type": "scatter",
         "x": [
          "00:15:00",
          "00:30:00",
          "00:45:00",
          "01:00:00",
          "01:15:00",
          "01:30:00",
          "01:45:00",
          "02:00:00",
          "02:15:00",
          "02:30:00",
          "02:45:00",
          "03:00:00",
          "03:15:00",
          "03:30:00",
          "03:45:00",
          "04:00:00",
          "04:15:00",
          "04:30:00",
          "04:45:00",
          "05:00:00",
          "05:15:00",
          "05:30:00",
          "05:45:00",
          "06:00:00",
          "06:15:00",
          "06:30:00",
          "06:45:00",
          "07:00:00",
          "07:15:00",
          "07:30:00",
          "07:45:00",
          "08:00:00",
          "08:15:00",
          "08:30:00",
          "08:45:00",
          "09:00:00",
          "09:15:00",
          "09:30:00",
          "09:45:00",
          "10:00:00",
          "10:15:00",
          "10:30:00",
          "10:45:00",
          "11:00:00",
          "11:15:00",
          "11:30:00",
          "11:45:00",
          "12:00:00",
          "12:15:00",
          "12:30:00",
          "12:45:00",
          "13:00:00",
          "13:15:00",
          "13:30:00",
          "13:45:00",
          "14:00:00",
          "14:15:00",
          "14:30:00",
          "14:45:00",
          "15:00:00",
          "15:15:00",
          "15:30:00",
          "15:45:00",
          "16:00:00",
          "16:15:00",
          "16:30:00",
          "16:45:00",
          "17:00:00",
          "17:15:00",
          "17:30:00",
          "17:45:00",
          "18:00:00",
          "18:15:00",
          "18:30:00",
          "18:45:00",
          "19:00:00",
          "19:15:00",
          "19:30:00",
          "19:45:00",
          "20:00:00",
          "20:15:00",
          "20:30:00",
          "20:45:00",
          "21:00:00",
          "21:15:00",
          "21:30:00",
          "21:45:00",
          "22:00:00",
          "22:15:00",
          "22:30:00",
          "22:45:00",
          "23:00:00",
          "23:15:00",
          "23:30:00",
          "23:45:00",
          "24:00:00",
          "Coinc Peak   ",
          "NonCoinc Peak"
         ],
         "y": [
          36808.78,
          36694.68,
          36549.36,
          36381.33,
          36291.17,
          36191.47,
          36084.93,
          35973.75,
          35889,
          35799.48,
          35706.45,
          35610.67,
          35509.86,
          35404.66,
          35295.68,
          35183.52,
          35104.44,
          35025.96,
          34948.43,
          34872.15,
          34936.13,
          35011.93,
          35100.32,
          35201.13,
          45158.26,
          55416.18,
          73468.86,
          91600.08,
          87620.57,
          88344.78,
          89343.49,
          90451.83,
          91775.31,
          93144.5,
          94550.24,
          95987.25,
          97289.96,
          98609.05,
          99944.55,
          101296.5,
          102512.6,
          103744.9,
          104991,
          106249.4,
          107127.1,
          108007.2,
          108888.3,
          109768.4,
          110498,
          111230.4,
          111965.1,
          112701.4,
          113203.2,
          113702.4,
          114198.2,
          114690,
          114781.8,
          114862,
          114929.9,
          114985,
          114556.4,
          114111.4,
          113649.4,
          113169.4,
          112524.1,
          111869.6,
          111205.5,
          110531.8,
          109692.3,
          108843.2,
          107984.7,
          107116.8,
          105845.8,
          104560.8,
          103262.5,
          101951.3,
          100954.2,
          99962.31,
          98976.68,
          97998.11,
          97177.18,
          96358.49,
          95541.12,
          94724.62,
          93905.42,
          93085.06,
          92264.22,
          91443.7,
          69953.99,
          50286.83,
          40662.54,
          35165.51,
          36454.12,
          36781.39,
          36886.8,
          36878.62,
          null,
          null
         ]
        },
        {
         "mode": "lines+markers",
         "name": "Cooling Period 4",
         "type": "scatter",
         "x": [
          "00:15:00",
          "00:30:00",
          "00:45:00",
          "01:00:00",
          "01:15:00",
          "01:30:00",
          "01:45:00",
          "02:00:00",
          "02:15:00",
          "02:30:00",
          "02:45:00",
          "03:00:00",
          "03:15:00",
          "03:30:00",
          "03:45:00",
          "04:00:00",
          "04:15:00",
          "04:30:00",
          "04:45:00",
          "05:00:00",
          "05:15:00",
          "05:30:00",
          "05:45:00",
          "06:00:00",
          "06:15:00",
          "06:30:00",
          "06:45:00",
          "07:00:00",
          "07:15:00",
          "07:30:00",
          "07:45:00",
          "08:00:00",
          "08:15:00",
          "08:30:00",
          "08:45:00",
          "09:00:00",
          "09:15:00",
          "09:30:00",
          "09:45:00",
          "10:00:00",
          "10:15:00",
          "10:30:00",
          "10:45:00",
          "11:00:00",
          "11:15:00",
          "11:30:00",
          "11:45:00",
          "12:00:00",
          "12:15:00",
          "12:30:00",
          "12:45:00",
          "13:00:00",
          "13:15:00",
          "13:30:00",
          "13:45:00",
          "14:00:00",
          "14:15:00",
          "14:30:00",
          "14:45:00",
          "15:00:00",
          "15:15:00",
          "15:30:00",
          "15:45:00",
          "16:00:00",
          "16:15:00",
          "16:30:00",
          "16:45:00",
          "17:00:00",
          "17:15:00",
          "17:30:00",
          "17:45:00",
          "18:00:00",
          "18:15:00",
          "18:30:00",
          "18:45:00",
          "19:00:00",
          "19:15:00",
          "19:30:00",
          "19:45:00",
          "20:00:00",
          "20:15:00",
          "20:30:00",
          "20:45:00",
          "21:00:00",
          "21:15:00",
          "21:30:00",
          "21:45:00",
          "22:00:00",
          "22:15:00",
          "22:30:00",
          "22:45:00",
          "23:00:00",
          "23:15:00",
          "23:30:00",
          "23:45:00",
          "24:00:00",
          "Coinc Peak   ",
          "NonCoinc Peak"
         ],
         "y": [
          35444.47,
          35333.66,
          35191.78,
          35027.26,
          34939.28,
          34841.69,
          34737.22,
          34628.02,
          34544.93,
          34457.12,
          34365.75,
          34271.62,
          34172.5,
          34069.04,
          33961.84,
          33851.51,
          33773.91,
          33696.86,
          33620.71,
          33545.74,
          33609.58,
          33684.91,
          33772.45,
          33872.07,
          43567.75,
          53489.72,
          71025.63,
          88646.2,
          84828.42,
          85575.65,
          86585.59,
          87701.75,
          89030.71,
          90404.03,
          91813,
          93252.72,
          94559.37,
          95881.01,
          97216.1,
          98564.81,
          99774.58,
          100999.2,
          102237.9,
          103488.7,
          104359.7,
          105232.8,
          106106.6,
          106979.4,
          107701.9,
          108427.2,
          109154.6,
          109883.6,
          110378.9,
          110871.6,
          111361.2,
          111847,
          111934.4,
          112010.7,
          112075.2,
          112127.3,
          111697.9,
          111252.8,
          110791.2,
          110312.4,
          109669.2,
          109017.1,
          108355.9,
          107685.6,
          106850.4,
          106006.1,
          105152.8,
          104290.6,
          103027.2,
          101750.8,
          100461.9,
          99161.08,
          98173.79,
          97192.32,
          96217.95,
          95249.89,
          94437.07,
          93624.75,
          92812.36,
          92000.65,
          91187.96,
          90375,
          89562.43,
          88751.12,
          67996.88,
          48811.04,
          39425.29,
          34116.91,
          35080.81,
          35409.48,
          35516.92,
          35511.2,
          null,
          null
         ]
        },
        {
         "mode": "lines+markers",
         "name": "Cooling Period 5",
         "type": "scatter",
         "x": [
          "00:15:00",
          "00:30:00",
          "00:45:00",
          "01:00:00",
          "01:15:00",
          "01:30:00",
          "01:45:00",
          "02:00:00",
          "02:15:00",
          "02:30:00",
          "02:45:00",
          "03:00:00",
          "03:15:00",
          "03:30:00",
          "03:45:00",
          "04:00:00",
          "04:15:00",
          "04:30:00",
          "04:45:00",
          "05:00:00",
          "05:15:00",
          "05:30:00",
          "05:45:00",
          "06:00:00",
          "06:15:00",
          "06:30:00",
          "06:45:00",
          "07:00:00",
          "07:15:00",
          "07:30:00",
          "07:45:00",
          "08:00:00",
          "08:15:00",
          "08:30:00",
          "08:45:00",
          "09:00:00",
          "09:15:00",
          "09:30:00",
          "09:45:00",
          "10:00:00",
          "10:15:00",
          "10:30:00",
          "10:45:00",
          "11:00:00",
          "11:15:00",
          "11:30:00",
          "11:45:00",
          "12:00:00",
          "12:15:00",
          "12:30:00",
          "12:45:00",
          "13:00:00",
          "13:15:00",
          "13:30:00",
          "13:45:00",
          "14:00:00",
          "14:15:00",
          "14:30:00",
          "14:45:00",
          "15:00:00",
          "15:15:00",
          "15:30:00",
          "15:45:00",
          "16:00:00",
          "16:15:00",
          "16:30:00",
          "16:45:00",
          "17:00:00",
          "17:15:00",
          "17:30:00",
          "17:45:00",
          "18:00:00",
          "18:15:00",
          "18:30:00",
          "18:45:00",
          "19:00:00",
          "19:15:00",
          "19:30:00",
          "19:45:00",
          "20:00:00",
          "20:15:00",
          "20:30:00",
          "20:45:00",
          "21:00:00",
          "21:15:00",
          "21:30:00",
          "21:45:00",
          "22:00:00",
          "22:15:00",
          "22:30:00",
          "22:45:00",
          "23:00:00",
          "23:15:00",
          "23:30:00",
          "23:45:00",
          "24:00:00",
          "Coinc Peak   ",
          "NonCoinc Peak"
         ],
         "y": [
          0,
          0,
          0,
          0,
          0,
          0,
          0,
          0,
          0,
          0,
          0,
          0,
          0,
          0,
          0,
          0,
          0,
          0,
          0,
          0,
          0,
          0,
          0,
          0,
          0,
          0,
          0,
          0,
          0,
          0,
          0,
          0,
          0,
          0,
          0,
          0,
          0,
          0,
          0,
          0,
          0,
          0,
          0,
          0,
          0,
          0,
          0,
          0,
          0,
          0,
          0,
          0,
          0,
          0,
          0,
          0,
          0,
          0,
          0,
          0,
          0,
          0,
          0,
          0,
          0,
          0,
          0,
          0,
          0,
          0,
          0,
          0,
          0,
          0,
          0,
          0,
          0,
          0,
          0,
          0,
          0,
          0,
          0,
          0,
          0,
          0,
          0,
          0,
          0,
          0,
          0,
          0,
          0,
          0,
          0,
          0,
          null,
          null
         ]
        },
        {
         "mode": "lines+markers",
         "name": "Cooling Period 6",
         "type": "scatter",
         "x": [
          "00:15:00",
          "00:30:00",
          "00:45:00",
          "01:00:00",
          "01:15:00",
          "01:30:00",
          "01:45:00",
          "02:00:00",
          "02:15:00",
          "02:30:00",
          "02:45:00",
          "03:00:00",
          "03:15:00",
          "03:30:00",
          "03:45:00",
          "04:00:00",
          "04:15:00",
          "04:30:00",
          "04:45:00",
          "05:00:00",
          "05:15:00",
          "05:30:00",
          "05:45:00",
          "06:00:00",
          "06:15:00",
          "06:30:00",
          "06:45:00",
          "07:00:00",
          "07:15:00",
          "07:30:00",
          "07:45:00",
          "08:00:00",
          "08:15:00",
          "08:30:00",
          "08:45:00",
          "09:00:00",
          "09:15:00",
          "09:30:00",
          "09:45:00",
          "10:00:00",
          "10:15:00",
          "10:30:00",
          "10:45:00",
          "11:00:00",
          "11:15:00",
          "11:30:00",
          "11:45:00",
          "12:00:00",
          "12:15:00",
          "12:30:00",
          "12:45:00",
          "13:00:00",
          "13:15:00",
          "13:30:00",
          "13:45:00",
          "14:00:00",
          "14:15:00",
          "14:30:00",
          "14:45:00",
          "15:00:00",
          "15:15:00",
          "15:30:00",
          "15:45:00",
          "16:00:00",
          "16:15:00",
          "16:30:00",
          "16:45:00",
          "17:00:00",
          "17:15:00",
          "17:30:00",
          "17:45:00",
          "18:00:00",
          "18:15:00",
          "18:30:00",
          "18:45:00",
          "19:00:00",
          "19:15:00",
          "19:30:00",
          "19:45:00",
          "20:00:00",
          "20:15:00",
          "20:30:00",
          "20:45:00",
          "21:00:00",
          "21:15:00",
          "21:30:00",
          "21:45:00",
          "22:00:00",
          "22:15:00",
          "22:30:00",
          "22:45:00",
          "23:00:00",
          "23:15:00",
          "23:30:00",
          "23:45:00",
          "24:00:00",
          "Coinc Peak   ",
          "NonCoinc Peak"
         ],
         "y": [
          0,
          0,
          0,
          0,
          0,
          0,
          0,
          0,
          0,
          0,
          0,
          0,
          0,
          0,
          0,
          0,
          0,
          0,
          0,
          0,
          0,
          0,
          0,
          0,
          0,
          0,
          0,
          0,
          0,
          0,
          0,
          0,
          0,
          0,
          0,
          0,
          0,
          0,
          0,
          0,
          0,
          0,
          0,
          0,
          0,
          0,
          0,
          0,
          0,
          0,
          0,
          0,
          0,
          0,
          0,
          0,
          0,
          0,
          0,
          0,
          0,
          0,
          0,
          0,
          0,
          0,
          0,
          0,
          0,
          0,
          0,
          0,
          0,
          0,
          0,
          0,
          0,
          0,
          0,
          0,
          0,
          0,
          0,
          0,
          0,
          0,
          0,
          0,
          0,
          0,
          0,
          0,
          0,
          0,
          0,
          0,
          null,
          null
         ]
        }
       ],
       "layout": {
        "template": {
         "data": {
          "bar": [
           {
            "error_x": {
             "color": "#2a3f5f"
            },
            "error_y": {
             "color": "#2a3f5f"
            },
            "marker": {
             "line": {
              "color": "#E5ECF6",
              "width": 0.5
             },
             "pattern": {
              "fillmode": "overlay",
              "size": 10,
              "solidity": 0.2
             }
            },
            "type": "bar"
           }
          ],
          "barpolar": [
           {
            "marker": {
             "line": {
              "color": "#E5ECF6",
              "width": 0.5
             },
             "pattern": {
              "fillmode": "overlay",
              "size": 10,
              "solidity": 0.2
             }
            },
            "type": "barpolar"
           }
          ],
          "carpet": [
           {
            "aaxis": {
             "endlinecolor": "#2a3f5f",
             "gridcolor": "white",
             "linecolor": "white",
             "minorgridcolor": "white",
             "startlinecolor": "#2a3f5f"
            },
            "baxis": {
             "endlinecolor": "#2a3f5f",
             "gridcolor": "white",
             "linecolor": "white",
             "minorgridcolor": "white",
             "startlinecolor": "#2a3f5f"
            },
            "type": "carpet"
           }
          ],
          "choropleth": [
           {
            "colorbar": {
             "outlinewidth": 0,
             "ticks": ""
            },
            "type": "choropleth"
           }
          ],
          "contour": [
           {
            "colorbar": {
             "outlinewidth": 0,
             "ticks": ""
            },
            "colorscale": [
             [
              0,
              "#0d0887"
             ],
             [
              0.1111111111111111,
              "#46039f"
             ],
             [
              0.2222222222222222,
              "#7201a8"
             ],
             [
              0.3333333333333333,
              "#9c179e"
             ],
             [
              0.4444444444444444,
              "#bd3786"
             ],
             [
              0.5555555555555556,
              "#d8576b"
             ],
             [
              0.6666666666666666,
              "#ed7953"
             ],
             [
              0.7777777777777778,
              "#fb9f3a"
             ],
             [
              0.8888888888888888,
              "#fdca26"
             ],
             [
              1,
              "#f0f921"
             ]
            ],
            "type": "contour"
           }
          ],
          "contourcarpet": [
           {
            "colorbar": {
             "outlinewidth": 0,
             "ticks": ""
            },
            "type": "contourcarpet"
           }
          ],
          "heatmap": [
           {
            "colorbar": {
             "outlinewidth": 0,
             "ticks": ""
            },
            "colorscale": [
             [
              0,
              "#0d0887"
             ],
             [
              0.1111111111111111,
              "#46039f"
             ],
             [
              0.2222222222222222,
              "#7201a8"
             ],
             [
              0.3333333333333333,
              "#9c179e"
             ],
             [
              0.4444444444444444,
              "#bd3786"
             ],
             [
              0.5555555555555556,
              "#d8576b"
             ],
             [
              0.6666666666666666,
              "#ed7953"
             ],
             [
              0.7777777777777778,
              "#fb9f3a"
             ],
             [
              0.8888888888888888,
              "#fdca26"
             ],
             [
              1,
              "#f0f921"
             ]
            ],
            "type": "heatmap"
           }
          ],
          "heatmapgl": [
           {
            "colorbar": {
             "outlinewidth": 0,
             "ticks": ""
            },
            "colorscale": [
             [
              0,
              "#0d0887"
             ],
             [
              0.1111111111111111,
              "#46039f"
             ],
             [
              0.2222222222222222,
              "#7201a8"
             ],
             [
              0.3333333333333333,
              "#9c179e"
             ],
             [
              0.4444444444444444,
              "#bd3786"
             ],
             [
              0.5555555555555556,
              "#d8576b"
             ],
             [
              0.6666666666666666,
              "#ed7953"
             ],
             [
              0.7777777777777778,
              "#fb9f3a"
             ],
             [
              0.8888888888888888,
              "#fdca26"
             ],
             [
              1,
              "#f0f921"
             ]
            ],
            "type": "heatmapgl"
           }
          ],
          "histogram": [
           {
            "marker": {
             "pattern": {
              "fillmode": "overlay",
              "size": 10,
              "solidity": 0.2
             }
            },
            "type": "histogram"
           }
          ],
          "histogram2d": [
           {
            "colorbar": {
             "outlinewidth": 0,
             "ticks": ""
            },
            "colorscale": [
             [
              0,
              "#0d0887"
             ],
             [
              0.1111111111111111,
              "#46039f"
             ],
             [
              0.2222222222222222,
              "#7201a8"
             ],
             [
              0.3333333333333333,
              "#9c179e"
             ],
             [
              0.4444444444444444,
              "#bd3786"
             ],
             [
              0.5555555555555556,
              "#d8576b"
             ],
             [
              0.6666666666666666,
              "#ed7953"
             ],
             [
              0.7777777777777778,
              "#fb9f3a"
             ],
             [
              0.8888888888888888,
              "#fdca26"
             ],
             [
              1,
              "#f0f921"
             ]
            ],
            "type": "histogram2d"
           }
          ],
          "histogram2dcontour": [
           {
            "colorbar": {
             "outlinewidth": 0,
             "ticks": ""
            },
            "colorscale": [
             [
              0,
              "#0d0887"
             ],
             [
              0.1111111111111111,
              "#46039f"
             ],
             [
              0.2222222222222222,
              "#7201a8"
             ],
             [
              0.3333333333333333,
              "#9c179e"
             ],
             [
              0.4444444444444444,
              "#bd3786"
             ],
             [
              0.5555555555555556,
              "#d8576b"
             ],
             [
              0.6666666666666666,
              "#ed7953"
             ],
             [
              0.7777777777777778,
              "#fb9f3a"
             ],
             [
              0.8888888888888888,
              "#fdca26"
             ],
             [
              1,
              "#f0f921"
             ]
            ],
            "type": "histogram2dcontour"
           }
          ],
          "mesh3d": [
           {
            "colorbar": {
             "outlinewidth": 0,
             "ticks": ""
            },
            "type": "mesh3d"
           }
          ],
          "parcoords": [
           {
            "line": {
             "colorbar": {
              "outlinewidth": 0,
              "ticks": ""
             }
            },
            "type": "parcoords"
           }
          ],
          "pie": [
           {
            "automargin": true,
            "type": "pie"
           }
          ],
          "scatter": [
           {
            "marker": {
             "colorbar": {
              "outlinewidth": 0,
              "ticks": ""
             }
            },
            "type": "scatter"
           }
          ],
          "scatter3d": [
           {
            "line": {
             "colorbar": {
              "outlinewidth": 0,
              "ticks": ""
             }
            },
            "marker": {
             "colorbar": {
              "outlinewidth": 0,
              "ticks": ""
             }
            },
            "type": "scatter3d"
           }
          ],
          "scattercarpet": [
           {
            "marker": {
             "colorbar": {
              "outlinewidth": 0,
              "ticks": ""
             }
            },
            "type": "scattercarpet"
           }
          ],
          "scattergeo": [
           {
            "marker": {
             "colorbar": {
              "outlinewidth": 0,
              "ticks": ""
             }
            },
            "type": "scattergeo"
           }
          ],
          "scattergl": [
           {
            "marker": {
             "colorbar": {
              "outlinewidth": 0,
              "ticks": ""
             }
            },
            "type": "scattergl"
           }
          ],
          "scattermapbox": [
           {
            "marker": {
             "colorbar": {
              "outlinewidth": 0,
              "ticks": ""
             }
            },
            "type": "scattermapbox"
           }
          ],
          "scatterpolar": [
           {
            "marker": {
             "colorbar": {
              "outlinewidth": 0,
              "ticks": ""
             }
            },
            "type": "scatterpolar"
           }
          ],
          "scatterpolargl": [
           {
            "marker": {
             "colorbar": {
              "outlinewidth": 0,
              "ticks": ""
             }
            },
            "type": "scatterpolargl"
           }
          ],
          "scatterternary": [
           {
            "marker": {
             "colorbar": {
              "outlinewidth": 0,
              "ticks": ""
             }
            },
            "type": "scatterternary"
           }
          ],
          "surface": [
           {
            "colorbar": {
             "outlinewidth": 0,
             "ticks": ""
            },
            "colorscale": [
             [
              0,
              "#0d0887"
             ],
             [
              0.1111111111111111,
              "#46039f"
             ],
             [
              0.2222222222222222,
              "#7201a8"
             ],
             [
              0.3333333333333333,
              "#9c179e"
             ],
             [
              0.4444444444444444,
              "#bd3786"
             ],
             [
              0.5555555555555556,
              "#d8576b"
             ],
             [
              0.6666666666666666,
              "#ed7953"
             ],
             [
              0.7777777777777778,
              "#fb9f3a"
             ],
             [
              0.8888888888888888,
              "#fdca26"
             ],
             [
              1,
              "#f0f921"
             ]
            ],
            "type": "surface"
           }
          ],
          "table": [
           {
            "cells": {
             "fill": {
              "color": "#EBF0F8"
             },
             "line": {
              "color": "white"
             }
            },
            "header": {
             "fill": {
              "color": "#C8D4E3"
             },
             "line": {
              "color": "white"
             }
            },
            "type": "table"
           }
          ]
         },
         "layout": {
          "annotationdefaults": {
           "arrowcolor": "#2a3f5f",
           "arrowhead": 0,
           "arrowwidth": 1
          },
          "autotypenumbers": "strict",
          "coloraxis": {
           "colorbar": {
            "outlinewidth": 0,
            "ticks": ""
           }
          },
          "colorscale": {
           "diverging": [
            [
             0,
             "#8e0152"
            ],
            [
             0.1,
             "#c51b7d"
            ],
            [
             0.2,
             "#de77ae"
            ],
            [
             0.3,
             "#f1b6da"
            ],
            [
             0.4,
             "#fde0ef"
            ],
            [
             0.5,
             "#f7f7f7"
            ],
            [
             0.6,
             "#e6f5d0"
            ],
            [
             0.7,
             "#b8e186"
            ],
            [
             0.8,
             "#7fbc41"
            ],
            [
             0.9,
             "#4d9221"
            ],
            [
             1,
             "#276419"
            ]
           ],
           "sequential": [
            [
             0,
             "#0d0887"
            ],
            [
             0.1111111111111111,
             "#46039f"
            ],
            [
             0.2222222222222222,
             "#7201a8"
            ],
            [
             0.3333333333333333,
             "#9c179e"
            ],
            [
             0.4444444444444444,
             "#bd3786"
            ],
            [
             0.5555555555555556,
             "#d8576b"
            ],
            [
             0.6666666666666666,
             "#ed7953"
            ],
            [
             0.7777777777777778,
             "#fb9f3a"
            ],
            [
             0.8888888888888888,
             "#fdca26"
            ],
            [
             1,
             "#f0f921"
            ]
           ],
           "sequentialminus": [
            [
             0,
             "#0d0887"
            ],
            [
             0.1111111111111111,
             "#46039f"
            ],
            [
             0.2222222222222222,
             "#7201a8"
            ],
            [
             0.3333333333333333,
             "#9c179e"
            ],
            [
             0.4444444444444444,
             "#bd3786"
            ],
            [
             0.5555555555555556,
             "#d8576b"
            ],
            [
             0.6666666666666666,
             "#ed7953"
            ],
            [
             0.7777777777777778,
             "#fb9f3a"
            ],
            [
             0.8888888888888888,
             "#fdca26"
            ],
            [
             1,
             "#f0f921"
            ]
           ]
          },
          "colorway": [
           "#636efa",
           "#EF553B",
           "#00cc96",
           "#ab63fa",
           "#FFA15A",
           "#19d3f3",
           "#FF6692",
           "#B6E880",
           "#FF97FF",
           "#FECB52"
          ],
          "font": {
           "color": "#2a3f5f"
          },
          "geo": {
           "bgcolor": "white",
           "lakecolor": "white",
           "landcolor": "#E5ECF6",
           "showlakes": true,
           "showland": true,
           "subunitcolor": "white"
          },
          "hoverlabel": {
           "align": "left"
          },
          "hovermode": "closest",
          "mapbox": {
           "style": "light"
          },
          "paper_bgcolor": "white",
          "plot_bgcolor": "#E5ECF6",
          "polar": {
           "angularaxis": {
            "gridcolor": "white",
            "linecolor": "white",
            "ticks": ""
           },
           "bgcolor": "#E5ECF6",
           "radialaxis": {
            "gridcolor": "white",
            "linecolor": "white",
            "ticks": ""
           }
          },
          "scene": {
           "xaxis": {
            "backgroundcolor": "#E5ECF6",
            "gridcolor": "white",
            "gridwidth": 2,
            "linecolor": "white",
            "showbackground": true,
            "ticks": "",
            "zerolinecolor": "white"
           },
           "yaxis": {
            "backgroundcolor": "#E5ECF6",
            "gridcolor": "white",
            "gridwidth": 2,
            "linecolor": "white",
            "showbackground": true,
            "ticks": "",
            "zerolinecolor": "white"
           },
           "zaxis": {
            "backgroundcolor": "#E5ECF6",
            "gridcolor": "white",
            "gridwidth": 2,
            "linecolor": "white",
            "showbackground": true,
            "ticks": "",
            "zerolinecolor": "white"
           }
          },
          "shapedefaults": {
           "line": {
            "color": "#2a3f5f"
           }
          },
          "ternary": {
           "aaxis": {
            "gridcolor": "white",
            "linecolor": "white",
            "ticks": ""
           },
           "baxis": {
            "gridcolor": "white",
            "linecolor": "white",
            "ticks": ""
           },
           "bgcolor": "#E5ECF6",
           "caxis": {
            "gridcolor": "white",
            "linecolor": "white",
            "ticks": ""
           }
          },
          "title": {
           "x": 0.05
          },
          "xaxis": {
           "automargin": true,
           "gridcolor": "white",
           "linecolor": "white",
           "ticks": "",
           "title": {
            "standoff": 15
           },
           "zerolinecolor": "white",
           "zerolinewidth": 2
          },
          "yaxis": {
           "automargin": true,
           "gridcolor": "white",
           "linecolor": "white",
           "ticks": "",
           "title": {
            "standoff": 15
           },
           "zerolinecolor": "white",
           "zerolinewidth": 2
          }
         }
        },
        "title": {
         "text": "cooling cap"
        },
        "xaxis": {
         "title": {
          "text": "Hours"
         }
        },
        "yaxis": {
         "title": {
          "text": "[W]"
         }
        }
       }
      }
     },
     "metadata": {},
     "output_type": "display_data"
    }
   ],
   "source": [
    "fig = go.Figure()\n",
    "\n",
    "\n",
    "for i in range(6):\n",
    "    fig.add_trace(\n",
    "            go.Scatter(x=hvac_sizing.Time, y=hvac_sizing[f\"VAV WITH PFP BOXES AND REHEAT:DesPer {i+1}:Des Tot Cool Cap [W]\"], mode='lines+markers', \n",
    "            name=f\"Cooling Period {i+1}\"\n",
    "            ))\n",
    "# fig.add_trace(\n",
    "#             go.Scatter(x=hvac_sizing.Time, y=hvac_sizing[\"VAV WITH PFP BOXES AND REHEAT:DesPer 5:Des Heat Cap [W]\"], mode='lines+markers', \n",
    "#             name=\"Heating Period 5 \"\n",
    "#             ))\n",
    "\n",
    "# fig.add_trace(\n",
    "#             go.Scatter(x=hvac_sizing.Time, y=hvac_sizing[\"VAV WITH PFP BOXES AND REHEAT:DesPer 6:Des Heat Cap [W]\"], mode='lines+markers', \n",
    "#             name=\"Heating Period 6\"\n",
    "#             ))\n",
    "\n",
    "fig.update_layout(\n",
    "    title=f\"cooling cap\",\n",
    "    xaxis_title=\"Hours\",\n",
    "    yaxis_title=f\"[W]\",\n",
    ")\n",
    "fig.show()"
   ]
  },
  {
   "cell_type": "code",
   "execution_count": null,
   "metadata": {},
   "outputs": [
    {
     "data": {
      "application/vnd.plotly.v1+json": {
       "config": {
        "plotlyServerURL": "https://plot.ly"
       },
       "data": [
        {
         "mode": "lines+markers",
         "name": "Heating Period 1",
         "type": "scatter",
         "x": [
          "00:15:00",
          "00:30:00",
          "00:45:00",
          "01:00:00",
          "01:15:00",
          "01:30:00",
          "01:45:00",
          "02:00:00",
          "02:15:00",
          "02:30:00",
          "02:45:00",
          "03:00:00",
          "03:15:00",
          "03:30:00",
          "03:45:00",
          "04:00:00",
          "04:15:00",
          "04:30:00",
          "04:45:00",
          "05:00:00",
          "05:15:00",
          "05:30:00",
          "05:45:00",
          "06:00:00",
          "06:15:00",
          "06:30:00",
          "06:45:00",
          "07:00:00",
          "07:15:00",
          "07:30:00",
          "07:45:00",
          "08:00:00",
          "08:15:00",
          "08:30:00",
          "08:45:00",
          "09:00:00",
          "09:15:00",
          "09:30:00",
          "09:45:00",
          "10:00:00",
          "10:15:00",
          "10:30:00",
          "10:45:00",
          "11:00:00",
          "11:15:00",
          "11:30:00",
          "11:45:00",
          "12:00:00",
          "12:15:00",
          "12:30:00",
          "12:45:00",
          "13:00:00",
          "13:15:00",
          "13:30:00",
          "13:45:00",
          "14:00:00",
          "14:15:00",
          "14:30:00",
          "14:45:00",
          "15:00:00",
          "15:15:00",
          "15:30:00",
          "15:45:00",
          "16:00:00",
          "16:15:00",
          "16:30:00",
          "16:45:00",
          "17:00:00",
          "17:15:00",
          "17:30:00",
          "17:45:00",
          "18:00:00",
          "18:15:00",
          "18:30:00",
          "18:45:00",
          "19:00:00",
          "19:15:00",
          "19:30:00",
          "19:45:00",
          "20:00:00",
          "20:15:00",
          "20:30:00",
          "20:45:00",
          "21:00:00",
          "21:15:00",
          "21:30:00",
          "21:45:00",
          "22:00:00",
          "22:15:00",
          "22:30:00",
          "22:45:00",
          "23:00:00",
          "23:15:00",
          "23:30:00",
          "23:45:00",
          "24:00:00",
          "Coinc Peak   ",
          "NonCoinc Peak"
         ],
         "y": [
          1.355793,
          1.355793,
          1.355793,
          1.355793,
          1.355793,
          1.355793,
          1.355793,
          1.355793,
          1.355793,
          1.355793,
          1.355793,
          1.355793,
          1.355793,
          1.355793,
          1.355793,
          1.355793,
          1.355793,
          1.355793,
          1.355793,
          1.355793,
          1.355793,
          1.355793,
          1.355793,
          1.355793,
          1.355793,
          1.355793,
          1.355793,
          1.355793,
          1.355793,
          1.355793,
          1.355793,
          1.355793,
          1.355793,
          1.355793,
          1.355793,
          1.355793,
          1.355793,
          1.355793,
          1.355793,
          1.355793,
          1.355793,
          1.355793,
          1.355793,
          1.355793,
          1.355793,
          1.355793,
          1.355793,
          1.355793,
          1.355793,
          1.355793,
          1.355793,
          1.355793,
          1.355793,
          1.355793,
          1.355793,
          1.355793,
          1.355793,
          1.355793,
          1.355793,
          1.355793,
          1.355793,
          1.355793,
          1.355793,
          1.355793,
          1.355793,
          1.355793,
          1.355793,
          1.355793,
          1.355793,
          1.355793,
          1.355793,
          1.355793,
          1.355793,
          1.355793,
          1.355793,
          1.355793,
          1.355793,
          1.355793,
          1.355793,
          1.355793,
          1.355793,
          1.355793,
          1.355793,
          1.355793,
          1.355793,
          1.355793,
          1.355793,
          1.355793,
          1.355793,
          1.355793,
          1.355793,
          1.355793,
          1.355793,
          1.355793,
          1.355793,
          1.355793,
          2.184923,
          2.184923
         ]
        },
        {
         "mode": "lines+markers",
         "name": "Heating Period 2",
         "type": "scatter",
         "x": [
          "00:15:00",
          "00:30:00",
          "00:45:00",
          "01:00:00",
          "01:15:00",
          "01:30:00",
          "01:45:00",
          "02:00:00",
          "02:15:00",
          "02:30:00",
          "02:45:00",
          "03:00:00",
          "03:15:00",
          "03:30:00",
          "03:45:00",
          "04:00:00",
          "04:15:00",
          "04:30:00",
          "04:45:00",
          "05:00:00",
          "05:15:00",
          "05:30:00",
          "05:45:00",
          "06:00:00",
          "06:15:00",
          "06:30:00",
          "06:45:00",
          "07:00:00",
          "07:15:00",
          "07:30:00",
          "07:45:00",
          "08:00:00",
          "08:15:00",
          "08:30:00",
          "08:45:00",
          "09:00:00",
          "09:15:00",
          "09:30:00",
          "09:45:00",
          "10:00:00",
          "10:15:00",
          "10:30:00",
          "10:45:00",
          "11:00:00",
          "11:15:00",
          "11:30:00",
          "11:45:00",
          "12:00:00",
          "12:15:00",
          "12:30:00",
          "12:45:00",
          "13:00:00",
          "13:15:00",
          "13:30:00",
          "13:45:00",
          "14:00:00",
          "14:15:00",
          "14:30:00",
          "14:45:00",
          "15:00:00",
          "15:15:00",
          "15:30:00",
          "15:45:00",
          "16:00:00",
          "16:15:00",
          "16:30:00",
          "16:45:00",
          "17:00:00",
          "17:15:00",
          "17:30:00",
          "17:45:00",
          "18:00:00",
          "18:15:00",
          "18:30:00",
          "18:45:00",
          "19:00:00",
          "19:15:00",
          "19:30:00",
          "19:45:00",
          "20:00:00",
          "20:15:00",
          "20:30:00",
          "20:45:00",
          "21:00:00",
          "21:15:00",
          "21:30:00",
          "21:45:00",
          "22:00:00",
          "22:15:00",
          "22:30:00",
          "22:45:00",
          "23:00:00",
          "23:15:00",
          "23:30:00",
          "23:45:00",
          "24:00:00",
          "Coinc Peak   ",
          "NonCoinc Peak"
         ],
         "y": [
          1.355793,
          1.355793,
          1.355793,
          1.355793,
          1.355793,
          1.355793,
          1.355793,
          1.355793,
          1.355793,
          1.355793,
          1.355793,
          1.355793,
          1.355793,
          1.355793,
          1.355793,
          1.355793,
          1.355793,
          1.355793,
          1.355793,
          1.355793,
          1.355793,
          1.355793,
          1.355793,
          1.355793,
          1.355793,
          1.355793,
          1.355793,
          1.355793,
          1.355793,
          1.355793,
          1.355793,
          1.355793,
          1.355793,
          1.355793,
          1.355793,
          1.355793,
          1.355793,
          1.355793,
          1.355793,
          1.355793,
          1.355793,
          1.355793,
          1.355793,
          1.355793,
          1.355793,
          1.355793,
          1.355793,
          1.355793,
          1.355793,
          1.355793,
          1.355793,
          1.355793,
          1.355793,
          1.355793,
          1.355793,
          1.355793,
          1.355793,
          1.355793,
          1.355793,
          1.355793,
          1.355793,
          1.355793,
          1.355793,
          1.355793,
          1.355793,
          1.355793,
          1.355793,
          1.355793,
          1.355793,
          1.355793,
          1.355793,
          1.355793,
          1.355793,
          1.355793,
          1.355793,
          1.355793,
          1.355793,
          1.355793,
          1.355793,
          1.355793,
          1.355793,
          1.355793,
          1.355793,
          1.355793,
          1.355793,
          1.355793,
          1.355793,
          1.355793,
          1.355793,
          1.355793,
          1.355793,
          1.355793,
          1.355793,
          1.355793,
          1.355793,
          1.355793,
          null,
          null
         ]
        },
        {
         "mode": "lines+markers",
         "name": "Heating Period 3",
         "type": "scatter",
         "x": [
          "00:15:00",
          "00:30:00",
          "00:45:00",
          "01:00:00",
          "01:15:00",
          "01:30:00",
          "01:45:00",
          "02:00:00",
          "02:15:00",
          "02:30:00",
          "02:45:00",
          "03:00:00",
          "03:15:00",
          "03:30:00",
          "03:45:00",
          "04:00:00",
          "04:15:00",
          "04:30:00",
          "04:45:00",
          "05:00:00",
          "05:15:00",
          "05:30:00",
          "05:45:00",
          "06:00:00",
          "06:15:00",
          "06:30:00",
          "06:45:00",
          "07:00:00",
          "07:15:00",
          "07:30:00",
          "07:45:00",
          "08:00:00",
          "08:15:00",
          "08:30:00",
          "08:45:00",
          "09:00:00",
          "09:15:00",
          "09:30:00",
          "09:45:00",
          "10:00:00",
          "10:15:00",
          "10:30:00",
          "10:45:00",
          "11:00:00",
          "11:15:00",
          "11:30:00",
          "11:45:00",
          "12:00:00",
          "12:15:00",
          "12:30:00",
          "12:45:00",
          "13:00:00",
          "13:15:00",
          "13:30:00",
          "13:45:00",
          "14:00:00",
          "14:15:00",
          "14:30:00",
          "14:45:00",
          "15:00:00",
          "15:15:00",
          "15:30:00",
          "15:45:00",
          "16:00:00",
          "16:15:00",
          "16:30:00",
          "16:45:00",
          "17:00:00",
          "17:15:00",
          "17:30:00",
          "17:45:00",
          "18:00:00",
          "18:15:00",
          "18:30:00",
          "18:45:00",
          "19:00:00",
          "19:15:00",
          "19:30:00",
          "19:45:00",
          "20:00:00",
          "20:15:00",
          "20:30:00",
          "20:45:00",
          "21:00:00",
          "21:15:00",
          "21:30:00",
          "21:45:00",
          "22:00:00",
          "22:15:00",
          "22:30:00",
          "22:45:00",
          "23:00:00",
          "23:15:00",
          "23:30:00",
          "23:45:00",
          "24:00:00",
          "Coinc Peak   ",
          "NonCoinc Peak"
         ],
         "y": [
          1.355793,
          1.355793,
          1.355793,
          1.355793,
          1.355793,
          1.355793,
          1.355793,
          1.355793,
          1.355793,
          1.355793,
          1.355793,
          1.355793,
          1.355793,
          1.355793,
          1.355793,
          1.355793,
          1.355793,
          1.355793,
          1.355793,
          1.355793,
          1.355793,
          1.355793,
          1.355793,
          1.355793,
          1.355793,
          1.355793,
          1.355793,
          1.355793,
          1.355793,
          1.355793,
          1.355793,
          1.355793,
          1.355793,
          1.355793,
          1.355793,
          1.355793,
          1.355793,
          1.355793,
          1.355793,
          1.355793,
          1.355793,
          1.355793,
          1.355793,
          1.355793,
          1.355793,
          1.355793,
          1.355793,
          1.355793,
          1.355793,
          1.355793,
          1.355793,
          1.355793,
          1.355793,
          1.355793,
          1.355793,
          1.355793,
          1.355793,
          1.355793,
          1.355793,
          1.355793,
          1.355793,
          1.355793,
          1.355793,
          1.355793,
          1.355793,
          1.355793,
          1.355793,
          1.355793,
          1.355793,
          1.355793,
          1.355793,
          1.355793,
          1.355793,
          1.355793,
          1.355793,
          1.355793,
          1.355793,
          1.355793,
          1.355793,
          1.355793,
          1.355793,
          1.355793,
          1.355793,
          1.355793,
          1.355793,
          1.355793,
          1.355793,
          1.355793,
          1.355793,
          1.355793,
          1.355793,
          1.355793,
          1.355793,
          1.355793,
          1.355793,
          1.355793,
          null,
          null
         ]
        },
        {
         "mode": "lines+markers",
         "name": "Heating Period 4",
         "type": "scatter",
         "x": [
          "00:15:00",
          "00:30:00",
          "00:45:00",
          "01:00:00",
          "01:15:00",
          "01:30:00",
          "01:45:00",
          "02:00:00",
          "02:15:00",
          "02:30:00",
          "02:45:00",
          "03:00:00",
          "03:15:00",
          "03:30:00",
          "03:45:00",
          "04:00:00",
          "04:15:00",
          "04:30:00",
          "04:45:00",
          "05:00:00",
          "05:15:00",
          "05:30:00",
          "05:45:00",
          "06:00:00",
          "06:15:00",
          "06:30:00",
          "06:45:00",
          "07:00:00",
          "07:15:00",
          "07:30:00",
          "07:45:00",
          "08:00:00",
          "08:15:00",
          "08:30:00",
          "08:45:00",
          "09:00:00",
          "09:15:00",
          "09:30:00",
          "09:45:00",
          "10:00:00",
          "10:15:00",
          "10:30:00",
          "10:45:00",
          "11:00:00",
          "11:15:00",
          "11:30:00",
          "11:45:00",
          "12:00:00",
          "12:15:00",
          "12:30:00",
          "12:45:00",
          "13:00:00",
          "13:15:00",
          "13:30:00",
          "13:45:00",
          "14:00:00",
          "14:15:00",
          "14:30:00",
          "14:45:00",
          "15:00:00",
          "15:15:00",
          "15:30:00",
          "15:45:00",
          "16:00:00",
          "16:15:00",
          "16:30:00",
          "16:45:00",
          "17:00:00",
          "17:15:00",
          "17:30:00",
          "17:45:00",
          "18:00:00",
          "18:15:00",
          "18:30:00",
          "18:45:00",
          "19:00:00",
          "19:15:00",
          "19:30:00",
          "19:45:00",
          "20:00:00",
          "20:15:00",
          "20:30:00",
          "20:45:00",
          "21:00:00",
          "21:15:00",
          "21:30:00",
          "21:45:00",
          "22:00:00",
          "22:15:00",
          "22:30:00",
          "22:45:00",
          "23:00:00",
          "23:15:00",
          "23:30:00",
          "23:45:00",
          "24:00:00",
          "Coinc Peak   ",
          "NonCoinc Peak"
         ],
         "y": [
          1.355793,
          1.355793,
          1.355793,
          1.355793,
          1.355793,
          1.355793,
          1.355793,
          1.355793,
          1.355793,
          1.355793,
          1.355793,
          1.355793,
          1.355793,
          1.355793,
          1.355793,
          1.355793,
          1.355793,
          1.355793,
          1.355793,
          1.355793,
          1.355793,
          1.355793,
          1.355793,
          1.355793,
          1.355793,
          1.355793,
          1.355793,
          1.355793,
          1.355793,
          1.355793,
          1.355793,
          1.355793,
          1.355793,
          1.355793,
          1.355793,
          1.355793,
          1.355793,
          1.355793,
          1.355793,
          1.355793,
          1.355793,
          1.355793,
          1.355793,
          1.355793,
          1.355793,
          1.355793,
          1.355793,
          1.355793,
          1.355793,
          1.355793,
          1.355793,
          1.355793,
          1.355793,
          1.355793,
          1.355793,
          1.355793,
          1.355793,
          1.355793,
          1.355793,
          1.355793,
          1.355793,
          1.355793,
          1.355793,
          1.355793,
          1.355793,
          1.355793,
          1.355793,
          1.355793,
          1.355793,
          1.355793,
          1.355793,
          1.355793,
          1.355793,
          1.355793,
          1.355793,
          1.355793,
          1.355793,
          1.355793,
          1.355793,
          1.355793,
          1.355793,
          1.355793,
          1.355793,
          1.355793,
          1.355793,
          1.355793,
          1.355793,
          1.355793,
          1.355793,
          1.355793,
          1.355793,
          1.355793,
          1.355793,
          1.355793,
          1.355793,
          1.355793,
          null,
          null
         ]
        },
        {
         "mode": "lines+markers",
         "name": "Heating Period 5",
         "type": "scatter",
         "x": [
          "00:15:00",
          "00:30:00",
          "00:45:00",
          "01:00:00",
          "01:15:00",
          "01:30:00",
          "01:45:00",
          "02:00:00",
          "02:15:00",
          "02:30:00",
          "02:45:00",
          "03:00:00",
          "03:15:00",
          "03:30:00",
          "03:45:00",
          "04:00:00",
          "04:15:00",
          "04:30:00",
          "04:45:00",
          "05:00:00",
          "05:15:00",
          "05:30:00",
          "05:45:00",
          "06:00:00",
          "06:15:00",
          "06:30:00",
          "06:45:00",
          "07:00:00",
          "07:15:00",
          "07:30:00",
          "07:45:00",
          "08:00:00",
          "08:15:00",
          "08:30:00",
          "08:45:00",
          "09:00:00",
          "09:15:00",
          "09:30:00",
          "09:45:00",
          "10:00:00",
          "10:15:00",
          "10:30:00",
          "10:45:00",
          "11:00:00",
          "11:15:00",
          "11:30:00",
          "11:45:00",
          "12:00:00",
          "12:15:00",
          "12:30:00",
          "12:45:00",
          "13:00:00",
          "13:15:00",
          "13:30:00",
          "13:45:00",
          "14:00:00",
          "14:15:00",
          "14:30:00",
          "14:45:00",
          "15:00:00",
          "15:15:00",
          "15:30:00",
          "15:45:00",
          "16:00:00",
          "16:15:00",
          "16:30:00",
          "16:45:00",
          "17:00:00",
          "17:15:00",
          "17:30:00",
          "17:45:00",
          "18:00:00",
          "18:15:00",
          "18:30:00",
          "18:45:00",
          "19:00:00",
          "19:15:00",
          "19:30:00",
          "19:45:00",
          "20:00:00",
          "20:15:00",
          "20:30:00",
          "20:45:00",
          "21:00:00",
          "21:15:00",
          "21:30:00",
          "21:45:00",
          "22:00:00",
          "22:15:00",
          "22:30:00",
          "22:45:00",
          "23:00:00",
          "23:15:00",
          "23:30:00",
          "23:45:00",
          "24:00:00",
          "Coinc Peak   ",
          "NonCoinc Peak"
         ],
         "y": [
          2.184809,
          2.184812,
          2.184815,
          2.184817,
          2.184825,
          2.184832,
          2.184839,
          2.184846,
          2.184852,
          2.184858,
          2.184864,
          2.18487,
          2.184875,
          2.18488,
          2.184885,
          2.18489,
          2.184895,
          2.184899,
          2.184904,
          2.184908,
          2.184912,
          2.184916,
          2.184919,
          2.184923,
          2.105136,
          2.02533,
          1.945506,
          1.865667,
          1.865603,
          1.865545,
          1.865492,
          1.865444,
          1.865401,
          1.865362,
          1.865327,
          1.865295,
          1.865267,
          1.865242,
          1.865219,
          1.865199,
          1.86518,
          1.865163,
          1.865148,
          1.865134,
          1.865121,
          1.865109,
          1.865098,
          1.865088,
          1.865078,
          1.865069,
          1.865061,
          1.865053,
          1.865046,
          1.865039,
          1.865032,
          1.865026,
          1.86502,
          1.865014,
          1.865009,
          1.865003,
          1.864998,
          1.864993,
          1.864989,
          1.864984,
          1.86498,
          1.864976,
          1.864972,
          1.864968,
          1.864965,
          1.864961,
          1.864958,
          1.864955,
          1.944766,
          2.024584,
          2.104413,
          2.184257,
          2.184302,
          2.184355,
          2.18441,
          2.184462,
          2.184508,
          2.184549,
          2.184584,
          2.184615,
          2.184642,
          2.184666,
          2.184687,
          2.184706,
          2.184722,
          2.184738,
          2.184751,
          2.184764,
          2.184775,
          2.184786,
          2.184796,
          2.184805,
          null,
          null
         ]
        },
        {
         "mode": "lines+markers",
         "name": "Heating Period 6",
         "type": "scatter",
         "x": [
          "00:15:00",
          "00:30:00",
          "00:45:00",
          "01:00:00",
          "01:15:00",
          "01:30:00",
          "01:45:00",
          "02:00:00",
          "02:15:00",
          "02:30:00",
          "02:45:00",
          "03:00:00",
          "03:15:00",
          "03:30:00",
          "03:45:00",
          "04:00:00",
          "04:15:00",
          "04:30:00",
          "04:45:00",
          "05:00:00",
          "05:15:00",
          "05:30:00",
          "05:45:00",
          "06:00:00",
          "06:15:00",
          "06:30:00",
          "06:45:00",
          "07:00:00",
          "07:15:00",
          "07:30:00",
          "07:45:00",
          "08:00:00",
          "08:15:00",
          "08:30:00",
          "08:45:00",
          "09:00:00",
          "09:15:00",
          "09:30:00",
          "09:45:00",
          "10:00:00",
          "10:15:00",
          "10:30:00",
          "10:45:00",
          "11:00:00",
          "11:15:00",
          "11:30:00",
          "11:45:00",
          "12:00:00",
          "12:15:00",
          "12:30:00",
          "12:45:00",
          "13:00:00",
          "13:15:00",
          "13:30:00",
          "13:45:00",
          "14:00:00",
          "14:15:00",
          "14:30:00",
          "14:45:00",
          "15:00:00",
          "15:15:00",
          "15:30:00",
          "15:45:00",
          "16:00:00",
          "16:15:00",
          "16:30:00",
          "16:45:00",
          "17:00:00",
          "17:15:00",
          "17:30:00",
          "17:45:00",
          "18:00:00",
          "18:15:00",
          "18:30:00",
          "18:45:00",
          "19:00:00",
          "19:15:00",
          "19:30:00",
          "19:45:00",
          "20:00:00",
          "20:15:00",
          "20:30:00",
          "20:45:00",
          "21:00:00",
          "21:15:00",
          "21:30:00",
          "21:45:00",
          "22:00:00",
          "22:15:00",
          "22:30:00",
          "22:45:00",
          "23:00:00",
          "23:15:00",
          "23:30:00",
          "23:45:00",
          "24:00:00",
          "Coinc Peak   ",
          "NonCoinc Peak"
         ],
         "y": [
          1.65102,
          1.651023,
          1.651025,
          1.651027,
          1.651037,
          1.651045,
          1.651054,
          1.651062,
          1.651069,
          1.651077,
          1.651084,
          1.65109,
          1.651097,
          1.651103,
          1.651109,
          1.651115,
          1.65112,
          1.651126,
          1.651131,
          1.651136,
          1.65114,
          1.651145,
          1.651149,
          1.651154,
          1.616665,
          1.582144,
          1.547605,
          1.51305,
          1.512973,
          1.512914,
          1.512861,
          1.512811,
          1.512766,
          1.512723,
          1.512684,
          1.512648,
          1.512615,
          1.512584,
          1.512556,
          1.51253,
          1.512505,
          1.512483,
          1.512462,
          1.512443,
          1.512425,
          1.512408,
          1.512393,
          1.512378,
          1.512365,
          1.512352,
          1.51234,
          1.512329,
          1.512318,
          1.512308,
          1.512299,
          1.51229,
          1.512282,
          1.512274,
          1.512266,
          1.512259,
          1.512252,
          1.512246,
          1.51224,
          1.512234,
          1.512228,
          1.512223,
          1.512218,
          1.512213,
          1.512208,
          1.512203,
          1.512199,
          1.512195,
          1.5467,
          1.581219,
          1.615758,
          1.650317,
          1.650384,
          1.650457,
          1.650524,
          1.650586,
          1.650642,
          1.650691,
          1.650735,
          1.650774,
          1.650808,
          1.650838,
          1.650865,
          1.65089,
          1.650911,
          1.650931,
          1.650949,
          1.650965,
          1.650979,
          1.650993,
          1.651005,
          1.651017,
          null,
          null
         ]
        }
       ],
       "layout": {
        "template": {
         "data": {
          "bar": [
           {
            "error_x": {
             "color": "#2a3f5f"
            },
            "error_y": {
             "color": "#2a3f5f"
            },
            "marker": {
             "line": {
              "color": "#E5ECF6",
              "width": 0.5
             },
             "pattern": {
              "fillmode": "overlay",
              "size": 10,
              "solidity": 0.2
             }
            },
            "type": "bar"
           }
          ],
          "barpolar": [
           {
            "marker": {
             "line": {
              "color": "#E5ECF6",
              "width": 0.5
             },
             "pattern": {
              "fillmode": "overlay",
              "size": 10,
              "solidity": 0.2
             }
            },
            "type": "barpolar"
           }
          ],
          "carpet": [
           {
            "aaxis": {
             "endlinecolor": "#2a3f5f",
             "gridcolor": "white",
             "linecolor": "white",
             "minorgridcolor": "white",
             "startlinecolor": "#2a3f5f"
            },
            "baxis": {
             "endlinecolor": "#2a3f5f",
             "gridcolor": "white",
             "linecolor": "white",
             "minorgridcolor": "white",
             "startlinecolor": "#2a3f5f"
            },
            "type": "carpet"
           }
          ],
          "choropleth": [
           {
            "colorbar": {
             "outlinewidth": 0,
             "ticks": ""
            },
            "type": "choropleth"
           }
          ],
          "contour": [
           {
            "colorbar": {
             "outlinewidth": 0,
             "ticks": ""
            },
            "colorscale": [
             [
              0,
              "#0d0887"
             ],
             [
              0.1111111111111111,
              "#46039f"
             ],
             [
              0.2222222222222222,
              "#7201a8"
             ],
             [
              0.3333333333333333,
              "#9c179e"
             ],
             [
              0.4444444444444444,
              "#bd3786"
             ],
             [
              0.5555555555555556,
              "#d8576b"
             ],
             [
              0.6666666666666666,
              "#ed7953"
             ],
             [
              0.7777777777777778,
              "#fb9f3a"
             ],
             [
              0.8888888888888888,
              "#fdca26"
             ],
             [
              1,
              "#f0f921"
             ]
            ],
            "type": "contour"
           }
          ],
          "contourcarpet": [
           {
            "colorbar": {
             "outlinewidth": 0,
             "ticks": ""
            },
            "type": "contourcarpet"
           }
          ],
          "heatmap": [
           {
            "colorbar": {
             "outlinewidth": 0,
             "ticks": ""
            },
            "colorscale": [
             [
              0,
              "#0d0887"
             ],
             [
              0.1111111111111111,
              "#46039f"
             ],
             [
              0.2222222222222222,
              "#7201a8"
             ],
             [
              0.3333333333333333,
              "#9c179e"
             ],
             [
              0.4444444444444444,
              "#bd3786"
             ],
             [
              0.5555555555555556,
              "#d8576b"
             ],
             [
              0.6666666666666666,
              "#ed7953"
             ],
             [
              0.7777777777777778,
              "#fb9f3a"
             ],
             [
              0.8888888888888888,
              "#fdca26"
             ],
             [
              1,
              "#f0f921"
             ]
            ],
            "type": "heatmap"
           }
          ],
          "heatmapgl": [
           {
            "colorbar": {
             "outlinewidth": 0,
             "ticks": ""
            },
            "colorscale": [
             [
              0,
              "#0d0887"
             ],
             [
              0.1111111111111111,
              "#46039f"
             ],
             [
              0.2222222222222222,
              "#7201a8"
             ],
             [
              0.3333333333333333,
              "#9c179e"
             ],
             [
              0.4444444444444444,
              "#bd3786"
             ],
             [
              0.5555555555555556,
              "#d8576b"
             ],
             [
              0.6666666666666666,
              "#ed7953"
             ],
             [
              0.7777777777777778,
              "#fb9f3a"
             ],
             [
              0.8888888888888888,
              "#fdca26"
             ],
             [
              1,
              "#f0f921"
             ]
            ],
            "type": "heatmapgl"
           }
          ],
          "histogram": [
           {
            "marker": {
             "pattern": {
              "fillmode": "overlay",
              "size": 10,
              "solidity": 0.2
             }
            },
            "type": "histogram"
           }
          ],
          "histogram2d": [
           {
            "colorbar": {
             "outlinewidth": 0,
             "ticks": ""
            },
            "colorscale": [
             [
              0,
              "#0d0887"
             ],
             [
              0.1111111111111111,
              "#46039f"
             ],
             [
              0.2222222222222222,
              "#7201a8"
             ],
             [
              0.3333333333333333,
              "#9c179e"
             ],
             [
              0.4444444444444444,
              "#bd3786"
             ],
             [
              0.5555555555555556,
              "#d8576b"
             ],
             [
              0.6666666666666666,
              "#ed7953"
             ],
             [
              0.7777777777777778,
              "#fb9f3a"
             ],
             [
              0.8888888888888888,
              "#fdca26"
             ],
             [
              1,
              "#f0f921"
             ]
            ],
            "type": "histogram2d"
           }
          ],
          "histogram2dcontour": [
           {
            "colorbar": {
             "outlinewidth": 0,
             "ticks": ""
            },
            "colorscale": [
             [
              0,
              "#0d0887"
             ],
             [
              0.1111111111111111,
              "#46039f"
             ],
             [
              0.2222222222222222,
              "#7201a8"
             ],
             [
              0.3333333333333333,
              "#9c179e"
             ],
             [
              0.4444444444444444,
              "#bd3786"
             ],
             [
              0.5555555555555556,
              "#d8576b"
             ],
             [
              0.6666666666666666,
              "#ed7953"
             ],
             [
              0.7777777777777778,
              "#fb9f3a"
             ],
             [
              0.8888888888888888,
              "#fdca26"
             ],
             [
              1,
              "#f0f921"
             ]
            ],
            "type": "histogram2dcontour"
           }
          ],
          "mesh3d": [
           {
            "colorbar": {
             "outlinewidth": 0,
             "ticks": ""
            },
            "type": "mesh3d"
           }
          ],
          "parcoords": [
           {
            "line": {
             "colorbar": {
              "outlinewidth": 0,
              "ticks": ""
             }
            },
            "type": "parcoords"
           }
          ],
          "pie": [
           {
            "automargin": true,
            "type": "pie"
           }
          ],
          "scatter": [
           {
            "marker": {
             "colorbar": {
              "outlinewidth": 0,
              "ticks": ""
             }
            },
            "type": "scatter"
           }
          ],
          "scatter3d": [
           {
            "line": {
             "colorbar": {
              "outlinewidth": 0,
              "ticks": ""
             }
            },
            "marker": {
             "colorbar": {
              "outlinewidth": 0,
              "ticks": ""
             }
            },
            "type": "scatter3d"
           }
          ],
          "scattercarpet": [
           {
            "marker": {
             "colorbar": {
              "outlinewidth": 0,
              "ticks": ""
             }
            },
            "type": "scattercarpet"
           }
          ],
          "scattergeo": [
           {
            "marker": {
             "colorbar": {
              "outlinewidth": 0,
              "ticks": ""
             }
            },
            "type": "scattergeo"
           }
          ],
          "scattergl": [
           {
            "marker": {
             "colorbar": {
              "outlinewidth": 0,
              "ticks": ""
             }
            },
            "type": "scattergl"
           }
          ],
          "scattermapbox": [
           {
            "marker": {
             "colorbar": {
              "outlinewidth": 0,
              "ticks": ""
             }
            },
            "type": "scattermapbox"
           }
          ],
          "scatterpolar": [
           {
            "marker": {
             "colorbar": {
              "outlinewidth": 0,
              "ticks": ""
             }
            },
            "type": "scatterpolar"
           }
          ],
          "scatterpolargl": [
           {
            "marker": {
             "colorbar": {
              "outlinewidth": 0,
              "ticks": ""
             }
            },
            "type": "scatterpolargl"
           }
          ],
          "scatterternary": [
           {
            "marker": {
             "colorbar": {
              "outlinewidth": 0,
              "ticks": ""
             }
            },
            "type": "scatterternary"
           }
          ],
          "surface": [
           {
            "colorbar": {
             "outlinewidth": 0,
             "ticks": ""
            },
            "colorscale": [
             [
              0,
              "#0d0887"
             ],
             [
              0.1111111111111111,
              "#46039f"
             ],
             [
              0.2222222222222222,
              "#7201a8"
             ],
             [
              0.3333333333333333,
              "#9c179e"
             ],
             [
              0.4444444444444444,
              "#bd3786"
             ],
             [
              0.5555555555555556,
              "#d8576b"
             ],
             [
              0.6666666666666666,
              "#ed7953"
             ],
             [
              0.7777777777777778,
              "#fb9f3a"
             ],
             [
              0.8888888888888888,
              "#fdca26"
             ],
             [
              1,
              "#f0f921"
             ]
            ],
            "type": "surface"
           }
          ],
          "table": [
           {
            "cells": {
             "fill": {
              "color": "#EBF0F8"
             },
             "line": {
              "color": "white"
             }
            },
            "header": {
             "fill": {
              "color": "#C8D4E3"
             },
             "line": {
              "color": "white"
             }
            },
            "type": "table"
           }
          ]
         },
         "layout": {
          "annotationdefaults": {
           "arrowcolor": "#2a3f5f",
           "arrowhead": 0,
           "arrowwidth": 1
          },
          "autotypenumbers": "strict",
          "coloraxis": {
           "colorbar": {
            "outlinewidth": 0,
            "ticks": ""
           }
          },
          "colorscale": {
           "diverging": [
            [
             0,
             "#8e0152"
            ],
            [
             0.1,
             "#c51b7d"
            ],
            [
             0.2,
             "#de77ae"
            ],
            [
             0.3,
             "#f1b6da"
            ],
            [
             0.4,
             "#fde0ef"
            ],
            [
             0.5,
             "#f7f7f7"
            ],
            [
             0.6,
             "#e6f5d0"
            ],
            [
             0.7,
             "#b8e186"
            ],
            [
             0.8,
             "#7fbc41"
            ],
            [
             0.9,
             "#4d9221"
            ],
            [
             1,
             "#276419"
            ]
           ],
           "sequential": [
            [
             0,
             "#0d0887"
            ],
            [
             0.1111111111111111,
             "#46039f"
            ],
            [
             0.2222222222222222,
             "#7201a8"
            ],
            [
             0.3333333333333333,
             "#9c179e"
            ],
            [
             0.4444444444444444,
             "#bd3786"
            ],
            [
             0.5555555555555556,
             "#d8576b"
            ],
            [
             0.6666666666666666,
             "#ed7953"
            ],
            [
             0.7777777777777778,
             "#fb9f3a"
            ],
            [
             0.8888888888888888,
             "#fdca26"
            ],
            [
             1,
             "#f0f921"
            ]
           ],
           "sequentialminus": [
            [
             0,
             "#0d0887"
            ],
            [
             0.1111111111111111,
             "#46039f"
            ],
            [
             0.2222222222222222,
             "#7201a8"
            ],
            [
             0.3333333333333333,
             "#9c179e"
            ],
            [
             0.4444444444444444,
             "#bd3786"
            ],
            [
             0.5555555555555556,
             "#d8576b"
            ],
            [
             0.6666666666666666,
             "#ed7953"
            ],
            [
             0.7777777777777778,
             "#fb9f3a"
            ],
            [
             0.8888888888888888,
             "#fdca26"
            ],
            [
             1,
             "#f0f921"
            ]
           ]
          },
          "colorway": [
           "#636efa",
           "#EF553B",
           "#00cc96",
           "#ab63fa",
           "#FFA15A",
           "#19d3f3",
           "#FF6692",
           "#B6E880",
           "#FF97FF",
           "#FECB52"
          ],
          "font": {
           "color": "#2a3f5f"
          },
          "geo": {
           "bgcolor": "white",
           "lakecolor": "white",
           "landcolor": "#E5ECF6",
           "showlakes": true,
           "showland": true,
           "subunitcolor": "white"
          },
          "hoverlabel": {
           "align": "left"
          },
          "hovermode": "closest",
          "mapbox": {
           "style": "light"
          },
          "paper_bgcolor": "white",
          "plot_bgcolor": "#E5ECF6",
          "polar": {
           "angularaxis": {
            "gridcolor": "white",
            "linecolor": "white",
            "ticks": ""
           },
           "bgcolor": "#E5ECF6",
           "radialaxis": {
            "gridcolor": "white",
            "linecolor": "white",
            "ticks": ""
           }
          },
          "scene": {
           "xaxis": {
            "backgroundcolor": "#E5ECF6",
            "gridcolor": "white",
            "gridwidth": 2,
            "linecolor": "white",
            "showbackground": true,
            "ticks": "",
            "zerolinecolor": "white"
           },
           "yaxis": {
            "backgroundcolor": "#E5ECF6",
            "gridcolor": "white",
            "gridwidth": 2,
            "linecolor": "white",
            "showbackground": true,
            "ticks": "",
            "zerolinecolor": "white"
           },
           "zaxis": {
            "backgroundcolor": "#E5ECF6",
            "gridcolor": "white",
            "gridwidth": 2,
            "linecolor": "white",
            "showbackground": true,
            "ticks": "",
            "zerolinecolor": "white"
           }
          },
          "shapedefaults": {
           "line": {
            "color": "#2a3f5f"
           }
          },
          "ternary": {
           "aaxis": {
            "gridcolor": "white",
            "linecolor": "white",
            "ticks": ""
           },
           "baxis": {
            "gridcolor": "white",
            "linecolor": "white",
            "ticks": ""
           },
           "bgcolor": "#E5ECF6",
           "caxis": {
            "gridcolor": "white",
            "linecolor": "white",
            "ticks": ""
           }
          },
          "title": {
           "x": 0.05
          },
          "xaxis": {
           "automargin": true,
           "gridcolor": "white",
           "linecolor": "white",
           "ticks": "",
           "title": {
            "standoff": 15
           },
           "zerolinecolor": "white",
           "zerolinewidth": 2
          },
          "yaxis": {
           "automargin": true,
           "gridcolor": "white",
           "linecolor": "white",
           "ticks": "",
           "title": {
            "standoff": 15
           },
           "zerolinecolor": "white",
           "zerolinewidth": 2
          }
         }
        },
        "title": {
         "text": "Mass Flow"
        },
        "xaxis": {
         "title": {
          "text": "Hours"
         }
        },
        "yaxis": {
         "title": {
          "text": "Mass Flow [kg/s]"
         }
        }
       }
      }
     },
     "metadata": {},
     "output_type": "display_data"
    }
   ],
   "source": [
    "fig = go.Figure()\n",
    "\n",
    "for i in range(6):\n",
    "    fig.add_trace(\n",
    "            go.Scatter(x=hvac_sizing.Time, y=hvac_sizing[f\"VAV WITH PFP BOXES AND REHEAT:DesPer {i+1}:Des Heat Mass Flow [kg/s]\"], mode='lines+markers', \n",
    "            name=f\"Heating Period {i+1}\"\n",
    "            ))\n",
    "# fig.add_trace(\n",
    "#             go.Scatter(x=hvac_sizing.Time, y=hvac_sizing[\"VAV WITH PFP BOXES AND REHEAT:DesPer 5:Des Heat Cap [W]\"], mode='lines+markers', \n",
    "#             name=\"Heating Period 5 \"\n",
    "#             ))\n",
    "\n",
    "# fig.add_trace(\n",
    "#             go.Scatter(x=hvac_sizing.Time, y=hvac_sizing[\"VAV WITH PFP BOXES AND REHEAT:DesPer 6:Des Heat Cap [W]\"], mode='lines+markers', \n",
    "#             name=\"Heating Period 6\"\n",
    "#             ))\n",
    "\n",
    "fig.update_layout(\n",
    "    title=f\"Mass Flow\",\n",
    "    xaxis_title=\"Hours\",\n",
    "    yaxis_title=f\"Mass Flow [kg/s]\",\n",
    ")\n",
    "fig.show()"
   ]
  },
  {
   "cell_type": "code",
   "execution_count": null,
   "metadata": {},
   "outputs": [
    {
     "data": {
      "application/vnd.plotly.v1+json": {
       "config": {
        "plotlyServerURL": "https://plot.ly"
       },
       "data": [
        {
         "mode": "lines+markers",
         "name": "Heating Period 1",
         "type": "scatter",
         "x": [
          "00:15:00",
          "00:30:00",
          "00:45:00",
          "01:00:00",
          "01:15:00",
          "01:30:00",
          "01:45:00",
          "02:00:00",
          "02:15:00",
          "02:30:00",
          "02:45:00",
          "03:00:00",
          "03:15:00",
          "03:30:00",
          "03:45:00",
          "04:00:00",
          "04:15:00",
          "04:30:00",
          "04:45:00",
          "05:00:00",
          "05:15:00",
          "05:30:00",
          "05:45:00",
          "06:00:00",
          "06:15:00",
          "06:30:00",
          "06:45:00",
          "07:00:00",
          "07:15:00",
          "07:30:00",
          "07:45:00",
          "08:00:00",
          "08:15:00",
          "08:30:00",
          "08:45:00",
          "09:00:00",
          "09:15:00",
          "09:30:00",
          "09:45:00",
          "10:00:00",
          "10:15:00",
          "10:30:00",
          "10:45:00",
          "11:00:00",
          "11:15:00",
          "11:30:00",
          "11:45:00",
          "12:00:00",
          "12:15:00",
          "12:30:00",
          "12:45:00",
          "13:00:00",
          "13:15:00",
          "13:30:00",
          "13:45:00",
          "14:00:00",
          "14:15:00",
          "14:30:00",
          "14:45:00",
          "15:00:00",
          "15:15:00",
          "15:30:00",
          "15:45:00",
          "16:00:00",
          "16:15:00",
          "16:30:00",
          "16:45:00",
          "17:00:00",
          "17:15:00",
          "17:30:00",
          "17:45:00",
          "18:00:00",
          "18:15:00",
          "18:30:00",
          "18:45:00",
          "19:00:00",
          "19:15:00",
          "19:30:00",
          "19:45:00",
          "20:00:00",
          "20:15:00",
          "20:30:00",
          "20:45:00",
          "21:00:00",
          "21:15:00",
          "21:30:00",
          "21:45:00",
          "22:00:00",
          "22:15:00",
          "22:30:00",
          "22:45:00",
          "23:00:00",
          "23:15:00",
          "23:30:00",
          "23:45:00",
          "24:00:00",
          "Coinc Peak   ",
          "NonCoinc Peak"
         ],
         "y": [
          0,
          0,
          0,
          0,
          0,
          0,
          0,
          0,
          0,
          0,
          0,
          0,
          0,
          0,
          0,
          0,
          0,
          0,
          0,
          0,
          0,
          0,
          0,
          0,
          0,
          0,
          0,
          0,
          0,
          0,
          0,
          0,
          0,
          0,
          0,
          0,
          0,
          0,
          0,
          0,
          0,
          0,
          0,
          0,
          0,
          0,
          0,
          0,
          0,
          0,
          0,
          0,
          0,
          0,
          0,
          0,
          0,
          0,
          0,
          0,
          0,
          0,
          0,
          0,
          0,
          0,
          0,
          0,
          0,
          0,
          0,
          0,
          0,
          0,
          0,
          0,
          0,
          0,
          0,
          0,
          0,
          0,
          0,
          0,
          0,
          0,
          0,
          0,
          0,
          0,
          0,
          0,
          0,
          0,
          0,
          0,
          4.983134,
          4.983134
         ]
        },
        {
         "mode": "lines+markers",
         "name": "Heating Period 5 ",
         "type": "scatter",
         "x": [
          "00:15:00",
          "00:30:00",
          "00:45:00",
          "01:00:00",
          "01:15:00",
          "01:30:00",
          "01:45:00",
          "02:00:00",
          "02:15:00",
          "02:30:00",
          "02:45:00",
          "03:00:00",
          "03:15:00",
          "03:30:00",
          "03:45:00",
          "04:00:00",
          "04:15:00",
          "04:30:00",
          "04:45:00",
          "05:00:00",
          "05:15:00",
          "05:30:00",
          "05:45:00",
          "06:00:00",
          "06:15:00",
          "06:30:00",
          "06:45:00",
          "07:00:00",
          "07:15:00",
          "07:30:00",
          "07:45:00",
          "08:00:00",
          "08:15:00",
          "08:30:00",
          "08:45:00",
          "09:00:00",
          "09:15:00",
          "09:30:00",
          "09:45:00",
          "10:00:00",
          "10:15:00",
          "10:30:00",
          "10:45:00",
          "11:00:00",
          "11:15:00",
          "11:30:00",
          "11:45:00",
          "12:00:00",
          "12:15:00",
          "12:30:00",
          "12:45:00",
          "13:00:00",
          "13:15:00",
          "13:30:00",
          "13:45:00",
          "14:00:00",
          "14:15:00",
          "14:30:00",
          "14:45:00",
          "15:00:00",
          "15:15:00",
          "15:30:00",
          "15:45:00",
          "16:00:00",
          "16:15:00",
          "16:30:00",
          "16:45:00",
          "17:00:00",
          "17:15:00",
          "17:30:00",
          "17:45:00",
          "18:00:00",
          "18:15:00",
          "18:30:00",
          "18:45:00",
          "19:00:00",
          "19:15:00",
          "19:30:00",
          "19:45:00",
          "20:00:00",
          "20:15:00",
          "20:30:00",
          "20:45:00",
          "21:00:00",
          "21:15:00",
          "21:30:00",
          "21:45:00",
          "22:00:00",
          "22:15:00",
          "22:30:00",
          "22:45:00",
          "23:00:00",
          "23:15:00",
          "23:30:00",
          "23:45:00",
          "24:00:00",
          "Coinc Peak   ",
          "NonCoinc Peak"
         ],
         "y": [
          33589.99,
          33590.03,
          33590.08,
          33590.12,
          33590.24,
          33590.35,
          33590.45,
          33590.56,
          33590.65,
          33590.75,
          33590.84,
          33590.92,
          33591.01,
          33591.09,
          33591.16,
          33591.24,
          33591.31,
          33591.38,
          33591.44,
          33591.51,
          33591.57,
          33591.63,
          33591.68,
          33591.74,
          32365.07,
          31138.1,
          29910.87,
          28683.39,
          28682.41,
          28681.51,
          28680.7,
          28679.96,
          28679.29,
          28678.7,
          28678.16,
          28677.68,
          28677.25,
          28676.86,
          28676.51,
          28676.19,
          28675.91,
          28675.65,
          28675.41,
          28675.2,
          28675,
          28674.81,
          28674.64,
          28674.49,
          28674.34,
          28674.2,
          28674.08,
          28673.95,
          28673.84,
          28673.73,
          28673.63,
          28673.53,
          28673.44,
          28673.35,
          28673.27,
          28673.19,
          28673.11,
          28673.04,
          28672.97,
          28672.9,
          28672.83,
          28672.77,
          28672.71,
          28672.65,
          28672.6,
          28672.54,
          28672.49,
          28672.44,
          29899.49,
          31126.63,
          32353.95,
          33581.5,
          33582.19,
          33583.02,
          33583.86,
          33584.65,
          33585.36,
          33585.99,
          33586.53,
          33587.01,
          33587.42,
          33587.79,
          33588.11,
          33588.4,
          33588.66,
          33588.89,
          33589.1,
          33589.3,
          33589.47,
          33589.64,
          33589.79,
          33589.93,
          null,
          null
         ]
        },
        {
         "mode": "lines+markers",
         "name": "Heating Period 6",
         "type": "scatter",
         "x": [
          "00:15:00",
          "00:30:00",
          "00:45:00",
          "01:00:00",
          "01:15:00",
          "01:30:00",
          "01:45:00",
          "02:00:00",
          "02:15:00",
          "02:30:00",
          "02:45:00",
          "03:00:00",
          "03:15:00",
          "03:30:00",
          "03:45:00",
          "04:00:00",
          "04:15:00",
          "04:30:00",
          "04:45:00",
          "05:00:00",
          "05:15:00",
          "05:30:00",
          "05:45:00",
          "06:00:00",
          "06:15:00",
          "06:30:00",
          "06:45:00",
          "07:00:00",
          "07:15:00",
          "07:30:00",
          "07:45:00",
          "08:00:00",
          "08:15:00",
          "08:30:00",
          "08:45:00",
          "09:00:00",
          "09:15:00",
          "09:30:00",
          "09:45:00",
          "10:00:00",
          "10:15:00",
          "10:30:00",
          "10:45:00",
          "11:00:00",
          "11:15:00",
          "11:30:00",
          "11:45:00",
          "12:00:00",
          "12:15:00",
          "12:30:00",
          "12:45:00",
          "13:00:00",
          "13:15:00",
          "13:30:00",
          "13:45:00",
          "14:00:00",
          "14:15:00",
          "14:30:00",
          "14:45:00",
          "15:00:00",
          "15:15:00",
          "15:30:00",
          "15:45:00",
          "16:00:00",
          "16:15:00",
          "16:30:00",
          "16:45:00",
          "17:00:00",
          "17:15:00",
          "17:30:00",
          "17:45:00",
          "18:00:00",
          "18:15:00",
          "18:30:00",
          "18:45:00",
          "19:00:00",
          "19:15:00",
          "19:30:00",
          "19:45:00",
          "20:00:00",
          "20:15:00",
          "20:30:00",
          "20:45:00",
          "21:00:00",
          "21:15:00",
          "21:30:00",
          "21:45:00",
          "22:00:00",
          "22:15:00",
          "22:30:00",
          "22:45:00",
          "23:00:00",
          "23:15:00",
          "23:30:00",
          "23:45:00",
          "24:00:00",
          "Coinc Peak   ",
          "NonCoinc Peak"
         ],
         "y": [
          7465.688,
          7465.7,
          7465.711,
          7465.72,
          7465.762,
          7465.802,
          7465.84,
          7465.876,
          7465.911,
          7465.944,
          7465.975,
          7466.006,
          7466.035,
          7466.063,
          7466.09,
          7466.116,
          7466.141,
          7466.165,
          7466.188,
          7466.21,
          7466.231,
          7466.252,
          7466.272,
          7466.292,
          7310.337,
          7154.239,
          6998.059,
          6841.805,
          6841.458,
          6841.192,
          6840.95,
          6840.726,
          6840.52,
          6840.329,
          6840.152,
          6839.989,
          6839.839,
          6839.7,
          6839.571,
          6839.452,
          6839.343,
          6839.241,
          6839.147,
          6839.06,
          6838.979,
          6838.903,
          6838.833,
          6838.768,
          6838.707,
          6838.649,
          6838.595,
          6838.545,
          6838.498,
          6838.453,
          6838.41,
          6838.371,
          6838.333,
          6838.297,
          6838.263,
          6838.23,
          6838.199,
          6838.17,
          6838.142,
          6838.115,
          6838.09,
          6838.065,
          6838.042,
          6838.019,
          6837.997,
          6837.977,
          6837.957,
          6837.937,
          6993.969,
          7150.058,
          7306.238,
          7462.508,
          7462.814,
          7463.139,
          7463.447,
          7463.726,
          7463.977,
          7464.2,
          7464.398,
          7464.573,
          7464.728,
          7464.865,
          7464.988,
          7465.097,
          7465.196,
          7465.284,
          7465.364,
          7465.437,
          7465.503,
          7465.565,
          7465.621,
          7465.673,
          null,
          null
         ]
        }
       ],
       "layout": {
        "template": {
         "data": {
          "bar": [
           {
            "error_x": {
             "color": "#2a3f5f"
            },
            "error_y": {
             "color": "#2a3f5f"
            },
            "marker": {
             "line": {
              "color": "#E5ECF6",
              "width": 0.5
             },
             "pattern": {
              "fillmode": "overlay",
              "size": 10,
              "solidity": 0.2
             }
            },
            "type": "bar"
           }
          ],
          "barpolar": [
           {
            "marker": {
             "line": {
              "color": "#E5ECF6",
              "width": 0.5
             },
             "pattern": {
              "fillmode": "overlay",
              "size": 10,
              "solidity": 0.2
             }
            },
            "type": "barpolar"
           }
          ],
          "carpet": [
           {
            "aaxis": {
             "endlinecolor": "#2a3f5f",
             "gridcolor": "white",
             "linecolor": "white",
             "minorgridcolor": "white",
             "startlinecolor": "#2a3f5f"
            },
            "baxis": {
             "endlinecolor": "#2a3f5f",
             "gridcolor": "white",
             "linecolor": "white",
             "minorgridcolor": "white",
             "startlinecolor": "#2a3f5f"
            },
            "type": "carpet"
           }
          ],
          "choropleth": [
           {
            "colorbar": {
             "outlinewidth": 0,
             "ticks": ""
            },
            "type": "choropleth"
           }
          ],
          "contour": [
           {
            "colorbar": {
             "outlinewidth": 0,
             "ticks": ""
            },
            "colorscale": [
             [
              0,
              "#0d0887"
             ],
             [
              0.1111111111111111,
              "#46039f"
             ],
             [
              0.2222222222222222,
              "#7201a8"
             ],
             [
              0.3333333333333333,
              "#9c179e"
             ],
             [
              0.4444444444444444,
              "#bd3786"
             ],
             [
              0.5555555555555556,
              "#d8576b"
             ],
             [
              0.6666666666666666,
              "#ed7953"
             ],
             [
              0.7777777777777778,
              "#fb9f3a"
             ],
             [
              0.8888888888888888,
              "#fdca26"
             ],
             [
              1,
              "#f0f921"
             ]
            ],
            "type": "contour"
           }
          ],
          "contourcarpet": [
           {
            "colorbar": {
             "outlinewidth": 0,
             "ticks": ""
            },
            "type": "contourcarpet"
           }
          ],
          "heatmap": [
           {
            "colorbar": {
             "outlinewidth": 0,
             "ticks": ""
            },
            "colorscale": [
             [
              0,
              "#0d0887"
             ],
             [
              0.1111111111111111,
              "#46039f"
             ],
             [
              0.2222222222222222,
              "#7201a8"
             ],
             [
              0.3333333333333333,
              "#9c179e"
             ],
             [
              0.4444444444444444,
              "#bd3786"
             ],
             [
              0.5555555555555556,
              "#d8576b"
             ],
             [
              0.6666666666666666,
              "#ed7953"
             ],
             [
              0.7777777777777778,
              "#fb9f3a"
             ],
             [
              0.8888888888888888,
              "#fdca26"
             ],
             [
              1,
              "#f0f921"
             ]
            ],
            "type": "heatmap"
           }
          ],
          "heatmapgl": [
           {
            "colorbar": {
             "outlinewidth": 0,
             "ticks": ""
            },
            "colorscale": [
             [
              0,
              "#0d0887"
             ],
             [
              0.1111111111111111,
              "#46039f"
             ],
             [
              0.2222222222222222,
              "#7201a8"
             ],
             [
              0.3333333333333333,
              "#9c179e"
             ],
             [
              0.4444444444444444,
              "#bd3786"
             ],
             [
              0.5555555555555556,
              "#d8576b"
             ],
             [
              0.6666666666666666,
              "#ed7953"
             ],
             [
              0.7777777777777778,
              "#fb9f3a"
             ],
             [
              0.8888888888888888,
              "#fdca26"
             ],
             [
              1,
              "#f0f921"
             ]
            ],
            "type": "heatmapgl"
           }
          ],
          "histogram": [
           {
            "marker": {
             "pattern": {
              "fillmode": "overlay",
              "size": 10,
              "solidity": 0.2
             }
            },
            "type": "histogram"
           }
          ],
          "histogram2d": [
           {
            "colorbar": {
             "outlinewidth": 0,
             "ticks": ""
            },
            "colorscale": [
             [
              0,
              "#0d0887"
             ],
             [
              0.1111111111111111,
              "#46039f"
             ],
             [
              0.2222222222222222,
              "#7201a8"
             ],
             [
              0.3333333333333333,
              "#9c179e"
             ],
             [
              0.4444444444444444,
              "#bd3786"
             ],
             [
              0.5555555555555556,
              "#d8576b"
             ],
             [
              0.6666666666666666,
              "#ed7953"
             ],
             [
              0.7777777777777778,
              "#fb9f3a"
             ],
             [
              0.8888888888888888,
              "#fdca26"
             ],
             [
              1,
              "#f0f921"
             ]
            ],
            "type": "histogram2d"
           }
          ],
          "histogram2dcontour": [
           {
            "colorbar": {
             "outlinewidth": 0,
             "ticks": ""
            },
            "colorscale": [
             [
              0,
              "#0d0887"
             ],
             [
              0.1111111111111111,
              "#46039f"
             ],
             [
              0.2222222222222222,
              "#7201a8"
             ],
             [
              0.3333333333333333,
              "#9c179e"
             ],
             [
              0.4444444444444444,
              "#bd3786"
             ],
             [
              0.5555555555555556,
              "#d8576b"
             ],
             [
              0.6666666666666666,
              "#ed7953"
             ],
             [
              0.7777777777777778,
              "#fb9f3a"
             ],
             [
              0.8888888888888888,
              "#fdca26"
             ],
             [
              1,
              "#f0f921"
             ]
            ],
            "type": "histogram2dcontour"
           }
          ],
          "mesh3d": [
           {
            "colorbar": {
             "outlinewidth": 0,
             "ticks": ""
            },
            "type": "mesh3d"
           }
          ],
          "parcoords": [
           {
            "line": {
             "colorbar": {
              "outlinewidth": 0,
              "ticks": ""
             }
            },
            "type": "parcoords"
           }
          ],
          "pie": [
           {
            "automargin": true,
            "type": "pie"
           }
          ],
          "scatter": [
           {
            "marker": {
             "colorbar": {
              "outlinewidth": 0,
              "ticks": ""
             }
            },
            "type": "scatter"
           }
          ],
          "scatter3d": [
           {
            "line": {
             "colorbar": {
              "outlinewidth": 0,
              "ticks": ""
             }
            },
            "marker": {
             "colorbar": {
              "outlinewidth": 0,
              "ticks": ""
             }
            },
            "type": "scatter3d"
           }
          ],
          "scattercarpet": [
           {
            "marker": {
             "colorbar": {
              "outlinewidth": 0,
              "ticks": ""
             }
            },
            "type": "scattercarpet"
           }
          ],
          "scattergeo": [
           {
            "marker": {
             "colorbar": {
              "outlinewidth": 0,
              "ticks": ""
             }
            },
            "type": "scattergeo"
           }
          ],
          "scattergl": [
           {
            "marker": {
             "colorbar": {
              "outlinewidth": 0,
              "ticks": ""
             }
            },
            "type": "scattergl"
           }
          ],
          "scattermapbox": [
           {
            "marker": {
             "colorbar": {
              "outlinewidth": 0,
              "ticks": ""
             }
            },
            "type": "scattermapbox"
           }
          ],
          "scatterpolar": [
           {
            "marker": {
             "colorbar": {
              "outlinewidth": 0,
              "ticks": ""
             }
            },
            "type": "scatterpolar"
           }
          ],
          "scatterpolargl": [
           {
            "marker": {
             "colorbar": {
              "outlinewidth": 0,
              "ticks": ""
             }
            },
            "type": "scatterpolargl"
           }
          ],
          "scatterternary": [
           {
            "marker": {
             "colorbar": {
              "outlinewidth": 0,
              "ticks": ""
             }
            },
            "type": "scatterternary"
           }
          ],
          "surface": [
           {
            "colorbar": {
             "outlinewidth": 0,
             "ticks": ""
            },
            "colorscale": [
             [
              0,
              "#0d0887"
             ],
             [
              0.1111111111111111,
              "#46039f"
             ],
             [
              0.2222222222222222,
              "#7201a8"
             ],
             [
              0.3333333333333333,
              "#9c179e"
             ],
             [
              0.4444444444444444,
              "#bd3786"
             ],
             [
              0.5555555555555556,
              "#d8576b"
             ],
             [
              0.6666666666666666,
              "#ed7953"
             ],
             [
              0.7777777777777778,
              "#fb9f3a"
             ],
             [
              0.8888888888888888,
              "#fdca26"
             ],
             [
              1,
              "#f0f921"
             ]
            ],
            "type": "surface"
           }
          ],
          "table": [
           {
            "cells": {
             "fill": {
              "color": "#EBF0F8"
             },
             "line": {
              "color": "white"
             }
            },
            "header": {
             "fill": {
              "color": "#C8D4E3"
             },
             "line": {
              "color": "white"
             }
            },
            "type": "table"
           }
          ]
         },
         "layout": {
          "annotationdefaults": {
           "arrowcolor": "#2a3f5f",
           "arrowhead": 0,
           "arrowwidth": 1
          },
          "autotypenumbers": "strict",
          "coloraxis": {
           "colorbar": {
            "outlinewidth": 0,
            "ticks": ""
           }
          },
          "colorscale": {
           "diverging": [
            [
             0,
             "#8e0152"
            ],
            [
             0.1,
             "#c51b7d"
            ],
            [
             0.2,
             "#de77ae"
            ],
            [
             0.3,
             "#f1b6da"
            ],
            [
             0.4,
             "#fde0ef"
            ],
            [
             0.5,
             "#f7f7f7"
            ],
            [
             0.6,
             "#e6f5d0"
            ],
            [
             0.7,
             "#b8e186"
            ],
            [
             0.8,
             "#7fbc41"
            ],
            [
             0.9,
             "#4d9221"
            ],
            [
             1,
             "#276419"
            ]
           ],
           "sequential": [
            [
             0,
             "#0d0887"
            ],
            [
             0.1111111111111111,
             "#46039f"
            ],
            [
             0.2222222222222222,
             "#7201a8"
            ],
            [
             0.3333333333333333,
             "#9c179e"
            ],
            [
             0.4444444444444444,
             "#bd3786"
            ],
            [
             0.5555555555555556,
             "#d8576b"
            ],
            [
             0.6666666666666666,
             "#ed7953"
            ],
            [
             0.7777777777777778,
             "#fb9f3a"
            ],
            [
             0.8888888888888888,
             "#fdca26"
            ],
            [
             1,
             "#f0f921"
            ]
           ],
           "sequentialminus": [
            [
             0,
             "#0d0887"
            ],
            [
             0.1111111111111111,
             "#46039f"
            ],
            [
             0.2222222222222222,
             "#7201a8"
            ],
            [
             0.3333333333333333,
             "#9c179e"
            ],
            [
             0.4444444444444444,
             "#bd3786"
            ],
            [
             0.5555555555555556,
             "#d8576b"
            ],
            [
             0.6666666666666666,
             "#ed7953"
            ],
            [
             0.7777777777777778,
             "#fb9f3a"
            ],
            [
             0.8888888888888888,
             "#fdca26"
            ],
            [
             1,
             "#f0f921"
            ]
           ]
          },
          "colorway": [
           "#636efa",
           "#EF553B",
           "#00cc96",
           "#ab63fa",
           "#FFA15A",
           "#19d3f3",
           "#FF6692",
           "#B6E880",
           "#FF97FF",
           "#FECB52"
          ],
          "font": {
           "color": "#2a3f5f"
          },
          "geo": {
           "bgcolor": "white",
           "lakecolor": "white",
           "landcolor": "#E5ECF6",
           "showlakes": true,
           "showland": true,
           "subunitcolor": "white"
          },
          "hoverlabel": {
           "align": "left"
          },
          "hovermode": "closest",
          "mapbox": {
           "style": "light"
          },
          "paper_bgcolor": "white",
          "plot_bgcolor": "#E5ECF6",
          "polar": {
           "angularaxis": {
            "gridcolor": "white",
            "linecolor": "white",
            "ticks": ""
           },
           "bgcolor": "#E5ECF6",
           "radialaxis": {
            "gridcolor": "white",
            "linecolor": "white",
            "ticks": ""
           }
          },
          "scene": {
           "xaxis": {
            "backgroundcolor": "#E5ECF6",
            "gridcolor": "white",
            "gridwidth": 2,
            "linecolor": "white",
            "showbackground": true,
            "ticks": "",
            "zerolinecolor": "white"
           },
           "yaxis": {
            "backgroundcolor": "#E5ECF6",
            "gridcolor": "white",
            "gridwidth": 2,
            "linecolor": "white",
            "showbackground": true,
            "ticks": "",
            "zerolinecolor": "white"
           },
           "zaxis": {
            "backgroundcolor": "#E5ECF6",
            "gridcolor": "white",
            "gridwidth": 2,
            "linecolor": "white",
            "showbackground": true,
            "ticks": "",
            "zerolinecolor": "white"
           }
          },
          "shapedefaults": {
           "line": {
            "color": "#2a3f5f"
           }
          },
          "ternary": {
           "aaxis": {
            "gridcolor": "white",
            "linecolor": "white",
            "ticks": ""
           },
           "baxis": {
            "gridcolor": "white",
            "linecolor": "white",
            "ticks": ""
           },
           "bgcolor": "#E5ECF6",
           "caxis": {
            "gridcolor": "white",
            "linecolor": "white",
            "ticks": ""
           }
          },
          "title": {
           "x": 0.05
          },
          "xaxis": {
           "automargin": true,
           "gridcolor": "white",
           "linecolor": "white",
           "ticks": "",
           "title": {
            "standoff": 15
           },
           "zerolinecolor": "white",
           "zerolinewidth": 2
          },
          "yaxis": {
           "automargin": true,
           "gridcolor": "white",
           "linecolor": "white",
           "ticks": "",
           "title": {
            "standoff": 15
           },
           "zerolinecolor": "white",
           "zerolinewidth": 2
          }
         }
        },
        "title": {
         "text": "Design Heat Capacity"
        },
        "xaxis": {
         "title": {
          "text": "Hours"
         }
        },
        "yaxis": {
         "title": {
          "text": "Capacity [W]"
         }
        }
       }
      }
     },
     "metadata": {},
     "output_type": "display_data"
    }
   ],
   "source": [
    "fig = go.Figure()\n",
    "\n",
    "\n",
    "fig.add_trace(\n",
    "            go.Scatter(x=hvac_sizing.Time, y=hvac_sizing[\"VAV WITH PFP BOXES AND REHEAT:DesPer 1:Des Heat Cap [W]\"], mode='lines+markers', \n",
    "            name=\"Heating Period 1\"\n",
    "            ))\n",
    "fig.add_trace(\n",
    "            go.Scatter(x=hvac_sizing.Time, y=hvac_sizing[\"VAV WITH PFP BOXES AND REHEAT:DesPer 5:Des Heat Cap [W]\"], mode='lines+markers', \n",
    "            name=\"Heating Period 5 \"\n",
    "            ))\n",
    "\n",
    "fig.add_trace(\n",
    "            go.Scatter(x=hvac_sizing.Time, y=hvac_sizing[\"VAV WITH PFP BOXES AND REHEAT:DesPer 6:Des Heat Cap [W]\"], mode='lines+markers', \n",
    "            name=\"Heating Period 6\"\n",
    "            ))\n",
    "\n",
    "fig.update_layout(\n",
    "    title=f\"Design Heat Capacity\",\n",
    "    xaxis_title=\"Hours\",\n",
    "    yaxis_title=f\"Capacity [W]\",\n",
    ")\n",
    "fig.show()"
   ]
  },
  {
   "cell_type": "markdown",
   "metadata": {},
   "source": [
    "### szs zone based.. sizing"
   ]
  },
  {
   "cell_type": "code",
   "execution_count": 8,
   "metadata": {},
   "outputs": [
    {
     "data": {
      "text/html": [
       "<div>\n",
       "<style scoped>\n",
       "    .dataframe tbody tr th:only-of-type {\n",
       "        vertical-align: middle;\n",
       "    }\n",
       "\n",
       "    .dataframe tbody tr th {\n",
       "        vertical-align: top;\n",
       "    }\n",
       "\n",
       "    .dataframe thead th {\n",
       "        text-align: right;\n",
       "    }\n",
       "</style>\n",
       "<table border=\"1\" class=\"dataframe\">\n",
       "  <thead>\n",
       "    <tr style=\"text-align: right;\">\n",
       "      <th></th>\n",
       "      <th>Time</th>\n",
       "      <th>THERMAL ZONE: SPACE 101:CA_PALO-ALTO-AP ANN HTG 99.6% CONDNS DB:Des Heat Load [W]</th>\n",
       "      <th>THERMAL ZONE: SPACE 101:CA_PALO-ALTO-AP ANN CLG 0.4% CONDNS DB=&gt;MCWB:Des Sens Cool Load [W]</th>\n",
       "      <th>THERMAL ZONE: SPACE 101:CA_PALO-ALTO-AP ANN HTG 99.6% CONDNS DB:Des Heat Mass Flow [kg/s]</th>\n",
       "      <th>THERMAL ZONE: SPACE 101:CA_PALO-ALTO-AP ANN CLG 0.4% CONDNS DB=&gt;MCWB:Des Cool Mass Flow [kg/s]</th>\n",
       "      <th>THERMAL ZONE: SPACE 103:CA_PALO-ALTO-AP ANN HTG 99.6% CONDNS DB:Des Heat Load [W]</th>\n",
       "      <th>THERMAL ZONE: SPACE 103:CA_PALO-ALTO-AP ANN CLG 0.4% CONDNS DB=&gt;MCWB:Des Sens Cool Load [W]</th>\n",
       "      <th>THERMAL ZONE: SPACE 103:CA_PALO-ALTO-AP ANN HTG 99.6% CONDNS DB:Des Heat Mass Flow [kg/s]</th>\n",
       "      <th>THERMAL ZONE: SPACE 103:CA_PALO-ALTO-AP ANN CLG 0.4% CONDNS DB=&gt;MCWB:Des Cool Mass Flow [kg/s]</th>\n",
       "      <th>THERMAL ZONE: SPACE 201:CA_PALO-ALTO-AP ANN HTG 99.6% CONDNS DB:Des Heat Load [W]</th>\n",
       "      <th>THERMAL ZONE: SPACE 201:CA_PALO-ALTO-AP ANN CLG 0.4% CONDNS DB=&gt;MCWB:Des Sens Cool Load [W]</th>\n",
       "      <th>THERMAL ZONE: SPACE 201:CA_PALO-ALTO-AP ANN HTG 99.6% CONDNS DB:Des Heat Mass Flow [kg/s]</th>\n",
       "      <th>THERMAL ZONE: SPACE 201:CA_PALO-ALTO-AP ANN CLG 0.4% CONDNS DB=&gt;MCWB:Des Cool Mass Flow [kg/s]</th>\n",
       "      <th>THERMAL ZONE: SPACE 203:CA_PALO-ALTO-AP ANN HTG 99.6% CONDNS DB:Des Heat Load [W]</th>\n",
       "      <th>THERMAL ZONE: SPACE 203:CA_PALO-ALTO-AP ANN CLG 0.4% CONDNS DB=&gt;MCWB:Des Sens Cool Load [W]</th>\n",
       "      <th>THERMAL ZONE: SPACE 203:CA_PALO-ALTO-AP ANN HTG 99.6% CONDNS DB:Des Heat Mass Flow [kg/s]</th>\n",
       "      <th>THERMAL ZONE: SPACE 203:CA_PALO-ALTO-AP ANN CLG 0.4% CONDNS DB=&gt;MCWB:Des Cool Mass Flow [kg/s]</th>\n",
       "    </tr>\n",
       "  </thead>\n",
       "  <tbody>\n",
       "    <tr>\n",
       "      <th>0</th>\n",
       "      <td>00:15:00</td>\n",
       "      <td>3699.060</td>\n",
       "      <td>221.34810</td>\n",
       "      <td>0.190891</td>\n",
       "      <td>0.017077</td>\n",
       "      <td>3698.265</td>\n",
       "      <td>220.72280</td>\n",
       "      <td>0.190850</td>\n",
       "      <td>0.017029</td>\n",
       "      <td>8675.887</td>\n",
       "      <td>8175.382</td>\n",
       "      <td>0.447650</td>\n",
       "      <td>0.630706</td>\n",
       "      <td>8675.247</td>\n",
       "      <td>4085.709</td>\n",
       "      <td>0.447617</td>\n",
       "      <td>0.315206</td>\n",
       "    </tr>\n",
       "    <tr>\n",
       "      <th>1</th>\n",
       "      <td>00:30:00</td>\n",
       "      <td>3699.076</td>\n",
       "      <td>157.68610</td>\n",
       "      <td>0.190892</td>\n",
       "      <td>0.012166</td>\n",
       "      <td>3698.281</td>\n",
       "      <td>157.09790</td>\n",
       "      <td>0.190851</td>\n",
       "      <td>0.012120</td>\n",
       "      <td>8675.911</td>\n",
       "      <td>8185.302</td>\n",
       "      <td>0.447651</td>\n",
       "      <td>0.631468</td>\n",
       "      <td>8675.271</td>\n",
       "      <td>4096.330</td>\n",
       "      <td>0.447618</td>\n",
       "      <td>0.316023</td>\n",
       "    </tr>\n",
       "    <tr>\n",
       "      <th>2</th>\n",
       "      <td>00:45:00</td>\n",
       "      <td>3699.090</td>\n",
       "      <td>88.63092</td>\n",
       "      <td>0.190893</td>\n",
       "      <td>0.006838</td>\n",
       "      <td>3698.295</td>\n",
       "      <td>88.07837</td>\n",
       "      <td>0.190852</td>\n",
       "      <td>0.006795</td>\n",
       "      <td>8675.933</td>\n",
       "      <td>8189.282</td>\n",
       "      <td>0.447652</td>\n",
       "      <td>0.631772</td>\n",
       "      <td>8675.294</td>\n",
       "      <td>4100.986</td>\n",
       "      <td>0.447619</td>\n",
       "      <td>0.316380</td>\n",
       "    </tr>\n",
       "    <tr>\n",
       "      <th>3</th>\n",
       "      <td>01:00:00</td>\n",
       "      <td>3699.103</td>\n",
       "      <td>15.47193</td>\n",
       "      <td>0.190893</td>\n",
       "      <td>0.001194</td>\n",
       "      <td>3698.308</td>\n",
       "      <td>14.95502</td>\n",
       "      <td>0.190853</td>\n",
       "      <td>0.001154</td>\n",
       "      <td>8675.954</td>\n",
       "      <td>8188.803</td>\n",
       "      <td>0.447653</td>\n",
       "      <td>0.631733</td>\n",
       "      <td>8675.314</td>\n",
       "      <td>4101.156</td>\n",
       "      <td>0.447620</td>\n",
       "      <td>0.316391</td>\n",
       "    </tr>\n",
       "    <tr>\n",
       "      <th>4</th>\n",
       "      <td>01:15:00</td>\n",
       "      <td>3699.126</td>\n",
       "      <td>19.53649</td>\n",
       "      <td>0.190895</td>\n",
       "      <td>0.001507</td>\n",
       "      <td>3698.331</td>\n",
       "      <td>19.05674</td>\n",
       "      <td>0.190854</td>\n",
       "      <td>0.001470</td>\n",
       "      <td>8676.013</td>\n",
       "      <td>8194.041</td>\n",
       "      <td>0.447656</td>\n",
       "      <td>0.632134</td>\n",
       "      <td>8675.373</td>\n",
       "      <td>4106.641</td>\n",
       "      <td>0.447623</td>\n",
       "      <td>0.316813</td>\n",
       "    </tr>\n",
       "    <tr>\n",
       "      <th>...</th>\n",
       "      <td>...</td>\n",
       "      <td>...</td>\n",
       "      <td>...</td>\n",
       "      <td>...</td>\n",
       "      <td>...</td>\n",
       "      <td>...</td>\n",
       "      <td>...</td>\n",
       "      <td>...</td>\n",
       "      <td>...</td>\n",
       "      <td>...</td>\n",
       "      <td>...</td>\n",
       "      <td>...</td>\n",
       "      <td>...</td>\n",
       "      <td>...</td>\n",
       "      <td>...</td>\n",
       "      <td>...</td>\n",
       "      <td>...</td>\n",
       "    </tr>\n",
       "    <tr>\n",
       "      <th>93</th>\n",
       "      <td>23:30:00</td>\n",
       "      <td>3698.972</td>\n",
       "      <td>161.75180</td>\n",
       "      <td>0.190887</td>\n",
       "      <td>0.012481</td>\n",
       "      <td>3698.177</td>\n",
       "      <td>161.14330</td>\n",
       "      <td>0.190846</td>\n",
       "      <td>0.012434</td>\n",
       "      <td>8675.710</td>\n",
       "      <td>8059.089</td>\n",
       "      <td>0.447641</td>\n",
       "      <td>0.621761</td>\n",
       "      <td>8675.070</td>\n",
       "      <td>3967.806</td>\n",
       "      <td>0.447608</td>\n",
       "      <td>0.306120</td>\n",
       "    </tr>\n",
       "    <tr>\n",
       "      <th>94</th>\n",
       "      <td>23:45:00</td>\n",
       "      <td>3699.009</td>\n",
       "      <td>235.10260</td>\n",
       "      <td>0.190889</td>\n",
       "      <td>0.018140</td>\n",
       "      <td>3698.214</td>\n",
       "      <td>234.33390</td>\n",
       "      <td>0.190848</td>\n",
       "      <td>0.018080</td>\n",
       "      <td>8675.788</td>\n",
       "      <td>8118.453</td>\n",
       "      <td>0.447645</td>\n",
       "      <td>0.626330</td>\n",
       "      <td>8675.148</td>\n",
       "      <td>4027.660</td>\n",
       "      <td>0.447611</td>\n",
       "      <td>0.310734</td>\n",
       "    </tr>\n",
       "    <tr>\n",
       "      <th>95</th>\n",
       "      <td>24:00:00</td>\n",
       "      <td>3699.042</td>\n",
       "      <td>275.62260</td>\n",
       "      <td>0.190890</td>\n",
       "      <td>0.021265</td>\n",
       "      <td>3698.247</td>\n",
       "      <td>274.94570</td>\n",
       "      <td>0.190850</td>\n",
       "      <td>0.021212</td>\n",
       "      <td>8675.860</td>\n",
       "      <td>8157.141</td>\n",
       "      <td>0.447648</td>\n",
       "      <td>0.629305</td>\n",
       "      <td>8675.220</td>\n",
       "      <td>4066.742</td>\n",
       "      <td>0.447615</td>\n",
       "      <td>0.313745</td>\n",
       "    </tr>\n",
       "    <tr>\n",
       "      <th>96</th>\n",
       "      <td>Peak</td>\n",
       "      <td>3699.387</td>\n",
       "      <td>11863.71000</td>\n",
       "      <td>0.190908</td>\n",
       "      <td>1.141373</td>\n",
       "      <td>3698.592</td>\n",
       "      <td>11863.81000</td>\n",
       "      <td>0.190867</td>\n",
       "      <td>1.141382</td>\n",
       "      <td>8676.771</td>\n",
       "      <td>12826.340</td>\n",
       "      <td>0.447695</td>\n",
       "      <td>1.226183</td>\n",
       "      <td>8676.131</td>\n",
       "      <td>8690.932</td>\n",
       "      <td>0.447662</td>\n",
       "      <td>0.824221</td>\n",
       "    </tr>\n",
       "    <tr>\n",
       "      <th>97</th>\n",
       "      <td>Peak Vol Flow (m3/s)</td>\n",
       "      <td>NaN</td>\n",
       "      <td>NaN</td>\n",
       "      <td>0.158558</td>\n",
       "      <td>0.947966</td>\n",
       "      <td>NaN</td>\n",
       "      <td>NaN</td>\n",
       "      <td>0.158525</td>\n",
       "      <td>0.947974</td>\n",
       "      <td>NaN</td>\n",
       "      <td>NaN</td>\n",
       "      <td>0.371833</td>\n",
       "      <td>1.018405</td>\n",
       "      <td>NaN</td>\n",
       "      <td>NaN</td>\n",
       "      <td>0.371805</td>\n",
       "      <td>0.684556</td>\n",
       "    </tr>\n",
       "  </tbody>\n",
       "</table>\n",
       "<p>98 rows × 17 columns</p>\n",
       "</div>"
      ],
      "text/plain": [
       "                    Time  \\\n",
       "0               00:15:00   \n",
       "1               00:30:00   \n",
       "2               00:45:00   \n",
       "3               01:00:00   \n",
       "4               01:15:00   \n",
       "..                   ...   \n",
       "93              23:30:00   \n",
       "94              23:45:00   \n",
       "95              24:00:00   \n",
       "96                  Peak   \n",
       "97  Peak Vol Flow (m3/s)   \n",
       "\n",
       "    THERMAL ZONE: SPACE 101:CA_PALO-ALTO-AP ANN HTG 99.6% CONDNS DB:Des Heat Load [W]  \\\n",
       "0                                            3699.060                                   \n",
       "1                                            3699.076                                   \n",
       "2                                            3699.090                                   \n",
       "3                                            3699.103                                   \n",
       "4                                            3699.126                                   \n",
       "..                                                ...                                   \n",
       "93                                           3698.972                                   \n",
       "94                                           3699.009                                   \n",
       "95                                           3699.042                                   \n",
       "96                                           3699.387                                   \n",
       "97                                                NaN                                   \n",
       "\n",
       "    THERMAL ZONE: SPACE 101:CA_PALO-ALTO-AP ANN CLG 0.4% CONDNS DB=>MCWB:Des Sens Cool Load [W]  \\\n",
       "0                                           221.34810                                             \n",
       "1                                           157.68610                                             \n",
       "2                                            88.63092                                             \n",
       "3                                            15.47193                                             \n",
       "4                                            19.53649                                             \n",
       "..                                                ...                                             \n",
       "93                                          161.75180                                             \n",
       "94                                          235.10260                                             \n",
       "95                                          275.62260                                             \n",
       "96                                        11863.71000                                             \n",
       "97                                                NaN                                             \n",
       "\n",
       "    THERMAL ZONE: SPACE 101:CA_PALO-ALTO-AP ANN HTG 99.6% CONDNS DB:Des Heat Mass Flow [kg/s]  \\\n",
       "0                                            0.190891                                           \n",
       "1                                            0.190892                                           \n",
       "2                                            0.190893                                           \n",
       "3                                            0.190893                                           \n",
       "4                                            0.190895                                           \n",
       "..                                                ...                                           \n",
       "93                                           0.190887                                           \n",
       "94                                           0.190889                                           \n",
       "95                                           0.190890                                           \n",
       "96                                           0.190908                                           \n",
       "97                                           0.158558                                           \n",
       "\n",
       "    THERMAL ZONE: SPACE 101:CA_PALO-ALTO-AP ANN CLG 0.4% CONDNS DB=>MCWB:Des Cool Mass Flow [kg/s]  \\\n",
       "0                                            0.017077                                                \n",
       "1                                            0.012166                                                \n",
       "2                                            0.006838                                                \n",
       "3                                            0.001194                                                \n",
       "4                                            0.001507                                                \n",
       "..                                                ...                                                \n",
       "93                                           0.012481                                                \n",
       "94                                           0.018140                                                \n",
       "95                                           0.021265                                                \n",
       "96                                           1.141373                                                \n",
       "97                                           0.947966                                                \n",
       "\n",
       "    THERMAL ZONE: SPACE 103:CA_PALO-ALTO-AP ANN HTG 99.6% CONDNS DB:Des Heat Load [W]  \\\n",
       "0                                            3698.265                                   \n",
       "1                                            3698.281                                   \n",
       "2                                            3698.295                                   \n",
       "3                                            3698.308                                   \n",
       "4                                            3698.331                                   \n",
       "..                                                ...                                   \n",
       "93                                           3698.177                                   \n",
       "94                                           3698.214                                   \n",
       "95                                           3698.247                                   \n",
       "96                                           3698.592                                   \n",
       "97                                                NaN                                   \n",
       "\n",
       "    THERMAL ZONE: SPACE 103:CA_PALO-ALTO-AP ANN CLG 0.4% CONDNS DB=>MCWB:Des Sens Cool Load [W]  \\\n",
       "0                                           220.72280                                             \n",
       "1                                           157.09790                                             \n",
       "2                                            88.07837                                             \n",
       "3                                            14.95502                                             \n",
       "4                                            19.05674                                             \n",
       "..                                                ...                                             \n",
       "93                                          161.14330                                             \n",
       "94                                          234.33390                                             \n",
       "95                                          274.94570                                             \n",
       "96                                        11863.81000                                             \n",
       "97                                                NaN                                             \n",
       "\n",
       "    THERMAL ZONE: SPACE 103:CA_PALO-ALTO-AP ANN HTG 99.6% CONDNS DB:Des Heat Mass Flow [kg/s]  \\\n",
       "0                                            0.190850                                           \n",
       "1                                            0.190851                                           \n",
       "2                                            0.190852                                           \n",
       "3                                            0.190853                                           \n",
       "4                                            0.190854                                           \n",
       "..                                                ...                                           \n",
       "93                                           0.190846                                           \n",
       "94                                           0.190848                                           \n",
       "95                                           0.190850                                           \n",
       "96                                           0.190867                                           \n",
       "97                                           0.158525                                           \n",
       "\n",
       "    THERMAL ZONE: SPACE 103:CA_PALO-ALTO-AP ANN CLG 0.4% CONDNS DB=>MCWB:Des Cool Mass Flow [kg/s]  \\\n",
       "0                                            0.017029                                                \n",
       "1                                            0.012120                                                \n",
       "2                                            0.006795                                                \n",
       "3                                            0.001154                                                \n",
       "4                                            0.001470                                                \n",
       "..                                                ...                                                \n",
       "93                                           0.012434                                                \n",
       "94                                           0.018080                                                \n",
       "95                                           0.021212                                                \n",
       "96                                           1.141382                                                \n",
       "97                                           0.947974                                                \n",
       "\n",
       "    THERMAL ZONE: SPACE 201:CA_PALO-ALTO-AP ANN HTG 99.6% CONDNS DB:Des Heat Load [W]  \\\n",
       "0                                            8675.887                                   \n",
       "1                                            8675.911                                   \n",
       "2                                            8675.933                                   \n",
       "3                                            8675.954                                   \n",
       "4                                            8676.013                                   \n",
       "..                                                ...                                   \n",
       "93                                           8675.710                                   \n",
       "94                                           8675.788                                   \n",
       "95                                           8675.860                                   \n",
       "96                                           8676.771                                   \n",
       "97                                                NaN                                   \n",
       "\n",
       "    THERMAL ZONE: SPACE 201:CA_PALO-ALTO-AP ANN CLG 0.4% CONDNS DB=>MCWB:Des Sens Cool Load [W]  \\\n",
       "0                                            8175.382                                             \n",
       "1                                            8185.302                                             \n",
       "2                                            8189.282                                             \n",
       "3                                            8188.803                                             \n",
       "4                                            8194.041                                             \n",
       "..                                                ...                                             \n",
       "93                                           8059.089                                             \n",
       "94                                           8118.453                                             \n",
       "95                                           8157.141                                             \n",
       "96                                          12826.340                                             \n",
       "97                                                NaN                                             \n",
       "\n",
       "    THERMAL ZONE: SPACE 201:CA_PALO-ALTO-AP ANN HTG 99.6% CONDNS DB:Des Heat Mass Flow [kg/s]  \\\n",
       "0                                            0.447650                                           \n",
       "1                                            0.447651                                           \n",
       "2                                            0.447652                                           \n",
       "3                                            0.447653                                           \n",
       "4                                            0.447656                                           \n",
       "..                                                ...                                           \n",
       "93                                           0.447641                                           \n",
       "94                                           0.447645                                           \n",
       "95                                           0.447648                                           \n",
       "96                                           0.447695                                           \n",
       "97                                           0.371833                                           \n",
       "\n",
       "    THERMAL ZONE: SPACE 201:CA_PALO-ALTO-AP ANN CLG 0.4% CONDNS DB=>MCWB:Des Cool Mass Flow [kg/s]  \\\n",
       "0                                            0.630706                                                \n",
       "1                                            0.631468                                                \n",
       "2                                            0.631772                                                \n",
       "3                                            0.631733                                                \n",
       "4                                            0.632134                                                \n",
       "..                                                ...                                                \n",
       "93                                           0.621761                                                \n",
       "94                                           0.626330                                                \n",
       "95                                           0.629305                                                \n",
       "96                                           1.226183                                                \n",
       "97                                           1.018405                                                \n",
       "\n",
       "    THERMAL ZONE: SPACE 203:CA_PALO-ALTO-AP ANN HTG 99.6% CONDNS DB:Des Heat Load [W]  \\\n",
       "0                                            8675.247                                   \n",
       "1                                            8675.271                                   \n",
       "2                                            8675.294                                   \n",
       "3                                            8675.314                                   \n",
       "4                                            8675.373                                   \n",
       "..                                                ...                                   \n",
       "93                                           8675.070                                   \n",
       "94                                           8675.148                                   \n",
       "95                                           8675.220                                   \n",
       "96                                           8676.131                                   \n",
       "97                                                NaN                                   \n",
       "\n",
       "    THERMAL ZONE: SPACE 203:CA_PALO-ALTO-AP ANN CLG 0.4% CONDNS DB=>MCWB:Des Sens Cool Load [W]  \\\n",
       "0                                            4085.709                                             \n",
       "1                                            4096.330                                             \n",
       "2                                            4100.986                                             \n",
       "3                                            4101.156                                             \n",
       "4                                            4106.641                                             \n",
       "..                                                ...                                             \n",
       "93                                           3967.806                                             \n",
       "94                                           4027.660                                             \n",
       "95                                           4066.742                                             \n",
       "96                                           8690.932                                             \n",
       "97                                                NaN                                             \n",
       "\n",
       "    THERMAL ZONE: SPACE 203:CA_PALO-ALTO-AP ANN HTG 99.6% CONDNS DB:Des Heat Mass Flow [kg/s]  \\\n",
       "0                                            0.447617                                           \n",
       "1                                            0.447618                                           \n",
       "2                                            0.447619                                           \n",
       "3                                            0.447620                                           \n",
       "4                                            0.447623                                           \n",
       "..                                                ...                                           \n",
       "93                                           0.447608                                           \n",
       "94                                           0.447611                                           \n",
       "95                                           0.447615                                           \n",
       "96                                           0.447662                                           \n",
       "97                                           0.371805                                           \n",
       "\n",
       "    THERMAL ZONE: SPACE 203:CA_PALO-ALTO-AP ANN CLG 0.4% CONDNS DB=>MCWB:Des Cool Mass Flow [kg/s]  \n",
       "0                                            0.315206                                               \n",
       "1                                            0.316023                                               \n",
       "2                                            0.316380                                               \n",
       "3                                            0.316391                                               \n",
       "4                                            0.316813                                               \n",
       "..                                                ...                                               \n",
       "93                                           0.306120                                               \n",
       "94                                           0.310734                                               \n",
       "95                                           0.313745                                               \n",
       "96                                           0.824221                                               \n",
       "97                                           0.684556                                               \n",
       "\n",
       "[98 rows x 17 columns]"
      ]
     },
     "execution_count": 8,
     "metadata": {},
     "output_type": "execute_result"
    }
   ],
   "source": [
    "ddySizeFile = os.path.join(new_dir_name, \"epluszsz.csv\")\n",
    "des_loads = pd.read_csv(ddySizeFile)\n",
    "des_loads"
   ]
  },
  {
   "cell_type": "code",
   "execution_count": null,
   "metadata": {},
   "outputs": [
    {
     "data": {
      "text/plain": [
       "Index(['Time',\n",
       "       'THERMAL ZONE: SPACE 101:CA_PALO-ALTO-AP ANN HTG 99.6% CONDNS DB:Des Heat Load [W]',\n",
       "       'THERMAL ZONE: SPACE 101:CA_PALO-ALTO-AP ANN CLG 0.4% CONDNS DB=>MCWB:Des Sens Cool Load [W]',\n",
       "       'THERMAL ZONE: SPACE 101:CA_PALO-ALTO-AP ANN HTG 99.6% CONDNS DB:Des Heat Mass Flow [kg/s]',\n",
       "       'THERMAL ZONE: SPACE 101:CA_PALO-ALTO-AP ANN CLG 0.4% CONDNS DB=>MCWB:Des Cool Mass Flow [kg/s]',\n",
       "       'THERMAL ZONE: SPACE 103:CA_PALO-ALTO-AP ANN HTG 99.6% CONDNS DB:Des Heat Load [W]',\n",
       "       'THERMAL ZONE: SPACE 103:CA_PALO-ALTO-AP ANN CLG 0.4% CONDNS DB=>MCWB:Des Sens Cool Load [W]',\n",
       "       'THERMAL ZONE: SPACE 103:CA_PALO-ALTO-AP ANN HTG 99.6% CONDNS DB:Des Heat Mass Flow [kg/s]',\n",
       "       'THERMAL ZONE: SPACE 103:CA_PALO-ALTO-AP ANN CLG 0.4% CONDNS DB=>MCWB:Des Cool Mass Flow [kg/s]',\n",
       "       'THERMAL ZONE: SPACE 201:CA_PALO-ALTO-AP ANN HTG 99.6% CONDNS DB:Des Heat Load [W]',\n",
       "       'THERMAL ZONE: SPACE 201:CA_PALO-ALTO-AP ANN CLG 0.4% CONDNS DB=>MCWB:Des Sens Cool Load [W]',\n",
       "       'THERMAL ZONE: SPACE 201:CA_PALO-ALTO-AP ANN HTG 99.6% CONDNS DB:Des Heat Mass Flow [kg/s]',\n",
       "       'THERMAL ZONE: SPACE 201:CA_PALO-ALTO-AP ANN CLG 0.4% CONDNS DB=>MCWB:Des Cool Mass Flow [kg/s]',\n",
       "       'THERMAL ZONE: SPACE 203:CA_PALO-ALTO-AP ANN HTG 99.6% CONDNS DB:Des Heat Load [W]',\n",
       "       'THERMAL ZONE: SPACE 203:CA_PALO-ALTO-AP ANN CLG 0.4% CONDNS DB=>MCWB:Des Sens Cool Load [W]',\n",
       "       'THERMAL ZONE: SPACE 203:CA_PALO-ALTO-AP ANN HTG 99.6% CONDNS DB:Des Heat Mass Flow [kg/s]',\n",
       "       'THERMAL ZONE: SPACE 203:CA_PALO-ALTO-AP ANN CLG 0.4% CONDNS DB=>MCWB:Des Cool Mass Flow [kg/s]'],\n",
       "      dtype='object')"
      ]
     },
     "execution_count": 173,
     "metadata": {},
     "output_type": "execute_result"
    }
   ],
   "source": [
    "des_loads.columns"
   ]
  },
  {
   "cell_type": "code",
   "execution_count": 15,
   "metadata": {},
   "outputs": [
    {
     "data": {
      "application/vnd.plotly.v1+json": {
       "config": {
        "plotlyServerURL": "https://plot.ly"
       },
       "data": [
        {
         "mode": "lines+markers",
         "name": "Heating Space 101",
         "type": "scatter",
         "x": [
          "00:15:00",
          "00:30:00",
          "00:45:00",
          "01:00:00",
          "01:15:00",
          "01:30:00",
          "01:45:00",
          "02:00:00",
          "02:15:00",
          "02:30:00",
          "02:45:00",
          "03:00:00",
          "03:15:00",
          "03:30:00",
          "03:45:00",
          "04:00:00",
          "04:15:00",
          "04:30:00",
          "04:45:00",
          "05:00:00",
          "05:15:00",
          "05:30:00",
          "05:45:00",
          "06:00:00",
          "06:15:00",
          "06:30:00",
          "06:45:00",
          "07:00:00",
          "07:15:00",
          "07:30:00",
          "07:45:00",
          "08:00:00",
          "08:15:00",
          "08:30:00",
          "08:45:00",
          "09:00:00",
          "09:15:00",
          "09:30:00",
          "09:45:00",
          "10:00:00",
          "10:15:00",
          "10:30:00",
          "10:45:00",
          "11:00:00",
          "11:15:00",
          "11:30:00",
          "11:45:00",
          "12:00:00",
          "12:15:00",
          "12:30:00",
          "12:45:00",
          "13:00:00",
          "13:15:00",
          "13:30:00",
          "13:45:00",
          "14:00:00",
          "14:15:00",
          "14:30:00",
          "14:45:00",
          "15:00:00",
          "15:15:00",
          "15:30:00",
          "15:45:00",
          "16:00:00",
          "16:15:00",
          "16:30:00",
          "16:45:00",
          "17:00:00",
          "17:15:00",
          "17:30:00",
          "17:45:00",
          "18:00:00",
          "18:15:00",
          "18:30:00",
          "18:45:00",
          "19:00:00",
          "19:15:00",
          "19:30:00",
          "19:45:00",
          "20:00:00",
          "20:15:00",
          "20:30:00",
          "20:45:00",
          "21:00:00",
          "21:15:00",
          "21:30:00",
          "21:45:00",
          "22:00:00",
          "22:15:00",
          "22:30:00",
          "22:45:00",
          "23:00:00",
          "23:15:00",
          "23:30:00",
          "23:45:00",
          "24:00:00",
          "Peak",
          "Peak Vol Flow (m3/s)"
         ],
         "xaxis": "x",
         "y": [
          0.1908914,
          0.1908922,
          0.1908929,
          0.1908935,
          0.1908947,
          0.1908959,
          0.1908969,
          0.1908979,
          0.1908988,
          0.1908997,
          0.1909005,
          0.1909013,
          0.190902,
          0.1909027,
          0.1909034,
          0.190904,
          0.1909046,
          0.1909052,
          0.1909057,
          0.1909063,
          0.1909068,
          0.1909072,
          0.1909077,
          0.1909081,
          0.1795525,
          0.1681942,
          0.1568335,
          0.1454709,
          0.1454625,
          0.1454552,
          0.1454486,
          0.1454425,
          0.1454369,
          0.1454316,
          0.1454266,
          0.145422,
          0.1454177,
          0.1454137,
          0.14541,
          0.1454066,
          0.1454034,
          0.1454004,
          0.1453977,
          0.1453951,
          0.1453928,
          0.1453906,
          0.1453886,
          0.1453867,
          0.1453849,
          0.1453833,
          0.1453818,
          0.1453804,
          0.1453791,
          0.1453779,
          0.1453767,
          0.1453756,
          0.1453746,
          0.1453737,
          0.1453728,
          0.145372,
          0.1453712,
          0.1453704,
          0.1453697,
          0.1453691,
          0.1453684,
          0.1453678,
          0.1453673,
          0.1453667,
          0.1453662,
          0.1453658,
          0.1453653,
          0.1453649,
          0.1567223,
          0.1680805,
          0.1794406,
          0.1908027,
          0.1908091,
          0.1908167,
          0.1908244,
          0.1908317,
          0.1908386,
          0.1908448,
          0.1908505,
          0.1908557,
          0.1908604,
          0.1908646,
          0.1908685,
          0.190872,
          0.1908751,
          0.190878,
          0.1908806,
          0.190883,
          0.1908851,
          0.1908871,
          0.1908889,
          0.1908905,
          0.1909081,
          0.1585585
         ],
         "yaxis": "y"
        },
        {
         "mode": "lines+markers",
         "name": "Heating Space 103",
         "type": "scatter",
         "x": [
          "00:15:00",
          "00:30:00",
          "00:45:00",
          "01:00:00",
          "01:15:00",
          "01:30:00",
          "01:45:00",
          "02:00:00",
          "02:15:00",
          "02:30:00",
          "02:45:00",
          "03:00:00",
          "03:15:00",
          "03:30:00",
          "03:45:00",
          "04:00:00",
          "04:15:00",
          "04:30:00",
          "04:45:00",
          "05:00:00",
          "05:15:00",
          "05:30:00",
          "05:45:00",
          "06:00:00",
          "06:15:00",
          "06:30:00",
          "06:45:00",
          "07:00:00",
          "07:15:00",
          "07:30:00",
          "07:45:00",
          "08:00:00",
          "08:15:00",
          "08:30:00",
          "08:45:00",
          "09:00:00",
          "09:15:00",
          "09:30:00",
          "09:45:00",
          "10:00:00",
          "10:15:00",
          "10:30:00",
          "10:45:00",
          "11:00:00",
          "11:15:00",
          "11:30:00",
          "11:45:00",
          "12:00:00",
          "12:15:00",
          "12:30:00",
          "12:45:00",
          "13:00:00",
          "13:15:00",
          "13:30:00",
          "13:45:00",
          "14:00:00",
          "14:15:00",
          "14:30:00",
          "14:45:00",
          "15:00:00",
          "15:15:00",
          "15:30:00",
          "15:45:00",
          "16:00:00",
          "16:15:00",
          "16:30:00",
          "16:45:00",
          "17:00:00",
          "17:15:00",
          "17:30:00",
          "17:45:00",
          "18:00:00",
          "18:15:00",
          "18:30:00",
          "18:45:00",
          "19:00:00",
          "19:15:00",
          "19:30:00",
          "19:45:00",
          "20:00:00",
          "20:15:00",
          "20:30:00",
          "20:45:00",
          "21:00:00",
          "21:15:00",
          "21:30:00",
          "21:45:00",
          "22:00:00",
          "22:15:00",
          "22:30:00",
          "22:45:00",
          "23:00:00",
          "23:15:00",
          "23:30:00",
          "23:45:00",
          "24:00:00",
          "Peak",
          "Peak Vol Flow (m3/s)"
         ],
         "xaxis": "x",
         "y": [
          0.1908504,
          0.1908512,
          0.1908519,
          0.1908525,
          0.1908537,
          0.1908548,
          0.1908559,
          0.1908569,
          0.1908578,
          0.1908586,
          0.1908595,
          0.1908602,
          0.190861,
          0.1908617,
          0.1908623,
          0.190863,
          0.1908636,
          0.1908642,
          0.1908647,
          0.1908652,
          0.1908657,
          0.1908662,
          0.1908667,
          0.1908671,
          0.1795115,
          0.1681531,
          0.1567925,
          0.1454298,
          0.1454215,
          0.1454142,
          0.1454076,
          0.1454015,
          0.1453958,
          0.1453905,
          0.1453856,
          0.145381,
          0.1453767,
          0.1453727,
          0.145369,
          0.1453655,
          0.1453623,
          0.1453594,
          0.1453566,
          0.1453541,
          0.1453518,
          0.1453496,
          0.1453475,
          0.1453457,
          0.1453439,
          0.1453423,
          0.1453408,
          0.1453394,
          0.1453381,
          0.1453368,
          0.1453357,
          0.1453346,
          0.1453336,
          0.1453327,
          0.1453318,
          0.1453309,
          0.1453302,
          0.1453294,
          0.1453287,
          0.1453281,
          0.1453274,
          0.1453268,
          0.1453263,
          0.1453257,
          0.1453252,
          0.1453247,
          0.1453243,
          0.1453238,
          0.1566812,
          0.1680395,
          0.1793996,
          0.1907617,
          0.1907681,
          0.1907757,
          0.1907834,
          0.1907907,
          0.1907975,
          0.1908038,
          0.1908095,
          0.1908147,
          0.1908194,
          0.1908236,
          0.1908275,
          0.190831,
          0.1908341,
          0.190837,
          0.1908396,
          0.1908419,
          0.1908441,
          0.1908461,
          0.1908479,
          0.1908495,
          0.1908671,
          0.1585245
         ],
         "yaxis": "y"
        },
        {
         "mode": "lines+markers",
         "name": "Heating Space 201",
         "type": "scatter",
         "x": [
          "00:15:00",
          "00:30:00",
          "00:45:00",
          "01:00:00",
          "01:15:00",
          "01:30:00",
          "01:45:00",
          "02:00:00",
          "02:15:00",
          "02:30:00",
          "02:45:00",
          "03:00:00",
          "03:15:00",
          "03:30:00",
          "03:45:00",
          "04:00:00",
          "04:15:00",
          "04:30:00",
          "04:45:00",
          "05:00:00",
          "05:15:00",
          "05:30:00",
          "05:45:00",
          "06:00:00",
          "06:15:00",
          "06:30:00",
          "06:45:00",
          "07:00:00",
          "07:15:00",
          "07:30:00",
          "07:45:00",
          "08:00:00",
          "08:15:00",
          "08:30:00",
          "08:45:00",
          "09:00:00",
          "09:15:00",
          "09:30:00",
          "09:45:00",
          "10:00:00",
          "10:15:00",
          "10:30:00",
          "10:45:00",
          "11:00:00",
          "11:15:00",
          "11:30:00",
          "11:45:00",
          "12:00:00",
          "12:15:00",
          "12:30:00",
          "12:45:00",
          "13:00:00",
          "13:15:00",
          "13:30:00",
          "13:45:00",
          "14:00:00",
          "14:15:00",
          "14:30:00",
          "14:45:00",
          "15:00:00",
          "15:15:00",
          "15:30:00",
          "15:45:00",
          "16:00:00",
          "16:15:00",
          "16:30:00",
          "16:45:00",
          "17:00:00",
          "17:15:00",
          "17:30:00",
          "17:45:00",
          "18:00:00",
          "18:15:00",
          "18:30:00",
          "18:45:00",
          "19:00:00",
          "19:15:00",
          "19:30:00",
          "19:45:00",
          "20:00:00",
          "20:15:00",
          "20:30:00",
          "20:45:00",
          "21:00:00",
          "21:15:00",
          "21:30:00",
          "21:45:00",
          "22:00:00",
          "22:15:00",
          "22:30:00",
          "22:45:00",
          "23:00:00",
          "23:15:00",
          "23:30:00",
          "23:45:00",
          "24:00:00",
          "Peak",
          "Peak Vol Flow (m3/s)"
         ],
         "xaxis": "x",
         "y": [
          0.4476496,
          0.4476509,
          0.447652,
          0.4476531,
          0.4476561,
          0.447659,
          0.4476618,
          0.4476645,
          0.447667,
          0.4476695,
          0.4476718,
          0.4476741,
          0.4476762,
          0.4476783,
          0.4476803,
          0.4476822,
          0.4476841,
          0.4476858,
          0.4476875,
          0.4476892,
          0.4476908,
          0.4476923,
          0.4476938,
          0.4476952,
          0.4157804,
          0.383858,
          0.3519286,
          0.3199928,
          0.3199673,
          0.319944,
          0.3199228,
          0.3199036,
          0.3198863,
          0.3198708,
          0.3198568,
          0.3198443,
          0.319833,
          0.3198229,
          0.3198138,
          0.3198056,
          0.3197982,
          0.3197914,
          0.3197853,
          0.3197796,
          0.3197745,
          0.3197697,
          0.3197653,
          0.3197612,
          0.3197574,
          0.3197538,
          0.3197505,
          0.3197474,
          0.3197444,
          0.3197416,
          0.3197389,
          0.3197364,
          0.319734,
          0.3197317,
          0.3197295,
          0.3197274,
          0.3197254,
          0.3197235,
          0.3197216,
          0.3197199,
          0.3197182,
          0.3197165,
          0.319715,
          0.3197135,
          0.319712,
          0.3197106,
          0.3197093,
          0.319708,
          0.3516326,
          0.3835595,
          0.4154912,
          0.4474288,
          0.4474468,
          0.4474683,
          0.4474903,
          0.4475109,
          0.4475293,
          0.4475456,
          0.4475598,
          0.4475721,
          0.447583,
          0.4475925,
          0.4476009,
          0.4476084,
          0.4476151,
          0.4476212,
          0.4476266,
          0.4476317,
          0.4476363,
          0.4476406,
          0.4476445,
          0.4476482,
          0.4476952,
          0.3718327
         ],
         "yaxis": "y"
        },
        {
         "mode": "lines+markers",
         "name": "Heating Space 203",
         "type": "scatter",
         "x": [
          "00:15:00",
          "00:30:00",
          "00:45:00",
          "01:00:00",
          "01:15:00",
          "01:30:00",
          "01:45:00",
          "02:00:00",
          "02:15:00",
          "02:30:00",
          "02:45:00",
          "03:00:00",
          "03:15:00",
          "03:30:00",
          "03:45:00",
          "04:00:00",
          "04:15:00",
          "04:30:00",
          "04:45:00",
          "05:00:00",
          "05:15:00",
          "05:30:00",
          "05:45:00",
          "06:00:00",
          "06:15:00",
          "06:30:00",
          "06:45:00",
          "07:00:00",
          "07:15:00",
          "07:30:00",
          "07:45:00",
          "08:00:00",
          "08:15:00",
          "08:30:00",
          "08:45:00",
          "09:00:00",
          "09:15:00",
          "09:30:00",
          "09:45:00",
          "10:00:00",
          "10:15:00",
          "10:30:00",
          "10:45:00",
          "11:00:00",
          "11:15:00",
          "11:30:00",
          "11:45:00",
          "12:00:00",
          "12:15:00",
          "12:30:00",
          "12:45:00",
          "13:00:00",
          "13:15:00",
          "13:30:00",
          "13:45:00",
          "14:00:00",
          "14:15:00",
          "14:30:00",
          "14:45:00",
          "15:00:00",
          "15:15:00",
          "15:30:00",
          "15:45:00",
          "16:00:00",
          "16:15:00",
          "16:30:00",
          "16:45:00",
          "17:00:00",
          "17:15:00",
          "17:30:00",
          "17:45:00",
          "18:00:00",
          "18:15:00",
          "18:30:00",
          "18:45:00",
          "19:00:00",
          "19:15:00",
          "19:30:00",
          "19:45:00",
          "20:00:00",
          "20:15:00",
          "20:30:00",
          "20:45:00",
          "21:00:00",
          "21:15:00",
          "21:30:00",
          "21:45:00",
          "22:00:00",
          "22:15:00",
          "22:30:00",
          "22:45:00",
          "23:00:00",
          "23:15:00",
          "23:30:00",
          "23:45:00",
          "24:00:00",
          "Peak",
          "Peak Vol Flow (m3/s)"
         ],
         "xaxis": "x",
         "y": [
          0.4476166,
          0.4476179,
          0.447619,
          0.4476201,
          0.4476231,
          0.447626,
          0.4476288,
          0.4476315,
          0.447634,
          0.4476365,
          0.4476388,
          0.4476411,
          0.4476432,
          0.4476453,
          0.4476473,
          0.4476492,
          0.447651,
          0.4476528,
          0.4476545,
          0.4476562,
          0.4476578,
          0.4476593,
          0.4476608,
          0.4476622,
          0.4157474,
          0.383825,
          0.3518956,
          0.3199598,
          0.3199343,
          0.319911,
          0.3198898,
          0.3198706,
          0.3198533,
          0.3198377,
          0.3198238,
          0.3198113,
          0.3198,
          0.3197899,
          0.3197808,
          0.3197726,
          0.3197652,
          0.3197584,
          0.3197523,
          0.3197466,
          0.3197415,
          0.3197367,
          0.3197323,
          0.3197282,
          0.3197244,
          0.3197208,
          0.3197175,
          0.3197144,
          0.3197114,
          0.3197086,
          0.3197059,
          0.3197034,
          0.319701,
          0.3196987,
          0.3196965,
          0.3196944,
          0.3196924,
          0.3196905,
          0.3196886,
          0.3196869,
          0.3196852,
          0.3196835,
          0.319682,
          0.3196805,
          0.319679,
          0.3196776,
          0.3196763,
          0.319675,
          0.3515996,
          0.3835265,
          0.4154582,
          0.4473958,
          0.4474138,
          0.4474353,
          0.4474573,
          0.4474779,
          0.4474963,
          0.4475126,
          0.4475268,
          0.4475391,
          0.44755,
          0.4475595,
          0.4475679,
          0.4475754,
          0.4475821,
          0.4475881,
          0.4475936,
          0.4475987,
          0.4476033,
          0.4476076,
          0.4476115,
          0.4476152,
          0.4476622,
          0.3718053
         ],
         "yaxis": "y"
        },
        {
         "mode": "lines+markers",
         "name": "Heating Space 101",
         "type": "scatter",
         "x": [
          "00:15:00",
          "00:30:00",
          "00:45:00",
          "01:00:00",
          "01:15:00",
          "01:30:00",
          "01:45:00",
          "02:00:00",
          "02:15:00",
          "02:30:00",
          "02:45:00",
          "03:00:00",
          "03:15:00",
          "03:30:00",
          "03:45:00",
          "04:00:00",
          "04:15:00",
          "04:30:00",
          "04:45:00",
          "05:00:00",
          "05:15:00",
          "05:30:00",
          "05:45:00",
          "06:00:00",
          "06:15:00",
          "06:30:00",
          "06:45:00",
          "07:00:00",
          "07:15:00",
          "07:30:00",
          "07:45:00",
          "08:00:00",
          "08:15:00",
          "08:30:00",
          "08:45:00",
          "09:00:00",
          "09:15:00",
          "09:30:00",
          "09:45:00",
          "10:00:00",
          "10:15:00",
          "10:30:00",
          "10:45:00",
          "11:00:00",
          "11:15:00",
          "11:30:00",
          "11:45:00",
          "12:00:00",
          "12:15:00",
          "12:30:00",
          "12:45:00",
          "13:00:00",
          "13:15:00",
          "13:30:00",
          "13:45:00",
          "14:00:00",
          "14:15:00",
          "14:30:00",
          "14:45:00",
          "15:00:00",
          "15:15:00",
          "15:30:00",
          "15:45:00",
          "16:00:00",
          "16:15:00",
          "16:30:00",
          "16:45:00",
          "17:00:00",
          "17:15:00",
          "17:30:00",
          "17:45:00",
          "18:00:00",
          "18:15:00",
          "18:30:00",
          "18:45:00",
          "19:00:00",
          "19:15:00",
          "19:30:00",
          "19:45:00",
          "20:00:00",
          "20:15:00",
          "20:30:00",
          "20:45:00",
          "21:00:00",
          "21:15:00",
          "21:30:00",
          "21:45:00",
          "22:00:00",
          "22:15:00",
          "22:30:00",
          "22:45:00",
          "23:00:00",
          "23:15:00",
          "23:30:00",
          "23:45:00",
          "24:00:00",
          "Peak",
          "Peak Vol Flow (m3/s)"
         ],
         "xaxis": "x2",
         "y": [
          3699.06,
          3699.076,
          3699.09,
          3699.103,
          3699.126,
          3699.148,
          3699.169,
          3699.188,
          3699.206,
          3699.223,
          3699.239,
          3699.254,
          3699.268,
          3699.282,
          3699.295,
          3699.307,
          3699.319,
          3699.33,
          3699.34,
          3699.351,
          3699.36,
          3699.37,
          3699.379,
          3699.387,
          3479.34,
          3259.214,
          3039.034,
          2818.81,
          2818.601,
          2818.434,
          2818.284,
          2818.148,
          2818.022,
          2817.905,
          2817.797,
          2817.697,
          2817.604,
          2817.519,
          2817.44,
          2817.367,
          2817.3,
          2817.239,
          2817.182,
          2817.129,
          2817.08,
          2817.035,
          2816.994,
          2816.956,
          2816.92,
          2816.887,
          2816.857,
          2816.828,
          2816.802,
          2816.777,
          2816.754,
          2816.733,
          2816.713,
          2816.694,
          2816.677,
          2816.66,
          2816.644,
          2816.63,
          2816.616,
          2816.603,
          2816.591,
          2816.579,
          2816.568,
          2816.557,
          2816.547,
          2816.538,
          2816.529,
          2816.52,
          3036.576,
          3256.662,
          3476.8,
          3696.995,
          3697.179,
          3697.382,
          3697.578,
          3697.757,
          3697.919,
          3698.064,
          3698.194,
          3698.309,
          3698.412,
          3698.505,
          3698.587,
          3698.661,
          3698.727,
          3698.787,
          3698.84,
          3698.889,
          3698.933,
          3698.972,
          3699.009,
          3699.042,
          3699.387,
          null
         ],
         "yaxis": "y2"
        },
        {
         "mode": "lines+markers",
         "name": "Heating Space 103",
         "type": "scatter",
         "x": [
          "00:15:00",
          "00:30:00",
          "00:45:00",
          "01:00:00",
          "01:15:00",
          "01:30:00",
          "01:45:00",
          "02:00:00",
          "02:15:00",
          "02:30:00",
          "02:45:00",
          "03:00:00",
          "03:15:00",
          "03:30:00",
          "03:45:00",
          "04:00:00",
          "04:15:00",
          "04:30:00",
          "04:45:00",
          "05:00:00",
          "05:15:00",
          "05:30:00",
          "05:45:00",
          "06:00:00",
          "06:15:00",
          "06:30:00",
          "06:45:00",
          "07:00:00",
          "07:15:00",
          "07:30:00",
          "07:45:00",
          "08:00:00",
          "08:15:00",
          "08:30:00",
          "08:45:00",
          "09:00:00",
          "09:15:00",
          "09:30:00",
          "09:45:00",
          "10:00:00",
          "10:15:00",
          "10:30:00",
          "10:45:00",
          "11:00:00",
          "11:15:00",
          "11:30:00",
          "11:45:00",
          "12:00:00",
          "12:15:00",
          "12:30:00",
          "12:45:00",
          "13:00:00",
          "13:15:00",
          "13:30:00",
          "13:45:00",
          "14:00:00",
          "14:15:00",
          "14:30:00",
          "14:45:00",
          "15:00:00",
          "15:15:00",
          "15:30:00",
          "15:45:00",
          "16:00:00",
          "16:15:00",
          "16:30:00",
          "16:45:00",
          "17:00:00",
          "17:15:00",
          "17:30:00",
          "17:45:00",
          "18:00:00",
          "18:15:00",
          "18:30:00",
          "18:45:00",
          "19:00:00",
          "19:15:00",
          "19:30:00",
          "19:45:00",
          "20:00:00",
          "20:15:00",
          "20:30:00",
          "20:45:00",
          "21:00:00",
          "21:15:00",
          "21:30:00",
          "21:45:00",
          "22:00:00",
          "22:15:00",
          "22:30:00",
          "22:45:00",
          "23:00:00",
          "23:15:00",
          "23:30:00",
          "23:45:00",
          "24:00:00",
          "Peak",
          "Peak Vol Flow (m3/s)"
         ],
         "xaxis": "x2",
         "y": [
          3698.265,
          3698.281,
          3698.295,
          3698.308,
          3698.331,
          3698.353,
          3698.374,
          3698.393,
          3698.411,
          3698.428,
          3698.444,
          3698.459,
          3698.473,
          3698.487,
          3698.5,
          3698.512,
          3698.524,
          3698.535,
          3698.546,
          3698.556,
          3698.566,
          3698.575,
          3698.584,
          3698.592,
          3478.545,
          3258.419,
          3038.239,
          2818.015,
          2817.806,
          2817.639,
          2817.49,
          2817.353,
          2817.227,
          2817.11,
          2817.002,
          2816.902,
          2816.81,
          2816.724,
          2816.645,
          2816.573,
          2816.506,
          2816.444,
          2816.387,
          2816.334,
          2816.286,
          2816.241,
          2816.199,
          2816.161,
          2816.125,
          2816.092,
          2816.062,
          2816.033,
          2816.007,
          2815.982,
          2815.96,
          2815.938,
          2815.918,
          2815.899,
          2815.882,
          2815.865,
          2815.85,
          2815.835,
          2815.821,
          2815.808,
          2815.796,
          2815.784,
          2815.773,
          2815.763,
          2815.753,
          2815.743,
          2815.734,
          2815.726,
          3035.781,
          3255.867,
          3476.005,
          3696.2,
          3696.384,
          3696.588,
          3696.783,
          3696.962,
          3697.124,
          3697.269,
          3697.399,
          3697.514,
          3697.618,
          3697.71,
          3697.792,
          3697.866,
          3697.932,
          3697.992,
          3698.046,
          3698.094,
          3698.138,
          3698.177,
          3698.214,
          3698.247,
          3698.592,
          null
         ],
         "yaxis": "y2"
        },
        {
         "mode": "lines+markers",
         "name": "Heating Space 201",
         "type": "scatter",
         "x": [
          "00:15:00",
          "00:30:00",
          "00:45:00",
          "01:00:00",
          "01:15:00",
          "01:30:00",
          "01:45:00",
          "02:00:00",
          "02:15:00",
          "02:30:00",
          "02:45:00",
          "03:00:00",
          "03:15:00",
          "03:30:00",
          "03:45:00",
          "04:00:00",
          "04:15:00",
          "04:30:00",
          "04:45:00",
          "05:00:00",
          "05:15:00",
          "05:30:00",
          "05:45:00",
          "06:00:00",
          "06:15:00",
          "06:30:00",
          "06:45:00",
          "07:00:00",
          "07:15:00",
          "07:30:00",
          "07:45:00",
          "08:00:00",
          "08:15:00",
          "08:30:00",
          "08:45:00",
          "09:00:00",
          "09:15:00",
          "09:30:00",
          "09:45:00",
          "10:00:00",
          "10:15:00",
          "10:30:00",
          "10:45:00",
          "11:00:00",
          "11:15:00",
          "11:30:00",
          "11:45:00",
          "12:00:00",
          "12:15:00",
          "12:30:00",
          "12:45:00",
          "13:00:00",
          "13:15:00",
          "13:30:00",
          "13:45:00",
          "14:00:00",
          "14:15:00",
          "14:30:00",
          "14:45:00",
          "15:00:00",
          "15:15:00",
          "15:30:00",
          "15:45:00",
          "16:00:00",
          "16:15:00",
          "16:30:00",
          "16:45:00",
          "17:00:00",
          "17:15:00",
          "17:30:00",
          "17:45:00",
          "18:00:00",
          "18:15:00",
          "18:30:00",
          "18:45:00",
          "19:00:00",
          "19:15:00",
          "19:30:00",
          "19:45:00",
          "20:00:00",
          "20:15:00",
          "20:30:00",
          "20:45:00",
          "21:00:00",
          "21:15:00",
          "21:30:00",
          "21:45:00",
          "22:00:00",
          "22:15:00",
          "22:30:00",
          "22:45:00",
          "23:00:00",
          "23:15:00",
          "23:30:00",
          "23:45:00",
          "24:00:00",
          "Peak",
          "Peak Vol Flow (m3/s)"
         ],
         "xaxis": "x2",
         "y": [
          8675.887,
          8675.911,
          8675.933,
          8675.954,
          8676.013,
          8676.07,
          8676.124,
          8676.175,
          8676.224,
          8676.272,
          8676.317,
          8676.361,
          8676.403,
          8676.443,
          8676.481,
          8676.519,
          8676.554,
          8676.589,
          8676.622,
          8676.654,
          8676.685,
          8676.715,
          8676.743,
          8676.771,
          8058.231,
          7439.42,
          6820.421,
          6201.261,
          6200.525,
          6199.933,
          6199.414,
          6198.957,
          6198.555,
          6198.199,
          6197.886,
          6197.609,
          6197.364,
          6197.147,
          6196.953,
          6196.78,
          6196.625,
          6196.486,
          6196.36,
          6196.245,
          6196.141,
          6196.045,
          6195.957,
          6195.876,
          6195.8,
          6195.73,
          6195.664,
          6195.602,
          6195.544,
          6195.489,
          6195.437,
          6195.388,
          6195.341,
          6195.296,
          6195.253,
          6195.213,
          6195.174,
          6195.136,
          6195.101,
          6195.066,
          6195.033,
          6195.002,
          6194.971,
          6194.942,
          6194.914,
          6194.886,
          6194.86,
          6194.835,
          6813.424,
          7432.129,
          8051.053,
          8670.188,
          8670.894,
          8671.641,
          8672.302,
          8672.861,
          8673.327,
          8673.715,
          8674.04,
          8674.314,
          8674.547,
          8674.747,
          8674.921,
          8675.073,
          8675.208,
          8675.328,
          8675.437,
          8675.536,
          8675.627,
          8675.71,
          8675.788,
          8675.86,
          8676.771,
          null
         ],
         "yaxis": "y2"
        },
        {
         "mode": "lines+markers",
         "name": "Heating Space 203",
         "type": "scatter",
         "x": [
          "00:15:00",
          "00:30:00",
          "00:45:00",
          "01:00:00",
          "01:15:00",
          "01:30:00",
          "01:45:00",
          "02:00:00",
          "02:15:00",
          "02:30:00",
          "02:45:00",
          "03:00:00",
          "03:15:00",
          "03:30:00",
          "03:45:00",
          "04:00:00",
          "04:15:00",
          "04:30:00",
          "04:45:00",
          "05:00:00",
          "05:15:00",
          "05:30:00",
          "05:45:00",
          "06:00:00",
          "06:15:00",
          "06:30:00",
          "06:45:00",
          "07:00:00",
          "07:15:00",
          "07:30:00",
          "07:45:00",
          "08:00:00",
          "08:15:00",
          "08:30:00",
          "08:45:00",
          "09:00:00",
          "09:15:00",
          "09:30:00",
          "09:45:00",
          "10:00:00",
          "10:15:00",
          "10:30:00",
          "10:45:00",
          "11:00:00",
          "11:15:00",
          "11:30:00",
          "11:45:00",
          "12:00:00",
          "12:15:00",
          "12:30:00",
          "12:45:00",
          "13:00:00",
          "13:15:00",
          "13:30:00",
          "13:45:00",
          "14:00:00",
          "14:15:00",
          "14:30:00",
          "14:45:00",
          "15:00:00",
          "15:15:00",
          "15:30:00",
          "15:45:00",
          "16:00:00",
          "16:15:00",
          "16:30:00",
          "16:45:00",
          "17:00:00",
          "17:15:00",
          "17:30:00",
          "17:45:00",
          "18:00:00",
          "18:15:00",
          "18:30:00",
          "18:45:00",
          "19:00:00",
          "19:15:00",
          "19:30:00",
          "19:45:00",
          "20:00:00",
          "20:15:00",
          "20:30:00",
          "20:45:00",
          "21:00:00",
          "21:15:00",
          "21:30:00",
          "21:45:00",
          "22:00:00",
          "22:15:00",
          "22:30:00",
          "22:45:00",
          "23:00:00",
          "23:15:00",
          "23:30:00",
          "23:45:00",
          "24:00:00",
          "Peak",
          "Peak Vol Flow (m3/s)"
         ],
         "xaxis": "x2",
         "y": [
          8675.247,
          8675.271,
          8675.294,
          8675.314,
          8675.373,
          8675.43,
          8675.484,
          8675.535,
          8675.585,
          8675.632,
          8675.678,
          8675.721,
          8675.763,
          8675.803,
          8675.842,
          8675.879,
          8675.915,
          8675.949,
          8675.983,
          8676.015,
          8676.045,
          8676.075,
          8676.104,
          8676.131,
          8057.591,
          7438.78,
          6819.782,
          6200.622,
          6199.886,
          6199.293,
          6198.775,
          6198.318,
          6197.915,
          6197.56,
          6197.246,
          6196.969,
          6196.724,
          6196.507,
          6196.314,
          6196.141,
          6195.986,
          6195.846,
          6195.72,
          6195.606,
          6195.501,
          6195.406,
          6195.318,
          6195.236,
          6195.161,
          6195.09,
          6195.024,
          6194.963,
          6194.904,
          6194.849,
          6194.797,
          6194.748,
          6194.701,
          6194.657,
          6194.614,
          6194.573,
          6194.534,
          6194.497,
          6194.461,
          6194.427,
          6194.394,
          6194.362,
          6194.332,
          6194.302,
          6194.274,
          6194.247,
          6194.221,
          6194.196,
          6812.785,
          7431.49,
          8050.413,
          8669.548,
          8670.255,
          8671.002,
          8671.663,
          8672.221,
          8672.687,
          8673.076,
          8673.401,
          8673.674,
          8673.907,
          8674.107,
          8674.281,
          8674.433,
          8674.568,
          8674.689,
          8674.798,
          8674.896,
          8674.987,
          8675.07,
          8675.148,
          8675.22,
          8676.131,
          null
         ],
         "yaxis": "y2"
        },
        {
         "mode": "lines+markers",
         "name": "Cooling Space 101",
         "type": "scatter",
         "x": [
          "00:15:00",
          "00:30:00",
          "00:45:00",
          "01:00:00",
          "01:15:00",
          "01:30:00",
          "01:45:00",
          "02:00:00",
          "02:15:00",
          "02:30:00",
          "02:45:00",
          "03:00:00",
          "03:15:00",
          "03:30:00",
          "03:45:00",
          "04:00:00",
          "04:15:00",
          "04:30:00",
          "04:45:00",
          "05:00:00",
          "05:15:00",
          "05:30:00",
          "05:45:00",
          "06:00:00",
          "06:15:00",
          "06:30:00",
          "06:45:00",
          "07:00:00",
          "07:15:00",
          "07:30:00",
          "07:45:00",
          "08:00:00",
          "08:15:00",
          "08:30:00",
          "08:45:00",
          "09:00:00",
          "09:15:00",
          "09:30:00",
          "09:45:00",
          "10:00:00",
          "10:15:00",
          "10:30:00",
          "10:45:00",
          "11:00:00",
          "11:15:00",
          "11:30:00",
          "11:45:00",
          "12:00:00",
          "12:15:00",
          "12:30:00",
          "12:45:00",
          "13:00:00",
          "13:15:00",
          "13:30:00",
          "13:45:00",
          "14:00:00",
          "14:15:00",
          "14:30:00",
          "14:45:00",
          "15:00:00",
          "15:15:00",
          "15:30:00",
          "15:45:00",
          "16:00:00",
          "16:15:00",
          "16:30:00",
          "16:45:00",
          "17:00:00",
          "17:15:00",
          "17:30:00",
          "17:45:00",
          "18:00:00",
          "18:15:00",
          "18:30:00",
          "18:45:00",
          "19:00:00",
          "19:15:00",
          "19:30:00",
          "19:45:00",
          "20:00:00",
          "20:15:00",
          "20:30:00",
          "20:45:00",
          "21:00:00",
          "21:15:00",
          "21:30:00",
          "21:45:00",
          "22:00:00",
          "22:15:00",
          "22:30:00",
          "22:45:00",
          "23:00:00",
          "23:15:00",
          "23:30:00",
          "23:45:00",
          "24:00:00",
          "Peak",
          "Peak Vol Flow (m3/s)"
         ],
         "xaxis": "x3",
         "y": [
          221.3481,
          157.6861,
          88.63092,
          15.47193,
          19.53649,
          24.53398,
          28.89399,
          32.5918,
          35.53325,
          37.87253,
          39.74698,
          41.21933,
          42.17333,
          42.71112,
          42.90173,
          42.8493,
          42.80504,
          42.77497,
          42.77746,
          42.83266,
          43.67204,
          45.31652,
          47.79219,
          51.13352,
          3382.295,
          6235.426,
          9056.459,
          11863.71,
          11335.75,
          11280.22,
          11252.18,
          11233.87,
          11219.46,
          11207.68,
          11198.01,
          11190.32,
          11184.3,
          11179.85,
          11176.92,
          11175.34,
          11174.95,
          11175.6,
          11177.09,
          11179.36,
          11182.16,
          11185.42,
          11189.07,
          11192.98,
          11197.26,
          11201.77,
          11206.44,
          11211.21,
          11215.97,
          11220.66,
          11225.25,
          11229.71,
          11233.82,
          11237.59,
          11241,
          11244.03,
          11246.67,
          11248.85,
          11250.54,
          11251.68,
          11252.47,
          11252.86,
          11252.83,
          11252.34,
          11251.4,
          11249.98,
          11248.08,
          11245.68,
          11242.61,
          11238.89,
          11234.5,
          11229.46,
          11224.26,
          11218.88,
          11213.32,
          11207.59,
          11201.58,
          11195.34,
          11188.91,
          11182.34,
          11175.54,
          11168.57,
          11161.45,
          11154.22,
          8362.94,
          5573.463,
          2785.81,
          38.14054,
          95.20028,
          161.7518,
          235.1026,
          275.6226,
          11863.71,
          null
         ],
         "yaxis": "y3"
        },
        {
         "mode": "lines+markers",
         "name": "Cooling Space 103",
         "type": "scatter",
         "x": [
          "00:15:00",
          "00:30:00",
          "00:45:00",
          "01:00:00",
          "01:15:00",
          "01:30:00",
          "01:45:00",
          "02:00:00",
          "02:15:00",
          "02:30:00",
          "02:45:00",
          "03:00:00",
          "03:15:00",
          "03:30:00",
          "03:45:00",
          "04:00:00",
          "04:15:00",
          "04:30:00",
          "04:45:00",
          "05:00:00",
          "05:15:00",
          "05:30:00",
          "05:45:00",
          "06:00:00",
          "06:15:00",
          "06:30:00",
          "06:45:00",
          "07:00:00",
          "07:15:00",
          "07:30:00",
          "07:45:00",
          "08:00:00",
          "08:15:00",
          "08:30:00",
          "08:45:00",
          "09:00:00",
          "09:15:00",
          "09:30:00",
          "09:45:00",
          "10:00:00",
          "10:15:00",
          "10:30:00",
          "10:45:00",
          "11:00:00",
          "11:15:00",
          "11:30:00",
          "11:45:00",
          "12:00:00",
          "12:15:00",
          "12:30:00",
          "12:45:00",
          "13:00:00",
          "13:15:00",
          "13:30:00",
          "13:45:00",
          "14:00:00",
          "14:15:00",
          "14:30:00",
          "14:45:00",
          "15:00:00",
          "15:15:00",
          "15:30:00",
          "15:45:00",
          "16:00:00",
          "16:15:00",
          "16:30:00",
          "16:45:00",
          "17:00:00",
          "17:15:00",
          "17:30:00",
          "17:45:00",
          "18:00:00",
          "18:15:00",
          "18:30:00",
          "18:45:00",
          "19:00:00",
          "19:15:00",
          "19:30:00",
          "19:45:00",
          "20:00:00",
          "20:15:00",
          "20:30:00",
          "20:45:00",
          "21:00:00",
          "21:15:00",
          "21:30:00",
          "21:45:00",
          "22:00:00",
          "22:15:00",
          "22:30:00",
          "22:45:00",
          "23:00:00",
          "23:15:00",
          "23:30:00",
          "23:45:00",
          "24:00:00",
          "Peak",
          "Peak Vol Flow (m3/s)"
         ],
         "xaxis": "x3",
         "y": [
          220.7228,
          157.0979,
          88.07837,
          14.95502,
          19.05674,
          24.09142,
          28.48847,
          32.22304,
          35.20083,
          37.57591,
          39.48552,
          40.99183,
          41.97872,
          42.5485,
          42.77023,
          42.74855,
          42.73447,
          42.73385,
          42.765,
          42.84807,
          43.71455,
          45.38534,
          47.88654,
          51.25264,
          3382.43,
          6235.543,
          9056.564,
          11863.81,
          11335.85,
          11280.34,
          11252.31,
          11234.01,
          11219.61,
          11207.82,
          11198.15,
          11190.45,
          11184.42,
          11179.95,
          11177.01,
          11175.41,
          11175,
          11175.63,
          11177.11,
          11179.36,
          11182.14,
          11185.38,
          11189.01,
          11192.91,
          11197.17,
          11201.66,
          11206.32,
          11211.07,
          11215.81,
          11220.48,
          11225.06,
          11229.5,
          11233.6,
          11237.35,
          11240.75,
          11243.77,
          11246.4,
          11248.57,
          11250.25,
          11251.38,
          11252.15,
          11252.54,
          11252.49,
          11252,
          11251.05,
          11249.62,
          11247.71,
          11245.3,
          11242.23,
          11238.5,
          11234.11,
          11229.06,
          11223.85,
          11218.47,
          11212.9,
          11207.16,
          11201.15,
          11194.9,
          11188.47,
          11181.89,
          11175.08,
          11168.11,
          11160.98,
          11153.74,
          8362.585,
          5573.225,
          2785.69,
          37.89772,
          94.7628,
          161.1433,
          234.3339,
          274.9457,
          11863.81,
          null
         ],
         "yaxis": "y3"
        },
        {
         "mode": "lines+markers",
         "name": "Cooling Space 201",
         "type": "scatter",
         "x": [
          "00:15:00",
          "00:30:00",
          "00:45:00",
          "01:00:00",
          "01:15:00",
          "01:30:00",
          "01:45:00",
          "02:00:00",
          "02:15:00",
          "02:30:00",
          "02:45:00",
          "03:00:00",
          "03:15:00",
          "03:30:00",
          "03:45:00",
          "04:00:00",
          "04:15:00",
          "04:30:00",
          "04:45:00",
          "05:00:00",
          "05:15:00",
          "05:30:00",
          "05:45:00",
          "06:00:00",
          "06:15:00",
          "06:30:00",
          "06:45:00",
          "07:00:00",
          "07:15:00",
          "07:30:00",
          "07:45:00",
          "08:00:00",
          "08:15:00",
          "08:30:00",
          "08:45:00",
          "09:00:00",
          "09:15:00",
          "09:30:00",
          "09:45:00",
          "10:00:00",
          "10:15:00",
          "10:30:00",
          "10:45:00",
          "11:00:00",
          "11:15:00",
          "11:30:00",
          "11:45:00",
          "12:00:00",
          "12:15:00",
          "12:30:00",
          "12:45:00",
          "13:00:00",
          "13:15:00",
          "13:30:00",
          "13:45:00",
          "14:00:00",
          "14:15:00",
          "14:30:00",
          "14:45:00",
          "15:00:00",
          "15:15:00",
          "15:30:00",
          "15:45:00",
          "16:00:00",
          "16:15:00",
          "16:30:00",
          "16:45:00",
          "17:00:00",
          "17:15:00",
          "17:30:00",
          "17:45:00",
          "18:00:00",
          "18:15:00",
          "18:30:00",
          "18:45:00",
          "19:00:00",
          "19:15:00",
          "19:30:00",
          "19:45:00",
          "20:00:00",
          "20:15:00",
          "20:30:00",
          "20:45:00",
          "21:00:00",
          "21:15:00",
          "21:30:00",
          "21:45:00",
          "22:00:00",
          "22:15:00",
          "22:30:00",
          "22:45:00",
          "23:00:00",
          "23:15:00",
          "23:30:00",
          "23:45:00",
          "24:00:00",
          "Peak",
          "Peak Vol Flow (m3/s)"
         ],
         "xaxis": "x3",
         "y": [
          8175.382,
          8185.302,
          8189.282,
          8188.803,
          8194.041,
          8197.714,
          8200.331,
          8202.336,
          8203.235,
          8203.308,
          8202.795,
          8201.858,
          8199.803,
          8196.762,
          8192.844,
          8188.179,
          8183.739,
          8179.547,
          8175.686,
          8172.228,
          8171.7,
          8174.487,
          8180.745,
          8190.45,
          10243.25,
          11143.58,
          11999.12,
          12826.34,
          11592.49,
          11497.39,
          11436.49,
          11395.75,
          11367.62,
          11349.26,
          11338.85,
          11335.26,
          11336.19,
          11340.9,
          11348.8,
          11359.42,
          11372.36,
          11387.3,
          11404.04,
          11422.37,
          11440.94,
          11459.5,
          11477.73,
          11495.38,
          11513.36,
          11531.54,
          11549.84,
          11568.18,
          11586.05,
          11603.36,
          11620,
          11635.86,
          11649.99,
          11662.23,
          11672.48,
          11680.63,
          11686.28,
          11689.29,
          11689.5,
          11686.76,
          11682.49,
          11676.68,
          11669.29,
          11660.3,
          11649.61,
          11637.22,
          11623.12,
          11607.28,
          11588.72,
          11567.28,
          11542.82,
          11515.29,
          11487.83,
          11460.76,
          11434.26,
          11408.47,
          11382.87,
          11357.44,
          11332.23,
          11307.31,
          11281.95,
          11256.19,
          11230.05,
          11203.55,
          9467.353,
          8601.067,
          7788.443,
          7008.062,
          7959.933,
          8059.089,
          8118.453,
          8157.141,
          12826.34,
          null
         ],
         "yaxis": "y3"
        },
        {
         "mode": "lines+markers",
         "name": "Cooling Space 203",
         "type": "scatter",
         "x": [
          "00:15:00",
          "00:30:00",
          "00:45:00",
          "01:00:00",
          "01:15:00",
          "01:30:00",
          "01:45:00",
          "02:00:00",
          "02:15:00",
          "02:30:00",
          "02:45:00",
          "03:00:00",
          "03:15:00",
          "03:30:00",
          "03:45:00",
          "04:00:00",
          "04:15:00",
          "04:30:00",
          "04:45:00",
          "05:00:00",
          "05:15:00",
          "05:30:00",
          "05:45:00",
          "06:00:00",
          "06:15:00",
          "06:30:00",
          "06:45:00",
          "07:00:00",
          "07:15:00",
          "07:30:00",
          "07:45:00",
          "08:00:00",
          "08:15:00",
          "08:30:00",
          "08:45:00",
          "09:00:00",
          "09:15:00",
          "09:30:00",
          "09:45:00",
          "10:00:00",
          "10:15:00",
          "10:30:00",
          "10:45:00",
          "11:00:00",
          "11:15:00",
          "11:30:00",
          "11:45:00",
          "12:00:00",
          "12:15:00",
          "12:30:00",
          "12:45:00",
          "13:00:00",
          "13:15:00",
          "13:30:00",
          "13:45:00",
          "14:00:00",
          "14:15:00",
          "14:30:00",
          "14:45:00",
          "15:00:00",
          "15:15:00",
          "15:30:00",
          "15:45:00",
          "16:00:00",
          "16:15:00",
          "16:30:00",
          "16:45:00",
          "17:00:00",
          "17:15:00",
          "17:30:00",
          "17:45:00",
          "18:00:00",
          "18:15:00",
          "18:30:00",
          "18:45:00",
          "19:00:00",
          "19:15:00",
          "19:30:00",
          "19:45:00",
          "20:00:00",
          "20:15:00",
          "20:30:00",
          "20:45:00",
          "21:00:00",
          "21:15:00",
          "21:30:00",
          "21:45:00",
          "22:00:00",
          "22:15:00",
          "22:30:00",
          "22:45:00",
          "23:00:00",
          "23:15:00",
          "23:30:00",
          "23:45:00",
          "24:00:00",
          "Peak",
          "Peak Vol Flow (m3/s)"
         ],
         "xaxis": "x3",
         "y": [
          4085.709,
          4096.33,
          4100.986,
          4101.156,
          4106.641,
          4110.53,
          4113.345,
          4115.534,
          4116.603,
          4116.833,
          4116.467,
          4115.666,
          4113.737,
          4110.814,
          4107.006,
          4102.446,
          4098.106,
          4094.009,
          4090.237,
          4086.867,
          4086.422,
          4089.288,
          4095.624,
          4105.403,
          6137.324,
          7027.935,
          7873.642,
          8690.932,
          7467.997,
          7372.555,
          7311.324,
          7270.289,
          7241.899,
          7223.298,
          7212.686,
          7208.913,
          7209.672,
          7214.23,
          7221.994,
          7232.48,
          7245.297,
          7260.116,
          7276.743,
          7294.966,
          7313.435,
          7331.892,
          7350.023,
          7367.581,
          7385.461,
          7403.556,
          7421.772,
          7440.026,
          7457.822,
          7475.052,
          7491.611,
          7507.402,
          7521.462,
          7533.642,
          7543.831,
          7551.916,
          7557.511,
          7560.47,
          7560.631,
          7557.848,
          7553.537,
          7547.683,
          7540.257,
          7531.229,
          7520.517,
          7508.099,
          7493.967,
          7478.104,
          7459.532,
          7438.068,
          7413.603,
          7386.062,
          7358.598,
          7331.524,
          7305.025,
          7279.234,
          7253.629,
          7228.208,
          7203.005,
          7178.082,
          7152.734,
          7126.983,
          7100.853,
          7074.365,
          5466.523,
          4609.177,
          3805.808,
          3034.856,
          3867.93,
          3967.806,
          4027.66,
          4066.742,
          8690.932,
          null
         ],
         "yaxis": "y3"
        }
       ],
       "layout": {
        "annotations": [
         {
          "font": {
           "size": 16
          },
          "showarrow": false,
          "text": "Heat Mass Flow [kg/s]",
          "x": 0.14444444444444446,
          "xanchor": "center",
          "xref": "paper",
          "y": 1,
          "yanchor": "bottom",
          "yref": "paper"
         },
         {
          "font": {
           "size": 16
          },
          "showarrow": false,
          "text": "Heat Load [W]",
          "x": 0.5,
          "xanchor": "center",
          "xref": "paper",
          "y": 1,
          "yanchor": "bottom",
          "yref": "paper"
         },
         {
          "font": {
           "size": 16
          },
          "showarrow": false,
          "text": "Cool Load [W]",
          "x": 0.8555555555555556,
          "xanchor": "center",
          "xref": "paper",
          "y": 1,
          "yanchor": "bottom",
          "yref": "paper"
         }
        ],
        "template": {
         "data": {
          "bar": [
           {
            "error_x": {
             "color": "#2a3f5f"
            },
            "error_y": {
             "color": "#2a3f5f"
            },
            "marker": {
             "line": {
              "color": "#E5ECF6",
              "width": 0.5
             },
             "pattern": {
              "fillmode": "overlay",
              "size": 10,
              "solidity": 0.2
             }
            },
            "type": "bar"
           }
          ],
          "barpolar": [
           {
            "marker": {
             "line": {
              "color": "#E5ECF6",
              "width": 0.5
             },
             "pattern": {
              "fillmode": "overlay",
              "size": 10,
              "solidity": 0.2
             }
            },
            "type": "barpolar"
           }
          ],
          "carpet": [
           {
            "aaxis": {
             "endlinecolor": "#2a3f5f",
             "gridcolor": "white",
             "linecolor": "white",
             "minorgridcolor": "white",
             "startlinecolor": "#2a3f5f"
            },
            "baxis": {
             "endlinecolor": "#2a3f5f",
             "gridcolor": "white",
             "linecolor": "white",
             "minorgridcolor": "white",
             "startlinecolor": "#2a3f5f"
            },
            "type": "carpet"
           }
          ],
          "choropleth": [
           {
            "colorbar": {
             "outlinewidth": 0,
             "ticks": ""
            },
            "type": "choropleth"
           }
          ],
          "contour": [
           {
            "colorbar": {
             "outlinewidth": 0,
             "ticks": ""
            },
            "colorscale": [
             [
              0,
              "#0d0887"
             ],
             [
              0.1111111111111111,
              "#46039f"
             ],
             [
              0.2222222222222222,
              "#7201a8"
             ],
             [
              0.3333333333333333,
              "#9c179e"
             ],
             [
              0.4444444444444444,
              "#bd3786"
             ],
             [
              0.5555555555555556,
              "#d8576b"
             ],
             [
              0.6666666666666666,
              "#ed7953"
             ],
             [
              0.7777777777777778,
              "#fb9f3a"
             ],
             [
              0.8888888888888888,
              "#fdca26"
             ],
             [
              1,
              "#f0f921"
             ]
            ],
            "type": "contour"
           }
          ],
          "contourcarpet": [
           {
            "colorbar": {
             "outlinewidth": 0,
             "ticks": ""
            },
            "type": "contourcarpet"
           }
          ],
          "heatmap": [
           {
            "colorbar": {
             "outlinewidth": 0,
             "ticks": ""
            },
            "colorscale": [
             [
              0,
              "#0d0887"
             ],
             [
              0.1111111111111111,
              "#46039f"
             ],
             [
              0.2222222222222222,
              "#7201a8"
             ],
             [
              0.3333333333333333,
              "#9c179e"
             ],
             [
              0.4444444444444444,
              "#bd3786"
             ],
             [
              0.5555555555555556,
              "#d8576b"
             ],
             [
              0.6666666666666666,
              "#ed7953"
             ],
             [
              0.7777777777777778,
              "#fb9f3a"
             ],
             [
              0.8888888888888888,
              "#fdca26"
             ],
             [
              1,
              "#f0f921"
             ]
            ],
            "type": "heatmap"
           }
          ],
          "heatmapgl": [
           {
            "colorbar": {
             "outlinewidth": 0,
             "ticks": ""
            },
            "colorscale": [
             [
              0,
              "#0d0887"
             ],
             [
              0.1111111111111111,
              "#46039f"
             ],
             [
              0.2222222222222222,
              "#7201a8"
             ],
             [
              0.3333333333333333,
              "#9c179e"
             ],
             [
              0.4444444444444444,
              "#bd3786"
             ],
             [
              0.5555555555555556,
              "#d8576b"
             ],
             [
              0.6666666666666666,
              "#ed7953"
             ],
             [
              0.7777777777777778,
              "#fb9f3a"
             ],
             [
              0.8888888888888888,
              "#fdca26"
             ],
             [
              1,
              "#f0f921"
             ]
            ],
            "type": "heatmapgl"
           }
          ],
          "histogram": [
           {
            "marker": {
             "pattern": {
              "fillmode": "overlay",
              "size": 10,
              "solidity": 0.2
             }
            },
            "type": "histogram"
           }
          ],
          "histogram2d": [
           {
            "colorbar": {
             "outlinewidth": 0,
             "ticks": ""
            },
            "colorscale": [
             [
              0,
              "#0d0887"
             ],
             [
              0.1111111111111111,
              "#46039f"
             ],
             [
              0.2222222222222222,
              "#7201a8"
             ],
             [
              0.3333333333333333,
              "#9c179e"
             ],
             [
              0.4444444444444444,
              "#bd3786"
             ],
             [
              0.5555555555555556,
              "#d8576b"
             ],
             [
              0.6666666666666666,
              "#ed7953"
             ],
             [
              0.7777777777777778,
              "#fb9f3a"
             ],
             [
              0.8888888888888888,
              "#fdca26"
             ],
             [
              1,
              "#f0f921"
             ]
            ],
            "type": "histogram2d"
           }
          ],
          "histogram2dcontour": [
           {
            "colorbar": {
             "outlinewidth": 0,
             "ticks": ""
            },
            "colorscale": [
             [
              0,
              "#0d0887"
             ],
             [
              0.1111111111111111,
              "#46039f"
             ],
             [
              0.2222222222222222,
              "#7201a8"
             ],
             [
              0.3333333333333333,
              "#9c179e"
             ],
             [
              0.4444444444444444,
              "#bd3786"
             ],
             [
              0.5555555555555556,
              "#d8576b"
             ],
             [
              0.6666666666666666,
              "#ed7953"
             ],
             [
              0.7777777777777778,
              "#fb9f3a"
             ],
             [
              0.8888888888888888,
              "#fdca26"
             ],
             [
              1,
              "#f0f921"
             ]
            ],
            "type": "histogram2dcontour"
           }
          ],
          "mesh3d": [
           {
            "colorbar": {
             "outlinewidth": 0,
             "ticks": ""
            },
            "type": "mesh3d"
           }
          ],
          "parcoords": [
           {
            "line": {
             "colorbar": {
              "outlinewidth": 0,
              "ticks": ""
             }
            },
            "type": "parcoords"
           }
          ],
          "pie": [
           {
            "automargin": true,
            "type": "pie"
           }
          ],
          "scatter": [
           {
            "marker": {
             "colorbar": {
              "outlinewidth": 0,
              "ticks": ""
             }
            },
            "type": "scatter"
           }
          ],
          "scatter3d": [
           {
            "line": {
             "colorbar": {
              "outlinewidth": 0,
              "ticks": ""
             }
            },
            "marker": {
             "colorbar": {
              "outlinewidth": 0,
              "ticks": ""
             }
            },
            "type": "scatter3d"
           }
          ],
          "scattercarpet": [
           {
            "marker": {
             "colorbar": {
              "outlinewidth": 0,
              "ticks": ""
             }
            },
            "type": "scattercarpet"
           }
          ],
          "scattergeo": [
           {
            "marker": {
             "colorbar": {
              "outlinewidth": 0,
              "ticks": ""
             }
            },
            "type": "scattergeo"
           }
          ],
          "scattergl": [
           {
            "marker": {
             "colorbar": {
              "outlinewidth": 0,
              "ticks": ""
             }
            },
            "type": "scattergl"
           }
          ],
          "scattermapbox": [
           {
            "marker": {
             "colorbar": {
              "outlinewidth": 0,
              "ticks": ""
             }
            },
            "type": "scattermapbox"
           }
          ],
          "scatterpolar": [
           {
            "marker": {
             "colorbar": {
              "outlinewidth": 0,
              "ticks": ""
             }
            },
            "type": "scatterpolar"
           }
          ],
          "scatterpolargl": [
           {
            "marker": {
             "colorbar": {
              "outlinewidth": 0,
              "ticks": ""
             }
            },
            "type": "scatterpolargl"
           }
          ],
          "scatterternary": [
           {
            "marker": {
             "colorbar": {
              "outlinewidth": 0,
              "ticks": ""
             }
            },
            "type": "scatterternary"
           }
          ],
          "surface": [
           {
            "colorbar": {
             "outlinewidth": 0,
             "ticks": ""
            },
            "colorscale": [
             [
              0,
              "#0d0887"
             ],
             [
              0.1111111111111111,
              "#46039f"
             ],
             [
              0.2222222222222222,
              "#7201a8"
             ],
             [
              0.3333333333333333,
              "#9c179e"
             ],
             [
              0.4444444444444444,
              "#bd3786"
             ],
             [
              0.5555555555555556,
              "#d8576b"
             ],
             [
              0.6666666666666666,
              "#ed7953"
             ],
             [
              0.7777777777777778,
              "#fb9f3a"
             ],
             [
              0.8888888888888888,
              "#fdca26"
             ],
             [
              1,
              "#f0f921"
             ]
            ],
            "type": "surface"
           }
          ],
          "table": [
           {
            "cells": {
             "fill": {
              "color": "#EBF0F8"
             },
             "line": {
              "color": "white"
             }
            },
            "header": {
             "fill": {
              "color": "#C8D4E3"
             },
             "line": {
              "color": "white"
             }
            },
            "type": "table"
           }
          ]
         },
         "layout": {
          "annotationdefaults": {
           "arrowcolor": "#2a3f5f",
           "arrowhead": 0,
           "arrowwidth": 1
          },
          "autotypenumbers": "strict",
          "coloraxis": {
           "colorbar": {
            "outlinewidth": 0,
            "ticks": ""
           }
          },
          "colorscale": {
           "diverging": [
            [
             0,
             "#8e0152"
            ],
            [
             0.1,
             "#c51b7d"
            ],
            [
             0.2,
             "#de77ae"
            ],
            [
             0.3,
             "#f1b6da"
            ],
            [
             0.4,
             "#fde0ef"
            ],
            [
             0.5,
             "#f7f7f7"
            ],
            [
             0.6,
             "#e6f5d0"
            ],
            [
             0.7,
             "#b8e186"
            ],
            [
             0.8,
             "#7fbc41"
            ],
            [
             0.9,
             "#4d9221"
            ],
            [
             1,
             "#276419"
            ]
           ],
           "sequential": [
            [
             0,
             "#0d0887"
            ],
            [
             0.1111111111111111,
             "#46039f"
            ],
            [
             0.2222222222222222,
             "#7201a8"
            ],
            [
             0.3333333333333333,
             "#9c179e"
            ],
            [
             0.4444444444444444,
             "#bd3786"
            ],
            [
             0.5555555555555556,
             "#d8576b"
            ],
            [
             0.6666666666666666,
             "#ed7953"
            ],
            [
             0.7777777777777778,
             "#fb9f3a"
            ],
            [
             0.8888888888888888,
             "#fdca26"
            ],
            [
             1,
             "#f0f921"
            ]
           ],
           "sequentialminus": [
            [
             0,
             "#0d0887"
            ],
            [
             0.1111111111111111,
             "#46039f"
            ],
            [
             0.2222222222222222,
             "#7201a8"
            ],
            [
             0.3333333333333333,
             "#9c179e"
            ],
            [
             0.4444444444444444,
             "#bd3786"
            ],
            [
             0.5555555555555556,
             "#d8576b"
            ],
            [
             0.6666666666666666,
             "#ed7953"
            ],
            [
             0.7777777777777778,
             "#fb9f3a"
            ],
            [
             0.8888888888888888,
             "#fdca26"
            ],
            [
             1,
             "#f0f921"
            ]
           ]
          },
          "colorway": [
           "#636efa",
           "#EF553B",
           "#00cc96",
           "#ab63fa",
           "#FFA15A",
           "#19d3f3",
           "#FF6692",
           "#B6E880",
           "#FF97FF",
           "#FECB52"
          ],
          "font": {
           "color": "#2a3f5f"
          },
          "geo": {
           "bgcolor": "white",
           "lakecolor": "white",
           "landcolor": "#E5ECF6",
           "showlakes": true,
           "showland": true,
           "subunitcolor": "white"
          },
          "hoverlabel": {
           "align": "left"
          },
          "hovermode": "closest",
          "mapbox": {
           "style": "light"
          },
          "paper_bgcolor": "white",
          "plot_bgcolor": "#E5ECF6",
          "polar": {
           "angularaxis": {
            "gridcolor": "white",
            "linecolor": "white",
            "ticks": ""
           },
           "bgcolor": "#E5ECF6",
           "radialaxis": {
            "gridcolor": "white",
            "linecolor": "white",
            "ticks": ""
           }
          },
          "scene": {
           "xaxis": {
            "backgroundcolor": "#E5ECF6",
            "gridcolor": "white",
            "gridwidth": 2,
            "linecolor": "white",
            "showbackground": true,
            "ticks": "",
            "zerolinecolor": "white"
           },
           "yaxis": {
            "backgroundcolor": "#E5ECF6",
            "gridcolor": "white",
            "gridwidth": 2,
            "linecolor": "white",
            "showbackground": true,
            "ticks": "",
            "zerolinecolor": "white"
           },
           "zaxis": {
            "backgroundcolor": "#E5ECF6",
            "gridcolor": "white",
            "gridwidth": 2,
            "linecolor": "white",
            "showbackground": true,
            "ticks": "",
            "zerolinecolor": "white"
           }
          },
          "shapedefaults": {
           "line": {
            "color": "#2a3f5f"
           }
          },
          "ternary": {
           "aaxis": {
            "gridcolor": "white",
            "linecolor": "white",
            "ticks": ""
           },
           "baxis": {
            "gridcolor": "white",
            "linecolor": "white",
            "ticks": ""
           },
           "bgcolor": "#E5ECF6",
           "caxis": {
            "gridcolor": "white",
            "linecolor": "white",
            "ticks": ""
           }
          },
          "title": {
           "x": 0.05
          },
          "xaxis": {
           "automargin": true,
           "gridcolor": "white",
           "linecolor": "white",
           "ticks": "",
           "title": {
            "standoff": 15
           },
           "zerolinecolor": "white",
           "zerolinewidth": 2
          },
          "yaxis": {
           "automargin": true,
           "gridcolor": "white",
           "linecolor": "white",
           "ticks": "",
           "title": {
            "standoff": 15
           },
           "zerolinecolor": "white",
           "zerolinewidth": 2
          }
         }
        },
        "xaxis": {
         "anchor": "y",
         "domain": [
          0,
          0.2888888888888889
         ]
        },
        "xaxis2": {
         "anchor": "y2",
         "domain": [
          0.35555555555555557,
          0.6444444444444445
         ]
        },
        "xaxis3": {
         "anchor": "y3",
         "domain": [
          0.7111111111111111,
          1
         ]
        },
        "yaxis": {
         "anchor": "x",
         "domain": [
          0,
          1
         ]
        },
        "yaxis2": {
         "anchor": "x2",
         "domain": [
          0,
          1
         ]
        },
        "yaxis3": {
         "anchor": "x3",
         "domain": [
          0,
          1
         ]
        }
       }
      }
     },
     "metadata": {},
     "output_type": "display_data"
    }
   ],
   "source": [
    "fig = make_subplots(\n",
    "            rows=1, cols=3,\n",
    "            subplot_titles=(\"Heat Mass Flow [kg/s]\", \n",
    "            \"Heat Load [W]\", \"Cool Load [W]\"))\n",
    "\n",
    "\n",
    "for i in [1,2]:\n",
    "    for k in [1,3]:\n",
    "        fig.add_trace(\n",
    "                    go.Scatter(x=des_loads.Time, y=des_loads[f\"THERMAL ZONE: SPACE {i}0{k}:CA_PALO-ALTO-AP ANN HTG 99.6% CONDNS DB:Des Heat Mass Flow [kg/s]\"], mode='lines+markers', \n",
    "                    name=f\"Heating Space {i}0{k}\",\n",
    "                    ),row=1, col=1)\n",
    "\n",
    "for i in [1,2]:\n",
    "    for k in [1,3]:\n",
    "        fig.add_trace(\n",
    "                    go.Scatter(x=des_loads.Time, y=des_loads[f\"THERMAL ZONE: SPACE {i}0{k}:CA_PALO-ALTO-AP ANN HTG 99.6% CONDNS DB:Des Heat Load [W]\"], mode='lines+markers', \n",
    "                    name=f\"Heating Space {i}0{k}\"\n",
    "                    ), row=1, col=2)\n",
    "\n",
    "for i in [1,2]:\n",
    "    for k in [1,3]:\n",
    "        fig.add_trace(\n",
    "                    go.Scatter(x=des_loads.Time, y=des_loads[f\"THERMAL ZONE: SPACE {i}0{k}:CA_PALO-ALTO-AP ANN CLG 0.4% CONDNS DB=>MCWB:Des Sens Cool Load [W]\"], mode='lines+markers', \n",
    "                    name=f\"Cooling Space {i}0{k}\"\n",
    "                    ), row=1, col=3)\n",
    "\n",
    "\n",
    "\n",
    "fig.show()"
   ]
  },
  {
   "cell_type": "code",
   "execution_count": null,
   "metadata": {},
   "outputs": [
    {
     "data": {
      "application/vnd.plotly.v1+json": {
       "config": {
        "plotlyServerURL": "https://plot.ly"
       },
       "data": [
        {
         "mode": "lines+markers",
         "name": "Heating Space 101",
         "type": "scatter",
         "x": [
          "00:15:00",
          "00:30:00",
          "00:45:00",
          "01:00:00",
          "01:15:00",
          "01:30:00",
          "01:45:00",
          "02:00:00",
          "02:15:00",
          "02:30:00",
          "02:45:00",
          "03:00:00",
          "03:15:00",
          "03:30:00",
          "03:45:00",
          "04:00:00",
          "04:15:00",
          "04:30:00",
          "04:45:00",
          "05:00:00",
          "05:15:00",
          "05:30:00",
          "05:45:00",
          "06:00:00",
          "06:15:00",
          "06:30:00",
          "06:45:00",
          "07:00:00",
          "07:15:00",
          "07:30:00",
          "07:45:00",
          "08:00:00",
          "08:15:00",
          "08:30:00",
          "08:45:00",
          "09:00:00",
          "09:15:00",
          "09:30:00",
          "09:45:00",
          "10:00:00",
          "10:15:00",
          "10:30:00",
          "10:45:00",
          "11:00:00",
          "11:15:00",
          "11:30:00",
          "11:45:00",
          "12:00:00",
          "12:15:00",
          "12:30:00",
          "12:45:00",
          "13:00:00",
          "13:15:00",
          "13:30:00",
          "13:45:00",
          "14:00:00",
          "14:15:00",
          "14:30:00",
          "14:45:00",
          "15:00:00",
          "15:15:00",
          "15:30:00",
          "15:45:00",
          "16:00:00",
          "16:15:00",
          "16:30:00",
          "16:45:00",
          "17:00:00",
          "17:15:00",
          "17:30:00",
          "17:45:00",
          "18:00:00",
          "18:15:00",
          "18:30:00",
          "18:45:00",
          "19:00:00",
          "19:15:00",
          "19:30:00",
          "19:45:00",
          "20:00:00",
          "20:15:00",
          "20:30:00",
          "20:45:00",
          "21:00:00",
          "21:15:00",
          "21:30:00",
          "21:45:00",
          "22:00:00",
          "22:15:00",
          "22:30:00",
          "22:45:00",
          "23:00:00",
          "23:15:00",
          "23:30:00",
          "23:45:00",
          "24:00:00",
          "Peak",
          "Peak Vol Flow (m3/s)"
         ],
         "y": [
          0.1908914,
          0.1908922,
          0.1908929,
          0.1908935,
          0.1908947,
          0.1908959,
          0.1908969,
          0.1908979,
          0.1908988,
          0.1908997,
          0.1909005,
          0.1909013,
          0.190902,
          0.1909027,
          0.1909034,
          0.190904,
          0.1909046,
          0.1909052,
          0.1909057,
          0.1909063,
          0.1909068,
          0.1909072,
          0.1909077,
          0.1909081,
          0.1795525,
          0.1681942,
          0.1568335,
          0.1454709,
          0.1454625,
          0.1454552,
          0.1454486,
          0.1454425,
          0.1454369,
          0.1454316,
          0.1454266,
          0.145422,
          0.1454177,
          0.1454137,
          0.14541,
          0.1454066,
          0.1454034,
          0.1454004,
          0.1453977,
          0.1453951,
          0.1453928,
          0.1453906,
          0.1453886,
          0.1453867,
          0.1453849,
          0.1453833,
          0.1453818,
          0.1453804,
          0.1453791,
          0.1453779,
          0.1453767,
          0.1453756,
          0.1453746,
          0.1453737,
          0.1453728,
          0.145372,
          0.1453712,
          0.1453704,
          0.1453697,
          0.1453691,
          0.1453684,
          0.1453678,
          0.1453673,
          0.1453667,
          0.1453662,
          0.1453658,
          0.1453653,
          0.1453649,
          0.1567223,
          0.1680805,
          0.1794406,
          0.1908027,
          0.1908091,
          0.1908167,
          0.1908244,
          0.1908317,
          0.1908386,
          0.1908448,
          0.1908505,
          0.1908557,
          0.1908604,
          0.1908646,
          0.1908685,
          0.190872,
          0.1908751,
          0.190878,
          0.1908806,
          0.190883,
          0.1908851,
          0.1908871,
          0.1908889,
          0.1908905,
          0.1909081,
          0.1585585
         ]
        },
        {
         "mode": "lines+markers",
         "name": "Heating Space 103",
         "type": "scatter",
         "x": [
          "00:15:00",
          "00:30:00",
          "00:45:00",
          "01:00:00",
          "01:15:00",
          "01:30:00",
          "01:45:00",
          "02:00:00",
          "02:15:00",
          "02:30:00",
          "02:45:00",
          "03:00:00",
          "03:15:00",
          "03:30:00",
          "03:45:00",
          "04:00:00",
          "04:15:00",
          "04:30:00",
          "04:45:00",
          "05:00:00",
          "05:15:00",
          "05:30:00",
          "05:45:00",
          "06:00:00",
          "06:15:00",
          "06:30:00",
          "06:45:00",
          "07:00:00",
          "07:15:00",
          "07:30:00",
          "07:45:00",
          "08:00:00",
          "08:15:00",
          "08:30:00",
          "08:45:00",
          "09:00:00",
          "09:15:00",
          "09:30:00",
          "09:45:00",
          "10:00:00",
          "10:15:00",
          "10:30:00",
          "10:45:00",
          "11:00:00",
          "11:15:00",
          "11:30:00",
          "11:45:00",
          "12:00:00",
          "12:15:00",
          "12:30:00",
          "12:45:00",
          "13:00:00",
          "13:15:00",
          "13:30:00",
          "13:45:00",
          "14:00:00",
          "14:15:00",
          "14:30:00",
          "14:45:00",
          "15:00:00",
          "15:15:00",
          "15:30:00",
          "15:45:00",
          "16:00:00",
          "16:15:00",
          "16:30:00",
          "16:45:00",
          "17:00:00",
          "17:15:00",
          "17:30:00",
          "17:45:00",
          "18:00:00",
          "18:15:00",
          "18:30:00",
          "18:45:00",
          "19:00:00",
          "19:15:00",
          "19:30:00",
          "19:45:00",
          "20:00:00",
          "20:15:00",
          "20:30:00",
          "20:45:00",
          "21:00:00",
          "21:15:00",
          "21:30:00",
          "21:45:00",
          "22:00:00",
          "22:15:00",
          "22:30:00",
          "22:45:00",
          "23:00:00",
          "23:15:00",
          "23:30:00",
          "23:45:00",
          "24:00:00",
          "Peak",
          "Peak Vol Flow (m3/s)"
         ],
         "y": [
          0.1908504,
          0.1908512,
          0.1908519,
          0.1908525,
          0.1908537,
          0.1908548,
          0.1908559,
          0.1908569,
          0.1908578,
          0.1908586,
          0.1908595,
          0.1908602,
          0.190861,
          0.1908617,
          0.1908623,
          0.190863,
          0.1908636,
          0.1908642,
          0.1908647,
          0.1908652,
          0.1908657,
          0.1908662,
          0.1908667,
          0.1908671,
          0.1795115,
          0.1681531,
          0.1567925,
          0.1454298,
          0.1454215,
          0.1454142,
          0.1454076,
          0.1454015,
          0.1453958,
          0.1453905,
          0.1453856,
          0.145381,
          0.1453767,
          0.1453727,
          0.145369,
          0.1453655,
          0.1453623,
          0.1453594,
          0.1453566,
          0.1453541,
          0.1453518,
          0.1453496,
          0.1453475,
          0.1453457,
          0.1453439,
          0.1453423,
          0.1453408,
          0.1453394,
          0.1453381,
          0.1453368,
          0.1453357,
          0.1453346,
          0.1453336,
          0.1453327,
          0.1453318,
          0.1453309,
          0.1453302,
          0.1453294,
          0.1453287,
          0.1453281,
          0.1453274,
          0.1453268,
          0.1453263,
          0.1453257,
          0.1453252,
          0.1453247,
          0.1453243,
          0.1453238,
          0.1566812,
          0.1680395,
          0.1793996,
          0.1907617,
          0.1907681,
          0.1907757,
          0.1907834,
          0.1907907,
          0.1907975,
          0.1908038,
          0.1908095,
          0.1908147,
          0.1908194,
          0.1908236,
          0.1908275,
          0.190831,
          0.1908341,
          0.190837,
          0.1908396,
          0.1908419,
          0.1908441,
          0.1908461,
          0.1908479,
          0.1908495,
          0.1908671,
          0.1585245
         ]
        },
        {
         "mode": "lines+markers",
         "name": "Heating Space 201",
         "type": "scatter",
         "x": [
          "00:15:00",
          "00:30:00",
          "00:45:00",
          "01:00:00",
          "01:15:00",
          "01:30:00",
          "01:45:00",
          "02:00:00",
          "02:15:00",
          "02:30:00",
          "02:45:00",
          "03:00:00",
          "03:15:00",
          "03:30:00",
          "03:45:00",
          "04:00:00",
          "04:15:00",
          "04:30:00",
          "04:45:00",
          "05:00:00",
          "05:15:00",
          "05:30:00",
          "05:45:00",
          "06:00:00",
          "06:15:00",
          "06:30:00",
          "06:45:00",
          "07:00:00",
          "07:15:00",
          "07:30:00",
          "07:45:00",
          "08:00:00",
          "08:15:00",
          "08:30:00",
          "08:45:00",
          "09:00:00",
          "09:15:00",
          "09:30:00",
          "09:45:00",
          "10:00:00",
          "10:15:00",
          "10:30:00",
          "10:45:00",
          "11:00:00",
          "11:15:00",
          "11:30:00",
          "11:45:00",
          "12:00:00",
          "12:15:00",
          "12:30:00",
          "12:45:00",
          "13:00:00",
          "13:15:00",
          "13:30:00",
          "13:45:00",
          "14:00:00",
          "14:15:00",
          "14:30:00",
          "14:45:00",
          "15:00:00",
          "15:15:00",
          "15:30:00",
          "15:45:00",
          "16:00:00",
          "16:15:00",
          "16:30:00",
          "16:45:00",
          "17:00:00",
          "17:15:00",
          "17:30:00",
          "17:45:00",
          "18:00:00",
          "18:15:00",
          "18:30:00",
          "18:45:00",
          "19:00:00",
          "19:15:00",
          "19:30:00",
          "19:45:00",
          "20:00:00",
          "20:15:00",
          "20:30:00",
          "20:45:00",
          "21:00:00",
          "21:15:00",
          "21:30:00",
          "21:45:00",
          "22:00:00",
          "22:15:00",
          "22:30:00",
          "22:45:00",
          "23:00:00",
          "23:15:00",
          "23:30:00",
          "23:45:00",
          "24:00:00",
          "Peak",
          "Peak Vol Flow (m3/s)"
         ],
         "y": [
          0.4476496,
          0.4476509,
          0.447652,
          0.4476531,
          0.4476561,
          0.447659,
          0.4476618,
          0.4476645,
          0.447667,
          0.4476695,
          0.4476718,
          0.4476741,
          0.4476762,
          0.4476783,
          0.4476803,
          0.4476822,
          0.4476841,
          0.4476858,
          0.4476875,
          0.4476892,
          0.4476908,
          0.4476923,
          0.4476938,
          0.4476952,
          0.4157804,
          0.383858,
          0.3519286,
          0.3199928,
          0.3199673,
          0.319944,
          0.3199228,
          0.3199036,
          0.3198863,
          0.3198708,
          0.3198568,
          0.3198443,
          0.319833,
          0.3198229,
          0.3198138,
          0.3198056,
          0.3197982,
          0.3197914,
          0.3197853,
          0.3197796,
          0.3197745,
          0.3197697,
          0.3197653,
          0.3197612,
          0.3197574,
          0.3197538,
          0.3197505,
          0.3197474,
          0.3197444,
          0.3197416,
          0.3197389,
          0.3197364,
          0.319734,
          0.3197317,
          0.3197295,
          0.3197274,
          0.3197254,
          0.3197235,
          0.3197216,
          0.3197199,
          0.3197182,
          0.3197165,
          0.319715,
          0.3197135,
          0.319712,
          0.3197106,
          0.3197093,
          0.319708,
          0.3516326,
          0.3835595,
          0.4154912,
          0.4474288,
          0.4474468,
          0.4474683,
          0.4474903,
          0.4475109,
          0.4475293,
          0.4475456,
          0.4475598,
          0.4475721,
          0.447583,
          0.4475925,
          0.4476009,
          0.4476084,
          0.4476151,
          0.4476212,
          0.4476266,
          0.4476317,
          0.4476363,
          0.4476406,
          0.4476445,
          0.4476482,
          0.4476952,
          0.3718327
         ]
        },
        {
         "mode": "lines+markers",
         "name": "Heating Space 203",
         "type": "scatter",
         "x": [
          "00:15:00",
          "00:30:00",
          "00:45:00",
          "01:00:00",
          "01:15:00",
          "01:30:00",
          "01:45:00",
          "02:00:00",
          "02:15:00",
          "02:30:00",
          "02:45:00",
          "03:00:00",
          "03:15:00",
          "03:30:00",
          "03:45:00",
          "04:00:00",
          "04:15:00",
          "04:30:00",
          "04:45:00",
          "05:00:00",
          "05:15:00",
          "05:30:00",
          "05:45:00",
          "06:00:00",
          "06:15:00",
          "06:30:00",
          "06:45:00",
          "07:00:00",
          "07:15:00",
          "07:30:00",
          "07:45:00",
          "08:00:00",
          "08:15:00",
          "08:30:00",
          "08:45:00",
          "09:00:00",
          "09:15:00",
          "09:30:00",
          "09:45:00",
          "10:00:00",
          "10:15:00",
          "10:30:00",
          "10:45:00",
          "11:00:00",
          "11:15:00",
          "11:30:00",
          "11:45:00",
          "12:00:00",
          "12:15:00",
          "12:30:00",
          "12:45:00",
          "13:00:00",
          "13:15:00",
          "13:30:00",
          "13:45:00",
          "14:00:00",
          "14:15:00",
          "14:30:00",
          "14:45:00",
          "15:00:00",
          "15:15:00",
          "15:30:00",
          "15:45:00",
          "16:00:00",
          "16:15:00",
          "16:30:00",
          "16:45:00",
          "17:00:00",
          "17:15:00",
          "17:30:00",
          "17:45:00",
          "18:00:00",
          "18:15:00",
          "18:30:00",
          "18:45:00",
          "19:00:00",
          "19:15:00",
          "19:30:00",
          "19:45:00",
          "20:00:00",
          "20:15:00",
          "20:30:00",
          "20:45:00",
          "21:00:00",
          "21:15:00",
          "21:30:00",
          "21:45:00",
          "22:00:00",
          "22:15:00",
          "22:30:00",
          "22:45:00",
          "23:00:00",
          "23:15:00",
          "23:30:00",
          "23:45:00",
          "24:00:00",
          "Peak",
          "Peak Vol Flow (m3/s)"
         ],
         "y": [
          0.4476166,
          0.4476179,
          0.447619,
          0.4476201,
          0.4476231,
          0.447626,
          0.4476288,
          0.4476315,
          0.447634,
          0.4476365,
          0.4476388,
          0.4476411,
          0.4476432,
          0.4476453,
          0.4476473,
          0.4476492,
          0.447651,
          0.4476528,
          0.4476545,
          0.4476562,
          0.4476578,
          0.4476593,
          0.4476608,
          0.4476622,
          0.4157474,
          0.383825,
          0.3518956,
          0.3199598,
          0.3199343,
          0.319911,
          0.3198898,
          0.3198706,
          0.3198533,
          0.3198377,
          0.3198238,
          0.3198113,
          0.3198,
          0.3197899,
          0.3197808,
          0.3197726,
          0.3197652,
          0.3197584,
          0.3197523,
          0.3197466,
          0.3197415,
          0.3197367,
          0.3197323,
          0.3197282,
          0.3197244,
          0.3197208,
          0.3197175,
          0.3197144,
          0.3197114,
          0.3197086,
          0.3197059,
          0.3197034,
          0.319701,
          0.3196987,
          0.3196965,
          0.3196944,
          0.3196924,
          0.3196905,
          0.3196886,
          0.3196869,
          0.3196852,
          0.3196835,
          0.319682,
          0.3196805,
          0.319679,
          0.3196776,
          0.3196763,
          0.319675,
          0.3515996,
          0.3835265,
          0.4154582,
          0.4473958,
          0.4474138,
          0.4474353,
          0.4474573,
          0.4474779,
          0.4474963,
          0.4475126,
          0.4475268,
          0.4475391,
          0.44755,
          0.4475595,
          0.4475679,
          0.4475754,
          0.4475821,
          0.4475881,
          0.4475936,
          0.4475987,
          0.4476033,
          0.4476076,
          0.4476115,
          0.4476152,
          0.4476622,
          0.3718053
         ]
        }
       ],
       "layout": {
        "template": {
         "data": {
          "bar": [
           {
            "error_x": {
             "color": "#2a3f5f"
            },
            "error_y": {
             "color": "#2a3f5f"
            },
            "marker": {
             "line": {
              "color": "#E5ECF6",
              "width": 0.5
             },
             "pattern": {
              "fillmode": "overlay",
              "size": 10,
              "solidity": 0.2
             }
            },
            "type": "bar"
           }
          ],
          "barpolar": [
           {
            "marker": {
             "line": {
              "color": "#E5ECF6",
              "width": 0.5
             },
             "pattern": {
              "fillmode": "overlay",
              "size": 10,
              "solidity": 0.2
             }
            },
            "type": "barpolar"
           }
          ],
          "carpet": [
           {
            "aaxis": {
             "endlinecolor": "#2a3f5f",
             "gridcolor": "white",
             "linecolor": "white",
             "minorgridcolor": "white",
             "startlinecolor": "#2a3f5f"
            },
            "baxis": {
             "endlinecolor": "#2a3f5f",
             "gridcolor": "white",
             "linecolor": "white",
             "minorgridcolor": "white",
             "startlinecolor": "#2a3f5f"
            },
            "type": "carpet"
           }
          ],
          "choropleth": [
           {
            "colorbar": {
             "outlinewidth": 0,
             "ticks": ""
            },
            "type": "choropleth"
           }
          ],
          "contour": [
           {
            "colorbar": {
             "outlinewidth": 0,
             "ticks": ""
            },
            "colorscale": [
             [
              0,
              "#0d0887"
             ],
             [
              0.1111111111111111,
              "#46039f"
             ],
             [
              0.2222222222222222,
              "#7201a8"
             ],
             [
              0.3333333333333333,
              "#9c179e"
             ],
             [
              0.4444444444444444,
              "#bd3786"
             ],
             [
              0.5555555555555556,
              "#d8576b"
             ],
             [
              0.6666666666666666,
              "#ed7953"
             ],
             [
              0.7777777777777778,
              "#fb9f3a"
             ],
             [
              0.8888888888888888,
              "#fdca26"
             ],
             [
              1,
              "#f0f921"
             ]
            ],
            "type": "contour"
           }
          ],
          "contourcarpet": [
           {
            "colorbar": {
             "outlinewidth": 0,
             "ticks": ""
            },
            "type": "contourcarpet"
           }
          ],
          "heatmap": [
           {
            "colorbar": {
             "outlinewidth": 0,
             "ticks": ""
            },
            "colorscale": [
             [
              0,
              "#0d0887"
             ],
             [
              0.1111111111111111,
              "#46039f"
             ],
             [
              0.2222222222222222,
              "#7201a8"
             ],
             [
              0.3333333333333333,
              "#9c179e"
             ],
             [
              0.4444444444444444,
              "#bd3786"
             ],
             [
              0.5555555555555556,
              "#d8576b"
             ],
             [
              0.6666666666666666,
              "#ed7953"
             ],
             [
              0.7777777777777778,
              "#fb9f3a"
             ],
             [
              0.8888888888888888,
              "#fdca26"
             ],
             [
              1,
              "#f0f921"
             ]
            ],
            "type": "heatmap"
           }
          ],
          "heatmapgl": [
           {
            "colorbar": {
             "outlinewidth": 0,
             "ticks": ""
            },
            "colorscale": [
             [
              0,
              "#0d0887"
             ],
             [
              0.1111111111111111,
              "#46039f"
             ],
             [
              0.2222222222222222,
              "#7201a8"
             ],
             [
              0.3333333333333333,
              "#9c179e"
             ],
             [
              0.4444444444444444,
              "#bd3786"
             ],
             [
              0.5555555555555556,
              "#d8576b"
             ],
             [
              0.6666666666666666,
              "#ed7953"
             ],
             [
              0.7777777777777778,
              "#fb9f3a"
             ],
             [
              0.8888888888888888,
              "#fdca26"
             ],
             [
              1,
              "#f0f921"
             ]
            ],
            "type": "heatmapgl"
           }
          ],
          "histogram": [
           {
            "marker": {
             "pattern": {
              "fillmode": "overlay",
              "size": 10,
              "solidity": 0.2
             }
            },
            "type": "histogram"
           }
          ],
          "histogram2d": [
           {
            "colorbar": {
             "outlinewidth": 0,
             "ticks": ""
            },
            "colorscale": [
             [
              0,
              "#0d0887"
             ],
             [
              0.1111111111111111,
              "#46039f"
             ],
             [
              0.2222222222222222,
              "#7201a8"
             ],
             [
              0.3333333333333333,
              "#9c179e"
             ],
             [
              0.4444444444444444,
              "#bd3786"
             ],
             [
              0.5555555555555556,
              "#d8576b"
             ],
             [
              0.6666666666666666,
              "#ed7953"
             ],
             [
              0.7777777777777778,
              "#fb9f3a"
             ],
             [
              0.8888888888888888,
              "#fdca26"
             ],
             [
              1,
              "#f0f921"
             ]
            ],
            "type": "histogram2d"
           }
          ],
          "histogram2dcontour": [
           {
            "colorbar": {
             "outlinewidth": 0,
             "ticks": ""
            },
            "colorscale": [
             [
              0,
              "#0d0887"
             ],
             [
              0.1111111111111111,
              "#46039f"
             ],
             [
              0.2222222222222222,
              "#7201a8"
             ],
             [
              0.3333333333333333,
              "#9c179e"
             ],
             [
              0.4444444444444444,
              "#bd3786"
             ],
             [
              0.5555555555555556,
              "#d8576b"
             ],
             [
              0.6666666666666666,
              "#ed7953"
             ],
             [
              0.7777777777777778,
              "#fb9f3a"
             ],
             [
              0.8888888888888888,
              "#fdca26"
             ],
             [
              1,
              "#f0f921"
             ]
            ],
            "type": "histogram2dcontour"
           }
          ],
          "mesh3d": [
           {
            "colorbar": {
             "outlinewidth": 0,
             "ticks": ""
            },
            "type": "mesh3d"
           }
          ],
          "parcoords": [
           {
            "line": {
             "colorbar": {
              "outlinewidth": 0,
              "ticks": ""
             }
            },
            "type": "parcoords"
           }
          ],
          "pie": [
           {
            "automargin": true,
            "type": "pie"
           }
          ],
          "scatter": [
           {
            "marker": {
             "colorbar": {
              "outlinewidth": 0,
              "ticks": ""
             }
            },
            "type": "scatter"
           }
          ],
          "scatter3d": [
           {
            "line": {
             "colorbar": {
              "outlinewidth": 0,
              "ticks": ""
             }
            },
            "marker": {
             "colorbar": {
              "outlinewidth": 0,
              "ticks": ""
             }
            },
            "type": "scatter3d"
           }
          ],
          "scattercarpet": [
           {
            "marker": {
             "colorbar": {
              "outlinewidth": 0,
              "ticks": ""
             }
            },
            "type": "scattercarpet"
           }
          ],
          "scattergeo": [
           {
            "marker": {
             "colorbar": {
              "outlinewidth": 0,
              "ticks": ""
             }
            },
            "type": "scattergeo"
           }
          ],
          "scattergl": [
           {
            "marker": {
             "colorbar": {
              "outlinewidth": 0,
              "ticks": ""
             }
            },
            "type": "scattergl"
           }
          ],
          "scattermapbox": [
           {
            "marker": {
             "colorbar": {
              "outlinewidth": 0,
              "ticks": ""
             }
            },
            "type": "scattermapbox"
           }
          ],
          "scatterpolar": [
           {
            "marker": {
             "colorbar": {
              "outlinewidth": 0,
              "ticks": ""
             }
            },
            "type": "scatterpolar"
           }
          ],
          "scatterpolargl": [
           {
            "marker": {
             "colorbar": {
              "outlinewidth": 0,
              "ticks": ""
             }
            },
            "type": "scatterpolargl"
           }
          ],
          "scatterternary": [
           {
            "marker": {
             "colorbar": {
              "outlinewidth": 0,
              "ticks": ""
             }
            },
            "type": "scatterternary"
           }
          ],
          "surface": [
           {
            "colorbar": {
             "outlinewidth": 0,
             "ticks": ""
            },
            "colorscale": [
             [
              0,
              "#0d0887"
             ],
             [
              0.1111111111111111,
              "#46039f"
             ],
             [
              0.2222222222222222,
              "#7201a8"
             ],
             [
              0.3333333333333333,
              "#9c179e"
             ],
             [
              0.4444444444444444,
              "#bd3786"
             ],
             [
              0.5555555555555556,
              "#d8576b"
             ],
             [
              0.6666666666666666,
              "#ed7953"
             ],
             [
              0.7777777777777778,
              "#fb9f3a"
             ],
             [
              0.8888888888888888,
              "#fdca26"
             ],
             [
              1,
              "#f0f921"
             ]
            ],
            "type": "surface"
           }
          ],
          "table": [
           {
            "cells": {
             "fill": {
              "color": "#EBF0F8"
             },
             "line": {
              "color": "white"
             }
            },
            "header": {
             "fill": {
              "color": "#C8D4E3"
             },
             "line": {
              "color": "white"
             }
            },
            "type": "table"
           }
          ]
         },
         "layout": {
          "annotationdefaults": {
           "arrowcolor": "#2a3f5f",
           "arrowhead": 0,
           "arrowwidth": 1
          },
          "autotypenumbers": "strict",
          "coloraxis": {
           "colorbar": {
            "outlinewidth": 0,
            "ticks": ""
           }
          },
          "colorscale": {
           "diverging": [
            [
             0,
             "#8e0152"
            ],
            [
             0.1,
             "#c51b7d"
            ],
            [
             0.2,
             "#de77ae"
            ],
            [
             0.3,
             "#f1b6da"
            ],
            [
             0.4,
             "#fde0ef"
            ],
            [
             0.5,
             "#f7f7f7"
            ],
            [
             0.6,
             "#e6f5d0"
            ],
            [
             0.7,
             "#b8e186"
            ],
            [
             0.8,
             "#7fbc41"
            ],
            [
             0.9,
             "#4d9221"
            ],
            [
             1,
             "#276419"
            ]
           ],
           "sequential": [
            [
             0,
             "#0d0887"
            ],
            [
             0.1111111111111111,
             "#46039f"
            ],
            [
             0.2222222222222222,
             "#7201a8"
            ],
            [
             0.3333333333333333,
             "#9c179e"
            ],
            [
             0.4444444444444444,
             "#bd3786"
            ],
            [
             0.5555555555555556,
             "#d8576b"
            ],
            [
             0.6666666666666666,
             "#ed7953"
            ],
            [
             0.7777777777777778,
             "#fb9f3a"
            ],
            [
             0.8888888888888888,
             "#fdca26"
            ],
            [
             1,
             "#f0f921"
            ]
           ],
           "sequentialminus": [
            [
             0,
             "#0d0887"
            ],
            [
             0.1111111111111111,
             "#46039f"
            ],
            [
             0.2222222222222222,
             "#7201a8"
            ],
            [
             0.3333333333333333,
             "#9c179e"
            ],
            [
             0.4444444444444444,
             "#bd3786"
            ],
            [
             0.5555555555555556,
             "#d8576b"
            ],
            [
             0.6666666666666666,
             "#ed7953"
            ],
            [
             0.7777777777777778,
             "#fb9f3a"
            ],
            [
             0.8888888888888888,
             "#fdca26"
            ],
            [
             1,
             "#f0f921"
            ]
           ]
          },
          "colorway": [
           "#636efa",
           "#EF553B",
           "#00cc96",
           "#ab63fa",
           "#FFA15A",
           "#19d3f3",
           "#FF6692",
           "#B6E880",
           "#FF97FF",
           "#FECB52"
          ],
          "font": {
           "color": "#2a3f5f"
          },
          "geo": {
           "bgcolor": "white",
           "lakecolor": "white",
           "landcolor": "#E5ECF6",
           "showlakes": true,
           "showland": true,
           "subunitcolor": "white"
          },
          "hoverlabel": {
           "align": "left"
          },
          "hovermode": "closest",
          "mapbox": {
           "style": "light"
          },
          "paper_bgcolor": "white",
          "plot_bgcolor": "#E5ECF6",
          "polar": {
           "angularaxis": {
            "gridcolor": "white",
            "linecolor": "white",
            "ticks": ""
           },
           "bgcolor": "#E5ECF6",
           "radialaxis": {
            "gridcolor": "white",
            "linecolor": "white",
            "ticks": ""
           }
          },
          "scene": {
           "xaxis": {
            "backgroundcolor": "#E5ECF6",
            "gridcolor": "white",
            "gridwidth": 2,
            "linecolor": "white",
            "showbackground": true,
            "ticks": "",
            "zerolinecolor": "white"
           },
           "yaxis": {
            "backgroundcolor": "#E5ECF6",
            "gridcolor": "white",
            "gridwidth": 2,
            "linecolor": "white",
            "showbackground": true,
            "ticks": "",
            "zerolinecolor": "white"
           },
           "zaxis": {
            "backgroundcolor": "#E5ECF6",
            "gridcolor": "white",
            "gridwidth": 2,
            "linecolor": "white",
            "showbackground": true,
            "ticks": "",
            "zerolinecolor": "white"
           }
          },
          "shapedefaults": {
           "line": {
            "color": "#2a3f5f"
           }
          },
          "ternary": {
           "aaxis": {
            "gridcolor": "white",
            "linecolor": "white",
            "ticks": ""
           },
           "baxis": {
            "gridcolor": "white",
            "linecolor": "white",
            "ticks": ""
           },
           "bgcolor": "#E5ECF6",
           "caxis": {
            "gridcolor": "white",
            "linecolor": "white",
            "ticks": ""
           }
          },
          "title": {
           "x": 0.05
          },
          "xaxis": {
           "automargin": true,
           "gridcolor": "white",
           "linecolor": "white",
           "ticks": "",
           "title": {
            "standoff": 15
           },
           "zerolinecolor": "white",
           "zerolinewidth": 2
          },
          "yaxis": {
           "automargin": true,
           "gridcolor": "white",
           "linecolor": "white",
           "ticks": "",
           "title": {
            "standoff": 15
           },
           "zerolinecolor": "white",
           "zerolinewidth": 2
          }
         }
        },
        "title": {
         "text": "Des Heat Mass Flow"
        },
        "xaxis": {
         "title": {
          "text": "Hours"
         }
        },
        "yaxis": {
         "title": {
          "text": "Mass Flow [kg/s]"
         }
        }
       }
      }
     },
     "metadata": {},
     "output_type": "display_data"
    }
   ],
   "source": [
    "fig = go.Figure()\n",
    "\n",
    "\n",
    "\n",
    "for i in [1,2]:\n",
    "    for k in [1,3]:\n",
    "        fig.add_trace(\n",
    "                    go.Scatter(x=des_loads.Time, y=des_loads[f\"THERMAL ZONE: SPACE {i}0{k}:CA_PALO-ALTO-AP ANN HTG 99.6% CONDNS DB:Des Heat Mass Flow [kg/s]\"], mode='lines+markers', \n",
    "                    name=f\"Heating Space {i}0{k}\"\n",
    "                    ))\n",
    "\n",
    "\n",
    "fig.update_layout(\n",
    "    title=f\"Heating Design Mass Flow\",\n",
    "    xaxis_title=\"Hours\",\n",
    "    yaxis_title=f\"Mass Flow [kg/s]\",\n",
    ")\n",
    "fig.show()"
   ]
  },
  {
   "cell_type": "code",
   "execution_count": null,
   "metadata": {},
   "outputs": [
    {
     "data": {
      "application/vnd.plotly.v1+json": {
       "config": {
        "plotlyServerURL": "https://plot.ly"
       },
       "data": [
        {
         "mode": "lines+markers",
         "name": "Cooling Space 101",
         "type": "scatter",
         "x": [
          "00:15:00",
          "00:30:00",
          "00:45:00",
          "01:00:00",
          "01:15:00",
          "01:30:00",
          "01:45:00",
          "02:00:00",
          "02:15:00",
          "02:30:00",
          "02:45:00",
          "03:00:00",
          "03:15:00",
          "03:30:00",
          "03:45:00",
          "04:00:00",
          "04:15:00",
          "04:30:00",
          "04:45:00",
          "05:00:00",
          "05:15:00",
          "05:30:00",
          "05:45:00",
          "06:00:00",
          "06:15:00",
          "06:30:00",
          "06:45:00",
          "07:00:00",
          "07:15:00",
          "07:30:00",
          "07:45:00",
          "08:00:00",
          "08:15:00",
          "08:30:00",
          "08:45:00",
          "09:00:00",
          "09:15:00",
          "09:30:00",
          "09:45:00",
          "10:00:00",
          "10:15:00",
          "10:30:00",
          "10:45:00",
          "11:00:00",
          "11:15:00",
          "11:30:00",
          "11:45:00",
          "12:00:00",
          "12:15:00",
          "12:30:00",
          "12:45:00",
          "13:00:00",
          "13:15:00",
          "13:30:00",
          "13:45:00",
          "14:00:00",
          "14:15:00",
          "14:30:00",
          "14:45:00",
          "15:00:00",
          "15:15:00",
          "15:30:00",
          "15:45:00",
          "16:00:00",
          "16:15:00",
          "16:30:00",
          "16:45:00",
          "17:00:00",
          "17:15:00",
          "17:30:00",
          "17:45:00",
          "18:00:00",
          "18:15:00",
          "18:30:00",
          "18:45:00",
          "19:00:00",
          "19:15:00",
          "19:30:00",
          "19:45:00",
          "20:00:00",
          "20:15:00",
          "20:30:00",
          "20:45:00",
          "21:00:00",
          "21:15:00",
          "21:30:00",
          "21:45:00",
          "22:00:00",
          "22:15:00",
          "22:30:00",
          "22:45:00",
          "23:00:00",
          "23:15:00",
          "23:30:00",
          "23:45:00",
          "24:00:00",
          "Peak",
          "Peak Vol Flow (m3/s)"
         ],
         "y": [
          221.3481,
          157.6861,
          88.63092,
          15.47193,
          19.53649,
          24.53398,
          28.89399,
          32.5918,
          35.53325,
          37.87253,
          39.74698,
          41.21933,
          42.17333,
          42.71112,
          42.90173,
          42.8493,
          42.80504,
          42.77497,
          42.77746,
          42.83266,
          43.67204,
          45.31652,
          47.79219,
          51.13352,
          3382.295,
          6235.426,
          9056.459,
          11863.71,
          11335.75,
          11280.22,
          11252.18,
          11233.87,
          11219.46,
          11207.68,
          11198.01,
          11190.32,
          11184.3,
          11179.85,
          11176.92,
          11175.34,
          11174.95,
          11175.6,
          11177.09,
          11179.36,
          11182.16,
          11185.42,
          11189.07,
          11192.98,
          11197.26,
          11201.77,
          11206.44,
          11211.21,
          11215.97,
          11220.66,
          11225.25,
          11229.71,
          11233.82,
          11237.59,
          11241,
          11244.03,
          11246.67,
          11248.85,
          11250.54,
          11251.68,
          11252.47,
          11252.86,
          11252.83,
          11252.34,
          11251.4,
          11249.98,
          11248.08,
          11245.68,
          11242.61,
          11238.89,
          11234.5,
          11229.46,
          11224.26,
          11218.88,
          11213.32,
          11207.59,
          11201.58,
          11195.34,
          11188.91,
          11182.34,
          11175.54,
          11168.57,
          11161.45,
          11154.22,
          8362.94,
          5573.463,
          2785.81,
          38.14054,
          95.20028,
          161.7518,
          235.1026,
          275.6226,
          11863.71,
          null
         ]
        },
        {
         "mode": "lines+markers",
         "name": "Cooling Space 103",
         "type": "scatter",
         "x": [
          "00:15:00",
          "00:30:00",
          "00:45:00",
          "01:00:00",
          "01:15:00",
          "01:30:00",
          "01:45:00",
          "02:00:00",
          "02:15:00",
          "02:30:00",
          "02:45:00",
          "03:00:00",
          "03:15:00",
          "03:30:00",
          "03:45:00",
          "04:00:00",
          "04:15:00",
          "04:30:00",
          "04:45:00",
          "05:00:00",
          "05:15:00",
          "05:30:00",
          "05:45:00",
          "06:00:00",
          "06:15:00",
          "06:30:00",
          "06:45:00",
          "07:00:00",
          "07:15:00",
          "07:30:00",
          "07:45:00",
          "08:00:00",
          "08:15:00",
          "08:30:00",
          "08:45:00",
          "09:00:00",
          "09:15:00",
          "09:30:00",
          "09:45:00",
          "10:00:00",
          "10:15:00",
          "10:30:00",
          "10:45:00",
          "11:00:00",
          "11:15:00",
          "11:30:00",
          "11:45:00",
          "12:00:00",
          "12:15:00",
          "12:30:00",
          "12:45:00",
          "13:00:00",
          "13:15:00",
          "13:30:00",
          "13:45:00",
          "14:00:00",
          "14:15:00",
          "14:30:00",
          "14:45:00",
          "15:00:00",
          "15:15:00",
          "15:30:00",
          "15:45:00",
          "16:00:00",
          "16:15:00",
          "16:30:00",
          "16:45:00",
          "17:00:00",
          "17:15:00",
          "17:30:00",
          "17:45:00",
          "18:00:00",
          "18:15:00",
          "18:30:00",
          "18:45:00",
          "19:00:00",
          "19:15:00",
          "19:30:00",
          "19:45:00",
          "20:00:00",
          "20:15:00",
          "20:30:00",
          "20:45:00",
          "21:00:00",
          "21:15:00",
          "21:30:00",
          "21:45:00",
          "22:00:00",
          "22:15:00",
          "22:30:00",
          "22:45:00",
          "23:00:00",
          "23:15:00",
          "23:30:00",
          "23:45:00",
          "24:00:00",
          "Peak",
          "Peak Vol Flow (m3/s)"
         ],
         "y": [
          220.7228,
          157.0979,
          88.07837,
          14.95502,
          19.05674,
          24.09142,
          28.48847,
          32.22304,
          35.20083,
          37.57591,
          39.48552,
          40.99183,
          41.97872,
          42.5485,
          42.77023,
          42.74855,
          42.73447,
          42.73385,
          42.765,
          42.84807,
          43.71455,
          45.38534,
          47.88654,
          51.25264,
          3382.43,
          6235.543,
          9056.564,
          11863.81,
          11335.85,
          11280.34,
          11252.31,
          11234.01,
          11219.61,
          11207.82,
          11198.15,
          11190.45,
          11184.42,
          11179.95,
          11177.01,
          11175.41,
          11175,
          11175.63,
          11177.11,
          11179.36,
          11182.14,
          11185.38,
          11189.01,
          11192.91,
          11197.17,
          11201.66,
          11206.32,
          11211.07,
          11215.81,
          11220.48,
          11225.06,
          11229.5,
          11233.6,
          11237.35,
          11240.75,
          11243.77,
          11246.4,
          11248.57,
          11250.25,
          11251.38,
          11252.15,
          11252.54,
          11252.49,
          11252,
          11251.05,
          11249.62,
          11247.71,
          11245.3,
          11242.23,
          11238.5,
          11234.11,
          11229.06,
          11223.85,
          11218.47,
          11212.9,
          11207.16,
          11201.15,
          11194.9,
          11188.47,
          11181.89,
          11175.08,
          11168.11,
          11160.98,
          11153.74,
          8362.585,
          5573.225,
          2785.69,
          37.89772,
          94.7628,
          161.1433,
          234.3339,
          274.9457,
          11863.81,
          null
         ]
        },
        {
         "mode": "lines+markers",
         "name": "Cooling Space 201",
         "type": "scatter",
         "x": [
          "00:15:00",
          "00:30:00",
          "00:45:00",
          "01:00:00",
          "01:15:00",
          "01:30:00",
          "01:45:00",
          "02:00:00",
          "02:15:00",
          "02:30:00",
          "02:45:00",
          "03:00:00",
          "03:15:00",
          "03:30:00",
          "03:45:00",
          "04:00:00",
          "04:15:00",
          "04:30:00",
          "04:45:00",
          "05:00:00",
          "05:15:00",
          "05:30:00",
          "05:45:00",
          "06:00:00",
          "06:15:00",
          "06:30:00",
          "06:45:00",
          "07:00:00",
          "07:15:00",
          "07:30:00",
          "07:45:00",
          "08:00:00",
          "08:15:00",
          "08:30:00",
          "08:45:00",
          "09:00:00",
          "09:15:00",
          "09:30:00",
          "09:45:00",
          "10:00:00",
          "10:15:00",
          "10:30:00",
          "10:45:00",
          "11:00:00",
          "11:15:00",
          "11:30:00",
          "11:45:00",
          "12:00:00",
          "12:15:00",
          "12:30:00",
          "12:45:00",
          "13:00:00",
          "13:15:00",
          "13:30:00",
          "13:45:00",
          "14:00:00",
          "14:15:00",
          "14:30:00",
          "14:45:00",
          "15:00:00",
          "15:15:00",
          "15:30:00",
          "15:45:00",
          "16:00:00",
          "16:15:00",
          "16:30:00",
          "16:45:00",
          "17:00:00",
          "17:15:00",
          "17:30:00",
          "17:45:00",
          "18:00:00",
          "18:15:00",
          "18:30:00",
          "18:45:00",
          "19:00:00",
          "19:15:00",
          "19:30:00",
          "19:45:00",
          "20:00:00",
          "20:15:00",
          "20:30:00",
          "20:45:00",
          "21:00:00",
          "21:15:00",
          "21:30:00",
          "21:45:00",
          "22:00:00",
          "22:15:00",
          "22:30:00",
          "22:45:00",
          "23:00:00",
          "23:15:00",
          "23:30:00",
          "23:45:00",
          "24:00:00",
          "Peak",
          "Peak Vol Flow (m3/s)"
         ],
         "y": [
          8175.382,
          8185.302,
          8189.282,
          8188.803,
          8194.041,
          8197.714,
          8200.331,
          8202.336,
          8203.235,
          8203.308,
          8202.795,
          8201.858,
          8199.803,
          8196.762,
          8192.844,
          8188.179,
          8183.739,
          8179.547,
          8175.686,
          8172.228,
          8171.7,
          8174.487,
          8180.745,
          8190.45,
          10243.25,
          11143.58,
          11999.12,
          12826.34,
          11592.49,
          11497.39,
          11436.49,
          11395.75,
          11367.62,
          11349.26,
          11338.85,
          11335.26,
          11336.19,
          11340.9,
          11348.8,
          11359.42,
          11372.36,
          11387.3,
          11404.04,
          11422.37,
          11440.94,
          11459.5,
          11477.73,
          11495.38,
          11513.36,
          11531.54,
          11549.84,
          11568.18,
          11586.05,
          11603.36,
          11620,
          11635.86,
          11649.99,
          11662.23,
          11672.48,
          11680.63,
          11686.28,
          11689.29,
          11689.5,
          11686.76,
          11682.49,
          11676.68,
          11669.29,
          11660.3,
          11649.61,
          11637.22,
          11623.12,
          11607.28,
          11588.72,
          11567.28,
          11542.82,
          11515.29,
          11487.83,
          11460.76,
          11434.26,
          11408.47,
          11382.87,
          11357.44,
          11332.23,
          11307.31,
          11281.95,
          11256.19,
          11230.05,
          11203.55,
          9467.353,
          8601.067,
          7788.443,
          7008.062,
          7959.933,
          8059.089,
          8118.453,
          8157.141,
          12826.34,
          null
         ]
        },
        {
         "mode": "lines+markers",
         "name": "Cooling Space 203",
         "type": "scatter",
         "x": [
          "00:15:00",
          "00:30:00",
          "00:45:00",
          "01:00:00",
          "01:15:00",
          "01:30:00",
          "01:45:00",
          "02:00:00",
          "02:15:00",
          "02:30:00",
          "02:45:00",
          "03:00:00",
          "03:15:00",
          "03:30:00",
          "03:45:00",
          "04:00:00",
          "04:15:00",
          "04:30:00",
          "04:45:00",
          "05:00:00",
          "05:15:00",
          "05:30:00",
          "05:45:00",
          "06:00:00",
          "06:15:00",
          "06:30:00",
          "06:45:00",
          "07:00:00",
          "07:15:00",
          "07:30:00",
          "07:45:00",
          "08:00:00",
          "08:15:00",
          "08:30:00",
          "08:45:00",
          "09:00:00",
          "09:15:00",
          "09:30:00",
          "09:45:00",
          "10:00:00",
          "10:15:00",
          "10:30:00",
          "10:45:00",
          "11:00:00",
          "11:15:00",
          "11:30:00",
          "11:45:00",
          "12:00:00",
          "12:15:00",
          "12:30:00",
          "12:45:00",
          "13:00:00",
          "13:15:00",
          "13:30:00",
          "13:45:00",
          "14:00:00",
          "14:15:00",
          "14:30:00",
          "14:45:00",
          "15:00:00",
          "15:15:00",
          "15:30:00",
          "15:45:00",
          "16:00:00",
          "16:15:00",
          "16:30:00",
          "16:45:00",
          "17:00:00",
          "17:15:00",
          "17:30:00",
          "17:45:00",
          "18:00:00",
          "18:15:00",
          "18:30:00",
          "18:45:00",
          "19:00:00",
          "19:15:00",
          "19:30:00",
          "19:45:00",
          "20:00:00",
          "20:15:00",
          "20:30:00",
          "20:45:00",
          "21:00:00",
          "21:15:00",
          "21:30:00",
          "21:45:00",
          "22:00:00",
          "22:15:00",
          "22:30:00",
          "22:45:00",
          "23:00:00",
          "23:15:00",
          "23:30:00",
          "23:45:00",
          "24:00:00",
          "Peak",
          "Peak Vol Flow (m3/s)"
         ],
         "y": [
          4085.709,
          4096.33,
          4100.986,
          4101.156,
          4106.641,
          4110.53,
          4113.345,
          4115.534,
          4116.603,
          4116.833,
          4116.467,
          4115.666,
          4113.737,
          4110.814,
          4107.006,
          4102.446,
          4098.106,
          4094.009,
          4090.237,
          4086.867,
          4086.422,
          4089.288,
          4095.624,
          4105.403,
          6137.324,
          7027.935,
          7873.642,
          8690.932,
          7467.997,
          7372.555,
          7311.324,
          7270.289,
          7241.899,
          7223.298,
          7212.686,
          7208.913,
          7209.672,
          7214.23,
          7221.994,
          7232.48,
          7245.297,
          7260.116,
          7276.743,
          7294.966,
          7313.435,
          7331.892,
          7350.023,
          7367.581,
          7385.461,
          7403.556,
          7421.772,
          7440.026,
          7457.822,
          7475.052,
          7491.611,
          7507.402,
          7521.462,
          7533.642,
          7543.831,
          7551.916,
          7557.511,
          7560.47,
          7560.631,
          7557.848,
          7553.537,
          7547.683,
          7540.257,
          7531.229,
          7520.517,
          7508.099,
          7493.967,
          7478.104,
          7459.532,
          7438.068,
          7413.603,
          7386.062,
          7358.598,
          7331.524,
          7305.025,
          7279.234,
          7253.629,
          7228.208,
          7203.005,
          7178.082,
          7152.734,
          7126.983,
          7100.853,
          7074.365,
          5466.523,
          4609.177,
          3805.808,
          3034.856,
          3867.93,
          3967.806,
          4027.66,
          4066.742,
          8690.932,
          null
         ]
        }
       ],
       "layout": {
        "template": {
         "data": {
          "bar": [
           {
            "error_x": {
             "color": "#2a3f5f"
            },
            "error_y": {
             "color": "#2a3f5f"
            },
            "marker": {
             "line": {
              "color": "#E5ECF6",
              "width": 0.5
             },
             "pattern": {
              "fillmode": "overlay",
              "size": 10,
              "solidity": 0.2
             }
            },
            "type": "bar"
           }
          ],
          "barpolar": [
           {
            "marker": {
             "line": {
              "color": "#E5ECF6",
              "width": 0.5
             },
             "pattern": {
              "fillmode": "overlay",
              "size": 10,
              "solidity": 0.2
             }
            },
            "type": "barpolar"
           }
          ],
          "carpet": [
           {
            "aaxis": {
             "endlinecolor": "#2a3f5f",
             "gridcolor": "white",
             "linecolor": "white",
             "minorgridcolor": "white",
             "startlinecolor": "#2a3f5f"
            },
            "baxis": {
             "endlinecolor": "#2a3f5f",
             "gridcolor": "white",
             "linecolor": "white",
             "minorgridcolor": "white",
             "startlinecolor": "#2a3f5f"
            },
            "type": "carpet"
           }
          ],
          "choropleth": [
           {
            "colorbar": {
             "outlinewidth": 0,
             "ticks": ""
            },
            "type": "choropleth"
           }
          ],
          "contour": [
           {
            "colorbar": {
             "outlinewidth": 0,
             "ticks": ""
            },
            "colorscale": [
             [
              0,
              "#0d0887"
             ],
             [
              0.1111111111111111,
              "#46039f"
             ],
             [
              0.2222222222222222,
              "#7201a8"
             ],
             [
              0.3333333333333333,
              "#9c179e"
             ],
             [
              0.4444444444444444,
              "#bd3786"
             ],
             [
              0.5555555555555556,
              "#d8576b"
             ],
             [
              0.6666666666666666,
              "#ed7953"
             ],
             [
              0.7777777777777778,
              "#fb9f3a"
             ],
             [
              0.8888888888888888,
              "#fdca26"
             ],
             [
              1,
              "#f0f921"
             ]
            ],
            "type": "contour"
           }
          ],
          "contourcarpet": [
           {
            "colorbar": {
             "outlinewidth": 0,
             "ticks": ""
            },
            "type": "contourcarpet"
           }
          ],
          "heatmap": [
           {
            "colorbar": {
             "outlinewidth": 0,
             "ticks": ""
            },
            "colorscale": [
             [
              0,
              "#0d0887"
             ],
             [
              0.1111111111111111,
              "#46039f"
             ],
             [
              0.2222222222222222,
              "#7201a8"
             ],
             [
              0.3333333333333333,
              "#9c179e"
             ],
             [
              0.4444444444444444,
              "#bd3786"
             ],
             [
              0.5555555555555556,
              "#d8576b"
             ],
             [
              0.6666666666666666,
              "#ed7953"
             ],
             [
              0.7777777777777778,
              "#fb9f3a"
             ],
             [
              0.8888888888888888,
              "#fdca26"
             ],
             [
              1,
              "#f0f921"
             ]
            ],
            "type": "heatmap"
           }
          ],
          "heatmapgl": [
           {
            "colorbar": {
             "outlinewidth": 0,
             "ticks": ""
            },
            "colorscale": [
             [
              0,
              "#0d0887"
             ],
             [
              0.1111111111111111,
              "#46039f"
             ],
             [
              0.2222222222222222,
              "#7201a8"
             ],
             [
              0.3333333333333333,
              "#9c179e"
             ],
             [
              0.4444444444444444,
              "#bd3786"
             ],
             [
              0.5555555555555556,
              "#d8576b"
             ],
             [
              0.6666666666666666,
              "#ed7953"
             ],
             [
              0.7777777777777778,
              "#fb9f3a"
             ],
             [
              0.8888888888888888,
              "#fdca26"
             ],
             [
              1,
              "#f0f921"
             ]
            ],
            "type": "heatmapgl"
           }
          ],
          "histogram": [
           {
            "marker": {
             "pattern": {
              "fillmode": "overlay",
              "size": 10,
              "solidity": 0.2
             }
            },
            "type": "histogram"
           }
          ],
          "histogram2d": [
           {
            "colorbar": {
             "outlinewidth": 0,
             "ticks": ""
            },
            "colorscale": [
             [
              0,
              "#0d0887"
             ],
             [
              0.1111111111111111,
              "#46039f"
             ],
             [
              0.2222222222222222,
              "#7201a8"
             ],
             [
              0.3333333333333333,
              "#9c179e"
             ],
             [
              0.4444444444444444,
              "#bd3786"
             ],
             [
              0.5555555555555556,
              "#d8576b"
             ],
             [
              0.6666666666666666,
              "#ed7953"
             ],
             [
              0.7777777777777778,
              "#fb9f3a"
             ],
             [
              0.8888888888888888,
              "#fdca26"
             ],
             [
              1,
              "#f0f921"
             ]
            ],
            "type": "histogram2d"
           }
          ],
          "histogram2dcontour": [
           {
            "colorbar": {
             "outlinewidth": 0,
             "ticks": ""
            },
            "colorscale": [
             [
              0,
              "#0d0887"
             ],
             [
              0.1111111111111111,
              "#46039f"
             ],
             [
              0.2222222222222222,
              "#7201a8"
             ],
             [
              0.3333333333333333,
              "#9c179e"
             ],
             [
              0.4444444444444444,
              "#bd3786"
             ],
             [
              0.5555555555555556,
              "#d8576b"
             ],
             [
              0.6666666666666666,
              "#ed7953"
             ],
             [
              0.7777777777777778,
              "#fb9f3a"
             ],
             [
              0.8888888888888888,
              "#fdca26"
             ],
             [
              1,
              "#f0f921"
             ]
            ],
            "type": "histogram2dcontour"
           }
          ],
          "mesh3d": [
           {
            "colorbar": {
             "outlinewidth": 0,
             "ticks": ""
            },
            "type": "mesh3d"
           }
          ],
          "parcoords": [
           {
            "line": {
             "colorbar": {
              "outlinewidth": 0,
              "ticks": ""
             }
            },
            "type": "parcoords"
           }
          ],
          "pie": [
           {
            "automargin": true,
            "type": "pie"
           }
          ],
          "scatter": [
           {
            "marker": {
             "colorbar": {
              "outlinewidth": 0,
              "ticks": ""
             }
            },
            "type": "scatter"
           }
          ],
          "scatter3d": [
           {
            "line": {
             "colorbar": {
              "outlinewidth": 0,
              "ticks": ""
             }
            },
            "marker": {
             "colorbar": {
              "outlinewidth": 0,
              "ticks": ""
             }
            },
            "type": "scatter3d"
           }
          ],
          "scattercarpet": [
           {
            "marker": {
             "colorbar": {
              "outlinewidth": 0,
              "ticks": ""
             }
            },
            "type": "scattercarpet"
           }
          ],
          "scattergeo": [
           {
            "marker": {
             "colorbar": {
              "outlinewidth": 0,
              "ticks": ""
             }
            },
            "type": "scattergeo"
           }
          ],
          "scattergl": [
           {
            "marker": {
             "colorbar": {
              "outlinewidth": 0,
              "ticks": ""
             }
            },
            "type": "scattergl"
           }
          ],
          "scattermapbox": [
           {
            "marker": {
             "colorbar": {
              "outlinewidth": 0,
              "ticks": ""
             }
            },
            "type": "scattermapbox"
           }
          ],
          "scatterpolar": [
           {
            "marker": {
             "colorbar": {
              "outlinewidth": 0,
              "ticks": ""
             }
            },
            "type": "scatterpolar"
           }
          ],
          "scatterpolargl": [
           {
            "marker": {
             "colorbar": {
              "outlinewidth": 0,
              "ticks": ""
             }
            },
            "type": "scatterpolargl"
           }
          ],
          "scatterternary": [
           {
            "marker": {
             "colorbar": {
              "outlinewidth": 0,
              "ticks": ""
             }
            },
            "type": "scatterternary"
           }
          ],
          "surface": [
           {
            "colorbar": {
             "outlinewidth": 0,
             "ticks": ""
            },
            "colorscale": [
             [
              0,
              "#0d0887"
             ],
             [
              0.1111111111111111,
              "#46039f"
             ],
             [
              0.2222222222222222,
              "#7201a8"
             ],
             [
              0.3333333333333333,
              "#9c179e"
             ],
             [
              0.4444444444444444,
              "#bd3786"
             ],
             [
              0.5555555555555556,
              "#d8576b"
             ],
             [
              0.6666666666666666,
              "#ed7953"
             ],
             [
              0.7777777777777778,
              "#fb9f3a"
             ],
             [
              0.8888888888888888,
              "#fdca26"
             ],
             [
              1,
              "#f0f921"
             ]
            ],
            "type": "surface"
           }
          ],
          "table": [
           {
            "cells": {
             "fill": {
              "color": "#EBF0F8"
             },
             "line": {
              "color": "white"
             }
            },
            "header": {
             "fill": {
              "color": "#C8D4E3"
             },
             "line": {
              "color": "white"
             }
            },
            "type": "table"
           }
          ]
         },
         "layout": {
          "annotationdefaults": {
           "arrowcolor": "#2a3f5f",
           "arrowhead": 0,
           "arrowwidth": 1
          },
          "autotypenumbers": "strict",
          "coloraxis": {
           "colorbar": {
            "outlinewidth": 0,
            "ticks": ""
           }
          },
          "colorscale": {
           "diverging": [
            [
             0,
             "#8e0152"
            ],
            [
             0.1,
             "#c51b7d"
            ],
            [
             0.2,
             "#de77ae"
            ],
            [
             0.3,
             "#f1b6da"
            ],
            [
             0.4,
             "#fde0ef"
            ],
            [
             0.5,
             "#f7f7f7"
            ],
            [
             0.6,
             "#e6f5d0"
            ],
            [
             0.7,
             "#b8e186"
            ],
            [
             0.8,
             "#7fbc41"
            ],
            [
             0.9,
             "#4d9221"
            ],
            [
             1,
             "#276419"
            ]
           ],
           "sequential": [
            [
             0,
             "#0d0887"
            ],
            [
             0.1111111111111111,
             "#46039f"
            ],
            [
             0.2222222222222222,
             "#7201a8"
            ],
            [
             0.3333333333333333,
             "#9c179e"
            ],
            [
             0.4444444444444444,
             "#bd3786"
            ],
            [
             0.5555555555555556,
             "#d8576b"
            ],
            [
             0.6666666666666666,
             "#ed7953"
            ],
            [
             0.7777777777777778,
             "#fb9f3a"
            ],
            [
             0.8888888888888888,
             "#fdca26"
            ],
            [
             1,
             "#f0f921"
            ]
           ],
           "sequentialminus": [
            [
             0,
             "#0d0887"
            ],
            [
             0.1111111111111111,
             "#46039f"
            ],
            [
             0.2222222222222222,
             "#7201a8"
            ],
            [
             0.3333333333333333,
             "#9c179e"
            ],
            [
             0.4444444444444444,
             "#bd3786"
            ],
            [
             0.5555555555555556,
             "#d8576b"
            ],
            [
             0.6666666666666666,
             "#ed7953"
            ],
            [
             0.7777777777777778,
             "#fb9f3a"
            ],
            [
             0.8888888888888888,
             "#fdca26"
            ],
            [
             1,
             "#f0f921"
            ]
           ]
          },
          "colorway": [
           "#636efa",
           "#EF553B",
           "#00cc96",
           "#ab63fa",
           "#FFA15A",
           "#19d3f3",
           "#FF6692",
           "#B6E880",
           "#FF97FF",
           "#FECB52"
          ],
          "font": {
           "color": "#2a3f5f"
          },
          "geo": {
           "bgcolor": "white",
           "lakecolor": "white",
           "landcolor": "#E5ECF6",
           "showlakes": true,
           "showland": true,
           "subunitcolor": "white"
          },
          "hoverlabel": {
           "align": "left"
          },
          "hovermode": "closest",
          "mapbox": {
           "style": "light"
          },
          "paper_bgcolor": "white",
          "plot_bgcolor": "#E5ECF6",
          "polar": {
           "angularaxis": {
            "gridcolor": "white",
            "linecolor": "white",
            "ticks": ""
           },
           "bgcolor": "#E5ECF6",
           "radialaxis": {
            "gridcolor": "white",
            "linecolor": "white",
            "ticks": ""
           }
          },
          "scene": {
           "xaxis": {
            "backgroundcolor": "#E5ECF6",
            "gridcolor": "white",
            "gridwidth": 2,
            "linecolor": "white",
            "showbackground": true,
            "ticks": "",
            "zerolinecolor": "white"
           },
           "yaxis": {
            "backgroundcolor": "#E5ECF6",
            "gridcolor": "white",
            "gridwidth": 2,
            "linecolor": "white",
            "showbackground": true,
            "ticks": "",
            "zerolinecolor": "white"
           },
           "zaxis": {
            "backgroundcolor": "#E5ECF6",
            "gridcolor": "white",
            "gridwidth": 2,
            "linecolor": "white",
            "showbackground": true,
            "ticks": "",
            "zerolinecolor": "white"
           }
          },
          "shapedefaults": {
           "line": {
            "color": "#2a3f5f"
           }
          },
          "ternary": {
           "aaxis": {
            "gridcolor": "white",
            "linecolor": "white",
            "ticks": ""
           },
           "baxis": {
            "gridcolor": "white",
            "linecolor": "white",
            "ticks": ""
           },
           "bgcolor": "#E5ECF6",
           "caxis": {
            "gridcolor": "white",
            "linecolor": "white",
            "ticks": ""
           }
          },
          "title": {
           "x": 0.05
          },
          "xaxis": {
           "automargin": true,
           "gridcolor": "white",
           "linecolor": "white",
           "ticks": "",
           "title": {
            "standoff": 15
           },
           "zerolinecolor": "white",
           "zerolinewidth": 2
          },
          "yaxis": {
           "automargin": true,
           "gridcolor": "white",
           "linecolor": "white",
           "ticks": "",
           "title": {
            "standoff": 15
           },
           "zerolinecolor": "white",
           "zerolinewidth": 2
          }
         }
        },
        "title": {
         "text": "Design Day Load"
        },
        "xaxis": {
         "title": {
          "text": "Hours"
         }
        },
        "yaxis": {
         "title": {
          "text": "Load [W]"
         }
        }
       }
      }
     },
     "metadata": {},
     "output_type": "display_data"
    }
   ],
   "source": [
    "fig = go.Figure()\n",
    "\n",
    "\n",
    "\n",
    "for i in [1,2]:\n",
    "    for k in [1,3]:\n",
    "        fig.add_trace(\n",
    "                    go.Scatter(x=des_loads.Time, y=des_loads[f\"THERMAL ZONE: SPACE {i}0{k}:CA_PALO-ALTO-AP ANN CLG 0.4% CONDNS DB=>MCWB:Des Sens Cool Load [W]\"], mode='lines+markers', \n",
    "                    name=f\"Cooling Space {i}0{k}\"\n",
    "                    ))\n",
    "\n",
    "\n",
    "fig.update_layout(\n",
    "    title=f\"Cooling Design Day Load\",\n",
    "    xaxis_title=\"Hours\",\n",
    "    yaxis_title=f\"Load [W]\",\n",
    ")\n",
    "fig.show()"
   ]
  },
  {
   "cell_type": "code",
   "execution_count": null,
   "metadata": {},
   "outputs": [
    {
     "data": {
      "application/vnd.plotly.v1+json": {
       "config": {
        "plotlyServerURL": "https://plot.ly"
       },
       "data": [
        {
         "mode": "lines+markers",
         "name": "Heating Space 101",
         "type": "scatter",
         "x": [
          "00:15:00",
          "00:30:00",
          "00:45:00",
          "01:00:00",
          "01:15:00",
          "01:30:00",
          "01:45:00",
          "02:00:00",
          "02:15:00",
          "02:30:00",
          "02:45:00",
          "03:00:00",
          "03:15:00",
          "03:30:00",
          "03:45:00",
          "04:00:00",
          "04:15:00",
          "04:30:00",
          "04:45:00",
          "05:00:00",
          "05:15:00",
          "05:30:00",
          "05:45:00",
          "06:00:00",
          "06:15:00",
          "06:30:00",
          "06:45:00",
          "07:00:00",
          "07:15:00",
          "07:30:00",
          "07:45:00",
          "08:00:00",
          "08:15:00",
          "08:30:00",
          "08:45:00",
          "09:00:00",
          "09:15:00",
          "09:30:00",
          "09:45:00",
          "10:00:00",
          "10:15:00",
          "10:30:00",
          "10:45:00",
          "11:00:00",
          "11:15:00",
          "11:30:00",
          "11:45:00",
          "12:00:00",
          "12:15:00",
          "12:30:00",
          "12:45:00",
          "13:00:00",
          "13:15:00",
          "13:30:00",
          "13:45:00",
          "14:00:00",
          "14:15:00",
          "14:30:00",
          "14:45:00",
          "15:00:00",
          "15:15:00",
          "15:30:00",
          "15:45:00",
          "16:00:00",
          "16:15:00",
          "16:30:00",
          "16:45:00",
          "17:00:00",
          "17:15:00",
          "17:30:00",
          "17:45:00",
          "18:00:00",
          "18:15:00",
          "18:30:00",
          "18:45:00",
          "19:00:00",
          "19:15:00",
          "19:30:00",
          "19:45:00",
          "20:00:00",
          "20:15:00",
          "20:30:00",
          "20:45:00",
          "21:00:00",
          "21:15:00",
          "21:30:00",
          "21:45:00",
          "22:00:00",
          "22:15:00",
          "22:30:00",
          "22:45:00",
          "23:00:00",
          "23:15:00",
          "23:30:00",
          "23:45:00",
          "24:00:00",
          "Peak",
          "Peak Vol Flow (m3/s)"
         ],
         "y": [
          3699.06,
          3699.076,
          3699.09,
          3699.103,
          3699.126,
          3699.148,
          3699.169,
          3699.188,
          3699.206,
          3699.223,
          3699.239,
          3699.254,
          3699.268,
          3699.282,
          3699.295,
          3699.307,
          3699.319,
          3699.33,
          3699.34,
          3699.351,
          3699.36,
          3699.37,
          3699.379,
          3699.387,
          3479.34,
          3259.214,
          3039.034,
          2818.81,
          2818.601,
          2818.434,
          2818.284,
          2818.148,
          2818.022,
          2817.905,
          2817.797,
          2817.697,
          2817.604,
          2817.519,
          2817.44,
          2817.367,
          2817.3,
          2817.239,
          2817.182,
          2817.129,
          2817.08,
          2817.035,
          2816.994,
          2816.956,
          2816.92,
          2816.887,
          2816.857,
          2816.828,
          2816.802,
          2816.777,
          2816.754,
          2816.733,
          2816.713,
          2816.694,
          2816.677,
          2816.66,
          2816.644,
          2816.63,
          2816.616,
          2816.603,
          2816.591,
          2816.579,
          2816.568,
          2816.557,
          2816.547,
          2816.538,
          2816.529,
          2816.52,
          3036.576,
          3256.662,
          3476.8,
          3696.995,
          3697.179,
          3697.382,
          3697.578,
          3697.757,
          3697.919,
          3698.064,
          3698.194,
          3698.309,
          3698.412,
          3698.505,
          3698.587,
          3698.661,
          3698.727,
          3698.787,
          3698.84,
          3698.889,
          3698.933,
          3698.972,
          3699.009,
          3699.042,
          3699.387,
          null
         ]
        },
        {
         "mode": "lines+markers",
         "name": "Heating Space 103",
         "type": "scatter",
         "x": [
          "00:15:00",
          "00:30:00",
          "00:45:00",
          "01:00:00",
          "01:15:00",
          "01:30:00",
          "01:45:00",
          "02:00:00",
          "02:15:00",
          "02:30:00",
          "02:45:00",
          "03:00:00",
          "03:15:00",
          "03:30:00",
          "03:45:00",
          "04:00:00",
          "04:15:00",
          "04:30:00",
          "04:45:00",
          "05:00:00",
          "05:15:00",
          "05:30:00",
          "05:45:00",
          "06:00:00",
          "06:15:00",
          "06:30:00",
          "06:45:00",
          "07:00:00",
          "07:15:00",
          "07:30:00",
          "07:45:00",
          "08:00:00",
          "08:15:00",
          "08:30:00",
          "08:45:00",
          "09:00:00",
          "09:15:00",
          "09:30:00",
          "09:45:00",
          "10:00:00",
          "10:15:00",
          "10:30:00",
          "10:45:00",
          "11:00:00",
          "11:15:00",
          "11:30:00",
          "11:45:00",
          "12:00:00",
          "12:15:00",
          "12:30:00",
          "12:45:00",
          "13:00:00",
          "13:15:00",
          "13:30:00",
          "13:45:00",
          "14:00:00",
          "14:15:00",
          "14:30:00",
          "14:45:00",
          "15:00:00",
          "15:15:00",
          "15:30:00",
          "15:45:00",
          "16:00:00",
          "16:15:00",
          "16:30:00",
          "16:45:00",
          "17:00:00",
          "17:15:00",
          "17:30:00",
          "17:45:00",
          "18:00:00",
          "18:15:00",
          "18:30:00",
          "18:45:00",
          "19:00:00",
          "19:15:00",
          "19:30:00",
          "19:45:00",
          "20:00:00",
          "20:15:00",
          "20:30:00",
          "20:45:00",
          "21:00:00",
          "21:15:00",
          "21:30:00",
          "21:45:00",
          "22:00:00",
          "22:15:00",
          "22:30:00",
          "22:45:00",
          "23:00:00",
          "23:15:00",
          "23:30:00",
          "23:45:00",
          "24:00:00",
          "Peak",
          "Peak Vol Flow (m3/s)"
         ],
         "y": [
          3698.265,
          3698.281,
          3698.295,
          3698.308,
          3698.331,
          3698.353,
          3698.374,
          3698.393,
          3698.411,
          3698.428,
          3698.444,
          3698.459,
          3698.473,
          3698.487,
          3698.5,
          3698.512,
          3698.524,
          3698.535,
          3698.546,
          3698.556,
          3698.566,
          3698.575,
          3698.584,
          3698.592,
          3478.545,
          3258.419,
          3038.239,
          2818.015,
          2817.806,
          2817.639,
          2817.49,
          2817.353,
          2817.227,
          2817.11,
          2817.002,
          2816.902,
          2816.81,
          2816.724,
          2816.645,
          2816.573,
          2816.506,
          2816.444,
          2816.387,
          2816.334,
          2816.286,
          2816.241,
          2816.199,
          2816.161,
          2816.125,
          2816.092,
          2816.062,
          2816.033,
          2816.007,
          2815.982,
          2815.96,
          2815.938,
          2815.918,
          2815.899,
          2815.882,
          2815.865,
          2815.85,
          2815.835,
          2815.821,
          2815.808,
          2815.796,
          2815.784,
          2815.773,
          2815.763,
          2815.753,
          2815.743,
          2815.734,
          2815.726,
          3035.781,
          3255.867,
          3476.005,
          3696.2,
          3696.384,
          3696.588,
          3696.783,
          3696.962,
          3697.124,
          3697.269,
          3697.399,
          3697.514,
          3697.618,
          3697.71,
          3697.792,
          3697.866,
          3697.932,
          3697.992,
          3698.046,
          3698.094,
          3698.138,
          3698.177,
          3698.214,
          3698.247,
          3698.592,
          null
         ]
        },
        {
         "mode": "lines+markers",
         "name": "Heating Space 201",
         "type": "scatter",
         "x": [
          "00:15:00",
          "00:30:00",
          "00:45:00",
          "01:00:00",
          "01:15:00",
          "01:30:00",
          "01:45:00",
          "02:00:00",
          "02:15:00",
          "02:30:00",
          "02:45:00",
          "03:00:00",
          "03:15:00",
          "03:30:00",
          "03:45:00",
          "04:00:00",
          "04:15:00",
          "04:30:00",
          "04:45:00",
          "05:00:00",
          "05:15:00",
          "05:30:00",
          "05:45:00",
          "06:00:00",
          "06:15:00",
          "06:30:00",
          "06:45:00",
          "07:00:00",
          "07:15:00",
          "07:30:00",
          "07:45:00",
          "08:00:00",
          "08:15:00",
          "08:30:00",
          "08:45:00",
          "09:00:00",
          "09:15:00",
          "09:30:00",
          "09:45:00",
          "10:00:00",
          "10:15:00",
          "10:30:00",
          "10:45:00",
          "11:00:00",
          "11:15:00",
          "11:30:00",
          "11:45:00",
          "12:00:00",
          "12:15:00",
          "12:30:00",
          "12:45:00",
          "13:00:00",
          "13:15:00",
          "13:30:00",
          "13:45:00",
          "14:00:00",
          "14:15:00",
          "14:30:00",
          "14:45:00",
          "15:00:00",
          "15:15:00",
          "15:30:00",
          "15:45:00",
          "16:00:00",
          "16:15:00",
          "16:30:00",
          "16:45:00",
          "17:00:00",
          "17:15:00",
          "17:30:00",
          "17:45:00",
          "18:00:00",
          "18:15:00",
          "18:30:00",
          "18:45:00",
          "19:00:00",
          "19:15:00",
          "19:30:00",
          "19:45:00",
          "20:00:00",
          "20:15:00",
          "20:30:00",
          "20:45:00",
          "21:00:00",
          "21:15:00",
          "21:30:00",
          "21:45:00",
          "22:00:00",
          "22:15:00",
          "22:30:00",
          "22:45:00",
          "23:00:00",
          "23:15:00",
          "23:30:00",
          "23:45:00",
          "24:00:00",
          "Peak",
          "Peak Vol Flow (m3/s)"
         ],
         "y": [
          8675.887,
          8675.911,
          8675.933,
          8675.954,
          8676.013,
          8676.07,
          8676.124,
          8676.175,
          8676.224,
          8676.272,
          8676.317,
          8676.361,
          8676.403,
          8676.443,
          8676.481,
          8676.519,
          8676.554,
          8676.589,
          8676.622,
          8676.654,
          8676.685,
          8676.715,
          8676.743,
          8676.771,
          8058.231,
          7439.42,
          6820.421,
          6201.261,
          6200.525,
          6199.933,
          6199.414,
          6198.957,
          6198.555,
          6198.199,
          6197.886,
          6197.609,
          6197.364,
          6197.147,
          6196.953,
          6196.78,
          6196.625,
          6196.486,
          6196.36,
          6196.245,
          6196.141,
          6196.045,
          6195.957,
          6195.876,
          6195.8,
          6195.73,
          6195.664,
          6195.602,
          6195.544,
          6195.489,
          6195.437,
          6195.388,
          6195.341,
          6195.296,
          6195.253,
          6195.213,
          6195.174,
          6195.136,
          6195.101,
          6195.066,
          6195.033,
          6195.002,
          6194.971,
          6194.942,
          6194.914,
          6194.886,
          6194.86,
          6194.835,
          6813.424,
          7432.129,
          8051.053,
          8670.188,
          8670.894,
          8671.641,
          8672.302,
          8672.861,
          8673.327,
          8673.715,
          8674.04,
          8674.314,
          8674.547,
          8674.747,
          8674.921,
          8675.073,
          8675.208,
          8675.328,
          8675.437,
          8675.536,
          8675.627,
          8675.71,
          8675.788,
          8675.86,
          8676.771,
          null
         ]
        },
        {
         "mode": "lines+markers",
         "name": "Heating Space 203",
         "type": "scatter",
         "x": [
          "00:15:00",
          "00:30:00",
          "00:45:00",
          "01:00:00",
          "01:15:00",
          "01:30:00",
          "01:45:00",
          "02:00:00",
          "02:15:00",
          "02:30:00",
          "02:45:00",
          "03:00:00",
          "03:15:00",
          "03:30:00",
          "03:45:00",
          "04:00:00",
          "04:15:00",
          "04:30:00",
          "04:45:00",
          "05:00:00",
          "05:15:00",
          "05:30:00",
          "05:45:00",
          "06:00:00",
          "06:15:00",
          "06:30:00",
          "06:45:00",
          "07:00:00",
          "07:15:00",
          "07:30:00",
          "07:45:00",
          "08:00:00",
          "08:15:00",
          "08:30:00",
          "08:45:00",
          "09:00:00",
          "09:15:00",
          "09:30:00",
          "09:45:00",
          "10:00:00",
          "10:15:00",
          "10:30:00",
          "10:45:00",
          "11:00:00",
          "11:15:00",
          "11:30:00",
          "11:45:00",
          "12:00:00",
          "12:15:00",
          "12:30:00",
          "12:45:00",
          "13:00:00",
          "13:15:00",
          "13:30:00",
          "13:45:00",
          "14:00:00",
          "14:15:00",
          "14:30:00",
          "14:45:00",
          "15:00:00",
          "15:15:00",
          "15:30:00",
          "15:45:00",
          "16:00:00",
          "16:15:00",
          "16:30:00",
          "16:45:00",
          "17:00:00",
          "17:15:00",
          "17:30:00",
          "17:45:00",
          "18:00:00",
          "18:15:00",
          "18:30:00",
          "18:45:00",
          "19:00:00",
          "19:15:00",
          "19:30:00",
          "19:45:00",
          "20:00:00",
          "20:15:00",
          "20:30:00",
          "20:45:00",
          "21:00:00",
          "21:15:00",
          "21:30:00",
          "21:45:00",
          "22:00:00",
          "22:15:00",
          "22:30:00",
          "22:45:00",
          "23:00:00",
          "23:15:00",
          "23:30:00",
          "23:45:00",
          "24:00:00",
          "Peak",
          "Peak Vol Flow (m3/s)"
         ],
         "y": [
          8675.247,
          8675.271,
          8675.294,
          8675.314,
          8675.373,
          8675.43,
          8675.484,
          8675.535,
          8675.585,
          8675.632,
          8675.678,
          8675.721,
          8675.763,
          8675.803,
          8675.842,
          8675.879,
          8675.915,
          8675.949,
          8675.983,
          8676.015,
          8676.045,
          8676.075,
          8676.104,
          8676.131,
          8057.591,
          7438.78,
          6819.782,
          6200.622,
          6199.886,
          6199.293,
          6198.775,
          6198.318,
          6197.915,
          6197.56,
          6197.246,
          6196.969,
          6196.724,
          6196.507,
          6196.314,
          6196.141,
          6195.986,
          6195.846,
          6195.72,
          6195.606,
          6195.501,
          6195.406,
          6195.318,
          6195.236,
          6195.161,
          6195.09,
          6195.024,
          6194.963,
          6194.904,
          6194.849,
          6194.797,
          6194.748,
          6194.701,
          6194.657,
          6194.614,
          6194.573,
          6194.534,
          6194.497,
          6194.461,
          6194.427,
          6194.394,
          6194.362,
          6194.332,
          6194.302,
          6194.274,
          6194.247,
          6194.221,
          6194.196,
          6812.785,
          7431.49,
          8050.413,
          8669.548,
          8670.255,
          8671.002,
          8671.663,
          8672.221,
          8672.687,
          8673.076,
          8673.401,
          8673.674,
          8673.907,
          8674.107,
          8674.281,
          8674.433,
          8674.568,
          8674.689,
          8674.798,
          8674.896,
          8674.987,
          8675.07,
          8675.148,
          8675.22,
          8676.131,
          null
         ]
        }
       ],
       "layout": {
        "template": {
         "data": {
          "bar": [
           {
            "error_x": {
             "color": "#2a3f5f"
            },
            "error_y": {
             "color": "#2a3f5f"
            },
            "marker": {
             "line": {
              "color": "#E5ECF6",
              "width": 0.5
             },
             "pattern": {
              "fillmode": "overlay",
              "size": 10,
              "solidity": 0.2
             }
            },
            "type": "bar"
           }
          ],
          "barpolar": [
           {
            "marker": {
             "line": {
              "color": "#E5ECF6",
              "width": 0.5
             },
             "pattern": {
              "fillmode": "overlay",
              "size": 10,
              "solidity": 0.2
             }
            },
            "type": "barpolar"
           }
          ],
          "carpet": [
           {
            "aaxis": {
             "endlinecolor": "#2a3f5f",
             "gridcolor": "white",
             "linecolor": "white",
             "minorgridcolor": "white",
             "startlinecolor": "#2a3f5f"
            },
            "baxis": {
             "endlinecolor": "#2a3f5f",
             "gridcolor": "white",
             "linecolor": "white",
             "minorgridcolor": "white",
             "startlinecolor": "#2a3f5f"
            },
            "type": "carpet"
           }
          ],
          "choropleth": [
           {
            "colorbar": {
             "outlinewidth": 0,
             "ticks": ""
            },
            "type": "choropleth"
           }
          ],
          "contour": [
           {
            "colorbar": {
             "outlinewidth": 0,
             "ticks": ""
            },
            "colorscale": [
             [
              0,
              "#0d0887"
             ],
             [
              0.1111111111111111,
              "#46039f"
             ],
             [
              0.2222222222222222,
              "#7201a8"
             ],
             [
              0.3333333333333333,
              "#9c179e"
             ],
             [
              0.4444444444444444,
              "#bd3786"
             ],
             [
              0.5555555555555556,
              "#d8576b"
             ],
             [
              0.6666666666666666,
              "#ed7953"
             ],
             [
              0.7777777777777778,
              "#fb9f3a"
             ],
             [
              0.8888888888888888,
              "#fdca26"
             ],
             [
              1,
              "#f0f921"
             ]
            ],
            "type": "contour"
           }
          ],
          "contourcarpet": [
           {
            "colorbar": {
             "outlinewidth": 0,
             "ticks": ""
            },
            "type": "contourcarpet"
           }
          ],
          "heatmap": [
           {
            "colorbar": {
             "outlinewidth": 0,
             "ticks": ""
            },
            "colorscale": [
             [
              0,
              "#0d0887"
             ],
             [
              0.1111111111111111,
              "#46039f"
             ],
             [
              0.2222222222222222,
              "#7201a8"
             ],
             [
              0.3333333333333333,
              "#9c179e"
             ],
             [
              0.4444444444444444,
              "#bd3786"
             ],
             [
              0.5555555555555556,
              "#d8576b"
             ],
             [
              0.6666666666666666,
              "#ed7953"
             ],
             [
              0.7777777777777778,
              "#fb9f3a"
             ],
             [
              0.8888888888888888,
              "#fdca26"
             ],
             [
              1,
              "#f0f921"
             ]
            ],
            "type": "heatmap"
           }
          ],
          "heatmapgl": [
           {
            "colorbar": {
             "outlinewidth": 0,
             "ticks": ""
            },
            "colorscale": [
             [
              0,
              "#0d0887"
             ],
             [
              0.1111111111111111,
              "#46039f"
             ],
             [
              0.2222222222222222,
              "#7201a8"
             ],
             [
              0.3333333333333333,
              "#9c179e"
             ],
             [
              0.4444444444444444,
              "#bd3786"
             ],
             [
              0.5555555555555556,
              "#d8576b"
             ],
             [
              0.6666666666666666,
              "#ed7953"
             ],
             [
              0.7777777777777778,
              "#fb9f3a"
             ],
             [
              0.8888888888888888,
              "#fdca26"
             ],
             [
              1,
              "#f0f921"
             ]
            ],
            "type": "heatmapgl"
           }
          ],
          "histogram": [
           {
            "marker": {
             "pattern": {
              "fillmode": "overlay",
              "size": 10,
              "solidity": 0.2
             }
            },
            "type": "histogram"
           }
          ],
          "histogram2d": [
           {
            "colorbar": {
             "outlinewidth": 0,
             "ticks": ""
            },
            "colorscale": [
             [
              0,
              "#0d0887"
             ],
             [
              0.1111111111111111,
              "#46039f"
             ],
             [
              0.2222222222222222,
              "#7201a8"
             ],
             [
              0.3333333333333333,
              "#9c179e"
             ],
             [
              0.4444444444444444,
              "#bd3786"
             ],
             [
              0.5555555555555556,
              "#d8576b"
             ],
             [
              0.6666666666666666,
              "#ed7953"
             ],
             [
              0.7777777777777778,
              "#fb9f3a"
             ],
             [
              0.8888888888888888,
              "#fdca26"
             ],
             [
              1,
              "#f0f921"
             ]
            ],
            "type": "histogram2d"
           }
          ],
          "histogram2dcontour": [
           {
            "colorbar": {
             "outlinewidth": 0,
             "ticks": ""
            },
            "colorscale": [
             [
              0,
              "#0d0887"
             ],
             [
              0.1111111111111111,
              "#46039f"
             ],
             [
              0.2222222222222222,
              "#7201a8"
             ],
             [
              0.3333333333333333,
              "#9c179e"
             ],
             [
              0.4444444444444444,
              "#bd3786"
             ],
             [
              0.5555555555555556,
              "#d8576b"
             ],
             [
              0.6666666666666666,
              "#ed7953"
             ],
             [
              0.7777777777777778,
              "#fb9f3a"
             ],
             [
              0.8888888888888888,
              "#fdca26"
             ],
             [
              1,
              "#f0f921"
             ]
            ],
            "type": "histogram2dcontour"
           }
          ],
          "mesh3d": [
           {
            "colorbar": {
             "outlinewidth": 0,
             "ticks": ""
            },
            "type": "mesh3d"
           }
          ],
          "parcoords": [
           {
            "line": {
             "colorbar": {
              "outlinewidth": 0,
              "ticks": ""
             }
            },
            "type": "parcoords"
           }
          ],
          "pie": [
           {
            "automargin": true,
            "type": "pie"
           }
          ],
          "scatter": [
           {
            "marker": {
             "colorbar": {
              "outlinewidth": 0,
              "ticks": ""
             }
            },
            "type": "scatter"
           }
          ],
          "scatter3d": [
           {
            "line": {
             "colorbar": {
              "outlinewidth": 0,
              "ticks": ""
             }
            },
            "marker": {
             "colorbar": {
              "outlinewidth": 0,
              "ticks": ""
             }
            },
            "type": "scatter3d"
           }
          ],
          "scattercarpet": [
           {
            "marker": {
             "colorbar": {
              "outlinewidth": 0,
              "ticks": ""
             }
            },
            "type": "scattercarpet"
           }
          ],
          "scattergeo": [
           {
            "marker": {
             "colorbar": {
              "outlinewidth": 0,
              "ticks": ""
             }
            },
            "type": "scattergeo"
           }
          ],
          "scattergl": [
           {
            "marker": {
             "colorbar": {
              "outlinewidth": 0,
              "ticks": ""
             }
            },
            "type": "scattergl"
           }
          ],
          "scattermapbox": [
           {
            "marker": {
             "colorbar": {
              "outlinewidth": 0,
              "ticks": ""
             }
            },
            "type": "scattermapbox"
           }
          ],
          "scatterpolar": [
           {
            "marker": {
             "colorbar": {
              "outlinewidth": 0,
              "ticks": ""
             }
            },
            "type": "scatterpolar"
           }
          ],
          "scatterpolargl": [
           {
            "marker": {
             "colorbar": {
              "outlinewidth": 0,
              "ticks": ""
             }
            },
            "type": "scatterpolargl"
           }
          ],
          "scatterternary": [
           {
            "marker": {
             "colorbar": {
              "outlinewidth": 0,
              "ticks": ""
             }
            },
            "type": "scatterternary"
           }
          ],
          "surface": [
           {
            "colorbar": {
             "outlinewidth": 0,
             "ticks": ""
            },
            "colorscale": [
             [
              0,
              "#0d0887"
             ],
             [
              0.1111111111111111,
              "#46039f"
             ],
             [
              0.2222222222222222,
              "#7201a8"
             ],
             [
              0.3333333333333333,
              "#9c179e"
             ],
             [
              0.4444444444444444,
              "#bd3786"
             ],
             [
              0.5555555555555556,
              "#d8576b"
             ],
             [
              0.6666666666666666,
              "#ed7953"
             ],
             [
              0.7777777777777778,
              "#fb9f3a"
             ],
             [
              0.8888888888888888,
              "#fdca26"
             ],
             [
              1,
              "#f0f921"
             ]
            ],
            "type": "surface"
           }
          ],
          "table": [
           {
            "cells": {
             "fill": {
              "color": "#EBF0F8"
             },
             "line": {
              "color": "white"
             }
            },
            "header": {
             "fill": {
              "color": "#C8D4E3"
             },
             "line": {
              "color": "white"
             }
            },
            "type": "table"
           }
          ]
         },
         "layout": {
          "annotationdefaults": {
           "arrowcolor": "#2a3f5f",
           "arrowhead": 0,
           "arrowwidth": 1
          },
          "autotypenumbers": "strict",
          "coloraxis": {
           "colorbar": {
            "outlinewidth": 0,
            "ticks": ""
           }
          },
          "colorscale": {
           "diverging": [
            [
             0,
             "#8e0152"
            ],
            [
             0.1,
             "#c51b7d"
            ],
            [
             0.2,
             "#de77ae"
            ],
            [
             0.3,
             "#f1b6da"
            ],
            [
             0.4,
             "#fde0ef"
            ],
            [
             0.5,
             "#f7f7f7"
            ],
            [
             0.6,
             "#e6f5d0"
            ],
            [
             0.7,
             "#b8e186"
            ],
            [
             0.8,
             "#7fbc41"
            ],
            [
             0.9,
             "#4d9221"
            ],
            [
             1,
             "#276419"
            ]
           ],
           "sequential": [
            [
             0,
             "#0d0887"
            ],
            [
             0.1111111111111111,
             "#46039f"
            ],
            [
             0.2222222222222222,
             "#7201a8"
            ],
            [
             0.3333333333333333,
             "#9c179e"
            ],
            [
             0.4444444444444444,
             "#bd3786"
            ],
            [
             0.5555555555555556,
             "#d8576b"
            ],
            [
             0.6666666666666666,
             "#ed7953"
            ],
            [
             0.7777777777777778,
             "#fb9f3a"
            ],
            [
             0.8888888888888888,
             "#fdca26"
            ],
            [
             1,
             "#f0f921"
            ]
           ],
           "sequentialminus": [
            [
             0,
             "#0d0887"
            ],
            [
             0.1111111111111111,
             "#46039f"
            ],
            [
             0.2222222222222222,
             "#7201a8"
            ],
            [
             0.3333333333333333,
             "#9c179e"
            ],
            [
             0.4444444444444444,
             "#bd3786"
            ],
            [
             0.5555555555555556,
             "#d8576b"
            ],
            [
             0.6666666666666666,
             "#ed7953"
            ],
            [
             0.7777777777777778,
             "#fb9f3a"
            ],
            [
             0.8888888888888888,
             "#fdca26"
            ],
            [
             1,
             "#f0f921"
            ]
           ]
          },
          "colorway": [
           "#636efa",
           "#EF553B",
           "#00cc96",
           "#ab63fa",
           "#FFA15A",
           "#19d3f3",
           "#FF6692",
           "#B6E880",
           "#FF97FF",
           "#FECB52"
          ],
          "font": {
           "color": "#2a3f5f"
          },
          "geo": {
           "bgcolor": "white",
           "lakecolor": "white",
           "landcolor": "#E5ECF6",
           "showlakes": true,
           "showland": true,
           "subunitcolor": "white"
          },
          "hoverlabel": {
           "align": "left"
          },
          "hovermode": "closest",
          "mapbox": {
           "style": "light"
          },
          "paper_bgcolor": "white",
          "plot_bgcolor": "#E5ECF6",
          "polar": {
           "angularaxis": {
            "gridcolor": "white",
            "linecolor": "white",
            "ticks": ""
           },
           "bgcolor": "#E5ECF6",
           "radialaxis": {
            "gridcolor": "white",
            "linecolor": "white",
            "ticks": ""
           }
          },
          "scene": {
           "xaxis": {
            "backgroundcolor": "#E5ECF6",
            "gridcolor": "white",
            "gridwidth": 2,
            "linecolor": "white",
            "showbackground": true,
            "ticks": "",
            "zerolinecolor": "white"
           },
           "yaxis": {
            "backgroundcolor": "#E5ECF6",
            "gridcolor": "white",
            "gridwidth": 2,
            "linecolor": "white",
            "showbackground": true,
            "ticks": "",
            "zerolinecolor": "white"
           },
           "zaxis": {
            "backgroundcolor": "#E5ECF6",
            "gridcolor": "white",
            "gridwidth": 2,
            "linecolor": "white",
            "showbackground": true,
            "ticks": "",
            "zerolinecolor": "white"
           }
          },
          "shapedefaults": {
           "line": {
            "color": "#2a3f5f"
           }
          },
          "ternary": {
           "aaxis": {
            "gridcolor": "white",
            "linecolor": "white",
            "ticks": ""
           },
           "baxis": {
            "gridcolor": "white",
            "linecolor": "white",
            "ticks": ""
           },
           "bgcolor": "#E5ECF6",
           "caxis": {
            "gridcolor": "white",
            "linecolor": "white",
            "ticks": ""
           }
          },
          "title": {
           "x": 0.05
          },
          "xaxis": {
           "automargin": true,
           "gridcolor": "white",
           "linecolor": "white",
           "ticks": "",
           "title": {
            "standoff": 15
           },
           "zerolinecolor": "white",
           "zerolinewidth": 2
          },
          "yaxis": {
           "automargin": true,
           "gridcolor": "white",
           "linecolor": "white",
           "ticks": "",
           "title": {
            "standoff": 15
           },
           "zerolinecolor": "white",
           "zerolinewidth": 2
          }
         }
        },
        "title": {
         "text": "Design Day Load"
        },
        "xaxis": {
         "title": {
          "text": "Hours"
         }
        },
        "yaxis": {
         "title": {
          "text": "Load [W]"
         }
        }
       }
      }
     },
     "metadata": {},
     "output_type": "display_data"
    }
   ],
   "source": [
    "fig = go.Figure()\n",
    "\n",
    "\n",
    "\n",
    "for i in [1,2]:\n",
    "    for k in [1,3]:\n",
    "        fig.add_trace(\n",
    "                    go.Scatter(x=des_loads.Time, y=des_loads[f\"THERMAL ZONE: SPACE {i}0{k}:CA_PALO-ALTO-AP ANN HTG 99.6% CONDNS DB:Des Heat Load [W]\"], mode='lines+markers', \n",
    "                    name=f\"Heating Space {i}0{k}\"\n",
    "                    ))\n",
    "        # fig.add_trace(\n",
    "        #             go.Scatter(x=des_loads.Time, y=des_loads[f\"THERMAL ZONE: SPACE {i}0{k}:CA_PALO-ALTO-AP ANN CLG 0.4% CONDNS DB=>MCWB:Des Sens Cool Load [W]\"], mode='lines+markers', \n",
    "        #             name=f\"Cooling Space {i}0{k}\"\n",
    "        #             ))\n",
    "\n",
    "\n",
    "fig.update_layout(\n",
    "    title=f\"Heating Design Day Load\",\n",
    "    xaxis_title=\"Hours\",\n",
    "    yaxis_title=f\"Load [W]\",\n",
    ")\n",
    "fig.show()"
   ]
  }
 ],
 "metadata": {
  "interpreter": {
   "hash": "83394fd6528936df3c1aec41a113e1e006dc45c8dc5352109b9d4b356eececd5"
  },
  "kernelspec": {
   "display_name": "Python 3.9.10 ('cee256venv': venv)",
   "language": "python",
   "name": "python3"
  },
  "language_info": {
   "codemirror_mode": {
    "name": "ipython",
    "version": 3
   },
   "file_extension": ".py",
   "mimetype": "text/x-python",
   "name": "python",
   "nbconvert_exporter": "python",
   "pygments_lexer": "ipython3",
   "version": "3.9.10"
  },
  "orig_nbformat": 4
 },
 "nbformat": 4,
 "nbformat_minor": 2
}
