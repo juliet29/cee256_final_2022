{
 "cells": [
  {
   "cell_type": "code",
   "execution_count": 2,
   "metadata": {},
   "outputs": [],
   "source": [
    "import os\n",
    "\n",
    "from ladybug.sql import SQLiteResult\n",
    "from ladybug import analysisperiod as ap\n",
    "\n",
    "from eppy import *\n",
    "\n",
    "import plotly.graph_objects as go\n",
    "import plotly.express as px\n",
    "from plotly.subplots import make_subplots\n",
    "\n",
    "import pandas as pd\n",
    "\n",
    "import numpy as np\n",
    "\n",
    "from collections import OrderedDict\n",
    "\n",
    "import datetime as dt\n",
    "\n",
    "from IPython.display import display\n",
    "\n"
   ]
  },
  {
   "cell_type": "code",
   "execution_count": 3,
   "metadata": {},
   "outputs": [
    {
     "data": {
      "text/plain": [
       "'/Users/julietnwagwuume-ezeoke/Documents/cee256_local/_final_project_local'"
      ]
     },
     "execution_count": 3,
     "metadata": {},
     "output_type": "execute_result"
    }
   ],
   "source": [
    "root = os.getcwd()\n",
    "root"
   ]
  },
  {
   "cell_type": "markdown",
   "metadata": {},
   "source": [
    "# SQL (Simulation) Analyis"
   ]
  },
  {
   "cell_type": "code",
   "execution_count": 4,
   "metadata": {},
   "outputs": [],
   "source": [
    "def calc_metrics(simulated, measured):\n",
    "    ts = simulated\n",
    "    tm = measured\n",
    "    tm_avg = np.mean(measured)\n",
    "    n = len(tm)\n",
    "    rmse = (100/tm_avg) * np.sqrt( (1/n) * np.sum((ts - tm)**2) )\n",
    "    mbe = (100/tm_avg) * (np.sum(ts - tm)/n)\n",
    "    return np.round(rmse,3), np.round(mbe,3)"
   ]
  },
  {
   "cell_type": "code",
   "execution_count": 5,
   "metadata": {},
   "outputs": [],
   "source": [
    "def monthly_by_hour_from_sql(sql_dir_name):\n",
    "    sqlFile = os.path.join(sql_dir_name, \"eplusout.sql\")\n",
    "    sqld = SQLiteResult(sqlFile)\n",
    "\n",
    "    elect = sqld.data_collections_by_output_name(\"Electricity:Facility\")[-1]\n",
    "    hot = sqld.data_collections_by_output_name(\"DistrictHeating:Facility\")[-1]\n",
    "    chill = sqld.data_collections_by_output_name(\"DistrictCooling:Facility\")[-1]\n",
    "\n",
    "    sim_month_by_hr = OrderedDict({\n",
    "    \"elect\": elect.average_monthly_per_hour(),\n",
    "    \"hot\": hot.average_monthly_per_hour(),\n",
    "    \"chill\": chill.average_monthly_per_hour()\n",
    "    })\n",
    "\n",
    "    sim_monthly= OrderedDict({\n",
    "    \"elect\": elect.total_monthly(),\n",
    "    \"hot\": hot.total_monthly(),\n",
    "    \"chill\": chill.total_monthly(),\n",
    "    })\n",
    "\n",
    "    return sim_month_by_hr, sim_monthly\n"
   ]
  },
  {
   "cell_type": "markdown",
   "metadata": {},
   "source": [
    "## Load SQL Files"
   ]
  },
  {
   "cell_type": "code",
   "execution_count": 20,
   "metadata": {},
   "outputs": [],
   "source": [
    "# new_dir_name = os.path.join(adjusted_model_dir, \"03-02_02-Hourly-Meter\")\n",
    "sim_names = {\n",
    "    0: \"03-02_02-Hourly-Meter\", # idf adjusted of the  \"correct\" baseline, group_models/Final_project_3-1-2022_2\n",
    "    # 1: \"03-02_03-Original_OSM\", # original osm with incorrect material, orientation, geom\n",
    "    # 2: \"03-03_01-CHW_Time2_25\", # change chilled water setpoint to 25 C\n",
    "    # 3: \"03-03_02-CHW_Time2_25_Summer\", # try for the summer design day...\n",
    "    # # 4: \"03-03_03-CHW_Time2_26\", # change chilled water setpoint to 26 C\n",
    "    # # 5: \"03-03_04-CHW_Time2_28\",\n",
    "    # 6: \"03-03_05-CHW_Time2_29\",\n",
    "    # 7: \"03-03_06-Raise_Chilled_Water_Temp_12\",\n",
    "    # 8: \"03-03_07-new-baseline\", # has 29 deg setpoint and 12 deg water...\n",
    "    1: \"03-03_08-new-baseline-reg\", # has 24 deg setpoint and 6 deg water\n",
    "    # 10: \"03-03_09-heating\",\n",
    "    2: \"03-03_09-heating_t2_17\",\n",
    "    3: \"03-06_00-eh-6\"\n",
    "}\n",
    "\n",
    "adjusted_model_dir = os.path.join(root, \"eppy_adjusted_models\")\n",
    "sim_name_paths = {k: os.path.join(adjusted_model_dir, v) for k,v in sim_names.items()}"
   ]
  },
  {
   "cell_type": "code",
   "execution_count": 21,
   "metadata": {},
   "outputs": [],
   "source": [
    "sim_data_hr = OrderedDict()\n",
    "sim_data_month = OrderedDict()\n",
    "\n",
    "for k, v in zip(sim_names.values(), sim_name_paths.values()):\n",
    "    sim_data_hr[k] = monthly_by_hour_from_sql(v)[0]\n",
    "    sim_data_month[k] = monthly_by_hour_from_sql(v)[1]"
   ]
  },
  {
   "cell_type": "markdown",
   "metadata": {},
   "source": [
    "# Load and Convert Historical Data"
   ]
  },
  {
   "cell_type": "code",
   "execution_count": 22,
   "metadata": {},
   "outputs": [],
   "source": [
    "# conversion factors\n",
    "tonHr_kwHr = 3.5169 # 1 ton-hr = 3.517 kWh\n",
    "kbtu_kwHr = 1/3.412 # 1 kbtu = 0.29 kwHr\n",
    "\n",
    "# load data \n",
    "historical_data_path = os.path.join(root, \"data/Thornton Utilities 2019.xlsx\")\n",
    "\n",
    "# electricity # kwh \n",
    "hist_elect_hourly = pd.read_excel(historical_data_path, sheet_name=\"Electricity hourly\", usecols=\"A:E\")\n",
    "\n",
    "# chilled water  -> convert ton hours to kWh\n",
    "hist_chw_hourly = pd.read_excel(historical_data_path, sheet_name=\"CHW hourly\", usecols=\"A:E\")\n",
    "hist_chw_hourly[\"kWh\"] = hist_chw_hourly[\"ton-hours\"]*tonHr_kwHr\n",
    "\n",
    "# hot water -> convert kbtu to kWh\n",
    "hist_hw_hourly = pd.read_excel(historical_data_path, sheet_name=\"HW hourly\", usecols=\"A:E\")\n",
    "hist_hw_hourly[\"kWh\"] = hist_hw_hourly[\"kBtu\"]*kbtu_kwHr "
   ]
  },
  {
   "cell_type": "code",
   "execution_count": 23,
   "metadata": {},
   "outputs": [],
   "source": [
    "# month by hour\n",
    "hist_month_by_hr = OrderedDict({\n",
    "    \"elect\" : hist_elect_hourly.groupby([\"Month\", \"Hour\"])[\"kWh\"].mean(),\n",
    "    \"hot\": hist_hw_hourly.groupby([\"Month\", \"Hour\"])[\"kWh\"].mean(),\n",
    "    \"chill\": hist_chw_hourly.groupby([\"Month\", \"Hour\"])[\"kWh\"].mean(),\n",
    "})\n",
    "\n",
    "# monthly \n",
    "hist_monthly = OrderedDict({\n",
    "   \"elect\": hist_elect_hourly.groupby(\"Month\")[\"kWh\"].sum(),\n",
    "   \"hot\":  hist_hw_hourly.groupby(\"Month\")[\"kWh\"].sum(),\n",
    "   \"chill\":  hist_chw_hourly.groupby(\"Month\")[\"kWh\"].sum()\n",
    "})"
   ]
  },
  {
   "cell_type": "markdown",
   "metadata": {},
   "source": [
    "# Comparison of Hourly Trends"
   ]
  },
  {
   "cell_type": "code",
   "execution_count": 24,
   "metadata": {},
   "outputs": [],
   "source": [
    "hours = [dt.datetime(2019, 1, 1, i ).strftime(\"%H:%M\") for i in range(24)]"
   ]
  },
  {
   "cell_type": "code",
   "execution_count": 25,
   "metadata": {},
   "outputs": [],
   "source": [
    "def create_analysis_period(num):\n",
    "    return ap.AnalysisPeriod(st_month=num, end_month=num)"
   ]
  },
  {
   "cell_type": "code",
   "execution_count": 26,
   "metadata": {},
   "outputs": [],
   "source": [
    "def plot_datasets_monthly_by_hour(month_num, month_name):\n",
    "\n",
    "    month = create_analysis_period(month_num)\n",
    "    blueShades = px.colors.qualitative.Vivid[:len(sim_data_hr.keys())]\n",
    "\n",
    "    fig = make_subplots(\n",
    "        rows=1, cols=3,\n",
    "        subplot_titles=(\"Electricity\", \"Hot Water\", \"Chilled Water\"))\n",
    "\n",
    "    # historical/ measured data \n",
    "    for (ix, value) in  enumerate(hist_month_by_hr.values()):\n",
    "        showLegend = True\n",
    "        if ix > 0:\n",
    "            showLegend = False\n",
    "        fig.add_trace(go.Scatter(  \n",
    "            x=hours,\n",
    "            y=value[month.st_month] , \n",
    "            mode='lines',\n",
    "            name=\"Historical\",\n",
    "            legendgroup=\"Months\",\n",
    "            line=dict(color='red'),\n",
    "            showlegend=showLegend),\n",
    "            row=1, col=ix+1)\n",
    "\n",
    "    # simulated datasets \n",
    "    for (name, dataset), blueShade in zip(sim_data_hr.items(), blueShades):\n",
    "        for (ix, sim), hist in zip(enumerate(dataset.values()),hist_month_by_hr.values()) :\n",
    "            showLegend = True\n",
    "            if ix > 0:\n",
    "                showLegend = False\n",
    "            fig.add_trace(go.Scatter( \n",
    "                x=hours,\n",
    "                y=sim.filter_by_analysis_period(month).values , \n",
    "                mode='lines+markers',\n",
    "                name=name,\n",
    "                legendgroup=\"Months\",\n",
    "                line=dict(color=blueShade),\n",
    "                showlegend=showLegend),\n",
    "                row=1, col=ix+1)\n",
    "\n",
    "    fig.update_layout(title=f\"{month_name} Average Hourly Energy Usage\",\n",
    "        yaxis_title=\"Energy (kWh)\",)\n",
    "   \n",
    "   # calculate metrics \n",
    "    metrics = {}\n",
    "    for name, dataset in sim_data_hr.items():\n",
    "        type_dict = {}\n",
    "        for (k, sim), hist in zip(dataset.items(), hist_month_by_hr.values()):\n",
    "            type_dict[k] = calc_metrics(sim.filter_by_analysis_period(month).values, hist[month.st_month])\n",
    "        metrics[name] = type_dict\n",
    "    metrics = pd.DataFrame(metrics)\n",
    "    display(metrics)\n",
    "\n",
    "    fig.show()"
   ]
  },
  {
   "cell_type": "code",
   "execution_count": 27,
   "metadata": {},
   "outputs": [
    {
     "data": {
      "text/html": [
       "<div>\n",
       "<style scoped>\n",
       "    .dataframe tbody tr th:only-of-type {\n",
       "        vertical-align: middle;\n",
       "    }\n",
       "\n",
       "    .dataframe tbody tr th {\n",
       "        vertical-align: top;\n",
       "    }\n",
       "\n",
       "    .dataframe thead th {\n",
       "        text-align: right;\n",
       "    }\n",
       "</style>\n",
       "<table border=\"1\" class=\"dataframe\">\n",
       "  <thead>\n",
       "    <tr style=\"text-align: right;\">\n",
       "      <th></th>\n",
       "      <th>03-02_02-Hourly-Meter</th>\n",
       "      <th>03-03_08-new-baseline-reg</th>\n",
       "      <th>03-03_09-heating_t2_17</th>\n",
       "      <th>03-06_00-eh-6</th>\n",
       "    </tr>\n",
       "  </thead>\n",
       "  <tbody>\n",
       "    <tr>\n",
       "      <th>elect</th>\n",
       "      <td>(22.85, 7.58)</td>\n",
       "      <td>(46.977, -44.24)</td>\n",
       "      <td>(47.303, -44.574)</td>\n",
       "      <td>(40.458, -37.025)</td>\n",
       "    </tr>\n",
       "    <tr>\n",
       "      <th>hot</th>\n",
       "      <td>(105.128, -79.158)</td>\n",
       "      <td>(95.625, -65.408)</td>\n",
       "      <td>(118.922, -85.278)</td>\n",
       "      <td>(105.887, -70.523)</td>\n",
       "    </tr>\n",
       "    <tr>\n",
       "      <th>chill</th>\n",
       "      <td>(416.617, 259.266)</td>\n",
       "      <td>(88.273, 30.007)</td>\n",
       "      <td>(59.889, -37.366)</td>\n",
       "      <td>(110.808, 35.68)</td>\n",
       "    </tr>\n",
       "  </tbody>\n",
       "</table>\n",
       "</div>"
      ],
      "text/plain": [
       "      03-02_02-Hourly-Meter 03-03_08-new-baseline-reg 03-03_09-heating_t2_17  \\\n",
       "elect         (22.85, 7.58)          (46.977, -44.24)      (47.303, -44.574)   \n",
       "hot      (105.128, -79.158)         (95.625, -65.408)     (118.922, -85.278)   \n",
       "chill    (416.617, 259.266)          (88.273, 30.007)      (59.889, -37.366)   \n",
       "\n",
       "            03-06_00-eh-6  \n",
       "elect   (40.458, -37.025)  \n",
       "hot    (105.887, -70.523)  \n",
       "chill    (110.808, 35.68)  "
      ]
     },
     "metadata": {},
     "output_type": "display_data"
    },
    {
     "data": {
      "application/vnd.plotly.v1+json": {
       "config": {
        "plotlyServerURL": "https://plot.ly"
       },
       "data": [
        {
         "legendgroup": "Months",
         "line": {
          "color": "red"
         },
         "mode": "lines",
         "name": "Historical",
         "showlegend": true,
         "type": "scatter",
         "x": [
          "00:00",
          "01:00",
          "02:00",
          "03:00",
          "04:00",
          "05:00",
          "06:00",
          "07:00",
          "08:00",
          "09:00",
          "10:00",
          "11:00",
          "12:00",
          "13:00",
          "14:00",
          "15:00",
          "16:00",
          "17:00",
          "18:00",
          "19:00",
          "20:00",
          "21:00",
          "22:00",
          "23:00"
         ],
         "xaxis": "x",
         "y": [
          10.445598790499998,
          9.2416383074,
          8.874816805266667,
          8.7830586272,
          8.677413943200001,
          18.56520901133333,
          19.266101268,
          20.56941342,
          23.168180941333333,
          24.68626951,
          25.08982277733333,
          24.383022519333334,
          24.349052503,
          24.656402777741935,
          24.616485940322583,
          24.78195195258065,
          25.086097285483874,
          23.08691142935484,
          21.63350797387097,
          21.335701891612903,
          20.889391399032256,
          17.663702921935485,
          11.555328094193548,
          11.183150471645162
         ],
         "yaxis": "y"
        },
        {
         "legendgroup": "Months",
         "line": {
          "color": "red"
         },
         "mode": "lines",
         "name": "Historical",
         "showlegend": false,
         "type": "scatter",
         "x": [
          "00:00",
          "01:00",
          "02:00",
          "03:00",
          "04:00",
          "05:00",
          "06:00",
          "07:00",
          "08:00",
          "09:00",
          "10:00",
          "11:00",
          "12:00",
          "13:00",
          "14:00",
          "15:00",
          "16:00",
          "17:00",
          "18:00",
          "19:00",
          "20:00",
          "21:00",
          "22:00",
          "23:00"
         ],
         "xaxis": "x2",
         "y": [
          0.014207805663833529,
          0,
          0,
          0,
          0,
          0,
          40.130443250488476,
          34.95929930636967,
          30.30292237915201,
          23.838808842028136,
          18.13165462443826,
          14.448446145296014,
          13.560891605890975,
          14.869222697878456,
          14.410466286162691,
          13.142191555898536,
          13.150263351099534,
          15.724575130232955,
          16.18587135470635,
          16.06825405579454,
          15.954133561809837,
          17.335374037554836,
          1.852286931751787,
          0.08734274489940627
         ],
         "yaxis": "y2"
        },
        {
         "legendgroup": "Months",
         "line": {
          "color": "red"
         },
         "mode": "lines",
         "name": "Historical",
         "showlegend": false,
         "type": "scatter",
         "x": [
          "00:00",
          "01:00",
          "02:00",
          "03:00",
          "04:00",
          "05:00",
          "06:00",
          "07:00",
          "08:00",
          "09:00",
          "10:00",
          "11:00",
          "12:00",
          "13:00",
          "14:00",
          "15:00",
          "16:00",
          "17:00",
          "18:00",
          "19:00",
          "20:00",
          "21:00",
          "22:00",
          "23:00"
         ],
         "xaxis": "x3",
         "y": [
          0.668060851757385,
          0.7010742719440101,
          0.7055875789090176,
          0.6429965413715201,
          0.61799657507437,
          0.6411705733098625,
          0.6115906288555676,
          0.5107869228030101,
          0.64049503757431,
          0.7064181211328451,
          0.8752654379373951,
          2.0646321961557503,
          2.35192504937721,
          4.33846987459807,
          4.325862853350063,
          4.809306524053384,
          5.244935592208111,
          4.151390390849957,
          2.4633392152383875,
          1.9289817575012953,
          1.4681314617954921,
          0.7884719412434661,
          0.6522769486103129,
          0.687914992032704
         ],
         "yaxis": "y3"
        },
        {
         "legendgroup": "Months",
         "line": {
          "color": "rgb(229, 134, 6)"
         },
         "mode": "lines+markers",
         "name": "03-02_02-Hourly-Meter",
         "showlegend": true,
         "type": "scatter",
         "x": [
          "00:00",
          "01:00",
          "02:00",
          "03:00",
          "04:00",
          "05:00",
          "06:00",
          "07:00",
          "08:00",
          "09:00",
          "10:00",
          "11:00",
          "12:00",
          "13:00",
          "14:00",
          "15:00",
          "16:00",
          "17:00",
          "18:00",
          "19:00",
          "20:00",
          "21:00",
          "22:00",
          "23:00"
         ],
         "xaxis": "x",
         "y": [
          12.132605428734847,
          12.13225709846788,
          12.132416473189707,
          12.133192029442005,
          12.134612916424809,
          12.435615951508073,
          12.99135718007748,
          14.14208064917232,
          29.905322367722974,
          30.023693249815825,
          30.098371478974517,
          30.16556735746464,
          27.59531396337406,
          30.279893721713655,
          29.40575500442623,
          29.448720627683183,
          29.450974103124114,
          25.28509101931858,
          19.32969456663653,
          19.3249168907214,
          15.887358958595485,
          15.88825420700336,
          12.436361093699471,
          12.134714346257317
         ],
         "yaxis": "y"
        },
        {
         "legendgroup": "Months",
         "line": {
          "color": "rgb(229, 134, 6)"
         },
         "mode": "lines+markers",
         "name": "03-02_02-Hourly-Meter",
         "showlegend": false,
         "type": "scatter",
         "x": [
          "00:00",
          "01:00",
          "02:00",
          "03:00",
          "04:00",
          "05:00",
          "06:00",
          "07:00",
          "08:00",
          "09:00",
          "10:00",
          "11:00",
          "12:00",
          "13:00",
          "14:00",
          "15:00",
          "16:00",
          "17:00",
          "18:00",
          "19:00",
          "20:00",
          "21:00",
          "22:00",
          "23:00"
         ],
         "xaxis": "x2",
         "y": [
          0.7244926371295237,
          1.3563201046352515,
          1.8778266888116357,
          2.37014109447799,
          3.0080214305243347,
          3.715757418336056,
          22.01215142548746,
          16.248228827109692,
          2.188297383438745,
          0.8601025068150421,
          0.48311267377859984,
          0.29171346738679094,
          0.19413880348236223,
          0.15569630135683335,
          0.7418801293301223,
          0.9250996057742149,
          1.0552284454421328,
          1.8004936069687225,
          0.010405675630685403,
          0.14469125776465017,
          1.896783702196482,
          2.657418259330802,
          0.33402162329962065,
          0.42787774736078366
         ],
         "yaxis": "y2"
        },
        {
         "legendgroup": "Months",
         "line": {
          "color": "rgb(229, 134, 6)"
         },
         "mode": "lines+markers",
         "name": "03-02_02-Hourly-Meter",
         "showlegend": false,
         "type": "scatter",
         "x": [
          "00:00",
          "01:00",
          "02:00",
          "03:00",
          "04:00",
          "05:00",
          "06:00",
          "07:00",
          "08:00",
          "09:00",
          "10:00",
          "11:00",
          "12:00",
          "13:00",
          "14:00",
          "15:00",
          "16:00",
          "17:00",
          "18:00",
          "19:00",
          "20:00",
          "21:00",
          "22:00",
          "23:00"
         ],
         "xaxis": "x3",
         "y": [
          1.0358846588307131,
          0.8671990419392662,
          0.7486607884452113,
          0.668469112710156,
          0.6088296728238735,
          0.5521596431045853,
          0.6303962531157176,
          0.7012565674837504,
          4.763569576015147,
          8.361322453357799,
          11.618876333896939,
          14.46406454172977,
          7.99605098343414,
          18.028443538855864,
          20.17575989385589,
          20.746690233643015,
          19.668368975006242,
          9.787171980195112,
          2.6109128794280325,
          2.0814998240295433,
          2.0721279892631217,
          1.926149383972673,
          1.5964839341239663,
          1.3262848883580576
         ],
         "yaxis": "y3"
        },
        {
         "legendgroup": "Months",
         "line": {
          "color": "rgb(93, 105, 177)"
         },
         "mode": "lines+markers",
         "name": "03-03_08-new-baseline-reg",
         "showlegend": true,
         "type": "scatter",
         "x": [
          "00:00",
          "01:00",
          "02:00",
          "03:00",
          "04:00",
          "05:00",
          "06:00",
          "07:00",
          "08:00",
          "09:00",
          "10:00",
          "11:00",
          "12:00",
          "13:00",
          "14:00",
          "15:00",
          "16:00",
          "17:00",
          "18:00",
          "19:00",
          "20:00",
          "21:00",
          "22:00",
          "23:00"
         ],
         "xaxis": "x",
         "y": [
          4.266857965719434,
          4.268101721667439,
          4.270539549355118,
          4.273289671368782,
          4.276467480578113,
          4.804031334170885,
          5.132900161700327,
          7.195578079891676,
          17.502292245624222,
          17.5253533753826,
          17.564695932793406,
          17.601661053636256,
          16.847827752611316,
          17.65462873709191,
          16.883907958633287,
          16.902835347273896,
          16.901680416795,
          13.73876092719059,
          10.289437197676968,
          10.288494879800812,
          7.555598125282957,
          7.560901391443917,
          4.791665782160573,
          4.266088844379433
         ],
         "yaxis": "y"
        },
        {
         "legendgroup": "Months",
         "line": {
          "color": "rgb(93, 105, 177)"
         },
         "mode": "lines+markers",
         "name": "03-03_08-new-baseline-reg",
         "showlegend": false,
         "type": "scatter",
         "x": [
          "00:00",
          "01:00",
          "02:00",
          "03:00",
          "04:00",
          "05:00",
          "06:00",
          "07:00",
          "08:00",
          "09:00",
          "10:00",
          "11:00",
          "12:00",
          "13:00",
          "14:00",
          "15:00",
          "16:00",
          "17:00",
          "18:00",
          "19:00",
          "20:00",
          "21:00",
          "22:00",
          "23:00"
         ],
         "xaxis": "x2",
         "y": [
          2.4193901646304186,
          3.111513669713353,
          4.054453690594321,
          5.092542874533747,
          6.12676165218266,
          6.8276063112862255,
          25.38102141187699,
          20.960197979403205,
          5.566308172598617,
          2.9602577504280596,
          1.4335433693895352,
          0.7161906297455602,
          0.47000386717645476,
          0.37460305478041694,
          1.2383734383739622,
          1.359079830954676,
          1.4783887436179701,
          2.097575334293869,
          0.47421189604977715,
          1.0896777154229584,
          5.888795359547179,
          7.385887603280407,
          0.8307658631787319,
          1.3380841466619404
         ],
         "yaxis": "y2"
        },
        {
         "legendgroup": "Months",
         "line": {
          "color": "rgb(93, 105, 177)"
         },
         "mode": "lines+markers",
         "name": "03-03_08-new-baseline-reg",
         "showlegend": false,
         "type": "scatter",
         "x": [
          "00:00",
          "01:00",
          "02:00",
          "03:00",
          "04:00",
          "05:00",
          "06:00",
          "07:00",
          "08:00",
          "09:00",
          "10:00",
          "11:00",
          "12:00",
          "13:00",
          "14:00",
          "15:00",
          "16:00",
          "17:00",
          "18:00",
          "19:00",
          "20:00",
          "21:00",
          "22:00",
          "23:00"
         ],
         "xaxis": "x3",
         "y": [
          0.5843745668565351,
          0.487151335914606,
          0.4474083205484404,
          0.4022700092602223,
          0.3626644704562819,
          0.32380979942094534,
          0.32605314185599465,
          0.36170304862558955,
          0.5046160270250097,
          1.1482655420451915,
          2.6282291032362277,
          4.311923913388399,
          2.831681890576202,
          6.936556304928271,
          8.414594295071288,
          8.6571617639768,
          7.766628159806362,
          2.400066112173944,
          1.313001199945417,
          1.147069915557101,
          1.2101051736714186,
          1.1260035906234653,
          0.9313081897734891,
          0.7564629450978907
         ],
         "yaxis": "y3"
        },
        {
         "legendgroup": "Months",
         "line": {
          "color": "rgb(82, 188, 163)"
         },
         "mode": "lines+markers",
         "name": "03-03_09-heating_t2_17",
         "showlegend": true,
         "type": "scatter",
         "x": [
          "00:00",
          "01:00",
          "02:00",
          "03:00",
          "04:00",
          "05:00",
          "06:00",
          "07:00",
          "08:00",
          "09:00",
          "10:00",
          "11:00",
          "12:00",
          "13:00",
          "14:00",
          "15:00",
          "16:00",
          "17:00",
          "18:00",
          "19:00",
          "20:00",
          "21:00",
          "22:00",
          "23:00"
         ],
         "xaxis": "x",
         "y": [
          4.2420716432710375,
          4.235139808828928,
          4.235446829346908,
          4.2360795758904395,
          4.237341337459784,
          4.763198173419751,
          4.989484097357726,
          7.0781552684103355,
          17.444269685527797,
          17.454461392728803,
          17.480562020231666,
          17.50417769272473,
          16.871387926375,
          17.53440817142186,
          16.740386812425097,
          16.733670730113463,
          16.716021457672266,
          13.701922053696475,
          10.283369887780955,
          10.27766296503319,
          7.536719425273797,
          7.532273638535933,
          4.778019041372369,
          4.245702949872776
         ],
         "yaxis": "y"
        },
        {
         "legendgroup": "Months",
         "line": {
          "color": "rgb(82, 188, 163)"
         },
         "mode": "lines+markers",
         "name": "03-03_09-heating_t2_17",
         "showlegend": false,
         "type": "scatter",
         "x": [
          "00:00",
          "01:00",
          "02:00",
          "03:00",
          "04:00",
          "05:00",
          "06:00",
          "07:00",
          "08:00",
          "09:00",
          "10:00",
          "11:00",
          "12:00",
          "13:00",
          "14:00",
          "15:00",
          "16:00",
          "17:00",
          "18:00",
          "19:00",
          "20:00",
          "21:00",
          "22:00",
          "23:00"
         ],
         "xaxis": "x2",
         "y": [
          1.7394434623882533,
          2.218195248602163,
          2.8061459494767598,
          3.5261311417465913,
          4.387008343980408,
          4.973337015244538,
          9.169105827377125,
          5.819941373207498,
          1.926206376998031,
          1.1354183638090773,
          0.7374594489428946,
          0.4809410446987396,
          0.33862773849805344,
          0.28879895194956917,
          0.7450361271140405,
          0.9267254577652233,
          1.0389359644848313,
          1.7093905745053661,
          0.05078023203976473,
          0.0799591903887856,
          0.2444258970701146,
          0.4170877510590704,
          0.5561442659642492,
          0.9358744024350724
         ],
         "yaxis": "y2"
        },
        {
         "legendgroup": "Months",
         "line": {
          "color": "rgb(82, 188, 163)"
         },
         "mode": "lines+markers",
         "name": "03-03_09-heating_t2_17",
         "showlegend": false,
         "type": "scatter",
         "x": [
          "00:00",
          "01:00",
          "02:00",
          "03:00",
          "04:00",
          "05:00",
          "06:00",
          "07:00",
          "08:00",
          "09:00",
          "10:00",
          "11:00",
          "12:00",
          "13:00",
          "14:00",
          "15:00",
          "16:00",
          "17:00",
          "18:00",
          "19:00",
          "20:00",
          "21:00",
          "22:00",
          "23:00"
         ],
         "xaxis": "x3",
         "y": [
          0.48453596982892905,
          0.3949426059528418,
          0.3660659630528986,
          0.32978763289607427,
          0.2973952846512728,
          0.2669603592496199,
          0.2708754404341197,
          0.30025270999657394,
          0.3662474130480856,
          0.5913370693874015,
          1.1296152892165887,
          1.7825760602580314,
          2.2298649829130652,
          2.668948731704822,
          2.985509295008884,
          2.9019945815461887,
          2.376418545185401,
          1.5942008611041658,
          1.0799962173408064,
          0.9421169302560887,
          1.0083469506632385,
          0.9270685576096844,
          0.7665981356034439,
          0.6187724735889433
         ],
         "yaxis": "y3"
        },
        {
         "legendgroup": "Months",
         "line": {
          "color": "rgb(153, 201, 69)"
         },
         "mode": "lines+markers",
         "name": "03-06_00-eh-6",
         "showlegend": true,
         "type": "scatter",
         "x": [
          "00:00",
          "01:00",
          "02:00",
          "03:00",
          "04:00",
          "05:00",
          "06:00",
          "07:00",
          "08:00",
          "09:00",
          "10:00",
          "11:00",
          "12:00",
          "13:00",
          "14:00",
          "15:00",
          "16:00",
          "17:00",
          "18:00",
          "19:00",
          "20:00",
          "21:00",
          "22:00",
          "23:00"
         ],
         "xaxis": "x",
         "y": [
          5.409736551907522,
          5.411400326781173,
          5.413793924056159,
          5.416656587212917,
          5.419845997324535,
          5.912730868155551,
          6.205241354235805,
          8.134601715848818,
          19.031828579010064,
          19.115447544678506,
          19.20657859379695,
          19.31437804648602,
          18.221191814828174,
          19.489923601178994,
          18.755605147402914,
          18.800210665965,
          18.80528077162386,
          15.31279512836261,
          11.47746657774911,
          11.473111552882814,
          8.689186402837219,
          8.691456825901586,
          5.898769247667373,
          5.409147299851055
         ],
         "yaxis": "y"
        },
        {
         "legendgroup": "Months",
         "line": {
          "color": "rgb(153, 201, 69)"
         },
         "mode": "lines+markers",
         "name": "03-06_00-eh-6",
         "showlegend": false,
         "type": "scatter",
         "x": [
          "00:00",
          "01:00",
          "02:00",
          "03:00",
          "04:00",
          "05:00",
          "06:00",
          "07:00",
          "08:00",
          "09:00",
          "10:00",
          "11:00",
          "12:00",
          "13:00",
          "14:00",
          "15:00",
          "16:00",
          "17:00",
          "18:00",
          "19:00",
          "20:00",
          "21:00",
          "22:00",
          "23:00"
         ],
         "xaxis": "x2",
         "y": [
          3.537490554286576,
          4.329172585332545,
          5.082232022908422,
          5.87774124225903,
          6.687502865424205,
          7.277061449022506,
          18.470295144520517,
          13.78293972827148,
          3.8274013089940286,
          2.234182359706414,
          1.2800586895248127,
          0.7685233031538782,
          0.5500989991049924,
          0.4869044223648583,
          0.7979159920848684,
          0.9622227577766526,
          1.0981055998799045,
          1.7667392371981119,
          0.9040218691036247,
          1.2252997578334837,
          2.7448202304361438,
          3.9365957372116487,
          2.147668906939283,
          2.8328661962715973
         ],
         "yaxis": "y2"
        },
        {
         "legendgroup": "Months",
         "line": {
          "color": "rgb(153, 201, 69)"
         },
         "mode": "lines+markers",
         "name": "03-06_00-eh-6",
         "showlegend": false,
         "type": "scatter",
         "x": [
          "00:00",
          "01:00",
          "02:00",
          "03:00",
          "04:00",
          "05:00",
          "06:00",
          "07:00",
          "08:00",
          "09:00",
          "10:00",
          "11:00",
          "12:00",
          "13:00",
          "14:00",
          "15:00",
          "16:00",
          "17:00",
          "18:00",
          "19:00",
          "20:00",
          "21:00",
          "22:00",
          "23:00"
         ],
         "xaxis": "x3",
         "y": [
          0.4831017422376155,
          0.4046620839967795,
          0.3630277383290225,
          0.3298927936633789,
          0.3017193749946476,
          0.2738887489357521,
          0.2800194529293322,
          0.30595763515724217,
          0.4924715485244092,
          0.9439611099211734,
          2.3918104687307813,
          4.531767394669562,
          2.7701242600580116,
          7.941757566399274,
          9.506293309185278,
          9.78859883501561,
          8.865403703349305,
          2.554160851077859,
          1.0774871396588028,
          0.9316771128968016,
          0.9669638525389486,
          0.9050416742793398,
          0.7548204838876945,
          0.6312095235793549
         ],
         "yaxis": "y3"
        }
       ],
       "layout": {
        "annotations": [
         {
          "font": {
           "size": 16
          },
          "showarrow": false,
          "text": "Electricity",
          "x": 0.14444444444444446,
          "xanchor": "center",
          "xref": "paper",
          "y": 1,
          "yanchor": "bottom",
          "yref": "paper"
         },
         {
          "font": {
           "size": 16
          },
          "showarrow": false,
          "text": "Hot Water",
          "x": 0.5,
          "xanchor": "center",
          "xref": "paper",
          "y": 1,
          "yanchor": "bottom",
          "yref": "paper"
         },
         {
          "font": {
           "size": 16
          },
          "showarrow": false,
          "text": "Chilled Water",
          "x": 0.8555555555555556,
          "xanchor": "center",
          "xref": "paper",
          "y": 1,
          "yanchor": "bottom",
          "yref": "paper"
         }
        ],
        "template": {
         "data": {
          "bar": [
           {
            "error_x": {
             "color": "#2a3f5f"
            },
            "error_y": {
             "color": "#2a3f5f"
            },
            "marker": {
             "line": {
              "color": "#E5ECF6",
              "width": 0.5
             },
             "pattern": {
              "fillmode": "overlay",
              "size": 10,
              "solidity": 0.2
             }
            },
            "type": "bar"
           }
          ],
          "barpolar": [
           {
            "marker": {
             "line": {
              "color": "#E5ECF6",
              "width": 0.5
             },
             "pattern": {
              "fillmode": "overlay",
              "size": 10,
              "solidity": 0.2
             }
            },
            "type": "barpolar"
           }
          ],
          "carpet": [
           {
            "aaxis": {
             "endlinecolor": "#2a3f5f",
             "gridcolor": "white",
             "linecolor": "white",
             "minorgridcolor": "white",
             "startlinecolor": "#2a3f5f"
            },
            "baxis": {
             "endlinecolor": "#2a3f5f",
             "gridcolor": "white",
             "linecolor": "white",
             "minorgridcolor": "white",
             "startlinecolor": "#2a3f5f"
            },
            "type": "carpet"
           }
          ],
          "choropleth": [
           {
            "colorbar": {
             "outlinewidth": 0,
             "ticks": ""
            },
            "type": "choropleth"
           }
          ],
          "contour": [
           {
            "colorbar": {
             "outlinewidth": 0,
             "ticks": ""
            },
            "colorscale": [
             [
              0,
              "#0d0887"
             ],
             [
              0.1111111111111111,
              "#46039f"
             ],
             [
              0.2222222222222222,
              "#7201a8"
             ],
             [
              0.3333333333333333,
              "#9c179e"
             ],
             [
              0.4444444444444444,
              "#bd3786"
             ],
             [
              0.5555555555555556,
              "#d8576b"
             ],
             [
              0.6666666666666666,
              "#ed7953"
             ],
             [
              0.7777777777777778,
              "#fb9f3a"
             ],
             [
              0.8888888888888888,
              "#fdca26"
             ],
             [
              1,
              "#f0f921"
             ]
            ],
            "type": "contour"
           }
          ],
          "contourcarpet": [
           {
            "colorbar": {
             "outlinewidth": 0,
             "ticks": ""
            },
            "type": "contourcarpet"
           }
          ],
          "heatmap": [
           {
            "colorbar": {
             "outlinewidth": 0,
             "ticks": ""
            },
            "colorscale": [
             [
              0,
              "#0d0887"
             ],
             [
              0.1111111111111111,
              "#46039f"
             ],
             [
              0.2222222222222222,
              "#7201a8"
             ],
             [
              0.3333333333333333,
              "#9c179e"
             ],
             [
              0.4444444444444444,
              "#bd3786"
             ],
             [
              0.5555555555555556,
              "#d8576b"
             ],
             [
              0.6666666666666666,
              "#ed7953"
             ],
             [
              0.7777777777777778,
              "#fb9f3a"
             ],
             [
              0.8888888888888888,
              "#fdca26"
             ],
             [
              1,
              "#f0f921"
             ]
            ],
            "type": "heatmap"
           }
          ],
          "heatmapgl": [
           {
            "colorbar": {
             "outlinewidth": 0,
             "ticks": ""
            },
            "colorscale": [
             [
              0,
              "#0d0887"
             ],
             [
              0.1111111111111111,
              "#46039f"
             ],
             [
              0.2222222222222222,
              "#7201a8"
             ],
             [
              0.3333333333333333,
              "#9c179e"
             ],
             [
              0.4444444444444444,
              "#bd3786"
             ],
             [
              0.5555555555555556,
              "#d8576b"
             ],
             [
              0.6666666666666666,
              "#ed7953"
             ],
             [
              0.7777777777777778,
              "#fb9f3a"
             ],
             [
              0.8888888888888888,
              "#fdca26"
             ],
             [
              1,
              "#f0f921"
             ]
            ],
            "type": "heatmapgl"
           }
          ],
          "histogram": [
           {
            "marker": {
             "pattern": {
              "fillmode": "overlay",
              "size": 10,
              "solidity": 0.2
             }
            },
            "type": "histogram"
           }
          ],
          "histogram2d": [
           {
            "colorbar": {
             "outlinewidth": 0,
             "ticks": ""
            },
            "colorscale": [
             [
              0,
              "#0d0887"
             ],
             [
              0.1111111111111111,
              "#46039f"
             ],
             [
              0.2222222222222222,
              "#7201a8"
             ],
             [
              0.3333333333333333,
              "#9c179e"
             ],
             [
              0.4444444444444444,
              "#bd3786"
             ],
             [
              0.5555555555555556,
              "#d8576b"
             ],
             [
              0.6666666666666666,
              "#ed7953"
             ],
             [
              0.7777777777777778,
              "#fb9f3a"
             ],
             [
              0.8888888888888888,
              "#fdca26"
             ],
             [
              1,
              "#f0f921"
             ]
            ],
            "type": "histogram2d"
           }
          ],
          "histogram2dcontour": [
           {
            "colorbar": {
             "outlinewidth": 0,
             "ticks": ""
            },
            "colorscale": [
             [
              0,
              "#0d0887"
             ],
             [
              0.1111111111111111,
              "#46039f"
             ],
             [
              0.2222222222222222,
              "#7201a8"
             ],
             [
              0.3333333333333333,
              "#9c179e"
             ],
             [
              0.4444444444444444,
              "#bd3786"
             ],
             [
              0.5555555555555556,
              "#d8576b"
             ],
             [
              0.6666666666666666,
              "#ed7953"
             ],
             [
              0.7777777777777778,
              "#fb9f3a"
             ],
             [
              0.8888888888888888,
              "#fdca26"
             ],
             [
              1,
              "#f0f921"
             ]
            ],
            "type": "histogram2dcontour"
           }
          ],
          "mesh3d": [
           {
            "colorbar": {
             "outlinewidth": 0,
             "ticks": ""
            },
            "type": "mesh3d"
           }
          ],
          "parcoords": [
           {
            "line": {
             "colorbar": {
              "outlinewidth": 0,
              "ticks": ""
             }
            },
            "type": "parcoords"
           }
          ],
          "pie": [
           {
            "automargin": true,
            "type": "pie"
           }
          ],
          "scatter": [
           {
            "marker": {
             "colorbar": {
              "outlinewidth": 0,
              "ticks": ""
             }
            },
            "type": "scatter"
           }
          ],
          "scatter3d": [
           {
            "line": {
             "colorbar": {
              "outlinewidth": 0,
              "ticks": ""
             }
            },
            "marker": {
             "colorbar": {
              "outlinewidth": 0,
              "ticks": ""
             }
            },
            "type": "scatter3d"
           }
          ],
          "scattercarpet": [
           {
            "marker": {
             "colorbar": {
              "outlinewidth": 0,
              "ticks": ""
             }
            },
            "type": "scattercarpet"
           }
          ],
          "scattergeo": [
           {
            "marker": {
             "colorbar": {
              "outlinewidth": 0,
              "ticks": ""
             }
            },
            "type": "scattergeo"
           }
          ],
          "scattergl": [
           {
            "marker": {
             "colorbar": {
              "outlinewidth": 0,
              "ticks": ""
             }
            },
            "type": "scattergl"
           }
          ],
          "scattermapbox": [
           {
            "marker": {
             "colorbar": {
              "outlinewidth": 0,
              "ticks": ""
             }
            },
            "type": "scattermapbox"
           }
          ],
          "scatterpolar": [
           {
            "marker": {
             "colorbar": {
              "outlinewidth": 0,
              "ticks": ""
             }
            },
            "type": "scatterpolar"
           }
          ],
          "scatterpolargl": [
           {
            "marker": {
             "colorbar": {
              "outlinewidth": 0,
              "ticks": ""
             }
            },
            "type": "scatterpolargl"
           }
          ],
          "scatterternary": [
           {
            "marker": {
             "colorbar": {
              "outlinewidth": 0,
              "ticks": ""
             }
            },
            "type": "scatterternary"
           }
          ],
          "surface": [
           {
            "colorbar": {
             "outlinewidth": 0,
             "ticks": ""
            },
            "colorscale": [
             [
              0,
              "#0d0887"
             ],
             [
              0.1111111111111111,
              "#46039f"
             ],
             [
              0.2222222222222222,
              "#7201a8"
             ],
             [
              0.3333333333333333,
              "#9c179e"
             ],
             [
              0.4444444444444444,
              "#bd3786"
             ],
             [
              0.5555555555555556,
              "#d8576b"
             ],
             [
              0.6666666666666666,
              "#ed7953"
             ],
             [
              0.7777777777777778,
              "#fb9f3a"
             ],
             [
              0.8888888888888888,
              "#fdca26"
             ],
             [
              1,
              "#f0f921"
             ]
            ],
            "type": "surface"
           }
          ],
          "table": [
           {
            "cells": {
             "fill": {
              "color": "#EBF0F8"
             },
             "line": {
              "color": "white"
             }
            },
            "header": {
             "fill": {
              "color": "#C8D4E3"
             },
             "line": {
              "color": "white"
             }
            },
            "type": "table"
           }
          ]
         },
         "layout": {
          "annotationdefaults": {
           "arrowcolor": "#2a3f5f",
           "arrowhead": 0,
           "arrowwidth": 1
          },
          "autotypenumbers": "strict",
          "coloraxis": {
           "colorbar": {
            "outlinewidth": 0,
            "ticks": ""
           }
          },
          "colorscale": {
           "diverging": [
            [
             0,
             "#8e0152"
            ],
            [
             0.1,
             "#c51b7d"
            ],
            [
             0.2,
             "#de77ae"
            ],
            [
             0.3,
             "#f1b6da"
            ],
            [
             0.4,
             "#fde0ef"
            ],
            [
             0.5,
             "#f7f7f7"
            ],
            [
             0.6,
             "#e6f5d0"
            ],
            [
             0.7,
             "#b8e186"
            ],
            [
             0.8,
             "#7fbc41"
            ],
            [
             0.9,
             "#4d9221"
            ],
            [
             1,
             "#276419"
            ]
           ],
           "sequential": [
            [
             0,
             "#0d0887"
            ],
            [
             0.1111111111111111,
             "#46039f"
            ],
            [
             0.2222222222222222,
             "#7201a8"
            ],
            [
             0.3333333333333333,
             "#9c179e"
            ],
            [
             0.4444444444444444,
             "#bd3786"
            ],
            [
             0.5555555555555556,
             "#d8576b"
            ],
            [
             0.6666666666666666,
             "#ed7953"
            ],
            [
             0.7777777777777778,
             "#fb9f3a"
            ],
            [
             0.8888888888888888,
             "#fdca26"
            ],
            [
             1,
             "#f0f921"
            ]
           ],
           "sequentialminus": [
            [
             0,
             "#0d0887"
            ],
            [
             0.1111111111111111,
             "#46039f"
            ],
            [
             0.2222222222222222,
             "#7201a8"
            ],
            [
             0.3333333333333333,
             "#9c179e"
            ],
            [
             0.4444444444444444,
             "#bd3786"
            ],
            [
             0.5555555555555556,
             "#d8576b"
            ],
            [
             0.6666666666666666,
             "#ed7953"
            ],
            [
             0.7777777777777778,
             "#fb9f3a"
            ],
            [
             0.8888888888888888,
             "#fdca26"
            ],
            [
             1,
             "#f0f921"
            ]
           ]
          },
          "colorway": [
           "#636efa",
           "#EF553B",
           "#00cc96",
           "#ab63fa",
           "#FFA15A",
           "#19d3f3",
           "#FF6692",
           "#B6E880",
           "#FF97FF",
           "#FECB52"
          ],
          "font": {
           "color": "#2a3f5f"
          },
          "geo": {
           "bgcolor": "white",
           "lakecolor": "white",
           "landcolor": "#E5ECF6",
           "showlakes": true,
           "showland": true,
           "subunitcolor": "white"
          },
          "hoverlabel": {
           "align": "left"
          },
          "hovermode": "closest",
          "mapbox": {
           "style": "light"
          },
          "paper_bgcolor": "white",
          "plot_bgcolor": "#E5ECF6",
          "polar": {
           "angularaxis": {
            "gridcolor": "white",
            "linecolor": "white",
            "ticks": ""
           },
           "bgcolor": "#E5ECF6",
           "radialaxis": {
            "gridcolor": "white",
            "linecolor": "white",
            "ticks": ""
           }
          },
          "scene": {
           "xaxis": {
            "backgroundcolor": "#E5ECF6",
            "gridcolor": "white",
            "gridwidth": 2,
            "linecolor": "white",
            "showbackground": true,
            "ticks": "",
            "zerolinecolor": "white"
           },
           "yaxis": {
            "backgroundcolor": "#E5ECF6",
            "gridcolor": "white",
            "gridwidth": 2,
            "linecolor": "white",
            "showbackground": true,
            "ticks": "",
            "zerolinecolor": "white"
           },
           "zaxis": {
            "backgroundcolor": "#E5ECF6",
            "gridcolor": "white",
            "gridwidth": 2,
            "linecolor": "white",
            "showbackground": true,
            "ticks": "",
            "zerolinecolor": "white"
           }
          },
          "shapedefaults": {
           "line": {
            "color": "#2a3f5f"
           }
          },
          "ternary": {
           "aaxis": {
            "gridcolor": "white",
            "linecolor": "white",
            "ticks": ""
           },
           "baxis": {
            "gridcolor": "white",
            "linecolor": "white",
            "ticks": ""
           },
           "bgcolor": "#E5ECF6",
           "caxis": {
            "gridcolor": "white",
            "linecolor": "white",
            "ticks": ""
           }
          },
          "title": {
           "x": 0.05
          },
          "xaxis": {
           "automargin": true,
           "gridcolor": "white",
           "linecolor": "white",
           "ticks": "",
           "title": {
            "standoff": 15
           },
           "zerolinecolor": "white",
           "zerolinewidth": 2
          },
          "yaxis": {
           "automargin": true,
           "gridcolor": "white",
           "linecolor": "white",
           "ticks": "",
           "title": {
            "standoff": 15
           },
           "zerolinecolor": "white",
           "zerolinewidth": 2
          }
         }
        },
        "title": {
         "text": "Jan Average Hourly Energy Usage"
        },
        "xaxis": {
         "anchor": "y",
         "domain": [
          0,
          0.2888888888888889
         ]
        },
        "xaxis2": {
         "anchor": "y2",
         "domain": [
          0.35555555555555557,
          0.6444444444444445
         ]
        },
        "xaxis3": {
         "anchor": "y3",
         "domain": [
          0.7111111111111111,
          1
         ]
        },
        "yaxis": {
         "anchor": "x",
         "domain": [
          0,
          1
         ],
         "title": {
          "text": "Energy (kWh)"
         }
        },
        "yaxis2": {
         "anchor": "x2",
         "domain": [
          0,
          1
         ]
        },
        "yaxis3": {
         "anchor": "x3",
         "domain": [
          0,
          1
         ]
        }
       }
      }
     },
     "metadata": {},
     "output_type": "display_data"
    }
   ],
   "source": [
    "plot_datasets_monthly_by_hour(1, \"Jan\")"
   ]
  },
  {
   "cell_type": "code",
   "execution_count": 28,
   "metadata": {},
   "outputs": [
    {
     "name": "stdout",
     "output_type": "stream",
     "text": [
      "Updated end_day from 31 to 30\n"
     ]
    },
    {
     "data": {
      "text/html": [
       "<div>\n",
       "<style scoped>\n",
       "    .dataframe tbody tr th:only-of-type {\n",
       "        vertical-align: middle;\n",
       "    }\n",
       "\n",
       "    .dataframe tbody tr th {\n",
       "        vertical-align: top;\n",
       "    }\n",
       "\n",
       "    .dataframe thead th {\n",
       "        text-align: right;\n",
       "    }\n",
       "</style>\n",
       "<table border=\"1\" class=\"dataframe\">\n",
       "  <thead>\n",
       "    <tr style=\"text-align: right;\">\n",
       "      <th></th>\n",
       "      <th>03-02_02-Hourly-Meter</th>\n",
       "      <th>03-03_08-new-baseline-reg</th>\n",
       "      <th>03-03_09-heating_t2_17</th>\n",
       "      <th>03-06_00-eh-6</th>\n",
       "    </tr>\n",
       "  </thead>\n",
       "  <tbody>\n",
       "    <tr>\n",
       "      <th>elect</th>\n",
       "      <td>(37.717, 22.334)</td>\n",
       "      <td>(42.488, -36.965)</td>\n",
       "      <td>(41.948, -36.631)</td>\n",
       "      <td>(35.767, -27.369)</td>\n",
       "    </tr>\n",
       "    <tr>\n",
       "      <th>hot</th>\n",
       "      <td>(99.739, -91.316)</td>\n",
       "      <td>(85.916, -81.088)</td>\n",
       "      <td>(109.801, -96.407)</td>\n",
       "      <td>(96.855, -89.328)</td>\n",
       "    </tr>\n",
       "    <tr>\n",
       "      <th>chill</th>\n",
       "      <td>(124.112, 91.077)</td>\n",
       "      <td>(72.709, 37.885)</td>\n",
       "      <td>(63.097, -23.339)</td>\n",
       "      <td>(80.306, 37.637)</td>\n",
       "    </tr>\n",
       "  </tbody>\n",
       "</table>\n",
       "</div>"
      ],
      "text/plain": [
       "      03-02_02-Hourly-Meter 03-03_08-new-baseline-reg 03-03_09-heating_t2_17  \\\n",
       "elect      (37.717, 22.334)         (42.488, -36.965)      (41.948, -36.631)   \n",
       "hot       (99.739, -91.316)         (85.916, -81.088)     (109.801, -96.407)   \n",
       "chill     (124.112, 91.077)          (72.709, 37.885)      (63.097, -23.339)   \n",
       "\n",
       "           03-06_00-eh-6  \n",
       "elect  (35.767, -27.369)  \n",
       "hot    (96.855, -89.328)  \n",
       "chill   (80.306, 37.637)  "
      ]
     },
     "metadata": {},
     "output_type": "display_data"
    },
    {
     "data": {
      "application/vnd.plotly.v1+json": {
       "config": {
        "plotlyServerURL": "https://plot.ly"
       },
       "data": [
        {
         "legendgroup": "Months",
         "line": {
          "color": "red"
         },
         "mode": "lines",
         "name": "Historical",
         "showlegend": true,
         "type": "scatter",
         "x": [
          "00:00",
          "01:00",
          "02:00",
          "03:00",
          "04:00",
          "05:00",
          "06:00",
          "07:00",
          "08:00",
          "09:00",
          "10:00",
          "11:00",
          "12:00",
          "13:00",
          "14:00",
          "15:00",
          "16:00",
          "17:00",
          "18:00",
          "19:00",
          "20:00",
          "21:00",
          "22:00",
          "23:00"
         ],
         "xaxis": "x",
         "y": [
          8.877559123133333,
          8.481863224733333,
          8.541755104766667,
          8.535866474433334,
          8.428914911933333,
          16.15890849133333,
          17.949964077,
          17.858919033666666,
          18.384553829,
          19.153031902666665,
          19.779739338000002,
          19.373372838333335,
          20.268077292,
          20.578564417666666,
          20.094892358666666,
          20.020098299666664,
          19.616678189333335,
          19.591453696333335,
          19.053214693333334,
          19.43114749733333,
          19.539437034666665,
          16.277316982,
          10.6010534177,
          9.49526153
         ],
         "yaxis": "y"
        },
        {
         "legendgroup": "Months",
         "line": {
          "color": "red"
         },
         "mode": "lines",
         "name": "Historical",
         "showlegend": false,
         "type": "scatter",
         "x": [
          "00:00",
          "01:00",
          "02:00",
          "03:00",
          "04:00",
          "05:00",
          "06:00",
          "07:00",
          "08:00",
          "09:00",
          "10:00",
          "11:00",
          "12:00",
          "13:00",
          "14:00",
          "15:00",
          "16:00",
          "17:00",
          "18:00",
          "19:00",
          "20:00",
          "21:00",
          "22:00",
          "23:00"
         ],
         "xaxis": "x2",
         "y": [
          2.294622725713169,
          3.0903812027818485,
          2.3916296365767877,
          2.496282672357366,
          2.758410327486323,
          2.4222429951787805,
          12.520282914204767,
          7.449147295525596,
          6.133565082879055,
          3.971309290933959,
          3.276093208316237,
          2.788112858885307,
          2.639117388862837,
          2.135806534603361,
          3.1231617398422236,
          2.6674237740548064,
          4.23487147614791,
          4.04782885839195,
          4.4744501908191685,
          4.000945280273056,
          5.93059072779406,
          5.351617041432201,
          1.911714138176534,
          1.653035531044842
         ],
         "yaxis": "y2"
        },
        {
         "legendgroup": "Months",
         "line": {
          "color": "red"
         },
         "mode": "lines",
         "name": "Historical",
         "showlegend": false,
         "type": "scatter",
         "x": [
          "00:00",
          "01:00",
          "02:00",
          "03:00",
          "04:00",
          "05:00",
          "06:00",
          "07:00",
          "08:00",
          "09:00",
          "10:00",
          "11:00",
          "12:00",
          "13:00",
          "14:00",
          "15:00",
          "16:00",
          "17:00",
          "18:00",
          "19:00",
          "20:00",
          "21:00",
          "22:00",
          "23:00"
         ],
         "xaxis": "x3",
         "y": [
          2.9542344471317974,
          1.6880252013253951,
          1.562379945303665,
          1.5292675670244524,
          1.3868448525387551,
          1.3241696957941476,
          4.961938937256607,
          7.1187111025007255,
          7.554426689468958,
          10.10173627637583,
          12.84438930038467,
          15.425771965596601,
          15.55789293589418,
          20.237305135528782,
          26.4246226395007,
          29.243765318339552,
          32.41709529104115,
          32.82758398546888,
          29.226836878889664,
          24.330156080424544,
          19.55027610210881,
          15.525887636089012,
          4.486170138329912,
          2.5951450327868577
         ],
         "yaxis": "y3"
        },
        {
         "legendgroup": "Months",
         "line": {
          "color": "rgb(229, 134, 6)"
         },
         "mode": "lines+markers",
         "name": "03-02_02-Hourly-Meter",
         "showlegend": true,
         "type": "scatter",
         "x": [
          "00:00",
          "01:00",
          "02:00",
          "03:00",
          "04:00",
          "05:00",
          "06:00",
          "07:00",
          "08:00",
          "09:00",
          "10:00",
          "11:00",
          "12:00",
          "13:00",
          "14:00",
          "15:00",
          "16:00",
          "17:00",
          "18:00",
          "19:00",
          "20:00",
          "21:00",
          "22:00",
          "23:00"
         ],
         "xaxis": "x",
         "y": [
          11.988269017323052,
          11.980271073184356,
          11.972654467863093,
          11.965308770058806,
          11.958273415937493,
          12.228704395316246,
          12.833317725455004,
          13.911564554152582,
          28.776147204662024,
          29.003611617525152,
          29.141649951215495,
          29.24856898294396,
          26.715453316036346,
          29.388043406008617,
          28.23321226934477,
          28.263642856541257,
          28.28789000170162,
          24.243641775508006,
          18.602131107732372,
          18.54980381829655,
          15.38433365846129,
          15.377908766176448,
          12.270735722825773,
          11.99701526881308
         ],
         "yaxis": "y"
        },
        {
         "legendgroup": "Months",
         "line": {
          "color": "rgb(229, 134, 6)"
         },
         "mode": "lines+markers",
         "name": "03-02_02-Hourly-Meter",
         "showlegend": false,
         "type": "scatter",
         "x": [
          "00:00",
          "01:00",
          "02:00",
          "03:00",
          "04:00",
          "05:00",
          "06:00",
          "07:00",
          "08:00",
          "09:00",
          "10:00",
          "11:00",
          "12:00",
          "13:00",
          "14:00",
          "15:00",
          "16:00",
          "17:00",
          "18:00",
          "19:00",
          "20:00",
          "21:00",
          "22:00",
          "23:00"
         ],
         "xaxis": "x2",
         "y": [
          0,
          0,
          0,
          0,
          0,
          0,
          4.86764578114082,
          1.2410119864289173,
          0,
          0,
          0,
          0,
          0,
          0,
          0.19789427628113684,
          0.37983421700321796,
          0.42587165572802177,
          1.0303734239892919,
          0,
          0,
          0,
          0,
          0,
          0
         ],
         "yaxis": "y2"
        },
        {
         "legendgroup": "Months",
         "line": {
          "color": "rgb(229, 134, 6)"
         },
         "mode": "lines+markers",
         "name": "03-02_02-Hourly-Meter",
         "showlegend": false,
         "type": "scatter",
         "x": [
          "00:00",
          "01:00",
          "02:00",
          "03:00",
          "04:00",
          "05:00",
          "06:00",
          "07:00",
          "08:00",
          "09:00",
          "10:00",
          "11:00",
          "12:00",
          "13:00",
          "14:00",
          "15:00",
          "16:00",
          "17:00",
          "18:00",
          "19:00",
          "20:00",
          "21:00",
          "22:00",
          "23:00"
         ],
         "xaxis": "x3",
         "y": [
          11.751079040279288,
          10.687496135371639,
          9.69781132380592,
          8.759975995655186,
          7.86706807296808,
          7.915267068686846,
          9.789110388093926,
          12.644614746639322,
          28.958342787265057,
          37.75169949595782,
          42.84876595093166,
          46.45329604372244,
          38.15262531938097,
          50.48613873951653,
          51.621305332122326,
          50.890552221433026,
          48.855687448749705,
          37.84755907680251,
          22.84283413170482,
          18.886851220450236,
          15.980683243133278,
          15.412422153942694,
          14.048089885296234,
          12.966982428889905
         ],
         "yaxis": "y3"
        },
        {
         "legendgroup": "Months",
         "line": {
          "color": "rgb(93, 105, 177)"
         },
         "mode": "lines+markers",
         "name": "03-03_08-new-baseline-reg",
         "showlegend": true,
         "type": "scatter",
         "x": [
          "00:00",
          "01:00",
          "02:00",
          "03:00",
          "04:00",
          "05:00",
          "06:00",
          "07:00",
          "08:00",
          "09:00",
          "10:00",
          "11:00",
          "12:00",
          "13:00",
          "14:00",
          "15:00",
          "16:00",
          "17:00",
          "18:00",
          "19:00",
          "20:00",
          "21:00",
          "22:00",
          "23:00"
         ],
         "xaxis": "x",
         "y": [
          4.258252878486911,
          4.252105125566609,
          4.246157445725876,
          4.240392751586788,
          4.235029582736133,
          4.708136110986778,
          5.029700014271011,
          6.894781084384159,
          16.68999865381338,
          16.819295440586878,
          16.92941638069598,
          17.028151819420984,
          16.211148074031023,
          17.167682304935532,
          16.194076948275598,
          16.21778460693165,
          16.210229117700674,
          13.089057725553904,
          9.769571515965488,
          9.726814536192313,
          7.226039774109639,
          7.221294987169252,
          4.741099894596534,
          4.264973051975628
         ],
         "yaxis": "y"
        },
        {
         "legendgroup": "Months",
         "line": {
          "color": "rgb(93, 105, 177)"
         },
         "mode": "lines+markers",
         "name": "03-03_08-new-baseline-reg",
         "showlegend": false,
         "type": "scatter",
         "x": [
          "00:00",
          "01:00",
          "02:00",
          "03:00",
          "04:00",
          "05:00",
          "06:00",
          "07:00",
          "08:00",
          "09:00",
          "10:00",
          "11:00",
          "12:00",
          "13:00",
          "14:00",
          "15:00",
          "16:00",
          "17:00",
          "18:00",
          "19:00",
          "20:00",
          "21:00",
          "22:00",
          "23:00"
         ],
         "xaxis": "x2",
         "y": [
          0,
          0,
          0,
          0,
          0,
          0,
          10.253173197664996,
          3.668679617863903,
          0.00002294994639700577,
          0,
          0,
          0,
          0,
          0,
          0.27030984450327505,
          0.498828922135563,
          0.5470098427848945,
          1.0959644345221105,
          0,
          0,
          0.32744411161441334,
          1.0705120359317235,
          0,
          0
         ],
         "yaxis": "y2"
        },
        {
         "legendgroup": "Months",
         "line": {
          "color": "rgb(93, 105, 177)"
         },
         "mode": "lines+markers",
         "name": "03-03_08-new-baseline-reg",
         "showlegend": false,
         "type": "scatter",
         "x": [
          "00:00",
          "01:00",
          "02:00",
          "03:00",
          "04:00",
          "05:00",
          "06:00",
          "07:00",
          "08:00",
          "09:00",
          "10:00",
          "11:00",
          "12:00",
          "13:00",
          "14:00",
          "15:00",
          "16:00",
          "17:00",
          "18:00",
          "19:00",
          "20:00",
          "21:00",
          "22:00",
          "23:00"
         ],
         "xaxis": "x3",
         "y": [
          8.428626628054698,
          7.622131169006389,
          6.86158831159294,
          6.140637261534859,
          5.466563763437633,
          5.512260855418029,
          6.831304703480945,
          9.044473168737575,
          16.814845698183447,
          24.839254812737366,
          30.23035045322911,
          33.59869672404695,
          28.119562537238057,
          37.75984412108893,
          38.98831625689869,
          38.48699104768379,
          36.90346179926099,
          27.66970340251813,
          17.093497923761937,
          13.429888238177861,
          11.823895609162605,
          11.257786299274724,
          10.191690844544294,
          9.32159078453471
         ],
         "yaxis": "y3"
        },
        {
         "legendgroup": "Months",
         "line": {
          "color": "rgb(82, 188, 163)"
         },
         "mode": "lines+markers",
         "name": "03-03_09-heating_t2_17",
         "showlegend": true,
         "type": "scatter",
         "x": [
          "00:00",
          "01:00",
          "02:00",
          "03:00",
          "04:00",
          "05:00",
          "06:00",
          "07:00",
          "08:00",
          "09:00",
          "10:00",
          "11:00",
          "12:00",
          "13:00",
          "14:00",
          "15:00",
          "16:00",
          "17:00",
          "18:00",
          "19:00",
          "20:00",
          "21:00",
          "22:00",
          "23:00"
         ],
         "xaxis": "x",
         "y": [
          4.435344149517734,
          4.415361639194741,
          4.397503814481486,
          4.383301986097723,
          4.362710579501227,
          4.8348046983920465,
          5.143935361820165,
          7.078899864118035,
          16.79840245354294,
          16.851952630696122,
          16.889763664355332,
          16.910683707912362,
          16.34378738673069,
          16.93507932238996,
          15.88737794215985,
          15.888760332086282,
          15.877091836284388,
          13.064975195633927,
          9.959931913045557,
          9.91853946906851,
          7.440735102005891,
          7.438596353158697,
          4.949468469557197,
          4.457310036149763
         ],
         "yaxis": "y"
        },
        {
         "legendgroup": "Months",
         "line": {
          "color": "rgb(82, 188, 163)"
         },
         "mode": "lines+markers",
         "name": "03-03_09-heating_t2_17",
         "showlegend": false,
         "type": "scatter",
         "x": [
          "00:00",
          "01:00",
          "02:00",
          "03:00",
          "04:00",
          "05:00",
          "06:00",
          "07:00",
          "08:00",
          "09:00",
          "10:00",
          "11:00",
          "12:00",
          "13:00",
          "14:00",
          "15:00",
          "16:00",
          "17:00",
          "18:00",
          "19:00",
          "20:00",
          "21:00",
          "22:00",
          "23:00"
         ],
         "xaxis": "x2",
         "y": [
          0,
          0,
          0,
          0,
          0,
          0,
          1.3272669275577906,
          0.8101470833341231,
          0,
          0,
          0,
          0,
          0,
          0,
          0.038756542532814305,
          0.16073838979335217,
          0.225431932771113,
          0.8065896451305263,
          0,
          0,
          0,
          0,
          0,
          0
         ],
         "yaxis": "y2"
        },
        {
         "legendgroup": "Months",
         "line": {
          "color": "rgb(82, 188, 163)"
         },
         "mode": "lines+markers",
         "name": "03-03_09-heating_t2_17",
         "showlegend": false,
         "type": "scatter",
         "x": [
          "00:00",
          "01:00",
          "02:00",
          "03:00",
          "04:00",
          "05:00",
          "06:00",
          "07:00",
          "08:00",
          "09:00",
          "10:00",
          "11:00",
          "12:00",
          "13:00",
          "14:00",
          "15:00",
          "16:00",
          "17:00",
          "18:00",
          "19:00",
          "20:00",
          "21:00",
          "22:00",
          "23:00"
         ],
         "xaxis": "x3",
         "y": [
          6.778237638648621,
          6.125041423391658,
          5.538298976789201,
          4.9728915965332385,
          4.417429743875114,
          4.482973300835487,
          5.59078401585738,
          7.3415317307624814,
          9.297880818295118,
          11.315043040913316,
          13.27309001366124,
          15.060251984510362,
          16.428212694679498,
          17.43665918301617,
          17.23570625900533,
          16.968991325598253,
          16.05861480970442,
          13.806698139677186,
          11.09668735033961,
          9.296830955330536,
          9.015490685252216,
          8.795720996507676,
          8.172397106270605,
          7.478831746883204
         ],
         "yaxis": "y3"
        },
        {
         "legendgroup": "Months",
         "line": {
          "color": "rgb(153, 201, 69)"
         },
         "mode": "lines+markers",
         "name": "03-06_00-eh-6",
         "showlegend": true,
         "type": "scatter",
         "x": [
          "00:00",
          "01:00",
          "02:00",
          "03:00",
          "04:00",
          "05:00",
          "06:00",
          "07:00",
          "08:00",
          "09:00",
          "10:00",
          "11:00",
          "12:00",
          "13:00",
          "14:00",
          "15:00",
          "16:00",
          "17:00",
          "18:00",
          "19:00",
          "20:00",
          "21:00",
          "22:00",
          "23:00"
         ],
         "xaxis": "x",
         "y": [
          5.365013497637387,
          5.359845827830109,
          5.355466097313319,
          5.351328021448333,
          5.347351304146688,
          5.788552007723256,
          6.116722395243108,
          7.869644368625815,
          18.434357629839802,
          18.72341934983117,
          19.06226118743147,
          19.367065171441435,
          17.922584156939685,
          19.54477064095728,
          18.54223265567099,
          18.58887514460273,
          18.618518892732943,
          15.079199580442124,
          11.094974145758671,
          10.996616891413103,
          8.359516047069272,
          8.346322235477762,
          5.81600453730196,
          5.370702057658962
         ],
         "yaxis": "y"
        },
        {
         "legendgroup": "Months",
         "line": {
          "color": "rgb(153, 201, 69)"
         },
         "mode": "lines+markers",
         "name": "03-06_00-eh-6",
         "showlegend": false,
         "type": "scatter",
         "x": [
          "00:00",
          "01:00",
          "02:00",
          "03:00",
          "04:00",
          "05:00",
          "06:00",
          "07:00",
          "08:00",
          "09:00",
          "10:00",
          "11:00",
          "12:00",
          "13:00",
          "14:00",
          "15:00",
          "16:00",
          "17:00",
          "18:00",
          "19:00",
          "20:00",
          "21:00",
          "22:00",
          "23:00"
         ],
         "xaxis": "x2",
         "y": [
          0.06359125265513793,
          0.09964064240363493,
          0.16657291726759377,
          0.27200674457714435,
          0.3935887895580287,
          0.3010401330000966,
          6.26909605453588,
          1.277248868692477,
          0.062158936281219365,
          0.03504006290276485,
          0.01649396720909288,
          0.008545812268229588,
          0.0023526434121623526,
          0,
          0.005866379959924307,
          0.05856152045456199,
          0.10685304222563262,
          0.6636089781544864,
          0,
          0,
          0.006260884959627253,
          0.02324346129608294,
          0.06113017160886856,
          0.11358632357152176
         ],
         "yaxis": "y2"
        },
        {
         "legendgroup": "Months",
         "line": {
          "color": "rgb(153, 201, 69)"
         },
         "mode": "lines+markers",
         "name": "03-06_00-eh-6",
         "showlegend": false,
         "type": "scatter",
         "x": [
          "00:00",
          "01:00",
          "02:00",
          "03:00",
          "04:00",
          "05:00",
          "06:00",
          "07:00",
          "08:00",
          "09:00",
          "10:00",
          "11:00",
          "12:00",
          "13:00",
          "14:00",
          "15:00",
          "16:00",
          "17:00",
          "18:00",
          "19:00",
          "20:00",
          "21:00",
          "22:00",
          "23:00"
         ],
         "xaxis": "x3",
         "y": [
          6.525915253256203,
          5.8817663733117795,
          5.311853135475218,
          4.769528142390077,
          4.247439414422169,
          4.265140223984461,
          5.26634299530459,
          6.970024133716016,
          18.615145537643965,
          26.95644733687035,
          32.60917120050812,
          36.406064364550225,
          29.598483702981316,
          40.74752868673313,
          41.1025107711907,
          40.564200951642825,
          38.60932891678992,
          28.684969324902568,
          16.91925177482992,
          13.140146300151004,
          9.955103537998246,
          9.322060939295673,
          7.954222166701514,
          7.219096899294125
         ],
         "yaxis": "y3"
        }
       ],
       "layout": {
        "annotations": [
         {
          "font": {
           "size": 16
          },
          "showarrow": false,
          "text": "Electricity",
          "x": 0.14444444444444446,
          "xanchor": "center",
          "xref": "paper",
          "y": 1,
          "yanchor": "bottom",
          "yref": "paper"
         },
         {
          "font": {
           "size": 16
          },
          "showarrow": false,
          "text": "Hot Water",
          "x": 0.5,
          "xanchor": "center",
          "xref": "paper",
          "y": 1,
          "yanchor": "bottom",
          "yref": "paper"
         },
         {
          "font": {
           "size": 16
          },
          "showarrow": false,
          "text": "Chilled Water",
          "x": 0.8555555555555556,
          "xanchor": "center",
          "xref": "paper",
          "y": 1,
          "yanchor": "bottom",
          "yref": "paper"
         }
        ],
        "template": {
         "data": {
          "bar": [
           {
            "error_x": {
             "color": "#2a3f5f"
            },
            "error_y": {
             "color": "#2a3f5f"
            },
            "marker": {
             "line": {
              "color": "#E5ECF6",
              "width": 0.5
             },
             "pattern": {
              "fillmode": "overlay",
              "size": 10,
              "solidity": 0.2
             }
            },
            "type": "bar"
           }
          ],
          "barpolar": [
           {
            "marker": {
             "line": {
              "color": "#E5ECF6",
              "width": 0.5
             },
             "pattern": {
              "fillmode": "overlay",
              "size": 10,
              "solidity": 0.2
             }
            },
            "type": "barpolar"
           }
          ],
          "carpet": [
           {
            "aaxis": {
             "endlinecolor": "#2a3f5f",
             "gridcolor": "white",
             "linecolor": "white",
             "minorgridcolor": "white",
             "startlinecolor": "#2a3f5f"
            },
            "baxis": {
             "endlinecolor": "#2a3f5f",
             "gridcolor": "white",
             "linecolor": "white",
             "minorgridcolor": "white",
             "startlinecolor": "#2a3f5f"
            },
            "type": "carpet"
           }
          ],
          "choropleth": [
           {
            "colorbar": {
             "outlinewidth": 0,
             "ticks": ""
            },
            "type": "choropleth"
           }
          ],
          "contour": [
           {
            "colorbar": {
             "outlinewidth": 0,
             "ticks": ""
            },
            "colorscale": [
             [
              0,
              "#0d0887"
             ],
             [
              0.1111111111111111,
              "#46039f"
             ],
             [
              0.2222222222222222,
              "#7201a8"
             ],
             [
              0.3333333333333333,
              "#9c179e"
             ],
             [
              0.4444444444444444,
              "#bd3786"
             ],
             [
              0.5555555555555556,
              "#d8576b"
             ],
             [
              0.6666666666666666,
              "#ed7953"
             ],
             [
              0.7777777777777778,
              "#fb9f3a"
             ],
             [
              0.8888888888888888,
              "#fdca26"
             ],
             [
              1,
              "#f0f921"
             ]
            ],
            "type": "contour"
           }
          ],
          "contourcarpet": [
           {
            "colorbar": {
             "outlinewidth": 0,
             "ticks": ""
            },
            "type": "contourcarpet"
           }
          ],
          "heatmap": [
           {
            "colorbar": {
             "outlinewidth": 0,
             "ticks": ""
            },
            "colorscale": [
             [
              0,
              "#0d0887"
             ],
             [
              0.1111111111111111,
              "#46039f"
             ],
             [
              0.2222222222222222,
              "#7201a8"
             ],
             [
              0.3333333333333333,
              "#9c179e"
             ],
             [
              0.4444444444444444,
              "#bd3786"
             ],
             [
              0.5555555555555556,
              "#d8576b"
             ],
             [
              0.6666666666666666,
              "#ed7953"
             ],
             [
              0.7777777777777778,
              "#fb9f3a"
             ],
             [
              0.8888888888888888,
              "#fdca26"
             ],
             [
              1,
              "#f0f921"
             ]
            ],
            "type": "heatmap"
           }
          ],
          "heatmapgl": [
           {
            "colorbar": {
             "outlinewidth": 0,
             "ticks": ""
            },
            "colorscale": [
             [
              0,
              "#0d0887"
             ],
             [
              0.1111111111111111,
              "#46039f"
             ],
             [
              0.2222222222222222,
              "#7201a8"
             ],
             [
              0.3333333333333333,
              "#9c179e"
             ],
             [
              0.4444444444444444,
              "#bd3786"
             ],
             [
              0.5555555555555556,
              "#d8576b"
             ],
             [
              0.6666666666666666,
              "#ed7953"
             ],
             [
              0.7777777777777778,
              "#fb9f3a"
             ],
             [
              0.8888888888888888,
              "#fdca26"
             ],
             [
              1,
              "#f0f921"
             ]
            ],
            "type": "heatmapgl"
           }
          ],
          "histogram": [
           {
            "marker": {
             "pattern": {
              "fillmode": "overlay",
              "size": 10,
              "solidity": 0.2
             }
            },
            "type": "histogram"
           }
          ],
          "histogram2d": [
           {
            "colorbar": {
             "outlinewidth": 0,
             "ticks": ""
            },
            "colorscale": [
             [
              0,
              "#0d0887"
             ],
             [
              0.1111111111111111,
              "#46039f"
             ],
             [
              0.2222222222222222,
              "#7201a8"
             ],
             [
              0.3333333333333333,
              "#9c179e"
             ],
             [
              0.4444444444444444,
              "#bd3786"
             ],
             [
              0.5555555555555556,
              "#d8576b"
             ],
             [
              0.6666666666666666,
              "#ed7953"
             ],
             [
              0.7777777777777778,
              "#fb9f3a"
             ],
             [
              0.8888888888888888,
              "#fdca26"
             ],
             [
              1,
              "#f0f921"
             ]
            ],
            "type": "histogram2d"
           }
          ],
          "histogram2dcontour": [
           {
            "colorbar": {
             "outlinewidth": 0,
             "ticks": ""
            },
            "colorscale": [
             [
              0,
              "#0d0887"
             ],
             [
              0.1111111111111111,
              "#46039f"
             ],
             [
              0.2222222222222222,
              "#7201a8"
             ],
             [
              0.3333333333333333,
              "#9c179e"
             ],
             [
              0.4444444444444444,
              "#bd3786"
             ],
             [
              0.5555555555555556,
              "#d8576b"
             ],
             [
              0.6666666666666666,
              "#ed7953"
             ],
             [
              0.7777777777777778,
              "#fb9f3a"
             ],
             [
              0.8888888888888888,
              "#fdca26"
             ],
             [
              1,
              "#f0f921"
             ]
            ],
            "type": "histogram2dcontour"
           }
          ],
          "mesh3d": [
           {
            "colorbar": {
             "outlinewidth": 0,
             "ticks": ""
            },
            "type": "mesh3d"
           }
          ],
          "parcoords": [
           {
            "line": {
             "colorbar": {
              "outlinewidth": 0,
              "ticks": ""
             }
            },
            "type": "parcoords"
           }
          ],
          "pie": [
           {
            "automargin": true,
            "type": "pie"
           }
          ],
          "scatter": [
           {
            "marker": {
             "colorbar": {
              "outlinewidth": 0,
              "ticks": ""
             }
            },
            "type": "scatter"
           }
          ],
          "scatter3d": [
           {
            "line": {
             "colorbar": {
              "outlinewidth": 0,
              "ticks": ""
             }
            },
            "marker": {
             "colorbar": {
              "outlinewidth": 0,
              "ticks": ""
             }
            },
            "type": "scatter3d"
           }
          ],
          "scattercarpet": [
           {
            "marker": {
             "colorbar": {
              "outlinewidth": 0,
              "ticks": ""
             }
            },
            "type": "scattercarpet"
           }
          ],
          "scattergeo": [
           {
            "marker": {
             "colorbar": {
              "outlinewidth": 0,
              "ticks": ""
             }
            },
            "type": "scattergeo"
           }
          ],
          "scattergl": [
           {
            "marker": {
             "colorbar": {
              "outlinewidth": 0,
              "ticks": ""
             }
            },
            "type": "scattergl"
           }
          ],
          "scattermapbox": [
           {
            "marker": {
             "colorbar": {
              "outlinewidth": 0,
              "ticks": ""
             }
            },
            "type": "scattermapbox"
           }
          ],
          "scatterpolar": [
           {
            "marker": {
             "colorbar": {
              "outlinewidth": 0,
              "ticks": ""
             }
            },
            "type": "scatterpolar"
           }
          ],
          "scatterpolargl": [
           {
            "marker": {
             "colorbar": {
              "outlinewidth": 0,
              "ticks": ""
             }
            },
            "type": "scatterpolargl"
           }
          ],
          "scatterternary": [
           {
            "marker": {
             "colorbar": {
              "outlinewidth": 0,
              "ticks": ""
             }
            },
            "type": "scatterternary"
           }
          ],
          "surface": [
           {
            "colorbar": {
             "outlinewidth": 0,
             "ticks": ""
            },
            "colorscale": [
             [
              0,
              "#0d0887"
             ],
             [
              0.1111111111111111,
              "#46039f"
             ],
             [
              0.2222222222222222,
              "#7201a8"
             ],
             [
              0.3333333333333333,
              "#9c179e"
             ],
             [
              0.4444444444444444,
              "#bd3786"
             ],
             [
              0.5555555555555556,
              "#d8576b"
             ],
             [
              0.6666666666666666,
              "#ed7953"
             ],
             [
              0.7777777777777778,
              "#fb9f3a"
             ],
             [
              0.8888888888888888,
              "#fdca26"
             ],
             [
              1,
              "#f0f921"
             ]
            ],
            "type": "surface"
           }
          ],
          "table": [
           {
            "cells": {
             "fill": {
              "color": "#EBF0F8"
             },
             "line": {
              "color": "white"
             }
            },
            "header": {
             "fill": {
              "color": "#C8D4E3"
             },
             "line": {
              "color": "white"
             }
            },
            "type": "table"
           }
          ]
         },
         "layout": {
          "annotationdefaults": {
           "arrowcolor": "#2a3f5f",
           "arrowhead": 0,
           "arrowwidth": 1
          },
          "autotypenumbers": "strict",
          "coloraxis": {
           "colorbar": {
            "outlinewidth": 0,
            "ticks": ""
           }
          },
          "colorscale": {
           "diverging": [
            [
             0,
             "#8e0152"
            ],
            [
             0.1,
             "#c51b7d"
            ],
            [
             0.2,
             "#de77ae"
            ],
            [
             0.3,
             "#f1b6da"
            ],
            [
             0.4,
             "#fde0ef"
            ],
            [
             0.5,
             "#f7f7f7"
            ],
            [
             0.6,
             "#e6f5d0"
            ],
            [
             0.7,
             "#b8e186"
            ],
            [
             0.8,
             "#7fbc41"
            ],
            [
             0.9,
             "#4d9221"
            ],
            [
             1,
             "#276419"
            ]
           ],
           "sequential": [
            [
             0,
             "#0d0887"
            ],
            [
             0.1111111111111111,
             "#46039f"
            ],
            [
             0.2222222222222222,
             "#7201a8"
            ],
            [
             0.3333333333333333,
             "#9c179e"
            ],
            [
             0.4444444444444444,
             "#bd3786"
            ],
            [
             0.5555555555555556,
             "#d8576b"
            ],
            [
             0.6666666666666666,
             "#ed7953"
            ],
            [
             0.7777777777777778,
             "#fb9f3a"
            ],
            [
             0.8888888888888888,
             "#fdca26"
            ],
            [
             1,
             "#f0f921"
            ]
           ],
           "sequentialminus": [
            [
             0,
             "#0d0887"
            ],
            [
             0.1111111111111111,
             "#46039f"
            ],
            [
             0.2222222222222222,
             "#7201a8"
            ],
            [
             0.3333333333333333,
             "#9c179e"
            ],
            [
             0.4444444444444444,
             "#bd3786"
            ],
            [
             0.5555555555555556,
             "#d8576b"
            ],
            [
             0.6666666666666666,
             "#ed7953"
            ],
            [
             0.7777777777777778,
             "#fb9f3a"
            ],
            [
             0.8888888888888888,
             "#fdca26"
            ],
            [
             1,
             "#f0f921"
            ]
           ]
          },
          "colorway": [
           "#636efa",
           "#EF553B",
           "#00cc96",
           "#ab63fa",
           "#FFA15A",
           "#19d3f3",
           "#FF6692",
           "#B6E880",
           "#FF97FF",
           "#FECB52"
          ],
          "font": {
           "color": "#2a3f5f"
          },
          "geo": {
           "bgcolor": "white",
           "lakecolor": "white",
           "landcolor": "#E5ECF6",
           "showlakes": true,
           "showland": true,
           "subunitcolor": "white"
          },
          "hoverlabel": {
           "align": "left"
          },
          "hovermode": "closest",
          "mapbox": {
           "style": "light"
          },
          "paper_bgcolor": "white",
          "plot_bgcolor": "#E5ECF6",
          "polar": {
           "angularaxis": {
            "gridcolor": "white",
            "linecolor": "white",
            "ticks": ""
           },
           "bgcolor": "#E5ECF6",
           "radialaxis": {
            "gridcolor": "white",
            "linecolor": "white",
            "ticks": ""
           }
          },
          "scene": {
           "xaxis": {
            "backgroundcolor": "#E5ECF6",
            "gridcolor": "white",
            "gridwidth": 2,
            "linecolor": "white",
            "showbackground": true,
            "ticks": "",
            "zerolinecolor": "white"
           },
           "yaxis": {
            "backgroundcolor": "#E5ECF6",
            "gridcolor": "white",
            "gridwidth": 2,
            "linecolor": "white",
            "showbackground": true,
            "ticks": "",
            "zerolinecolor": "white"
           },
           "zaxis": {
            "backgroundcolor": "#E5ECF6",
            "gridcolor": "white",
            "gridwidth": 2,
            "linecolor": "white",
            "showbackground": true,
            "ticks": "",
            "zerolinecolor": "white"
           }
          },
          "shapedefaults": {
           "line": {
            "color": "#2a3f5f"
           }
          },
          "ternary": {
           "aaxis": {
            "gridcolor": "white",
            "linecolor": "white",
            "ticks": ""
           },
           "baxis": {
            "gridcolor": "white",
            "linecolor": "white",
            "ticks": ""
           },
           "bgcolor": "#E5ECF6",
           "caxis": {
            "gridcolor": "white",
            "linecolor": "white",
            "ticks": ""
           }
          },
          "title": {
           "x": 0.05
          },
          "xaxis": {
           "automargin": true,
           "gridcolor": "white",
           "linecolor": "white",
           "ticks": "",
           "title": {
            "standoff": 15
           },
           "zerolinecolor": "white",
           "zerolinewidth": 2
          },
          "yaxis": {
           "automargin": true,
           "gridcolor": "white",
           "linecolor": "white",
           "ticks": "",
           "title": {
            "standoff": 15
           },
           "zerolinecolor": "white",
           "zerolinewidth": 2
          }
         }
        },
        "title": {
         "text": "June Average Hourly Energy Usage"
        },
        "xaxis": {
         "anchor": "y",
         "domain": [
          0,
          0.2888888888888889
         ]
        },
        "xaxis2": {
         "anchor": "y2",
         "domain": [
          0.35555555555555557,
          0.6444444444444445
         ]
        },
        "xaxis3": {
         "anchor": "y3",
         "domain": [
          0.7111111111111111,
          1
         ]
        },
        "yaxis": {
         "anchor": "x",
         "domain": [
          0,
          1
         ],
         "title": {
          "text": "Energy (kWh)"
         }
        },
        "yaxis2": {
         "anchor": "x2",
         "domain": [
          0,
          1
         ]
        },
        "yaxis3": {
         "anchor": "x3",
         "domain": [
          0,
          1
         ]
        }
       }
      }
     },
     "metadata": {},
     "output_type": "display_data"
    }
   ],
   "source": [
    "plot_datasets_monthly_by_hour(6, \"June\")"
   ]
  },
  {
   "cell_type": "markdown",
   "metadata": {},
   "source": [
    "# Comparison of Annual Trends "
   ]
  },
  {
   "cell_type": "code",
   "execution_count": 29,
   "metadata": {},
   "outputs": [],
   "source": [
    "months = [dt.datetime(2019, i+1, 1).strftime(\"%b\") for i in range(12)]"
   ]
  },
  {
   "cell_type": "code",
   "execution_count": 30,
   "metadata": {},
   "outputs": [],
   "source": [
    "def plot_datasets_monthly():\n",
    "    blueShades = px.colors.qualitative.Vivid[:len(sim_data_hr.keys())]\n",
    "\n",
    "    fig = make_subplots(\n",
    "        rows=1, cols=3,\n",
    "        subplot_titles=(\"Electricity\", \"Hot Water\", \"Chilled Water\"))\n",
    "\n",
    "    # historical/ measured data \n",
    "    for (ix, value) in  enumerate(hist_monthly.values()):\n",
    "        showLegend = True\n",
    "        if ix > 0:\n",
    "            showLegend = False\n",
    "        fig.add_trace(go.Scatter(  \n",
    "            x=months,\n",
    "            y=value, \n",
    "            mode='lines',\n",
    "            name=\"Historical\",\n",
    "            legendgroup=\"Months\",\n",
    "            line=dict(color='red'),\n",
    "            showlegend=showLegend),\n",
    "            row=1, col=ix+1)\n",
    "\n",
    "    # simulated datasets \n",
    "    for (name, dataset), blueShade in zip(sim_data_month.items(), blueShades):\n",
    "        for (ix, sim), hist in zip(enumerate(dataset.values()),hist_monthly.values()) :\n",
    "            showLegend = True\n",
    "            if ix > 0:\n",
    "                showLegend = False\n",
    "            fig.add_trace(go.Scatter( \n",
    "                x=months,\n",
    "                y=sim.values , \n",
    "                mode='lines+markers',\n",
    "                name=name,\n",
    "                legendgroup=\"Months\",\n",
    "                line=dict(color=blueShade),\n",
    "                showlegend=showLegend),\n",
    "                row=1, col=ix+1)\n",
    "\n",
    "    fig.update_layout(title=f\"Monthly Total Energy Usage\",\n",
    "        yaxis_title=\"Energy (kWh)\",)\n",
    "   \n",
    "   # calculate metrics \n",
    "    metrics = {}\n",
    "    for name, dataset in sim_data_month.items():\n",
    "        type_dict = {}\n",
    "        for (k, sim), hist in zip(dataset.items(), hist_monthly.values()):\n",
    "            type_dict[k] = calc_metrics(sim.values, hist)\n",
    "        metrics[name] = type_dict\n",
    "    metrics = pd.DataFrame(metrics)\n",
    "    display(metrics)\n",
    "\n",
    "    fig.show()"
   ]
  },
  {
   "cell_type": "code",
   "execution_count": 31,
   "metadata": {},
   "outputs": [
    {
     "data": {
      "text/html": [
       "<div>\n",
       "<style scoped>\n",
       "    .dataframe tbody tr th:only-of-type {\n",
       "        vertical-align: middle;\n",
       "    }\n",
       "\n",
       "    .dataframe tbody tr th {\n",
       "        vertical-align: top;\n",
       "    }\n",
       "\n",
       "    .dataframe thead th {\n",
       "        text-align: right;\n",
       "    }\n",
       "</style>\n",
       "<table border=\"1\" class=\"dataframe\">\n",
       "  <thead>\n",
       "    <tr style=\"text-align: right;\">\n",
       "      <th></th>\n",
       "      <th>03-02_02-Hourly-Meter</th>\n",
       "      <th>03-03_08-new-baseline-reg</th>\n",
       "      <th>03-03_09-heating_t2_17</th>\n",
       "      <th>03-06_00-eh-6</th>\n",
       "    </tr>\n",
       "  </thead>\n",
       "  <tbody>\n",
       "    <tr>\n",
       "      <th>elect</th>\n",
       "      <td>(18.173, 14.711)</td>\n",
       "      <td>(41.964, -40.69)</td>\n",
       "      <td>(42.079, -40.741)</td>\n",
       "      <td>(34.158, -32.478)</td>\n",
       "    </tr>\n",
       "    <tr>\n",
       "      <th>hot</th>\n",
       "      <td>(94.587, -83.009)</td>\n",
       "      <td>(79.961, -69.692)</td>\n",
       "      <td>(100.898, -89.117)</td>\n",
       "      <td>(84.888, -74.878)</td>\n",
       "    </tr>\n",
       "    <tr>\n",
       "      <th>chill</th>\n",
       "      <td>(144.354, 128.225)</td>\n",
       "      <td>(66.133, 47.678)</td>\n",
       "      <td>(29.387, -22.064)</td>\n",
       "      <td>(68.056, 51.115)</td>\n",
       "    </tr>\n",
       "  </tbody>\n",
       "</table>\n",
       "</div>"
      ],
      "text/plain": [
       "      03-02_02-Hourly-Meter 03-03_08-new-baseline-reg 03-03_09-heating_t2_17  \\\n",
       "elect      (18.173, 14.711)          (41.964, -40.69)      (42.079, -40.741)   \n",
       "hot       (94.587, -83.009)         (79.961, -69.692)     (100.898, -89.117)   \n",
       "chill    (144.354, 128.225)          (66.133, 47.678)      (29.387, -22.064)   \n",
       "\n",
       "           03-06_00-eh-6  \n",
       "elect  (34.158, -32.478)  \n",
       "hot    (84.888, -74.878)  \n",
       "chill   (68.056, 51.115)  "
      ]
     },
     "metadata": {},
     "output_type": "display_data"
    },
    {
     "data": {
      "application/vnd.plotly.v1+json": {
       "config": {
        "plotlyServerURL": "https://plot.ly"
       },
       "data": [
        {
         "legendgroup": "Months",
         "line": {
          "color": "red"
         },
         "mode": "lines",
         "name": "Historical",
         "showlegend": true,
         "type": "scatter",
         "x": [
          "Jan",
          "Feb",
          "Mar",
          "Apr",
          "May",
          "Jun",
          "Jul",
          "Aug",
          "Sep",
          "Oct",
          "Nov",
          "Dec"
         ],
         "xaxis": "x",
         "y": [
          13804.135548988,
          13485.947478456,
          12435.215617035,
          12475.169092449,
          15076.189886713,
          11582.749312731,
          11381.135282711,
          11519.249652601,
          11531.941250453,
          14825.819485343,
          13932.567953833,
          11533.748425710999
         ],
         "yaxis": "y"
        },
        {
         "legendgroup": "Months",
         "line": {
          "color": "red"
         },
         "mode": "lines",
         "name": "Historical",
         "showlegend": false,
         "type": "scatter",
         "x": [
          "Jan",
          "Feb",
          "Mar",
          "Apr",
          "May",
          "Jun",
          "Jul",
          "Aug",
          "Sep",
          "Oct",
          "Nov",
          "Dec"
         ],
         "xaxis": "x2",
         "y": [
          9563.77965172128,
          11205.16886436108,
          10021.888756073346,
          5739.921387760478,
          8015.7717564493705,
          2812.879286768464,
          1998.9934268026086,
          1290.168084198344,
          1966.378451074663,
          4721.300881587632,
          7453.441033456184,
          10536.379511077228
         ],
         "yaxis": "y2"
        },
        {
         "legendgroup": "Months",
         "line": {
          "color": "red"
         },
         "mode": "lines",
         "name": "Historical",
         "showlegend": false,
         "type": "scatter",
         "x": [
          "Jan",
          "Feb",
          "Mar",
          "Apr",
          "May",
          "Jun",
          "Jul",
          "Aug",
          "Sep",
          "Oct",
          "Nov",
          "Dec"
         ],
         "xaxis": "x3",
         "y": [
          1308.771521681986,
          517.9163517552686,
          798.217789308849,
          3495.4945632151275,
          3561.494405341774,
          9626.23899465311,
          9910.249118331416,
          10605.817253261896,
          9655.609547633616,
          5663.642200932546,
          1766.7863219353267,
          365.59828070736137
         ],
         "yaxis": "y3"
        },
        {
         "legendgroup": "Months",
         "line": {
          "color": "rgb(229, 134, 6)"
         },
         "mode": "lines+markers",
         "name": "03-02_02-Hourly-Meter",
         "showlegend": true,
         "type": "scatter",
         "x": [
          "Jan",
          "Feb",
          "Mar",
          "Apr",
          "May",
          "Jun",
          "Jul",
          "Aug",
          "Sep",
          "Oct",
          "Nov",
          "Dec"
         ],
         "xaxis": "x",
         "y": [
          15106.646632247892,
          13401.558905686508,
          14551.102093995056,
          14636.840075508646,
          15193.29653525673,
          14182.614581099202,
          15317.503815153354,
          15093.354180517437,
          14417.383151569999,
          15213.21025102327,
          14303.511563119235,
          14760.512987835706
         ],
         "yaxis": "y"
        },
        {
         "legendgroup": "Months",
         "line": {
          "color": "rgb(229, 134, 6)"
         },
         "mode": "lines+markers",
         "name": "03-02_02-Hourly-Meter",
         "showlegend": false,
         "type": "scatter",
         "x": [
          "Jan",
          "Feb",
          "Mar",
          "Apr",
          "May",
          "Jun",
          "Jul",
          "Aug",
          "Sep",
          "Oct",
          "Nov",
          "Dec"
         ],
         "xaxis": "x2",
         "y": [
          2029.876925291925,
          2280.884061036407,
          1407.4886041190814,
          606.5770993805818,
          521.8631411555456,
          244.27894021714215,
          245.23637965079217,
          267.63124796053717,
          319.6172461824304,
          769.0978541082368,
          2009.0450943249064,
          2097.14263424085
         ],
         "yaxis": "y2"
        },
        {
         "legendgroup": "Months",
         "line": {
          "color": "rgb(229, 134, 6)"
         },
         "mode": "lines+markers",
         "name": "03-02_02-Hourly-Meter",
         "showlegend": false,
         "type": "scatter",
         "x": [
          "Jan",
          "Feb",
          "Mar",
          "Apr",
          "May",
          "Jun",
          "Jul",
          "Aug",
          "Sep",
          "Oct",
          "Nov",
          "Dec"
         ],
         "xaxis": "x3",
         "y": [
          4746.613327464962,
          2520.8769013075357,
          4856.558222106838,
          9711.525270386925,
          9019.812289390633,
          18399.086821589746,
          19645.03418268548,
          23672.908636806358,
          18478.455951993677,
          10579.4656794306,
          4884.2111034256595,
          4203.025127259272
         ],
         "yaxis": "y3"
        },
        {
         "legendgroup": "Months",
         "line": {
          "color": "rgb(93, 105, 177)"
         },
         "mode": "lines+markers",
         "name": "03-03_08-new-baseline-reg",
         "showlegend": true,
         "type": "scatter",
         "x": [
          "Jan",
          "Feb",
          "Mar",
          "Apr",
          "May",
          "Jun",
          "Jul",
          "Aug",
          "Sep",
          "Oct",
          "Nov",
          "Dec"
         ],
         "xaxis": "x",
         "y": [
          7827.764967704672,
          6916.640770702316,
          7467.019541353013,
          7578.252128698805,
          7868.174375354041,
          7305.648911931266,
          7959.32978096948,
          7842.933389943997,
          7449.938234466693,
          7891.607583741759,
          7378.525155248788,
          7605.359508296121
         ],
         "yaxis": "y"
        },
        {
         "legendgroup": "Months",
         "line": {
          "color": "rgb(93, 105, 177)"
         },
         "mode": "lines+markers",
         "name": "03-03_08-new-baseline-reg",
         "showlegend": false,
         "type": "scatter",
         "x": [
          "Jan",
          "Feb",
          "Mar",
          "Apr",
          "May",
          "Jun",
          "Jul",
          "Aug",
          "Sep",
          "Oct",
          "Nov",
          "Dec"
         ],
         "xaxis": "x2",
         "y": [
          3368.932270421352,
          3910.1581404023705,
          2514.5611516886092,
          1201.948486743494,
          1067.333666817209,
          531.9583487090183,
          582.3562229238621,
          614.0966209971001,
          702.6600017167846,
          1392.921608995476,
          3367.457239420317,
          3575.312336684072
         ],
         "yaxis": "y2"
        },
        {
         "legendgroup": "Months",
         "line": {
          "color": "rgb(93, 105, 177)"
         },
         "mode": "lines+markers",
         "name": "03-03_08-new-baseline-reg",
         "showlegend": false,
         "type": "scatter",
         "x": [
          "Jan",
          "Feb",
          "Mar",
          "Apr",
          "May",
          "Jun",
          "Jul",
          "Aug",
          "Sep",
          "Oct",
          "Nov",
          "Dec"
         ],
         "xaxis": "x3",
         "y": [
          1717.925736336768,
          567.789537357986,
          1971.4051977828906,
          5771.189970126347,
          4745.039612407512,
          13276.840799697247,
          14157.666007168067,
          18404.331766328694,
          13792.454437732322,
          6617.700513237948,
          2158.2804934487103,
          1402.9605103652837
         ],
         "yaxis": "y3"
        },
        {
         "legendgroup": "Months",
         "line": {
          "color": "rgb(82, 188, 163)"
         },
         "mode": "lines+markers",
         "name": "03-03_09-heating_t2_17",
         "showlegend": true,
         "type": "scatter",
         "x": [
          "Jan",
          "Feb",
          "Mar",
          "Apr",
          "May",
          "Jun",
          "Jul",
          "Aug",
          "Sep",
          "Oct",
          "Nov",
          "Dec"
         ],
         "xaxis": "x",
         "y": [
          7780.899487804539,
          6863.581650559414,
          7415.01378243708,
          7557.587198071539,
          7837.339846907815,
          7344.548364049152,
          8031.073545836251,
          7921.614263053791,
          7494.6335978529405,
          7870.359100423743,
          7335.028116270987,
          7560.3272153574035
         ],
         "yaxis": "y"
        },
        {
         "legendgroup": "Months",
         "line": {
          "color": "rgb(82, 188, 163)"
         },
         "mode": "lines+markers",
         "name": "03-03_09-heating_t2_17",
         "showlegend": false,
         "type": "scatter",
         "x": [
          "Jan",
          "Feb",
          "Mar",
          "Apr",
          "May",
          "Jun",
          "Jul",
          "Aug",
          "Sep",
          "Oct",
          "Nov",
          "Dec"
         ],
         "xaxis": "x2",
         "y": [
          1433.784724642134,
          1803.221126009389,
          924.2163067351346,
          212.71709290714864,
          184.51325690219565,
          101.0679156335916,
          68.4580005553917,
          82.94312560112024,
          91.26633305223291,
          262.6235957161852,
          1465.9319017437224,
          1567.34294542906
         ],
         "yaxis": "y2"
        },
        {
         "legendgroup": "Months",
         "line": {
          "color": "rgb(82, 188, 163)"
         },
         "mode": "lines+markers",
         "name": "03-03_09-heating_t2_17",
         "showlegend": false,
         "type": "scatter",
         "x": [
          "Jan",
          "Feb",
          "Mar",
          "Apr",
          "May",
          "Jun",
          "Jul",
          "Aug",
          "Sep",
          "Oct",
          "Nov",
          "Dec"
         ],
         "xaxis": "x3",
         "y": [
          828.0564218973466,
          207.71691784670753,
          913.407091891254,
          2859.5962312631973,
          2171.0393850031223,
          7382.606326759086,
          7592.019818114557,
          10023.990607724645,
          7431.337037311927,
          3511.2052047556435,
          1050.6095812977758,
          666.691363096152
         ],
         "yaxis": "y3"
        },
        {
         "legendgroup": "Months",
         "line": {
          "color": "rgb(153, 201, 69)"
         },
         "mode": "lines+markers",
         "name": "03-06_00-eh-6",
         "showlegend": true,
         "type": "scatter",
         "x": [
          "Jan",
          "Feb",
          "Mar",
          "Apr",
          "May",
          "Jun",
          "Jul",
          "Aug",
          "Sep",
          "Oct",
          "Nov",
          "Dec"
         ],
         "xaxis": "x",
         "y": [
          8841.202115263975,
          7807.586915240723,
          8472.949840595933,
          8616.790811310782,
          8942.457271834855,
          8418.348492103949,
          9097.069909901926,
          9017.925297358968,
          8556.0891497601,
          8981.029216930041,
          8352.364685319912,
          8598.519185028385
         ],
         "yaxis": "y"
        },
        {
         "legendgroup": "Months",
         "line": {
          "color": "rgb(153, 201, 69)"
         },
         "mode": "lines+markers",
         "name": "03-06_00-eh-6",
         "showlegend": false,
         "type": "scatter",
         "x": [
          "Jan",
          "Feb",
          "Mar",
          "Apr",
          "May",
          "Jun",
          "Jul",
          "Aug",
          "Sep",
          "Oct",
          "Nov",
          "Dec"
         ],
         "xaxis": "x2",
         "y": [
          2871.0293188482647,
          3303.2554730711236,
          2256.852438808626,
          1013.3566953832382,
          927.4182772678373,
          300.29171456993805,
          290.614191426822,
          302.99776965116985,
          468.6946321247221,
          1177.463104840042,
          2853.6029602452813,
          3157.7206115599856
         ],
         "yaxis": "y2"
        },
        {
         "legendgroup": "Months",
         "line": {
          "color": "rgb(153, 201, 69)"
         },
         "mode": "lines+markers",
         "name": "03-06_00-eh-6",
         "showlegend": false,
         "type": "scatter",
         "x": [
          "Jan",
          "Feb",
          "Mar",
          "Apr",
          "May",
          "Jun",
          "Jul",
          "Aug",
          "Sep",
          "Oct",
          "Nov",
          "Dec"
         ],
         "xaxis": "x3",
         "y": [
          1792.7141054687133,
          637.6669354685713,
          2094.227992087764,
          6094.480698686093,
          5162.42324377246,
          13252.19233818179,
          14775.89511859655,
          18141.879504900015,
          14000.34598480809,
          6820.544753856212,
          2285.288787851519,
          1494.7838351304358
         ],
         "yaxis": "y3"
        }
       ],
       "layout": {
        "annotations": [
         {
          "font": {
           "size": 16
          },
          "showarrow": false,
          "text": "Electricity",
          "x": 0.14444444444444446,
          "xanchor": "center",
          "xref": "paper",
          "y": 1,
          "yanchor": "bottom",
          "yref": "paper"
         },
         {
          "font": {
           "size": 16
          },
          "showarrow": false,
          "text": "Hot Water",
          "x": 0.5,
          "xanchor": "center",
          "xref": "paper",
          "y": 1,
          "yanchor": "bottom",
          "yref": "paper"
         },
         {
          "font": {
           "size": 16
          },
          "showarrow": false,
          "text": "Chilled Water",
          "x": 0.8555555555555556,
          "xanchor": "center",
          "xref": "paper",
          "y": 1,
          "yanchor": "bottom",
          "yref": "paper"
         }
        ],
        "template": {
         "data": {
          "bar": [
           {
            "error_x": {
             "color": "#2a3f5f"
            },
            "error_y": {
             "color": "#2a3f5f"
            },
            "marker": {
             "line": {
              "color": "#E5ECF6",
              "width": 0.5
             },
             "pattern": {
              "fillmode": "overlay",
              "size": 10,
              "solidity": 0.2
             }
            },
            "type": "bar"
           }
          ],
          "barpolar": [
           {
            "marker": {
             "line": {
              "color": "#E5ECF6",
              "width": 0.5
             },
             "pattern": {
              "fillmode": "overlay",
              "size": 10,
              "solidity": 0.2
             }
            },
            "type": "barpolar"
           }
          ],
          "carpet": [
           {
            "aaxis": {
             "endlinecolor": "#2a3f5f",
             "gridcolor": "white",
             "linecolor": "white",
             "minorgridcolor": "white",
             "startlinecolor": "#2a3f5f"
            },
            "baxis": {
             "endlinecolor": "#2a3f5f",
             "gridcolor": "white",
             "linecolor": "white",
             "minorgridcolor": "white",
             "startlinecolor": "#2a3f5f"
            },
            "type": "carpet"
           }
          ],
          "choropleth": [
           {
            "colorbar": {
             "outlinewidth": 0,
             "ticks": ""
            },
            "type": "choropleth"
           }
          ],
          "contour": [
           {
            "colorbar": {
             "outlinewidth": 0,
             "ticks": ""
            },
            "colorscale": [
             [
              0,
              "#0d0887"
             ],
             [
              0.1111111111111111,
              "#46039f"
             ],
             [
              0.2222222222222222,
              "#7201a8"
             ],
             [
              0.3333333333333333,
              "#9c179e"
             ],
             [
              0.4444444444444444,
              "#bd3786"
             ],
             [
              0.5555555555555556,
              "#d8576b"
             ],
             [
              0.6666666666666666,
              "#ed7953"
             ],
             [
              0.7777777777777778,
              "#fb9f3a"
             ],
             [
              0.8888888888888888,
              "#fdca26"
             ],
             [
              1,
              "#f0f921"
             ]
            ],
            "type": "contour"
           }
          ],
          "contourcarpet": [
           {
            "colorbar": {
             "outlinewidth": 0,
             "ticks": ""
            },
            "type": "contourcarpet"
           }
          ],
          "heatmap": [
           {
            "colorbar": {
             "outlinewidth": 0,
             "ticks": ""
            },
            "colorscale": [
             [
              0,
              "#0d0887"
             ],
             [
              0.1111111111111111,
              "#46039f"
             ],
             [
              0.2222222222222222,
              "#7201a8"
             ],
             [
              0.3333333333333333,
              "#9c179e"
             ],
             [
              0.4444444444444444,
              "#bd3786"
             ],
             [
              0.5555555555555556,
              "#d8576b"
             ],
             [
              0.6666666666666666,
              "#ed7953"
             ],
             [
              0.7777777777777778,
              "#fb9f3a"
             ],
             [
              0.8888888888888888,
              "#fdca26"
             ],
             [
              1,
              "#f0f921"
             ]
            ],
            "type": "heatmap"
           }
          ],
          "heatmapgl": [
           {
            "colorbar": {
             "outlinewidth": 0,
             "ticks": ""
            },
            "colorscale": [
             [
              0,
              "#0d0887"
             ],
             [
              0.1111111111111111,
              "#46039f"
             ],
             [
              0.2222222222222222,
              "#7201a8"
             ],
             [
              0.3333333333333333,
              "#9c179e"
             ],
             [
              0.4444444444444444,
              "#bd3786"
             ],
             [
              0.5555555555555556,
              "#d8576b"
             ],
             [
              0.6666666666666666,
              "#ed7953"
             ],
             [
              0.7777777777777778,
              "#fb9f3a"
             ],
             [
              0.8888888888888888,
              "#fdca26"
             ],
             [
              1,
              "#f0f921"
             ]
            ],
            "type": "heatmapgl"
           }
          ],
          "histogram": [
           {
            "marker": {
             "pattern": {
              "fillmode": "overlay",
              "size": 10,
              "solidity": 0.2
             }
            },
            "type": "histogram"
           }
          ],
          "histogram2d": [
           {
            "colorbar": {
             "outlinewidth": 0,
             "ticks": ""
            },
            "colorscale": [
             [
              0,
              "#0d0887"
             ],
             [
              0.1111111111111111,
              "#46039f"
             ],
             [
              0.2222222222222222,
              "#7201a8"
             ],
             [
              0.3333333333333333,
              "#9c179e"
             ],
             [
              0.4444444444444444,
              "#bd3786"
             ],
             [
              0.5555555555555556,
              "#d8576b"
             ],
             [
              0.6666666666666666,
              "#ed7953"
             ],
             [
              0.7777777777777778,
              "#fb9f3a"
             ],
             [
              0.8888888888888888,
              "#fdca26"
             ],
             [
              1,
              "#f0f921"
             ]
            ],
            "type": "histogram2d"
           }
          ],
          "histogram2dcontour": [
           {
            "colorbar": {
             "outlinewidth": 0,
             "ticks": ""
            },
            "colorscale": [
             [
              0,
              "#0d0887"
             ],
             [
              0.1111111111111111,
              "#46039f"
             ],
             [
              0.2222222222222222,
              "#7201a8"
             ],
             [
              0.3333333333333333,
              "#9c179e"
             ],
             [
              0.4444444444444444,
              "#bd3786"
             ],
             [
              0.5555555555555556,
              "#d8576b"
             ],
             [
              0.6666666666666666,
              "#ed7953"
             ],
             [
              0.7777777777777778,
              "#fb9f3a"
             ],
             [
              0.8888888888888888,
              "#fdca26"
             ],
             [
              1,
              "#f0f921"
             ]
            ],
            "type": "histogram2dcontour"
           }
          ],
          "mesh3d": [
           {
            "colorbar": {
             "outlinewidth": 0,
             "ticks": ""
            },
            "type": "mesh3d"
           }
          ],
          "parcoords": [
           {
            "line": {
             "colorbar": {
              "outlinewidth": 0,
              "ticks": ""
             }
            },
            "type": "parcoords"
           }
          ],
          "pie": [
           {
            "automargin": true,
            "type": "pie"
           }
          ],
          "scatter": [
           {
            "marker": {
             "colorbar": {
              "outlinewidth": 0,
              "ticks": ""
             }
            },
            "type": "scatter"
           }
          ],
          "scatter3d": [
           {
            "line": {
             "colorbar": {
              "outlinewidth": 0,
              "ticks": ""
             }
            },
            "marker": {
             "colorbar": {
              "outlinewidth": 0,
              "ticks": ""
             }
            },
            "type": "scatter3d"
           }
          ],
          "scattercarpet": [
           {
            "marker": {
             "colorbar": {
              "outlinewidth": 0,
              "ticks": ""
             }
            },
            "type": "scattercarpet"
           }
          ],
          "scattergeo": [
           {
            "marker": {
             "colorbar": {
              "outlinewidth": 0,
              "ticks": ""
             }
            },
            "type": "scattergeo"
           }
          ],
          "scattergl": [
           {
            "marker": {
             "colorbar": {
              "outlinewidth": 0,
              "ticks": ""
             }
            },
            "type": "scattergl"
           }
          ],
          "scattermapbox": [
           {
            "marker": {
             "colorbar": {
              "outlinewidth": 0,
              "ticks": ""
             }
            },
            "type": "scattermapbox"
           }
          ],
          "scatterpolar": [
           {
            "marker": {
             "colorbar": {
              "outlinewidth": 0,
              "ticks": ""
             }
            },
            "type": "scatterpolar"
           }
          ],
          "scatterpolargl": [
           {
            "marker": {
             "colorbar": {
              "outlinewidth": 0,
              "ticks": ""
             }
            },
            "type": "scatterpolargl"
           }
          ],
          "scatterternary": [
           {
            "marker": {
             "colorbar": {
              "outlinewidth": 0,
              "ticks": ""
             }
            },
            "type": "scatterternary"
           }
          ],
          "surface": [
           {
            "colorbar": {
             "outlinewidth": 0,
             "ticks": ""
            },
            "colorscale": [
             [
              0,
              "#0d0887"
             ],
             [
              0.1111111111111111,
              "#46039f"
             ],
             [
              0.2222222222222222,
              "#7201a8"
             ],
             [
              0.3333333333333333,
              "#9c179e"
             ],
             [
              0.4444444444444444,
              "#bd3786"
             ],
             [
              0.5555555555555556,
              "#d8576b"
             ],
             [
              0.6666666666666666,
              "#ed7953"
             ],
             [
              0.7777777777777778,
              "#fb9f3a"
             ],
             [
              0.8888888888888888,
              "#fdca26"
             ],
             [
              1,
              "#f0f921"
             ]
            ],
            "type": "surface"
           }
          ],
          "table": [
           {
            "cells": {
             "fill": {
              "color": "#EBF0F8"
             },
             "line": {
              "color": "white"
             }
            },
            "header": {
             "fill": {
              "color": "#C8D4E3"
             },
             "line": {
              "color": "white"
             }
            },
            "type": "table"
           }
          ]
         },
         "layout": {
          "annotationdefaults": {
           "arrowcolor": "#2a3f5f",
           "arrowhead": 0,
           "arrowwidth": 1
          },
          "autotypenumbers": "strict",
          "coloraxis": {
           "colorbar": {
            "outlinewidth": 0,
            "ticks": ""
           }
          },
          "colorscale": {
           "diverging": [
            [
             0,
             "#8e0152"
            ],
            [
             0.1,
             "#c51b7d"
            ],
            [
             0.2,
             "#de77ae"
            ],
            [
             0.3,
             "#f1b6da"
            ],
            [
             0.4,
             "#fde0ef"
            ],
            [
             0.5,
             "#f7f7f7"
            ],
            [
             0.6,
             "#e6f5d0"
            ],
            [
             0.7,
             "#b8e186"
            ],
            [
             0.8,
             "#7fbc41"
            ],
            [
             0.9,
             "#4d9221"
            ],
            [
             1,
             "#276419"
            ]
           ],
           "sequential": [
            [
             0,
             "#0d0887"
            ],
            [
             0.1111111111111111,
             "#46039f"
            ],
            [
             0.2222222222222222,
             "#7201a8"
            ],
            [
             0.3333333333333333,
             "#9c179e"
            ],
            [
             0.4444444444444444,
             "#bd3786"
            ],
            [
             0.5555555555555556,
             "#d8576b"
            ],
            [
             0.6666666666666666,
             "#ed7953"
            ],
            [
             0.7777777777777778,
             "#fb9f3a"
            ],
            [
             0.8888888888888888,
             "#fdca26"
            ],
            [
             1,
             "#f0f921"
            ]
           ],
           "sequentialminus": [
            [
             0,
             "#0d0887"
            ],
            [
             0.1111111111111111,
             "#46039f"
            ],
            [
             0.2222222222222222,
             "#7201a8"
            ],
            [
             0.3333333333333333,
             "#9c179e"
            ],
            [
             0.4444444444444444,
             "#bd3786"
            ],
            [
             0.5555555555555556,
             "#d8576b"
            ],
            [
             0.6666666666666666,
             "#ed7953"
            ],
            [
             0.7777777777777778,
             "#fb9f3a"
            ],
            [
             0.8888888888888888,
             "#fdca26"
            ],
            [
             1,
             "#f0f921"
            ]
           ]
          },
          "colorway": [
           "#636efa",
           "#EF553B",
           "#00cc96",
           "#ab63fa",
           "#FFA15A",
           "#19d3f3",
           "#FF6692",
           "#B6E880",
           "#FF97FF",
           "#FECB52"
          ],
          "font": {
           "color": "#2a3f5f"
          },
          "geo": {
           "bgcolor": "white",
           "lakecolor": "white",
           "landcolor": "#E5ECF6",
           "showlakes": true,
           "showland": true,
           "subunitcolor": "white"
          },
          "hoverlabel": {
           "align": "left"
          },
          "hovermode": "closest",
          "mapbox": {
           "style": "light"
          },
          "paper_bgcolor": "white",
          "plot_bgcolor": "#E5ECF6",
          "polar": {
           "angularaxis": {
            "gridcolor": "white",
            "linecolor": "white",
            "ticks": ""
           },
           "bgcolor": "#E5ECF6",
           "radialaxis": {
            "gridcolor": "white",
            "linecolor": "white",
            "ticks": ""
           }
          },
          "scene": {
           "xaxis": {
            "backgroundcolor": "#E5ECF6",
            "gridcolor": "white",
            "gridwidth": 2,
            "linecolor": "white",
            "showbackground": true,
            "ticks": "",
            "zerolinecolor": "white"
           },
           "yaxis": {
            "backgroundcolor": "#E5ECF6",
            "gridcolor": "white",
            "gridwidth": 2,
            "linecolor": "white",
            "showbackground": true,
            "ticks": "",
            "zerolinecolor": "white"
           },
           "zaxis": {
            "backgroundcolor": "#E5ECF6",
            "gridcolor": "white",
            "gridwidth": 2,
            "linecolor": "white",
            "showbackground": true,
            "ticks": "",
            "zerolinecolor": "white"
           }
          },
          "shapedefaults": {
           "line": {
            "color": "#2a3f5f"
           }
          },
          "ternary": {
           "aaxis": {
            "gridcolor": "white",
            "linecolor": "white",
            "ticks": ""
           },
           "baxis": {
            "gridcolor": "white",
            "linecolor": "white",
            "ticks": ""
           },
           "bgcolor": "#E5ECF6",
           "caxis": {
            "gridcolor": "white",
            "linecolor": "white",
            "ticks": ""
           }
          },
          "title": {
           "x": 0.05
          },
          "xaxis": {
           "automargin": true,
           "gridcolor": "white",
           "linecolor": "white",
           "ticks": "",
           "title": {
            "standoff": 15
           },
           "zerolinecolor": "white",
           "zerolinewidth": 2
          },
          "yaxis": {
           "automargin": true,
           "gridcolor": "white",
           "linecolor": "white",
           "ticks": "",
           "title": {
            "standoff": 15
           },
           "zerolinecolor": "white",
           "zerolinewidth": 2
          }
         }
        },
        "title": {
         "text": "Monthly Total Energy Usage"
        },
        "xaxis": {
         "anchor": "y",
         "domain": [
          0,
          0.2888888888888889
         ]
        },
        "xaxis2": {
         "anchor": "y2",
         "domain": [
          0.35555555555555557,
          0.6444444444444445
         ]
        },
        "xaxis3": {
         "anchor": "y3",
         "domain": [
          0.7111111111111111,
          1
         ]
        },
        "yaxis": {
         "anchor": "x",
         "domain": [
          0,
          1
         ],
         "title": {
          "text": "Energy (kWh)"
         }
        },
        "yaxis2": {
         "anchor": "x2",
         "domain": [
          0,
          1
         ]
        },
        "yaxis3": {
         "anchor": "x3",
         "domain": [
          0,
          1
         ]
        }
       }
      }
     },
     "metadata": {},
     "output_type": "display_data"
    }
   ],
   "source": [
    "plot_datasets_monthly()"
   ]
  },
  {
   "cell_type": "code",
   "execution_count": 32,
   "metadata": {},
   "outputs": [
    {
     "data": {
      "text/plain": [
       "Month\n",
       "1      9563.779652\n",
       "2     11205.168864\n",
       "3     10021.888756\n",
       "4      5739.921388\n",
       "5      8015.771756\n",
       "6      2812.879287\n",
       "7      1998.993427\n",
       "8      1290.168084\n",
       "9      1966.378451\n",
       "10     4721.300882\n",
       "11     7453.441033\n",
       "12    10536.379511\n",
       "Name: kWh, dtype: float64"
      ]
     },
     "execution_count": 32,
     "metadata": {},
     "output_type": "execute_result"
    }
   ],
   "source": [
    "hist_monthly[\"hot\"]"
   ]
  },
  {
   "cell_type": "code",
   "execution_count": 33,
   "metadata": {},
   "outputs": [],
   "source": [
    "# {'elect': 3.100677715042496, 'hot': 1.8389211816597943, 'chill': 9.354337655572776}\n",
    "    "
   ]
  },
  {
   "cell_type": "code",
   "execution_count": null,
   "metadata": {},
   "outputs": [],
   "source": []
  }
 ],
 "metadata": {
  "interpreter": {
   "hash": "83394fd6528936df3c1aec41a113e1e006dc45c8dc5352109b9d4b356eececd5"
  },
  "kernelspec": {
   "display_name": "Python 3.9.10 ('cee256venv': venv)",
   "language": "python",
   "name": "python3"
  },
  "language_info": {
   "codemirror_mode": {
    "name": "ipython",
    "version": 3
   },
   "file_extension": ".py",
   "mimetype": "text/x-python",
   "name": "python",
   "nbconvert_exporter": "python",
   "pygments_lexer": "ipython3",
   "version": "3.9.10"
  },
  "orig_nbformat": 4
 },
 "nbformat": 4,
 "nbformat_minor": 2
}
