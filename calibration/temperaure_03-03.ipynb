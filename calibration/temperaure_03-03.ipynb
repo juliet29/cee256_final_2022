{
 "cells": [
  {
   "cell_type": "code",
   "execution_count": 1,
   "metadata": {},
   "outputs": [],
   "source": [
    "import os\n",
    "\n",
    "from ladybug.sql import SQLiteResult\n",
    "from ladybug import analysisperiod as ap\n",
    "\n",
    "from eppy import *\n",
    "\n",
    "import plotly.graph_objects as go\n",
    "import plotly.express as px\n",
    "from plotly.subplots import make_subplots\n",
    "\n",
    "import pandas as pd\n",
    "\n",
    "import numpy as np\n",
    "\n",
    "from collections import OrderedDict\n",
    "\n",
    "import datetime as dt\n",
    "\n",
    "from IPython.display import display\n",
    "\n"
   ]
  },
  {
   "cell_type": "code",
   "execution_count": 2,
   "metadata": {},
   "outputs": [
    {
     "data": {
      "text/plain": [
       "'/Users/julietnwagwuume-ezeoke/Documents/cee256_local/_final_project_local'"
      ]
     },
     "execution_count": 2,
     "metadata": {},
     "output_type": "execute_result"
    }
   ],
   "source": [
    "root = os.getcwd()\n",
    "root"
   ]
  },
  {
   "cell_type": "code",
   "execution_count": 3,
   "metadata": {},
   "outputs": [],
   "source": [
    "def calc_metrics(simulated, measured):\n",
    "    ts = simulated\n",
    "    tm = measured\n",
    "    tm_avg = np.mean(measured)\n",
    "    n = len(tm)\n",
    "    rmse = (100/tm_avg) * np.sqrt( (1/n) * np.sum((ts - tm)**2) )\n",
    "    mbe = (100/tm_avg) * (np.sum(ts - tm)/n)\n",
    "    return np.round(rmse,3), np.round(mbe,3)"
   ]
  },
  {
   "cell_type": "code",
   "execution_count": 4,
   "metadata": {},
   "outputs": [],
   "source": [
    "def monthly_by_hour_from_sql(sql_dir_name):\n",
    "    sqlFile = os.path.join(sql_dir_name, \"eplusout.sql\")\n",
    "    sqld = SQLiteResult(sqlFile)\n",
    "\n",
    "    elect = sqld.data_collections_by_output_name(\"Electricity:Facility\")[-1]\n",
    "    hot = sqld.data_collections_by_output_name(\"DistrictHeating:Facility\")[-1]\n",
    "    chill = sqld.data_collections_by_output_name(\"DistrictCooling:Facility\")[-1]\n",
    "\n",
    "    sim_month_by_hr = OrderedDict({\n",
    "    \"elect\": elect.average_monthly_per_hour(),\n",
    "    \"hot\": hot.average_monthly_per_hour(),\n",
    "    \"chill\": chill.average_monthly_per_hour()\n",
    "    })\n",
    "\n",
    "    sim_monthly= OrderedDict({\n",
    "    \"elect\": elect.total_monthly(),\n",
    "    \"hot\": hot.total_monthly(),\n",
    "    \"chill\": chill.total_monthly(),\n",
    "    })\n",
    "\n",
    "    return sim_month_by_hr, sim_monthly"
   ]
  },
  {
   "cell_type": "code",
   "execution_count": 5,
   "metadata": {},
   "outputs": [],
   "source": [
    "# new_dir_name = os.path.join(adjusted_model_dir, \"03-02_02-Hourly-Meter\")\n",
    "sim_names = {\n",
    "    3: \"03-06_00-eh-6\",\n",
    "}\n",
    "\n",
    "adjusted_model_dir = os.path.join(root, \"eppy_adjusted_models\")\n",
    "sim_name_paths = {k: os.path.join(adjusted_model_dir, v) for k,v in sim_names.items()}"
   ]
  },
  {
   "cell_type": "code",
   "execution_count": 6,
   "metadata": {},
   "outputs": [],
   "source": [
    "sim_data_hr = OrderedDict()\n",
    "sim_data_month = OrderedDict()\n",
    "\n",
    "for k, v in zip(sim_names.values(), sim_name_paths.values()):\n",
    "    sim_data_hr[k] = monthly_by_hour_from_sql(v)[0]\n",
    "    sim_data_month[k] = monthly_by_hour_from_sql(v)[1]"
   ]
  },
  {
   "cell_type": "markdown",
   "metadata": {},
   "source": [
    "# Load and Convert Historical Data"
   ]
  },
  {
   "cell_type": "markdown",
   "metadata": {},
   "source": [
    "## Temperature"
   ]
  },
  {
   "cell_type": "code",
   "execution_count": 7,
   "metadata": {},
   "outputs": [
    {
     "data": {
      "text/html": [
       "<div>\n",
       "<style scoped>\n",
       "    .dataframe tbody tr th:only-of-type {\n",
       "        vertical-align: middle;\n",
       "    }\n",
       "\n",
       "    .dataframe tbody tr th {\n",
       "        vertical-align: top;\n",
       "    }\n",
       "\n",
       "    .dataframe thead th {\n",
       "        text-align: right;\n",
       "    }\n",
       "</style>\n",
       "<table border=\"1\" class=\"dataframe\">\n",
       "  <thead>\n",
       "    <tr style=\"text-align: right;\">\n",
       "      <th></th>\n",
       "      <th>month</th>\n",
       "      <th>date</th>\n",
       "      <th>Date and time</th>\n",
       "      <th>Dry Bulb Temperature (F)</th>\n",
       "      <th>Wet Bulb Temperature (F)</th>\n",
       "      <th>Atmospheric Pressure (atm)</th>\n",
       "      <th>Relative Humidity (%)</th>\n",
       "      <th>Dew Point Temperature (F)</th>\n",
       "      <th>Global Solar (Btu/ft2)</th>\n",
       "      <th>Normal Solar (Btu/ft2)</th>\n",
       "      <th>Diffuse Solar (Btu/ft2)</th>\n",
       "      <th>Wind Speed (mph)</th>\n",
       "      <th>Time</th>\n",
       "    </tr>\n",
       "  </thead>\n",
       "  <tbody>\n",
       "    <tr>\n",
       "      <th>0</th>\n",
       "      <td>1</td>\n",
       "      <td>2019/01/01</td>\n",
       "      <td>2019/01/01 @ 00:00:00</td>\n",
       "      <td>48.74</td>\n",
       "      <td>39.24</td>\n",
       "      <td>1.00</td>\n",
       "      <td>40</td>\n",
       "      <td>26.27</td>\n",
       "      <td>0.0</td>\n",
       "      <td>0.0</td>\n",
       "      <td>0.0</td>\n",
       "      <td>15.21</td>\n",
       "      <td>00:00:00</td>\n",
       "    </tr>\n",
       "    <tr>\n",
       "      <th>1</th>\n",
       "      <td>1</td>\n",
       "      <td>2019/01/01</td>\n",
       "      <td>2019/01/01 @ 01:00:00</td>\n",
       "      <td>48.02</td>\n",
       "      <td>38.84</td>\n",
       "      <td>1.01</td>\n",
       "      <td>41</td>\n",
       "      <td>26.22</td>\n",
       "      <td>0.0</td>\n",
       "      <td>0.0</td>\n",
       "      <td>0.0</td>\n",
       "      <td>13.20</td>\n",
       "      <td>01:00:00</td>\n",
       "    </tr>\n",
       "    <tr>\n",
       "      <th>2</th>\n",
       "      <td>1</td>\n",
       "      <td>2019/01/01</td>\n",
       "      <td>2019/01/01 @ 02:00:00</td>\n",
       "      <td>47.30</td>\n",
       "      <td>38.28</td>\n",
       "      <td>1.01</td>\n",
       "      <td>41</td>\n",
       "      <td>25.65</td>\n",
       "      <td>0.0</td>\n",
       "      <td>0.0</td>\n",
       "      <td>0.0</td>\n",
       "      <td>11.18</td>\n",
       "      <td>02:00:00</td>\n",
       "    </tr>\n",
       "    <tr>\n",
       "      <th>3</th>\n",
       "      <td>1</td>\n",
       "      <td>2019/01/01</td>\n",
       "      <td>2019/01/01 @ 03:00:00</td>\n",
       "      <td>46.58</td>\n",
       "      <td>37.87</td>\n",
       "      <td>1.01</td>\n",
       "      <td>42</td>\n",
       "      <td>25.58</td>\n",
       "      <td>0.0</td>\n",
       "      <td>0.0</td>\n",
       "      <td>0.0</td>\n",
       "      <td>9.17</td>\n",
       "      <td>03:00:00</td>\n",
       "    </tr>\n",
       "    <tr>\n",
       "      <th>4</th>\n",
       "      <td>1</td>\n",
       "      <td>2019/01/01</td>\n",
       "      <td>2019/01/01 @ 04:00:00</td>\n",
       "      <td>45.86</td>\n",
       "      <td>37.45</td>\n",
       "      <td>1.01</td>\n",
       "      <td>43</td>\n",
       "      <td>25.50</td>\n",
       "      <td>0.0</td>\n",
       "      <td>0.0</td>\n",
       "      <td>0.0</td>\n",
       "      <td>6.93</td>\n",
       "      <td>04:00:00</td>\n",
       "    </tr>\n",
       "    <tr>\n",
       "      <th>...</th>\n",
       "      <td>...</td>\n",
       "      <td>...</td>\n",
       "      <td>...</td>\n",
       "      <td>...</td>\n",
       "      <td>...</td>\n",
       "      <td>...</td>\n",
       "      <td>...</td>\n",
       "      <td>...</td>\n",
       "      <td>...</td>\n",
       "      <td>...</td>\n",
       "      <td>...</td>\n",
       "      <td>...</td>\n",
       "      <td>...</td>\n",
       "    </tr>\n",
       "    <tr>\n",
       "      <th>8755</th>\n",
       "      <td>12</td>\n",
       "      <td>2019/12/31</td>\n",
       "      <td>2019/12/31 @ 19:00:00</td>\n",
       "      <td>47.84</td>\n",
       "      <td>44.59</td>\n",
       "      <td>1.00</td>\n",
       "      <td>78</td>\n",
       "      <td>41.36</td>\n",
       "      <td>0.0</td>\n",
       "      <td>0.0</td>\n",
       "      <td>0.0</td>\n",
       "      <td>1.12</td>\n",
       "      <td>19:00:00</td>\n",
       "    </tr>\n",
       "    <tr>\n",
       "      <th>8756</th>\n",
       "      <td>12</td>\n",
       "      <td>2019/12/31</td>\n",
       "      <td>2019/12/31 @ 20:00:00</td>\n",
       "      <td>48.02</td>\n",
       "      <td>45.06</td>\n",
       "      <td>1.00</td>\n",
       "      <td>80</td>\n",
       "      <td>42.19</td>\n",
       "      <td>0.0</td>\n",
       "      <td>0.0</td>\n",
       "      <td>0.0</td>\n",
       "      <td>6.93</td>\n",
       "      <td>20:00:00</td>\n",
       "    </tr>\n",
       "    <tr>\n",
       "      <th>8757</th>\n",
       "      <td>12</td>\n",
       "      <td>2019/12/31</td>\n",
       "      <td>2019/12/31 @ 21:00:00</td>\n",
       "      <td>47.30</td>\n",
       "      <td>44.68</td>\n",
       "      <td>1.00</td>\n",
       "      <td>82</td>\n",
       "      <td>42.13</td>\n",
       "      <td>0.0</td>\n",
       "      <td>0.0</td>\n",
       "      <td>0.0</td>\n",
       "      <td>5.82</td>\n",
       "      <td>21:00:00</td>\n",
       "    </tr>\n",
       "    <tr>\n",
       "      <th>8758</th>\n",
       "      <td>12</td>\n",
       "      <td>2019/12/31</td>\n",
       "      <td>2019/12/31 @ 22:00:00</td>\n",
       "      <td>46.58</td>\n",
       "      <td>44.15</td>\n",
       "      <td>1.00</td>\n",
       "      <td>83</td>\n",
       "      <td>41.74</td>\n",
       "      <td>0.0</td>\n",
       "      <td>0.0</td>\n",
       "      <td>0.0</td>\n",
       "      <td>5.82</td>\n",
       "      <td>22:00:00</td>\n",
       "    </tr>\n",
       "    <tr>\n",
       "      <th>8759</th>\n",
       "      <td>12</td>\n",
       "      <td>2019/12/31</td>\n",
       "      <td>2019/12/31 @ 23:00:00</td>\n",
       "      <td>45.86</td>\n",
       "      <td>43.75</td>\n",
       "      <td>1.00</td>\n",
       "      <td>85</td>\n",
       "      <td>41.65</td>\n",
       "      <td>0.0</td>\n",
       "      <td>0.0</td>\n",
       "      <td>0.0</td>\n",
       "      <td>0.00</td>\n",
       "      <td>23:00:00</td>\n",
       "    </tr>\n",
       "  </tbody>\n",
       "</table>\n",
       "<p>8760 rows × 13 columns</p>\n",
       "</div>"
      ],
      "text/plain": [
       "      month        date          Date and time  Dry Bulb Temperature (F)  \\\n",
       "0         1  2019/01/01  2019/01/01 @ 00:00:00                     48.74   \n",
       "1         1  2019/01/01  2019/01/01 @ 01:00:00                     48.02   \n",
       "2         1  2019/01/01  2019/01/01 @ 02:00:00                     47.30   \n",
       "3         1  2019/01/01  2019/01/01 @ 03:00:00                     46.58   \n",
       "4         1  2019/01/01  2019/01/01 @ 04:00:00                     45.86   \n",
       "...     ...         ...                    ...                       ...   \n",
       "8755     12  2019/12/31  2019/12/31 @ 19:00:00                     47.84   \n",
       "8756     12  2019/12/31  2019/12/31 @ 20:00:00                     48.02   \n",
       "8757     12  2019/12/31  2019/12/31 @ 21:00:00                     47.30   \n",
       "8758     12  2019/12/31  2019/12/31 @ 22:00:00                     46.58   \n",
       "8759     12  2019/12/31  2019/12/31 @ 23:00:00                     45.86   \n",
       "\n",
       "      Wet Bulb Temperature (F)  Atmospheric Pressure (atm)  \\\n",
       "0                        39.24                        1.00   \n",
       "1                        38.84                        1.01   \n",
       "2                        38.28                        1.01   \n",
       "3                        37.87                        1.01   \n",
       "4                        37.45                        1.01   \n",
       "...                        ...                         ...   \n",
       "8755                     44.59                        1.00   \n",
       "8756                     45.06                        1.00   \n",
       "8757                     44.68                        1.00   \n",
       "8758                     44.15                        1.00   \n",
       "8759                     43.75                        1.00   \n",
       "\n",
       "      Relative Humidity (%)  Dew Point Temperature (F)  \\\n",
       "0                        40                      26.27   \n",
       "1                        41                      26.22   \n",
       "2                        41                      25.65   \n",
       "3                        42                      25.58   \n",
       "4                        43                      25.50   \n",
       "...                     ...                        ...   \n",
       "8755                     78                      41.36   \n",
       "8756                     80                      42.19   \n",
       "8757                     82                      42.13   \n",
       "8758                     83                      41.74   \n",
       "8759                     85                      41.65   \n",
       "\n",
       "      Global Solar (Btu/ft2)  Normal Solar (Btu/ft2)  Diffuse Solar (Btu/ft2)  \\\n",
       "0                        0.0                     0.0                      0.0   \n",
       "1                        0.0                     0.0                      0.0   \n",
       "2                        0.0                     0.0                      0.0   \n",
       "3                        0.0                     0.0                      0.0   \n",
       "4                        0.0                     0.0                      0.0   \n",
       "...                      ...                     ...                      ...   \n",
       "8755                     0.0                     0.0                      0.0   \n",
       "8756                     0.0                     0.0                      0.0   \n",
       "8757                     0.0                     0.0                      0.0   \n",
       "8758                     0.0                     0.0                      0.0   \n",
       "8759                     0.0                     0.0                      0.0   \n",
       "\n",
       "      Wind Speed (mph)      Time  \n",
       "0                15.21  00:00:00  \n",
       "1                13.20  01:00:00  \n",
       "2                11.18  02:00:00  \n",
       "3                 9.17  03:00:00  \n",
       "4                 6.93  04:00:00  \n",
       "...                ...       ...  \n",
       "8755              1.12  19:00:00  \n",
       "8756              6.93  20:00:00  \n",
       "8757              5.82  21:00:00  \n",
       "8758              5.82  22:00:00  \n",
       "8759              0.00  23:00:00  \n",
       "\n",
       "[8760 rows x 13 columns]"
      ]
     },
     "execution_count": 7,
     "metadata": {},
     "output_type": "execute_result"
    }
   ],
   "source": [
    "temp_data_path = \"/Users/julietnwagwuume-ezeoke/My Drive/CEE256_BuildSys/final_256/Data/2019 Palo Alto weather_calc.xlsx\"\n",
    "temp_data_hourly = pd.read_excel(temp_data_path, sheet_name=\"weather\", usecols=\"A:L\")\n",
    "temp_data_hourly[\"Time\"] = temp_data_hourly[\"Date and time\"].str[-8:]\n",
    "temp_data_hourly"
   ]
  },
  {
   "cell_type": "code",
   "execution_count": 8,
   "metadata": {},
   "outputs": [],
   "source": [
    "# temp_data_hourly[]"
   ]
  },
  {
   "cell_type": "code",
   "execution_count": 9,
   "metadata": {},
   "outputs": [
    {
     "data": {
      "text/plain": [
       "month  Time    \n",
       "1      00:00:00    10.103226\n",
       "       01:00:00     9.764516\n",
       "       02:00:00     9.464516\n",
       "       03:00:00     9.148387\n",
       "       04:00:00     8.841935\n",
       "                     ...    \n",
       "12     19:00:00    10.793548\n",
       "       20:00:00    10.990323\n",
       "       21:00:00    10.667742\n",
       "       22:00:00    10.345161\n",
       "       23:00:00     9.987097\n",
       "Name: Dry Bulb Temperature (F), Length: 288, dtype: float64"
      ]
     },
     "execution_count": 9,
     "metadata": {},
     "output_type": "execute_result"
    }
   ],
   "source": [
    "temp_month_by_hour = temp_data_hourly.groupby([\"month\", \"Time\"])[\"Dry Bulb Temperature (F)\"].mean()\n",
    "temp_month_by_hour_c = (temp_month_by_hour -32) * (5/9)\n",
    "temp_month_by_hour_c"
   ]
  },
  {
   "cell_type": "markdown",
   "metadata": {},
   "source": [
    "## Historical"
   ]
  },
  {
   "cell_type": "code",
   "execution_count": 10,
   "metadata": {},
   "outputs": [],
   "source": [
    "# conversion factors\n",
    "tonHr_kwHr = 3.5169 # 1 ton-hr = 3.517 kWh\n",
    "kbtu_kwHr = 1/3.412 # 1 kbtu = 0.29 kwHr\n",
    "\n",
    "# load data \n",
    "historical_data_path = os.path.join(root, \"data/Thornton Utilities 2019.xlsx\")\n",
    "\n",
    "# electricity # kwh \n",
    "hist_elect_hourly = pd.read_excel(historical_data_path, sheet_name=\"Electricity hourly\", usecols=\"A:E\")\n",
    "\n",
    "# chilled water  -> convert ton hours to kWh\n",
    "hist_chw_hourly = pd.read_excel(historical_data_path, sheet_name=\"CHW hourly\", usecols=\"A:E\")\n",
    "hist_chw_hourly[\"kWh\"] = hist_chw_hourly[\"ton-hours\"]*tonHr_kwHr\n",
    "\n",
    "# hot water -> convert kbtu to kWh\n",
    "hist_hw_hourly = pd.read_excel(historical_data_path, sheet_name=\"HW hourly\", usecols=\"A:E\")\n",
    "hist_hw_hourly[\"kWh\"] = hist_hw_hourly[\"kBtu\"]*kbtu_kwHr "
   ]
  },
  {
   "cell_type": "code",
   "execution_count": 11,
   "metadata": {},
   "outputs": [],
   "source": [
    "# month by hour\n",
    "hist_month_by_hr = OrderedDict({\n",
    "    \"elect\" : hist_elect_hourly.groupby([\"Month\", \"Hour\"])[\"kWh\"].mean(),\n",
    "    \"hot\": hist_hw_hourly.groupby([\"Month\", \"Hour\"])[\"kWh\"].mean(),\n",
    "    \"chill\": hist_chw_hourly.groupby([\"Month\", \"Hour\"])[\"kWh\"].mean(),\n",
    "})\n",
    "\n",
    "# monthly \n",
    "hist_monthly = OrderedDict({\n",
    "   \"elect\": hist_elect_hourly.groupby(\"Month\")[\"kWh\"].sum(),\n",
    "   \"hot\":  hist_hw_hourly.groupby(\"Month\")[\"kWh\"].sum(),\n",
    "   \"chill\":  hist_chw_hourly.groupby(\"Month\")[\"kWh\"].sum()\n",
    "})"
   ]
  },
  {
   "cell_type": "markdown",
   "metadata": {},
   "source": [
    "# Comparison of Hourly Trends"
   ]
  },
  {
   "cell_type": "code",
   "execution_count": 12,
   "metadata": {},
   "outputs": [
    {
     "name": "stdout",
     "output_type": "stream",
     "text": [
      "Updated end_day from 31 to 30\n"
     ]
    }
   ],
   "source": [
    "hours = [dt.datetime(2019, 1, 1, i ).strftime(\"%H:%M\") for i in range(24)]\n",
    "aperiods = {\n",
    "    1:  ap.AnalysisPeriod(st_month=1, end_month=1),\n",
    "    6 : ap.AnalysisPeriod(st_month=6, end_month=6),\n",
    "    8 : ap.AnalysisPeriod(st_month=8, end_month=8)\n",
    "}"
   ]
  },
  {
   "cell_type": "code",
   "execution_count": 13,
   "metadata": {},
   "outputs": [],
   "source": [
    "def create_analysis_period(num):\n",
    "    return ap.AnalysisPeriod(st_month=num, end_month=num)"
   ]
  },
  {
   "cell_type": "code",
   "execution_count": 24,
   "metadata": {},
   "outputs": [],
   "source": [
    "def temp_vs_energy_use_by_month(month_num, month_name):\n",
    "\n",
    "    month = create_analysis_period(month_num)\n",
    "    blueShades = px.colors.qualitative.Vivid[:len(sim_data_hr.keys())]\n",
    "\n",
    "    fig = make_subplots(\n",
    "        rows=1, cols=3,\n",
    "        subplot_titles=(\"Electricity\", \"Hot Water\", \"Chilled Water\"))\n",
    "\n",
    "    # historical/ measured data \n",
    "    for (ix, value) in  enumerate(hist_month_by_hr.values()):\n",
    "        showLegend = True\n",
    "        if ix > 0:\n",
    "            showLegend = False\n",
    "        fig.add_trace(go.Scatter(  \n",
    "            x=temp_month_by_hour_c[month.st_month],\n",
    "            y=value[month.st_month] , \n",
    "            mode='markers',\n",
    "            name=\"Historical\",\n",
    "            legendgroup=\"Months\",\n",
    "            line=dict(color='red'),\n",
    "            showlegend=showLegend),\n",
    "            row=1, col=ix+1)\n",
    "\n",
    "    # simulated datasets \n",
    "    for (name, dataset), blueShade in zip(sim_data_hr.items(), blueShades):\n",
    "        for (ix, sim), hist in zip(enumerate(dataset.values()),hist_month_by_hr.values()) :\n",
    "            showLegend = True\n",
    "            if ix > 0:\n",
    "                showLegend = False\n",
    "            fig.add_trace(go.Scatter( \n",
    "                x=temp_month_by_hour_c[month.st_month],\n",
    "                y=sim.filter_by_analysis_period(month).values , \n",
    "                mode='markers',\n",
    "                name=name,\n",
    "                legendgroup=\"Months\",\n",
    "                line=dict(color=blueShade),\n",
    "                showlegend=showLegend),\n",
    "                row=1, col=ix+1)\n",
    "\n",
    "    fig.update_layout(title=f\"{month_name} Average Hourly Energy Usage\",\n",
    "        yaxis_title=\"Energy (kWh)\",)\n",
    "   \n",
    "   # calculate metrics \n",
    "    # metrics = {}\n",
    "    # for name, dataset in sim_data_hr.items():\n",
    "    #     type_dict = {}\n",
    "    #     for (k, sim), hist in zip(dataset.items(), hist_month_by_hr.values()):\n",
    "    #         type_dict[k] = calc_metrics(sim.filter_by_analysis_period(month).values, hist[month.st_month])\n",
    "    #     metrics[name] = type_dict\n",
    "    # metrics = pd.DataFrame(metrics)\n",
    "    # display(metrics)\n",
    "\n",
    "    fig.show()"
   ]
  },
  {
   "cell_type": "code",
   "execution_count": 25,
   "metadata": {},
   "outputs": [
    {
     "data": {
      "application/vnd.plotly.v1+json": {
       "config": {
        "plotlyServerURL": "https://plot.ly"
       },
       "data": [
        {
         "legendgroup": "Months",
         "line": {
          "color": "red"
         },
         "mode": "markers",
         "name": "Historical",
         "showlegend": true,
         "type": "scatter",
         "x": [
          10.103225806451615,
          9.764516129032256,
          9.464516129032257,
          9.148387096774195,
          8.841935483870971,
          8.522580645161288,
          8.60967741935484,
          9.174193548387098,
          10.325806451612904,
          11.900000000000002,
          12.887096774193548,
          13.716129032258065,
          14.229032258064516,
          14.883870967741935,
          15.087096774193553,
          14.764516129032259,
          13.86774193548387,
          12.712903225806455,
          11.919354838709678,
          11.422580645161291,
          11.451612903225806,
          11.138709677419355,
          10.829032258064517,
          10.51290322580645
         ],
         "xaxis": "x",
         "y": [
          10.445598790499998,
          9.2416383074,
          8.874816805266667,
          8.7830586272,
          8.677413943200001,
          18.56520901133333,
          19.266101268,
          20.56941342,
          23.168180941333333,
          24.68626951,
          25.08982277733333,
          24.383022519333334,
          24.349052503,
          24.656402777741935,
          24.616485940322583,
          24.78195195258065,
          25.086097285483874,
          23.08691142935484,
          21.63350797387097,
          21.335701891612903,
          20.889391399032256,
          17.663702921935485,
          11.555328094193548,
          11.183150471645162
         ],
         "yaxis": "y"
        },
        {
         "legendgroup": "Months",
         "line": {
          "color": "red"
         },
         "mode": "markers",
         "name": "Historical",
         "showlegend": false,
         "type": "scatter",
         "x": [
          10.103225806451615,
          9.764516129032256,
          9.464516129032257,
          9.148387096774195,
          8.841935483870971,
          8.522580645161288,
          8.60967741935484,
          9.174193548387098,
          10.325806451612904,
          11.900000000000002,
          12.887096774193548,
          13.716129032258065,
          14.229032258064516,
          14.883870967741935,
          15.087096774193553,
          14.764516129032259,
          13.86774193548387,
          12.712903225806455,
          11.919354838709678,
          11.422580645161291,
          11.451612903225806,
          11.138709677419355,
          10.829032258064517,
          10.51290322580645
         ],
         "xaxis": "x2",
         "y": [
          0.014207805663833529,
          0,
          0,
          0,
          0,
          0,
          40.130443250488476,
          34.95929930636967,
          30.30292237915201,
          23.838808842028136,
          18.13165462443826,
          14.448446145296014,
          13.560891605890975,
          14.869222697878456,
          14.410466286162691,
          13.142191555898536,
          13.150263351099534,
          15.724575130232955,
          16.18587135470635,
          16.06825405579454,
          15.954133561809837,
          17.335374037554836,
          1.852286931751787,
          0.08734274489940627
         ],
         "yaxis": "y2"
        },
        {
         "legendgroup": "Months",
         "line": {
          "color": "red"
         },
         "mode": "markers",
         "name": "Historical",
         "showlegend": false,
         "type": "scatter",
         "x": [
          10.103225806451615,
          9.764516129032256,
          9.464516129032257,
          9.148387096774195,
          8.841935483870971,
          8.522580645161288,
          8.60967741935484,
          9.174193548387098,
          10.325806451612904,
          11.900000000000002,
          12.887096774193548,
          13.716129032258065,
          14.229032258064516,
          14.883870967741935,
          15.087096774193553,
          14.764516129032259,
          13.86774193548387,
          12.712903225806455,
          11.919354838709678,
          11.422580645161291,
          11.451612903225806,
          11.138709677419355,
          10.829032258064517,
          10.51290322580645
         ],
         "xaxis": "x3",
         "y": [
          0.668060851757385,
          0.7010742719440101,
          0.7055875789090176,
          0.6429965413715201,
          0.61799657507437,
          0.6411705733098625,
          0.6115906288555676,
          0.5107869228030101,
          0.64049503757431,
          0.7064181211328451,
          0.8752654379373951,
          2.0646321961557503,
          2.35192504937721,
          4.33846987459807,
          4.325862853350063,
          4.809306524053384,
          5.244935592208111,
          4.151390390849957,
          2.4633392152383875,
          1.9289817575012953,
          1.4681314617954921,
          0.7884719412434661,
          0.6522769486103129,
          0.687914992032704
         ],
         "yaxis": "y3"
        },
        {
         "legendgroup": "Months",
         "line": {
          "color": "rgb(229, 134, 6)"
         },
         "mode": "markers",
         "name": "03-06_00-eh-6",
         "showlegend": true,
         "type": "scatter",
         "x": [
          10.103225806451615,
          9.764516129032256,
          9.464516129032257,
          9.148387096774195,
          8.841935483870971,
          8.522580645161288,
          8.60967741935484,
          9.174193548387098,
          10.325806451612904,
          11.900000000000002,
          12.887096774193548,
          13.716129032258065,
          14.229032258064516,
          14.883870967741935,
          15.087096774193553,
          14.764516129032259,
          13.86774193548387,
          12.712903225806455,
          11.919354838709678,
          11.422580645161291,
          11.451612903225806,
          11.138709677419355,
          10.829032258064517,
          10.51290322580645
         ],
         "xaxis": "x",
         "y": [
          5.409736551907522,
          5.411400326781173,
          5.413793924056159,
          5.416656587212917,
          5.419845997324535,
          5.912730868155551,
          6.205241354235805,
          8.134601715848818,
          19.031828579010064,
          19.115447544678506,
          19.20657859379695,
          19.31437804648602,
          18.221191814828174,
          19.489923601178994,
          18.755605147402914,
          18.800210665965,
          18.80528077162386,
          15.31279512836261,
          11.47746657774911,
          11.473111552882814,
          8.689186402837219,
          8.691456825901586,
          5.898769247667373,
          5.409147299851055
         ],
         "yaxis": "y"
        },
        {
         "legendgroup": "Months",
         "line": {
          "color": "rgb(229, 134, 6)"
         },
         "mode": "markers",
         "name": "03-06_00-eh-6",
         "showlegend": false,
         "type": "scatter",
         "x": [
          10.103225806451615,
          9.764516129032256,
          9.464516129032257,
          9.148387096774195,
          8.841935483870971,
          8.522580645161288,
          8.60967741935484,
          9.174193548387098,
          10.325806451612904,
          11.900000000000002,
          12.887096774193548,
          13.716129032258065,
          14.229032258064516,
          14.883870967741935,
          15.087096774193553,
          14.764516129032259,
          13.86774193548387,
          12.712903225806455,
          11.919354838709678,
          11.422580645161291,
          11.451612903225806,
          11.138709677419355,
          10.829032258064517,
          10.51290322580645
         ],
         "xaxis": "x2",
         "y": [
          3.537490554286576,
          4.329172585332545,
          5.082232022908422,
          5.87774124225903,
          6.687502865424205,
          7.277061449022506,
          18.470295144520517,
          13.78293972827148,
          3.8274013089940286,
          2.234182359706414,
          1.2800586895248127,
          0.7685233031538782,
          0.5500989991049924,
          0.4869044223648583,
          0.7979159920848684,
          0.9622227577766526,
          1.0981055998799045,
          1.7667392371981119,
          0.9040218691036247,
          1.2252997578334837,
          2.7448202304361438,
          3.9365957372116487,
          2.147668906939283,
          2.8328661962715973
         ],
         "yaxis": "y2"
        },
        {
         "legendgroup": "Months",
         "line": {
          "color": "rgb(229, 134, 6)"
         },
         "mode": "markers",
         "name": "03-06_00-eh-6",
         "showlegend": false,
         "type": "scatter",
         "x": [
          10.103225806451615,
          9.764516129032256,
          9.464516129032257,
          9.148387096774195,
          8.841935483870971,
          8.522580645161288,
          8.60967741935484,
          9.174193548387098,
          10.325806451612904,
          11.900000000000002,
          12.887096774193548,
          13.716129032258065,
          14.229032258064516,
          14.883870967741935,
          15.087096774193553,
          14.764516129032259,
          13.86774193548387,
          12.712903225806455,
          11.919354838709678,
          11.422580645161291,
          11.451612903225806,
          11.138709677419355,
          10.829032258064517,
          10.51290322580645
         ],
         "xaxis": "x3",
         "y": [
          0.4831017422376155,
          0.4046620839967795,
          0.3630277383290225,
          0.3298927936633789,
          0.3017193749946476,
          0.2738887489357521,
          0.2800194529293322,
          0.30595763515724217,
          0.4924715485244092,
          0.9439611099211734,
          2.3918104687307813,
          4.531767394669562,
          2.7701242600580116,
          7.941757566399274,
          9.506293309185278,
          9.78859883501561,
          8.865403703349305,
          2.554160851077859,
          1.0774871396588028,
          0.9316771128968016,
          0.9669638525389486,
          0.9050416742793398,
          0.7548204838876945,
          0.6312095235793549
         ],
         "yaxis": "y3"
        }
       ],
       "layout": {
        "annotations": [
         {
          "font": {
           "size": 16
          },
          "showarrow": false,
          "text": "Electricity",
          "x": 0.14444444444444446,
          "xanchor": "center",
          "xref": "paper",
          "y": 1,
          "yanchor": "bottom",
          "yref": "paper"
         },
         {
          "font": {
           "size": 16
          },
          "showarrow": false,
          "text": "Hot Water",
          "x": 0.5,
          "xanchor": "center",
          "xref": "paper",
          "y": 1,
          "yanchor": "bottom",
          "yref": "paper"
         },
         {
          "font": {
           "size": 16
          },
          "showarrow": false,
          "text": "Chilled Water",
          "x": 0.8555555555555556,
          "xanchor": "center",
          "xref": "paper",
          "y": 1,
          "yanchor": "bottom",
          "yref": "paper"
         }
        ],
        "template": {
         "data": {
          "bar": [
           {
            "error_x": {
             "color": "#2a3f5f"
            },
            "error_y": {
             "color": "#2a3f5f"
            },
            "marker": {
             "line": {
              "color": "#E5ECF6",
              "width": 0.5
             },
             "pattern": {
              "fillmode": "overlay",
              "size": 10,
              "solidity": 0.2
             }
            },
            "type": "bar"
           }
          ],
          "barpolar": [
           {
            "marker": {
             "line": {
              "color": "#E5ECF6",
              "width": 0.5
             },
             "pattern": {
              "fillmode": "overlay",
              "size": 10,
              "solidity": 0.2
             }
            },
            "type": "barpolar"
           }
          ],
          "carpet": [
           {
            "aaxis": {
             "endlinecolor": "#2a3f5f",
             "gridcolor": "white",
             "linecolor": "white",
             "minorgridcolor": "white",
             "startlinecolor": "#2a3f5f"
            },
            "baxis": {
             "endlinecolor": "#2a3f5f",
             "gridcolor": "white",
             "linecolor": "white",
             "minorgridcolor": "white",
             "startlinecolor": "#2a3f5f"
            },
            "type": "carpet"
           }
          ],
          "choropleth": [
           {
            "colorbar": {
             "outlinewidth": 0,
             "ticks": ""
            },
            "type": "choropleth"
           }
          ],
          "contour": [
           {
            "colorbar": {
             "outlinewidth": 0,
             "ticks": ""
            },
            "colorscale": [
             [
              0,
              "#0d0887"
             ],
             [
              0.1111111111111111,
              "#46039f"
             ],
             [
              0.2222222222222222,
              "#7201a8"
             ],
             [
              0.3333333333333333,
              "#9c179e"
             ],
             [
              0.4444444444444444,
              "#bd3786"
             ],
             [
              0.5555555555555556,
              "#d8576b"
             ],
             [
              0.6666666666666666,
              "#ed7953"
             ],
             [
              0.7777777777777778,
              "#fb9f3a"
             ],
             [
              0.8888888888888888,
              "#fdca26"
             ],
             [
              1,
              "#f0f921"
             ]
            ],
            "type": "contour"
           }
          ],
          "contourcarpet": [
           {
            "colorbar": {
             "outlinewidth": 0,
             "ticks": ""
            },
            "type": "contourcarpet"
           }
          ],
          "heatmap": [
           {
            "colorbar": {
             "outlinewidth": 0,
             "ticks": ""
            },
            "colorscale": [
             [
              0,
              "#0d0887"
             ],
             [
              0.1111111111111111,
              "#46039f"
             ],
             [
              0.2222222222222222,
              "#7201a8"
             ],
             [
              0.3333333333333333,
              "#9c179e"
             ],
             [
              0.4444444444444444,
              "#bd3786"
             ],
             [
              0.5555555555555556,
              "#d8576b"
             ],
             [
              0.6666666666666666,
              "#ed7953"
             ],
             [
              0.7777777777777778,
              "#fb9f3a"
             ],
             [
              0.8888888888888888,
              "#fdca26"
             ],
             [
              1,
              "#f0f921"
             ]
            ],
            "type": "heatmap"
           }
          ],
          "heatmapgl": [
           {
            "colorbar": {
             "outlinewidth": 0,
             "ticks": ""
            },
            "colorscale": [
             [
              0,
              "#0d0887"
             ],
             [
              0.1111111111111111,
              "#46039f"
             ],
             [
              0.2222222222222222,
              "#7201a8"
             ],
             [
              0.3333333333333333,
              "#9c179e"
             ],
             [
              0.4444444444444444,
              "#bd3786"
             ],
             [
              0.5555555555555556,
              "#d8576b"
             ],
             [
              0.6666666666666666,
              "#ed7953"
             ],
             [
              0.7777777777777778,
              "#fb9f3a"
             ],
             [
              0.8888888888888888,
              "#fdca26"
             ],
             [
              1,
              "#f0f921"
             ]
            ],
            "type": "heatmapgl"
           }
          ],
          "histogram": [
           {
            "marker": {
             "pattern": {
              "fillmode": "overlay",
              "size": 10,
              "solidity": 0.2
             }
            },
            "type": "histogram"
           }
          ],
          "histogram2d": [
           {
            "colorbar": {
             "outlinewidth": 0,
             "ticks": ""
            },
            "colorscale": [
             [
              0,
              "#0d0887"
             ],
             [
              0.1111111111111111,
              "#46039f"
             ],
             [
              0.2222222222222222,
              "#7201a8"
             ],
             [
              0.3333333333333333,
              "#9c179e"
             ],
             [
              0.4444444444444444,
              "#bd3786"
             ],
             [
              0.5555555555555556,
              "#d8576b"
             ],
             [
              0.6666666666666666,
              "#ed7953"
             ],
             [
              0.7777777777777778,
              "#fb9f3a"
             ],
             [
              0.8888888888888888,
              "#fdca26"
             ],
             [
              1,
              "#f0f921"
             ]
            ],
            "type": "histogram2d"
           }
          ],
          "histogram2dcontour": [
           {
            "colorbar": {
             "outlinewidth": 0,
             "ticks": ""
            },
            "colorscale": [
             [
              0,
              "#0d0887"
             ],
             [
              0.1111111111111111,
              "#46039f"
             ],
             [
              0.2222222222222222,
              "#7201a8"
             ],
             [
              0.3333333333333333,
              "#9c179e"
             ],
             [
              0.4444444444444444,
              "#bd3786"
             ],
             [
              0.5555555555555556,
              "#d8576b"
             ],
             [
              0.6666666666666666,
              "#ed7953"
             ],
             [
              0.7777777777777778,
              "#fb9f3a"
             ],
             [
              0.8888888888888888,
              "#fdca26"
             ],
             [
              1,
              "#f0f921"
             ]
            ],
            "type": "histogram2dcontour"
           }
          ],
          "mesh3d": [
           {
            "colorbar": {
             "outlinewidth": 0,
             "ticks": ""
            },
            "type": "mesh3d"
           }
          ],
          "parcoords": [
           {
            "line": {
             "colorbar": {
              "outlinewidth": 0,
              "ticks": ""
             }
            },
            "type": "parcoords"
           }
          ],
          "pie": [
           {
            "automargin": true,
            "type": "pie"
           }
          ],
          "scatter": [
           {
            "marker": {
             "colorbar": {
              "outlinewidth": 0,
              "ticks": ""
             }
            },
            "type": "scatter"
           }
          ],
          "scatter3d": [
           {
            "line": {
             "colorbar": {
              "outlinewidth": 0,
              "ticks": ""
             }
            },
            "marker": {
             "colorbar": {
              "outlinewidth": 0,
              "ticks": ""
             }
            },
            "type": "scatter3d"
           }
          ],
          "scattercarpet": [
           {
            "marker": {
             "colorbar": {
              "outlinewidth": 0,
              "ticks": ""
             }
            },
            "type": "scattercarpet"
           }
          ],
          "scattergeo": [
           {
            "marker": {
             "colorbar": {
              "outlinewidth": 0,
              "ticks": ""
             }
            },
            "type": "scattergeo"
           }
          ],
          "scattergl": [
           {
            "marker": {
             "colorbar": {
              "outlinewidth": 0,
              "ticks": ""
             }
            },
            "type": "scattergl"
           }
          ],
          "scattermapbox": [
           {
            "marker": {
             "colorbar": {
              "outlinewidth": 0,
              "ticks": ""
             }
            },
            "type": "scattermapbox"
           }
          ],
          "scatterpolar": [
           {
            "marker": {
             "colorbar": {
              "outlinewidth": 0,
              "ticks": ""
             }
            },
            "type": "scatterpolar"
           }
          ],
          "scatterpolargl": [
           {
            "marker": {
             "colorbar": {
              "outlinewidth": 0,
              "ticks": ""
             }
            },
            "type": "scatterpolargl"
           }
          ],
          "scatterternary": [
           {
            "marker": {
             "colorbar": {
              "outlinewidth": 0,
              "ticks": ""
             }
            },
            "type": "scatterternary"
           }
          ],
          "surface": [
           {
            "colorbar": {
             "outlinewidth": 0,
             "ticks": ""
            },
            "colorscale": [
             [
              0,
              "#0d0887"
             ],
             [
              0.1111111111111111,
              "#46039f"
             ],
             [
              0.2222222222222222,
              "#7201a8"
             ],
             [
              0.3333333333333333,
              "#9c179e"
             ],
             [
              0.4444444444444444,
              "#bd3786"
             ],
             [
              0.5555555555555556,
              "#d8576b"
             ],
             [
              0.6666666666666666,
              "#ed7953"
             ],
             [
              0.7777777777777778,
              "#fb9f3a"
             ],
             [
              0.8888888888888888,
              "#fdca26"
             ],
             [
              1,
              "#f0f921"
             ]
            ],
            "type": "surface"
           }
          ],
          "table": [
           {
            "cells": {
             "fill": {
              "color": "#EBF0F8"
             },
             "line": {
              "color": "white"
             }
            },
            "header": {
             "fill": {
              "color": "#C8D4E3"
             },
             "line": {
              "color": "white"
             }
            },
            "type": "table"
           }
          ]
         },
         "layout": {
          "annotationdefaults": {
           "arrowcolor": "#2a3f5f",
           "arrowhead": 0,
           "arrowwidth": 1
          },
          "autotypenumbers": "strict",
          "coloraxis": {
           "colorbar": {
            "outlinewidth": 0,
            "ticks": ""
           }
          },
          "colorscale": {
           "diverging": [
            [
             0,
             "#8e0152"
            ],
            [
             0.1,
             "#c51b7d"
            ],
            [
             0.2,
             "#de77ae"
            ],
            [
             0.3,
             "#f1b6da"
            ],
            [
             0.4,
             "#fde0ef"
            ],
            [
             0.5,
             "#f7f7f7"
            ],
            [
             0.6,
             "#e6f5d0"
            ],
            [
             0.7,
             "#b8e186"
            ],
            [
             0.8,
             "#7fbc41"
            ],
            [
             0.9,
             "#4d9221"
            ],
            [
             1,
             "#276419"
            ]
           ],
           "sequential": [
            [
             0,
             "#0d0887"
            ],
            [
             0.1111111111111111,
             "#46039f"
            ],
            [
             0.2222222222222222,
             "#7201a8"
            ],
            [
             0.3333333333333333,
             "#9c179e"
            ],
            [
             0.4444444444444444,
             "#bd3786"
            ],
            [
             0.5555555555555556,
             "#d8576b"
            ],
            [
             0.6666666666666666,
             "#ed7953"
            ],
            [
             0.7777777777777778,
             "#fb9f3a"
            ],
            [
             0.8888888888888888,
             "#fdca26"
            ],
            [
             1,
             "#f0f921"
            ]
           ],
           "sequentialminus": [
            [
             0,
             "#0d0887"
            ],
            [
             0.1111111111111111,
             "#46039f"
            ],
            [
             0.2222222222222222,
             "#7201a8"
            ],
            [
             0.3333333333333333,
             "#9c179e"
            ],
            [
             0.4444444444444444,
             "#bd3786"
            ],
            [
             0.5555555555555556,
             "#d8576b"
            ],
            [
             0.6666666666666666,
             "#ed7953"
            ],
            [
             0.7777777777777778,
             "#fb9f3a"
            ],
            [
             0.8888888888888888,
             "#fdca26"
            ],
            [
             1,
             "#f0f921"
            ]
           ]
          },
          "colorway": [
           "#636efa",
           "#EF553B",
           "#00cc96",
           "#ab63fa",
           "#FFA15A",
           "#19d3f3",
           "#FF6692",
           "#B6E880",
           "#FF97FF",
           "#FECB52"
          ],
          "font": {
           "color": "#2a3f5f"
          },
          "geo": {
           "bgcolor": "white",
           "lakecolor": "white",
           "landcolor": "#E5ECF6",
           "showlakes": true,
           "showland": true,
           "subunitcolor": "white"
          },
          "hoverlabel": {
           "align": "left"
          },
          "hovermode": "closest",
          "mapbox": {
           "style": "light"
          },
          "paper_bgcolor": "white",
          "plot_bgcolor": "#E5ECF6",
          "polar": {
           "angularaxis": {
            "gridcolor": "white",
            "linecolor": "white",
            "ticks": ""
           },
           "bgcolor": "#E5ECF6",
           "radialaxis": {
            "gridcolor": "white",
            "linecolor": "white",
            "ticks": ""
           }
          },
          "scene": {
           "xaxis": {
            "backgroundcolor": "#E5ECF6",
            "gridcolor": "white",
            "gridwidth": 2,
            "linecolor": "white",
            "showbackground": true,
            "ticks": "",
            "zerolinecolor": "white"
           },
           "yaxis": {
            "backgroundcolor": "#E5ECF6",
            "gridcolor": "white",
            "gridwidth": 2,
            "linecolor": "white",
            "showbackground": true,
            "ticks": "",
            "zerolinecolor": "white"
           },
           "zaxis": {
            "backgroundcolor": "#E5ECF6",
            "gridcolor": "white",
            "gridwidth": 2,
            "linecolor": "white",
            "showbackground": true,
            "ticks": "",
            "zerolinecolor": "white"
           }
          },
          "shapedefaults": {
           "line": {
            "color": "#2a3f5f"
           }
          },
          "ternary": {
           "aaxis": {
            "gridcolor": "white",
            "linecolor": "white",
            "ticks": ""
           },
           "baxis": {
            "gridcolor": "white",
            "linecolor": "white",
            "ticks": ""
           },
           "bgcolor": "#E5ECF6",
           "caxis": {
            "gridcolor": "white",
            "linecolor": "white",
            "ticks": ""
           }
          },
          "title": {
           "x": 0.05
          },
          "xaxis": {
           "automargin": true,
           "gridcolor": "white",
           "linecolor": "white",
           "ticks": "",
           "title": {
            "standoff": 15
           },
           "zerolinecolor": "white",
           "zerolinewidth": 2
          },
          "yaxis": {
           "automargin": true,
           "gridcolor": "white",
           "linecolor": "white",
           "ticks": "",
           "title": {
            "standoff": 15
           },
           "zerolinecolor": "white",
           "zerolinewidth": 2
          }
         }
        },
        "title": {
         "text": "Jan Average Hourly Energy Usage"
        },
        "xaxis": {
         "anchor": "y",
         "domain": [
          0,
          0.2888888888888889
         ]
        },
        "xaxis2": {
         "anchor": "y2",
         "domain": [
          0.35555555555555557,
          0.6444444444444445
         ]
        },
        "xaxis3": {
         "anchor": "y3",
         "domain": [
          0.7111111111111111,
          1
         ]
        },
        "yaxis": {
         "anchor": "x",
         "domain": [
          0,
          1
         ],
         "title": {
          "text": "Energy (kWh)"
         }
        },
        "yaxis2": {
         "anchor": "x2",
         "domain": [
          0,
          1
         ]
        },
        "yaxis3": {
         "anchor": "x3",
         "domain": [
          0,
          1
         ]
        }
       }
      }
     },
     "metadata": {},
     "output_type": "display_data"
    }
   ],
   "source": [
    "temp_vs_energy_use_by_month(1, \"Jan\")"
   ]
  },
  {
   "cell_type": "code",
   "execution_count": 16,
   "metadata": {},
   "outputs": [
    {
     "name": "stdout",
     "output_type": "stream",
     "text": [
      "Updated end_day from 31 to 30\n"
     ]
    },
    {
     "data": {
      "application/vnd.plotly.v1+json": {
       "config": {
        "plotlyServerURL": "https://plot.ly"
       },
       "data": [
        {
         "legendgroup": "Months",
         "line": {
          "color": "red"
         },
         "mode": "markers",
         "name": "Historical",
         "showlegend": true,
         "type": "scatter",
         "x": [
          16.89666666666667,
          16.546666666666667,
          16.183333333333337,
          15.823333333333334,
          15.449999999999998,
          15.836666666666668,
          16.883333333333333,
          18.196666666666662,
          19.453333333333337,
          20.696666666666662,
          21.773333333333337,
          22.77333333333333,
          23.30666666666667,
          23.630000000000006,
          23.656666666666673,
          23.220000000000006,
          22.37333333333333,
          21.233333333333334,
          19.400000000000002,
          18.190000000000005,
          18.383333333333336,
          18.03333333333333,
          17.65666666666667,
          17.293333333333333
         ],
         "xaxis": "x",
         "y": [
          8.877559123133333,
          8.481863224733333,
          8.541755104766667,
          8.535866474433334,
          8.428914911933333,
          16.15890849133333,
          17.949964077,
          17.858919033666666,
          18.384553829,
          19.153031902666665,
          19.779739338000002,
          19.373372838333335,
          20.268077292,
          20.578564417666666,
          20.094892358666666,
          20.020098299666664,
          19.616678189333335,
          19.591453696333335,
          19.053214693333334,
          19.43114749733333,
          19.539437034666665,
          16.277316982,
          10.6010534177,
          9.49526153
         ],
         "yaxis": "y"
        },
        {
         "legendgroup": "Months",
         "line": {
          "color": "red"
         },
         "mode": "markers",
         "name": "Historical",
         "showlegend": false,
         "type": "scatter",
         "x": [
          16.89666666666667,
          16.546666666666667,
          16.183333333333337,
          15.823333333333334,
          15.449999999999998,
          15.836666666666668,
          16.883333333333333,
          18.196666666666662,
          19.453333333333337,
          20.696666666666662,
          21.773333333333337,
          22.77333333333333,
          23.30666666666667,
          23.630000000000006,
          23.656666666666673,
          23.220000000000006,
          22.37333333333333,
          21.233333333333334,
          19.400000000000002,
          18.190000000000005,
          18.383333333333336,
          18.03333333333333,
          17.65666666666667,
          17.293333333333333
         ],
         "xaxis": "x2",
         "y": [
          2.294622725713169,
          3.0903812027818485,
          2.3916296365767877,
          2.496282672357366,
          2.758410327486323,
          2.4222429951787805,
          12.520282914204767,
          7.449147295525596,
          6.133565082879055,
          3.971309290933959,
          3.276093208316237,
          2.788112858885307,
          2.639117388862837,
          2.135806534603361,
          3.1231617398422236,
          2.6674237740548064,
          4.23487147614791,
          4.04782885839195,
          4.4744501908191685,
          4.000945280273056,
          5.93059072779406,
          5.351617041432201,
          1.911714138176534,
          1.653035531044842
         ],
         "yaxis": "y2"
        },
        {
         "legendgroup": "Months",
         "line": {
          "color": "red"
         },
         "mode": "markers",
         "name": "Historical",
         "showlegend": false,
         "type": "scatter",
         "x": [
          16.89666666666667,
          16.546666666666667,
          16.183333333333337,
          15.823333333333334,
          15.449999999999998,
          15.836666666666668,
          16.883333333333333,
          18.196666666666662,
          19.453333333333337,
          20.696666666666662,
          21.773333333333337,
          22.77333333333333,
          23.30666666666667,
          23.630000000000006,
          23.656666666666673,
          23.220000000000006,
          22.37333333333333,
          21.233333333333334,
          19.400000000000002,
          18.190000000000005,
          18.383333333333336,
          18.03333333333333,
          17.65666666666667,
          17.293333333333333
         ],
         "xaxis": "x3",
         "y": [
          2.9542344471317974,
          1.6880252013253951,
          1.562379945303665,
          1.5292675670244524,
          1.3868448525387551,
          1.3241696957941476,
          4.961938937256607,
          7.1187111025007255,
          7.554426689468958,
          10.10173627637583,
          12.84438930038467,
          15.425771965596601,
          15.55789293589418,
          20.237305135528782,
          26.4246226395007,
          29.243765318339552,
          32.41709529104115,
          32.82758398546888,
          29.226836878889664,
          24.330156080424544,
          19.55027610210881,
          15.525887636089012,
          4.486170138329912,
          2.5951450327868577
         ],
         "yaxis": "y3"
        },
        {
         "legendgroup": "Months",
         "line": {
          "color": "rgb(229, 134, 6)"
         },
         "mode": "lines+markers",
         "name": "03-06_00-eh-6",
         "showlegend": true,
         "type": "scatter",
         "x": [
          16.89666666666667,
          16.546666666666667,
          16.183333333333337,
          15.823333333333334,
          15.449999999999998,
          15.836666666666668,
          16.883333333333333,
          18.196666666666662,
          19.453333333333337,
          20.696666666666662,
          21.773333333333337,
          22.77333333333333,
          23.30666666666667,
          23.630000000000006,
          23.656666666666673,
          23.220000000000006,
          22.37333333333333,
          21.233333333333334,
          19.400000000000002,
          18.190000000000005,
          18.383333333333336,
          18.03333333333333,
          17.65666666666667,
          17.293333333333333
         ],
         "xaxis": "x",
         "y": [
          5.365013497637387,
          5.359845827830109,
          5.355466097313319,
          5.351328021448333,
          5.347351304146688,
          5.788552007723256,
          6.116722395243108,
          7.869644368625815,
          18.434357629839802,
          18.72341934983117,
          19.06226118743147,
          19.367065171441435,
          17.922584156939685,
          19.54477064095728,
          18.54223265567099,
          18.58887514460273,
          18.618518892732943,
          15.079199580442124,
          11.094974145758671,
          10.996616891413103,
          8.359516047069272,
          8.346322235477762,
          5.81600453730196,
          5.370702057658962
         ],
         "yaxis": "y"
        },
        {
         "legendgroup": "Months",
         "line": {
          "color": "rgb(229, 134, 6)"
         },
         "mode": "lines+markers",
         "name": "03-06_00-eh-6",
         "showlegend": false,
         "type": "scatter",
         "x": [
          16.89666666666667,
          16.546666666666667,
          16.183333333333337,
          15.823333333333334,
          15.449999999999998,
          15.836666666666668,
          16.883333333333333,
          18.196666666666662,
          19.453333333333337,
          20.696666666666662,
          21.773333333333337,
          22.77333333333333,
          23.30666666666667,
          23.630000000000006,
          23.656666666666673,
          23.220000000000006,
          22.37333333333333,
          21.233333333333334,
          19.400000000000002,
          18.190000000000005,
          18.383333333333336,
          18.03333333333333,
          17.65666666666667,
          17.293333333333333
         ],
         "xaxis": "x2",
         "y": [
          0.06359125265513793,
          0.09964064240363493,
          0.16657291726759377,
          0.27200674457714435,
          0.3935887895580287,
          0.3010401330000966,
          6.26909605453588,
          1.277248868692477,
          0.062158936281219365,
          0.03504006290276485,
          0.01649396720909288,
          0.008545812268229588,
          0.0023526434121623526,
          0,
          0.005866379959924307,
          0.05856152045456199,
          0.10685304222563262,
          0.6636089781544864,
          0,
          0,
          0.006260884959627253,
          0.02324346129608294,
          0.06113017160886856,
          0.11358632357152176
         ],
         "yaxis": "y2"
        },
        {
         "legendgroup": "Months",
         "line": {
          "color": "rgb(229, 134, 6)"
         },
         "mode": "lines+markers",
         "name": "03-06_00-eh-6",
         "showlegend": false,
         "type": "scatter",
         "x": [
          16.89666666666667,
          16.546666666666667,
          16.183333333333337,
          15.823333333333334,
          15.449999999999998,
          15.836666666666668,
          16.883333333333333,
          18.196666666666662,
          19.453333333333337,
          20.696666666666662,
          21.773333333333337,
          22.77333333333333,
          23.30666666666667,
          23.630000000000006,
          23.656666666666673,
          23.220000000000006,
          22.37333333333333,
          21.233333333333334,
          19.400000000000002,
          18.190000000000005,
          18.383333333333336,
          18.03333333333333,
          17.65666666666667,
          17.293333333333333
         ],
         "xaxis": "x3",
         "y": [
          6.525915253256203,
          5.8817663733117795,
          5.311853135475218,
          4.769528142390077,
          4.247439414422169,
          4.265140223984461,
          5.26634299530459,
          6.970024133716016,
          18.615145537643965,
          26.95644733687035,
          32.60917120050812,
          36.406064364550225,
          29.598483702981316,
          40.74752868673313,
          41.1025107711907,
          40.564200951642825,
          38.60932891678992,
          28.684969324902568,
          16.91925177482992,
          13.140146300151004,
          9.955103537998246,
          9.322060939295673,
          7.954222166701514,
          7.219096899294125
         ],
         "yaxis": "y3"
        }
       ],
       "layout": {
        "annotations": [
         {
          "font": {
           "size": 16
          },
          "showarrow": false,
          "text": "Electricity",
          "x": 0.14444444444444446,
          "xanchor": "center",
          "xref": "paper",
          "y": 1,
          "yanchor": "bottom",
          "yref": "paper"
         },
         {
          "font": {
           "size": 16
          },
          "showarrow": false,
          "text": "Hot Water",
          "x": 0.5,
          "xanchor": "center",
          "xref": "paper",
          "y": 1,
          "yanchor": "bottom",
          "yref": "paper"
         },
         {
          "font": {
           "size": 16
          },
          "showarrow": false,
          "text": "Chilled Water",
          "x": 0.8555555555555556,
          "xanchor": "center",
          "xref": "paper",
          "y": 1,
          "yanchor": "bottom",
          "yref": "paper"
         }
        ],
        "template": {
         "data": {
          "bar": [
           {
            "error_x": {
             "color": "#2a3f5f"
            },
            "error_y": {
             "color": "#2a3f5f"
            },
            "marker": {
             "line": {
              "color": "#E5ECF6",
              "width": 0.5
             },
             "pattern": {
              "fillmode": "overlay",
              "size": 10,
              "solidity": 0.2
             }
            },
            "type": "bar"
           }
          ],
          "barpolar": [
           {
            "marker": {
             "line": {
              "color": "#E5ECF6",
              "width": 0.5
             },
             "pattern": {
              "fillmode": "overlay",
              "size": 10,
              "solidity": 0.2
             }
            },
            "type": "barpolar"
           }
          ],
          "carpet": [
           {
            "aaxis": {
             "endlinecolor": "#2a3f5f",
             "gridcolor": "white",
             "linecolor": "white",
             "minorgridcolor": "white",
             "startlinecolor": "#2a3f5f"
            },
            "baxis": {
             "endlinecolor": "#2a3f5f",
             "gridcolor": "white",
             "linecolor": "white",
             "minorgridcolor": "white",
             "startlinecolor": "#2a3f5f"
            },
            "type": "carpet"
           }
          ],
          "choropleth": [
           {
            "colorbar": {
             "outlinewidth": 0,
             "ticks": ""
            },
            "type": "choropleth"
           }
          ],
          "contour": [
           {
            "colorbar": {
             "outlinewidth": 0,
             "ticks": ""
            },
            "colorscale": [
             [
              0,
              "#0d0887"
             ],
             [
              0.1111111111111111,
              "#46039f"
             ],
             [
              0.2222222222222222,
              "#7201a8"
             ],
             [
              0.3333333333333333,
              "#9c179e"
             ],
             [
              0.4444444444444444,
              "#bd3786"
             ],
             [
              0.5555555555555556,
              "#d8576b"
             ],
             [
              0.6666666666666666,
              "#ed7953"
             ],
             [
              0.7777777777777778,
              "#fb9f3a"
             ],
             [
              0.8888888888888888,
              "#fdca26"
             ],
             [
              1,
              "#f0f921"
             ]
            ],
            "type": "contour"
           }
          ],
          "contourcarpet": [
           {
            "colorbar": {
             "outlinewidth": 0,
             "ticks": ""
            },
            "type": "contourcarpet"
           }
          ],
          "heatmap": [
           {
            "colorbar": {
             "outlinewidth": 0,
             "ticks": ""
            },
            "colorscale": [
             [
              0,
              "#0d0887"
             ],
             [
              0.1111111111111111,
              "#46039f"
             ],
             [
              0.2222222222222222,
              "#7201a8"
             ],
             [
              0.3333333333333333,
              "#9c179e"
             ],
             [
              0.4444444444444444,
              "#bd3786"
             ],
             [
              0.5555555555555556,
              "#d8576b"
             ],
             [
              0.6666666666666666,
              "#ed7953"
             ],
             [
              0.7777777777777778,
              "#fb9f3a"
             ],
             [
              0.8888888888888888,
              "#fdca26"
             ],
             [
              1,
              "#f0f921"
             ]
            ],
            "type": "heatmap"
           }
          ],
          "heatmapgl": [
           {
            "colorbar": {
             "outlinewidth": 0,
             "ticks": ""
            },
            "colorscale": [
             [
              0,
              "#0d0887"
             ],
             [
              0.1111111111111111,
              "#46039f"
             ],
             [
              0.2222222222222222,
              "#7201a8"
             ],
             [
              0.3333333333333333,
              "#9c179e"
             ],
             [
              0.4444444444444444,
              "#bd3786"
             ],
             [
              0.5555555555555556,
              "#d8576b"
             ],
             [
              0.6666666666666666,
              "#ed7953"
             ],
             [
              0.7777777777777778,
              "#fb9f3a"
             ],
             [
              0.8888888888888888,
              "#fdca26"
             ],
             [
              1,
              "#f0f921"
             ]
            ],
            "type": "heatmapgl"
           }
          ],
          "histogram": [
           {
            "marker": {
             "pattern": {
              "fillmode": "overlay",
              "size": 10,
              "solidity": 0.2
             }
            },
            "type": "histogram"
           }
          ],
          "histogram2d": [
           {
            "colorbar": {
             "outlinewidth": 0,
             "ticks": ""
            },
            "colorscale": [
             [
              0,
              "#0d0887"
             ],
             [
              0.1111111111111111,
              "#46039f"
             ],
             [
              0.2222222222222222,
              "#7201a8"
             ],
             [
              0.3333333333333333,
              "#9c179e"
             ],
             [
              0.4444444444444444,
              "#bd3786"
             ],
             [
              0.5555555555555556,
              "#d8576b"
             ],
             [
              0.6666666666666666,
              "#ed7953"
             ],
             [
              0.7777777777777778,
              "#fb9f3a"
             ],
             [
              0.8888888888888888,
              "#fdca26"
             ],
             [
              1,
              "#f0f921"
             ]
            ],
            "type": "histogram2d"
           }
          ],
          "histogram2dcontour": [
           {
            "colorbar": {
             "outlinewidth": 0,
             "ticks": ""
            },
            "colorscale": [
             [
              0,
              "#0d0887"
             ],
             [
              0.1111111111111111,
              "#46039f"
             ],
             [
              0.2222222222222222,
              "#7201a8"
             ],
             [
              0.3333333333333333,
              "#9c179e"
             ],
             [
              0.4444444444444444,
              "#bd3786"
             ],
             [
              0.5555555555555556,
              "#d8576b"
             ],
             [
              0.6666666666666666,
              "#ed7953"
             ],
             [
              0.7777777777777778,
              "#fb9f3a"
             ],
             [
              0.8888888888888888,
              "#fdca26"
             ],
             [
              1,
              "#f0f921"
             ]
            ],
            "type": "histogram2dcontour"
           }
          ],
          "mesh3d": [
           {
            "colorbar": {
             "outlinewidth": 0,
             "ticks": ""
            },
            "type": "mesh3d"
           }
          ],
          "parcoords": [
           {
            "line": {
             "colorbar": {
              "outlinewidth": 0,
              "ticks": ""
             }
            },
            "type": "parcoords"
           }
          ],
          "pie": [
           {
            "automargin": true,
            "type": "pie"
           }
          ],
          "scatter": [
           {
            "marker": {
             "colorbar": {
              "outlinewidth": 0,
              "ticks": ""
             }
            },
            "type": "scatter"
           }
          ],
          "scatter3d": [
           {
            "line": {
             "colorbar": {
              "outlinewidth": 0,
              "ticks": ""
             }
            },
            "marker": {
             "colorbar": {
              "outlinewidth": 0,
              "ticks": ""
             }
            },
            "type": "scatter3d"
           }
          ],
          "scattercarpet": [
           {
            "marker": {
             "colorbar": {
              "outlinewidth": 0,
              "ticks": ""
             }
            },
            "type": "scattercarpet"
           }
          ],
          "scattergeo": [
           {
            "marker": {
             "colorbar": {
              "outlinewidth": 0,
              "ticks": ""
             }
            },
            "type": "scattergeo"
           }
          ],
          "scattergl": [
           {
            "marker": {
             "colorbar": {
              "outlinewidth": 0,
              "ticks": ""
             }
            },
            "type": "scattergl"
           }
          ],
          "scattermapbox": [
           {
            "marker": {
             "colorbar": {
              "outlinewidth": 0,
              "ticks": ""
             }
            },
            "type": "scattermapbox"
           }
          ],
          "scatterpolar": [
           {
            "marker": {
             "colorbar": {
              "outlinewidth": 0,
              "ticks": ""
             }
            },
            "type": "scatterpolar"
           }
          ],
          "scatterpolargl": [
           {
            "marker": {
             "colorbar": {
              "outlinewidth": 0,
              "ticks": ""
             }
            },
            "type": "scatterpolargl"
           }
          ],
          "scatterternary": [
           {
            "marker": {
             "colorbar": {
              "outlinewidth": 0,
              "ticks": ""
             }
            },
            "type": "scatterternary"
           }
          ],
          "surface": [
           {
            "colorbar": {
             "outlinewidth": 0,
             "ticks": ""
            },
            "colorscale": [
             [
              0,
              "#0d0887"
             ],
             [
              0.1111111111111111,
              "#46039f"
             ],
             [
              0.2222222222222222,
              "#7201a8"
             ],
             [
              0.3333333333333333,
              "#9c179e"
             ],
             [
              0.4444444444444444,
              "#bd3786"
             ],
             [
              0.5555555555555556,
              "#d8576b"
             ],
             [
              0.6666666666666666,
              "#ed7953"
             ],
             [
              0.7777777777777778,
              "#fb9f3a"
             ],
             [
              0.8888888888888888,
              "#fdca26"
             ],
             [
              1,
              "#f0f921"
             ]
            ],
            "type": "surface"
           }
          ],
          "table": [
           {
            "cells": {
             "fill": {
              "color": "#EBF0F8"
             },
             "line": {
              "color": "white"
             }
            },
            "header": {
             "fill": {
              "color": "#C8D4E3"
             },
             "line": {
              "color": "white"
             }
            },
            "type": "table"
           }
          ]
         },
         "layout": {
          "annotationdefaults": {
           "arrowcolor": "#2a3f5f",
           "arrowhead": 0,
           "arrowwidth": 1
          },
          "autotypenumbers": "strict",
          "coloraxis": {
           "colorbar": {
            "outlinewidth": 0,
            "ticks": ""
           }
          },
          "colorscale": {
           "diverging": [
            [
             0,
             "#8e0152"
            ],
            [
             0.1,
             "#c51b7d"
            ],
            [
             0.2,
             "#de77ae"
            ],
            [
             0.3,
             "#f1b6da"
            ],
            [
             0.4,
             "#fde0ef"
            ],
            [
             0.5,
             "#f7f7f7"
            ],
            [
             0.6,
             "#e6f5d0"
            ],
            [
             0.7,
             "#b8e186"
            ],
            [
             0.8,
             "#7fbc41"
            ],
            [
             0.9,
             "#4d9221"
            ],
            [
             1,
             "#276419"
            ]
           ],
           "sequential": [
            [
             0,
             "#0d0887"
            ],
            [
             0.1111111111111111,
             "#46039f"
            ],
            [
             0.2222222222222222,
             "#7201a8"
            ],
            [
             0.3333333333333333,
             "#9c179e"
            ],
            [
             0.4444444444444444,
             "#bd3786"
            ],
            [
             0.5555555555555556,
             "#d8576b"
            ],
            [
             0.6666666666666666,
             "#ed7953"
            ],
            [
             0.7777777777777778,
             "#fb9f3a"
            ],
            [
             0.8888888888888888,
             "#fdca26"
            ],
            [
             1,
             "#f0f921"
            ]
           ],
           "sequentialminus": [
            [
             0,
             "#0d0887"
            ],
            [
             0.1111111111111111,
             "#46039f"
            ],
            [
             0.2222222222222222,
             "#7201a8"
            ],
            [
             0.3333333333333333,
             "#9c179e"
            ],
            [
             0.4444444444444444,
             "#bd3786"
            ],
            [
             0.5555555555555556,
             "#d8576b"
            ],
            [
             0.6666666666666666,
             "#ed7953"
            ],
            [
             0.7777777777777778,
             "#fb9f3a"
            ],
            [
             0.8888888888888888,
             "#fdca26"
            ],
            [
             1,
             "#f0f921"
            ]
           ]
          },
          "colorway": [
           "#636efa",
           "#EF553B",
           "#00cc96",
           "#ab63fa",
           "#FFA15A",
           "#19d3f3",
           "#FF6692",
           "#B6E880",
           "#FF97FF",
           "#FECB52"
          ],
          "font": {
           "color": "#2a3f5f"
          },
          "geo": {
           "bgcolor": "white",
           "lakecolor": "white",
           "landcolor": "#E5ECF6",
           "showlakes": true,
           "showland": true,
           "subunitcolor": "white"
          },
          "hoverlabel": {
           "align": "left"
          },
          "hovermode": "closest",
          "mapbox": {
           "style": "light"
          },
          "paper_bgcolor": "white",
          "plot_bgcolor": "#E5ECF6",
          "polar": {
           "angularaxis": {
            "gridcolor": "white",
            "linecolor": "white",
            "ticks": ""
           },
           "bgcolor": "#E5ECF6",
           "radialaxis": {
            "gridcolor": "white",
            "linecolor": "white",
            "ticks": ""
           }
          },
          "scene": {
           "xaxis": {
            "backgroundcolor": "#E5ECF6",
            "gridcolor": "white",
            "gridwidth": 2,
            "linecolor": "white",
            "showbackground": true,
            "ticks": "",
            "zerolinecolor": "white"
           },
           "yaxis": {
            "backgroundcolor": "#E5ECF6",
            "gridcolor": "white",
            "gridwidth": 2,
            "linecolor": "white",
            "showbackground": true,
            "ticks": "",
            "zerolinecolor": "white"
           },
           "zaxis": {
            "backgroundcolor": "#E5ECF6",
            "gridcolor": "white",
            "gridwidth": 2,
            "linecolor": "white",
            "showbackground": true,
            "ticks": "",
            "zerolinecolor": "white"
           }
          },
          "shapedefaults": {
           "line": {
            "color": "#2a3f5f"
           }
          },
          "ternary": {
           "aaxis": {
            "gridcolor": "white",
            "linecolor": "white",
            "ticks": ""
           },
           "baxis": {
            "gridcolor": "white",
            "linecolor": "white",
            "ticks": ""
           },
           "bgcolor": "#E5ECF6",
           "caxis": {
            "gridcolor": "white",
            "linecolor": "white",
            "ticks": ""
           }
          },
          "title": {
           "x": 0.05
          },
          "xaxis": {
           "automargin": true,
           "gridcolor": "white",
           "linecolor": "white",
           "ticks": "",
           "title": {
            "standoff": 15
           },
           "zerolinecolor": "white",
           "zerolinewidth": 2
          },
          "yaxis": {
           "automargin": true,
           "gridcolor": "white",
           "linecolor": "white",
           "ticks": "",
           "title": {
            "standoff": 15
           },
           "zerolinecolor": "white",
           "zerolinewidth": 2
          }
         }
        },
        "title": {
         "text": "June Average Hourly Energy Usage"
        },
        "xaxis": {
         "anchor": "y",
         "domain": [
          0,
          0.2888888888888889
         ]
        },
        "xaxis2": {
         "anchor": "y2",
         "domain": [
          0.35555555555555557,
          0.6444444444444445
         ]
        },
        "xaxis3": {
         "anchor": "y3",
         "domain": [
          0.7111111111111111,
          1
         ]
        },
        "yaxis": {
         "anchor": "x",
         "domain": [
          0,
          1
         ],
         "title": {
          "text": "Energy (kWh)"
         }
        },
        "yaxis2": {
         "anchor": "x2",
         "domain": [
          0,
          1
         ]
        },
        "yaxis3": {
         "anchor": "x3",
         "domain": [
          0,
          1
         ]
        }
       }
      }
     },
     "metadata": {},
     "output_type": "display_data"
    }
   ],
   "source": [
    "temp_vs_energy_use_by_month(6, \"June\")"
   ]
  },
  {
   "cell_type": "code",
   "execution_count": 17,
   "metadata": {},
   "outputs": [
    {
     "data": {
      "application/vnd.plotly.v1+json": {
       "config": {
        "plotlyServerURL": "https://plot.ly"
       },
       "data": [
        {
         "legendgroup": "Months",
         "line": {
          "color": "red"
         },
         "mode": "markers",
         "name": "Historical",
         "showlegend": true,
         "type": "scatter",
         "x": [
          17.25161290322581,
          16.88709677419355,
          16.490322580645163,
          16.138709677419353,
          15.738709677419354,
          16.18064516129033,
          17.635483870967743,
          18.97741935483871,
          20.258064516129036,
          21.561290322580646,
          22.793548387096777,
          23.864516129032257,
          24.709677419354843,
          25.183870967741942,
          25.23870967741936,
          24.68064516129032,
          23.477419354838712,
          21.799999999999997,
          19.92258064516129,
          18.693548387096772,
          18.861290322580647,
          18.487096774193553,
          18.083870967741934,
          17.729032258064517
         ],
         "xaxis": "x",
         "y": [
          6.464148979354839,
          6.455228226741935,
          6.507439381741936,
          6.5066610045806454,
          6.369071576129032,
          15.560666905419355,
          18.75624507287097,
          20.88714586967742,
          21.286630807419353,
          21.755446161612902,
          21.61727226548387,
          21.146105519354837,
          20.92398188451613,
          21.210604350645163,
          20.47761933354839,
          19.74940363548387,
          19.00523343580645,
          18.75285498032258,
          17.78031964967742,
          17.24084392,
          16.886446660967742,
          12.537966942580644,
          7.220822705129032,
          6.490539201935484
         ],
         "yaxis": "y"
        },
        {
         "legendgroup": "Months",
         "line": {
          "color": "red"
         },
         "mode": "markers",
         "name": "Historical",
         "showlegend": false,
         "type": "scatter",
         "x": [
          17.25161290322581,
          16.88709677419355,
          16.490322580645163,
          16.138709677419353,
          15.738709677419354,
          16.18064516129033,
          17.635483870967743,
          18.97741935483871,
          20.258064516129036,
          21.561290322580646,
          22.793548387096777,
          23.864516129032257,
          24.709677419354843,
          25.183870967741942,
          25.23870967741936,
          24.68064516129032,
          23.477419354838712,
          21.799999999999997,
          19.92258064516129,
          18.693548387096772,
          18.861290322580647,
          18.487096774193553,
          18.083870967741934,
          17.729032258064517
         ],
         "xaxis": "x2",
         "y": [
          0.3168936897548501,
          0.2558282525006618,
          0.1844572576414363,
          0.25339866865758426,
          0.1477692466579057,
          0.20044738952889235,
          7.945255694368548,
          5.656444965458723,
          1.812798348215974,
          1.5607353720360777,
          2.202749261657149,
          1.3246894334701056,
          0.8441382463104603,
          0.7512199380767123,
          0.7685084082814923,
          0.6195236978170027,
          1.435888864274099,
          1.709130530360114,
          2.1609357697145746,
          2.8946980000756346,
          3.4542224197731914,
          4.213896679740385,
          0.4565435405305752,
          0.4481516218186287
         ],
         "yaxis": "y2"
        },
        {
         "legendgroup": "Months",
         "line": {
          "color": "red"
         },
         "mode": "markers",
         "name": "Historical",
         "showlegend": false,
         "type": "scatter",
         "x": [
          17.25161290322581,
          16.88709677419355,
          16.490322580645163,
          16.138709677419353,
          15.738709677419354,
          16.18064516129033,
          17.635483870967743,
          18.97741935483871,
          20.258064516129036,
          21.561290322580646,
          22.793548387096777,
          23.864516129032257,
          24.709677419354843,
          25.183870967741942,
          25.23870967741936,
          24.68064516129032,
          23.477419354838712,
          21.799999999999997,
          19.92258064516129,
          18.693548387096772,
          18.861290322580647,
          18.487096774193553,
          18.083870967741934,
          17.729032258064517
         ],
         "xaxis": "x3",
         "y": [
          1.4646055162436058,
          1.5097817250115815,
          1.426101842148138,
          1.4511793687681451,
          1.4225211656625025,
          1.3639302412159648,
          6.6850962758004195,
          9.691016258432972,
          8.427628048702282,
          11.29697702497042,
          17.76960938823767,
          19.835128233162795,
          22.3070019813022,
          23.76199350511346,
          30.95541355802002,
          31.655201856251416,
          33.77615436883717,
          32.90753075391782,
          26.536028846955634,
          21.572603800626936,
          18.529903902062834,
          15.095018847652277,
          1.396660241853005,
          1.2860504510473694
         ],
         "yaxis": "y3"
        },
        {
         "legendgroup": "Months",
         "line": {
          "color": "rgb(229, 134, 6)"
         },
         "mode": "lines+markers",
         "name": "03-06_00-eh-6",
         "showlegend": true,
         "type": "scatter",
         "x": [
          17.25161290322581,
          16.88709677419355,
          16.490322580645163,
          16.138709677419353,
          15.738709677419354,
          16.18064516129033,
          17.635483870967743,
          18.97741935483871,
          20.258064516129036,
          21.561290322580646,
          22.793548387096777,
          23.864516129032257,
          24.709677419354843,
          25.183870967741942,
          25.23870967741936,
          24.68064516129032,
          23.477419354838712,
          21.799999999999997,
          19.92258064516129,
          18.693548387096772,
          18.861290322580647,
          18.487096774193553,
          18.083870967741934,
          17.729032258064517
         ],
         "xaxis": "x",
         "y": [
          5.423629182479,
          5.418536967578915,
          5.413718194812888,
          5.4090396118546415,
          5.404446037629984,
          5.875212715790634,
          6.202356975317356,
          8.070775464890266,
          19.13047109532422,
          19.447931928389973,
          19.750274024680113,
          20.100778147571987,
          18.607857822689404,
          20.420813754729277,
          19.63121099867752,
          19.752077834184337,
          19.704212484122344,
          15.609283559684956,
          11.460347403489532,
          11.387082379497413,
          8.604822435110574,
          8.5924231580396,
          5.904121693052155,
          5.429694440463909
         ],
         "yaxis": "y"
        },
        {
         "legendgroup": "Months",
         "line": {
          "color": "rgb(229, 134, 6)"
         },
         "mode": "lines+markers",
         "name": "03-06_00-eh-6",
         "showlegend": false,
         "type": "scatter",
         "x": [
          17.25161290322581,
          16.88709677419355,
          16.490322580645163,
          16.138709677419353,
          15.738709677419354,
          16.18064516129033,
          17.635483870967743,
          18.97741935483871,
          20.258064516129036,
          21.561290322580646,
          22.793548387096777,
          23.864516129032257,
          24.709677419354843,
          25.183870967741942,
          25.23870967741936,
          24.68064516129032,
          23.477419354838712,
          21.799999999999997,
          19.92258064516129,
          18.693548387096772,
          18.861290322580647,
          18.487096774193553,
          18.083870967741934,
          17.729032258064517
         ],
         "xaxis": "x2",
         "y": [
          0,
          0.007476471786486007,
          0.04915136975306077,
          0.11391655357114724,
          0.21076582060414145,
          0.2317019574634573,
          7.110726195522336,
          1.3800589239508698,
          0.014083146385600974,
          0,
          0,
          0,
          0,
          0,
          0,
          0.015077601036448897,
          0.05239561739576521,
          0.5831334111288875,
          0,
          0,
          0,
          0,
          0,
          0.0056345330524431355
         ],
         "yaxis": "y2"
        },
        {
         "legendgroup": "Months",
         "line": {
          "color": "rgb(229, 134, 6)"
         },
         "mode": "lines+markers",
         "name": "03-06_00-eh-6",
         "showlegend": false,
         "type": "scatter",
         "x": [
          17.25161290322581,
          16.88709677419355,
          16.490322580645163,
          16.138709677419353,
          15.738709677419354,
          16.18064516129033,
          17.635483870967743,
          18.97741935483871,
          20.258064516129036,
          21.561290322580646,
          22.793548387096777,
          23.864516129032257,
          24.709677419354843,
          25.183870967741942,
          25.23870967741936,
          24.68064516129032,
          23.477419354838712,
          21.799999999999997,
          19.92258064516129,
          18.693548387096772,
          18.861290322580647,
          18.487096774193553,
          18.083870967741934,
          17.729032258064517
         ],
         "xaxis": "x3",
         "y": [
          8.52669556402506,
          7.7551466299334955,
          7.033725453909504,
          6.346418709260037,
          5.681049412445787,
          5.857963337320433,
          7.6856977501527055,
          10.34373237373977,
          24.333649698115742,
          36.24257753178781,
          44.09514783990702,
          50.047280337075186,
          43.47607989481265,
          54.1974544865112,
          52.37380021048446,
          51.84517260420857,
          50.053428973881694,
          37.27005119155799,
          20.860086108033023,
          16.57890517474165,
          12.77099535347492,
          11.812617707226947,
          10.270253282212945,
          9.455149852924157
         ],
         "yaxis": "y3"
        }
       ],
       "layout": {
        "annotations": [
         {
          "font": {
           "size": 16
          },
          "showarrow": false,
          "text": "Electricity",
          "x": 0.14444444444444446,
          "xanchor": "center",
          "xref": "paper",
          "y": 1,
          "yanchor": "bottom",
          "yref": "paper"
         },
         {
          "font": {
           "size": 16
          },
          "showarrow": false,
          "text": "Hot Water",
          "x": 0.5,
          "xanchor": "center",
          "xref": "paper",
          "y": 1,
          "yanchor": "bottom",
          "yref": "paper"
         },
         {
          "font": {
           "size": 16
          },
          "showarrow": false,
          "text": "Chilled Water",
          "x": 0.8555555555555556,
          "xanchor": "center",
          "xref": "paper",
          "y": 1,
          "yanchor": "bottom",
          "yref": "paper"
         }
        ],
        "template": {
         "data": {
          "bar": [
           {
            "error_x": {
             "color": "#2a3f5f"
            },
            "error_y": {
             "color": "#2a3f5f"
            },
            "marker": {
             "line": {
              "color": "#E5ECF6",
              "width": 0.5
             },
             "pattern": {
              "fillmode": "overlay",
              "size": 10,
              "solidity": 0.2
             }
            },
            "type": "bar"
           }
          ],
          "barpolar": [
           {
            "marker": {
             "line": {
              "color": "#E5ECF6",
              "width": 0.5
             },
             "pattern": {
              "fillmode": "overlay",
              "size": 10,
              "solidity": 0.2
             }
            },
            "type": "barpolar"
           }
          ],
          "carpet": [
           {
            "aaxis": {
             "endlinecolor": "#2a3f5f",
             "gridcolor": "white",
             "linecolor": "white",
             "minorgridcolor": "white",
             "startlinecolor": "#2a3f5f"
            },
            "baxis": {
             "endlinecolor": "#2a3f5f",
             "gridcolor": "white",
             "linecolor": "white",
             "minorgridcolor": "white",
             "startlinecolor": "#2a3f5f"
            },
            "type": "carpet"
           }
          ],
          "choropleth": [
           {
            "colorbar": {
             "outlinewidth": 0,
             "ticks": ""
            },
            "type": "choropleth"
           }
          ],
          "contour": [
           {
            "colorbar": {
             "outlinewidth": 0,
             "ticks": ""
            },
            "colorscale": [
             [
              0,
              "#0d0887"
             ],
             [
              0.1111111111111111,
              "#46039f"
             ],
             [
              0.2222222222222222,
              "#7201a8"
             ],
             [
              0.3333333333333333,
              "#9c179e"
             ],
             [
              0.4444444444444444,
              "#bd3786"
             ],
             [
              0.5555555555555556,
              "#d8576b"
             ],
             [
              0.6666666666666666,
              "#ed7953"
             ],
             [
              0.7777777777777778,
              "#fb9f3a"
             ],
             [
              0.8888888888888888,
              "#fdca26"
             ],
             [
              1,
              "#f0f921"
             ]
            ],
            "type": "contour"
           }
          ],
          "contourcarpet": [
           {
            "colorbar": {
             "outlinewidth": 0,
             "ticks": ""
            },
            "type": "contourcarpet"
           }
          ],
          "heatmap": [
           {
            "colorbar": {
             "outlinewidth": 0,
             "ticks": ""
            },
            "colorscale": [
             [
              0,
              "#0d0887"
             ],
             [
              0.1111111111111111,
              "#46039f"
             ],
             [
              0.2222222222222222,
              "#7201a8"
             ],
             [
              0.3333333333333333,
              "#9c179e"
             ],
             [
              0.4444444444444444,
              "#bd3786"
             ],
             [
              0.5555555555555556,
              "#d8576b"
             ],
             [
              0.6666666666666666,
              "#ed7953"
             ],
             [
              0.7777777777777778,
              "#fb9f3a"
             ],
             [
              0.8888888888888888,
              "#fdca26"
             ],
             [
              1,
              "#f0f921"
             ]
            ],
            "type": "heatmap"
           }
          ],
          "heatmapgl": [
           {
            "colorbar": {
             "outlinewidth": 0,
             "ticks": ""
            },
            "colorscale": [
             [
              0,
              "#0d0887"
             ],
             [
              0.1111111111111111,
              "#46039f"
             ],
             [
              0.2222222222222222,
              "#7201a8"
             ],
             [
              0.3333333333333333,
              "#9c179e"
             ],
             [
              0.4444444444444444,
              "#bd3786"
             ],
             [
              0.5555555555555556,
              "#d8576b"
             ],
             [
              0.6666666666666666,
              "#ed7953"
             ],
             [
              0.7777777777777778,
              "#fb9f3a"
             ],
             [
              0.8888888888888888,
              "#fdca26"
             ],
             [
              1,
              "#f0f921"
             ]
            ],
            "type": "heatmapgl"
           }
          ],
          "histogram": [
           {
            "marker": {
             "pattern": {
              "fillmode": "overlay",
              "size": 10,
              "solidity": 0.2
             }
            },
            "type": "histogram"
           }
          ],
          "histogram2d": [
           {
            "colorbar": {
             "outlinewidth": 0,
             "ticks": ""
            },
            "colorscale": [
             [
              0,
              "#0d0887"
             ],
             [
              0.1111111111111111,
              "#46039f"
             ],
             [
              0.2222222222222222,
              "#7201a8"
             ],
             [
              0.3333333333333333,
              "#9c179e"
             ],
             [
              0.4444444444444444,
              "#bd3786"
             ],
             [
              0.5555555555555556,
              "#d8576b"
             ],
             [
              0.6666666666666666,
              "#ed7953"
             ],
             [
              0.7777777777777778,
              "#fb9f3a"
             ],
             [
              0.8888888888888888,
              "#fdca26"
             ],
             [
              1,
              "#f0f921"
             ]
            ],
            "type": "histogram2d"
           }
          ],
          "histogram2dcontour": [
           {
            "colorbar": {
             "outlinewidth": 0,
             "ticks": ""
            },
            "colorscale": [
             [
              0,
              "#0d0887"
             ],
             [
              0.1111111111111111,
              "#46039f"
             ],
             [
              0.2222222222222222,
              "#7201a8"
             ],
             [
              0.3333333333333333,
              "#9c179e"
             ],
             [
              0.4444444444444444,
              "#bd3786"
             ],
             [
              0.5555555555555556,
              "#d8576b"
             ],
             [
              0.6666666666666666,
              "#ed7953"
             ],
             [
              0.7777777777777778,
              "#fb9f3a"
             ],
             [
              0.8888888888888888,
              "#fdca26"
             ],
             [
              1,
              "#f0f921"
             ]
            ],
            "type": "histogram2dcontour"
           }
          ],
          "mesh3d": [
           {
            "colorbar": {
             "outlinewidth": 0,
             "ticks": ""
            },
            "type": "mesh3d"
           }
          ],
          "parcoords": [
           {
            "line": {
             "colorbar": {
              "outlinewidth": 0,
              "ticks": ""
             }
            },
            "type": "parcoords"
           }
          ],
          "pie": [
           {
            "automargin": true,
            "type": "pie"
           }
          ],
          "scatter": [
           {
            "marker": {
             "colorbar": {
              "outlinewidth": 0,
              "ticks": ""
             }
            },
            "type": "scatter"
           }
          ],
          "scatter3d": [
           {
            "line": {
             "colorbar": {
              "outlinewidth": 0,
              "ticks": ""
             }
            },
            "marker": {
             "colorbar": {
              "outlinewidth": 0,
              "ticks": ""
             }
            },
            "type": "scatter3d"
           }
          ],
          "scattercarpet": [
           {
            "marker": {
             "colorbar": {
              "outlinewidth": 0,
              "ticks": ""
             }
            },
            "type": "scattercarpet"
           }
          ],
          "scattergeo": [
           {
            "marker": {
             "colorbar": {
              "outlinewidth": 0,
              "ticks": ""
             }
            },
            "type": "scattergeo"
           }
          ],
          "scattergl": [
           {
            "marker": {
             "colorbar": {
              "outlinewidth": 0,
              "ticks": ""
             }
            },
            "type": "scattergl"
           }
          ],
          "scattermapbox": [
           {
            "marker": {
             "colorbar": {
              "outlinewidth": 0,
              "ticks": ""
             }
            },
            "type": "scattermapbox"
           }
          ],
          "scatterpolar": [
           {
            "marker": {
             "colorbar": {
              "outlinewidth": 0,
              "ticks": ""
             }
            },
            "type": "scatterpolar"
           }
          ],
          "scatterpolargl": [
           {
            "marker": {
             "colorbar": {
              "outlinewidth": 0,
              "ticks": ""
             }
            },
            "type": "scatterpolargl"
           }
          ],
          "scatterternary": [
           {
            "marker": {
             "colorbar": {
              "outlinewidth": 0,
              "ticks": ""
             }
            },
            "type": "scatterternary"
           }
          ],
          "surface": [
           {
            "colorbar": {
             "outlinewidth": 0,
             "ticks": ""
            },
            "colorscale": [
             [
              0,
              "#0d0887"
             ],
             [
              0.1111111111111111,
              "#46039f"
             ],
             [
              0.2222222222222222,
              "#7201a8"
             ],
             [
              0.3333333333333333,
              "#9c179e"
             ],
             [
              0.4444444444444444,
              "#bd3786"
             ],
             [
              0.5555555555555556,
              "#d8576b"
             ],
             [
              0.6666666666666666,
              "#ed7953"
             ],
             [
              0.7777777777777778,
              "#fb9f3a"
             ],
             [
              0.8888888888888888,
              "#fdca26"
             ],
             [
              1,
              "#f0f921"
             ]
            ],
            "type": "surface"
           }
          ],
          "table": [
           {
            "cells": {
             "fill": {
              "color": "#EBF0F8"
             },
             "line": {
              "color": "white"
             }
            },
            "header": {
             "fill": {
              "color": "#C8D4E3"
             },
             "line": {
              "color": "white"
             }
            },
            "type": "table"
           }
          ]
         },
         "layout": {
          "annotationdefaults": {
           "arrowcolor": "#2a3f5f",
           "arrowhead": 0,
           "arrowwidth": 1
          },
          "autotypenumbers": "strict",
          "coloraxis": {
           "colorbar": {
            "outlinewidth": 0,
            "ticks": ""
           }
          },
          "colorscale": {
           "diverging": [
            [
             0,
             "#8e0152"
            ],
            [
             0.1,
             "#c51b7d"
            ],
            [
             0.2,
             "#de77ae"
            ],
            [
             0.3,
             "#f1b6da"
            ],
            [
             0.4,
             "#fde0ef"
            ],
            [
             0.5,
             "#f7f7f7"
            ],
            [
             0.6,
             "#e6f5d0"
            ],
            [
             0.7,
             "#b8e186"
            ],
            [
             0.8,
             "#7fbc41"
            ],
            [
             0.9,
             "#4d9221"
            ],
            [
             1,
             "#276419"
            ]
           ],
           "sequential": [
            [
             0,
             "#0d0887"
            ],
            [
             0.1111111111111111,
             "#46039f"
            ],
            [
             0.2222222222222222,
             "#7201a8"
            ],
            [
             0.3333333333333333,
             "#9c179e"
            ],
            [
             0.4444444444444444,
             "#bd3786"
            ],
            [
             0.5555555555555556,
             "#d8576b"
            ],
            [
             0.6666666666666666,
             "#ed7953"
            ],
            [
             0.7777777777777778,
             "#fb9f3a"
            ],
            [
             0.8888888888888888,
             "#fdca26"
            ],
            [
             1,
             "#f0f921"
            ]
           ],
           "sequentialminus": [
            [
             0,
             "#0d0887"
            ],
            [
             0.1111111111111111,
             "#46039f"
            ],
            [
             0.2222222222222222,
             "#7201a8"
            ],
            [
             0.3333333333333333,
             "#9c179e"
            ],
            [
             0.4444444444444444,
             "#bd3786"
            ],
            [
             0.5555555555555556,
             "#d8576b"
            ],
            [
             0.6666666666666666,
             "#ed7953"
            ],
            [
             0.7777777777777778,
             "#fb9f3a"
            ],
            [
             0.8888888888888888,
             "#fdca26"
            ],
            [
             1,
             "#f0f921"
            ]
           ]
          },
          "colorway": [
           "#636efa",
           "#EF553B",
           "#00cc96",
           "#ab63fa",
           "#FFA15A",
           "#19d3f3",
           "#FF6692",
           "#B6E880",
           "#FF97FF",
           "#FECB52"
          ],
          "font": {
           "color": "#2a3f5f"
          },
          "geo": {
           "bgcolor": "white",
           "lakecolor": "white",
           "landcolor": "#E5ECF6",
           "showlakes": true,
           "showland": true,
           "subunitcolor": "white"
          },
          "hoverlabel": {
           "align": "left"
          },
          "hovermode": "closest",
          "mapbox": {
           "style": "light"
          },
          "paper_bgcolor": "white",
          "plot_bgcolor": "#E5ECF6",
          "polar": {
           "angularaxis": {
            "gridcolor": "white",
            "linecolor": "white",
            "ticks": ""
           },
           "bgcolor": "#E5ECF6",
           "radialaxis": {
            "gridcolor": "white",
            "linecolor": "white",
            "ticks": ""
           }
          },
          "scene": {
           "xaxis": {
            "backgroundcolor": "#E5ECF6",
            "gridcolor": "white",
            "gridwidth": 2,
            "linecolor": "white",
            "showbackground": true,
            "ticks": "",
            "zerolinecolor": "white"
           },
           "yaxis": {
            "backgroundcolor": "#E5ECF6",
            "gridcolor": "white",
            "gridwidth": 2,
            "linecolor": "white",
            "showbackground": true,
            "ticks": "",
            "zerolinecolor": "white"
           },
           "zaxis": {
            "backgroundcolor": "#E5ECF6",
            "gridcolor": "white",
            "gridwidth": 2,
            "linecolor": "white",
            "showbackground": true,
            "ticks": "",
            "zerolinecolor": "white"
           }
          },
          "shapedefaults": {
           "line": {
            "color": "#2a3f5f"
           }
          },
          "ternary": {
           "aaxis": {
            "gridcolor": "white",
            "linecolor": "white",
            "ticks": ""
           },
           "baxis": {
            "gridcolor": "white",
            "linecolor": "white",
            "ticks": ""
           },
           "bgcolor": "#E5ECF6",
           "caxis": {
            "gridcolor": "white",
            "linecolor": "white",
            "ticks": ""
           }
          },
          "title": {
           "x": 0.05
          },
          "xaxis": {
           "automargin": true,
           "gridcolor": "white",
           "linecolor": "white",
           "ticks": "",
           "title": {
            "standoff": 15
           },
           "zerolinecolor": "white",
           "zerolinewidth": 2
          },
          "yaxis": {
           "automargin": true,
           "gridcolor": "white",
           "linecolor": "white",
           "ticks": "",
           "title": {
            "standoff": 15
           },
           "zerolinecolor": "white",
           "zerolinewidth": 2
          }
         }
        },
        "title": {
         "text": "July Average Hourly Energy Usage"
        },
        "xaxis": {
         "anchor": "y",
         "domain": [
          0,
          0.2888888888888889
         ]
        },
        "xaxis2": {
         "anchor": "y2",
         "domain": [
          0.35555555555555557,
          0.6444444444444445
         ]
        },
        "xaxis3": {
         "anchor": "y3",
         "domain": [
          0.7111111111111111,
          1
         ]
        },
        "yaxis": {
         "anchor": "x",
         "domain": [
          0,
          1
         ],
         "title": {
          "text": "Energy (kWh)"
         }
        },
        "yaxis2": {
         "anchor": "x2",
         "domain": [
          0,
          1
         ]
        },
        "yaxis3": {
         "anchor": "x3",
         "domain": [
          0,
          1
         ]
        }
       }
      }
     },
     "metadata": {},
     "output_type": "display_data"
    }
   ],
   "source": [
    "temp_vs_energy_use_by_month(8, \"July\")"
   ]
  },
  {
   "cell_type": "markdown",
   "metadata": {},
   "source": [
    "## Per Day..."
   ]
  },
  {
   "cell_type": "code",
   "execution_count": 18,
   "metadata": {},
   "outputs": [],
   "source": [
    "def temp_vs_energy_use_by_day(month_num, month_name):\n",
    "\n",
    "    month = create_analysis_period(month_num)\n",
    "    blueShades = px.colors.qualitative.Vivid[:len(sim_data_hr.keys())]\n",
    "\n",
    "    fig = make_subplots(\n",
    "        rows=1, cols=3,\n",
    "        subplot_titles=(\"Electricity\", \"Hot Water\", \"Chilled Water\"))\n",
    "\n",
    "    # historical/ measured data \n",
    "    for (ix, value) in  enumerate(hist_month_by_hr.values()):\n",
    "        showLegend = True\n",
    "        if ix > 0:\n",
    "            showLegend = False\n",
    "        fig.add_trace(go.Scatter(  \n",
    "            x=temp_month_by_hour_c[month.st_month],\n",
    "            y=value[month.st_month] , \n",
    "            mode='markers',\n",
    "            name=\"Historical\",\n",
    "            legendgroup=\"Months\",\n",
    "            line=dict(color='red'),\n",
    "            showlegend=showLegend),\n",
    "            row=1, col=ix+1)\n",
    "\n",
    "    fig.update_layout(title=f\"{month_name} Average Hourly Energy Usage\",\n",
    "        yaxis_title=\"Energy (kWh)\",)\n",
    "\n",
    "    fig.show()"
   ]
  },
  {
   "cell_type": "markdown",
   "metadata": {},
   "source": [
    "# Comparison of Annual Trends "
   ]
  },
  {
   "cell_type": "code",
   "execution_count": 19,
   "metadata": {},
   "outputs": [],
   "source": [
    "months = [dt.datetime(2019, i+1, 1).strftime(\"%b\") for i in range(12)]"
   ]
  },
  {
   "cell_type": "code",
   "execution_count": 20,
   "metadata": {},
   "outputs": [],
   "source": [
    "def plot_datasets_monthly():\n",
    "    blueShades = px.colors.qualitative.Vivid[:len(sim_data_hr.keys())]\n",
    "\n",
    "    fig = make_subplots(\n",
    "        rows=1, cols=3,\n",
    "        subplot_titles=(\"Electricity\", \"Hot Water\", \"Chilled Water\"))\n",
    "\n",
    "    # historical/ measured data \n",
    "    for (ix, value) in  enumerate(hist_monthly.values()):\n",
    "        showLegend = True\n",
    "        if ix > 0:\n",
    "            showLegend = False\n",
    "        fig.add_trace(go.Scatter(  \n",
    "            x=months,\n",
    "            y=value, \n",
    "            mode='lines',\n",
    "            name=\"Historical\",\n",
    "            legendgroup=\"Months\",\n",
    "            line=dict(color='red'),\n",
    "            showlegend=showLegend),\n",
    "            row=1, col=ix+1)\n",
    "\n",
    "    # simulated datasets \n",
    "    for (name, dataset), blueShade in zip(sim_data_month.items(), blueShades):\n",
    "        for (ix, sim), hist in zip(enumerate(dataset.values()),hist_monthly.values()) :\n",
    "            showLegend = True\n",
    "            if ix > 0:\n",
    "                showLegend = False\n",
    "            fig.add_trace(go.Scatter( \n",
    "                x=months,\n",
    "                y=sim.values , \n",
    "                mode='lines+markers',\n",
    "                name=name,\n",
    "                legendgroup=\"Months\",\n",
    "                line=dict(color=blueShade),\n",
    "                showlegend=showLegend),\n",
    "                row=1, col=ix+1)\n",
    "\n",
    "    fig.update_layout(title=f\"Monthly Total Energy Usage\",\n",
    "        yaxis_title=\"Energy (kWh)\",)\n",
    "   \n",
    "   # calculate metrics \n",
    "    metrics = {}\n",
    "    for name, dataset in sim_data_month.items():\n",
    "        type_dict = {}\n",
    "        for (k, sim), hist in zip(dataset.items(), hist_monthly.values()):\n",
    "            type_dict[k] = calc_metrics(sim.values, hist)\n",
    "        metrics[name] = type_dict\n",
    "    metrics = pd.DataFrame(metrics)\n",
    "    display(metrics)\n",
    "\n",
    "    fig.show()"
   ]
  },
  {
   "cell_type": "code",
   "execution_count": 21,
   "metadata": {},
   "outputs": [
    {
     "data": {
      "text/html": [
       "<div>\n",
       "<style scoped>\n",
       "    .dataframe tbody tr th:only-of-type {\n",
       "        vertical-align: middle;\n",
       "    }\n",
       "\n",
       "    .dataframe tbody tr th {\n",
       "        vertical-align: top;\n",
       "    }\n",
       "\n",
       "    .dataframe thead th {\n",
       "        text-align: right;\n",
       "    }\n",
       "</style>\n",
       "<table border=\"1\" class=\"dataframe\">\n",
       "  <thead>\n",
       "    <tr style=\"text-align: right;\">\n",
       "      <th></th>\n",
       "      <th>03-06_00-eh-6</th>\n",
       "    </tr>\n",
       "  </thead>\n",
       "  <tbody>\n",
       "    <tr>\n",
       "      <th>chill</th>\n",
       "      <td>(68.056, 51.115)</td>\n",
       "    </tr>\n",
       "    <tr>\n",
       "      <th>elect</th>\n",
       "      <td>(34.158, -32.478)</td>\n",
       "    </tr>\n",
       "    <tr>\n",
       "      <th>hot</th>\n",
       "      <td>(84.888, -74.878)</td>\n",
       "    </tr>\n",
       "  </tbody>\n",
       "</table>\n",
       "</div>"
      ],
      "text/plain": [
       "           03-06_00-eh-6\n",
       "chill   (68.056, 51.115)\n",
       "elect  (34.158, -32.478)\n",
       "hot    (84.888, -74.878)"
      ]
     },
     "metadata": {},
     "output_type": "display_data"
    },
    {
     "data": {
      "application/vnd.plotly.v1+json": {
       "config": {
        "plotlyServerURL": "https://plot.ly"
       },
       "data": [
        {
         "legendgroup": "Months",
         "line": {
          "color": "red"
         },
         "mode": "lines",
         "name": "Historical",
         "showlegend": true,
         "type": "scatter",
         "x": [
          "Jan",
          "Feb",
          "Mar",
          "Apr",
          "May",
          "Jun",
          "Jul",
          "Aug",
          "Sep",
          "Oct",
          "Nov",
          "Dec"
         ],
         "xaxis": "x",
         "y": [
          13804.135548988,
          13485.947478456,
          12435.215617035,
          12475.169092449,
          15076.189886713,
          11582.749312731,
          11381.135282711,
          11519.249652601,
          11531.941250453,
          14825.819485343,
          13932.567953833,
          11533.748425710999
         ],
         "yaxis": "y"
        },
        {
         "legendgroup": "Months",
         "line": {
          "color": "red"
         },
         "mode": "lines",
         "name": "Historical",
         "showlegend": false,
         "type": "scatter",
         "x": [
          "Jan",
          "Feb",
          "Mar",
          "Apr",
          "May",
          "Jun",
          "Jul",
          "Aug",
          "Sep",
          "Oct",
          "Nov",
          "Dec"
         ],
         "xaxis": "x2",
         "y": [
          9563.77965172128,
          11205.16886436108,
          10021.888756073346,
          5739.921387760478,
          8015.7717564493705,
          2812.879286768464,
          1998.9934268026086,
          1290.168084198344,
          1966.378451074663,
          4721.300881587632,
          7453.441033456184,
          10536.379511077228
         ],
         "yaxis": "y2"
        },
        {
         "legendgroup": "Months",
         "line": {
          "color": "red"
         },
         "mode": "lines",
         "name": "Historical",
         "showlegend": false,
         "type": "scatter",
         "x": [
          "Jan",
          "Feb",
          "Mar",
          "Apr",
          "May",
          "Jun",
          "Jul",
          "Aug",
          "Sep",
          "Oct",
          "Nov",
          "Dec"
         ],
         "xaxis": "x3",
         "y": [
          1308.771521681986,
          517.9163517552686,
          798.217789308849,
          3495.4945632151275,
          3561.494405341774,
          9626.23899465311,
          9910.249118331416,
          10605.817253261896,
          9655.609547633616,
          5663.642200932546,
          1766.7863219353267,
          365.59828070736137
         ],
         "yaxis": "y3"
        },
        {
         "legendgroup": "Months",
         "line": {
          "color": "rgb(229, 134, 6)"
         },
         "mode": "lines+markers",
         "name": "03-06_00-eh-6",
         "showlegend": true,
         "type": "scatter",
         "x": [
          "Jan",
          "Feb",
          "Mar",
          "Apr",
          "May",
          "Jun",
          "Jul",
          "Aug",
          "Sep",
          "Oct",
          "Nov",
          "Dec"
         ],
         "xaxis": "x",
         "y": [
          8841.202115263975,
          7807.586915240723,
          8472.949840595933,
          8616.790811310782,
          8942.457271834855,
          8418.348492103949,
          9097.069909901926,
          9017.925297358968,
          8556.0891497601,
          8981.029216930041,
          8352.364685319912,
          8598.519185028385
         ],
         "yaxis": "y"
        },
        {
         "legendgroup": "Months",
         "line": {
          "color": "rgb(229, 134, 6)"
         },
         "mode": "lines+markers",
         "name": "03-06_00-eh-6",
         "showlegend": false,
         "type": "scatter",
         "x": [
          "Jan",
          "Feb",
          "Mar",
          "Apr",
          "May",
          "Jun",
          "Jul",
          "Aug",
          "Sep",
          "Oct",
          "Nov",
          "Dec"
         ],
         "xaxis": "x2",
         "y": [
          2871.0293188482647,
          3303.2554730711236,
          2256.852438808626,
          1013.3566953832382,
          927.4182772678373,
          300.29171456993805,
          290.614191426822,
          302.99776965116985,
          468.6946321247221,
          1177.463104840042,
          2853.6029602452813,
          3157.7206115599856
         ],
         "yaxis": "y2"
        },
        {
         "legendgroup": "Months",
         "line": {
          "color": "rgb(229, 134, 6)"
         },
         "mode": "lines+markers",
         "name": "03-06_00-eh-6",
         "showlegend": false,
         "type": "scatter",
         "x": [
          "Jan",
          "Feb",
          "Mar",
          "Apr",
          "May",
          "Jun",
          "Jul",
          "Aug",
          "Sep",
          "Oct",
          "Nov",
          "Dec"
         ],
         "xaxis": "x3",
         "y": [
          1792.7141054687133,
          637.6669354685713,
          2094.227992087764,
          6094.480698686093,
          5162.42324377246,
          13252.19233818179,
          14775.89511859655,
          18141.879504900015,
          14000.34598480809,
          6820.544753856212,
          2285.288787851519,
          1494.7838351304358
         ],
         "yaxis": "y3"
        }
       ],
       "layout": {
        "annotations": [
         {
          "font": {
           "size": 16
          },
          "showarrow": false,
          "text": "Electricity",
          "x": 0.14444444444444446,
          "xanchor": "center",
          "xref": "paper",
          "y": 1,
          "yanchor": "bottom",
          "yref": "paper"
         },
         {
          "font": {
           "size": 16
          },
          "showarrow": false,
          "text": "Hot Water",
          "x": 0.5,
          "xanchor": "center",
          "xref": "paper",
          "y": 1,
          "yanchor": "bottom",
          "yref": "paper"
         },
         {
          "font": {
           "size": 16
          },
          "showarrow": false,
          "text": "Chilled Water",
          "x": 0.8555555555555556,
          "xanchor": "center",
          "xref": "paper",
          "y": 1,
          "yanchor": "bottom",
          "yref": "paper"
         }
        ],
        "template": {
         "data": {
          "bar": [
           {
            "error_x": {
             "color": "#2a3f5f"
            },
            "error_y": {
             "color": "#2a3f5f"
            },
            "marker": {
             "line": {
              "color": "#E5ECF6",
              "width": 0.5
             },
             "pattern": {
              "fillmode": "overlay",
              "size": 10,
              "solidity": 0.2
             }
            },
            "type": "bar"
           }
          ],
          "barpolar": [
           {
            "marker": {
             "line": {
              "color": "#E5ECF6",
              "width": 0.5
             },
             "pattern": {
              "fillmode": "overlay",
              "size": 10,
              "solidity": 0.2
             }
            },
            "type": "barpolar"
           }
          ],
          "carpet": [
           {
            "aaxis": {
             "endlinecolor": "#2a3f5f",
             "gridcolor": "white",
             "linecolor": "white",
             "minorgridcolor": "white",
             "startlinecolor": "#2a3f5f"
            },
            "baxis": {
             "endlinecolor": "#2a3f5f",
             "gridcolor": "white",
             "linecolor": "white",
             "minorgridcolor": "white",
             "startlinecolor": "#2a3f5f"
            },
            "type": "carpet"
           }
          ],
          "choropleth": [
           {
            "colorbar": {
             "outlinewidth": 0,
             "ticks": ""
            },
            "type": "choropleth"
           }
          ],
          "contour": [
           {
            "colorbar": {
             "outlinewidth": 0,
             "ticks": ""
            },
            "colorscale": [
             [
              0,
              "#0d0887"
             ],
             [
              0.1111111111111111,
              "#46039f"
             ],
             [
              0.2222222222222222,
              "#7201a8"
             ],
             [
              0.3333333333333333,
              "#9c179e"
             ],
             [
              0.4444444444444444,
              "#bd3786"
             ],
             [
              0.5555555555555556,
              "#d8576b"
             ],
             [
              0.6666666666666666,
              "#ed7953"
             ],
             [
              0.7777777777777778,
              "#fb9f3a"
             ],
             [
              0.8888888888888888,
              "#fdca26"
             ],
             [
              1,
              "#f0f921"
             ]
            ],
            "type": "contour"
           }
          ],
          "contourcarpet": [
           {
            "colorbar": {
             "outlinewidth": 0,
             "ticks": ""
            },
            "type": "contourcarpet"
           }
          ],
          "heatmap": [
           {
            "colorbar": {
             "outlinewidth": 0,
             "ticks": ""
            },
            "colorscale": [
             [
              0,
              "#0d0887"
             ],
             [
              0.1111111111111111,
              "#46039f"
             ],
             [
              0.2222222222222222,
              "#7201a8"
             ],
             [
              0.3333333333333333,
              "#9c179e"
             ],
             [
              0.4444444444444444,
              "#bd3786"
             ],
             [
              0.5555555555555556,
              "#d8576b"
             ],
             [
              0.6666666666666666,
              "#ed7953"
             ],
             [
              0.7777777777777778,
              "#fb9f3a"
             ],
             [
              0.8888888888888888,
              "#fdca26"
             ],
             [
              1,
              "#f0f921"
             ]
            ],
            "type": "heatmap"
           }
          ],
          "heatmapgl": [
           {
            "colorbar": {
             "outlinewidth": 0,
             "ticks": ""
            },
            "colorscale": [
             [
              0,
              "#0d0887"
             ],
             [
              0.1111111111111111,
              "#46039f"
             ],
             [
              0.2222222222222222,
              "#7201a8"
             ],
             [
              0.3333333333333333,
              "#9c179e"
             ],
             [
              0.4444444444444444,
              "#bd3786"
             ],
             [
              0.5555555555555556,
              "#d8576b"
             ],
             [
              0.6666666666666666,
              "#ed7953"
             ],
             [
              0.7777777777777778,
              "#fb9f3a"
             ],
             [
              0.8888888888888888,
              "#fdca26"
             ],
             [
              1,
              "#f0f921"
             ]
            ],
            "type": "heatmapgl"
           }
          ],
          "histogram": [
           {
            "marker": {
             "pattern": {
              "fillmode": "overlay",
              "size": 10,
              "solidity": 0.2
             }
            },
            "type": "histogram"
           }
          ],
          "histogram2d": [
           {
            "colorbar": {
             "outlinewidth": 0,
             "ticks": ""
            },
            "colorscale": [
             [
              0,
              "#0d0887"
             ],
             [
              0.1111111111111111,
              "#46039f"
             ],
             [
              0.2222222222222222,
              "#7201a8"
             ],
             [
              0.3333333333333333,
              "#9c179e"
             ],
             [
              0.4444444444444444,
              "#bd3786"
             ],
             [
              0.5555555555555556,
              "#d8576b"
             ],
             [
              0.6666666666666666,
              "#ed7953"
             ],
             [
              0.7777777777777778,
              "#fb9f3a"
             ],
             [
              0.8888888888888888,
              "#fdca26"
             ],
             [
              1,
              "#f0f921"
             ]
            ],
            "type": "histogram2d"
           }
          ],
          "histogram2dcontour": [
           {
            "colorbar": {
             "outlinewidth": 0,
             "ticks": ""
            },
            "colorscale": [
             [
              0,
              "#0d0887"
             ],
             [
              0.1111111111111111,
              "#46039f"
             ],
             [
              0.2222222222222222,
              "#7201a8"
             ],
             [
              0.3333333333333333,
              "#9c179e"
             ],
             [
              0.4444444444444444,
              "#bd3786"
             ],
             [
              0.5555555555555556,
              "#d8576b"
             ],
             [
              0.6666666666666666,
              "#ed7953"
             ],
             [
              0.7777777777777778,
              "#fb9f3a"
             ],
             [
              0.8888888888888888,
              "#fdca26"
             ],
             [
              1,
              "#f0f921"
             ]
            ],
            "type": "histogram2dcontour"
           }
          ],
          "mesh3d": [
           {
            "colorbar": {
             "outlinewidth": 0,
             "ticks": ""
            },
            "type": "mesh3d"
           }
          ],
          "parcoords": [
           {
            "line": {
             "colorbar": {
              "outlinewidth": 0,
              "ticks": ""
             }
            },
            "type": "parcoords"
           }
          ],
          "pie": [
           {
            "automargin": true,
            "type": "pie"
           }
          ],
          "scatter": [
           {
            "marker": {
             "colorbar": {
              "outlinewidth": 0,
              "ticks": ""
             }
            },
            "type": "scatter"
           }
          ],
          "scatter3d": [
           {
            "line": {
             "colorbar": {
              "outlinewidth": 0,
              "ticks": ""
             }
            },
            "marker": {
             "colorbar": {
              "outlinewidth": 0,
              "ticks": ""
             }
            },
            "type": "scatter3d"
           }
          ],
          "scattercarpet": [
           {
            "marker": {
             "colorbar": {
              "outlinewidth": 0,
              "ticks": ""
             }
            },
            "type": "scattercarpet"
           }
          ],
          "scattergeo": [
           {
            "marker": {
             "colorbar": {
              "outlinewidth": 0,
              "ticks": ""
             }
            },
            "type": "scattergeo"
           }
          ],
          "scattergl": [
           {
            "marker": {
             "colorbar": {
              "outlinewidth": 0,
              "ticks": ""
             }
            },
            "type": "scattergl"
           }
          ],
          "scattermapbox": [
           {
            "marker": {
             "colorbar": {
              "outlinewidth": 0,
              "ticks": ""
             }
            },
            "type": "scattermapbox"
           }
          ],
          "scatterpolar": [
           {
            "marker": {
             "colorbar": {
              "outlinewidth": 0,
              "ticks": ""
             }
            },
            "type": "scatterpolar"
           }
          ],
          "scatterpolargl": [
           {
            "marker": {
             "colorbar": {
              "outlinewidth": 0,
              "ticks": ""
             }
            },
            "type": "scatterpolargl"
           }
          ],
          "scatterternary": [
           {
            "marker": {
             "colorbar": {
              "outlinewidth": 0,
              "ticks": ""
             }
            },
            "type": "scatterternary"
           }
          ],
          "surface": [
           {
            "colorbar": {
             "outlinewidth": 0,
             "ticks": ""
            },
            "colorscale": [
             [
              0,
              "#0d0887"
             ],
             [
              0.1111111111111111,
              "#46039f"
             ],
             [
              0.2222222222222222,
              "#7201a8"
             ],
             [
              0.3333333333333333,
              "#9c179e"
             ],
             [
              0.4444444444444444,
              "#bd3786"
             ],
             [
              0.5555555555555556,
              "#d8576b"
             ],
             [
              0.6666666666666666,
              "#ed7953"
             ],
             [
              0.7777777777777778,
              "#fb9f3a"
             ],
             [
              0.8888888888888888,
              "#fdca26"
             ],
             [
              1,
              "#f0f921"
             ]
            ],
            "type": "surface"
           }
          ],
          "table": [
           {
            "cells": {
             "fill": {
              "color": "#EBF0F8"
             },
             "line": {
              "color": "white"
             }
            },
            "header": {
             "fill": {
              "color": "#C8D4E3"
             },
             "line": {
              "color": "white"
             }
            },
            "type": "table"
           }
          ]
         },
         "layout": {
          "annotationdefaults": {
           "arrowcolor": "#2a3f5f",
           "arrowhead": 0,
           "arrowwidth": 1
          },
          "autotypenumbers": "strict",
          "coloraxis": {
           "colorbar": {
            "outlinewidth": 0,
            "ticks": ""
           }
          },
          "colorscale": {
           "diverging": [
            [
             0,
             "#8e0152"
            ],
            [
             0.1,
             "#c51b7d"
            ],
            [
             0.2,
             "#de77ae"
            ],
            [
             0.3,
             "#f1b6da"
            ],
            [
             0.4,
             "#fde0ef"
            ],
            [
             0.5,
             "#f7f7f7"
            ],
            [
             0.6,
             "#e6f5d0"
            ],
            [
             0.7,
             "#b8e186"
            ],
            [
             0.8,
             "#7fbc41"
            ],
            [
             0.9,
             "#4d9221"
            ],
            [
             1,
             "#276419"
            ]
           ],
           "sequential": [
            [
             0,
             "#0d0887"
            ],
            [
             0.1111111111111111,
             "#46039f"
            ],
            [
             0.2222222222222222,
             "#7201a8"
            ],
            [
             0.3333333333333333,
             "#9c179e"
            ],
            [
             0.4444444444444444,
             "#bd3786"
            ],
            [
             0.5555555555555556,
             "#d8576b"
            ],
            [
             0.6666666666666666,
             "#ed7953"
            ],
            [
             0.7777777777777778,
             "#fb9f3a"
            ],
            [
             0.8888888888888888,
             "#fdca26"
            ],
            [
             1,
             "#f0f921"
            ]
           ],
           "sequentialminus": [
            [
             0,
             "#0d0887"
            ],
            [
             0.1111111111111111,
             "#46039f"
            ],
            [
             0.2222222222222222,
             "#7201a8"
            ],
            [
             0.3333333333333333,
             "#9c179e"
            ],
            [
             0.4444444444444444,
             "#bd3786"
            ],
            [
             0.5555555555555556,
             "#d8576b"
            ],
            [
             0.6666666666666666,
             "#ed7953"
            ],
            [
             0.7777777777777778,
             "#fb9f3a"
            ],
            [
             0.8888888888888888,
             "#fdca26"
            ],
            [
             1,
             "#f0f921"
            ]
           ]
          },
          "colorway": [
           "#636efa",
           "#EF553B",
           "#00cc96",
           "#ab63fa",
           "#FFA15A",
           "#19d3f3",
           "#FF6692",
           "#B6E880",
           "#FF97FF",
           "#FECB52"
          ],
          "font": {
           "color": "#2a3f5f"
          },
          "geo": {
           "bgcolor": "white",
           "lakecolor": "white",
           "landcolor": "#E5ECF6",
           "showlakes": true,
           "showland": true,
           "subunitcolor": "white"
          },
          "hoverlabel": {
           "align": "left"
          },
          "hovermode": "closest",
          "mapbox": {
           "style": "light"
          },
          "paper_bgcolor": "white",
          "plot_bgcolor": "#E5ECF6",
          "polar": {
           "angularaxis": {
            "gridcolor": "white",
            "linecolor": "white",
            "ticks": ""
           },
           "bgcolor": "#E5ECF6",
           "radialaxis": {
            "gridcolor": "white",
            "linecolor": "white",
            "ticks": ""
           }
          },
          "scene": {
           "xaxis": {
            "backgroundcolor": "#E5ECF6",
            "gridcolor": "white",
            "gridwidth": 2,
            "linecolor": "white",
            "showbackground": true,
            "ticks": "",
            "zerolinecolor": "white"
           },
           "yaxis": {
            "backgroundcolor": "#E5ECF6",
            "gridcolor": "white",
            "gridwidth": 2,
            "linecolor": "white",
            "showbackground": true,
            "ticks": "",
            "zerolinecolor": "white"
           },
           "zaxis": {
            "backgroundcolor": "#E5ECF6",
            "gridcolor": "white",
            "gridwidth": 2,
            "linecolor": "white",
            "showbackground": true,
            "ticks": "",
            "zerolinecolor": "white"
           }
          },
          "shapedefaults": {
           "line": {
            "color": "#2a3f5f"
           }
          },
          "ternary": {
           "aaxis": {
            "gridcolor": "white",
            "linecolor": "white",
            "ticks": ""
           },
           "baxis": {
            "gridcolor": "white",
            "linecolor": "white",
            "ticks": ""
           },
           "bgcolor": "#E5ECF6",
           "caxis": {
            "gridcolor": "white",
            "linecolor": "white",
            "ticks": ""
           }
          },
          "title": {
           "x": 0.05
          },
          "xaxis": {
           "automargin": true,
           "gridcolor": "white",
           "linecolor": "white",
           "ticks": "",
           "title": {
            "standoff": 15
           },
           "zerolinecolor": "white",
           "zerolinewidth": 2
          },
          "yaxis": {
           "automargin": true,
           "gridcolor": "white",
           "linecolor": "white",
           "ticks": "",
           "title": {
            "standoff": 15
           },
           "zerolinecolor": "white",
           "zerolinewidth": 2
          }
         }
        },
        "title": {
         "text": "Monthly Total Energy Usage"
        },
        "xaxis": {
         "anchor": "y",
         "domain": [
          0,
          0.2888888888888889
         ]
        },
        "xaxis2": {
         "anchor": "y2",
         "domain": [
          0.35555555555555557,
          0.6444444444444445
         ]
        },
        "xaxis3": {
         "anchor": "y3",
         "domain": [
          0.7111111111111111,
          1
         ]
        },
        "yaxis": {
         "anchor": "x",
         "domain": [
          0,
          1
         ],
         "title": {
          "text": "Energy (kWh)"
         }
        },
        "yaxis2": {
         "anchor": "x2",
         "domain": [
          0,
          1
         ]
        },
        "yaxis3": {
         "anchor": "x3",
         "domain": [
          0,
          1
         ]
        }
       }
      }
     },
     "metadata": {},
     "output_type": "display_data"
    }
   ],
   "source": [
    "plot_datasets_monthly()"
   ]
  },
  {
   "cell_type": "code",
   "execution_count": 22,
   "metadata": {},
   "outputs": [
    {
     "data": {
      "text/plain": [
       "Month\n",
       "1      9563.779652\n",
       "2     11205.168864\n",
       "3     10021.888756\n",
       "4      5739.921388\n",
       "5      8015.771756\n",
       "6      2812.879287\n",
       "7      1998.993427\n",
       "8      1290.168084\n",
       "9      1966.378451\n",
       "10     4721.300882\n",
       "11     7453.441033\n",
       "12    10536.379511\n",
       "Name: kWh, dtype: float64"
      ]
     },
     "execution_count": 22,
     "metadata": {},
     "output_type": "execute_result"
    }
   ],
   "source": [
    "hist_monthly[\"hot\"]"
   ]
  },
  {
   "cell_type": "code",
   "execution_count": 23,
   "metadata": {},
   "outputs": [],
   "source": [
    "# {'elect': 3.100677715042496, 'hot': 1.8389211816597943, 'chill': 9.354337655572776}\n",
    "    "
   ]
  },
  {
   "cell_type": "code",
   "execution_count": null,
   "metadata": {},
   "outputs": [],
   "source": []
  }
 ],
 "metadata": {
  "interpreter": {
   "hash": "83394fd6528936df3c1aec41a113e1e006dc45c8dc5352109b9d4b356eececd5"
  },
  "kernelspec": {
   "display_name": "Python 3.9.10 ('cee256venv': venv)",
   "language": "python",
   "name": "python3"
  },
  "language_info": {
   "codemirror_mode": {
    "name": "ipython",
    "version": 3
   },
   "file_extension": ".py",
   "mimetype": "text/x-python",
   "name": "python",
   "nbconvert_exporter": "python",
   "pygments_lexer": "ipython3",
   "version": "3.9.10"
  },
  "orig_nbformat": 4
 },
 "nbformat": 4,
 "nbformat_minor": 2
}
