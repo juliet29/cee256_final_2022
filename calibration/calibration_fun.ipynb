{
 "cells": [
  {
   "cell_type": "code",
   "execution_count": 17,
   "metadata": {},
   "outputs": [],
   "source": [
    "import os\n",
    "\n",
    "from ladybug.sql import SQLiteResult\n",
    "from ladybug import analysisperiod as ap\n",
    "\n",
    "from eppy import *\n",
    "\n",
    "import plotly.graph_objects as go\n",
    "import plotly.express as px\n",
    "from plotly.subplots import make_subplots\n",
    "\n",
    "import pandas as pd\n",
    "\n",
    "import numpy as np\n",
    "\n",
    "from collections import OrderedDict\n",
    "\n",
    "import datetime as dt\n",
    "\n",
    "from IPython.display import display\n",
    "\n"
   ]
  },
  {
   "cell_type": "markdown",
   "metadata": {},
   "source": [
    "# Class Definition"
   ]
  },
  {
   "cell_type": "code",
   "execution_count": 18,
   "metadata": {},
   "outputs": [],
   "source": [
    "class calibration_functions():\n",
    "    def __init__(self):\n",
    "        self.root = os.getcwd()\n",
    "        self.hist_month_by_hr = None\n",
    "        self.hist_monthly = None\n",
    "        self.sim_data_hr = None\n",
    "        self.sim_data_month = None\n",
    "        self.sim_sqld = None\n",
    "        self.hours = [dt.datetime(2019, 1, 1, i ).strftime(\"%H:%M\") for i in range(24)]\n",
    "        self.sim_folder = None\n",
    "        \n",
    "\n",
    "    def monthly_by_hour_from_sql(self, sql_dir_name):\n",
    "        sqlFile = os.path.join(sql_dir_name, \"eplusout.sql\")\n",
    "        sqld = SQLiteResult(sqlFile)\n",
    "\n",
    "        elect = sqld.data_collections_by_output_name(\"Electricity:Facility\")[-1]\n",
    "        hot = sqld.data_collections_by_output_name(\"DistrictHeating:Facility\")[-1]\n",
    "        chill = sqld.data_collections_by_output_name(\"DistrictCooling:Facility\")[-1]\n",
    "\n",
    "        sim_month_by_hr = OrderedDict({\n",
    "        \"elect\": elect.average_monthly_per_hour(),\n",
    "        \"hot\": hot.average_monthly_per_hour(),\n",
    "        \"chill\": chill.average_monthly_per_hour()\n",
    "        })\n",
    "\n",
    "        sim_monthly= OrderedDict({\n",
    "        \"elect\": elect.total_monthly(),\n",
    "        \"hot\": hot.total_monthly(),\n",
    "        \"chill\": chill.total_monthly(),\n",
    "        })\n",
    "\n",
    "        return sim_month_by_hr, sim_monthly, sqld\n",
    "    \n",
    "    \n",
    "    def load_simulations(self, sim_names, eppy_adjusted_sim_folder):\n",
    "        \"CALLABLE!\"\n",
    "        \n",
    "        adjusted_model_dir = os.path.join(self.root, eppy_adjusted_sim_folder)\n",
    "        self.sim_folder = adjusted_model_dir\n",
    "        sim_name_paths = {k: os.path.join(adjusted_model_dir, v) for k,v in sim_names.items()}\n",
    "\n",
    "        sim_data_hr = OrderedDict()\n",
    "        sim_data_month = OrderedDict()\n",
    "        sim_sqld = OrderedDict()\n",
    "\n",
    "        for k, v in zip(sim_names.values(), sim_name_paths.values()):\n",
    "            sim_data_hr[k] = self.monthly_by_hour_from_sql(v)[0]\n",
    "            sim_data_month[k] = self.monthly_by_hour_from_sql(v)[1]\n",
    "            sim_sqld[k] = self.monthly_by_hour_from_sql(v)[2]\n",
    "        self.sim_data_hr = sim_data_hr\n",
    "        self.sim_data_month = sim_data_month\n",
    "        self.sim_sqld = sim_sqld\n",
    "\n",
    "        # return sim_data_hr, sim_data_month \n",
    "    \n",
    "    \n",
    "    def plot_output_by_zone(self, sim_key, data_name, month_num):\n",
    "        sqld = self.sim_sqld[sim_key]\n",
    "        sql_outputs_info_0 = sqld.available_outputs_info\n",
    "        sql_outputs_info = {item[\"output_name\"]: {\"name\": item[\"output_name\"], \n",
    "                            \"units\": item[\"units\"],\n",
    "                            \"data_type\": item[\"data_type\"]} \n",
    "                            for item in sql_outputs_info_0 }\n",
    "        zone_data = sqld.data_collections_by_output_name_run_period(data_name, 7)\n",
    "        zonal_data  = OrderedDict({ix: value.average_monthly_per_hour() for ix, value in enumerate(zone_data)})\n",
    "        num_zones = len(list(zonal_data.keys()))\n",
    "\n",
    "        month = ap.AnalysisPeriod(st_month=month_num, end_month=month_num)\n",
    "\n",
    "        data_type = sql_outputs_info[data_name][\"data_type\"]\n",
    "        units = sql_outputs_info[data_name][\"units\"]\n",
    "\n",
    "        fig = go.Figure()\n",
    "\n",
    "        for k, v in zonal_data.items():\n",
    "                fig.add_trace(\n",
    "                    go.Scatter(x=self.hours, y=v.filter_by_analysis_period(month).values, mode='lines+markers', marker_size=num_zones*7-5*(k+1), name=f\"Zone {k+1}\")\n",
    "                )\n",
    "\n",
    "        fig.update_layout(\n",
    "            title=f\"{data_name} Month #{month_num}\",\n",
    "            xaxis_title=\"Hours\",\n",
    "            yaxis_title=f\"{data_type} [{units}]\",\n",
    "        )\n",
    "        fig.show()\n",
    "\n",
    "    def plot_system_sizing_data(self, sim_key):\n",
    "        ddySizeFile = os.path.join(self.sim_folder, sim_key, \"epluszsz.csv\")\n",
    "        des_loads = pd.read_csv(ddySizeFile)\n",
    "        fig = make_subplots(\n",
    "            rows=1, cols=3,\n",
    "            subplot_titles=(\"Heat Mass Flow [kg/s]\", \n",
    "            \"Heat Load [W]\", \"Cool Load [W]\"))\n",
    "\n",
    "\n",
    "        for i in [1,2]:\n",
    "            for k in [1,3]:\n",
    "                fig.add_trace(\n",
    "                            go.Scatter(x=des_loads.Time, \n",
    "                            y=des_loads[f\"THERMAL ZONE: SPACE {i}0{k}:CA_PALO-ALTO-AP ANN HTG 99.6% CONDNS DB:Des Heat Mass Flow [kg/s]\"], mode='lines+markers', \n",
    "                            name=f\"Heating Space {i}0{k}\",\n",
    "                            ),row=1, col=1)\n",
    "        for i in [1,2]:\n",
    "            for k in [1,3]:\n",
    "                fig.add_trace(\n",
    "                            go.Scatter(x=des_loads.Time, \n",
    "                            y=des_loads[f\"THERMAL ZONE: SPACE {i}0{k}:CA_PALO-ALTO-AP ANN HTG 99.6% CONDNS DB:Des Heat Load [W]\"], mode='lines+markers', \n",
    "                            name=f\"Heating Space {i}0{k}\"\n",
    "                            ), row=1, col=2)\n",
    "\n",
    "        for i in [1,2]:\n",
    "            for k in [1,3]:\n",
    "                fig.add_trace(\n",
    "                            go.Scatter(x=des_loads.Time, \n",
    "                            y=des_loads[f\"THERMAL ZONE: SPACE {i}0{k}:CA_PALO-ALTO-AP ANN CLG 0.4% CONDNS DB=>MCWB:Des Sens Cool Load [W]\"], mode='lines+markers', \n",
    "                            name=f\"Cooling Space {i}0{k}\"\n",
    "                            ), row=1, col=3)\n",
    "\n",
    "        fig.show()\n",
    "\n",
    "\n",
    "        \n",
    "\n",
    "\n",
    "\n",
    "    def calc_historical_data(self):\n",
    "        # conversion factors\n",
    "        tonHr_kwHr = 3.5169 # 1 ton-hr = 3.517 kWh\n",
    "        kbtu_kwHr = 1/3.412 # 1 kbtu = 0.29 kwHr\n",
    "\n",
    "        # load data \n",
    "        historical_data_path = os.path.join(self.root, \"data/Thornton Utilities 2019.xlsx\")\n",
    "\n",
    "        # electricity # kwh \n",
    "        hist_elect_hourly = pd.read_excel(historical_data_path, sheet_name=\"Electricity hourly\", usecols=\"A:E\")\n",
    "\n",
    "        # chilled water  -> convert ton hours to kWh\n",
    "        hist_chw_hourly = pd.read_excel(historical_data_path, sheet_name=\"CHW hourly\", usecols=\"A:E\")\n",
    "        hist_chw_hourly[\"kWh\"] = hist_chw_hourly[\"ton-hours\"]*tonHr_kwHr\n",
    "\n",
    "        # hot water -> convert kbtu to kWh\n",
    "        hist_hw_hourly = pd.read_excel(historical_data_path, sheet_name=\"HW hourly\", usecols=\"A:E\")\n",
    "        hist_hw_hourly[\"kWh\"] = hist_hw_hourly[\"kBtu\"]*kbtu_kwHr \n",
    "\n",
    "        # month by hour\n",
    "        self.hist_month_by_hr = OrderedDict({\n",
    "            \"elect\" : hist_elect_hourly.groupby([\"Month\", \"Hour\"])[\"kWh\"].mean(),\n",
    "            \"hot\": hist_hw_hourly.groupby([\"Month\", \"Hour\"])[\"kWh\"].mean(),\n",
    "            \"chill\": hist_chw_hourly.groupby([\"Month\", \"Hour\"])[\"kWh\"].mean(),\n",
    "        })\n",
    "\n",
    "        # monthly \n",
    "        self.hist_monthly = OrderedDict({\n",
    "        \"elect\": hist_elect_hourly.groupby(\"Month\")[\"kWh\"].sum(),\n",
    "        \"hot\":  hist_hw_hourly.groupby(\"Month\")[\"kWh\"].sum(),\n",
    "        \"chill\":  hist_chw_hourly.groupby(\"Month\")[\"kWh\"].sum()\n",
    "        })\n",
    "\n",
    "    def calc_metrics(self, simulated, measured):\n",
    "        ts = simulated\n",
    "        tm = measured\n",
    "        tm_avg = np.mean(measured)\n",
    "        n = len(tm)\n",
    "        rmse = (100/tm_avg) * np.sqrt( (1/n) * np.sum((ts - tm)**2) )\n",
    "        mbe = (100/tm_avg) * (np.sum(ts - tm)/n)\n",
    "        return np.round(rmse,3), np.round(mbe,3)\n",
    "\n",
    "    def plot_datasets_monthly_by_hour(self, month_num, month_name):\n",
    "        \"\"\"\n",
    "        month_num = integer number 1 - 12\n",
    "        month_name = string month name \n",
    "        \"\"\"\n",
    "        hours = [dt.datetime(2019, 1, 1, i ).strftime(\"%H:%M\") for i in range(24)]\n",
    "\n",
    "        month = ap.AnalysisPeriod(st_month=month_num, end_month=month_num)\n",
    "        blueShades = px.colors.qualitative.Vivid[:len(self.sim_data_hr.keys())]\n",
    "\n",
    "        fig = make_subplots(\n",
    "            rows=1, cols=3,\n",
    "            subplot_titles=(\"Electricity\", \"Hot Water\", \"Chilled Water\"))\n",
    "\n",
    "        # historical/ measured data \n",
    "        for (ix, value) in  enumerate(self.hist_month_by_hr.values()):\n",
    "            showLegend = True\n",
    "            if ix > 0:\n",
    "                showLegend = False\n",
    "            fig.add_trace(go.Scatter(  \n",
    "                x=hours,\n",
    "                y=value[month.st_month] , \n",
    "                mode='lines',\n",
    "                name=\"Historical\",\n",
    "                legendgroup=\"Months\",\n",
    "                line=dict(color='red'),\n",
    "                showlegend=showLegend),\n",
    "                row=1, col=ix+1)\n",
    "\n",
    "        # simulated datasets \n",
    "        for (name, dataset), blueShade in zip(self.sim_data_hr.items(), blueShades):\n",
    "            for (ix, sim), hist in zip(enumerate(dataset.values()),self.hist_month_by_hr.values()) :\n",
    "                showLegend = True\n",
    "                if ix > 0:\n",
    "                    showLegend = False\n",
    "                fig.add_trace(go.Scatter( \n",
    "                    x=hours,\n",
    "                    y=sim.filter_by_analysis_period(month).values , \n",
    "                    mode='lines+markers',\n",
    "                    name=name,\n",
    "                    legendgroup=\"Months\",\n",
    "                    line=dict(color=blueShade),\n",
    "                    showlegend=showLegend),\n",
    "                    row=1, col=ix+1)\n",
    "\n",
    "        fig.update_layout(title=f\"{month_name} Average Hourly Energy Usage\",\n",
    "            yaxis_title=\"Energy (kWh)\",)\n",
    "    \n",
    "    # calculate metrics \n",
    "        metrics = {}\n",
    "        for name, dataset in self.sim_data_hr.items():\n",
    "            type_dict = {}\n",
    "            for (k, sim), hist in zip(dataset.items(), self.hist_month_by_hr.values()):\n",
    "                type_dict[k] = self.calc_metrics(sim.filter_by_analysis_period(month).values, hist[month.st_month])\n",
    "            metrics[name] = type_dict\n",
    "        metrics = pd.DataFrame(metrics)\n",
    "        display(metrics)\n",
    "\n",
    "        fig.show()\n",
    "    \n",
    "\n",
    "    def plot_datasets_monthly(self):\n",
    "        months = [dt.datetime(2019, i+1, 1).strftime(\"%b\") for i in range(12)]\n",
    "        blueShades = px.colors.qualitative.Vivid[:len(self.sim_data_month.keys())]\n",
    "\n",
    "        fig = make_subplots(\n",
    "            rows=1, cols=3,\n",
    "            subplot_titles=(\"Electricity\", \"Hot Water\", \"Chilled Water\"))\n",
    "\n",
    "        # historical/ measured data \n",
    "        for (ix, value) in  enumerate(self.hist_monthly.values()):\n",
    "            showLegend = True\n",
    "            if ix > 0:\n",
    "                showLegend = False\n",
    "            fig.add_trace(go.Scatter(  \n",
    "                x=months,\n",
    "                y=value, \n",
    "                mode='lines',\n",
    "                name=\"Historical\",\n",
    "                legendgroup=\"Months\",\n",
    "                line=dict(color='red'),\n",
    "                showlegend=showLegend),\n",
    "                row=1, col=ix+1)\n",
    "\n",
    "        # simulated datasets \n",
    "        for (name, dataset), blueShade in zip(self.sim_data_month.items(), blueShades):\n",
    "            for (ix, sim), hist in zip(enumerate(dataset.values()),self.hist_monthly.values()) :\n",
    "                showLegend = True\n",
    "                if ix > 0:\n",
    "                    showLegend = False\n",
    "                fig.add_trace(go.Scatter( \n",
    "                    x=months,\n",
    "                    y=sim.values , \n",
    "                    mode='lines+markers',\n",
    "                    name=name,\n",
    "                    legendgroup=\"Months\",\n",
    "                    line=dict(color=blueShade),\n",
    "                    showlegend=showLegend),\n",
    "                    row=1, col=ix+1)\n",
    "\n",
    "        fig.update_layout(title=f\"Monthly Total Energy Usage\",\n",
    "            yaxis_title=\"Energy (kWh)\",)\n",
    "    \n",
    "    # calculate metrics \n",
    "        metrics = {}\n",
    "        for name, dataset in self.sim_data_month.items():\n",
    "            type_dict = {}\n",
    "            for (k, sim), hist in zip(dataset.items(), self.hist_monthly.values()):\n",
    "                type_dict[k] = self.calc_metrics(sim.values, hist)\n",
    "            metrics[name] = type_dict\n",
    "        metrics = pd.DataFrame(metrics)\n",
    "        display(metrics)\n",
    "\n",
    "        fig.show()\n",
    "\n",
    "        return fig"
   ]
  },
  {
   "cell_type": "markdown",
   "metadata": {},
   "source": [
    "# Test"
   ]
  },
  {
   "cell_type": "code",
   "execution_count": 19,
   "metadata": {},
   "outputs": [],
   "source": [
    "# initialize class\n",
    "c = calibration_functions()\n",
    "# load historical data\n",
    "c.calc_historical_data()\n",
    "\n",
    "sim_names = {\n",
    "0: \"eh6\",\n",
    "1: \"03_09_sizing_zone_max_af_fraction_0.8\",\n",
    "2: \"sac_ddy\",\n",
    "21: \"eh8\"\n",
    "}\n",
    "eppy_adjusted_sim_folder = \"eppy_adjusted_models_2\"\n",
    "\n",
    "\n",
    "# pass in desired set of simulations \n",
    "c.load_simulations(sim_names, eppy_adjusted_sim_folder)"
   ]
  },
  {
   "cell_type": "code",
   "execution_count": 20,
   "metadata": {},
   "outputs": [
    {
     "data": {
      "text/html": [
       "<div>\n",
       "<style scoped>\n",
       "    .dataframe tbody tr th:only-of-type {\n",
       "        vertical-align: middle;\n",
       "    }\n",
       "\n",
       "    .dataframe tbody tr th {\n",
       "        vertical-align: top;\n",
       "    }\n",
       "\n",
       "    .dataframe thead th {\n",
       "        text-align: right;\n",
       "    }\n",
       "</style>\n",
       "<table border=\"1\" class=\"dataframe\">\n",
       "  <thead>\n",
       "    <tr style=\"text-align: right;\">\n",
       "      <th></th>\n",
       "      <th>eh6</th>\n",
       "      <th>03_09_sizing_zone_max_af_fraction_0.8</th>\n",
       "      <th>sac_ddy</th>\n",
       "      <th>eh8</th>\n",
       "    </tr>\n",
       "  </thead>\n",
       "  <tbody>\n",
       "    <tr>\n",
       "      <th>elect</th>\n",
       "      <td>(34.158, -32.478)</td>\n",
       "      <td>(34.158, -32.478)</td>\n",
       "      <td>(34.158, -32.478)</td>\n",
       "      <td>(34.331, -32.772)</td>\n",
       "    </tr>\n",
       "    <tr>\n",
       "      <th>hot</th>\n",
       "      <td>(84.888, -74.878)</td>\n",
       "      <td>(84.888, -74.878)</td>\n",
       "      <td>(84.888, -74.878)</td>\n",
       "      <td>(49.623, -39.36)</td>\n",
       "    </tr>\n",
       "    <tr>\n",
       "      <th>chill</th>\n",
       "      <td>(68.056, 51.115)</td>\n",
       "      <td>(68.056, 51.115)</td>\n",
       "      <td>(68.056, 51.115)</td>\n",
       "      <td>(39.435, 24.731)</td>\n",
       "    </tr>\n",
       "  </tbody>\n",
       "</table>\n",
       "</div>"
      ],
      "text/plain": [
       "                     eh6 03_09_sizing_zone_max_af_fraction_0.8  \\\n",
       "elect  (34.158, -32.478)                     (34.158, -32.478)   \n",
       "hot    (84.888, -74.878)                     (84.888, -74.878)   \n",
       "chill   (68.056, 51.115)                      (68.056, 51.115)   \n",
       "\n",
       "                 sac_ddy                eh8  \n",
       "elect  (34.158, -32.478)  (34.331, -32.772)  \n",
       "hot    (84.888, -74.878)   (49.623, -39.36)  \n",
       "chill   (68.056, 51.115)   (39.435, 24.731)  "
      ]
     },
     "metadata": {},
     "output_type": "display_data"
    },
    {
     "data": {
      "application/vnd.plotly.v1+json": {
       "config": {
        "plotlyServerURL": "https://plot.ly"
       },
       "data": [
        {
         "legendgroup": "Months",
         "line": {
          "color": "red"
         },
         "mode": "lines",
         "name": "Historical",
         "showlegend": true,
         "type": "scatter",
         "x": [
          "Jan",
          "Feb",
          "Mar",
          "Apr",
          "May",
          "Jun",
          "Jul",
          "Aug",
          "Sep",
          "Oct",
          "Nov",
          "Dec"
         ],
         "xaxis": "x",
         "y": [
          13804.135548988,
          13485.947478456,
          12435.215617035,
          12475.169092449,
          15076.189886713,
          11582.749312731,
          11381.135282711,
          11519.249652601,
          11531.941250453,
          14825.819485343,
          13932.567953833,
          11533.748425710999
         ],
         "yaxis": "y"
        },
        {
         "legendgroup": "Months",
         "line": {
          "color": "red"
         },
         "mode": "lines",
         "name": "Historical",
         "showlegend": false,
         "type": "scatter",
         "x": [
          "Jan",
          "Feb",
          "Mar",
          "Apr",
          "May",
          "Jun",
          "Jul",
          "Aug",
          "Sep",
          "Oct",
          "Nov",
          "Dec"
         ],
         "xaxis": "x2",
         "y": [
          9563.77965172128,
          11205.16886436108,
          10021.888756073346,
          5739.921387760478,
          8015.7717564493705,
          2812.879286768464,
          1998.9934268026086,
          1290.168084198344,
          1966.378451074663,
          4721.300881587632,
          7453.441033456184,
          10536.379511077228
         ],
         "yaxis": "y2"
        },
        {
         "legendgroup": "Months",
         "line": {
          "color": "red"
         },
         "mode": "lines",
         "name": "Historical",
         "showlegend": false,
         "type": "scatter",
         "x": [
          "Jan",
          "Feb",
          "Mar",
          "Apr",
          "May",
          "Jun",
          "Jul",
          "Aug",
          "Sep",
          "Oct",
          "Nov",
          "Dec"
         ],
         "xaxis": "x3",
         "y": [
          1308.771521681986,
          517.9163517552686,
          798.217789308849,
          3495.4945632151275,
          3561.494405341774,
          9626.23899465311,
          9910.249118331416,
          10605.817253261896,
          9655.609547633616,
          5663.642200932546,
          1766.7863219353267,
          365.59828070736137
         ],
         "yaxis": "y3"
        },
        {
         "legendgroup": "Months",
         "line": {
          "color": "rgb(229, 134, 6)"
         },
         "mode": "lines+markers",
         "name": "eh6",
         "showlegend": true,
         "type": "scatter",
         "x": [
          "Jan",
          "Feb",
          "Mar",
          "Apr",
          "May",
          "Jun",
          "Jul",
          "Aug",
          "Sep",
          "Oct",
          "Nov",
          "Dec"
         ],
         "xaxis": "x",
         "y": [
          8841.202115263975,
          7807.586915240723,
          8472.949840595933,
          8616.790811310782,
          8942.457271834855,
          8418.348492103949,
          9097.069909901926,
          9017.925297358968,
          8556.0891497601,
          8981.029216930041,
          8352.364685319912,
          8598.519185028385
         ],
         "yaxis": "y"
        },
        {
         "legendgroup": "Months",
         "line": {
          "color": "rgb(229, 134, 6)"
         },
         "mode": "lines+markers",
         "name": "eh6",
         "showlegend": false,
         "type": "scatter",
         "x": [
          "Jan",
          "Feb",
          "Mar",
          "Apr",
          "May",
          "Jun",
          "Jul",
          "Aug",
          "Sep",
          "Oct",
          "Nov",
          "Dec"
         ],
         "xaxis": "x2",
         "y": [
          2871.0293188482647,
          3303.2554730711236,
          2256.852438808626,
          1013.3566953832382,
          927.4182772678373,
          300.29171456993805,
          290.614191426822,
          302.99776965116985,
          468.6946321247221,
          1177.463104840042,
          2853.6029602452813,
          3157.7206115599856
         ],
         "yaxis": "y2"
        },
        {
         "legendgroup": "Months",
         "line": {
          "color": "rgb(229, 134, 6)"
         },
         "mode": "lines+markers",
         "name": "eh6",
         "showlegend": false,
         "type": "scatter",
         "x": [
          "Jan",
          "Feb",
          "Mar",
          "Apr",
          "May",
          "Jun",
          "Jul",
          "Aug",
          "Sep",
          "Oct",
          "Nov",
          "Dec"
         ],
         "xaxis": "x3",
         "y": [
          1792.7141054687133,
          637.6669354685713,
          2094.227992087764,
          6094.480698686093,
          5162.42324377246,
          13252.19233818179,
          14775.89511859655,
          18141.879504900015,
          14000.34598480809,
          6820.544753856212,
          2285.288787851519,
          1494.7838351304358
         ],
         "yaxis": "y3"
        },
        {
         "legendgroup": "Months",
         "line": {
          "color": "rgb(93, 105, 177)"
         },
         "mode": "lines+markers",
         "name": "03_09_sizing_zone_max_af_fraction_0.8",
         "showlegend": true,
         "type": "scatter",
         "x": [
          "Jan",
          "Feb",
          "Mar",
          "Apr",
          "May",
          "Jun",
          "Jul",
          "Aug",
          "Sep",
          "Oct",
          "Nov",
          "Dec"
         ],
         "xaxis": "x",
         "y": [
          8841.202115263975,
          7807.586915240723,
          8472.949840595933,
          8616.790811310782,
          8942.457271834855,
          8418.348492103949,
          9097.069909901926,
          9017.925297358968,
          8556.0891497601,
          8981.029216930041,
          8352.364685319912,
          8598.519185028385
         ],
         "yaxis": "y"
        },
        {
         "legendgroup": "Months",
         "line": {
          "color": "rgb(93, 105, 177)"
         },
         "mode": "lines+markers",
         "name": "03_09_sizing_zone_max_af_fraction_0.8",
         "showlegend": false,
         "type": "scatter",
         "x": [
          "Jan",
          "Feb",
          "Mar",
          "Apr",
          "May",
          "Jun",
          "Jul",
          "Aug",
          "Sep",
          "Oct",
          "Nov",
          "Dec"
         ],
         "xaxis": "x2",
         "y": [
          2871.0293188482647,
          3303.2554730711236,
          2256.852438808626,
          1013.3566953832382,
          927.4182772678373,
          300.29171456993805,
          290.614191426822,
          302.99776965116985,
          468.6946321247221,
          1177.463104840042,
          2853.6029602452813,
          3157.7206115599856
         ],
         "yaxis": "y2"
        },
        {
         "legendgroup": "Months",
         "line": {
          "color": "rgb(93, 105, 177)"
         },
         "mode": "lines+markers",
         "name": "03_09_sizing_zone_max_af_fraction_0.8",
         "showlegend": false,
         "type": "scatter",
         "x": [
          "Jan",
          "Feb",
          "Mar",
          "Apr",
          "May",
          "Jun",
          "Jul",
          "Aug",
          "Sep",
          "Oct",
          "Nov",
          "Dec"
         ],
         "xaxis": "x3",
         "y": [
          1792.7141054687133,
          637.6669354685713,
          2094.227992087764,
          6094.480698686093,
          5162.42324377246,
          13252.19233818179,
          14775.89511859655,
          18141.879504900015,
          14000.34598480809,
          6820.544753856212,
          2285.288787851519,
          1494.7838351304358
         ],
         "yaxis": "y3"
        },
        {
         "legendgroup": "Months",
         "line": {
          "color": "rgb(82, 188, 163)"
         },
         "mode": "lines+markers",
         "name": "sac_ddy",
         "showlegend": true,
         "type": "scatter",
         "x": [
          "Jan",
          "Feb",
          "Mar",
          "Apr",
          "May",
          "Jun",
          "Jul",
          "Aug",
          "Sep",
          "Oct",
          "Nov",
          "Dec"
         ],
         "xaxis": "x",
         "y": [
          8841.202115263975,
          7807.586915240723,
          8472.949840595933,
          8616.790811310782,
          8942.457271834855,
          8418.348492103949,
          9097.069909901926,
          9017.925297358968,
          8556.0891497601,
          8981.029216930041,
          8352.364685319912,
          8598.519185028385
         ],
         "yaxis": "y"
        },
        {
         "legendgroup": "Months",
         "line": {
          "color": "rgb(82, 188, 163)"
         },
         "mode": "lines+markers",
         "name": "sac_ddy",
         "showlegend": false,
         "type": "scatter",
         "x": [
          "Jan",
          "Feb",
          "Mar",
          "Apr",
          "May",
          "Jun",
          "Jul",
          "Aug",
          "Sep",
          "Oct",
          "Nov",
          "Dec"
         ],
         "xaxis": "x2",
         "y": [
          2871.0293188482647,
          3303.2554730711236,
          2256.852438808626,
          1013.3566953832382,
          927.4182772678373,
          300.29171456993805,
          290.614191426822,
          302.99776965116985,
          468.6946321247221,
          1177.463104840042,
          2853.6029602452813,
          3157.7206115599856
         ],
         "yaxis": "y2"
        },
        {
         "legendgroup": "Months",
         "line": {
          "color": "rgb(82, 188, 163)"
         },
         "mode": "lines+markers",
         "name": "sac_ddy",
         "showlegend": false,
         "type": "scatter",
         "x": [
          "Jan",
          "Feb",
          "Mar",
          "Apr",
          "May",
          "Jun",
          "Jul",
          "Aug",
          "Sep",
          "Oct",
          "Nov",
          "Dec"
         ],
         "xaxis": "x3",
         "y": [
          1792.7141054687133,
          637.6669354685713,
          2094.227992087764,
          6094.480698686093,
          5162.42324377246,
          13252.19233818179,
          14775.89511859655,
          18141.879504900015,
          14000.34598480809,
          6820.544753856212,
          2285.288787851519,
          1494.7838351304358
         ],
         "yaxis": "y3"
        },
        {
         "legendgroup": "Months",
         "line": {
          "color": "rgb(153, 201, 69)"
         },
         "mode": "lines+markers",
         "name": "eh8",
         "showlegend": true,
         "type": "scatter",
         "x": [
          "Jan",
          "Feb",
          "Mar",
          "Apr",
          "May",
          "Jun",
          "Jul",
          "Aug",
          "Sep",
          "Oct",
          "Nov",
          "Dec"
         ],
         "xaxis": "x",
         "y": [
          8856.484246259264,
          7874.516271171173,
          8541.233607310563,
          8572.702825082313,
          8885.016856120705,
          8350.833350235764,
          8900.590846214258,
          8795.518429532358,
          8481.756110087961,
          8915.67595341094,
          8407.077940111163,
          8670.213998610987
         ],
         "yaxis": "y"
        },
        {
         "legendgroup": "Months",
         "line": {
          "color": "rgb(153, 201, 69)"
         },
         "mode": "lines+markers",
         "name": "eh8",
         "showlegend": false,
         "type": "scatter",
         "x": [
          "Jan",
          "Feb",
          "Mar",
          "Apr",
          "May",
          "Jun",
          "Jul",
          "Aug",
          "Sep",
          "Oct",
          "Nov",
          "Dec"
         ],
         "xaxis": "x2",
         "y": [
          5871.220384615406,
          6666.822534981,
          5242.930397710485,
          2904.6387142634817,
          2714.0045335190007,
          1494.1070589769026,
          1703.679366109802,
          1655.3313883075048,
          1810.9816463866175,
          3160.969828047684,
          6001.802875574097,
          6451.358812401358
         ],
         "yaxis": "y2"
        },
        {
         "legendgroup": "Months",
         "line": {
          "color": "rgb(153, 201, 69)"
         },
         "mode": "lines+markers",
         "name": "eh8",
         "showlegend": false,
         "type": "scatter",
         "x": [
          "Jan",
          "Feb",
          "Mar",
          "Apr",
          "May",
          "Jun",
          "Jul",
          "Aug",
          "Sep",
          "Oct",
          "Nov",
          "Dec"
         ],
         "xaxis": "x3",
         "y": [
          1314.003798504432,
          346.02136583007393,
          1339.2470076685327,
          4796.014177043131,
          3625.4200517323625,
          12225.364116391273,
          11290.764342167931,
          15387.273348878563,
          12568.956778862432,
          5799.245829419273,
          1703.410847768749,
          1044.983075269879
         ],
         "yaxis": "y3"
        }
       ],
       "layout": {
        "annotations": [
         {
          "font": {
           "size": 16
          },
          "showarrow": false,
          "text": "Electricity",
          "x": 0.14444444444444446,
          "xanchor": "center",
          "xref": "paper",
          "y": 1,
          "yanchor": "bottom",
          "yref": "paper"
         },
         {
          "font": {
           "size": 16
          },
          "showarrow": false,
          "text": "Hot Water",
          "x": 0.5,
          "xanchor": "center",
          "xref": "paper",
          "y": 1,
          "yanchor": "bottom",
          "yref": "paper"
         },
         {
          "font": {
           "size": 16
          },
          "showarrow": false,
          "text": "Chilled Water",
          "x": 0.8555555555555556,
          "xanchor": "center",
          "xref": "paper",
          "y": 1,
          "yanchor": "bottom",
          "yref": "paper"
         }
        ],
        "template": {
         "data": {
          "bar": [
           {
            "error_x": {
             "color": "#2a3f5f"
            },
            "error_y": {
             "color": "#2a3f5f"
            },
            "marker": {
             "line": {
              "color": "#E5ECF6",
              "width": 0.5
             },
             "pattern": {
              "fillmode": "overlay",
              "size": 10,
              "solidity": 0.2
             }
            },
            "type": "bar"
           }
          ],
          "barpolar": [
           {
            "marker": {
             "line": {
              "color": "#E5ECF6",
              "width": 0.5
             },
             "pattern": {
              "fillmode": "overlay",
              "size": 10,
              "solidity": 0.2
             }
            },
            "type": "barpolar"
           }
          ],
          "carpet": [
           {
            "aaxis": {
             "endlinecolor": "#2a3f5f",
             "gridcolor": "white",
             "linecolor": "white",
             "minorgridcolor": "white",
             "startlinecolor": "#2a3f5f"
            },
            "baxis": {
             "endlinecolor": "#2a3f5f",
             "gridcolor": "white",
             "linecolor": "white",
             "minorgridcolor": "white",
             "startlinecolor": "#2a3f5f"
            },
            "type": "carpet"
           }
          ],
          "choropleth": [
           {
            "colorbar": {
             "outlinewidth": 0,
             "ticks": ""
            },
            "type": "choropleth"
           }
          ],
          "contour": [
           {
            "colorbar": {
             "outlinewidth": 0,
             "ticks": ""
            },
            "colorscale": [
             [
              0,
              "#0d0887"
             ],
             [
              0.1111111111111111,
              "#46039f"
             ],
             [
              0.2222222222222222,
              "#7201a8"
             ],
             [
              0.3333333333333333,
              "#9c179e"
             ],
             [
              0.4444444444444444,
              "#bd3786"
             ],
             [
              0.5555555555555556,
              "#d8576b"
             ],
             [
              0.6666666666666666,
              "#ed7953"
             ],
             [
              0.7777777777777778,
              "#fb9f3a"
             ],
             [
              0.8888888888888888,
              "#fdca26"
             ],
             [
              1,
              "#f0f921"
             ]
            ],
            "type": "contour"
           }
          ],
          "contourcarpet": [
           {
            "colorbar": {
             "outlinewidth": 0,
             "ticks": ""
            },
            "type": "contourcarpet"
           }
          ],
          "heatmap": [
           {
            "colorbar": {
             "outlinewidth": 0,
             "ticks": ""
            },
            "colorscale": [
             [
              0,
              "#0d0887"
             ],
             [
              0.1111111111111111,
              "#46039f"
             ],
             [
              0.2222222222222222,
              "#7201a8"
             ],
             [
              0.3333333333333333,
              "#9c179e"
             ],
             [
              0.4444444444444444,
              "#bd3786"
             ],
             [
              0.5555555555555556,
              "#d8576b"
             ],
             [
              0.6666666666666666,
              "#ed7953"
             ],
             [
              0.7777777777777778,
              "#fb9f3a"
             ],
             [
              0.8888888888888888,
              "#fdca26"
             ],
             [
              1,
              "#f0f921"
             ]
            ],
            "type": "heatmap"
           }
          ],
          "heatmapgl": [
           {
            "colorbar": {
             "outlinewidth": 0,
             "ticks": ""
            },
            "colorscale": [
             [
              0,
              "#0d0887"
             ],
             [
              0.1111111111111111,
              "#46039f"
             ],
             [
              0.2222222222222222,
              "#7201a8"
             ],
             [
              0.3333333333333333,
              "#9c179e"
             ],
             [
              0.4444444444444444,
              "#bd3786"
             ],
             [
              0.5555555555555556,
              "#d8576b"
             ],
             [
              0.6666666666666666,
              "#ed7953"
             ],
             [
              0.7777777777777778,
              "#fb9f3a"
             ],
             [
              0.8888888888888888,
              "#fdca26"
             ],
             [
              1,
              "#f0f921"
             ]
            ],
            "type": "heatmapgl"
           }
          ],
          "histogram": [
           {
            "marker": {
             "pattern": {
              "fillmode": "overlay",
              "size": 10,
              "solidity": 0.2
             }
            },
            "type": "histogram"
           }
          ],
          "histogram2d": [
           {
            "colorbar": {
             "outlinewidth": 0,
             "ticks": ""
            },
            "colorscale": [
             [
              0,
              "#0d0887"
             ],
             [
              0.1111111111111111,
              "#46039f"
             ],
             [
              0.2222222222222222,
              "#7201a8"
             ],
             [
              0.3333333333333333,
              "#9c179e"
             ],
             [
              0.4444444444444444,
              "#bd3786"
             ],
             [
              0.5555555555555556,
              "#d8576b"
             ],
             [
              0.6666666666666666,
              "#ed7953"
             ],
             [
              0.7777777777777778,
              "#fb9f3a"
             ],
             [
              0.8888888888888888,
              "#fdca26"
             ],
             [
              1,
              "#f0f921"
             ]
            ],
            "type": "histogram2d"
           }
          ],
          "histogram2dcontour": [
           {
            "colorbar": {
             "outlinewidth": 0,
             "ticks": ""
            },
            "colorscale": [
             [
              0,
              "#0d0887"
             ],
             [
              0.1111111111111111,
              "#46039f"
             ],
             [
              0.2222222222222222,
              "#7201a8"
             ],
             [
              0.3333333333333333,
              "#9c179e"
             ],
             [
              0.4444444444444444,
              "#bd3786"
             ],
             [
              0.5555555555555556,
              "#d8576b"
             ],
             [
              0.6666666666666666,
              "#ed7953"
             ],
             [
              0.7777777777777778,
              "#fb9f3a"
             ],
             [
              0.8888888888888888,
              "#fdca26"
             ],
             [
              1,
              "#f0f921"
             ]
            ],
            "type": "histogram2dcontour"
           }
          ],
          "mesh3d": [
           {
            "colorbar": {
             "outlinewidth": 0,
             "ticks": ""
            },
            "type": "mesh3d"
           }
          ],
          "parcoords": [
           {
            "line": {
             "colorbar": {
              "outlinewidth": 0,
              "ticks": ""
             }
            },
            "type": "parcoords"
           }
          ],
          "pie": [
           {
            "automargin": true,
            "type": "pie"
           }
          ],
          "scatter": [
           {
            "marker": {
             "colorbar": {
              "outlinewidth": 0,
              "ticks": ""
             }
            },
            "type": "scatter"
           }
          ],
          "scatter3d": [
           {
            "line": {
             "colorbar": {
              "outlinewidth": 0,
              "ticks": ""
             }
            },
            "marker": {
             "colorbar": {
              "outlinewidth": 0,
              "ticks": ""
             }
            },
            "type": "scatter3d"
           }
          ],
          "scattercarpet": [
           {
            "marker": {
             "colorbar": {
              "outlinewidth": 0,
              "ticks": ""
             }
            },
            "type": "scattercarpet"
           }
          ],
          "scattergeo": [
           {
            "marker": {
             "colorbar": {
              "outlinewidth": 0,
              "ticks": ""
             }
            },
            "type": "scattergeo"
           }
          ],
          "scattergl": [
           {
            "marker": {
             "colorbar": {
              "outlinewidth": 0,
              "ticks": ""
             }
            },
            "type": "scattergl"
           }
          ],
          "scattermapbox": [
           {
            "marker": {
             "colorbar": {
              "outlinewidth": 0,
              "ticks": ""
             }
            },
            "type": "scattermapbox"
           }
          ],
          "scatterpolar": [
           {
            "marker": {
             "colorbar": {
              "outlinewidth": 0,
              "ticks": ""
             }
            },
            "type": "scatterpolar"
           }
          ],
          "scatterpolargl": [
           {
            "marker": {
             "colorbar": {
              "outlinewidth": 0,
              "ticks": ""
             }
            },
            "type": "scatterpolargl"
           }
          ],
          "scatterternary": [
           {
            "marker": {
             "colorbar": {
              "outlinewidth": 0,
              "ticks": ""
             }
            },
            "type": "scatterternary"
           }
          ],
          "surface": [
           {
            "colorbar": {
             "outlinewidth": 0,
             "ticks": ""
            },
            "colorscale": [
             [
              0,
              "#0d0887"
             ],
             [
              0.1111111111111111,
              "#46039f"
             ],
             [
              0.2222222222222222,
              "#7201a8"
             ],
             [
              0.3333333333333333,
              "#9c179e"
             ],
             [
              0.4444444444444444,
              "#bd3786"
             ],
             [
              0.5555555555555556,
              "#d8576b"
             ],
             [
              0.6666666666666666,
              "#ed7953"
             ],
             [
              0.7777777777777778,
              "#fb9f3a"
             ],
             [
              0.8888888888888888,
              "#fdca26"
             ],
             [
              1,
              "#f0f921"
             ]
            ],
            "type": "surface"
           }
          ],
          "table": [
           {
            "cells": {
             "fill": {
              "color": "#EBF0F8"
             },
             "line": {
              "color": "white"
             }
            },
            "header": {
             "fill": {
              "color": "#C8D4E3"
             },
             "line": {
              "color": "white"
             }
            },
            "type": "table"
           }
          ]
         },
         "layout": {
          "annotationdefaults": {
           "arrowcolor": "#2a3f5f",
           "arrowhead": 0,
           "arrowwidth": 1
          },
          "autotypenumbers": "strict",
          "coloraxis": {
           "colorbar": {
            "outlinewidth": 0,
            "ticks": ""
           }
          },
          "colorscale": {
           "diverging": [
            [
             0,
             "#8e0152"
            ],
            [
             0.1,
             "#c51b7d"
            ],
            [
             0.2,
             "#de77ae"
            ],
            [
             0.3,
             "#f1b6da"
            ],
            [
             0.4,
             "#fde0ef"
            ],
            [
             0.5,
             "#f7f7f7"
            ],
            [
             0.6,
             "#e6f5d0"
            ],
            [
             0.7,
             "#b8e186"
            ],
            [
             0.8,
             "#7fbc41"
            ],
            [
             0.9,
             "#4d9221"
            ],
            [
             1,
             "#276419"
            ]
           ],
           "sequential": [
            [
             0,
             "#0d0887"
            ],
            [
             0.1111111111111111,
             "#46039f"
            ],
            [
             0.2222222222222222,
             "#7201a8"
            ],
            [
             0.3333333333333333,
             "#9c179e"
            ],
            [
             0.4444444444444444,
             "#bd3786"
            ],
            [
             0.5555555555555556,
             "#d8576b"
            ],
            [
             0.6666666666666666,
             "#ed7953"
            ],
            [
             0.7777777777777778,
             "#fb9f3a"
            ],
            [
             0.8888888888888888,
             "#fdca26"
            ],
            [
             1,
             "#f0f921"
            ]
           ],
           "sequentialminus": [
            [
             0,
             "#0d0887"
            ],
            [
             0.1111111111111111,
             "#46039f"
            ],
            [
             0.2222222222222222,
             "#7201a8"
            ],
            [
             0.3333333333333333,
             "#9c179e"
            ],
            [
             0.4444444444444444,
             "#bd3786"
            ],
            [
             0.5555555555555556,
             "#d8576b"
            ],
            [
             0.6666666666666666,
             "#ed7953"
            ],
            [
             0.7777777777777778,
             "#fb9f3a"
            ],
            [
             0.8888888888888888,
             "#fdca26"
            ],
            [
             1,
             "#f0f921"
            ]
           ]
          },
          "colorway": [
           "#636efa",
           "#EF553B",
           "#00cc96",
           "#ab63fa",
           "#FFA15A",
           "#19d3f3",
           "#FF6692",
           "#B6E880",
           "#FF97FF",
           "#FECB52"
          ],
          "font": {
           "color": "#2a3f5f"
          },
          "geo": {
           "bgcolor": "white",
           "lakecolor": "white",
           "landcolor": "#E5ECF6",
           "showlakes": true,
           "showland": true,
           "subunitcolor": "white"
          },
          "hoverlabel": {
           "align": "left"
          },
          "hovermode": "closest",
          "mapbox": {
           "style": "light"
          },
          "paper_bgcolor": "white",
          "plot_bgcolor": "#E5ECF6",
          "polar": {
           "angularaxis": {
            "gridcolor": "white",
            "linecolor": "white",
            "ticks": ""
           },
           "bgcolor": "#E5ECF6",
           "radialaxis": {
            "gridcolor": "white",
            "linecolor": "white",
            "ticks": ""
           }
          },
          "scene": {
           "xaxis": {
            "backgroundcolor": "#E5ECF6",
            "gridcolor": "white",
            "gridwidth": 2,
            "linecolor": "white",
            "showbackground": true,
            "ticks": "",
            "zerolinecolor": "white"
           },
           "yaxis": {
            "backgroundcolor": "#E5ECF6",
            "gridcolor": "white",
            "gridwidth": 2,
            "linecolor": "white",
            "showbackground": true,
            "ticks": "",
            "zerolinecolor": "white"
           },
           "zaxis": {
            "backgroundcolor": "#E5ECF6",
            "gridcolor": "white",
            "gridwidth": 2,
            "linecolor": "white",
            "showbackground": true,
            "ticks": "",
            "zerolinecolor": "white"
           }
          },
          "shapedefaults": {
           "line": {
            "color": "#2a3f5f"
           }
          },
          "ternary": {
           "aaxis": {
            "gridcolor": "white",
            "linecolor": "white",
            "ticks": ""
           },
           "baxis": {
            "gridcolor": "white",
            "linecolor": "white",
            "ticks": ""
           },
           "bgcolor": "#E5ECF6",
           "caxis": {
            "gridcolor": "white",
            "linecolor": "white",
            "ticks": ""
           }
          },
          "title": {
           "x": 0.05
          },
          "xaxis": {
           "automargin": true,
           "gridcolor": "white",
           "linecolor": "white",
           "ticks": "",
           "title": {
            "standoff": 15
           },
           "zerolinecolor": "white",
           "zerolinewidth": 2
          },
          "yaxis": {
           "automargin": true,
           "gridcolor": "white",
           "linecolor": "white",
           "ticks": "",
           "title": {
            "standoff": 15
           },
           "zerolinecolor": "white",
           "zerolinewidth": 2
          }
         }
        },
        "title": {
         "text": "Monthly Total Energy Usage"
        },
        "xaxis": {
         "anchor": "y",
         "domain": [
          0,
          0.2888888888888889
         ]
        },
        "xaxis2": {
         "anchor": "y2",
         "domain": [
          0.35555555555555557,
          0.6444444444444445
         ]
        },
        "xaxis3": {
         "anchor": "y3",
         "domain": [
          0.7111111111111111,
          1
         ]
        },
        "yaxis": {
         "anchor": "x",
         "domain": [
          0,
          1
         ],
         "title": {
          "text": "Energy (kWh)"
         }
        },
        "yaxis2": {
         "anchor": "x2",
         "domain": [
          0,
          1
         ]
        },
        "yaxis3": {
         "anchor": "x3",
         "domain": [
          0,
          1
         ]
        }
       }
      }
     },
     "metadata": {},
     "output_type": "display_data"
    }
   ],
   "source": [
    "c.plot_datasets_monthly()"
   ]
  },
  {
   "cell_type": "code",
   "execution_count": 21,
   "metadata": {},
   "outputs": [
    {
     "data": {
      "application/vnd.plotly.v1+json": {
       "config": {
        "plotlyServerURL": "https://plot.ly"
       },
       "data": [
        {
         "marker": {
          "size": 51
         },
         "mode": "lines+markers",
         "name": "Zone 1",
         "type": "scatter",
         "x": [
          "00:00",
          "01:00",
          "02:00",
          "03:00",
          "04:00",
          "05:00",
          "06:00",
          "07:00",
          "08:00",
          "09:00",
          "10:00",
          "11:00",
          "12:00",
          "13:00",
          "14:00",
          "15:00",
          "16:00",
          "17:00",
          "18:00",
          "19:00",
          "20:00",
          "21:00",
          "22:00",
          "23:00"
         ],
         "y": [
          127.61367330309247,
          127.61367330309247,
          127.61367330309247,
          127.61367330309247,
          127.61367330309247,
          144.77311332325402,
          174.798619959679,
          243.43638004032465,
          670.4970379704364,
          670.4970379704364,
          670.4970379704364,
          670.4970379704364,
          650.709575604845,
          670.4970379704364,
          549.9382695732578,
          549.9382695732578,
          549.9382695732578,
          429.8362430275579,
          321.62355821572885,
          321.62355821572885,
          233.19833576949136,
          233.19833576949136,
          144.77311332325402,
          127.61367330309247
         ]
        },
        {
         "marker": {
          "size": 46
         },
         "mode": "lines+markers",
         "name": "Zone 2",
         "type": "scatter",
         "x": [
          "00:00",
          "01:00",
          "02:00",
          "03:00",
          "04:00",
          "05:00",
          "06:00",
          "07:00",
          "08:00",
          "09:00",
          "10:00",
          "11:00",
          "12:00",
          "13:00",
          "14:00",
          "15:00",
          "16:00",
          "17:00",
          "18:00",
          "19:00",
          "20:00",
          "21:00",
          "22:00",
          "23:00"
         ],
         "y": [
          127.61367330309244,
          127.61367330309244,
          127.61367330309244,
          127.61367330309244,
          127.61367330309244,
          144.77311332325388,
          174.798619959679,
          243.43638004032462,
          670.4970379704359,
          670.4970379704359,
          670.4970379704359,
          670.4970379704359,
          650.7095756048449,
          670.4970379704359,
          549.9382695732573,
          549.9382695732572,
          549.9382695732573,
          429.83624302755743,
          321.62355821572856,
          321.62355821572856,
          233.19833576949136,
          233.19833576949136,
          144.77311332325388,
          127.61367330309244
         ]
        },
        {
         "marker": {
          "size": 41
         },
         "mode": "lines+markers",
         "name": "Zone 3",
         "type": "scatter",
         "x": [
          "00:00",
          "01:00",
          "02:00",
          "03:00",
          "04:00",
          "05:00",
          "06:00",
          "07:00",
          "08:00",
          "09:00",
          "10:00",
          "11:00",
          "12:00",
          "13:00",
          "14:00",
          "15:00",
          "16:00",
          "17:00",
          "18:00",
          "19:00",
          "20:00",
          "21:00",
          "22:00",
          "23:00"
         ],
         "y": [
          92.06668980734685,
          92.06668980734685,
          92.06668980734685,
          92.06668980734685,
          92.06668980734685,
          104.44634161669336,
          126.10819754680699,
          175.6268047841928,
          483.7290645568552,
          483.7290645568551,
          483.7290645568552,
          483.7290645568552,
          469.4534300379692,
          483.7290645568551,
          396.7521251248496,
          396.7521251248496,
          396.75212512484956,
          310.1047014043949,
          232.03482512923708,
          232.03482512923708,
          168.24058337296523,
          168.24058337296523,
          104.44634161669336,
          92.06668980734685
         ]
        },
        {
         "marker": {
          "size": 36
         },
         "mode": "lines+markers",
         "name": "Zone 4",
         "type": "scatter",
         "x": [
          "00:00",
          "01:00",
          "02:00",
          "03:00",
          "04:00",
          "05:00",
          "06:00",
          "07:00",
          "08:00",
          "09:00",
          "10:00",
          "11:00",
          "12:00",
          "13:00",
          "14:00",
          "15:00",
          "16:00",
          "17:00",
          "18:00",
          "19:00",
          "20:00",
          "21:00",
          "22:00",
          "23:00"
         ],
         "y": [
          748.0456879499557,
          748.0456879499557,
          748.0456879499557,
          748.0456879499557,
          748.0456879499557,
          857.2677044390609,
          2215.681216981863,
          2652.5692829382833,
          9986.993178085446,
          9986.993178085446,
          9986.993178085446,
          9986.993178085446,
          9873.33124222687,
          9986.993178085446,
          4543.450216591315,
          4543.450216591315,
          4543.450216591315,
          2622.579645742645,
          1958.3677080690625,
          1958.3677080690625,
          1407.8177062540615,
          1407.8177062540615,
          857.2677044390609,
          748.0456879499557
         ]
        },
        {
         "marker": {
          "size": 31
         },
         "mode": "lines+markers",
         "name": "Zone 5",
         "type": "scatter",
         "x": [
          "00:00",
          "01:00",
          "02:00",
          "03:00",
          "04:00",
          "05:00",
          "06:00",
          "07:00",
          "08:00",
          "09:00",
          "10:00",
          "11:00",
          "12:00",
          "13:00",
          "14:00",
          "15:00",
          "16:00",
          "17:00",
          "18:00",
          "19:00",
          "20:00",
          "21:00",
          "22:00",
          "23:00"
         ],
         "y": [
          610.3372792538345,
          610.3372792538345,
          610.3372792538345,
          610.3372792538345,
          610.3372792538345,
          699.4525157325954,
          1807.7944535347747,
          2164.255399449819,
          8148.478552084179,
          8148.478552084179,
          8148.478552084179,
          8148.478552084179,
          8055.740745016855,
          8148.478552084179,
          3707.0423482009323,
          3707.0423482009323,
          3707.0423482009323,
          2139.7865817470415,
          1597.8500216973407,
          1597.8500216973407,
          1148.651268714968,
          1148.651268714968,
          699.4525157325954,
          610.3372792538345
         ]
        },
        {
         "marker": {
          "size": 26
         },
         "mode": "lines+markers",
         "name": "Zone 6",
         "type": "scatter",
         "x": [
          "00:00",
          "01:00",
          "02:00",
          "03:00",
          "04:00",
          "05:00",
          "06:00",
          "07:00",
          "08:00",
          "09:00",
          "10:00",
          "11:00",
          "12:00",
          "13:00",
          "14:00",
          "15:00",
          "16:00",
          "17:00",
          "18:00",
          "19:00",
          "20:00",
          "21:00",
          "22:00",
          "23:00"
         ],
         "y": [
          4336.630699780451,
          4336.630699780451,
          4336.630699780451,
          4336.630699780451,
          4336.630699780451,
          4435.196909782815,
          5476.358001924895,
          5870.622841934345,
          7755.731880407052,
          7755.731880407052,
          7755.731880407052,
          7755.731880407052,
          7755.731880407052,
          7755.731880407052,
          7075.818773326871,
          7075.818773326871,
          7075.818773326871,
          6505.975303706334,
          6111.710463696883,
          6111.710463696883,
          5717.445623687429,
          5717.445623687429,
          4435.196909782815,
          4336.630699780451
         ]
        },
        {
         "marker": {
          "size": 21
         },
         "mode": "lines+markers",
         "name": "Zone 7",
         "type": "scatter",
         "x": [
          "00:00",
          "01:00",
          "02:00",
          "03:00",
          "04:00",
          "05:00",
          "06:00",
          "07:00",
          "08:00",
          "09:00",
          "10:00",
          "11:00",
          "12:00",
          "13:00",
          "14:00",
          "15:00",
          "16:00",
          "17:00",
          "18:00",
          "19:00",
          "20:00",
          "21:00",
          "22:00",
          "23:00"
         ],
         "y": [
          91.00028112602298,
          91.00028112602298,
          91.00028112602298,
          91.00028112602298,
          91.00028112602298,
          103.23653939978264,
          124.64748600247503,
          173.59251909751333,
          478.1260296814667,
          478.1260296814668,
          478.1260296814667,
          478.1260296814668,
          464.0157498702847,
          478.1260296814668,
          392.15654434039647,
          392.15654434039647,
          392.15654434039647,
          306.512757929627,
          229.34716521222387,
          229.34716521222387,
          166.29185230600328,
          166.29185230600328,
          103.23653939978264,
          91.00028112602298
         ]
        },
        {
         "marker": {
          "size": 16
         },
         "mode": "lines+markers",
         "name": "Zone 8",
         "type": "scatter",
         "x": [
          "00:00",
          "01:00",
          "02:00",
          "03:00",
          "04:00",
          "05:00",
          "06:00",
          "07:00",
          "08:00",
          "09:00",
          "10:00",
          "11:00",
          "12:00",
          "13:00",
          "14:00",
          "15:00",
          "16:00",
          "17:00",
          "18:00",
          "19:00",
          "20:00",
          "21:00",
          "22:00",
          "23:00"
         ],
         "y": [
          72.16037849764892,
          72.16037849764892,
          72.16037849764892,
          72.16037849764892,
          72.16037849764892,
          81.8633488347041,
          98.84156023938745,
          137.65344158760817,
          379.13899654455525,
          379.13899654455525,
          379.13899654455525,
          379.13899654455525,
          367.94998570542833,
          379.13899654455525,
          310.96788185460616,
          310.96788185460616,
          310.96788185460616,
          243.05503623587268,
          181.86513320939878,
          181.86513320939878,
          131.86424102205152,
          131.86424102205152,
          81.8633488347041,
          72.16037849764892
         ]
        }
       ],
       "layout": {
        "template": {
         "data": {
          "bar": [
           {
            "error_x": {
             "color": "#2a3f5f"
            },
            "error_y": {
             "color": "#2a3f5f"
            },
            "marker": {
             "line": {
              "color": "#E5ECF6",
              "width": 0.5
             },
             "pattern": {
              "fillmode": "overlay",
              "size": 10,
              "solidity": 0.2
             }
            },
            "type": "bar"
           }
          ],
          "barpolar": [
           {
            "marker": {
             "line": {
              "color": "#E5ECF6",
              "width": 0.5
             },
             "pattern": {
              "fillmode": "overlay",
              "size": 10,
              "solidity": 0.2
             }
            },
            "type": "barpolar"
           }
          ],
          "carpet": [
           {
            "aaxis": {
             "endlinecolor": "#2a3f5f",
             "gridcolor": "white",
             "linecolor": "white",
             "minorgridcolor": "white",
             "startlinecolor": "#2a3f5f"
            },
            "baxis": {
             "endlinecolor": "#2a3f5f",
             "gridcolor": "white",
             "linecolor": "white",
             "minorgridcolor": "white",
             "startlinecolor": "#2a3f5f"
            },
            "type": "carpet"
           }
          ],
          "choropleth": [
           {
            "colorbar": {
             "outlinewidth": 0,
             "ticks": ""
            },
            "type": "choropleth"
           }
          ],
          "contour": [
           {
            "colorbar": {
             "outlinewidth": 0,
             "ticks": ""
            },
            "colorscale": [
             [
              0,
              "#0d0887"
             ],
             [
              0.1111111111111111,
              "#46039f"
             ],
             [
              0.2222222222222222,
              "#7201a8"
             ],
             [
              0.3333333333333333,
              "#9c179e"
             ],
             [
              0.4444444444444444,
              "#bd3786"
             ],
             [
              0.5555555555555556,
              "#d8576b"
             ],
             [
              0.6666666666666666,
              "#ed7953"
             ],
             [
              0.7777777777777778,
              "#fb9f3a"
             ],
             [
              0.8888888888888888,
              "#fdca26"
             ],
             [
              1,
              "#f0f921"
             ]
            ],
            "type": "contour"
           }
          ],
          "contourcarpet": [
           {
            "colorbar": {
             "outlinewidth": 0,
             "ticks": ""
            },
            "type": "contourcarpet"
           }
          ],
          "heatmap": [
           {
            "colorbar": {
             "outlinewidth": 0,
             "ticks": ""
            },
            "colorscale": [
             [
              0,
              "#0d0887"
             ],
             [
              0.1111111111111111,
              "#46039f"
             ],
             [
              0.2222222222222222,
              "#7201a8"
             ],
             [
              0.3333333333333333,
              "#9c179e"
             ],
             [
              0.4444444444444444,
              "#bd3786"
             ],
             [
              0.5555555555555556,
              "#d8576b"
             ],
             [
              0.6666666666666666,
              "#ed7953"
             ],
             [
              0.7777777777777778,
              "#fb9f3a"
             ],
             [
              0.8888888888888888,
              "#fdca26"
             ],
             [
              1,
              "#f0f921"
             ]
            ],
            "type": "heatmap"
           }
          ],
          "heatmapgl": [
           {
            "colorbar": {
             "outlinewidth": 0,
             "ticks": ""
            },
            "colorscale": [
             [
              0,
              "#0d0887"
             ],
             [
              0.1111111111111111,
              "#46039f"
             ],
             [
              0.2222222222222222,
              "#7201a8"
             ],
             [
              0.3333333333333333,
              "#9c179e"
             ],
             [
              0.4444444444444444,
              "#bd3786"
             ],
             [
              0.5555555555555556,
              "#d8576b"
             ],
             [
              0.6666666666666666,
              "#ed7953"
             ],
             [
              0.7777777777777778,
              "#fb9f3a"
             ],
             [
              0.8888888888888888,
              "#fdca26"
             ],
             [
              1,
              "#f0f921"
             ]
            ],
            "type": "heatmapgl"
           }
          ],
          "histogram": [
           {
            "marker": {
             "pattern": {
              "fillmode": "overlay",
              "size": 10,
              "solidity": 0.2
             }
            },
            "type": "histogram"
           }
          ],
          "histogram2d": [
           {
            "colorbar": {
             "outlinewidth": 0,
             "ticks": ""
            },
            "colorscale": [
             [
              0,
              "#0d0887"
             ],
             [
              0.1111111111111111,
              "#46039f"
             ],
             [
              0.2222222222222222,
              "#7201a8"
             ],
             [
              0.3333333333333333,
              "#9c179e"
             ],
             [
              0.4444444444444444,
              "#bd3786"
             ],
             [
              0.5555555555555556,
              "#d8576b"
             ],
             [
              0.6666666666666666,
              "#ed7953"
             ],
             [
              0.7777777777777778,
              "#fb9f3a"
             ],
             [
              0.8888888888888888,
              "#fdca26"
             ],
             [
              1,
              "#f0f921"
             ]
            ],
            "type": "histogram2d"
           }
          ],
          "histogram2dcontour": [
           {
            "colorbar": {
             "outlinewidth": 0,
             "ticks": ""
            },
            "colorscale": [
             [
              0,
              "#0d0887"
             ],
             [
              0.1111111111111111,
              "#46039f"
             ],
             [
              0.2222222222222222,
              "#7201a8"
             ],
             [
              0.3333333333333333,
              "#9c179e"
             ],
             [
              0.4444444444444444,
              "#bd3786"
             ],
             [
              0.5555555555555556,
              "#d8576b"
             ],
             [
              0.6666666666666666,
              "#ed7953"
             ],
             [
              0.7777777777777778,
              "#fb9f3a"
             ],
             [
              0.8888888888888888,
              "#fdca26"
             ],
             [
              1,
              "#f0f921"
             ]
            ],
            "type": "histogram2dcontour"
           }
          ],
          "mesh3d": [
           {
            "colorbar": {
             "outlinewidth": 0,
             "ticks": ""
            },
            "type": "mesh3d"
           }
          ],
          "parcoords": [
           {
            "line": {
             "colorbar": {
              "outlinewidth": 0,
              "ticks": ""
             }
            },
            "type": "parcoords"
           }
          ],
          "pie": [
           {
            "automargin": true,
            "type": "pie"
           }
          ],
          "scatter": [
           {
            "marker": {
             "colorbar": {
              "outlinewidth": 0,
              "ticks": ""
             }
            },
            "type": "scatter"
           }
          ],
          "scatter3d": [
           {
            "line": {
             "colorbar": {
              "outlinewidth": 0,
              "ticks": ""
             }
            },
            "marker": {
             "colorbar": {
              "outlinewidth": 0,
              "ticks": ""
             }
            },
            "type": "scatter3d"
           }
          ],
          "scattercarpet": [
           {
            "marker": {
             "colorbar": {
              "outlinewidth": 0,
              "ticks": ""
             }
            },
            "type": "scattercarpet"
           }
          ],
          "scattergeo": [
           {
            "marker": {
             "colorbar": {
              "outlinewidth": 0,
              "ticks": ""
             }
            },
            "type": "scattergeo"
           }
          ],
          "scattergl": [
           {
            "marker": {
             "colorbar": {
              "outlinewidth": 0,
              "ticks": ""
             }
            },
            "type": "scattergl"
           }
          ],
          "scattermapbox": [
           {
            "marker": {
             "colorbar": {
              "outlinewidth": 0,
              "ticks": ""
             }
            },
            "type": "scattermapbox"
           }
          ],
          "scatterpolar": [
           {
            "marker": {
             "colorbar": {
              "outlinewidth": 0,
              "ticks": ""
             }
            },
            "type": "scatterpolar"
           }
          ],
          "scatterpolargl": [
           {
            "marker": {
             "colorbar": {
              "outlinewidth": 0,
              "ticks": ""
             }
            },
            "type": "scatterpolargl"
           }
          ],
          "scatterternary": [
           {
            "marker": {
             "colorbar": {
              "outlinewidth": 0,
              "ticks": ""
             }
            },
            "type": "scatterternary"
           }
          ],
          "surface": [
           {
            "colorbar": {
             "outlinewidth": 0,
             "ticks": ""
            },
            "colorscale": [
             [
              0,
              "#0d0887"
             ],
             [
              0.1111111111111111,
              "#46039f"
             ],
             [
              0.2222222222222222,
              "#7201a8"
             ],
             [
              0.3333333333333333,
              "#9c179e"
             ],
             [
              0.4444444444444444,
              "#bd3786"
             ],
             [
              0.5555555555555556,
              "#d8576b"
             ],
             [
              0.6666666666666666,
              "#ed7953"
             ],
             [
              0.7777777777777778,
              "#fb9f3a"
             ],
             [
              0.8888888888888888,
              "#fdca26"
             ],
             [
              1,
              "#f0f921"
             ]
            ],
            "type": "surface"
           }
          ],
          "table": [
           {
            "cells": {
             "fill": {
              "color": "#EBF0F8"
             },
             "line": {
              "color": "white"
             }
            },
            "header": {
             "fill": {
              "color": "#C8D4E3"
             },
             "line": {
              "color": "white"
             }
            },
            "type": "table"
           }
          ]
         },
         "layout": {
          "annotationdefaults": {
           "arrowcolor": "#2a3f5f",
           "arrowhead": 0,
           "arrowwidth": 1
          },
          "autotypenumbers": "strict",
          "coloraxis": {
           "colorbar": {
            "outlinewidth": 0,
            "ticks": ""
           }
          },
          "colorscale": {
           "diverging": [
            [
             0,
             "#8e0152"
            ],
            [
             0.1,
             "#c51b7d"
            ],
            [
             0.2,
             "#de77ae"
            ],
            [
             0.3,
             "#f1b6da"
            ],
            [
             0.4,
             "#fde0ef"
            ],
            [
             0.5,
             "#f7f7f7"
            ],
            [
             0.6,
             "#e6f5d0"
            ],
            [
             0.7,
             "#b8e186"
            ],
            [
             0.8,
             "#7fbc41"
            ],
            [
             0.9,
             "#4d9221"
            ],
            [
             1,
             "#276419"
            ]
           ],
           "sequential": [
            [
             0,
             "#0d0887"
            ],
            [
             0.1111111111111111,
             "#46039f"
            ],
            [
             0.2222222222222222,
             "#7201a8"
            ],
            [
             0.3333333333333333,
             "#9c179e"
            ],
            [
             0.4444444444444444,
             "#bd3786"
            ],
            [
             0.5555555555555556,
             "#d8576b"
            ],
            [
             0.6666666666666666,
             "#ed7953"
            ],
            [
             0.7777777777777778,
             "#fb9f3a"
            ],
            [
             0.8888888888888888,
             "#fdca26"
            ],
            [
             1,
             "#f0f921"
            ]
           ],
           "sequentialminus": [
            [
             0,
             "#0d0887"
            ],
            [
             0.1111111111111111,
             "#46039f"
            ],
            [
             0.2222222222222222,
             "#7201a8"
            ],
            [
             0.3333333333333333,
             "#9c179e"
            ],
            [
             0.4444444444444444,
             "#bd3786"
            ],
            [
             0.5555555555555556,
             "#d8576b"
            ],
            [
             0.6666666666666666,
             "#ed7953"
            ],
            [
             0.7777777777777778,
             "#fb9f3a"
            ],
            [
             0.8888888888888888,
             "#fdca26"
            ],
            [
             1,
             "#f0f921"
            ]
           ]
          },
          "colorway": [
           "#636efa",
           "#EF553B",
           "#00cc96",
           "#ab63fa",
           "#FFA15A",
           "#19d3f3",
           "#FF6692",
           "#B6E880",
           "#FF97FF",
           "#FECB52"
          ],
          "font": {
           "color": "#2a3f5f"
          },
          "geo": {
           "bgcolor": "white",
           "lakecolor": "white",
           "landcolor": "#E5ECF6",
           "showlakes": true,
           "showland": true,
           "subunitcolor": "white"
          },
          "hoverlabel": {
           "align": "left"
          },
          "hovermode": "closest",
          "mapbox": {
           "style": "light"
          },
          "paper_bgcolor": "white",
          "plot_bgcolor": "#E5ECF6",
          "polar": {
           "angularaxis": {
            "gridcolor": "white",
            "linecolor": "white",
            "ticks": ""
           },
           "bgcolor": "#E5ECF6",
           "radialaxis": {
            "gridcolor": "white",
            "linecolor": "white",
            "ticks": ""
           }
          },
          "scene": {
           "xaxis": {
            "backgroundcolor": "#E5ECF6",
            "gridcolor": "white",
            "gridwidth": 2,
            "linecolor": "white",
            "showbackground": true,
            "ticks": "",
            "zerolinecolor": "white"
           },
           "yaxis": {
            "backgroundcolor": "#E5ECF6",
            "gridcolor": "white",
            "gridwidth": 2,
            "linecolor": "white",
            "showbackground": true,
            "ticks": "",
            "zerolinecolor": "white"
           },
           "zaxis": {
            "backgroundcolor": "#E5ECF6",
            "gridcolor": "white",
            "gridwidth": 2,
            "linecolor": "white",
            "showbackground": true,
            "ticks": "",
            "zerolinecolor": "white"
           }
          },
          "shapedefaults": {
           "line": {
            "color": "#2a3f5f"
           }
          },
          "ternary": {
           "aaxis": {
            "gridcolor": "white",
            "linecolor": "white",
            "ticks": ""
           },
           "baxis": {
            "gridcolor": "white",
            "linecolor": "white",
            "ticks": ""
           },
           "bgcolor": "#E5ECF6",
           "caxis": {
            "gridcolor": "white",
            "linecolor": "white",
            "ticks": ""
           }
          },
          "title": {
           "x": 0.05
          },
          "xaxis": {
           "automargin": true,
           "gridcolor": "white",
           "linecolor": "white",
           "ticks": "",
           "title": {
            "standoff": 15
           },
           "zerolinecolor": "white",
           "zerolinewidth": 2
          },
          "yaxis": {
           "automargin": true,
           "gridcolor": "white",
           "linecolor": "white",
           "ticks": "",
           "title": {
            "standoff": 15
           },
           "zerolinecolor": "white",
           "zerolinewidth": 2
          }
         }
        },
        "title": {
         "text": "Zone Total Internal Total Heating Rate Month #8"
        },
        "xaxis": {
         "title": {
          "text": "Hours"
         }
        },
        "yaxis": {
         "title": {
          "text": "Power [W]"
         }
        }
       }
      }
     },
     "metadata": {},
     "output_type": "display_data"
    },
    {
     "data": {
      "application/vnd.plotly.v1+json": {
       "config": {
        "plotlyServerURL": "https://plot.ly"
       },
       "data": [
        {
         "marker": {
          "size": 51
         },
         "mode": "lines+markers",
         "name": "Zone 1",
         "type": "scatter",
         "x": [
          "00:00",
          "01:00",
          "02:00",
          "03:00",
          "04:00",
          "05:00",
          "06:00",
          "07:00",
          "08:00",
          "09:00",
          "10:00",
          "11:00",
          "12:00",
          "13:00",
          "14:00",
          "15:00",
          "16:00",
          "17:00",
          "18:00",
          "19:00",
          "20:00",
          "21:00",
          "22:00",
          "23:00"
         ],
         "y": [
          24.179210937500223,
          24.179210937500223,
          24.179210937500223,
          24.179210937500223,
          24.179210937500223,
          41.33865095766168,
          45.238523689516555,
          113.87628377016242,
          350.98854586693886,
          350.98854586693886,
          350.98854586693886,
          350.98854586693886,
          350.98854586693886,
          350.98854586693886,
          323.6894367439547,
          323.6894367439547,
          323.6894367439547,
          247.2519311995991,
          178.61417111895327,
          178.61417111895327,
          109.97641103830752,
          109.97641103830752,
          41.33865095766168,
          24.179210937500223
         ]
        },
        {
         "marker": {
          "size": 46
         },
         "mode": "lines+markers",
         "name": "Zone 2",
         "type": "scatter",
         "x": [
          "00:00",
          "01:00",
          "02:00",
          "03:00",
          "04:00",
          "05:00",
          "06:00",
          "07:00",
          "08:00",
          "09:00",
          "10:00",
          "11:00",
          "12:00",
          "13:00",
          "14:00",
          "15:00",
          "16:00",
          "17:00",
          "18:00",
          "19:00",
          "20:00",
          "21:00",
          "22:00",
          "23:00"
         ],
         "y": [
          24.17921093750022,
          24.17921093750022,
          24.17921093750022,
          24.17921093750022,
          24.17921093750022,
          41.33865095766167,
          45.23852368951654,
          113.8762837701624,
          350.9885458669386,
          350.9885458669386,
          350.9885458669386,
          350.9885458669386,
          350.9885458669386,
          350.9885458669386,
          323.68943674395445,
          323.68943674395445,
          323.68943674395445,
          247.2519311995991,
          178.6141711189532,
          178.6141711189532,
          109.9764110383075,
          109.9764110383075,
          41.33865095766167,
          24.17921093750022
         ]
        },
        {
         "marker": {
          "size": 41
         },
         "mode": "lines+markers",
         "name": "Zone 3",
         "type": "scatter",
         "x": [
          "00:00",
          "01:00",
          "02:00",
          "03:00",
          "04:00",
          "05:00",
          "06:00",
          "07:00",
          "08:00",
          "09:00",
          "10:00",
          "11:00",
          "12:00",
          "13:00",
          "14:00",
          "15:00",
          "16:00",
          "17:00",
          "18:00",
          "19:00",
          "20:00",
          "21:00",
          "22:00",
          "23:00"
         ],
         "y": [
          17.444054822260924,
          17.444054822260924,
          17.444054822260924,
          17.444054822260924,
          17.444054822260924,
          29.82370663160739,
          32.63726386100432,
          82.15587109839026,
          253.22015064572324,
          253.22015064572324,
          253.22015064572324,
          253.22015064572324,
          253.22015064572324,
          253.22015064572324,
          233.52525003994475,
          233.52525003994475,
          233.52525003994475,
          178.3795283437651,
          128.86092110637918,
          128.86092110637918,
          79.34231386899333,
          79.34231386899333,
          29.82370663160739,
          17.444054822260924
         ]
        },
        {
         "marker": {
          "size": 36
         },
         "mode": "lines+markers",
         "name": "Zone 4",
         "type": "scatter",
         "x": [
          "00:00",
          "01:00",
          "02:00",
          "03:00",
          "04:00",
          "05:00",
          "06:00",
          "07:00",
          "08:00",
          "09:00",
          "10:00",
          "11:00",
          "12:00",
          "13:00",
          "14:00",
          "15:00",
          "16:00",
          "17:00",
          "18:00",
          "19:00",
          "20:00",
          "21:00",
          "22:00",
          "23:00"
         ],
         "y": [
          17.242000294843088,
          17.242000294843088,
          17.242000294843088,
          17.242000294843088,
          17.242000294843088,
          29.478258568602698,
          32.259226358093514,
          81.204259453132,
          250.287101054174,
          250.287101054174,
          250.287101054174,
          250.287101054174,
          250.287101054174,
          250.287101054174,
          230.82032652773825,
          230.82032652773825,
          230.82032652773825,
          176.31335785371812,
          127.36832475867959,
          127.36832475867959,
          78.42329166364115,
          78.42329166364115,
          29.478258568602698,
          17.242000294843088
         ]
        },
        {
         "marker": {
          "size": 31
         },
         "mode": "lines+markers",
         "name": "Zone 5",
         "type": "scatter",
         "x": [
          "00:00",
          "01:00",
          "02:00",
          "03:00",
          "04:00",
          "05:00",
          "06:00",
          "07:00",
          "08:00",
          "09:00",
          "10:00",
          "11:00",
          "12:00",
          "13:00",
          "14:00",
          "15:00",
          "16:00",
          "17:00",
          "18:00",
          "19:00",
          "20:00",
          "21:00",
          "22:00",
          "23:00"
         ],
         "y": [
          13.672367293123198,
          13.672367293123198,
          13.672367293123198,
          13.672367293123198,
          13.672367293123198,
          23.375337630178365,
          25.58055816132727,
          64.3924395095479,
          198.4698478034011,
          198.4698478034011,
          198.4698478034011,
          198.4698478034011,
          198.4698478034011,
          198.4698478034011,
          183.03330408535882,
          183.03330408535882,
          183.03330408535882,
          139.8109816748403,
          100.99910032661964,
          100.99910032661964,
          62.18721897839899,
          62.18721897839899,
          23.375337630178365,
          13.672367293123198
         ]
        },
        {
         "marker": {
          "size": 26
         },
         "mode": "lines+markers",
         "name": "Zone 6",
         "type": "scatter",
         "x": [
          "00:00",
          "01:00",
          "02:00",
          "03:00",
          "04:00",
          "05:00",
          "06:00",
          "07:00",
          "08:00",
          "09:00",
          "10:00",
          "11:00",
          "12:00",
          "13:00",
          "14:00",
          "15:00",
          "16:00",
          "17:00",
          "18:00",
          "19:00",
          "20:00",
          "21:00",
          "22:00",
          "23:00"
         ],
         "y": [
          138.88875045787515,
          138.88875045787515,
          138.88875045787515,
          138.88875045787515,
          138.88875045787515,
          237.45496046023814,
          259.85637182441155,
          654.1212118338631,
          2016.1270227756056,
          2016.1270227756056,
          2016.1270227756056,
          2016.1270227756056,
          2016.1270227756056,
          2016.1270227756056,
          1859.317143226392,
          1859.317143226392,
          1859.317143226392,
          1420.2494804885937,
          1025.984640479141,
          1025.984640479141,
          631.7198004696897,
          631.7198004696897,
          237.45496046023814,
          138.88875045787515
         ]
        },
        {
         "marker": {
          "size": 21
         },
         "mode": "lines+markers",
         "name": "Zone 7",
         "type": "scatter",
         "x": [
          "00:00",
          "01:00",
          "02:00",
          "03:00",
          "04:00",
          "05:00",
          "06:00",
          "07:00",
          "08:00",
          "09:00",
          "10:00",
          "11:00",
          "12:00",
          "13:00",
          "14:00",
          "15:00",
          "16:00",
          "17:00",
          "18:00",
          "19:00",
          "20:00",
          "21:00",
          "22:00",
          "23:00"
         ],
         "y": [
          153.90375050737558,
          153.90375050737558,
          153.90375050737558,
          153.90375050737558,
          153.90375050737558,
          263.1257669964808,
          287.94895256218655,
          724.8370185186071,
          2234.086700913513,
          2234.086700913513,
          2234.086700913513,
          2234.086700913513,
          2234.086700913513,
          2234.086700913513,
          2060.3244019535737,
          2060.3244019535737,
          2060.3244019535737,
          1573.7899648657426,
          1136.9018989093215,
          1136.9018989093215,
          700.0138329529013,
          700.0138329529013,
          263.1257669964808,
          153.90375050737558
         ]
        },
        {
         "marker": {
          "size": 16
         },
         "mode": "lines+markers",
         "name": "Zone 8",
         "type": "scatter",
         "x": [
          "00:00",
          "01:00",
          "02:00",
          "03:00",
          "04:00",
          "05:00",
          "06:00",
          "07:00",
          "08:00",
          "09:00",
          "10:00",
          "11:00",
          "12:00",
          "13:00",
          "14:00",
          "15:00",
          "16:00",
          "17:00",
          "18:00",
          "19:00",
          "20:00",
          "21:00",
          "22:00",
          "23:00"
         ],
         "y": [
          125.57146958370876,
          125.57146958370876,
          125.57146958370876,
          125.57146958370876,
          125.57146958370876,
          214.68670606246985,
          234.9401688985519,
          591.4011148135961,
          1822.8116552473855,
          1822.8116552473855,
          1822.8116552473855,
          1822.8116552473855,
          1822.8116552473855,
          1822.8116552473855,
          1681.0374153948112,
          1681.0374153948112,
          1681.0374153948112,
          1284.0695438076023,
          927.6085978925584,
          927.6085978925584,
          571.147651977514,
          571.147651977514,
          214.68670606246985,
          125.57146958370876
         ]
        }
       ],
       "layout": {
        "template": {
         "data": {
          "bar": [
           {
            "error_x": {
             "color": "#2a3f5f"
            },
            "error_y": {
             "color": "#2a3f5f"
            },
            "marker": {
             "line": {
              "color": "#E5ECF6",
              "width": 0.5
             },
             "pattern": {
              "fillmode": "overlay",
              "size": 10,
              "solidity": 0.2
             }
            },
            "type": "bar"
           }
          ],
          "barpolar": [
           {
            "marker": {
             "line": {
              "color": "#E5ECF6",
              "width": 0.5
             },
             "pattern": {
              "fillmode": "overlay",
              "size": 10,
              "solidity": 0.2
             }
            },
            "type": "barpolar"
           }
          ],
          "carpet": [
           {
            "aaxis": {
             "endlinecolor": "#2a3f5f",
             "gridcolor": "white",
             "linecolor": "white",
             "minorgridcolor": "white",
             "startlinecolor": "#2a3f5f"
            },
            "baxis": {
             "endlinecolor": "#2a3f5f",
             "gridcolor": "white",
             "linecolor": "white",
             "minorgridcolor": "white",
             "startlinecolor": "#2a3f5f"
            },
            "type": "carpet"
           }
          ],
          "choropleth": [
           {
            "colorbar": {
             "outlinewidth": 0,
             "ticks": ""
            },
            "type": "choropleth"
           }
          ],
          "contour": [
           {
            "colorbar": {
             "outlinewidth": 0,
             "ticks": ""
            },
            "colorscale": [
             [
              0,
              "#0d0887"
             ],
             [
              0.1111111111111111,
              "#46039f"
             ],
             [
              0.2222222222222222,
              "#7201a8"
             ],
             [
              0.3333333333333333,
              "#9c179e"
             ],
             [
              0.4444444444444444,
              "#bd3786"
             ],
             [
              0.5555555555555556,
              "#d8576b"
             ],
             [
              0.6666666666666666,
              "#ed7953"
             ],
             [
              0.7777777777777778,
              "#fb9f3a"
             ],
             [
              0.8888888888888888,
              "#fdca26"
             ],
             [
              1,
              "#f0f921"
             ]
            ],
            "type": "contour"
           }
          ],
          "contourcarpet": [
           {
            "colorbar": {
             "outlinewidth": 0,
             "ticks": ""
            },
            "type": "contourcarpet"
           }
          ],
          "heatmap": [
           {
            "colorbar": {
             "outlinewidth": 0,
             "ticks": ""
            },
            "colorscale": [
             [
              0,
              "#0d0887"
             ],
             [
              0.1111111111111111,
              "#46039f"
             ],
             [
              0.2222222222222222,
              "#7201a8"
             ],
             [
              0.3333333333333333,
              "#9c179e"
             ],
             [
              0.4444444444444444,
              "#bd3786"
             ],
             [
              0.5555555555555556,
              "#d8576b"
             ],
             [
              0.6666666666666666,
              "#ed7953"
             ],
             [
              0.7777777777777778,
              "#fb9f3a"
             ],
             [
              0.8888888888888888,
              "#fdca26"
             ],
             [
              1,
              "#f0f921"
             ]
            ],
            "type": "heatmap"
           }
          ],
          "heatmapgl": [
           {
            "colorbar": {
             "outlinewidth": 0,
             "ticks": ""
            },
            "colorscale": [
             [
              0,
              "#0d0887"
             ],
             [
              0.1111111111111111,
              "#46039f"
             ],
             [
              0.2222222222222222,
              "#7201a8"
             ],
             [
              0.3333333333333333,
              "#9c179e"
             ],
             [
              0.4444444444444444,
              "#bd3786"
             ],
             [
              0.5555555555555556,
              "#d8576b"
             ],
             [
              0.6666666666666666,
              "#ed7953"
             ],
             [
              0.7777777777777778,
              "#fb9f3a"
             ],
             [
              0.8888888888888888,
              "#fdca26"
             ],
             [
              1,
              "#f0f921"
             ]
            ],
            "type": "heatmapgl"
           }
          ],
          "histogram": [
           {
            "marker": {
             "pattern": {
              "fillmode": "overlay",
              "size": 10,
              "solidity": 0.2
             }
            },
            "type": "histogram"
           }
          ],
          "histogram2d": [
           {
            "colorbar": {
             "outlinewidth": 0,
             "ticks": ""
            },
            "colorscale": [
             [
              0,
              "#0d0887"
             ],
             [
              0.1111111111111111,
              "#46039f"
             ],
             [
              0.2222222222222222,
              "#7201a8"
             ],
             [
              0.3333333333333333,
              "#9c179e"
             ],
             [
              0.4444444444444444,
              "#bd3786"
             ],
             [
              0.5555555555555556,
              "#d8576b"
             ],
             [
              0.6666666666666666,
              "#ed7953"
             ],
             [
              0.7777777777777778,
              "#fb9f3a"
             ],
             [
              0.8888888888888888,
              "#fdca26"
             ],
             [
              1,
              "#f0f921"
             ]
            ],
            "type": "histogram2d"
           }
          ],
          "histogram2dcontour": [
           {
            "colorbar": {
             "outlinewidth": 0,
             "ticks": ""
            },
            "colorscale": [
             [
              0,
              "#0d0887"
             ],
             [
              0.1111111111111111,
              "#46039f"
             ],
             [
              0.2222222222222222,
              "#7201a8"
             ],
             [
              0.3333333333333333,
              "#9c179e"
             ],
             [
              0.4444444444444444,
              "#bd3786"
             ],
             [
              0.5555555555555556,
              "#d8576b"
             ],
             [
              0.6666666666666666,
              "#ed7953"
             ],
             [
              0.7777777777777778,
              "#fb9f3a"
             ],
             [
              0.8888888888888888,
              "#fdca26"
             ],
             [
              1,
              "#f0f921"
             ]
            ],
            "type": "histogram2dcontour"
           }
          ],
          "mesh3d": [
           {
            "colorbar": {
             "outlinewidth": 0,
             "ticks": ""
            },
            "type": "mesh3d"
           }
          ],
          "parcoords": [
           {
            "line": {
             "colorbar": {
              "outlinewidth": 0,
              "ticks": ""
             }
            },
            "type": "parcoords"
           }
          ],
          "pie": [
           {
            "automargin": true,
            "type": "pie"
           }
          ],
          "scatter": [
           {
            "marker": {
             "colorbar": {
              "outlinewidth": 0,
              "ticks": ""
             }
            },
            "type": "scatter"
           }
          ],
          "scatter3d": [
           {
            "line": {
             "colorbar": {
              "outlinewidth": 0,
              "ticks": ""
             }
            },
            "marker": {
             "colorbar": {
              "outlinewidth": 0,
              "ticks": ""
             }
            },
            "type": "scatter3d"
           }
          ],
          "scattercarpet": [
           {
            "marker": {
             "colorbar": {
              "outlinewidth": 0,
              "ticks": ""
             }
            },
            "type": "scattercarpet"
           }
          ],
          "scattergeo": [
           {
            "marker": {
             "colorbar": {
              "outlinewidth": 0,
              "ticks": ""
             }
            },
            "type": "scattergeo"
           }
          ],
          "scattergl": [
           {
            "marker": {
             "colorbar": {
              "outlinewidth": 0,
              "ticks": ""
             }
            },
            "type": "scattergl"
           }
          ],
          "scattermapbox": [
           {
            "marker": {
             "colorbar": {
              "outlinewidth": 0,
              "ticks": ""
             }
            },
            "type": "scattermapbox"
           }
          ],
          "scatterpolar": [
           {
            "marker": {
             "colorbar": {
              "outlinewidth": 0,
              "ticks": ""
             }
            },
            "type": "scatterpolar"
           }
          ],
          "scatterpolargl": [
           {
            "marker": {
             "colorbar": {
              "outlinewidth": 0,
              "ticks": ""
             }
            },
            "type": "scatterpolargl"
           }
          ],
          "scatterternary": [
           {
            "marker": {
             "colorbar": {
              "outlinewidth": 0,
              "ticks": ""
             }
            },
            "type": "scatterternary"
           }
          ],
          "surface": [
           {
            "colorbar": {
             "outlinewidth": 0,
             "ticks": ""
            },
            "colorscale": [
             [
              0,
              "#0d0887"
             ],
             [
              0.1111111111111111,
              "#46039f"
             ],
             [
              0.2222222222222222,
              "#7201a8"
             ],
             [
              0.3333333333333333,
              "#9c179e"
             ],
             [
              0.4444444444444444,
              "#bd3786"
             ],
             [
              0.5555555555555556,
              "#d8576b"
             ],
             [
              0.6666666666666666,
              "#ed7953"
             ],
             [
              0.7777777777777778,
              "#fb9f3a"
             ],
             [
              0.8888888888888888,
              "#fdca26"
             ],
             [
              1,
              "#f0f921"
             ]
            ],
            "type": "surface"
           }
          ],
          "table": [
           {
            "cells": {
             "fill": {
              "color": "#EBF0F8"
             },
             "line": {
              "color": "white"
             }
            },
            "header": {
             "fill": {
              "color": "#C8D4E3"
             },
             "line": {
              "color": "white"
             }
            },
            "type": "table"
           }
          ]
         },
         "layout": {
          "annotationdefaults": {
           "arrowcolor": "#2a3f5f",
           "arrowhead": 0,
           "arrowwidth": 1
          },
          "autotypenumbers": "strict",
          "coloraxis": {
           "colorbar": {
            "outlinewidth": 0,
            "ticks": ""
           }
          },
          "colorscale": {
           "diverging": [
            [
             0,
             "#8e0152"
            ],
            [
             0.1,
             "#c51b7d"
            ],
            [
             0.2,
             "#de77ae"
            ],
            [
             0.3,
             "#f1b6da"
            ],
            [
             0.4,
             "#fde0ef"
            ],
            [
             0.5,
             "#f7f7f7"
            ],
            [
             0.6,
             "#e6f5d0"
            ],
            [
             0.7,
             "#b8e186"
            ],
            [
             0.8,
             "#7fbc41"
            ],
            [
             0.9,
             "#4d9221"
            ],
            [
             1,
             "#276419"
            ]
           ],
           "sequential": [
            [
             0,
             "#0d0887"
            ],
            [
             0.1111111111111111,
             "#46039f"
            ],
            [
             0.2222222222222222,
             "#7201a8"
            ],
            [
             0.3333333333333333,
             "#9c179e"
            ],
            [
             0.4444444444444444,
             "#bd3786"
            ],
            [
             0.5555555555555556,
             "#d8576b"
            ],
            [
             0.6666666666666666,
             "#ed7953"
            ],
            [
             0.7777777777777778,
             "#fb9f3a"
            ],
            [
             0.8888888888888888,
             "#fdca26"
            ],
            [
             1,
             "#f0f921"
            ]
           ],
           "sequentialminus": [
            [
             0,
             "#0d0887"
            ],
            [
             0.1111111111111111,
             "#46039f"
            ],
            [
             0.2222222222222222,
             "#7201a8"
            ],
            [
             0.3333333333333333,
             "#9c179e"
            ],
            [
             0.4444444444444444,
             "#bd3786"
            ],
            [
             0.5555555555555556,
             "#d8576b"
            ],
            [
             0.6666666666666666,
             "#ed7953"
            ],
            [
             0.7777777777777778,
             "#fb9f3a"
            ],
            [
             0.8888888888888888,
             "#fdca26"
            ],
            [
             1,
             "#f0f921"
            ]
           ]
          },
          "colorway": [
           "#636efa",
           "#EF553B",
           "#00cc96",
           "#ab63fa",
           "#FFA15A",
           "#19d3f3",
           "#FF6692",
           "#B6E880",
           "#FF97FF",
           "#FECB52"
          ],
          "font": {
           "color": "#2a3f5f"
          },
          "geo": {
           "bgcolor": "white",
           "lakecolor": "white",
           "landcolor": "#E5ECF6",
           "showlakes": true,
           "showland": true,
           "subunitcolor": "white"
          },
          "hoverlabel": {
           "align": "left"
          },
          "hovermode": "closest",
          "mapbox": {
           "style": "light"
          },
          "paper_bgcolor": "white",
          "plot_bgcolor": "#E5ECF6",
          "polar": {
           "angularaxis": {
            "gridcolor": "white",
            "linecolor": "white",
            "ticks": ""
           },
           "bgcolor": "#E5ECF6",
           "radialaxis": {
            "gridcolor": "white",
            "linecolor": "white",
            "ticks": ""
           }
          },
          "scene": {
           "xaxis": {
            "backgroundcolor": "#E5ECF6",
            "gridcolor": "white",
            "gridwidth": 2,
            "linecolor": "white",
            "showbackground": true,
            "ticks": "",
            "zerolinecolor": "white"
           },
           "yaxis": {
            "backgroundcolor": "#E5ECF6",
            "gridcolor": "white",
            "gridwidth": 2,
            "linecolor": "white",
            "showbackground": true,
            "ticks": "",
            "zerolinecolor": "white"
           },
           "zaxis": {
            "backgroundcolor": "#E5ECF6",
            "gridcolor": "white",
            "gridwidth": 2,
            "linecolor": "white",
            "showbackground": true,
            "ticks": "",
            "zerolinecolor": "white"
           }
          },
          "shapedefaults": {
           "line": {
            "color": "#2a3f5f"
           }
          },
          "ternary": {
           "aaxis": {
            "gridcolor": "white",
            "linecolor": "white",
            "ticks": ""
           },
           "baxis": {
            "gridcolor": "white",
            "linecolor": "white",
            "ticks": ""
           },
           "bgcolor": "#E5ECF6",
           "caxis": {
            "gridcolor": "white",
            "linecolor": "white",
            "ticks": ""
           }
          },
          "title": {
           "x": 0.05
          },
          "xaxis": {
           "automargin": true,
           "gridcolor": "white",
           "linecolor": "white",
           "ticks": "",
           "title": {
            "standoff": 15
           },
           "zerolinecolor": "white",
           "zerolinewidth": 2
          },
          "yaxis": {
           "automargin": true,
           "gridcolor": "white",
           "linecolor": "white",
           "ticks": "",
           "title": {
            "standoff": 15
           },
           "zerolinecolor": "white",
           "zerolinewidth": 2
          }
         }
        },
        "title": {
         "text": "Zone Lights Total Heating Rate Month #8"
        },
        "xaxis": {
         "title": {
          "text": "Hours"
         }
        },
        "yaxis": {
         "title": {
          "text": "Power [W]"
         }
        }
       }
      }
     },
     "metadata": {},
     "output_type": "display_data"
    },
    {
     "data": {
      "application/vnd.plotly.v1+json": {
       "config": {
        "plotlyServerURL": "https://plot.ly"
       },
       "data": [
        {
         "marker": {
          "size": 51
         },
         "mode": "lines+markers",
         "name": "Zone 1",
         "type": "scatter",
         "x": [
          "00:00",
          "01:00",
          "02:00",
          "03:00",
          "04:00",
          "05:00",
          "06:00",
          "07:00",
          "08:00",
          "09:00",
          "10:00",
          "11:00",
          "12:00",
          "13:00",
          "14:00",
          "15:00",
          "16:00",
          "17:00",
          "18:00",
          "19:00",
          "20:00",
          "21:00",
          "22:00",
          "23:00"
         ],
         "y": [
          103.4344623655923,
          103.4344623655923,
          103.4344623655923,
          103.4344623655923,
          103.4344623655923,
          103.4344623655923,
          107.93161290322674,
          107.93161290322674,
          211.36607526881912,
          211.36607526881912,
          211.36607526881912,
          211.36607526881912,
          191.57861290322745,
          211.36607526881912,
          204.62034946236741,
          204.62034946236741,
          204.62034946236741,
          182.5843118279586,
          143.00938709677538,
          143.00938709677538,
          123.22192473118382,
          123.22192473118382,
          103.4344623655923,
          103.4344623655923
         ]
        },
        {
         "marker": {
          "size": 46
         },
         "mode": "lines+markers",
         "name": "Zone 2",
         "type": "scatter",
         "x": [
          "00:00",
          "01:00",
          "02:00",
          "03:00",
          "04:00",
          "05:00",
          "06:00",
          "07:00",
          "08:00",
          "09:00",
          "10:00",
          "11:00",
          "12:00",
          "13:00",
          "14:00",
          "15:00",
          "16:00",
          "17:00",
          "18:00",
          "19:00",
          "20:00",
          "21:00",
          "22:00",
          "23:00"
         ],
         "y": [
          103.43446236559228,
          103.43446236559228,
          103.43446236559228,
          103.43446236559228,
          103.43446236559228,
          103.43446236559228,
          107.93161290322674,
          107.93161290322674,
          211.36607526881886,
          211.36607526881886,
          211.36607526881886,
          211.36607526881886,
          191.57861290322742,
          211.36607526881886,
          204.62034946236716,
          204.62034946236716,
          204.62034946236716,
          182.58431182795854,
          143.00938709677536,
          143.00938709677536,
          123.22192473118379,
          123.22192473118379,
          103.43446236559228,
          103.43446236559228
         ]
        },
        {
         "marker": {
          "size": 41
         },
         "mode": "lines+markers",
         "name": "Zone 3",
         "type": "scatter",
         "x": [
          "00:00",
          "01:00",
          "02:00",
          "03:00",
          "04:00",
          "05:00",
          "06:00",
          "07:00",
          "08:00",
          "09:00",
          "10:00",
          "11:00",
          "12:00",
          "13:00",
          "14:00",
          "15:00",
          "16:00",
          "17:00",
          "18:00",
          "19:00",
          "20:00",
          "21:00",
          "22:00",
          "23:00"
         ],
         "y": [
          74.62263498508594,
          74.62263498508594,
          74.62263498508594,
          74.62263498508594,
          74.62263498508594,
          74.62263498508594,
          77.86709737574185,
          77.86709737574185,
          152.48973236082782,
          152.48973236082782,
          152.48973236082782,
          152.48973236082782,
          138.21409784194185,
          152.48973236082782,
          147.62303877484393,
          147.62303877484393,
          147.62303877484393,
          131.72517306063003,
          103.17390402285794,
          103.17390402285794,
          88.898269503972,
          88.898269503972,
          74.62263498508594,
          74.62263498508594
         ]
        },
        {
         "marker": {
          "size": 36
         },
         "mode": "lines+markers",
         "name": "Zone 4",
         "type": "scatter",
         "x": [
          "00:00",
          "01:00",
          "02:00",
          "03:00",
          "04:00",
          "05:00",
          "06:00",
          "07:00",
          "08:00",
          "09:00",
          "10:00",
          "11:00",
          "12:00",
          "13:00",
          "14:00",
          "15:00",
          "16:00",
          "17:00",
          "18:00",
          "19:00",
          "20:00",
          "21:00",
          "22:00",
          "23:00"
         ],
         "y": [
          73.75828083117992,
          73.75828083117992,
          73.75828083117992,
          73.75828083117992,
          73.75828083117992,
          73.75828083117992,
          76.9651626064486,
          76.9651626064486,
          150.7234434376285,
          150.7234434376285,
          150.7234434376285,
          150.7234434376285,
          136.61316362644627,
          150.7234434376285,
          145.91312077472546,
          145.91312077472546,
          145.91312077472546,
          130.19940007590884,
          101.97884045354442,
          101.97884045354442,
          87.8685606423622,
          87.8685606423622,
          73.75828083117992,
          73.75828083117992
         ]
        },
        {
         "marker": {
          "size": 31
         },
         "mode": "lines+markers",
         "name": "Zone 5",
         "type": "scatter",
         "x": [
          "00:00",
          "01:00",
          "02:00",
          "03:00",
          "04:00",
          "05:00",
          "06:00",
          "07:00",
          "08:00",
          "09:00",
          "10:00",
          "11:00",
          "12:00",
          "13:00",
          "14:00",
          "15:00",
          "16:00",
          "17:00",
          "18:00",
          "19:00",
          "20:00",
          "21:00",
          "22:00",
          "23:00"
         ],
         "y": [
          58.48801120452573,
          58.48801120452573,
          58.48801120452573,
          58.48801120452573,
          58.48801120452573,
          58.48801120452573,
          61.030968213418156,
          61.030968213418156,
          119.51897941794387,
          119.51897941794387,
          119.51897941794387,
          119.51897941794387,
          108.32996857881724,
          119.51897941794387,
          115.70454390460525,
          115.70454390460525,
          115.70454390460525,
          103.24405456103239,
          80.8660328827791,
          80.8660328827791,
          69.67702204365239,
          69.67702204365239,
          58.48801120452573,
          58.48801120452573
         ]
        },
        {
         "marker": {
          "size": 26
         },
         "mode": "lines+markers",
         "name": "Zone 6",
         "type": "scatter",
         "x": [
          "00:00",
          "01:00",
          "02:00",
          "03:00",
          "04:00",
          "05:00",
          "06:00",
          "07:00",
          "08:00",
          "09:00",
          "10:00",
          "11:00",
          "12:00",
          "13:00",
          "14:00",
          "15:00",
          "16:00",
          "17:00",
          "18:00",
          "19:00",
          "20:00",
          "21:00",
          "22:00",
          "23:00"
         ],
         "y": [
          4197.741949322575,
          4197.741949322575,
          4197.741949322575,
          4197.741949322575,
          4197.741949322575,
          4197.741949322575,
          5085.72582321774,
          5085.72582321774,
          5085.72582321774,
          5085.72582321774,
          5085.72582321774,
          5085.72582321774,
          5085.72582321774,
          5085.72582321774,
          5085.72582321774,
          5085.72582321774,
          5085.72582321774,
          5085.72582321774,
          5085.72582321774,
          5085.72582321774,
          5085.72582321774,
          5085.72582321774,
          4197.741949322575,
          4197.741949322575
         ]
        },
        {
         "marker": {
          "size": 21
         },
         "mode": "lines+markers",
         "name": "Zone 7",
         "type": "scatter",
         "x": [
          "00:00",
          "01:00",
          "02:00",
          "03:00",
          "04:00",
          "05:00",
          "06:00",
          "07:00",
          "08:00",
          "09:00",
          "10:00",
          "11:00",
          "12:00",
          "13:00",
          "14:00",
          "15:00",
          "16:00",
          "17:00",
          "18:00",
          "19:00",
          "20:00",
          "21:00",
          "22:00",
          "23:00"
         ],
         "y": [
          594.14193744258,
          594.14193744258,
          594.14193744258,
          594.14193744258,
          594.14193744258,
          594.14193744258,
          619.9741955922574,
          619.9741955922574,
          1214.116133034838,
          1214.116133034838,
          1214.116133034838,
          1214.116133034838,
          1100.4541971762571,
          1214.116133034838,
          1175.3677458103216,
          1175.3677458103216,
          1175.3677458103216,
          1048.7896808769024,
          821.4658091597414,
          821.4658091597414,
          707.8038733011614,
          707.8038733011614,
          594.14193744258,
          594.14193744258
         ]
        },
        {
         "marker": {
          "size": 16
         },
         "mode": "lines+markers",
         "name": "Zone 8",
         "type": "scatter",
         "x": [
          "00:00",
          "01:00",
          "02:00",
          "03:00",
          "04:00",
          "05:00",
          "06:00",
          "07:00",
          "08:00",
          "09:00",
          "10:00",
          "11:00",
          "12:00",
          "13:00",
          "14:00",
          "15:00",
          "16:00",
          "17:00",
          "18:00",
          "19:00",
          "20:00",
          "21:00",
          "22:00",
          "23:00"
         ],
         "y": [
          484.76580967012507,
          484.76580967012507,
          484.76580967012507,
          484.76580967012507,
          484.76580967012507,
          484.76580967012507,
          505.84258400360864,
          505.84258400360864,
          990.6083936737339,
          990.6083936737339,
          990.6083936737339,
          990.6083936737339,
          897.8705866064054,
          990.6083936737339,
          958.9932321735082,
          958.9932321735082,
          958.9932321735082,
          855.7170379394381,
          670.241423804782,
          670.241423804782,
          577.5036167374535,
          577.5036167374535,
          484.76580967012507,
          484.76580967012507
         ]
        }
       ],
       "layout": {
        "template": {
         "data": {
          "bar": [
           {
            "error_x": {
             "color": "#2a3f5f"
            },
            "error_y": {
             "color": "#2a3f5f"
            },
            "marker": {
             "line": {
              "color": "#E5ECF6",
              "width": 0.5
             },
             "pattern": {
              "fillmode": "overlay",
              "size": 10,
              "solidity": 0.2
             }
            },
            "type": "bar"
           }
          ],
          "barpolar": [
           {
            "marker": {
             "line": {
              "color": "#E5ECF6",
              "width": 0.5
             },
             "pattern": {
              "fillmode": "overlay",
              "size": 10,
              "solidity": 0.2
             }
            },
            "type": "barpolar"
           }
          ],
          "carpet": [
           {
            "aaxis": {
             "endlinecolor": "#2a3f5f",
             "gridcolor": "white",
             "linecolor": "white",
             "minorgridcolor": "white",
             "startlinecolor": "#2a3f5f"
            },
            "baxis": {
             "endlinecolor": "#2a3f5f",
             "gridcolor": "white",
             "linecolor": "white",
             "minorgridcolor": "white",
             "startlinecolor": "#2a3f5f"
            },
            "type": "carpet"
           }
          ],
          "choropleth": [
           {
            "colorbar": {
             "outlinewidth": 0,
             "ticks": ""
            },
            "type": "choropleth"
           }
          ],
          "contour": [
           {
            "colorbar": {
             "outlinewidth": 0,
             "ticks": ""
            },
            "colorscale": [
             [
              0,
              "#0d0887"
             ],
             [
              0.1111111111111111,
              "#46039f"
             ],
             [
              0.2222222222222222,
              "#7201a8"
             ],
             [
              0.3333333333333333,
              "#9c179e"
             ],
             [
              0.4444444444444444,
              "#bd3786"
             ],
             [
              0.5555555555555556,
              "#d8576b"
             ],
             [
              0.6666666666666666,
              "#ed7953"
             ],
             [
              0.7777777777777778,
              "#fb9f3a"
             ],
             [
              0.8888888888888888,
              "#fdca26"
             ],
             [
              1,
              "#f0f921"
             ]
            ],
            "type": "contour"
           }
          ],
          "contourcarpet": [
           {
            "colorbar": {
             "outlinewidth": 0,
             "ticks": ""
            },
            "type": "contourcarpet"
           }
          ],
          "heatmap": [
           {
            "colorbar": {
             "outlinewidth": 0,
             "ticks": ""
            },
            "colorscale": [
             [
              0,
              "#0d0887"
             ],
             [
              0.1111111111111111,
              "#46039f"
             ],
             [
              0.2222222222222222,
              "#7201a8"
             ],
             [
              0.3333333333333333,
              "#9c179e"
             ],
             [
              0.4444444444444444,
              "#bd3786"
             ],
             [
              0.5555555555555556,
              "#d8576b"
             ],
             [
              0.6666666666666666,
              "#ed7953"
             ],
             [
              0.7777777777777778,
              "#fb9f3a"
             ],
             [
              0.8888888888888888,
              "#fdca26"
             ],
             [
              1,
              "#f0f921"
             ]
            ],
            "type": "heatmap"
           }
          ],
          "heatmapgl": [
           {
            "colorbar": {
             "outlinewidth": 0,
             "ticks": ""
            },
            "colorscale": [
             [
              0,
              "#0d0887"
             ],
             [
              0.1111111111111111,
              "#46039f"
             ],
             [
              0.2222222222222222,
              "#7201a8"
             ],
             [
              0.3333333333333333,
              "#9c179e"
             ],
             [
              0.4444444444444444,
              "#bd3786"
             ],
             [
              0.5555555555555556,
              "#d8576b"
             ],
             [
              0.6666666666666666,
              "#ed7953"
             ],
             [
              0.7777777777777778,
              "#fb9f3a"
             ],
             [
              0.8888888888888888,
              "#fdca26"
             ],
             [
              1,
              "#f0f921"
             ]
            ],
            "type": "heatmapgl"
           }
          ],
          "histogram": [
           {
            "marker": {
             "pattern": {
              "fillmode": "overlay",
              "size": 10,
              "solidity": 0.2
             }
            },
            "type": "histogram"
           }
          ],
          "histogram2d": [
           {
            "colorbar": {
             "outlinewidth": 0,
             "ticks": ""
            },
            "colorscale": [
             [
              0,
              "#0d0887"
             ],
             [
              0.1111111111111111,
              "#46039f"
             ],
             [
              0.2222222222222222,
              "#7201a8"
             ],
             [
              0.3333333333333333,
              "#9c179e"
             ],
             [
              0.4444444444444444,
              "#bd3786"
             ],
             [
              0.5555555555555556,
              "#d8576b"
             ],
             [
              0.6666666666666666,
              "#ed7953"
             ],
             [
              0.7777777777777778,
              "#fb9f3a"
             ],
             [
              0.8888888888888888,
              "#fdca26"
             ],
             [
              1,
              "#f0f921"
             ]
            ],
            "type": "histogram2d"
           }
          ],
          "histogram2dcontour": [
           {
            "colorbar": {
             "outlinewidth": 0,
             "ticks": ""
            },
            "colorscale": [
             [
              0,
              "#0d0887"
             ],
             [
              0.1111111111111111,
              "#46039f"
             ],
             [
              0.2222222222222222,
              "#7201a8"
             ],
             [
              0.3333333333333333,
              "#9c179e"
             ],
             [
              0.4444444444444444,
              "#bd3786"
             ],
             [
              0.5555555555555556,
              "#d8576b"
             ],
             [
              0.6666666666666666,
              "#ed7953"
             ],
             [
              0.7777777777777778,
              "#fb9f3a"
             ],
             [
              0.8888888888888888,
              "#fdca26"
             ],
             [
              1,
              "#f0f921"
             ]
            ],
            "type": "histogram2dcontour"
           }
          ],
          "mesh3d": [
           {
            "colorbar": {
             "outlinewidth": 0,
             "ticks": ""
            },
            "type": "mesh3d"
           }
          ],
          "parcoords": [
           {
            "line": {
             "colorbar": {
              "outlinewidth": 0,
              "ticks": ""
             }
            },
            "type": "parcoords"
           }
          ],
          "pie": [
           {
            "automargin": true,
            "type": "pie"
           }
          ],
          "scatter": [
           {
            "marker": {
             "colorbar": {
              "outlinewidth": 0,
              "ticks": ""
             }
            },
            "type": "scatter"
           }
          ],
          "scatter3d": [
           {
            "line": {
             "colorbar": {
              "outlinewidth": 0,
              "ticks": ""
             }
            },
            "marker": {
             "colorbar": {
              "outlinewidth": 0,
              "ticks": ""
             }
            },
            "type": "scatter3d"
           }
          ],
          "scattercarpet": [
           {
            "marker": {
             "colorbar": {
              "outlinewidth": 0,
              "ticks": ""
             }
            },
            "type": "scattercarpet"
           }
          ],
          "scattergeo": [
           {
            "marker": {
             "colorbar": {
              "outlinewidth": 0,
              "ticks": ""
             }
            },
            "type": "scattergeo"
           }
          ],
          "scattergl": [
           {
            "marker": {
             "colorbar": {
              "outlinewidth": 0,
              "ticks": ""
             }
            },
            "type": "scattergl"
           }
          ],
          "scattermapbox": [
           {
            "marker": {
             "colorbar": {
              "outlinewidth": 0,
              "ticks": ""
             }
            },
            "type": "scattermapbox"
           }
          ],
          "scatterpolar": [
           {
            "marker": {
             "colorbar": {
              "outlinewidth": 0,
              "ticks": ""
             }
            },
            "type": "scatterpolar"
           }
          ],
          "scatterpolargl": [
           {
            "marker": {
             "colorbar": {
              "outlinewidth": 0,
              "ticks": ""
             }
            },
            "type": "scatterpolargl"
           }
          ],
          "scatterternary": [
           {
            "marker": {
             "colorbar": {
              "outlinewidth": 0,
              "ticks": ""
             }
            },
            "type": "scatterternary"
           }
          ],
          "surface": [
           {
            "colorbar": {
             "outlinewidth": 0,
             "ticks": ""
            },
            "colorscale": [
             [
              0,
              "#0d0887"
             ],
             [
              0.1111111111111111,
              "#46039f"
             ],
             [
              0.2222222222222222,
              "#7201a8"
             ],
             [
              0.3333333333333333,
              "#9c179e"
             ],
             [
              0.4444444444444444,
              "#bd3786"
             ],
             [
              0.5555555555555556,
              "#d8576b"
             ],
             [
              0.6666666666666666,
              "#ed7953"
             ],
             [
              0.7777777777777778,
              "#fb9f3a"
             ],
             [
              0.8888888888888888,
              "#fdca26"
             ],
             [
              1,
              "#f0f921"
             ]
            ],
            "type": "surface"
           }
          ],
          "table": [
           {
            "cells": {
             "fill": {
              "color": "#EBF0F8"
             },
             "line": {
              "color": "white"
             }
            },
            "header": {
             "fill": {
              "color": "#C8D4E3"
             },
             "line": {
              "color": "white"
             }
            },
            "type": "table"
           }
          ]
         },
         "layout": {
          "annotationdefaults": {
           "arrowcolor": "#2a3f5f",
           "arrowhead": 0,
           "arrowwidth": 1
          },
          "autotypenumbers": "strict",
          "coloraxis": {
           "colorbar": {
            "outlinewidth": 0,
            "ticks": ""
           }
          },
          "colorscale": {
           "diverging": [
            [
             0,
             "#8e0152"
            ],
            [
             0.1,
             "#c51b7d"
            ],
            [
             0.2,
             "#de77ae"
            ],
            [
             0.3,
             "#f1b6da"
            ],
            [
             0.4,
             "#fde0ef"
            ],
            [
             0.5,
             "#f7f7f7"
            ],
            [
             0.6,
             "#e6f5d0"
            ],
            [
             0.7,
             "#b8e186"
            ],
            [
             0.8,
             "#7fbc41"
            ],
            [
             0.9,
             "#4d9221"
            ],
            [
             1,
             "#276419"
            ]
           ],
           "sequential": [
            [
             0,
             "#0d0887"
            ],
            [
             0.1111111111111111,
             "#46039f"
            ],
            [
             0.2222222222222222,
             "#7201a8"
            ],
            [
             0.3333333333333333,
             "#9c179e"
            ],
            [
             0.4444444444444444,
             "#bd3786"
            ],
            [
             0.5555555555555556,
             "#d8576b"
            ],
            [
             0.6666666666666666,
             "#ed7953"
            ],
            [
             0.7777777777777778,
             "#fb9f3a"
            ],
            [
             0.8888888888888888,
             "#fdca26"
            ],
            [
             1,
             "#f0f921"
            ]
           ],
           "sequentialminus": [
            [
             0,
             "#0d0887"
            ],
            [
             0.1111111111111111,
             "#46039f"
            ],
            [
             0.2222222222222222,
             "#7201a8"
            ],
            [
             0.3333333333333333,
             "#9c179e"
            ],
            [
             0.4444444444444444,
             "#bd3786"
            ],
            [
             0.5555555555555556,
             "#d8576b"
            ],
            [
             0.6666666666666666,
             "#ed7953"
            ],
            [
             0.7777777777777778,
             "#fb9f3a"
            ],
            [
             0.8888888888888888,
             "#fdca26"
            ],
            [
             1,
             "#f0f921"
            ]
           ]
          },
          "colorway": [
           "#636efa",
           "#EF553B",
           "#00cc96",
           "#ab63fa",
           "#FFA15A",
           "#19d3f3",
           "#FF6692",
           "#B6E880",
           "#FF97FF",
           "#FECB52"
          ],
          "font": {
           "color": "#2a3f5f"
          },
          "geo": {
           "bgcolor": "white",
           "lakecolor": "white",
           "landcolor": "#E5ECF6",
           "showlakes": true,
           "showland": true,
           "subunitcolor": "white"
          },
          "hoverlabel": {
           "align": "left"
          },
          "hovermode": "closest",
          "mapbox": {
           "style": "light"
          },
          "paper_bgcolor": "white",
          "plot_bgcolor": "#E5ECF6",
          "polar": {
           "angularaxis": {
            "gridcolor": "white",
            "linecolor": "white",
            "ticks": ""
           },
           "bgcolor": "#E5ECF6",
           "radialaxis": {
            "gridcolor": "white",
            "linecolor": "white",
            "ticks": ""
           }
          },
          "scene": {
           "xaxis": {
            "backgroundcolor": "#E5ECF6",
            "gridcolor": "white",
            "gridwidth": 2,
            "linecolor": "white",
            "showbackground": true,
            "ticks": "",
            "zerolinecolor": "white"
           },
           "yaxis": {
            "backgroundcolor": "#E5ECF6",
            "gridcolor": "white",
            "gridwidth": 2,
            "linecolor": "white",
            "showbackground": true,
            "ticks": "",
            "zerolinecolor": "white"
           },
           "zaxis": {
            "backgroundcolor": "#E5ECF6",
            "gridcolor": "white",
            "gridwidth": 2,
            "linecolor": "white",
            "showbackground": true,
            "ticks": "",
            "zerolinecolor": "white"
           }
          },
          "shapedefaults": {
           "line": {
            "color": "#2a3f5f"
           }
          },
          "ternary": {
           "aaxis": {
            "gridcolor": "white",
            "linecolor": "white",
            "ticks": ""
           },
           "baxis": {
            "gridcolor": "white",
            "linecolor": "white",
            "ticks": ""
           },
           "bgcolor": "#E5ECF6",
           "caxis": {
            "gridcolor": "white",
            "linecolor": "white",
            "ticks": ""
           }
          },
          "title": {
           "x": 0.05
          },
          "xaxis": {
           "automargin": true,
           "gridcolor": "white",
           "linecolor": "white",
           "ticks": "",
           "title": {
            "standoff": 15
           },
           "zerolinecolor": "white",
           "zerolinewidth": 2
          },
          "yaxis": {
           "automargin": true,
           "gridcolor": "white",
           "linecolor": "white",
           "ticks": "",
           "title": {
            "standoff": 15
           },
           "zerolinecolor": "white",
           "zerolinewidth": 2
          }
         }
        },
        "title": {
         "text": "Zone Electric Equipment Total Heating Rate Month #8"
        },
        "xaxis": {
         "title": {
          "text": "Hours"
         }
        },
        "yaxis": {
         "title": {
          "text": "Power [W]"
         }
        }
       }
      }
     },
     "metadata": {},
     "output_type": "display_data"
    },
    {
     "data": {
      "application/vnd.plotly.v1+json": {
       "config": {
        "plotlyServerURL": "https://plot.ly"
       },
       "data": [
        {
         "marker": {
          "size": 51
         },
         "mode": "lines+markers",
         "name": "Zone 1",
         "type": "scatter",
         "x": [
          "00:00",
          "01:00",
          "02:00",
          "03:00",
          "04:00",
          "05:00",
          "06:00",
          "07:00",
          "08:00",
          "09:00",
          "10:00",
          "11:00",
          "12:00",
          "13:00",
          "14:00",
          "15:00",
          "16:00",
          "17:00",
          "18:00",
          "19:00",
          "20:00",
          "21:00",
          "22:00",
          "23:00"
         ],
         "y": [
          0,
          0,
          0,
          0,
          0,
          0,
          21.628483366935683,
          21.628483366935683,
          108.14241683467847,
          108.14241683467847,
          108.14241683467847,
          108.14241683467847,
          108.14241683467847,
          108.14241683467847,
          21.628483366935683,
          21.628483366935683,
          21.628483366935683,
          0,
          0,
          0,
          0,
          0,
          0,
          0
         ]
        },
        {
         "marker": {
          "size": 46
         },
         "mode": "lines+markers",
         "name": "Zone 2",
         "type": "scatter",
         "x": [
          "00:00",
          "01:00",
          "02:00",
          "03:00",
          "04:00",
          "05:00",
          "06:00",
          "07:00",
          "08:00",
          "09:00",
          "10:00",
          "11:00",
          "12:00",
          "13:00",
          "14:00",
          "15:00",
          "16:00",
          "17:00",
          "18:00",
          "19:00",
          "20:00",
          "21:00",
          "22:00",
          "23:00"
         ],
         "y": [
          0,
          0,
          0,
          0,
          0,
          0,
          21.628483366935665,
          21.628483366935665,
          108.14241683467844,
          108.14241683467844,
          108.14241683467844,
          108.14241683467844,
          108.14241683467844,
          108.14241683467844,
          21.628483366935665,
          21.628483366935665,
          21.628483366935665,
          0,
          0,
          0,
          0,
          0,
          0,
          0
         ]
        },
        {
         "marker": {
          "size": 41
         },
         "mode": "lines+markers",
         "name": "Zone 3",
         "type": "scatter",
         "x": [
          "00:00",
          "01:00",
          "02:00",
          "03:00",
          "04:00",
          "05:00",
          "06:00",
          "07:00",
          "08:00",
          "09:00",
          "10:00",
          "11:00",
          "12:00",
          "13:00",
          "14:00",
          "15:00",
          "16:00",
          "17:00",
          "18:00",
          "19:00",
          "20:00",
          "21:00",
          "22:00",
          "23:00"
         ],
         "y": [
          0,
          0,
          0,
          0,
          0,
          0,
          15.603836310060775,
          15.603836310060775,
          78.01918155030393,
          78.01918155030393,
          78.01918155030393,
          78.01918155030393,
          78.01918155030393,
          78.01918155030393,
          15.603836310060775,
          15.603836310060775,
          15.603836310060775,
          0,
          0,
          0,
          0,
          0,
          0,
          0
         ]
        },
        {
         "marker": {
          "size": 36
         },
         "mode": "lines+markers",
         "name": "Zone 4",
         "type": "scatter",
         "x": [
          "00:00",
          "01:00",
          "02:00",
          "03:00",
          "04:00",
          "05:00",
          "06:00",
          "07:00",
          "08:00",
          "09:00",
          "10:00",
          "11:00",
          "12:00",
          "13:00",
          "14:00",
          "15:00",
          "16:00",
          "17:00",
          "18:00",
          "19:00",
          "20:00",
          "21:00",
          "22:00",
          "23:00"
         ],
         "y": [
          0,
          0,
          0,
          0,
          0,
          0,
          15.423097037932868,
          15.423097037932868,
          77.11548518966433,
          77.11548518966433,
          77.11548518966433,
          77.11548518966433,
          77.11548518966433,
          77.11548518966433,
          15.423097037932868,
          15.423097037932868,
          15.423097037932868,
          0,
          0,
          0,
          0,
          0,
          0,
          0
         ]
        },
        {
         "marker": {
          "size": 31
         },
         "mode": "lines+markers",
         "name": "Zone 5",
         "type": "scatter",
         "x": [
          "00:00",
          "01:00",
          "02:00",
          "03:00",
          "04:00",
          "05:00",
          "06:00",
          "07:00",
          "08:00",
          "09:00",
          "10:00",
          "11:00",
          "12:00",
          "13:00",
          "14:00",
          "15:00",
          "16:00",
          "17:00",
          "18:00",
          "19:00",
          "20:00",
          "21:00",
          "22:00",
          "23:00"
         ],
         "y": [
          0,
          0,
          0,
          0,
          0,
          0,
          12.230033864642015,
          12.230033864642015,
          61.15016932321009,
          61.15016932321009,
          61.15016932321009,
          61.15016932321009,
          61.15016932321009,
          61.15016932321009,
          12.230033864642015,
          12.230033864642015,
          12.230033864642015,
          0,
          0,
          0,
          0,
          0,
          0,
          0
         ]
        },
        {
         "marker": {
          "size": 26
         },
         "mode": "lines+markers",
         "name": "Zone 6",
         "type": "scatter",
         "x": [
          "00:00",
          "01:00",
          "02:00",
          "03:00",
          "04:00",
          "05:00",
          "06:00",
          "07:00",
          "08:00",
          "09:00",
          "10:00",
          "11:00",
          "12:00",
          "13:00",
          "14:00",
          "15:00",
          "16:00",
          "17:00",
          "18:00",
          "19:00",
          "20:00",
          "21:00",
          "22:00",
          "23:00"
         ],
         "y": [
          0,
          0,
          0,
          0,
          0,
          0,
          130.77580688274185,
          130.77580688274185,
          653.8790344137093,
          653.8790344137093,
          653.8790344137093,
          653.8790344137093,
          653.8790344137093,
          653.8790344137093,
          130.77580688274185,
          130.77580688274185,
          130.77580688274185,
          0,
          0,
          0,
          0,
          0,
          0,
          0
         ]
        },
        {
         "marker": {
          "size": 21
         },
         "mode": "lines+markers",
         "name": "Zone 7",
         "type": "scatter",
         "x": [
          "00:00",
          "01:00",
          "02:00",
          "03:00",
          "04:00",
          "05:00",
          "06:00",
          "07:00",
          "08:00",
          "09:00",
          "10:00",
          "11:00",
          "12:00",
          "13:00",
          "14:00",
          "15:00",
          "16:00",
          "17:00",
          "18:00",
          "19:00",
          "20:00",
          "21:00",
          "22:00",
          "23:00"
         ],
         "y": [
          0,
          0,
          0,
          0,
          0,
          0,
          1307.7580688274197,
          1307.7580688274197,
          6538.790344137091,
          6538.790344137091,
          6538.790344137091,
          6538.790344137091,
          6538.790344137091,
          6538.790344137091,
          1307.7580688274197,
          1307.7580688274197,
          1307.7580688274197,
          0,
          0,
          0,
          0,
          0,
          0,
          0
         ]
        },
        {
         "marker": {
          "size": 16
         },
         "mode": "lines+markers",
         "name": "Zone 8",
         "type": "scatter",
         "x": [
          "00:00",
          "01:00",
          "02:00",
          "03:00",
          "04:00",
          "05:00",
          "06:00",
          "07:00",
          "08:00",
          "09:00",
          "10:00",
          "11:00",
          "12:00",
          "13:00",
          "14:00",
          "15:00",
          "16:00",
          "17:00",
          "18:00",
          "19:00",
          "20:00",
          "21:00",
          "22:00",
          "23:00"
         ],
         "y": [
          0,
          0,
          0,
          0,
          0,
          0,
          1067.0117006326125,
          1067.0117006326125,
          5335.058503163064,
          5335.058503163064,
          5335.058503163064,
          5335.058503163064,
          5335.058503163064,
          5335.058503163064,
          1067.0117006326125,
          1067.0117006326125,
          1067.0117006326125,
          0,
          0,
          0,
          0,
          0,
          0,
          0
         ]
        }
       ],
       "layout": {
        "template": {
         "data": {
          "bar": [
           {
            "error_x": {
             "color": "#2a3f5f"
            },
            "error_y": {
             "color": "#2a3f5f"
            },
            "marker": {
             "line": {
              "color": "#E5ECF6",
              "width": 0.5
             },
             "pattern": {
              "fillmode": "overlay",
              "size": 10,
              "solidity": 0.2
             }
            },
            "type": "bar"
           }
          ],
          "barpolar": [
           {
            "marker": {
             "line": {
              "color": "#E5ECF6",
              "width": 0.5
             },
             "pattern": {
              "fillmode": "overlay",
              "size": 10,
              "solidity": 0.2
             }
            },
            "type": "barpolar"
           }
          ],
          "carpet": [
           {
            "aaxis": {
             "endlinecolor": "#2a3f5f",
             "gridcolor": "white",
             "linecolor": "white",
             "minorgridcolor": "white",
             "startlinecolor": "#2a3f5f"
            },
            "baxis": {
             "endlinecolor": "#2a3f5f",
             "gridcolor": "white",
             "linecolor": "white",
             "minorgridcolor": "white",
             "startlinecolor": "#2a3f5f"
            },
            "type": "carpet"
           }
          ],
          "choropleth": [
           {
            "colorbar": {
             "outlinewidth": 0,
             "ticks": ""
            },
            "type": "choropleth"
           }
          ],
          "contour": [
           {
            "colorbar": {
             "outlinewidth": 0,
             "ticks": ""
            },
            "colorscale": [
             [
              0,
              "#0d0887"
             ],
             [
              0.1111111111111111,
              "#46039f"
             ],
             [
              0.2222222222222222,
              "#7201a8"
             ],
             [
              0.3333333333333333,
              "#9c179e"
             ],
             [
              0.4444444444444444,
              "#bd3786"
             ],
             [
              0.5555555555555556,
              "#d8576b"
             ],
             [
              0.6666666666666666,
              "#ed7953"
             ],
             [
              0.7777777777777778,
              "#fb9f3a"
             ],
             [
              0.8888888888888888,
              "#fdca26"
             ],
             [
              1,
              "#f0f921"
             ]
            ],
            "type": "contour"
           }
          ],
          "contourcarpet": [
           {
            "colorbar": {
             "outlinewidth": 0,
             "ticks": ""
            },
            "type": "contourcarpet"
           }
          ],
          "heatmap": [
           {
            "colorbar": {
             "outlinewidth": 0,
             "ticks": ""
            },
            "colorscale": [
             [
              0,
              "#0d0887"
             ],
             [
              0.1111111111111111,
              "#46039f"
             ],
             [
              0.2222222222222222,
              "#7201a8"
             ],
             [
              0.3333333333333333,
              "#9c179e"
             ],
             [
              0.4444444444444444,
              "#bd3786"
             ],
             [
              0.5555555555555556,
              "#d8576b"
             ],
             [
              0.6666666666666666,
              "#ed7953"
             ],
             [
              0.7777777777777778,
              "#fb9f3a"
             ],
             [
              0.8888888888888888,
              "#fdca26"
             ],
             [
              1,
              "#f0f921"
             ]
            ],
            "type": "heatmap"
           }
          ],
          "heatmapgl": [
           {
            "colorbar": {
             "outlinewidth": 0,
             "ticks": ""
            },
            "colorscale": [
             [
              0,
              "#0d0887"
             ],
             [
              0.1111111111111111,
              "#46039f"
             ],
             [
              0.2222222222222222,
              "#7201a8"
             ],
             [
              0.3333333333333333,
              "#9c179e"
             ],
             [
              0.4444444444444444,
              "#bd3786"
             ],
             [
              0.5555555555555556,
              "#d8576b"
             ],
             [
              0.6666666666666666,
              "#ed7953"
             ],
             [
              0.7777777777777778,
              "#fb9f3a"
             ],
             [
              0.8888888888888888,
              "#fdca26"
             ],
             [
              1,
              "#f0f921"
             ]
            ],
            "type": "heatmapgl"
           }
          ],
          "histogram": [
           {
            "marker": {
             "pattern": {
              "fillmode": "overlay",
              "size": 10,
              "solidity": 0.2
             }
            },
            "type": "histogram"
           }
          ],
          "histogram2d": [
           {
            "colorbar": {
             "outlinewidth": 0,
             "ticks": ""
            },
            "colorscale": [
             [
              0,
              "#0d0887"
             ],
             [
              0.1111111111111111,
              "#46039f"
             ],
             [
              0.2222222222222222,
              "#7201a8"
             ],
             [
              0.3333333333333333,
              "#9c179e"
             ],
             [
              0.4444444444444444,
              "#bd3786"
             ],
             [
              0.5555555555555556,
              "#d8576b"
             ],
             [
              0.6666666666666666,
              "#ed7953"
             ],
             [
              0.7777777777777778,
              "#fb9f3a"
             ],
             [
              0.8888888888888888,
              "#fdca26"
             ],
             [
              1,
              "#f0f921"
             ]
            ],
            "type": "histogram2d"
           }
          ],
          "histogram2dcontour": [
           {
            "colorbar": {
             "outlinewidth": 0,
             "ticks": ""
            },
            "colorscale": [
             [
              0,
              "#0d0887"
             ],
             [
              0.1111111111111111,
              "#46039f"
             ],
             [
              0.2222222222222222,
              "#7201a8"
             ],
             [
              0.3333333333333333,
              "#9c179e"
             ],
             [
              0.4444444444444444,
              "#bd3786"
             ],
             [
              0.5555555555555556,
              "#d8576b"
             ],
             [
              0.6666666666666666,
              "#ed7953"
             ],
             [
              0.7777777777777778,
              "#fb9f3a"
             ],
             [
              0.8888888888888888,
              "#fdca26"
             ],
             [
              1,
              "#f0f921"
             ]
            ],
            "type": "histogram2dcontour"
           }
          ],
          "mesh3d": [
           {
            "colorbar": {
             "outlinewidth": 0,
             "ticks": ""
            },
            "type": "mesh3d"
           }
          ],
          "parcoords": [
           {
            "line": {
             "colorbar": {
              "outlinewidth": 0,
              "ticks": ""
             }
            },
            "type": "parcoords"
           }
          ],
          "pie": [
           {
            "automargin": true,
            "type": "pie"
           }
          ],
          "scatter": [
           {
            "marker": {
             "colorbar": {
              "outlinewidth": 0,
              "ticks": ""
             }
            },
            "type": "scatter"
           }
          ],
          "scatter3d": [
           {
            "line": {
             "colorbar": {
              "outlinewidth": 0,
              "ticks": ""
             }
            },
            "marker": {
             "colorbar": {
              "outlinewidth": 0,
              "ticks": ""
             }
            },
            "type": "scatter3d"
           }
          ],
          "scattercarpet": [
           {
            "marker": {
             "colorbar": {
              "outlinewidth": 0,
              "ticks": ""
             }
            },
            "type": "scattercarpet"
           }
          ],
          "scattergeo": [
           {
            "marker": {
             "colorbar": {
              "outlinewidth": 0,
              "ticks": ""
             }
            },
            "type": "scattergeo"
           }
          ],
          "scattergl": [
           {
            "marker": {
             "colorbar": {
              "outlinewidth": 0,
              "ticks": ""
             }
            },
            "type": "scattergl"
           }
          ],
          "scattermapbox": [
           {
            "marker": {
             "colorbar": {
              "outlinewidth": 0,
              "ticks": ""
             }
            },
            "type": "scattermapbox"
           }
          ],
          "scatterpolar": [
           {
            "marker": {
             "colorbar": {
              "outlinewidth": 0,
              "ticks": ""
             }
            },
            "type": "scatterpolar"
           }
          ],
          "scatterpolargl": [
           {
            "marker": {
             "colorbar": {
              "outlinewidth": 0,
              "ticks": ""
             }
            },
            "type": "scatterpolargl"
           }
          ],
          "scatterternary": [
           {
            "marker": {
             "colorbar": {
              "outlinewidth": 0,
              "ticks": ""
             }
            },
            "type": "scatterternary"
           }
          ],
          "surface": [
           {
            "colorbar": {
             "outlinewidth": 0,
             "ticks": ""
            },
            "colorscale": [
             [
              0,
              "#0d0887"
             ],
             [
              0.1111111111111111,
              "#46039f"
             ],
             [
              0.2222222222222222,
              "#7201a8"
             ],
             [
              0.3333333333333333,
              "#9c179e"
             ],
             [
              0.4444444444444444,
              "#bd3786"
             ],
             [
              0.5555555555555556,
              "#d8576b"
             ],
             [
              0.6666666666666666,
              "#ed7953"
             ],
             [
              0.7777777777777778,
              "#fb9f3a"
             ],
             [
              0.8888888888888888,
              "#fdca26"
             ],
             [
              1,
              "#f0f921"
             ]
            ],
            "type": "surface"
           }
          ],
          "table": [
           {
            "cells": {
             "fill": {
              "color": "#EBF0F8"
             },
             "line": {
              "color": "white"
             }
            },
            "header": {
             "fill": {
              "color": "#C8D4E3"
             },
             "line": {
              "color": "white"
             }
            },
            "type": "table"
           }
          ]
         },
         "layout": {
          "annotationdefaults": {
           "arrowcolor": "#2a3f5f",
           "arrowhead": 0,
           "arrowwidth": 1
          },
          "autotypenumbers": "strict",
          "coloraxis": {
           "colorbar": {
            "outlinewidth": 0,
            "ticks": ""
           }
          },
          "colorscale": {
           "diverging": [
            [
             0,
             "#8e0152"
            ],
            [
             0.1,
             "#c51b7d"
            ],
            [
             0.2,
             "#de77ae"
            ],
            [
             0.3,
             "#f1b6da"
            ],
            [
             0.4,
             "#fde0ef"
            ],
            [
             0.5,
             "#f7f7f7"
            ],
            [
             0.6,
             "#e6f5d0"
            ],
            [
             0.7,
             "#b8e186"
            ],
            [
             0.8,
             "#7fbc41"
            ],
            [
             0.9,
             "#4d9221"
            ],
            [
             1,
             "#276419"
            ]
           ],
           "sequential": [
            [
             0,
             "#0d0887"
            ],
            [
             0.1111111111111111,
             "#46039f"
            ],
            [
             0.2222222222222222,
             "#7201a8"
            ],
            [
             0.3333333333333333,
             "#9c179e"
            ],
            [
             0.4444444444444444,
             "#bd3786"
            ],
            [
             0.5555555555555556,
             "#d8576b"
            ],
            [
             0.6666666666666666,
             "#ed7953"
            ],
            [
             0.7777777777777778,
             "#fb9f3a"
            ],
            [
             0.8888888888888888,
             "#fdca26"
            ],
            [
             1,
             "#f0f921"
            ]
           ],
           "sequentialminus": [
            [
             0,
             "#0d0887"
            ],
            [
             0.1111111111111111,
             "#46039f"
            ],
            [
             0.2222222222222222,
             "#7201a8"
            ],
            [
             0.3333333333333333,
             "#9c179e"
            ],
            [
             0.4444444444444444,
             "#bd3786"
            ],
            [
             0.5555555555555556,
             "#d8576b"
            ],
            [
             0.6666666666666666,
             "#ed7953"
            ],
            [
             0.7777777777777778,
             "#fb9f3a"
            ],
            [
             0.8888888888888888,
             "#fdca26"
            ],
            [
             1,
             "#f0f921"
            ]
           ]
          },
          "colorway": [
           "#636efa",
           "#EF553B",
           "#00cc96",
           "#ab63fa",
           "#FFA15A",
           "#19d3f3",
           "#FF6692",
           "#B6E880",
           "#FF97FF",
           "#FECB52"
          ],
          "font": {
           "color": "#2a3f5f"
          },
          "geo": {
           "bgcolor": "white",
           "lakecolor": "white",
           "landcolor": "#E5ECF6",
           "showlakes": true,
           "showland": true,
           "subunitcolor": "white"
          },
          "hoverlabel": {
           "align": "left"
          },
          "hovermode": "closest",
          "mapbox": {
           "style": "light"
          },
          "paper_bgcolor": "white",
          "plot_bgcolor": "#E5ECF6",
          "polar": {
           "angularaxis": {
            "gridcolor": "white",
            "linecolor": "white",
            "ticks": ""
           },
           "bgcolor": "#E5ECF6",
           "radialaxis": {
            "gridcolor": "white",
            "linecolor": "white",
            "ticks": ""
           }
          },
          "scene": {
           "xaxis": {
            "backgroundcolor": "#E5ECF6",
            "gridcolor": "white",
            "gridwidth": 2,
            "linecolor": "white",
            "showbackground": true,
            "ticks": "",
            "zerolinecolor": "white"
           },
           "yaxis": {
            "backgroundcolor": "#E5ECF6",
            "gridcolor": "white",
            "gridwidth": 2,
            "linecolor": "white",
            "showbackground": true,
            "ticks": "",
            "zerolinecolor": "white"
           },
           "zaxis": {
            "backgroundcolor": "#E5ECF6",
            "gridcolor": "white",
            "gridwidth": 2,
            "linecolor": "white",
            "showbackground": true,
            "ticks": "",
            "zerolinecolor": "white"
           }
          },
          "shapedefaults": {
           "line": {
            "color": "#2a3f5f"
           }
          },
          "ternary": {
           "aaxis": {
            "gridcolor": "white",
            "linecolor": "white",
            "ticks": ""
           },
           "baxis": {
            "gridcolor": "white",
            "linecolor": "white",
            "ticks": ""
           },
           "bgcolor": "#E5ECF6",
           "caxis": {
            "gridcolor": "white",
            "linecolor": "white",
            "ticks": ""
           }
          },
          "title": {
           "x": 0.05
          },
          "xaxis": {
           "automargin": true,
           "gridcolor": "white",
           "linecolor": "white",
           "ticks": "",
           "title": {
            "standoff": 15
           },
           "zerolinecolor": "white",
           "zerolinewidth": 2
          },
          "yaxis": {
           "automargin": true,
           "gridcolor": "white",
           "linecolor": "white",
           "ticks": "",
           "title": {
            "standoff": 15
           },
           "zerolinecolor": "white",
           "zerolinewidth": 2
          }
         }
        },
        "title": {
         "text": "Zone People Total Heating Rate Month #8"
        },
        "xaxis": {
         "title": {
          "text": "Hours"
         }
        },
        "yaxis": {
         "title": {
          "text": "Power [W]"
         }
        }
       }
      }
     },
     "metadata": {},
     "output_type": "display_data"
    },
    {
     "data": {
      "application/vnd.plotly.v1+json": {
       "config": {
        "plotlyServerURL": "https://plot.ly"
       },
       "data": [
        {
         "marker": {
          "size": 51
         },
         "mode": "lines+markers",
         "name": "Zone 1",
         "type": "scatter",
         "x": [
          "00:00",
          "01:00",
          "02:00",
          "03:00",
          "04:00",
          "05:00",
          "06:00",
          "07:00",
          "08:00",
          "09:00",
          "10:00",
          "11:00",
          "12:00",
          "13:00",
          "14:00",
          "15:00",
          "16:00",
          "17:00",
          "18:00",
          "19:00",
          "20:00",
          "21:00",
          "22:00",
          "23:00"
         ],
         "y": [
          0,
          0,
          0,
          0,
          0,
          0,
          0.021628483366935684,
          0.021628483366935684,
          0.10814241683467843,
          0.10814241683467843,
          0.10814241683467843,
          0.10814241683467843,
          0.10814241683467843,
          0.10814241683467843,
          0.021628483366935684,
          0.021628483366935684,
          0.021628483366935684,
          0,
          0,
          0,
          0,
          0,
          0,
          0
         ]
        },
        {
         "marker": {
          "size": 46
         },
         "mode": "lines+markers",
         "name": "Zone 2",
         "type": "scatter",
         "x": [
          "00:00",
          "01:00",
          "02:00",
          "03:00",
          "04:00",
          "05:00",
          "06:00",
          "07:00",
          "08:00",
          "09:00",
          "10:00",
          "11:00",
          "12:00",
          "13:00",
          "14:00",
          "15:00",
          "16:00",
          "17:00",
          "18:00",
          "19:00",
          "20:00",
          "21:00",
          "22:00",
          "23:00"
         ],
         "y": [
          0,
          0,
          0,
          0,
          0,
          0,
          0.021628483366935677,
          0.021628483366935677,
          0.10814241683467841,
          0.10814241683467841,
          0.10814241683467841,
          0.10814241683467841,
          0.10814241683467841,
          0.10814241683467841,
          0.021628483366935677,
          0.021628483366935677,
          0.021628483366935677,
          0,
          0,
          0,
          0,
          0,
          0,
          0
         ]
        },
        {
         "marker": {
          "size": 41
         },
         "mode": "lines+markers",
         "name": "Zone 3",
         "type": "scatter",
         "x": [
          "00:00",
          "01:00",
          "02:00",
          "03:00",
          "04:00",
          "05:00",
          "06:00",
          "07:00",
          "08:00",
          "09:00",
          "10:00",
          "11:00",
          "12:00",
          "13:00",
          "14:00",
          "15:00",
          "16:00",
          "17:00",
          "18:00",
          "19:00",
          "20:00",
          "21:00",
          "22:00",
          "23:00"
         ],
         "y": [
          0,
          0,
          0,
          0,
          0,
          0,
          0.015603836310060779,
          0.015603836310060779,
          0.0780191815503039,
          0.0780191815503039,
          0.0780191815503039,
          0.0780191815503039,
          0.0780191815503039,
          0.0780191815503039,
          0.015603836310060779,
          0.015603836310060779,
          0.015603836310060779,
          0,
          0,
          0,
          0,
          0,
          0,
          0
         ]
        },
        {
         "marker": {
          "size": 36
         },
         "mode": "lines+markers",
         "name": "Zone 4",
         "type": "scatter",
         "x": [
          "00:00",
          "01:00",
          "02:00",
          "03:00",
          "04:00",
          "05:00",
          "06:00",
          "07:00",
          "08:00",
          "09:00",
          "10:00",
          "11:00",
          "12:00",
          "13:00",
          "14:00",
          "15:00",
          "16:00",
          "17:00",
          "18:00",
          "19:00",
          "20:00",
          "21:00",
          "22:00",
          "23:00"
         ],
         "y": [
          0,
          0,
          0,
          0,
          0,
          0,
          0.015423097037932883,
          0.015423097037932883,
          0.07711548518966439,
          0.07711548518966439,
          0.07711548518966439,
          0.07711548518966439,
          0.07711548518966439,
          0.07711548518966439,
          0.015423097037932883,
          0.015423097037932883,
          0.015423097037932883,
          0,
          0,
          0,
          0,
          0,
          0,
          0
         ]
        },
        {
         "marker": {
          "size": 31
         },
         "mode": "lines+markers",
         "name": "Zone 5",
         "type": "scatter",
         "x": [
          "00:00",
          "01:00",
          "02:00",
          "03:00",
          "04:00",
          "05:00",
          "06:00",
          "07:00",
          "08:00",
          "09:00",
          "10:00",
          "11:00",
          "12:00",
          "13:00",
          "14:00",
          "15:00",
          "16:00",
          "17:00",
          "18:00",
          "19:00",
          "20:00",
          "21:00",
          "22:00",
          "23:00"
         ],
         "y": [
          0,
          0,
          0,
          0,
          0,
          0,
          0.012230033864642019,
          0.012230033864642019,
          0.06115016932321008,
          0.06115016932321008,
          0.06115016932321008,
          0.06115016932321008,
          0.06115016932321008,
          0.06115016932321008,
          0.012230033864642019,
          0.012230033864642019,
          0.012230033864642019,
          0,
          0,
          0,
          0,
          0,
          0,
          0
         ]
        },
        {
         "marker": {
          "size": 26
         },
         "mode": "lines+markers",
         "name": "Zone 6",
         "type": "scatter",
         "x": [
          "00:00",
          "01:00",
          "02:00",
          "03:00",
          "04:00",
          "05:00",
          "06:00",
          "07:00",
          "08:00",
          "09:00",
          "10:00",
          "11:00",
          "12:00",
          "13:00",
          "14:00",
          "15:00",
          "16:00",
          "17:00",
          "18:00",
          "19:00",
          "20:00",
          "21:00",
          "22:00",
          "23:00"
         ],
         "y": [
          0,
          0,
          0,
          0,
          0,
          0,
          0.13077580688274193,
          0.13077580688274193,
          0.6538790344137091,
          0.6538790344137091,
          0.6538790344137091,
          0.6538790344137091,
          0.6538790344137091,
          0.6538790344137091,
          0.13077580688274193,
          0.13077580688274193,
          0.13077580688274193,
          0,
          0,
          0,
          0,
          0,
          0,
          0
         ]
        },
        {
         "marker": {
          "size": 21
         },
         "mode": "lines+markers",
         "name": "Zone 7",
         "type": "scatter",
         "x": [
          "00:00",
          "01:00",
          "02:00",
          "03:00",
          "04:00",
          "05:00",
          "06:00",
          "07:00",
          "08:00",
          "09:00",
          "10:00",
          "11:00",
          "12:00",
          "13:00",
          "14:00",
          "15:00",
          "16:00",
          "17:00",
          "18:00",
          "19:00",
          "20:00",
          "21:00",
          "22:00",
          "23:00"
         ],
         "y": [
          0,
          0,
          0,
          0,
          0,
          0,
          1.3077580688274182,
          1.3077580688274182,
          6.538790344137093,
          6.538790344137093,
          6.538790344137093,
          6.538790344137093,
          6.538790344137093,
          6.538790344137093,
          1.3077580688274182,
          1.3077580688274182,
          1.3077580688274182,
          0,
          0,
          0,
          0,
          0,
          0,
          0
         ]
        },
        {
         "marker": {
          "size": 16
         },
         "mode": "lines+markers",
         "name": "Zone 8",
         "type": "scatter",
         "x": [
          "00:00",
          "01:00",
          "02:00",
          "03:00",
          "04:00",
          "05:00",
          "06:00",
          "07:00",
          "08:00",
          "09:00",
          "10:00",
          "11:00",
          "12:00",
          "13:00",
          "14:00",
          "15:00",
          "16:00",
          "17:00",
          "18:00",
          "19:00",
          "20:00",
          "21:00",
          "22:00",
          "23:00"
         ],
         "y": [
          0,
          0,
          0,
          0,
          0,
          0,
          1.0670117006326127,
          1.0670117006326127,
          5.335058503163065,
          5.335058503163065,
          5.335058503163065,
          5.335058503163065,
          5.335058503163065,
          5.335058503163065,
          1.0670117006326127,
          1.0670117006326127,
          1.0670117006326127,
          0,
          0,
          0,
          0,
          0,
          0,
          0
         ]
        }
       ],
       "layout": {
        "template": {
         "data": {
          "bar": [
           {
            "error_x": {
             "color": "#2a3f5f"
            },
            "error_y": {
             "color": "#2a3f5f"
            },
            "marker": {
             "line": {
              "color": "#E5ECF6",
              "width": 0.5
             },
             "pattern": {
              "fillmode": "overlay",
              "size": 10,
              "solidity": 0.2
             }
            },
            "type": "bar"
           }
          ],
          "barpolar": [
           {
            "marker": {
             "line": {
              "color": "#E5ECF6",
              "width": 0.5
             },
             "pattern": {
              "fillmode": "overlay",
              "size": 10,
              "solidity": 0.2
             }
            },
            "type": "barpolar"
           }
          ],
          "carpet": [
           {
            "aaxis": {
             "endlinecolor": "#2a3f5f",
             "gridcolor": "white",
             "linecolor": "white",
             "minorgridcolor": "white",
             "startlinecolor": "#2a3f5f"
            },
            "baxis": {
             "endlinecolor": "#2a3f5f",
             "gridcolor": "white",
             "linecolor": "white",
             "minorgridcolor": "white",
             "startlinecolor": "#2a3f5f"
            },
            "type": "carpet"
           }
          ],
          "choropleth": [
           {
            "colorbar": {
             "outlinewidth": 0,
             "ticks": ""
            },
            "type": "choropleth"
           }
          ],
          "contour": [
           {
            "colorbar": {
             "outlinewidth": 0,
             "ticks": ""
            },
            "colorscale": [
             [
              0,
              "#0d0887"
             ],
             [
              0.1111111111111111,
              "#46039f"
             ],
             [
              0.2222222222222222,
              "#7201a8"
             ],
             [
              0.3333333333333333,
              "#9c179e"
             ],
             [
              0.4444444444444444,
              "#bd3786"
             ],
             [
              0.5555555555555556,
              "#d8576b"
             ],
             [
              0.6666666666666666,
              "#ed7953"
             ],
             [
              0.7777777777777778,
              "#fb9f3a"
             ],
             [
              0.8888888888888888,
              "#fdca26"
             ],
             [
              1,
              "#f0f921"
             ]
            ],
            "type": "contour"
           }
          ],
          "contourcarpet": [
           {
            "colorbar": {
             "outlinewidth": 0,
             "ticks": ""
            },
            "type": "contourcarpet"
           }
          ],
          "heatmap": [
           {
            "colorbar": {
             "outlinewidth": 0,
             "ticks": ""
            },
            "colorscale": [
             [
              0,
              "#0d0887"
             ],
             [
              0.1111111111111111,
              "#46039f"
             ],
             [
              0.2222222222222222,
              "#7201a8"
             ],
             [
              0.3333333333333333,
              "#9c179e"
             ],
             [
              0.4444444444444444,
              "#bd3786"
             ],
             [
              0.5555555555555556,
              "#d8576b"
             ],
             [
              0.6666666666666666,
              "#ed7953"
             ],
             [
              0.7777777777777778,
              "#fb9f3a"
             ],
             [
              0.8888888888888888,
              "#fdca26"
             ],
             [
              1,
              "#f0f921"
             ]
            ],
            "type": "heatmap"
           }
          ],
          "heatmapgl": [
           {
            "colorbar": {
             "outlinewidth": 0,
             "ticks": ""
            },
            "colorscale": [
             [
              0,
              "#0d0887"
             ],
             [
              0.1111111111111111,
              "#46039f"
             ],
             [
              0.2222222222222222,
              "#7201a8"
             ],
             [
              0.3333333333333333,
              "#9c179e"
             ],
             [
              0.4444444444444444,
              "#bd3786"
             ],
             [
              0.5555555555555556,
              "#d8576b"
             ],
             [
              0.6666666666666666,
              "#ed7953"
             ],
             [
              0.7777777777777778,
              "#fb9f3a"
             ],
             [
              0.8888888888888888,
              "#fdca26"
             ],
             [
              1,
              "#f0f921"
             ]
            ],
            "type": "heatmapgl"
           }
          ],
          "histogram": [
           {
            "marker": {
             "pattern": {
              "fillmode": "overlay",
              "size": 10,
              "solidity": 0.2
             }
            },
            "type": "histogram"
           }
          ],
          "histogram2d": [
           {
            "colorbar": {
             "outlinewidth": 0,
             "ticks": ""
            },
            "colorscale": [
             [
              0,
              "#0d0887"
             ],
             [
              0.1111111111111111,
              "#46039f"
             ],
             [
              0.2222222222222222,
              "#7201a8"
             ],
             [
              0.3333333333333333,
              "#9c179e"
             ],
             [
              0.4444444444444444,
              "#bd3786"
             ],
             [
              0.5555555555555556,
              "#d8576b"
             ],
             [
              0.6666666666666666,
              "#ed7953"
             ],
             [
              0.7777777777777778,
              "#fb9f3a"
             ],
             [
              0.8888888888888888,
              "#fdca26"
             ],
             [
              1,
              "#f0f921"
             ]
            ],
            "type": "histogram2d"
           }
          ],
          "histogram2dcontour": [
           {
            "colorbar": {
             "outlinewidth": 0,
             "ticks": ""
            },
            "colorscale": [
             [
              0,
              "#0d0887"
             ],
             [
              0.1111111111111111,
              "#46039f"
             ],
             [
              0.2222222222222222,
              "#7201a8"
             ],
             [
              0.3333333333333333,
              "#9c179e"
             ],
             [
              0.4444444444444444,
              "#bd3786"
             ],
             [
              0.5555555555555556,
              "#d8576b"
             ],
             [
              0.6666666666666666,
              "#ed7953"
             ],
             [
              0.7777777777777778,
              "#fb9f3a"
             ],
             [
              0.8888888888888888,
              "#fdca26"
             ],
             [
              1,
              "#f0f921"
             ]
            ],
            "type": "histogram2dcontour"
           }
          ],
          "mesh3d": [
           {
            "colorbar": {
             "outlinewidth": 0,
             "ticks": ""
            },
            "type": "mesh3d"
           }
          ],
          "parcoords": [
           {
            "line": {
             "colorbar": {
              "outlinewidth": 0,
              "ticks": ""
             }
            },
            "type": "parcoords"
           }
          ],
          "pie": [
           {
            "automargin": true,
            "type": "pie"
           }
          ],
          "scatter": [
           {
            "marker": {
             "colorbar": {
              "outlinewidth": 0,
              "ticks": ""
             }
            },
            "type": "scatter"
           }
          ],
          "scatter3d": [
           {
            "line": {
             "colorbar": {
              "outlinewidth": 0,
              "ticks": ""
             }
            },
            "marker": {
             "colorbar": {
              "outlinewidth": 0,
              "ticks": ""
             }
            },
            "type": "scatter3d"
           }
          ],
          "scattercarpet": [
           {
            "marker": {
             "colorbar": {
              "outlinewidth": 0,
              "ticks": ""
             }
            },
            "type": "scattercarpet"
           }
          ],
          "scattergeo": [
           {
            "marker": {
             "colorbar": {
              "outlinewidth": 0,
              "ticks": ""
             }
            },
            "type": "scattergeo"
           }
          ],
          "scattergl": [
           {
            "marker": {
             "colorbar": {
              "outlinewidth": 0,
              "ticks": ""
             }
            },
            "type": "scattergl"
           }
          ],
          "scattermapbox": [
           {
            "marker": {
             "colorbar": {
              "outlinewidth": 0,
              "ticks": ""
             }
            },
            "type": "scattermapbox"
           }
          ],
          "scatterpolar": [
           {
            "marker": {
             "colorbar": {
              "outlinewidth": 0,
              "ticks": ""
             }
            },
            "type": "scatterpolar"
           }
          ],
          "scatterpolargl": [
           {
            "marker": {
             "colorbar": {
              "outlinewidth": 0,
              "ticks": ""
             }
            },
            "type": "scatterpolargl"
           }
          ],
          "scatterternary": [
           {
            "marker": {
             "colorbar": {
              "outlinewidth": 0,
              "ticks": ""
             }
            },
            "type": "scatterternary"
           }
          ],
          "surface": [
           {
            "colorbar": {
             "outlinewidth": 0,
             "ticks": ""
            },
            "colorscale": [
             [
              0,
              "#0d0887"
             ],
             [
              0.1111111111111111,
              "#46039f"
             ],
             [
              0.2222222222222222,
              "#7201a8"
             ],
             [
              0.3333333333333333,
              "#9c179e"
             ],
             [
              0.4444444444444444,
              "#bd3786"
             ],
             [
              0.5555555555555556,
              "#d8576b"
             ],
             [
              0.6666666666666666,
              "#ed7953"
             ],
             [
              0.7777777777777778,
              "#fb9f3a"
             ],
             [
              0.8888888888888888,
              "#fdca26"
             ],
             [
              1,
              "#f0f921"
             ]
            ],
            "type": "surface"
           }
          ],
          "table": [
           {
            "cells": {
             "fill": {
              "color": "#EBF0F8"
             },
             "line": {
              "color": "white"
             }
            },
            "header": {
             "fill": {
              "color": "#C8D4E3"
             },
             "line": {
              "color": "white"
             }
            },
            "type": "table"
           }
          ]
         },
         "layout": {
          "annotationdefaults": {
           "arrowcolor": "#2a3f5f",
           "arrowhead": 0,
           "arrowwidth": 1
          },
          "autotypenumbers": "strict",
          "coloraxis": {
           "colorbar": {
            "outlinewidth": 0,
            "ticks": ""
           }
          },
          "colorscale": {
           "diverging": [
            [
             0,
             "#8e0152"
            ],
            [
             0.1,
             "#c51b7d"
            ],
            [
             0.2,
             "#de77ae"
            ],
            [
             0.3,
             "#f1b6da"
            ],
            [
             0.4,
             "#fde0ef"
            ],
            [
             0.5,
             "#f7f7f7"
            ],
            [
             0.6,
             "#e6f5d0"
            ],
            [
             0.7,
             "#b8e186"
            ],
            [
             0.8,
             "#7fbc41"
            ],
            [
             0.9,
             "#4d9221"
            ],
            [
             1,
             "#276419"
            ]
           ],
           "sequential": [
            [
             0,
             "#0d0887"
            ],
            [
             0.1111111111111111,
             "#46039f"
            ],
            [
             0.2222222222222222,
             "#7201a8"
            ],
            [
             0.3333333333333333,
             "#9c179e"
            ],
            [
             0.4444444444444444,
             "#bd3786"
            ],
            [
             0.5555555555555556,
             "#d8576b"
            ],
            [
             0.6666666666666666,
             "#ed7953"
            ],
            [
             0.7777777777777778,
             "#fb9f3a"
            ],
            [
             0.8888888888888888,
             "#fdca26"
            ],
            [
             1,
             "#f0f921"
            ]
           ],
           "sequentialminus": [
            [
             0,
             "#0d0887"
            ],
            [
             0.1111111111111111,
             "#46039f"
            ],
            [
             0.2222222222222222,
             "#7201a8"
            ],
            [
             0.3333333333333333,
             "#9c179e"
            ],
            [
             0.4444444444444444,
             "#bd3786"
            ],
            [
             0.5555555555555556,
             "#d8576b"
            ],
            [
             0.6666666666666666,
             "#ed7953"
            ],
            [
             0.7777777777777778,
             "#fb9f3a"
            ],
            [
             0.8888888888888888,
             "#fdca26"
            ],
            [
             1,
             "#f0f921"
            ]
           ]
          },
          "colorway": [
           "#636efa",
           "#EF553B",
           "#00cc96",
           "#ab63fa",
           "#FFA15A",
           "#19d3f3",
           "#FF6692",
           "#B6E880",
           "#FF97FF",
           "#FECB52"
          ],
          "font": {
           "color": "#2a3f5f"
          },
          "geo": {
           "bgcolor": "white",
           "lakecolor": "white",
           "landcolor": "#E5ECF6",
           "showlakes": true,
           "showland": true,
           "subunitcolor": "white"
          },
          "hoverlabel": {
           "align": "left"
          },
          "hovermode": "closest",
          "mapbox": {
           "style": "light"
          },
          "paper_bgcolor": "white",
          "plot_bgcolor": "#E5ECF6",
          "polar": {
           "angularaxis": {
            "gridcolor": "white",
            "linecolor": "white",
            "ticks": ""
           },
           "bgcolor": "#E5ECF6",
           "radialaxis": {
            "gridcolor": "white",
            "linecolor": "white",
            "ticks": ""
           }
          },
          "scene": {
           "xaxis": {
            "backgroundcolor": "#E5ECF6",
            "gridcolor": "white",
            "gridwidth": 2,
            "linecolor": "white",
            "showbackground": true,
            "ticks": "",
            "zerolinecolor": "white"
           },
           "yaxis": {
            "backgroundcolor": "#E5ECF6",
            "gridcolor": "white",
            "gridwidth": 2,
            "linecolor": "white",
            "showbackground": true,
            "ticks": "",
            "zerolinecolor": "white"
           },
           "zaxis": {
            "backgroundcolor": "#E5ECF6",
            "gridcolor": "white",
            "gridwidth": 2,
            "linecolor": "white",
            "showbackground": true,
            "ticks": "",
            "zerolinecolor": "white"
           }
          },
          "shapedefaults": {
           "line": {
            "color": "#2a3f5f"
           }
          },
          "ternary": {
           "aaxis": {
            "gridcolor": "white",
            "linecolor": "white",
            "ticks": ""
           },
           "baxis": {
            "gridcolor": "white",
            "linecolor": "white",
            "ticks": ""
           },
           "bgcolor": "#E5ECF6",
           "caxis": {
            "gridcolor": "white",
            "linecolor": "white",
            "ticks": ""
           }
          },
          "title": {
           "x": 0.05
          },
          "xaxis": {
           "automargin": true,
           "gridcolor": "white",
           "linecolor": "white",
           "ticks": "",
           "title": {
            "standoff": 15
           },
           "zerolinecolor": "white",
           "zerolinewidth": 2
          },
          "yaxis": {
           "automargin": true,
           "gridcolor": "white",
           "linecolor": "white",
           "ticks": "",
           "title": {
            "standoff": 15
           },
           "zerolinecolor": "white",
           "zerolinewidth": 2
          }
         }
        },
        "title": {
         "text": "Zone People Total Heating Energy Month #8"
        },
        "xaxis": {
         "title": {
          "text": "Hours"
         }
        },
        "yaxis": {
         "title": {
          "text": "Energy [kWh]"
         }
        }
       }
      }
     },
     "metadata": {},
     "output_type": "display_data"
    },
    {
     "name": "stdout",
     "output_type": "stream",
     "text": [
      "building envelope heat gains \n"
     ]
    },
    {
     "data": {
      "application/vnd.plotly.v1+json": {
       "config": {
        "plotlyServerURL": "https://plot.ly"
       },
       "data": [
        {
         "marker": {
          "size": 51
         },
         "mode": "lines+markers",
         "name": "Zone 1",
         "type": "scatter",
         "x": [
          "00:00",
          "01:00",
          "02:00",
          "03:00",
          "04:00",
          "05:00",
          "06:00",
          "07:00",
          "08:00",
          "09:00",
          "10:00",
          "11:00",
          "12:00",
          "13:00",
          "14:00",
          "15:00",
          "16:00",
          "17:00",
          "18:00",
          "19:00",
          "20:00",
          "21:00",
          "22:00",
          "23:00"
         ],
         "y": [
          0,
          0,
          0,
          0,
          0,
          0.14376361060499052,
          0.30820870484718105,
          0.38076695543161904,
          0.6120961632701704,
          0.788602039144378,
          0.8929674779638704,
          0.9253827279091392,
          0.9406744081924726,
          0.920519396248601,
          0.8450168091296743,
          0.6913006745066587,
          0.46114912186334717,
          0.3326893006028197,
          0.19830996919746982,
          0,
          0,
          0,
          0,
          0
         ]
        },
        {
         "marker": {
          "size": 46
         },
         "mode": "lines+markers",
         "name": "Zone 2",
         "type": "scatter",
         "x": [
          "00:00",
          "01:00",
          "02:00",
          "03:00",
          "04:00",
          "05:00",
          "06:00",
          "07:00",
          "08:00",
          "09:00",
          "10:00",
          "11:00",
          "12:00",
          "13:00",
          "14:00",
          "15:00",
          "16:00",
          "17:00",
          "18:00",
          "19:00",
          "20:00",
          "21:00",
          "22:00",
          "23:00"
         ],
         "y": [
          0,
          0,
          0,
          0,
          0,
          0.14251733762685848,
          0.3050035491762163,
          0.37698417022851105,
          0.6084965983976617,
          0.787275345582742,
          0.897196992204717,
          0.9376929547215489,
          0.9617611030960861,
          0.9485722359439689,
          0.8792603317842405,
          0.73106545673775,
          0.5050060469081391,
          0.3796818064459825,
          0.23158472809010067,
          0,
          0,
          0,
          0,
          0
         ]
        },
        {
         "marker": {
          "size": 41
         },
         "mode": "lines+markers",
         "name": "Zone 3",
         "type": "scatter",
         "x": [
          "00:00",
          "01:00",
          "02:00",
          "03:00",
          "04:00",
          "05:00",
          "06:00",
          "07:00",
          "08:00",
          "09:00",
          "10:00",
          "11:00",
          "12:00",
          "13:00",
          "14:00",
          "15:00",
          "16:00",
          "17:00",
          "18:00",
          "19:00",
          "20:00",
          "21:00",
          "22:00",
          "23:00"
         ],
         "y": [
          0,
          0,
          0,
          0,
          0,
          0.000030298345263485547,
          0.007189348401785487,
          0.03901759463800134,
          0.10389668953954402,
          0.19530277111684496,
          0.27677392443505533,
          0.3246791337413916,
          0.3301523366953566,
          0.29435217228351146,
          0.2242309232440911,
          0.1364090940255182,
          0.06097568436064492,
          0.02053079620858236,
          0.0015548901621408994,
          0,
          0,
          0,
          0,
          0
         ]
        },
        {
         "marker": {
          "size": 36
         },
         "mode": "lines+markers",
         "name": "Zone 4",
         "type": "scatter",
         "x": [
          "00:00",
          "01:00",
          "02:00",
          "03:00",
          "04:00",
          "05:00",
          "06:00",
          "07:00",
          "08:00",
          "09:00",
          "10:00",
          "11:00",
          "12:00",
          "13:00",
          "14:00",
          "15:00",
          "16:00",
          "17:00",
          "18:00",
          "19:00",
          "20:00",
          "21:00",
          "22:00",
          "23:00"
         ],
         "y": [
          0,
          0,
          0,
          0,
          0,
          0,
          0,
          0,
          0,
          0,
          0,
          0,
          0,
          0,
          0,
          0,
          0,
          0,
          0,
          0,
          0,
          0,
          0,
          0
         ]
        },
        {
         "marker": {
          "size": 31
         },
         "mode": "lines+markers",
         "name": "Zone 5",
         "type": "scatter",
         "x": [
          "00:00",
          "01:00",
          "02:00",
          "03:00",
          "04:00",
          "05:00",
          "06:00",
          "07:00",
          "08:00",
          "09:00",
          "10:00",
          "11:00",
          "12:00",
          "13:00",
          "14:00",
          "15:00",
          "16:00",
          "17:00",
          "18:00",
          "19:00",
          "20:00",
          "21:00",
          "22:00",
          "23:00"
         ],
         "y": [
          0,
          0,
          0,
          0,
          0,
          0,
          0,
          0,
          0,
          0,
          0,
          0,
          0,
          0,
          0,
          0,
          0,
          0,
          0,
          0,
          0,
          0,
          0,
          0
         ]
        },
        {
         "marker": {
          "size": 26
         },
         "mode": "lines+markers",
         "name": "Zone 6",
         "type": "scatter",
         "x": [
          "00:00",
          "01:00",
          "02:00",
          "03:00",
          "04:00",
          "05:00",
          "06:00",
          "07:00",
          "08:00",
          "09:00",
          "10:00",
          "11:00",
          "12:00",
          "13:00",
          "14:00",
          "15:00",
          "16:00",
          "17:00",
          "18:00",
          "19:00",
          "20:00",
          "21:00",
          "22:00",
          "23:00"
         ],
         "y": [
          0,
          0,
          0,
          0,
          0,
          0.24386614608329685,
          0.615238191868067,
          0.8997734970775821,
          1.6623134104300068,
          2.375639913888153,
          2.9113671758646706,
          3.1769826901185434,
          3.268611845902528,
          3.1382152206205487,
          2.7537187781251258,
          2.1143685461758928,
          1.3195679581403843,
          0.8782299043359674,
          0.4732178648347415,
          0,
          0,
          0,
          0,
          0
         ]
        },
        {
         "marker": {
          "size": 21
         },
         "mode": "lines+markers",
         "name": "Zone 7",
         "type": "scatter",
         "x": [
          "00:00",
          "01:00",
          "02:00",
          "03:00",
          "04:00",
          "05:00",
          "06:00",
          "07:00",
          "08:00",
          "09:00",
          "10:00",
          "11:00",
          "12:00",
          "13:00",
          "14:00",
          "15:00",
          "16:00",
          "17:00",
          "18:00",
          "19:00",
          "20:00",
          "21:00",
          "22:00",
          "23:00"
         ],
         "y": [
          0,
          0,
          0,
          0,
          0,
          0.00004046748036625863,
          0.007222698348446437,
          0.03864925020415404,
          0.10278258514816112,
          0.19320293395173985,
          0.27385497933241215,
          0.3213877152999949,
          0.3269947430214622,
          0.2918231422389294,
          0.22283262396885764,
          0.1366038241904233,
          0.06268733835806016,
          0.023166736926010668,
          0.0022998740246763095,
          0,
          0,
          0,
          0,
          0
         ]
        },
        {
         "marker": {
          "size": 16
         },
         "mode": "lines+markers",
         "name": "Zone 8",
         "type": "scatter",
         "x": [
          "00:00",
          "01:00",
          "02:00",
          "03:00",
          "04:00",
          "05:00",
          "06:00",
          "07:00",
          "08:00",
          "09:00",
          "10:00",
          "11:00",
          "12:00",
          "13:00",
          "14:00",
          "15:00",
          "16:00",
          "17:00",
          "18:00",
          "19:00",
          "20:00",
          "21:00",
          "22:00",
          "23:00"
         ],
         "y": [
          0,
          0,
          0,
          0,
          0,
          0.00002648419182653695,
          0.005566327072955163,
          0.030417324885355243,
          0.08134066997716212,
          0.15323034555737675,
          0.2174111843641645,
          0.2553301141667975,
          0.25999770609182005,
          0.23225765760491424,
          0.177628162680563,
          0.10925805737132584,
          0.05057590324003941,
          0.019084258280703856,
          0.0020296252984761246,
          0,
          0,
          0,
          0,
          0
         ]
        }
       ],
       "layout": {
        "template": {
         "data": {
          "bar": [
           {
            "error_x": {
             "color": "#2a3f5f"
            },
            "error_y": {
             "color": "#2a3f5f"
            },
            "marker": {
             "line": {
              "color": "#E5ECF6",
              "width": 0.5
             },
             "pattern": {
              "fillmode": "overlay",
              "size": 10,
              "solidity": 0.2
             }
            },
            "type": "bar"
           }
          ],
          "barpolar": [
           {
            "marker": {
             "line": {
              "color": "#E5ECF6",
              "width": 0.5
             },
             "pattern": {
              "fillmode": "overlay",
              "size": 10,
              "solidity": 0.2
             }
            },
            "type": "barpolar"
           }
          ],
          "carpet": [
           {
            "aaxis": {
             "endlinecolor": "#2a3f5f",
             "gridcolor": "white",
             "linecolor": "white",
             "minorgridcolor": "white",
             "startlinecolor": "#2a3f5f"
            },
            "baxis": {
             "endlinecolor": "#2a3f5f",
             "gridcolor": "white",
             "linecolor": "white",
             "minorgridcolor": "white",
             "startlinecolor": "#2a3f5f"
            },
            "type": "carpet"
           }
          ],
          "choropleth": [
           {
            "colorbar": {
             "outlinewidth": 0,
             "ticks": ""
            },
            "type": "choropleth"
           }
          ],
          "contour": [
           {
            "colorbar": {
             "outlinewidth": 0,
             "ticks": ""
            },
            "colorscale": [
             [
              0,
              "#0d0887"
             ],
             [
              0.1111111111111111,
              "#46039f"
             ],
             [
              0.2222222222222222,
              "#7201a8"
             ],
             [
              0.3333333333333333,
              "#9c179e"
             ],
             [
              0.4444444444444444,
              "#bd3786"
             ],
             [
              0.5555555555555556,
              "#d8576b"
             ],
             [
              0.6666666666666666,
              "#ed7953"
             ],
             [
              0.7777777777777778,
              "#fb9f3a"
             ],
             [
              0.8888888888888888,
              "#fdca26"
             ],
             [
              1,
              "#f0f921"
             ]
            ],
            "type": "contour"
           }
          ],
          "contourcarpet": [
           {
            "colorbar": {
             "outlinewidth": 0,
             "ticks": ""
            },
            "type": "contourcarpet"
           }
          ],
          "heatmap": [
           {
            "colorbar": {
             "outlinewidth": 0,
             "ticks": ""
            },
            "colorscale": [
             [
              0,
              "#0d0887"
             ],
             [
              0.1111111111111111,
              "#46039f"
             ],
             [
              0.2222222222222222,
              "#7201a8"
             ],
             [
              0.3333333333333333,
              "#9c179e"
             ],
             [
              0.4444444444444444,
              "#bd3786"
             ],
             [
              0.5555555555555556,
              "#d8576b"
             ],
             [
              0.6666666666666666,
              "#ed7953"
             ],
             [
              0.7777777777777778,
              "#fb9f3a"
             ],
             [
              0.8888888888888888,
              "#fdca26"
             ],
             [
              1,
              "#f0f921"
             ]
            ],
            "type": "heatmap"
           }
          ],
          "heatmapgl": [
           {
            "colorbar": {
             "outlinewidth": 0,
             "ticks": ""
            },
            "colorscale": [
             [
              0,
              "#0d0887"
             ],
             [
              0.1111111111111111,
              "#46039f"
             ],
             [
              0.2222222222222222,
              "#7201a8"
             ],
             [
              0.3333333333333333,
              "#9c179e"
             ],
             [
              0.4444444444444444,
              "#bd3786"
             ],
             [
              0.5555555555555556,
              "#d8576b"
             ],
             [
              0.6666666666666666,
              "#ed7953"
             ],
             [
              0.7777777777777778,
              "#fb9f3a"
             ],
             [
              0.8888888888888888,
              "#fdca26"
             ],
             [
              1,
              "#f0f921"
             ]
            ],
            "type": "heatmapgl"
           }
          ],
          "histogram": [
           {
            "marker": {
             "pattern": {
              "fillmode": "overlay",
              "size": 10,
              "solidity": 0.2
             }
            },
            "type": "histogram"
           }
          ],
          "histogram2d": [
           {
            "colorbar": {
             "outlinewidth": 0,
             "ticks": ""
            },
            "colorscale": [
             [
              0,
              "#0d0887"
             ],
             [
              0.1111111111111111,
              "#46039f"
             ],
             [
              0.2222222222222222,
              "#7201a8"
             ],
             [
              0.3333333333333333,
              "#9c179e"
             ],
             [
              0.4444444444444444,
              "#bd3786"
             ],
             [
              0.5555555555555556,
              "#d8576b"
             ],
             [
              0.6666666666666666,
              "#ed7953"
             ],
             [
              0.7777777777777778,
              "#fb9f3a"
             ],
             [
              0.8888888888888888,
              "#fdca26"
             ],
             [
              1,
              "#f0f921"
             ]
            ],
            "type": "histogram2d"
           }
          ],
          "histogram2dcontour": [
           {
            "colorbar": {
             "outlinewidth": 0,
             "ticks": ""
            },
            "colorscale": [
             [
              0,
              "#0d0887"
             ],
             [
              0.1111111111111111,
              "#46039f"
             ],
             [
              0.2222222222222222,
              "#7201a8"
             ],
             [
              0.3333333333333333,
              "#9c179e"
             ],
             [
              0.4444444444444444,
              "#bd3786"
             ],
             [
              0.5555555555555556,
              "#d8576b"
             ],
             [
              0.6666666666666666,
              "#ed7953"
             ],
             [
              0.7777777777777778,
              "#fb9f3a"
             ],
             [
              0.8888888888888888,
              "#fdca26"
             ],
             [
              1,
              "#f0f921"
             ]
            ],
            "type": "histogram2dcontour"
           }
          ],
          "mesh3d": [
           {
            "colorbar": {
             "outlinewidth": 0,
             "ticks": ""
            },
            "type": "mesh3d"
           }
          ],
          "parcoords": [
           {
            "line": {
             "colorbar": {
              "outlinewidth": 0,
              "ticks": ""
             }
            },
            "type": "parcoords"
           }
          ],
          "pie": [
           {
            "automargin": true,
            "type": "pie"
           }
          ],
          "scatter": [
           {
            "marker": {
             "colorbar": {
              "outlinewidth": 0,
              "ticks": ""
             }
            },
            "type": "scatter"
           }
          ],
          "scatter3d": [
           {
            "line": {
             "colorbar": {
              "outlinewidth": 0,
              "ticks": ""
             }
            },
            "marker": {
             "colorbar": {
              "outlinewidth": 0,
              "ticks": ""
             }
            },
            "type": "scatter3d"
           }
          ],
          "scattercarpet": [
           {
            "marker": {
             "colorbar": {
              "outlinewidth": 0,
              "ticks": ""
             }
            },
            "type": "scattercarpet"
           }
          ],
          "scattergeo": [
           {
            "marker": {
             "colorbar": {
              "outlinewidth": 0,
              "ticks": ""
             }
            },
            "type": "scattergeo"
           }
          ],
          "scattergl": [
           {
            "marker": {
             "colorbar": {
              "outlinewidth": 0,
              "ticks": ""
             }
            },
            "type": "scattergl"
           }
          ],
          "scattermapbox": [
           {
            "marker": {
             "colorbar": {
              "outlinewidth": 0,
              "ticks": ""
             }
            },
            "type": "scattermapbox"
           }
          ],
          "scatterpolar": [
           {
            "marker": {
             "colorbar": {
              "outlinewidth": 0,
              "ticks": ""
             }
            },
            "type": "scatterpolar"
           }
          ],
          "scatterpolargl": [
           {
            "marker": {
             "colorbar": {
              "outlinewidth": 0,
              "ticks": ""
             }
            },
            "type": "scatterpolargl"
           }
          ],
          "scatterternary": [
           {
            "marker": {
             "colorbar": {
              "outlinewidth": 0,
              "ticks": ""
             }
            },
            "type": "scatterternary"
           }
          ],
          "surface": [
           {
            "colorbar": {
             "outlinewidth": 0,
             "ticks": ""
            },
            "colorscale": [
             [
              0,
              "#0d0887"
             ],
             [
              0.1111111111111111,
              "#46039f"
             ],
             [
              0.2222222222222222,
              "#7201a8"
             ],
             [
              0.3333333333333333,
              "#9c179e"
             ],
             [
              0.4444444444444444,
              "#bd3786"
             ],
             [
              0.5555555555555556,
              "#d8576b"
             ],
             [
              0.6666666666666666,
              "#ed7953"
             ],
             [
              0.7777777777777778,
              "#fb9f3a"
             ],
             [
              0.8888888888888888,
              "#fdca26"
             ],
             [
              1,
              "#f0f921"
             ]
            ],
            "type": "surface"
           }
          ],
          "table": [
           {
            "cells": {
             "fill": {
              "color": "#EBF0F8"
             },
             "line": {
              "color": "white"
             }
            },
            "header": {
             "fill": {
              "color": "#C8D4E3"
             },
             "line": {
              "color": "white"
             }
            },
            "type": "table"
           }
          ]
         },
         "layout": {
          "annotationdefaults": {
           "arrowcolor": "#2a3f5f",
           "arrowhead": 0,
           "arrowwidth": 1
          },
          "autotypenumbers": "strict",
          "coloraxis": {
           "colorbar": {
            "outlinewidth": 0,
            "ticks": ""
           }
          },
          "colorscale": {
           "diverging": [
            [
             0,
             "#8e0152"
            ],
            [
             0.1,
             "#c51b7d"
            ],
            [
             0.2,
             "#de77ae"
            ],
            [
             0.3,
             "#f1b6da"
            ],
            [
             0.4,
             "#fde0ef"
            ],
            [
             0.5,
             "#f7f7f7"
            ],
            [
             0.6,
             "#e6f5d0"
            ],
            [
             0.7,
             "#b8e186"
            ],
            [
             0.8,
             "#7fbc41"
            ],
            [
             0.9,
             "#4d9221"
            ],
            [
             1,
             "#276419"
            ]
           ],
           "sequential": [
            [
             0,
             "#0d0887"
            ],
            [
             0.1111111111111111,
             "#46039f"
            ],
            [
             0.2222222222222222,
             "#7201a8"
            ],
            [
             0.3333333333333333,
             "#9c179e"
            ],
            [
             0.4444444444444444,
             "#bd3786"
            ],
            [
             0.5555555555555556,
             "#d8576b"
            ],
            [
             0.6666666666666666,
             "#ed7953"
            ],
            [
             0.7777777777777778,
             "#fb9f3a"
            ],
            [
             0.8888888888888888,
             "#fdca26"
            ],
            [
             1,
             "#f0f921"
            ]
           ],
           "sequentialminus": [
            [
             0,
             "#0d0887"
            ],
            [
             0.1111111111111111,
             "#46039f"
            ],
            [
             0.2222222222222222,
             "#7201a8"
            ],
            [
             0.3333333333333333,
             "#9c179e"
            ],
            [
             0.4444444444444444,
             "#bd3786"
            ],
            [
             0.5555555555555556,
             "#d8576b"
            ],
            [
             0.6666666666666666,
             "#ed7953"
            ],
            [
             0.7777777777777778,
             "#fb9f3a"
            ],
            [
             0.8888888888888888,
             "#fdca26"
            ],
            [
             1,
             "#f0f921"
            ]
           ]
          },
          "colorway": [
           "#636efa",
           "#EF553B",
           "#00cc96",
           "#ab63fa",
           "#FFA15A",
           "#19d3f3",
           "#FF6692",
           "#B6E880",
           "#FF97FF",
           "#FECB52"
          ],
          "font": {
           "color": "#2a3f5f"
          },
          "geo": {
           "bgcolor": "white",
           "lakecolor": "white",
           "landcolor": "#E5ECF6",
           "showlakes": true,
           "showland": true,
           "subunitcolor": "white"
          },
          "hoverlabel": {
           "align": "left"
          },
          "hovermode": "closest",
          "mapbox": {
           "style": "light"
          },
          "paper_bgcolor": "white",
          "plot_bgcolor": "#E5ECF6",
          "polar": {
           "angularaxis": {
            "gridcolor": "white",
            "linecolor": "white",
            "ticks": ""
           },
           "bgcolor": "#E5ECF6",
           "radialaxis": {
            "gridcolor": "white",
            "linecolor": "white",
            "ticks": ""
           }
          },
          "scene": {
           "xaxis": {
            "backgroundcolor": "#E5ECF6",
            "gridcolor": "white",
            "gridwidth": 2,
            "linecolor": "white",
            "showbackground": true,
            "ticks": "",
            "zerolinecolor": "white"
           },
           "yaxis": {
            "backgroundcolor": "#E5ECF6",
            "gridcolor": "white",
            "gridwidth": 2,
            "linecolor": "white",
            "showbackground": true,
            "ticks": "",
            "zerolinecolor": "white"
           },
           "zaxis": {
            "backgroundcolor": "#E5ECF6",
            "gridcolor": "white",
            "gridwidth": 2,
            "linecolor": "white",
            "showbackground": true,
            "ticks": "",
            "zerolinecolor": "white"
           }
          },
          "shapedefaults": {
           "line": {
            "color": "#2a3f5f"
           }
          },
          "ternary": {
           "aaxis": {
            "gridcolor": "white",
            "linecolor": "white",
            "ticks": ""
           },
           "baxis": {
            "gridcolor": "white",
            "linecolor": "white",
            "ticks": ""
           },
           "bgcolor": "#E5ECF6",
           "caxis": {
            "gridcolor": "white",
            "linecolor": "white",
            "ticks": ""
           }
          },
          "title": {
           "x": 0.05
          },
          "xaxis": {
           "automargin": true,
           "gridcolor": "white",
           "linecolor": "white",
           "ticks": "",
           "title": {
            "standoff": 15
           },
           "zerolinecolor": "white",
           "zerolinewidth": 2
          },
          "yaxis": {
           "automargin": true,
           "gridcolor": "white",
           "linecolor": "white",
           "ticks": "",
           "title": {
            "standoff": 15
           },
           "zerolinecolor": "white",
           "zerolinewidth": 2
          }
         }
        },
        "title": {
         "text": "Zone Windows Total Heat Gain Energy Month #8"
        },
        "xaxis": {
         "title": {
          "text": "Hours"
         }
        },
        "yaxis": {
         "title": {
          "text": "Energy [kWh]"
         }
        }
       }
      }
     },
     "metadata": {},
     "output_type": "display_data"
    },
    {
     "data": {
      "application/vnd.plotly.v1+json": {
       "config": {
        "plotlyServerURL": "https://plot.ly"
       },
       "data": [
        {
         "marker": {
          "size": 380
         },
         "mode": "lines+markers",
         "name": "Zone 1",
         "type": "scatter",
         "x": [
          "00:00",
          "01:00",
          "02:00",
          "03:00",
          "04:00",
          "05:00",
          "06:00",
          "07:00",
          "08:00",
          "09:00",
          "10:00",
          "11:00",
          "12:00",
          "13:00",
          "14:00",
          "15:00",
          "16:00",
          "17:00",
          "18:00",
          "19:00",
          "20:00",
          "21:00",
          "22:00",
          "23:00"
         ],
         "y": [
          -0.15671953550328743,
          -0.1450416328562732,
          -0.13686553368705018,
          -0.12861716028865572,
          -0.12507867437593712,
          0.4780132894111286,
          0.8643551747913347,
          0.4743881391839048,
          0.567016309118723,
          0.5144811240655439,
          0.38081194762575626,
          0.24818480154600345,
          0.21012432357777233,
          0.1354605110532952,
          0.010341015996499541,
          -0.15940670387129638,
          -0.3127179877337521,
          -0.10858454903541513,
          -0.5336901015487788,
          -0.9487193602774421,
          -0.464764895836044,
          -0.2689363818955898,
          -0.2089492735475339,
          -0.1739891305632076
         ]
        },
        {
         "marker": {
          "size": 375
         },
         "mode": "lines+markers",
         "name": "Zone 2",
         "type": "scatter",
         "x": [
          "00:00",
          "01:00",
          "02:00",
          "03:00",
          "04:00",
          "05:00",
          "06:00",
          "07:00",
          "08:00",
          "09:00",
          "10:00",
          "11:00",
          "12:00",
          "13:00",
          "14:00",
          "15:00",
          "16:00",
          "17:00",
          "18:00",
          "19:00",
          "20:00",
          "21:00",
          "22:00",
          "23:00"
         ],
         "y": [
          -0.3542681193237288,
          -0.3025006720989042,
          -0.27169274416650985,
          -0.2486049835203061,
          -0.2398117686876151,
          0.1393849457641193,
          0.9959249494195184,
          1.460976641145516,
          1.5308927628325455,
          1.2410911200593426,
          0.871618578302877,
          0.51636759613066,
          2.145722151228042,
          3.9547714606269313,
          3.6090183909406837,
          2.2077514326000776,
          0.3266646179966662,
          -2.2558439292735306,
          -5.627796347751249,
          -5.3045389795004,
          -2.2085280198907253,
          -1.0695286164700673,
          -0.6480111256204184,
          -0.44859046842132605
         ]
        },
        {
         "marker": {
          "size": 370
         },
         "mode": "lines+markers",
         "name": "Zone 3",
         "type": "scatter",
         "x": [
          "00:00",
          "01:00",
          "02:00",
          "03:00",
          "04:00",
          "05:00",
          "06:00",
          "07:00",
          "08:00",
          "09:00",
          "10:00",
          "11:00",
          "12:00",
          "13:00",
          "14:00",
          "15:00",
          "16:00",
          "17:00",
          "18:00",
          "19:00",
          "20:00",
          "21:00",
          "22:00",
          "23:00"
         ],
         "y": [
          -0.07426025462659988,
          -0.07003485469699744,
          -0.06425705940394608,
          -0.05772888406892428,
          -0.051468513840174895,
          -0.012001888198794138,
          0.08776075461361535,
          0.07544026223742152,
          0.07640521033778924,
          0.0860862433016971,
          0.09768912731792964,
          0.10504233105549739,
          0.11112246993227252,
          0.11039887806850442,
          0.09470844680237045,
          0.07525528269920993,
          0.0490086820650393,
          0.03245847773119889,
          -0.0013737848953721255,
          -0.059187120461075625,
          -0.06331769331779263,
          -0.06250969750963331,
          -0.0757624602673068,
          -0.0770417149133372
         ]
        },
        {
         "marker": {
          "size": 365
         },
         "mode": "lines+markers",
         "name": "Zone 4",
         "type": "scatter",
         "x": [
          "00:00",
          "01:00",
          "02:00",
          "03:00",
          "04:00",
          "05:00",
          "06:00",
          "07:00",
          "08:00",
          "09:00",
          "10:00",
          "11:00",
          "12:00",
          "13:00",
          "14:00",
          "15:00",
          "16:00",
          "17:00",
          "18:00",
          "19:00",
          "20:00",
          "21:00",
          "22:00",
          "23:00"
         ],
         "y": [
          -0.2713201885246002,
          -0.25338116136853545,
          -0.2401783293375084,
          -0.22637181488809435,
          -0.22092140288315792,
          0.08198695356143082,
          0.8026433124093831,
          1.6824198001759458,
          3.1963858752218615,
          3.730112441215427,
          3.0800026315937616,
          1.9454568485746515,
          0.8359021150115497,
          -0.3462880744214117,
          -1.3704467751368525,
          -2.3840617708066936,
          -2.997112663551306,
          -2.323114225656902,
          -1.698068690601167,
          -1.2541046042051034,
          -0.6781118005108667,
          -0.41870207407123594,
          -0.34657949093829327,
          -0.29890917260076316
         ]
        },
        {
         "marker": {
          "size": 360
         },
         "mode": "lines+markers",
         "name": "Zone 5",
         "type": "scatter",
         "x": [
          "00:00",
          "01:00",
          "02:00",
          "03:00",
          "04:00",
          "05:00",
          "06:00",
          "07:00",
          "08:00",
          "09:00",
          "10:00",
          "11:00",
          "12:00",
          "13:00",
          "14:00",
          "15:00",
          "16:00",
          "17:00",
          "18:00",
          "19:00",
          "20:00",
          "21:00",
          "22:00",
          "23:00"
         ],
         "y": [
          -0.3262006542730474,
          -0.3410811579919531,
          -0.34256500345915547,
          -0.3342681978433506,
          -0.3197913717600963,
          -0.21890189507028587,
          -0.004683394432062646,
          0.09416961743259672,
          0.1912467102353185,
          0.2813213103518523,
          0.3635305961341338,
          0.4303546055255855,
          0.4849389058075852,
          0.5217523054494332,
          0.5243205255308662,
          0.4959203899772446,
          0.43306132049213925,
          0.37802051726054703,
          0.282002724689562,
          0.050041372963295305,
          -0.06383701990156343,
          -0.14804850210919823,
          -0.23465290992726465,
          -0.2929216479409573
         ]
        },
        {
         "marker": {
          "size": 355
         },
         "mode": "lines+markers",
         "name": "Zone 6",
         "type": "scatter",
         "x": [
          "00:00",
          "01:00",
          "02:00",
          "03:00",
          "04:00",
          "05:00",
          "06:00",
          "07:00",
          "08:00",
          "09:00",
          "10:00",
          "11:00",
          "12:00",
          "13:00",
          "14:00",
          "15:00",
          "16:00",
          "17:00",
          "18:00",
          "19:00",
          "20:00",
          "21:00",
          "22:00",
          "23:00"
         ],
         "y": [
          -0.5759278218488311,
          -0.533922279187136,
          -0.5050699527102642,
          -0.481790040012083,
          -0.48889868963593996,
          -0.046266824209794326,
          1.7283068570952103,
          3.069253694250812,
          3.2547710780391914,
          2.8600180241511493,
          2.1422401369324904,
          1.4467872221680866,
          0.9504366156577447,
          0.06898731762057549,
          -0.5691572038664554,
          -1.3897562669342594,
          -1.948711165783849,
          -2.3434823683380905,
          -2.130688393171218,
          -1.465097950279462,
          -0.940617827781472,
          -0.7743329945907595,
          -0.7055213078075341,
          -0.6266139081126042
         ]
        },
        {
         "marker": {
          "size": 350
         },
         "mode": "lines+markers",
         "name": "Zone 7",
         "type": "scatter",
         "x": [
          "00:00",
          "01:00",
          "02:00",
          "03:00",
          "04:00",
          "05:00",
          "06:00",
          "07:00",
          "08:00",
          "09:00",
          "10:00",
          "11:00",
          "12:00",
          "13:00",
          "14:00",
          "15:00",
          "16:00",
          "17:00",
          "18:00",
          "19:00",
          "20:00",
          "21:00",
          "22:00",
          "23:00"
         ],
         "y": [
          -0.14709411837281752,
          -0.13768580137298758,
          -0.1317839617486201,
          -0.12504469708256138,
          -0.12267922448799437,
          0.4798710314779867,
          0.8657061680510378,
          0.4751593783737691,
          0.5666245315365015,
          0.5110989155082877,
          0.3730173013668713,
          0.23676896760827595,
          0.1970537983861302,
          0.12343462246173421,
          -0.0004056073441190675,
          -0.16830896196401357,
          -0.31922657856945225,
          -0.11432864118877835,
          -0.53676125734986,
          -0.9463731099662942,
          -0.45593358426684294,
          -0.2563618854042003,
          -0.19469990825846453,
          -0.16180525164866313
         ]
        },
        {
         "marker": {
          "size": 345
         },
         "mode": "lines+markers",
         "name": "Zone 8",
         "type": "scatter",
         "x": [
          "00:00",
          "01:00",
          "02:00",
          "03:00",
          "04:00",
          "05:00",
          "06:00",
          "07:00",
          "08:00",
          "09:00",
          "10:00",
          "11:00",
          "12:00",
          "13:00",
          "14:00",
          "15:00",
          "16:00",
          "17:00",
          "18:00",
          "19:00",
          "20:00",
          "21:00",
          "22:00",
          "23:00"
         ],
         "y": [
          -0.081376343006254,
          -0.07185083699887594,
          -0.06313634988203633,
          -0.05444523572341435,
          -0.046947215215052525,
          -0.006276196656651472,
          0.09448531286145406,
          0.08236856518154706,
          0.08180842659996936,
          0.08542991955762738,
          0.08577439356839064,
          0.07938630986268869,
          0.07129544389806322,
          0.06006384703346608,
          0.03459475198770982,
          0.007633306137026158,
          -0.02331146696376488,
          -0.045442782811001885,
          -0.07992809687363303,
          -0.1301394224869214,
          -0.11945431469151929,
          -0.1028801898568163,
          -0.10089669829402981,
          -0.09224102717731955
         ]
        },
        {
         "marker": {
          "size": 340
         },
         "mode": "lines+markers",
         "name": "Zone 9",
         "type": "scatter",
         "x": [
          "00:00",
          "01:00",
          "02:00",
          "03:00",
          "04:00",
          "05:00",
          "06:00",
          "07:00",
          "08:00",
          "09:00",
          "10:00",
          "11:00",
          "12:00",
          "13:00",
          "14:00",
          "15:00",
          "16:00",
          "17:00",
          "18:00",
          "19:00",
          "20:00",
          "21:00",
          "22:00",
          "23:00"
         ],
         "y": [
          -0.08178155414250764,
          -0.0759862751175106,
          -0.06970455117429249,
          -0.06226951444243398,
          -0.05530096227530315,
          -0.013635643248853215,
          0.09411387764074737,
          0.08864011641211254,
          0.08874244843174617,
          0.09358681722680595,
          0.09678793987516891,
          0.0947565802030245,
          0.09294018891852926,
          0.08805578042860542,
          0.06745951431659987,
          0.04309110613784724,
          0.013075074622521152,
          -0.00923539860545213,
          -0.0439662073765534,
          -0.09955494163663457,
          -0.09434430984038303,
          -0.08336125242998699,
          -0.08789575550381197,
          -0.08674103612676408
         ]
        },
        {
         "marker": {
          "size": 335
         },
         "mode": "lines+markers",
         "name": "Zone 10",
         "type": "scatter",
         "x": [
          "00:00",
          "01:00",
          "02:00",
          "03:00",
          "04:00",
          "05:00",
          "06:00",
          "07:00",
          "08:00",
          "09:00",
          "10:00",
          "11:00",
          "12:00",
          "13:00",
          "14:00",
          "15:00",
          "16:00",
          "17:00",
          "18:00",
          "19:00",
          "20:00",
          "21:00",
          "22:00",
          "23:00"
         ],
         "y": [
          -0.08063137333929546,
          -0.07491684495687417,
          -0.06872278909772948,
          -0.06139173645263031,
          -0.05452019730284538,
          -0.013469739932699983,
          0.0927597719720416,
          0.08738359916086516,
          0.08747902496227708,
          0.09225429012243698,
          0.09541322024748905,
          0.09341376186459488,
          0.09162678356084193,
          0.08681491016725822,
          0.06651474359456656,
          0.0424972102987724,
          0.012912128982716698,
          -0.009090216166265305,
          -0.04332142798341845,
          -0.09811593083173793,
          -0.09301057959423108,
          -0.08218972065308688,
          -0.08666029077106337,
          -0.08552169341751646
         ]
        },
        {
         "marker": {
          "size": 330
         },
         "mode": "lines+markers",
         "name": "Zone 11",
         "type": "scatter",
         "x": [
          "00:00",
          "01:00",
          "02:00",
          "03:00",
          "04:00",
          "05:00",
          "06:00",
          "07:00",
          "08:00",
          "09:00",
          "10:00",
          "11:00",
          "12:00",
          "13:00",
          "14:00",
          "15:00",
          "16:00",
          "17:00",
          "18:00",
          "19:00",
          "20:00",
          "21:00",
          "22:00",
          "23:00"
         ],
         "y": [
          -0.2752823550025191,
          -0.2904733940148857,
          -0.2967131667300824,
          -0.2938523288331148,
          -0.2853809960005414,
          -0.18942402040058837,
          0.021186391933788393,
          0.11600029026662491,
          0.20666731031868676,
          0.28365900273631967,
          0.34497020257908645,
          0.3885479684998219,
          0.4231890002209854,
          0.44736885697866424,
          0.4397741346579315,
          0.4064059803472002,
          0.3444282695095144,
          0.2930921283447534,
          0.20609355400196896,
          -0.0044758318088702126,
          -0.08589716134110284,
          -0.13948569143543943,
          -0.20011890494103893,
          -0.24637719387571008
         ]
        },
        {
         "marker": {
          "size": 325
         },
         "mode": "lines+markers",
         "name": "Zone 12",
         "type": "scatter",
         "x": [
          "00:00",
          "01:00",
          "02:00",
          "03:00",
          "04:00",
          "05:00",
          "06:00",
          "07:00",
          "08:00",
          "09:00",
          "10:00",
          "11:00",
          "12:00",
          "13:00",
          "14:00",
          "15:00",
          "16:00",
          "17:00",
          "18:00",
          "19:00",
          "20:00",
          "21:00",
          "22:00",
          "23:00"
         ],
         "y": [
          -0.5557719084969823,
          -0.5157697530666846,
          -0.489725303452897,
          -0.46869362814604887,
          -0.4780352178104214,
          -0.036794855523857514,
          1.735856683113432,
          3.075648720003359,
          3.258203422689786,
          2.857140726151181,
          2.130881492158642,
          1.4278348668693086,
          0.9270929934312292,
          0.04549876560466904,
          -0.5930376914460622,
          -1.4123446324824622,
          -1.9682465420982782,
          -2.361493037217994,
          -2.1429337179345955,
          -1.4673611774151758,
          -0.9307723130042841,
          -0.7567768583059101,
          -0.6831650608606531,
          -0.6048798752061795
         ]
        },
        {
         "marker": {
          "size": 320
         },
         "mode": "lines+markers",
         "name": "Zone 13",
         "type": "scatter",
         "x": [
          "00:00",
          "01:00",
          "02:00",
          "03:00",
          "04:00",
          "05:00",
          "06:00",
          "07:00",
          "08:00",
          "09:00",
          "10:00",
          "11:00",
          "12:00",
          "13:00",
          "14:00",
          "15:00",
          "16:00",
          "17:00",
          "18:00",
          "19:00",
          "20:00",
          "21:00",
          "22:00",
          "23:00"
         ],
         "y": [
          -0.03167800885268498,
          -0.0314609608910154,
          -0.030667853504567116,
          -0.029145916336317027,
          -0.02695400679092,
          -0.022770305823409717,
          0.02519273889008785,
          0.025114263349635513,
          0.023639509112050643,
          0.029671942588788868,
          0.03942636444812278,
          0.047297991223355006,
          0.04990463636922389,
          0.05053095390378242,
          0.04327772790533328,
          0.03924381989508422,
          0.03519240831387152,
          0.026623502911923135,
          0.01323774391177357,
          0.004330693012349253,
          -0.008427339486345681,
          -0.014983966235617981,
          -0.02762852401994717,
          -0.03127858451818407
         ]
        },
        {
         "marker": {
          "size": 315
         },
         "mode": "lines+markers",
         "name": "Zone 14",
         "type": "scatter",
         "x": [
          "00:00",
          "01:00",
          "02:00",
          "03:00",
          "04:00",
          "05:00",
          "06:00",
          "07:00",
          "08:00",
          "09:00",
          "10:00",
          "11:00",
          "12:00",
          "13:00",
          "14:00",
          "15:00",
          "16:00",
          "17:00",
          "18:00",
          "19:00",
          "20:00",
          "21:00",
          "22:00",
          "23:00"
         ],
         "y": [
          -0.20115502233995192,
          -0.17128036455571727,
          -0.15487692538568815,
          -0.14313797872137182,
          -0.13930086309626258,
          0.06968968460330897,
          0.5714559128330908,
          0.8593996535573288,
          0.9007635698833022,
          0.7272505032957847,
          0.506844912283739,
          0.2958057373745465,
          1.289493738137764,
          2.4071717677945057,
          2.2099440722656554,
          1.3637348005860688,
          0.22084345464984065,
          -1.3624624618003527,
          -3.4251435218816093,
          -3.2100552731285927,
          -1.3301602536281076,
          -0.636074980068404,
          -0.378959218917848,
          -0.25777630544716995
         ]
        },
        {
         "marker": {
          "size": 310
         },
         "mode": "lines+markers",
         "name": "Zone 15",
         "type": "scatter",
         "x": [
          "00:00",
          "01:00",
          "02:00",
          "03:00",
          "04:00",
          "05:00",
          "06:00",
          "07:00",
          "08:00",
          "09:00",
          "10:00",
          "11:00",
          "12:00",
          "13:00",
          "14:00",
          "15:00",
          "16:00",
          "17:00",
          "18:00",
          "19:00",
          "20:00",
          "21:00",
          "22:00",
          "23:00"
         ],
         "y": [
          -0.15675188859747075,
          -0.1462917952517747,
          -0.13982021537209957,
          -0.13248861900571643,
          -0.12895768125292295,
          0.16949595662638617,
          0.9073136614138453,
          0.4148913548964453,
          0.5260215789326699,
          0.5675105904400083,
          0.48648358392780217,
          0.36484586550870146,
          0.27400143059318693,
          0.1460195787644035,
          -0.01826817745584696,
          -0.20555631382678743,
          -0.3423946621806806,
          -0.04134700990155895,
          -0.4749513258214365,
          -0.9609569528187587,
          -0.4583173789607393,
          -0.25788861497015747,
          -0.20383972241318044,
          -0.17248781889280757
         ]
        },
        {
         "marker": {
          "size": 305
         },
         "mode": "lines+markers",
         "name": "Zone 16",
         "type": "scatter",
         "x": [
          "00:00",
          "01:00",
          "02:00",
          "03:00",
          "04:00",
          "05:00",
          "06:00",
          "07:00",
          "08:00",
          "09:00",
          "10:00",
          "11:00",
          "12:00",
          "13:00",
          "14:00",
          "15:00",
          "16:00",
          "17:00",
          "18:00",
          "19:00",
          "20:00",
          "21:00",
          "22:00",
          "23:00"
         ],
         "y": [
          -0.07889304675999247,
          -0.07446153929950239,
          -0.07175331450981046,
          -0.0689802074421275,
          -0.06870210103283746,
          0.035631188276936614,
          0.2888199341767192,
          0.5755148858229134,
          1.0276694432775293,
          1.1597964918811814,
          0.9411605328377538,
          0.5858271631345725,
          0.2470595399169387,
          -0.11756365610291437,
          -0.4306137727968039,
          -0.7422373279426692,
          -0.9389695726407655,
          -0.7461454275712528,
          -0.5694415693556083,
          -0.4125401356792156,
          -0.2157813531122972,
          -0.1281947569128986,
          -0.10282077352650508,
          -0.08705614364318845
         ]
        },
        {
         "marker": {
          "size": 300
         },
         "mode": "lines+markers",
         "name": "Zone 17",
         "type": "scatter",
         "x": [
          "00:00",
          "01:00",
          "02:00",
          "03:00",
          "04:00",
          "05:00",
          "06:00",
          "07:00",
          "08:00",
          "09:00",
          "10:00",
          "11:00",
          "12:00",
          "13:00",
          "14:00",
          "15:00",
          "16:00",
          "17:00",
          "18:00",
          "19:00",
          "20:00",
          "21:00",
          "22:00",
          "23:00"
         ],
         "y": [
          -0.14015426777136386,
          -0.15555564466706995,
          -0.16431603208675008,
          -0.16735877358707513,
          -0.16548360612353233,
          -0.15606922590730735,
          -0.05114987825409102,
          0.013448685111940991,
          0.05753408347443426,
          0.11023887096713168,
          0.16612794999301084,
          0.21458472661353883,
          0.24416184419002593,
          0.2578367807584031,
          0.24733678586558067,
          0.23239674148887177,
          0.21832139595256644,
          0.19477865757314608,
          0.15081892995898386,
          0.09824920218492889,
          0.036484657820457324,
          -0.014706898604472532,
          -0.07332876300197738,
          -0.11493932818939374
         ]
        },
        {
         "marker": {
          "size": 295
         },
         "mode": "lines+markers",
         "name": "Zone 18",
         "type": "scatter",
         "x": [
          "00:00",
          "01:00",
          "02:00",
          "03:00",
          "04:00",
          "05:00",
          "06:00",
          "07:00",
          "08:00",
          "09:00",
          "10:00",
          "11:00",
          "12:00",
          "13:00",
          "14:00",
          "15:00",
          "16:00",
          "17:00",
          "18:00",
          "19:00",
          "20:00",
          "21:00",
          "22:00",
          "23:00"
         ],
         "y": [
          -0.3881245900584171,
          -0.3601900847541747,
          -0.3419837472947602,
          -0.32797956605905004,
          -0.3346382984228021,
          -0.044708348155478195,
          1.2231926280587897,
          2.201696840129457,
          2.335060637644989,
          2.0620438469436384,
          1.542014973975448,
          1.0354527376496117,
          0.6605459944781669,
          0.022284994860130882,
          -0.4442307261895115,
          -1.034604248817456,
          -1.43289786602162,
          -1.7221970366923092,
          -1.5503458017912608,
          -1.0236374579859098,
          -0.6494051798971615,
          -0.5282920712843961,
          -0.4790797329984643,
          -0.4231425485824542
         ]
        },
        {
         "marker": {
          "size": 290
         },
         "mode": "lines+markers",
         "name": "Zone 19",
         "type": "scatter",
         "x": [
          "00:00",
          "01:00",
          "02:00",
          "03:00",
          "04:00",
          "05:00",
          "06:00",
          "07:00",
          "08:00",
          "09:00",
          "10:00",
          "11:00",
          "12:00",
          "13:00",
          "14:00",
          "15:00",
          "16:00",
          "17:00",
          "18:00",
          "19:00",
          "20:00",
          "21:00",
          "22:00",
          "23:00"
         ],
         "y": [
          -0.485026040059548,
          -0.41930954787615,
          -0.3865497674041657,
          -0.3637469625925552,
          -0.3614751255489284,
          1.911700827406778,
          3.4083038709073765,
          1.8559923141858112,
          2.4014225869161363,
          2.2009239736926274,
          1.5799441776437202,
          0.9438073566716386,
          0.6859136308117126,
          0.35316244816889864,
          -0.2613620367025783,
          -0.8790774890547509,
          -1.4002182581961342,
          -0.533386934496154,
          -2.183083960651998,
          -3.803485794207357,
          -1.8525155564021123,
          -1.0042581266304997,
          -0.7650395303199475,
          -0.602508636197065
         ]
        },
        {
         "marker": {
          "size": 285
         },
         "mode": "lines+markers",
         "name": "Zone 20",
         "type": "scatter",
         "x": [
          "00:00",
          "01:00",
          "02:00",
          "03:00",
          "04:00",
          "05:00",
          "06:00",
          "07:00",
          "08:00",
          "09:00",
          "10:00",
          "11:00",
          "12:00",
          "13:00",
          "14:00",
          "15:00",
          "16:00",
          "17:00",
          "18:00",
          "19:00",
          "20:00",
          "21:00",
          "22:00",
          "23:00"
         ],
         "y": [
          -0.3671902023120992,
          -0.32785045942230084,
          -0.31108715344859855,
          -0.29862176667504076,
          -0.2993635679515842,
          4.945673869606036,
          11.607447179018754,
          10.01093467373851,
          5.317170885983408,
          0.9016548991665008,
          -3.7524977401179176,
          -6.851259982549185,
          -5.471630267845395,
          -2.0571950198385363,
          -1.15199477814746,
          -1.125106760032393,
          -1.4908458482762132,
          -2.031526106110973,
          -2.4593077151136105,
          -2.0637215821196153,
          -1.0912726746311843,
          -0.6245931784774446,
          -0.5277583694419409,
          -0.44178017145663867
         ]
        },
        {
         "marker": {
          "size": 280
         },
         "mode": "lines+markers",
         "name": "Zone 21",
         "type": "scatter",
         "x": [
          "00:00",
          "01:00",
          "02:00",
          "03:00",
          "04:00",
          "05:00",
          "06:00",
          "07:00",
          "08:00",
          "09:00",
          "10:00",
          "11:00",
          "12:00",
          "13:00",
          "14:00",
          "15:00",
          "16:00",
          "17:00",
          "18:00",
          "19:00",
          "20:00",
          "21:00",
          "22:00",
          "23:00"
         ],
         "y": [
          -0.45527363597958864,
          -0.40133439580181124,
          -0.3744254594108812,
          -0.3567891388388321,
          -0.360714758685658,
          0.31979723245087777,
          2.0426024586344775,
          3.9100434426751893,
          7.154902372798724,
          8.084948429008412,
          6.570809811075385,
          4.096128027938394,
          1.6747346750497372,
          -0.8356878593107161,
          -3.137219414695535,
          -5.238642195384602,
          -6.596984062263739,
          -5.3443460490340655,
          -4.11557743583248,
          -2.958521083979095,
          -1.5259543129141562,
          -0.8566584473223731,
          -0.6885745899785143,
          -0.5593657017016301
         ]
        },
        {
         "marker": {
          "size": 275
         },
         "mode": "lines+markers",
         "name": "Zone 22",
         "type": "scatter",
         "x": [
          "00:00",
          "01:00",
          "02:00",
          "03:00",
          "04:00",
          "05:00",
          "06:00",
          "07:00",
          "08:00",
          "09:00",
          "10:00",
          "11:00",
          "12:00",
          "13:00",
          "14:00",
          "15:00",
          "16:00",
          "17:00",
          "18:00",
          "19:00",
          "20:00",
          "21:00",
          "22:00",
          "23:00"
         ],
         "y": [
          -0.345244743299724,
          -0.317879165903597,
          -0.30212286704519364,
          -0.289258035604347,
          -0.2938382052143602,
          -0.1433628075011549,
          0.39888116488250275,
          0.6790934940551253,
          1.005582817094805,
          1.1282725642197848,
          1.1098579668525161,
          1.0284836688793455,
          0.8371587178319267,
          0.6255172134454845,
          0.23933022681276933,
          -0.07068046257765295,
          -0.4257876335934208,
          -0.8293243464692912,
          -1.1044631557309357,
          -1.0480941186001391,
          -0.6227165758945339,
          -0.3999005778558912,
          -0.4228970654670256,
          -0.3948046138586819
         ]
        },
        {
         "marker": {
          "size": 270
         },
         "mode": "lines+markers",
         "name": "Zone 23",
         "type": "scatter",
         "x": [
          "00:00",
          "01:00",
          "02:00",
          "03:00",
          "04:00",
          "05:00",
          "06:00",
          "07:00",
          "08:00",
          "09:00",
          "10:00",
          "11:00",
          "12:00",
          "13:00",
          "14:00",
          "15:00",
          "16:00",
          "17:00",
          "18:00",
          "19:00",
          "20:00",
          "21:00",
          "22:00",
          "23:00"
         ],
         "y": [
          -0.4067963449060039,
          -0.2869646046403976,
          -0.2127666757639749,
          -0.16813155284128892,
          -0.14165908437399388,
          -0.12599613127244616,
          0.4992640869882513,
          0.5751076342936308,
          1.1663703540980785,
          1.1470819699682433,
          0.8758997804372021,
          0.6213596329787793,
          0.4272345257233968,
          0.28797800742971824,
          -0.3021482832006147,
          -0.3523006488213417,
          -0.25397702693343405,
          -0.441478118750459,
          -0.605261497728302,
          -0.5499131939344502,
          -0.41671956437729185,
          -0.31608557969134216,
          -0.49723610586603717,
          -0.5575808797320095
         ]
        },
        {
         "marker": {
          "size": 265
         },
         "mode": "lines+markers",
         "name": "Zone 24",
         "type": "scatter",
         "x": [
          "00:00",
          "01:00",
          "02:00",
          "03:00",
          "04:00",
          "05:00",
          "06:00",
          "07:00",
          "08:00",
          "09:00",
          "10:00",
          "11:00",
          "12:00",
          "13:00",
          "14:00",
          "15:00",
          "16:00",
          "17:00",
          "18:00",
          "19:00",
          "20:00",
          "21:00",
          "22:00",
          "23:00"
         ],
         "y": [
          -1.2492224008708048,
          -1.182393038865888,
          -1.1086634164663474,
          -1.0326350085013436,
          -0.9568340320359346,
          -0.8827347264322583,
          -0.466116422800078,
          -0.35798030082768934,
          0.11572268345194607,
          0.22933700194182677,
          0.2427141751261667,
          0.18990545549550414,
          0.10445394593308341,
          0.001451043057122156,
          -0.369668490375501,
          -0.5059292790355576,
          -0.6158025721023719,
          -0.8378202174010829,
          -1.0192642102689895,
          -1.1139874573934574,
          -1.1490121874406212,
          -1.150037883738472,
          -1.2657196038127463,
          -1.2945247579538985
         ]
        },
        {
         "marker": {
          "size": 260
         },
         "mode": "lines+markers",
         "name": "Zone 25",
         "type": "scatter",
         "x": [
          "00:00",
          "01:00",
          "02:00",
          "03:00",
          "04:00",
          "05:00",
          "06:00",
          "07:00",
          "08:00",
          "09:00",
          "10:00",
          "11:00",
          "12:00",
          "13:00",
          "14:00",
          "15:00",
          "16:00",
          "17:00",
          "18:00",
          "19:00",
          "20:00",
          "21:00",
          "22:00",
          "23:00"
         ],
         "y": [
          -0.028703252852490688,
          -0.018545217914368754,
          -0.013302947829039537,
          -0.010458795936402622,
          -0.008884166656396686,
          -0.007945795739347743,
          0.06247780706474139,
          0.04758802257774736,
          0.09880456108860983,
          0.07768749183147353,
          0.05347365626696751,
          0.03627881540410357,
          0.024022903412013803,
          0.017587627842044477,
          -0.03461794771213591,
          -0.024191999569412887,
          -0.010537440832371823,
          -0.029497479240325378,
          -0.044925669557381,
          -0.04059589607947414,
          -0.030961359400228733,
          -0.023421196094718457,
          -0.046955907632321554,
          -0.04620516484778329
         ]
        },
        {
         "marker": {
          "size": 255
         },
         "mode": "lines+markers",
         "name": "Zone 26",
         "type": "scatter",
         "x": [
          "00:00",
          "01:00",
          "02:00",
          "03:00",
          "04:00",
          "05:00",
          "06:00",
          "07:00",
          "08:00",
          "09:00",
          "10:00",
          "11:00",
          "12:00",
          "13:00",
          "14:00",
          "15:00",
          "16:00",
          "17:00",
          "18:00",
          "19:00",
          "20:00",
          "21:00",
          "22:00",
          "23:00"
         ],
         "y": [
          -0.009855194036308593,
          -0.0063674567454423976,
          -0.004567535700006842,
          -0.003591002868877261,
          -0.003050357626699967,
          -0.002728170189858859,
          0.02145160741015626,
          0.016339235093601544,
          0.033924312558047204,
          0.026673816731781087,
          0.018360053512057033,
          0.01245624553608172,
          0.008248207116370499,
          0.006038670457055593,
          -0.011885990538953131,
          -0.008306265882410931,
          -0.00361800540805722,
          -0.010127889789681658,
          -0.01542512247564485,
          -0.013938504983985455,
          -0.010630509583190444,
          -0.008041612330912308,
          -0.01612219992088308,
          -0.015864434159942802
         ]
        },
        {
         "marker": {
          "size": 250
         },
         "mode": "lines+markers",
         "name": "Zone 27",
         "type": "scatter",
         "x": [
          "00:00",
          "01:00",
          "02:00",
          "03:00",
          "04:00",
          "05:00",
          "06:00",
          "07:00",
          "08:00",
          "09:00",
          "10:00",
          "11:00",
          "12:00",
          "13:00",
          "14:00",
          "15:00",
          "16:00",
          "17:00",
          "18:00",
          "19:00",
          "20:00",
          "21:00",
          "22:00",
          "23:00"
         ],
         "y": [
          -0.40317247954874363,
          -0.34786779951999386,
          -0.31971105611679584,
          -0.29995210634705965,
          -0.2972265536113847,
          1.5583316124256796,
          2.780811582308734,
          1.5143086509892263,
          1.9407802069461886,
          1.7776821076750278,
          1.2847208556358414,
          0.7744493262254483,
          0.5650648054765406,
          0.29683412530620285,
          -0.20041647546001493,
          -0.7014694835469163,
          -1.1235452726119206,
          -0.415502659431752,
          -1.7669299127785159,
          -3.102841500543544,
          -1.5206213567442277,
          -0.8303652062727145,
          -0.6311670976757418,
          -0.4998344502671791
         ]
        },
        {
         "marker": {
          "size": 245
         },
         "mode": "lines+markers",
         "name": "Zone 28",
         "type": "scatter",
         "x": [
          "00:00",
          "01:00",
          "02:00",
          "03:00",
          "04:00",
          "05:00",
          "06:00",
          "07:00",
          "08:00",
          "09:00",
          "10:00",
          "11:00",
          "12:00",
          "13:00",
          "14:00",
          "15:00",
          "16:00",
          "17:00",
          "18:00",
          "19:00",
          "20:00",
          "21:00",
          "22:00",
          "23:00"
         ],
         "y": [
          -0.3788950933008843,
          -0.3331954899110622,
          -0.309808538991576,
          -0.29426476264394624,
          -0.2966030399299365,
          0.25948926404311656,
          1.6664043894922975,
          3.190317239670674,
          5.81937125284306,
          6.578563346204312,
          5.356285883904216,
          3.3448648864985584,
          1.3700505070889721,
          -0.6747308347761763,
          -2.5446162125754577,
          -4.257353717792219,
          -5.364094519339193,
          -4.338407540637667,
          -3.3435205730131012,
          -2.413583556085705,
          -1.2542460926511039,
          -0.7099032146496329,
          -0.5687864986382899,
          -0.46463609695137376
         ]
        },
        {
         "marker": {
          "size": 240
         },
         "mode": "lines+markers",
         "name": "Zone 29",
         "type": "scatter",
         "x": [
          "00:00",
          "01:00",
          "02:00",
          "03:00",
          "04:00",
          "05:00",
          "06:00",
          "07:00",
          "08:00",
          "09:00",
          "10:00",
          "11:00",
          "12:00",
          "13:00",
          "14:00",
          "15:00",
          "16:00",
          "17:00",
          "18:00",
          "19:00",
          "20:00",
          "21:00",
          "22:00",
          "23:00"
         ],
         "y": [
          -0.5520244836521723,
          -0.42664561639621906,
          -0.36061059981580507,
          -0.3214178828871777,
          -0.3118036565518912,
          0.25898796365435567,
          1.6862724568000906,
          2.452291648329673,
          2.717165417601792,
          2.2162229815116006,
          1.5318718511749903,
          0.8749154275083262,
          3.6774818167632146,
          7.043036932414001,
          6.493740714323801,
          4.093773067412672,
          0.7331278212337907,
          -3.9664586984803947,
          -10.105121265137505,
          -9.599700226815221,
          -4.12739396706821,
          -1.997051231001866,
          -1.1943661306299989,
          -0.7852686669691381
         ]
        },
        {
         "marker": {
          "size": 235
         },
         "mode": "lines+markers",
         "name": "Zone 30",
         "type": "scatter",
         "x": [
          "00:00",
          "01:00",
          "02:00",
          "03:00",
          "04:00",
          "05:00",
          "06:00",
          "07:00",
          "08:00",
          "09:00",
          "10:00",
          "11:00",
          "12:00",
          "13:00",
          "14:00",
          "15:00",
          "16:00",
          "17:00",
          "18:00",
          "19:00",
          "20:00",
          "21:00",
          "22:00",
          "23:00"
         ],
         "y": [
          -0.028703252630748716,
          -0.018545217771100724,
          -0.013302947726270163,
          -0.010458795855604873,
          -0.00888416658776359,
          -0.007945795677963956,
          0.06247780658207993,
          0.04758802221011478,
          0.0988045603253129,
          0.07768749123131284,
          0.05347365585386633,
          0.036278815123838425,
          0.024022903226429172,
          0.0175876277061747,
          -0.03461794744470116,
          -0.02419199938252204,
          -0.01053744075096699,
          -0.029497479012447893,
          -0.044925669210315516,
          -0.0405958957658581,
          -0.030961359161042267,
          -0.023421195913782465,
          -0.046955907269571974,
          -0.046205164490833665
         ]
        },
        {
         "marker": {
          "size": 230
         },
         "mode": "lines+markers",
         "name": "Zone 31",
         "type": "scatter",
         "x": [
          "00:00",
          "01:00",
          "02:00",
          "03:00",
          "04:00",
          "05:00",
          "06:00",
          "07:00",
          "08:00",
          "09:00",
          "10:00",
          "11:00",
          "12:00",
          "13:00",
          "14:00",
          "15:00",
          "16:00",
          "17:00",
          "18:00",
          "19:00",
          "20:00",
          "21:00",
          "22:00",
          "23:00"
         ],
         "y": [
          -0.37717939000090966,
          -0.26879548168554956,
          -0.1990155992064539,
          -0.15538553340004435,
          -0.12865767726218727,
          -0.11175542038877179,
          0.3985363760020174,
          0.4662602306162288,
          0.8905994997625594,
          0.8689637989393502,
          0.6916278810938863,
          0.5255251879771295,
          0.38132028425886044,
          0.28544437702938197,
          -0.17463530903450078,
          -0.20607947483321612,
          -0.11453479037379372,
          -0.2619197846035747,
          -0.43026590328444364,
          -0.44426178423491863,
          -0.3844731331482675,
          -0.3183000870453976,
          -0.4577765353626091,
          -0.50598120593719
         ]
        },
        {
         "marker": {
          "size": 225
         },
         "mode": "lines+markers",
         "name": "Zone 32",
         "type": "scatter",
         "x": [
          "00:00",
          "01:00",
          "02:00",
          "03:00",
          "04:00",
          "05:00",
          "06:00",
          "07:00",
          "08:00",
          "09:00",
          "10:00",
          "11:00",
          "12:00",
          "13:00",
          "14:00",
          "15:00",
          "16:00",
          "17:00",
          "18:00",
          "19:00",
          "20:00",
          "21:00",
          "22:00",
          "23:00"
         ],
         "y": [
          -0.1108688245898745,
          -0.10516099829883277,
          -0.09829389612558079,
          -0.09083196330285678,
          -0.08319783797841691,
          -0.07564661794038258,
          -0.022328138893734115,
          -0.009975741005542904,
          0.04514775536483702,
          0.058202022837422165,
          0.06447652328899055,
          0.063453330411885,
          0.057304628823640326,
          0.04917887342619139,
          0.005458140899297731,
          -0.0069368935423108815,
          -0.016220880859722793,
          -0.04194064501397792,
          -0.06480799800080381,
          -0.07838769266557664,
          -0.0863411229934587,
          -0.09001770407010284,
          -0.10747727798745191,
          -0.11423907952517433
         ]
        },
        {
         "marker": {
          "size": 220
         },
         "mode": "lines+markers",
         "name": "Zone 33",
         "type": "scatter",
         "x": [
          "00:00",
          "01:00",
          "02:00",
          "03:00",
          "04:00",
          "05:00",
          "06:00",
          "07:00",
          "08:00",
          "09:00",
          "10:00",
          "11:00",
          "12:00",
          "13:00",
          "14:00",
          "15:00",
          "16:00",
          "17:00",
          "18:00",
          "19:00",
          "20:00",
          "21:00",
          "22:00",
          "23:00"
         ],
         "y": [
          -0.1944464483560398,
          -0.17791183303393257,
          -0.16008698046174272,
          -0.14204789032718274,
          -0.12459057582926991,
          -0.10818011599332998,
          -0.030039579216540248,
          -0.013129366385627306,
          0.0619327860296801,
          0.07671545820693985,
          0.08077758263334835,
          0.07401402992305704,
          0.05986365723435839,
          0.042557727667552926,
          -0.024858736068538268,
          -0.049633226823352944,
          -0.07063727767345446,
          -0.11307738530187621,
          -0.1505661059768001,
          -0.1745800139820601,
          -0.18620189092313932,
          -0.18762496385672098,
          -0.20574408393480934,
          -0.20742267478641005
         ]
        },
        {
         "marker": {
          "size": 215
         },
         "mode": "lines+markers",
         "name": "Zone 34",
         "type": "scatter",
         "x": [
          "00:00",
          "01:00",
          "02:00",
          "03:00",
          "04:00",
          "05:00",
          "06:00",
          "07:00",
          "08:00",
          "09:00",
          "10:00",
          "11:00",
          "12:00",
          "13:00",
          "14:00",
          "15:00",
          "16:00",
          "17:00",
          "18:00",
          "19:00",
          "20:00",
          "21:00",
          "22:00",
          "23:00"
         ],
         "y": [
          -0.1750392778292608,
          -0.1615206571538726,
          -0.14667869892241464,
          -0.13138220591663471,
          -0.11632856881654295,
          -0.10196502695826869,
          -0.025308700398041048,
          -0.009933275850396621,
          0.06389294121393123,
          0.0777203609742815,
          0.08132744227425129,
          0.07490970040186419,
          0.06208204847984016,
          0.04700822433312942,
          -0.01763861710982058,
          -0.03920622886223525,
          -0.05679049137771005,
          -0.09618475032138075,
          -0.13067274828904038,
          -0.1520385627943767,
          -0.16174938729374966,
          -0.16237226156527065,
          -0.18118409733386873,
          -0.18486109739900386
         ]
        },
        {
         "marker": {
          "size": 210
         },
         "mode": "lines+markers",
         "name": "Zone 35",
         "type": "scatter",
         "x": [
          "00:00",
          "01:00",
          "02:00",
          "03:00",
          "04:00",
          "05:00",
          "06:00",
          "07:00",
          "08:00",
          "09:00",
          "10:00",
          "11:00",
          "12:00",
          "13:00",
          "14:00",
          "15:00",
          "16:00",
          "17:00",
          "18:00",
          "19:00",
          "20:00",
          "21:00",
          "22:00",
          "23:00"
         ],
         "y": [
          -0.043373891821285156,
          -0.035699395234795726,
          -0.029232455727643564,
          -0.02409312575703753,
          -0.02014816758619949,
          -0.017145777231282983,
          0.032472328250328114,
          0.0372689848536178,
          0.08066788113290287,
          0.08143802035040003,
          0.07288676601121359,
          0.060674998258047494,
          0.048323913443382,
          0.03854518187016435,
          -0.0020872506411249085,
          -0.008201361227480292,
          -0.007141945654325808,
          -0.02277963795852941,
          -0.036776837404171314,
          -0.04016308585623606,
          -0.03817480358828848,
          -0.03413794121907569,
          -0.046695555606988716,
          -0.04989859252600094
         ]
        },
        {
         "marker": {
          "size": 205
         },
         "mode": "lines+markers",
         "name": "Zone 36",
         "type": "scatter",
         "x": [
          "00:00",
          "01:00",
          "02:00",
          "03:00",
          "04:00",
          "05:00",
          "06:00",
          "07:00",
          "08:00",
          "09:00",
          "10:00",
          "11:00",
          "12:00",
          "13:00",
          "14:00",
          "15:00",
          "16:00",
          "17:00",
          "18:00",
          "19:00",
          "20:00",
          "21:00",
          "22:00",
          "23:00"
         ],
         "y": [
          -0.08659244735496043,
          -0.08276000514711922,
          -0.0779423537807505,
          -0.07255672871973701,
          -0.0669290529368066,
          -0.06125303474019911,
          -0.019243466144673982,
          -0.009556947604438218,
          0.03417266117161457,
          0.04463319568241692,
          0.04989886659596459,
          0.04957944858663125,
          0.04536521830427719,
          0.039694471647277435,
          0.005787216538186489,
          -0.003286902378324475,
          -0.010000794555053094,
          -0.029961495000308896,
          -0.04788198231541381,
          -0.05853740259970901,
          -0.06492771110164978,
          -0.0681588606603378,
          -0.0825298960911218,
          -0.08852594140988469
         ]
        },
        {
         "marker": {
          "size": 200
         },
         "mode": "lines+markers",
         "name": "Zone 37",
         "type": "scatter",
         "x": [
          "00:00",
          "01:00",
          "02:00",
          "03:00",
          "04:00",
          "05:00",
          "06:00",
          "07:00",
          "08:00",
          "09:00",
          "10:00",
          "11:00",
          "12:00",
          "13:00",
          "14:00",
          "15:00",
          "16:00",
          "17:00",
          "18:00",
          "19:00",
          "20:00",
          "21:00",
          "22:00",
          "23:00"
         ],
         "y": [
          -0.12544135686711627,
          -0.11847484354559762,
          -0.11019939576092616,
          -0.10128373144981924,
          -0.09223497645905923,
          -0.08335747860990043,
          -0.02856907686255495,
          -0.015044713757338445,
          0.04153039445490346,
          0.055420224231474476,
          0.06225808499845042,
          0.061489087192748024,
          0.055305788161996335,
          0.04691623699351107,
          0.002352824304219064,
          -0.010856298951211598,
          -0.021392138830449662,
          -0.048976305615554494,
          -0.07391801419611382,
          -0.08980900076424288,
          -0.09995521490731286,
          -0.10511191091629715,
          -0.12325326941249842,
          -0.12975261506629585
         ]
        },
        {
         "marker": {
          "size": 195
         },
         "mode": "lines+markers",
         "name": "Zone 38",
         "type": "scatter",
         "x": [
          "00:00",
          "01:00",
          "02:00",
          "03:00",
          "04:00",
          "05:00",
          "06:00",
          "07:00",
          "08:00",
          "09:00",
          "10:00",
          "11:00",
          "12:00",
          "13:00",
          "14:00",
          "15:00",
          "16:00",
          "17:00",
          "18:00",
          "19:00",
          "20:00",
          "21:00",
          "22:00",
          "23:00"
         ],
         "y": [
          -0.4681789414551067,
          -0.4431129825927036,
          -0.433362542479479,
          -0.4231449060800829,
          -0.42696366564913474,
          5.451482099337209,
          12.748793335935854,
          10.983524650774193,
          5.60564082008228,
          0.5366492834641577,
          -4.487585706233081,
          -7.5478883002960435,
          -5.731425323006968,
          -1.957386112983068,
          -0.9542378199680501,
          -1.043018634633919,
          -1.537193234682453,
          -2.115637795747809,
          -2.571574718730257,
          -2.2096771276553495,
          -1.1576394524181866,
          -0.6825528488434667,
          -0.5841345135643252,
          -0.5116945617598848
         ]
        },
        {
         "marker": {
          "size": 190
         },
         "mode": "lines+markers",
         "name": "Zone 39",
         "type": "scatter",
         "x": [
          "00:00",
          "01:00",
          "02:00",
          "03:00",
          "04:00",
          "05:00",
          "06:00",
          "07:00",
          "08:00",
          "09:00",
          "10:00",
          "11:00",
          "12:00",
          "13:00",
          "14:00",
          "15:00",
          "16:00",
          "17:00",
          "18:00",
          "19:00",
          "20:00",
          "21:00",
          "22:00",
          "23:00"
         ],
         "y": [
          -0.34282454715009236,
          -0.31882240363336467,
          -0.30655512624286824,
          -0.2954266856910106,
          -0.29576618642025265,
          1.170184595182024,
          2.052635078495151,
          1.1182607786881542,
          1.4049289948752712,
          1.2758516031471925,
          0.9173574550370805,
          0.5695446228104376,
          0.4624584179363997,
          0.27018352481512126,
          -0.04072363547406756,
          -0.44928167187213164,
          -0.8092825967054524,
          -0.29090413361619194,
          -1.305291444252666,
          -2.278785457116085,
          -1.0640694495404015,
          -0.5808238658821228,
          -0.45682627184110064,
          -0.38219451610316285
         ]
        },
        {
         "marker": {
          "size": 185
         },
         "mode": "lines+markers",
         "name": "Zone 40",
         "type": "scatter",
         "x": [
          "00:00",
          "01:00",
          "02:00",
          "03:00",
          "04:00",
          "05:00",
          "06:00",
          "07:00",
          "08:00",
          "09:00",
          "10:00",
          "11:00",
          "12:00",
          "13:00",
          "14:00",
          "15:00",
          "16:00",
          "17:00",
          "18:00",
          "19:00",
          "20:00",
          "21:00",
          "22:00",
          "23:00"
         ],
         "y": [
          -0.2636719945177936,
          -0.24722020176809562,
          -0.2386989301910584,
          -0.23166082339412358,
          -0.23447081986144752,
          0.13927175053562502,
          0.9762195723333879,
          1.9617857623466692,
          3.5492340282139923,
          3.9996301980299576,
          3.229856433161989,
          1.9981426215773013,
          0.8312908464761865,
          -0.42097669263957804,
          -1.491564134516027,
          -2.5569206765248254,
          -3.232218384688656,
          -2.565393838927993,
          -1.9520884805684477,
          -1.4315100374222478,
          -0.7336844877666403,
          -0.4230122110897558,
          -0.34545480085100444,
          -0.2941536152602514
         ]
        },
        {
         "marker": {
          "size": 180
         },
         "mode": "lines+markers",
         "name": "Zone 41",
         "type": "scatter",
         "x": [
          "00:00",
          "01:00",
          "02:00",
          "03:00",
          "04:00",
          "05:00",
          "06:00",
          "07:00",
          "08:00",
          "09:00",
          "10:00",
          "11:00",
          "12:00",
          "13:00",
          "14:00",
          "15:00",
          "16:00",
          "17:00",
          "18:00",
          "19:00",
          "20:00",
          "21:00",
          "22:00",
          "23:00"
         ],
         "y": [
          -0.4522788597573644,
          -0.439339361541068,
          -0.43014965734453364,
          -0.4182998803811053,
          -0.42368233449195036,
          -0.20344425176066813,
          0.336814802255931,
          0.7336935562347248,
          1.0473477257474135,
          1.2708588468491064,
          1.3095850912929778,
          1.2536221809187569,
          1.0401701365517613,
          0.7880935747415261,
          0.4410957827012668,
          0.022501743097710074,
          -0.4591412074334597,
          -0.8873957166924421,
          -1.1816306014236824,
          -1.1787854138734937,
          -0.6961255474853767,
          -0.46926412632904513,
          -0.48938326552281164,
          -0.4720555591273972
         ]
        },
        {
         "marker": {
          "size": 175
         },
         "mode": "lines+markers",
         "name": "Zone 42",
         "type": "scatter",
         "x": [
          "00:00",
          "01:00",
          "02:00",
          "03:00",
          "04:00",
          "05:00",
          "06:00",
          "07:00",
          "08:00",
          "09:00",
          "10:00",
          "11:00",
          "12:00",
          "13:00",
          "14:00",
          "15:00",
          "16:00",
          "17:00",
          "18:00",
          "19:00",
          "20:00",
          "21:00",
          "22:00",
          "23:00"
         ],
         "y": [
          -0.9575508788635105,
          -1.0276060471370219,
          -1.0688409010351254,
          -1.093651412892562,
          -1.109532801622514,
          -0.7748582293384891,
          -0.023878408807195627,
          0.4669776029482757,
          1.2971527750892051,
          1.9731784583149554,
          2.351899349092285,
          2.5526631507366764,
          2.646648003263367,
          2.6167861778696166,
          2.3899086802662786,
          2.081430906067812,
          1.70687835358025,
          1.417894892728234,
          1.0534078284108912,
          0.3193382254531364,
          0.09560857534508253,
          -0.07986187988608388,
          -0.5111073523752542,
          -0.8216372049413998
         ]
        },
        {
         "marker": {
          "size": 170
         },
         "mode": "lines+markers",
         "name": "Zone 43",
         "type": "scatter",
         "x": [
          "00:00",
          "01:00",
          "02:00",
          "03:00",
          "04:00",
          "05:00",
          "06:00",
          "07:00",
          "08:00",
          "09:00",
          "10:00",
          "11:00",
          "12:00",
          "13:00",
          "14:00",
          "15:00",
          "16:00",
          "17:00",
          "18:00",
          "19:00",
          "20:00",
          "21:00",
          "22:00",
          "23:00"
         ],
         "y": [
          -3.0697408010195177,
          -2.8382079236995073,
          -2.6951340455009554,
          -2.592409551215566,
          -2.664926279247073,
          -0.20858035472218756,
          9.706242889450525,
          17.55667005291824,
          18.850449226196066,
          16.577860921719438,
          12.331220577805803,
          8.225729582083265,
          5.256766376145313,
          0.12129837271442052,
          -3.6164322646636013,
          -8.348973490190605,
          -11.544567156549109,
          -13.777045653856575,
          -12.410999781600156,
          -8.339378838569807,
          -5.196173994132736,
          -4.179973224826386,
          -3.8224101375850204,
          -3.365883445171259
         ]
        },
        {
         "marker": {
          "size": 165
         },
         "mode": "lines+markers",
         "name": "Zone 44",
         "type": "scatter",
         "x": [
          "00:00",
          "01:00",
          "02:00",
          "03:00",
          "04:00",
          "05:00",
          "06:00",
          "07:00",
          "08:00",
          "09:00",
          "10:00",
          "11:00",
          "12:00",
          "13:00",
          "14:00",
          "15:00",
          "16:00",
          "17:00",
          "18:00",
          "19:00",
          "20:00",
          "21:00",
          "22:00",
          "23:00"
         ],
         "y": [
          -0.03773699484551641,
          -0.035721303496675474,
          -0.033428789269065694,
          -0.031035010485837865,
          -0.0280231790398234,
          -0.023336658053716427,
          0.027015188986950277,
          0.030079049938805634,
          0.0279153854118601,
          0.03249445266559478,
          0.040550443252273805,
          0.04661430580880794,
          0.047392342643098155,
          0.04514198052320332,
          0.03280946843667627,
          0.022176335746219297,
          0.012752059115575016,
          -0.000031292105227537056,
          -0.01667447147166946,
          -0.023375994222554743,
          -0.029461735015309205,
          -0.029694776373421584,
          -0.03801748044802935,
          -0.03948221162994838
         ]
        },
        {
         "marker": {
          "size": 160
         },
         "mode": "lines+markers",
         "name": "Zone 45",
         "type": "scatter",
         "x": [
          "00:00",
          "01:00",
          "02:00",
          "03:00",
          "04:00",
          "05:00",
          "06:00",
          "07:00",
          "08:00",
          "09:00",
          "10:00",
          "11:00",
          "12:00",
          "13:00",
          "14:00",
          "15:00",
          "16:00",
          "17:00",
          "18:00",
          "19:00",
          "20:00",
          "21:00",
          "22:00",
          "23:00"
         ],
         "y": [
          -0.0349228780147511,
          -0.03370786156474689,
          -0.032031230383365,
          -0.03005838732508568,
          -0.02735852566793084,
          -0.02291341561881085,
          0.02535861246557947,
          0.025169944497338642,
          0.023002573678275712,
          0.02800734961861899,
          0.03653327323056435,
          0.04311548291814476,
          0.0447283935024203,
          0.04363897786498901,
          0.032798400868110617,
          0.023846298590493364,
          0.015746098486398723,
          0.0041790629891089,
          -0.011244268104367733,
          -0.017133494720706754,
          -0.023508873644545743,
          -0.024538677237824796,
          -0.03368389442391852,
          -0.03572762820107076
         ]
        },
        {
         "marker": {
          "size": 155
         },
         "mode": "lines+markers",
         "name": "Zone 46",
         "type": "scatter",
         "x": [
          "00:00",
          "01:00",
          "02:00",
          "03:00",
          "04:00",
          "05:00",
          "06:00",
          "07:00",
          "08:00",
          "09:00",
          "10:00",
          "11:00",
          "12:00",
          "13:00",
          "14:00",
          "15:00",
          "16:00",
          "17:00",
          "18:00",
          "19:00",
          "20:00",
          "21:00",
          "22:00",
          "23:00"
         ],
         "y": [
          -0.15275211891157506,
          -0.14567037173555705,
          -0.14156818058102594,
          -0.13654647869235664,
          -0.13548169974221083,
          0.12198090762568625,
          1.0383377740978126,
          0.7023600507728025,
          0.727761544759428,
          0.6305792496837159,
          0.4549783206074904,
          0.2892624671222943,
          0.23185110100937137,
          0.13786054786168758,
          -0.01231770652127456,
          -0.20892834130547325,
          -0.37739035048196723,
          -0.19132654196183171,
          -0.9839616646833977,
          -0.8298263676090949,
          -0.41164843806749923,
          -0.23679153615954368,
          -0.1915139305518793,
          -0.16490827086168025
         ]
        },
        {
         "marker": {
          "size": 150
         },
         "mode": "lines+markers",
         "name": "Zone 47",
         "type": "scatter",
         "x": [
          "00:00",
          "01:00",
          "02:00",
          "03:00",
          "04:00",
          "05:00",
          "06:00",
          "07:00",
          "08:00",
          "09:00",
          "10:00",
          "11:00",
          "12:00",
          "13:00",
          "14:00",
          "15:00",
          "16:00",
          "17:00",
          "18:00",
          "19:00",
          "20:00",
          "21:00",
          "22:00",
          "23:00"
         ],
         "y": [
          -0.0738559730884262,
          -0.07014076418848111,
          -0.06801397450080561,
          -0.06587908034323779,
          -0.0660258398692624,
          0.03669073612698948,
          0.2867055293618234,
          0.5696847101046363,
          1.0160187915558823,
          1.1459836337277516,
          0.9293302849518039,
          0.5777015358815573,
          0.2425749494863144,
          -0.11829311694429236,
          -0.42891563852383097,
          -0.7386118731431114,
          -0.9339521226805114,
          -0.7434594035359499,
          -0.5683039620116821,
          -0.41028532347026087,
          -0.2117201871598747,
          -0.12241746753920726,
          -0.09636124341154315,
          -0.08123369802798856
         ]
        },
        {
         "marker": {
          "size": 145
         },
         "mode": "lines+markers",
         "name": "Zone 48",
         "type": "scatter",
         "x": [
          "00:00",
          "01:00",
          "02:00",
          "03:00",
          "04:00",
          "05:00",
          "06:00",
          "07:00",
          "08:00",
          "09:00",
          "10:00",
          "11:00",
          "12:00",
          "13:00",
          "14:00",
          "15:00",
          "16:00",
          "17:00",
          "18:00",
          "19:00",
          "20:00",
          "21:00",
          "22:00",
          "23:00"
         ],
         "y": [
          -0.12223397358535301,
          -0.13461707420536223,
          -0.14195176110935867,
          -0.1454432222069095,
          -0.14451068891194427,
          -0.13685595861495356,
          -0.03636956017720156,
          0.02549227994942667,
          0.06609216050552355,
          0.11400769427758704,
          0.1645071274186552,
          0.20768297127659793,
          0.23285259216978862,
          0.2415287540416475,
          0.22197267299196455,
          0.1941854874765602,
          0.16845164532248913,
          0.13814180925360614,
          0.08890821009725186,
          0.044058202971200014,
          0.002003927446042422,
          -0.028357508176097466,
          -0.07059775002275838,
          -0.10263037679435101
         ]
        },
        {
         "marker": {
          "size": 140
         },
         "mode": "lines+markers",
         "name": "Zone 49",
         "type": "scatter",
         "x": [
          "00:00",
          "01:00",
          "02:00",
          "03:00",
          "04:00",
          "05:00",
          "06:00",
          "07:00",
          "08:00",
          "09:00",
          "10:00",
          "11:00",
          "12:00",
          "13:00",
          "14:00",
          "15:00",
          "16:00",
          "17:00",
          "18:00",
          "19:00",
          "20:00",
          "21:00",
          "22:00",
          "23:00"
         ],
         "y": [
          -0.3744584971054857,
          -0.34703774679449634,
          -0.32943089825074223,
          -0.3163874681574687,
          -0.3236530682161826,
          -0.0379124401217139,
          1.2150250782316716,
          2.1811012528851816,
          2.3111332662830084,
          2.039482488112429,
          1.523703954053537,
          1.0215557055357385,
          0.6501477625585691,
          0.01751415521231497,
          -0.44733381449744014,
          -1.0352081481737803,
          -1.431425771464426,
          -1.7180645563141683,
          -1.5474526711699899,
          -1.0208103223713405,
          -0.6424163056238305,
          -0.5168318391219734,
          -0.46522186508351876,
          -0.4092260826434998
         ]
        },
        {
         "marker": {
          "size": 135
         },
         "mode": "lines+markers",
         "name": "Zone 50",
         "type": "scatter",
         "x": [
          "00:00",
          "01:00",
          "02:00",
          "03:00",
          "04:00",
          "05:00",
          "06:00",
          "07:00",
          "08:00",
          "09:00",
          "10:00",
          "11:00",
          "12:00",
          "13:00",
          "14:00",
          "15:00",
          "16:00",
          "17:00",
          "18:00",
          "19:00",
          "20:00",
          "21:00",
          "22:00",
          "23:00"
         ],
         "y": [
          -0.029191920731852932,
          -0.02737931703618268,
          -0.02574556725704021,
          -0.02377944095157012,
          -0.021778095255433203,
          -0.017559395235884057,
          0.02900953971417349,
          0.028367255444925996,
          0.024377968754466586,
          0.026517113046431343,
          0.03192838258197268,
          0.035696188997251035,
          0.03501511523149311,
          0.032346717643721636,
          0.02130868361651593,
          0.012420585287341206,
          0.004901211190389595,
          -0.005317519376213727,
          -0.019026937387453594,
          -0.022207144189596264,
          -0.02542279621181387,
          -0.024249790568428888,
          -0.03053446944761225,
          -0.031069880100612905
         ]
        },
        {
         "marker": {
          "size": 130
         },
         "mode": "lines+markers",
         "name": "Zone 51",
         "type": "scatter",
         "x": [
          "00:00",
          "01:00",
          "02:00",
          "03:00",
          "04:00",
          "05:00",
          "06:00",
          "07:00",
          "08:00",
          "09:00",
          "10:00",
          "11:00",
          "12:00",
          "13:00",
          "14:00",
          "15:00",
          "16:00",
          "17:00",
          "18:00",
          "19:00",
          "20:00",
          "21:00",
          "22:00",
          "23:00"
         ],
         "y": [
          -0.038655528573040186,
          -0.03472765317911604,
          -0.031357241897641726,
          -0.027970749513304763,
          -0.024857142466410152,
          -0.01974497457615272,
          0.027509310557026323,
          0.027413148468842533,
          0.023726044220788684,
          0.02583730321168278,
          0.030897784580952166,
          0.034031259736112256,
          0.032520672876552234,
          0.028930758578373007,
          0.016687141457754007,
          0.005712601953720755,
          -0.004813634438188139,
          -0.018466819500249563,
          -0.03544807893583471,
          -0.0411213351233574,
          -0.04495878839826853,
          -0.04211800401054851,
          -0.04562728286368775,
          -0.04312964799536624
         ]
        },
        {
         "marker": {
          "size": 125
         },
         "mode": "lines+markers",
         "name": "Zone 52",
         "type": "scatter",
         "x": [
          "00:00",
          "01:00",
          "02:00",
          "03:00",
          "04:00",
          "05:00",
          "06:00",
          "07:00",
          "08:00",
          "09:00",
          "10:00",
          "11:00",
          "12:00",
          "13:00",
          "14:00",
          "15:00",
          "16:00",
          "17:00",
          "18:00",
          "19:00",
          "20:00",
          "21:00",
          "22:00",
          "23:00"
         ],
         "y": [
          -0.028779390908869558,
          -0.027765996970712442,
          -0.026639942912657505,
          -0.02500644048271332,
          -0.02318118109054216,
          -0.01933746575318737,
          0.02046524486162649,
          0.023430730990018397,
          0.020851345126844775,
          0.02326286118807682,
          0.02898369149766116,
          0.03378528992284894,
          0.034810131238348196,
          0.033790302837149705,
          0.025125428320268182,
          0.01747362964265432,
          0.010775228879191532,
          0.001481094692821818,
          -0.011389815297425053,
          -0.015945521154170906,
          -0.0201189579262404,
          -0.020717374679785943,
          -0.027191847350439172,
          -0.02927940861490123
         ]
        },
        {
         "marker": {
          "size": 120
         },
         "mode": "lines+markers",
         "name": "Zone 53",
         "type": "scatter",
         "x": [
          "00:00",
          "01:00",
          "02:00",
          "03:00",
          "04:00",
          "05:00",
          "06:00",
          "07:00",
          "08:00",
          "09:00",
          "10:00",
          "11:00",
          "12:00",
          "13:00",
          "14:00",
          "15:00",
          "16:00",
          "17:00",
          "18:00",
          "19:00",
          "20:00",
          "21:00",
          "22:00",
          "23:00"
         ],
         "y": [
          -0.05746359795974355,
          -0.05485994235073862,
          -0.0535687754931305,
          -0.05206782189470453,
          -0.05251448326816457,
          0.028931561752022612,
          0.2266251317000819,
          0.45122373646994796,
          0.804782527684099,
          0.9072413071942121,
          0.7350785821434883,
          0.4562208601920054,
          0.19031292624503432,
          -0.09549165403892333,
          -0.34119447931062075,
          -0.5862341593224571,
          -0.740547673904709,
          -0.5888350666994959,
          -0.44962809877644244,
          -0.3238662073243627,
          -0.16596858635606804,
          -0.09527998306710635,
          -0.07444523720145732,
          -0.06285323681579696
         ]
        },
        {
         "marker": {
          "size": 115
         },
         "mode": "lines+markers",
         "name": "Zone 54",
         "type": "scatter",
         "x": [
          "00:00",
          "01:00",
          "02:00",
          "03:00",
          "04:00",
          "05:00",
          "06:00",
          "07:00",
          "08:00",
          "09:00",
          "10:00",
          "11:00",
          "12:00",
          "13:00",
          "14:00",
          "15:00",
          "16:00",
          "17:00",
          "18:00",
          "19:00",
          "20:00",
          "21:00",
          "22:00",
          "23:00"
         ],
         "y": [
          -0.08285141761439438,
          -0.09380530820659164,
          -0.1016779400945206,
          -0.10616485717612581,
          -0.10801322398035819,
          -0.10340538563211463,
          -0.026731340310557055,
          0.020765485486868563,
          0.04972622519880914,
          0.0830405371467307,
          0.11838084512875238,
          0.14896836353845186,
          0.16653615787984022,
          0.1727333295058283,
          0.1585323305450478,
          0.1388133890197443,
          0.12183409746242387,
          0.10242968810890801,
          0.06719632341413802,
          0.03671679871642793,
          0.008724526300260445,
          -0.012365451395813678,
          -0.04236470591257996,
          -0.06684901381516636
         ]
        },
        {
         "marker": {
          "size": 110
         },
         "mode": "lines+markers",
         "name": "Zone 55",
         "type": "scatter",
         "x": [
          "00:00",
          "01:00",
          "02:00",
          "03:00",
          "04:00",
          "05:00",
          "06:00",
          "07:00",
          "08:00",
          "09:00",
          "10:00",
          "11:00",
          "12:00",
          "13:00",
          "14:00",
          "15:00",
          "16:00",
          "17:00",
          "18:00",
          "19:00",
          "20:00",
          "21:00",
          "22:00",
          "23:00"
         ],
         "y": [
          -0.29345630317349025,
          -0.2722658260082398,
          -0.2590894840665666,
          -0.24920995905034068,
          -0.25576802609310667,
          -0.029430671216980994,
          0.9624443447896799,
          1.7288215799821618,
          1.830453901226237,
          1.6133624185930935,
          1.2032716954943365,
          0.8047196457997766,
          0.5105467502153093,
          0.009604799242949382,
          -0.3580825174461248,
          -0.8231847526619286,
          -1.1360008766521985,
          -1.3617836418297389,
          -1.2255908970413434,
          -0.8066062861415709,
          -0.5053253412258447,
          -0.4056967853163011,
          -0.36417544773767735,
          -0.32042171240165374
         ]
        }
       ],
       "layout": {
        "template": {
         "data": {
          "bar": [
           {
            "error_x": {
             "color": "#2a3f5f"
            },
            "error_y": {
             "color": "#2a3f5f"
            },
            "marker": {
             "line": {
              "color": "#E5ECF6",
              "width": 0.5
             },
             "pattern": {
              "fillmode": "overlay",
              "size": 10,
              "solidity": 0.2
             }
            },
            "type": "bar"
           }
          ],
          "barpolar": [
           {
            "marker": {
             "line": {
              "color": "#E5ECF6",
              "width": 0.5
             },
             "pattern": {
              "fillmode": "overlay",
              "size": 10,
              "solidity": 0.2
             }
            },
            "type": "barpolar"
           }
          ],
          "carpet": [
           {
            "aaxis": {
             "endlinecolor": "#2a3f5f",
             "gridcolor": "white",
             "linecolor": "white",
             "minorgridcolor": "white",
             "startlinecolor": "#2a3f5f"
            },
            "baxis": {
             "endlinecolor": "#2a3f5f",
             "gridcolor": "white",
             "linecolor": "white",
             "minorgridcolor": "white",
             "startlinecolor": "#2a3f5f"
            },
            "type": "carpet"
           }
          ],
          "choropleth": [
           {
            "colorbar": {
             "outlinewidth": 0,
             "ticks": ""
            },
            "type": "choropleth"
           }
          ],
          "contour": [
           {
            "colorbar": {
             "outlinewidth": 0,
             "ticks": ""
            },
            "colorscale": [
             [
              0,
              "#0d0887"
             ],
             [
              0.1111111111111111,
              "#46039f"
             ],
             [
              0.2222222222222222,
              "#7201a8"
             ],
             [
              0.3333333333333333,
              "#9c179e"
             ],
             [
              0.4444444444444444,
              "#bd3786"
             ],
             [
              0.5555555555555556,
              "#d8576b"
             ],
             [
              0.6666666666666666,
              "#ed7953"
             ],
             [
              0.7777777777777778,
              "#fb9f3a"
             ],
             [
              0.8888888888888888,
              "#fdca26"
             ],
             [
              1,
              "#f0f921"
             ]
            ],
            "type": "contour"
           }
          ],
          "contourcarpet": [
           {
            "colorbar": {
             "outlinewidth": 0,
             "ticks": ""
            },
            "type": "contourcarpet"
           }
          ],
          "heatmap": [
           {
            "colorbar": {
             "outlinewidth": 0,
             "ticks": ""
            },
            "colorscale": [
             [
              0,
              "#0d0887"
             ],
             [
              0.1111111111111111,
              "#46039f"
             ],
             [
              0.2222222222222222,
              "#7201a8"
             ],
             [
              0.3333333333333333,
              "#9c179e"
             ],
             [
              0.4444444444444444,
              "#bd3786"
             ],
             [
              0.5555555555555556,
              "#d8576b"
             ],
             [
              0.6666666666666666,
              "#ed7953"
             ],
             [
              0.7777777777777778,
              "#fb9f3a"
             ],
             [
              0.8888888888888888,
              "#fdca26"
             ],
             [
              1,
              "#f0f921"
             ]
            ],
            "type": "heatmap"
           }
          ],
          "heatmapgl": [
           {
            "colorbar": {
             "outlinewidth": 0,
             "ticks": ""
            },
            "colorscale": [
             [
              0,
              "#0d0887"
             ],
             [
              0.1111111111111111,
              "#46039f"
             ],
             [
              0.2222222222222222,
              "#7201a8"
             ],
             [
              0.3333333333333333,
              "#9c179e"
             ],
             [
              0.4444444444444444,
              "#bd3786"
             ],
             [
              0.5555555555555556,
              "#d8576b"
             ],
             [
              0.6666666666666666,
              "#ed7953"
             ],
             [
              0.7777777777777778,
              "#fb9f3a"
             ],
             [
              0.8888888888888888,
              "#fdca26"
             ],
             [
              1,
              "#f0f921"
             ]
            ],
            "type": "heatmapgl"
           }
          ],
          "histogram": [
           {
            "marker": {
             "pattern": {
              "fillmode": "overlay",
              "size": 10,
              "solidity": 0.2
             }
            },
            "type": "histogram"
           }
          ],
          "histogram2d": [
           {
            "colorbar": {
             "outlinewidth": 0,
             "ticks": ""
            },
            "colorscale": [
             [
              0,
              "#0d0887"
             ],
             [
              0.1111111111111111,
              "#46039f"
             ],
             [
              0.2222222222222222,
              "#7201a8"
             ],
             [
              0.3333333333333333,
              "#9c179e"
             ],
             [
              0.4444444444444444,
              "#bd3786"
             ],
             [
              0.5555555555555556,
              "#d8576b"
             ],
             [
              0.6666666666666666,
              "#ed7953"
             ],
             [
              0.7777777777777778,
              "#fb9f3a"
             ],
             [
              0.8888888888888888,
              "#fdca26"
             ],
             [
              1,
              "#f0f921"
             ]
            ],
            "type": "histogram2d"
           }
          ],
          "histogram2dcontour": [
           {
            "colorbar": {
             "outlinewidth": 0,
             "ticks": ""
            },
            "colorscale": [
             [
              0,
              "#0d0887"
             ],
             [
              0.1111111111111111,
              "#46039f"
             ],
             [
              0.2222222222222222,
              "#7201a8"
             ],
             [
              0.3333333333333333,
              "#9c179e"
             ],
             [
              0.4444444444444444,
              "#bd3786"
             ],
             [
              0.5555555555555556,
              "#d8576b"
             ],
             [
              0.6666666666666666,
              "#ed7953"
             ],
             [
              0.7777777777777778,
              "#fb9f3a"
             ],
             [
              0.8888888888888888,
              "#fdca26"
             ],
             [
              1,
              "#f0f921"
             ]
            ],
            "type": "histogram2dcontour"
           }
          ],
          "mesh3d": [
           {
            "colorbar": {
             "outlinewidth": 0,
             "ticks": ""
            },
            "type": "mesh3d"
           }
          ],
          "parcoords": [
           {
            "line": {
             "colorbar": {
              "outlinewidth": 0,
              "ticks": ""
             }
            },
            "type": "parcoords"
           }
          ],
          "pie": [
           {
            "automargin": true,
            "type": "pie"
           }
          ],
          "scatter": [
           {
            "marker": {
             "colorbar": {
              "outlinewidth": 0,
              "ticks": ""
             }
            },
            "type": "scatter"
           }
          ],
          "scatter3d": [
           {
            "line": {
             "colorbar": {
              "outlinewidth": 0,
              "ticks": ""
             }
            },
            "marker": {
             "colorbar": {
              "outlinewidth": 0,
              "ticks": ""
             }
            },
            "type": "scatter3d"
           }
          ],
          "scattercarpet": [
           {
            "marker": {
             "colorbar": {
              "outlinewidth": 0,
              "ticks": ""
             }
            },
            "type": "scattercarpet"
           }
          ],
          "scattergeo": [
           {
            "marker": {
             "colorbar": {
              "outlinewidth": 0,
              "ticks": ""
             }
            },
            "type": "scattergeo"
           }
          ],
          "scattergl": [
           {
            "marker": {
             "colorbar": {
              "outlinewidth": 0,
              "ticks": ""
             }
            },
            "type": "scattergl"
           }
          ],
          "scattermapbox": [
           {
            "marker": {
             "colorbar": {
              "outlinewidth": 0,
              "ticks": ""
             }
            },
            "type": "scattermapbox"
           }
          ],
          "scatterpolar": [
           {
            "marker": {
             "colorbar": {
              "outlinewidth": 0,
              "ticks": ""
             }
            },
            "type": "scatterpolar"
           }
          ],
          "scatterpolargl": [
           {
            "marker": {
             "colorbar": {
              "outlinewidth": 0,
              "ticks": ""
             }
            },
            "type": "scatterpolargl"
           }
          ],
          "scatterternary": [
           {
            "marker": {
             "colorbar": {
              "outlinewidth": 0,
              "ticks": ""
             }
            },
            "type": "scatterternary"
           }
          ],
          "surface": [
           {
            "colorbar": {
             "outlinewidth": 0,
             "ticks": ""
            },
            "colorscale": [
             [
              0,
              "#0d0887"
             ],
             [
              0.1111111111111111,
              "#46039f"
             ],
             [
              0.2222222222222222,
              "#7201a8"
             ],
             [
              0.3333333333333333,
              "#9c179e"
             ],
             [
              0.4444444444444444,
              "#bd3786"
             ],
             [
              0.5555555555555556,
              "#d8576b"
             ],
             [
              0.6666666666666666,
              "#ed7953"
             ],
             [
              0.7777777777777778,
              "#fb9f3a"
             ],
             [
              0.8888888888888888,
              "#fdca26"
             ],
             [
              1,
              "#f0f921"
             ]
            ],
            "type": "surface"
           }
          ],
          "table": [
           {
            "cells": {
             "fill": {
              "color": "#EBF0F8"
             },
             "line": {
              "color": "white"
             }
            },
            "header": {
             "fill": {
              "color": "#C8D4E3"
             },
             "line": {
              "color": "white"
             }
            },
            "type": "table"
           }
          ]
         },
         "layout": {
          "annotationdefaults": {
           "arrowcolor": "#2a3f5f",
           "arrowhead": 0,
           "arrowwidth": 1
          },
          "autotypenumbers": "strict",
          "coloraxis": {
           "colorbar": {
            "outlinewidth": 0,
            "ticks": ""
           }
          },
          "colorscale": {
           "diverging": [
            [
             0,
             "#8e0152"
            ],
            [
             0.1,
             "#c51b7d"
            ],
            [
             0.2,
             "#de77ae"
            ],
            [
             0.3,
             "#f1b6da"
            ],
            [
             0.4,
             "#fde0ef"
            ],
            [
             0.5,
             "#f7f7f7"
            ],
            [
             0.6,
             "#e6f5d0"
            ],
            [
             0.7,
             "#b8e186"
            ],
            [
             0.8,
             "#7fbc41"
            ],
            [
             0.9,
             "#4d9221"
            ],
            [
             1,
             "#276419"
            ]
           ],
           "sequential": [
            [
             0,
             "#0d0887"
            ],
            [
             0.1111111111111111,
             "#46039f"
            ],
            [
             0.2222222222222222,
             "#7201a8"
            ],
            [
             0.3333333333333333,
             "#9c179e"
            ],
            [
             0.4444444444444444,
             "#bd3786"
            ],
            [
             0.5555555555555556,
             "#d8576b"
            ],
            [
             0.6666666666666666,
             "#ed7953"
            ],
            [
             0.7777777777777778,
             "#fb9f3a"
            ],
            [
             0.8888888888888888,
             "#fdca26"
            ],
            [
             1,
             "#f0f921"
            ]
           ],
           "sequentialminus": [
            [
             0,
             "#0d0887"
            ],
            [
             0.1111111111111111,
             "#46039f"
            ],
            [
             0.2222222222222222,
             "#7201a8"
            ],
            [
             0.3333333333333333,
             "#9c179e"
            ],
            [
             0.4444444444444444,
             "#bd3786"
            ],
            [
             0.5555555555555556,
             "#d8576b"
            ],
            [
             0.6666666666666666,
             "#ed7953"
            ],
            [
             0.7777777777777778,
             "#fb9f3a"
            ],
            [
             0.8888888888888888,
             "#fdca26"
            ],
            [
             1,
             "#f0f921"
            ]
           ]
          },
          "colorway": [
           "#636efa",
           "#EF553B",
           "#00cc96",
           "#ab63fa",
           "#FFA15A",
           "#19d3f3",
           "#FF6692",
           "#B6E880",
           "#FF97FF",
           "#FECB52"
          ],
          "font": {
           "color": "#2a3f5f"
          },
          "geo": {
           "bgcolor": "white",
           "lakecolor": "white",
           "landcolor": "#E5ECF6",
           "showlakes": true,
           "showland": true,
           "subunitcolor": "white"
          },
          "hoverlabel": {
           "align": "left"
          },
          "hovermode": "closest",
          "mapbox": {
           "style": "light"
          },
          "paper_bgcolor": "white",
          "plot_bgcolor": "#E5ECF6",
          "polar": {
           "angularaxis": {
            "gridcolor": "white",
            "linecolor": "white",
            "ticks": ""
           },
           "bgcolor": "#E5ECF6",
           "radialaxis": {
            "gridcolor": "white",
            "linecolor": "white",
            "ticks": ""
           }
          },
          "scene": {
           "xaxis": {
            "backgroundcolor": "#E5ECF6",
            "gridcolor": "white",
            "gridwidth": 2,
            "linecolor": "white",
            "showbackground": true,
            "ticks": "",
            "zerolinecolor": "white"
           },
           "yaxis": {
            "backgroundcolor": "#E5ECF6",
            "gridcolor": "white",
            "gridwidth": 2,
            "linecolor": "white",
            "showbackground": true,
            "ticks": "",
            "zerolinecolor": "white"
           },
           "zaxis": {
            "backgroundcolor": "#E5ECF6",
            "gridcolor": "white",
            "gridwidth": 2,
            "linecolor": "white",
            "showbackground": true,
            "ticks": "",
            "zerolinecolor": "white"
           }
          },
          "shapedefaults": {
           "line": {
            "color": "#2a3f5f"
           }
          },
          "ternary": {
           "aaxis": {
            "gridcolor": "white",
            "linecolor": "white",
            "ticks": ""
           },
           "baxis": {
            "gridcolor": "white",
            "linecolor": "white",
            "ticks": ""
           },
           "bgcolor": "#E5ECF6",
           "caxis": {
            "gridcolor": "white",
            "linecolor": "white",
            "ticks": ""
           }
          },
          "title": {
           "x": 0.05
          },
          "xaxis": {
           "automargin": true,
           "gridcolor": "white",
           "linecolor": "white",
           "ticks": "",
           "title": {
            "standoff": 15
           },
           "zerolinecolor": "white",
           "zerolinewidth": 2
          },
          "yaxis": {
           "automargin": true,
           "gridcolor": "white",
           "linecolor": "white",
           "ticks": "",
           "title": {
            "standoff": 15
           },
           "zerolinecolor": "white",
           "zerolinewidth": 2
          }
         }
        },
        "title": {
         "text": "Surface Heat Storage Energy Month #8"
        },
        "xaxis": {
         "title": {
          "text": "Hours"
         }
        },
        "yaxis": {
         "title": {
          "text": "Energy [kWh]"
         }
        }
       }
      }
     },
     "metadata": {},
     "output_type": "display_data"
    },
    {
     "data": {
      "application/vnd.plotly.v1+json": {
       "config": {
        "plotlyServerURL": "https://plot.ly"
       },
       "data": [
        {
         "marker": {
          "size": 51
         },
         "mode": "lines+markers",
         "name": "Zone 1",
         "type": "scatter",
         "x": [
          "00:00",
          "01:00",
          "02:00",
          "03:00",
          "04:00",
          "05:00",
          "06:00",
          "07:00",
          "08:00",
          "09:00",
          "10:00",
          "11:00",
          "12:00",
          "13:00",
          "14:00",
          "15:00",
          "16:00",
          "17:00",
          "18:00",
          "19:00",
          "20:00",
          "21:00",
          "22:00",
          "23:00"
         ],
         "y": [
          472.82334436902215,
          425.74870764892086,
          362.744167326884,
          292.30797894219285,
          214.59901497680957,
          182.54575701939132,
          -385.4491868541107,
          -268.2628052337643,
          -131.03665123090866,
          -45.714327211764584,
          17.761104143788405,
          73.66281074283492,
          137.31102763681577,
          205.52604870422948,
          329.7170092567931,
          417.1553206671,
          460.9799372732366,
          488.5345591595963,
          527.4743383179372,
          473.9177906535844,
          484.3509937027196,
          442.774903681624,
          520.3122476610846,
          509.3088927817152
         ]
        },
        {
         "marker": {
          "size": 46
         },
         "mode": "lines+markers",
         "name": "Zone 2",
         "type": "scatter",
         "x": [
          "00:00",
          "01:00",
          "02:00",
          "03:00",
          "04:00",
          "05:00",
          "06:00",
          "07:00",
          "08:00",
          "09:00",
          "10:00",
          "11:00",
          "12:00",
          "13:00",
          "14:00",
          "15:00",
          "16:00",
          "17:00",
          "18:00",
          "19:00",
          "20:00",
          "21:00",
          "22:00",
          "23:00"
         ],
         "y": [
          426.0116156444703,
          389.91640421953144,
          342.9050878388149,
          283.690746934115,
          219.80560100949103,
          194.76474240012845,
          -359.5892229366516,
          -233.79439042636707,
          -110.43425395645744,
          -38.98138263020513,
          14.526984302344633,
          62.155043191102486,
          114.73675939701829,
          151.97279895280582,
          236.02916598011942,
          276.90259244188917,
          290.7575299782939,
          342.2692866312597,
          411.8382084269485,
          385.9483247217621,
          419.4962372227993,
          387.4520378051476,
          454.8218295290444,
          454.25919123956265
         ]
        },
        {
         "marker": {
          "size": 41
         },
         "mode": "lines+markers",
         "name": "Zone 3",
         "type": "scatter",
         "x": [
          "00:00",
          "01:00",
          "02:00",
          "03:00",
          "04:00",
          "05:00",
          "06:00",
          "07:00",
          "08:00",
          "09:00",
          "10:00",
          "11:00",
          "12:00",
          "13:00",
          "14:00",
          "15:00",
          "16:00",
          "17:00",
          "18:00",
          "19:00",
          "20:00",
          "21:00",
          "22:00",
          "23:00"
         ],
         "y": [
          330.6387633673237,
          313.7748075381394,
          292.1750922831078,
          265.86763655186854,
          234.19282381307303,
          195.25229486637969,
          -219.1154434143508,
          -168.87780929806874,
          -122.85216424153852,
          -80.32791521467009,
          -45.942448202893594,
          -16.436102401043026,
          18.489088595085626,
          32.61369988988855,
          84.40059039961857,
          108.32248137984934,
          128.86603853279817,
          187.88757333392093,
          260.3709244185296,
          273.04221915213327,
          304.5141620319857,
          286.7662585931412,
          347.49908661806916,
          345.8438269976063
         ]
        },
        {
         "marker": {
          "size": 36
         },
         "mode": "lines+markers",
         "name": "Zone 4",
         "type": "scatter",
         "x": [
          "00:00",
          "01:00",
          "02:00",
          "03:00",
          "04:00",
          "05:00",
          "06:00",
          "07:00",
          "08:00",
          "09:00",
          "10:00",
          "11:00",
          "12:00",
          "13:00",
          "14:00",
          "15:00",
          "16:00",
          "17:00",
          "18:00",
          "19:00",
          "20:00",
          "21:00",
          "22:00",
          "23:00"
         ],
         "y": [
          599.5521394231146,
          471.7385056436951,
          379.27334596439016,
          306.38568695077925,
          245.19953999712075,
          192.89527256015748,
          -1484.6451983427721,
          -1386.0352264324752,
          -2506.5955907092925,
          -2461.945587825417,
          -2114.633832149467,
          -1791.7093800582038,
          -1582.3656454988147,
          -1454.8124129823811,
          -767.5486005461926,
          -720.7866572646329,
          -760.1022302471098,
          -302.75217502598514,
          247.36446690840808,
          189.83950068697303,
          14.935544663947743,
          -131.21893213571198,
          701.4330277138022,
          777.9705528539057
         ]
        },
        {
         "marker": {
          "size": 31
         },
         "mode": "lines+markers",
         "name": "Zone 5",
         "type": "scatter",
         "x": [
          "00:00",
          "01:00",
          "02:00",
          "03:00",
          "04:00",
          "05:00",
          "06:00",
          "07:00",
          "08:00",
          "09:00",
          "10:00",
          "11:00",
          "12:00",
          "13:00",
          "14:00",
          "15:00",
          "16:00",
          "17:00",
          "18:00",
          "19:00",
          "20:00",
          "21:00",
          "22:00",
          "23:00"
         ],
         "y": [
          410.17050867288117,
          294.00516785011126,
          214.78439379790888,
          155.85298749081002,
          109.8036629330436,
          71.84303659019778,
          -1360.9443754977538,
          -1391.3885475019567,
          -2291.049758871693,
          -2270.021042176251,
          -2096.2843029641044,
          -1850.3405827432705,
          -1631.5540260569596,
          -1468.211850579679,
          -764.3935283717536,
          -685.3012861424138,
          -680.8108162710552,
          -245.69344952384148,
          287.7126620833748,
          239.340335403407,
          46.104864211897976,
          -127.05711057857707,
          535.5176248354983,
          578.730674602398
         ]
        },
        {
         "marker": {
          "size": 26
         },
         "mode": "lines+markers",
         "name": "Zone 6",
         "type": "scatter",
         "x": [
          "00:00",
          "01:00",
          "02:00",
          "03:00",
          "04:00",
          "05:00",
          "06:00",
          "07:00",
          "08:00",
          "09:00",
          "10:00",
          "11:00",
          "12:00",
          "13:00",
          "14:00",
          "15:00",
          "16:00",
          "17:00",
          "18:00",
          "19:00",
          "20:00",
          "21:00",
          "22:00",
          "23:00"
         ],
         "y": [
          942.4591744299377,
          808.1082730524588,
          681.1581225498388,
          563.25040971623,
          453.1263209675794,
          362.7725898195823,
          -507.5803578027059,
          -663.0698546776655,
          -1197.9631985211943,
          -865.9761664195952,
          -298.65100483143095,
          158.09957896049045,
          494.59274622330804,
          755.8884618414147,
          1031.5669794650294,
          1128.3882871965268,
          1098.5765196292048,
          1082.925847157955,
          984.5596265990532,
          648.6581092919693,
          512.135078888695,
          382.2737965256341,
          996.215080897681,
          1073.9858477448013
         ]
        },
        {
         "marker": {
          "size": 21
         },
         "mode": "lines+markers",
         "name": "Zone 7",
         "type": "scatter",
         "x": [
          "00:00",
          "01:00",
          "02:00",
          "03:00",
          "04:00",
          "05:00",
          "06:00",
          "07:00",
          "08:00",
          "09:00",
          "10:00",
          "11:00",
          "12:00",
          "13:00",
          "14:00",
          "15:00",
          "16:00",
          "17:00",
          "18:00",
          "19:00",
          "20:00",
          "21:00",
          "22:00",
          "23:00"
         ],
         "y": [
          301.007710134045,
          286.7053036839567,
          267.8841096187799,
          246.2532494105096,
          218.3648389960865,
          184.4700024305313,
          -222.37417787938904,
          -169.60482566290153,
          -121.8848746587044,
          -79.96414170597407,
          -46.451692837322504,
          -17.019026673879683,
          16.94479943978705,
          28.65421127525854,
          73.7300105343463,
          86.22146602678852,
          91.3037642519668,
          137.015548822183,
          219.31144942548192,
          230.68114522456725,
          263.92377579843406,
          247.40356510552306,
          309.0359158919437,
          312.65126730917854
         ]
        },
        {
         "marker": {
          "size": 16
         },
         "mode": "lines+markers",
         "name": "Zone 8",
         "type": "scatter",
         "x": [
          "00:00",
          "01:00",
          "02:00",
          "03:00",
          "04:00",
          "05:00",
          "06:00",
          "07:00",
          "08:00",
          "09:00",
          "10:00",
          "11:00",
          "12:00",
          "13:00",
          "14:00",
          "15:00",
          "16:00",
          "17:00",
          "18:00",
          "19:00",
          "20:00",
          "21:00",
          "22:00",
          "23:00"
         ],
         "y": [
          245.62290717160153,
          234.86338629120374,
          222.68582915386054,
          207.1352285787538,
          189.06367821972052,
          161.90999949772583,
          -171.286589464637,
          -131.17394847565842,
          -92.28006716939808,
          -57.38793220093904,
          -30.71371204835752,
          -7.03712617724122,
          21.039261664703297,
          30.340979397183784,
          65.71336872367912,
          74.44030077263778,
          77.50040200316086,
          114.43866185148721,
          184.29989851118924,
          191.45321623557533,
          219.6679555097561,
          208.27546153755353,
          253.02579349319325,
          255.3973954936213
         ]
        }
       ],
       "layout": {
        "template": {
         "data": {
          "bar": [
           {
            "error_x": {
             "color": "#2a3f5f"
            },
            "error_y": {
             "color": "#2a3f5f"
            },
            "marker": {
             "line": {
              "color": "#E5ECF6",
              "width": 0.5
             },
             "pattern": {
              "fillmode": "overlay",
              "size": 10,
              "solidity": 0.2
             }
            },
            "type": "bar"
           }
          ],
          "barpolar": [
           {
            "marker": {
             "line": {
              "color": "#E5ECF6",
              "width": 0.5
             },
             "pattern": {
              "fillmode": "overlay",
              "size": 10,
              "solidity": 0.2
             }
            },
            "type": "barpolar"
           }
          ],
          "carpet": [
           {
            "aaxis": {
             "endlinecolor": "#2a3f5f",
             "gridcolor": "white",
             "linecolor": "white",
             "minorgridcolor": "white",
             "startlinecolor": "#2a3f5f"
            },
            "baxis": {
             "endlinecolor": "#2a3f5f",
             "gridcolor": "white",
             "linecolor": "white",
             "minorgridcolor": "white",
             "startlinecolor": "#2a3f5f"
            },
            "type": "carpet"
           }
          ],
          "choropleth": [
           {
            "colorbar": {
             "outlinewidth": 0,
             "ticks": ""
            },
            "type": "choropleth"
           }
          ],
          "contour": [
           {
            "colorbar": {
             "outlinewidth": 0,
             "ticks": ""
            },
            "colorscale": [
             [
              0,
              "#0d0887"
             ],
             [
              0.1111111111111111,
              "#46039f"
             ],
             [
              0.2222222222222222,
              "#7201a8"
             ],
             [
              0.3333333333333333,
              "#9c179e"
             ],
             [
              0.4444444444444444,
              "#bd3786"
             ],
             [
              0.5555555555555556,
              "#d8576b"
             ],
             [
              0.6666666666666666,
              "#ed7953"
             ],
             [
              0.7777777777777778,
              "#fb9f3a"
             ],
             [
              0.8888888888888888,
              "#fdca26"
             ],
             [
              1,
              "#f0f921"
             ]
            ],
            "type": "contour"
           }
          ],
          "contourcarpet": [
           {
            "colorbar": {
             "outlinewidth": 0,
             "ticks": ""
            },
            "type": "contourcarpet"
           }
          ],
          "heatmap": [
           {
            "colorbar": {
             "outlinewidth": 0,
             "ticks": ""
            },
            "colorscale": [
             [
              0,
              "#0d0887"
             ],
             [
              0.1111111111111111,
              "#46039f"
             ],
             [
              0.2222222222222222,
              "#7201a8"
             ],
             [
              0.3333333333333333,
              "#9c179e"
             ],
             [
              0.4444444444444444,
              "#bd3786"
             ],
             [
              0.5555555555555556,
              "#d8576b"
             ],
             [
              0.6666666666666666,
              "#ed7953"
             ],
             [
              0.7777777777777778,
              "#fb9f3a"
             ],
             [
              0.8888888888888888,
              "#fdca26"
             ],
             [
              1,
              "#f0f921"
             ]
            ],
            "type": "heatmap"
           }
          ],
          "heatmapgl": [
           {
            "colorbar": {
             "outlinewidth": 0,
             "ticks": ""
            },
            "colorscale": [
             [
              0,
              "#0d0887"
             ],
             [
              0.1111111111111111,
              "#46039f"
             ],
             [
              0.2222222222222222,
              "#7201a8"
             ],
             [
              0.3333333333333333,
              "#9c179e"
             ],
             [
              0.4444444444444444,
              "#bd3786"
             ],
             [
              0.5555555555555556,
              "#d8576b"
             ],
             [
              0.6666666666666666,
              "#ed7953"
             ],
             [
              0.7777777777777778,
              "#fb9f3a"
             ],
             [
              0.8888888888888888,
              "#fdca26"
             ],
             [
              1,
              "#f0f921"
             ]
            ],
            "type": "heatmapgl"
           }
          ],
          "histogram": [
           {
            "marker": {
             "pattern": {
              "fillmode": "overlay",
              "size": 10,
              "solidity": 0.2
             }
            },
            "type": "histogram"
           }
          ],
          "histogram2d": [
           {
            "colorbar": {
             "outlinewidth": 0,
             "ticks": ""
            },
            "colorscale": [
             [
              0,
              "#0d0887"
             ],
             [
              0.1111111111111111,
              "#46039f"
             ],
             [
              0.2222222222222222,
              "#7201a8"
             ],
             [
              0.3333333333333333,
              "#9c179e"
             ],
             [
              0.4444444444444444,
              "#bd3786"
             ],
             [
              0.5555555555555556,
              "#d8576b"
             ],
             [
              0.6666666666666666,
              "#ed7953"
             ],
             [
              0.7777777777777778,
              "#fb9f3a"
             ],
             [
              0.8888888888888888,
              "#fdca26"
             ],
             [
              1,
              "#f0f921"
             ]
            ],
            "type": "histogram2d"
           }
          ],
          "histogram2dcontour": [
           {
            "colorbar": {
             "outlinewidth": 0,
             "ticks": ""
            },
            "colorscale": [
             [
              0,
              "#0d0887"
             ],
             [
              0.1111111111111111,
              "#46039f"
             ],
             [
              0.2222222222222222,
              "#7201a8"
             ],
             [
              0.3333333333333333,
              "#9c179e"
             ],
             [
              0.4444444444444444,
              "#bd3786"
             ],
             [
              0.5555555555555556,
              "#d8576b"
             ],
             [
              0.6666666666666666,
              "#ed7953"
             ],
             [
              0.7777777777777778,
              "#fb9f3a"
             ],
             [
              0.8888888888888888,
              "#fdca26"
             ],
             [
              1,
              "#f0f921"
             ]
            ],
            "type": "histogram2dcontour"
           }
          ],
          "mesh3d": [
           {
            "colorbar": {
             "outlinewidth": 0,
             "ticks": ""
            },
            "type": "mesh3d"
           }
          ],
          "parcoords": [
           {
            "line": {
             "colorbar": {
              "outlinewidth": 0,
              "ticks": ""
             }
            },
            "type": "parcoords"
           }
          ],
          "pie": [
           {
            "automargin": true,
            "type": "pie"
           }
          ],
          "scatter": [
           {
            "marker": {
             "colorbar": {
              "outlinewidth": 0,
              "ticks": ""
             }
            },
            "type": "scatter"
           }
          ],
          "scatter3d": [
           {
            "line": {
             "colorbar": {
              "outlinewidth": 0,
              "ticks": ""
             }
            },
            "marker": {
             "colorbar": {
              "outlinewidth": 0,
              "ticks": ""
             }
            },
            "type": "scatter3d"
           }
          ],
          "scattercarpet": [
           {
            "marker": {
             "colorbar": {
              "outlinewidth": 0,
              "ticks": ""
             }
            },
            "type": "scattercarpet"
           }
          ],
          "scattergeo": [
           {
            "marker": {
             "colorbar": {
              "outlinewidth": 0,
              "ticks": ""
             }
            },
            "type": "scattergeo"
           }
          ],
          "scattergl": [
           {
            "marker": {
             "colorbar": {
              "outlinewidth": 0,
              "ticks": ""
             }
            },
            "type": "scattergl"
           }
          ],
          "scattermapbox": [
           {
            "marker": {
             "colorbar": {
              "outlinewidth": 0,
              "ticks": ""
             }
            },
            "type": "scattermapbox"
           }
          ],
          "scatterpolar": [
           {
            "marker": {
             "colorbar": {
              "outlinewidth": 0,
              "ticks": ""
             }
            },
            "type": "scatterpolar"
           }
          ],
          "scatterpolargl": [
           {
            "marker": {
             "colorbar": {
              "outlinewidth": 0,
              "ticks": ""
             }
            },
            "type": "scatterpolargl"
           }
          ],
          "scatterternary": [
           {
            "marker": {
             "colorbar": {
              "outlinewidth": 0,
              "ticks": ""
             }
            },
            "type": "scatterternary"
           }
          ],
          "surface": [
           {
            "colorbar": {
             "outlinewidth": 0,
             "ticks": ""
            },
            "colorscale": [
             [
              0,
              "#0d0887"
             ],
             [
              0.1111111111111111,
              "#46039f"
             ],
             [
              0.2222222222222222,
              "#7201a8"
             ],
             [
              0.3333333333333333,
              "#9c179e"
             ],
             [
              0.4444444444444444,
              "#bd3786"
             ],
             [
              0.5555555555555556,
              "#d8576b"
             ],
             [
              0.6666666666666666,
              "#ed7953"
             ],
             [
              0.7777777777777778,
              "#fb9f3a"
             ],
             [
              0.8888888888888888,
              "#fdca26"
             ],
             [
              1,
              "#f0f921"
             ]
            ],
            "type": "surface"
           }
          ],
          "table": [
           {
            "cells": {
             "fill": {
              "color": "#EBF0F8"
             },
             "line": {
              "color": "white"
             }
            },
            "header": {
             "fill": {
              "color": "#C8D4E3"
             },
             "line": {
              "color": "white"
             }
            },
            "type": "table"
           }
          ]
         },
         "layout": {
          "annotationdefaults": {
           "arrowcolor": "#2a3f5f",
           "arrowhead": 0,
           "arrowwidth": 1
          },
          "autotypenumbers": "strict",
          "coloraxis": {
           "colorbar": {
            "outlinewidth": 0,
            "ticks": ""
           }
          },
          "colorscale": {
           "diverging": [
            [
             0,
             "#8e0152"
            ],
            [
             0.1,
             "#c51b7d"
            ],
            [
             0.2,
             "#de77ae"
            ],
            [
             0.3,
             "#f1b6da"
            ],
            [
             0.4,
             "#fde0ef"
            ],
            [
             0.5,
             "#f7f7f7"
            ],
            [
             0.6,
             "#e6f5d0"
            ],
            [
             0.7,
             "#b8e186"
            ],
            [
             0.8,
             "#7fbc41"
            ],
            [
             0.9,
             "#4d9221"
            ],
            [
             1,
             "#276419"
            ]
           ],
           "sequential": [
            [
             0,
             "#0d0887"
            ],
            [
             0.1111111111111111,
             "#46039f"
            ],
            [
             0.2222222222222222,
             "#7201a8"
            ],
            [
             0.3333333333333333,
             "#9c179e"
            ],
            [
             0.4444444444444444,
             "#bd3786"
            ],
            [
             0.5555555555555556,
             "#d8576b"
            ],
            [
             0.6666666666666666,
             "#ed7953"
            ],
            [
             0.7777777777777778,
             "#fb9f3a"
            ],
            [
             0.8888888888888888,
             "#fdca26"
            ],
            [
             1,
             "#f0f921"
            ]
           ],
           "sequentialminus": [
            [
             0,
             "#0d0887"
            ],
            [
             0.1111111111111111,
             "#46039f"
            ],
            [
             0.2222222222222222,
             "#7201a8"
            ],
            [
             0.3333333333333333,
             "#9c179e"
            ],
            [
             0.4444444444444444,
             "#bd3786"
            ],
            [
             0.5555555555555556,
             "#d8576b"
            ],
            [
             0.6666666666666666,
             "#ed7953"
            ],
            [
             0.7777777777777778,
             "#fb9f3a"
            ],
            [
             0.8888888888888888,
             "#fdca26"
            ],
            [
             1,
             "#f0f921"
            ]
           ]
          },
          "colorway": [
           "#636efa",
           "#EF553B",
           "#00cc96",
           "#ab63fa",
           "#FFA15A",
           "#19d3f3",
           "#FF6692",
           "#B6E880",
           "#FF97FF",
           "#FECB52"
          ],
          "font": {
           "color": "#2a3f5f"
          },
          "geo": {
           "bgcolor": "white",
           "lakecolor": "white",
           "landcolor": "#E5ECF6",
           "showlakes": true,
           "showland": true,
           "subunitcolor": "white"
          },
          "hoverlabel": {
           "align": "left"
          },
          "hovermode": "closest",
          "mapbox": {
           "style": "light"
          },
          "paper_bgcolor": "white",
          "plot_bgcolor": "#E5ECF6",
          "polar": {
           "angularaxis": {
            "gridcolor": "white",
            "linecolor": "white",
            "ticks": ""
           },
           "bgcolor": "#E5ECF6",
           "radialaxis": {
            "gridcolor": "white",
            "linecolor": "white",
            "ticks": ""
           }
          },
          "scene": {
           "xaxis": {
            "backgroundcolor": "#E5ECF6",
            "gridcolor": "white",
            "gridwidth": 2,
            "linecolor": "white",
            "showbackground": true,
            "ticks": "",
            "zerolinecolor": "white"
           },
           "yaxis": {
            "backgroundcolor": "#E5ECF6",
            "gridcolor": "white",
            "gridwidth": 2,
            "linecolor": "white",
            "showbackground": true,
            "ticks": "",
            "zerolinecolor": "white"
           },
           "zaxis": {
            "backgroundcolor": "#E5ECF6",
            "gridcolor": "white",
            "gridwidth": 2,
            "linecolor": "white",
            "showbackground": true,
            "ticks": "",
            "zerolinecolor": "white"
           }
          },
          "shapedefaults": {
           "line": {
            "color": "#2a3f5f"
           }
          },
          "ternary": {
           "aaxis": {
            "gridcolor": "white",
            "linecolor": "white",
            "ticks": ""
           },
           "baxis": {
            "gridcolor": "white",
            "linecolor": "white",
            "ticks": ""
           },
           "bgcolor": "#E5ECF6",
           "caxis": {
            "gridcolor": "white",
            "linecolor": "white",
            "ticks": ""
           }
          },
          "title": {
           "x": 0.05
          },
          "xaxis": {
           "automargin": true,
           "gridcolor": "white",
           "linecolor": "white",
           "ticks": "",
           "title": {
            "standoff": 15
           },
           "zerolinecolor": "white",
           "zerolinewidth": 2
          },
          "yaxis": {
           "automargin": true,
           "gridcolor": "white",
           "linecolor": "white",
           "ticks": "",
           "title": {
            "standoff": 15
           },
           "zerolinecolor": "white",
           "zerolinewidth": 2
          }
         }
        },
        "title": {
         "text": "Zone Air Heat Balance Surface Convection Rate Month #8"
        },
        "xaxis": {
         "title": {
          "text": "Hours"
         }
        },
        "yaxis": {
         "title": {
          "text": "Power [W]"
         }
        }
       }
      }
     },
     "metadata": {},
     "output_type": "display_data"
    }
   ],
   "source": [
    "month = 8 \n",
    "c.plot_output_by_zone(sim_names[21], 'Zone Total Internal Total Heating Rate', month)\n",
    "c.plot_output_by_zone(sim_names[21], 'Zone Lights Total Heating Rate', month)\n",
    "c.plot_output_by_zone(sim_names[21], 'Zone Electric Equipment Total Heating Rate', month)\n",
    "c.plot_output_by_zone(sim_names[21], 'Zone People Total Heating Rate', month)\n",
    "c.plot_output_by_zone(sim_names[21], \"Zone People Total Heating Energy\", month) # energy ~ 1/1000 * power\n",
    "print(\"building envelope heat gains \")\n",
    "c.plot_output_by_zone(sim_names[21], 'Zone Windows Total Heat Gain Energy', month)\n",
    "c.plot_output_by_zone(sim_names[21], 'Surface Heat Storage Energy', month)\n",
    "c.plot_output_by_zone(sim_names[21], 'Zone Air Heat Balance Surface Convection Rate', month)"
   ]
  },
  {
   "cell_type": "code",
   "execution_count": 22,
   "metadata": {},
   "outputs": [
    {
     "data": {
      "application/vnd.plotly.v1+json": {
       "config": {
        "plotlyServerURL": "https://plot.ly"
       },
       "data": [
        {
         "marker": {
          "size": 23
         },
         "mode": "lines+markers",
         "name": "Zone 1",
         "type": "scatter",
         "x": [
          "00:00",
          "01:00",
          "02:00",
          "03:00",
          "04:00",
          "05:00",
          "06:00",
          "07:00",
          "08:00",
          "09:00",
          "10:00",
          "11:00",
          "12:00",
          "13:00",
          "14:00",
          "15:00",
          "16:00",
          "17:00",
          "18:00",
          "19:00",
          "20:00",
          "21:00",
          "22:00",
          "23:00"
         ],
         "y": [
          0,
          0,
          0,
          0,
          0,
          0,
          0.1501766129032258,
          0.2781048387096774,
          1.3265600806451614,
          1.3265600806451614,
          1.3265600806451614,
          1.3265600806451614,
          0.7508830645161289,
          1.3265600806451614,
          1.2375665322580647,
          1.2375665322580647,
          1.2375665322580647,
          0.8954975806451614,
          0.5117129032258065,
          0.5117129032258065,
          0.12792822580645163,
          0.12792822580645163,
          0.06396411290322582,
          0.06396411290322582
         ]
        },
        {
         "marker": {
          "size": 18
         },
         "mode": "lines+markers",
         "name": "Zone 2",
         "type": "scatter",
         "x": [
          "00:00",
          "01:00",
          "02:00",
          "03:00",
          "04:00",
          "05:00",
          "06:00",
          "07:00",
          "08:00",
          "09:00",
          "10:00",
          "11:00",
          "12:00",
          "13:00",
          "14:00",
          "15:00",
          "16:00",
          "17:00",
          "18:00",
          "19:00",
          "20:00",
          "21:00",
          "22:00",
          "23:00"
         ],
         "y": [
          0,
          0,
          0,
          0,
          0,
          0,
          0.15808064516129022,
          0.2927419354838708,
          1.3963790322580631,
          1.3963790322580631,
          1.3963790322580631,
          1.3963790322580631,
          0.7904032258064508,
          1.3963790322580631,
          1.3027016129032247,
          1.3027016129032247,
          1.3027016129032247,
          0.9426290322580639,
          0.5386451612903222,
          0.5386451612903222,
          0.13466129032258056,
          0.13466129032258056,
          0.06733064516129028,
          0.06733064516129028
         ]
        },
        {
         "marker": {
          "size": 13
         },
         "mode": "lines+markers",
         "name": "Zone 3",
         "type": "scatter",
         "x": [
          "00:00",
          "01:00",
          "02:00",
          "03:00",
          "04:00",
          "05:00",
          "06:00",
          "07:00",
          "08:00",
          "09:00",
          "10:00",
          "11:00",
          "12:00",
          "13:00",
          "14:00",
          "15:00",
          "16:00",
          "17:00",
          "18:00",
          "19:00",
          "20:00",
          "21:00",
          "22:00",
          "23:00"
         ],
         "y": [
          0,
          0,
          0,
          0,
          0,
          0,
          1.5808064516129028,
          2.927419354838709,
          13.963790322580646,
          13.963790322580646,
          13.963790322580646,
          13.963790322580646,
          7.904032258064513,
          13.963790322580646,
          13.02701612903226,
          13.02701612903226,
          13.02701612903226,
          9.426290322580648,
          5.386451612903225,
          5.386451612903225,
          1.3466129032258063,
          1.3466129032258063,
          0.6733064516129031,
          0.6733064516129031
         ]
        },
        {
         "marker": {
          "size": 8
         },
         "mode": "lines+markers",
         "name": "Zone 4",
         "type": "scatter",
         "x": [
          "00:00",
          "01:00",
          "02:00",
          "03:00",
          "04:00",
          "05:00",
          "06:00",
          "07:00",
          "08:00",
          "09:00",
          "10:00",
          "11:00",
          "12:00",
          "13:00",
          "14:00",
          "15:00",
          "16:00",
          "17:00",
          "18:00",
          "19:00",
          "20:00",
          "21:00",
          "22:00",
          "23:00"
         ],
         "y": [
          0,
          0,
          0,
          0,
          0,
          0,
          1.5808064516129017,
          2.927419354838707,
          13.963790322580639,
          13.963790322580639,
          13.963790322580639,
          13.963790322580639,
          7.904032258064508,
          13.963790322580639,
          13.027016129032251,
          13.027016129032251,
          13.027016129032251,
          9.426290322580636,
          5.386451612903221,
          5.386451612903221,
          1.3466129032258052,
          1.3466129032258052,
          0.6733064516129026,
          0.6733064516129026
         ]
        }
       ],
       "layout": {
        "template": {
         "data": {
          "bar": [
           {
            "error_x": {
             "color": "#2a3f5f"
            },
            "error_y": {
             "color": "#2a3f5f"
            },
            "marker": {
             "line": {
              "color": "#E5ECF6",
              "width": 0.5
             },
             "pattern": {
              "fillmode": "overlay",
              "size": 10,
              "solidity": 0.2
             }
            },
            "type": "bar"
           }
          ],
          "barpolar": [
           {
            "marker": {
             "line": {
              "color": "#E5ECF6",
              "width": 0.5
             },
             "pattern": {
              "fillmode": "overlay",
              "size": 10,
              "solidity": 0.2
             }
            },
            "type": "barpolar"
           }
          ],
          "carpet": [
           {
            "aaxis": {
             "endlinecolor": "#2a3f5f",
             "gridcolor": "white",
             "linecolor": "white",
             "minorgridcolor": "white",
             "startlinecolor": "#2a3f5f"
            },
            "baxis": {
             "endlinecolor": "#2a3f5f",
             "gridcolor": "white",
             "linecolor": "white",
             "minorgridcolor": "white",
             "startlinecolor": "#2a3f5f"
            },
            "type": "carpet"
           }
          ],
          "choropleth": [
           {
            "colorbar": {
             "outlinewidth": 0,
             "ticks": ""
            },
            "type": "choropleth"
           }
          ],
          "contour": [
           {
            "colorbar": {
             "outlinewidth": 0,
             "ticks": ""
            },
            "colorscale": [
             [
              0,
              "#0d0887"
             ],
             [
              0.1111111111111111,
              "#46039f"
             ],
             [
              0.2222222222222222,
              "#7201a8"
             ],
             [
              0.3333333333333333,
              "#9c179e"
             ],
             [
              0.4444444444444444,
              "#bd3786"
             ],
             [
              0.5555555555555556,
              "#d8576b"
             ],
             [
              0.6666666666666666,
              "#ed7953"
             ],
             [
              0.7777777777777778,
              "#fb9f3a"
             ],
             [
              0.8888888888888888,
              "#fdca26"
             ],
             [
              1,
              "#f0f921"
             ]
            ],
            "type": "contour"
           }
          ],
          "contourcarpet": [
           {
            "colorbar": {
             "outlinewidth": 0,
             "ticks": ""
            },
            "type": "contourcarpet"
           }
          ],
          "heatmap": [
           {
            "colorbar": {
             "outlinewidth": 0,
             "ticks": ""
            },
            "colorscale": [
             [
              0,
              "#0d0887"
             ],
             [
              0.1111111111111111,
              "#46039f"
             ],
             [
              0.2222222222222222,
              "#7201a8"
             ],
             [
              0.3333333333333333,
              "#9c179e"
             ],
             [
              0.4444444444444444,
              "#bd3786"
             ],
             [
              0.5555555555555556,
              "#d8576b"
             ],
             [
              0.6666666666666666,
              "#ed7953"
             ],
             [
              0.7777777777777778,
              "#fb9f3a"
             ],
             [
              0.8888888888888888,
              "#fdca26"
             ],
             [
              1,
              "#f0f921"
             ]
            ],
            "type": "heatmap"
           }
          ],
          "heatmapgl": [
           {
            "colorbar": {
             "outlinewidth": 0,
             "ticks": ""
            },
            "colorscale": [
             [
              0,
              "#0d0887"
             ],
             [
              0.1111111111111111,
              "#46039f"
             ],
             [
              0.2222222222222222,
              "#7201a8"
             ],
             [
              0.3333333333333333,
              "#9c179e"
             ],
             [
              0.4444444444444444,
              "#bd3786"
             ],
             [
              0.5555555555555556,
              "#d8576b"
             ],
             [
              0.6666666666666666,
              "#ed7953"
             ],
             [
              0.7777777777777778,
              "#fb9f3a"
             ],
             [
              0.8888888888888888,
              "#fdca26"
             ],
             [
              1,
              "#f0f921"
             ]
            ],
            "type": "heatmapgl"
           }
          ],
          "histogram": [
           {
            "marker": {
             "pattern": {
              "fillmode": "overlay",
              "size": 10,
              "solidity": 0.2
             }
            },
            "type": "histogram"
           }
          ],
          "histogram2d": [
           {
            "colorbar": {
             "outlinewidth": 0,
             "ticks": ""
            },
            "colorscale": [
             [
              0,
              "#0d0887"
             ],
             [
              0.1111111111111111,
              "#46039f"
             ],
             [
              0.2222222222222222,
              "#7201a8"
             ],
             [
              0.3333333333333333,
              "#9c179e"
             ],
             [
              0.4444444444444444,
              "#bd3786"
             ],
             [
              0.5555555555555556,
              "#d8576b"
             ],
             [
              0.6666666666666666,
              "#ed7953"
             ],
             [
              0.7777777777777778,
              "#fb9f3a"
             ],
             [
              0.8888888888888888,
              "#fdca26"
             ],
             [
              1,
              "#f0f921"
             ]
            ],
            "type": "histogram2d"
           }
          ],
          "histogram2dcontour": [
           {
            "colorbar": {
             "outlinewidth": 0,
             "ticks": ""
            },
            "colorscale": [
             [
              0,
              "#0d0887"
             ],
             [
              0.1111111111111111,
              "#46039f"
             ],
             [
              0.2222222222222222,
              "#7201a8"
             ],
             [
              0.3333333333333333,
              "#9c179e"
             ],
             [
              0.4444444444444444,
              "#bd3786"
             ],
             [
              0.5555555555555556,
              "#d8576b"
             ],
             [
              0.6666666666666666,
              "#ed7953"
             ],
             [
              0.7777777777777778,
              "#fb9f3a"
             ],
             [
              0.8888888888888888,
              "#fdca26"
             ],
             [
              1,
              "#f0f921"
             ]
            ],
            "type": "histogram2dcontour"
           }
          ],
          "mesh3d": [
           {
            "colorbar": {
             "outlinewidth": 0,
             "ticks": ""
            },
            "type": "mesh3d"
           }
          ],
          "parcoords": [
           {
            "line": {
             "colorbar": {
              "outlinewidth": 0,
              "ticks": ""
             }
            },
            "type": "parcoords"
           }
          ],
          "pie": [
           {
            "automargin": true,
            "type": "pie"
           }
          ],
          "scatter": [
           {
            "marker": {
             "colorbar": {
              "outlinewidth": 0,
              "ticks": ""
             }
            },
            "type": "scatter"
           }
          ],
          "scatter3d": [
           {
            "line": {
             "colorbar": {
              "outlinewidth": 0,
              "ticks": ""
             }
            },
            "marker": {
             "colorbar": {
              "outlinewidth": 0,
              "ticks": ""
             }
            },
            "type": "scatter3d"
           }
          ],
          "scattercarpet": [
           {
            "marker": {
             "colorbar": {
              "outlinewidth": 0,
              "ticks": ""
             }
            },
            "type": "scattercarpet"
           }
          ],
          "scattergeo": [
           {
            "marker": {
             "colorbar": {
              "outlinewidth": 0,
              "ticks": ""
             }
            },
            "type": "scattergeo"
           }
          ],
          "scattergl": [
           {
            "marker": {
             "colorbar": {
              "outlinewidth": 0,
              "ticks": ""
             }
            },
            "type": "scattergl"
           }
          ],
          "scattermapbox": [
           {
            "marker": {
             "colorbar": {
              "outlinewidth": 0,
              "ticks": ""
             }
            },
            "type": "scattermapbox"
           }
          ],
          "scatterpolar": [
           {
            "marker": {
             "colorbar": {
              "outlinewidth": 0,
              "ticks": ""
             }
            },
            "type": "scatterpolar"
           }
          ],
          "scatterpolargl": [
           {
            "marker": {
             "colorbar": {
              "outlinewidth": 0,
              "ticks": ""
             }
            },
            "type": "scatterpolargl"
           }
          ],
          "scatterternary": [
           {
            "marker": {
             "colorbar": {
              "outlinewidth": 0,
              "ticks": ""
             }
            },
            "type": "scatterternary"
           }
          ],
          "surface": [
           {
            "colorbar": {
             "outlinewidth": 0,
             "ticks": ""
            },
            "colorscale": [
             [
              0,
              "#0d0887"
             ],
             [
              0.1111111111111111,
              "#46039f"
             ],
             [
              0.2222222222222222,
              "#7201a8"
             ],
             [
              0.3333333333333333,
              "#9c179e"
             ],
             [
              0.4444444444444444,
              "#bd3786"
             ],
             [
              0.5555555555555556,
              "#d8576b"
             ],
             [
              0.6666666666666666,
              "#ed7953"
             ],
             [
              0.7777777777777778,
              "#fb9f3a"
             ],
             [
              0.8888888888888888,
              "#fdca26"
             ],
             [
              1,
              "#f0f921"
             ]
            ],
            "type": "surface"
           }
          ],
          "table": [
           {
            "cells": {
             "fill": {
              "color": "#EBF0F8"
             },
             "line": {
              "color": "white"
             }
            },
            "header": {
             "fill": {
              "color": "#C8D4E3"
             },
             "line": {
              "color": "white"
             }
            },
            "type": "table"
           }
          ]
         },
         "layout": {
          "annotationdefaults": {
           "arrowcolor": "#2a3f5f",
           "arrowhead": 0,
           "arrowwidth": 1
          },
          "autotypenumbers": "strict",
          "coloraxis": {
           "colorbar": {
            "outlinewidth": 0,
            "ticks": ""
           }
          },
          "colorscale": {
           "diverging": [
            [
             0,
             "#8e0152"
            ],
            [
             0.1,
             "#c51b7d"
            ],
            [
             0.2,
             "#de77ae"
            ],
            [
             0.3,
             "#f1b6da"
            ],
            [
             0.4,
             "#fde0ef"
            ],
            [
             0.5,
             "#f7f7f7"
            ],
            [
             0.6,
             "#e6f5d0"
            ],
            [
             0.7,
             "#b8e186"
            ],
            [
             0.8,
             "#7fbc41"
            ],
            [
             0.9,
             "#4d9221"
            ],
            [
             1,
             "#276419"
            ]
           ],
           "sequential": [
            [
             0,
             "#0d0887"
            ],
            [
             0.1111111111111111,
             "#46039f"
            ],
            [
             0.2222222222222222,
             "#7201a8"
            ],
            [
             0.3333333333333333,
             "#9c179e"
            ],
            [
             0.4444444444444444,
             "#bd3786"
            ],
            [
             0.5555555555555556,
             "#d8576b"
            ],
            [
             0.6666666666666666,
             "#ed7953"
            ],
            [
             0.7777777777777778,
             "#fb9f3a"
            ],
            [
             0.8888888888888888,
             "#fdca26"
            ],
            [
             1,
             "#f0f921"
            ]
           ],
           "sequentialminus": [
            [
             0,
             "#0d0887"
            ],
            [
             0.1111111111111111,
             "#46039f"
            ],
            [
             0.2222222222222222,
             "#7201a8"
            ],
            [
             0.3333333333333333,
             "#9c179e"
            ],
            [
             0.4444444444444444,
             "#bd3786"
            ],
            [
             0.5555555555555556,
             "#d8576b"
            ],
            [
             0.6666666666666666,
             "#ed7953"
            ],
            [
             0.7777777777777778,
             "#fb9f3a"
            ],
            [
             0.8888888888888888,
             "#fdca26"
            ],
            [
             1,
             "#f0f921"
            ]
           ]
          },
          "colorway": [
           "#636efa",
           "#EF553B",
           "#00cc96",
           "#ab63fa",
           "#FFA15A",
           "#19d3f3",
           "#FF6692",
           "#B6E880",
           "#FF97FF",
           "#FECB52"
          ],
          "font": {
           "color": "#2a3f5f"
          },
          "geo": {
           "bgcolor": "white",
           "lakecolor": "white",
           "landcolor": "#E5ECF6",
           "showlakes": true,
           "showland": true,
           "subunitcolor": "white"
          },
          "hoverlabel": {
           "align": "left"
          },
          "hovermode": "closest",
          "mapbox": {
           "style": "light"
          },
          "paper_bgcolor": "white",
          "plot_bgcolor": "#E5ECF6",
          "polar": {
           "angularaxis": {
            "gridcolor": "white",
            "linecolor": "white",
            "ticks": ""
           },
           "bgcolor": "#E5ECF6",
           "radialaxis": {
            "gridcolor": "white",
            "linecolor": "white",
            "ticks": ""
           }
          },
          "scene": {
           "xaxis": {
            "backgroundcolor": "#E5ECF6",
            "gridcolor": "white",
            "gridwidth": 2,
            "linecolor": "white",
            "showbackground": true,
            "ticks": "",
            "zerolinecolor": "white"
           },
           "yaxis": {
            "backgroundcolor": "#E5ECF6",
            "gridcolor": "white",
            "gridwidth": 2,
            "linecolor": "white",
            "showbackground": true,
            "ticks": "",
            "zerolinecolor": "white"
           },
           "zaxis": {
            "backgroundcolor": "#E5ECF6",
            "gridcolor": "white",
            "gridwidth": 2,
            "linecolor": "white",
            "showbackground": true,
            "ticks": "",
            "zerolinecolor": "white"
           }
          },
          "shapedefaults": {
           "line": {
            "color": "#2a3f5f"
           }
          },
          "ternary": {
           "aaxis": {
            "gridcolor": "white",
            "linecolor": "white",
            "ticks": ""
           },
           "baxis": {
            "gridcolor": "white",
            "linecolor": "white",
            "ticks": ""
           },
           "bgcolor": "#E5ECF6",
           "caxis": {
            "gridcolor": "white",
            "linecolor": "white",
            "ticks": ""
           }
          },
          "title": {
           "x": 0.05
          },
          "xaxis": {
           "automargin": true,
           "gridcolor": "white",
           "linecolor": "white",
           "ticks": "",
           "title": {
            "standoff": 15
           },
           "zerolinecolor": "white",
           "zerolinewidth": 2
          },
          "yaxis": {
           "automargin": true,
           "gridcolor": "white",
           "linecolor": "white",
           "ticks": "",
           "title": {
            "standoff": 15
           },
           "zerolinecolor": "white",
           "zerolinewidth": 2
          }
         }
        },
        "title": {
         "text": "Zone People Total Heating Energy Month #1"
        },
        "xaxis": {
         "title": {
          "text": "Hours"
         }
        },
        "yaxis": {
         "title": {
          "text": "Energy [kWh]"
         }
        }
       }
      }
     },
     "metadata": {},
     "output_type": "display_data"
    }
   ],
   "source": [
    "c.plot_output_by_zone(\"eh6\", \"Zone People Total Heating Energy\", 1)"
   ]
  },
  {
   "cell_type": "code",
   "execution_count": 23,
   "metadata": {},
   "outputs": [
    {
     "data": {
      "application/vnd.plotly.v1+json": {
       "config": {
        "plotlyServerURL": "https://plot.ly"
       },
       "data": [
        {
         "marker": {
          "size": 51
         },
         "mode": "lines+markers",
         "name": "Zone 1",
         "type": "scatter",
         "x": [
          "00:00",
          "01:00",
          "02:00",
          "03:00",
          "04:00",
          "05:00",
          "06:00",
          "07:00",
          "08:00",
          "09:00",
          "10:00",
          "11:00",
          "12:00",
          "13:00",
          "14:00",
          "15:00",
          "16:00",
          "17:00",
          "18:00",
          "19:00",
          "20:00",
          "21:00",
          "22:00",
          "23:00"
         ],
         "y": [
          0,
          0,
          0,
          0,
          0,
          0,
          0.021628483366935684,
          0.04005274697580682,
          0.16341520766129183,
          0.16341520766129183,
          0.16341520766129183,
          0.16341520766129183,
          0.10814241683467843,
          0.16341520766129183,
          0.1505983286290337,
          0.1505983286290337,
          0.1505983286290337,
          0.12896984526209795,
          0.07369705443548458,
          0.07369705443548458,
          0.018424263608871144,
          0.018424263608871144,
          0.009212131804435572,
          0.009212131804435572
         ]
        },
        {
         "marker": {
          "size": 46
         },
         "mode": "lines+markers",
         "name": "Zone 2",
         "type": "scatter",
         "x": [
          "00:00",
          "01:00",
          "02:00",
          "03:00",
          "04:00",
          "05:00",
          "06:00",
          "07:00",
          "08:00",
          "09:00",
          "10:00",
          "11:00",
          "12:00",
          "13:00",
          "14:00",
          "15:00",
          "16:00",
          "17:00",
          "18:00",
          "19:00",
          "20:00",
          "21:00",
          "22:00",
          "23:00"
         ],
         "y": [
          0,
          0,
          0,
          0,
          0,
          0,
          0.021628483366935677,
          0.04005274697580681,
          0.16341520766129178,
          0.16341520766129178,
          0.16341520766129178,
          0.16341520766129178,
          0.10814241683467841,
          0.16341520766129178,
          0.15059832862903363,
          0.15059832862903363,
          0.15059832862903363,
          0.12896984526209793,
          0.07369705443548455,
          0.07369705443548455,
          0.018424263608871137,
          0.018424263608871137,
          0.009212131804435569,
          0.009212131804435569
         ]
        },
        {
         "marker": {
          "size": 41
         },
         "mode": "lines+markers",
         "name": "Zone 3",
         "type": "scatter",
         "x": [
          "00:00",
          "01:00",
          "02:00",
          "03:00",
          "04:00",
          "05:00",
          "06:00",
          "07:00",
          "08:00",
          "09:00",
          "10:00",
          "11:00",
          "12:00",
          "13:00",
          "14:00",
          "15:00",
          "16:00",
          "17:00",
          "18:00",
          "19:00",
          "20:00",
          "21:00",
          "22:00",
          "23:00"
         ],
         "y": [
          0,
          0,
          0,
          0,
          0,
          0,
          0.015603836310060779,
          0.02889599316677922,
          0.1178956521204592,
          0.1178956521204592,
          0.1178956521204592,
          0.1178956521204592,
          0.0780191815503039,
          0.1178956521204592,
          0.10864893430708986,
          0.10864893430708986,
          0.10864893430708986,
          0.09304509799702912,
          0.05316862742687376,
          0.05316862742687376,
          0.01329215685671844,
          0.01329215685671844,
          0.00664607842835922,
          0.00664607842835922
         ]
        },
        {
         "marker": {
          "size": 36
         },
         "mode": "lines+markers",
         "name": "Zone 4",
         "type": "scatter",
         "x": [
          "00:00",
          "01:00",
          "02:00",
          "03:00",
          "04:00",
          "05:00",
          "06:00",
          "07:00",
          "08:00",
          "09:00",
          "10:00",
          "11:00",
          "12:00",
          "13:00",
          "14:00",
          "15:00",
          "16:00",
          "17:00",
          "18:00",
          "19:00",
          "20:00",
          "21:00",
          "22:00",
          "23:00"
         ],
         "y": [
          0,
          0,
          0,
          0,
          0,
          0,
          0.015423097037932883,
          0.02856129081098682,
          0.11653006650882622,
          0.11653006650882622,
          0.11653006650882622,
          0.11653006650882622,
          0.07711548518966439,
          0.11653006650882622,
          0.10739045344931045,
          0.10739045344931045,
          0.10739045344931045,
          0.0919673564113775,
          0.052552775092215745,
          0.052552775092215745,
          0.013138193773053936,
          0.013138193773053936,
          0.006569096886526968,
          0.006569096886526968
         ]
        },
        {
         "marker": {
          "size": 31
         },
         "mode": "lines+markers",
         "name": "Zone 5",
         "type": "scatter",
         "x": [
          "00:00",
          "01:00",
          "02:00",
          "03:00",
          "04:00",
          "05:00",
          "06:00",
          "07:00",
          "08:00",
          "09:00",
          "10:00",
          "11:00",
          "12:00",
          "13:00",
          "14:00",
          "15:00",
          "16:00",
          "17:00",
          "18:00",
          "19:00",
          "20:00",
          "21:00",
          "22:00",
          "23:00"
         ],
         "y": [
          0,
          0,
          0,
          0,
          0,
          0,
          0.012230033864642019,
          0.02264821086044818,
          0.09240470031062858,
          0.09240470031062858,
          0.09240470031062858,
          0.09240470031062858,
          0.06115016932321008,
          0.09240470031062858,
          0.08515727283528515,
          0.08515727283528515,
          0.08515727283528515,
          0.0729272389706431,
          0.04167270798322465,
          0.04167270798322465,
          0.010418176995806163,
          0.010418176995806163,
          0.005209088497903081,
          0.005209088497903081
         ]
        },
        {
         "marker": {
          "size": 26
         },
         "mode": "lines+markers",
         "name": "Zone 6",
         "type": "scatter",
         "x": [
          "00:00",
          "01:00",
          "02:00",
          "03:00",
          "04:00",
          "05:00",
          "06:00",
          "07:00",
          "08:00",
          "09:00",
          "10:00",
          "11:00",
          "12:00",
          "13:00",
          "14:00",
          "15:00",
          "16:00",
          "17:00",
          "18:00",
          "19:00",
          "20:00",
          "21:00",
          "22:00",
          "23:00"
         ],
         "y": [
          0,
          0,
          0,
          0,
          0,
          0,
          0.13077580688274193,
          0.2421774201532258,
          0.9880838742251612,
          0.9880838742251612,
          0.9880838742251612,
          0.9880838742251612,
          0.6538790344137091,
          0.9880838742251612,
          0.9105870997761291,
          0.9105870997761291,
          0.9105870997761291,
          0.7798112928933869,
          0.4456064530819355,
          0.4456064530819355,
          0.11140161327048388,
          0.11140161327048388,
          0.05570080663524194,
          0.05570080663524194
         ]
        },
        {
         "marker": {
          "size": 21
         },
         "mode": "lines+markers",
         "name": "Zone 7",
         "type": "scatter",
         "x": [
          "00:00",
          "01:00",
          "02:00",
          "03:00",
          "04:00",
          "05:00",
          "06:00",
          "07:00",
          "08:00",
          "09:00",
          "10:00",
          "11:00",
          "12:00",
          "13:00",
          "14:00",
          "15:00",
          "16:00",
          "17:00",
          "18:00",
          "19:00",
          "20:00",
          "21:00",
          "22:00",
          "23:00"
         ],
         "y": [
          0,
          0,
          0,
          0,
          0,
          0,
          1.3077580688274182,
          2.4217742015322563,
          9.880838742251607,
          9.880838742251607,
          9.880838742251607,
          9.880838742251607,
          6.538790344137093,
          9.880838742251607,
          9.105870997761285,
          9.105870997761285,
          9.105870997761285,
          7.798112928933867,
          4.4560645308193525,
          4.4560645308193525,
          1.1140161327048381,
          1.1140161327048381,
          0.5570080663524191,
          0.5570080663524191
         ]
        },
        {
         "marker": {
          "size": 16
         },
         "mode": "lines+markers",
         "name": "Zone 8",
         "type": "scatter",
         "x": [
          "00:00",
          "01:00",
          "02:00",
          "03:00",
          "04:00",
          "05:00",
          "06:00",
          "07:00",
          "08:00",
          "09:00",
          "10:00",
          "11:00",
          "12:00",
          "13:00",
          "14:00",
          "15:00",
          "16:00",
          "17:00",
          "18:00",
          "19:00",
          "20:00",
          "21:00",
          "22:00",
          "23:00"
         ],
         "y": [
          0,
          0,
          0,
          0,
          0,
          0,
          1.0670117006326127,
          1.9759475937640976,
          8.06186618255752,
          8.06186618255752,
          8.06186618255752,
          8.06186618255752,
          5.335058503163065,
          8.06186618255752,
          7.429562952553008,
          7.429562952553008,
          7.429562952553008,
          6.3625512519203955,
          3.6357435725259397,
          3.6357435725259397,
          0.9089358931314849,
          0.9089358931314849,
          0.45446794656574246,
          0.45446794656574246
         ]
        }
       ],
       "layout": {
        "template": {
         "data": {
          "bar": [
           {
            "error_x": {
             "color": "#2a3f5f"
            },
            "error_y": {
             "color": "#2a3f5f"
            },
            "marker": {
             "line": {
              "color": "#E5ECF6",
              "width": 0.5
             },
             "pattern": {
              "fillmode": "overlay",
              "size": 10,
              "solidity": 0.2
             }
            },
            "type": "bar"
           }
          ],
          "barpolar": [
           {
            "marker": {
             "line": {
              "color": "#E5ECF6",
              "width": 0.5
             },
             "pattern": {
              "fillmode": "overlay",
              "size": 10,
              "solidity": 0.2
             }
            },
            "type": "barpolar"
           }
          ],
          "carpet": [
           {
            "aaxis": {
             "endlinecolor": "#2a3f5f",
             "gridcolor": "white",
             "linecolor": "white",
             "minorgridcolor": "white",
             "startlinecolor": "#2a3f5f"
            },
            "baxis": {
             "endlinecolor": "#2a3f5f",
             "gridcolor": "white",
             "linecolor": "white",
             "minorgridcolor": "white",
             "startlinecolor": "#2a3f5f"
            },
            "type": "carpet"
           }
          ],
          "choropleth": [
           {
            "colorbar": {
             "outlinewidth": 0,
             "ticks": ""
            },
            "type": "choropleth"
           }
          ],
          "contour": [
           {
            "colorbar": {
             "outlinewidth": 0,
             "ticks": ""
            },
            "colorscale": [
             [
              0,
              "#0d0887"
             ],
             [
              0.1111111111111111,
              "#46039f"
             ],
             [
              0.2222222222222222,
              "#7201a8"
             ],
             [
              0.3333333333333333,
              "#9c179e"
             ],
             [
              0.4444444444444444,
              "#bd3786"
             ],
             [
              0.5555555555555556,
              "#d8576b"
             ],
             [
              0.6666666666666666,
              "#ed7953"
             ],
             [
              0.7777777777777778,
              "#fb9f3a"
             ],
             [
              0.8888888888888888,
              "#fdca26"
             ],
             [
              1,
              "#f0f921"
             ]
            ],
            "type": "contour"
           }
          ],
          "contourcarpet": [
           {
            "colorbar": {
             "outlinewidth": 0,
             "ticks": ""
            },
            "type": "contourcarpet"
           }
          ],
          "heatmap": [
           {
            "colorbar": {
             "outlinewidth": 0,
             "ticks": ""
            },
            "colorscale": [
             [
              0,
              "#0d0887"
             ],
             [
              0.1111111111111111,
              "#46039f"
             ],
             [
              0.2222222222222222,
              "#7201a8"
             ],
             [
              0.3333333333333333,
              "#9c179e"
             ],
             [
              0.4444444444444444,
              "#bd3786"
             ],
             [
              0.5555555555555556,
              "#d8576b"
             ],
             [
              0.6666666666666666,
              "#ed7953"
             ],
             [
              0.7777777777777778,
              "#fb9f3a"
             ],
             [
              0.8888888888888888,
              "#fdca26"
             ],
             [
              1,
              "#f0f921"
             ]
            ],
            "type": "heatmap"
           }
          ],
          "heatmapgl": [
           {
            "colorbar": {
             "outlinewidth": 0,
             "ticks": ""
            },
            "colorscale": [
             [
              0,
              "#0d0887"
             ],
             [
              0.1111111111111111,
              "#46039f"
             ],
             [
              0.2222222222222222,
              "#7201a8"
             ],
             [
              0.3333333333333333,
              "#9c179e"
             ],
             [
              0.4444444444444444,
              "#bd3786"
             ],
             [
              0.5555555555555556,
              "#d8576b"
             ],
             [
              0.6666666666666666,
              "#ed7953"
             ],
             [
              0.7777777777777778,
              "#fb9f3a"
             ],
             [
              0.8888888888888888,
              "#fdca26"
             ],
             [
              1,
              "#f0f921"
             ]
            ],
            "type": "heatmapgl"
           }
          ],
          "histogram": [
           {
            "marker": {
             "pattern": {
              "fillmode": "overlay",
              "size": 10,
              "solidity": 0.2
             }
            },
            "type": "histogram"
           }
          ],
          "histogram2d": [
           {
            "colorbar": {
             "outlinewidth": 0,
             "ticks": ""
            },
            "colorscale": [
             [
              0,
              "#0d0887"
             ],
             [
              0.1111111111111111,
              "#46039f"
             ],
             [
              0.2222222222222222,
              "#7201a8"
             ],
             [
              0.3333333333333333,
              "#9c179e"
             ],
             [
              0.4444444444444444,
              "#bd3786"
             ],
             [
              0.5555555555555556,
              "#d8576b"
             ],
             [
              0.6666666666666666,
              "#ed7953"
             ],
             [
              0.7777777777777778,
              "#fb9f3a"
             ],
             [
              0.8888888888888888,
              "#fdca26"
             ],
             [
              1,
              "#f0f921"
             ]
            ],
            "type": "histogram2d"
           }
          ],
          "histogram2dcontour": [
           {
            "colorbar": {
             "outlinewidth": 0,
             "ticks": ""
            },
            "colorscale": [
             [
              0,
              "#0d0887"
             ],
             [
              0.1111111111111111,
              "#46039f"
             ],
             [
              0.2222222222222222,
              "#7201a8"
             ],
             [
              0.3333333333333333,
              "#9c179e"
             ],
             [
              0.4444444444444444,
              "#bd3786"
             ],
             [
              0.5555555555555556,
              "#d8576b"
             ],
             [
              0.6666666666666666,
              "#ed7953"
             ],
             [
              0.7777777777777778,
              "#fb9f3a"
             ],
             [
              0.8888888888888888,
              "#fdca26"
             ],
             [
              1,
              "#f0f921"
             ]
            ],
            "type": "histogram2dcontour"
           }
          ],
          "mesh3d": [
           {
            "colorbar": {
             "outlinewidth": 0,
             "ticks": ""
            },
            "type": "mesh3d"
           }
          ],
          "parcoords": [
           {
            "line": {
             "colorbar": {
              "outlinewidth": 0,
              "ticks": ""
             }
            },
            "type": "parcoords"
           }
          ],
          "pie": [
           {
            "automargin": true,
            "type": "pie"
           }
          ],
          "scatter": [
           {
            "marker": {
             "colorbar": {
              "outlinewidth": 0,
              "ticks": ""
             }
            },
            "type": "scatter"
           }
          ],
          "scatter3d": [
           {
            "line": {
             "colorbar": {
              "outlinewidth": 0,
              "ticks": ""
             }
            },
            "marker": {
             "colorbar": {
              "outlinewidth": 0,
              "ticks": ""
             }
            },
            "type": "scatter3d"
           }
          ],
          "scattercarpet": [
           {
            "marker": {
             "colorbar": {
              "outlinewidth": 0,
              "ticks": ""
             }
            },
            "type": "scattercarpet"
           }
          ],
          "scattergeo": [
           {
            "marker": {
             "colorbar": {
              "outlinewidth": 0,
              "ticks": ""
             }
            },
            "type": "scattergeo"
           }
          ],
          "scattergl": [
           {
            "marker": {
             "colorbar": {
              "outlinewidth": 0,
              "ticks": ""
             }
            },
            "type": "scattergl"
           }
          ],
          "scattermapbox": [
           {
            "marker": {
             "colorbar": {
              "outlinewidth": 0,
              "ticks": ""
             }
            },
            "type": "scattermapbox"
           }
          ],
          "scatterpolar": [
           {
            "marker": {
             "colorbar": {
              "outlinewidth": 0,
              "ticks": ""
             }
            },
            "type": "scatterpolar"
           }
          ],
          "scatterpolargl": [
           {
            "marker": {
             "colorbar": {
              "outlinewidth": 0,
              "ticks": ""
             }
            },
            "type": "scatterpolargl"
           }
          ],
          "scatterternary": [
           {
            "marker": {
             "colorbar": {
              "outlinewidth": 0,
              "ticks": ""
             }
            },
            "type": "scatterternary"
           }
          ],
          "surface": [
           {
            "colorbar": {
             "outlinewidth": 0,
             "ticks": ""
            },
            "colorscale": [
             [
              0,
              "#0d0887"
             ],
             [
              0.1111111111111111,
              "#46039f"
             ],
             [
              0.2222222222222222,
              "#7201a8"
             ],
             [
              0.3333333333333333,
              "#9c179e"
             ],
             [
              0.4444444444444444,
              "#bd3786"
             ],
             [
              0.5555555555555556,
              "#d8576b"
             ],
             [
              0.6666666666666666,
              "#ed7953"
             ],
             [
              0.7777777777777778,
              "#fb9f3a"
             ],
             [
              0.8888888888888888,
              "#fdca26"
             ],
             [
              1,
              "#f0f921"
             ]
            ],
            "type": "surface"
           }
          ],
          "table": [
           {
            "cells": {
             "fill": {
              "color": "#EBF0F8"
             },
             "line": {
              "color": "white"
             }
            },
            "header": {
             "fill": {
              "color": "#C8D4E3"
             },
             "line": {
              "color": "white"
             }
            },
            "type": "table"
           }
          ]
         },
         "layout": {
          "annotationdefaults": {
           "arrowcolor": "#2a3f5f",
           "arrowhead": 0,
           "arrowwidth": 1
          },
          "autotypenumbers": "strict",
          "coloraxis": {
           "colorbar": {
            "outlinewidth": 0,
            "ticks": ""
           }
          },
          "colorscale": {
           "diverging": [
            [
             0,
             "#8e0152"
            ],
            [
             0.1,
             "#c51b7d"
            ],
            [
             0.2,
             "#de77ae"
            ],
            [
             0.3,
             "#f1b6da"
            ],
            [
             0.4,
             "#fde0ef"
            ],
            [
             0.5,
             "#f7f7f7"
            ],
            [
             0.6,
             "#e6f5d0"
            ],
            [
             0.7,
             "#b8e186"
            ],
            [
             0.8,
             "#7fbc41"
            ],
            [
             0.9,
             "#4d9221"
            ],
            [
             1,
             "#276419"
            ]
           ],
           "sequential": [
            [
             0,
             "#0d0887"
            ],
            [
             0.1111111111111111,
             "#46039f"
            ],
            [
             0.2222222222222222,
             "#7201a8"
            ],
            [
             0.3333333333333333,
             "#9c179e"
            ],
            [
             0.4444444444444444,
             "#bd3786"
            ],
            [
             0.5555555555555556,
             "#d8576b"
            ],
            [
             0.6666666666666666,
             "#ed7953"
            ],
            [
             0.7777777777777778,
             "#fb9f3a"
            ],
            [
             0.8888888888888888,
             "#fdca26"
            ],
            [
             1,
             "#f0f921"
            ]
           ],
           "sequentialminus": [
            [
             0,
             "#0d0887"
            ],
            [
             0.1111111111111111,
             "#46039f"
            ],
            [
             0.2222222222222222,
             "#7201a8"
            ],
            [
             0.3333333333333333,
             "#9c179e"
            ],
            [
             0.4444444444444444,
             "#bd3786"
            ],
            [
             0.5555555555555556,
             "#d8576b"
            ],
            [
             0.6666666666666666,
             "#ed7953"
            ],
            [
             0.7777777777777778,
             "#fb9f3a"
            ],
            [
             0.8888888888888888,
             "#fdca26"
            ],
            [
             1,
             "#f0f921"
            ]
           ]
          },
          "colorway": [
           "#636efa",
           "#EF553B",
           "#00cc96",
           "#ab63fa",
           "#FFA15A",
           "#19d3f3",
           "#FF6692",
           "#B6E880",
           "#FF97FF",
           "#FECB52"
          ],
          "font": {
           "color": "#2a3f5f"
          },
          "geo": {
           "bgcolor": "white",
           "lakecolor": "white",
           "landcolor": "#E5ECF6",
           "showlakes": true,
           "showland": true,
           "subunitcolor": "white"
          },
          "hoverlabel": {
           "align": "left"
          },
          "hovermode": "closest",
          "mapbox": {
           "style": "light"
          },
          "paper_bgcolor": "white",
          "plot_bgcolor": "#E5ECF6",
          "polar": {
           "angularaxis": {
            "gridcolor": "white",
            "linecolor": "white",
            "ticks": ""
           },
           "bgcolor": "#E5ECF6",
           "radialaxis": {
            "gridcolor": "white",
            "linecolor": "white",
            "ticks": ""
           }
          },
          "scene": {
           "xaxis": {
            "backgroundcolor": "#E5ECF6",
            "gridcolor": "white",
            "gridwidth": 2,
            "linecolor": "white",
            "showbackground": true,
            "ticks": "",
            "zerolinecolor": "white"
           },
           "yaxis": {
            "backgroundcolor": "#E5ECF6",
            "gridcolor": "white",
            "gridwidth": 2,
            "linecolor": "white",
            "showbackground": true,
            "ticks": "",
            "zerolinecolor": "white"
           },
           "zaxis": {
            "backgroundcolor": "#E5ECF6",
            "gridcolor": "white",
            "gridwidth": 2,
            "linecolor": "white",
            "showbackground": true,
            "ticks": "",
            "zerolinecolor": "white"
           }
          },
          "shapedefaults": {
           "line": {
            "color": "#2a3f5f"
           }
          },
          "ternary": {
           "aaxis": {
            "gridcolor": "white",
            "linecolor": "white",
            "ticks": ""
           },
           "baxis": {
            "gridcolor": "white",
            "linecolor": "white",
            "ticks": ""
           },
           "bgcolor": "#E5ECF6",
           "caxis": {
            "gridcolor": "white",
            "linecolor": "white",
            "ticks": ""
           }
          },
          "title": {
           "x": 0.05
          },
          "xaxis": {
           "automargin": true,
           "gridcolor": "white",
           "linecolor": "white",
           "ticks": "",
           "title": {
            "standoff": 15
           },
           "zerolinecolor": "white",
           "zerolinewidth": 2
          },
          "yaxis": {
           "automargin": true,
           "gridcolor": "white",
           "linecolor": "white",
           "ticks": "",
           "title": {
            "standoff": 15
           },
           "zerolinecolor": "white",
           "zerolinewidth": 2
          }
         }
        },
        "title": {
         "text": "Zone People Total Heating Energy Month #1"
        },
        "xaxis": {
         "title": {
          "text": "Hours"
         }
        },
        "yaxis": {
         "title": {
          "text": "Energy [kWh]"
         }
        }
       }
      }
     },
     "metadata": {},
     "output_type": "display_data"
    }
   ],
   "source": [
    "c.plot_output_by_zone(\"eh8\", \"Zone People Total Heating Energy\", 1)"
   ]
  },
  {
   "cell_type": "code",
   "execution_count": 24,
   "metadata": {},
   "outputs": [
    {
     "data": {
      "application/vnd.plotly.v1+json": {
       "config": {
        "plotlyServerURL": "https://plot.ly"
       },
       "data": [
        {
         "mode": "lines+markers",
         "name": "Heating Space 101",
         "type": "scatter",
         "x": [
          "00:15:00",
          "00:30:00",
          "00:45:00",
          "01:00:00",
          "01:15:00",
          "01:30:00",
          "01:45:00",
          "02:00:00",
          "02:15:00",
          "02:30:00",
          "02:45:00",
          "03:00:00",
          "03:15:00",
          "03:30:00",
          "03:45:00",
          "04:00:00",
          "04:15:00",
          "04:30:00",
          "04:45:00",
          "05:00:00",
          "05:15:00",
          "05:30:00",
          "05:45:00",
          "06:00:00",
          "06:15:00",
          "06:30:00",
          "06:45:00",
          "07:00:00",
          "07:15:00",
          "07:30:00",
          "07:45:00",
          "08:00:00",
          "08:15:00",
          "08:30:00",
          "08:45:00",
          "09:00:00",
          "09:15:00",
          "09:30:00",
          "09:45:00",
          "10:00:00",
          "10:15:00",
          "10:30:00",
          "10:45:00",
          "11:00:00",
          "11:15:00",
          "11:30:00",
          "11:45:00",
          "12:00:00",
          "12:15:00",
          "12:30:00",
          "12:45:00",
          "13:00:00",
          "13:15:00",
          "13:30:00",
          "13:45:00",
          "14:00:00",
          "14:15:00",
          "14:30:00",
          "14:45:00",
          "15:00:00",
          "15:15:00",
          "15:30:00",
          "15:45:00",
          "16:00:00",
          "16:15:00",
          "16:30:00",
          "16:45:00",
          "17:00:00",
          "17:15:00",
          "17:30:00",
          "17:45:00",
          "18:00:00",
          "18:15:00",
          "18:30:00",
          "18:45:00",
          "19:00:00",
          "19:15:00",
          "19:30:00",
          "19:45:00",
          "20:00:00",
          "20:15:00",
          "20:30:00",
          "20:45:00",
          "21:00:00",
          "21:15:00",
          "21:30:00",
          "21:45:00",
          "22:00:00",
          "22:15:00",
          "22:30:00",
          "22:45:00",
          "23:00:00",
          "23:15:00",
          "23:30:00",
          "23:45:00",
          "24:00:00",
          "Peak",
          "Peak Vol Flow (m3/s)"
         ],
         "xaxis": "x",
         "y": [
          0.1908914,
          0.1908922,
          0.1908929,
          0.1908935,
          0.1908947,
          0.1908959,
          0.1908969,
          0.1908979,
          0.1908988,
          0.1908997,
          0.1909005,
          0.1909013,
          0.190902,
          0.1909027,
          0.1909034,
          0.190904,
          0.1909046,
          0.1909052,
          0.1909057,
          0.1909063,
          0.1909068,
          0.1909072,
          0.1909077,
          0.1909081,
          0.1795525,
          0.1681942,
          0.1568335,
          0.1454709,
          0.1454625,
          0.1454552,
          0.1454486,
          0.1454425,
          0.1454369,
          0.1454316,
          0.1454266,
          0.145422,
          0.1454177,
          0.1454137,
          0.14541,
          0.1454066,
          0.1454034,
          0.1454004,
          0.1453977,
          0.1453951,
          0.1453928,
          0.1453906,
          0.1453886,
          0.1453867,
          0.1453849,
          0.1453833,
          0.1453818,
          0.1453804,
          0.1453791,
          0.1453779,
          0.1453767,
          0.1453756,
          0.1453746,
          0.1453737,
          0.1453728,
          0.145372,
          0.1453712,
          0.1453704,
          0.1453697,
          0.1453691,
          0.1453684,
          0.1453678,
          0.1453673,
          0.1453667,
          0.1453662,
          0.1453658,
          0.1453653,
          0.1453649,
          0.1567223,
          0.1680805,
          0.1794406,
          0.1908027,
          0.1908091,
          0.1908167,
          0.1908244,
          0.1908317,
          0.1908386,
          0.1908448,
          0.1908505,
          0.1908557,
          0.1908604,
          0.1908646,
          0.1908685,
          0.190872,
          0.1908751,
          0.190878,
          0.1908806,
          0.190883,
          0.1908851,
          0.1908871,
          0.1908889,
          0.1908905,
          0.1909081,
          0.1585585
         ],
         "yaxis": "y"
        },
        {
         "mode": "lines+markers",
         "name": "Heating Space 103",
         "type": "scatter",
         "x": [
          "00:15:00",
          "00:30:00",
          "00:45:00",
          "01:00:00",
          "01:15:00",
          "01:30:00",
          "01:45:00",
          "02:00:00",
          "02:15:00",
          "02:30:00",
          "02:45:00",
          "03:00:00",
          "03:15:00",
          "03:30:00",
          "03:45:00",
          "04:00:00",
          "04:15:00",
          "04:30:00",
          "04:45:00",
          "05:00:00",
          "05:15:00",
          "05:30:00",
          "05:45:00",
          "06:00:00",
          "06:15:00",
          "06:30:00",
          "06:45:00",
          "07:00:00",
          "07:15:00",
          "07:30:00",
          "07:45:00",
          "08:00:00",
          "08:15:00",
          "08:30:00",
          "08:45:00",
          "09:00:00",
          "09:15:00",
          "09:30:00",
          "09:45:00",
          "10:00:00",
          "10:15:00",
          "10:30:00",
          "10:45:00",
          "11:00:00",
          "11:15:00",
          "11:30:00",
          "11:45:00",
          "12:00:00",
          "12:15:00",
          "12:30:00",
          "12:45:00",
          "13:00:00",
          "13:15:00",
          "13:30:00",
          "13:45:00",
          "14:00:00",
          "14:15:00",
          "14:30:00",
          "14:45:00",
          "15:00:00",
          "15:15:00",
          "15:30:00",
          "15:45:00",
          "16:00:00",
          "16:15:00",
          "16:30:00",
          "16:45:00",
          "17:00:00",
          "17:15:00",
          "17:30:00",
          "17:45:00",
          "18:00:00",
          "18:15:00",
          "18:30:00",
          "18:45:00",
          "19:00:00",
          "19:15:00",
          "19:30:00",
          "19:45:00",
          "20:00:00",
          "20:15:00",
          "20:30:00",
          "20:45:00",
          "21:00:00",
          "21:15:00",
          "21:30:00",
          "21:45:00",
          "22:00:00",
          "22:15:00",
          "22:30:00",
          "22:45:00",
          "23:00:00",
          "23:15:00",
          "23:30:00",
          "23:45:00",
          "24:00:00",
          "Peak",
          "Peak Vol Flow (m3/s)"
         ],
         "xaxis": "x",
         "y": [
          0.1908504,
          0.1908512,
          0.1908519,
          0.1908525,
          0.1908537,
          0.1908548,
          0.1908559,
          0.1908569,
          0.1908578,
          0.1908586,
          0.1908595,
          0.1908602,
          0.190861,
          0.1908617,
          0.1908623,
          0.190863,
          0.1908636,
          0.1908642,
          0.1908647,
          0.1908652,
          0.1908657,
          0.1908662,
          0.1908667,
          0.1908671,
          0.1795115,
          0.1681531,
          0.1567925,
          0.1454298,
          0.1454215,
          0.1454142,
          0.1454076,
          0.1454015,
          0.1453958,
          0.1453905,
          0.1453856,
          0.145381,
          0.1453767,
          0.1453727,
          0.145369,
          0.1453655,
          0.1453623,
          0.1453594,
          0.1453566,
          0.1453541,
          0.1453518,
          0.1453496,
          0.1453475,
          0.1453457,
          0.1453439,
          0.1453423,
          0.1453408,
          0.1453394,
          0.1453381,
          0.1453368,
          0.1453357,
          0.1453346,
          0.1453336,
          0.1453327,
          0.1453318,
          0.1453309,
          0.1453302,
          0.1453294,
          0.1453287,
          0.1453281,
          0.1453274,
          0.1453268,
          0.1453263,
          0.1453257,
          0.1453252,
          0.1453247,
          0.1453243,
          0.1453238,
          0.1566812,
          0.1680395,
          0.1793996,
          0.1907617,
          0.1907681,
          0.1907757,
          0.1907834,
          0.1907907,
          0.1907975,
          0.1908038,
          0.1908095,
          0.1908147,
          0.1908194,
          0.1908236,
          0.1908275,
          0.190831,
          0.1908341,
          0.190837,
          0.1908396,
          0.1908419,
          0.1908441,
          0.1908461,
          0.1908479,
          0.1908495,
          0.1908671,
          0.1585245
         ],
         "yaxis": "y"
        },
        {
         "mode": "lines+markers",
         "name": "Heating Space 201",
         "type": "scatter",
         "x": [
          "00:15:00",
          "00:30:00",
          "00:45:00",
          "01:00:00",
          "01:15:00",
          "01:30:00",
          "01:45:00",
          "02:00:00",
          "02:15:00",
          "02:30:00",
          "02:45:00",
          "03:00:00",
          "03:15:00",
          "03:30:00",
          "03:45:00",
          "04:00:00",
          "04:15:00",
          "04:30:00",
          "04:45:00",
          "05:00:00",
          "05:15:00",
          "05:30:00",
          "05:45:00",
          "06:00:00",
          "06:15:00",
          "06:30:00",
          "06:45:00",
          "07:00:00",
          "07:15:00",
          "07:30:00",
          "07:45:00",
          "08:00:00",
          "08:15:00",
          "08:30:00",
          "08:45:00",
          "09:00:00",
          "09:15:00",
          "09:30:00",
          "09:45:00",
          "10:00:00",
          "10:15:00",
          "10:30:00",
          "10:45:00",
          "11:00:00",
          "11:15:00",
          "11:30:00",
          "11:45:00",
          "12:00:00",
          "12:15:00",
          "12:30:00",
          "12:45:00",
          "13:00:00",
          "13:15:00",
          "13:30:00",
          "13:45:00",
          "14:00:00",
          "14:15:00",
          "14:30:00",
          "14:45:00",
          "15:00:00",
          "15:15:00",
          "15:30:00",
          "15:45:00",
          "16:00:00",
          "16:15:00",
          "16:30:00",
          "16:45:00",
          "17:00:00",
          "17:15:00",
          "17:30:00",
          "17:45:00",
          "18:00:00",
          "18:15:00",
          "18:30:00",
          "18:45:00",
          "19:00:00",
          "19:15:00",
          "19:30:00",
          "19:45:00",
          "20:00:00",
          "20:15:00",
          "20:30:00",
          "20:45:00",
          "21:00:00",
          "21:15:00",
          "21:30:00",
          "21:45:00",
          "22:00:00",
          "22:15:00",
          "22:30:00",
          "22:45:00",
          "23:00:00",
          "23:15:00",
          "23:30:00",
          "23:45:00",
          "24:00:00",
          "Peak",
          "Peak Vol Flow (m3/s)"
         ],
         "xaxis": "x",
         "y": [
          0.4476496,
          0.4476509,
          0.447652,
          0.4476531,
          0.4476561,
          0.447659,
          0.4476618,
          0.4476645,
          0.447667,
          0.4476695,
          0.4476718,
          0.4476741,
          0.4476762,
          0.4476783,
          0.4476803,
          0.4476822,
          0.4476841,
          0.4476858,
          0.4476875,
          0.4476892,
          0.4476908,
          0.4476923,
          0.4476938,
          0.4476952,
          0.4157804,
          0.383858,
          0.3519286,
          0.3199928,
          0.3199673,
          0.319944,
          0.3199228,
          0.3199036,
          0.3198863,
          0.3198708,
          0.3198568,
          0.3198443,
          0.319833,
          0.3198229,
          0.3198138,
          0.3198056,
          0.3197982,
          0.3197914,
          0.3197853,
          0.3197796,
          0.3197745,
          0.3197697,
          0.3197653,
          0.3197612,
          0.3197574,
          0.3197538,
          0.3197505,
          0.3197474,
          0.3197444,
          0.3197416,
          0.3197389,
          0.3197364,
          0.319734,
          0.3197317,
          0.3197295,
          0.3197274,
          0.3197254,
          0.3197235,
          0.3197216,
          0.3197199,
          0.3197182,
          0.3197165,
          0.319715,
          0.3197135,
          0.319712,
          0.3197106,
          0.3197093,
          0.319708,
          0.3516326,
          0.3835595,
          0.4154912,
          0.4474288,
          0.4474468,
          0.4474683,
          0.4474903,
          0.4475109,
          0.4475293,
          0.4475456,
          0.4475598,
          0.4475721,
          0.447583,
          0.4475925,
          0.4476009,
          0.4476084,
          0.4476151,
          0.4476212,
          0.4476266,
          0.4476317,
          0.4476363,
          0.4476406,
          0.4476445,
          0.4476482,
          0.4476952,
          0.3718327
         ],
         "yaxis": "y"
        },
        {
         "mode": "lines+markers",
         "name": "Heating Space 203",
         "type": "scatter",
         "x": [
          "00:15:00",
          "00:30:00",
          "00:45:00",
          "01:00:00",
          "01:15:00",
          "01:30:00",
          "01:45:00",
          "02:00:00",
          "02:15:00",
          "02:30:00",
          "02:45:00",
          "03:00:00",
          "03:15:00",
          "03:30:00",
          "03:45:00",
          "04:00:00",
          "04:15:00",
          "04:30:00",
          "04:45:00",
          "05:00:00",
          "05:15:00",
          "05:30:00",
          "05:45:00",
          "06:00:00",
          "06:15:00",
          "06:30:00",
          "06:45:00",
          "07:00:00",
          "07:15:00",
          "07:30:00",
          "07:45:00",
          "08:00:00",
          "08:15:00",
          "08:30:00",
          "08:45:00",
          "09:00:00",
          "09:15:00",
          "09:30:00",
          "09:45:00",
          "10:00:00",
          "10:15:00",
          "10:30:00",
          "10:45:00",
          "11:00:00",
          "11:15:00",
          "11:30:00",
          "11:45:00",
          "12:00:00",
          "12:15:00",
          "12:30:00",
          "12:45:00",
          "13:00:00",
          "13:15:00",
          "13:30:00",
          "13:45:00",
          "14:00:00",
          "14:15:00",
          "14:30:00",
          "14:45:00",
          "15:00:00",
          "15:15:00",
          "15:30:00",
          "15:45:00",
          "16:00:00",
          "16:15:00",
          "16:30:00",
          "16:45:00",
          "17:00:00",
          "17:15:00",
          "17:30:00",
          "17:45:00",
          "18:00:00",
          "18:15:00",
          "18:30:00",
          "18:45:00",
          "19:00:00",
          "19:15:00",
          "19:30:00",
          "19:45:00",
          "20:00:00",
          "20:15:00",
          "20:30:00",
          "20:45:00",
          "21:00:00",
          "21:15:00",
          "21:30:00",
          "21:45:00",
          "22:00:00",
          "22:15:00",
          "22:30:00",
          "22:45:00",
          "23:00:00",
          "23:15:00",
          "23:30:00",
          "23:45:00",
          "24:00:00",
          "Peak",
          "Peak Vol Flow (m3/s)"
         ],
         "xaxis": "x",
         "y": [
          0.4476166,
          0.4476179,
          0.447619,
          0.4476201,
          0.4476231,
          0.447626,
          0.4476288,
          0.4476315,
          0.447634,
          0.4476365,
          0.4476388,
          0.4476411,
          0.4476432,
          0.4476453,
          0.4476473,
          0.4476492,
          0.447651,
          0.4476528,
          0.4476545,
          0.4476562,
          0.4476578,
          0.4476593,
          0.4476608,
          0.4476622,
          0.4157474,
          0.383825,
          0.3518956,
          0.3199598,
          0.3199343,
          0.319911,
          0.3198898,
          0.3198706,
          0.3198533,
          0.3198377,
          0.3198238,
          0.3198113,
          0.3198,
          0.3197899,
          0.3197808,
          0.3197726,
          0.3197652,
          0.3197584,
          0.3197523,
          0.3197466,
          0.3197415,
          0.3197367,
          0.3197323,
          0.3197282,
          0.3197244,
          0.3197208,
          0.3197175,
          0.3197144,
          0.3197114,
          0.3197086,
          0.3197059,
          0.3197034,
          0.319701,
          0.3196987,
          0.3196965,
          0.3196944,
          0.3196924,
          0.3196905,
          0.3196886,
          0.3196869,
          0.3196852,
          0.3196835,
          0.319682,
          0.3196805,
          0.319679,
          0.3196776,
          0.3196763,
          0.319675,
          0.3515996,
          0.3835265,
          0.4154582,
          0.4473958,
          0.4474138,
          0.4474353,
          0.4474573,
          0.4474779,
          0.4474963,
          0.4475126,
          0.4475268,
          0.4475391,
          0.44755,
          0.4475595,
          0.4475679,
          0.4475754,
          0.4475821,
          0.4475881,
          0.4475936,
          0.4475987,
          0.4476033,
          0.4476076,
          0.4476115,
          0.4476152,
          0.4476622,
          0.3718053
         ],
         "yaxis": "y"
        },
        {
         "mode": "lines+markers",
         "name": "Heating Space 101",
         "type": "scatter",
         "x": [
          "00:15:00",
          "00:30:00",
          "00:45:00",
          "01:00:00",
          "01:15:00",
          "01:30:00",
          "01:45:00",
          "02:00:00",
          "02:15:00",
          "02:30:00",
          "02:45:00",
          "03:00:00",
          "03:15:00",
          "03:30:00",
          "03:45:00",
          "04:00:00",
          "04:15:00",
          "04:30:00",
          "04:45:00",
          "05:00:00",
          "05:15:00",
          "05:30:00",
          "05:45:00",
          "06:00:00",
          "06:15:00",
          "06:30:00",
          "06:45:00",
          "07:00:00",
          "07:15:00",
          "07:30:00",
          "07:45:00",
          "08:00:00",
          "08:15:00",
          "08:30:00",
          "08:45:00",
          "09:00:00",
          "09:15:00",
          "09:30:00",
          "09:45:00",
          "10:00:00",
          "10:15:00",
          "10:30:00",
          "10:45:00",
          "11:00:00",
          "11:15:00",
          "11:30:00",
          "11:45:00",
          "12:00:00",
          "12:15:00",
          "12:30:00",
          "12:45:00",
          "13:00:00",
          "13:15:00",
          "13:30:00",
          "13:45:00",
          "14:00:00",
          "14:15:00",
          "14:30:00",
          "14:45:00",
          "15:00:00",
          "15:15:00",
          "15:30:00",
          "15:45:00",
          "16:00:00",
          "16:15:00",
          "16:30:00",
          "16:45:00",
          "17:00:00",
          "17:15:00",
          "17:30:00",
          "17:45:00",
          "18:00:00",
          "18:15:00",
          "18:30:00",
          "18:45:00",
          "19:00:00",
          "19:15:00",
          "19:30:00",
          "19:45:00",
          "20:00:00",
          "20:15:00",
          "20:30:00",
          "20:45:00",
          "21:00:00",
          "21:15:00",
          "21:30:00",
          "21:45:00",
          "22:00:00",
          "22:15:00",
          "22:30:00",
          "22:45:00",
          "23:00:00",
          "23:15:00",
          "23:30:00",
          "23:45:00",
          "24:00:00",
          "Peak",
          "Peak Vol Flow (m3/s)"
         ],
         "xaxis": "x2",
         "y": [
          3699.06,
          3699.076,
          3699.09,
          3699.103,
          3699.126,
          3699.148,
          3699.169,
          3699.188,
          3699.206,
          3699.223,
          3699.239,
          3699.254,
          3699.268,
          3699.282,
          3699.295,
          3699.307,
          3699.319,
          3699.33,
          3699.34,
          3699.351,
          3699.36,
          3699.37,
          3699.379,
          3699.387,
          3479.34,
          3259.214,
          3039.034,
          2818.81,
          2818.601,
          2818.434,
          2818.284,
          2818.148,
          2818.022,
          2817.905,
          2817.797,
          2817.697,
          2817.604,
          2817.519,
          2817.44,
          2817.367,
          2817.3,
          2817.239,
          2817.182,
          2817.129,
          2817.08,
          2817.035,
          2816.994,
          2816.956,
          2816.92,
          2816.887,
          2816.857,
          2816.828,
          2816.802,
          2816.777,
          2816.754,
          2816.733,
          2816.713,
          2816.694,
          2816.677,
          2816.66,
          2816.644,
          2816.63,
          2816.616,
          2816.603,
          2816.591,
          2816.579,
          2816.568,
          2816.557,
          2816.547,
          2816.538,
          2816.529,
          2816.52,
          3036.576,
          3256.662,
          3476.8,
          3696.995,
          3697.179,
          3697.382,
          3697.578,
          3697.757,
          3697.919,
          3698.064,
          3698.194,
          3698.309,
          3698.412,
          3698.505,
          3698.587,
          3698.661,
          3698.727,
          3698.787,
          3698.84,
          3698.889,
          3698.933,
          3698.972,
          3699.009,
          3699.042,
          3699.387,
          null
         ],
         "yaxis": "y2"
        },
        {
         "mode": "lines+markers",
         "name": "Heating Space 103",
         "type": "scatter",
         "x": [
          "00:15:00",
          "00:30:00",
          "00:45:00",
          "01:00:00",
          "01:15:00",
          "01:30:00",
          "01:45:00",
          "02:00:00",
          "02:15:00",
          "02:30:00",
          "02:45:00",
          "03:00:00",
          "03:15:00",
          "03:30:00",
          "03:45:00",
          "04:00:00",
          "04:15:00",
          "04:30:00",
          "04:45:00",
          "05:00:00",
          "05:15:00",
          "05:30:00",
          "05:45:00",
          "06:00:00",
          "06:15:00",
          "06:30:00",
          "06:45:00",
          "07:00:00",
          "07:15:00",
          "07:30:00",
          "07:45:00",
          "08:00:00",
          "08:15:00",
          "08:30:00",
          "08:45:00",
          "09:00:00",
          "09:15:00",
          "09:30:00",
          "09:45:00",
          "10:00:00",
          "10:15:00",
          "10:30:00",
          "10:45:00",
          "11:00:00",
          "11:15:00",
          "11:30:00",
          "11:45:00",
          "12:00:00",
          "12:15:00",
          "12:30:00",
          "12:45:00",
          "13:00:00",
          "13:15:00",
          "13:30:00",
          "13:45:00",
          "14:00:00",
          "14:15:00",
          "14:30:00",
          "14:45:00",
          "15:00:00",
          "15:15:00",
          "15:30:00",
          "15:45:00",
          "16:00:00",
          "16:15:00",
          "16:30:00",
          "16:45:00",
          "17:00:00",
          "17:15:00",
          "17:30:00",
          "17:45:00",
          "18:00:00",
          "18:15:00",
          "18:30:00",
          "18:45:00",
          "19:00:00",
          "19:15:00",
          "19:30:00",
          "19:45:00",
          "20:00:00",
          "20:15:00",
          "20:30:00",
          "20:45:00",
          "21:00:00",
          "21:15:00",
          "21:30:00",
          "21:45:00",
          "22:00:00",
          "22:15:00",
          "22:30:00",
          "22:45:00",
          "23:00:00",
          "23:15:00",
          "23:30:00",
          "23:45:00",
          "24:00:00",
          "Peak",
          "Peak Vol Flow (m3/s)"
         ],
         "xaxis": "x2",
         "y": [
          3698.265,
          3698.281,
          3698.295,
          3698.308,
          3698.331,
          3698.353,
          3698.374,
          3698.393,
          3698.411,
          3698.428,
          3698.444,
          3698.459,
          3698.473,
          3698.487,
          3698.5,
          3698.512,
          3698.524,
          3698.535,
          3698.546,
          3698.556,
          3698.566,
          3698.575,
          3698.584,
          3698.592,
          3478.545,
          3258.419,
          3038.239,
          2818.015,
          2817.806,
          2817.639,
          2817.49,
          2817.353,
          2817.227,
          2817.11,
          2817.002,
          2816.902,
          2816.81,
          2816.724,
          2816.645,
          2816.573,
          2816.506,
          2816.444,
          2816.387,
          2816.334,
          2816.286,
          2816.241,
          2816.199,
          2816.161,
          2816.125,
          2816.092,
          2816.062,
          2816.033,
          2816.007,
          2815.982,
          2815.96,
          2815.938,
          2815.918,
          2815.899,
          2815.882,
          2815.865,
          2815.85,
          2815.835,
          2815.821,
          2815.808,
          2815.796,
          2815.784,
          2815.773,
          2815.763,
          2815.753,
          2815.743,
          2815.734,
          2815.726,
          3035.781,
          3255.867,
          3476.005,
          3696.2,
          3696.384,
          3696.588,
          3696.783,
          3696.962,
          3697.124,
          3697.269,
          3697.399,
          3697.514,
          3697.618,
          3697.71,
          3697.792,
          3697.866,
          3697.932,
          3697.992,
          3698.046,
          3698.094,
          3698.138,
          3698.177,
          3698.214,
          3698.247,
          3698.592,
          null
         ],
         "yaxis": "y2"
        },
        {
         "mode": "lines+markers",
         "name": "Heating Space 201",
         "type": "scatter",
         "x": [
          "00:15:00",
          "00:30:00",
          "00:45:00",
          "01:00:00",
          "01:15:00",
          "01:30:00",
          "01:45:00",
          "02:00:00",
          "02:15:00",
          "02:30:00",
          "02:45:00",
          "03:00:00",
          "03:15:00",
          "03:30:00",
          "03:45:00",
          "04:00:00",
          "04:15:00",
          "04:30:00",
          "04:45:00",
          "05:00:00",
          "05:15:00",
          "05:30:00",
          "05:45:00",
          "06:00:00",
          "06:15:00",
          "06:30:00",
          "06:45:00",
          "07:00:00",
          "07:15:00",
          "07:30:00",
          "07:45:00",
          "08:00:00",
          "08:15:00",
          "08:30:00",
          "08:45:00",
          "09:00:00",
          "09:15:00",
          "09:30:00",
          "09:45:00",
          "10:00:00",
          "10:15:00",
          "10:30:00",
          "10:45:00",
          "11:00:00",
          "11:15:00",
          "11:30:00",
          "11:45:00",
          "12:00:00",
          "12:15:00",
          "12:30:00",
          "12:45:00",
          "13:00:00",
          "13:15:00",
          "13:30:00",
          "13:45:00",
          "14:00:00",
          "14:15:00",
          "14:30:00",
          "14:45:00",
          "15:00:00",
          "15:15:00",
          "15:30:00",
          "15:45:00",
          "16:00:00",
          "16:15:00",
          "16:30:00",
          "16:45:00",
          "17:00:00",
          "17:15:00",
          "17:30:00",
          "17:45:00",
          "18:00:00",
          "18:15:00",
          "18:30:00",
          "18:45:00",
          "19:00:00",
          "19:15:00",
          "19:30:00",
          "19:45:00",
          "20:00:00",
          "20:15:00",
          "20:30:00",
          "20:45:00",
          "21:00:00",
          "21:15:00",
          "21:30:00",
          "21:45:00",
          "22:00:00",
          "22:15:00",
          "22:30:00",
          "22:45:00",
          "23:00:00",
          "23:15:00",
          "23:30:00",
          "23:45:00",
          "24:00:00",
          "Peak",
          "Peak Vol Flow (m3/s)"
         ],
         "xaxis": "x2",
         "y": [
          8675.887,
          8675.911,
          8675.933,
          8675.954,
          8676.013,
          8676.07,
          8676.124,
          8676.175,
          8676.224,
          8676.272,
          8676.317,
          8676.361,
          8676.403,
          8676.443,
          8676.481,
          8676.519,
          8676.554,
          8676.589,
          8676.622,
          8676.654,
          8676.685,
          8676.715,
          8676.743,
          8676.771,
          8058.231,
          7439.42,
          6820.421,
          6201.261,
          6200.525,
          6199.933,
          6199.414,
          6198.957,
          6198.555,
          6198.199,
          6197.886,
          6197.609,
          6197.364,
          6197.147,
          6196.953,
          6196.78,
          6196.625,
          6196.486,
          6196.36,
          6196.245,
          6196.141,
          6196.045,
          6195.957,
          6195.876,
          6195.8,
          6195.73,
          6195.664,
          6195.602,
          6195.544,
          6195.489,
          6195.437,
          6195.388,
          6195.341,
          6195.296,
          6195.253,
          6195.213,
          6195.174,
          6195.136,
          6195.101,
          6195.066,
          6195.033,
          6195.002,
          6194.971,
          6194.942,
          6194.914,
          6194.886,
          6194.86,
          6194.835,
          6813.424,
          7432.129,
          8051.053,
          8670.188,
          8670.894,
          8671.641,
          8672.302,
          8672.861,
          8673.327,
          8673.715,
          8674.04,
          8674.314,
          8674.547,
          8674.747,
          8674.921,
          8675.073,
          8675.208,
          8675.328,
          8675.437,
          8675.536,
          8675.627,
          8675.71,
          8675.788,
          8675.86,
          8676.771,
          null
         ],
         "yaxis": "y2"
        },
        {
         "mode": "lines+markers",
         "name": "Heating Space 203",
         "type": "scatter",
         "x": [
          "00:15:00",
          "00:30:00",
          "00:45:00",
          "01:00:00",
          "01:15:00",
          "01:30:00",
          "01:45:00",
          "02:00:00",
          "02:15:00",
          "02:30:00",
          "02:45:00",
          "03:00:00",
          "03:15:00",
          "03:30:00",
          "03:45:00",
          "04:00:00",
          "04:15:00",
          "04:30:00",
          "04:45:00",
          "05:00:00",
          "05:15:00",
          "05:30:00",
          "05:45:00",
          "06:00:00",
          "06:15:00",
          "06:30:00",
          "06:45:00",
          "07:00:00",
          "07:15:00",
          "07:30:00",
          "07:45:00",
          "08:00:00",
          "08:15:00",
          "08:30:00",
          "08:45:00",
          "09:00:00",
          "09:15:00",
          "09:30:00",
          "09:45:00",
          "10:00:00",
          "10:15:00",
          "10:30:00",
          "10:45:00",
          "11:00:00",
          "11:15:00",
          "11:30:00",
          "11:45:00",
          "12:00:00",
          "12:15:00",
          "12:30:00",
          "12:45:00",
          "13:00:00",
          "13:15:00",
          "13:30:00",
          "13:45:00",
          "14:00:00",
          "14:15:00",
          "14:30:00",
          "14:45:00",
          "15:00:00",
          "15:15:00",
          "15:30:00",
          "15:45:00",
          "16:00:00",
          "16:15:00",
          "16:30:00",
          "16:45:00",
          "17:00:00",
          "17:15:00",
          "17:30:00",
          "17:45:00",
          "18:00:00",
          "18:15:00",
          "18:30:00",
          "18:45:00",
          "19:00:00",
          "19:15:00",
          "19:30:00",
          "19:45:00",
          "20:00:00",
          "20:15:00",
          "20:30:00",
          "20:45:00",
          "21:00:00",
          "21:15:00",
          "21:30:00",
          "21:45:00",
          "22:00:00",
          "22:15:00",
          "22:30:00",
          "22:45:00",
          "23:00:00",
          "23:15:00",
          "23:30:00",
          "23:45:00",
          "24:00:00",
          "Peak",
          "Peak Vol Flow (m3/s)"
         ],
         "xaxis": "x2",
         "y": [
          8675.247,
          8675.271,
          8675.294,
          8675.314,
          8675.373,
          8675.43,
          8675.484,
          8675.535,
          8675.585,
          8675.632,
          8675.678,
          8675.721,
          8675.763,
          8675.803,
          8675.842,
          8675.879,
          8675.915,
          8675.949,
          8675.983,
          8676.015,
          8676.045,
          8676.075,
          8676.104,
          8676.131,
          8057.591,
          7438.78,
          6819.782,
          6200.622,
          6199.886,
          6199.293,
          6198.775,
          6198.318,
          6197.915,
          6197.56,
          6197.246,
          6196.969,
          6196.724,
          6196.507,
          6196.314,
          6196.141,
          6195.986,
          6195.846,
          6195.72,
          6195.606,
          6195.501,
          6195.406,
          6195.318,
          6195.236,
          6195.161,
          6195.09,
          6195.024,
          6194.963,
          6194.904,
          6194.849,
          6194.797,
          6194.748,
          6194.701,
          6194.657,
          6194.614,
          6194.573,
          6194.534,
          6194.497,
          6194.461,
          6194.427,
          6194.394,
          6194.362,
          6194.332,
          6194.302,
          6194.274,
          6194.247,
          6194.221,
          6194.196,
          6812.785,
          7431.49,
          8050.413,
          8669.548,
          8670.255,
          8671.002,
          8671.663,
          8672.221,
          8672.687,
          8673.076,
          8673.401,
          8673.674,
          8673.907,
          8674.107,
          8674.281,
          8674.433,
          8674.568,
          8674.689,
          8674.798,
          8674.896,
          8674.987,
          8675.07,
          8675.148,
          8675.22,
          8676.131,
          null
         ],
         "yaxis": "y2"
        },
        {
         "mode": "lines+markers",
         "name": "Cooling Space 101",
         "type": "scatter",
         "x": [
          "00:15:00",
          "00:30:00",
          "00:45:00",
          "01:00:00",
          "01:15:00",
          "01:30:00",
          "01:45:00",
          "02:00:00",
          "02:15:00",
          "02:30:00",
          "02:45:00",
          "03:00:00",
          "03:15:00",
          "03:30:00",
          "03:45:00",
          "04:00:00",
          "04:15:00",
          "04:30:00",
          "04:45:00",
          "05:00:00",
          "05:15:00",
          "05:30:00",
          "05:45:00",
          "06:00:00",
          "06:15:00",
          "06:30:00",
          "06:45:00",
          "07:00:00",
          "07:15:00",
          "07:30:00",
          "07:45:00",
          "08:00:00",
          "08:15:00",
          "08:30:00",
          "08:45:00",
          "09:00:00",
          "09:15:00",
          "09:30:00",
          "09:45:00",
          "10:00:00",
          "10:15:00",
          "10:30:00",
          "10:45:00",
          "11:00:00",
          "11:15:00",
          "11:30:00",
          "11:45:00",
          "12:00:00",
          "12:15:00",
          "12:30:00",
          "12:45:00",
          "13:00:00",
          "13:15:00",
          "13:30:00",
          "13:45:00",
          "14:00:00",
          "14:15:00",
          "14:30:00",
          "14:45:00",
          "15:00:00",
          "15:15:00",
          "15:30:00",
          "15:45:00",
          "16:00:00",
          "16:15:00",
          "16:30:00",
          "16:45:00",
          "17:00:00",
          "17:15:00",
          "17:30:00",
          "17:45:00",
          "18:00:00",
          "18:15:00",
          "18:30:00",
          "18:45:00",
          "19:00:00",
          "19:15:00",
          "19:30:00",
          "19:45:00",
          "20:00:00",
          "20:15:00",
          "20:30:00",
          "20:45:00",
          "21:00:00",
          "21:15:00",
          "21:30:00",
          "21:45:00",
          "22:00:00",
          "22:15:00",
          "22:30:00",
          "22:45:00",
          "23:00:00",
          "23:15:00",
          "23:30:00",
          "23:45:00",
          "24:00:00",
          "Peak",
          "Peak Vol Flow (m3/s)"
         ],
         "xaxis": "x3",
         "y": [
          221.3481,
          157.6861,
          88.63092,
          15.47193,
          19.53649,
          24.53398,
          28.89399,
          32.5918,
          35.53325,
          37.87253,
          39.74698,
          41.21933,
          42.17333,
          42.71112,
          42.90173,
          42.8493,
          42.80504,
          42.77497,
          42.77746,
          42.83266,
          43.67204,
          45.31652,
          47.79219,
          51.13352,
          3382.295,
          6235.426,
          9056.459,
          11863.71,
          11335.75,
          11280.22,
          11252.18,
          11233.87,
          11219.46,
          11207.68,
          11198.01,
          11190.32,
          11184.3,
          11179.85,
          11176.92,
          11175.34,
          11174.95,
          11175.6,
          11177.09,
          11179.36,
          11182.16,
          11185.42,
          11189.07,
          11192.98,
          11197.26,
          11201.77,
          11206.44,
          11211.21,
          11215.97,
          11220.66,
          11225.25,
          11229.71,
          11233.82,
          11237.59,
          11241,
          11244.03,
          11246.67,
          11248.85,
          11250.54,
          11251.68,
          11252.47,
          11252.86,
          11252.83,
          11252.34,
          11251.4,
          11249.98,
          11248.08,
          11245.68,
          11242.61,
          11238.89,
          11234.5,
          11229.46,
          11224.26,
          11218.88,
          11213.32,
          11207.59,
          11201.58,
          11195.34,
          11188.91,
          11182.34,
          11175.54,
          11168.57,
          11161.45,
          11154.22,
          8362.94,
          5573.463,
          2785.81,
          38.14054,
          95.20028,
          161.7518,
          235.1026,
          275.6226,
          11863.71,
          null
         ],
         "yaxis": "y3"
        },
        {
         "mode": "lines+markers",
         "name": "Cooling Space 103",
         "type": "scatter",
         "x": [
          "00:15:00",
          "00:30:00",
          "00:45:00",
          "01:00:00",
          "01:15:00",
          "01:30:00",
          "01:45:00",
          "02:00:00",
          "02:15:00",
          "02:30:00",
          "02:45:00",
          "03:00:00",
          "03:15:00",
          "03:30:00",
          "03:45:00",
          "04:00:00",
          "04:15:00",
          "04:30:00",
          "04:45:00",
          "05:00:00",
          "05:15:00",
          "05:30:00",
          "05:45:00",
          "06:00:00",
          "06:15:00",
          "06:30:00",
          "06:45:00",
          "07:00:00",
          "07:15:00",
          "07:30:00",
          "07:45:00",
          "08:00:00",
          "08:15:00",
          "08:30:00",
          "08:45:00",
          "09:00:00",
          "09:15:00",
          "09:30:00",
          "09:45:00",
          "10:00:00",
          "10:15:00",
          "10:30:00",
          "10:45:00",
          "11:00:00",
          "11:15:00",
          "11:30:00",
          "11:45:00",
          "12:00:00",
          "12:15:00",
          "12:30:00",
          "12:45:00",
          "13:00:00",
          "13:15:00",
          "13:30:00",
          "13:45:00",
          "14:00:00",
          "14:15:00",
          "14:30:00",
          "14:45:00",
          "15:00:00",
          "15:15:00",
          "15:30:00",
          "15:45:00",
          "16:00:00",
          "16:15:00",
          "16:30:00",
          "16:45:00",
          "17:00:00",
          "17:15:00",
          "17:30:00",
          "17:45:00",
          "18:00:00",
          "18:15:00",
          "18:30:00",
          "18:45:00",
          "19:00:00",
          "19:15:00",
          "19:30:00",
          "19:45:00",
          "20:00:00",
          "20:15:00",
          "20:30:00",
          "20:45:00",
          "21:00:00",
          "21:15:00",
          "21:30:00",
          "21:45:00",
          "22:00:00",
          "22:15:00",
          "22:30:00",
          "22:45:00",
          "23:00:00",
          "23:15:00",
          "23:30:00",
          "23:45:00",
          "24:00:00",
          "Peak",
          "Peak Vol Flow (m3/s)"
         ],
         "xaxis": "x3",
         "y": [
          220.7228,
          157.0979,
          88.07837,
          14.95502,
          19.05674,
          24.09142,
          28.48847,
          32.22304,
          35.20083,
          37.57591,
          39.48552,
          40.99183,
          41.97872,
          42.5485,
          42.77023,
          42.74855,
          42.73447,
          42.73385,
          42.765,
          42.84807,
          43.71455,
          45.38534,
          47.88654,
          51.25264,
          3382.43,
          6235.543,
          9056.564,
          11863.81,
          11335.85,
          11280.34,
          11252.31,
          11234.01,
          11219.61,
          11207.82,
          11198.15,
          11190.45,
          11184.42,
          11179.95,
          11177.01,
          11175.41,
          11175,
          11175.63,
          11177.11,
          11179.36,
          11182.14,
          11185.38,
          11189.01,
          11192.91,
          11197.17,
          11201.66,
          11206.32,
          11211.07,
          11215.81,
          11220.48,
          11225.06,
          11229.5,
          11233.6,
          11237.35,
          11240.75,
          11243.77,
          11246.4,
          11248.57,
          11250.25,
          11251.38,
          11252.15,
          11252.54,
          11252.49,
          11252,
          11251.05,
          11249.62,
          11247.71,
          11245.3,
          11242.23,
          11238.5,
          11234.11,
          11229.06,
          11223.85,
          11218.47,
          11212.9,
          11207.16,
          11201.15,
          11194.9,
          11188.47,
          11181.89,
          11175.08,
          11168.11,
          11160.98,
          11153.74,
          8362.585,
          5573.225,
          2785.69,
          37.89772,
          94.7628,
          161.1433,
          234.3339,
          274.9457,
          11863.81,
          null
         ],
         "yaxis": "y3"
        },
        {
         "mode": "lines+markers",
         "name": "Cooling Space 201",
         "type": "scatter",
         "x": [
          "00:15:00",
          "00:30:00",
          "00:45:00",
          "01:00:00",
          "01:15:00",
          "01:30:00",
          "01:45:00",
          "02:00:00",
          "02:15:00",
          "02:30:00",
          "02:45:00",
          "03:00:00",
          "03:15:00",
          "03:30:00",
          "03:45:00",
          "04:00:00",
          "04:15:00",
          "04:30:00",
          "04:45:00",
          "05:00:00",
          "05:15:00",
          "05:30:00",
          "05:45:00",
          "06:00:00",
          "06:15:00",
          "06:30:00",
          "06:45:00",
          "07:00:00",
          "07:15:00",
          "07:30:00",
          "07:45:00",
          "08:00:00",
          "08:15:00",
          "08:30:00",
          "08:45:00",
          "09:00:00",
          "09:15:00",
          "09:30:00",
          "09:45:00",
          "10:00:00",
          "10:15:00",
          "10:30:00",
          "10:45:00",
          "11:00:00",
          "11:15:00",
          "11:30:00",
          "11:45:00",
          "12:00:00",
          "12:15:00",
          "12:30:00",
          "12:45:00",
          "13:00:00",
          "13:15:00",
          "13:30:00",
          "13:45:00",
          "14:00:00",
          "14:15:00",
          "14:30:00",
          "14:45:00",
          "15:00:00",
          "15:15:00",
          "15:30:00",
          "15:45:00",
          "16:00:00",
          "16:15:00",
          "16:30:00",
          "16:45:00",
          "17:00:00",
          "17:15:00",
          "17:30:00",
          "17:45:00",
          "18:00:00",
          "18:15:00",
          "18:30:00",
          "18:45:00",
          "19:00:00",
          "19:15:00",
          "19:30:00",
          "19:45:00",
          "20:00:00",
          "20:15:00",
          "20:30:00",
          "20:45:00",
          "21:00:00",
          "21:15:00",
          "21:30:00",
          "21:45:00",
          "22:00:00",
          "22:15:00",
          "22:30:00",
          "22:45:00",
          "23:00:00",
          "23:15:00",
          "23:30:00",
          "23:45:00",
          "24:00:00",
          "Peak",
          "Peak Vol Flow (m3/s)"
         ],
         "xaxis": "x3",
         "y": [
          8175.382,
          8185.302,
          8189.282,
          8188.803,
          8194.041,
          8197.714,
          8200.331,
          8202.336,
          8203.235,
          8203.308,
          8202.795,
          8201.858,
          8199.803,
          8196.762,
          8192.844,
          8188.179,
          8183.739,
          8179.547,
          8175.686,
          8172.228,
          8171.7,
          8174.487,
          8180.745,
          8190.45,
          10243.25,
          11143.58,
          11999.12,
          12826.34,
          11592.49,
          11497.39,
          11436.49,
          11395.75,
          11367.62,
          11349.26,
          11338.85,
          11335.26,
          11336.19,
          11340.9,
          11348.8,
          11359.42,
          11372.36,
          11387.3,
          11404.04,
          11422.37,
          11440.94,
          11459.5,
          11477.73,
          11495.38,
          11513.36,
          11531.54,
          11549.84,
          11568.18,
          11586.05,
          11603.36,
          11620,
          11635.86,
          11649.99,
          11662.23,
          11672.48,
          11680.63,
          11686.28,
          11689.29,
          11689.5,
          11686.76,
          11682.49,
          11676.68,
          11669.29,
          11660.3,
          11649.61,
          11637.22,
          11623.12,
          11607.28,
          11588.72,
          11567.28,
          11542.82,
          11515.29,
          11487.83,
          11460.76,
          11434.26,
          11408.47,
          11382.87,
          11357.44,
          11332.23,
          11307.31,
          11281.95,
          11256.19,
          11230.05,
          11203.55,
          9467.353,
          8601.067,
          7788.443,
          7008.062,
          7959.933,
          8059.089,
          8118.453,
          8157.141,
          12826.34,
          null
         ],
         "yaxis": "y3"
        },
        {
         "mode": "lines+markers",
         "name": "Cooling Space 203",
         "type": "scatter",
         "x": [
          "00:15:00",
          "00:30:00",
          "00:45:00",
          "01:00:00",
          "01:15:00",
          "01:30:00",
          "01:45:00",
          "02:00:00",
          "02:15:00",
          "02:30:00",
          "02:45:00",
          "03:00:00",
          "03:15:00",
          "03:30:00",
          "03:45:00",
          "04:00:00",
          "04:15:00",
          "04:30:00",
          "04:45:00",
          "05:00:00",
          "05:15:00",
          "05:30:00",
          "05:45:00",
          "06:00:00",
          "06:15:00",
          "06:30:00",
          "06:45:00",
          "07:00:00",
          "07:15:00",
          "07:30:00",
          "07:45:00",
          "08:00:00",
          "08:15:00",
          "08:30:00",
          "08:45:00",
          "09:00:00",
          "09:15:00",
          "09:30:00",
          "09:45:00",
          "10:00:00",
          "10:15:00",
          "10:30:00",
          "10:45:00",
          "11:00:00",
          "11:15:00",
          "11:30:00",
          "11:45:00",
          "12:00:00",
          "12:15:00",
          "12:30:00",
          "12:45:00",
          "13:00:00",
          "13:15:00",
          "13:30:00",
          "13:45:00",
          "14:00:00",
          "14:15:00",
          "14:30:00",
          "14:45:00",
          "15:00:00",
          "15:15:00",
          "15:30:00",
          "15:45:00",
          "16:00:00",
          "16:15:00",
          "16:30:00",
          "16:45:00",
          "17:00:00",
          "17:15:00",
          "17:30:00",
          "17:45:00",
          "18:00:00",
          "18:15:00",
          "18:30:00",
          "18:45:00",
          "19:00:00",
          "19:15:00",
          "19:30:00",
          "19:45:00",
          "20:00:00",
          "20:15:00",
          "20:30:00",
          "20:45:00",
          "21:00:00",
          "21:15:00",
          "21:30:00",
          "21:45:00",
          "22:00:00",
          "22:15:00",
          "22:30:00",
          "22:45:00",
          "23:00:00",
          "23:15:00",
          "23:30:00",
          "23:45:00",
          "24:00:00",
          "Peak",
          "Peak Vol Flow (m3/s)"
         ],
         "xaxis": "x3",
         "y": [
          4085.709,
          4096.33,
          4100.986,
          4101.156,
          4106.641,
          4110.53,
          4113.345,
          4115.534,
          4116.603,
          4116.833,
          4116.467,
          4115.666,
          4113.737,
          4110.814,
          4107.006,
          4102.446,
          4098.106,
          4094.009,
          4090.237,
          4086.867,
          4086.422,
          4089.288,
          4095.624,
          4105.403,
          6137.324,
          7027.935,
          7873.642,
          8690.932,
          7467.997,
          7372.555,
          7311.324,
          7270.289,
          7241.899,
          7223.298,
          7212.686,
          7208.913,
          7209.672,
          7214.23,
          7221.994,
          7232.48,
          7245.297,
          7260.116,
          7276.743,
          7294.966,
          7313.435,
          7331.892,
          7350.023,
          7367.581,
          7385.461,
          7403.556,
          7421.772,
          7440.026,
          7457.822,
          7475.052,
          7491.611,
          7507.402,
          7521.462,
          7533.642,
          7543.831,
          7551.916,
          7557.511,
          7560.47,
          7560.631,
          7557.848,
          7553.537,
          7547.683,
          7540.257,
          7531.229,
          7520.517,
          7508.099,
          7493.967,
          7478.104,
          7459.532,
          7438.068,
          7413.603,
          7386.062,
          7358.598,
          7331.524,
          7305.025,
          7279.234,
          7253.629,
          7228.208,
          7203.005,
          7178.082,
          7152.734,
          7126.983,
          7100.853,
          7074.365,
          5466.523,
          4609.177,
          3805.808,
          3034.856,
          3867.93,
          3967.806,
          4027.66,
          4066.742,
          8690.932,
          null
         ],
         "yaxis": "y3"
        }
       ],
       "layout": {
        "annotations": [
         {
          "font": {
           "size": 16
          },
          "showarrow": false,
          "text": "Heat Mass Flow [kg/s]",
          "x": 0.14444444444444446,
          "xanchor": "center",
          "xref": "paper",
          "y": 1,
          "yanchor": "bottom",
          "yref": "paper"
         },
         {
          "font": {
           "size": 16
          },
          "showarrow": false,
          "text": "Heat Load [W]",
          "x": 0.5,
          "xanchor": "center",
          "xref": "paper",
          "y": 1,
          "yanchor": "bottom",
          "yref": "paper"
         },
         {
          "font": {
           "size": 16
          },
          "showarrow": false,
          "text": "Cool Load [W]",
          "x": 0.8555555555555556,
          "xanchor": "center",
          "xref": "paper",
          "y": 1,
          "yanchor": "bottom",
          "yref": "paper"
         }
        ],
        "template": {
         "data": {
          "bar": [
           {
            "error_x": {
             "color": "#2a3f5f"
            },
            "error_y": {
             "color": "#2a3f5f"
            },
            "marker": {
             "line": {
              "color": "#E5ECF6",
              "width": 0.5
             },
             "pattern": {
              "fillmode": "overlay",
              "size": 10,
              "solidity": 0.2
             }
            },
            "type": "bar"
           }
          ],
          "barpolar": [
           {
            "marker": {
             "line": {
              "color": "#E5ECF6",
              "width": 0.5
             },
             "pattern": {
              "fillmode": "overlay",
              "size": 10,
              "solidity": 0.2
             }
            },
            "type": "barpolar"
           }
          ],
          "carpet": [
           {
            "aaxis": {
             "endlinecolor": "#2a3f5f",
             "gridcolor": "white",
             "linecolor": "white",
             "minorgridcolor": "white",
             "startlinecolor": "#2a3f5f"
            },
            "baxis": {
             "endlinecolor": "#2a3f5f",
             "gridcolor": "white",
             "linecolor": "white",
             "minorgridcolor": "white",
             "startlinecolor": "#2a3f5f"
            },
            "type": "carpet"
           }
          ],
          "choropleth": [
           {
            "colorbar": {
             "outlinewidth": 0,
             "ticks": ""
            },
            "type": "choropleth"
           }
          ],
          "contour": [
           {
            "colorbar": {
             "outlinewidth": 0,
             "ticks": ""
            },
            "colorscale": [
             [
              0,
              "#0d0887"
             ],
             [
              0.1111111111111111,
              "#46039f"
             ],
             [
              0.2222222222222222,
              "#7201a8"
             ],
             [
              0.3333333333333333,
              "#9c179e"
             ],
             [
              0.4444444444444444,
              "#bd3786"
             ],
             [
              0.5555555555555556,
              "#d8576b"
             ],
             [
              0.6666666666666666,
              "#ed7953"
             ],
             [
              0.7777777777777778,
              "#fb9f3a"
             ],
             [
              0.8888888888888888,
              "#fdca26"
             ],
             [
              1,
              "#f0f921"
             ]
            ],
            "type": "contour"
           }
          ],
          "contourcarpet": [
           {
            "colorbar": {
             "outlinewidth": 0,
             "ticks": ""
            },
            "type": "contourcarpet"
           }
          ],
          "heatmap": [
           {
            "colorbar": {
             "outlinewidth": 0,
             "ticks": ""
            },
            "colorscale": [
             [
              0,
              "#0d0887"
             ],
             [
              0.1111111111111111,
              "#46039f"
             ],
             [
              0.2222222222222222,
              "#7201a8"
             ],
             [
              0.3333333333333333,
              "#9c179e"
             ],
             [
              0.4444444444444444,
              "#bd3786"
             ],
             [
              0.5555555555555556,
              "#d8576b"
             ],
             [
              0.6666666666666666,
              "#ed7953"
             ],
             [
              0.7777777777777778,
              "#fb9f3a"
             ],
             [
              0.8888888888888888,
              "#fdca26"
             ],
             [
              1,
              "#f0f921"
             ]
            ],
            "type": "heatmap"
           }
          ],
          "heatmapgl": [
           {
            "colorbar": {
             "outlinewidth": 0,
             "ticks": ""
            },
            "colorscale": [
             [
              0,
              "#0d0887"
             ],
             [
              0.1111111111111111,
              "#46039f"
             ],
             [
              0.2222222222222222,
              "#7201a8"
             ],
             [
              0.3333333333333333,
              "#9c179e"
             ],
             [
              0.4444444444444444,
              "#bd3786"
             ],
             [
              0.5555555555555556,
              "#d8576b"
             ],
             [
              0.6666666666666666,
              "#ed7953"
             ],
             [
              0.7777777777777778,
              "#fb9f3a"
             ],
             [
              0.8888888888888888,
              "#fdca26"
             ],
             [
              1,
              "#f0f921"
             ]
            ],
            "type": "heatmapgl"
           }
          ],
          "histogram": [
           {
            "marker": {
             "pattern": {
              "fillmode": "overlay",
              "size": 10,
              "solidity": 0.2
             }
            },
            "type": "histogram"
           }
          ],
          "histogram2d": [
           {
            "colorbar": {
             "outlinewidth": 0,
             "ticks": ""
            },
            "colorscale": [
             [
              0,
              "#0d0887"
             ],
             [
              0.1111111111111111,
              "#46039f"
             ],
             [
              0.2222222222222222,
              "#7201a8"
             ],
             [
              0.3333333333333333,
              "#9c179e"
             ],
             [
              0.4444444444444444,
              "#bd3786"
             ],
             [
              0.5555555555555556,
              "#d8576b"
             ],
             [
              0.6666666666666666,
              "#ed7953"
             ],
             [
              0.7777777777777778,
              "#fb9f3a"
             ],
             [
              0.8888888888888888,
              "#fdca26"
             ],
             [
              1,
              "#f0f921"
             ]
            ],
            "type": "histogram2d"
           }
          ],
          "histogram2dcontour": [
           {
            "colorbar": {
             "outlinewidth": 0,
             "ticks": ""
            },
            "colorscale": [
             [
              0,
              "#0d0887"
             ],
             [
              0.1111111111111111,
              "#46039f"
             ],
             [
              0.2222222222222222,
              "#7201a8"
             ],
             [
              0.3333333333333333,
              "#9c179e"
             ],
             [
              0.4444444444444444,
              "#bd3786"
             ],
             [
              0.5555555555555556,
              "#d8576b"
             ],
             [
              0.6666666666666666,
              "#ed7953"
             ],
             [
              0.7777777777777778,
              "#fb9f3a"
             ],
             [
              0.8888888888888888,
              "#fdca26"
             ],
             [
              1,
              "#f0f921"
             ]
            ],
            "type": "histogram2dcontour"
           }
          ],
          "mesh3d": [
           {
            "colorbar": {
             "outlinewidth": 0,
             "ticks": ""
            },
            "type": "mesh3d"
           }
          ],
          "parcoords": [
           {
            "line": {
             "colorbar": {
              "outlinewidth": 0,
              "ticks": ""
             }
            },
            "type": "parcoords"
           }
          ],
          "pie": [
           {
            "automargin": true,
            "type": "pie"
           }
          ],
          "scatter": [
           {
            "marker": {
             "colorbar": {
              "outlinewidth": 0,
              "ticks": ""
             }
            },
            "type": "scatter"
           }
          ],
          "scatter3d": [
           {
            "line": {
             "colorbar": {
              "outlinewidth": 0,
              "ticks": ""
             }
            },
            "marker": {
             "colorbar": {
              "outlinewidth": 0,
              "ticks": ""
             }
            },
            "type": "scatter3d"
           }
          ],
          "scattercarpet": [
           {
            "marker": {
             "colorbar": {
              "outlinewidth": 0,
              "ticks": ""
             }
            },
            "type": "scattercarpet"
           }
          ],
          "scattergeo": [
           {
            "marker": {
             "colorbar": {
              "outlinewidth": 0,
              "ticks": ""
             }
            },
            "type": "scattergeo"
           }
          ],
          "scattergl": [
           {
            "marker": {
             "colorbar": {
              "outlinewidth": 0,
              "ticks": ""
             }
            },
            "type": "scattergl"
           }
          ],
          "scattermapbox": [
           {
            "marker": {
             "colorbar": {
              "outlinewidth": 0,
              "ticks": ""
             }
            },
            "type": "scattermapbox"
           }
          ],
          "scatterpolar": [
           {
            "marker": {
             "colorbar": {
              "outlinewidth": 0,
              "ticks": ""
             }
            },
            "type": "scatterpolar"
           }
          ],
          "scatterpolargl": [
           {
            "marker": {
             "colorbar": {
              "outlinewidth": 0,
              "ticks": ""
             }
            },
            "type": "scatterpolargl"
           }
          ],
          "scatterternary": [
           {
            "marker": {
             "colorbar": {
              "outlinewidth": 0,
              "ticks": ""
             }
            },
            "type": "scatterternary"
           }
          ],
          "surface": [
           {
            "colorbar": {
             "outlinewidth": 0,
             "ticks": ""
            },
            "colorscale": [
             [
              0,
              "#0d0887"
             ],
             [
              0.1111111111111111,
              "#46039f"
             ],
             [
              0.2222222222222222,
              "#7201a8"
             ],
             [
              0.3333333333333333,
              "#9c179e"
             ],
             [
              0.4444444444444444,
              "#bd3786"
             ],
             [
              0.5555555555555556,
              "#d8576b"
             ],
             [
              0.6666666666666666,
              "#ed7953"
             ],
             [
              0.7777777777777778,
              "#fb9f3a"
             ],
             [
              0.8888888888888888,
              "#fdca26"
             ],
             [
              1,
              "#f0f921"
             ]
            ],
            "type": "surface"
           }
          ],
          "table": [
           {
            "cells": {
             "fill": {
              "color": "#EBF0F8"
             },
             "line": {
              "color": "white"
             }
            },
            "header": {
             "fill": {
              "color": "#C8D4E3"
             },
             "line": {
              "color": "white"
             }
            },
            "type": "table"
           }
          ]
         },
         "layout": {
          "annotationdefaults": {
           "arrowcolor": "#2a3f5f",
           "arrowhead": 0,
           "arrowwidth": 1
          },
          "autotypenumbers": "strict",
          "coloraxis": {
           "colorbar": {
            "outlinewidth": 0,
            "ticks": ""
           }
          },
          "colorscale": {
           "diverging": [
            [
             0,
             "#8e0152"
            ],
            [
             0.1,
             "#c51b7d"
            ],
            [
             0.2,
             "#de77ae"
            ],
            [
             0.3,
             "#f1b6da"
            ],
            [
             0.4,
             "#fde0ef"
            ],
            [
             0.5,
             "#f7f7f7"
            ],
            [
             0.6,
             "#e6f5d0"
            ],
            [
             0.7,
             "#b8e186"
            ],
            [
             0.8,
             "#7fbc41"
            ],
            [
             0.9,
             "#4d9221"
            ],
            [
             1,
             "#276419"
            ]
           ],
           "sequential": [
            [
             0,
             "#0d0887"
            ],
            [
             0.1111111111111111,
             "#46039f"
            ],
            [
             0.2222222222222222,
             "#7201a8"
            ],
            [
             0.3333333333333333,
             "#9c179e"
            ],
            [
             0.4444444444444444,
             "#bd3786"
            ],
            [
             0.5555555555555556,
             "#d8576b"
            ],
            [
             0.6666666666666666,
             "#ed7953"
            ],
            [
             0.7777777777777778,
             "#fb9f3a"
            ],
            [
             0.8888888888888888,
             "#fdca26"
            ],
            [
             1,
             "#f0f921"
            ]
           ],
           "sequentialminus": [
            [
             0,
             "#0d0887"
            ],
            [
             0.1111111111111111,
             "#46039f"
            ],
            [
             0.2222222222222222,
             "#7201a8"
            ],
            [
             0.3333333333333333,
             "#9c179e"
            ],
            [
             0.4444444444444444,
             "#bd3786"
            ],
            [
             0.5555555555555556,
             "#d8576b"
            ],
            [
             0.6666666666666666,
             "#ed7953"
            ],
            [
             0.7777777777777778,
             "#fb9f3a"
            ],
            [
             0.8888888888888888,
             "#fdca26"
            ],
            [
             1,
             "#f0f921"
            ]
           ]
          },
          "colorway": [
           "#636efa",
           "#EF553B",
           "#00cc96",
           "#ab63fa",
           "#FFA15A",
           "#19d3f3",
           "#FF6692",
           "#B6E880",
           "#FF97FF",
           "#FECB52"
          ],
          "font": {
           "color": "#2a3f5f"
          },
          "geo": {
           "bgcolor": "white",
           "lakecolor": "white",
           "landcolor": "#E5ECF6",
           "showlakes": true,
           "showland": true,
           "subunitcolor": "white"
          },
          "hoverlabel": {
           "align": "left"
          },
          "hovermode": "closest",
          "mapbox": {
           "style": "light"
          },
          "paper_bgcolor": "white",
          "plot_bgcolor": "#E5ECF6",
          "polar": {
           "angularaxis": {
            "gridcolor": "white",
            "linecolor": "white",
            "ticks": ""
           },
           "bgcolor": "#E5ECF6",
           "radialaxis": {
            "gridcolor": "white",
            "linecolor": "white",
            "ticks": ""
           }
          },
          "scene": {
           "xaxis": {
            "backgroundcolor": "#E5ECF6",
            "gridcolor": "white",
            "gridwidth": 2,
            "linecolor": "white",
            "showbackground": true,
            "ticks": "",
            "zerolinecolor": "white"
           },
           "yaxis": {
            "backgroundcolor": "#E5ECF6",
            "gridcolor": "white",
            "gridwidth": 2,
            "linecolor": "white",
            "showbackground": true,
            "ticks": "",
            "zerolinecolor": "white"
           },
           "zaxis": {
            "backgroundcolor": "#E5ECF6",
            "gridcolor": "white",
            "gridwidth": 2,
            "linecolor": "white",
            "showbackground": true,
            "ticks": "",
            "zerolinecolor": "white"
           }
          },
          "shapedefaults": {
           "line": {
            "color": "#2a3f5f"
           }
          },
          "ternary": {
           "aaxis": {
            "gridcolor": "white",
            "linecolor": "white",
            "ticks": ""
           },
           "baxis": {
            "gridcolor": "white",
            "linecolor": "white",
            "ticks": ""
           },
           "bgcolor": "#E5ECF6",
           "caxis": {
            "gridcolor": "white",
            "linecolor": "white",
            "ticks": ""
           }
          },
          "title": {
           "x": 0.05
          },
          "xaxis": {
           "automargin": true,
           "gridcolor": "white",
           "linecolor": "white",
           "ticks": "",
           "title": {
            "standoff": 15
           },
           "zerolinecolor": "white",
           "zerolinewidth": 2
          },
          "yaxis": {
           "automargin": true,
           "gridcolor": "white",
           "linecolor": "white",
           "ticks": "",
           "title": {
            "standoff": 15
           },
           "zerolinecolor": "white",
           "zerolinewidth": 2
          }
         }
        },
        "xaxis": {
         "anchor": "y",
         "domain": [
          0,
          0.2888888888888889
         ]
        },
        "xaxis2": {
         "anchor": "y2",
         "domain": [
          0.35555555555555557,
          0.6444444444444445
         ]
        },
        "xaxis3": {
         "anchor": "y3",
         "domain": [
          0.7111111111111111,
          1
         ]
        },
        "yaxis": {
         "anchor": "x",
         "domain": [
          0,
          1
         ]
        },
        "yaxis2": {
         "anchor": "x2",
         "domain": [
          0,
          1
         ]
        },
        "yaxis3": {
         "anchor": "x3",
         "domain": [
          0,
          1
         ]
        }
       }
      }
     },
     "metadata": {},
     "output_type": "display_data"
    }
   ],
   "source": [
    "c.plot_system_sizing_data(\"sac_ddy\")"
   ]
  }
 ],
 "metadata": {
  "interpreter": {
   "hash": "83394fd6528936df3c1aec41a113e1e006dc45c8dc5352109b9d4b356eececd5"
  },
  "kernelspec": {
   "display_name": "Python 3.9.10 ('cee256venv': venv)",
   "language": "python",
   "name": "python3"
  },
  "language_info": {
   "codemirror_mode": {
    "name": "ipython",
    "version": 3
   },
   "file_extension": ".py",
   "mimetype": "text/x-python",
   "name": "python",
   "nbconvert_exporter": "python",
   "pygments_lexer": "ipython3",
   "version": "3.9.10"
  },
  "orig_nbformat": 4
 },
 "nbformat": 4,
 "nbformat_minor": 2
}
